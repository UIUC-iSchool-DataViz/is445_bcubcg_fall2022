{
 "cells": [
  {
   "cell_type": "code",
   "execution_count": 1,
   "metadata": {},
   "outputs": [],
   "source": [
    "import bqplot\n",
    "import ipywidgets\n",
    "import pandas as pd\n",
    "\n",
    "# probably don't need:\n",
    "#%matplotlib inline"
   ]
  },
  {
   "cell_type": "markdown",
   "metadata": {},
   "source": [
    "### Note: more examples available here - https://github.com/jupyter-widgets/ipyleaflet/tree/master/examples"
   ]
  },
  {
   "cell_type": "markdown",
   "metadata": {},
   "source": [
    "# Networked data - Simple example\n"
   ]
  },
  {
   "cell_type": "code",
   "execution_count": 2,
   "metadata": {},
   "outputs": [
    {
     "data": {
      "application/vnd.jupyter.widget-view+json": {
       "model_id": "9fcac8ac2edd46e4b8fd988af077395e",
       "version_major": 2,
       "version_minor": 0
      },
      "text/plain": [
       "Figure(fig_margin={'top': 60, 'bottom': 60, 'left': 60, 'right': 60}, marks=[Graph(colors=['red', 'red', 'red'…"
      ]
     },
     "metadata": {},
     "output_type": "display_data"
    }
   ],
   "source": [
    "# lets start with some very basic node data\n",
    "# **copy paste into chat **\n",
    "node_data = [\n",
    "    {\"label\": \"Luke Skywalker\", \"media\": \"Star Wars\", \"shape\": \"rect\"},\n",
    "    {\"label\": \"Jean-Luc Picard\", \"media\": \"Star Trek\", \"shape\": \"rect\"},\n",
    "    {\"label\": \"Doctor Who\", \"media\": \"Doctor Who\", \"shape\": \"rect\"},\n",
    "    {\"label\": \"Pikachu\", \"media\": \"Detective Pikachu\", \"shape\": \"circle\"},\n",
    "]\n",
    "\n",
    "# we'll use bqplot.Graph to plot these\n",
    "graph = bqplot.Graph(node_data=node_data,\n",
    "                    colors = [\"red\", \"red\", \"red\", \"red\"])\n",
    "\n",
    "fig = bqplot.Figure(marks = [graph])\n",
    "fig\n",
    "\n",
    "# you note I can pick them up and move them around, but they aren't connected in any way\n",
    "# lets make some connections"
   ]
  },
  {
   "cell_type": "code",
   "execution_count": 3,
   "metadata": {},
   "outputs": [
    {
     "data": {
      "application/vnd.jupyter.widget-view+json": {
       "model_id": "fcd5d1f158ef49dd82f2c218880a537e",
       "version_major": 2,
       "version_minor": 0
      },
      "text/plain": [
       "Figure(fig_margin={'top': 60, 'bottom': 60, 'left': 60, 'right': 60}, marks=[Graph(charge=-300, colors=['red',…"
      ]
     },
     "metadata": {},
     "output_type": "display_data"
    }
   ],
   "source": [
    "node_data = [\n",
    "    {\"label\": \"Luke Skywalker\", \"media\": \"Star Wars\", \"shape\": \"rect\"},\n",
    "    {\"label\": \"Jean-Luc Picard\", \"media\": \"Star Trek\", \"shape\": \"rect\"},\n",
    "    {\"label\": \"Doctor Who\", \"media\": \"Doctor Who\", \"shape\": \"rect\"},\n",
    "    {\"label\": \"Pikachu\", \"media\": \"Detective Pikachu\", \"shape\": \"circle\"},\n",
    "]\n",
    "\n",
    "# lets link the 0th entry (luke skywalker) to both\n",
    "#  jean-luc picard (1th entry) and pikachu (3rd entry)\n",
    "link_data = [{'source': 0, 'target': 1}, {'source': 0, 'target':  3}]\n",
    "\n",
    "graph = bqplot.Graph(node_data=node_data, link_data=link_data, \n",
    "                    colors = [\"red\", \"red\", \"red\", \"red\"])\n",
    "\n",
    "#(2) we can also play with the springiness of our links:\n",
    "graph.charge = -300 # setting it to positive makes them want to overlap and is, ingeneral, a lot of fun\n",
    "# -300 is default\n",
    "\n",
    "# (3) we can also change the link type:\n",
    "graph.link_type = 'line' # arc = default, line, slant_line\n",
    "\n",
    "# (4) highlight link direction, or not\n",
    "graph.directed = False\n",
    "\n",
    "fig = bqplot.Figure(marks = [graph])\n",
    "fig"
   ]
  },
  {
   "cell_type": "code",
   "execution_count": 4,
   "metadata": {},
   "outputs": [
    {
     "data": {
      "application/vnd.jupyter.widget-view+json": {
       "model_id": "11ee1a8d67ff49e6ac2716d18db82b63",
       "version_major": 2,
       "version_minor": 0
      },
      "text/plain": [
       "VBox(children=(Label(value=''), Figure(fig_margin={'top': 60, 'bottom': 60, 'left': 60, 'right': 60}, marks=[G…"
      ]
     },
     "metadata": {},
     "output_type": "display_data"
    }
   ],
   "source": [
    "# we can do all the same things we've done with\n",
    "# our previous map plots:\n",
    "# for example, we can add a tooltip:\n",
    "#(1)\n",
    "tooltip = bqplot.Tooltip(fields=[\"media\"])\n",
    "graph = bqplot.Graph(node_data=node_data, link_data=link_data, \n",
    "                    colors = [\"red\", \"red\", \"red\", \"red\"],\n",
    "                    tooltip=tooltip)\n",
    "\n",
    "# we can also do interactive things with labels\n",
    "label = ipywidgets.Label()\n",
    "\n",
    "# note here that the calling sequence \n",
    "# is a little different - instead \n",
    "# of \"change\" we have \"obj\" and \n",
    "# \"element\"\n",
    "def printstuff(obj, element):\n",
    "    # (1.1)\n",
    "    #print(obj)\n",
    "    #print(element)\n",
    "    label.value = 'Media = ' + element['data']['media']\n",
    "    \n",
    "graph.on_element_click(printstuff)\n",
    "\n",
    "\n",
    "fig = bqplot.Figure(marks = [graph])\n",
    "ipywidgets.VBox([label,fig])"
   ]
  },
  {
   "cell_type": "markdown",
   "metadata": {},
   "source": [
    "# Activity #2: Network data - subset of facebook friends dataset\n",
    "* from: https://snap.stanford.edu/data/egonets-Facebook.html\n",
    "* dataset of friends lists\n",
    "\n",
    "#### Info about this dataset:\n",
    "* the original file you can read in has about 80,000 different connections\n",
    "* it is ordered by the most connected person (person 0) at the top\n",
    "* because this network would be computationally slow and just a hairball - we're going to be working with downsampled data\n",
    "* for example, a file tagged \"000090_000010\" starts with the 10th most connected person, and only included connections up to the 90th most connected person\n",
    "* Its worth noting that this dataset (linked here and on the webpage) also includes feature data like gender, last name, school, etc - however it is too sparse to be of visualization use to us\n",
    "\n",
    "Check out the other social network links at the SNAP data webpage!"
   ]
  },
  {
   "cell_type": "code",
   "execution_count": 6,
   "metadata": {},
   "outputs": [
    {
     "data": {
      "text/html": [
       "<div>\n",
       "<style scoped>\n",
       "    .dataframe tbody tr th:only-of-type {\n",
       "        vertical-align: middle;\n",
       "    }\n",
       "\n",
       "    .dataframe tbody tr th {\n",
       "        vertical-align: top;\n",
       "    }\n",
       "\n",
       "    .dataframe thead th {\n",
       "        text-align: right;\n",
       "    }\n",
       "</style>\n",
       "<table border=\"1\" class=\"dataframe\">\n",
       "  <thead>\n",
       "    <tr style=\"text-align: right;\">\n",
       "      <th></th>\n",
       "      <th>ind1</th>\n",
       "      <th>ind2</th>\n",
       "    </tr>\n",
       "  </thead>\n",
       "  <tbody>\n",
       "    <tr>\n",
       "      <th>0</th>\n",
       "      <td>10</td>\n",
       "      <td>67</td>\n",
       "    </tr>\n",
       "    <tr>\n",
       "      <th>2</th>\n",
       "      <td>13</td>\n",
       "      <td>21</td>\n",
       "    </tr>\n",
       "    <tr>\n",
       "      <th>3</th>\n",
       "      <td>13</td>\n",
       "      <td>26</td>\n",
       "    </tr>\n",
       "    <tr>\n",
       "      <th>4</th>\n",
       "      <td>13</td>\n",
       "      <td>56</td>\n",
       "    </tr>\n",
       "    <tr>\n",
       "      <th>5</th>\n",
       "      <td>13</td>\n",
       "      <td>59</td>\n",
       "    </tr>\n",
       "    <tr>\n",
       "      <th>...</th>\n",
       "      <td>...</td>\n",
       "      <td>...</td>\n",
       "    </tr>\n",
       "    <tr>\n",
       "      <th>113</th>\n",
       "      <td>73</td>\n",
       "      <td>88</td>\n",
       "    </tr>\n",
       "    <tr>\n",
       "      <th>114</th>\n",
       "      <td>75</td>\n",
       "      <td>85</td>\n",
       "    </tr>\n",
       "    <tr>\n",
       "      <th>115</th>\n",
       "      <td>80</td>\n",
       "      <td>88</td>\n",
       "    </tr>\n",
       "    <tr>\n",
       "      <th>116</th>\n",
       "      <td>82</td>\n",
       "      <td>84</td>\n",
       "    </tr>\n",
       "    <tr>\n",
       "      <th>117</th>\n",
       "      <td>83</td>\n",
       "      <td>84</td>\n",
       "    </tr>\n",
       "  </tbody>\n",
       "</table>\n",
       "<p>117 rows × 2 columns</p>\n",
       "</div>"
      ],
      "text/plain": [
       "     ind1  ind2\n",
       "0      10    67\n",
       "2      13    21\n",
       "3      13    26\n",
       "4      13    56\n",
       "5      13    59\n",
       "..    ...   ...\n",
       "113    73    88\n",
       "114    75    85\n",
       "115    80    88\n",
       "116    82    84\n",
       "117    83    84\n",
       "\n",
       "[117 rows x 2 columns]"
      ]
     },
     "execution_count": 6,
     "metadata": {},
     "output_type": "execute_result"
    }
   ],
   "source": [
    "# from 10 to 150 connections, a few large nodes\n",
    "#filename = 'facebook_combined_sm000150_000010.txt'\n",
    "\n",
    "# this might be too large: one large node, up to 100 connections\n",
    "#filename='facebook_combined_sm000100.txt'\n",
    "\n",
    "# start here\n",
    "filename = 'facebook_combined_sm000090_000010.txt'\n",
    "\n",
    "# then this one\n",
    "#filename = 'facebook_combined_sm000030_000000.txt'\n",
    "# note how different the topologies are\n",
    "\n",
    "network = pd.read_csv('/Users/jnaiman/Downloads/'+filename,\n",
    "                sep=' ', names=['ind1', 'ind2'])\n",
    "\n",
    "# extra cleaning\n",
    "network = network.drop_duplicates()\n",
    "\n",
    "network"
   ]
  },
  {
   "cell_type": "code",
   "execution_count": 7,
   "metadata": {},
   "outputs": [],
   "source": [
    "# build the network\n",
    "node_data = []\n",
    "link_data = []\n",
    "color_data = [] # all same color\n",
    "\n",
    "# add nodes:\n",
    "import numpy as np\n",
    "\n",
    "# how many unique nodes do we have?\n",
    "u_nodes = np.unique( np.append(network['ind1'], network['ind2']) )\n",
    "\n",
    "for un in u_nodes:\n",
    "    node_data.append({'label':str(un), \"shape\":\"circle\"})\n",
    "    \n",
    "for iu,un in enumerate(u_nodes):\n",
    "    target_ids = network.loc[network['ind1'] == un]\n",
    "    tnodes = np.unique(target_ids['ind2'].values)\n",
    "    for t in tnodes: # find index associated with this un\n",
    "        tind = np.where(t == u_nodes)[0][0]\n",
    "        link_data.append({'source':iu, 'target':tind})\n",
    "    color_data.append('blue')\n",
    "                      \n",
    "#link_data,node_data\n",
    "#color_data"
   ]
  },
  {
   "cell_type": "code",
   "execution_count": 8,
   "metadata": {},
   "outputs": [
    {
     "data": {
      "application/vnd.jupyter.widget-view+json": {
       "model_id": "1180caa915554abc92a181b10bfef6ac",
       "version_major": 2,
       "version_minor": 0
      },
      "text/plain": [
       "Figure(fig_margin={'top': 60, 'bottom': 60, 'left': 60, 'right': 60}, layout=Layout(min_height='900px', min_wi…"
      ]
     },
     "metadata": {},
     "output_type": "display_data"
    }
   ],
   "source": [
    "# plot\n",
    "\n",
    "graph = bqplot.Graph(node_data=node_data, \n",
    "                     link_data = link_data,\n",
    "                    colors=color_data)\n",
    "\n",
    "# play with these for different graphs\n",
    "graph.charge = -100 \n",
    "graph.link_type = 'line'\n",
    "graph.link_distance=50\n",
    "# there is no direction to links\n",
    "graph.directed = False\n",
    "\n",
    "fig = bqplot.Figure(marks = [graph])\n",
    "fig.layout.min_width='1000px'\n",
    "fig.layout.min_height='900px'\n",
    "# note: I think this has to be the layout for this to look right\n",
    "fig\n",
    "\n",
    "# in theory, we could color this network by what school folks are in, or some such\n",
    "#  but while the dataset does contain some of these features, the \n",
    "#  answer rate is too sparse for our subset here"
   ]
  },
  {
   "cell_type": "markdown",
   "metadata": {},
   "source": [
    "# Note: the below is just prep if you want to make your own subset datasets"
   ]
  },
  {
   "cell_type": "code",
   "execution_count": null,
   "metadata": {},
   "outputs": [],
   "source": [
    "# prep fb data by downsampling\n",
    "minCon = 0\n",
    "maxCon = 30\n",
    "G = pd.read_csv('/Users/jnaiman/Downloads/facebook_combined.txt',sep=' ', names=['ind1', 'ind2'])\n",
    "Gnew = np.zeros([2],dtype='int')\n",
    "# loop and append\n",
    "Gnew = G.loc[G['ind1']==minCon].values[0]\n",
    "for i in xrange(G.loc[G['ind1']==minCon].index[0],len(G)):\n",
    "    gl = G.loc[i].values\n",
    "    if (gl[0] <= maxCon) and (gl[1] <= maxCon) and (gl[0] >= minCon) and (gl[1] >= minCon):\n",
    "        Gnew = np.vstack((Gnew,gl))\n",
    "\n",
    "np.savetxt('/Users/jnaiman/spring2019online/week09/data/facebook_combined_sm' + \\\n",
    "           str(maxCon).zfill(6) + '_' + str(minCon).zfill(6) + '.txt', Gnew,fmt='%i')"
   ]
  },
  {
   "cell_type": "code",
   "execution_count": null,
   "metadata": {},
   "outputs": [],
   "source": [
    "graph.link_distance"
   ]
  },
  {
   "cell_type": "code",
   "execution_count": null,
   "metadata": {},
   "outputs": [],
   "source": []
  }
 ],
 "metadata": {
  "kernelspec": {
   "display_name": "Python 3 (ipykernel)",
   "language": "python",
   "name": "python3"
  },
  "language_info": {
   "codemirror_mode": {
    "name": "ipython",
    "version": 3
   },
   "file_extension": ".py",
   "mimetype": "text/x-python",
   "name": "python",
   "nbconvert_exporter": "python",
   "pygments_lexer": "ipython3",
   "version": "3.7.12"
  }
 },
 "nbformat": 4,
 "nbformat_minor": 2
}
