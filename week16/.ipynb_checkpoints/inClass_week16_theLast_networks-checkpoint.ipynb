{
 "cells": [
  {
   "cell_type": "markdown",
   "metadata": {},
   "source": [
    "A (bit!) of networks!"
   ]
  },
  {
   "cell_type": "code",
   "execution_count": 4,
   "metadata": {},
   "outputs": [],
   "source": [
    "import bqplot\n",
    "import ipywidgets\n",
    "import pandas as pd"
   ]
  },
  {
   "cell_type": "code",
   "execution_count": 5,
   "metadata": {},
   "outputs": [],
   "source": [
    "# random node data\n",
    "node_data = [\n",
    "    {\"label\": \"Luke Skywalker\", \"media\": \"Star Wars\", \"shape\": \"rect\"},\n",
    "    {\"label\": \"Jean-Luc Picard\", \"media\": \"Star Trek\", \"shape\": \"rect\"},\n",
    "    {\"label\": \"Doctor Who\", \"media\": \"Doctor Who\", \"shape\": \"rect\"},\n",
    "    {\"label\": \"Pikachu\", \"media\": \"Detective Pikachu\", \"shape\": \"circle\"},\n",
    "]"
   ]
  },
  {
   "cell_type": "code",
   "execution_count": 6,
   "metadata": {},
   "outputs": [
    {
     "data": {
      "application/vnd.jupyter.widget-view+json": {
       "model_id": "9d6d287274bd4640b8b16f63e547548b",
       "version_major": 2,
       "version_minor": 0
      },
      "text/plain": [
       "Figure(fig_margin={'top': 60, 'bottom': 60, 'left': 60, 'right': 60}, marks=[Graph(colors=['red', 'red', 'red'…"
      ]
     },
     "metadata": {},
     "output_type": "display_data"
    }
   ],
   "source": [
    "graph = bqplot.Graph(node_data=node_data, \n",
    "                    colors=[\"red\", \"red\", \"red\", \"red\"])\n",
    "\n",
    "fig = bqplot.Figure(marks=[graph])\n",
    "fig"
   ]
  },
  {
   "cell_type": "markdown",
   "metadata": {},
   "source": [
    "Add in edge information into my node-link plot:"
   ]
  },
  {
   "cell_type": "code",
   "execution_count": 7,
   "metadata": {},
   "outputs": [],
   "source": [
    "node_data = [\n",
    "    {\"label\": \"Luke Skywalker\", \"media\": \"Star Wars\", \"shape\": \"rect\"},\n",
    "    {\"label\": \"Jean-Luc Picard\", \"media\": \"Star Trek\", \"shape\": \"rect\"},\n",
    "    {\"label\": \"Doctor Who\", \"media\": \"Doctor Who\", \"shape\": \"rect\"},\n",
    "    {\"label\": \"Pikachu\", \"media\": \"Detective Pikachu\", \"shape\": \"circle\"},\n",
    "]\n",
    "\n",
    "# link the 0th entry (luke skywalker) directionally to both\n",
    "#. jean-luc picard (1st entry) AND pikachu (3rd entry)\n",
    "link_data = [{'source':0, 'target': 1}, {'source':0, 'target':3}]"
   ]
  },
  {
   "cell_type": "code",
   "execution_count": 8,
   "metadata": {},
   "outputs": [
    {
     "data": {
      "application/vnd.jupyter.widget-view+json": {
       "model_id": "f0fa85d3928945a2848856086075d6a4",
       "version_major": 2,
       "version_minor": 0
      },
      "text/plain": [
       "Figure(fig_margin={'top': 60, 'bottom': 60, 'left': 60, 'right': 60}, marks=[Graph(charge=-300, colors=['red',…"
      ]
     },
     "metadata": {},
     "output_type": "display_data"
    }
   ],
   "source": [
    "graph = bqplot.Graph(node_data=node_data, link_data =link_data, \n",
    "                    colors=[\"red\",\"red\", \"red\", \"red\"])\n",
    "\n",
    "graph.link_type='line' # showing link direction with a straight line\n",
    "graph.directed = False # turns of any directionality\n",
    "\n",
    "# by default (and by necessity) the force between nodes is repulsive\n",
    "graph.charge = -300\n",
    "\n",
    "fig = bqplot.Figure(marks=[graph])\n",
    "fig"
   ]
  },
  {
   "cell_type": "markdown",
   "metadata": {},
   "source": [
    "Add in a tooltip to this graph."
   ]
  },
  {
   "cell_type": "code",
   "execution_count": 9,
   "metadata": {},
   "outputs": [
    {
     "data": {
      "application/vnd.jupyter.widget-view+json": {
       "model_id": "043e288cda78404aa9d7c03582d44ba1",
       "version_major": 2,
       "version_minor": 0
      },
      "text/plain": [
       "Figure(fig_margin={'top': 60, 'bottom': 60, 'left': 60, 'right': 60}, marks=[Graph(colors=['red', 'red', 'red'…"
      ]
     },
     "metadata": {},
     "output_type": "display_data"
    }
   ],
   "source": [
    "tooltip = bqplot.Tooltip(fields=['media'])\n",
    "graph = bqplot.Graph(node_data = node_data, link_data = link_data, \n",
    "                    colors=['red', 'red', 'red', 'red'],\n",
    "                    tooltip=tooltip)\n",
    "\n",
    "fig = bqplot.Figure(marks=[graph])\n",
    "fig"
   ]
  },
  {
   "cell_type": "code",
   "execution_count": 10,
   "metadata": {},
   "outputs": [
    {
     "data": {
      "application/vnd.jupyter.widget-view+json": {
       "model_id": "bcb611869af744f0a860a40c2681f96f",
       "version_major": 2,
       "version_minor": 0
      },
      "text/plain": [
       "VBox(children=(Label(value=''), Figure(fig_margin={'top': 60, 'bottom': 60, 'left': 60, 'right': 60}, marks=[G…"
      ]
     },
     "metadata": {},
     "output_type": "display_data"
    }
   ],
   "source": [
    "tooltip = bqplot.Tooltip(fields=['media'])\n",
    "graph = bqplot.Graph(node_data = node_data, link_data = link_data, \n",
    "                    colors=['red', 'red', 'red', 'red'],\n",
    "                    tooltip=tooltip)\n",
    "\n",
    "# add in a widget printing out the media\n",
    "label = ipywidgets.Label()\n",
    "\n",
    "def print_stuff_observation(obj, element):\n",
    "    label.value = 'Media = ' + element['data']['media']\n",
    "    \n",
    "graph.on_element_click(print_stuff_observation)\n",
    "\n",
    "fig = bqplot.Figure(marks=[graph])\n",
    "ipywidgets.VBox([label,fig])"
   ]
  },
  {
   "cell_type": "markdown",
   "metadata": {},
   "source": [
    "Networked data from facebook -- we wil use some subsetting data (sub-networks):"
   ]
  },
  {
   "cell_type": "code",
   "execution_count": 77,
   "metadata": {},
   "outputs": [],
   "source": [
    "filename = 'facebook_combined_sm000090_000010.txt' # more dispersed network\n",
    "\n",
    "#filename = 'facebook_combined_sm000030_000000.txt' # one central person"
   ]
  },
  {
   "cell_type": "code",
   "execution_count": 78,
   "metadata": {},
   "outputs": [],
   "source": [
    "network = pd.read_csv('/Users/jillnaiman/Downloads/'+filename, \n",
    "                     sep=' ', names=['ind1','ind2'])\n",
    "\n",
    "# extra cleaning\n",
    "network = network.drop_duplicates()"
   ]
  },
  {
   "cell_type": "code",
   "execution_count": 79,
   "metadata": {},
   "outputs": [
    {
     "data": {
      "text/html": [
       "<div>\n",
       "<style scoped>\n",
       "    .dataframe tbody tr th:only-of-type {\n",
       "        vertical-align: middle;\n",
       "    }\n",
       "\n",
       "    .dataframe tbody tr th {\n",
       "        vertical-align: top;\n",
       "    }\n",
       "\n",
       "    .dataframe thead th {\n",
       "        text-align: right;\n",
       "    }\n",
       "</style>\n",
       "<table border=\"1\" class=\"dataframe\">\n",
       "  <thead>\n",
       "    <tr style=\"text-align: right;\">\n",
       "      <th></th>\n",
       "      <th>ind1</th>\n",
       "      <th>ind2</th>\n",
       "    </tr>\n",
       "  </thead>\n",
       "  <tbody>\n",
       "    <tr>\n",
       "      <th>0</th>\n",
       "      <td>10</td>\n",
       "      <td>67</td>\n",
       "    </tr>\n",
       "    <tr>\n",
       "      <th>2</th>\n",
       "      <td>13</td>\n",
       "      <td>21</td>\n",
       "    </tr>\n",
       "    <tr>\n",
       "      <th>3</th>\n",
       "      <td>13</td>\n",
       "      <td>26</td>\n",
       "    </tr>\n",
       "    <tr>\n",
       "      <th>4</th>\n",
       "      <td>13</td>\n",
       "      <td>56</td>\n",
       "    </tr>\n",
       "    <tr>\n",
       "      <th>5</th>\n",
       "      <td>13</td>\n",
       "      <td>59</td>\n",
       "    </tr>\n",
       "    <tr>\n",
       "      <th>...</th>\n",
       "      <td>...</td>\n",
       "      <td>...</td>\n",
       "    </tr>\n",
       "    <tr>\n",
       "      <th>113</th>\n",
       "      <td>73</td>\n",
       "      <td>88</td>\n",
       "    </tr>\n",
       "    <tr>\n",
       "      <th>114</th>\n",
       "      <td>75</td>\n",
       "      <td>85</td>\n",
       "    </tr>\n",
       "    <tr>\n",
       "      <th>115</th>\n",
       "      <td>80</td>\n",
       "      <td>88</td>\n",
       "    </tr>\n",
       "    <tr>\n",
       "      <th>116</th>\n",
       "      <td>82</td>\n",
       "      <td>84</td>\n",
       "    </tr>\n",
       "    <tr>\n",
       "      <th>117</th>\n",
       "      <td>83</td>\n",
       "      <td>84</td>\n",
       "    </tr>\n",
       "  </tbody>\n",
       "</table>\n",
       "<p>117 rows × 2 columns</p>\n",
       "</div>"
      ],
      "text/plain": [
       "     ind1  ind2\n",
       "0      10    67\n",
       "2      13    21\n",
       "3      13    26\n",
       "4      13    56\n",
       "5      13    59\n",
       "..    ...   ...\n",
       "113    73    88\n",
       "114    75    85\n",
       "115    80    88\n",
       "116    82    84\n",
       "117    83    84\n",
       "\n",
       "[117 rows x 2 columns]"
      ]
     },
     "execution_count": 79,
     "metadata": {},
     "output_type": "execute_result"
    }
   ],
   "source": [
    "network"
   ]
  },
  {
   "cell_type": "code",
   "execution_count": 80,
   "metadata": {},
   "outputs": [],
   "source": [
    "# build the necessary data for Graph in bqplot:\n",
    "node_data = [] # label & the shape of each node\n",
    "link_data = [] # tell us the links between nodes\n",
    "color_data = [] # color of each node"
   ]
  },
  {
   "cell_type": "code",
   "execution_count": 81,
   "metadata": {},
   "outputs": [],
   "source": [
    "# add nodes:\n",
    "import numpy as np\n",
    "\n",
    "# how many unique nodes do we have?\n",
    "u_nodes = np.unique( np.append(network['ind1'], network['ind2']) )\n",
    "\n",
    "node_data = [] # label & the shape of each node\n",
    "for un in u_nodes:\n",
    "    node_data.append({'label':str(un), \"shape\":\"circle\"})\n"
   ]
  },
  {
   "cell_type": "code",
   "execution_count": 82,
   "metadata": {},
   "outputs": [
    {
     "data": {
      "text/plain": [
       "array([10, 13, 14, 16, 17, 19, 20, 21, 22, 23, 24, 25, 26, 27, 28, 29, 30,\n",
       "       31, 33, 39, 40, 41, 42, 44, 45, 48, 51, 53, 54, 55, 56, 57, 59, 60,\n",
       "       61, 62, 63, 65, 66, 67, 69, 72, 73, 75, 76, 77, 79, 80, 82, 83, 84,\n",
       "       85, 87, 88, 89])"
      ]
     },
     "execution_count": 82,
     "metadata": {},
     "output_type": "execute_result"
    }
   ],
   "source": [
    "u_nodes"
   ]
  },
  {
   "cell_type": "code",
   "execution_count": 83,
   "metadata": {},
   "outputs": [
    {
     "data": {
      "text/plain": [
       "[{'label': '10', 'shape': 'circle'},\n",
       " {'label': '13', 'shape': 'circle'},\n",
       " {'label': '14', 'shape': 'circle'},\n",
       " {'label': '16', 'shape': 'circle'},\n",
       " {'label': '17', 'shape': 'circle'},\n",
       " {'label': '19', 'shape': 'circle'},\n",
       " {'label': '20', 'shape': 'circle'},\n",
       " {'label': '21', 'shape': 'circle'},\n",
       " {'label': '22', 'shape': 'circle'},\n",
       " {'label': '23', 'shape': 'circle'},\n",
       " {'label': '24', 'shape': 'circle'},\n",
       " {'label': '25', 'shape': 'circle'},\n",
       " {'label': '26', 'shape': 'circle'},\n",
       " {'label': '27', 'shape': 'circle'},\n",
       " {'label': '28', 'shape': 'circle'},\n",
       " {'label': '29', 'shape': 'circle'},\n",
       " {'label': '30', 'shape': 'circle'},\n",
       " {'label': '31', 'shape': 'circle'},\n",
       " {'label': '33', 'shape': 'circle'},\n",
       " {'label': '39', 'shape': 'circle'},\n",
       " {'label': '40', 'shape': 'circle'},\n",
       " {'label': '41', 'shape': 'circle'},\n",
       " {'label': '42', 'shape': 'circle'},\n",
       " {'label': '44', 'shape': 'circle'},\n",
       " {'label': '45', 'shape': 'circle'},\n",
       " {'label': '48', 'shape': 'circle'},\n",
       " {'label': '51', 'shape': 'circle'},\n",
       " {'label': '53', 'shape': 'circle'},\n",
       " {'label': '54', 'shape': 'circle'},\n",
       " {'label': '55', 'shape': 'circle'},\n",
       " {'label': '56', 'shape': 'circle'},\n",
       " {'label': '57', 'shape': 'circle'},\n",
       " {'label': '59', 'shape': 'circle'},\n",
       " {'label': '60', 'shape': 'circle'},\n",
       " {'label': '61', 'shape': 'circle'},\n",
       " {'label': '62', 'shape': 'circle'},\n",
       " {'label': '63', 'shape': 'circle'},\n",
       " {'label': '65', 'shape': 'circle'},\n",
       " {'label': '66', 'shape': 'circle'},\n",
       " {'label': '67', 'shape': 'circle'},\n",
       " {'label': '69', 'shape': 'circle'},\n",
       " {'label': '72', 'shape': 'circle'},\n",
       " {'label': '73', 'shape': 'circle'},\n",
       " {'label': '75', 'shape': 'circle'},\n",
       " {'label': '76', 'shape': 'circle'},\n",
       " {'label': '77', 'shape': 'circle'},\n",
       " {'label': '79', 'shape': 'circle'},\n",
       " {'label': '80', 'shape': 'circle'},\n",
       " {'label': '82', 'shape': 'circle'},\n",
       " {'label': '83', 'shape': 'circle'},\n",
       " {'label': '84', 'shape': 'circle'},\n",
       " {'label': '85', 'shape': 'circle'},\n",
       " {'label': '87', 'shape': 'circle'},\n",
       " {'label': '88', 'shape': 'circle'},\n",
       " {'label': '89', 'shape': 'circle'}]"
      ]
     },
     "execution_count": 83,
     "metadata": {},
     "output_type": "execute_result"
    }
   ],
   "source": [
    "node_data"
   ]
  },
  {
   "cell_type": "code",
   "execution_count": 84,
   "metadata": {},
   "outputs": [],
   "source": [
    "# now specify links -- going from a node to all of its connections\n",
    "link_data = [] # tell us the links between nodes\n",
    "color_data = [] # color of each node\n",
    "for iu,un in enumerate(u_nodes):\n",
    "    target_ids = network.loc[network['ind1'] == un]\n",
    "    tnodes = np.unique(target_ids['ind2'].values)\n",
    "    for t in tnodes: # find index associated with this un\n",
    "        tind = np.where(t == u_nodes)[0][0]\n",
    "        link_data.append({'source':iu, 'target':tind})\n",
    "    color_data.append('blue')"
   ]
  },
  {
   "cell_type": "code",
   "execution_count": 85,
   "metadata": {},
   "outputs": [
    {
     "data": {
      "text/plain": [
       "[{'source': 0, 'target': 39},\n",
       " {'source': 1, 'target': 7},\n",
       " {'source': 1, 'target': 12},\n",
       " {'source': 1, 'target': 30},\n",
       " {'source': 1, 'target': 32},\n",
       " {'source': 1, 'target': 37},\n",
       " {'source': 1, 'target': 39},\n",
       " {'source': 1, 'target': 48},\n",
       " {'source': 2, 'target': 6},\n",
       " {'source': 2, 'target': 14},\n",
       " {'source': 2, 'target': 21},\n",
       " {'source': 3, 'target': 15},\n",
       " {'source': 3, 'target': 48},\n",
       " {'source': 4, 'target': 5},\n",
       " {'source': 4, 'target': 21},\n",
       " {'source': 5, 'target': 21},\n",
       " {'source': 5, 'target': 54},\n",
       " {'source': 6, 'target': 21},\n",
       " {'source': 6, 'target': 23},\n",
       " {'source': 7, 'target': 11},\n",
       " {'source': 7, 'target': 12},\n",
       " {'source': 7, 'target': 17},\n",
       " {'source': 7, 'target': 19},\n",
       " {'source': 7, 'target': 20},\n",
       " {'source': 7, 'target': 29},\n",
       " {'source': 7, 'target': 30},\n",
       " {'source': 7, 'target': 38},\n",
       " {'source': 7, 'target': 39},\n",
       " {'source': 7, 'target': 53},\n",
       " {'source': 8, 'target': 52},\n",
       " {'source': 9, 'target': 26},\n",
       " {'source': 9, 'target': 34},\n",
       " {'source': 9, 'target': 49},\n",
       " {'source': 10, 'target': 27},\n",
       " {'source': 10, 'target': 31},\n",
       " {'source': 10, 'target': 47},\n",
       " {'source': 11, 'target': 12},\n",
       " {'source': 11, 'target': 17},\n",
       " {'source': 11, 'target': 19},\n",
       " {'source': 11, 'target': 20},\n",
       " {'source': 11, 'target': 26},\n",
       " {'source': 11, 'target': 30},\n",
       " {'source': 11, 'target': 37},\n",
       " {'source': 11, 'target': 39},\n",
       " {'source': 11, 'target': 40},\n",
       " {'source': 11, 'target': 41},\n",
       " {'source': 11, 'target': 42},\n",
       " {'source': 11, 'target': 44},\n",
       " {'source': 11, 'target': 46},\n",
       " {'source': 11, 'target': 49},\n",
       " {'source': 11, 'target': 50},\n",
       " {'source': 11, 'target': 53},\n",
       " {'source': 12, 'target': 20},\n",
       " {'source': 12, 'target': 29},\n",
       " {'source': 12, 'target': 30},\n",
       " {'source': 12, 'target': 35},\n",
       " {'source': 12, 'target': 38},\n",
       " {'source': 12, 'target': 39},\n",
       " {'source': 12, 'target': 40},\n",
       " {'source': 12, 'target': 41},\n",
       " {'source': 12, 'target': 46},\n",
       " {'source': 13, 'target': 28},\n",
       " {'source': 14, 'target': 21},\n",
       " {'source': 15, 'target': 20},\n",
       " {'source': 15, 'target': 48},\n",
       " {'source': 16, 'target': 25},\n",
       " {'source': 16, 'target': 30},\n",
       " {'source': 16, 'target': 42},\n",
       " {'source': 17, 'target': 26},\n",
       " {'source': 17, 'target': 39},\n",
       " {'source': 17, 'target': 49},\n",
       " {'source': 17, 'target': 50},\n",
       " {'source': 18, 'target': 22},\n",
       " {'source': 19, 'target': 40},\n",
       " {'source': 20, 'target': 30},\n",
       " {'source': 20, 'target': 39},\n",
       " {'source': 20, 'target': 41},\n",
       " {'source': 20, 'target': 45},\n",
       " {'source': 21, 'target': 23},\n",
       " {'source': 24, 'target': 39},\n",
       " {'source': 25, 'target': 27},\n",
       " {'source': 25, 'target': 28},\n",
       " {'source': 25, 'target': 31},\n",
       " {'source': 25, 'target': 42},\n",
       " {'source': 25, 'target': 47},\n",
       " {'source': 25, 'target': 53},\n",
       " {'source': 26, 'target': 49},\n",
       " {'source': 26, 'target': 50},\n",
       " {'source': 27, 'target': 28},\n",
       " {'source': 27, 'target': 53},\n",
       " {'source': 29, 'target': 30},\n",
       " {'source': 29, 'target': 39},\n",
       " {'source': 30, 'target': 32},\n",
       " {'source': 30, 'target': 33},\n",
       " {'source': 30, 'target': 35},\n",
       " {'source': 30, 'target': 36},\n",
       " {'source': 30, 'target': 38},\n",
       " {'source': 30, 'target': 39},\n",
       " {'source': 30, 'target': 41},\n",
       " {'source': 30, 'target': 43},\n",
       " {'source': 30, 'target': 48},\n",
       " {'source': 30, 'target': 53},\n",
       " {'source': 31, 'target': 47},\n",
       " {'source': 32, 'target': 48},\n",
       " {'source': 35, 'target': 39},\n",
       " {'source': 37, 'target': 48},\n",
       " {'source': 38, 'target': 39},\n",
       " {'source': 39, 'target': 40},\n",
       " {'source': 39, 'target': 41},\n",
       " {'source': 39, 'target': 43},\n",
       " {'source': 39, 'target': 46},\n",
       " {'source': 39, 'target': 48},\n",
       " {'source': 42, 'target': 53},\n",
       " {'source': 43, 'target': 51},\n",
       " {'source': 47, 'target': 53},\n",
       " {'source': 48, 'target': 50},\n",
       " {'source': 49, 'target': 50}]"
      ]
     },
     "execution_count": 85,
     "metadata": {},
     "output_type": "execute_result"
    }
   ],
   "source": [
    "link_data"
   ]
  },
  {
   "cell_type": "code",
   "execution_count": 86,
   "metadata": {},
   "outputs": [
    {
     "data": {
      "application/vnd.jupyter.widget-view+json": {
       "model_id": "b201083d75d74bfba86f2c08e6a9dee8",
       "version_major": 2,
       "version_minor": 0
      },
      "text/plain": [
       "Figure(fig_margin={'top': 60, 'bottom': 60, 'left': 60, 'right': 60}, layout=Layout(min_height='900px', min_wi…"
      ]
     },
     "metadata": {},
     "output_type": "display_data"
    }
   ],
   "source": [
    "# plot\n",
    "\n",
    "graph = bqplot.Graph(node_data=node_data, \n",
    "                     link_data = link_data,\n",
    "                    colors=color_data)\n",
    "\n",
    "# play with these for different graphs\n",
    "graph.charge = -100 \n",
    "graph.link_type = 'line'\n",
    "graph.link_distance=50\n",
    "# there is no direction to links\n",
    "graph.directed = False\n",
    "\n",
    "fig = bqplot.Figure(marks = [graph])\n",
    "fig.layout.min_width='1000px'\n",
    "fig.layout.min_height='900px'\n",
    "# note: I think this has to be the layout for this to look right\n",
    "fig\n",
    "\n",
    "# in theory, we could color this network by what school folks are in, or some such\n",
    "#  but while the dataset does contain some of these features, the \n",
    "#  answer rate is too sparse for our subset here"
   ]
  },
  {
   "cell_type": "markdown",
   "metadata": {},
   "source": [
    "Below is stuff that Jill messed up in class! You can see what went wrong for fun if you'd like, but the right stuff is posted above :)\n",
    "\n",
    "(FYI: what went wrong was that I had to refresh my browser for REASONS.  I suspect something with bqplot's packages just got updated during class)"
   ]
  },
  {
   "cell_type": "code",
   "execution_count": 22,
   "metadata": {},
   "outputs": [],
   "source": [
    "maxNet = max([network['ind1'].max(), network['ind2'].max()])"
   ]
  },
  {
   "cell_type": "code",
   "execution_count": 23,
   "metadata": {},
   "outputs": [
    {
     "data": {
      "text/plain": [
       "89"
      ]
     },
     "execution_count": 23,
     "metadata": {},
     "output_type": "execute_result"
    }
   ],
   "source": [
    "maxNet"
   ]
  },
  {
   "cell_type": "code",
   "execution_count": 64,
   "metadata": {},
   "outputs": [],
   "source": [
    "node_data = [] # label & the shape of each node\n",
    "\n",
    "import numpy as np\n",
    "\n",
    "# unique nodes:\n",
    "u_nodes = np.unique(np.append(network['ind1'].values, network['ind2'].values))\n",
    "#for i in range(len(u_nodes)): # individual nodes in the network\n",
    "for i in range(maxNet+1): # individual nodes in the network\n",
    "    node_data.append({\"label\":str(i), \"shape\":\"circle\"})    \n",
    "    #node_data.append({\"label\":str(u_nodes[i]), \"shape\":\"circle\"})"
   ]
  },
  {
   "cell_type": "code",
   "execution_count": 65,
   "metadata": {},
   "outputs": [],
   "source": [
    "#network['ind1']"
   ]
  },
  {
   "cell_type": "code",
   "execution_count": 66,
   "metadata": {},
   "outputs": [],
   "source": [
    "#node_data"
   ]
  },
  {
   "cell_type": "code",
   "execution_count": 67,
   "metadata": {},
   "outputs": [],
   "source": [
    "link_data = [] # tell us the links between nodes\n",
    "color_data = [] # color of each node\n",
    "\n",
    "for i in range(len(network)): # link data\n",
    "    source_id = network.iloc[i][\"ind1\"]\n",
    "    target_id = network.iloc[i][\"ind2\"]\n",
    "    link_data.append({'source':source_id, 'target': target_id})\n",
    "    color_data.append('blue')"
   ]
  },
  {
   "cell_type": "code",
   "execution_count": 68,
   "metadata": {},
   "outputs": [
    {
     "data": {
      "text/plain": [
       "[{'source': 10, 'target': 67},\n",
       " {'source': 10, 'target': 67},\n",
       " {'source': 13, 'target': 21},\n",
       " {'source': 13, 'target': 26},\n",
       " {'source': 13, 'target': 56},\n",
       " {'source': 13, 'target': 59},\n",
       " {'source': 13, 'target': 65},\n",
       " {'source': 13, 'target': 67},\n",
       " {'source': 13, 'target': 82},\n",
       " {'source': 14, 'target': 20},\n",
       " {'source': 14, 'target': 28},\n",
       " {'source': 14, 'target': 41},\n",
       " {'source': 16, 'target': 29},\n",
       " {'source': 16, 'target': 82},\n",
       " {'source': 17, 'target': 19},\n",
       " {'source': 17, 'target': 41},\n",
       " {'source': 19, 'target': 41},\n",
       " {'source': 19, 'target': 89},\n",
       " {'source': 20, 'target': 41},\n",
       " {'source': 20, 'target': 44},\n",
       " {'source': 21, 'target': 25},\n",
       " {'source': 21, 'target': 26},\n",
       " {'source': 21, 'target': 31},\n",
       " {'source': 21, 'target': 39},\n",
       " {'source': 21, 'target': 40},\n",
       " {'source': 21, 'target': 55},\n",
       " {'source': 21, 'target': 56},\n",
       " {'source': 21, 'target': 66},\n",
       " {'source': 21, 'target': 67},\n",
       " {'source': 21, 'target': 88},\n",
       " {'source': 22, 'target': 87},\n",
       " {'source': 23, 'target': 51},\n",
       " {'source': 23, 'target': 61},\n",
       " {'source': 23, 'target': 83},\n",
       " {'source': 24, 'target': 53},\n",
       " {'source': 24, 'target': 57},\n",
       " {'source': 24, 'target': 80},\n",
       " {'source': 25, 'target': 26},\n",
       " {'source': 25, 'target': 31},\n",
       " {'source': 25, 'target': 39},\n",
       " {'source': 25, 'target': 40},\n",
       " {'source': 25, 'target': 51},\n",
       " {'source': 25, 'target': 56},\n",
       " {'source': 25, 'target': 65},\n",
       " {'source': 25, 'target': 67},\n",
       " {'source': 25, 'target': 69},\n",
       " {'source': 25, 'target': 72},\n",
       " {'source': 25, 'target': 73},\n",
       " {'source': 25, 'target': 76},\n",
       " {'source': 25, 'target': 79},\n",
       " {'source': 25, 'target': 83},\n",
       " {'source': 25, 'target': 84},\n",
       " {'source': 25, 'target': 88},\n",
       " {'source': 26, 'target': 40},\n",
       " {'source': 26, 'target': 55},\n",
       " {'source': 26, 'target': 56},\n",
       " {'source': 26, 'target': 62},\n",
       " {'source': 26, 'target': 66},\n",
       " {'source': 26, 'target': 67},\n",
       " {'source': 26, 'target': 69},\n",
       " {'source': 26, 'target': 72},\n",
       " {'source': 26, 'target': 79},\n",
       " {'source': 27, 'target': 54},\n",
       " {'source': 28, 'target': 41},\n",
       " {'source': 29, 'target': 40},\n",
       " {'source': 29, 'target': 82},\n",
       " {'source': 30, 'target': 48},\n",
       " {'source': 30, 'target': 56},\n",
       " {'source': 30, 'target': 73},\n",
       " {'source': 31, 'target': 51},\n",
       " {'source': 31, 'target': 67},\n",
       " {'source': 31, 'target': 83},\n",
       " {'source': 31, 'target': 84},\n",
       " {'source': 33, 'target': 42},\n",
       " {'source': 39, 'target': 69},\n",
       " {'source': 40, 'target': 56},\n",
       " {'source': 40, 'target': 67},\n",
       " {'source': 40, 'target': 72},\n",
       " {'source': 40, 'target': 77},\n",
       " {'source': 41, 'target': 44},\n",
       " {'source': 45, 'target': 67},\n",
       " {'source': 48, 'target': 53},\n",
       " {'source': 48, 'target': 54},\n",
       " {'source': 48, 'target': 57},\n",
       " {'source': 48, 'target': 73},\n",
       " {'source': 48, 'target': 80},\n",
       " {'source': 48, 'target': 88},\n",
       " {'source': 51, 'target': 83},\n",
       " {'source': 51, 'target': 84},\n",
       " {'source': 53, 'target': 54},\n",
       " {'source': 53, 'target': 88},\n",
       " {'source': 55, 'target': 56},\n",
       " {'source': 55, 'target': 67},\n",
       " {'source': 56, 'target': 59},\n",
       " {'source': 56, 'target': 60},\n",
       " {'source': 56, 'target': 62},\n",
       " {'source': 56, 'target': 63},\n",
       " {'source': 56, 'target': 66},\n",
       " {'source': 56, 'target': 67},\n",
       " {'source': 56, 'target': 72},\n",
       " {'source': 56, 'target': 75},\n",
       " {'source': 56, 'target': 82},\n",
       " {'source': 56, 'target': 88},\n",
       " {'source': 57, 'target': 80},\n",
       " {'source': 59, 'target': 82},\n",
       " {'source': 62, 'target': 67},\n",
       " {'source': 65, 'target': 82},\n",
       " {'source': 66, 'target': 67},\n",
       " {'source': 67, 'target': 69},\n",
       " {'source': 67, 'target': 72},\n",
       " {'source': 67, 'target': 75},\n",
       " {'source': 67, 'target': 79},\n",
       " {'source': 67, 'target': 82},\n",
       " {'source': 73, 'target': 88},\n",
       " {'source': 75, 'target': 85},\n",
       " {'source': 80, 'target': 88},\n",
       " {'source': 82, 'target': 84},\n",
       " {'source': 83, 'target': 84}]"
      ]
     },
     "execution_count": 68,
     "metadata": {},
     "output_type": "execute_result"
    }
   ],
   "source": [
    "link_data"
   ]
  },
  {
   "cell_type": "code",
   "execution_count": 71,
   "metadata": {},
   "outputs": [
    {
     "data": {
      "application/vnd.jupyter.widget-view+json": {
       "model_id": "276e761ef89b4e048fabff1f9e687628",
       "version_major": 2,
       "version_minor": 0
      },
      "text/plain": [
       "Figure(fig_margin={'top': 60, 'bottom': 60, 'left': 60, 'right': 60}, layout=Layout(min_height='900px', min_wi…"
      ]
     },
     "metadata": {},
     "output_type": "display_data"
    }
   ],
   "source": [
    "graph = bqplot.Graph(node_data = node_data, link_data=link_data, colors=color_data)\n",
    "\n",
    "graph.charge = -100\n",
    "\n",
    "fig = bqplot.Figure(marks=[graph])\n",
    "fig.layout.min_width='1000px'\n",
    "fig.layout.min_height='900px'\n",
    "fig"
   ]
  },
  {
   "cell_type": "code",
   "execution_count": 72,
   "metadata": {},
   "outputs": [],
   "source": [
    "node_data = []\n",
    "link_data = []\n",
    "color_data = [] # all same color\n",
    "\n",
    "# add nodes\n",
    "maxNet = max([network['ind1'].max(),network['ind2'].max()])\n",
    "for i in range(maxNet+1):\n",
    "    node_data.append({\"label\": str(i), 'shape_attrs': {'r': 8} }) # small circles\n",
    "    \n",
    "# now, make links\n",
    "for i in range(len(network)):\n",
    "    # we are linking the ith object to another jth object, but we \n",
    "    #  gotta figure out with jth object it is\n",
    "    source_id = network.iloc[i]['ind1']\n",
    "    target_id = network.iloc[i]['ind2']\n",
    "    link_data.append({'source': source_id, 'target': target_id})\n",
    "    color_data.append('blue')"
   ]
  },
  {
   "cell_type": "code",
   "execution_count": 73,
   "metadata": {},
   "outputs": [
    {
     "data": {
      "application/vnd.jupyter.widget-view+json": {
       "model_id": "60b9781e43f6476ab1a09fd5f7a32228",
       "version_major": 2,
       "version_minor": 0
      },
      "text/plain": [
       "Figure(fig_margin={'top': 60, 'bottom': 60, 'left': 60, 'right': 60}, layout=Layout(min_height='900px', min_wi…"
      ]
     },
     "metadata": {},
     "output_type": "display_data"
    }
   ],
   "source": [
    "graph = bqplot.Graph(node_data=node_data, \n",
    "                     link_data = link_data,\n",
    "                    colors=color_data)\n",
    "\n",
    "# play with these for different graphs\n",
    "graph.charge = -100 \n",
    "graph.link_type = 'line'\n",
    "graph.link_distance=50\n",
    "# there is no direction to links\n",
    "graph.directed = False\n",
    "\n",
    "fig = bqplot.Figure(marks = [graph])\n",
    "fig.layout.min_width='1000px'\n",
    "fig.layout.min_height='900px'\n",
    "# note: I think this has to be the layout for this to look right\n",
    "fig"
   ]
  },
  {
   "cell_type": "code",
   "execution_count": null,
   "metadata": {},
   "outputs": [],
   "source": []
  }
 ],
 "metadata": {
  "kernelspec": {
   "display_name": "Python 3",
   "language": "python",
   "name": "python3"
  },
  "language_info": {
   "codemirror_mode": {
    "name": "ipython",
    "version": 3
   },
   "file_extension": ".py",
   "mimetype": "text/x-python",
   "name": "python",
   "nbconvert_exporter": "python",
   "pygments_lexer": "ipython3",
   "version": "3.8.5"
  }
 },
 "nbformat": 4,
 "nbformat_minor": 4
}
