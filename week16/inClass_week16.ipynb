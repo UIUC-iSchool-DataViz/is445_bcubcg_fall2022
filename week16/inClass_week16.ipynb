{
 "cells": [
  {
   "cell_type": "markdown",
   "id": "innovative-airplane",
   "metadata": {},
   "source": [
    "# In Class Notebook, Week 16"
   ]
  },
  {
   "cell_type": "markdown",
   "id": "specified-material",
   "metadata": {},
   "source": [
    "You can always click this URL https://github.com/UIUC-iSchool-DataViz/is445_bcubcg_fall2022/blob/master/week16/inClass_week16.ipynb \n",
    "\n",
    "Or paste the URL into the nbviewer interface for a plain-text rendering:\n",
    "\n",
    "https://kokes.github.io/nbviewer.js/viewer.html"
   ]
  },
  {
   "cell_type": "code",
   "execution_count": null,
   "id": "9105780e",
   "metadata": {},
   "outputs": [],
   "source": [
    "import "
   ]
  }
 ],
 "metadata": {
  "kernelspec": {
   "display_name": "Python 3 (ipykernel)",
   "language": "python",
   "name": "python3"
  },
  "language_info": {
   "codemirror_mode": {
    "name": "ipython",
    "version": 3
   },
   "file_extension": ".py",
   "mimetype": "text/x-python",
   "name": "python",
   "nbconvert_exporter": "python",
   "pygments_lexer": "ipython3",
   "version": "3.7.12"
  }
 },
 "nbformat": 4,
 "nbformat_minor": 5
}
