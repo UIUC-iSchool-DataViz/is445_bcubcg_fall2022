{
 "cells": [
  {
   "cell_type": "markdown",
   "id": "innovative-airplane",
   "metadata": {},
   "source": [
    "# In Class Notebook, Week 16"
   ]
  },
  {
   "cell_type": "markdown",
   "id": "specified-material",
   "metadata": {},
   "source": [
    "You can always click this URL https://github.com/UIUC-iSchool-DataViz/is445_bcubcg_fall2022/blob/master/week16/inClass_week16.ipynb \n",
    "\n",
    "Or paste the URL into the nbviewer interface for a plain-text rendering:\n",
    "\n",
    "https://kokes.github.io/nbviewer.js/viewer.html"
   ]
  },
  {
   "cell_type": "code",
   "execution_count": 1,
   "id": "9105780e",
   "metadata": {},
   "outputs": [],
   "source": [
    "import nltk"
   ]
  },
  {
   "cell_type": "code",
   "execution_count": 2,
   "id": "65a881ef",
   "metadata": {},
   "outputs": [
    {
     "name": "stderr",
     "output_type": "stream",
     "text": [
      "[nltk_data] Downloading package stopwords to\n",
      "[nltk_data]     /Users/jnaiman/nltk_data...\n",
      "[nltk_data]   Package stopwords is already up-to-date!\n",
      "[nltk_data] Downloading package punkt to /Users/jnaiman/nltk_data...\n",
      "[nltk_data]   Package punkt is already up-to-date!\n",
      "[nltk_data] Downloading package words to /Users/jnaiman/nltk_data...\n",
      "[nltk_data]   Package words is already up-to-date!\n"
     ]
    },
    {
     "data": {
      "text/plain": [
       "True"
      ]
     },
     "execution_count": 2,
     "metadata": {},
     "output_type": "execute_result"
    }
   ],
   "source": [
    "nltk.download('stopwords')\n",
    "nltk.download('punkt')\n",
    "nltk.download('words')"
   ]
  },
  {
   "cell_type": "code",
   "execution_count": 3,
   "id": "f07cfc4a",
   "metadata": {},
   "outputs": [],
   "source": [
    "from nltk.corpus import stopwords\n",
    "import string\n",
    "import itertools\n",
    "from wordcloud import WordCloud, ImageColorGenerator"
   ]
  },
  {
   "cell_type": "code",
   "execution_count": 4,
   "id": "372cd0f3",
   "metadata": {},
   "outputs": [],
   "source": [
    "import matplotlib.pyplot as plt"
   ]
  },
  {
   "cell_type": "code",
   "execution_count": 5,
   "id": "6ff6a83c",
   "metadata": {},
   "outputs": [],
   "source": [
    "filename = '/Users/jnaiman/Downloads/othello.txt'"
   ]
  },
  {
   "cell_type": "code",
   "execution_count": 6,
   "id": "6f32da38",
   "metadata": {},
   "outputs": [],
   "source": [
    "with open(filename, 'r') as f:\n",
    "    text = f.read()"
   ]
  },
  {
   "cell_type": "code",
   "execution_count": 7,
   "id": "f2df29d0",
   "metadata": {},
   "outputs": [
    {
     "data": {
      "text/plain": [
       "\"\\nACT I\\nSCENE I. Venice. A street.\\nEnter RODERIGO and IAGO\\nRODERIGO\\nTush! never tell me; I take it much unkindly\\nThat thou, Iago, who hast had my purse\\nAs if the strings were thine, shouldst know of this.\\nIAGO\\n'Sblood, but you will not hear me:\\nIf ever I did dream of such a matter, Abhor me.\\nRODERIGO\\nThou told'st me thou didst hold him in thy hate.\\nIAGO\\nDespise me, if I do not. Three great ones of the city,\\nIn personal suit to make me his lieutenant,\\nOff-capp'd to him: and, by the faith of man,\\nI know my price, I am worth no worse a place:\\nBut he; as loving his own pride and purposes,\\nEvades them, with a bombast circumstance\\nHorribly stuff'd with epithets of war;\\nAnd, in conclusion,\\nNonsuits my mediators; for, 'Certes,' says he,\\n'I have already chose my officer.'\\nAnd what was he?\\nForsooth, a great arithmetician,\\nOne Michael Cassio, a Florentine,\\nA fellow almost damn'd in a fair wife;\\nThat never set a squadron in the field,\\nNor the division of a battle knows\\nMore than a spinster; unless \""
      ]
     },
     "execution_count": 7,
     "metadata": {},
     "output_type": "execute_result"
    }
   ],
   "source": [
    "text[:1000]"
   ]
  },
  {
   "cell_type": "code",
   "execution_count": 8,
   "id": "7756668b",
   "metadata": {},
   "outputs": [],
   "source": [
    "myWords = text.split()"
   ]
  },
  {
   "cell_type": "code",
   "execution_count": 9,
   "id": "de3c0908",
   "metadata": {},
   "outputs": [
    {
     "data": {
      "text/plain": [
       "['ACT',\n",
       " 'I',\n",
       " 'SCENE',\n",
       " 'I.',\n",
       " 'Venice.',\n",
       " 'A',\n",
       " 'street.',\n",
       " 'Enter',\n",
       " 'RODERIGO',\n",
       " 'and',\n",
       " 'IAGO',\n",
       " 'RODERIGO',\n",
       " 'Tush!',\n",
       " 'never',\n",
       " 'tell',\n",
       " 'me;',\n",
       " 'I',\n",
       " 'take',\n",
       " 'it',\n",
       " 'much',\n",
       " 'unkindly',\n",
       " 'That',\n",
       " 'thou,',\n",
       " 'Iago,',\n",
       " 'who',\n",
       " 'hast',\n",
       " 'had',\n",
       " 'my',\n",
       " 'purse',\n",
       " 'As',\n",
       " 'if',\n",
       " 'the',\n",
       " 'strings',\n",
       " 'were',\n",
       " 'thine,',\n",
       " 'shouldst',\n",
       " 'know',\n",
       " 'of',\n",
       " 'this.',\n",
       " 'IAGO',\n",
       " \"'Sblood,\",\n",
       " 'but',\n",
       " 'you',\n",
       " 'will',\n",
       " 'not',\n",
       " 'hear',\n",
       " 'me:',\n",
       " 'If',\n",
       " 'ever',\n",
       " 'I',\n",
       " 'did',\n",
       " 'dream',\n",
       " 'of',\n",
       " 'such',\n",
       " 'a',\n",
       " 'matter,',\n",
       " 'Abhor',\n",
       " 'me.',\n",
       " 'RODERIGO',\n",
       " 'Thou',\n",
       " \"told'st\",\n",
       " 'me',\n",
       " 'thou',\n",
       " 'didst',\n",
       " 'hold',\n",
       " 'him',\n",
       " 'in',\n",
       " 'thy',\n",
       " 'hate.',\n",
       " 'IAGO',\n",
       " 'Despise',\n",
       " 'me,',\n",
       " 'if',\n",
       " 'I',\n",
       " 'do',\n",
       " 'not.',\n",
       " 'Three',\n",
       " 'great',\n",
       " 'ones',\n",
       " 'of',\n",
       " 'the',\n",
       " 'city,',\n",
       " 'In',\n",
       " 'personal',\n",
       " 'suit',\n",
       " 'to',\n",
       " 'make',\n",
       " 'me',\n",
       " 'his',\n",
       " 'lieutenant,',\n",
       " \"Off-capp'd\",\n",
       " 'to',\n",
       " 'him:',\n",
       " 'and,',\n",
       " 'by',\n",
       " 'the',\n",
       " 'faith',\n",
       " 'of',\n",
       " 'man,',\n",
       " 'I']"
      ]
     },
     "execution_count": 9,
     "metadata": {},
     "output_type": "execute_result"
    }
   ],
   "source": [
    "myWords[:100]"
   ]
  },
  {
   "cell_type": "code",
   "execution_count": null,
   "id": "21e819dc",
   "metadata": {},
   "outputs": [],
   "source": []
  }
 ],
 "metadata": {
  "kernelspec": {
   "display_name": "Python 3 (ipykernel)",
   "language": "python",
   "name": "python3"
  },
  "language_info": {
   "codemirror_mode": {
    "name": "ipython",
    "version": 3
   },
   "file_extension": ".py",
   "mimetype": "text/x-python",
   "name": "python",
   "nbconvert_exporter": "python",
   "pygments_lexer": "ipython3",
   "version": "3.7.12"
  }
 },
 "nbformat": 4,
 "nbformat_minor": 5
}
