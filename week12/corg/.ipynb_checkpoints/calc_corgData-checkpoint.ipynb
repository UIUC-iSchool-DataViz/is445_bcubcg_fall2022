{
 "cells": [
  {
   "cell_type": "markdown",
   "metadata": {},
   "source": [
    "# Calculate Summary Data\n",
    "\n",
    "Calculate a few summary datasets from the web-scrapped full list of corgs."
   ]
  },
  {
   "cell_type": "code",
   "execution_count": 1,
   "metadata": {},
   "outputs": [],
   "source": [
    "import json\n",
    "import numpy as np\n",
    "import pandas as pd\n",
    "import csv"
   ]
  },
  {
   "cell_type": "code",
   "execution_count": 2,
   "metadata": {},
   "outputs": [],
   "source": [
    "saveFileDir = '/Users/jillnaiman/spring2020/week12/corg/'"
   ]
  },
  {
   "cell_type": "code",
   "execution_count": 3,
   "metadata": {},
   "outputs": [],
   "source": [
    "saveFilejsonLarge = saveFileDir + 'corgiData_countries_full_2020.json'\n",
    "\n",
    "with open(saveFilejsonLarge) as json_file:\n",
    "    data = json.load(json_file)"
   ]
  },
  {
   "cell_type": "code",
   "execution_count": 4,
   "metadata": {},
   "outputs": [
    {
     "data": {
      "text/plain": [
       "{'name': 'A Blue Day Pleasure from The Small Hill Rebels',\n",
       " 'dam': 'Bonnie from the Stone of Scone',\n",
       " 'sire': 'BlÃ¥tirans Gandalf The Gray',\n",
       " 'sex': 'Male',\n",
       " 'year': '2013',\n",
       " 'countries': 'Germany',\n",
       " 'siblings': ['Adam Atom from The Small Hill Rebels',\n",
       "  'Aery Arya from The Small Hill Rebels',\n",
       "  'Alert Annie from The Small Hill Rebels',\n",
       "  'All tomorrows parties from The Small Hill Rebels',\n",
       "  'Allistair Applepie from The Small Hill Rebels',\n",
       "  'Always Alwin from The Small Hill Rebels',\n",
       "  'Arctic Aeryn from The Small Hill Rebels',\n",
       "  'Ask for Aron from The Small Hill Rebels'],\n",
       " 'country_id': 'DEU'}"
      ]
     },
     "execution_count": 4,
     "metadata": {},
     "output_type": "execute_result"
    }
   ],
   "source": [
    "data[1]"
   ]
  },
  {
   "cell_type": "markdown",
   "metadata": {},
   "source": [
    "Grab all unique country codes from what is here:"
   ]
  },
  {
   "cell_type": "code",
   "execution_count": 5,
   "metadata": {},
   "outputs": [],
   "source": [
    "df = pd.read_csv(saveFileDir + 'world_population.tsv', sep=\"\\t\")   # read dummy .tsv file into memory\n",
    "\n",
    "# convert to array\n",
    "import numpy as np\n",
    "dataCountry = np.array(df)\n",
    "\n",
    "country_codes = dataCountry[:,0]\n",
    "country_names = dataCountry[:,1]"
   ]
  },
  {
   "cell_type": "code",
   "execution_count": 6,
   "metadata": {},
   "outputs": [
    {
     "data": {
      "text/plain": [
       "array(['CHN', 'IND', 'USA', 'IDN', 'BRA', 'PAK', 'BGD', 'NGA', 'RUS',\n",
       "       'JPN', 'MEX', 'PHL', 'VNM', 'ETH', 'DEU', 'EGY', 'TUR', 'COD',\n",
       "       'IRN', 'THA', 'FRA', 'GBR', 'ITA', 'MMR', 'ZAF', 'KOR', 'UKR',\n",
       "       'COL', 'SDN', 'TZA', 'ARG', 'ESP', 'KEN', 'POL', 'DZA', 'CAN',\n",
       "       'UGA', 'MAR', 'PER', 'IRQ', 'SAU', 'AFG', 'NPL', 'UZB', 'VEN',\n",
       "       'MYS', 'GHA', 'YEM', 'TWN', 'PRK', 'SYR', 'ROU', 'MOZ', 'AUS',\n",
       "       'LKA', 'MDG', 'CIV', 'CMR', 'NLD', 'CHL', 'BFA', 'NER', 'KAZ',\n",
       "       'MWI', 'ECU', 'KHM', 'SEN', 'MLI', 'GTM', 'AGO', 'ZMB', 'ZWE',\n",
       "       'CUB', 'RWA', 'GRC', 'PRT', 'TUN', 'TCD', 'BEL', 'GIN', 'CZE',\n",
       "       'SOM', 'BOL', 'HUN', 'BDI', 'DOM', 'BLR', 'HTI', 'SWE', 'BEN',\n",
       "       'AZE', 'AUT', 'HND', 'CHE', 'TJK', 'ISR', 'SRB', 'BGR', 'HKG',\n",
       "       'LAO', 'LBY', 'JOR', 'PRY', 'TGO', 'PNG', 'SLV', 'NIC', 'ERI',\n",
       "       'DNK', 'KGZ', 'SVK', 'FIN', 'SLE', 'ARE', 'TKM', 'CAF', 'SGP',\n",
       "       'NOR', 'BIH', 'GEO', 'CRI', 'HRV', 'MDA', 'NZL', 'IRL', 'COG',\n",
       "       'LBN', 'PRI', 'LBR', 'ALB', 'LTU', 'URY', 'PAN', 'MRT', 'MNG',\n",
       "       'OMN', 'ARM', 'JAM', 'KWT', 'PSE', 'LVA', 'NAM', 'MKD', 'BWA',\n",
       "       'SVN', 'LSO', 'GMB', 'KWT', '149', 'GNB', 'GAB', 'SWZ', '153',\n",
       "       'EST', 'TTO', 'TLS', 'CYP', 'FJI', 'QAT', '160', 'GUY', 'DJI',\n",
       "       '163', 'BTN', 'MNE', 'GNQ', 'SLB', '168', '169', 'LUX', 'ESH',\n",
       "       'SUR', '173', '174', 'BRN', 'BLZ', 'BHS', 'ISL', '179', '180',\n",
       "       '181', 'NCL', '183', 'VUT', '185', '186', '187', '188', '189',\n",
       "       '190', '191', '192', '193', '194', '195', '196', '197', '198',\n",
       "       '199', 'DOM', '201', '202', '203', '204', 'GRL', '206', '207',\n",
       "       '208', '209', '210', '211', '212', '213', '214', '215', '216',\n",
       "       '217', '218', '219', '220', '221', '222', '223', '224', '225',\n",
       "       '226', '227', '228', 'FLK', '230', '231', '232', '233', '234',\n",
       "       '235', '236', '237', 'ATA', 'ATF', 'SDS', 'ABV', 'OSA'],\n",
       "      dtype=object)"
      ]
     },
     "execution_count": 6,
     "metadata": {},
     "output_type": "execute_result"
    }
   ],
   "source": [
    "country_codes"
   ]
  },
  {
   "cell_type": "markdown",
   "metadata": {},
   "source": [
    "## Number of corgis in each country as a function of time"
   ]
  },
  {
   "cell_type": "code",
   "execution_count": 7,
   "metadata": {},
   "outputs": [],
   "source": [
    "# min/max time\n",
    "minTime = 100000\n",
    "maxTime = -1\n",
    "\n",
    "for d in data:\n",
    "    if len(d['year']) > 0: # empty entries\n",
    "        if (d['year'].isdigit()) and (len(d['year']) == 4) and (int(d['year'])>1900): # formatting\n",
    "            if (int(d['year']) < minTime):\n",
    "                minTime = int(d['year'])\n",
    "            if int(d['year']) > maxTime:\n",
    "                maxTime = int(d['year'])"
   ]
  },
  {
   "cell_type": "code",
   "execution_count": 8,
   "metadata": {},
   "outputs": [
    {
     "data": {
      "text/plain": [
       "(1917, 2020)"
      ]
     },
     "execution_count": 8,
     "metadata": {},
     "output_type": "execute_result"
    }
   ],
   "source": [
    "minTime,maxTime"
   ]
  },
  {
   "cell_type": "code",
   "execution_count": 9,
   "metadata": {},
   "outputs": [],
   "source": [
    "dates = np.arange(minTime, maxTime+1)\n",
    "#dates"
   ]
  },
  {
   "cell_type": "markdown",
   "metadata": {},
   "source": [
    "Loop & fill:"
   ]
  },
  {
   "cell_type": "code",
   "execution_count": 10,
   "metadata": {},
   "outputs": [],
   "source": [
    "corgs = np.zeros([len(dates), len(country_codes)]) # count corgs"
   ]
  },
  {
   "cell_type": "code",
   "execution_count": 11,
   "metadata": {},
   "outputs": [],
   "source": [
    "for d in data:\n",
    "    if len(d['year']) > 0: # empty entries\n",
    "        if (d['year'].isdigit()) and (len(d['year']) == 4) and (len(d['country_id']) > 0) and (int(d['year']) > 1900): # formatting\n",
    "            year = int(d['year'])\n",
    "            corgs[ dates == year, country_codes == d['country_id']] += 1"
   ]
  },
  {
   "cell_type": "code",
   "execution_count": 12,
   "metadata": {},
   "outputs": [
    {
     "data": {
      "text/plain": [
       "(621.0, 0.0, 36728.0)"
      ]
     },
     "execution_count": 12,
     "metadata": {},
     "output_type": "execute_result"
    }
   ],
   "source": [
    "corgs.max(), corgs.min(), corgs.sum()"
   ]
  },
  {
   "cell_type": "markdown",
   "metadata": {},
   "source": [
    "Create json entries, ordered by country:"
   ]
  },
  {
   "cell_type": "code",
   "execution_count": 13,
   "metadata": {},
   "outputs": [],
   "source": [
    "# # this one is too fancy\n",
    "# v = []\n",
    "# v.append({\"years\":dates.tolist()})\n",
    "\n",
    "# vc = []\n",
    "# for i in range(len(country_codes)):\n",
    "#     vc.append( {\"country\":country_names[i], \"country_id\":country_codes[i], \"num_corgs\":corgs[:, i].tolist()} )\n",
    "\n",
    "# # put all together\n",
    "# v.append( {\"countryInfo\": vc} )\n",
    "\n",
    "v = []\n",
    "for i in range(len(dates)):\n",
    "    countries = {'year': str(int(dates[i]))}\n",
    "    for j in range(len(country_names)):\n",
    "        countries[country_names[j]] = corgs[i,j]\n",
    "    v.append(countries)"
   ]
  },
  {
   "cell_type": "code",
   "execution_count": 14,
   "metadata": {},
   "outputs": [],
   "source": [
    "#v"
   ]
  },
  {
   "cell_type": "code",
   "execution_count": 15,
   "metadata": {},
   "outputs": [],
   "source": [
    "saveFilejson = saveFileDir + 'corgs_per_country_over_time_2020.json'\n",
    "f = open(saveFilejson,'w')\n",
    "f.write(json.dumps(v,indent=2))\n",
    "f.close()"
   ]
  },
  {
   "cell_type": "markdown",
   "metadata": {},
   "source": [
    "Also save as CSV, for completeness:"
   ]
  },
  {
   "cell_type": "code",
   "execution_count": 27,
   "metadata": {},
   "outputs": [],
   "source": [
    "csvFileName = saveFileDir + 'corgs_per_country_over_time_2020.csv'\n",
    "\n",
    "header = [\"\", 'Country', 'CountryID']\n",
    "# add in each year\n",
    "for i in range(len(dates)):\n",
    "    header.append('y'+str(dates[i]))\n",
    "    \n",
    "    \n",
    "# formatting for years\n",
    "years = [\"\", \"YEARS\", \"YEARS\"]\n",
    "for i in range(len(dates)):\n",
    "    years.append(str(dates[i]))\n",
    "\n",
    "with open(csvFileName, 'w') as csvFile:\n",
    "    writer = csv.writer(csvFile, quoting=csv.QUOTE_ALL)\n",
    "    writer.writerow(header)\n",
    "    writer.writerow(years)\n",
    "    for i in range(len(country_codes)):\n",
    "        row = [i, str(country_names[i]), country_codes[i]]\n",
    "        for j in range(len(dates)):\n",
    "            row.append(corgs[j,i].astype('int'))\n",
    "            \n",
    "        writer.writerow(row)\n",
    "    csvFile.close()\n"
   ]
  },
  {
   "cell_type": "code",
   "execution_count": 26,
   "metadata": {},
   "outputs": [
    {
     "data": {
      "text/plain": [
       "(107, 106)"
      ]
     },
     "execution_count": 26,
     "metadata": {},
     "output_type": "execute_result"
    }
   ],
   "source": [
    "# now, other organization\n",
    "csvFileName = saveFileDir + 'corgs_per_country_over_time_columns_2020.csv'\n",
    "\n"
   ]
  },
  {
   "cell_type": "code",
   "execution_count": null,
   "metadata": {},
   "outputs": [],
   "source": []
  }
 ],
 "metadata": {
  "kernelspec": {
   "display_name": "Python 3",
   "language": "python",
   "name": "python3"
  },
  "language_info": {
   "codemirror_mode": {
    "name": "ipython",
    "version": 3
   },
   "file_extension": ".py",
   "mimetype": "text/x-python",
   "name": "python",
   "nbconvert_exporter": "python",
   "pygments_lexer": "ipython3",
   "version": "3.7.6"
  }
 },
 "nbformat": 4,
 "nbformat_minor": 4
}
