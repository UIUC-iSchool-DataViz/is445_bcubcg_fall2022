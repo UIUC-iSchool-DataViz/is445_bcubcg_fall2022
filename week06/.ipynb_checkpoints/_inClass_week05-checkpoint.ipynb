{
 "cells": [
  {
   "cell_type": "markdown",
   "metadata": {},
   "source": [
    "Let's import our usual things:"
   ]
  },
  {
   "cell_type": "code",
   "execution_count": 1,
   "metadata": {},
   "outputs": [],
   "source": [
    "import bqplot\n",
    "import numpy as np\n",
    "import ipywidgets\n",
    "%matplotlib inline"
   ]
  },
  {
   "cell_type": "code",
   "execution_count": 2,
   "metadata": {},
   "outputs": [],
   "source": [
    "# generating random data, first for a line plot\n",
    "x = np.arange(100) # integers 0->99\n",
    "y = np.random.random(100) + 5"
   ]
  },
  {
   "cell_type": "code",
   "execution_count": 3,
   "metadata": {},
   "outputs": [
    {
     "data": {
      "text/plain": [
       "array([ 0,  1,  2,  3,  4,  5,  6,  7,  8,  9, 10, 11, 12, 13, 14, 15, 16,\n",
       "       17, 18, 19, 20, 21, 22, 23, 24, 25, 26, 27, 28, 29, 30, 31, 32, 33,\n",
       "       34, 35, 36, 37, 38, 39, 40, 41, 42, 43, 44, 45, 46, 47, 48, 49, 50,\n",
       "       51, 52, 53, 54, 55, 56, 57, 58, 59, 60, 61, 62, 63, 64, 65, 66, 67,\n",
       "       68, 69, 70, 71, 72, 73, 74, 75, 76, 77, 78, 79, 80, 81, 82, 83, 84,\n",
       "       85, 86, 87, 88, 89, 90, 91, 92, 93, 94, 95, 96, 97, 98, 99])"
      ]
     },
     "execution_count": 3,
     "metadata": {},
     "output_type": "execute_result"
    }
   ],
   "source": [
    "x"
   ]
  },
  {
   "cell_type": "code",
   "execution_count": 4,
   "metadata": {},
   "outputs": [
    {
     "data": {
      "text/plain": [
       "array([5.90937318, 5.59522338, 5.38461804, 5.57691395, 5.84245507,\n",
       "       5.64311436, 5.75163101, 5.6659415 , 5.68475305, 5.63159206,\n",
       "       5.7748091 , 5.57981003, 5.93563561, 5.91101296, 5.87702346,\n",
       "       5.04382841, 5.99678665, 5.87511354, 5.93073848, 5.18913515,\n",
       "       5.11508363, 5.31841371, 5.08599787, 5.20878482, 5.03463706,\n",
       "       5.14737196, 5.2875076 , 5.08797456, 5.58406197, 5.39537523,\n",
       "       5.71994109, 5.74737497, 5.07003794, 5.44089253, 5.36594693,\n",
       "       5.49755905, 5.34526138, 5.93832494, 5.97855578, 5.74885497,\n",
       "       5.072611  , 5.72903653, 5.75403741, 5.98962209, 5.09900103,\n",
       "       5.54730548, 5.50635744, 5.70559083, 5.95269645, 5.15409875,\n",
       "       5.27336347, 5.28451387, 5.48170866, 5.05761557, 5.66028684,\n",
       "       5.17943896, 5.55589439, 5.49801337, 5.80924062, 5.65139528,\n",
       "       5.4757537 , 5.99046949, 5.19819423, 5.73998908, 5.29543291,\n",
       "       5.09779405, 5.11153805, 5.78444857, 5.56137953, 5.02183896,\n",
       "       5.25882365, 5.11338003, 5.89638819, 5.54587482, 5.11577727,\n",
       "       5.34492225, 5.62766436, 5.44843806, 5.12550948, 5.37653058,\n",
       "       5.85844352, 5.4809456 , 5.55146625, 5.50375299, 5.31613734,\n",
       "       5.05167046, 5.11707527, 5.92214896, 5.34569684, 5.38413031,\n",
       "       5.54102722, 5.30509794, 5.97205044, 5.92755066, 5.48912406,\n",
       "       5.69838993, 5.55220859, 5.218976  , 5.52714754, 5.63709903])"
      ]
     },
     "execution_count": 4,
     "metadata": {},
     "output_type": "execute_result"
    }
   ],
   "source": [
    "y"
   ]
  },
  {
   "cell_type": "markdown",
   "metadata": {},
   "source": [
    "Our data is pretty linear, we have 2 scales & we want to do a line plot, so let's choose linear scales:"
   ]
  },
  {
   "cell_type": "code",
   "execution_count": 5,
   "metadata": {},
   "outputs": [],
   "source": [
    "x_sc = bqplot.LinearScale()\n",
    "y_sc = bqplot.LinearScale()"
   ]
  },
  {
   "cell_type": "code",
   "execution_count": 6,
   "metadata": {},
   "outputs": [],
   "source": [
    "bqplot.LinearScale?"
   ]
  },
  {
   "cell_type": "markdown",
   "metadata": {},
   "source": [
    "Let's define our \"mark\" in this case a Line plot:"
   ]
  },
  {
   "cell_type": "code",
   "execution_count": 7,
   "metadata": {},
   "outputs": [],
   "source": [
    "lines = bqplot.Lines(x=x, y=y, scales={'x': x_sc, 'y': y_sc})"
   ]
  },
  {
   "cell_type": "markdown",
   "metadata": {},
   "source": [
    "Define my axis: 2 axis, one that is horizontal and on the bottom and one that is vertical and on the left side:"
   ]
  },
  {
   "cell_type": "code",
   "execution_count": 8,
   "metadata": {},
   "outputs": [],
   "source": [
    "ax_x = bqplot.Axis(scale=x_sc, label='X Value')\n",
    "ax_y = bqplot.Axis(scale=y_sc, label='Y Value', orientation='vertical')"
   ]
  },
  {
   "cell_type": "code",
   "execution_count": 9,
   "metadata": {},
   "outputs": [],
   "source": [
    "bqplot.Axis?"
   ]
  },
  {
   "cell_type": "markdown",
   "metadata": {},
   "source": [
    "Put everything together into a figure:"
   ]
  },
  {
   "cell_type": "code",
   "execution_count": 10,
   "metadata": {},
   "outputs": [
    {
     "data": {
      "application/vnd.jupyter.widget-view+json": {
       "model_id": "5fcdf5dd740e44a682b4a618f6c1ea8c",
       "version_major": 2,
       "version_minor": 0
      },
      "text/plain": [
       "Figure(axes=[Axis(label='X Value', scale=LinearScale()), Axis(label='Y Value', orientation='vertical', scale=L…"
      ]
     },
     "metadata": {},
     "output_type": "display_data"
    }
   ],
   "source": [
    "fig = bqplot.Figure(marks = [lines], axes=[ax_x, ax_y])\n",
    "fig"
   ]
  },
  {
   "cell_type": "code",
   "execution_count": 11,
   "metadata": {},
   "outputs": [
    {
     "data": {
      "application/vnd.jupyter.widget-view+json": {
       "model_id": "924557365a0f43b59b2e27f973b9c51a",
       "version_major": 2,
       "version_minor": 0
      },
      "text/plain": [
       "Figure(axes=[Axis(label='X Value', scale=LinearScale()), Axis(label='Y Value', orientation='vertical', scale=L…"
      ]
     },
     "metadata": {},
     "output_type": "display_data"
    }
   ],
   "source": [
    "# scales\n",
    "x_sc = bqplot.LinearScale()\n",
    "y_sc = bqplot.LinearScale()\n",
    "\n",
    "# marks\n",
    "lines = bqplot.Lines(x=x, y=y, scales={'x': x_sc, 'y': y_sc})\n",
    "\n",
    "# axis\n",
    "ax_x = bqplot.Axis(scale=x_sc, label='X Value')\n",
    "ax_y = bqplot.Axis(scale=y_sc, label='Y Value', orientation='vertical')\n",
    "\n",
    "# construct fig\n",
    "fig = bqplot.Figure(marks = [lines], axes=[ax_x, ax_y])\n",
    "fig"
   ]
  },
  {
   "cell_type": "markdown",
   "metadata": {},
   "source": [
    "Adding in interactivity:"
   ]
  },
  {
   "cell_type": "code",
   "execution_count": 12,
   "metadata": {},
   "outputs": [],
   "source": [
    "panzoom = bqplot.interacts.PanZoom( scales={'x':[x_sc], 'y':[y_sc]})"
   ]
  },
  {
   "cell_type": "code",
   "execution_count": 13,
   "metadata": {},
   "outputs": [],
   "source": [
    "from IPython.display import display"
   ]
  },
  {
   "cell_type": "code",
   "execution_count": 14,
   "metadata": {},
   "outputs": [
    {
     "data": {
      "application/vnd.jupyter.widget-view+json": {
       "model_id": "628a9027d2fa479ab0da0c827b5faf4d",
       "version_major": 2,
       "version_minor": 0
      },
      "text/plain": [
       "Figure(axes=[Axis(label='X Value', scale=LinearScale()), Axis(label='Y Value', orientation='vertical', scale=L…"
      ]
     },
     "metadata": {},
     "output_type": "display_data"
    }
   ],
   "source": [
    "fig = bqplot.Figure(marks=[lines], axes=[ax_x, ax_y], interaction=panzoom)\n",
    "display(fig) # if figures are not showing, give this a shot"
   ]
  },
  {
   "cell_type": "markdown",
   "metadata": {},
   "source": [
    "## Scatter plot - with random numbers"
   ]
  },
  {
   "cell_type": "code",
   "execution_count": 15,
   "metadata": {},
   "outputs": [],
   "source": [
    "x = np.random.random(100) # random points between 0->1\n",
    "y = np.random.random(100) # random points between 0->1"
   ]
  },
  {
   "cell_type": "code",
   "execution_count": 16,
   "metadata": {},
   "outputs": [],
   "source": [
    "# scales: linear because not doing colors yet or a log-space anything\n",
    "x_sc = bqplot.LinearScale()\n",
    "y_sc = bqplot.LinearScale()\n",
    "\n",
    "# axes using these scales - just some scales on the left & bottom of the plot\n",
    "x_ax = bqplot.Axis(scale = x_sc, label='X')\n",
    "y_ax = bqplot.Axis(scale = y_sc, label='Y', orientation='vertical')"
   ]
  },
  {
   "cell_type": "code",
   "execution_count": 17,
   "metadata": {},
   "outputs": [],
   "source": [
    "# marks: will be a scatter plot\n",
    "scatters = bqplot.Scatter(x=x, y=y, scales={'x':x_sc, 'y':y_sc})"
   ]
  },
  {
   "cell_type": "code",
   "execution_count": 18,
   "metadata": {},
   "outputs": [],
   "source": [
    "# adding in an interaction now: select points on the x-axis\n",
    "selector = bqplot.interacts.FastIntervalSelector(scale=x_sc, marks=[scatters])"
   ]
  },
  {
   "cell_type": "code",
   "execution_count": 19,
   "metadata": {},
   "outputs": [
    {
     "data": {
      "application/vnd.jupyter.widget-view+json": {
       "model_id": "406205bca7f742c9afdd6d69e104a989",
       "version_major": 2,
       "version_minor": 0
      },
      "text/plain": [
       "Figure(axes=[Axis(label='X', scale=LinearScale()), Axis(label='Y', orientation='vertical', scale=LinearScale()…"
      ]
     },
     "metadata": {},
     "output_type": "display_data"
    }
   ],
   "source": [
    "# put it all together in a figure!\n",
    "fig = bqplot.Figure(marks=[scatters], axes=[x_ax, y_ax], interaction=selector)\n",
    "fig"
   ]
  },
  {
   "cell_type": "code",
   "execution_count": 20,
   "metadata": {},
   "outputs": [
    {
     "data": {
      "text/plain": [
       "['_model_module',\n",
       " '_model_module_version',\n",
       " '_model_name',\n",
       " '_view_count',\n",
       " '_view_module',\n",
       " '_view_module_version',\n",
       " '_view_name',\n",
       " 'color',\n",
       " 'marks',\n",
       " 'scale',\n",
       " 'selected',\n",
       " 'size']"
      ]
     },
     "execution_count": 20,
     "metadata": {},
     "output_type": "execute_result"
    }
   ],
   "source": [
    "selector.keys"
   ]
  },
  {
   "cell_type": "code",
   "execution_count": 21,
   "metadata": {},
   "outputs": [],
   "source": [
    "selector.selected # this is a trait that we can \"watch\" like before"
   ]
  },
  {
   "cell_type": "code",
   "execution_count": 22,
   "metadata": {},
   "outputs": [],
   "source": [
    "# we can play with how our selection looks:\n",
    "scatters.unselected_style={'opacity':0.8} # unselected a little see-through\n",
    "scatters.selected_style={'fill':'red', 'stroke':'yellow'}"
   ]
  },
  {
   "cell_type": "code",
   "execution_count": 23,
   "metadata": {},
   "outputs": [
    {
     "data": {
      "application/vnd.jupyter.widget-view+json": {
       "model_id": "cc7f298a7acb4391998f36ce562f49e1",
       "version_major": 2,
       "version_minor": 0
      },
      "text/plain": [
       "Figure(axes=[Axis(label='X', scale=LinearScale()), Axis(label='Y', orientation='vertical', scale=LinearScale()…"
      ]
     },
     "metadata": {},
     "output_type": "display_data"
    }
   ],
   "source": [
    "fig = bqplot.Figure(marks=[scatters], axes=[x_ax,y_ax], interaction=selector)\n",
    "fig"
   ]
  },
  {
   "cell_type": "markdown",
   "metadata": {},
   "source": [
    "## Gridheatmap mark"
   ]
  },
  {
   "cell_type": "code",
   "execution_count": 24,
   "metadata": {},
   "outputs": [],
   "source": [
    "# define the data\n",
    "data = np.random.random((10,10))"
   ]
  },
  {
   "cell_type": "code",
   "execution_count": 25,
   "metadata": {},
   "outputs": [
    {
     "data": {
      "text/plain": [
       "(10, 10)"
      ]
     },
     "execution_count": 25,
     "metadata": {},
     "output_type": "execute_result"
    }
   ],
   "source": [
    "data.shape"
   ]
  },
  {
   "cell_type": "code",
   "execution_count": 26,
   "metadata": {},
   "outputs": [
    {
     "data": {
      "application/vnd.jupyter.widget-view+json": {
       "model_id": "2caaa28402004bc295be7130937beb64",
       "version_major": 2,
       "version_minor": 0
      },
      "text/plain": [
       "Figure(fig_margin={'top': 60, 'bottom': 60, 'left': 60, 'right': 60}, marks=[GridHeatMap(color=array([[0.00168…"
      ]
     },
     "metadata": {},
     "output_type": "display_data"
    }
   ],
   "source": [
    "# step 1: define a scale, in this case color\n",
    "col_sc = bqplot.ColorScale() # like x/y but color\n",
    "\n",
    "# step2: I am ignoring axes for now\n",
    "\n",
    "# step 3: gridheatmap mark\n",
    "heat_map = bqplot.GridHeatMap(color=data, scales={'color':col_sc})\n",
    "\n",
    "# step 4: interaction, but ignoring for now too\n",
    "\n",
    "# step 5: put it all togehter in a figure\n",
    "fig = bqplot.Figure(marks=[heat_map])\n",
    "fig"
   ]
  },
  {
   "cell_type": "code",
   "execution_count": 27,
   "metadata": {},
   "outputs": [
    {
     "data": {
      "application/vnd.jupyter.widget-view+json": {
       "model_id": "816757c24fcb4d61ba326e3a08d3c4f7",
       "version_major": 2,
       "version_minor": 0
      },
      "text/plain": [
       "Figure(fig_margin={'top': 60, 'bottom': 60, 'left': 60, 'right': 60}, marks=[GridHeatMap(color=array([[0.00168…"
      ]
     },
     "metadata": {},
     "output_type": "display_data"
    }
   ],
   "source": [
    "# step 1: define a scale, in this case color\n",
    "col_sc = bqplot.ColorScale(scheme=\"Reds\") # like x/y but color\n",
    "\n",
    "# step2: I am ignoring axes for now\n",
    "\n",
    "# step 3: gridheatmap mark\n",
    "heat_map = bqplot.GridHeatMap(color=data, scales={'color':col_sc})\n",
    "\n",
    "# step 4: interaction, but ignoring for now too\n",
    "\n",
    "# step 5: put it all togehter in a figure\n",
    "fig = bqplot.Figure(marks=[heat_map])\n",
    "fig"
   ]
  },
  {
   "cell_type": "code",
   "execution_count": 28,
   "metadata": {},
   "outputs": [
    {
     "data": {
      "application/vnd.jupyter.widget-view+json": {
       "model_id": "0e4108c5ddc6469f8ac36a2f6f8c813a",
       "version_major": 2,
       "version_minor": 0
      },
      "text/plain": [
       "Figure(axes=[ColorAxis(orientation='vertical', scale=ColorScale(scheme='Reds'), side='right')], fig_margin={'t…"
      ]
     },
     "metadata": {},
     "output_type": "display_data"
    }
   ],
   "source": [
    "# step 1: define a scale, in this case color\n",
    "col_sc = bqplot.ColorScale(scheme=\"Reds\") # like x/y but color\n",
    "\n",
    "# step2: I am ignoring axes for now\n",
    "# first axis will be for color\n",
    "c_ax = bqplot.ColorAxis(scale = col_sc, \n",
    "                       orientation = 'vertical', \n",
    "                       side = 'right')\n",
    "\n",
    "# step 3: gridheatmap mark\n",
    "heat_map = bqplot.GridHeatMap(color=data, scales={'color':col_sc})\n",
    "\n",
    "# step 4: interaction, but ignoring for now too\n",
    "\n",
    "# step 5: put it all togehter in a figure\n",
    "fig = bqplot.Figure(marks=[heat_map], axes = [c_ax])\n",
    "fig"
   ]
  },
  {
   "cell_type": "markdown",
   "metadata": {},
   "source": [
    "Adding in x/y labels -> set their scales and axis"
   ]
  },
  {
   "cell_type": "code",
   "execution_count": 29,
   "metadata": {},
   "outputs": [
    {
     "data": {
      "application/vnd.jupyter.widget-view+json": {
       "model_id": "ee47b872ebe7420ba1e6edb2eb9262b4",
       "version_major": 2,
       "version_minor": 0
      },
      "text/plain": [
       "Figure(axes=[ColorAxis(orientation='vertical', scale=ColorScale(scheme='Reds'), side='right'), Axis(scale=Ordi…"
      ]
     },
     "metadata": {},
     "output_type": "display_data"
    }
   ],
   "source": [
    "# step 1: define a scale, in this case color\n",
    "col_sc = bqplot.ColorScale(scheme=\"Reds\") # like x/y but color\n",
    "x_sc = bqplot.OrdinalScale() # because bins are more categorical than numerical\n",
    "y_sc = bqplot.OrdinalScale() # ... we are using a 10x10 grid of numbers, these will be bin #\n",
    "\n",
    "# step2: I am ignoring axes for now\n",
    "# first axis will be for color\n",
    "c_ax = bqplot.ColorAxis(scale = col_sc, \n",
    "                       orientation = 'vertical', \n",
    "                       side = 'right')\n",
    "# adding in x/y axis with labels\n",
    "x_ax = bqplot.Axis(scale = x_sc)\n",
    "y_ax = bqplot.Axis(scale = y_sc, orientation='vertical')\n",
    "\n",
    "# step 3: gridheatmap mark\n",
    "heat_map = bqplot.GridHeatMap(color=data, scales={'color':col_sc, \n",
    "                                                 'row': y_sc,\n",
    "                                                 'column': x_sc})\n",
    "\n",
    "# step 4: interaction, but ignoring for now too\n",
    "\n",
    "# step 5: put it all togehter in a figure\n",
    "fig = bqplot.Figure(marks=[heat_map], axes = [c_ax, x_ax, y_ax])\n",
    "fig"
   ]
  },
  {
   "cell_type": "code",
   "execution_count": 30,
   "metadata": {},
   "outputs": [
    {
     "data": {
      "application/vnd.jupyter.widget-view+json": {
       "model_id": "648c09b45b4242819896de939d582301",
       "version_major": 2,
       "version_minor": 0
      },
      "text/plain": [
       "Figure(axes=[ColorAxis(orientation='vertical', scale=ColorScale(scheme='Reds'), side='right'), Axis(scale=Ordi…"
      ]
     },
     "metadata": {},
     "output_type": "display_data"
    }
   ],
   "source": [
    "# step 1: define a scale, in this case color\n",
    "col_sc = bqplot.ColorScale(scheme=\"Reds\") # like x/y but color\n",
    "x_sc = bqplot.OrdinalScale() # because bins are more categorical than numerical\n",
    "y_sc = bqplot.OrdinalScale() # ... we are using a 10x10 grid of numbers, these will be bin #\n",
    "\n",
    "# step2: I am ignoring axes for now\n",
    "# first axis will be for color\n",
    "c_ax = bqplot.ColorAxis(scale = col_sc, \n",
    "                       orientation = 'vertical', \n",
    "                       side = 'right')\n",
    "# adding in x/y axis with labels\n",
    "x_ax = bqplot.Axis(scale = x_sc)\n",
    "y_ax = bqplot.Axis(scale = y_sc, orientation='vertical')\n",
    "\n",
    "# step 3: gridheatmap mark\n",
    "heat_map = bqplot.GridHeatMap(color=data, scales={'color':col_sc, \n",
    "                                                 'row': y_sc,\n",
    "                                                 'column': x_sc}, \n",
    "                             interactions={'click':'select'}, # an interaction associated with GHM\n",
    "                             anchor_style = {'fill':'blue'}) \n",
    "\n",
    "# step 4: interaction, but ignoring for now too\n",
    "\n",
    "# step 5: put it all togehter in a figure\n",
    "fig = bqplot.Figure(marks=[heat_map], axes = [c_ax, x_ax, y_ax])\n",
    "fig"
   ]
  },
  {
   "cell_type": "code",
   "execution_count": 31,
   "metadata": {},
   "outputs": [],
   "source": [
    "heat_map.selected # trait of my heatmap -> can use selection to drive updates"
   ]
  },
  {
   "cell_type": "markdown",
   "metadata": {},
   "source": [
    "Use our selection to change the value of a ipywidgets.Label (print out data value)"
   ]
  },
  {
   "cell_type": "code",
   "execution_count": 32,
   "metadata": {},
   "outputs": [],
   "source": [
    "mySelectedLabel = ipywidgets.Label()"
   ]
  },
  {
   "cell_type": "code",
   "execution_count": 33,
   "metadata": {},
   "outputs": [
    {
     "data": {
      "application/vnd.jupyter.widget-view+json": {
       "model_id": "41bffcb221ce4786891768ce9ace7104",
       "version_major": 2,
       "version_minor": 0
      },
      "text/plain": [
       "Label(value='Hi I am widget')"
      ]
     },
     "metadata": {},
     "output_type": "display_data"
    }
   ],
   "source": [
    "mySelectedLabel.value = 'Hi I am widget'\n",
    "mySelectedLabel"
   ]
  },
  {
   "cell_type": "code",
   "execution_count": 34,
   "metadata": {},
   "outputs": [],
   "source": [
    "# we will just print out whatever \"change\" is when a grid is selected on gridheatmap\n",
    "def on_selected(change):\n",
    "    print(change)"
   ]
  },
  {
   "cell_type": "code",
   "execution_count": 35,
   "metadata": {},
   "outputs": [
    {
     "data": {
      "application/vnd.jupyter.widget-view+json": {
       "model_id": "5041530b0a2f4d768a0091419dfba704",
       "version_major": 2,
       "version_minor": 0
      },
      "text/plain": [
       "Figure(axes=[ColorAxis(orientation='vertical', scale=ColorScale(scheme='Reds'), side='right'), Axis(scale=Ordi…"
      ]
     },
     "metadata": {},
     "output_type": "display_data"
    }
   ],
   "source": [
    "# step 1: define a scale, in this case color\n",
    "col_sc = bqplot.ColorScale(scheme=\"Reds\") # like x/y but color\n",
    "x_sc = bqplot.OrdinalScale() # because bins are more categorical than numerical\n",
    "y_sc = bqplot.OrdinalScale() # ... we are using a 10x10 grid of numbers, these will be bin #\n",
    "\n",
    "# step2: I am ignoring axes for now\n",
    "# first axis will be for color\n",
    "c_ax = bqplot.ColorAxis(scale = col_sc, \n",
    "                       orientation = 'vertical', \n",
    "                       side = 'right')\n",
    "# adding in x/y axis with labels\n",
    "x_ax = bqplot.Axis(scale = x_sc)\n",
    "y_ax = bqplot.Axis(scale = y_sc, orientation='vertical')\n",
    "\n",
    "# step 3: gridheatmap mark\n",
    "heat_map = bqplot.GridHeatMap(color=data, scales={'color':col_sc, \n",
    "                                                 'row': y_sc,\n",
    "                                                 'column': x_sc}, \n",
    "                             interactions={'click':'select'}, # an interaction associated with GHM\n",
    "                             anchor_style = {'fill':'blue'}) \n",
    "\n",
    "# step 4: interaction\n",
    "# -> we actually defined this in the mark making call in step 3\n",
    "# now we have to define what \"action\" happens\n",
    "heat_map.observe(on_selected, 'selected')\n",
    "\n",
    "# step 5: put it all togehter in a figure\n",
    "fig = bqplot.Figure(marks=[heat_map], axes = [c_ax, x_ax, y_ax])\n",
    "fig"
   ]
  },
  {
   "cell_type": "code",
   "execution_count": 36,
   "metadata": {},
   "outputs": [],
   "source": [
    "# update our on_selected function to print out what is actually selected (indices)\n",
    "def on_selected(change):\n",
    "    print(change['owner'].selected) # print heatmap selected key"
   ]
  },
  {
   "cell_type": "code",
   "execution_count": 37,
   "metadata": {},
   "outputs": [
    {
     "data": {
      "application/vnd.jupyter.widget-view+json": {
       "model_id": "3e3738cbd74e479792d00f297ffd35d4",
       "version_major": 2,
       "version_minor": 0
      },
      "text/plain": [
       "Figure(axes=[ColorAxis(orientation='vertical', scale=ColorScale(scheme='Reds'), side='right'), Axis(scale=Ordi…"
      ]
     },
     "metadata": {},
     "output_type": "display_data"
    }
   ],
   "source": [
    "# step 1: define a scale, in this case color\n",
    "col_sc = bqplot.ColorScale(scheme=\"Reds\") # like x/y but color\n",
    "x_sc = bqplot.OrdinalScale() # because bins are more categorical than numerical\n",
    "y_sc = bqplot.OrdinalScale() # ... we are using a 10x10 grid of numbers, these will be bin #\n",
    "\n",
    "# step2: I am ignoring axes for now\n",
    "# first axis will be for color\n",
    "c_ax = bqplot.ColorAxis(scale = col_sc, \n",
    "                       orientation = 'vertical', \n",
    "                       side = 'right')\n",
    "# adding in x/y axis with labels\n",
    "x_ax = bqplot.Axis(scale = x_sc)\n",
    "y_ax = bqplot.Axis(scale = y_sc, orientation='vertical')\n",
    "\n",
    "# step 3: gridheatmap mark\n",
    "heat_map = bqplot.GridHeatMap(color=data, scales={'color':col_sc, \n",
    "                                                 'row': y_sc,\n",
    "                                                 'column': x_sc}, \n",
    "                             interactions={'click':'select'}, # an interaction associated with GHM\n",
    "                             anchor_style = {'fill':'blue'}) \n",
    "\n",
    "# step 4: interaction\n",
    "# -> we actually defined this in the mark making call in step 3\n",
    "# now we have to define what \"action\" happens\n",
    "heat_map.observe(on_selected, 'selected')\n",
    "\n",
    "# step 5: put it all togehter in a figure\n",
    "fig = bqplot.Figure(marks=[heat_map], axes = [c_ax, x_ax, y_ax])\n",
    "fig"
   ]
  },
  {
   "cell_type": "code",
   "execution_count": 38,
   "metadata": {},
   "outputs": [],
   "source": [
    "# we only want to deal with selections of one grid\n",
    "# ignore any SHIFT-selects\n",
    "def on_selected(change):\n",
    "    if len(change['owner'].selected) == 1: # only selecting 1 element at a time\n",
    "        print(change['owner'].selected[0]) # print just the first index selected"
   ]
  },
  {
   "cell_type": "code",
   "execution_count": 39,
   "metadata": {},
   "outputs": [
    {
     "data": {
      "application/vnd.jupyter.widget-view+json": {
       "model_id": "297ab951034a42ca9c23ec63cce6f979",
       "version_major": 2,
       "version_minor": 0
      },
      "text/plain": [
       "Figure(axes=[ColorAxis(orientation='vertical', scale=ColorScale(scheme='Reds'), side='right'), Axis(scale=Ordi…"
      ]
     },
     "metadata": {},
     "output_type": "display_data"
    }
   ],
   "source": [
    "# step 1: define a scale, in this case color\n",
    "col_sc = bqplot.ColorScale(scheme=\"Reds\") # like x/y but color\n",
    "x_sc = bqplot.OrdinalScale() # because bins are more categorical than numerical\n",
    "y_sc = bqplot.OrdinalScale() # ... we are using a 10x10 grid of numbers, these will be bin #\n",
    "\n",
    "# step2: I am ignoring axes for now\n",
    "# first axis will be for color\n",
    "c_ax = bqplot.ColorAxis(scale = col_sc, \n",
    "                       orientation = 'vertical', \n",
    "                       side = 'right')\n",
    "# adding in x/y axis with labels\n",
    "x_ax = bqplot.Axis(scale = x_sc)\n",
    "y_ax = bqplot.Axis(scale = y_sc, orientation='vertical')\n",
    "\n",
    "# step 3: gridheatmap mark\n",
    "heat_map = bqplot.GridHeatMap(color=data, scales={'color':col_sc, \n",
    "                                                 'row': y_sc,\n",
    "                                                 'column': x_sc}, \n",
    "                             interactions={'click':'select'}, # an interaction associated with GHM\n",
    "                             anchor_style = {'fill':'blue'}) \n",
    "\n",
    "# step 4: interaction\n",
    "# -> we actually defined this in the mark making call in step 3\n",
    "# now we have to define what \"action\" happens\n",
    "heat_map.observe(on_selected, 'selected')\n",
    "\n",
    "# step 5: put it all togehter in a figure\n",
    "fig = bqplot.Figure(marks=[heat_map], axes = [c_ax, x_ax, y_ax])\n",
    "fig"
   ]
  },
  {
   "cell_type": "code",
   "execution_count": 40,
   "metadata": {},
   "outputs": [],
   "source": [
    "# Let's grab our datavalue at this location and then set our ipywidget.Label to\n",
    "#.  display this value\n",
    "\n",
    "# we only want to deal with selections of one grid\n",
    "# ignore any SHIFT-selects\n",
    "def on_selected(change):\n",
    "    if len(change['owner'].selected) == 1: # only selecting 1 element at a time\n",
    "        #print(change['owner'].selected[0]) # print just the first index selected\n",
    "        j, i = change['owner'].selected[0] # y & x indicies\n",
    "        v = data[i,j] # x, y indicies, grab data value at this location\n",
    "        mySelectedLabel.value = 'Data Value = ' + str(v) # update widget label with this value"
   ]
  },
  {
   "cell_type": "code",
   "execution_count": 41,
   "metadata": {},
   "outputs": [],
   "source": [
    "# step 1: define a scale, in this case color\n",
    "col_sc = bqplot.ColorScale(scheme=\"Reds\") # like x/y but color\n",
    "x_sc = bqplot.OrdinalScale() # because bins are more categorical than numerical\n",
    "y_sc = bqplot.OrdinalScale() # ... we are using a 10x10 grid of numbers, these will be bin #\n",
    "\n",
    "# step2: I am ignoring axes for now\n",
    "# first axis will be for color\n",
    "c_ax = bqplot.ColorAxis(scale = col_sc, \n",
    "                       orientation = 'vertical', \n",
    "                       side = 'right')\n",
    "# adding in x/y axis with labels\n",
    "x_ax = bqplot.Axis(scale = x_sc)\n",
    "y_ax = bqplot.Axis(scale = y_sc, orientation='vertical')\n",
    "\n",
    "# step 3: gridheatmap mark\n",
    "heat_map = bqplot.GridHeatMap(color=data, scales={'color':col_sc, \n",
    "                                                 'row': y_sc,\n",
    "                                                 'column': x_sc}, \n",
    "                             interactions={'click':'select'}, # an interaction associated with GHM\n",
    "                             anchor_style = {'fill':'blue'}) \n",
    "\n",
    "# step 4: interaction\n",
    "# -> we actually defined this in the mark making call in step 3\n",
    "# now we have to define what \"action\" happens\n",
    "heat_map.observe(on_selected, 'selected')\n",
    "\n",
    "# step 5: put it all togehter in a figure\n",
    "fig = bqplot.Figure(marks=[heat_map], axes = [c_ax, x_ax, y_ax])\n",
    "#fig"
   ]
  },
  {
   "cell_type": "code",
   "execution_count": 42,
   "metadata": {},
   "outputs": [
    {
     "data": {
      "application/vnd.jupyter.widget-view+json": {
       "model_id": "780057250312409b95041f865f82e54f",
       "version_major": 2,
       "version_minor": 0
      },
      "text/plain": [
       "VBox(children=(Label(value='Hi I am widget'), Figure(axes=[ColorAxis(orientation='vertical', scale=ColorScale(…"
      ]
     },
     "metadata": {},
     "output_type": "display_data"
    }
   ],
   "source": [
    "# use a vertical box to stack both the label and the figure\n",
    "myDashboard = ipywidgets.VBox([mySelectedLabel, fig])\n",
    "myDashboard"
   ]
  },
  {
   "cell_type": "markdown",
   "metadata": {},
   "source": [
    "## 3D data -> dashboard"
   ]
  },
  {
   "cell_type": "code",
   "execution_count": 43,
   "metadata": {},
   "outputs": [],
   "source": [
    "data = np.random.random( (10, 10, 20))"
   ]
  },
  {
   "cell_type": "code",
   "execution_count": 44,
   "metadata": {},
   "outputs": [
    {
     "data": {
      "text/plain": [
       "(10, 10, 20)"
      ]
     },
     "execution_count": 44,
     "metadata": {},
     "output_type": "execute_result"
    }
   ],
   "source": [
    "data.shape"
   ]
  },
  {
   "cell_type": "markdown",
   "metadata": {},
   "source": [
    "Starting back with our base heatmap:"
   ]
  },
  {
   "cell_type": "code",
   "execution_count": 45,
   "metadata": {},
   "outputs": [
    {
     "data": {
      "application/vnd.jupyter.widget-view+json": {
       "model_id": "0ff9828dc1624b87a5c1b803e4cbca66",
       "version_major": 2,
       "version_minor": 0
      },
      "text/plain": [
       "Figure(axes=[ColorAxis(orientation='vertical', scale=ColorScale(scheme='Reds'), side='right'), Axis(scale=Ordi…"
      ]
     },
     "metadata": {},
     "output_type": "display_data"
    }
   ],
   "source": [
    "# step 1: define a scale, in this case color\n",
    "col_sc = bqplot.ColorScale(scheme=\"Reds\") # like x/y but color\n",
    "x_sc = bqplot.OrdinalScale() # because bins are more categorical than numerical\n",
    "y_sc = bqplot.OrdinalScale() # .. we are using a 10x10 grid of numbers, these will be bin #\n",
    "\n",
    "# step2: I am ignoring axes for now\n",
    "# first axis will be for color\n",
    "c_ax = bqplot.ColorAxis(scale = col_sc, \n",
    "                       orientation = 'vertical', \n",
    "                       side = 'right')\n",
    "# adding in x/y axis with labels\n",
    "x_ax = bqplot.Axis(scale = x_sc)\n",
    "y_ax = bqplot.Axis(scale = y_sc, orientation='vertical')\n",
    "\n",
    "# step 3: gridheatmap mark\n",
    "heat_map = bqplot.GridHeatMap(color=np.sum(data,axis=2), scales={'color':col_sc, \n",
    "                                                 'row': y_sc,\n",
    "                                                 'column': x_sc}, \n",
    "                             interactions={'click':'select'}, # an interaction associated with GHM\n",
    "                             anchor_style = {'fill':'blue'}) \n",
    "\n",
    "# step 4: interaction\n",
    "# -> we actually defined this in the mark making call in step 3\n",
    "# now we have to define what \"action\" happens\n",
    "heat_map.observe(on_selected, 'selected')\n",
    "\n",
    "# step 5: put it all togehter in a figure\n",
    "fig = bqplot.Figure(marks=[heat_map], axes = [c_ax, x_ax, y_ax])\n",
    "fig"
   ]
  },
  {
   "cell_type": "code",
   "execution_count": 46,
   "metadata": {},
   "outputs": [],
   "source": [
    "mySelectedLabel = ipywidgets.Label()"
   ]
  },
  {
   "cell_type": "code",
   "execution_count": 47,
   "metadata": {},
   "outputs": [],
   "source": [
    "# Let's grab our datavalue at this location and then set our ipywidget.Label to\n",
    "#  display this value\n",
    "\n",
    "# we only want to deal with selections of one grid\n",
    "# ignore any SHIFT-selects\n",
    "def on_selected_3d(change):\n",
    "    if len(change['owner'].selected) == 1: # only selecting 1 element at a time\n",
    "        j, i = change['owner'].selected[0] # y & x indicies\n",
    "        v = data[i,j].sum() # x, y indicies, grab data value at this location\n",
    "        mySelectedLabel.value = 'Data Sum = ' + str(v) # update widget label with this value"
   ]
  },
  {
   "cell_type": "code",
   "execution_count": 48,
   "metadata": {},
   "outputs": [],
   "source": [
    "# step 1: define a scale, in this case color\n",
    "col_sc = bqplot.ColorScale(scheme=\"Reds\") # like x/y but color\n",
    "x_sc = bqplot.OrdinalScale() # because bins are more categorical than numerical\n",
    "y_sc = bqplot.OrdinalScale() # .. we are using a 10x10 grid of numbers, these will be bin #\n",
    "\n",
    "# step2: I am ignoring axes for now\n",
    "# first axis will be for color\n",
    "c_ax = bqplot.ColorAxis(scale = col_sc, \n",
    "                       orientation = 'vertical', \n",
    "                       side = 'right')\n",
    "# adding in x/y axis with labels\n",
    "x_ax = bqplot.Axis(scale = x_sc)\n",
    "y_ax = bqplot.Axis(scale = y_sc, orientation='vertical')\n",
    "\n",
    "# step 3: gridheatmap mark\n",
    "heat_map = bqplot.GridHeatMap(color=np.sum(data,axis=2), scales={'color':col_sc, \n",
    "                                                 'row': y_sc,\n",
    "                                                 'column': x_sc}, \n",
    "                             interactions={'click':'select'}, # an interaction associated with GHM\n",
    "                             anchor_style = {'fill':'blue'}) \n",
    "\n",
    "# step 4: interaction\n",
    "# -> we actually defined this in the mark making call in step 3\n",
    "# now we have to define what \"action\" happens\n",
    "heat_map.observe(on_selected_3d, 'selected')\n",
    "\n",
    "# step 5: put it all togehter in a figure\n",
    "fig = bqplot.Figure(marks=[heat_map], axes = [c_ax, x_ax, y_ax])\n",
    "#fig"
   ]
  },
  {
   "cell_type": "code",
   "execution_count": 49,
   "metadata": {},
   "outputs": [
    {
     "data": {
      "application/vnd.jupyter.widget-view+json": {
       "model_id": "4e4bf312fb764562967647d4e432cbc9",
       "version_major": 2,
       "version_minor": 0
      },
      "text/plain": [
       "VBox(children=(Label(value=''), Figure(axes=[ColorAxis(orientation='vertical', scale=ColorScale(scheme='Reds')…"
      ]
     },
     "metadata": {},
     "output_type": "display_data"
    }
   ],
   "source": [
    "# use a vertical box to stack both the label and the figure\n",
    "myDashboard = ipywidgets.VBox([mySelectedLabel, fig])\n",
    "myDashboard"
   ]
  },
  {
   "cell_type": "markdown",
   "metadata": {},
   "source": [
    "Let's start with just 1 histogram at one x/y index:"
   ]
  },
  {
   "cell_type": "code",
   "execution_count": 50,
   "metadata": {},
   "outputs": [],
   "source": [
    "i, j = 0,0 # selecting the 20 points at x/y = 0,0"
   ]
  },
  {
   "cell_type": "code",
   "execution_count": 51,
   "metadata": {},
   "outputs": [],
   "source": [
    "# step 1: scales for histogram\n",
    "x_sch = bqplot.LinearScale() # range of data along Z -axis => 0->1\n",
    "y_sch = bqplot.LinearScale() # frequency, counts\n",
    "\n",
    "# step 2: axis for histogram\n",
    "x_axh = bqplot.Axis(scale = x_sch, label='Value of 3rd axis')\n",
    "y_axh = bqplot.Axis(scale = y_sch, \n",
    "                   orientation='vertical',\n",
    "                   label = 'Frequency')\n",
    "\n",
    "# step 3: marks => histogram\n",
    "hist = bqplot.Hist(sample=data[i,j,:], # sample is required for mark of Histogram\n",
    "                  normalized=False, # plotting frequency not prob. distribution\n",
    "                  scales={'sample':x_sch, 'count':y_sch}, \n",
    "                  bins=5)"
   ]
  },
  {
   "cell_type": "code",
   "execution_count": 52,
   "metadata": {},
   "outputs": [
    {
     "data": {
      "application/vnd.jupyter.widget-view+json": {
       "model_id": "df01f154bf5d42588cd56702346fb54d",
       "version_major": 2,
       "version_minor": 0
      },
      "text/plain": [
       "Figure(axes=[Axis(label='Value of 3rd axis', scale=LinearScale()), Axis(label='Frequency', orientation='vertic…"
      ]
     },
     "metadata": {},
     "output_type": "display_data"
    }
   ],
   "source": [
    "# let's take a look\n",
    "# step 4: no interactions (because we want changes in gridheapmap to drive changes in hist)\n",
    "\n",
    "# step 5: put it all together\n",
    "fig_hist = bqplot.Figure(marks=[hist], axes=[x_axh, y_axh])\n",
    "fig_hist"
   ]
  },
  {
   "cell_type": "code",
   "execution_count": 53,
   "metadata": {},
   "outputs": [
    {
     "data": {
      "text/plain": [
       "array([0.08236803, 0.53932116, 0.47052122, 0.67774802, 0.02632751,\n",
       "       0.64195532, 0.7847151 , 0.4585094 , 0.34974966, 0.19771164,\n",
       "       0.55261414, 0.34510101, 0.75971594, 0.68545182, 0.85540159,\n",
       "       0.9489088 , 0.94455045, 0.27933821, 0.25540408, 0.14804979])"
      ]
     },
     "execution_count": 53,
     "metadata": {},
     "output_type": "execute_result"
    }
   ],
   "source": [
    "hist.sample"
   ]
  },
  {
   "cell_type": "markdown",
   "metadata": {},
   "source": [
    "We want to update this sample based on what is selected in our GridHeatMap.\n",
    "\n",
    "Define what is happening when we select something:"
   ]
  },
  {
   "cell_type": "code",
   "execution_count": 54,
   "metadata": {},
   "outputs": [],
   "source": [
    "# Let's grab our datavalue at this location and then set our ipywidget.Label to\n",
    "#  display this value\n",
    "\n",
    "# we only want to deal with selections of one grid\n",
    "# ignore any SHIFT-selects\n",
    "def on_selected_3d(change):\n",
    "    if len(change['owner'].selected) == 1: # only selecting 1 element at a time\n",
    "        j, i = change['owner'].selected[0] # y & x indicies\n",
    "        v = data[i,j].sum() # x, y indicies, grab data value at this location\n",
    "        mySelectedLabel.value = 'Data Sum = ' + str(v) # update widget label with this value\n",
    "        # now including updates to the histogram sample key\n",
    "        hist.sample = data[i,j,:]"
   ]
  },
  {
   "cell_type": "markdown",
   "metadata": {},
   "source": [
    "Now create the heat-map and observe for selection => when selection happens update everything else based on the 'selected' trait of the gridheatmap:"
   ]
  },
  {
   "cell_type": "code",
   "execution_count": 55,
   "metadata": {},
   "outputs": [],
   "source": [
    "# step 1: define a scale, in this case color\n",
    "col_sc = bqplot.ColorScale(scheme=\"Reds\") # like x/y but color\n",
    "x_sc = bqplot.OrdinalScale() # because bins are more categorical than numerical\n",
    "y_sc = bqplot.OrdinalScale() # .. we are using a 10x10 grid of numbers, these will be bin #\n",
    "\n",
    "# step2: I am ignoring axes for now\n",
    "# first axis will be for color\n",
    "c_ax = bqplot.ColorAxis(scale = col_sc, \n",
    "                       orientation = 'vertical', \n",
    "                       side = 'right')\n",
    "# adding in x/y axis with labels\n",
    "x_ax = bqplot.Axis(scale = x_sc)\n",
    "y_ax = bqplot.Axis(scale = y_sc, orientation='vertical')\n",
    "\n",
    "# step 3: gridheatmap mark\n",
    "heat_map = bqplot.GridHeatMap(color=np.sum(data,axis=2), scales={'color':col_sc, \n",
    "                                                 'row': y_sc,\n",
    "                                                 'column': x_sc}, \n",
    "                             interactions={'click':'select'}, # an interaction associated with GHM\n",
    "                             anchor_style = {'fill':'blue'}) \n",
    "\n",
    "# step 4: interaction\n",
    "# -> we actually defined this in the mark making call in step 3\n",
    "# now we have to define what \"action\" happens\n",
    "heat_map.observe(on_selected_3d, 'selected')\n",
    "\n",
    "# step 5: put it all togehter in a figure\n",
    "fig = bqplot.Figure(marks=[heat_map], axes = [c_ax, x_ax, y_ax])\n",
    "#fig"
   ]
  },
  {
   "cell_type": "markdown",
   "metadata": {},
   "source": [
    "Just for fun: re-create the histogram:"
   ]
  },
  {
   "cell_type": "code",
   "execution_count": 56,
   "metadata": {},
   "outputs": [],
   "source": [
    "# step 1: scales for histogram\n",
    "x_sch = bqplot.LinearScale() # range of data along Z -axis => 0->1\n",
    "y_sch = bqplot.LinearScale() # frequency, counts\n",
    "\n",
    "# step 2: axis for histogram\n",
    "x_axh = bqplot.Axis(scale = x_sch, label='Value of 3rd axis')\n",
    "y_axh = bqplot.Axis(scale = y_sch, \n",
    "                   orientation='vertical',\n",
    "                   label = 'Frequency')\n",
    "\n",
    "# step 3: marks => histogram\n",
    "hist = bqplot.Hist(sample=data[i,j,:], # sample is required for mark of Histogram\n",
    "                  normalized=False, # plotting frequency not prob. distribution\n",
    "                  scales={'sample':x_sch, 'count':y_sch}, \n",
    "                  bins=5)\n",
    "\n",
    "# let's take a look\n",
    "# step 4: no interactions (because we want changes in gridheapmap to drive changes in hist)\n",
    "\n",
    "# step 5: put it all together\n",
    "fig_hist = bqplot.Figure(marks=[hist], axes=[x_axh, y_axh])"
   ]
  },
  {
   "cell_type": "code",
   "execution_count": 57,
   "metadata": {},
   "outputs": [
    {
     "data": {
      "application/vnd.jupyter.widget-view+json": {
       "model_id": "3832887899a74537b8fd272a406d2c5f",
       "version_major": 2,
       "version_minor": 0
      },
      "text/plain": [
       "VBox(children=(Label(value=''), HBox(children=(Figure(axes=[ColorAxis(orientation='vertical', scale=ColorScale…"
      ]
     },
     "metadata": {},
     "output_type": "display_data"
    }
   ],
   "source": [
    "# layout - nested HBox & VBox\n",
    "figures = ipywidgets.HBox([fig, fig_hist])\n",
    "\n",
    "# change how big my figures appear on my output\n",
    "fig.layout.min_width='400px'\n",
    "fig_hist.layout.min_width='400px'\n",
    "\n",
    "# dashboard\n",
    "myDashboard = ipywidgets.VBox([mySelectedLabel, figures])\n",
    "myDashboard"
   ]
  },
  {
   "cell_type": "code",
   "execution_count": null,
   "metadata": {},
   "outputs": [],
   "source": []
  }
 ],
 "metadata": {
  "kernelspec": {
   "display_name": "Python 3",
   "language": "python",
   "name": "python3"
  },
  "language_info": {
   "codemirror_mode": {
    "name": "ipython",
    "version": 3
   },
   "file_extension": ".py",
   "mimetype": "text/x-python",
   "name": "python",
   "nbconvert_exporter": "python",
   "pygments_lexer": "ipython3",
   "version": "3.8.5"
  }
 },
 "nbformat": 4,
 "nbformat_minor": 4
}
