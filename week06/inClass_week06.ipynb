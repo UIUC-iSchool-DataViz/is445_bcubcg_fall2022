{
 "cells": [
  {
   "cell_type": "markdown",
   "id": "respective-store",
   "metadata": {},
   "source": [
    "# In Class Notebook, Week 06"
   ]
  },
  {
   "cell_type": "markdown",
   "id": "2a597611",
   "metadata": {},
   "source": [
    "You can always access the URL of this notebook: https://github.com/UIUC-iSchool-DataViz/is445_bcubcg_fall2022/blob/master/week06/inClass_week06.ipynb \n",
    "\n",
    "Or post the URL into the nbviewer interface for a plain-text rendering:\n",
    "\n",
    "https://kokes.github.io/nbviewer.js/viewer.html"
   ]
  },
  {
   "cell_type": "code",
   "execution_count": 1,
   "id": "1231d6a1",
   "metadata": {},
   "outputs": [],
   "source": [
    "import pandas as pd\n",
    "import numpy as np\n",
    "import ipywidgets\n",
    "import matplotlib.pyplot as plt\n",
    "import bqplot"
   ]
  },
  {
   "cell_type": "markdown",
   "id": "bdf56364",
   "metadata": {},
   "source": [
    "## Quick review from recording last week"
   ]
  },
  {
   "cell_type": "code",
   "execution_count": 2,
   "id": "2970f37e",
   "metadata": {},
   "outputs": [],
   "source": [
    "# Step 1: data\n",
    "data = np.random.random((10,10))"
   ]
  },
  {
   "cell_type": "code",
   "execution_count": 4,
   "id": "3a277872",
   "metadata": {},
   "outputs": [
    {
     "data": {
      "text/plain": [
       "(10, 10)"
      ]
     },
     "execution_count": 4,
     "metadata": {},
     "output_type": "execute_result"
    }
   ],
   "source": [
    "data.shape"
   ]
  },
  {
   "cell_type": "code",
   "execution_count": 5,
   "id": "ff5b74be",
   "metadata": {},
   "outputs": [],
   "source": [
    "bqplot.GridHeatMap?"
   ]
  },
  {
   "cell_type": "code",
   "execution_count": 6,
   "id": "c08e77fd",
   "metadata": {},
   "outputs": [],
   "source": [
    "bqplot.ColorScale?"
   ]
  },
  {
   "cell_type": "code",
   "execution_count": 7,
   "id": "fdd232ab",
   "metadata": {},
   "outputs": [
    {
     "data": {
      "application/vnd.jupyter.widget-view+json": {
       "model_id": "037f78e4c09b4e40ab222e9a7478f777",
       "version_major": 2,
       "version_minor": 0
      },
      "text/plain": [
       "Figure(fig_margin={'top': 60, 'bottom': 60, 'left': 60, 'right': 60}, marks=[GridHeatMap(color=array([[0.27531…"
      ]
     },
     "metadata": {},
     "output_type": "display_data"
    }
   ],
   "source": [
    "# Step 2: define scales\n",
    "col_sc = bqplot.ColorScale()\n",
    "\n",
    "# Step 3: define our axis -- ignore right now\n",
    "\n",
    "# Step 4: defien marks\n",
    "heat_map = bqplot.GridHeatMap(color=data, scales={'color':col_sc})\n",
    "\n",
    "# Step 5: interactions -- also ignore for now\n",
    "\n",
    "# finally, a figure\n",
    "fig = bqplot.Figure(marks=[heat_map])\n",
    "fig"
   ]
  },
  {
   "cell_type": "code",
   "execution_count": 8,
   "id": "4572630c",
   "metadata": {},
   "outputs": [
    {
     "data": {
      "application/vnd.jupyter.widget-view+json": {
       "model_id": "f8e049963d574781ab707abdb6bc0da3",
       "version_major": 2,
       "version_minor": 0
      },
      "text/plain": [
       "Figure(fig_margin={'top': 60, 'bottom': 60, 'left': 60, 'right': 60}, marks=[GridHeatMap(color=array([[0.27531…"
      ]
     },
     "metadata": {},
     "output_type": "display_data"
    }
   ],
   "source": [
    "# Step 2: define scales\n",
    "col_sc = bqplot.ColorScale(scheme='Greens')\n",
    "\n",
    "# Step 3: define our axis -- ignore right now\n",
    "\n",
    "# Step 4: define marks\n",
    "heat_map = bqplot.GridHeatMap(color=data, scales={'color':col_sc})\n",
    "\n",
    "# Step 5: interactions -- also ignore for now\n",
    "\n",
    "# finally, a figure\n",
    "fig = bqplot.Figure(marks=[heat_map])\n",
    "fig"
   ]
  },
  {
   "cell_type": "code",
   "execution_count": 9,
   "id": "0f41790c",
   "metadata": {},
   "outputs": [],
   "source": [
    "bqplot.ColorAxis?"
   ]
  },
  {
   "cell_type": "code",
   "execution_count": 10,
   "id": "066debca",
   "metadata": {},
   "outputs": [
    {
     "data": {
      "application/vnd.jupyter.widget-view+json": {
       "model_id": "dc982391b26241679641eee0cf42791e",
       "version_major": 2,
       "version_minor": 0
      },
      "text/plain": [
       "Figure(axes=[ColorAxis(orientation='vertical', scale=ColorScale(scheme='Greens'), side='right')], fig_margin={…"
      ]
     },
     "metadata": {},
     "output_type": "display_data"
    }
   ],
   "source": [
    "# Step 2: define scales\n",
    "col_sc = bqplot.ColorScale(scheme='Greens')\n",
    "\n",
    "# Step 3: define our axis\n",
    "col_ax = bqplot.ColorAxis(scale=col_sc, orientation='vertical', side='right')\n",
    "\n",
    "# Step 4: define marks\n",
    "heat_map = bqplot.GridHeatMap(color=data, scales={'color':col_sc})\n",
    "\n",
    "# Step 5: interactions -- also ignore for now\n",
    "\n",
    "# finally, a figure\n",
    "fig = bqplot.Figure(marks=[heat_map], axes=[col_ax])\n",
    "fig"
   ]
  },
  {
   "cell_type": "code",
   "execution_count": 11,
   "id": "a2b0316a",
   "metadata": {},
   "outputs": [],
   "source": [
    "bqplot.OrdinalScale?"
   ]
  },
  {
   "cell_type": "code",
   "execution_count": 13,
   "id": "2a346060",
   "metadata": {},
   "outputs": [
    {
     "data": {
      "application/vnd.jupyter.widget-view+json": {
       "model_id": "acfabb9385ea4e99a574b3072bc54080",
       "version_major": 2,
       "version_minor": 0
      },
      "text/plain": [
       "Figure(axes=[ColorAxis(orientation='vertical', scale=ColorScale(scheme='Greens'), side='right'), Axis(scale=Or…"
      ]
     },
     "metadata": {},
     "output_type": "display_data"
    }
   ],
   "source": [
    "# Step 2: define scales\n",
    "col_sc = bqplot.ColorScale(scheme='Greens')\n",
    "x_sc = bqplot.OrdinalScale()\n",
    "y_sc = bqplot.OrdinalScale()\n",
    "\n",
    "# Step 3: define our axis\n",
    "col_ax = bqplot.ColorAxis(scale=col_sc, orientation='vertical', side='right')\n",
    "x_ax = bqplot.Axis(scale=x_sc)\n",
    "y_ax = bqplot.Axis(scale=y_sc, orientation='vertical')\n",
    "\n",
    "# Step 4: define marks\n",
    "heat_map = bqplot.GridHeatMap(color=data, scales={'color':col_sc, 'row':y_sc, 'column':x_sc})\n",
    "\n",
    "# Step 5: interactions -- also ignore for now\n",
    "\n",
    "# finally, a figure\n",
    "fig = bqplot.Figure(marks=[heat_map], axes=[col_ax,x_ax,y_ax])\n",
    "fig"
   ]
  },
  {
   "cell_type": "code",
   "execution_count": 15,
   "id": "5738625c",
   "metadata": {},
   "outputs": [
    {
     "data": {
      "application/vnd.jupyter.widget-view+json": {
       "model_id": "414f02c002da46798dace947972f0acb",
       "version_major": 2,
       "version_minor": 0
      },
      "text/plain": [
       "Figure(axes=[ColorAxis(orientation='vertical', scale=ColorScale(scheme='Greens'), side='right'), Axis(scale=Or…"
      ]
     },
     "metadata": {},
     "output_type": "display_data"
    }
   ],
   "source": [
    "# Step 2: define scales\n",
    "col_sc = bqplot.ColorScale(scheme='Greens')\n",
    "x_sc = bqplot.OrdinalScale()\n",
    "y_sc = bqplot.OrdinalScale()\n",
    "\n",
    "# Step 3: define our axis\n",
    "col_ax = bqplot.ColorAxis(scale=col_sc, orientation='vertical', side='right')\n",
    "x_ax = bqplot.Axis(scale=x_sc)\n",
    "y_ax = bqplot.Axis(scale=y_sc, orientation='vertical')\n",
    "\n",
    "# Step 4: define marks\n",
    "heat_map = bqplot.GridHeatMap(color=data, scales={'color':col_sc, 'row':y_sc, 'column':x_sc},\n",
    "                             interactions={'click':'select'},\n",
    "                             selected_style={'fill':'magenta'})\n",
    "\n",
    "# Step 5: interactions\n",
    "\n",
    "# finally, a figure\n",
    "fig = bqplot.Figure(marks=[heat_map], axes=[col_ax,x_ax,y_ax])\n",
    "fig"
   ]
  },
  {
   "cell_type": "code",
   "execution_count": 16,
   "id": "de1bf31e",
   "metadata": {},
   "outputs": [
    {
     "data": {
      "text/plain": [
       "['_model_module',\n",
       " '_model_module_version',\n",
       " '_model_name',\n",
       " '_view_count',\n",
       " '_view_module',\n",
       " '_view_module_version',\n",
       " '_view_name',\n",
       " 'anchor_style',\n",
       " 'apply_clip',\n",
       " 'color',\n",
       " 'column',\n",
       " 'column_align',\n",
       " 'display_format',\n",
       " 'display_legend',\n",
       " 'enable_hover',\n",
       " 'font_style',\n",
       " 'interactions',\n",
       " 'labels',\n",
       " 'null_color',\n",
       " 'opacity',\n",
       " 'preserve_domain',\n",
       " 'row',\n",
       " 'row_align',\n",
       " 'scales',\n",
       " 'scales_metadata',\n",
       " 'selected',\n",
       " 'selected_style',\n",
       " 'stroke',\n",
       " 'tooltip',\n",
       " 'tooltip_location',\n",
       " 'tooltip_style',\n",
       " 'unselected_style',\n",
       " 'visible']"
      ]
     },
     "execution_count": 16,
     "metadata": {},
     "output_type": "execute_result"
    }
   ],
   "source": [
    "heat_map.keys"
   ]
  },
  {
   "cell_type": "code",
   "execution_count": 18,
   "id": "97760450",
   "metadata": {},
   "outputs": [
    {
     "data": {
      "text/plain": [
       "array([[2, 1]])"
      ]
     },
     "execution_count": 18,
     "metadata": {},
     "output_type": "execute_result"
    }
   ],
   "source": [
    "heat_map.selected"
   ]
  },
  {
   "cell_type": "code",
   "execution_count": 19,
   "id": "172876a0",
   "metadata": {},
   "outputs": [],
   "source": [
    "def on_selected(change):\n",
    "    print(change)"
   ]
  },
  {
   "cell_type": "code",
   "execution_count": 20,
   "id": "72373dfc",
   "metadata": {},
   "outputs": [
    {
     "data": {
      "application/vnd.jupyter.widget-view+json": {
       "model_id": "7e7471f2921344d5b2e15afee834d2a2",
       "version_major": 2,
       "version_minor": 0
      },
      "text/plain": [
       "Figure(axes=[ColorAxis(orientation='vertical', scale=ColorScale(scheme='Greens'), side='right'), Axis(scale=Or…"
      ]
     },
     "metadata": {},
     "output_type": "display_data"
    },
    {
     "name": "stdout",
     "output_type": "stream",
     "text": [
      "{'name': 'selected', 'old': None, 'new': array([[2, 2]]), 'owner': GridHeatMap(color=array([[0.27531265, 0.97925689, 0.17876959, 0.31435629, 0.34298199,\n",
      "        0.18930713, 0.3980785 , 0.49119594, 0.15111856, 0.95393713],\n",
      "       [0.25814584, 0.87138735, 0.6611456 , 0.93854362, 0.70081037,\n",
      "        0.94525011, 0.81874894, 0.7552403 , 0.30715503, 0.47762942],\n",
      "       [0.75309501, 0.07768045, 0.98737034, 0.68765784, 0.25105678,\n",
      "        0.3508429 , 0.4730336 , 0.97845577, 0.914496  , 0.15110906],\n",
      "       [0.71736885, 0.22335415, 0.98448271, 0.05456288, 0.24748977,\n",
      "        0.86375856, 0.11782623, 0.09663626, 0.89093422, 0.69493642],\n",
      "       [0.71915883, 0.34589913, 0.26843566, 0.65643454, 0.17711863,\n",
      "        0.54239279, 0.22771757, 0.62434974, 0.16783129, 0.44128787],\n",
      "       [0.7175395 , 0.58292037, 0.81196601, 0.17438552, 0.72422618,\n",
      "        0.62577996, 0.54679991, 0.24499123, 0.05786865, 0.19521742],\n",
      "       [0.67068352, 0.66363339, 0.40389108, 0.69840189, 0.80240875,\n",
      "        0.85606823, 0.78796611, 0.95168171, 0.40767191, 0.99512775],\n",
      "       [0.30037343, 0.60400594, 0.2592779 , 0.54126265, 0.03527677,\n",
      "        0.41581908, 0.27400596, 0.97013942, 0.01010665, 0.57284728],\n",
      "       [0.10796384, 0.79061516, 0.84209346, 0.95597016, 0.50428057,\n",
      "        0.20477813, 0.73224127, 0.54240604, 0.17127822, 0.24229507],\n",
      "       [0.58296848, 0.10059816, 0.36174869, 0.56564477, 0.00118618,\n",
      "        0.1185228 , 0.05984525, 0.06933254, 0.47449698, 0.45553381]]), interactions={'click': 'select'}, scales={'color': ColorScale(scheme='Greens'), 'row': OrdinalScale(), 'column': OrdinalScale()}, scales_metadata={'row': {'orientation': 'vertical', 'dimension': 'y'}, 'column': {'orientation': 'horizontal', 'dimension': 'x'}, 'color': {'dimension': 'color'}}, selected=array([[2, 2]]), selected_style={'fill': 'magenta'}, tooltip_style={'opacity': 0.9}), 'type': 'change'}\n",
      "{'name': 'selected', 'old': array([[2, 2]]), 'new': array([[3, 3]]), 'owner': GridHeatMap(color=array([[0.27531265, 0.97925689, 0.17876959, 0.31435629, 0.34298199,\n",
      "        0.18930713, 0.3980785 , 0.49119594, 0.15111856, 0.95393713],\n",
      "       [0.25814584, 0.87138735, 0.6611456 , 0.93854362, 0.70081037,\n",
      "        0.94525011, 0.81874894, 0.7552403 , 0.30715503, 0.47762942],\n",
      "       [0.75309501, 0.07768045, 0.98737034, 0.68765784, 0.25105678,\n",
      "        0.3508429 , 0.4730336 , 0.97845577, 0.914496  , 0.15110906],\n",
      "       [0.71736885, 0.22335415, 0.98448271, 0.05456288, 0.24748977,\n",
      "        0.86375856, 0.11782623, 0.09663626, 0.89093422, 0.69493642],\n",
      "       [0.71915883, 0.34589913, 0.26843566, 0.65643454, 0.17711863,\n",
      "        0.54239279, 0.22771757, 0.62434974, 0.16783129, 0.44128787],\n",
      "       [0.7175395 , 0.58292037, 0.81196601, 0.17438552, 0.72422618,\n",
      "        0.62577996, 0.54679991, 0.24499123, 0.05786865, 0.19521742],\n",
      "       [0.67068352, 0.66363339, 0.40389108, 0.69840189, 0.80240875,\n",
      "        0.85606823, 0.78796611, 0.95168171, 0.40767191, 0.99512775],\n",
      "       [0.30037343, 0.60400594, 0.2592779 , 0.54126265, 0.03527677,\n",
      "        0.41581908, 0.27400596, 0.97013942, 0.01010665, 0.57284728],\n",
      "       [0.10796384, 0.79061516, 0.84209346, 0.95597016, 0.50428057,\n",
      "        0.20477813, 0.73224127, 0.54240604, 0.17127822, 0.24229507],\n",
      "       [0.58296848, 0.10059816, 0.36174869, 0.56564477, 0.00118618,\n",
      "        0.1185228 , 0.05984525, 0.06933254, 0.47449698, 0.45553381]]), interactions={'click': 'select'}, scales={'color': ColorScale(scheme='Greens'), 'row': OrdinalScale(), 'column': OrdinalScale()}, scales_metadata={'row': {'orientation': 'vertical', 'dimension': 'y'}, 'column': {'orientation': 'horizontal', 'dimension': 'x'}, 'color': {'dimension': 'color'}}, selected=array([[3, 3]]), selected_style={'fill': 'magenta'}, tooltip_style={'opacity': 0.9}), 'type': 'change'}\n"
     ]
    }
   ],
   "source": [
    "# Step 2: define scales\n",
    "col_sc = bqplot.ColorScale(scheme='Greens')\n",
    "x_sc = bqplot.OrdinalScale()\n",
    "y_sc = bqplot.OrdinalScale()\n",
    "\n",
    "# Step 3: define our axis\n",
    "col_ax = bqplot.ColorAxis(scale=col_sc, orientation='vertical', side='right')\n",
    "x_ax = bqplot.Axis(scale=x_sc)\n",
    "y_ax = bqplot.Axis(scale=y_sc, orientation='vertical')\n",
    "\n",
    "# Step 4: define marks\n",
    "heat_map = bqplot.GridHeatMap(color=data, scales={'color':col_sc, 'row':y_sc, 'column':x_sc},\n",
    "                             interactions={'click':'select'},\n",
    "                             selected_style={'fill':'magenta'})\n",
    "\n",
    "# Step 5: interactions\n",
    "heat_map.observe(on_selected, 'selected')\n",
    "\n",
    "# finally, a figure\n",
    "fig = bqplot.Figure(marks=[heat_map], axes=[col_ax,x_ax,y_ax])\n",
    "fig"
   ]
  },
  {
   "cell_type": "code",
   "execution_count": 21,
   "id": "2ec849ad",
   "metadata": {},
   "outputs": [
    {
     "data": {
      "application/vnd.jupyter.widget-view+json": {
       "model_id": "7cd08397599648d3a079d349a106a456",
       "version_major": 2,
       "version_minor": 0
      },
      "text/plain": [
       "Figure(axes=[ColorAxis(orientation='vertical', scale=ColorScale(scheme='Greens'), side='right'), Axis(scale=Or…"
      ]
     },
     "metadata": {},
     "output_type": "display_data"
    },
    {
     "name": "stdout",
     "output_type": "stream",
     "text": [
      "[[2 1]]\n",
      "[[1 2]]\n",
      "[[0 3]]\n",
      "[[2 3]]\n",
      "[[2 4]\n",
      " [2 3]]\n",
      "[[1 4]\n",
      " [1 3]\n",
      " [2 3]\n",
      " [2 4]]\n",
      "[[0 4]\n",
      " [0 3]\n",
      " [1 3]\n",
      " [1 4]\n",
      " [2 3]\n",
      " [2 4]]\n",
      "[[3 4]]\n",
      "[[0 5]]\n"
     ]
    }
   ],
   "source": [
    "def on_selected(change):\n",
    "    print(change['owner'].selected)\n",
    "    \n",
    "# Step 2: define scales\n",
    "col_sc = bqplot.ColorScale(scheme='Greens')\n",
    "x_sc = bqplot.OrdinalScale()\n",
    "y_sc = bqplot.OrdinalScale()\n",
    "\n",
    "# Step 3: define our axis\n",
    "col_ax = bqplot.ColorAxis(scale=col_sc, orientation='vertical', side='right')\n",
    "x_ax = bqplot.Axis(scale=x_sc)\n",
    "y_ax = bqplot.Axis(scale=y_sc, orientation='vertical')\n",
    "\n",
    "# Step 4: define marks\n",
    "heat_map = bqplot.GridHeatMap(color=data, scales={'color':col_sc, 'row':y_sc, 'column':x_sc},\n",
    "                             interactions={'click':'select'},\n",
    "                             selected_style={'fill':'magenta'})\n",
    "\n",
    "# Step 5: interactions\n",
    "heat_map.observe(on_selected, 'selected')\n",
    "\n",
    "# finally, a figure\n",
    "fig = bqplot.Figure(marks=[heat_map], axes=[col_ax,x_ax,y_ax])\n",
    "fig"
   ]
  },
  {
   "cell_type": "code",
   "execution_count": 22,
   "id": "0dd8934e",
   "metadata": {},
   "outputs": [
    {
     "data": {
      "application/vnd.jupyter.widget-view+json": {
       "model_id": "a0d76fbe20024a5cb6bb0e9c66da3fe5",
       "version_major": 2,
       "version_minor": 0
      },
      "text/plain": [
       "Figure(axes=[ColorAxis(orientation='vertical', scale=ColorScale(scheme='Greens'), side='right'), Axis(scale=Or…"
      ]
     },
     "metadata": {},
     "output_type": "display_data"
    }
   ],
   "source": [
    "def on_selected(change):\n",
    "    if len(change['owner'].selected) == 1: # no regions, only single bins selected\n",
    "        print(change['owner'].selected[0])\n",
    "    \n",
    "# Step 2: define scales\n",
    "col_sc = bqplot.ColorScale(scheme='Greens')\n",
    "x_sc = bqplot.OrdinalScale()\n",
    "y_sc = bqplot.OrdinalScale()\n",
    "\n",
    "# Step 3: define our axis\n",
    "col_ax = bqplot.ColorAxis(scale=col_sc, orientation='vertical', side='right')\n",
    "x_ax = bqplot.Axis(scale=x_sc)\n",
    "y_ax = bqplot.Axis(scale=y_sc, orientation='vertical')\n",
    "\n",
    "# Step 4: define marks\n",
    "heat_map = bqplot.GridHeatMap(color=data, scales={'color':col_sc, 'row':y_sc, 'column':x_sc},\n",
    "                             interactions={'click':'select'},\n",
    "                             selected_style={'fill':'magenta'})\n",
    "\n",
    "# Step 5: interactions\n",
    "heat_map.observe(on_selected, 'selected')\n",
    "\n",
    "# finally, a figure\n",
    "fig = bqplot.Figure(marks=[heat_map], axes=[col_ax,x_ax,y_ax])\n",
    "fig"
   ]
  },
  {
   "cell_type": "code",
   "execution_count": null,
   "id": "8e4c57d2",
   "metadata": {},
   "outputs": [],
   "source": []
  }
 ],
 "metadata": {
  "kernelspec": {
   "display_name": "Python 3 (ipykernel)",
   "language": "python",
   "name": "python3"
  },
  "language_info": {
   "codemirror_mode": {
    "name": "ipython",
    "version": 3
   },
   "file_extension": ".py",
   "mimetype": "text/x-python",
   "name": "python",
   "nbconvert_exporter": "python",
   "pygments_lexer": "ipython3",
   "version": "3.7.12"
  }
 },
 "nbformat": 4,
 "nbformat_minor": 5
}
