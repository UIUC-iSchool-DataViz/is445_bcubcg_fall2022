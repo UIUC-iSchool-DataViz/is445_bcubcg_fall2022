{
 "cells": [
  {
   "cell_type": "markdown",
   "id": "respective-store",
   "metadata": {},
   "source": [
    "# In Class Notebook, Week 06"
   ]
  },
  {
   "cell_type": "markdown",
   "id": "2a597611",
   "metadata": {},
   "source": [
    "You can always access the URL of this notebook: https://github.com/UIUC-iSchool-DataViz/is445_bcubcg_fall2022/blob/master/week06/inClass_week06.ipynb \n",
    "\n",
    "Or post the URL into the nbviewer interface for a plain-text rendering:\n",
    "\n",
    "https://kokes.github.io/nbviewer.js/viewer.html"
   ]
  },
  {
   "cell_type": "code",
   "execution_count": 1,
   "id": "1231d6a1",
   "metadata": {},
   "outputs": [],
   "source": [
    "import pandas as pd\n",
    "import numpy as np\n",
    "import ipywidgets\n",
    "import matplotlib.pyplot as plt\n",
    "import bqplot"
   ]
  },
  {
   "cell_type": "markdown",
   "id": "480258b9",
   "metadata": {},
   "source": [
    "## Quick review from recording last week"
   ]
  },
  {
   "cell_type": "code",
   "execution_count": 2,
   "id": "83686c8d",
   "metadata": {},
   "outputs": [],
   "source": [
    "# Step 1: data\n",
    "data = np.random.random((10,10))"
   ]
  },
  {
   "cell_type": "code",
   "execution_count": 4,
   "id": "46168ae0",
   "metadata": {},
   "outputs": [
    {
     "data": {
      "text/plain": [
       "(10, 10)"
      ]
     },
     "execution_count": 4,
     "metadata": {},
     "output_type": "execute_result"
    }
   ],
   "source": [
    "data.shape"
   ]
  },
  {
   "cell_type": "code",
   "execution_count": 5,
   "id": "08fefc83",
   "metadata": {},
   "outputs": [],
   "source": [
    "bqplot.GridHeatMap?"
   ]
  },
  {
   "cell_type": "code",
   "execution_count": 6,
   "id": "78d33151",
   "metadata": {},
   "outputs": [],
   "source": [
    "bqplot.ColorScale?"
   ]
  },
  {
   "cell_type": "code",
   "execution_count": 7,
   "id": "3faa8fb7",
   "metadata": {},
   "outputs": [
    {
     "data": {
      "application/vnd.jupyter.widget-view+json": {
       "model_id": "037f78e4c09b4e40ab222e9a7478f777",
       "version_major": 2,
       "version_minor": 0
      },
      "text/plain": [
       "Figure(fig_margin={'top': 60, 'bottom': 60, 'left': 60, 'right': 60}, marks=[GridHeatMap(color=array([[0.27531…"
      ]
     },
     "metadata": {},
     "output_type": "display_data"
    }
   ],
   "source": [
    "# Step 2: define scales\n",
    "col_sc = bqplot.ColorScale()\n",
    "\n",
    "# Step 3: define our axis -- ignore right now\n",
    "\n",
    "# Step 4: defien marks\n",
    "heat_map = bqplot.GridHeatMap(color=data, scales={'color':col_sc})\n",
    "\n",
    "# Step 5: interactions -- also ignore for now\n",
    "\n",
    "# finally, a figure\n",
    "fig = bqplot.Figure(marks=[heat_map])\n",
    "fig"
   ]
  },
  {
   "cell_type": "code",
   "execution_count": 8,
   "id": "fff7758f",
   "metadata": {},
   "outputs": [
    {
     "data": {
      "application/vnd.jupyter.widget-view+json": {
       "model_id": "f8e049963d574781ab707abdb6bc0da3",
       "version_major": 2,
       "version_minor": 0
      },
      "text/plain": [
       "Figure(fig_margin={'top': 60, 'bottom': 60, 'left': 60, 'right': 60}, marks=[GridHeatMap(color=array([[0.27531…"
      ]
     },
     "metadata": {},
     "output_type": "display_data"
    }
   ],
   "source": [
    "# Step 2: define scales\n",
    "col_sc = bqplot.ColorScale(scheme='Greens')\n",
    "\n",
    "# Step 3: define our axis -- ignore right now\n",
    "\n",
    "# Step 4: define marks\n",
    "heat_map = bqplot.GridHeatMap(color=data, scales={'color':col_sc})\n",
    "\n",
    "# Step 5: interactions -- also ignore for now\n",
    "\n",
    "# finally, a figure\n",
    "fig = bqplot.Figure(marks=[heat_map])\n",
    "fig"
   ]
  },
  {
   "cell_type": "code",
   "execution_count": 9,
   "id": "2e7511b8",
   "metadata": {},
   "outputs": [],
   "source": [
    "bqplot.ColorAxis?"
   ]
  },
  {
   "cell_type": "code",
   "execution_count": 10,
   "id": "fddbfe6f",
   "metadata": {},
   "outputs": [
    {
     "data": {
      "application/vnd.jupyter.widget-view+json": {
       "model_id": "dc982391b26241679641eee0cf42791e",
       "version_major": 2,
       "version_minor": 0
      },
      "text/plain": [
       "Figure(axes=[ColorAxis(orientation='vertical', scale=ColorScale(scheme='Greens'), side='right')], fig_margin={…"
      ]
     },
     "metadata": {},
     "output_type": "display_data"
    }
   ],
   "source": [
    "# Step 2: define scales\n",
    "col_sc = bqplot.ColorScale(scheme='Greens')\n",
    "\n",
    "# Step 3: define our axis\n",
    "col_ax = bqplot.ColorAxis(scale=col_sc, orientation='vertical', side='right')\n",
    "\n",
    "# Step 4: define marks\n",
    "heat_map = bqplot.GridHeatMap(color=data, scales={'color':col_sc})\n",
    "\n",
    "# Step 5: interactions -- also ignore for now\n",
    "\n",
    "# finally, a figure\n",
    "fig = bqplot.Figure(marks=[heat_map], axes=[col_ax])\n",
    "fig"
   ]
  },
  {
   "cell_type": "code",
   "execution_count": 11,
   "id": "c3c7d8a3",
   "metadata": {},
   "outputs": [],
   "source": [
    "bqplot.OrdinalScale?"
   ]
  },
  {
   "cell_type": "code",
   "execution_count": 13,
   "id": "372f8e0d",
   "metadata": {},
   "outputs": [
    {
     "data": {
      "application/vnd.jupyter.widget-view+json": {
       "model_id": "acfabb9385ea4e99a574b3072bc54080",
       "version_major": 2,
       "version_minor": 0
      },
      "text/plain": [
       "Figure(axes=[ColorAxis(orientation='vertical', scale=ColorScale(scheme='Greens'), side='right'), Axis(scale=Or…"
      ]
     },
     "metadata": {},
     "output_type": "display_data"
    }
   ],
   "source": [
    "# Step 2: define scales\n",
    "col_sc = bqplot.ColorScale(scheme='Greens')\n",
    "x_sc = bqplot.OrdinalScale()\n",
    "y_sc = bqplot.OrdinalScale()\n",
    "\n",
    "# Step 3: define our axis\n",
    "col_ax = bqplot.ColorAxis(scale=col_sc, orientation='vertical', side='right')\n",
    "x_ax = bqplot.Axis(scale=x_sc)\n",
    "y_ax = bqplot.Axis(scale=y_sc, orientation='vertical')\n",
    "\n",
    "# Step 4: define marks\n",
    "heat_map = bqplot.GridHeatMap(color=data, scales={'color':col_sc, 'row':y_sc, 'column':x_sc})\n",
    "\n",
    "# Step 5: interactions -- also ignore for now\n",
    "\n",
    "# finally, a figure\n",
    "fig = bqplot.Figure(marks=[heat_map], axes=[col_ax,x_ax,y_ax])\n",
    "fig"
   ]
  },
  {
   "cell_type": "code",
   "execution_count": 15,
   "id": "71f5d6c7",
   "metadata": {},
   "outputs": [
    {
     "data": {
      "application/vnd.jupyter.widget-view+json": {
       "model_id": "414f02c002da46798dace947972f0acb",
       "version_major": 2,
       "version_minor": 0
      },
      "text/plain": [
       "Figure(axes=[ColorAxis(orientation='vertical', scale=ColorScale(scheme='Greens'), side='right'), Axis(scale=Or…"
      ]
     },
     "metadata": {},
     "output_type": "display_data"
    }
   ],
   "source": [
    "# Step 2: define scales\n",
    "col_sc = bqplot.ColorScale(scheme='Greens')\n",
    "x_sc = bqplot.OrdinalScale()\n",
    "y_sc = bqplot.OrdinalScale()\n",
    "\n",
    "# Step 3: define our axis\n",
    "col_ax = bqplot.ColorAxis(scale=col_sc, orientation='vertical', side='right')\n",
    "x_ax = bqplot.Axis(scale=x_sc)\n",
    "y_ax = bqplot.Axis(scale=y_sc, orientation='vertical')\n",
    "\n",
    "# Step 4: define marks\n",
    "heat_map = bqplot.GridHeatMap(color=data, scales={'color':col_sc, 'row':y_sc, 'column':x_sc},\n",
    "                             interactions={'click':'select'},\n",
    "                             selected_style={'fill':'magenta'})\n",
    "\n",
    "# Step 5: interactions\n",
    "\n",
    "# finally, a figure\n",
    "fig = bqplot.Figure(marks=[heat_map], axes=[col_ax,x_ax,y_ax])\n",
    "fig"
   ]
  },
  {
   "cell_type": "code",
   "execution_count": 16,
   "id": "f45a0980",
   "metadata": {},
   "outputs": [
    {
     "data": {
      "text/plain": [
       "['_model_module',\n",
       " '_model_module_version',\n",
       " '_model_name',\n",
       " '_view_count',\n",
       " '_view_module',\n",
       " '_view_module_version',\n",
       " '_view_name',\n",
       " 'anchor_style',\n",
       " 'apply_clip',\n",
       " 'color',\n",
       " 'column',\n",
       " 'column_align',\n",
       " 'display_format',\n",
       " 'display_legend',\n",
       " 'enable_hover',\n",
       " 'font_style',\n",
       " 'interactions',\n",
       " 'labels',\n",
       " 'null_color',\n",
       " 'opacity',\n",
       " 'preserve_domain',\n",
       " 'row',\n",
       " 'row_align',\n",
       " 'scales',\n",
       " 'scales_metadata',\n",
       " 'selected',\n",
       " 'selected_style',\n",
       " 'stroke',\n",
       " 'tooltip',\n",
       " 'tooltip_location',\n",
       " 'tooltip_style',\n",
       " 'unselected_style',\n",
       " 'visible']"
      ]
     },
     "execution_count": 16,
     "metadata": {},
     "output_type": "execute_result"
    }
   ],
   "source": [
    "heat_map.keys"
   ]
  },
  {
   "cell_type": "code",
   "execution_count": 18,
   "id": "294a439a",
   "metadata": {},
   "outputs": [
    {
     "data": {
      "text/plain": [
       "array([[2, 1]])"
      ]
     },
     "execution_count": 18,
     "metadata": {},
     "output_type": "execute_result"
    }
   ],
   "source": [
    "heat_map.selected"
   ]
  },
  {
   "cell_type": "code",
   "execution_count": 19,
   "id": "46834d6a",
   "metadata": {},
   "outputs": [],
   "source": [
    "def on_selected(change):\n",
    "    print(change)"
   ]
  },
  {
   "cell_type": "code",
   "execution_count": 20,
   "id": "6f9fecbe",
   "metadata": {},
   "outputs": [
    {
     "data": {
      "application/vnd.jupyter.widget-view+json": {
       "model_id": "7e7471f2921344d5b2e15afee834d2a2",
       "version_major": 2,
       "version_minor": 0
      },
      "text/plain": [
       "Figure(axes=[ColorAxis(orientation='vertical', scale=ColorScale(scheme='Greens'), side='right'), Axis(scale=Or…"
      ]
     },
     "metadata": {},
     "output_type": "display_data"
    },
    {
     "name": "stdout",
     "output_type": "stream",
     "text": [
      "{'name': 'selected', 'old': None, 'new': array([[2, 2]]), 'owner': GridHeatMap(color=array([[0.27531265, 0.97925689, 0.17876959, 0.31435629, 0.34298199,\n",
      "        0.18930713, 0.3980785 , 0.49119594, 0.15111856, 0.95393713],\n",
      "       [0.25814584, 0.87138735, 0.6611456 , 0.93854362, 0.70081037,\n",
      "        0.94525011, 0.81874894, 0.7552403 , 0.30715503, 0.47762942],\n",
      "       [0.75309501, 0.07768045, 0.98737034, 0.68765784, 0.25105678,\n",
      "        0.3508429 , 0.4730336 , 0.97845577, 0.914496  , 0.15110906],\n",
      "       [0.71736885, 0.22335415, 0.98448271, 0.05456288, 0.24748977,\n",
      "        0.86375856, 0.11782623, 0.09663626, 0.89093422, 0.69493642],\n",
      "       [0.71915883, 0.34589913, 0.26843566, 0.65643454, 0.17711863,\n",
      "        0.54239279, 0.22771757, 0.62434974, 0.16783129, 0.44128787],\n",
      "       [0.7175395 , 0.58292037, 0.81196601, 0.17438552, 0.72422618,\n",
      "        0.62577996, 0.54679991, 0.24499123, 0.05786865, 0.19521742],\n",
      "       [0.67068352, 0.66363339, 0.40389108, 0.69840189, 0.80240875,\n",
      "        0.85606823, 0.78796611, 0.95168171, 0.40767191, 0.99512775],\n",
      "       [0.30037343, 0.60400594, 0.2592779 , 0.54126265, 0.03527677,\n",
      "        0.41581908, 0.27400596, 0.97013942, 0.01010665, 0.57284728],\n",
      "       [0.10796384, 0.79061516, 0.84209346, 0.95597016, 0.50428057,\n",
      "        0.20477813, 0.73224127, 0.54240604, 0.17127822, 0.24229507],\n",
      "       [0.58296848, 0.10059816, 0.36174869, 0.56564477, 0.00118618,\n",
      "        0.1185228 , 0.05984525, 0.06933254, 0.47449698, 0.45553381]]), interactions={'click': 'select'}, scales={'color': ColorScale(scheme='Greens'), 'row': OrdinalScale(), 'column': OrdinalScale()}, scales_metadata={'row': {'orientation': 'vertical', 'dimension': 'y'}, 'column': {'orientation': 'horizontal', 'dimension': 'x'}, 'color': {'dimension': 'color'}}, selected=array([[2, 2]]), selected_style={'fill': 'magenta'}, tooltip_style={'opacity': 0.9}), 'type': 'change'}\n",
      "{'name': 'selected', 'old': array([[2, 2]]), 'new': array([[3, 3]]), 'owner': GridHeatMap(color=array([[0.27531265, 0.97925689, 0.17876959, 0.31435629, 0.34298199,\n",
      "        0.18930713, 0.3980785 , 0.49119594, 0.15111856, 0.95393713],\n",
      "       [0.25814584, 0.87138735, 0.6611456 , 0.93854362, 0.70081037,\n",
      "        0.94525011, 0.81874894, 0.7552403 , 0.30715503, 0.47762942],\n",
      "       [0.75309501, 0.07768045, 0.98737034, 0.68765784, 0.25105678,\n",
      "        0.3508429 , 0.4730336 , 0.97845577, 0.914496  , 0.15110906],\n",
      "       [0.71736885, 0.22335415, 0.98448271, 0.05456288, 0.24748977,\n",
      "        0.86375856, 0.11782623, 0.09663626, 0.89093422, 0.69493642],\n",
      "       [0.71915883, 0.34589913, 0.26843566, 0.65643454, 0.17711863,\n",
      "        0.54239279, 0.22771757, 0.62434974, 0.16783129, 0.44128787],\n",
      "       [0.7175395 , 0.58292037, 0.81196601, 0.17438552, 0.72422618,\n",
      "        0.62577996, 0.54679991, 0.24499123, 0.05786865, 0.19521742],\n",
      "       [0.67068352, 0.66363339, 0.40389108, 0.69840189, 0.80240875,\n",
      "        0.85606823, 0.78796611, 0.95168171, 0.40767191, 0.99512775],\n",
      "       [0.30037343, 0.60400594, 0.2592779 , 0.54126265, 0.03527677,\n",
      "        0.41581908, 0.27400596, 0.97013942, 0.01010665, 0.57284728],\n",
      "       [0.10796384, 0.79061516, 0.84209346, 0.95597016, 0.50428057,\n",
      "        0.20477813, 0.73224127, 0.54240604, 0.17127822, 0.24229507],\n",
      "       [0.58296848, 0.10059816, 0.36174869, 0.56564477, 0.00118618,\n",
      "        0.1185228 , 0.05984525, 0.06933254, 0.47449698, 0.45553381]]), interactions={'click': 'select'}, scales={'color': ColorScale(scheme='Greens'), 'row': OrdinalScale(), 'column': OrdinalScale()}, scales_metadata={'row': {'orientation': 'vertical', 'dimension': 'y'}, 'column': {'orientation': 'horizontal', 'dimension': 'x'}, 'color': {'dimension': 'color'}}, selected=array([[3, 3]]), selected_style={'fill': 'magenta'}, tooltip_style={'opacity': 0.9}), 'type': 'change'}\n"
     ]
    }
   ],
   "source": [
    "# Step 2: define scales\n",
    "col_sc = bqplot.ColorScale(scheme='Greens')\n",
    "x_sc = bqplot.OrdinalScale()\n",
    "y_sc = bqplot.OrdinalScale()\n",
    "\n",
    "# Step 3: define our axis\n",
    "col_ax = bqplot.ColorAxis(scale=col_sc, orientation='vertical', side='right')\n",
    "x_ax = bqplot.Axis(scale=x_sc)\n",
    "y_ax = bqplot.Axis(scale=y_sc, orientation='vertical')\n",
    "\n",
    "# Step 4: define marks\n",
    "heat_map = bqplot.GridHeatMap(color=data, scales={'color':col_sc, 'row':y_sc, 'column':x_sc},\n",
    "                             interactions={'click':'select'},\n",
    "                             selected_style={'fill':'magenta'})\n",
    "\n",
    "# Step 5: interactions\n",
    "heat_map.observe(on_selected, 'selected')\n",
    "\n",
    "# finally, a figure\n",
    "fig = bqplot.Figure(marks=[heat_map], axes=[col_ax,x_ax,y_ax])\n",
    "fig"
   ]
  },
  {
   "cell_type": "code",
   "execution_count": 21,
   "id": "59eac734",
   "metadata": {},
   "outputs": [
    {
     "data": {
      "application/vnd.jupyter.widget-view+json": {
       "model_id": "7cd08397599648d3a079d349a106a456",
       "version_major": 2,
       "version_minor": 0
      },
      "text/plain": [
       "Figure(axes=[ColorAxis(orientation='vertical', scale=ColorScale(scheme='Greens'), side='right'), Axis(scale=Or…"
      ]
     },
     "metadata": {},
     "output_type": "display_data"
    },
    {
     "name": "stdout",
     "output_type": "stream",
     "text": [
      "[[2 1]]\n",
      "[[1 2]]\n",
      "[[0 3]]\n",
      "[[2 3]]\n",
      "[[2 4]\n",
      " [2 3]]\n",
      "[[1 4]\n",
      " [1 3]\n",
      " [2 3]\n",
      " [2 4]]\n",
      "[[0 4]\n",
      " [0 3]\n",
      " [1 3]\n",
      " [1 4]\n",
      " [2 3]\n",
      " [2 4]]\n",
      "[[3 4]]\n",
      "[[0 5]]\n"
     ]
    }
   ],
   "source": [
    "def on_selected(change):\n",
    "    print(change['owner'].selected)\n",
    "    \n",
    "# Step 2: define scales\n",
    "col_sc = bqplot.ColorScale(scheme='Greens')\n",
    "x_sc = bqplot.OrdinalScale()\n",
    "y_sc = bqplot.OrdinalScale()\n",
    "\n",
    "# Step 3: define our axis\n",
    "col_ax = bqplot.ColorAxis(scale=col_sc, orientation='vertical', side='right')\n",
    "x_ax = bqplot.Axis(scale=x_sc)\n",
    "y_ax = bqplot.Axis(scale=y_sc, orientation='vertical')\n",
    "\n",
    "# Step 4: define marks\n",
    "heat_map = bqplot.GridHeatMap(color=data, scales={'color':col_sc, 'row':y_sc, 'column':x_sc},\n",
    "                             interactions={'click':'select'},\n",
    "                             selected_style={'fill':'magenta'})\n",
    "\n",
    "# Step 5: interactions\n",
    "heat_map.observe(on_selected, 'selected')\n",
    "\n",
    "# finally, a figure\n",
    "fig = bqplot.Figure(marks=[heat_map], axes=[col_ax,x_ax,y_ax])\n",
    "fig"
   ]
  },
  {
   "cell_type": "code",
   "execution_count": 22,
   "id": "c12346ee",
   "metadata": {},
   "outputs": [
    {
     "data": {
      "application/vnd.jupyter.widget-view+json": {
       "model_id": "a0d76fbe20024a5cb6bb0e9c66da3fe5",
       "version_major": 2,
       "version_minor": 0
      },
      "text/plain": [
       "Figure(axes=[ColorAxis(orientation='vertical', scale=ColorScale(scheme='Greens'), side='right'), Axis(scale=Or…"
      ]
     },
     "metadata": {},
     "output_type": "display_data"
    },
    {
     "name": "stdout",
     "output_type": "stream",
     "text": [
      "[2 1]\n",
      "[1 2]\n",
      "[3 2]\n",
      "[5 3]\n",
      "[6 3]\n",
      "[7 7]\n",
      "[3 3]\n",
      "[7 8]\n",
      "[6 9]\n",
      "[5 4]\n"
     ]
    }
   ],
   "source": [
    "def on_selected(change):\n",
    "    if len(change['owner'].selected) == 1: # no regions, only single bins selected\n",
    "        print(change['owner'].selected[0])\n",
    "    \n",
    "# Step 2: define scales\n",
    "col_sc = bqplot.ColorScale(scheme='Greens')\n",
    "x_sc = bqplot.OrdinalScale()\n",
    "y_sc = bqplot.OrdinalScale()\n",
    "\n",
    "# Step 3: define our axis\n",
    "col_ax = bqplot.ColorAxis(scale=col_sc, orientation='vertical', side='right')\n",
    "x_ax = bqplot.Axis(scale=x_sc)\n",
    "y_ax = bqplot.Axis(scale=y_sc, orientation='vertical')\n",
    "\n",
    "# Step 4: define marks\n",
    "heat_map = bqplot.GridHeatMap(color=data, scales={'color':col_sc, 'row':y_sc, 'column':x_sc},\n",
    "                             interactions={'click':'select'},\n",
    "                             selected_style={'fill':'magenta'})\n",
    "\n",
    "# Step 5: interactions\n",
    "heat_map.observe(on_selected, 'selected')\n",
    "\n",
    "# finally, a figure\n",
    "fig = bqplot.Figure(marks=[heat_map], axes=[col_ax,x_ax,y_ax])\n",
    "fig"
   ]
  },
  {
   "cell_type": "code",
   "execution_count": 23,
   "id": "9b75bb8c",
   "metadata": {},
   "outputs": [],
   "source": [
    "selectedLabel = ipywidgets.Label()"
   ]
  },
  {
   "cell_type": "code",
   "execution_count": 24,
   "id": "dd62a6c1",
   "metadata": {},
   "outputs": [
    {
     "data": {
      "application/vnd.jupyter.widget-view+json": {
       "model_id": "7d5ccd4491df49e5bbd377a270a38898",
       "version_major": 2,
       "version_minor": 0
      },
      "text/plain": [
       "Label(value='')"
      ]
     },
     "metadata": {},
     "output_type": "display_data"
    }
   ],
   "source": [
    "selectedLabel"
   ]
  },
  {
   "cell_type": "code",
   "execution_count": 31,
   "id": "d5a35fd8",
   "metadata": {},
   "outputs": [
    {
     "data": {
      "text/plain": [
       "array([6, 9])"
      ]
     },
     "execution_count": 31,
     "metadata": {},
     "output_type": "execute_result"
    }
   ],
   "source": [
    "heat_map.selected[0]"
   ]
  },
  {
   "cell_type": "code",
   "execution_count": 32,
   "id": "5313838d",
   "metadata": {},
   "outputs": [
    {
     "data": {
      "text/plain": [
       "0.9951277514402208"
      ]
     },
     "execution_count": 32,
     "metadata": {},
     "output_type": "execute_result"
    }
   ],
   "source": [
    "i,j = heat_map.selected[0]\n",
    "data[i,j]"
   ]
  },
  {
   "cell_type": "code",
   "execution_count": 34,
   "id": "dd40bf13",
   "metadata": {},
   "outputs": [
    {
     "data": {
      "application/vnd.jupyter.widget-view+json": {
       "model_id": "7d5ccd4491df49e5bbd377a270a38898",
       "version_major": 2,
       "version_minor": 0
      },
      "text/plain": [
       "Label(value='Data value=0.9951277514402208')"
      ]
     },
     "metadata": {},
     "output_type": "display_data"
    }
   ],
   "source": [
    "selectedLabel.value = 'Data value=' + str(data[i,j])\n",
    "selectedLabel"
   ]
  },
  {
   "cell_type": "code",
   "execution_count": 36,
   "id": "df05ac6c",
   "metadata": {},
   "outputs": [
    {
     "data": {
      "application/vnd.jupyter.widget-view+json": {
       "model_id": "5ae36cbead7e4b2895db557e9e50fd2f",
       "version_major": 2,
       "version_minor": 0
      },
      "text/plain": [
       "VBox(children=(Label(value='Data Value = 0.6564345411542613'), Figure(axes=[ColorAxis(orientation='vertical', …"
      ]
     },
     "metadata": {},
     "output_type": "display_data"
    }
   ],
   "source": [
    "def on_selected(change):\n",
    "    if len(change['owner'].selected) == 1: # no regions, only single bins selected\n",
    "        #print(change['owner'].selected[0])\n",
    "        i,j = change['owner'].selected[0]\n",
    "        v = data[i,j]\n",
    "        selectedLabel.value = 'Data Value = ' + str(v)\n",
    "    \n",
    "# Step 2: define scales\n",
    "col_sc = bqplot.ColorScale(scheme='Greens')\n",
    "x_sc = bqplot.OrdinalScale()\n",
    "y_sc = bqplot.OrdinalScale()\n",
    "\n",
    "# Step 3: define our axis\n",
    "col_ax = bqplot.ColorAxis(scale=col_sc, orientation='vertical', side='right')\n",
    "x_ax = bqplot.Axis(scale=x_sc)\n",
    "y_ax = bqplot.Axis(scale=y_sc, orientation='vertical')\n",
    "\n",
    "# Step 4: define marks\n",
    "heat_map = bqplot.GridHeatMap(color=data, scales={'color':col_sc, 'row':y_sc, 'column':x_sc},\n",
    "                             interactions={'click':'select'},\n",
    "                             selected_style={'fill':'magenta'})\n",
    "\n",
    "# Step 5: interactions\n",
    "heat_map.observe(on_selected, 'selected')\n",
    "\n",
    "# finally, a figure\n",
    "fig = bqplot.Figure(marks=[heat_map], axes=[col_ax,x_ax,y_ax])\n",
    "#fig\n",
    "myDashboard = ipywidgets.VBox([selectedLabel,fig])\n",
    "myDashboard"
   ]
  },
  {
   "cell_type": "markdown",
   "id": "85460d7a",
   "metadata": {},
   "source": [
    "## 3D Data (random)"
   ]
  },
  {
   "cell_type": "code",
   "execution_count": 37,
   "id": "b3cc580f",
   "metadata": {},
   "outputs": [],
   "source": [
    "data3d = np.random.random((10,10,20))"
   ]
  },
  {
   "cell_type": "code",
   "execution_count": 38,
   "id": "2bb1f8a2",
   "metadata": {},
   "outputs": [
    {
     "data": {
      "text/plain": [
       "(10, 10, 20)"
      ]
     },
     "execution_count": 38,
     "metadata": {},
     "output_type": "execute_result"
    }
   ],
   "source": [
    "data3d.shape"
   ]
  },
  {
   "cell_type": "code",
   "execution_count": 39,
   "id": "1a455bf6",
   "metadata": {},
   "outputs": [
    {
     "data": {
      "text/plain": [
       "array([0.32588475, 0.43938101, 0.07153513, 0.99609673, 0.82356502,\n",
       "       0.0535677 , 0.42681183, 0.94361028, 0.89697943, 0.93719966,\n",
       "       0.4528262 , 0.19206377, 0.15592736, 0.96650288, 0.71467114,\n",
       "       0.44150996, 0.34095281, 0.59526475, 0.43049586, 0.83280355])"
      ]
     },
     "execution_count": 39,
     "metadata": {},
     "output_type": "execute_result"
    }
   ],
   "source": [
    "data3d[0,0,:]"
   ]
  },
  {
   "cell_type": "code",
   "execution_count": 40,
   "id": "55bfbac9",
   "metadata": {},
   "outputs": [
    {
     "data": {
      "text/plain": [
       "0.5518824911833982"
      ]
     },
     "execution_count": 40,
     "metadata": {},
     "output_type": "execute_result"
    }
   ],
   "source": [
    "data3d[0,0,:].mean()"
   ]
  },
  {
   "cell_type": "code",
   "execution_count": 42,
   "id": "0204bb57",
   "metadata": {},
   "outputs": [
    {
     "data": {
      "text/plain": [
       "(10, 10)"
      ]
     },
     "execution_count": 42,
     "metadata": {},
     "output_type": "execute_result"
    }
   ],
   "source": [
    "data3d.mean(axis=2).shape"
   ]
  },
  {
   "cell_type": "code",
   "execution_count": 43,
   "id": "43648208",
   "metadata": {},
   "outputs": [],
   "source": [
    "selectedLabel3d = ipywidgets.Label()"
   ]
  },
  {
   "cell_type": "code",
   "execution_count": 45,
   "id": "e02c1dcf",
   "metadata": {},
   "outputs": [
    {
     "data": {
      "application/vnd.jupyter.widget-view+json": {
       "model_id": "845cc53159774c80b321e6ff6299f536",
       "version_major": 2,
       "version_minor": 0
      },
      "text/plain": [
       "VBox(children=(Label(value=''), Figure(axes=[ColorAxis(orientation='vertical', scale=ColorScale(scheme='Greens…"
      ]
     },
     "metadata": {},
     "output_type": "display_data"
    }
   ],
   "source": [
    "def on_selected(change):\n",
    "    if len(change['owner'].selected) == 1: # no regions, only single bins selected\n",
    "        i,j = change['owner'].selected[0]\n",
    "        v = data3d[i,j,:].mean()\n",
    "        selectedLabel3d.value = 'Data Mean = ' + str(v)\n",
    "    \n",
    "# Step 2: define scales\n",
    "col_sc = bqplot.ColorScale(scheme='Greens')\n",
    "x_sc = bqplot.OrdinalScale()\n",
    "y_sc = bqplot.OrdinalScale()\n",
    "\n",
    "# Step 3: define our axis\n",
    "col_ax = bqplot.ColorAxis(scale=col_sc, orientation='vertical', side='right')\n",
    "x_ax = bqplot.Axis(scale=x_sc)\n",
    "y_ax = bqplot.Axis(scale=y_sc, orientation='vertical')\n",
    "\n",
    "# Step 4: define marks\n",
    "heat_map = bqplot.GridHeatMap(color=data3d.mean(axis=2), scales={'color':col_sc, 'row':y_sc, 'column':x_sc},\n",
    "                             interactions={'click':'select'},\n",
    "                             selected_style={'fill':'magenta'})\n",
    "\n",
    "# Step 5: interactions\n",
    "heat_map.observe(on_selected, 'selected')\n",
    "\n",
    "# finally, a figure\n",
    "fig = bqplot.Figure(marks=[heat_map], axes=[col_ax,x_ax,y_ax])\n",
    "#fig\n",
    "myDashboard = ipywidgets.VBox([selectedLabel3d,fig])\n",
    "myDashboard"
   ]
  },
  {
   "cell_type": "code",
   "execution_count": 46,
   "id": "29169430",
   "metadata": {},
   "outputs": [
    {
     "data": {
      "text/plain": [
       "array([0.32588475, 0.43938101, 0.07153513, 0.99609673, 0.82356502,\n",
       "       0.0535677 , 0.42681183, 0.94361028, 0.89697943, 0.93719966,\n",
       "       0.4528262 , 0.19206377, 0.15592736, 0.96650288, 0.71467114,\n",
       "       0.44150996, 0.34095281, 0.59526475, 0.43049586, 0.83280355])"
      ]
     },
     "execution_count": 46,
     "metadata": {},
     "output_type": "execute_result"
    }
   ],
   "source": [
    "#1. Data for histogram (starting with a hard-coded value)\n",
    "i,j = 0,0\n",
    "data3d[i,j]"
   ]
  },
  {
   "cell_type": "code",
   "execution_count": 47,
   "id": "f3bca893",
   "metadata": {},
   "outputs": [],
   "source": [
    "# 2. Scales for histogram\n",
    "x_sch = bqplot.LinearScale() # numerical data\n",
    "y_sch = bqplot.LinearScale() # numerical data for the distribution"
   ]
  },
  {
   "cell_type": "code",
   "execution_count": 48,
   "id": "cdd3807a",
   "metadata": {},
   "outputs": [],
   "source": [
    "# 3. Axis for histogram\n",
    "x_axh = bqplot.Axis(scale=x_sch, label='Value of 3rd Axis')\n",
    "y_axh = bqplot.Axis(scale=y_sch, orientation='vertical', label='Frequency')"
   ]
  },
  {
   "cell_type": "code",
   "execution_count": 49,
   "id": "2961a801",
   "metadata": {},
   "outputs": [],
   "source": [
    "bqplot.Hist?"
   ]
  },
  {
   "cell_type": "code",
   "execution_count": 50,
   "id": "6c20908f",
   "metadata": {},
   "outputs": [],
   "source": [
    "# 4. Marks for histogram\n",
    "hist = bqplot.Hist(sample=data3d[i,j,:], # hard-coded for now\n",
    "                  normalized=False, # to get counts instead of density\n",
    "                  scales={'sample':x_sch, 'count':y_sch}, \n",
    "                  bins=5)"
   ]
  },
  {
   "cell_type": "code",
   "execution_count": 51,
   "id": "51f3612a",
   "metadata": {},
   "outputs": [],
   "source": [
    "# 5. interactions -- none right now for the histogram plot"
   ]
  },
  {
   "cell_type": "code",
   "execution_count": 52,
   "id": "b44d02fd",
   "metadata": {},
   "outputs": [
    {
     "data": {
      "application/vnd.jupyter.widget-view+json": {
       "model_id": "9a4da71516dc4568adc27177b0f628bb",
       "version_major": 2,
       "version_minor": 0
      },
      "text/plain": [
       "Figure(axes=[Axis(label='Value of 3rd Axis', scale=LinearScale(), side='bottom'), Axis(label='Frequency', orie…"
      ]
     },
     "metadata": {},
     "output_type": "display_data"
    }
   ],
   "source": [
    "# finally, a figure\n",
    "figh = bqplot.Figure(marks=[hist],axes=[x_axh, y_axh])\n",
    "figh"
   ]
  },
  {
   "cell_type": "code",
   "execution_count": 53,
   "id": "063173f1",
   "metadata": {},
   "outputs": [
    {
     "data": {
      "text/plain": [
       "['_model_module',\n",
       " '_model_module_version',\n",
       " '_model_name',\n",
       " '_view_count',\n",
       " '_view_module',\n",
       " '_view_module_version',\n",
       " '_view_name',\n",
       " 'apply_clip',\n",
       " 'bins',\n",
       " 'colors',\n",
       " 'count',\n",
       " 'display_legend',\n",
       " 'enable_hover',\n",
       " 'interactions',\n",
       " 'labels',\n",
       " 'midpoints',\n",
       " 'normalized',\n",
       " 'opacities',\n",
       " 'preserve_domain',\n",
       " 'sample',\n",
       " 'scales',\n",
       " 'scales_metadata',\n",
       " 'selected',\n",
       " 'selected_style',\n",
       " 'stroke',\n",
       " 'tooltip',\n",
       " 'tooltip_location',\n",
       " 'tooltip_style',\n",
       " 'unselected_style',\n",
       " 'visible']"
      ]
     },
     "execution_count": 53,
     "metadata": {},
     "output_type": "execute_result"
    }
   ],
   "source": [
    "hist.keys"
   ]
  },
  {
   "cell_type": "code",
   "execution_count": 54,
   "id": "ec4762e0",
   "metadata": {},
   "outputs": [
    {
     "data": {
      "text/plain": [
       "array([0.32588475, 0.43938101, 0.07153513, 0.99609673, 0.82356502,\n",
       "       0.0535677 , 0.42681183, 0.94361028, 0.89697943, 0.93719966,\n",
       "       0.4528262 , 0.19206377, 0.15592736, 0.96650288, 0.71467114,\n",
       "       0.44150996, 0.34095281, 0.59526475, 0.43049586, 0.83280355])"
      ]
     },
     "execution_count": 54,
     "metadata": {},
     "output_type": "execute_result"
    }
   ],
   "source": [
    "hist.sample"
   ]
  },
  {
   "cell_type": "code",
   "execution_count": 58,
   "id": "e3e687bc",
   "metadata": {},
   "outputs": [
    {
     "data": {
      "application/vnd.jupyter.widget-view+json": {
       "model_id": "b4c842f90c7b483aaee7fb1cb3096a96",
       "version_major": 2,
       "version_minor": 0
      },
      "text/plain": [
       "VBox(children=(Label(value='Data Mean = 0.4022452973760429'), HBox(children=(Figure(axes=[ColorAxis(orientatio…"
      ]
     },
     "metadata": {},
     "output_type": "display_data"
    }
   ],
   "source": [
    "def on_selected(change):\n",
    "    if len(change['owner'].selected) == 1: # no regions, only single bins selected\n",
    "        i,j = change['owner'].selected[0]\n",
    "        v = data3d[i,j,:].mean()\n",
    "        selectedLabel3d.value = 'Data Mean = ' + str(v) # updating the trait of the label\n",
    "        hist.sample = data3d[i,j,:] # updating the trait \"sample\" of histogram\n",
    "    \n",
    "# Step 2: define scales\n",
    "col_sc = bqplot.ColorScale(scheme='Greens')\n",
    "x_sc = bqplot.OrdinalScale()\n",
    "y_sc = bqplot.OrdinalScale()\n",
    "\n",
    "# Step 3: define our axis\n",
    "col_ax = bqplot.ColorAxis(scale=col_sc, orientation='vertical', side='right')\n",
    "x_ax = bqplot.Axis(scale=x_sc)\n",
    "y_ax = bqplot.Axis(scale=y_sc, orientation='vertical')\n",
    "\n",
    "# Step 4: define marks\n",
    "heat_map = bqplot.GridHeatMap(color=data3d.mean(axis=2), scales={'color':col_sc, 'row':y_sc, 'column':x_sc},\n",
    "                             interactions={'click':'select'},\n",
    "                             selected_style={'fill':'magenta'})\n",
    "\n",
    "# Step 5: interactions\n",
    "heat_map.observe(on_selected, 'selected')\n",
    "\n",
    "# finally, a figure\n",
    "fig = bqplot.Figure(marks=[heat_map], axes=[col_ax,x_ax,y_ax])\n",
    "#fig\n",
    "#myDashboard = ipywidgets.VBox([selectedLabel3d,fig])\n",
    "fig.layout.min_width='500px'\n",
    "figh.layout.min_width='500px'\n",
    "figures = ipywidgets.HBox([fig, figh]) # fig=heat map (driver), figh=histgram (updates)\n",
    "myDashboard = ipywidgets.VBox([selectedLabel3d, figures])\n",
    "myDashboard"
   ]
  },
  {
   "cell_type": "code",
   "execution_count": 61,
   "id": "18f06717",
   "metadata": {},
   "outputs": [],
   "source": [
    "hist.bins = 10"
   ]
  },
  {
   "cell_type": "code",
   "execution_count": 62,
   "id": "c96496c7",
   "metadata": {},
   "outputs": [
    {
     "data": {
      "application/vnd.jupyter.widget-view+json": {
       "model_id": "e13a53ba9a804dacb20ddd4bf50bdd5e",
       "version_major": 2,
       "version_minor": 0
      },
      "text/plain": [
       "IntSlider(value=5, max=20, min=1)"
      ]
     },
     "metadata": {},
     "output_type": "display_data"
    }
   ],
   "source": [
    "bins_slider = ipywidgets.IntSlider(value=5,min=1, max=data3d.shape[2])\n",
    "bins_slider"
   ]
  },
  {
   "cell_type": "code",
   "execution_count": 63,
   "id": "5aef7c44",
   "metadata": {},
   "outputs": [
    {
     "data": {
      "text/plain": [
       "Link(source=(IntSlider(value=2, max=20, min=1), 'value'), target=(Hist(colors=['steelblue'], count=array([2., …"
      ]
     },
     "metadata": {},
     "output_type": "display_data"
    }
   ],
   "source": [
    "ipywidgets.jslink((bins_slider,'value'),(hist,'bins'))"
   ]
  },
  {
   "cell_type": "code",
   "execution_count": 64,
   "id": "765c7b9d",
   "metadata": {},
   "outputs": [
    {
     "data": {
      "application/vnd.jupyter.widget-view+json": {
       "model_id": "70cb80d579de4c7caa64f4032015c4f2",
       "version_major": 2,
       "version_minor": 0
      },
      "text/plain": [
       "VBox(children=(HBox(children=(Label(value='Data Mean = 0.6013335164563447'), IntSlider(value=11, max=20, min=1…"
      ]
     },
     "metadata": {},
     "output_type": "display_data"
    }
   ],
   "source": [
    "figures = ipywidgets.HBox([fig,figh])\n",
    "controls = ipywidgets.HBox([selectedLabel3d, bins_slider])\n",
    "myDashboard = ipywidgets.VBox([controls, figures])\n",
    "myDashboard"
   ]
  },
  {
   "cell_type": "markdown",
   "id": "762ce983",
   "metadata": {},
   "source": [
    "## Dashboarding with the UFO dataset"
   ]
  },
  {
   "cell_type": "code",
   "execution_count": 65,
   "id": "268cbab1",
   "metadata": {},
   "outputs": [],
   "source": [
    "data_url = 'https://raw.githubusercontent.com/UIUC-iSchool-DataViz/is445_bcubcg_fall2022/main/data/ufo-scrubbed-geocoded-time-standardized-00.csv'"
   ]
  },
  {
   "cell_type": "code",
   "execution_count": 66,
   "id": "00ad0dcd",
   "metadata": {},
   "outputs": [],
   "source": [
    "ufos = pd.read_csv(data_url, names = [\"date\", \"city\", \"state\", \"country\",\n",
    "                          \"shape\", \"duration_seconds\", \"duration\",\n",
    "                          \"comment\", \"report_date\", \n",
    "                           \"latitude\", \"longitude\"],\n",
    "                  parse_dates = [\"date\", \"report_date\"])"
   ]
  },
  {
   "cell_type": "code",
   "execution_count": 67,
   "id": "937bd79f",
   "metadata": {},
   "outputs": [
    {
     "data": {
      "text/plain": [
       "80332"
      ]
     },
     "execution_count": 67,
     "metadata": {},
     "output_type": "execute_result"
    }
   ],
   "source": [
    "len(ufos)"
   ]
  },
  {
   "cell_type": "code",
   "execution_count": 69,
   "id": "f3331614",
   "metadata": {},
   "outputs": [
    {
     "data": {
      "text/plain": [
       "array([59616, 23715, 50133, 18359, 59487, 19242, 60849, 53798, 48884,\n",
       "       53898, 61309, 42465, 73393, 64915, 36512, 18316, 63753, 73525,\n",
       "       13222, 15825, 77774, 60450, 19423, 45802, 63694, 76213,   858,\n",
       "       11021, 71771, 33884, 56346, 45590, 22249, 49188, 69122, 24804,\n",
       "       64120, 65849, 54623, 79554, 42324, 41685,  8493, 29722, 77116,\n",
       "       40486,  1482,  9133, 76883, 46968, 50849, 40334, 33052, 69140,\n",
       "       44688, 53608, 65896,  5966, 57391, 48248, 67410, 58671, 53781,\n",
       "       77096, 12710, 77511, 29955, 28764, 78951, 53203, 55424, 63036,\n",
       "        2084, 43083, 66692, 12173,  7825, 54046, 57018, 53150, 60625,\n",
       "       17309,  7306,  3581, 40743, 45494,  3994,  8505, 33368,   194,\n",
       "       79224,  8794, 50301,  3467, 73883, 66001, 79787, 15865, 41023,\n",
       "       38009, 75670,  5119, 66146, 17522, 46056, 22407, 13265, 57820,\n",
       "       53755, 33855, 55231, 69001, 67241, 25014, 65560, 69420, 17245,\n",
       "       66440, 36626, 53314, 66841, 57385, 75208, 70967, 75095, 58551,\n",
       "       72339, 52332, 59695, 19366, 69245, 36110, 74115, 60522,  5625,\n",
       "        9591, 59874, 62380, 22315, 66202, 13158, 69717, 78454, 20100,\n",
       "       59432, 39405, 45629, 21193, 10148, 16505, 51767, 11592, 11493,\n",
       "       15033, 10315, 31560, 12481, 41003, 78795, 33350, 69037,  7579,\n",
       "       52621, 69877,  7229, 47651,  8752, 24862, 73397, 52564, 75968,\n",
       "       26662, 26706, 36683, 55694,  4249, 62484, 12908, 73504,  7727,\n",
       "       73724, 53994, 53070, 22400, 16426, 76644, 15171, 69597, 51172,\n",
       "       63597, 61674, 30568, 11444, 49949, 52106, 37585, 26107, 16865,\n",
       "       52828,   497, 13205, 64578,  2518, 55549, 40829, 56895, 26108,\n",
       "       13221, 78114,  8463, 71658, 13302, 50252,  2927, 37463, 27258,\n",
       "         808, 29743, 52213, 58827, 28707, 70013, 34312, 32777, 39343,\n",
       "       59235, 48474, 53965, 40525, 69694, 73380, 60866, 70539,  4609,\n",
       "       55054, 54108, 57977, 31898, 47525, 13841,  7272, 50689, 70153,\n",
       "       72203, 39669, 23414,  6412, 51641, 29786, 23239, 72763,  8683,\n",
       "       50784, 59802,  1419, 17532,  4836,   937, 50411, 61661, 60094,\n",
       "       19460, 29399, 13591, 20677, 72723, 35525, 21497, 46826,   251,\n",
       "       24452, 64036, 77430, 65340, 45461,  2155, 70095, 56925, 69844,\n",
       "        5683,  8450, 52682, 78981, 76852, 73995,   142, 59745, 76011,\n",
       "       14936, 54486, 60964, 53083,  3434, 51931, 20517, 33717, 27971,\n",
       "       60634, 62002, 41130, 12742, 14732, 18621, 36372, 65019, 72777,\n",
       "       75227,  8183, 67935, 52819, 22509,  5430, 36418, 29733, 53519,\n",
       "       57583, 53581, 49771, 40260, 34867, 19151, 75189, 67529, 17875,\n",
       "        2069, 20353, 66945, 30173,  9040, 18841, 64395, 61857, 33149,\n",
       "       37935,  9636, 72632, 26314, 16109, 26725, 25649, 58155, 57378,\n",
       "       42815, 15431, 48200,  9440, 27308, 43481,  2881, 18930, 10239,\n",
       "       43351, 44786, 57386,  1388, 67918, 58990,  3634, 20359, 59597,\n",
       "       40078, 41397, 26669, 40961, 53542, 14098, 23681, 17544, 20376,\n",
       "       45544,  1453,  2373, 65727, 25015,  5038, 13403, 73420, 72198,\n",
       "       54567, 70772, 42097, 64055, 42757,  9269,  3182, 51543, 16732,\n",
       "       42800, 36258, 65175, 40180,  3548, 72600, 73605, 10131, 38234,\n",
       "        3744, 64430, 49914, 63345, 46503, 57775, 52967, 59177, 24367,\n",
       "       63007, 12856, 76228, 71094, 60218, 17780,  9888, 32827, 37616,\n",
       "        2847,  5651, 35349, 53812, 40307, 78159, 27902, 68198, 75011,\n",
       "       60647, 50552, 38728, 74949, 76749, 67043, 47580,  7523, 49160,\n",
       "       78771, 79530, 46401, 72872, 35987, 45542, 20232,  5855,  7000,\n",
       "       78402, 24454, 61791, 33429, 65355, 64391, 25141, 69130, 50978,\n",
       "       25363, 24366, 36879, 17491, 70643, 29923, 74954, 78164, 40702,\n",
       "       58211, 60516, 45848, 33865, 24162, 43728,  1315, 34165, 16125,\n",
       "       44097, 34353, 67982,  9332, 78185, 78535, 30324, 55973, 49273,\n",
       "       54614, 40544,  3927, 56169,  6959, 43209, 27780, 27819,  2169,\n",
       "       41364, 13512, 35126,   772, 69874, 56348, 69010, 18934, 31003,\n",
       "       19474, 40667, 57107, 23406, 14125, 22567, 66963, 65817, 27638,\n",
       "       27378,  5624, 38100, 46373, 30241, 45177, 76505, 32596, 59447,\n",
       "       12177, 23268, 40457, 23365, 18086, 23713, 56759, 24339, 52777,\n",
       "       42403, 48453, 15808, 49195, 27369, 76232, 50891,  8005, 76297,\n",
       "       40759,  6183, 74921, 32166,  7514,  6469, 67175, 43611,  9001,\n",
       "        9504, 12203, 63804, 56937, 20940, 38313, 71241, 36553,  3934,\n",
       "       23997, 52727, 54858, 56043, 62782, 46260, 44230, 55485, 28754,\n",
       "       10542, 67907, 12337, 37698, 21143, 65183, 68586,  5652, 53237,\n",
       "       52561, 38202, 49973,  1603, 36380, 30765, 58789, 25918, 48317,\n",
       "         891,  8569,  9191, 32434, 59148, 64555, 79493,  5464, 28600,\n",
       "        6883, 19574, 70716, 58106, 55841, 71914, 13001, 55869, 36437,\n",
       "       11450, 42308, 60251, 39719, 20542, 45617, 49374, 14617,  6524,\n",
       "        1654, 53380, 62197, 16430,  9488, 20738, 44700, 58149, 64317,\n",
       "       61744, 75413, 72540, 22195, 53929, 56758,  1738, 23326, 60858,\n",
       "       25558,  7551, 53786, 37488, 50049, 55070, 36216, 43563, 77191,\n",
       "       53988, 32175,  1750, 61741, 72958, 43897, 35702, 29681, 67999,\n",
       "       26192, 43588, 67197, 51235, 64603, 56993, 50107, 40719, 65709,\n",
       "        1830, 13864, 33922, 14691,  8229, 10871, 22112, 37297, 63262,\n",
       "        5502, 54546, 41237, 79898, 45406,  1863, 38039, 16525, 37691,\n",
       "       49666, 58100, 58978, 12682, 19371, 18119, 20585,  5489, 21095,\n",
       "       27636, 47845, 44818,  4452, 19758, 51741, 22036,  4729, 40800,\n",
       "       41438,  1503, 14374, 47997, 39491, 76062,  6595, 41853, 49647,\n",
       "       49057, 39361, 31187, 74956,  1587, 32276, 75069, 67079, 38048,\n",
       "       35199, 25948, 50186, 16284, 16699, 77042, 59456, 71527,  2431,\n",
       "       69424, 46535,  5927, 61853,  1907, 49092, 63431,  8648, 25722,\n",
       "       53969, 54974, 62966, 14203, 30872, 46117, 75961, 64455, 30966,\n",
       "       75936, 77537, 40740, 17842, 51106,  8323,  4093, 41163,  8906,\n",
       "       48573, 56152, 30412, 27818, 20900, 76033, 67745, 44943, 75157,\n",
       "       73983, 11400, 20982, 61053, 59390, 20841,  9658, 40604, 12773,\n",
       "       75352, 71769, 60338,  8496, 20446, 78588, 72138, 57157, 10438,\n",
       "       29804, 25646, 45703, 77533, 60128, 59933, 42856, 54821, 46808,\n",
       "       59154, 27502,   924, 64656, 40680,  9655, 40335, 15397, 58581,\n",
       "       67054, 60890, 48515, 28658, 59396,  4430, 53375, 31250, 21746,\n",
       "       22566, 45531, 41890,  2962, 17479, 17349, 73760,  2138, 34907,\n",
       "       16027, 40266, 26494, 44695,  7080, 79499, 46788, 58255,  1356,\n",
       "       62398, 69450, 70860, 44678,  1718, 51434,  2914,   770, 59107,\n",
       "       28343, 26582, 57313, 74365, 21386, 50492, 20453,   881, 38878,\n",
       "       67972, 62280, 46109,  6164, 47827, 23749,  6840, 30977, 35875,\n",
       "       56613, 44654, 80318,  5768, 76114, 23426, 53883, 65466, 31041,\n",
       "       52949, 66407,  5961, 55681, 42684, 70362, 39411,  6245, 15762,\n",
       "       26782, 37122, 71101, 29644, 37722, 24913, 37785, 37859, 61032,\n",
       "       32911, 59389, 12680, 49552, 68869, 43160, 79680, 43329, 50894,\n",
       "       20880, 15430, 50463, 32364, 47381, 44516, 16280, 17511, 54310,\n",
       "       52722, 73807, 67708, 50927, 30575, 38714, 52133, 22775, 25627,\n",
       "       15568, 48352, 19275, 27512, 42744, 28771, 38523, 65288, 14487,\n",
       "       71329,  2905, 49972, 62705, 19939, 70162, 71569, 33749, 75237,\n",
       "        4020, 20297, 31448, 13200, 45912, 51900, 71232, 24943, 76640,\n",
       "       55834, 69646, 60030, 75759, 48718, 76674, 43201, 54752, 47050,\n",
       "        4186,   857, 42597, 44228, 75725, 39703, 34537, 34695, 63501,\n",
       "       32073, 65142, 47627, 50682, 76113, 51348, 72587, 76356, 35569,\n",
       "       67324, 24754, 67192, 65973,  5730, 45479, 75345, 44208, 16371,\n",
       "       49512,  1522, 57654, 31228,  4934,  8910, 64651,  9429, 44277,\n",
       "       47222, 54778, 63045, 42792, 57855,  4788, 75639,  1008, 77141,\n",
       "       31835,  8925, 68883, 60729, 71052, 23544, 61858, 74102,  9842,\n",
       "       51759, 25863, 56818, 42007, 11627, 63797, 39614, 27200, 48252,\n",
       "       48727, 31053, 75816, 59442, 32105, 38953,  4941, 55695, 57995,\n",
       "        7010])"
      ]
     },
     "execution_count": 69,
     "metadata": {},
     "output_type": "execute_result"
    }
   ],
   "source": [
    "nsamples = 1000\n",
    "downSampleMask = np.random.choice(range(len(ufos)-1), nsamples, replace=False)\n",
    "downSampleMask"
   ]
  },
  {
   "cell_type": "code",
   "execution_count": 70,
   "id": "10211e68",
   "metadata": {},
   "outputs": [],
   "source": [
    "ufosDS = ufos.loc[downSampleMask]"
   ]
  },
  {
   "cell_type": "code",
   "execution_count": 71,
   "id": "bee9b785",
   "metadata": {},
   "outputs": [
    {
     "data": {
      "text/plain": [
       "1000"
      ]
     },
     "execution_count": 71,
     "metadata": {},
     "output_type": "execute_result"
    }
   ],
   "source": [
    "len(ufosDS)"
   ]
  },
  {
   "cell_type": "code",
   "execution_count": 72,
   "id": "49611238",
   "metadata": {},
   "outputs": [
    {
     "data": {
      "text/html": [
       "<div>\n",
       "<style scoped>\n",
       "    .dataframe tbody tr th:only-of-type {\n",
       "        vertical-align: middle;\n",
       "    }\n",
       "\n",
       "    .dataframe tbody tr th {\n",
       "        vertical-align: top;\n",
       "    }\n",
       "\n",
       "    .dataframe thead th {\n",
       "        text-align: right;\n",
       "    }\n",
       "</style>\n",
       "<table border=\"1\" class=\"dataframe\">\n",
       "  <thead>\n",
       "    <tr style=\"text-align: right;\">\n",
       "      <th></th>\n",
       "      <th>date</th>\n",
       "      <th>city</th>\n",
       "      <th>state</th>\n",
       "      <th>country</th>\n",
       "      <th>shape</th>\n",
       "      <th>duration_seconds</th>\n",
       "      <th>duration</th>\n",
       "      <th>comment</th>\n",
       "      <th>report_date</th>\n",
       "      <th>latitude</th>\n",
       "      <th>longitude</th>\n",
       "    </tr>\n",
       "  </thead>\n",
       "  <tbody>\n",
       "    <tr>\n",
       "      <th>59616</th>\n",
       "      <td>2000-07-25 21:20:00</td>\n",
       "      <td>glendale</td>\n",
       "      <td>ca</td>\n",
       "      <td>us</td>\n",
       "      <td>circle</td>\n",
       "      <td>5.0</td>\n",
       "      <td>5+ seconds</td>\n",
       "      <td>Bright&amp;#44 Stoplight Red Craft</td>\n",
       "      <td>2001-08-05</td>\n",
       "      <td>34.142500</td>\n",
       "      <td>-118.254167</td>\n",
       "    </tr>\n",
       "    <tr>\n",
       "      <th>23715</th>\n",
       "      <td>1965-12-09 16:48:00</td>\n",
       "      <td>enfield</td>\n",
       "      <td>ct</td>\n",
       "      <td>us</td>\n",
       "      <td>circle</td>\n",
       "      <td>120.0</td>\n",
       "      <td>2 minutes</td>\n",
       "      <td>Charting a UFO and identifying its points of o...</td>\n",
       "      <td>2008-08-12</td>\n",
       "      <td>41.976111</td>\n",
       "      <td>-72.592222</td>\n",
       "    </tr>\n",
       "    <tr>\n",
       "      <th>50133</th>\n",
       "      <td>2006-06-19 20:30:00</td>\n",
       "      <td>los angeles</td>\n",
       "      <td>ca</td>\n",
       "      <td>us</td>\n",
       "      <td>other</td>\n",
       "      <td>120.0</td>\n",
       "      <td>1-2 minutes</td>\n",
       "      <td>I saw (starting from what seemed to be a 1/4 m...</td>\n",
       "      <td>2007-08-07</td>\n",
       "      <td>34.052222</td>\n",
       "      <td>-118.242778</td>\n",
       "    </tr>\n",
       "    <tr>\n",
       "      <th>18359</th>\n",
       "      <td>2006-12-15 01:00:00</td>\n",
       "      <td>green oaks</td>\n",
       "      <td>il</td>\n",
       "      <td>us</td>\n",
       "      <td>circle</td>\n",
       "      <td>3.0</td>\n",
       "      <td>3 seconds</td>\n",
       "      <td>Bright circle of light at very high speeds and...</td>\n",
       "      <td>2007-02-01</td>\n",
       "      <td>42.290000</td>\n",
       "      <td>-87.903333</td>\n",
       "    </tr>\n",
       "    <tr>\n",
       "      <th>59487</th>\n",
       "      <td>2009-07-24 23:00:00</td>\n",
       "      <td>everett</td>\n",
       "      <td>wa</td>\n",
       "      <td>us</td>\n",
       "      <td>light</td>\n",
       "      <td>300.0</td>\n",
       "      <td>5 min</td>\n",
       "      <td>I noticed 3 bright lights in the ski moving to...</td>\n",
       "      <td>2009-08-05</td>\n",
       "      <td>47.979167</td>\n",
       "      <td>-122.200833</td>\n",
       "    </tr>\n",
       "    <tr>\n",
       "      <th>...</th>\n",
       "      <td>...</td>\n",
       "      <td>...</td>\n",
       "      <td>...</td>\n",
       "      <td>...</td>\n",
       "      <td>...</td>\n",
       "      <td>...</td>\n",
       "      <td>...</td>\n",
       "      <td>...</td>\n",
       "      <td>...</td>\n",
       "      <td>...</td>\n",
       "      <td>...</td>\n",
       "    </tr>\n",
       "    <tr>\n",
       "      <th>38953</th>\n",
       "      <td>2014-04-24 23:45:00</td>\n",
       "      <td>naniamo (canada)</td>\n",
       "      <td>bc</td>\n",
       "      <td>NaN</td>\n",
       "      <td>circle</td>\n",
       "      <td>2.0</td>\n",
       "      <td>2 seconds</td>\n",
       "      <td>Green ufo seen over NE british columbia like a...</td>\n",
       "      <td>2014-05-02</td>\n",
       "      <td>49.165884</td>\n",
       "      <td>-123.940065</td>\n",
       "    </tr>\n",
       "    <tr>\n",
       "      <th>4941</th>\n",
       "      <td>2011-10-27 19:30:00</td>\n",
       "      <td>east sooke (canada)</td>\n",
       "      <td>bc</td>\n",
       "      <td>NaN</td>\n",
       "      <td>light</td>\n",
       "      <td>300.0</td>\n",
       "      <td>&gt;5 min.</td>\n",
       "      <td>Bright white/blue light moving in fluid manner...</td>\n",
       "      <td>2011-12-12</td>\n",
       "      <td>48.366615</td>\n",
       "      <td>-123.706823</td>\n",
       "    </tr>\n",
       "    <tr>\n",
       "      <th>55695</th>\n",
       "      <td>2000-07-12 01:56:00</td>\n",
       "      <td>franklin</td>\n",
       "      <td>pa</td>\n",
       "      <td>us</td>\n",
       "      <td>disk</td>\n",
       "      <td>3600.0</td>\n",
       "      <td>1 hour</td>\n",
       "      <td>Disc shaped object over NW Pa</td>\n",
       "      <td>2000-07-23</td>\n",
       "      <td>41.397778</td>\n",
       "      <td>-79.831667</td>\n",
       "    </tr>\n",
       "    <tr>\n",
       "      <th>57995</th>\n",
       "      <td>1999-07-19 05:00:00</td>\n",
       "      <td>durango</td>\n",
       "      <td>co</td>\n",
       "      <td>us</td>\n",
       "      <td>unknown</td>\n",
       "      <td>300.0</td>\n",
       "      <td>5 mins</td>\n",
       "      <td>Hadn&amp;#39t started to get light yet&amp;#44 I was w...</td>\n",
       "      <td>1999-08-10</td>\n",
       "      <td>37.275278</td>\n",
       "      <td>-107.879444</td>\n",
       "    </tr>\n",
       "    <tr>\n",
       "      <th>7010</th>\n",
       "      <td>1999-10-08 21:00:00</td>\n",
       "      <td>munds park</td>\n",
       "      <td>az</td>\n",
       "      <td>us</td>\n",
       "      <td>cone</td>\n",
       "      <td>2400.0</td>\n",
       "      <td>40+ min</td>\n",
       "      <td>cone shaped mist with single white light at to...</td>\n",
       "      <td>2006-10-30</td>\n",
       "      <td>34.945556</td>\n",
       "      <td>-111.639444</td>\n",
       "    </tr>\n",
       "  </tbody>\n",
       "</table>\n",
       "<p>1000 rows × 11 columns</p>\n",
       "</div>"
      ],
      "text/plain": [
       "                     date                 city state country    shape  \\\n",
       "59616 2000-07-25 21:20:00             glendale    ca      us   circle   \n",
       "23715 1965-12-09 16:48:00              enfield    ct      us   circle   \n",
       "50133 2006-06-19 20:30:00          los angeles    ca      us    other   \n",
       "18359 2006-12-15 01:00:00           green oaks    il      us   circle   \n",
       "59487 2009-07-24 23:00:00              everett    wa      us    light   \n",
       "...                   ...                  ...   ...     ...      ...   \n",
       "38953 2014-04-24 23:45:00     naniamo (canada)    bc     NaN   circle   \n",
       "4941  2011-10-27 19:30:00  east sooke (canada)    bc     NaN    light   \n",
       "55695 2000-07-12 01:56:00             franklin    pa      us     disk   \n",
       "57995 1999-07-19 05:00:00              durango    co      us  unknown   \n",
       "7010  1999-10-08 21:00:00           munds park    az      us     cone   \n",
       "\n",
       "       duration_seconds     duration  \\\n",
       "59616               5.0   5+ seconds   \n",
       "23715             120.0    2 minutes   \n",
       "50133             120.0  1-2 minutes   \n",
       "18359               3.0    3 seconds   \n",
       "59487             300.0        5 min   \n",
       "...                 ...          ...   \n",
       "38953               2.0    2 seconds   \n",
       "4941              300.0      >5 min.   \n",
       "55695            3600.0       1 hour   \n",
       "57995             300.0       5 mins   \n",
       "7010             2400.0      40+ min   \n",
       "\n",
       "                                                 comment report_date  \\\n",
       "59616                     Bright&#44 Stoplight Red Craft  2001-08-05   \n",
       "23715  Charting a UFO and identifying its points of o...  2008-08-12   \n",
       "50133  I saw (starting from what seemed to be a 1/4 m...  2007-08-07   \n",
       "18359  Bright circle of light at very high speeds and...  2007-02-01   \n",
       "59487  I noticed 3 bright lights in the ski moving to...  2009-08-05   \n",
       "...                                                  ...         ...   \n",
       "38953  Green ufo seen over NE british columbia like a...  2014-05-02   \n",
       "4941   Bright white/blue light moving in fluid manner...  2011-12-12   \n",
       "55695                      Disc shaped object over NW Pa  2000-07-23   \n",
       "57995  Hadn&#39t started to get light yet&#44 I was w...  1999-08-10   \n",
       "7010   cone shaped mist with single white light at to...  2006-10-30   \n",
       "\n",
       "        latitude   longitude  \n",
       "59616  34.142500 -118.254167  \n",
       "23715  41.976111  -72.592222  \n",
       "50133  34.052222 -118.242778  \n",
       "18359  42.290000  -87.903333  \n",
       "59487  47.979167 -122.200833  \n",
       "...          ...         ...  \n",
       "38953  49.165884 -123.940065  \n",
       "4941   48.366615 -123.706823  \n",
       "55695  41.397778  -79.831667  \n",
       "57995  37.275278 -107.879444  \n",
       "7010   34.945556 -111.639444  \n",
       "\n",
       "[1000 rows x 11 columns]"
      ]
     },
     "execution_count": 72,
     "metadata": {},
     "output_type": "execute_result"
    }
   ],
   "source": [
    "ufosDS"
   ]
  },
  {
   "cell_type": "code",
   "execution_count": 73,
   "id": "44f412b2",
   "metadata": {},
   "outputs": [
    {
     "data": {
      "application/vnd.jupyter.widget-view+json": {
       "model_id": "319a95e81957415da378dad211ec6324",
       "version_major": 2,
       "version_minor": 0
      },
      "text/plain": [
       "Figure(axes=[Axis(label='Longitude', scale=LinearScale()), Axis(label='Latitude', orientation='vertical', scal…"
      ]
     },
     "metadata": {},
     "output_type": "display_data"
    }
   ],
   "source": [
    "# 1. data = for a scatter plot is the downsampled data\n",
    "\n",
    "# 2. scales\n",
    "x_sc = bqplot.LinearScale()\n",
    "y_sc = bqplot.LinearScale()\n",
    "\n",
    "# 3. axis\n",
    "x_ax = bqplot.Axis(scale=x_sc, label='Longitude')\n",
    "y_ax = bqplot.Axis(scale=y_sc, orientation='vertical', label='Latitude')\n",
    "\n",
    "# 4. marks\n",
    "scatters = bqplot.Scatter(x=ufosDS['longitude'], y=ufosDS['latitude'],\n",
    "                         scales = {'x':x_sc, 'y':y_sc})\n",
    "\n",
    "# skipping a bit... right into figure\n",
    "fig = bqplot.Figure(marks=[scatters],axes=[x_ax, y_ax])\n",
    "fig"
   ]
  },
  {
   "cell_type": "code",
   "execution_count": 76,
   "id": "9446cccb",
   "metadata": {},
   "outputs": [
    {
     "data": {
      "application/vnd.jupyter.widget-view+json": {
       "model_id": "6a0bf336fad14637894e1c4bc8bfbb8e",
       "version_major": 2,
       "version_minor": 0
      },
      "text/plain": [
       "Figure(axes=[Axis(label='Longitude', scale=LinearScale()), Axis(label='Latitude', orientation='vertical', scal…"
      ]
     },
     "metadata": {},
     "output_type": "display_data"
    }
   ],
   "source": [
    "# 1. data = for a scatter plot is the downsampled data\n",
    "\n",
    "# 2. scales\n",
    "x_sc = bqplot.LinearScale()\n",
    "y_sc = bqplot.LinearScale()\n",
    "col_sc = bqplot.ColorScale()\n",
    "\n",
    "# 3. axis\n",
    "x_ax = bqplot.Axis(scale=x_sc, label='Longitude')\n",
    "y_ax = bqplot.Axis(scale=y_sc, orientation='vertical', label='Latitude')\n",
    "col_ax = bqplot.ColorAxis(scale=col_sc, label='Duration in sec', orientation='vertical', side='right')\n",
    "\n",
    "# 4. marks\n",
    "scatters = bqplot.Scatter(x=ufosDS['longitude'], y=ufosDS['latitude'],\n",
    "                          color = ufosDS['duration_seconds'],\n",
    "                         scales = {'x':x_sc, 'y':y_sc, 'color':col_sc})\n",
    "\n",
    "# skipping a bit... right into figure\n",
    "fig = bqplot.Figure(marks=[scatters],axes=[x_ax, y_ax,col_ax])\n",
    "fig"
   ]
  },
  {
   "cell_type": "code",
   "execution_count": 77,
   "id": "a8a6388c",
   "metadata": {},
   "outputs": [
    {
     "data": {
      "text/plain": [
       "(0.5, 345600.0)"
      ]
     },
     "execution_count": 77,
     "metadata": {},
     "output_type": "execute_result"
    }
   ],
   "source": [
    "ufosDS['duration_seconds'].min(), ufosDS['duration_seconds'].max()"
   ]
  },
  {
   "cell_type": "code",
   "execution_count": 78,
   "id": "52d2d9ab",
   "metadata": {},
   "outputs": [
    {
     "data": {
      "application/vnd.jupyter.widget-view+json": {
       "model_id": "82f915a4e840443a92c5fbd611bb12a2",
       "version_major": 2,
       "version_minor": 0
      },
      "text/plain": [
       "Figure(axes=[Axis(label='Longitude', scale=LinearScale()), Axis(label='Latitude', orientation='vertical', scal…"
      ]
     },
     "metadata": {},
     "output_type": "display_data"
    }
   ],
   "source": [
    "# 1. data = for a scatter plot is the downsampled data\n",
    "\n",
    "# 2. scales\n",
    "x_sc = bqplot.LinearScale()\n",
    "y_sc = bqplot.LinearScale()\n",
    "col_sc = bqplot.ColorScale()\n",
    "\n",
    "# 3. axis\n",
    "x_ax = bqplot.Axis(scale=x_sc, label='Longitude')\n",
    "y_ax = bqplot.Axis(scale=y_sc, orientation='vertical', label='Latitude')\n",
    "col_ax = bqplot.ColorAxis(scale=col_sc, label='Duration in sec', orientation='vertical', side='right')\n",
    "\n",
    "# 4. marks\n",
    "scatters = bqplot.Scatter(x=ufosDS['longitude'], y=ufosDS['latitude'],\n",
    "                          color = np.log10(ufosDS['duration_seconds']),\n",
    "                         scales = {'x':x_sc, 'y':y_sc, 'color':col_sc})\n",
    "\n",
    "# skipping a bit... right into figure\n",
    "fig = bqplot.Figure(marks=[scatters],axes=[x_ax, y_ax,col_ax])\n",
    "fig"
   ]
  },
  {
   "cell_type": "code",
   "execution_count": 79,
   "id": "0349fd7e",
   "metadata": {},
   "outputs": [],
   "source": [
    "def generate_histogram_from_lat_long(ufos, nlong=20, nlat=20, longmin=-150, longmax=150,\n",
    "                                     latmin=-40, latmax=70,\n",
    "                                     takeLog=True):\n",
    "    long_bins = np.linspace(longmin, longmax, nlong+1)\n",
    "    lat_bins = np.linspace(latmin, latmax, nlat+1)\n",
    "    hist2d, long_edges, lat_edges = np.histogram2d(ufos['longitude'], \n",
    "                                                   ufos['latitude'], \n",
    "                                                   weights=ufos['duration_seconds'],\n",
    "                                                  bins = [long_bins,lat_bins])\n",
    "    hist2d = hist2d.T\n",
    "    if takeLog:\n",
    "        hist2d[hist2d <= 0] = np.nan # set zeros to NaNs\n",
    "        # then take log\n",
    "        hist2d = np.log10(hist2d)\n",
    "    long_centers = (long_edges[:-1] + long_edges[1:]) / 2\n",
    "    lat_centers = (lat_edges[:-1] + lat_edges[1:]) / 2\n",
    "    return hist2d, long_centers, lat_centers, long_edges, lat_edges"
   ]
  },
  {
   "cell_type": "code",
   "execution_count": 80,
   "id": "5164c076",
   "metadata": {},
   "outputs": [],
   "source": [
    "hist2d, long_centers, lat_centers, long_edges, lat_edges = generate_histogram_from_lat_long(ufos)"
   ]
  },
  {
   "cell_type": "code",
   "execution_count": 84,
   "id": "5ac83cf2",
   "metadata": {},
   "outputs": [],
   "source": [
    "#hist2d"
   ]
  },
  {
   "cell_type": "code",
   "execution_count": 85,
   "id": "dc7dce0b",
   "metadata": {},
   "outputs": [
    {
     "data": {
      "application/vnd.jupyter.widget-view+json": {
       "model_id": "53d046128e014c969eb75db6183be828",
       "version_major": 2,
       "version_minor": 0
      },
      "text/plain": [
       "Figure(axes=[ColorAxis(orientation='vertical', scale=ColorScale(max=8.09710747658943, min=0.0, scheme='RdPu'),…"
      ]
     },
     "metadata": {},
     "output_type": "display_data"
    }
   ],
   "source": [
    "# 1. data for the UFOS lat/long map (pre-binned)\n",
    "\n",
    "# 2. scales\n",
    "col_sc = bqplot.ColorScale(scheme=\"RdPu\", min=np.nanmin(hist2d), max=np.nanmax(hist2d))\n",
    "x_sc = bqplot.LinearScale()\n",
    "y_sc = bqplot.LinearScale()\n",
    "\n",
    "# 3. axis\n",
    "col_ax = bqplot.ColorAxis(scale=col_sc, orientation='vertical', side='right')\n",
    "x_ax = bqplot.Axis(scale=x_sc, label='Longitude')\n",
    "y_ax = bqplot.Axis(scale=y_sc, label='Latitude', orientation='vertical')\n",
    "\n",
    "# 4. marks\n",
    "heat_map = bqplot.GridHeatMap(color=hist2d, row=lat_centers, column=long_centers,\n",
    "                             scales={'color':col_sc, 'row':y_sc, 'column':x_sc},\n",
    "                             interactions={'click':'select'},\n",
    "                             selected_style={'fill':'blue'})\n",
    "\n",
    "# 5. interactivity\n",
    "\n",
    "# all together now!\n",
    "fig = bqplot.Figure(marks=[heat_map], axes=[col_ax, x_ax, y_ax])\n",
    "fig"
   ]
  },
  {
   "cell_type": "code",
   "execution_count": 88,
   "id": "9c5c4808",
   "metadata": {},
   "outputs": [
    {
     "data": {
      "application/vnd.jupyter.widget-view+json": {
       "model_id": "be716c6de49b451cbd301da3c4dda03c",
       "version_major": 2,
       "version_minor": 0
      },
      "text/plain": [
       "VBox(children=(Label(value=''), Figure(axes=[ColorAxis(orientation='vertical', scale=ColorScale(max=8.09710747…"
      ]
     },
     "metadata": {},
     "output_type": "display_data"
    }
   ],
   "source": [
    "# 1. data for the UFOS lat/long map (pre-binned)\n",
    "\n",
    "# 2. scales\n",
    "col_sc = bqplot.ColorScale(scheme=\"RdPu\", min=np.nanmin(hist2d), max=np.nanmax(hist2d))\n",
    "x_sc = bqplot.LinearScale()\n",
    "y_sc = bqplot.LinearScale()\n",
    "\n",
    "# 3. axis\n",
    "col_ax = bqplot.ColorAxis(scale=col_sc, orientation='vertical', side='right')\n",
    "x_ax = bqplot.Axis(scale=x_sc, label='Longitude')\n",
    "y_ax = bqplot.Axis(scale=y_sc, label='Latitude', orientation='vertical')\n",
    "\n",
    "# 4. marks\n",
    "heat_map = bqplot.GridHeatMap(color=hist2d, row=lat_centers, column=long_centers,\n",
    "                             scales={'color':col_sc, 'row':y_sc, 'column':x_sc},\n",
    "                             interactions={'click':'select'},\n",
    "                             selected_style={'fill':'blue'})\n",
    "\n",
    "# 5. interactivity\n",
    "selectedLabel = ipywidgets.Label()\n",
    "def get_data_value(change):\n",
    "    if len(change['owner'].selected) == 1: # only 1 selection allowed\n",
    "        i,j = change['owner'].selected[0]\n",
    "        v = hist2d[i,j]\n",
    "        selectedLabel.value = 'Total duration in log(sec)=' + str(v)\n",
    "        \n",
    "# make sure to link to the trait that is changing in the heat map\n",
    "heat_map.observe(get_data_value, 'selected')\n",
    "\n",
    "# all together now!\n",
    "fig = bqplot.Figure(marks=[heat_map], axes=[col_ax, x_ax, y_ax])\n",
    "#fig\n",
    "myDashboard = ipywidgets.VBox([selectedLabel, fig])\n",
    "myDashboard"
   ]
  },
  {
   "cell_type": "code",
   "execution_count": 89,
   "id": "6d388faf",
   "metadata": {},
   "outputs": [],
   "source": [
    "import datetime as dt"
   ]
  },
  {
   "cell_type": "code",
   "execution_count": 90,
   "id": "808da458",
   "metadata": {},
   "outputs": [],
   "source": [
    "# 2. scales for scatter plot\n",
    "x_scl = bqplot.DateScale(min=dt.datetime(1950,1,1),max=dt.datetime(2022,1,1))\n",
    "y_scl = bqplot.LogScale()"
   ]
  },
  {
   "cell_type": "code",
   "execution_count": 91,
   "id": "11ee6bcd",
   "metadata": {},
   "outputs": [],
   "source": [
    "ax_xcl = bqplot.Axis(label='Date', scale=x_scl)\n",
    "ax_ycl = bqplot.Axis(label='Duration in Sec', scale=y_scl, orientation='vertical')"
   ]
  },
  {
   "cell_type": "code",
   "execution_count": 92,
   "id": "2d163873",
   "metadata": {},
   "outputs": [],
   "source": [
    "i,j = 19,0 # I know this has a lot of data!"
   ]
  },
  {
   "cell_type": "code",
   "execution_count": 94,
   "id": "141bfb31",
   "metadata": {},
   "outputs": [],
   "source": [
    "# ufos[i,j] this won't work!  our data is not in a 20x20 grid format\n",
    "long_min = long_edges[j] # j is associated with y\n",
    "long_max = long_edges[j+1]"
   ]
  },
  {
   "cell_type": "code",
   "execution_count": 95,
   "id": "30c3caf1",
   "metadata": {},
   "outputs": [
    {
     "data": {
      "text/plain": [
       "(-150.0, -135.0)"
      ]
     },
     "execution_count": 95,
     "metadata": {},
     "output_type": "execute_result"
    }
   ],
   "source": [
    "long_min, long_max"
   ]
  },
  {
   "cell_type": "code",
   "execution_count": 98,
   "id": "6c1366eb",
   "metadata": {},
   "outputs": [],
   "source": [
    "lat_min = lat_edges[i] # i is associated with x\n",
    "lat_max = lat_edges[i+1]"
   ]
  },
  {
   "cell_type": "code",
   "execution_count": 99,
   "id": "a2d33b6a",
   "metadata": {},
   "outputs": [
    {
     "data": {
      "text/plain": [
       "(64.5, 70.0)"
      ]
     },
     "execution_count": 99,
     "metadata": {},
     "output_type": "execute_result"
    }
   ],
   "source": [
    "lat_min, lat_max"
   ]
  },
  {
   "cell_type": "code",
   "execution_count": 102,
   "id": "f6e404c8",
   "metadata": {},
   "outputs": [],
   "source": [
    "region_mask = ( (ufos['latitude']>=lat_min) & (ufos['latitude']<=lat_max) &\\\n",
    "              (ufos['longitude']>=long_min) & (ufos['longitude']<=long_max) )"
   ]
  },
  {
   "cell_type": "code",
   "execution_count": 103,
   "id": "c8f021d7",
   "metadata": {},
   "outputs": [
    {
     "data": {
      "text/plain": [
       "327      64.837778\n",
       "2845     64.837778\n",
       "3620     64.837778\n",
       "4602     64.751111\n",
       "6011     64.837778\n",
       "           ...    \n",
       "77347    64.751111\n",
       "77497    64.837778\n",
       "78571    64.837778\n",
       "79029    64.837778\n",
       "79470    64.837778\n",
       "Name: latitude, Length: 74, dtype: float64"
      ]
     },
     "execution_count": 103,
     "metadata": {},
     "output_type": "execute_result"
    }
   ],
   "source": [
    "ufos['latitude'][region_mask]"
   ]
  },
  {
   "cell_type": "code",
   "execution_count": 104,
   "id": "47ecfdb3",
   "metadata": {},
   "outputs": [
    {
     "data": {
      "text/plain": [
       "327     -147.716389\n",
       "2845    -147.716389\n",
       "3620    -147.716389\n",
       "4602    -147.349444\n",
       "6011    -147.716389\n",
       "            ...    \n",
       "77347   -147.349444\n",
       "77497   -147.716389\n",
       "78571   -147.716389\n",
       "79029   -147.716389\n",
       "79470   -147.716389\n",
       "Name: longitude, Length: 74, dtype: float64"
      ]
     },
     "execution_count": 104,
     "metadata": {},
     "output_type": "execute_result"
    }
   ],
   "source": [
    "ufos['longitude'][region_mask]"
   ]
  },
  {
   "cell_type": "code",
   "execution_count": 105,
   "id": "859954b5",
   "metadata": {},
   "outputs": [],
   "source": [
    "# 4. Marks\n",
    "scatters = bqplot.Scatter(x=ufos['date'][region_mask], \n",
    "                         y=ufos['duration_seconds'][region_mask],\n",
    "                         scales={'x':x_scl, 'y':y_scl})"
   ]
  },
  {
   "cell_type": "code",
   "execution_count": 106,
   "id": "5a170fa4",
   "metadata": {},
   "outputs": [
    {
     "data": {
      "application/vnd.jupyter.widget-view+json": {
       "model_id": "2e1d4a63dd78467ca0badacc63177cbe",
       "version_major": 2,
       "version_minor": 0
      },
      "text/plain": [
       "Figure(axes=[Axis(label='Date', scale=DateScale(max=datetime.datetime(2022, 1, 1, 0, 0), min=datetime.datetime…"
      ]
     },
     "metadata": {},
     "output_type": "display_data"
    }
   ],
   "source": [
    "fig_dur = bqplot.Figure(marks=[scatters], axes=[ax_xcl, ax_ycl])\n",
    "fig_dur"
   ]
  },
  {
   "cell_type": "code",
   "execution_count": 107,
   "id": "0eaa1f53",
   "metadata": {},
   "outputs": [],
   "source": [
    "# 1. data for the UFOS lat/long map (pre-binned)\n",
    "\n",
    "# 2. scales\n",
    "col_sc = bqplot.ColorScale(scheme=\"RdPu\", min=np.nanmin(hist2d), max=np.nanmax(hist2d))\n",
    "x_sc = bqplot.LinearScale()\n",
    "y_sc = bqplot.LinearScale()\n",
    "\n",
    "# 3. axis\n",
    "col_ax = bqplot.ColorAxis(scale=col_sc, orientation='vertical', side='right')\n",
    "x_ax = bqplot.Axis(scale=x_sc, label='Longitude')\n",
    "y_ax = bqplot.Axis(scale=y_sc, label='Latitude', orientation='vertical')\n",
    "\n",
    "# 4. marks\n",
    "heat_map = bqplot.GridHeatMap(color=hist2d, row=lat_centers, column=long_centers,\n",
    "                             scales={'color':col_sc, 'row':y_sc, 'column':x_sc},\n",
    "                             interactions={'click':'select'},\n",
    "                             selected_style={'fill':'blue'})\n",
    "\n",
    "# all together now!\n",
    "fig = bqplot.Figure(marks=[heat_map], axes=[col_ax, x_ax, y_ax])\n",
    "#fig\n",
    "#myDashboard = ipywidgets.VBox([selectedLabel, fig])\n",
    "#myDashboard"
   ]
  },
  {
   "cell_type": "code",
   "execution_count": 108,
   "id": "a0023b7f",
   "metadata": {},
   "outputs": [],
   "source": [
    "# 5. interactivity\n",
    "selectedLabel = ipywidgets.Label()\n",
    "def get_data_value(change):\n",
    "    if len(change['owner'].selected) == 1: # only 1 selection allowed\n",
    "        i,j = change['owner'].selected[0]\n",
    "        v = hist2d[i,j]\n",
    "        selectedLabel.value = 'Total duration in log(sec)=' + str(v)\n",
    "        long_min = long_edges[j] # j is associated with y\n",
    "        long_max = long_edges[j+1]\n",
    "        lat_min = lat_edges[i] # i is associated with x\n",
    "        lat_max = lat_edges[i+1]\n",
    "        region_mask = ( (ufos['latitude']>=lat_min) & (ufos['latitude']<=lat_max) &\\\n",
    "              (ufos['longitude']>=long_min) & (ufos['longitude']<=long_max) )\n",
    "        scatters.x = ufos['date'][region_mask]\n",
    "        scatters.y = ufos['duration_seconds'][region_mask]\n",
    "        \n",
    "# make sure to link to the trait that is changing in the heat map\n",
    "heat_map.observe(get_data_value, 'selected')"
   ]
  },
  {
   "cell_type": "code",
   "execution_count": 109,
   "id": "d0751f07",
   "metadata": {},
   "outputs": [
    {
     "data": {
      "application/vnd.jupyter.widget-view+json": {
       "model_id": "7b28cdc7035a4469b90f9d5cb4722043",
       "version_major": 2,
       "version_minor": 0
      },
      "text/plain": [
       "VBox(children=(Label(value=''), HBox(children=(Figure(axes=[ColorAxis(orientation='vertical', scale=ColorScale…"
      ]
     },
     "metadata": {},
     "output_type": "display_data"
    }
   ],
   "source": [
    "fig.layout.min_width='500px'\n",
    "fig.layout.min_width='500px'\n",
    "\n",
    "figures = ipywidgets.HBox([fig, fig_dur])\n",
    "\n",
    "myDashboard = ipywidgets.VBox([selectedLabel, figures])\n",
    "myDashboard"
   ]
  },
  {
   "cell_type": "markdown",
   "id": "a2ab63e5",
   "metadata": {},
   "source": [
    "Updating the scatter plot to use a bar chart!"
   ]
  },
  {
   "cell_type": "code",
   "execution_count": 110,
   "id": "ddab9466",
   "metadata": {},
   "outputs": [],
   "source": [
    "# bar plot\n",
    "\n",
    "# scales\n",
    "x_scl = bqplot.LinearScale()\n",
    "y_scl = bqplot.LinearScale()\n",
    "\n",
    "# axis\n",
    "ax_xcl = bqplot.Axis(label='Year', scale=x_scl)\n",
    "ax_ycl = bqplot.Axis(label='Total duration in sec', scale=y_scl, orientation='vertical')"
   ]
  },
  {
   "cell_type": "code",
   "execution_count": 111,
   "id": "ca0e32b3",
   "metadata": {},
   "outputs": [],
   "source": [
    "i,j = 19,0 # I know this has a lot of data!\n",
    "long_min = long_edges[j] # j is associated with y\n",
    "long_max = long_edges[j+1]\n",
    "lat_min = lat_edges[i] # i is associated with x\n",
    "lat_max = lat_edges[i+1]\n",
    "region_mask = ( (ufos['latitude']>=lat_min) & (ufos['latitude']<=lat_max) &\\\n",
    "              (ufos['longitude']>=long_min) & (ufos['longitude']<=long_max) )"
   ]
  },
  {
   "cell_type": "code",
   "execution_count": 112,
   "id": "512962f1",
   "metadata": {},
   "outputs": [
    {
     "data": {
      "text/plain": [
       "0        1949\n",
       "1        1949\n",
       "2        1955\n",
       "3        1956\n",
       "4        1960\n",
       "         ... \n",
       "80327    2013\n",
       "80328    2013\n",
       "80329    2013\n",
       "80330    2013\n",
       "80331    2013\n",
       "Name: year, Length: 80332, dtype: int64"
      ]
     },
     "execution_count": 112,
     "metadata": {},
     "output_type": "execute_result"
    }
   ],
   "source": [
    "ufos['year'] = ufos['date'].dt.year\n",
    "ufos['year']"
   ]
  },
  {
   "cell_type": "code",
   "execution_count": 113,
   "id": "9a7ece39",
   "metadata": {},
   "outputs": [],
   "source": [
    "dur, dur_edges = np.histogram(ufos['year'][region_mask], \n",
    "                             weights=ufos['duration_seconds'][region_mask],\n",
    "                             bins=10)"
   ]
  },
  {
   "cell_type": "code",
   "execution_count": 114,
   "id": "f157c579",
   "metadata": {},
   "outputs": [],
   "source": [
    "dur_centers = (dur_edges[:-1]+dur_edges[1:])/2"
   ]
  },
  {
   "cell_type": "code",
   "execution_count": 115,
   "id": "c77df9eb",
   "metadata": {},
   "outputs": [],
   "source": [
    "# marks\n",
    "dur_hist = bqplot.Bars(x=dur_centers, y=dur, scales={'x':x_scl, 'y':y_scl})"
   ]
  },
  {
   "cell_type": "code",
   "execution_count": 116,
   "id": "214008ff",
   "metadata": {},
   "outputs": [],
   "source": [
    "fig_dur = bqplot.Figure(marks=[dur_hist],axes=[ax_xcl,ax_ycl])"
   ]
  },
  {
   "cell_type": "code",
   "execution_count": 117,
   "id": "1f344339",
   "metadata": {},
   "outputs": [
    {
     "data": {
      "application/vnd.jupyter.widget-view+json": {
       "model_id": "d8c6300d0b8e473eae24724f84ea9cdb",
       "version_major": 2,
       "version_minor": 0
      },
      "text/plain": [
       "Figure(axes=[Axis(label='Year', scale=LinearScale(), side='bottom'), Axis(label='Total duration in sec', orien…"
      ]
     },
     "metadata": {},
     "output_type": "display_data"
    }
   ],
   "source": [
    "fig_dur"
   ]
  },
  {
   "cell_type": "code",
   "execution_count": 118,
   "id": "6a5431c2",
   "metadata": {},
   "outputs": [],
   "source": [
    "# 5. interactivity\n",
    "selectedLabel = ipywidgets.Label()\n",
    "def get_data_value(change):\n",
    "    if len(change['owner'].selected) == 1: # only 1 selection allowed\n",
    "        i,j = change['owner'].selected[0]\n",
    "        v = hist2d[i,j]\n",
    "        selectedLabel.value = 'Total duration in log(sec)=' + str(v)\n",
    "        long_min = long_edges[j] # j is associated with y\n",
    "        long_max = long_edges[j+1]\n",
    "        lat_min = lat_edges[i] # i is associated with x\n",
    "        lat_max = lat_edges[i+1]\n",
    "        region_mask = ( (ufos['latitude']>=lat_min) & (ufos['latitude']<=lat_max) &\\\n",
    "              (ufos['longitude']>=long_min) & (ufos['longitude']<=long_max) )\n",
    "        #scatters.x = ufos['date'][region_mask]\n",
    "        #scatters.y = ufos['duration_seconds'][region_mask]\n",
    "        if len(ufos['year'][region_mask])>0: # make sure we have data\n",
    "            dur, dur_edges = np.histogram(ufos['year'][region_mask], \n",
    "                                         weights=ufos['duration_seconds'][region_mask],\n",
    "                                         bins=10)     \n",
    "            dur_centers = (dur_edges[:-1]+dur_edges[1:])/2\n",
    "            dur_hist.x = dur_centers\n",
    "            dur_hist.y = dur\n",
    "            \n",
    "# make sure to link to the trait that is changing in the heat map\n",
    "heat_map.observe(get_data_value, 'selected')"
   ]
  },
  {
   "cell_type": "code",
   "execution_count": 120,
   "id": "59aff255",
   "metadata": {},
   "outputs": [],
   "source": [
    "# (I) GRIDHEAT MAP\n",
    "# 1. data for the UFOS lat/long map (pre-binned)\n",
    "\n",
    "# 2. scales\n",
    "col_sc = bqplot.ColorScale(scheme=\"RdPu\", min=np.nanmin(hist2d), max=np.nanmax(hist2d))\n",
    "x_sc = bqplot.LinearScale()\n",
    "y_sc = bqplot.LinearScale()\n",
    "\n",
    "# 3. axis\n",
    "col_ax = bqplot.ColorAxis(scale=col_sc, orientation='vertical', side='right')\n",
    "x_ax = bqplot.Axis(scale=x_sc, label='Longitude')\n",
    "y_ax = bqplot.Axis(scale=y_sc, label='Latitude', orientation='vertical')\n",
    "\n",
    "# 4. marks\n",
    "heat_map = bqplot.GridHeatMap(color=hist2d, row=lat_centers, column=long_centers,\n",
    "                             scales={'color':col_sc, 'row':y_sc, 'column':x_sc},\n",
    "                             interactions={'click':'select'},\n",
    "                             selected_style={'fill':'blue'})\n",
    "\n",
    "# all together now!\n",
    "fig = bqplot.Figure(marks=[heat_map], axes=[col_ax, x_ax, y_ax])"
   ]
  },
  {
   "cell_type": "code",
   "execution_count": 121,
   "id": "e3241bac",
   "metadata": {},
   "outputs": [],
   "source": [
    "# (II) BAR PLOT\n",
    "\n",
    "# scales\n",
    "x_scl = bqplot.LinearScale()\n",
    "y_scl = bqplot.LinearScale()\n",
    "\n",
    "# axis\n",
    "ax_xcl = bqplot.Axis(label='Year', scale=x_scl)\n",
    "ax_ycl = bqplot.Axis(label='Total duration in sec', scale=y_scl, orientation='vertical')\n",
    "\n",
    "# marks/data\n",
    "i,j = 19,0 # I know this has a lot of data!\n",
    "long_min = long_edges[j] # j is associated with y\n",
    "long_max = long_edges[j+1]\n",
    "lat_min = lat_edges[i] # i is associated with x\n",
    "lat_max = lat_edges[i+1]\n",
    "region_mask = ( (ufos['latitude']>=lat_min) & (ufos['latitude']<=lat_max) &\\\n",
    "              (ufos['longitude']>=long_min) & (ufos['longitude']<=long_max) )\n",
    "\n",
    "dur, dur_edges = np.histogram(ufos['year'][region_mask], \n",
    "                             weights=ufos['duration_seconds'][region_mask],\n",
    "                             bins=10)\n",
    "\n",
    "dur_hist = bqplot.Bars(x=dur_centers, y=dur, scales={'x':x_scl, 'y':y_scl})\n",
    "\n",
    "fig_dur = bqplot.Figure(marks=[dur_hist],axes=[ax_xcl,ax_ycl])"
   ]
  },
  {
   "cell_type": "code",
   "execution_count": 122,
   "id": "bdf3606f",
   "metadata": {},
   "outputs": [],
   "source": [
    "# (III) LINKING GRIDHEATMAP TO BARPLOT\n",
    "selectedLabel = ipywidgets.Label()\n",
    "def get_data_value(change):\n",
    "    if len(change['owner'].selected) == 1: # only 1 selection allowed\n",
    "        i,j = change['owner'].selected[0]\n",
    "        v = hist2d[i,j]\n",
    "        selectedLabel.value = 'Total duration in log(sec)=' + str(v)\n",
    "        long_min = long_edges[j] # j is associated with y\n",
    "        long_max = long_edges[j+1]\n",
    "        lat_min = lat_edges[i] # i is associated with x\n",
    "        lat_max = lat_edges[i+1]\n",
    "        region_mask = ( (ufos['latitude']>=lat_min) & (ufos['latitude']<=lat_max) &\\\n",
    "              (ufos['longitude']>=long_min) & (ufos['longitude']<=long_max) )\n",
    "        if len(ufos['year'][region_mask])>0: # make sure we have data\n",
    "            dur, dur_edges = np.histogram(ufos['year'][region_mask], \n",
    "                                         weights=ufos['duration_seconds'][region_mask],\n",
    "                                         bins=10)     \n",
    "            dur_centers = (dur_edges[:-1]+dur_edges[1:])/2\n",
    "            dur_hist.x = dur_centers\n",
    "            dur_hist.y = dur\n",
    "            \n",
    "# make sure to link to the trait that is changing in the heat map\n",
    "heat_map.observe(get_data_value, 'selected')"
   ]
  },
  {
   "cell_type": "code",
   "execution_count": 123,
   "id": "a8080703",
   "metadata": {},
   "outputs": [],
   "source": [
    "# (IV) LAYOUT OF DASHBOARD\n",
    "fig.layout.min_width='500px'\n",
    "fig_dur.layout.min_width='500px'\n",
    "figures = ipywidgets.HBox([fig, fig_dur])\n",
    "myDashboard = ipywidgets.VBox([selectedLabel, figures])"
   ]
  },
  {
   "cell_type": "code",
   "execution_count": 124,
   "id": "0051a444",
   "metadata": {},
   "outputs": [
    {
     "data": {
      "application/vnd.jupyter.widget-view+json": {
       "model_id": "83dc6a10ca32490bb4b83b2186398460",
       "version_major": 2,
       "version_minor": 0
      },
      "text/plain": [
       "VBox(children=(Label(value=''), HBox(children=(Figure(axes=[ColorAxis(orientation='vertical', scale=ColorScale…"
      ]
     },
     "metadata": {},
     "output_type": "display_data"
    }
   ],
   "source": [
    "myDashboard"
   ]
  },
  {
   "cell_type": "markdown",
   "id": "2c19383e",
   "metadata": {},
   "source": [
    "## Homework hint!\n",
    "\n",
    "One thing you might want to try for the homework is a pivot table.  Here is an example dataframe that is similiar in \"shape\" to the homework data:"
   ]
  },
  {
   "cell_type": "code",
   "execution_count": 125,
   "id": "8ddd59f0",
   "metadata": {},
   "outputs": [
    {
     "data": {
      "text/html": [
       "<div>\n",
       "<style scoped>\n",
       "    .dataframe tbody tr th:only-of-type {\n",
       "        vertical-align: middle;\n",
       "    }\n",
       "\n",
       "    .dataframe tbody tr th {\n",
       "        vertical-align: top;\n",
       "    }\n",
       "\n",
       "    .dataframe thead th {\n",
       "        text-align: right;\n",
       "    }\n",
       "</style>\n",
       "<table border=\"1\" class=\"dataframe\">\n",
       "  <thead>\n",
       "    <tr style=\"text-align: right;\">\n",
       "      <th></th>\n",
       "      <th>A</th>\n",
       "      <th>B</th>\n",
       "      <th>C</th>\n",
       "      <th>D</th>\n",
       "      <th>E</th>\n",
       "    </tr>\n",
       "  </thead>\n",
       "  <tbody>\n",
       "    <tr>\n",
       "      <th>0</th>\n",
       "      <td>foo</td>\n",
       "      <td>one</td>\n",
       "      <td>small</td>\n",
       "      <td>1</td>\n",
       "      <td>2</td>\n",
       "    </tr>\n",
       "    <tr>\n",
       "      <th>1</th>\n",
       "      <td>foo</td>\n",
       "      <td>one</td>\n",
       "      <td>large</td>\n",
       "      <td>2</td>\n",
       "      <td>4</td>\n",
       "    </tr>\n",
       "    <tr>\n",
       "      <th>2</th>\n",
       "      <td>foo</td>\n",
       "      <td>one</td>\n",
       "      <td>large</td>\n",
       "      <td>2</td>\n",
       "      <td>5</td>\n",
       "    </tr>\n",
       "    <tr>\n",
       "      <th>3</th>\n",
       "      <td>foo</td>\n",
       "      <td>two</td>\n",
       "      <td>small</td>\n",
       "      <td>3</td>\n",
       "      <td>5</td>\n",
       "    </tr>\n",
       "    <tr>\n",
       "      <th>4</th>\n",
       "      <td>foo</td>\n",
       "      <td>two</td>\n",
       "      <td>small</td>\n",
       "      <td>3</td>\n",
       "      <td>6</td>\n",
       "    </tr>\n",
       "    <tr>\n",
       "      <th>5</th>\n",
       "      <td>bar</td>\n",
       "      <td>one</td>\n",
       "      <td>large</td>\n",
       "      <td>4</td>\n",
       "      <td>6</td>\n",
       "    </tr>\n",
       "    <tr>\n",
       "      <th>6</th>\n",
       "      <td>bar</td>\n",
       "      <td>one</td>\n",
       "      <td>small</td>\n",
       "      <td>5</td>\n",
       "      <td>8</td>\n",
       "    </tr>\n",
       "    <tr>\n",
       "      <th>7</th>\n",
       "      <td>bar</td>\n",
       "      <td>two</td>\n",
       "      <td>small</td>\n",
       "      <td>6</td>\n",
       "      <td>9</td>\n",
       "    </tr>\n",
       "    <tr>\n",
       "      <th>8</th>\n",
       "      <td>bar</td>\n",
       "      <td>two</td>\n",
       "      <td>large</td>\n",
       "      <td>7</td>\n",
       "      <td>9</td>\n",
       "    </tr>\n",
       "  </tbody>\n",
       "</table>\n",
       "</div>"
      ],
      "text/plain": [
       "     A    B      C  D  E\n",
       "0  foo  one  small  1  2\n",
       "1  foo  one  large  2  4\n",
       "2  foo  one  large  2  5\n",
       "3  foo  two  small  3  5\n",
       "4  foo  two  small  3  6\n",
       "5  bar  one  large  4  6\n",
       "6  bar  one  small  5  8\n",
       "7  bar  two  small  6  9\n",
       "8  bar  two  large  7  9"
      ]
     },
     "execution_count": 125,
     "metadata": {},
     "output_type": "execute_result"
    }
   ],
   "source": [
    "df = pd.DataFrame({\"A\": [\"foo\", \"foo\", \"foo\", \"foo\", \"foo\",\n",
    "                         \"bar\", \"bar\", \"bar\", \"bar\"],\n",
    "                   \"B\": [\"one\", \"one\", \"one\", \"two\", \"two\",\n",
    "                         \"one\", \"one\", \"two\", \"two\"],\n",
    "                   \"C\": [\"small\", \"large\", \"large\", \"small\",\n",
    "                         \"small\", \"large\", \"small\", \"small\",\n",
    "                         \"large\"],\n",
    "                   \"D\": [1, 2, 2, 3, 3, 4, 5, 6, 7],\n",
    "                   \"E\": [2, 4, 5, 5, 6, 6, 8, 9, 9]})\n",
    "df"
   ]
  },
  {
   "cell_type": "markdown",
   "id": "5adb4c08",
   "metadata": {},
   "source": [
    "Let's say we want to sum all the values of \"D\" into bins of 'A' and 'C', we could do this with:"
   ]
  },
  {
   "cell_type": "code",
   "execution_count": null,
   "id": "376237a5",
   "metadata": {},
   "outputs": [],
   "source": []
  }
 ],
 "metadata": {
  "kernelspec": {
   "display_name": "Python 3 (ipykernel)",
   "language": "python",
   "name": "python3"
  },
  "language_info": {
   "codemirror_mode": {
    "name": "ipython",
    "version": 3
   },
   "file_extension": ".py",
   "mimetype": "text/x-python",
   "name": "python",
   "nbconvert_exporter": "python",
   "pygments_lexer": "ipython3",
   "version": "3.7.12"
  }
 },
 "nbformat": 4,
 "nbformat_minor": 5
}
