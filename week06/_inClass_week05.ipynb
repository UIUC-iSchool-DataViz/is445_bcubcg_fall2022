{
 "cells": [
  {
   "cell_type": "code",
   "execution_count": 1,
   "id": "greatest-charge",
   "metadata": {},
   "outputs": [],
   "source": [
    "import ipywidgets\n",
    "\n",
    "import numpy as np\n",
    "import bqplot"
   ]
  },
  {
   "cell_type": "markdown",
   "id": "adjustable-indonesia",
   "metadata": {},
   "source": [
    "## Example of using bqplot with imperative (non-matplotlib-like interface)"
   ]
  },
  {
   "cell_type": "markdown",
   "id": "voluntary-wednesday",
   "metadata": {},
   "source": [
    "**Step 1:** Getting data together (starting with random data)"
   ]
  },
  {
   "cell_type": "code",
   "execution_count": 2,
   "id": "brown-mirror",
   "metadata": {},
   "outputs": [],
   "source": [
    "x = np.arange(100)"
   ]
  },
  {
   "cell_type": "code",
   "execution_count": 6,
   "id": "based-chess",
   "metadata": {},
   "outputs": [],
   "source": [
    "#x"
   ]
  },
  {
   "cell_type": "code",
   "execution_count": 4,
   "id": "hollow-repair",
   "metadata": {},
   "outputs": [],
   "source": [
    "y = np.random.random(100)"
   ]
  },
  {
   "cell_type": "code",
   "execution_count": 7,
   "id": "unable-living",
   "metadata": {},
   "outputs": [],
   "source": [
    "#y"
   ]
  },
  {
   "cell_type": "markdown",
   "id": "thrown-chicken",
   "metadata": {},
   "source": [
    "**Step 2**: Scales -- linear in this case (mapping the data to a visual representation/encoding), encoding in this case will be distance along x/y axis"
   ]
  },
  {
   "cell_type": "code",
   "execution_count": 8,
   "id": "lucky-variance",
   "metadata": {},
   "outputs": [],
   "source": [
    "x_sc = bqplot.LinearScale()\n",
    "y_sc = bqplot.LinearScale()"
   ]
  },
  {
   "cell_type": "code",
   "execution_count": 9,
   "id": "electronic-briefs",
   "metadata": {},
   "outputs": [
    {
     "data": {
      "text/plain": [
       "LinearScale()"
      ]
     },
     "execution_count": 9,
     "metadata": {},
     "output_type": "execute_result"
    }
   ],
   "source": [
    "x_sc"
   ]
  },
  {
   "cell_type": "markdown",
   "id": "straight-recording",
   "metadata": {},
   "source": [
    "**Step 3**: Axis (could be marks)"
   ]
  },
  {
   "cell_type": "code",
   "execution_count": 10,
   "id": "intellectual-stream",
   "metadata": {},
   "outputs": [],
   "source": [
    "ax_x = bqplot.Axis(scale = x_sc, label='X value')\n",
    "ax_y = bqplot.Axis(scale = y_sc, label='Y value', orientation='vertical')"
   ]
  },
  {
   "cell_type": "code",
   "execution_count": 11,
   "id": "light-finding",
   "metadata": {},
   "outputs": [],
   "source": [
    "bqplot.Axis?"
   ]
  },
  {
   "cell_type": "markdown",
   "id": "sacred-panel",
   "metadata": {},
   "source": [
    "**Step 4**: Marks (in our case, a line mark to make a line plot)"
   ]
  },
  {
   "cell_type": "code",
   "execution_count": 12,
   "id": "peripheral-louisiana",
   "metadata": {},
   "outputs": [],
   "source": [
    "lines = bqplot.Lines(x=x, y = y, scales={'x':x_sc, 'y':y_sc})"
   ]
  },
  {
   "cell_type": "code",
   "execution_count": 14,
   "id": "second-kansas",
   "metadata": {},
   "outputs": [],
   "source": [
    "#lines"
   ]
  },
  {
   "cell_type": "markdown",
   "id": "reasonable-little",
   "metadata": {},
   "source": [
    "*Sometimes here would be interactions, but not yet!*"
   ]
  },
  {
   "cell_type": "markdown",
   "id": "social-research",
   "metadata": {},
   "source": [
    "**Finally**: All together as a figure"
   ]
  },
  {
   "cell_type": "code",
   "execution_count": 15,
   "id": "fixed-bhutan",
   "metadata": {},
   "outputs": [],
   "source": [
    "fig = bqplot.Figure(marks=[lines], axes=[ax_x, ax_y])"
   ]
  },
  {
   "cell_type": "code",
   "execution_count": 18,
   "id": "funded-circle",
   "metadata": {},
   "outputs": [
    {
     "data": {
      "application/vnd.jupyter.widget-view+json": {
       "model_id": "1590e27df741461e934408647c7501eb",
       "version_major": 2,
       "version_minor": 0
      },
      "text/plain": [
       "Figure(axes=[Axis(label='X value', scale=LinearScale(), side='bottom'), Axis(label='Y value', orientation='ver…"
      ]
     },
     "metadata": {},
     "output_type": "display_data"
    }
   ],
   "source": [
    "#display(fig)\n",
    "fig"
   ]
  },
  {
   "cell_type": "markdown",
   "id": "alleged-james",
   "metadata": {},
   "source": [
    "Let's add in some interactivity using `bqplot.interacts`"
   ]
  },
  {
   "cell_type": "code",
   "execution_count": 19,
   "id": "latest-allowance",
   "metadata": {},
   "outputs": [],
   "source": [
    "pz = bqplot.interacts.PanZoom(scales={'x':[x_sc], 'y':[y_sc]})"
   ]
  },
  {
   "cell_type": "code",
   "execution_count": 20,
   "id": "creative-karaoke",
   "metadata": {},
   "outputs": [
    {
     "data": {
      "text/plain": [
       "PanZoom(scales={'x': [LinearScale()], 'y': [LinearScale()]})"
      ]
     },
     "execution_count": 20,
     "metadata": {},
     "output_type": "execute_result"
    }
   ],
   "source": [
    "pz"
   ]
  },
  {
   "cell_type": "markdown",
   "id": "gentle-acquisition",
   "metadata": {},
   "source": [
    "Re-build figure object and include interactivity:"
   ]
  },
  {
   "cell_type": "code",
   "execution_count": 21,
   "id": "fuzzy-allen",
   "metadata": {},
   "outputs": [],
   "source": [
    "fig = bqplot.Figure(marks=[lines], axes=[ax_x, ax_y], interaction=pz)"
   ]
  },
  {
   "cell_type": "code",
   "execution_count": 22,
   "id": "understood-twelve",
   "metadata": {},
   "outputs": [
    {
     "data": {
      "application/vnd.jupyter.widget-view+json": {
       "model_id": "6eebc8fe6d374a7aaec70b7330a3f673",
       "version_major": 2,
       "version_minor": 0
      },
      "text/plain": [
       "Figure(axes=[Axis(label='X value', scale=LinearScale(), side='bottom'), Axis(label='Y value', orientation='ver…"
      ]
     },
     "metadata": {},
     "output_type": "display_data"
    }
   ],
   "source": [
    "fig"
   ]
  },
  {
   "cell_type": "markdown",
   "id": "cooperative-breed",
   "metadata": {},
   "source": [
    "## Try another one: Random Scatter plot"
   ]
  },
  {
   "cell_type": "code",
   "execution_count": 23,
   "id": "medium-mechanics",
   "metadata": {},
   "outputs": [],
   "source": [
    "# 1. Data\n",
    "x = np.random.random(100) # random x\n",
    "y = np.random.random(100) # random y"
   ]
  },
  {
   "cell_type": "code",
   "execution_count": 25,
   "id": "invisible-algorithm",
   "metadata": {},
   "outputs": [],
   "source": [
    "#x, y"
   ]
  },
  {
   "cell_type": "code",
   "execution_count": 26,
   "id": "passive-intervention",
   "metadata": {},
   "outputs": [],
   "source": [
    "# 2. scales\n",
    "x_sc = bqplot.LinearScale()\n",
    "y_sc = bqplot.LinearScale()\n",
    "\n",
    "# 3. axis\n",
    "x_ax = bqplot.Axis(scale = x_sc, label = 'Random X')\n",
    "y_ax = bqplot.Axis(scale = y_sc, label = 'Random Y', orientation = 'vertical')"
   ]
  },
  {
   "cell_type": "code",
   "execution_count": 27,
   "id": "injured-workplace",
   "metadata": {},
   "outputs": [],
   "source": [
    "# 4. Marks\n",
    "scatters = bqplot.Scatter(x=x, y = y, scales = {'x':x_sc, 'y':y_sc})"
   ]
  },
  {
   "cell_type": "code",
   "execution_count": 31,
   "id": "published-background",
   "metadata": {},
   "outputs": [],
   "source": [
    "# 5. interactions... stay tuned!\n",
    "# trying another one out -- fast interval selector\n",
    "selector = bqplot.interacts.FastIntervalSelector(scale=x_sc, marks=[scatters])"
   ]
  },
  {
   "cell_type": "code",
   "execution_count": 32,
   "id": "foreign-drain",
   "metadata": {},
   "outputs": [
    {
     "data": {
      "application/vnd.jupyter.widget-view+json": {
       "model_id": "96971f9a63694d2cbfa31d271ba96054",
       "version_major": 2,
       "version_minor": 0
      },
      "text/plain": [
       "Figure(axes=[Axis(label='Random X', scale=LinearScale(), side='bottom'), Axis(label='Random Y', orientation='v…"
      ]
     },
     "metadata": {},
     "output_type": "display_data"
    }
   ],
   "source": [
    "fig = bqplot.Figure(marks=[scatters], axes=[x_ax, y_ax], interaction=selector)\n",
    "fig"
   ]
  },
  {
   "cell_type": "code",
   "execution_count": 33,
   "id": "aerial-lending",
   "metadata": {},
   "outputs": [
    {
     "data": {
      "text/plain": [
       "['_model_module',\n",
       " '_model_module_version',\n",
       " '_model_name',\n",
       " '_view_count',\n",
       " '_view_module',\n",
       " '_view_module_version',\n",
       " '_view_name',\n",
       " 'color',\n",
       " 'marks',\n",
       " 'scale',\n",
       " 'selected',\n",
       " 'size']"
      ]
     },
     "execution_count": 33,
     "metadata": {},
     "output_type": "execute_result"
    }
   ],
   "source": [
    "selector.keys"
   ]
  },
  {
   "cell_type": "markdown",
   "id": "later-printing",
   "metadata": {},
   "source": [
    "the `selector.marks` is the same as our `scatters` marks"
   ]
  },
  {
   "cell_type": "code",
   "execution_count": 36,
   "id": "built-bouquet",
   "metadata": {},
   "outputs": [],
   "source": [
    "#selector.marks"
   ]
  },
  {
   "cell_type": "code",
   "execution_count": 37,
   "id": "arranged-garage",
   "metadata": {},
   "outputs": [],
   "source": [
    "#scatters"
   ]
  },
  {
   "cell_type": "code",
   "execution_count": 39,
   "id": "portuguese-civilization",
   "metadata": {},
   "outputs": [
    {
     "data": {
      "text/plain": [
       "array([0.50055503, 0.98524619])"
      ]
     },
     "execution_count": 39,
     "metadata": {},
     "output_type": "execute_result"
    }
   ],
   "source": [
    "selector.selected"
   ]
  },
  {
   "cell_type": "markdown",
   "id": "narrative-chest",
   "metadata": {},
   "source": [
    "Looking forward -- we can maybe use this range to \"subset\" our data and do something else with the selected subset... (more on this later)"
   ]
  },
  {
   "cell_type": "code",
   "execution_count": 41,
   "id": "stunning-track",
   "metadata": {},
   "outputs": [
    {
     "data": {
      "text/plain": [
       "['_model_module',\n",
       " '_model_module_version',\n",
       " '_model_name',\n",
       " '_view_count',\n",
       " '_view_module',\n",
       " '_view_module_version',\n",
       " '_view_name',\n",
       " 'apply_clip',\n",
       " 'color',\n",
       " 'colors',\n",
       " 'default_size',\n",
       " 'default_skew',\n",
       " 'display_legend',\n",
       " 'display_names',\n",
       " 'drag_color',\n",
       " 'drag_size',\n",
       " 'enable_delete',\n",
       " 'enable_hover',\n",
       " 'enable_move',\n",
       " 'fill',\n",
       " 'hovered_point',\n",
       " 'hovered_style',\n",
       " 'interactions',\n",
       " 'label_display_horizontal_offset',\n",
       " 'label_display_vertical_offset',\n",
       " 'labels',\n",
       " 'marker',\n",
       " 'names',\n",
       " 'names_unique',\n",
       " 'opacities',\n",
       " 'opacity',\n",
       " 'preserve_domain',\n",
       " 'restrict_x',\n",
       " 'restrict_y',\n",
       " 'rotation',\n",
       " 'scales',\n",
       " 'scales_metadata',\n",
       " 'selected',\n",
       " 'selected_style',\n",
       " 'size',\n",
       " 'skew',\n",
       " 'stroke',\n",
       " 'stroke_width',\n",
       " 'tooltip',\n",
       " 'tooltip_location',\n",
       " 'tooltip_style',\n",
       " 'unhovered_style',\n",
       " 'unselected_style',\n",
       " 'update_on_move',\n",
       " 'visible',\n",
       " 'x',\n",
       " 'y']"
      ]
     },
     "execution_count": 41,
     "metadata": {},
     "output_type": "execute_result"
    }
   ],
   "source": [
    "scatters.keys"
   ]
  },
  {
   "cell_type": "markdown",
   "id": "injured-needle",
   "metadata": {},
   "source": [
    "Highlighting selected and unselected objects in our plot:"
   ]
  },
  {
   "cell_type": "code",
   "execution_count": 45,
   "id": "raising-arrival",
   "metadata": {},
   "outputs": [],
   "source": [
    "scatters.unselected_style = {'opacity': 0.8} # make unselected points a little see-through\n",
    "\n",
    "scatters.selected_style = {'fill':'red', 'stroke':'yellow'} # fill dots with red, make stroke around yellow\n",
    "# CSS stylings -- this will look familar!"
   ]
  },
  {
   "cell_type": "code",
   "execution_count": 46,
   "id": "handed-kansas",
   "metadata": {},
   "outputs": [],
   "source": [
    "fig = bqplot.Figure(marks=[scatters],axes=[x_ax, y_ax], interaction=selector)"
   ]
  },
  {
   "cell_type": "code",
   "execution_count": 47,
   "id": "statutory-separate",
   "metadata": {},
   "outputs": [
    {
     "data": {
      "application/vnd.jupyter.widget-view+json": {
       "model_id": "b1b98d1f06624ffa8cf0edace6c57352",
       "version_major": 2,
       "version_minor": 0
      },
      "text/plain": [
       "Figure(axes=[Axis(label='Random X', scale=LinearScale(), side='bottom'), Axis(label='Random Y', orientation='v…"
      ]
     },
     "metadata": {},
     "output_type": "display_data"
    }
   ],
   "source": [
    "fig"
   ]
  },
  {
   "cell_type": "markdown",
   "id": "historical-indie",
   "metadata": {},
   "source": [
    "For reference: https://bqplot.readthedocs.io/en/latest/"
   ]
  },
  {
   "cell_type": "markdown",
   "id": "sticky-gambling",
   "metadata": {},
   "source": [
    "## Random Heatmap in 2D"
   ]
  },
  {
   "cell_type": "code",
   "execution_count": 50,
   "id": "operating-amendment",
   "metadata": {},
   "outputs": [],
   "source": [
    "# 1. data\n",
    "data = np.random.random((10,10)) # 10x10 array of random data"
   ]
  },
  {
   "cell_type": "code",
   "execution_count": 54,
   "id": "mighty-laundry",
   "metadata": {},
   "outputs": [
    {
     "data": {
      "text/plain": [
       "(0.1256531563733807, 0.3055935772536119)"
      ]
     },
     "execution_count": 54,
     "metadata": {},
     "output_type": "execute_result"
    }
   ],
   "source": [
    "data[0,0], data[1,0]"
   ]
  },
  {
   "cell_type": "code",
   "execution_count": 55,
   "id": "amber-humor",
   "metadata": {},
   "outputs": [
    {
     "data": {
      "application/vnd.jupyter.widget-view+json": {
       "model_id": "6879392b26a74c3fa3fdf3d7db0b3dac",
       "version_major": 2,
       "version_minor": 0
      },
      "text/plain": [
       "Figure(fig_margin={'top': 60, 'bottom': 60, 'left': 60, 'right': 60}, marks=[GridHeatMap(color=array([[0.12565…"
      ]
     },
     "metadata": {},
     "output_type": "display_data"
    }
   ],
   "source": [
    "# 2. scales -- for this data it will be a color scale\n",
    "col_sc = bqplot.ColorScale()\n",
    "\n",
    "# 3. Axis -- color axis ... skip for now!\n",
    "\n",
    "# 4. Mark -- a color-scale like mark\n",
    "heat_map = bqplot.GridHeatMap(color=data, scales={'color':col_sc})\n",
    "\n",
    "# 5. Interactions ... skip for now!\n",
    "\n",
    "# figure!\n",
    "fig = bqplot.Figure(marks=[heat_map])\n",
    "fig"
   ]
  },
  {
   "cell_type": "code",
   "execution_count": 57,
   "id": "vulnerable-cabinet",
   "metadata": {},
   "outputs": [
    {
     "data": {
      "application/vnd.jupyter.widget-view+json": {
       "model_id": "b10b92cd9c624a3a8fdb5d2dfb00fd7d",
       "version_major": 2,
       "version_minor": 0
      },
      "text/plain": [
       "Figure(fig_margin={'top': 60, 'bottom': 60, 'left': 60, 'right': 60}, marks=[GridHeatMap(color=array([[0.12565…"
      ]
     },
     "metadata": {},
     "output_type": "display_data"
    }
   ],
   "source": [
    "# 1. data -- same as before, so not changing\n",
    "\n",
    "# 2. scales -- for this data it will be a color scale\n",
    "col_sc = bqplot.ColorScale(scheme=\"Blues\")\n",
    "\n",
    "# 3. Axis -- color axis ... skip for now!\n",
    "\n",
    "# 4. Mark -- a color-scale like mark\n",
    "heat_map = bqplot.GridHeatMap(color=data, scales={'color':col_sc})\n",
    "\n",
    "# 5. Interactions ... skip for now!\n",
    "\n",
    "# figure!\n",
    "fig = bqplot.Figure(marks=[heat_map])\n",
    "fig"
   ]
  },
  {
   "cell_type": "code",
   "execution_count": 61,
   "id": "saved-pursuit",
   "metadata": {},
   "outputs": [
    {
     "data": {
      "application/vnd.jupyter.widget-view+json": {
       "model_id": "7b60e8bc4b1141bab33658a9c3ef5763",
       "version_major": 2,
       "version_minor": 0
      },
      "text/plain": [
       "Figure(axes=[ColorAxis(orientation='vertical', scale=ColorScale(scheme='Blues'), side='right')], fig_margin={'…"
      ]
     },
     "metadata": {},
     "output_type": "display_data"
    }
   ],
   "source": [
    "# 1. data -- same as before, so not changing\n",
    "\n",
    "# 2. scales -- for this data it will be a color scale\n",
    "col_sc = bqplot.ColorScale(scheme=\"Blues\")\n",
    "\n",
    "# 3. Axis -- color axis means colorbar\n",
    "c_ax = bqplot.ColorAxis(scale=col_sc, orientation='vertical', side='right')\n",
    "\n",
    "# 4. Mark -- a color-scale like mark\n",
    "heat_map = bqplot.GridHeatMap(color=data, scales={'color':col_sc})\n",
    "\n",
    "# 5. Interactions ... skip for now!\n",
    "\n",
    "# figure!\n",
    "fig = bqplot.Figure(marks=[heat_map], axes=[c_ax])\n",
    "fig"
   ]
  },
  {
   "cell_type": "code",
   "execution_count": 64,
   "id": "filled-transmission",
   "metadata": {},
   "outputs": [
    {
     "data": {
      "application/vnd.jupyter.widget-view+json": {
       "model_id": "3b5eb99ceb9f41998bd067a2241554f5",
       "version_major": 2,
       "version_minor": 0
      },
      "text/plain": [
       "Figure(axes=[ColorAxis(orientation='vertical', scale=ColorScale(scheme='Blues'), side='right'), Axis(orientati…"
      ]
     },
     "metadata": {},
     "output_type": "display_data"
    }
   ],
   "source": [
    "# 1. data -- same as before, so not changing\n",
    "\n",
    "# 2. scales\n",
    "# 2.1 color scale\n",
    "col_sc = bqplot.ColorScale(scheme=\"Blues\")\n",
    "# 2.2 x/y scales\n",
    "x_sc = bqplot.OrdinalScale() # for categorical data\n",
    "y_sc = bqplot.OrdinalScale()\n",
    "\n",
    "# 3. Axis\n",
    "# 3.1 color axis means colorbar\n",
    "c_ax = bqplot.ColorAxis(scale=col_sc, orientation='vertical', side='right')\n",
    "# 3.2 x/y axis\n",
    "x_ax = bqplot.Axis(scale=x_sc)\n",
    "y_ax = bqplot.Axis(scale=y_sc, orientation='vertical')\n",
    "\n",
    "# 4. Mark -- a color-scale like mark\n",
    "heat_map = bqplot.GridHeatMap(color=data, scales={'color':col_sc, 'row':y_sc, 'column':x_sc})\n",
    "\n",
    "# 5. Interactions ... skip for now!\n",
    "\n",
    "# figure!\n",
    "fig = bqplot.Figure(marks=[heat_map], axes=[c_ax, y_ax, x_ax])\n",
    "fig"
   ]
  },
  {
   "cell_type": "code",
   "execution_count": 65,
   "id": "proper-warrior",
   "metadata": {
    "scrolled": false
   },
   "outputs": [
    {
     "data": {
      "application/vnd.jupyter.widget-view+json": {
       "model_id": "8f8cffe2cb144c47b013a7e680305782",
       "version_major": 2,
       "version_minor": 0
      },
      "text/plain": [
       "Figure(axes=[ColorAxis(orientation='vertical', scale=ColorScale(scheme='Blues'), side='right'), Axis(orientati…"
      ]
     },
     "metadata": {},
     "output_type": "display_data"
    }
   ],
   "source": [
    "# 1. data -- same as before, so not changing\n",
    "\n",
    "# 2. scales\n",
    "# 2.1 color scale\n",
    "col_sc = bqplot.ColorScale(scheme=\"Blues\")\n",
    "# 2.2 x/y scales\n",
    "x_sc = bqplot.OrdinalScale() # for categorical data\n",
    "y_sc = bqplot.OrdinalScale()\n",
    "\n",
    "# 3. Axis\n",
    "# 3.1 color axis means colorbar\n",
    "c_ax = bqplot.ColorAxis(scale=col_sc, orientation='vertical', side='right')\n",
    "# 3.2 x/y axis\n",
    "x_ax = bqplot.Axis(scale=x_sc)\n",
    "y_ax = bqplot.Axis(scale=y_sc, orientation='vertical')\n",
    "\n",
    "# 4. Mark -- a color-scale like mark\n",
    "heat_map = bqplot.GridHeatMap(color=data, scales={'color':col_sc, 'row':y_sc, 'column':x_sc},\n",
    "                             interactions={'click':'select'}, # if I click on a bin, select the bin\n",
    "                             anchor_style={'fill':'red'}, # to highlight our selection as red\n",
    "                             selected_style={'opacity':1.0}, # totally opaque if selected\n",
    "                             unselected_style={'opacity':0.8}) # a little see-through if not selected\n",
    "\n",
    "# 5. Interactions ... first adding in to the \"marks\" call above\n",
    "\n",
    "# figure!\n",
    "fig = bqplot.Figure(marks=[heat_map], axes=[c_ax, y_ax, x_ax])\n",
    "fig"
   ]
  },
  {
   "cell_type": "code",
   "execution_count": 67,
   "id": "numeric-innocent",
   "metadata": {},
   "outputs": [
    {
     "data": {
      "text/plain": [
       "array([[5, 5]])"
      ]
     },
     "execution_count": 67,
     "metadata": {},
     "output_type": "execute_result"
    }
   ],
   "source": [
    "heat_map.selected # the *trait* of x/y indicies of the heatmap gets updated"
   ]
  },
  {
   "cell_type": "code",
   "execution_count": 68,
   "id": "expensive-powder",
   "metadata": {},
   "outputs": [],
   "source": [
    "def on_selected(change):\n",
    "    print(change)"
   ]
  },
  {
   "cell_type": "code",
   "execution_count": 70,
   "id": "official-result",
   "metadata": {},
   "outputs": [
    {
     "data": {
      "application/vnd.jupyter.widget-view+json": {
       "model_id": "0d348289ecf14b5dbbe42b39b037a36c",
       "version_major": 2,
       "version_minor": 0
      },
      "text/plain": [
       "Figure(axes=[ColorAxis(orientation='vertical', scale=ColorScale(scheme='Blues'), side='right'), Axis(orientati…"
      ]
     },
     "metadata": {},
     "output_type": "display_data"
    },
    {
     "name": "stdout",
     "output_type": "stream",
     "text": [
      "{'name': 'selected', 'old': None, 'new': array([[0, 0]]), 'owner': GridHeatMap(anchor_style={'fill': 'red'}, color=array([[0.12565316, 0.01699575, 0.59763266, 0.58898817, 0.66850296,\n",
      "        0.47986429, 0.1077714 , 0.59449319, 0.26555982, 0.80915522],\n",
      "       [0.30559358, 0.33934277, 0.4411446 , 0.78538223, 0.72149264,\n",
      "        0.3706186 , 0.10933616, 0.18034364, 0.07074292, 0.48699548],\n",
      "       [0.64625221, 0.9111042 , 0.49868474, 0.78496956, 0.24842065,\n",
      "        0.34912409, 0.02115065, 0.2689668 , 0.95541326, 0.70885887],\n",
      "       [0.96929384, 0.21995646, 0.22893606, 0.32675555, 0.94560838,\n",
      "        0.29160461, 0.17702611, 0.52413342, 0.35603856, 0.8841929 ],\n",
      "       [0.92561768, 0.70184848, 0.78569794, 0.82582146, 0.39759195,\n",
      "        0.2729544 , 0.27571207, 0.02093082, 0.85624401, 0.46386196],\n",
      "       [0.19136529, 0.82109875, 0.80469364, 0.54854961, 0.87839152,\n",
      "        0.78843036, 0.15995364, 0.81255544, 0.86509626, 0.04168094],\n",
      "       [0.60875626, 0.41466904, 0.42920237, 0.47794754, 0.52789316,\n",
      "        0.95475338, 0.37604309, 0.12409343, 0.21642193, 0.90924218],\n",
      "       [0.32982926, 0.58517497, 0.64801065, 0.50985668, 0.16127687,\n",
      "        0.24301642, 0.41107284, 0.60019241, 0.88797352, 0.83487326],\n",
      "       [0.17561418, 0.2595898 , 0.81990395, 0.54873326, 0.55802235,\n",
      "        0.05302735, 0.84264135, 0.22749144, 0.02798093, 0.45272869],\n",
      "       [0.16168994, 0.03584873, 0.45652515, 0.25276298, 0.69248252,\n",
      "        0.71519792, 0.73309265, 0.61577976, 0.57607128, 0.6285606 ]]), interactions={'click': 'select'}, scales={'color': ColorScale(scheme='Blues'), 'row': OrdinalScale(), 'column': OrdinalScale()}, scales_metadata={'row': {'orientation': 'vertical', 'dimension': 'y'}, 'column': {'orientation': 'horizontal', 'dimension': 'x'}, 'color': {'dimension': 'color'}}, selected=array([[0, 0]]), selected_style={'opacity': 1.0}, tooltip_style={'opacity': 0.9}, unselected_style={'opacity': 0.8}), 'type': 'change'}\n"
     ]
    }
   ],
   "source": [
    "# 1. data -- same as before, so not changing\n",
    "\n",
    "# 2. scales\n",
    "# 2.1 color scale\n",
    "col_sc = bqplot.ColorScale(scheme=\"Blues\")\n",
    "# 2.2 x/y scales\n",
    "x_sc = bqplot.OrdinalScale() # for categorical data\n",
    "y_sc = bqplot.OrdinalScale()\n",
    "\n",
    "# 3. Axis\n",
    "# 3.1 color axis means colorbar\n",
    "c_ax = bqplot.ColorAxis(scale=col_sc, orientation='vertical', side='right')\n",
    "# 3.2 x/y axis\n",
    "x_ax = bqplot.Axis(scale=x_sc)\n",
    "y_ax = bqplot.Axis(scale=y_sc, orientation='vertical')\n",
    "\n",
    "# 4. Mark -- a color-scale like mark\n",
    "heat_map = bqplot.GridHeatMap(color=data, scales={'color':col_sc, 'row':y_sc, 'column':x_sc},\n",
    "                             interactions={'click':'select'}, # if I click on a bin, select the bin\n",
    "                             anchor_style={'fill':'red'}, # to highlight our selection as red\n",
    "                             selected_style={'opacity':1.0}, # totally opaque if selected\n",
    "                             unselected_style={'opacity':0.8}) # a little see-through if not selected\n",
    "\n",
    "# 5. Interactions ... first adding in to the \"marks\" call above, and than adding an observation function\n",
    "heat_map.observe(on_selected, 'selected')\n",
    "\n",
    "\n",
    "# figure!\n",
    "fig = bqplot.Figure(marks=[heat_map], axes=[c_ax, y_ax, x_ax])\n",
    "fig"
   ]
  },
  {
   "cell_type": "code",
   "execution_count": 71,
   "id": "competent-blogger",
   "metadata": {},
   "outputs": [],
   "source": [
    "def on_selected(change):\n",
    "    print(change['owner'])"
   ]
  },
  {
   "cell_type": "code",
   "execution_count": 72,
   "id": "optional-rough",
   "metadata": {},
   "outputs": [
    {
     "data": {
      "application/vnd.jupyter.widget-view+json": {
       "model_id": "4893f36ad90e49e4b93348baa900e45e",
       "version_major": 2,
       "version_minor": 0
      },
      "text/plain": [
       "Figure(axes=[ColorAxis(orientation='vertical', scale=ColorScale(scheme='Blues'), side='right'), Axis(orientati…"
      ]
     },
     "metadata": {},
     "output_type": "display_data"
    },
    {
     "name": "stdout",
     "output_type": "stream",
     "text": [
      "GridHeatMap(anchor_style={'fill': 'red'}, color=array([[0.12565316, 0.01699575, 0.59763266, 0.58898817, 0.66850296,\n",
      "        0.47986429, 0.1077714 , 0.59449319, 0.26555982, 0.80915522],\n",
      "       [0.30559358, 0.33934277, 0.4411446 , 0.78538223, 0.72149264,\n",
      "        0.3706186 , 0.10933616, 0.18034364, 0.07074292, 0.48699548],\n",
      "       [0.64625221, 0.9111042 , 0.49868474, 0.78496956, 0.24842065,\n",
      "        0.34912409, 0.02115065, 0.2689668 , 0.95541326, 0.70885887],\n",
      "       [0.96929384, 0.21995646, 0.22893606, 0.32675555, 0.94560838,\n",
      "        0.29160461, 0.17702611, 0.52413342, 0.35603856, 0.8841929 ],\n",
      "       [0.92561768, 0.70184848, 0.78569794, 0.82582146, 0.39759195,\n",
      "        0.2729544 , 0.27571207, 0.02093082, 0.85624401, 0.46386196],\n",
      "       [0.19136529, 0.82109875, 0.80469364, 0.54854961, 0.87839152,\n",
      "        0.78843036, 0.15995364, 0.81255544, 0.86509626, 0.04168094],\n",
      "       [0.60875626, 0.41466904, 0.42920237, 0.47794754, 0.52789316,\n",
      "        0.95475338, 0.37604309, 0.12409343, 0.21642193, 0.90924218],\n",
      "       [0.32982926, 0.58517497, 0.64801065, 0.50985668, 0.16127687,\n",
      "        0.24301642, 0.41107284, 0.60019241, 0.88797352, 0.83487326],\n",
      "       [0.17561418, 0.2595898 , 0.81990395, 0.54873326, 0.55802235,\n",
      "        0.05302735, 0.84264135, 0.22749144, 0.02798093, 0.45272869],\n",
      "       [0.16168994, 0.03584873, 0.45652515, 0.25276298, 0.69248252,\n",
      "        0.71519792, 0.73309265, 0.61577976, 0.57607128, 0.6285606 ]]), interactions={'click': 'select'}, scales={'color': ColorScale(scheme='Blues'), 'row': OrdinalScale(), 'column': OrdinalScale()}, scales_metadata={'row': {'orientation': 'vertical', 'dimension': 'y'}, 'column': {'orientation': 'horizontal', 'dimension': 'x'}, 'color': {'dimension': 'color'}}, selected=array([[0, 0]]), selected_style={'opacity': 1.0}, tooltip_style={'opacity': 0.9}, unselected_style={'opacity': 0.8})\n"
     ]
    }
   ],
   "source": [
    "# 1. data -- same as before, so not changing\n",
    "\n",
    "# 2. scales\n",
    "# 2.1 color scale\n",
    "col_sc = bqplot.ColorScale(scheme=\"Blues\")\n",
    "# 2.2 x/y scales\n",
    "x_sc = bqplot.OrdinalScale() # for categorical data\n",
    "y_sc = bqplot.OrdinalScale()\n",
    "\n",
    "# 3. Axis\n",
    "# 3.1 color axis means colorbar\n",
    "c_ax = bqplot.ColorAxis(scale=col_sc, orientation='vertical', side='right')\n",
    "# 3.2 x/y axis\n",
    "x_ax = bqplot.Axis(scale=x_sc)\n",
    "y_ax = bqplot.Axis(scale=y_sc, orientation='vertical')\n",
    "\n",
    "# 4. Mark -- a color-scale like mark\n",
    "heat_map = bqplot.GridHeatMap(color=data, scales={'color':col_sc, 'row':y_sc, 'column':x_sc},\n",
    "                             interactions={'click':'select'}, # if I click on a bin, select the bin\n",
    "                             anchor_style={'fill':'red'}, # to highlight our selection as red\n",
    "                             selected_style={'opacity':1.0}, # totally opaque if selected\n",
    "                             unselected_style={'opacity':0.8}) # a little see-through if not selected\n",
    "\n",
    "# 5. Interactions ... first adding in to the \"marks\" call above, and than adding an observation function\n",
    "heat_map.observe(on_selected, 'selected')\n",
    "\n",
    "\n",
    "# figure!\n",
    "fig = bqplot.Figure(marks=[heat_map], axes=[c_ax, y_ax, x_ax])\n",
    "fig"
   ]
  },
  {
   "cell_type": "code",
   "execution_count": 73,
   "id": "immediate-original",
   "metadata": {},
   "outputs": [],
   "source": [
    "def on_selected(change):\n",
    "    print(change['owner'].selected)"
   ]
  },
  {
   "cell_type": "code",
   "execution_count": 74,
   "id": "excess-means",
   "metadata": {},
   "outputs": [
    {
     "data": {
      "application/vnd.jupyter.widget-view+json": {
       "model_id": "71bffb8381ff4669b01831bf95326977",
       "version_major": 2,
       "version_minor": 0
      },
      "text/plain": [
       "Figure(axes=[ColorAxis(orientation='vertical', scale=ColorScale(scheme='Blues'), side='right'), Axis(orientati…"
      ]
     },
     "metadata": {},
     "output_type": "display_data"
    },
    {
     "name": "stdout",
     "output_type": "stream",
     "text": [
      "[[0 0]]\n",
      "[[0 1]]\n",
      "[[2 1]]\n",
      "[[4 2]]\n",
      "[[3 3]]\n",
      "[[2 5]]\n",
      "[[0 4]]\n",
      "[[5 4]]\n",
      "[[4 6]]\n",
      "[[2 6]]\n",
      "[[1 6]\n",
      " [2 6]]\n",
      "[[1 7]\n",
      " [1 6]\n",
      " [2 6]\n",
      " [2 7]]\n",
      "[[1 8]\n",
      " [1 6]\n",
      " [1 7]\n",
      " [2 6]\n",
      " [2 7]\n",
      " [2 8]]\n",
      "[[3 8]\n",
      " [2 6]\n",
      " [2 7]\n",
      " [2 8]\n",
      " [3 6]\n",
      " [3 7]]\n"
     ]
    }
   ],
   "source": [
    "# 1. data -- same as before, so not changing\n",
    "\n",
    "# 2. scales\n",
    "# 2.1 color scale\n",
    "col_sc = bqplot.ColorScale(scheme=\"Blues\")\n",
    "# 2.2 x/y scales\n",
    "x_sc = bqplot.OrdinalScale() # for categorical data\n",
    "y_sc = bqplot.OrdinalScale()\n",
    "\n",
    "# 3. Axis\n",
    "# 3.1 color axis means colorbar\n",
    "c_ax = bqplot.ColorAxis(scale=col_sc, orientation='vertical', side='right')\n",
    "# 3.2 x/y axis\n",
    "x_ax = bqplot.Axis(scale=x_sc)\n",
    "y_ax = bqplot.Axis(scale=y_sc, orientation='vertical')\n",
    "\n",
    "# 4. Mark -- a color-scale like mark\n",
    "heat_map = bqplot.GridHeatMap(color=data, scales={'color':col_sc, 'row':y_sc, 'column':x_sc},\n",
    "                             interactions={'click':'select'}, # if I click on a bin, select the bin\n",
    "                             anchor_style={'fill':'red'}, # to highlight our selection as red\n",
    "                             selected_style={'opacity':1.0}, # totally opaque if selected\n",
    "                             unselected_style={'opacity':0.8}) # a little see-through if not selected\n",
    "\n",
    "# 5. Interactions ... first adding in to the \"marks\" call above, and than adding an observation function\n",
    "heat_map.observe(on_selected, 'selected')\n",
    "\n",
    "\n",
    "# figure!\n",
    "fig = bqplot.Figure(marks=[heat_map], axes=[c_ax, y_ax, x_ax])\n",
    "fig"
   ]
  },
  {
   "cell_type": "code",
   "execution_count": 75,
   "id": "russian-aruba",
   "metadata": {},
   "outputs": [],
   "source": [
    "# we only want to enable the selection of 1 cell (a choice!)\n",
    "def on_selected(change):\n",
    "    if len(change['owner'].selected) == 1:\n",
    "        print(change['owner'].selected[0]) # just print the one and only element"
   ]
  },
  {
   "cell_type": "code",
   "execution_count": 76,
   "id": "lined-thirty",
   "metadata": {},
   "outputs": [
    {
     "data": {
      "application/vnd.jupyter.widget-view+json": {
       "model_id": "db768c7fb39049f5a9b9fce86464c9aa",
       "version_major": 2,
       "version_minor": 0
      },
      "text/plain": [
       "Figure(axes=[ColorAxis(orientation='vertical', scale=ColorScale(scheme='Blues'), side='right'), Axis(orientati…"
      ]
     },
     "metadata": {},
     "output_type": "display_data"
    },
    {
     "name": "stdout",
     "output_type": "stream",
     "text": [
      "[4 5]\n",
      "[3 5]\n",
      "[2 2]\n",
      "[3 1]\n",
      "[2 2]\n",
      "[3 2]\n",
      "[3 5]\n",
      "[1 5]\n",
      "[0 6]\n",
      "[2 3]\n"
     ]
    }
   ],
   "source": [
    "# 1. data -- same as before, so not changing\n",
    "\n",
    "# 2. scales\n",
    "# 2.1 color scale\n",
    "col_sc = bqplot.ColorScale(scheme=\"Blues\")\n",
    "# 2.2 x/y scales\n",
    "x_sc = bqplot.OrdinalScale() # for categorical data\n",
    "y_sc = bqplot.OrdinalScale()\n",
    "\n",
    "# 3. Axis\n",
    "# 3.1 color axis means colorbar\n",
    "c_ax = bqplot.ColorAxis(scale=col_sc, orientation='vertical', side='right')\n",
    "# 3.2 x/y axis\n",
    "x_ax = bqplot.Axis(scale=x_sc)\n",
    "y_ax = bqplot.Axis(scale=y_sc, orientation='vertical')\n",
    "\n",
    "# 4. Mark -- a color-scale like mark\n",
    "heat_map = bqplot.GridHeatMap(color=data, scales={'color':col_sc, 'row':y_sc, 'column':x_sc},\n",
    "                             interactions={'click':'select'}, # if I click on a bin, select the bin\n",
    "                             anchor_style={'fill':'red'}, # to highlight our selection as red\n",
    "                             selected_style={'opacity':1.0}, # totally opaque if selected\n",
    "                             unselected_style={'opacity':0.8}) # a little see-through if not selected\n",
    "\n",
    "# 5. Interactions ... first adding in to the \"marks\" call above, and than adding an observation function\n",
    "heat_map.observe(on_selected, 'selected')\n",
    "\n",
    "\n",
    "# figure!\n",
    "fig = bqplot.Figure(marks=[heat_map], axes=[c_ax, y_ax, x_ax])\n",
    "fig"
   ]
  },
  {
   "cell_type": "code",
   "execution_count": 77,
   "id": "foreign-scratch",
   "metadata": {},
   "outputs": [],
   "source": [
    "# use ipywidgets to make a label that will (eventually!) be updated with the data values of the selection\n",
    "mySelectedLabel = ipywidgets.Label()\n",
    "mySelectedLabel.value = 'STUFF'"
   ]
  },
  {
   "cell_type": "code",
   "execution_count": 78,
   "id": "overhead-valuation",
   "metadata": {},
   "outputs": [
    {
     "data": {
      "application/vnd.jupyter.widget-view+json": {
       "model_id": "baf3cd4d58c745fb91c6216e0ebf71a6",
       "version_major": 2,
       "version_minor": 0
      },
      "text/plain": [
       "Label(value='STUFF')"
      ]
     },
     "metadata": {},
     "output_type": "display_data"
    }
   ],
   "source": [
    "mySelectedLabel"
   ]
  },
  {
   "cell_type": "code",
   "execution_count": 79,
   "id": "adolescent-patrick",
   "metadata": {},
   "outputs": [
    {
     "data": {
      "application/vnd.jupyter.widget-view+json": {
       "model_id": "6e063b16fda3410393ad556b41c18fd3",
       "version_major": 2,
       "version_minor": 0
      },
      "text/plain": [
       "VBox(children=(Label(value='STUFF'), Figure(axes=[ColorAxis(orientation='vertical', scale=ColorScale(scheme='B…"
      ]
     },
     "metadata": {},
     "output_type": "display_data"
    },
    {
     "name": "stdout",
     "output_type": "stream",
     "text": [
      "[4 3]\n",
      "[3 2]\n",
      "[3 4]\n"
     ]
    }
   ],
   "source": [
    "# 1. data -- same as before, so not changing\n",
    "\n",
    "# 2. scales\n",
    "# 2.1 color scale\n",
    "col_sc = bqplot.ColorScale(scheme=\"Blues\")\n",
    "# 2.2 x/y scales\n",
    "x_sc = bqplot.OrdinalScale() # for categorical data\n",
    "y_sc = bqplot.OrdinalScale()\n",
    "\n",
    "# 3. Axis\n",
    "# 3.1 color axis means colorbar\n",
    "c_ax = bqplot.ColorAxis(scale=col_sc, orientation='vertical', side='right')\n",
    "# 3.2 x/y axis\n",
    "x_ax = bqplot.Axis(scale=x_sc)\n",
    "y_ax = bqplot.Axis(scale=y_sc, orientation='vertical')\n",
    "\n",
    "# 4. Mark -- a color-scale like mark\n",
    "heat_map = bqplot.GridHeatMap(color=data, scales={'color':col_sc, 'row':y_sc, 'column':x_sc},\n",
    "                             interactions={'click':'select'}, # if I click on a bin, select the bin\n",
    "                             anchor_style={'fill':'red'}, # to highlight our selection as red\n",
    "                             selected_style={'opacity':1.0}, # totally opaque if selected\n",
    "                             unselected_style={'opacity':0.8}) # a little see-through if not selected\n",
    "\n",
    "# 5. Interactions ... first adding in to the \"marks\" call above, and than adding an observation function\n",
    "heat_map.observe(on_selected, 'selected')\n",
    "\n",
    "\n",
    "# figure!\n",
    "fig = bqplot.Figure(marks=[heat_map], axes=[c_ax, y_ax, x_ax])\n",
    "#fig\n",
    "\n",
    "# put the label widget ontop of this figure object\n",
    "myDashboard = ipywidgets.VBox([mySelectedLabel, fig])\n",
    "myDashboard"
   ]
  },
  {
   "cell_type": "code",
   "execution_count": 80,
   "id": "virgin-tunisia",
   "metadata": {},
   "outputs": [],
   "source": [
    "# we only want to enable the selection of 1 cell (a choice!)\n",
    "def on_selected(change):\n",
    "    if len(change['owner'].selected) == 1:\n",
    "        #print(change['owner'].selected[0]) # just print the one and only element\n",
    "        i,j = change['owner'].selected[0]\n",
    "        v = data[i,j] # grabbing the data value at the i,j'th bin of our 2D array\n",
    "        mySelectedLabel.value = 'Data Value = ' + str(v) # set the value of our label widget"
   ]
  },
  {
   "cell_type": "code",
   "execution_count": 81,
   "id": "informal-memorabilia",
   "metadata": {},
   "outputs": [
    {
     "data": {
      "application/vnd.jupyter.widget-view+json": {
       "model_id": "55d0ad390dc848dd8541546ee95e22d4",
       "version_major": 2,
       "version_minor": 0
      },
      "text/plain": [
       "VBox(children=(Label(value='STUFF'), Figure(axes=[ColorAxis(orientation='vertical', scale=ColorScale(scheme='B…"
      ]
     },
     "metadata": {},
     "output_type": "display_data"
    }
   ],
   "source": [
    "# 1. data -- same as before, so not changing\n",
    "\n",
    "# 2. scales\n",
    "# 2.1 color scale\n",
    "col_sc = bqplot.ColorScale(scheme=\"Blues\")\n",
    "# 2.2 x/y scales\n",
    "x_sc = bqplot.OrdinalScale() # for categorical data\n",
    "y_sc = bqplot.OrdinalScale()\n",
    "\n",
    "# 3. Axis\n",
    "# 3.1 color axis means colorbar\n",
    "c_ax = bqplot.ColorAxis(scale=col_sc, orientation='vertical', side='right')\n",
    "# 3.2 x/y axis\n",
    "x_ax = bqplot.Axis(scale=x_sc)\n",
    "y_ax = bqplot.Axis(scale=y_sc, orientation='vertical')\n",
    "\n",
    "# 4. Mark -- a color-scale like mark\n",
    "heat_map = bqplot.GridHeatMap(color=data, scales={'color':col_sc, 'row':y_sc, 'column':x_sc},\n",
    "                             interactions={'click':'select'}, # if I click on a bin, select the bin\n",
    "                             anchor_style={'fill':'red'}, # to highlight our selection as red\n",
    "                             selected_style={'opacity':1.0}, # totally opaque if selected\n",
    "                             unselected_style={'opacity':0.8}) # a little see-through if not selected\n",
    "\n",
    "# 5. Interactions ... first adding in to the \"marks\" call above, and than adding an observation function\n",
    "heat_map.observe(on_selected, 'selected')\n",
    "\n",
    "\n",
    "# figure!\n",
    "fig = bqplot.Figure(marks=[heat_map], axes=[c_ax, y_ax, x_ax])\n",
    "#fig\n",
    "\n",
    "# put the label widget ontop of this figure object\n",
    "myDashboard = ipywidgets.VBox([mySelectedLabel, fig])\n",
    "myDashboard"
   ]
  },
  {
   "cell_type": "code",
   "execution_count": 83,
   "id": "blocked-economy",
   "metadata": {},
   "outputs": [
    {
     "data": {
      "text/plain": [
       "0.15995364311257487"
      ]
     },
     "execution_count": 83,
     "metadata": {},
     "output_type": "execute_result"
    }
   ],
   "source": [
    "i,j = 5,6\n",
    "data[i,j]"
   ]
  },
  {
   "cell_type": "markdown",
   "id": "exempt-vulnerability",
   "metadata": {},
   "source": [
    "## Random heatmap + Histogram with 3D data"
   ]
  },
  {
   "cell_type": "code",
   "execution_count": 84,
   "id": "authentic-species",
   "metadata": {},
   "outputs": [],
   "source": [
    "data = np.random.random( (10,10, 20))"
   ]
  },
  {
   "cell_type": "code",
   "execution_count": 86,
   "id": "absolute-demonstration",
   "metadata": {},
   "outputs": [
    {
     "data": {
      "text/plain": [
       "array([0.61690295, 0.45515413, 0.34901103, 0.2578603 , 0.96139683,\n",
       "       0.07407992, 0.55435487, 0.14187451, 0.68320865, 0.57410938,\n",
       "       0.17659493, 0.20353913, 0.01839286, 0.52636845, 0.52961607,\n",
       "       0.16555877, 0.2641423 , 0.35146693, 0.2582152 , 0.80623643])"
      ]
     },
     "execution_count": 86,
     "metadata": {},
     "output_type": "execute_result"
    }
   ],
   "source": [
    "data[0,0]"
   ]
  },
  {
   "cell_type": "code",
   "execution_count": 90,
   "id": "surrounded-migration",
   "metadata": {},
   "outputs": [
    {
     "data": {
      "text/plain": [
       "7.968083640349025"
      ]
     },
     "execution_count": 90,
     "metadata": {},
     "output_type": "execute_result"
    }
   ],
   "source": [
    "data[0,0].sum()"
   ]
  },
  {
   "cell_type": "code",
   "execution_count": 87,
   "id": "great-budget",
   "metadata": {},
   "outputs": [
    {
     "data": {
      "text/plain": [
       "(10, 10, 20)"
      ]
     },
     "execution_count": 87,
     "metadata": {},
     "output_type": "execute_result"
    }
   ],
   "source": [
    "data.shape"
   ]
  },
  {
   "cell_type": "code",
   "execution_count": 88,
   "id": "pretty-funeral",
   "metadata": {},
   "outputs": [
    {
     "data": {
      "text/plain": [
       "array([[ 7.96808364,  8.89300021,  9.0847448 , 12.4995781 ,  8.99302509,\n",
       "        11.85078076,  9.95255104, 11.70187849,  8.85398641, 10.7425926 ],\n",
       "       [ 8.90242724, 12.14947535,  9.44727265, 12.23270648, 10.07327186,\n",
       "         8.31315868,  9.35269841, 11.56577862, 10.48265126,  7.62799518],\n",
       "       [ 8.28042946, 11.89613529, 11.44315702, 11.46648641,  8.98567283,\n",
       "        11.34080846,  8.97085326,  9.33222064, 12.74284632,  9.35943536],\n",
       "       [ 7.31791808,  9.4121305 ,  7.08018527, 10.30835917, 12.93584251,\n",
       "         9.95557275,  9.29829807,  9.90368984, 11.04076255,  8.43438095],\n",
       "       [ 9.07456128, 13.83018896,  9.17478273, 10.98282067,  9.0851357 ,\n",
       "        11.36610463, 10.90974189, 10.81902157, 10.38917061,  9.85153729],\n",
       "       [14.29986207, 11.25214068, 11.33212539,  7.17496497,  9.3249139 ,\n",
       "        11.05683844, 11.27727515, 10.23681288,  9.46222647,  9.05417321],\n",
       "       [11.9580918 ,  8.64267908, 10.9724112 ,  8.68959579,  8.50999412,\n",
       "        12.52299302, 11.60332729,  8.01102483,  9.38513265,  9.90907523],\n",
       "       [10.36448101,  8.80629867, 10.56473588,  8.83542165,  8.20851169,\n",
       "         9.65618371,  8.03248201, 10.92126121,  8.84441984,  8.73218673],\n",
       "       [10.95998503,  8.2617107 , 10.03501911,  9.31658353, 10.32864235,\n",
       "        11.75249511, 12.93954031, 10.95547455, 10.90212492, 10.47309136],\n",
       "       [ 9.55970908, 12.00639769,  6.87200219, 11.75873863,  7.93221842,\n",
       "         9.95767853, 10.26735947, 13.76959876,  8.91990667,  8.56041174]])"
      ]
     },
     "execution_count": 88,
     "metadata": {},
     "output_type": "execute_result"
    }
   ],
   "source": [
    "np.sum(data,axis=2)"
   ]
  },
  {
   "cell_type": "code",
   "execution_count": 89,
   "id": "saving-eleven",
   "metadata": {},
   "outputs": [
    {
     "data": {
      "text/plain": [
       "(10, 10)"
      ]
     },
     "execution_count": 89,
     "metadata": {},
     "output_type": "execute_result"
    }
   ],
   "source": [
    "np.sum(data,axis=2).shape"
   ]
  },
  {
   "cell_type": "code",
   "execution_count": 91,
   "id": "rural-meditation",
   "metadata": {},
   "outputs": [],
   "source": [
    "# we only want to enable the selection of 1 cell (a choice!)\n",
    "def on_selected(change):\n",
    "    if len(change['owner'].selected) == 1:\n",
    "        #print(change['owner'].selected[0]) # just print the one and only element\n",
    "        i,j = change['owner'].selected[0]\n",
    "        v = data[i,j].sum() # FOR 3D ARRAY SUM ALONG 3rd AXIS!!\n",
    "        mySelectedLabel.value = 'Data Value = ' + str(v) # set the value of our label widget"
   ]
  },
  {
   "cell_type": "code",
   "execution_count": 92,
   "id": "artistic-flooring",
   "metadata": {},
   "outputs": [
    {
     "data": {
      "application/vnd.jupyter.widget-view+json": {
       "model_id": "3fb73f571c424f42a900bcdd95bf1677",
       "version_major": 2,
       "version_minor": 0
      },
      "text/plain": [
       "VBox(children=(Label(value='Data Value = 0.4779475358741406'), Figure(axes=[ColorAxis(orientation='vertical', …"
      ]
     },
     "metadata": {},
     "output_type": "display_data"
    }
   ],
   "source": [
    "# 1. data -- same as before, so not changing\n",
    "\n",
    "# 2. scales\n",
    "# 2.1 color scale\n",
    "col_sc = bqplot.ColorScale(scheme=\"Blues\")\n",
    "# 2.2 x/y scales\n",
    "x_sc = bqplot.OrdinalScale() # for categorical data\n",
    "y_sc = bqplot.OrdinalScale()\n",
    "\n",
    "# 3. Axis\n",
    "# 3.1 color axis means colorbar\n",
    "c_ax = bqplot.ColorAxis(scale=col_sc, orientation='vertical', side='right')\n",
    "# 3.2 x/y axis\n",
    "x_ax = bqplot.Axis(scale=x_sc)\n",
    "y_ax = bqplot.Axis(scale=y_sc, orientation='vertical')\n",
    "\n",
    "# 4. Mark -- a color-scale like mark\n",
    "heat_map = bqplot.GridHeatMap(color=np.sum(data,axis=2), ## HAVE CHANGED THIS TOO!!\n",
    "                              scales={'color':col_sc, 'row':y_sc, 'column':x_sc},\n",
    "                             interactions={'click':'select'}, # if I click on a bin, select the bin\n",
    "                             anchor_style={'fill':'red'}, # to highlight our selection as red\n",
    "                             selected_style={'opacity':1.0}, # totally opaque if selected\n",
    "                             unselected_style={'opacity':0.8}) # a little see-through if not selected\n",
    "\n",
    "# 5. Interactions ... first adding in to the \"marks\" call above, and than adding an observation function\n",
    "heat_map.observe(on_selected, 'selected')\n",
    "\n",
    "\n",
    "# figure!\n",
    "fig = bqplot.Figure(marks=[heat_map], axes=[c_ax, y_ax, x_ax])\n",
    "#fig\n",
    "\n",
    "# put the label widget ontop of this figure object\n",
    "myDashboard = ipywidgets.VBox([mySelectedLabel, fig])\n",
    "myDashboard"
   ]
  },
  {
   "cell_type": "markdown",
   "id": "bigger-raleigh",
   "metadata": {},
   "source": [
    "We want to be able to show a representation of this data along its 3rd axis."
   ]
  },
  {
   "cell_type": "code",
   "execution_count": 98,
   "id": "piano-exhibit",
   "metadata": {},
   "outputs": [],
   "source": [
    "i,j=5,5"
   ]
  },
  {
   "cell_type": "code",
   "execution_count": 99,
   "id": "familiar-terrorist",
   "metadata": {},
   "outputs": [
    {
     "data": {
      "text/plain": [
       "array([0.84203136, 0.18722986, 0.74975898, 0.54488063, 0.32476422,\n",
       "       0.59061688, 0.87258981, 0.60132667, 0.64461424, 0.56958333,\n",
       "       0.77645376, 0.67841557, 0.57529343, 0.00511034, 0.59422291,\n",
       "       0.80836708, 0.05964464, 0.99255965, 0.22285889, 0.41651618])"
      ]
     },
     "execution_count": 99,
     "metadata": {},
     "output_type": "execute_result"
    }
   ],
   "source": [
    "data[i,j]"
   ]
  },
  {
   "cell_type": "markdown",
   "id": "artificial-sleeping",
   "metadata": {},
   "source": [
    "One thing we might want to know, is what is the distribution of these data values along a selected i/j bin."
   ]
  },
  {
   "cell_type": "markdown",
   "id": "virtual-plaintiff",
   "metadata": {},
   "source": [
    "Stragedy: First start with making a histogram with a \"hard-coded\" i/j combination and THEN think about how to link it to the grid heatmap."
   ]
  },
  {
   "cell_type": "code",
   "execution_count": 100,
   "id": "expected-sudan",
   "metadata": {},
   "outputs": [
    {
     "data": {
      "application/vnd.jupyter.widget-view+json": {
       "model_id": "c4fad9e1c76644e2b10f12b72e713c65",
       "version_major": 2,
       "version_minor": 0
      },
      "text/plain": [
       "Figure(axes=[Axis(label='Values along 3rd Axis of data', scale=LinearScale()), Axis(label='Frequency', orienta…"
      ]
     },
     "metadata": {},
     "output_type": "display_data"
    }
   ],
   "source": [
    "# 1. data - data[i,j] where i,j are hardcoded to 0,0 above\n",
    "\n",
    "# 2. Scales\n",
    "x_sch = bqplot.LinearScale()\n",
    "y_sch = bqplot.LinearScale()\n",
    "\n",
    "# 3. Axis\n",
    "x_axh = bqplot.Axis(scale=x_sch, label='Values along 3rd Axis of data')\n",
    "y_axh = bqplot.Axis(scale=y_sch, label='Frequency', orientation='vertical')\n",
    "\n",
    "# 4. Marks\n",
    "hist = bqplot.Hist(sample=data[i,j], normalized=False, # counts in each bin\n",
    "                  scales={'sample':x_sch, 'count':y_sch}, bins=5)\n",
    "\n",
    "# Put it all together into a figure\n",
    "figh = bqplot.Figure(marks=[hist], axes=[x_axh, y_axh])\n",
    "figh"
   ]
  },
  {
   "cell_type": "code",
   "execution_count": 96,
   "id": "resident-soccer",
   "metadata": {},
   "outputs": [],
   "source": [
    "bqplot.Hist?"
   ]
  },
  {
   "cell_type": "code",
   "execution_count": 101,
   "id": "public-management",
   "metadata": {},
   "outputs": [
    {
     "data": {
      "text/plain": [
       "['_model_module',\n",
       " '_model_module_version',\n",
       " '_model_name',\n",
       " '_view_count',\n",
       " '_view_module',\n",
       " '_view_module_version',\n",
       " '_view_name',\n",
       " 'apply_clip',\n",
       " 'bins',\n",
       " 'colors',\n",
       " 'count',\n",
       " 'display_legend',\n",
       " 'enable_hover',\n",
       " 'interactions',\n",
       " 'labels',\n",
       " 'midpoints',\n",
       " 'normalized',\n",
       " 'opacities',\n",
       " 'preserve_domain',\n",
       " 'sample',\n",
       " 'scales',\n",
       " 'scales_metadata',\n",
       " 'selected',\n",
       " 'selected_style',\n",
       " 'stroke',\n",
       " 'tooltip',\n",
       " 'tooltip_location',\n",
       " 'tooltip_style',\n",
       " 'unselected_style',\n",
       " 'visible']"
      ]
     },
     "execution_count": 101,
     "metadata": {},
     "output_type": "execute_result"
    }
   ],
   "source": [
    "hist.keys"
   ]
  },
  {
   "cell_type": "code",
   "execution_count": 102,
   "id": "basic-tourist",
   "metadata": {},
   "outputs": [
    {
     "data": {
      "text/plain": [
       "array([0.84203136, 0.18722986, 0.74975898, 0.54488063, 0.32476422,\n",
       "       0.59061688, 0.87258981, 0.60132667, 0.64461424, 0.56958333,\n",
       "       0.77645376, 0.67841557, 0.57529343, 0.00511034, 0.59422291,\n",
       "       0.80836708, 0.05964464, 0.99255965, 0.22285889, 0.41651618])"
      ]
     },
     "execution_count": 102,
     "metadata": {},
     "output_type": "execute_result"
    }
   ],
   "source": [
    "hist.sample"
   ]
  },
  {
   "cell_type": "markdown",
   "id": "sitting-florida",
   "metadata": {},
   "source": [
    "We are going to update our observation function so that the `hist.sample` of our marks updates as well when we select something."
   ]
  },
  {
   "cell_type": "code",
   "execution_count": 103,
   "id": "grand-billy",
   "metadata": {},
   "outputs": [],
   "source": [
    "# we only want to enable the selection of 1 cell (a choice!)\n",
    "def on_selected(change):\n",
    "    if len(change['owner'].selected) == 1:\n",
    "        #print(change['owner'].selected[0]) # just print the one and only element\n",
    "        i,j = change['owner'].selected[0]\n",
    "        v = data[i,j].sum() # FOR 3D ARRAY SUM ALONG 3rd AXIS!!\n",
    "        mySelectedLabel.value = 'Data Value = ' + str(v) # set the value of our label widget\n",
    "        ##### ADDING IN UPDATE FOR HISTOGRAM ####\n",
    "        hist.sample = data[i,j]"
   ]
  },
  {
   "cell_type": "code",
   "execution_count": 104,
   "id": "blind-treasury",
   "metadata": {},
   "outputs": [
    {
     "data": {
      "application/vnd.jupyter.widget-view+json": {
       "model_id": "4ed543316a4049008dc05a93abf2767f",
       "version_major": 2,
       "version_minor": 0
      },
      "text/plain": [
       "VBox(children=(Label(value='Data Value = 7.968083640349025'), Figure(axes=[ColorAxis(orientation='vertical', s…"
      ]
     },
     "metadata": {},
     "output_type": "display_data"
    }
   ],
   "source": [
    "# 1. data -- same as before, so not changing\n",
    "\n",
    "# 2. scales\n",
    "# 2.1 color scale\n",
    "col_sc = bqplot.ColorScale(scheme=\"Blues\")\n",
    "# 2.2 x/y scales\n",
    "x_sc = bqplot.OrdinalScale() # for categorical data\n",
    "y_sc = bqplot.OrdinalScale()\n",
    "\n",
    "# 3. Axis\n",
    "# 3.1 color axis means colorbar\n",
    "c_ax = bqplot.ColorAxis(scale=col_sc, orientation='vertical', side='right')\n",
    "# 3.2 x/y axis\n",
    "x_ax = bqplot.Axis(scale=x_sc)\n",
    "y_ax = bqplot.Axis(scale=y_sc, orientation='vertical')\n",
    "\n",
    "# 4. Mark -- a color-scale like mark\n",
    "heat_map = bqplot.GridHeatMap(color=np.sum(data,axis=2), ## HAVE CHANGED THIS TOO!!\n",
    "                              scales={'color':col_sc, 'row':y_sc, 'column':x_sc},\n",
    "                             interactions={'click':'select'}, # if I click on a bin, select the bin\n",
    "                             anchor_style={'fill':'red'}, # to highlight our selection as red\n",
    "                             selected_style={'opacity':1.0}, # totally opaque if selected\n",
    "                             unselected_style={'opacity':0.8}) # a little see-through if not selected\n",
    "\n",
    "# 5. Interactions ... first adding in to the \"marks\" call above, and than adding an observation function\n",
    "heat_map.observe(on_selected, 'selected')\n",
    "\n",
    "\n",
    "# figure!\n",
    "fig = bqplot.Figure(marks=[heat_map], axes=[c_ax, y_ax, x_ax])\n",
    "#fig\n",
    "\n",
    "# put the label widget ontop of this figure object\n",
    "myDashboard = ipywidgets.VBox([mySelectedLabel, fig])\n",
    "myDashboard"
   ]
  },
  {
   "cell_type": "markdown",
   "id": "assisted-explorer",
   "metadata": {},
   "source": [
    "Do more complex layout stuff:"
   ]
  },
  {
   "cell_type": "code",
   "execution_count": 106,
   "id": "occupational-manner",
   "metadata": {},
   "outputs": [
    {
     "data": {
      "application/vnd.jupyter.widget-view+json": {
       "model_id": "38f26d4cb933470eb7a149972cbab959",
       "version_major": 2,
       "version_minor": 0
      },
      "text/plain": [
       "VBox(children=(Label(value='Data Value = 7.968083640349025'), HBox(children=(Figure(axes=[ColorAxis(orientatio…"
      ]
     },
     "metadata": {},
     "output_type": "display_data"
    }
   ],
   "source": [
    "figures = ipywidgets.HBox([fig, figh]) # figures side by side in order: heat map, histogram\n",
    "\n",
    "myDashboard = ipywidgets.VBox([mySelectedLabel, figures])\n",
    "myDashboard"
   ]
  },
  {
   "cell_type": "code",
   "execution_count": 107,
   "id": "possible-python",
   "metadata": {},
   "outputs": [],
   "source": [
    "# further mess with the display of this data\n",
    "fig.layout.min_width='400px'\n",
    "figh.layout.min_width='400px'"
   ]
  },
  {
   "cell_type": "markdown",
   "id": "documentary-botswana",
   "metadata": {},
   "source": [
    "Adding one more option:"
   ]
  },
  {
   "cell_type": "code",
   "execution_count": 108,
   "id": "electronic-algeria",
   "metadata": {},
   "outputs": [
    {
     "data": {
      "text/plain": [
       "['_model_module',\n",
       " '_model_module_version',\n",
       " '_model_name',\n",
       " '_view_count',\n",
       " '_view_module',\n",
       " '_view_module_version',\n",
       " '_view_name',\n",
       " 'apply_clip',\n",
       " 'bins',\n",
       " 'colors',\n",
       " 'count',\n",
       " 'display_legend',\n",
       " 'enable_hover',\n",
       " 'interactions',\n",
       " 'labels',\n",
       " 'midpoints',\n",
       " 'normalized',\n",
       " 'opacities',\n",
       " 'preserve_domain',\n",
       " 'sample',\n",
       " 'scales',\n",
       " 'scales_metadata',\n",
       " 'selected',\n",
       " 'selected_style',\n",
       " 'stroke',\n",
       " 'tooltip',\n",
       " 'tooltip_location',\n",
       " 'tooltip_style',\n",
       " 'unselected_style',\n",
       " 'visible']"
      ]
     },
     "execution_count": 108,
     "metadata": {},
     "output_type": "execute_result"
    }
   ],
   "source": [
    "hist.keys"
   ]
  },
  {
   "cell_type": "code",
   "execution_count": 109,
   "id": "architectural-gentleman",
   "metadata": {},
   "outputs": [
    {
     "data": {
      "text/plain": [
       "5"
      ]
     },
     "execution_count": 109,
     "metadata": {},
     "output_type": "execute_result"
    }
   ],
   "source": [
    "hist.bins"
   ]
  },
  {
   "cell_type": "markdown",
   "id": "injured-nepal",
   "metadata": {},
   "source": [
    "Make a bin widget to change the number of bins of our histogram:"
   ]
  },
  {
   "cell_type": "code",
   "execution_count": 110,
   "id": "known-output",
   "metadata": {},
   "outputs": [],
   "source": [
    "bins_slider = ipywidgets.IntSlider(value=5, min=1, max=data.shape[2])"
   ]
  },
  {
   "cell_type": "code",
   "execution_count": 111,
   "id": "smooth-audience",
   "metadata": {},
   "outputs": [
    {
     "data": {
      "application/vnd.jupyter.widget-view+json": {
       "model_id": "a7a4d9402b484a1ab14980da4d42aac7",
       "version_major": 2,
       "version_minor": 0
      },
      "text/plain": [
       "IntSlider(value=5, max=20, min=1)"
      ]
     },
     "metadata": {},
     "output_type": "display_data"
    }
   ],
   "source": [
    "bins_slider"
   ]
  },
  {
   "cell_type": "markdown",
   "id": "devoted-development",
   "metadata": {},
   "source": [
    "We'll use `jslink` to link the TRAIT of hist of bins (`hist.bins`) to updates in this slider's value:"
   ]
  },
  {
   "cell_type": "code",
   "execution_count": 112,
   "id": "isolated-relaxation",
   "metadata": {},
   "outputs": [
    {
     "data": {
      "text/plain": [
       "Link(source=(IntSlider(value=14, max=20, min=1), 'value'), target=(Hist(bins=5, colors=['steelblue'], count=ar…"
      ]
     },
     "metadata": {},
     "output_type": "display_data"
    }
   ],
   "source": [
    "ipywidgets.jslink((bins_slider,'value'), (hist,'bins'))"
   ]
  },
  {
   "cell_type": "markdown",
   "id": "separate-parks",
   "metadata": {},
   "source": [
    "Re-build dashboard so that I've got everything in one place:"
   ]
  },
  {
   "cell_type": "code",
   "execution_count": 113,
   "id": "sorted-skiing",
   "metadata": {},
   "outputs": [
    {
     "data": {
      "application/vnd.jupyter.widget-view+json": {
       "model_id": "3019cc8ee1b74174a855c450d7fe20a6",
       "version_major": 2,
       "version_minor": 0
      },
      "text/plain": [
       "VBox(children=(HBox(children=(Label(value='Data Value = 11.701878486899892'), IntSlider(value=3, max=20, min=1…"
      ]
     },
     "metadata": {},
     "output_type": "display_data"
    }
   ],
   "source": [
    "figures = ipywidgets.HBox([fig,figh])\n",
    "\n",
    "controls_etc = ipywidgets.HBox([mySelectedLabel, bins_slider])\n",
    "\n",
    "myDashboard = ipywidgets.VBox([controls_etc, figures])\n",
    "myDashboard"
   ]
  },
  {
   "cell_type": "markdown",
   "id": "radio-robert",
   "metadata": {},
   "source": [
    "Tip: if something isn't working, try remaking and re-linking everything!"
   ]
  },
  {
   "cell_type": "code",
   "execution_count": 122,
   "id": "gorgeous-auckland",
   "metadata": {},
   "outputs": [],
   "source": [
    "mySelectedLabel = ipywidgets.Label()\n",
    "mySelectedLabel.value = 'STUFF'"
   ]
  },
  {
   "cell_type": "code",
   "execution_count": 123,
   "id": "statistical-spread",
   "metadata": {},
   "outputs": [],
   "source": [
    "# 1. data - data[i,j] where i,j are hardcoded to 0,0 above\n",
    "\n",
    "# 2. Scales\n",
    "x_sch = bqplot.LinearScale()\n",
    "y_sch = bqplot.LinearScale()\n",
    "\n",
    "# 3. Axis\n",
    "x_axh = bqplot.Axis(scale=x_sch, label='Values along 3rd Axis of data')\n",
    "y_axh = bqplot.Axis(scale=y_sch, label='Frequency', orientation='vertical')\n",
    "\n",
    "# 4. Marks\n",
    "hist = bqplot.Hist(sample=data[i,j], normalized=False, # counts in each bin\n",
    "                  scales={'sample':x_sch, 'count':y_sch}, bins=5)\n",
    "\n",
    "# Put it all together into a figure\n",
    "figh = bqplot.Figure(marks=[hist], axes=[x_axh, y_axh])"
   ]
  },
  {
   "cell_type": "code",
   "execution_count": 124,
   "id": "challenging-barbados",
   "metadata": {},
   "outputs": [],
   "source": [
    "# we only want to enable the selection of 1 cell (a choice!)\n",
    "def on_selected(change):\n",
    "    if len(change['owner'].selected) == 1:\n",
    "        #print(change['owner'].selected[0]) # just print the one and only element\n",
    "        i,j = change['owner'].selected[0]\n",
    "        v = data[i,j].sum() # FOR 3D ARRAY SUM ALONG 3rd AXIS!!\n",
    "        mySelectedLabel.value = 'Data Value = ' + str(v) # set the value of our label widget\n",
    "        ##### ADDING IN UPDATE FOR HISTOGRAM ####\n",
    "        hist.sample = data[i,j]"
   ]
  },
  {
   "cell_type": "code",
   "execution_count": 125,
   "id": "informative-albania",
   "metadata": {},
   "outputs": [],
   "source": [
    "# 1. data -- same as before, so not changing\n",
    "\n",
    "# 2. scales\n",
    "# 2.1 color scale\n",
    "col_sc = bqplot.ColorScale(scheme=\"Blues\")\n",
    "# 2.2 x/y scales\n",
    "x_sc = bqplot.OrdinalScale() # for categorical data\n",
    "y_sc = bqplot.OrdinalScale()\n",
    "\n",
    "# 3. Axis\n",
    "# 3.1 color axis means colorbar\n",
    "c_ax = bqplot.ColorAxis(scale=col_sc, orientation='vertical', side='right')\n",
    "# 3.2 x/y axis\n",
    "x_ax = bqplot.Axis(scale=x_sc)\n",
    "y_ax = bqplot.Axis(scale=y_sc, orientation='vertical')\n",
    "\n",
    "# 4. Mark -- a color-scale like mark\n",
    "heat_map = bqplot.GridHeatMap(color=np.sum(data,axis=2), ## HAVE CHANGED THIS TOO!!\n",
    "                              scales={'color':col_sc, 'row':y_sc, 'column':x_sc},\n",
    "                             interactions={'click':'select'}, # if I click on a bin, select the bin\n",
    "                             anchor_style={'fill':'red'}, # to highlight our selection as red\n",
    "                             selected_style={'opacity':1.0}, # totally opaque if selected\n",
    "                             unselected_style={'opacity':0.8}) # a little see-through if not selected\n",
    "\n",
    "# 5. Interactions ... first adding in to the \"marks\" call above, and than adding an observation function\n",
    "heat_map.observe(on_selected, 'selected')\n",
    "\n",
    "\n",
    "# figure!\n",
    "fig = bqplot.Figure(marks=[heat_map], axes=[c_ax, y_ax, x_ax])"
   ]
  },
  {
   "cell_type": "code",
   "execution_count": 126,
   "id": "cutting-hands",
   "metadata": {},
   "outputs": [],
   "source": [
    "bins_slider = ipywidgets.IntSlider(value=5, min=1, max=data.shape[2])"
   ]
  },
  {
   "cell_type": "code",
   "execution_count": 127,
   "id": "mental-canon",
   "metadata": {},
   "outputs": [
    {
     "data": {
      "text/plain": [
       "Link(source=(IntSlider(value=5, max=20, min=1), 'value'), target=(Hist(bins=5, colors=['steelblue'], count=arr…"
      ]
     },
     "metadata": {},
     "output_type": "display_data"
    }
   ],
   "source": [
    "ipywidgets.jslink((bins_slider,'value'), (hist,'bins'))"
   ]
  },
  {
   "cell_type": "code",
   "execution_count": 128,
   "id": "prescribed-history",
   "metadata": {},
   "outputs": [
    {
     "data": {
      "application/vnd.jupyter.widget-view+json": {
       "model_id": "5840cf0dfe184c7aa74cd122e6a6a6cf",
       "version_major": 2,
       "version_minor": 0
      },
      "text/plain": [
       "VBox(children=(HBox(children=(Label(value='STUFF'), IntSlider(value=5, max=20, min=1))), HBox(children=(Figure…"
      ]
     },
     "metadata": {},
     "output_type": "display_data"
    }
   ],
   "source": [
    "figures = ipywidgets.HBox([fig,figh])\n",
    "\n",
    "controls_etc = ipywidgets.HBox([mySelectedLabel, bins_slider])\n",
    "\n",
    "myDashboard = ipywidgets.VBox([controls_etc, figures])\n",
    "myDashboard"
   ]
  },
  {
   "cell_type": "code",
   "execution_count": null,
   "id": "committed-harbor",
   "metadata": {},
   "outputs": [],
   "source": []
  }
 ],
 "metadata": {
  "kernelspec": {
   "display_name": "Python 3",
   "language": "python",
   "name": "python3"
  },
  "language_info": {
   "codemirror_mode": {
    "name": "ipython",
    "version": 3
   },
   "file_extension": ".py",
   "mimetype": "text/x-python",
   "name": "python",
   "nbconvert_exporter": "python",
   "pygments_lexer": "ipython3",
   "version": "3.7.9"
  }
 },
 "nbformat": 4,
 "nbformat_minor": 5
}
