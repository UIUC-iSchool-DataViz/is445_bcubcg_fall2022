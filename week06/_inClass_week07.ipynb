{
 "cells": [
  {
   "cell_type": "code",
   "execution_count": 1,
   "metadata": {},
   "outputs": [],
   "source": [
    "# import usual things\n",
    "import pandas as pd\n",
    "import bqplot\n",
    "import numpy as np\n",
    "import traitlets\n",
    "import ipywidgets\n",
    "import matplotlib.pyplot as plt\n",
    "%matplotlib inline"
   ]
  },
  {
   "cell_type": "code",
   "execution_count": 2,
   "metadata": {},
   "outputs": [],
   "source": [
    "# randomly generated\n",
    "data = np.random.random( (10, 10) )"
   ]
  },
  {
   "cell_type": "code",
   "execution_count": 4,
   "metadata": {},
   "outputs": [
    {
     "data": {
      "text/plain": [
       "(10, 10)"
      ]
     },
     "execution_count": 4,
     "metadata": {},
     "output_type": "execute_result"
    }
   ],
   "source": [
    "data.shape"
   ]
  },
  {
   "cell_type": "code",
   "execution_count": 5,
   "metadata": {},
   "outputs": [],
   "source": [
    "# made a widget label\n",
    "mySelectedLabel = ipywidgets.Label()"
   ]
  },
  {
   "cell_type": "code",
   "execution_count": 6,
   "metadata": {},
   "outputs": [
    {
     "data": {
      "application/vnd.jupyter.widget-view+json": {
       "model_id": "c0ab8925adf4490aa58b98d6e3022f18",
       "version_major": 2,
       "version_minor": 0
      },
      "text/plain": [
       "VBox(children=(Label(value=''), Figure(axes=[ColorAxis(orientation='vertical', scale=ColorScale(scheme='Reds')…"
      ]
     },
     "metadata": {},
     "output_type": "display_data"
    }
   ],
   "source": [
    "# first, just print out what is changing, what is selected\n",
    "# only support 1 selected grid\n",
    "def on_selected(change):\n",
    "    if len(change['owner'].selected) == 1:\n",
    "        #print(change['owner'].selected[0])\n",
    "        i, j = change['owner'].selected[0]\n",
    "        v = data[i,j] # grabbing the underlying datavalue associated with this row/column\n",
    "        mySelectedLabel.value = 'Data Value = ' + str(v)\n",
    "    \n",
    "# 1. Data -- see above\n",
    "\n",
    "# 2. Scale - color scale\n",
    "col_sc = bqplot.ColorScale(scheme=\"Reds\") \n",
    "# this is because the \"bins\" are just bins -- their order is NOT numerically important\n",
    "x_sc = bqplot.OrdinalScale()\n",
    "y_sc = bqplot.OrdinalScale()\n",
    "\n",
    "# 3. Axis -- for colors, the axis is a colorbar!\n",
    "ax_col = bqplot.ColorAxis(scale = col_sc, orientation='vertical', side='right') \n",
    "ax_x = bqplot.Axis(scale = x_sc) # same x/y ax we had before\n",
    "ax_y = bqplot.Axis(scale = y_sc, orientation='vertical')\n",
    "\n",
    "# 4. Mark -- heatmap\n",
    "heat_map = bqplot.GridHeatMap(color = data, scales = {'color':col_sc, 'row':y_sc, 'column':x_sc},\n",
    "                             interactions={'click':'select'},\n",
    "                             anchor_style={'fill':'blue'},\n",
    "                             selected_style={'opacity':1.0},\n",
    "                             unselected_style={'opacity':0.8})\n",
    "\n",
    "# 5. Interactions -- going to be built into the GridHeatMap mark (how things *look* when selection happens)\n",
    "# BUT I'm going to define what happens when the interaction takes place (something is selected)\n",
    "heat_map.observe(on_selected, 'selected')\n",
    "\n",
    "# Finally, a figure!\n",
    "fig = bqplot.Figure(marks = [heat_map], axes=[ax_col, ax_x, ax_y]) # have to add this axis to my figure object!\n",
    "#fig\n",
    "\n",
    "# combine the widget & figure and display both at the same time!\n",
    "myDashboard = ipywidgets.VBox([mySelectedLabel, fig])\n",
    "myDashboard # show the dashboard"
   ]
  },
  {
   "cell_type": "code",
   "execution_count": 7,
   "metadata": {},
   "outputs": [],
   "source": [
    "# same thing but with 3d data\n",
    "data3d = np.random.random( (10,10, 20) ) # x, y, z => 20 data points along each of my 10x10 2D data"
   ]
  },
  {
   "cell_type": "code",
   "execution_count": 9,
   "metadata": {},
   "outputs": [
    {
     "data": {
      "text/plain": [
       "(10, 10, 20)"
      ]
     },
     "execution_count": 9,
     "metadata": {},
     "output_type": "execute_result"
    }
   ],
   "source": [
    "data3d.shape"
   ]
  },
  {
   "cell_type": "code",
   "execution_count": 10,
   "metadata": {},
   "outputs": [
    {
     "data": {
      "text/plain": [
       "array([0.10740443, 0.74470142, 0.19229035, 0.84488106, 0.32292487,\n",
       "       0.47342931, 0.76429981, 0.84237637, 0.67513143, 0.83897512,\n",
       "       0.05522585, 0.7714165 , 0.33819357, 0.77269463, 0.76369213,\n",
       "       0.41270772, 0.19275517, 0.11310302, 0.84427655, 0.20992362])"
      ]
     },
     "execution_count": 10,
     "metadata": {},
     "output_type": "execute_result"
    }
   ],
   "source": [
    "# let's say I select the 0,0 in x/y\n",
    "i,j = 0,0\n",
    "\n",
    "data3d[i,j,:] # want to make a histogram showing the distribution of the 20 z-values"
   ]
  },
  {
   "cell_type": "code",
   "execution_count": 11,
   "metadata": {},
   "outputs": [
    {
     "data": {
      "text/plain": [
       "0.5140201458769522"
      ]
     },
     "execution_count": 11,
     "metadata": {},
     "output_type": "execute_result"
    }
   ],
   "source": [
    "# show the mean of this 20-value data subset in our label\n",
    "data3d[i,j,:].mean()"
   ]
  },
  {
   "cell_type": "code",
   "execution_count": 12,
   "metadata": {},
   "outputs": [
    {
     "data": {
      "text/plain": [
       "array([[0.51402015, 0.53594394, 0.42514304, 0.48573713, 0.49441383,\n",
       "        0.40399138, 0.49196227, 0.60690266, 0.4287081 , 0.53248343],\n",
       "       [0.61736103, 0.51763737, 0.48704065, 0.4789036 , 0.4535039 ,\n",
       "        0.51361254, 0.42916072, 0.39714522, 0.48685207, 0.41268841],\n",
       "       [0.46748848, 0.48514657, 0.52227507, 0.5148607 , 0.4785674 ,\n",
       "        0.55635781, 0.48934847, 0.44878893, 0.49655008, 0.5004273 ],\n",
       "       [0.516449  , 0.53025024, 0.47784436, 0.53769679, 0.59111546,\n",
       "        0.56164068, 0.46666796, 0.51294003, 0.58534514, 0.4408948 ],\n",
       "       [0.48863847, 0.4775987 , 0.51225701, 0.42219093, 0.51802596,\n",
       "        0.43982807, 0.48578078, 0.5466839 , 0.48674801, 0.56031112],\n",
       "       [0.55443661, 0.58041662, 0.40441371, 0.5812742 , 0.39902485,\n",
       "        0.50754199, 0.4876281 , 0.46608038, 0.47814113, 0.43985146],\n",
       "       [0.49333512, 0.55645816, 0.543309  , 0.40487185, 0.52387674,\n",
       "        0.36952311, 0.59921562, 0.40983789, 0.38073061, 0.44768004],\n",
       "       [0.47440198, 0.60857754, 0.46983329, 0.46813497, 0.55377347,\n",
       "        0.48594532, 0.52543106, 0.40664256, 0.48338715, 0.35701451],\n",
       "       [0.58324753, 0.35882676, 0.52121587, 0.38652524, 0.43720686,\n",
       "        0.33865788, 0.57231134, 0.41536686, 0.52791152, 0.52539128],\n",
       "       [0.45386577, 0.60630936, 0.58180713, 0.46856721, 0.46779412,\n",
       "        0.50034941, 0.59517402, 0.53391236, 0.57387277, 0.57580614]])"
      ]
     },
     "execution_count": 12,
     "metadata": {},
     "output_type": "execute_result"
    }
   ],
   "source": [
    "# for our heatmap we'll show the mean long the z-axis\n",
    "data3d.mean(axis=2)"
   ]
  },
  {
   "cell_type": "code",
   "execution_count": 13,
   "metadata": {},
   "outputs": [
    {
     "data": {
      "text/plain": [
       "(10, 10)"
      ]
     },
     "execution_count": 13,
     "metadata": {},
     "output_type": "execute_result"
    }
   ],
   "source": [
    "data3d.mean(axis=2).shape"
   ]
  },
  {
   "cell_type": "code",
   "execution_count": 15,
   "metadata": {},
   "outputs": [
    {
     "data": {
      "application/vnd.jupyter.widget-view+json": {
       "model_id": "25603e30af594910a39173b9998e974c",
       "version_major": 2,
       "version_minor": 0
      },
      "text/plain": [
       "VBox(children=(Label(value='Data Value = 0.4669192552132374'), Figure(axes=[ColorAxis(label='Mean', orientatio…"
      ]
     },
     "metadata": {},
     "output_type": "display_data"
    }
   ],
   "source": [
    "# first, just print out what is changing, what is selected\n",
    "# only support 1 selected grid\n",
    "def on_selected(change):\n",
    "    if len(change['owner'].selected) == 1:\n",
    "        #print(change['owner'].selected[0])\n",
    "        i, j = change['owner'].selected[0]\n",
    "        v = data3d[i,j,:].mean() # CHANGED THIS FOR 3D DATA!!!\n",
    "        mySelectedLabel.value = 'Mean Data Value (along z-axis) = ' + str(v)\n",
    "    \n",
    "# 1. Data -- data3d (now 3D data)\n",
    "\n",
    "# 2. Scale - color scale\n",
    "col_sc = bqplot.ColorScale(scheme=\"Reds\") \n",
    "# this is because the \"bins\" are just bins -- their order is NOT numerically important\n",
    "x_sc = bqplot.OrdinalScale()\n",
    "y_sc = bqplot.OrdinalScale()\n",
    "\n",
    "# 3. Axis -- for colors, the axis is a colorbar!\n",
    "ax_col = bqplot.ColorAxis(scale = col_sc, orientation='vertical', side='right', label='Mean') \n",
    "ax_x = bqplot.Axis(scale = x_sc) # same x/y ax we had before\n",
    "ax_y = bqplot.Axis(scale = y_sc, orientation='vertical')\n",
    "\n",
    "# 4. Mark -- heatmap\n",
    "heat_map = bqplot.GridHeatMap(color = data3d.mean(axis=2), scales = {'color':col_sc, 'row':y_sc, 'column':x_sc},\n",
    "                             interactions={'click':'select'},\n",
    "                             anchor_style={'fill':'blue'},\n",
    "                             selected_style={'opacity':1.0},\n",
    "                             unselected_style={'opacity':0.8})\n",
    "\n",
    "# 5. Interactions -- going to be built into the GridHeatMap mark (how things *look* when selection happens)\n",
    "# BUT I'm going to define what happens when the interaction takes place (something is selected)\n",
    "heat_map.observe(on_selected, 'selected')\n",
    "\n",
    "# Finally, a figure!\n",
    "fig = bqplot.Figure(marks = [heat_map], axes=[ax_col, ax_x, ax_y]) # have to add this axis to my figure object!\n",
    "#fig\n",
    "\n",
    "# combine the widget & figure and display both at the same time!\n",
    "myDashboard = ipywidgets.VBox([mySelectedLabel, fig])\n",
    "myDashboard # show the dashboard"
   ]
  },
  {
   "cell_type": "markdown",
   "metadata": {},
   "source": [
    "First things first, before doing the whole dashboard, let's just make a *static* histogram."
   ]
  },
  {
   "cell_type": "code",
   "execution_count": 22,
   "metadata": {},
   "outputs": [
    {
     "data": {
      "text/plain": [
       "array([0.49020448, 0.54707489, 0.80702874, 0.87599773, 0.68039928,\n",
       "       0.38325824, 0.3095196 , 0.64916817, 0.12032042, 0.60093292,\n",
       "       0.7689658 , 0.43414547, 0.90487497, 0.52806865, 0.08884202,\n",
       "       0.0962388 , 0.3786375 , 0.88579658, 0.40479412, 0.76461044])"
      ]
     },
     "execution_count": 22,
     "metadata": {},
     "output_type": "execute_result"
    }
   ],
   "source": [
    "# 1. Data -- data for the histogram\n",
    "i, j = 0, 1 # right now, this is fixed\n",
    "data3d[i,j]"
   ]
  },
  {
   "cell_type": "code",
   "execution_count": 23,
   "metadata": {},
   "outputs": [],
   "source": [
    "# 2. Scales -- histogram, linear scales for numerical values\n",
    "x_sch = bqplot.LinearScale()\n",
    "y_sch = bqplot.LinearScale()"
   ]
  },
  {
   "cell_type": "code",
   "execution_count": 24,
   "metadata": {},
   "outputs": [],
   "source": [
    "# 3. Axis -- x & y\n",
    "ax_xh = bqplot.Axis(scale=x_sch, label='Value of 3rd Axis') # binning into here\n",
    "ax_yh = bqplot.Axis(scale=y_sch, orientation='vertical', label='Frequency')"
   ]
  },
  {
   "cell_type": "code",
   "execution_count": 25,
   "metadata": {},
   "outputs": [],
   "source": [
    "# 4. Marks\n",
    "bqplot.Hist?"
   ]
  },
  {
   "cell_type": "code",
   "execution_count": 26,
   "metadata": {},
   "outputs": [],
   "source": [
    "hist = bqplot.Hist(sample = data3d[i,j], \n",
    "                  normalized=False,\n",
    "                  scales={'sample':x_sch, 'count': y_sch}, # sample = data, x, count is calculate in this mark\n",
    "                  bins=5)"
   ]
  },
  {
   "cell_type": "code",
   "execution_count": 27,
   "metadata": {},
   "outputs": [
    {
     "data": {
      "application/vnd.jupyter.widget-view+json": {
       "model_id": "a4d6a939164246fe8db92497d83afae5",
       "version_major": 2,
       "version_minor": 0
      },
      "text/plain": [
       "Figure(axes=[Axis(label='Value of 3rd Axis', scale=LinearScale(), side='bottom'), Axis(label='Frequency', orie…"
      ]
     },
     "metadata": {},
     "output_type": "display_data"
    }
   ],
   "source": [
    "figh = bqplot.Figure(marks=[hist], axes=[ax_xh, ax_yh])\n",
    "figh"
   ]
  },
  {
   "cell_type": "markdown",
   "metadata": {},
   "source": [
    "The final piece is figuring out what to change in our histogram mark when the grid selection is updated."
   ]
  },
  {
   "cell_type": "code",
   "execution_count": 28,
   "metadata": {},
   "outputs": [
    {
     "data": {
      "text/plain": [
       "['_model_module',\n",
       " '_model_module_version',\n",
       " '_model_name',\n",
       " '_view_count',\n",
       " '_view_module',\n",
       " '_view_module_version',\n",
       " '_view_name',\n",
       " 'apply_clip',\n",
       " 'bins',\n",
       " 'colors',\n",
       " 'count',\n",
       " 'display_legend',\n",
       " 'enable_hover',\n",
       " 'interactions',\n",
       " 'labels',\n",
       " 'midpoints',\n",
       " 'normalized',\n",
       " 'opacities',\n",
       " 'preserve_domain',\n",
       " 'sample',\n",
       " 'scales',\n",
       " 'scales_metadata',\n",
       " 'selected',\n",
       " 'selected_style',\n",
       " 'stroke',\n",
       " 'tooltip',\n",
       " 'tooltip_location',\n",
       " 'tooltip_style',\n",
       " 'unselected_style',\n",
       " 'visible']"
      ]
     },
     "execution_count": 28,
     "metadata": {},
     "output_type": "execute_result"
    }
   ],
   "source": [
    "hist.keys"
   ]
  },
  {
   "cell_type": "code",
   "execution_count": 29,
   "metadata": {},
   "outputs": [
    {
     "data": {
      "text/plain": [
       "array([0.49020448, 0.54707489, 0.80702874, 0.87599773, 0.68039928,\n",
       "       0.38325824, 0.3095196 , 0.64916817, 0.12032042, 0.60093292,\n",
       "       0.7689658 , 0.43414547, 0.90487497, 0.52806865, 0.08884202,\n",
       "       0.0962388 , 0.3786375 , 0.88579658, 0.40479412, 0.76461044])"
      ]
     },
     "execution_count": 29,
     "metadata": {},
     "output_type": "execute_result"
    }
   ],
   "source": [
    "hist.sample"
   ]
  },
  {
   "cell_type": "code",
   "execution_count": 30,
   "metadata": {},
   "outputs": [],
   "source": [
    "def on_selected(change): # already modified for our 3d data\n",
    "    if len(change['owner'].selected) == 1:\n",
    "        i, j = change['owner'].selected[0]\n",
    "        v = data3d[i,j,:].mean() # CHANGED THIS FOR 3D DATA!!!\n",
    "        mySelectedLabel.value = 'Mean Data Value (along z-axis) = ' + str(v)\n",
    "        # Add in what changes for our histogram\n",
    "        hist.sample = data3d[i,j]"
   ]
  },
  {
   "cell_type": "markdown",
   "metadata": {},
   "source": [
    "Building dashboard componenets -- #1 heatmap"
   ]
  },
  {
   "cell_type": "code",
   "execution_count": 31,
   "metadata": {},
   "outputs": [],
   "source": [
    "# 1. Data -- see above\n",
    "\n",
    "# 2. Scale - color scale\n",
    "col_sc = bqplot.ColorScale(scheme=\"Reds\") \n",
    "# this is because the \"bins\" are just bins -- their order is NOT numerically important\n",
    "x_sc = bqplot.OrdinalScale()\n",
    "y_sc = bqplot.OrdinalScale()\n",
    "\n",
    "# 3. Axis -- for colors, the axis is a colorbar!\n",
    "ax_col = bqplot.ColorAxis(scale = col_sc, orientation='vertical', side='right') \n",
    "ax_x = bqplot.Axis(scale = x_sc) # same x/y ax we had before\n",
    "ax_y = bqplot.Axis(scale = y_sc, orientation='vertical')\n",
    "\n",
    "# 4. Mark -- heatmap\n",
    "heat_map = bqplot.GridHeatMap(color = data, scales = {'color':col_sc, 'row':y_sc, 'column':x_sc},\n",
    "                             interactions={'click':'select'},\n",
    "                             anchor_style={'fill':'blue'},\n",
    "                             selected_style={'opacity':1.0},\n",
    "                             unselected_style={'opacity':0.8})\n",
    "\n",
    "# 5. Interactions -- going to be built into the GridHeatMap mark (how things *look* when selection happens)\n",
    "# BUT I'm going to define what happens when the interaction takes place (something is selected)\n",
    "heat_map.observe(on_selected, 'selected')\n",
    "\n",
    "# Finally, a figure!\n",
    "fig = bqplot.Figure(marks = [heat_map], axes=[ax_col, ax_x, ax_y]) # have to add this axis to my figure object!"
   ]
  },
  {
   "cell_type": "markdown",
   "metadata": {},
   "source": [
    "#2 we'll add in the histogram generation"
   ]
  },
  {
   "cell_type": "code",
   "execution_count": 32,
   "metadata": {},
   "outputs": [],
   "source": [
    "# 2. Scales -- histogram, linear scales for numerical values\n",
    "x_sch = bqplot.LinearScale()\n",
    "y_sch = bqplot.LinearScale()\n",
    "\n",
    "# 3. Axis -- x & y\n",
    "ax_xh = bqplot.Axis(scale=x_sch, label='Value of 3rd Axis') # binning into here\n",
    "ax_yh = bqplot.Axis(scale=y_sch, orientation='vertical', label='Frequency')\n",
    "\n",
    "i, j = 0,0 # to start, this is hardcoded\n",
    "hist = bqplot.Hist(sample = data3d[i,j], \n",
    "                  normalized=False,\n",
    "                  scales={'sample':x_sch, 'count': y_sch}, # sample = data, x, count is calculate in this mark\n",
    "                  bins=5)\n",
    "\n",
    "figh = bqplot.Figure(marks=[hist], axes=[ax_xh, ax_yh])"
   ]
  },
  {
   "cell_type": "markdown",
   "metadata": {},
   "source": [
    "Put it all together into a dashboard:"
   ]
  },
  {
   "cell_type": "code",
   "execution_count": 33,
   "metadata": {},
   "outputs": [
    {
     "data": {
      "application/vnd.jupyter.widget-view+json": {
       "model_id": "bf669c4a62b34659bb5d065065ebf0f2",
       "version_major": 2,
       "version_minor": 0
      },
      "text/plain": [
       "VBox(children=(Label(value='Mean Data Value (along z-axis) = 0.6173610289751055'), HBox(children=(Figure(axes=…"
      ]
     },
     "metadata": {},
     "output_type": "display_data"
    }
   ],
   "source": [
    "figures = ipywidgets.HBox([fig, figh]) # figures side-by-side\n",
    "\n",
    "# label on top\n",
    "myDashboard = ipywidgets.VBox([mySelectedLabel, figures])\n",
    "myDashboard"
   ]
  },
  {
   "cell_type": "code",
   "execution_count": 34,
   "metadata": {},
   "outputs": [
    {
     "data": {
      "application/vnd.jupyter.widget-view+json": {
       "model_id": "b745c939e0eb4b538787eb6569c5c6e2",
       "version_major": 2,
       "version_minor": 0
      },
      "text/plain": [
       "VBox(children=(Label(value='Mean Data Value (along z-axis) = 0.4487889339088224'), HBox(children=(Figure(axes=…"
      ]
     },
     "metadata": {},
     "output_type": "display_data"
    }
   ],
   "source": [
    "# mess with some layout parameters (look a little like CSS stylings)\n",
    "fig.layout.min_width='500px'\n",
    "figh.layout.min_width='500px'\n",
    "\n",
    "figures = ipywidgets.HBox([fig, figh]) # figures side-by-side\n",
    "\n",
    "# label on top\n",
    "myDashboard = ipywidgets.VBox([mySelectedLabel, figures])\n",
    "myDashboard"
   ]
  },
  {
   "cell_type": "markdown",
   "metadata": {},
   "source": [
    "One more thing: variable bin size for histogram."
   ]
  },
  {
   "cell_type": "code",
   "execution_count": 35,
   "metadata": {},
   "outputs": [
    {
     "data": {
      "text/plain": [
       "['_model_module',\n",
       " '_model_module_version',\n",
       " '_model_name',\n",
       " '_view_count',\n",
       " '_view_module',\n",
       " '_view_module_version',\n",
       " '_view_name',\n",
       " 'apply_clip',\n",
       " 'bins',\n",
       " 'colors',\n",
       " 'count',\n",
       " 'display_legend',\n",
       " 'enable_hover',\n",
       " 'interactions',\n",
       " 'labels',\n",
       " 'midpoints',\n",
       " 'normalized',\n",
       " 'opacities',\n",
       " 'preserve_domain',\n",
       " 'sample',\n",
       " 'scales',\n",
       " 'scales_metadata',\n",
       " 'selected',\n",
       " 'selected_style',\n",
       " 'stroke',\n",
       " 'tooltip',\n",
       " 'tooltip_location',\n",
       " 'tooltip_style',\n",
       " 'unselected_style',\n",
       " 'visible']"
      ]
     },
     "execution_count": 35,
     "metadata": {},
     "output_type": "execute_result"
    }
   ],
   "source": [
    "hist.keys"
   ]
  },
  {
   "cell_type": "code",
   "execution_count": 36,
   "metadata": {},
   "outputs": [
    {
     "data": {
      "text/plain": [
       "5"
      ]
     },
     "execution_count": 36,
     "metadata": {},
     "output_type": "execute_result"
    }
   ],
   "source": [
    "hist.bins # a trait of our histogram mark"
   ]
  },
  {
   "cell_type": "code",
   "execution_count": 37,
   "metadata": {},
   "outputs": [],
   "source": [
    "bins_slider = ipywidgets.IntSlider(value=5, min=1, max=data3d.shape[2])"
   ]
  },
  {
   "cell_type": "code",
   "execution_count": 38,
   "metadata": {},
   "outputs": [
    {
     "data": {
      "application/vnd.jupyter.widget-view+json": {
       "model_id": "aec27d7d38944653bf7c8f811ef6f6c1",
       "version_major": 2,
       "version_minor": 0
      },
      "text/plain": [
       "IntSlider(value=5, max=20, min=1)"
      ]
     },
     "metadata": {},
     "output_type": "display_data"
    }
   ],
   "source": [
    "bins_slider"
   ]
  },
  {
   "cell_type": "code",
   "execution_count": 39,
   "metadata": {},
   "outputs": [
    {
     "data": {
      "text/plain": [
       "Link(source=(IntSlider(value=14, max=20, min=1), 'value'), target=(Hist(bins=5, colors=['steelblue'], count=ar…"
      ]
     },
     "metadata": {},
     "output_type": "display_data"
    }
   ],
   "source": [
    "ipywidgets.jslink( (bins_slider,'value'), (hist, 'bins') )"
   ]
  },
  {
   "cell_type": "code",
   "execution_count": 40,
   "metadata": {},
   "outputs": [
    {
     "data": {
      "application/vnd.jupyter.widget-view+json": {
       "model_id": "eddf0fef841f4d1d9559ccfc6d9f238f",
       "version_major": 2,
       "version_minor": 0
      },
      "text/plain": [
       "VBox(children=(HBox(children=(Label(value='Mean Data Value (along z-axis) = 0.40487185315322904'), IntSlider(v…"
      ]
     },
     "metadata": {},
     "output_type": "display_data"
    }
   ],
   "source": [
    "# mess with some layout parameters (look a little like CSS stylings)\n",
    "fig.layout.min_width='500px'\n",
    "figh.layout.min_width='500px'\n",
    "\n",
    "figures = ipywidgets.HBox([fig, figh]) # figures side-by-side\n",
    "\n",
    "# control panel (bins)\n",
    "controls = ipywidgets.HBox([mySelectedLabel, bins_slider])\n",
    "\n",
    "# label on top\n",
    "myDashboard = ipywidgets.VBox([controls, figures])\n",
    "myDashboard"
   ]
  },
  {
   "cell_type": "markdown",
   "metadata": {},
   "source": [
    "## Next: a \"real\" dataset -- UFOs"
   ]
  },
  {
   "cell_type": "code",
   "execution_count": 41,
   "metadata": {},
   "outputs": [],
   "source": [
    "ufos = pd.read_csv(\"ufo-scrubbed-geocoded-time-standardized-00.csv\",\n",
    "                  names = [\"date\", \"city\", \"state\", \"country\",\n",
    "                          \"shape\", \"duration_seconds\", \"duration\",\n",
    "                          \"comment\", \"report_date\", \n",
    "                           \"latitude\", \"longitude\"],\n",
    "                  parse_dates = [\"date\", \"report_date\"])"
   ]
  },
  {
   "cell_type": "code",
   "execution_count": 42,
   "metadata": {},
   "outputs": [
    {
     "data": {
      "text/plain": [
       "80332"
      ]
     },
     "execution_count": 42,
     "metadata": {},
     "output_type": "execute_result"
    }
   ],
   "source": [
    "len(ufos)"
   ]
  },
  {
   "cell_type": "code",
   "execution_count": 43,
   "metadata": {},
   "outputs": [
    {
     "data": {
      "text/plain": [
       "array([63704, 23968, 66808, 12778, 70685, 41440, 59456, 35556, 76314,\n",
       "       16188, 28433, 57178,  7703, 66015,  7364, 64954, 45990, 59313,\n",
       "       24620, 42272, 59512, 33739, 67680, 19022, 58521, 46715, 33826,\n",
       "       10098, 59596, 38268, 33416, 58337, 60216, 52650, 27331,  7656,\n",
       "       43176, 70284, 39414, 55220, 58869, 77007, 58743, 39322, 22008,\n",
       "       58259, 51944, 29207, 79785, 25958, 50044, 35848, 21573,  5885,\n",
       "         471, 57163, 70585, 60883, 49247, 63089,  4037, 70621, 31635,\n",
       "       52623, 66718, 79493, 36662,  5359,  9890, 46259, 16742, 20673,\n",
       "       43052, 43788,   453, 49236,  9258, 31507, 79609, 51348,  5808,\n",
       "        4155, 11866,    37, 25345, 54049, 38667, 75406, 17540, 39921,\n",
       "       66657, 48827, 26456, 24553, 12759, 79103, 17435, 68863, 71507,\n",
       "       26127, 43125, 22992, 37110, 22236,   172, 51574, 49744, 23628,\n",
       "       41921, 31099, 30713, 20992, 67344,  4131, 30831, 76287, 50362,\n",
       "       29804, 56186, 68697, 51012, 57890,   891, 64643, 15727, 47580,\n",
       "       67159, 49072, 69344,  5506, 23238, 21370, 66475, 23996, 59156,\n",
       "       47648, 66271,  2949, 30735, 21965, 13738, 56171,  9197,  4547,\n",
       "       24811, 45056, 14648, 13151, 18805, 16769, 76872, 65245, 66794,\n",
       "       62224, 51158, 21344, 65278,  7357, 74575,  7406, 63486, 65762,\n",
       "       32284, 64740, 40394, 77721, 30100, 65077,  5129, 33557, 79211,\n",
       "       48539, 68709, 74599, 20101, 38852, 68638, 27985,  2736, 22844,\n",
       "        3719, 40794,  7646, 28954, 75768,   866, 22682,  4032, 60450,\n",
       "         913, 30400,  2551, 53994, 51137, 44152, 63027, 75861, 33091,\n",
       "        9122, 43056,  5218, 55073,  1465, 75435, 38739, 51330, 70544,\n",
       "       78276,  2748, 54988, 57544, 26228,  9910,  8348,  3533, 40026,\n",
       "       27566, 30042, 75866, 70770, 59772, 69157,  7022, 27833, 42355,\n",
       "       21828, 34170, 55505, 38627,  9037, 55915, 74133,  2952, 12376,\n",
       "       53776, 33555, 11500, 54447, 21218, 74858, 10188, 72303, 32603,\n",
       "       18038, 63716, 35721, 14611, 58858, 39370, 43981, 46279,  4316,\n",
       "       15408,  9812, 25329, 57396, 42876, 64287,   916, 54399, 27976,\n",
       "       29751, 47383, 37752, 51969, 43576, 74875, 73481, 28439, 21737,\n",
       "       43234, 28501, 33384, 52684, 46286, 76385, 16850, 51385, 52504,\n",
       "       33930,  4513, 51731, 64211, 27701, 11808, 32777,  5254, 50794,\n",
       "       23650, 49452, 12746, 55563, 76366, 78724,  8466, 24890, 31090,\n",
       "       39344, 49233, 31664, 32564, 73379,  2302, 67766, 22693, 45797,\n",
       "       53862, 66426, 58983, 67121, 60065,  5596, 32994, 24199, 66527,\n",
       "       43105, 60440,  7736, 47844,  2588, 73268, 70840,  1263,  7935,\n",
       "       28113, 72893, 80119, 44058, 69488, 59852, 76401, 41827, 37721,\n",
       "        6608, 22188, 18188, 73950, 19291, 11304, 21972, 77535, 19410,\n",
       "       31482, 55412, 58553, 52201, 69870, 65857, 75619, 69505, 66606,\n",
       "       16953, 18230, 75150, 19903, 33684, 24935, 56049, 36826, 45480,\n",
       "       33628, 11259, 47106, 64487, 69838, 49126, 58144, 77025, 30582,\n",
       "       24702, 55483, 41190, 52975, 29479, 75408, 52936, 37907, 55245,\n",
       "       42511, 44466, 73161,  6180, 35749, 52734, 24869, 25655, 52560,\n",
       "       70781, 37112, 24381, 79724, 21613,  3413, 48963, 47158,  9465,\n",
       "       24098, 33783, 74562, 75765, 37373, 58068,  2160, 52456, 76182,\n",
       "       38122, 44376, 29879, 23661, 73716, 30203, 28906, 53569, 62797,\n",
       "       78500, 35003, 32439,  8652, 62300, 66924, 44703, 54160, 60498,\n",
       "       52195, 57135, 74400, 55437, 27013,  7442, 51999, 74762, 17621,\n",
       "       45894, 11584, 63963,  5803, 49634, 18396, 45058, 17950, 14880,\n",
       "       14049, 62641, 53168,  6481,  5621, 53955, 52773, 36768, 75791,\n",
       "       60316, 59903, 25257, 69209, 46401, 30668, 62037, 22590, 40027,\n",
       "       54897, 42293,  4504,  8375,  1764, 11529, 66068, 37429, 55629,\n",
       "       52526, 61758, 73431, 50085, 43597, 63165, 75951, 34323, 11709,\n",
       "       18342, 21861, 64047, 10270, 28617, 20443, 23274, 63091, 36478,\n",
       "       24643, 64123,  7761, 52780, 64802, 21049, 15898, 69409, 61864,\n",
       "        2112, 25469, 28768, 36235, 66964,  9527, 72260, 46656, 21009,\n",
       "       20469, 20982, 27103, 44611, 37904,  7184, 20203, 72315, 25709,\n",
       "       34508, 13613, 55878, 57952,  6550, 42783, 47143, 71337, 64276,\n",
       "       73209, 26213, 50400, 63500, 21102, 63787, 71742, 57600, 70062,\n",
       "        8841, 73659, 70161, 27352, 77651, 32655, 18868, 51360,  6784,\n",
       "       59830, 70234,  7318, 28108, 25968, 16325, 64747, 23437, 48068,\n",
       "       17273, 59534, 76276, 15662, 10545, 31923, 35760,  6718, 34303,\n",
       "       11046, 40336, 33105, 16949, 69483, 13029, 29457, 21323, 73078,\n",
       "       78199, 78340, 71312, 21472, 12584, 72298, 74736, 28320, 41785,\n",
       "       20860, 41779, 22820,  1402, 61622, 51979, 68036, 13812, 67814,\n",
       "       12787, 30076, 38422, 26740, 71464, 21630, 54792,  1378, 31386,\n",
       "       58354, 72016, 56528, 76283, 49565, 74309, 59738, 14431, 33005,\n",
       "        6422, 19829, 21120, 45085,  2088, 76844, 66816, 35804,  9283,\n",
       "         511,  1177, 30043, 60569, 58434, 57049, 79204, 64199, 40191,\n",
       "       65119, 17808, 71693, 41789, 43983, 29663, 27349,  1856, 51090,\n",
       "       26310, 62273, 60427, 12551, 27488,   436, 13993, 48131, 53814,\n",
       "       71070, 59591, 19086, 72349, 39207,  5248,  2178,  2038, 64126,\n",
       "       53717, 33951, 57847, 48544, 19556, 46012, 36231, 74962, 46230,\n",
       "       71812, 47264, 20584, 49439, 31420, 59770, 49031, 60582, 40518,\n",
       "       14693, 27670, 41529, 73980, 27466, 78493, 21092, 55253, 34433,\n",
       "       48631, 12160, 29864,  8811, 33015, 68111, 77984, 41967, 19127,\n",
       "       45360, 14429, 16926,  5612, 55591, 40062,  3223,  3096, 33680,\n",
       "       49693, 42691, 44457,  1371, 44617, 45004, 33306, 74944, 20414,\n",
       "       49201, 26554,  8461, 32255, 53818,  2498, 10726, 32910,  7079,\n",
       "       28271, 33375, 60562, 19514,  7198, 51648, 79675, 76207, 45354,\n",
       "       41995, 46189, 15217, 61665, 56282, 45873, 45159, 21661,  1188,\n",
       "       31183, 30379, 76996, 66030, 46202,  3772, 74160, 28539,   238,\n",
       "       18713, 17840, 20201, 58647, 76748, 44907,  4625, 20222, 60008,\n",
       "       64226, 56200, 32068, 33960,  7757, 11693, 57360,  3158, 23817,\n",
       "       78034, 48173,  9239,  1123,  3252, 59832, 29091, 19456, 56197,\n",
       "       51298, 53564,   925, 63256, 16559, 16675, 45580, 27893,  5249,\n",
       "       38873, 17016, 64911, 25317, 44717,  7578,  6634, 44878, 37308,\n",
       "       50893, 79506, 41236, 28449, 27396, 16420, 53593,  7229, 66448,\n",
       "       25281, 16044, 23120, 72057, 22976, 12027, 50391, 64743, 48447,\n",
       "       36250, 66967, 53444, 64955, 76986, 77979,  5744, 30755,  6501,\n",
       "        5058, 21333, 20211, 31625, 37987, 35738, 74954, 29965, 29133,\n",
       "       27216, 73477, 51829, 41668, 63253,  7486,  5959, 26163, 47277,\n",
       "       19878, 26349, 59658, 33658, 53441, 17829, 30786, 20292,  5670,\n",
       "       60057, 53784, 15014,  7430, 37184, 39799, 74376,  6887, 80284,\n",
       "       17856, 15525, 24533, 76811, 12036, 17328, 51418, 50787, 30701,\n",
       "       52021, 31444,  9409,  1117, 21727, 56648, 60480, 42815, 79783,\n",
       "       26485, 59245, 77037, 29423, 25760, 41198, 60752,   302, 37598,\n",
       "         108, 74272, 26896, 33751, 76542, 48499, 17611, 63307, 21809,\n",
       "       55576, 18267, 31176, 42335, 70680, 18050, 55718, 54439, 60528,\n",
       "       31705, 31181,   500, 77845, 39639, 28772, 68341, 45332, 39247,\n",
       "       31864, 33966, 44897,  2728, 16935,  4602,  3299, 32790, 76221,\n",
       "        6753, 34977, 52725, 59654, 70045, 12567, 62006, 64894, 57067,\n",
       "       48043, 76396, 57991, 23893, 38156, 38914, 33043, 16550, 65555,\n",
       "       47603, 48976, 59248, 51225, 27391, 41225, 24612, 39373, 37582,\n",
       "       54836, 49809, 79974, 21506, 78307, 30845,  9693, 61816, 16969,\n",
       "       67108, 77419, 62082,   984, 60954,  8259, 53733,  9495, 62007,\n",
       "       24813, 44861, 21980, 25483, 64204,  8363, 58403, 23689, 11155,\n",
       "       18210, 14062, 28879, 44345, 76870, 13793, 28579,   239, 57892,\n",
       "       42660, 44845, 19061, 15063, 74896, 15437, 74763, 63718, 73780,\n",
       "       12386, 42706, 75025,   381, 43436, 28359, 40790,  3435, 71257,\n",
       "        6028, 60339, 32502, 17609, 46642, 73147,  3410, 11601, 37519,\n",
       "        5374])"
      ]
     },
     "execution_count": 43,
     "metadata": {},
     "output_type": "execute_result"
    }
   ],
   "source": [
    "nsamples = 1000\n",
    "#nsamples = 5000 # if you want a larger sample\n",
    "downSampleMask = np.random.choice(range(len(ufos)-1), \n",
    "                                  nsamples, replace=False)\n",
    "downSampleMask"
   ]
  },
  {
   "cell_type": "code",
   "execution_count": 44,
   "metadata": {},
   "outputs": [],
   "source": [
    "ufosDS = ufos.loc[downSampleMask] # this is an example of a mask! (filtering)"
   ]
  },
  {
   "cell_type": "code",
   "execution_count": 45,
   "metadata": {},
   "outputs": [
    {
     "data": {
      "text/plain": [
       "1000"
      ]
     },
     "execution_count": 45,
     "metadata": {},
     "output_type": "execute_result"
    }
   ],
   "source": [
    "len(ufosDS)"
   ]
  },
  {
   "cell_type": "code",
   "execution_count": 46,
   "metadata": {},
   "outputs": [
    {
     "data": {
      "text/html": [
       "<div>\n",
       "<style scoped>\n",
       "    .dataframe tbody tr th:only-of-type {\n",
       "        vertical-align: middle;\n",
       "    }\n",
       "\n",
       "    .dataframe tbody tr th {\n",
       "        vertical-align: top;\n",
       "    }\n",
       "\n",
       "    .dataframe thead th {\n",
       "        text-align: right;\n",
       "    }\n",
       "</style>\n",
       "<table border=\"1\" class=\"dataframe\">\n",
       "  <thead>\n",
       "    <tr style=\"text-align: right;\">\n",
       "      <th></th>\n",
       "      <th>date</th>\n",
       "      <th>city</th>\n",
       "      <th>state</th>\n",
       "      <th>country</th>\n",
       "      <th>shape</th>\n",
       "      <th>duration_seconds</th>\n",
       "      <th>duration</th>\n",
       "      <th>comment</th>\n",
       "      <th>report_date</th>\n",
       "      <th>latitude</th>\n",
       "      <th>longitude</th>\n",
       "    </tr>\n",
       "  </thead>\n",
       "  <tbody>\n",
       "    <tr>\n",
       "      <th>63704</th>\n",
       "      <td>1995-07-08 23:00:00</td>\n",
       "      <td>ravenna</td>\n",
       "      <td>oh</td>\n",
       "      <td>us</td>\n",
       "      <td>unknown</td>\n",
       "      <td>600.0</td>\n",
       "      <td>10 minutes</td>\n",
       "      <td>red lights and slow moving objest over  sait m...</td>\n",
       "      <td>2006-05-15</td>\n",
       "      <td>41.157500</td>\n",
       "      <td>-81.242222</td>\n",
       "    </tr>\n",
       "    <tr>\n",
       "      <th>23968</th>\n",
       "      <td>2012-01-29 23:30:00</td>\n",
       "      <td>wells</td>\n",
       "      <td>me</td>\n",
       "      <td>us</td>\n",
       "      <td>fireball</td>\n",
       "      <td>5.0</td>\n",
       "      <td>5 seconds</td>\n",
       "      <td>Green Fire ball with an Orange nose falling at...</td>\n",
       "      <td>2012-02-03</td>\n",
       "      <td>43.321944</td>\n",
       "      <td>-70.581389</td>\n",
       "    </tr>\n",
       "    <tr>\n",
       "      <th>66808</th>\n",
       "      <td>2011-08-15 17:00:00</td>\n",
       "      <td>hamburg</td>\n",
       "      <td>ny</td>\n",
       "      <td>us</td>\n",
       "      <td>other</td>\n",
       "      <td>20.0</td>\n",
       "      <td>20 seconds</td>\n",
       "      <td>This was a large craft all black. Mt daughter ...</td>\n",
       "      <td>2011-12-12</td>\n",
       "      <td>42.715833</td>\n",
       "      <td>-78.829722</td>\n",
       "    </tr>\n",
       "    <tr>\n",
       "      <th>12778</th>\n",
       "      <td>2009-11-24 18:00:00</td>\n",
       "      <td>wellsboro</td>\n",
       "      <td>pa</td>\n",
       "      <td>us</td>\n",
       "      <td>other</td>\n",
       "      <td>600.0</td>\n",
       "      <td>10min</td>\n",
       "      <td>light following another&amp;#44no sound&amp;#44no flas...</td>\n",
       "      <td>2009-12-12</td>\n",
       "      <td>41.748611</td>\n",
       "      <td>-77.300833</td>\n",
       "    </tr>\n",
       "    <tr>\n",
       "      <th>70685</th>\n",
       "      <td>2008-08-30 20:45:00</td>\n",
       "      <td>ashtabula</td>\n",
       "      <td>oh</td>\n",
       "      <td>us</td>\n",
       "      <td>changing</td>\n",
       "      <td>240.0</td>\n",
       "      <td>approx 4mins</td>\n",
       "      <td>A cluster of clear sphere like objects that we...</td>\n",
       "      <td>2008-10-31</td>\n",
       "      <td>41.865000</td>\n",
       "      <td>-80.790000</td>\n",
       "    </tr>\n",
       "    <tr>\n",
       "      <th>...</th>\n",
       "      <td>...</td>\n",
       "      <td>...</td>\n",
       "      <td>...</td>\n",
       "      <td>...</td>\n",
       "      <td>...</td>\n",
       "      <td>...</td>\n",
       "      <td>...</td>\n",
       "      <td>...</td>\n",
       "      <td>...</td>\n",
       "      <td>...</td>\n",
       "      <td>...</td>\n",
       "    </tr>\n",
       "    <tr>\n",
       "      <th>73147</th>\n",
       "      <td>2004-09-11 22:00:00</td>\n",
       "      <td>riverdale</td>\n",
       "      <td>ut</td>\n",
       "      <td>us</td>\n",
       "      <td>light</td>\n",
       "      <td>120.0</td>\n",
       "      <td>1-2 minutes</td>\n",
       "      <td>Slow moving&amp;#44 bright light&amp;#44 with no flash...</td>\n",
       "      <td>2004-09-29</td>\n",
       "      <td>41.176944</td>\n",
       "      <td>-112.003056</td>\n",
       "    </tr>\n",
       "    <tr>\n",
       "      <th>3410</th>\n",
       "      <td>1999-10-21 11:55:00</td>\n",
       "      <td>kansas city</td>\n",
       "      <td>mo</td>\n",
       "      <td>us</td>\n",
       "      <td>cylinder</td>\n",
       "      <td>1200.0</td>\n",
       "      <td>20 minutes</td>\n",
       "      <td>I and four other people watched a very large c...</td>\n",
       "      <td>1999-11-09</td>\n",
       "      <td>39.099722</td>\n",
       "      <td>-94.578333</td>\n",
       "    </tr>\n",
       "    <tr>\n",
       "      <th>11601</th>\n",
       "      <td>2005-11-20 19:00:00</td>\n",
       "      <td>findlay</td>\n",
       "      <td>oh</td>\n",
       "      <td>us</td>\n",
       "      <td>other</td>\n",
       "      <td>3600.0</td>\n",
       "      <td>approx. 1 hour</td>\n",
       "      <td>Large bright light in southwest sky.  ((NUFORC...</td>\n",
       "      <td>2005-12-16</td>\n",
       "      <td>41.044167</td>\n",
       "      <td>-83.650000</td>\n",
       "    </tr>\n",
       "    <tr>\n",
       "      <th>37519</th>\n",
       "      <td>1976-04-18 17:00:00</td>\n",
       "      <td>marianna</td>\n",
       "      <td>fl</td>\n",
       "      <td>us</td>\n",
       "      <td>oval</td>\n",
       "      <td>5.0</td>\n",
       "      <td>aprox  5 sec</td>\n",
       "      <td>the object  was oval shaped and at the tipical...</td>\n",
       "      <td>2005-09-02</td>\n",
       "      <td>30.774167</td>\n",
       "      <td>-85.226944</td>\n",
       "    </tr>\n",
       "    <tr>\n",
       "      <th>5374</th>\n",
       "      <td>2011-10-29 19:40:00</td>\n",
       "      <td>pine grove</td>\n",
       "      <td>co</td>\n",
       "      <td>NaN</td>\n",
       "      <td>sphere</td>\n",
       "      <td>3.0</td>\n",
       "      <td>3 sec</td>\n",
       "      <td>Bright Light moving low to the horizon from SW...</td>\n",
       "      <td>2011-12-12</td>\n",
       "      <td>39.410000</td>\n",
       "      <td>-105.321944</td>\n",
       "    </tr>\n",
       "  </tbody>\n",
       "</table>\n",
       "<p>1000 rows × 11 columns</p>\n",
       "</div>"
      ],
      "text/plain": [
       "                     date         city state country     shape  \\\n",
       "63704 1995-07-08 23:00:00      ravenna    oh      us   unknown   \n",
       "23968 2012-01-29 23:30:00        wells    me      us  fireball   \n",
       "66808 2011-08-15 17:00:00      hamburg    ny      us     other   \n",
       "12778 2009-11-24 18:00:00    wellsboro    pa      us     other   \n",
       "70685 2008-08-30 20:45:00    ashtabula    oh      us  changing   \n",
       "...                   ...          ...   ...     ...       ...   \n",
       "73147 2004-09-11 22:00:00    riverdale    ut      us     light   \n",
       "3410  1999-10-21 11:55:00  kansas city    mo      us  cylinder   \n",
       "11601 2005-11-20 19:00:00      findlay    oh      us     other   \n",
       "37519 1976-04-18 17:00:00     marianna    fl      us      oval   \n",
       "5374  2011-10-29 19:40:00   pine grove    co     NaN    sphere   \n",
       "\n",
       "       duration_seconds        duration  \\\n",
       "63704             600.0      10 minutes   \n",
       "23968               5.0       5 seconds   \n",
       "66808              20.0      20 seconds   \n",
       "12778             600.0           10min   \n",
       "70685             240.0    approx 4mins   \n",
       "...                 ...             ...   \n",
       "73147             120.0     1-2 minutes   \n",
       "3410             1200.0      20 minutes   \n",
       "11601            3600.0  approx. 1 hour   \n",
       "37519               5.0    aprox  5 sec   \n",
       "5374                3.0           3 sec   \n",
       "\n",
       "                                                 comment report_date  \\\n",
       "63704  red lights and slow moving objest over  sait m...  2006-05-15   \n",
       "23968  Green Fire ball with an Orange nose falling at...  2012-02-03   \n",
       "66808  This was a large craft all black. Mt daughter ...  2011-12-12   \n",
       "12778  light following another&#44no sound&#44no flas...  2009-12-12   \n",
       "70685  A cluster of clear sphere like objects that we...  2008-10-31   \n",
       "...                                                  ...         ...   \n",
       "73147  Slow moving&#44 bright light&#44 with no flash...  2004-09-29   \n",
       "3410   I and four other people watched a very large c...  1999-11-09   \n",
       "11601  Large bright light in southwest sky.  ((NUFORC...  2005-12-16   \n",
       "37519  the object  was oval shaped and at the tipical...  2005-09-02   \n",
       "5374   Bright Light moving low to the horizon from SW...  2011-12-12   \n",
       "\n",
       "        latitude   longitude  \n",
       "63704  41.157500  -81.242222  \n",
       "23968  43.321944  -70.581389  \n",
       "66808  42.715833  -78.829722  \n",
       "12778  41.748611  -77.300833  \n",
       "70685  41.865000  -80.790000  \n",
       "...          ...         ...  \n",
       "73147  41.176944 -112.003056  \n",
       "3410   39.099722  -94.578333  \n",
       "11601  41.044167  -83.650000  \n",
       "37519  30.774167  -85.226944  \n",
       "5374   39.410000 -105.321944  \n",
       "\n",
       "[1000 rows x 11 columns]"
      ]
     },
     "execution_count": 46,
     "metadata": {},
     "output_type": "execute_result"
    }
   ],
   "source": [
    "ufosDS"
   ]
  },
  {
   "cell_type": "markdown",
   "metadata": {},
   "source": [
    "Super quick scatter plot of this data:"
   ]
  },
  {
   "cell_type": "code",
   "execution_count": 47,
   "metadata": {},
   "outputs": [
    {
     "data": {
      "application/vnd.jupyter.widget-view+json": {
       "model_id": "4c5a3d37540c4a7f9a2f92b560a923da",
       "version_major": 2,
       "version_minor": 0
      },
      "text/plain": [
       "Figure(axes=[Axis(label='Longitude', scale=LinearScale()), Axis(label='Latitude', orientation='vertical', scal…"
      ]
     },
     "metadata": {},
     "output_type": "display_data"
    }
   ],
   "source": [
    "# (data will be the long/lat columsn)\n",
    "\n",
    "# 2. scales - linear scales\n",
    "x_sc = bqplot.LinearScale()\n",
    "y_sc = bqplot.LinearScale()\n",
    "\n",
    "# 3. axis\n",
    "ax_x = bqplot.Axis(scale = x_sc, label='Longitude')\n",
    "ax_y = bqplot.Axis(scale = y_sc, orientation='vertical', label='Latitude')\n",
    "\n",
    "# 4. Marks\n",
    "scatters = bqplot.Scatter(x = ufosDS['longitude'], y = ufosDS['latitude'], \n",
    "                         scales={'x':x_sc, 'y':y_sc})\n",
    "\n",
    "# figure!\n",
    "fig = bqplot.Figure(marks=[scatters], axes=[ax_x, ax_y])\n",
    "fig"
   ]
  },
  {
   "cell_type": "code",
   "execution_count": 49,
   "metadata": {},
   "outputs": [
    {
     "data": {
      "application/vnd.jupyter.widget-view+json": {
       "model_id": "75d46f0c89e04f888b5edd665d64890a",
       "version_major": 2,
       "version_minor": 0
      },
      "text/plain": [
       "Figure(axes=[Axis(label='Longitude', scale=LinearScale()), Axis(label='Latitude', orientation='vertical', scal…"
      ]
     },
     "metadata": {},
     "output_type": "display_data"
    }
   ],
   "source": [
    "# 2. scales - linear scales\n",
    "x_sc = bqplot.LinearScale()\n",
    "y_sc = bqplot.LinearScale()\n",
    "c_sc = bqplot.ColorScale()\n",
    "\n",
    "# 3. axis\n",
    "ax_x = bqplot.Axis(scale = x_sc, label='Longitude')\n",
    "ax_y = bqplot.Axis(scale = y_sc, orientation='vertical', label='Latitude')\n",
    "ax_c = bqplot.ColorAxis(scale = c_sc, label='Duration in sec', orientation='vertical', side='right')\n",
    "\n",
    "# 4. Marks\n",
    "scatters = bqplot.Scatter(x = ufosDS['longitude'], y = ufosDS['latitude'], color=ufosDS['duration_seconds'],\n",
    "                         scales={'x':x_sc, 'y':y_sc, 'color':c_sc})\n",
    "\n",
    "# figure!\n",
    "fig = bqplot.Figure(marks=[scatters], axes=[ax_x, ax_y, ax_c])\n",
    "fig"
   ]
  },
  {
   "cell_type": "code",
   "execution_count": 50,
   "metadata": {},
   "outputs": [
    {
     "data": {
      "text/plain": [
       "(0.05, 1814400.0)"
      ]
     },
     "execution_count": 50,
     "metadata": {},
     "output_type": "execute_result"
    }
   ],
   "source": [
    "ufosDS['duration_seconds'].min(), ufosDS['duration_seconds'].max()"
   ]
  },
  {
   "cell_type": "code",
   "execution_count": 51,
   "metadata": {},
   "outputs": [
    {
     "data": {
      "application/vnd.jupyter.widget-view+json": {
       "model_id": "0021d19702694c81a202084e1020d5c5",
       "version_major": 2,
       "version_minor": 0
      },
      "text/plain": [
       "Figure(axes=[Axis(label='Longitude', scale=LinearScale()), Axis(label='Latitude', orientation='vertical', scal…"
      ]
     },
     "metadata": {},
     "output_type": "display_data"
    }
   ],
   "source": [
    "# 2. scales - linear scales\n",
    "x_sc = bqplot.LinearScale()\n",
    "y_sc = bqplot.LinearScale()\n",
    "c_sc = bqplot.ColorScale()\n",
    "\n",
    "# 3. axis\n",
    "ax_x = bqplot.Axis(scale = x_sc, label='Longitude')\n",
    "ax_y = bqplot.Axis(scale = y_sc, orientation='vertical', label='Latitude')\n",
    "ax_c = bqplot.ColorAxis(scale = c_sc, label='log10(sec)', orientation='vertical', side='right')\n",
    "\n",
    "# 4. Marks\n",
    "scatters = bqplot.Scatter(x = ufosDS['longitude'], y = ufosDS['latitude'], color=np.log10(ufosDS['duration_seconds']),\n",
    "                         scales={'x':x_sc, 'y':y_sc, 'color':c_sc})\n",
    "\n",
    "# figure!\n",
    "fig = bqplot.Figure(marks=[scatters], axes=[ax_x, ax_y, ax_c])\n",
    "fig"
   ]
  },
  {
   "cell_type": "markdown",
   "metadata": {},
   "source": [
    "A quick trip back to matplotlib!"
   ]
  },
  {
   "cell_type": "code",
   "execution_count": 54,
   "metadata": {},
   "outputs": [
    {
     "data": {
      "image/png": "[encoded data removed]",
      "text/plain": [
       "<Figure size 432x288 with 2 Axes>"
      ]
     },
     "metadata": {
      "needs_background": "light"
     },
     "output_type": "display_data"
    }
   ],
   "source": [
    "plt.hist2d(ufos['longitude'], ufos['latitude'], weights=ufos['duration_seconds'], \n",
    "          bins=20, cmap='RdPu')\n",
    "cb = plt.colorbar()\n",
    "cb.set_label('duration sec')"
   ]
  },
  {
   "cell_type": "code",
   "execution_count": 55,
   "metadata": {},
   "outputs": [
    {
     "data": {
      "image/png": "[encoded data removed]",
      "text/plain": [
       "<Figure size 432x288 with 2 Axes>"
      ]
     },
     "metadata": {
      "needs_background": "light"
     },
     "output_type": "display_data"
    }
   ],
   "source": [
    "plt.hist2d(ufos['longitude'], ufos['latitude'], weights=np.log10(ufos['duration_seconds']), # doing the binning with logs\n",
    "          bins=20, cmap='RdPu')\n",
    "cb = plt.colorbar()\n",
    "cb.set_label('log10(sec)')"
   ]
  },
  {
   "cell_type": "code",
   "execution_count": 56,
   "metadata": {},
   "outputs": [],
   "source": [
    "import matplotlib.colors as mpl_colors"
   ]
  },
  {
   "cell_type": "code",
   "execution_count": 57,
   "metadata": {},
   "outputs": [],
   "source": [
    "mpl_colors.SymLogNorm?"
   ]
  },
  {
   "cell_type": "code",
   "execution_count": 59,
   "metadata": {},
   "outputs": [
    {
     "name": "stderr",
     "output_type": "stream",
     "text": [
      "<ipython-input-59-e7ae35545624>:2: MatplotlibDeprecationWarning: default base may change from np.e to 10.  To suppress this warning specify the base keyword argument.\n",
      "  bins=20, cmap='RdPu', norm=mpl_colors.SymLogNorm(10))\n"
     ]
    },
    {
     "data": {
      "image/png": "[encoded data removed]",
      "text/plain": [
       "<Figure size 432x288 with 2 Axes>"
      ]
     },
     "metadata": {
      "needs_background": "light"
     },
     "output_type": "display_data"
    }
   ],
   "source": [
    "plt.hist2d(ufos['longitude'], ufos['latitude'], weights=ufos['duration_seconds'], \n",
    "          bins=20, cmap='RdPu', norm=mpl_colors.SymLogNorm(10)) # a little reminder about norm of colorspace\n",
    "cb = plt.colorbar() # want colorbar to be in log-space\n",
    "cb.set_label('duration sec')"
   ]
  },
  {
   "cell_type": "markdown",
   "metadata": {},
   "source": [
    "Here: histogram the data \"by hand\" and feed this into bqplot."
   ]
  },
  {
   "cell_type": "code",
   "execution_count": 60,
   "metadata": {},
   "outputs": [],
   "source": [
    "nlong = 20\n",
    "nlat = 20\n",
    "\n",
    "hist2d, long_edges, lat_edges = np.histogram2d(ufos['longitude'], ufos['latitude'], \n",
    "                                              weights=ufos['duration_seconds'], \n",
    "                                              bins=[nlong, nlat])"
   ]
  },
  {
   "cell_type": "code",
   "execution_count": 62,
   "metadata": {},
   "outputs": [
    {
     "data": {
      "text/plain": [
       "(20, 20)"
      ]
     },
     "execution_count": 62,
     "metadata": {},
     "output_type": "execute_result"
    }
   ],
   "source": [
    "hist2d.shape"
   ]
  },
  {
   "cell_type": "code",
   "execution_count": 63,
   "metadata": {},
   "outputs": [
    {
     "data": {
      "text/plain": [
       "(0.0, 153348519.88)"
      ]
     },
     "execution_count": 63,
     "metadata": {},
     "output_type": "execute_result"
    }
   ],
   "source": [
    "hist2d.min(), hist2d.max()"
   ]
  },
  {
   "cell_type": "markdown",
   "metadata": {},
   "source": [
    "Because I already have gridded data, the matplotlib function I want to use is imshow instead of hist2d:"
   ]
  },
  {
   "cell_type": "code",
   "execution_count": 65,
   "metadata": {},
   "outputs": [
    {
     "name": "stderr",
     "output_type": "stream",
     "text": [
      "<ipython-input-65-7b9a5b72c7f3>:1: MatplotlibDeprecationWarning: default base may change from np.e to 10.  To suppress this warning specify the base keyword argument.\n",
      "  plt.imshow(hist2d, cmap='RdPu', norm=mpl_colors.SymLogNorm(10))\n"
     ]
    },
    {
     "data": {
      "text/plain": [
       "<matplotlib.image.AxesImage at 0x7fc5d1495d90>"
      ]
     },
     "execution_count": 65,
     "metadata": {},
     "output_type": "execute_result"
    },
    {
     "data": {
      "image/png": "[encoded data removed]",
      "text/plain": [
       "<Figure size 432x288 with 1 Axes>"
      ]
     },
     "metadata": {
      "needs_background": "light"
     },
     "output_type": "display_data"
    }
   ],
   "source": [
    "plt.imshow(hist2d, cmap='RdPu', norm=mpl_colors.SymLogNorm(10))"
   ]
  },
  {
   "cell_type": "code",
   "execution_count": 66,
   "metadata": {},
   "outputs": [
    {
     "name": "stderr",
     "output_type": "stream",
     "text": [
      "<ipython-input-66-f84957fd202f>:1: MatplotlibDeprecationWarning: default base may change from np.e to 10.  To suppress this warning specify the base keyword argument.\n",
      "  plt.imshow(hist2d.T, cmap='RdPu', norm=mpl_colors.SymLogNorm(10))\n"
     ]
    },
    {
     "data": {
      "text/plain": [
       "<matplotlib.image.AxesImage at 0x7fc5b0d75130>"
      ]
     },
     "execution_count": 66,
     "metadata": {},
     "output_type": "execute_result"
    },
    {
     "data": {
      "image/png": "[encoded data removed]",
      "text/plain": [
       "<Figure size 432x288 with 1 Axes>"
      ]
     },
     "metadata": {
      "needs_background": "light"
     },
     "output_type": "display_data"
    }
   ],
   "source": [
    "plt.imshow(hist2d.T, cmap='RdPu', norm=mpl_colors.SymLogNorm(10))"
   ]
  },
  {
   "cell_type": "markdown",
   "metadata": {},
   "source": [
    "A little weirdness -- bqplot actually expects this transposed (upside down) dataset!"
   ]
  },
  {
   "cell_type": "code",
   "execution_count": 67,
   "metadata": {},
   "outputs": [
    {
     "data": {
      "text/plain": [
       "(20, 20)"
      ]
     },
     "execution_count": 67,
     "metadata": {},
     "output_type": "execute_result"
    }
   ],
   "source": [
    "hist2d.shape"
   ]
  },
  {
   "cell_type": "code",
   "execution_count": 68,
   "metadata": {},
   "outputs": [
    {
     "data": {
      "text/plain": [
       "(21,)"
      ]
     },
     "execution_count": 68,
     "metadata": {},
     "output_type": "execute_result"
    }
   ],
   "source": [
    "long_edges.shape"
   ]
  },
  {
   "cell_type": "code",
   "execution_count": 69,
   "metadata": {},
   "outputs": [
    {
     "data": {
      "text/plain": [
       "(21,)"
      ]
     },
     "execution_count": 69,
     "metadata": {},
     "output_type": "execute_result"
    }
   ],
   "source": [
    "lat_edges.shape"
   ]
  },
  {
   "cell_type": "code",
   "execution_count": 70,
   "metadata": {},
   "outputs": [],
   "source": [
    "long_centers = (long_edges[:-1] + long_edges[1:])/2 # 30% on this is totally fine!"
   ]
  },
  {
   "cell_type": "code",
   "execution_count": 71,
   "metadata": {},
   "outputs": [
    {
     "data": {
      "text/plain": [
       "array([-176.6580556 , -158.90305782, -141.14806004, -123.39306226,\n",
       "       -105.63806448,  -87.8830667 ,  -70.12806892,  -52.37307114,\n",
       "        -34.61807336,  -16.86307558,    0.8919222 ,   18.64691998,\n",
       "         36.40191776,   54.15691554,   71.91191332,   89.6669111 ,\n",
       "        107.42190888,  125.17690666,  142.93190444,  160.68690222,\n",
       "        178.4419    ])"
      ]
     },
     "execution_count": 71,
     "metadata": {},
     "output_type": "execute_result"
    }
   ],
   "source": [
    "long_edges"
   ]
  },
  {
   "cell_type": "code",
   "execution_count": 72,
   "metadata": {},
   "outputs": [
    {
     "data": {
      "text/plain": [
       "array([-167.78055671, -150.02555893, -132.27056115, -114.51556337,\n",
       "        -96.76056559,  -79.00556781,  -61.25057003,  -43.49557225,\n",
       "        -25.74057447,   -7.98557669,    9.76942109,   27.52441887,\n",
       "         45.27941665,   63.03441443,   80.78941221,   98.54440999,\n",
       "        116.29940777,  134.05440555,  151.80940333,  169.56440111])"
      ]
     },
     "execution_count": 72,
     "metadata": {},
     "output_type": "execute_result"
    }
   ],
   "source": [
    "long_centers"
   ]
  },
  {
   "cell_type": "code",
   "execution_count": 73,
   "metadata": {},
   "outputs": [],
   "source": [
    "# specify the bins for each lat & long\n",
    "long_bins = np.linspace(-150, 150, nlong+1)"
   ]
  },
  {
   "cell_type": "code",
   "execution_count": 74,
   "metadata": {},
   "outputs": [
    {
     "data": {
      "text/plain": [
       "array([-150., -135., -120., -105.,  -90.,  -75.,  -60.,  -45.,  -30.,\n",
       "        -15.,    0.,   15.,   30.,   45.,   60.,   75.,   90.,  105.,\n",
       "        120.,  135.,  150.])"
      ]
     },
     "execution_count": 74,
     "metadata": {},
     "output_type": "execute_result"
    }
   ],
   "source": [
    "long_bins"
   ]
  },
  {
   "cell_type": "code",
   "execution_count": 75,
   "metadata": {},
   "outputs": [],
   "source": [
    "lat_bins = np.linspace(-40, 70, nlat+1)"
   ]
  },
  {
   "cell_type": "code",
   "execution_count": 76,
   "metadata": {},
   "outputs": [
    {
     "data": {
      "text/plain": [
       "array([-40. , -34.5, -29. , -23.5, -18. , -12.5,  -7. ,  -1.5,   4. ,\n",
       "         9.5,  15. ,  20.5,  26. ,  31.5,  37. ,  42.5,  48. ,  53.5,\n",
       "        59. ,  64.5,  70. ])"
      ]
     },
     "execution_count": 76,
     "metadata": {},
     "output_type": "execute_result"
    }
   ],
   "source": [
    "lat_bins"
   ]
  },
  {
   "cell_type": "code",
   "execution_count": 78,
   "metadata": {},
   "outputs": [],
   "source": [
    "# use these bins to make my histogram\n",
    "hist2d, long_edges, lat_edges = np.histogram2d(ufos['longitude'], ufos['latitude'], \n",
    "                                              weights=ufos['duration_seconds'],\n",
    "                                              bins=[long_bins, lat_bins])"
   ]
  },
  {
   "cell_type": "code",
   "execution_count": 80,
   "metadata": {},
   "outputs": [
    {
     "data": {
      "text/plain": [
       "array([-150., -135., -120., -105.,  -90.,  -75.,  -60.,  -45.,  -30.,\n",
       "        -15.,    0.,   15.,   30.,   45.,   60.,   75.,   90.,  105.,\n",
       "        120.,  135.,  150.])"
      ]
     },
     "execution_count": 80,
     "metadata": {},
     "output_type": "execute_result"
    }
   ],
   "source": [
    "long_edges"
   ]
  },
  {
   "cell_type": "code",
   "execution_count": 81,
   "metadata": {},
   "outputs": [],
   "source": [
    "long_centers = (long_edges[:-1] + long_edges[1:])/2 # 30% on this is totally fine!\n",
    "lat_centers = (lat_edges[:-1] + long_edges[1:])/2"
   ]
  },
  {
   "cell_type": "code",
   "execution_count": 82,
   "metadata": {},
   "outputs": [],
   "source": [
    "hist2d = hist2d.T"
   ]
  },
  {
   "cell_type": "code",
   "execution_count": 83,
   "metadata": {},
   "outputs": [
    {
     "data": {
      "text/plain": [
       "(0.0, 125056847.51)"
      ]
     },
     "execution_count": 83,
     "metadata": {},
     "output_type": "execute_result"
    }
   ],
   "source": [
    "hist2d.min(), hist2d.max()"
   ]
  },
  {
   "cell_type": "code",
   "execution_count": 84,
   "metadata": {},
   "outputs": [
    {
     "name": "stderr",
     "output_type": "stream",
     "text": [
      "<ipython-input-84-4e5e124bd84c>:1: RuntimeWarning: divide by zero encountered in log10\n",
      "  np.log10(hist2d.min())\n"
     ]
    },
    {
     "data": {
      "text/plain": [
       "-inf"
      ]
     },
     "execution_count": 84,
     "metadata": {},
     "output_type": "execute_result"
    }
   ],
   "source": [
    "np.log10(hist2d.min())"
   ]
  },
  {
   "cell_type": "code",
   "execution_count": 85,
   "metadata": {},
   "outputs": [],
   "source": [
    "# we are going to be a little tricky!\n",
    "hist2d[hist2d <= 0] = np.nan # filtering operation"
   ]
  },
  {
   "cell_type": "code",
   "execution_count": 86,
   "metadata": {},
   "outputs": [],
   "source": [
    "hist2dlog = np.log10(hist2d)"
   ]
  },
  {
   "cell_type": "markdown",
   "metadata": {},
   "source": [
    "It turns out that even though we'll have NaN's in our dataset, bqplot will plot this as a black background in a GridHeatMap mark!"
   ]
  },
  {
   "cell_type": "code",
   "execution_count": 88,
   "metadata": {},
   "outputs": [],
   "source": [
    "#hist2dlog"
   ]
  },
  {
   "cell_type": "code",
   "execution_count": 89,
   "metadata": {},
   "outputs": [],
   "source": [
    "# 1. Data -- WE DID A LOT HERE!!\n",
    "# having to do a lot of pre-viz data formatting\n",
    "\n",
    "# 2. Scales\n",
    "col_sc = bqplot.ColorScale(scheme=\"RdPu\", min=np.nanmin(hist2dlog), max=np.nanmax(hist2dlog)) \n",
    "x_sc = bqplot.LinearScale() # numerical, long\n",
    "y_sc = bqplot.LinearScale() # numerical, lat"
   ]
  },
  {
   "cell_type": "code",
   "execution_count": 90,
   "metadata": {},
   "outputs": [],
   "source": [
    "# 3. Axis -- for colors, the axis is a colorbar!\n",
    "ax_col = bqplot.ColorAxis(scale = col_sc, orientation='vertical', side='right') \n",
    "ax_x = bqplot.Axis(scale = x_sc, label='Longitude') # same x/y ax we had before\n",
    "ax_y = bqplot.Axis(scale = y_sc, orientation='vertical', label='Latitude')\n"
   ]
  },
  {
   "cell_type": "code",
   "execution_count": 91,
   "metadata": {},
   "outputs": [],
   "source": [
    "# 4. Mark -- heatmap\n",
    "heat_map = bqplot.GridHeatMap(color = hist2dlog, \n",
    "                              row = lat_centers,\n",
    "                              column = long_centers,\n",
    "                              scales = {'color':col_sc, 'row':y_sc, 'column':x_sc},\n",
    "                             interactions={'click':'select'},\n",
    "                             anchor_style={'fill':'blue'},\n",
    "                             selected_style={'opacity':1.0},\n",
    "                             unselected_style={'opacity':0.8})\n"
   ]
  },
  {
   "cell_type": "code",
   "execution_count": 95,
   "metadata": {},
   "outputs": [
    {
     "data": {
      "application/vnd.jupyter.widget-view+json": {
       "model_id": "08003ac553e64918902630378c3e438f",
       "version_major": 2,
       "version_minor": 0
      },
      "text/plain": [
       "Figure(axes=[ColorAxis(orientation='vertical', scale=ColorScale(max=8.09710747658943, min=0.0, scheme='RdPu'),…"
      ]
     },
     "metadata": {},
     "output_type": "display_data"
    }
   ],
   "source": [
    "# figure!\n",
    "fig = bqplot.Figure(marks=[heat_map], axes=[ax_col, ax_y, ax_x])\n",
    "fig"
   ]
  },
  {
   "cell_type": "code",
   "execution_count": 102,
   "metadata": {},
   "outputs": [
    {
     "data": {
      "application/vnd.jupyter.widget-view+json": {
       "model_id": "6c78b268983243a3a1ad322d99d91e3e",
       "version_major": 2,
       "version_minor": 0
      },
      "text/plain": [
       "VBox(children=(Label(value=''), Figure(axes=[ColorAxis(orientation='vertical', scale=ColorScale(max=8.09710747…"
      ]
     },
     "metadata": {},
     "output_type": "display_data"
    }
   ],
   "source": [
    "# 1. Data -- WE DID A LOT HERE!!\n",
    "# having to do a lot of pre-viz data formatting\n",
    "\n",
    "# 2. Scales\n",
    "col_sc = bqplot.ColorScale(scheme=\"RdPu\", min=np.nanmin(hist2dlog), max=np.nanmax(hist2dlog)) \n",
    "x_sc = bqplot.LinearScale() # numerical, long\n",
    "y_sc = bqplot.LinearScale() # numerical, lat\n",
    "\n",
    "# 3. Axis -- for colors, the axis is a colorbar!\n",
    "ax_col = bqplot.ColorAxis(scale = col_sc, orientation='vertical', side='right') \n",
    "ax_x = bqplot.Axis(scale = x_sc, label='Longitude') # same x/y ax we had before\n",
    "ax_y = bqplot.Axis(scale = y_sc, orientation='vertical', label='Latitude')\n",
    "\n",
    "# 4. Mark -- heatmap\n",
    "heat_map = bqplot.GridHeatMap(color = hist2dlog, \n",
    "                              row = lat_centers,\n",
    "                              column = long_centers,\n",
    "                              scales = {'color':col_sc, 'row':y_sc, 'column':x_sc},\n",
    "                             interactions={'click':'select'},\n",
    "                             anchor_style={'fill':'blue'},\n",
    "                             selected_style={'opacity':1.0},\n",
    "                             unselected_style={'opacity':0.8})\n",
    "\n",
    "# 5. interactivity\n",
    "mySelectedLabel = ipywidgets.Label()\n",
    "def on_selected(change): # already modified for our 3d data\n",
    "    if len(change['owner'].selected) == 1:\n",
    "        i, j = change['owner'].selected[0]\n",
    "        v = hist2dlog[i,j] # this is a 2d array!!\n",
    "        mySelectedLabel.value = 'Weighted binning (log(duration in sec)) = ' + str(v)\n",
    "        ##### Add in what changes for our histogram\n",
    "        ####hist.sample = data3d[i,j]\n",
    "# make sure we are observing for changes in our heatmap\n",
    "heat_map.observe(on_selected, 'selected')\n",
    "        \n",
    "# figure!\n",
    "fig = bqplot.Figure(marks=[heat_map], axes=[ax_col, ax_y, ax_x])\n",
    "#fig\n",
    "\n",
    "# dashboard with my label\n",
    "myDashboard = ipywidgets.VBox([mySelectedLabel, fig])\n",
    "myDashboard"
   ]
  },
  {
   "cell_type": "code",
   "execution_count": 100,
   "metadata": {},
   "outputs": [
    {
     "data": {
      "text/html": [
       "<div>\n",
       "<style scoped>\n",
       "    .dataframe tbody tr th:only-of-type {\n",
       "        vertical-align: middle;\n",
       "    }\n",
       "\n",
       "    .dataframe tbody tr th {\n",
       "        vertical-align: top;\n",
       "    }\n",
       "\n",
       "    .dataframe thead th {\n",
       "        text-align: right;\n",
       "    }\n",
       "</style>\n",
       "<table border=\"1\" class=\"dataframe\">\n",
       "  <thead>\n",
       "    <tr style=\"text-align: right;\">\n",
       "      <th></th>\n",
       "      <th>date</th>\n",
       "      <th>city</th>\n",
       "      <th>state</th>\n",
       "      <th>country</th>\n",
       "      <th>shape</th>\n",
       "      <th>duration_seconds</th>\n",
       "      <th>duration</th>\n",
       "      <th>comment</th>\n",
       "      <th>report_date</th>\n",
       "      <th>latitude</th>\n",
       "      <th>longitude</th>\n",
       "    </tr>\n",
       "  </thead>\n",
       "  <tbody>\n",
       "    <tr>\n",
       "      <th>0</th>\n",
       "      <td>1949-10-10 20:30:00</td>\n",
       "      <td>san marcos</td>\n",
       "      <td>tx</td>\n",
       "      <td>us</td>\n",
       "      <td>cylinder</td>\n",
       "      <td>2700.0</td>\n",
       "      <td>45 minutes</td>\n",
       "      <td>This event took place in early fall around 194...</td>\n",
       "      <td>2004-04-27</td>\n",
       "      <td>29.883056</td>\n",
       "      <td>-97.941111</td>\n",
       "    </tr>\n",
       "    <tr>\n",
       "      <th>1</th>\n",
       "      <td>1949-10-10 21:00:00</td>\n",
       "      <td>lackland afb</td>\n",
       "      <td>tx</td>\n",
       "      <td>NaN</td>\n",
       "      <td>light</td>\n",
       "      <td>7200.0</td>\n",
       "      <td>1-2 hrs</td>\n",
       "      <td>1949 Lackland AFB&amp;#44 TX.  Lights racing acros...</td>\n",
       "      <td>2005-12-16</td>\n",
       "      <td>29.384210</td>\n",
       "      <td>-98.581082</td>\n",
       "    </tr>\n",
       "    <tr>\n",
       "      <th>2</th>\n",
       "      <td>1955-10-10 17:00:00</td>\n",
       "      <td>chester (uk/england)</td>\n",
       "      <td>NaN</td>\n",
       "      <td>gb</td>\n",
       "      <td>circle</td>\n",
       "      <td>20.0</td>\n",
       "      <td>20 seconds</td>\n",
       "      <td>Green/Orange circular disc over Chester&amp;#44 En...</td>\n",
       "      <td>2008-01-21</td>\n",
       "      <td>53.200000</td>\n",
       "      <td>-2.916667</td>\n",
       "    </tr>\n",
       "    <tr>\n",
       "      <th>3</th>\n",
       "      <td>1956-10-10 21:00:00</td>\n",
       "      <td>edna</td>\n",
       "      <td>tx</td>\n",
       "      <td>us</td>\n",
       "      <td>circle</td>\n",
       "      <td>20.0</td>\n",
       "      <td>1/2 hour</td>\n",
       "      <td>My older brother and twin sister were leaving ...</td>\n",
       "      <td>2004-01-17</td>\n",
       "      <td>28.978333</td>\n",
       "      <td>-96.645833</td>\n",
       "    </tr>\n",
       "    <tr>\n",
       "      <th>4</th>\n",
       "      <td>1960-10-10 20:00:00</td>\n",
       "      <td>kaneohe</td>\n",
       "      <td>hi</td>\n",
       "      <td>us</td>\n",
       "      <td>light</td>\n",
       "      <td>900.0</td>\n",
       "      <td>15 minutes</td>\n",
       "      <td>AS a Marine 1st Lt. flying an FJ4B fighter/att...</td>\n",
       "      <td>2004-01-22</td>\n",
       "      <td>21.418056</td>\n",
       "      <td>-157.803611</td>\n",
       "    </tr>\n",
       "  </tbody>\n",
       "</table>\n",
       "</div>"
      ],
      "text/plain": [
       "                 date                  city state country     shape  \\\n",
       "0 1949-10-10 20:30:00            san marcos    tx      us  cylinder   \n",
       "1 1949-10-10 21:00:00          lackland afb    tx     NaN     light   \n",
       "2 1955-10-10 17:00:00  chester (uk/england)   NaN      gb    circle   \n",
       "3 1956-10-10 21:00:00                  edna    tx      us    circle   \n",
       "4 1960-10-10 20:00:00               kaneohe    hi      us     light   \n",
       "\n",
       "   duration_seconds    duration  \\\n",
       "0            2700.0  45 minutes   \n",
       "1            7200.0     1-2 hrs   \n",
       "2              20.0  20 seconds   \n",
       "3              20.0    1/2 hour   \n",
       "4             900.0  15 minutes   \n",
       "\n",
       "                                             comment report_date   latitude  \\\n",
       "0  This event took place in early fall around 194...  2004-04-27  29.883056   \n",
       "1  1949 Lackland AFB&#44 TX.  Lights racing acros...  2005-12-16  29.384210   \n",
       "2  Green/Orange circular disc over Chester&#44 En...  2008-01-21  53.200000   \n",
       "3  My older brother and twin sister were leaving ...  2004-01-17  28.978333   \n",
       "4  AS a Marine 1st Lt. flying an FJ4B fighter/att...  2004-01-22  21.418056   \n",
       "\n",
       "    longitude  \n",
       "0  -97.941111  \n",
       "1  -98.581082  \n",
       "2   -2.916667  \n",
       "3  -96.645833  \n",
       "4 -157.803611  "
      ]
     },
     "execution_count": 100,
     "metadata": {},
     "output_type": "execute_result"
    }
   ],
   "source": [
    "ufos.head()"
   ]
  },
  {
   "cell_type": "markdown",
   "metadata": {},
   "source": [
    "We binned our data, *but* if we want to make another plot with data in another axis of our original set (distribution of durations)."
   ]
  },
  {
   "cell_type": "code",
   "execution_count": 103,
   "metadata": {},
   "outputs": [],
   "source": [
    "i, j = 19, 0 # I know this has lots of data!"
   ]
  },
  {
   "cell_type": "code",
   "execution_count": 106,
   "metadata": {},
   "outputs": [],
   "source": [
    "region_mask = ( (ufos['latitude'] >= lat_edges[j]) & (ufos['latitude'] <= lat_edges[j+1]) & \\\n",
    "              (ufos['longitude'] >= long_edges[i]) & (ufos['longitude'] <= long_edges[i+1]))"
   ]
  },
  {
   "cell_type": "code",
   "execution_count": 107,
   "metadata": {},
   "outputs": [
    {
     "data": {
      "text/plain": [
       "112     -34.928661\n",
       "682     -37.653829\n",
       "855     -34.928661\n",
       "998     -37.813938\n",
       "1850    -37.966667\n",
       "           ...    \n",
       "76956   -37.883333\n",
       "78037   -34.928661\n",
       "78381   -38.382766\n",
       "78598   -35.276030\n",
       "80217   -37.813938\n",
       "Name: latitude, Length: 211, dtype: float64"
      ]
     },
     "execution_count": 107,
     "metadata": {},
     "output_type": "execute_result"
    }
   ],
   "source": [
    "ufos['latitude'][region_mask]"
   ]
  },
  {
   "cell_type": "code",
   "execution_count": 108,
   "metadata": {},
   "outputs": [
    {
     "data": {
      "text/plain": [
       "(-40.0, -34.5)"
      ]
     },
     "execution_count": 108,
     "metadata": {},
     "output_type": "execute_result"
    }
   ],
   "source": [
    "lat_edges[j], lat_edges[j+1]"
   ]
  },
  {
   "cell_type": "code",
   "execution_count": 111,
   "metadata": {},
   "outputs": [
    {
     "data": {
      "text/plain": [
       "array([6.00e+02, 4.00e+01, 3.00e+02, 9.00e+02, 6.00e+02, 1.50e+03,\n",
       "       1.20e+02, 5.00e+00, 9.00e+02, 3.00e+01, 1.80e+02, 3.60e+02,\n",
       "       6.00e+02, 1.20e+02, 6.00e+01, 1.50e+01, 6.00e+02, 1.00e+01,\n",
       "       3.00e+02, 3.00e+01, 6.00e+01, 7.00e+00, 3.20e+01, 3.00e+01,\n",
       "       1.20e+03, 6.00e+02, 2.70e+03, 6.00e+01, 3.00e+00, 6.00e+01,\n",
       "       6.00e+01, 1.80e+03, 2.40e+02, 3.60e+03, 9.00e+02, 5.00e+00,\n",
       "       3.60e+03, 1.50e+01, 6.00e+02, 6.00e+01, 6.00e+01, 6.00e+02,\n",
       "       2.40e+02, 3.00e+02, 3.00e+02, 6.00e+02, 3.00e+02, 6.00e+02,\n",
       "       7.20e+03, 1.80e+02, 6.00e+01, 6.00e+01, 9.00e+02, 3.00e+02,\n",
       "       1.80e+02, 2.70e+03, 3.00e+02, 1.00e+00, 6.00e+02, 3.00e+01,\n",
       "       3.60e+03, 6.00e+01, 1.80e+02, 5.00e+00, 6.00e+01, 3.00e+01,\n",
       "       1.20e+02, 1.00e+01, 1.50e+01, 5.00e-01, 3.00e+02, 4.80e+02,\n",
       "       9.00e+01, 1.80e+02, 1.20e+02, 1.20e+03, 3.00e+02, 6.00e+02,\n",
       "       7.20e+02, 1.00e+01, 3.00e+02, 2.40e+03, 6.00e+02, 6.00e+02,\n",
       "       4.20e+02, 9.00e+02, 1.08e+04, 1.80e+02, 2.00e+01, 1.00e+00,\n",
       "       1.20e+02, 5.00e+00, 1.20e+03, 3.60e+02, 1.80e+02, 1.50e+00,\n",
       "       9.00e+02, 4.80e+02, 1.00e+01, 1.80e+03, 6.00e+02, 1.80e+02,\n",
       "       2.40e+02, 6.00e+02, 1.50e+01, 3.00e+02, 3.00e+02, 3.00e+02,\n",
       "       1.20e+02, 7.20e+03, 1.80e+02, 1.50e+01, 5.00e+00, 6.00e+01,\n",
       "       1.00e+01, 1.80e+02, 1.00e+01, 3.00e+02, 2.40e+02, 6.00e+02,\n",
       "       4.80e+02, 2.00e+01, 3.00e+02, 3.00e+01, 9.00e+02, 2.00e+00,\n",
       "       2.40e+02, 6.00e+01, 1.80e+02, 3.00e+01, 7.20e+02, 3.00e+02,\n",
       "       6.00e+00, 6.00e+02, 3.00e+02, 6.00e+01, 3.00e+02, 9.00e+02,\n",
       "       5.00e+00, 1.20e+02, 5.00e+00, 3.00e+02, 6.00e+01, 6.00e+02,\n",
       "       1.00e+01, 6.00e+02, 4.00e+00, 1.20e+02, 6.00e+02, 3.00e+00,\n",
       "       1.08e+04, 3.00e+01, 2.40e+03, 3.60e+02, 2.40e+03, 1.80e+02,\n",
       "       6.00e+01, 9.00e+02, 6.00e+01, 1.20e+02, 1.80e+02, 1.20e+02,\n",
       "       1.80e+04, 3.00e+00, 5.00e+00, 1.80e+03, 6.00e+02, 1.00e+01,\n",
       "       1.20e+02, 3.00e+02, 1.20e+02, 1.20e+02, 6.00e+01, 5.00e+01,\n",
       "       1.80e+02, 6.00e+02, 8.00e+00, 1.80e+02, 3.00e+01, 6.00e+02,\n",
       "       2.00e+00, 1.80e+02, 2.40e+02, 9.00e+02, 1.80e+03, 1.00e+01,\n",
       "       6.00e+02, 1.00e+01, 3.00e+01, 2.40e+02, 5.00e+00, 3.00e+02,\n",
       "       1.20e+02, 2.00e+01, 1.20e+03, 1.20e+02, 1.00e+01, 5.00e+00,\n",
       "       2.70e+03, 3.00e+02, 1.20e+02, 5.00e+00, 5.00e+00, 3.00e+02,\n",
       "       3.50e+01, 5.00e+00, 1.80e+03, 1.80e+02, 5.00e-02, 6.00e+01,\n",
       "       6.00e+02])"
      ]
     },
     "execution_count": 111,
     "metadata": {},
     "output_type": "execute_result"
    }
   ],
   "source": [
    "# example: I want to make a histogram of the duration_seconds in this particular bin\n",
    "# hist.sample = ufos['duration_seconds'][region_mask].values\n",
    "\n",
    "ufos['duration_seconds'][region_mask].values"
   ]
  },
  {
   "cell_type": "code",
   "execution_count": 123,
   "metadata": {},
   "outputs": [],
   "source": [
    "# few possibly useful things for this dataset!\n",
    "# ... shoulda come to class ;)"
   ]
  },
  {
   "cell_type": "code",
   "execution_count": 114,
   "metadata": {},
   "outputs": [],
   "source": []
  },
  {
   "cell_type": "code",
   "execution_count": 115,
   "metadata": {},
   "outputs": [],
   "source": []
  },
  {
   "cell_type": "code",
   "execution_count": null,
   "metadata": {},
   "outputs": [],
   "source": []
  },
  {
   "cell_type": "code",
   "execution_count": null,
   "metadata": {},
   "outputs": [],
   "source": []
  },
  {
   "cell_type": "code",
   "execution_count": null,
   "metadata": {},
   "outputs": [],
   "source": []
  }
 ],
 "metadata": {
  "kernelspec": {
   "display_name": "Python 3",
   "language": "python",
   "name": "python3"
  },
  "language_info": {
   "codemirror_mode": {
    "name": "ipython",
    "version": 3
   },
   "file_extension": ".py",
   "mimetype": "text/x-python",
   "name": "python",
   "nbconvert_exporter": "python",
   "pygments_lexer": "ipython3",
   "version": "3.8.5"
  }
 },
 "nbformat": 4,
 "nbformat_minor": 4
}
