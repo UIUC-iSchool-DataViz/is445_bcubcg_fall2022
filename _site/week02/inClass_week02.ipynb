{
 "cells": [
  {
   "cell_type": "markdown",
   "id": "respective-store",
   "metadata": {},
   "source": [
    "# In Class Notebook, Week 02"
   ]
  },
  {
   "cell_type": "markdown",
   "id": "patent-merit",
   "metadata": {},
   "source": [
    "To access this in near-real time try: https://github.com/UIUC-iSchool-DataViz/is445_bcubcg_fall2022/blob/master/week02/inClass_week02.ipynb\n",
    "\n",
    "Or paste this URL into the nbviewer interface for a plain-text rendering:\n",
    "\n",
    "https://kokes.github.io/nbviewer.js/viewer.html"
   ]
  },
  {
   "cell_type": "markdown",
   "id": "26719755",
   "metadata": {},
   "source": [
    "Hey I'm writing a thing!"
   ]
  },
  {
   "cell_type": "code",
   "execution_count": 2,
   "id": "a43ce643",
   "metadata": {},
   "outputs": [],
   "source": [
    "import matplotlib.pyplot as plt # shorthand so I don't have to type as much\n",
    "import numpy as np"
   ]
  },
  {
   "cell_type": "code",
   "execution_count": 3,
   "id": "888d1e17",
   "metadata": {},
   "outputs": [],
   "source": [
    "from PIL import Image"
   ]
  },
  {
   "cell_type": "code",
   "execution_count": 4,
   "id": "906e6fe0",
   "metadata": {},
   "outputs": [],
   "source": [
    "# my directory structure on a mac\n",
    "im = Image.open('/Users/jnaiman/Downloads/stitch_reworked.png')\n",
    "\n",
    "# windows it will be like: C://jnaiman/Downloads ?"
   ]
  },
  {
   "cell_type": "code",
   "execution_count": 5,
   "id": "7a984a68",
   "metadata": {},
   "outputs": [
    {
     "data": {
      "image/png": "[encoded data removed]",
      "text/plain": [
       "<PIL.PngImagePlugin.PngImageFile image mode=RGBA size=430x483>"
      ]
     },
     "execution_count": 5,
     "metadata": {},
     "output_type": "execute_result"
    }
   ],
   "source": [
    "im"
   ]
  },
  {
   "cell_type": "code",
   "execution_count": 6,
   "id": "97191bba",
   "metadata": {},
   "outputs": [
    {
     "data": {
      "text/plain": [
       "PIL.PngImagePlugin.PngImageFile"
      ]
     },
     "execution_count": 6,
     "metadata": {},
     "output_type": "execute_result"
    }
   ],
   "source": [
    "type(im)"
   ]
  },
  {
   "cell_type": "code",
   "execution_count": 7,
   "id": "cb37891f",
   "metadata": {},
   "outputs": [],
   "source": [
    "im_data = np.array(im)"
   ]
  },
  {
   "cell_type": "code",
   "execution_count": 10,
   "id": "c50e3952",
   "metadata": {},
   "outputs": [
    {
     "data": {
      "text/plain": [
       "(483, 430, 4)"
      ]
     },
     "execution_count": 10,
     "metadata": {},
     "output_type": "execute_result"
    }
   ],
   "source": [
    "im_data.shape # 483 y-pixels, 430 x-pixels, 4 color channels (RGBA)"
   ]
  },
  {
   "cell_type": "code",
   "execution_count": 11,
   "id": "ba4be2d7",
   "metadata": {},
   "outputs": [
    {
     "data": {
      "text/plain": [
       "array([  0,  22,  33, 126, 255], dtype=uint8)"
      ]
     },
     "execution_count": 11,
     "metadata": {},
     "output_type": "execute_result"
    }
   ],
   "source": [
    "np.unique(im_data)"
   ]
  },
  {
   "cell_type": "code",
   "execution_count": 13,
   "id": "20e6dae7",
   "metadata": {},
   "outputs": [
    {
     "data": {
      "text/plain": [
       "array([[0, 0, 0, 0],\n",
       "       [0, 0, 0, 0],\n",
       "       [0, 0, 0, 0],\n",
       "       ...,\n",
       "       [0, 0, 0, 0],\n",
       "       [0, 0, 0, 0],\n",
       "       [0, 0, 0, 0]], dtype=uint8)"
      ]
     },
     "execution_count": 13,
     "metadata": {},
     "output_type": "execute_result"
    }
   ],
   "source": [
    "im_data.reshape(-1, im_data.shape[2]) # I've used reshape to turn my \n",
    "#                                       3D object into a list of pixels"
   ]
  },
  {
   "cell_type": "code",
   "execution_count": 14,
   "id": "b062197d",
   "metadata": {},
   "outputs": [],
   "source": [
    "im_data.reshape?"
   ]
  },
  {
   "cell_type": "code",
   "execution_count": 17,
   "id": "9feda9bd",
   "metadata": {},
   "outputs": [
    {
     "data": {
      "text/plain": [
       "array([[  0,   0,   0,   0],\n",
       "       [  0,   0,   0, 255],\n",
       "       [126,  22,  33, 255],\n",
       "       [255, 255, 255, 255]], dtype=uint8)"
      ]
     },
     "execution_count": 17,
     "metadata": {},
     "output_type": "execute_result"
    }
   ],
   "source": [
    "np.unique(im_data.reshape(-1,im_data.shape[2]),axis=0)\n",
    "# this unravels along the \"long\" list of pixels and looks for unique 4"
   ]
  },
  {
   "cell_type": "code",
   "execution_count": null,
   "id": "0bfdd313",
   "metadata": {},
   "outputs": [],
   "source": []
  }
 ],
 "metadata": {
  "kernelspec": {
   "display_name": "Python 3 (ipykernel)",
   "language": "python",
   "name": "python3"
  },
  "language_info": {
   "codemirror_mode": {
    "name": "ipython",
    "version": 3
   },
   "file_extension": ".py",
   "mimetype": "text/x-python",
   "name": "python",
   "nbconvert_exporter": "python",
   "pygments_lexer": "ipython3",
   "version": "3.7.12"
  }
 },
 "nbformat": 4,
 "nbformat_minor": 5
}
