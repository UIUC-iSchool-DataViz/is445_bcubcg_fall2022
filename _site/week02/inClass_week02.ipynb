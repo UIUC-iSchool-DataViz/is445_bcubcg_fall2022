{
 "cells": [
  {
   "cell_type": "markdown",
   "id": "respective-store",
   "metadata": {},
   "source": [
    "# In Class Notebook, Week 02"
   ]
  },
  {
   "cell_type": "markdown",
   "id": "patent-merit",
   "metadata": {},
   "source": [
    "To access this in near-real time try: https://github.com/UIUC-iSchool-DataViz/is445_bcubcg_fall2022/blob/master/week02/inClass_week02.ipynb\n",
    "\n",
    "Or paste this URL into the nbviewer interface for a plain-text rendering:\n",
    "\n",
    "https://kokes.github.io/nbviewer.js/viewer.html"
   ]
  },
  {
   "cell_type": "markdown",
   "id": "c3c18f92",
   "metadata": {},
   "source": [
    "Hey I'm writing a thing!"
   ]
  },
  {
   "cell_type": "code",
   "execution_count": 2,
   "id": "0f1ddcdf",
   "metadata": {},
   "outputs": [],
   "source": [
    "import matplotlib.pyplot as plt # shorthand so I don't have to type as much\n",
    "import numpy as np"
   ]
  },
  {
   "cell_type": "code",
   "execution_count": 3,
   "id": "a3606df3",
   "metadata": {},
   "outputs": [],
   "source": [
    "from PIL import Image"
   ]
  },
  {
   "cell_type": "code",
   "execution_count": null,
   "id": "40eff329",
   "metadata": {},
   "outputs": [],
   "source": [
    "i"
   ]
  }
 ],
 "metadata": {
  "kernelspec": {
   "display_name": "Python 3 (ipykernel)",
   "language": "python",
   "name": "python3"
  },
  "language_info": {
   "codemirror_mode": {
    "name": "ipython",
    "version": 3
   },
   "file_extension": ".py",
   "mimetype": "text/x-python",
   "name": "python",
   "nbconvert_exporter": "python",
   "pygments_lexer": "ipython3",
   "version": "3.7.12"
  }
 },
 "nbformat": 4,
 "nbformat_minor": 5
}
