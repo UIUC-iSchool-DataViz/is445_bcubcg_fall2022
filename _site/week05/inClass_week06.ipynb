{
 "cells": [
  {
   "cell_type": "markdown",
   "id": "respective-store",
   "metadata": {},
   "source": [
    "# In Class Notebook, Week 06"
   ]
  },
  {
   "cell_type": "markdown",
   "id": "2a597611",
   "metadata": {},
   "source": [
    "You can always paste the URL of this notebook (https://github.com/UIUC-iSchool-DataViz/is445_spring2022/blob/master/week06/inClass_week06.ipynb ) into the nbviewer interface for a plain-text rendering:\n",
    "\n",
    "https://kokes.github.io/nbviewer.js/viewer.html"
   ]
  },
  {
   "cell_type": "markdown",
   "id": "1c30fc3c",
   "metadata": {},
   "source": []
  },
  {
   "cell_type": "code",
   "execution_count": 1,
   "id": "84f1b982",
   "metadata": {},
   "outputs": [],
   "source": [
    "import bqplot\n",
    "import numpy as np\n",
    "import ipywidgets"
   ]
  },
  {
   "cell_type": "code",
   "execution_count": 2,
   "id": "2d443c1e",
   "metadata": {},
   "outputs": [
    {
     "data": {
      "text/plain": [
       "array([ 0,  1,  2,  3,  4,  5,  6,  7,  8,  9, 10, 11, 12, 13, 14, 15, 16,\n",
       "       17, 18, 19, 20, 21, 22, 23, 24, 25, 26, 27, 28, 29, 30, 31, 32, 33,\n",
       "       34, 35, 36, 37, 38, 39, 40, 41, 42, 43, 44, 45, 46, 47, 48, 49, 50,\n",
       "       51, 52, 53, 54, 55, 56, 57, 58, 59, 60, 61, 62, 63, 64, 65, 66, 67,\n",
       "       68, 69, 70, 71, 72, 73, 74, 75, 76, 77, 78, 79, 80, 81, 82, 83, 84,\n",
       "       85, 86, 87, 88, 89, 90, 91, 92, 93, 94, 95, 96, 97, 98, 99])"
      ]
     },
     "execution_count": 2,
     "metadata": {},
     "output_type": "execute_result"
    }
   ],
   "source": [
    "# #1 in GoG (Grammar of Graphics) is the data!\n",
    "x = np.arange(100)\n",
    "x"
   ]
  },
  {
   "cell_type": "code",
   "execution_count": 3,
   "id": "4a59b0e8",
   "metadata": {},
   "outputs": [
    {
     "data": {
      "text/plain": [
       "array([0.74834301, 0.12034855, 0.61114136, 0.39294883, 0.03662979,\n",
       "       0.22368963, 0.97037616, 0.61499508, 0.32417564, 0.81313179,\n",
       "       0.18968267, 0.59096305, 0.55551813, 0.51394554, 0.00102795,\n",
       "       0.08458884, 0.62087629, 0.41249747, 0.0605261 , 0.95480678,\n",
       "       0.27538721, 0.33129882, 0.70467139, 0.12697277, 0.87841244,\n",
       "       0.06339405, 0.14793161, 0.03824327, 0.36352111, 0.38953838,\n",
       "       0.80548825, 0.28345535, 0.31704475, 0.76036026, 0.87913638,\n",
       "       0.0013208 , 0.39163861, 0.27976268, 0.12753653, 0.74749476,\n",
       "       0.26626977, 0.04927151, 0.90757209, 0.45213034, 0.66324023,\n",
       "       0.91703347, 0.66232932, 0.22928813, 0.89160544, 0.84123687,\n",
       "       0.44143626, 0.5647203 , 0.35192449, 0.52572725, 0.34442051,\n",
       "       0.79082822, 0.06833873, 0.69793728, 0.56151945, 0.33400306,\n",
       "       0.52154899, 0.99312135, 0.45379439, 0.7846463 , 0.88974152,\n",
       "       0.17845129, 0.6638428 , 0.06349036, 0.65988712, 0.81578915,\n",
       "       0.58106948, 0.15215742, 0.03565336, 0.99005736, 0.50871824,\n",
       "       0.35227627, 0.22150517, 0.96191417, 0.63027614, 0.02399972,\n",
       "       0.00106088, 0.43135546, 0.66596558, 0.17430413, 0.27887084,\n",
       "       0.94475102, 0.54659179, 0.03074504, 0.75324713, 0.91209971,\n",
       "       0.57926411, 0.03738733, 0.07348801, 0.1897735 , 0.70322575,\n",
       "       0.49241308, 0.50654217, 0.45244143, 0.40230025, 0.81404577])"
      ]
     },
     "execution_count": 3,
     "metadata": {},
     "output_type": "execute_result"
    }
   ],
   "source": [
    "y = np.random.random(100)\n",
    "y"
   ]
  },
  {
   "cell_type": "code",
   "execution_count": 4,
   "id": "d3359f8c",
   "metadata": {},
   "outputs": [],
   "source": [
    "bqplot.LinearScale?"
   ]
  },
  {
   "cell_type": "code",
   "execution_count": 5,
   "id": "56ce6490",
   "metadata": {},
   "outputs": [],
   "source": [
    "#2 Scales -- our data is linear so let's use linear scales\n",
    "x_sc = bqplot.LinearScale()\n",
    "y_sc = bqplot.LinearScale()"
   ]
  },
  {
   "cell_type": "code",
   "execution_count": 6,
   "id": "6495c36d",
   "metadata": {},
   "outputs": [],
   "source": [
    "# #3 Marks -- x/y are linearly related, line is probably a good choice -- Line Mark\n",
    "bqplot.Lines?"
   ]
  },
  {
   "cell_type": "code",
   "execution_count": 7,
   "id": "efb29a61",
   "metadata": {},
   "outputs": [],
   "source": [
    "lines = bqplot.Lines(x=x, y=y, scales={'x':x_sc, 'y':y_sc})"
   ]
  },
  {
   "cell_type": "code",
   "execution_count": 8,
   "id": "80a6f94a",
   "metadata": {},
   "outputs": [],
   "source": [
    "# #4 Axis -- where to plot? \n",
    "bqplot.Axis?"
   ]
  },
  {
   "cell_type": "code",
   "execution_count": 9,
   "id": "42b8cbad",
   "metadata": {},
   "outputs": [],
   "source": [
    "ax_x = bqplot.Axis(scale=x_sc, label='X')\n",
    "ax_y = bqplot.Axis(scale=y_sc, label='Y', orientation='vertical')"
   ]
  },
  {
   "cell_type": "code",
   "execution_count": 10,
   "id": "18836335",
   "metadata": {},
   "outputs": [],
   "source": [
    "# #5 is put together as a figure\n",
    "bqplot.Figure?"
   ]
  },
  {
   "cell_type": "code",
   "execution_count": 11,
   "id": "b98bcdba",
   "metadata": {},
   "outputs": [],
   "source": [
    "fig = bqplot.Figure(marks=[lines], axes=[ax_x,ax_y])"
   ]
  },
  {
   "cell_type": "code",
   "execution_count": 12,
   "id": "8dee92a4",
   "metadata": {},
   "outputs": [
    {
     "data": {
      "application/vnd.jupyter.widget-view+json": {
       "model_id": "db8ed81bcc7343d78c029c08f16cf14f",
       "version_major": 2,
       "version_minor": 0
      },
      "text/plain": [
       "Figure(axes=[Axis(label='X', scale=LinearScale(), side='bottom'), Axis(label='Y', orientation='vertical', scal…"
      ]
     },
     "metadata": {},
     "output_type": "display_data"
    }
   ],
   "source": [
    "fig"
   ]
  },
  {
   "cell_type": "code",
   "execution_count": 13,
   "id": "c977a458",
   "metadata": {},
   "outputs": [],
   "source": [
    "bqplot.interacts?"
   ]
  },
  {
   "cell_type": "code",
   "execution_count": 14,
   "id": "cf50bab9",
   "metadata": {},
   "outputs": [],
   "source": [
    "# let's add a pan-zoom interaction\n",
    "pz = bqplot.interacts.PanZoom(scales={'x':[x_sc], 'y':[y_sc]})"
   ]
  },
  {
   "cell_type": "code",
   "execution_count": 15,
   "id": "07e3522d",
   "metadata": {},
   "outputs": [],
   "source": [
    "fig = bqplot.Figure(marks=[lines], axes=[ax_x, ax_y], interaction=pz)"
   ]
  },
  {
   "cell_type": "code",
   "execution_count": 16,
   "id": "7dc11fd9",
   "metadata": {},
   "outputs": [
    {
     "data": {
      "application/vnd.jupyter.widget-view+json": {
       "model_id": "dcda8e71c9f14f05ab3786daf922d947",
       "version_major": 2,
       "version_minor": 0
      },
      "text/plain": [
       "Figure(axes=[Axis(label='X', scale=LinearScale(), side='bottom'), Axis(label='Y', orientation='vertical', scal…"
      ]
     },
     "metadata": {},
     "output_type": "display_data"
    }
   ],
   "source": [
    "fig"
   ]
  },
  {
   "cell_type": "markdown",
   "id": "c169d560",
   "metadata": {},
   "source": [
    "So far, pretty neat, but could could be neater!\n",
    "\n",
    "### Another example: scatter plot with random data"
   ]
  },
  {
   "cell_type": "code",
   "execution_count": 17,
   "id": "9aad1767",
   "metadata": {},
   "outputs": [],
   "source": [
    "# 1. Data\n",
    "x = np.random.random(100)\n",
    "y = np.random.random(100)"
   ]
  },
  {
   "cell_type": "code",
   "execution_count": 19,
   "id": "5dd2f389",
   "metadata": {},
   "outputs": [],
   "source": [
    "#x,y"
   ]
  },
  {
   "cell_type": "code",
   "execution_count": 20,
   "id": "4d612411",
   "metadata": {},
   "outputs": [],
   "source": [
    "# 2. scales\n",
    "x_sc = bqplot.LinearScale()\n",
    "y_sc = bqplot.LinearScale()\n",
    "\n",
    "# 3. axis (sometimes this can be #4 if we aren't sure what mark to use!)\n",
    "x_ax = bqplot.Axis(scale=x_sc, label='X')\n",
    "y_ax = bqplot.Axis(scale=y_sc, label='Y', orientation='vertical')"
   ]
  },
  {
   "cell_type": "code",
   "execution_count": 21,
   "id": "ecb05068",
   "metadata": {},
   "outputs": [],
   "source": [
    "bqplot.Scatter?"
   ]
  },
  {
   "cell_type": "code",
   "execution_count": 22,
   "id": "d5092c64",
   "metadata": {},
   "outputs": [],
   "source": [
    "# 4. marks\n",
    "scatters = bqplot.Scatter(x=x, y=y, scales={'x':x_sc, 'y':y_sc})"
   ]
  },
  {
   "cell_type": "code",
   "execution_count": 23,
   "id": "381618b8",
   "metadata": {},
   "outputs": [],
   "source": [
    "# 5. think about interactions (around step 5)\n",
    "bqplot.interacts.FastIntervalSelector?"
   ]
  },
  {
   "cell_type": "code",
   "execution_count": 24,
   "id": "99484caa",
   "metadata": {},
   "outputs": [],
   "source": [
    "selector = bqplot.interacts.FastIntervalSelector(scale=x_sc, marks=[scatters])"
   ]
  },
  {
   "cell_type": "code",
   "execution_count": 25,
   "id": "09a9530f",
   "metadata": {},
   "outputs": [
    {
     "data": {
      "application/vnd.jupyter.widget-view+json": {
       "model_id": "4a2961da24b64b6d99046418e56b2852",
       "version_major": 2,
       "version_minor": 0
      },
      "text/plain": [
       "Figure(axes=[Axis(label='X', scale=LinearScale(), side='bottom'), Axis(label='Y', orientation='vertical', scal…"
      ]
     },
     "metadata": {},
     "output_type": "display_data"
    }
   ],
   "source": [
    "# Finally -- together as a fig!\n",
    "fig = bqplot.Figure(marks=[scatters], axes=[x_ax,y_ax], interaction=selector)\n",
    "fig"
   ]
  },
  {
   "cell_type": "code",
   "execution_count": 26,
   "id": "78505bb1",
   "metadata": {},
   "outputs": [
    {
     "data": {
      "text/plain": [
       "array([0.44144185, 0.77678304])"
      ]
     },
     "execution_count": 26,
     "metadata": {},
     "output_type": "execute_result"
    }
   ],
   "source": [
    "selector.selected"
   ]
  },
  {
   "cell_type": "code",
   "execution_count": 27,
   "id": "138285e5",
   "metadata": {},
   "outputs": [],
   "source": [
    "scatters.unselected_style={'opacity':0.8} #make unselected a bit see-through\n",
    "scatters.selected_style ={'fill':'red', 'stroke':'yellow'}\n",
    "# fill selected with red and outline with yellow"
   ]
  },
  {
   "cell_type": "markdown",
   "id": "cd7ecfc2",
   "metadata": {},
   "source": [
    "## Thinking to higher dimensions (dashboards) -- Random Heatmap in 2D"
   ]
  },
  {
   "cell_type": "code",
   "execution_count": 28,
   "id": "43999147",
   "metadata": {},
   "outputs": [],
   "source": [
    "data = np.random.random((10,10)) # #1 data!"
   ]
  },
  {
   "cell_type": "code",
   "execution_count": 30,
   "id": "17d52614",
   "metadata": {},
   "outputs": [],
   "source": [
    "#data"
   ]
  },
  {
   "cell_type": "code",
   "execution_count": 31,
   "id": "13943cf8",
   "metadata": {},
   "outputs": [],
   "source": [
    "bqplot.GridHeatMap?"
   ]
  },
  {
   "cell_type": "code",
   "execution_count": 32,
   "id": "2979627c",
   "metadata": {},
   "outputs": [],
   "source": [
    "bqplot.ColorScale?"
   ]
  },
  {
   "cell_type": "code",
   "execution_count": 33,
   "id": "adf8800e",
   "metadata": {},
   "outputs": [
    {
     "data": {
      "application/vnd.jupyter.widget-view+json": {
       "model_id": "168ccc2c399d48bda6b86380bd8cceda",
       "version_major": 2,
       "version_minor": 0
      },
      "text/plain": [
       "Figure(fig_margin={'top': 60, 'bottom': 60, 'left': 60, 'right': 60}, marks=[GridHeatMap(color=array([[0.88300…"
      ]
     },
     "metadata": {},
     "output_type": "display_data"
    }
   ],
   "source": [
    "# 2 -- scales (just off with only color)\n",
    "col_sc = bqplot.ColorScale()\n",
    "\n",
    "# 3. axis (leave off for now)\n",
    "\n",
    "# 4. Mark -- heatmap using our colors to map to our data\n",
    "heat_map = bqplot.GridHeatMap(color=data, scales={'color':col_sc})\n",
    "\n",
    "# 5. skipping interactions\n",
    "\n",
    "# finally: figure\n",
    "fig = bqplot.Figure(marks=[heat_map])\n",
    "fig"
   ]
  },
  {
   "cell_type": "code",
   "execution_count": 34,
   "id": "3eded1b1",
   "metadata": {},
   "outputs": [],
   "source": [
    "bqplot.ColorScale?"
   ]
  },
  {
   "cell_type": "code",
   "execution_count": 36,
   "id": "f34cfeef",
   "metadata": {},
   "outputs": [
    {
     "data": {
      "application/vnd.jupyter.widget-view+json": {
       "model_id": "6b817fa853334c1ab09bbbd95f60d43a",
       "version_major": 2,
       "version_minor": 0
      },
      "text/plain": [
       "Figure(fig_margin={'top': 60, 'bottom': 60, 'left': 60, 'right': 60}, marks=[GridHeatMap(color=array([[0.88300…"
      ]
     },
     "metadata": {},
     "output_type": "display_data"
    }
   ],
   "source": [
    "# 2 -- scales (just off with only color)\n",
    "col_sc = bqplot.ColorScale(scheme='Greens')\n",
    "\n",
    "# 3. axis (leave off for now)\n",
    "\n",
    "# 4. Mark -- heatmap using our colors to map to our data\n",
    "heat_map = bqplot.GridHeatMap(color=data, scales={'color':col_sc})\n",
    "\n",
    "# 5. skipping interactions\n",
    "\n",
    "# finally: figure\n",
    "fig = bqplot.Figure(marks=[heat_map])\n",
    "fig"
   ]
  },
  {
   "cell_type": "code",
   "execution_count": 37,
   "id": "7c830f87",
   "metadata": {},
   "outputs": [],
   "source": [
    "bqplot.ColorAxis?"
   ]
  },
  {
   "cell_type": "code",
   "execution_count": 40,
   "id": "e88d9751",
   "metadata": {},
   "outputs": [
    {
     "data": {
      "application/vnd.jupyter.widget-view+json": {
       "model_id": "c1ff03666b9944a6bc5558f8a248e109",
       "version_major": 2,
       "version_minor": 0
      },
      "text/plain": [
       "Figure(axes=[ColorAxis(orientation='vertical', scale=ColorScale(scheme='Greens'), side='right')], fig_margin={…"
      ]
     },
     "metadata": {},
     "output_type": "display_data"
    }
   ],
   "source": [
    "# 2 -- scales (just off with only color)\n",
    "col_sc = bqplot.ColorScale(scheme='Greens')\n",
    "\n",
    "# 3. axis \n",
    "c_ax = bqplot.ColorAxis(scale=col_sc,\n",
    "                       orientation='vertical',\n",
    "                             side='right')\n",
    "\n",
    "# 4. Mark -- heatmap using our colors to map to our data\n",
    "heat_map = bqplot.GridHeatMap(color=data, scales={'color':col_sc})\n",
    "\n",
    "# 5. skipping interactions\n",
    "\n",
    "# finally: figure\n",
    "fig = bqplot.Figure(marks=[heat_map], axes=[c_ax]) # added the colorbar to our Figure\n",
    "fig"
   ]
  },
  {
   "cell_type": "code",
   "execution_count": 41,
   "id": "03800329",
   "metadata": {},
   "outputs": [],
   "source": [
    "bqplot.OrdinalScale?"
   ]
  },
  {
   "cell_type": "code",
   "execution_count": 45,
   "id": "3eea2ebd",
   "metadata": {},
   "outputs": [
    {
     "data": {
      "application/vnd.jupyter.widget-view+json": {
       "model_id": "6c72c962599444ea8091f9e090472a44",
       "version_major": 2,
       "version_minor": 0
      },
      "text/plain": [
       "Figure(axes=[ColorAxis(orientation='vertical', scale=ColorScale(scheme='Greens'), side='right'), Axis(scale=Or…"
      ]
     },
     "metadata": {},
     "output_type": "display_data"
    }
   ],
   "source": [
    "# 2 -- scales (just off with only color)\n",
    "col_sc = bqplot.ColorScale(scheme='Greens')\n",
    "# ordinal scales for x/y bins\n",
    "x_sc = bqplot.OrdinalScale()\n",
    "y_sc = bqplot.OrdinalScale()\n",
    "\n",
    "# 3. axis \n",
    "c_ax = bqplot.ColorAxis(scale=col_sc,\n",
    "                       orientation='vertical',\n",
    "                             side='right')\n",
    "x_ax = bqplot.Axis(scale=x_sc)\n",
    "y_ax = bqplot.Axis(scale=y_sc, orientation='vertical')\n",
    "\n",
    "# 4. Mark -- heatmap using our colors to map to our data\n",
    "heat_map = bqplot.GridHeatMap(color=data, scales={'color':col_sc})\n",
    "\n",
    "# 5. skipping interactions\n",
    "\n",
    "# finally: figure\n",
    "fig = bqplot.Figure(marks=[heat_map], axes=[c_ax, x_ax,y_ax]) # added the colorbar to our Figure\n",
    "fig"
   ]
  },
  {
   "cell_type": "code",
   "execution_count": 47,
   "id": "c390316b",
   "metadata": {},
   "outputs": [],
   "source": [
    "bqplot.GridHeatMap?"
   ]
  },
  {
   "cell_type": "code",
   "execution_count": 48,
   "id": "ebe5bcb8",
   "metadata": {},
   "outputs": [
    {
     "data": {
      "application/vnd.jupyter.widget-view+json": {
       "model_id": "933aa2afd35d475ba4abdfb4aefebda6",
       "version_major": 2,
       "version_minor": 0
      },
      "text/plain": [
       "Figure(axes=[ColorAxis(orientation='vertical', scale=ColorScale(scheme='Greens'), side='right'), Axis(scale=Or…"
      ]
     },
     "metadata": {},
     "output_type": "display_data"
    }
   ],
   "source": [
    "# 2 -- scales (just off with only color)\n",
    "col_sc = bqplot.ColorScale(scheme='Greens')\n",
    "# ordinal scales for x/y bins\n",
    "x_sc = bqplot.OrdinalScale()\n",
    "y_sc = bqplot.OrdinalScale()\n",
    "\n",
    "# 3. axis \n",
    "c_ax = bqplot.ColorAxis(scale=col_sc,\n",
    "                       orientation='vertical',\n",
    "                             side='right')\n",
    "x_ax = bqplot.Axis(scale=x_sc)\n",
    "y_ax = bqplot.Axis(scale=y_sc, orientation='vertical')\n",
    "\n",
    "# 4. Mark -- heatmap using our colors to map to our data\n",
    "heat_map = bqplot.GridHeatMap(color=data, scales={'color':col_sc, \n",
    "                                                 'row':y_sc, \n",
    "                                                 'column':x_sc})\n",
    "\n",
    "# 5. skipping interactions\n",
    "\n",
    "# finally: figure\n",
    "fig = bqplot.Figure(marks=[heat_map], axes=[c_ax, x_ax,y_ax]) # added the colorbar to our Figure\n",
    "fig"
   ]
  },
  {
   "cell_type": "code",
   "execution_count": 50,
   "id": "49162313",
   "metadata": {},
   "outputs": [
    {
     "data": {
      "application/vnd.jupyter.widget-view+json": {
       "model_id": "62b393b093654b4abfe0dadd248c6996",
       "version_major": 2,
       "version_minor": 0
      },
      "text/plain": [
       "Figure(axes=[ColorAxis(orientation='vertical', scale=ColorScale(scheme='Greens'), side='right'), Axis(scale=Or…"
      ]
     },
     "metadata": {},
     "output_type": "display_data"
    }
   ],
   "source": [
    "# 2 -- scales (just off with only color)\n",
    "col_sc = bqplot.ColorScale(scheme='Greens')\n",
    "# ordinal scales for x/y bins\n",
    "x_sc = bqplot.OrdinalScale()\n",
    "y_sc = bqplot.OrdinalScale()\n",
    "#x_sc = bqplot.LinearScale()\n",
    "#y_sc = bqplot.LinearScale()\n",
    "\n",
    "# 3. axis \n",
    "c_ax = bqplot.ColorAxis(scale=col_sc,\n",
    "                       orientation='vertical',\n",
    "                             side='right')\n",
    "x_ax = bqplot.Axis(scale=x_sc)\n",
    "y_ax = bqplot.Axis(scale=y_sc, orientation='vertical')\n",
    "\n",
    "# 4. Mark -- heatmap using our colors to map to our data\n",
    "heat_map = bqplot.GridHeatMap(color=data, scales={'color':col_sc, \n",
    "                                                 'row':y_sc, \n",
    "                                                 'column':x_sc})\n",
    "\n",
    "# 5. skipping interactions\n",
    "\n",
    "# finally: figure\n",
    "fig = bqplot.Figure(marks=[heat_map], axes=[c_ax, x_ax,y_ax]) # added the colorbar to our Figure\n",
    "fig"
   ]
  },
  {
   "cell_type": "code",
   "execution_count": 56,
   "id": "c7715e45",
   "metadata": {},
   "outputs": [
    {
     "data": {
      "application/vnd.jupyter.widget-view+json": {
       "model_id": "57698b35683140dead0ce84fd9042c1f",
       "version_major": 2,
       "version_minor": 0
      },
      "text/plain": [
       "Figure(axes=[ColorAxis(orientation='vertical', scale=ColorScale(scheme='Greens'), side='right'), Axis(scale=Or…"
      ]
     },
     "metadata": {},
     "output_type": "display_data"
    }
   ],
   "source": [
    "# 2 -- scales (just off with only color)\n",
    "col_sc = bqplot.ColorScale(scheme='Greens')\n",
    "# ordinal scales for x/y bins\n",
    "x_sc = bqplot.OrdinalScale()\n",
    "y_sc = bqplot.OrdinalScale()\n",
    "\n",
    "# 3. axis \n",
    "c_ax = bqplot.ColorAxis(scale=col_sc,\n",
    "                       orientation='vertical',\n",
    "                             side='right')\n",
    "x_ax = bqplot.Axis(scale=x_sc)\n",
    "y_ax = bqplot.Axis(scale=y_sc, orientation='vertical')\n",
    "\n",
    "# 4. Mark -- heatmap using our colors to map to our data\n",
    "heat_map = bqplot.GridHeatMap(color=data, scales={'color':col_sc, \n",
    "                                                 'row':y_sc, \n",
    "                                                 'column':x_sc},\n",
    "                              interactions={'click':'select'},\n",
    "                             selected_style={'fill':'magenta'})\n",
    "\n",
    "# 5. interactions happened in the mark call itself!\n",
    "\n",
    "# finally: figure\n",
    "fig = bqplot.Figure(marks=[heat_map], axes=[c_ax, x_ax,y_ax]) # added the colorbar to our Figure\n",
    "fig"
   ]
  },
  {
   "cell_type": "code",
   "execution_count": 52,
   "id": "c5776284",
   "metadata": {},
   "outputs": [],
   "source": [
    "bqplot.GridHeatMap?"
   ]
  },
  {
   "cell_type": "code",
   "execution_count": 53,
   "id": "75add591",
   "metadata": {},
   "outputs": [
    {
     "data": {
      "text/plain": [
       "['_model_module',\n",
       " '_model_module_version',\n",
       " '_model_name',\n",
       " '_view_count',\n",
       " '_view_module',\n",
       " '_view_module_version',\n",
       " '_view_name',\n",
       " 'anchor_style',\n",
       " 'apply_clip',\n",
       " 'color',\n",
       " 'column',\n",
       " 'column_align',\n",
       " 'display_format',\n",
       " 'display_legend',\n",
       " 'enable_hover',\n",
       " 'font_style',\n",
       " 'interactions',\n",
       " 'labels',\n",
       " 'null_color',\n",
       " 'opacity',\n",
       " 'preserve_domain',\n",
       " 'row',\n",
       " 'row_align',\n",
       " 'scales',\n",
       " 'scales_metadata',\n",
       " 'selected',\n",
       " 'selected_style',\n",
       " 'stroke',\n",
       " 'tooltip',\n",
       " 'tooltip_location',\n",
       " 'tooltip_style',\n",
       " 'unselected_style',\n",
       " 'visible']"
      ]
     },
     "execution_count": 53,
     "metadata": {},
     "output_type": "execute_result"
    }
   ],
   "source": [
    "heat_map.keys"
   ]
  },
  {
   "cell_type": "code",
   "execution_count": 58,
   "id": "70b8d55a",
   "metadata": {},
   "outputs": [
    {
     "data": {
      "text/plain": [
       "array([[0, 0]])"
      ]
     },
     "execution_count": 58,
     "metadata": {},
     "output_type": "execute_result"
    }
   ],
   "source": [
    "heat_map.selected"
   ]
  },
  {
   "cell_type": "code",
   "execution_count": 59,
   "id": "eb15c8e1",
   "metadata": {},
   "outputs": [],
   "source": [
    "def on_selected(change):\n",
    "    print(change)"
   ]
  },
  {
   "cell_type": "code",
   "execution_count": 60,
   "id": "c8a82e1b",
   "metadata": {},
   "outputs": [
    {
     "data": {
      "application/vnd.jupyter.widget-view+json": {
       "model_id": "8859d54b08714c2aa9a6e2ff0cfbec86",
       "version_major": 2,
       "version_minor": 0
      },
      "text/plain": [
       "Figure(axes=[ColorAxis(orientation='vertical', scale=ColorScale(scheme='Greens'), side='right'), Axis(scale=Or…"
      ]
     },
     "metadata": {},
     "output_type": "display_data"
    },
    {
     "name": "stdout",
     "output_type": "stream",
     "text": [
      "{'name': 'selected', 'old': None, 'new': array([[0, 2]]), 'owner': GridHeatMap(color=array([[0.88300126, 0.9040182 , 0.8090987 , 0.45215586, 0.99169014,\n",
      "        0.33591278, 0.91212761, 0.32323446, 0.46268694, 0.78770904],\n",
      "       [0.03317973, 0.83762688, 0.87817834, 0.95800782, 0.27246025,\n",
      "        0.92529251, 0.50000508, 0.08102807, 0.04892858, 0.61564777],\n",
      "       [0.26197931, 0.49748769, 0.74808057, 0.48198004, 0.52335548,\n",
      "        0.79397958, 0.58736803, 0.39592021, 0.52362124, 0.72638487],\n",
      "       [0.74308285, 0.42947708, 0.24661286, 0.32830411, 0.530326  ,\n",
      "        0.56440223, 0.42830961, 0.74096522, 0.37198002, 0.07047978],\n",
      "       [0.3185182 , 0.78776006, 0.25593251, 0.75443354, 0.26049693,\n",
      "        0.47985783, 0.92339193, 0.87804409, 0.09592668, 0.94688076],\n",
      "       [0.89121915, 0.101273  , 0.37354036, 0.25087187, 0.99226903,\n",
      "        0.80457881, 0.15828476, 0.39579082, 0.37862153, 0.04194602],\n",
      "       [0.32912236, 0.80066343, 0.5521283 , 0.40007409, 0.7328194 ,\n",
      "        0.00946692, 0.28315602, 0.06851926, 0.29707503, 0.65211474],\n",
      "       [0.59691706, 0.94063352, 0.14889486, 0.77845148, 0.42849687,\n",
      "        0.13851212, 0.91377176, 0.7745198 , 0.30019718, 0.29333342],\n",
      "       [0.0164221 , 0.20441798, 0.36505045, 0.78895395, 0.69875753,\n",
      "        0.43700615, 0.07347129, 0.3982483 , 0.47390015, 0.14201776],\n",
      "       [0.74237175, 0.82299127, 0.78662062, 0.08065902, 0.88810912,\n",
      "        0.77609248, 0.18069921, 0.62224861, 0.56369235, 0.1163654 ]]), interactions={'click': 'select'}, scales={'color': ColorScale(scheme='Greens'), 'row': OrdinalScale(), 'column': OrdinalScale()}, scales_metadata={'row': {'orientation': 'vertical', 'dimension': 'y'}, 'column': {'orientation': 'horizontal', 'dimension': 'x'}, 'color': {'dimension': 'color'}}, selected=array([[0, 2]]), selected_style={'fill': 'magenta'}, tooltip_style={'opacity': 0.9}), 'type': 'change'}\n"
     ]
    }
   ],
   "source": [
    "# 2 -- scales (just off with only color)\n",
    "col_sc = bqplot.ColorScale(scheme='Greens')\n",
    "# ordinal scales for x/y bins\n",
    "x_sc = bqplot.OrdinalScale()\n",
    "y_sc = bqplot.OrdinalScale()\n",
    "\n",
    "# 3. axis \n",
    "c_ax = bqplot.ColorAxis(scale=col_sc,\n",
    "                       orientation='vertical',\n",
    "                             side='right')\n",
    "x_ax = bqplot.Axis(scale=x_sc)\n",
    "y_ax = bqplot.Axis(scale=y_sc, orientation='vertical')\n",
    "\n",
    "# 4. Mark -- heatmap using our colors to map to our data\n",
    "heat_map = bqplot.GridHeatMap(color=data, scales={'color':col_sc, \n",
    "                                                 'row':y_sc, \n",
    "                                                 'column':x_sc},\n",
    "                              interactions={'click':'select'},\n",
    "                             selected_style={'fill':'magenta'})\n",
    "\n",
    "# 5. specify what happens when a selection is made\n",
    "heat_map.observe(on_selected,'selected')\n",
    "\n",
    "# finally: figure\n",
    "fig = bqplot.Figure(marks=[heat_map], axes=[c_ax, x_ax,y_ax]) # added the colorbar to our Figure\n",
    "fig"
   ]
  },
  {
   "cell_type": "code",
   "execution_count": 61,
   "id": "de637055",
   "metadata": {},
   "outputs": [],
   "source": [
    "def on_selected(change):\n",
    "    print(change['owner'].selected)"
   ]
  },
  {
   "cell_type": "code",
   "execution_count": 62,
   "id": "250f72d2",
   "metadata": {},
   "outputs": [
    {
     "data": {
      "application/vnd.jupyter.widget-view+json": {
       "model_id": "c9ccff9d6f19418594b8c2852e357912",
       "version_major": 2,
       "version_minor": 0
      },
      "text/plain": [
       "Figure(axes=[ColorAxis(orientation='vertical', scale=ColorScale(scheme='Greens'), side='right'), Axis(scale=Or…"
      ]
     },
     "metadata": {},
     "output_type": "display_data"
    },
    {
     "name": "stdout",
     "output_type": "stream",
     "text": [
      "[[0 1]]\n",
      "[[1 8]]\n",
      "[[1 2]]\n",
      "[[1 3]\n",
      " [1 2]]\n",
      "[[1 4]\n",
      " [1 2]\n",
      " [1 3]]\n",
      "[[0 4]\n",
      " [0 2]\n",
      " [0 3]\n",
      " [1 2]\n",
      " [1 3]\n",
      " [1 4]]\n"
     ]
    }
   ],
   "source": [
    "# 2 -- scales (just off with only color)\n",
    "col_sc = bqplot.ColorScale(scheme='Greens')\n",
    "# ordinal scales for x/y bins\n",
    "x_sc = bqplot.OrdinalScale()\n",
    "y_sc = bqplot.OrdinalScale()\n",
    "\n",
    "# 3. axis \n",
    "c_ax = bqplot.ColorAxis(scale=col_sc,\n",
    "                       orientation='vertical',\n",
    "                             side='right')\n",
    "x_ax = bqplot.Axis(scale=x_sc)\n",
    "y_ax = bqplot.Axis(scale=y_sc, orientation='vertical')\n",
    "\n",
    "# 4. Mark -- heatmap using our colors to map to our data\n",
    "heat_map = bqplot.GridHeatMap(color=data, scales={'color':col_sc, \n",
    "                                                 'row':y_sc, \n",
    "                                                 'column':x_sc},\n",
    "                              interactions={'click':'select'},\n",
    "                             selected_style={'fill':'magenta'})\n",
    "\n",
    "# 5. specify what happens when a selection is made\n",
    "heat_map.observe(on_selected,'selected')\n",
    "\n",
    "# finally: figure\n",
    "fig = bqplot.Figure(marks=[heat_map], axes=[c_ax, x_ax,y_ax]) # added the colorbar to our Figure\n",
    "fig"
   ]
  },
  {
   "cell_type": "code",
   "execution_count": 65,
   "id": "947ad195",
   "metadata": {},
   "outputs": [],
   "source": [
    "def on_selected(change):\n",
    "    if len(change['owner'].selected) == 1: # only allow one bin selection\n",
    "        print(change['owner'].selected[0]) # print out x/y index for selection"
   ]
  },
  {
   "cell_type": "code",
   "execution_count": 66,
   "id": "7e4a025e",
   "metadata": {},
   "outputs": [
    {
     "data": {
      "application/vnd.jupyter.widget-view+json": {
       "model_id": "56ea9bfdf2ad409b8fd2f49353b73fb3",
       "version_major": 2,
       "version_minor": 0
      },
      "text/plain": [
       "Figure(axes=[ColorAxis(orientation='vertical', scale=ColorScale(scheme='Greens'), side='right'), Axis(scale=Or…"
      ]
     },
     "metadata": {},
     "output_type": "display_data"
    },
    {
     "name": "stdout",
     "output_type": "stream",
     "text": [
      "[1 4]\n",
      "[4 7]\n",
      "[2 6]\n",
      "[2 5]\n",
      "[3 3]\n"
     ]
    }
   ],
   "source": [
    "# 2 -- scales (just off with only color)\n",
    "col_sc = bqplot.ColorScale(scheme='Greens')\n",
    "# ordinal scales for x/y bins\n",
    "x_sc = bqplot.OrdinalScale()\n",
    "y_sc = bqplot.OrdinalScale()\n",
    "\n",
    "# 3. axis \n",
    "c_ax = bqplot.ColorAxis(scale=col_sc,\n",
    "                       orientation='vertical',\n",
    "                             side='right')\n",
    "x_ax = bqplot.Axis(scale=x_sc)\n",
    "y_ax = bqplot.Axis(scale=y_sc, orientation='vertical')\n",
    "\n",
    "# 4. Mark -- heatmap using our colors to map to our data\n",
    "heat_map = bqplot.GridHeatMap(color=data, scales={'color':col_sc, \n",
    "                                                 'row':y_sc, \n",
    "                                                 'column':x_sc},\n",
    "                              interactions={'click':'select'},\n",
    "                             selected_style={'fill':'magenta'})\n",
    "\n",
    "# 5. specify what happens when a selection is made\n",
    "heat_map.observe(on_selected,'selected')\n",
    "\n",
    "# finally: figure\n",
    "fig = bqplot.Figure(marks=[heat_map], axes=[c_ax, x_ax,y_ax]) # added the colorbar to our Figure\n",
    "fig"
   ]
  },
  {
   "cell_type": "code",
   "execution_count": 68,
   "id": "abf9a463",
   "metadata": {},
   "outputs": [
    {
     "data": {
      "text/plain": [
       "array([3, 3])"
      ]
     },
     "execution_count": 68,
     "metadata": {},
     "output_type": "execute_result"
    }
   ],
   "source": [
    "heat_map.selected[0]"
   ]
  },
  {
   "cell_type": "code",
   "execution_count": 69,
   "id": "cf7e5ea6",
   "metadata": {},
   "outputs": [
    {
     "data": {
      "text/plain": [
       "0.32830411290438344"
      ]
     },
     "execution_count": 69,
     "metadata": {},
     "output_type": "execute_result"
    }
   ],
   "source": [
    "i,j = heat_map.selected[0]\n",
    "data[i,j]"
   ]
  },
  {
   "cell_type": "code",
   "execution_count": 70,
   "id": "39d53a38",
   "metadata": {},
   "outputs": [],
   "source": [
    "selectedLabel = ipywidgets.Label()"
   ]
  },
  {
   "cell_type": "code",
   "execution_count": 71,
   "id": "90920de5",
   "metadata": {},
   "outputs": [
    {
     "data": {
      "application/vnd.jupyter.widget-view+json": {
       "model_id": "52ad7d661d4344ddaabedff7a5d1bf9c",
       "version_major": 2,
       "version_minor": 0
      },
      "text/plain": [
       "Label(value='')"
      ]
     },
     "metadata": {},
     "output_type": "display_data"
    }
   ],
   "source": [
    "selectedLabel"
   ]
  },
  {
   "cell_type": "code",
   "execution_count": 72,
   "id": "ea40ddf6",
   "metadata": {},
   "outputs": [],
   "source": [
    "def on_selected(change):\n",
    "    if len(change['owner'].selected) == 1: # only allow one bin selection\n",
    "        #print(change['owner'].selected[0]) # print out x/y index for selection\n",
    "        i,j = change['owner'].selected[0]\n",
    "        v = data[i,j]\n",
    "        selectedLabel.value = 'Data Value = ' + str(v)"
   ]
  },
  {
   "cell_type": "code",
   "execution_count": 74,
   "id": "402b02f2",
   "metadata": {},
   "outputs": [],
   "source": [
    "# 2 -- scales (just off with only color)\n",
    "col_sc = bqplot.ColorScale(scheme='Greens')\n",
    "# ordinal scales for x/y bins\n",
    "x_sc = bqplot.OrdinalScale()\n",
    "y_sc = bqplot.OrdinalScale()\n",
    "\n",
    "# 3. axis \n",
    "c_ax = bqplot.ColorAxis(scale=col_sc,\n",
    "                       orientation='vertical',\n",
    "                             side='right')\n",
    "x_ax = bqplot.Axis(scale=x_sc)\n",
    "y_ax = bqplot.Axis(scale=y_sc, orientation='vertical')\n",
    "\n",
    "# 4. Mark -- heatmap using our colors to map to our data\n",
    "heat_map = bqplot.GridHeatMap(color=data, scales={'color':col_sc, \n",
    "                                                 'row':y_sc, \n",
    "                                                 'column':x_sc},\n",
    "                              interactions={'click':'select'},\n",
    "                             selected_style={'fill':'magenta'})\n",
    "\n",
    "# 5. specify what happens when a selection is made\n",
    "heat_map.observe(on_selected,'selected')\n",
    "\n",
    "# finally: figure\n",
    "fig = bqplot.Figure(marks=[heat_map], axes=[c_ax, x_ax,y_ax]) # added the colorbar to our Figure\n",
    "#fig"
   ]
  },
  {
   "cell_type": "code",
   "execution_count": 75,
   "id": "6f713265",
   "metadata": {},
   "outputs": [
    {
     "data": {
      "application/vnd.jupyter.widget-view+json": {
       "model_id": "7d27a9ff74024869ab77c4bab8f735fc",
       "version_major": 2,
       "version_minor": 0
      },
      "text/plain": [
       "VBox(children=(Label(value='Data Value = 0.041946016477752424'), Figure(axes=[ColorAxis(orientation='vertical'…"
      ]
     },
     "metadata": {},
     "output_type": "display_data"
    }
   ],
   "source": [
    "myDashboard = ipywidgets.VBox([selectedLabel, fig])\n",
    "myDashboard"
   ]
  },
  {
   "cell_type": "markdown",
   "id": "4c33fb1a",
   "metadata": {},
   "source": [
    "Moving on to 3D data\n",
    "\n",
    "### Random 3D data"
   ]
  },
  {
   "cell_type": "code",
   "execution_count": 77,
   "id": "8f7f7674",
   "metadata": {},
   "outputs": [
    {
     "data": {
      "text/plain": [
       "(10, 10, 20)"
      ]
     },
     "execution_count": 77,
     "metadata": {},
     "output_type": "execute_result"
    }
   ],
   "source": [
    "data = np.random.random((10,10,20))\n",
    "data.shape"
   ]
  },
  {
   "cell_type": "code",
   "execution_count": 78,
   "id": "dc629ad3",
   "metadata": {},
   "outputs": [
    {
     "data": {
      "text/plain": [
       "array([0.57275038, 0.11315121, 0.35264114, 0.57598911, 0.71481791,\n",
       "       0.76151423, 0.54459942, 0.21751277, 0.31270982, 0.92416274,\n",
       "       0.0803576 , 0.48394913, 0.70489607, 0.89162486, 0.8312456 ,\n",
       "       0.30516426, 0.03619391, 0.75785398, 0.18940132, 0.74662445])"
      ]
     },
     "execution_count": 78,
     "metadata": {},
     "output_type": "execute_result"
    }
   ],
   "source": [
    "i,j= 0,0\n",
    "data[i,j,:]"
   ]
  },
  {
   "cell_type": "markdown",
   "id": "8648914e",
   "metadata": {},
   "source": [
    "Re-write what we had before:"
   ]
  },
  {
   "cell_type": "code",
   "execution_count": 79,
   "id": "e6fe2627",
   "metadata": {},
   "outputs": [],
   "source": [
    "# scales\n",
    "col_sc = bqplot.ColorScale(scheme='Greens')\n",
    "x_sc = bqplot.OrdinalScale()\n",
    "y_sc = bqplot.OrdinalScale()\n",
    "\n",
    "# axis\n",
    "c_ax = bqplot.ColorAxis(scale=col_sc,orientation='vertical', side='right')\n",
    "x_ax = bqplot.Axis(scale=x_sc)\n",
    "y_ax = bqplot.Axis(scale=y_sc, orientation='vertical')"
   ]
  },
  {
   "cell_type": "code",
   "execution_count": 81,
   "id": "a2f24639",
   "metadata": {},
   "outputs": [
    {
     "data": {
      "text/plain": [
       "(10, 10)"
      ]
     },
     "execution_count": 81,
     "metadata": {},
     "output_type": "execute_result"
    }
   ],
   "source": [
    "np.sum(data,axis=2).shape"
   ]
  },
  {
   "cell_type": "code",
   "execution_count": 82,
   "id": "1f44d227",
   "metadata": {},
   "outputs": [],
   "source": [
    "# mark\n",
    "heat_map = bqplot.GridHeatMap(color=np.sum(data,axis=2), # summing\n",
    "                             scales={'color':col_sc, 'row':y_sc, 'column':x_sc},\n",
    "                             interactions={'click':'select'},\n",
    "                             selected_style={'fill':'magenta'})"
   ]
  },
  {
   "cell_type": "code",
   "execution_count": 83,
   "id": "c901a694",
   "metadata": {},
   "outputs": [],
   "source": [
    "seletedLabel = ipywidgets.Label()"
   ]
  },
  {
   "cell_type": "code",
   "execution_count": 84,
   "id": "374b0726",
   "metadata": {},
   "outputs": [],
   "source": [
    "def on_selected(change):\n",
    "    if len(change['owner'].selected)==1:\n",
    "        i,j = change['owner'].selected[0]\n",
    "        v = data[i,j,:].sum() # sum along the 3rd dimension \n",
    "        selectedLabel.value = 'Data Sum=' + str(v)"
   ]
  },
  {
   "cell_type": "code",
   "execution_count": 85,
   "id": "52dd5fe2",
   "metadata": {},
   "outputs": [],
   "source": [
    "heat_map.observe(on_selected, 'selected')"
   ]
  },
  {
   "cell_type": "code",
   "execution_count": 86,
   "id": "0daf78da",
   "metadata": {},
   "outputs": [],
   "source": [
    "fig = bqplot.Figure(marks=[heat_map], axes=[c_ax,x_ax,y_ax])"
   ]
  },
  {
   "cell_type": "code",
   "execution_count": 87,
   "id": "31b3970b",
   "metadata": {},
   "outputs": [],
   "source": [
    "myDashboard = ipywidgets.VBox([selectedLabel,fig])"
   ]
  },
  {
   "cell_type": "code",
   "execution_count": 88,
   "id": "b824a8be",
   "metadata": {},
   "outputs": [
    {
     "data": {
      "application/vnd.jupyter.widget-view+json": {
       "model_id": "7a9b3223c7ae44d8bae8f2ff89d1999b",
       "version_major": 2,
       "version_minor": 0
      },
      "text/plain": [
       "VBox(children=(Label(value='Data Value = 0.11636540293891362'), Figure(axes=[ColorAxis(orientation='vertical',…"
      ]
     },
     "metadata": {},
     "output_type": "display_data"
    }
   ],
   "source": [
    "myDashboard"
   ]
  },
  {
   "cell_type": "code",
   "execution_count": 96,
   "id": "af06bdba",
   "metadata": {},
   "outputs": [
    {
     "data": {
      "text/plain": [
       "array([0.44720809, 0.73778576, 0.28325068, 0.11884988, 0.66633944,\n",
       "       0.42837585, 0.80662253, 0.87359956, 0.88663127, 0.44763831,\n",
       "       0.68929604, 0.20488174, 0.84685657, 0.66577286, 0.29213325,\n",
       "       0.03452621, 0.57173463, 0.20840336, 0.76694436, 0.26534452])"
      ]
     },
     "execution_count": 96,
     "metadata": {},
     "output_type": "execute_result"
    }
   ],
   "source": [
    "i,j = 9,9 # faking a selection\n",
    "data[i,j]"
   ]
  },
  {
   "cell_type": "markdown",
   "id": "e571add4",
   "metadata": {},
   "source": [
    "Since we have now an array in the 3rd dimension - we can view its distribution using a histogram.\n",
    "\n",
    "Thinking forward: we want this histogram to update depending on what x/y bin we are selecting."
   ]
  },
  {
   "cell_type": "code",
   "execution_count": 97,
   "id": "b9081b35",
   "metadata": {},
   "outputs": [],
   "source": [
    "# scales\n",
    "x_sch = bqplot.LinearScale()\n",
    "y_sch = bqplot.LinearScale()"
   ]
  },
  {
   "cell_type": "code",
   "execution_count": 98,
   "id": "ac8748de",
   "metadata": {},
   "outputs": [],
   "source": [
    "# axis\n",
    "x_axh = bqplot.Axis(scale=x_sch, label='Value of 3rd axis')\n",
    "y_axh = bqplot.Axis(scale=y_sch, orientation='vertical', label='Frequency')"
   ]
  },
  {
   "cell_type": "code",
   "execution_count": 99,
   "id": "052b130b",
   "metadata": {},
   "outputs": [],
   "source": [
    "bqplot.Hist?"
   ]
  },
  {
   "cell_type": "code",
   "execution_count": 100,
   "id": "5fcf0e4a",
   "metadata": {},
   "outputs": [],
   "source": [
    "hist = bqplot.Hist(sample=data[i,j,:], \n",
    "                  normalized=False, # counts, not density \n",
    "                  scales={'sample':x_sch, 'count':y_sch}, # got from data attributes\n",
    "                  bins=5)#an option"
   ]
  },
  {
   "cell_type": "code",
   "execution_count": 101,
   "id": "a1b628d2",
   "metadata": {},
   "outputs": [
    {
     "data": {
      "application/vnd.jupyter.widget-view+json": {
       "model_id": "021337107acd40e8815abc4abaeb988f",
       "version_major": 2,
       "version_minor": 0
      },
      "text/plain": [
       "Figure(axes=[Axis(label='Value of 3rd axis', scale=LinearScale(), side='bottom'), Axis(label='Frequency', orie…"
      ]
     },
     "metadata": {},
     "output_type": "display_data"
    }
   ],
   "source": [
    "figh = bqplot.Figure(marks=[hist], axes=[x_axh,y_axh])\n",
    "figh"
   ]
  },
  {
   "cell_type": "code",
   "execution_count": 102,
   "id": "054feda8",
   "metadata": {},
   "outputs": [
    {
     "data": {
      "text/plain": [
       "['_model_module',\n",
       " '_model_module_version',\n",
       " '_model_name',\n",
       " '_view_count',\n",
       " '_view_module',\n",
       " '_view_module_version',\n",
       " '_view_name',\n",
       " 'apply_clip',\n",
       " 'bins',\n",
       " 'colors',\n",
       " 'count',\n",
       " 'display_legend',\n",
       " 'enable_hover',\n",
       " 'interactions',\n",
       " 'labels',\n",
       " 'midpoints',\n",
       " 'normalized',\n",
       " 'opacities',\n",
       " 'preserve_domain',\n",
       " 'sample',\n",
       " 'scales',\n",
       " 'scales_metadata',\n",
       " 'selected',\n",
       " 'selected_style',\n",
       " 'stroke',\n",
       " 'tooltip',\n",
       " 'tooltip_location',\n",
       " 'tooltip_style',\n",
       " 'unselected_style',\n",
       " 'visible']"
      ]
     },
     "execution_count": 102,
     "metadata": {},
     "output_type": "execute_result"
    }
   ],
   "source": [
    "hist.keys"
   ]
  },
  {
   "cell_type": "code",
   "execution_count": 103,
   "id": "466808a4",
   "metadata": {},
   "outputs": [
    {
     "data": {
      "text/plain": [
       "array([0.44720809, 0.73778576, 0.28325068, 0.11884988, 0.66633944,\n",
       "       0.42837585, 0.80662253, 0.87359956, 0.88663127, 0.44763831,\n",
       "       0.68929604, 0.20488174, 0.84685657, 0.66577286, 0.29213325,\n",
       "       0.03452621, 0.57173463, 0.20840336, 0.76694436, 0.26534452])"
      ]
     },
     "execution_count": 103,
     "metadata": {},
     "output_type": "execute_result"
    }
   ],
   "source": [
    "hist.sample"
   ]
  },
  {
   "cell_type": "code",
   "execution_count": 121,
   "id": "db25a389",
   "metadata": {},
   "outputs": [],
   "source": [
    "# --- HISTOGRAM -----\n",
    "\n",
    "# scales\n",
    "x_sch = bqplot.LinearScale()\n",
    "y_sch = bqplot.LinearScale()\n",
    "\n",
    "# axis\n",
    "x_axh = bqplot.Axis(scale=x_sch, label='Value of 3rd axis')\n",
    "y_axh = bqplot.Axis(scale=y_sch, orientation='vertical', label='Frequency')\n",
    "\n",
    "# mark\n",
    "#hist = bqplot.Hist(sample=np.zeros_like(data[0,0,:]))\n",
    "hist = bqplot.Hist(sample=data[0,0,:], normalized=False, \n",
    "                  scales={'sample':x_sch, 'count':y_sch},\n",
    "                  bins=5)\n",
    "\n",
    "# interactions for histogram?  NO LINKING RIGHT NOW!\n",
    "\n",
    "# figure!\n",
    "fig_hist = bqplot.Figure(marks=[hist], axes=[x_axh, y_axh])"
   ]
  },
  {
   "cell_type": "code",
   "execution_count": 122,
   "id": "0cd646c5",
   "metadata": {},
   "outputs": [],
   "source": [
    "def on_selected(change):\n",
    "    if len(change['owner'].selected)==1:\n",
    "        i,j = change['owner'].selected[0]\n",
    "        v = data[i,j,:].sum() # sum along the 3rd dimension \n",
    "        selectedLabel.value = 'Data Sum=' + str(v) # changing the trait/attribute of selectedLabel\n",
    "        # change attribute/trait of histogram mark \n",
    "        #print(v)\n",
    "        hist.sample = data[i,j,:]"
   ]
  },
  {
   "cell_type": "code",
   "execution_count": 123,
   "id": "bede73af",
   "metadata": {},
   "outputs": [],
   "source": [
    "# all together now!\n",
    "\n",
    "# ------ HEAT MAP -----\n",
    "# 1 scales\n",
    "col_sc = bqplot.ColorScale(scheme='Greens')\n",
    "x_sc = bqplot.OrdinalScale()\n",
    "y_sc = bqplot.OrdinalScale()\n",
    "\n",
    "# 2. axis\n",
    "c_ax = bqplot.ColorAxis(scale=col_sc, orientation='vertical', side='right')\n",
    "x_ax = bqplot.Axis(scale=x_sc)\n",
    "y_ax = bqplot.Axis(scale=y_sc, orientation='vertical')\n",
    "\n",
    "# 3. Marks -- heatmap\n",
    "heat_map = bqplot.GridHeatMap(color=np.sum(data,axis=2),\n",
    "                             scales={'color':col_sc, 'row':y_sc, 'column':x_sc},\n",
    "                             interactions={'click':'select'},\n",
    "                             selected_style={'fill':'magenta'})\n",
    "\n",
    "# 4-ish link observation function to changes of heat map\n",
    "#heat_map.observe(on_selected, 'select') \n",
    "# check out heat_map.keys to see it should be \"selected\" not \"select\"\n",
    "heat_map.observe(on_selected, 'selected') \n",
    "\n",
    "fig_heatmap = bqplot.Figure(marks=[heat_map],axes=[c_ax,x_ax,y_ax])"
   ]
  },
  {
   "cell_type": "code",
   "execution_count": 124,
   "id": "f2cec853",
   "metadata": {},
   "outputs": [
    {
     "data": {
      "application/vnd.jupyter.widget-view+json": {
       "model_id": "735a3c98d35f4966a81019c40785c6f0",
       "version_major": 2,
       "version_minor": 0
      },
      "text/plain": [
       "VBox(children=(Label(value='Data Sum=10.117159894515146'), HBox(children=(Figure(axes=[ColorAxis(orientation='…"
      ]
     },
     "metadata": {},
     "output_type": "display_data"
    }
   ],
   "source": [
    "figures = ipywidgets.HBox([fig_heatmap,fig_hist])\n",
    "\n",
    "# label on top\n",
    "myDashboard = ipywidgets.VBox([selectedLabel, figures])\n",
    "myDashboard"
   ]
  },
  {
   "cell_type": "code",
   "execution_count": 127,
   "id": "4911eff9",
   "metadata": {},
   "outputs": [],
   "source": [
    "fig_heatmap.layout.min_width='400px'\n",
    "fig_hist.layout.min_width='400px'"
   ]
  },
  {
   "cell_type": "code",
   "execution_count": 120,
   "id": "6cb60ba0",
   "metadata": {},
   "outputs": [
    {
     "data": {
      "text/plain": [
       "['_model_module',\n",
       " '_model_module_version',\n",
       " '_model_name',\n",
       " '_view_count',\n",
       " '_view_module',\n",
       " '_view_module_version',\n",
       " '_view_name',\n",
       " 'anchor_style',\n",
       " 'apply_clip',\n",
       " 'color',\n",
       " 'column',\n",
       " 'column_align',\n",
       " 'display_format',\n",
       " 'display_legend',\n",
       " 'enable_hover',\n",
       " 'font_style',\n",
       " 'interactions',\n",
       " 'labels',\n",
       " 'null_color',\n",
       " 'opacity',\n",
       " 'preserve_domain',\n",
       " 'row',\n",
       " 'row_align',\n",
       " 'scales',\n",
       " 'scales_metadata',\n",
       " 'selected',\n",
       " 'selected_style',\n",
       " 'stroke',\n",
       " 'tooltip',\n",
       " 'tooltip_location',\n",
       " 'tooltip_style',\n",
       " 'unselected_style',\n",
       " 'visible']"
      ]
     },
     "execution_count": 120,
     "metadata": {},
     "output_type": "execute_result"
    }
   ],
   "source": [
    "heat_map.keys"
   ]
  },
  {
   "cell_type": "code",
   "execution_count": 128,
   "id": "cf74b676",
   "metadata": {},
   "outputs": [
    {
     "data": {
      "application/vnd.jupyter.widget-view+json": {
       "model_id": "735a3c98d35f4966a81019c40785c6f0",
       "version_major": 2,
       "version_minor": 0
      },
      "text/plain": [
       "VBox(children=(Label(value='Data Sum=11.908519162866597'), HBox(children=(Figure(axes=[ColorAxis(orientation='…"
      ]
     },
     "metadata": {},
     "output_type": "display_data"
    }
   ],
   "source": [
    "myDashboard"
   ]
  },
  {
   "cell_type": "code",
   "execution_count": 134,
   "id": "ac265f72",
   "metadata": {},
   "outputs": [],
   "source": [
    "hist.bins = 3"
   ]
  },
  {
   "cell_type": "code",
   "execution_count": 135,
   "id": "39c30618",
   "metadata": {},
   "outputs": [
    {
     "data": {
      "application/vnd.jupyter.widget-view+json": {
       "model_id": "097cbd775f1e48278a0aeaa3c85bc773",
       "version_major": 2,
       "version_minor": 0
      },
      "text/plain": [
       "IntSlider(value=0)"
      ]
     },
     "metadata": {},
     "output_type": "display_data"
    }
   ],
   "source": [
    "ipywidgets.IntSlider()"
   ]
  },
  {
   "cell_type": "markdown",
   "id": "0fb0f2b4",
   "metadata": {},
   "source": [
    "## Grid heatmap with matplotlib like interface"
   ]
  },
  {
   "cell_type": "code",
   "execution_count": 136,
   "id": "50e96223",
   "metadata": {},
   "outputs": [],
   "source": [
    "import bqplot.pyplot as bplt"
   ]
  },
  {
   "cell_type": "code",
   "execution_count": 137,
   "id": "8add6ebd",
   "metadata": {
    "scrolled": false
   },
   "outputs": [
    {
     "data": {
      "application/vnd.jupyter.widget-view+json": {
       "model_id": "0709b7685ce44e8fb3386c4160494de1",
       "version_major": 2,
       "version_minor": 0
      },
      "text/plain": [
       "Figure(axes=[ColorAxis(scale=ColorScale()), Axis(orientation='vertical', scale=OrdinalScale(reverse=True)), Ax…"
      ]
     },
     "metadata": {},
     "output_type": "display_data"
    }
   ],
   "source": [
    "fig = bplt.figure(padding_y=0.0)\n",
    "\n",
    "heat_map = bplt.gridheatmap(np.sum(data,axis=2))\n",
    "\n",
    "fig"
   ]
  },
  {
   "cell_type": "code",
   "execution_count": 138,
   "id": "7cb6f75b",
   "metadata": {},
   "outputs": [
    {
     "data": {
      "application/vnd.jupyter.widget-view+json": {
       "model_id": "9761c5a96a714373987af1f7636a85a9",
       "version_major": 2,
       "version_minor": 0
      },
      "text/plain": [
       "Figure(axes=[ColorAxis(scale=ColorScale(scheme='Greens')), Axis(orientation='vertical', scale=OrdinalScale(rev…"
      ]
     },
     "metadata": {},
     "output_type": "display_data"
    }
   ],
   "source": [
    "fig = bplt.figure(padding_y=0.0)\n",
    "bplt.scales(scales={'color':bqplot.ColorScale(scheme='Greens')})\n",
    "\n",
    "heat_map = bplt.gridheatmap(np.sum(data,axis=2))\n",
    "\n",
    "fig"
   ]
  },
  {
   "cell_type": "code",
   "execution_count": 139,
   "id": "43a20d21",
   "metadata": {},
   "outputs": [
    {
     "data": {
      "application/vnd.jupyter.widget-view+json": {
       "model_id": "c52f0b125a134640a9125d16a4c8d8ef",
       "version_major": 2,
       "version_minor": 0
      },
      "text/plain": [
       "Figure(axes=[ColorAxis(scale=ColorScale(scheme='Greens')), Axis(orientation='vertical', scale=OrdinalScale(rev…"
      ]
     },
     "metadata": {},
     "output_type": "display_data"
    }
   ],
   "source": [
    "fig = bplt.figure(padding_y=0.0)\n",
    "bplt.scales(scales={'color':bqplot.ColorScale(scheme='Greens')})\n",
    "\n",
    "heat_map = bplt.gridheatmap(np.sum(data,axis=2), \n",
    "                           interactions={'click':'select'},\n",
    "                            selected_style={'fill':'magenta'})\n",
    "\n",
    "fig"
   ]
  },
  {
   "cell_type": "code",
   "execution_count": 141,
   "id": "1c9bd453",
   "metadata": {},
   "outputs": [
    {
     "data": {
      "application/vnd.jupyter.widget-view+json": {
       "model_id": "3fa2993b4d1246779d1bd587421205ae",
       "version_major": 2,
       "version_minor": 0
      },
      "text/plain": [
       "Figure(axes=[ColorAxis(scale=ColorScale(scheme='Greens'), side='top'), Axis(label='Y', orientation='vertical',…"
      ]
     },
     "metadata": {},
     "output_type": "display_data"
    }
   ],
   "source": [
    "fig = bplt.figure(padding_y=0.0)\n",
    "bplt.scales(scales={'color':bqplot.ColorScale(scheme='Greens')})\n",
    "\n",
    "heat_map = bplt.gridheatmap(np.sum(data,axis=2), \n",
    "                           interactions={'click':'select'},\n",
    "                            selected_style={'fill':'magenta'})\n",
    "\n",
    "# change x/y labels\n",
    "fig.axes[2].label='X'\n",
    "fig.axes[1].label = 'Y'\n",
    "\n",
    "fig.axes[0].side='top'\n",
    "\n",
    "fig"
   ]
  },
  {
   "cell_type": "code",
   "execution_count": null,
   "id": "f32e88d1",
   "metadata": {},
   "outputs": [],
   "source": []
  }
 ],
 "metadata": {
  "kernelspec": {
   "display_name": "Python 3 (ipykernel)",
   "language": "python",
   "name": "python3"
  },
  "language_info": {
   "codemirror_mode": {
    "name": "ipython",
    "version": 3
   },
   "file_extension": ".py",
   "mimetype": "text/x-python",
   "name": "python",
   "nbconvert_exporter": "python",
   "pygments_lexer": "ipython3",
   "version": "3.7.12"
  }
 },
 "nbformat": 4,
 "nbformat_minor": 5
}
