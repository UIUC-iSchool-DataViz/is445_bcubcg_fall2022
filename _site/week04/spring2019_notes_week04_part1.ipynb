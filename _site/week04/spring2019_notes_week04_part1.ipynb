{
 "cells": [
  {
   "cell_type": "markdown",
   "metadata": {},
   "source": [
    "# Activity #1 - intro to traitlets and object oriented programming\n",
    "* So first, we'll do the relatively dry stuff - playing with some concepts of object oriented programming"
   ]
  },
  {
   "cell_type": "code",
   "execution_count": 1,
   "metadata": {},
   "outputs": [],
   "source": [
    "# it is possible you will have to install this\n",
    "import traitlets"
   ]
  },
  {
   "cell_type": "code",
   "execution_count": 2,
   "metadata": {},
   "outputs": [],
   "source": [
    "# ok, lets make a simple object class\n",
    "class MyObject(traitlets.HasTraits):\n",
    "    # lets use the unicode trait to let our object have a name\n",
    "    name = traitlets.Unicode(\"unnamed\") \n",
    "    # lets also give our object an age\n",
    "    age = traitlets.Int(0)"
   ]
  },
  {
   "cell_type": "code",
   "execution_count": 3,
   "metadata": {},
   "outputs": [
    {
     "data": {
      "text/plain": [
       "<__main__.MyObject at 0x109b2f7d0>"
      ]
     },
     "execution_count": 3,
     "metadata": {},
     "output_type": "execute_result"
    }
   ],
   "source": [
    "# now, lets create an object we can manipulate out of this class\n",
    "my_obj = MyObject()\n",
    "my_obj"
   ]
  },
  {
   "cell_type": "code",
   "execution_count": 4,
   "metadata": {},
   "outputs": [
    {
     "data": {
      "text/plain": [
       "(u'unnamed', 0)"
      ]
     },
     "execution_count": 4,
     "metadata": {},
     "output_type": "execute_result"
    }
   ],
   "source": [
    "# so far, nothing is defined yet and the object has the \n",
    "#  class's defaults\n",
    "my_obj.name, my_obj.age"
   ]
  },
  {
   "cell_type": "code",
   "execution_count": 5,
   "metadata": {},
   "outputs": [
    {
     "data": {
      "text/plain": [
       "(u'Bob', 47)"
      ]
     },
     "execution_count": 5,
     "metadata": {},
     "output_type": "execute_result"
    }
   ],
   "source": [
    "# lets create another object \n",
    "# and here we can show how it can \n",
    "#  be created and initialized\n",
    "obj2 = MyObject(name = \"Bob\", age = 47)\n",
    "obj2.name, obj2.age"
   ]
  },
  {
   "cell_type": "code",
   "execution_count": 6,
   "metadata": {},
   "outputs": [],
   "source": [
    "# now lets create a function that can act on \n",
    "#  one of the variables of our object\n",
    "#  in particluar, its going to change the name in \n",
    "#  my object\n",
    "def name_changed(change):\n",
    "    print(change['new']) # this is a format that is required of a traitlets class\n",
    "\n",
    "# lets tell traitlets that we are going to change something\n",
    "my_obj.observe(name_changed, ['name'])"
   ]
  },
  {
   "cell_type": "code",
   "execution_count": 7,
   "metadata": {},
   "outputs": [
    {
     "name": "stdout",
     "output_type": "stream",
     "text": [
      "Linda\n"
     ]
    }
   ],
   "source": [
    "my_obj.name = \"Linda\""
   ]
  },
  {
   "cell_type": "code",
   "execution_count": 8,
   "metadata": {},
   "outputs": [
    {
     "data": {
      "text/plain": [
       "u'Bob'"
      ]
     },
     "execution_count": 8,
     "metadata": {},
     "output_type": "execute_result"
    }
   ],
   "source": [
    "# note: right now this seems overly complicated\n",
    "#  why would we do this?  can't I just simply \n",
    "# assign the name to the object's name??\n",
    "#  whats with this whole function name_changed\n",
    "#  and .observe?\n",
    "\n",
    "# so, we can actually associate actions with changes \n",
    "# Behold:\n",
    "def name_changed2(change):\n",
    "    print(\"I just changed '%s' to '%s'\" % (change['old'], change['new']))\n",
    "\n",
    "# lets apply this to our other object we created\n",
    "obj2.name"
   ]
  },
  {
   "cell_type": "code",
   "execution_count": 9,
   "metadata": {},
   "outputs": [],
   "source": [
    "obj2.observe(name_changed2, ['name'])"
   ]
  },
  {
   "cell_type": "code",
   "execution_count": 10,
   "metadata": {},
   "outputs": [
    {
     "name": "stdout",
     "output_type": "stream",
     "text": [
      "I just changed 'Bob' to 'Gene'\n"
     ]
    }
   ],
   "source": [
    "obj2.name = \"Gene\""
   ]
  },
  {
   "cell_type": "code",
   "execution_count": 11,
   "metadata": {},
   "outputs": [],
   "source": [
    "# we can even take a look at the nitty gritty\n",
    "# details of how this change is taking place \n",
    "# \"under the hood\" with traitlets\n",
    "\n",
    "# lets create a new object\n",
    "obj3 = MyObject()"
   ]
  },
  {
   "cell_type": "code",
   "execution_count": 12,
   "metadata": {},
   "outputs": [],
   "source": [
    "# and now, instead of specifying an action\n",
    "#  with our change, lets look at what \n",
    "# change really is:\n",
    "def trait_change(change):\n",
    "    print(\"Change dictionary:\")\n",
    "    print(change)\n",
    "\n",
    "obj3.observe(trait_change)"
   ]
  },
  {
   "cell_type": "code",
   "execution_count": 13,
   "metadata": {},
   "outputs": [
    {
     "name": "stdout",
     "output_type": "stream",
     "text": [
      "Change dictionary:\n",
      "{'owner': <__main__.MyObject object at 0x109b473d0>, 'new': u'Something Else', 'old': u'unnamed', 'name': 'name', 'type': 'change'}\n"
     ]
    }
   ],
   "source": [
    "obj3.name = \"Something Else\"\n",
    "# so we can see that there are these weird \"new\" and \"old\" names\n",
    "#  this is tracking how things change\n",
    "#  the \"owner\" is just pointint to obj3 (of class MyObject)"
   ]
  },
  {
   "cell_type": "code",
   "execution_count": 14,
   "metadata": {},
   "outputs": [
    {
     "name": "stdout",
     "output_type": "stream",
     "text": [
      "Change dictionary:\n",
      "{'owner': <__main__.MyObject object at 0x109b473d0>, 'new': 10, 'old': 0, 'name': 'age', 'type': 'change'}\n"
     ]
    }
   ],
   "source": [
    "# lets try another one:\n",
    "obj3.age = 10"
   ]
  },
  {
   "cell_type": "markdown",
   "metadata": {},
   "source": [
    "### An aside: string printing"
   ]
  },
  {
   "cell_type": "code",
   "execution_count": 15,
   "metadata": {},
   "outputs": [
    {
     "data": {
      "text/plain": [
       "'String formatting is sticking stuff in the middle: 10.13500'"
      ]
     },
     "execution_count": 15,
     "metadata": {},
     "output_type": "execute_result"
    }
   ],
   "source": [
    "# just as an aside, there are fancy ways to print out strings\n",
    "#  and numbers in one line\n",
    "\n",
    "# here is one example\n",
    "\"String formatting is sticking stuff %s the middle: %0.5f\" % (\"in\", 10.135)\n",
    "# so \"in\" is placed at %s and 10.135 is placed at %0.5f"
   ]
  },
  {
   "cell_type": "code",
   "execution_count": 16,
   "metadata": {},
   "outputs": [
    {
     "data": {
      "text/plain": [
       "'The nicer way is to do this, see'"
      ]
     },
     "execution_count": 16,
     "metadata": {},
     "output_type": "execute_result"
    }
   ],
   "source": [
    "# we can also insert strings as place holder numbers:\n",
    "\"{2} nicer way {0} to do this, {1}\".format(\"is\", \"see\", \"The\")"
   ]
  },
  {
   "cell_type": "markdown",
   "metadata": {},
   "source": [
    "### Take aways\n",
    "* this was just a quick overview of traitlets\n",
    "* traitlets are another way to use interactivity in python - we can create classes and then track changes to those classes with our \"change\" functions"
   ]
  },
  {
   "cell_type": "markdown",
   "metadata": {},
   "source": [
    "# Activity #2 - More details of ipywidgets\n",
    "* We've already done a LOT of things with ipywidgets\n",
    "* we'll get into some more of the nitty gritty details of different things we can use with widgets now"
   ]
  },
  {
   "cell_type": "code",
   "execution_count": 17,
   "metadata": {},
   "outputs": [
    {
     "data": {
      "application/vnd.jupyter.widget-view+json": {
       "model_id": "78be3a8708b54574bbbf73cb7eddbb05",
       "version_major": 2,
       "version_minor": 0
      },
      "text/plain": [
       "aW50ZXJhY3RpdmUoY2hpbGRyZW49KERyb3Bkb3duKGRlc2NyaXB0aW9uPXUnbmFtZScsIG9wdGlvbnM9KCdMaW5kYScsICdUaW5hJywgJ0xvdWlzZScpLCB2YWx1ZT0nTGluZGEnKSwgT3V0cHXigKY=\n"
      ]
     },
     "metadata": {},
     "output_type": "display_data"
    }
   ],
   "source": [
    "# import, per usual\n",
    "import ipywidgets\n",
    "\n",
    "# so, this is how we've used widgets before for the most part\n",
    "@ipywidgets.interact(name = ['Linda', 'Tina', 'Louise'])\n",
    "def print_name(name):\n",
    "    print(name) # just a simple print out"
   ]
  },
  {
   "cell_type": "code",
   "execution_count": 18,
   "metadata": {},
   "outputs": [],
   "source": [
    "# but now, lets go into ipywidgets in a bit more detail\n",
    "# and look at specific functions\n",
    "\n",
    "# for example, we can create a little display\n",
    "# that increments integer numbers\n",
    "itext = ipywidgets.IntText()"
   ]
  },
  {
   "cell_type": "code",
   "execution_count": 19,
   "metadata": {},
   "outputs": [
    {
     "data": {
      "application/vnd.jupyter.widget-view+json": {
       "model_id": "1c4b1ac48002498bab738cd9cabb5f28",
       "version_major": 2,
       "version_minor": 0
      },
      "text/plain": [
       "IntText(value=0)"
      ]
     },
     "metadata": {},
     "output_type": "display_data"
    }
   ],
   "source": [
    "# to be able to display our widget\n",
    "from IPython.display import display\n",
    "# note: depending on the version of jupyter\n",
    "#  you are using, you may or maynot have\n",
    "#  to use \"display\" to display things\n",
    "#  we'll do it both ways, starting \n",
    "#  with display\n",
    "\n",
    "# lets show the thing!\n",
    "display(itext)\n",
    "# you can see there are little numbers at the \n",
    "#  end that we can toggle up and down"
   ]
  },
  {
   "cell_type": "code",
   "execution_count": 20,
   "metadata": {},
   "outputs": [
    {
     "data": {
      "application/vnd.jupyter.widget-view+json": {
       "model_id": "1c4b1ac48002498bab738cd9cabb5f28",
       "version_major": 2,
       "version_minor": 0
      },
      "text/plain": [
       "IntText(value=0)"
      ]
     },
     "metadata": {},
     "output_type": "display_data"
    }
   ],
   "source": [
    "# note that if I make another display of itext,\n",
    "# this one and the previous one have values that are\n",
    "# tied together\n",
    "display(itext)"
   ]
  },
  {
   "cell_type": "code",
   "execution_count": 21,
   "metadata": {},
   "outputs": [
    {
     "data": {
      "text/plain": [
       "0"
      ]
     },
     "execution_count": 21,
     "metadata": {},
     "output_type": "execute_result"
    }
   ],
   "source": [
    "# also, the value of itext is then stored - so \n",
    "#  we could in theory generate a toggle and then \n",
    "# do stuff with its value\n",
    "itext.value\n",
    "# note if I go up and change the toggle value\n",
    "#  I have to re-run this cell to print out the \n",
    "# newly stored value"
   ]
  },
  {
   "cell_type": "code",
   "execution_count": 22,
   "metadata": {},
   "outputs": [],
   "source": [
    "# I can also set the value \"by hand\"\n",
    "itext.value = 10\n",
    "# once I run this cell, now the toggle values are\n",
    "# updated above"
   ]
  },
  {
   "cell_type": "code",
   "execution_count": 23,
   "metadata": {},
   "outputs": [],
   "source": [
    "# we can also do fun things like create progress bars\n",
    "ip = ipywidgets.IntProgress()"
   ]
  },
  {
   "cell_type": "code",
   "execution_count": 24,
   "metadata": {},
   "outputs": [
    {
     "data": {
      "application/vnd.jupyter.widget-view+json": {
       "model_id": "2edf0cbfd88f486b887b052c7bc0782d",
       "version_major": 2,
       "version_minor": 0
      },
      "text/plain": [
       "IntProgress(value=0)"
      ]
     },
     "metadata": {},
     "output_type": "display_data"
    }
   ],
   "source": [
    "display(ip)"
   ]
  },
  {
   "cell_type": "code",
   "execution_count": 25,
   "metadata": {},
   "outputs": [],
   "source": [
    "# so, its probably hard to see, but there is indeed a \n",
    "# bar there\n",
    "# I can show this better by setting the progress\n",
    "# to 90% by hand:\n",
    "ip.value = 90"
   ]
  },
  {
   "cell_type": "code",
   "execution_count": 26,
   "metadata": {},
   "outputs": [],
   "source": [
    "# we can also check out more of the interer counters, \n",
    "#  like this nifty slider\n",
    "irange = ipywidgets.IntRangeSlider(min = -10, max = 10, step = 1)"
   ]
  },
  {
   "cell_type": "code",
   "execution_count": 27,
   "metadata": {},
   "outputs": [
    {
     "data": {
      "application/vnd.jupyter.widget-view+json": {
       "model_id": "7f4978285da4466b80d790c12af9f1c4",
       "version_major": 2,
       "version_minor": 0
      },
      "text/plain": [
       "IntRangeSlider(value=(-5, 5), max=10, min=-10)"
      ]
     },
     "metadata": {},
     "output_type": "display_data"
    }
   ],
   "source": [
    "display(irange)"
   ]
  },
  {
   "cell_type": "code",
   "execution_count": 28,
   "metadata": {},
   "outputs": [
    {
     "data": {
      "text/plain": [
       "(-5, 5)"
      ]
     },
     "execution_count": 28,
     "metadata": {},
     "output_type": "execute_result"
    }
   ],
   "source": [
    "# again, the value of the slider is stored\n",
    "#  if we want to use it\n",
    "irange.value"
   ]
  },
  {
   "cell_type": "markdown",
   "metadata": {},
   "source": [
    "### BY THEIR POWERS COMBINED!!"
   ]
  },
  {
   "cell_type": "code",
   "execution_count": 29,
   "metadata": {},
   "outputs": [
    {
     "data": {
      "text/plain": [
       "<traitlets.traitlets.link at 0x109b2f6d0>"
      ]
     },
     "execution_count": 29,
     "metadata": {},
     "output_type": "execute_result"
    }
   ],
   "source": [
    "# we can also mix traitlets & ipython widgets\n",
    "#  in neat ways\n",
    "#  here, we'll use the ipywidgets function\n",
    "#  link to associate 2 different things\n",
    "\n",
    "# a new instance of my class as m\n",
    "m = MyObject(name = \"Bob\", age = 47)\n",
    "# lets link an widget label with a traitlet class value\n",
    "l = ipywidgets.Label() \n",
    "\n",
    "# lets link the traitelet name with the \n",
    "# widget label, l\n",
    "ipywidgets.link( (m, \"name\"), (l, \"value\") )"
   ]
  },
  {
   "cell_type": "code",
   "execution_count": 30,
   "metadata": {},
   "outputs": [
    {
     "data": {
      "application/vnd.jupyter.widget-view+json": {
       "model_id": "20b7ce1b4f374355bc521cb88f9245c8",
       "version_major": 2,
       "version_minor": 0
      },
      "text/plain": [
       "Label(value=u'Bob')"
      ]
     },
     "metadata": {},
     "output_type": "display_data"
    }
   ],
   "source": [
    "# now if we display this widget label\n",
    "#  we see the traitlet object's name\n",
    "display(l)"
   ]
  },
  {
   "cell_type": "code",
   "execution_count": 31,
   "metadata": {},
   "outputs": [],
   "source": [
    "# we can even update the traitlet name & the \n",
    "# widget label updates as well\n",
    "m.name = \"Linda\""
   ]
  },
  {
   "cell_type": "markdown",
   "metadata": {},
   "source": [
    "### More ipywidgets fun"
   ]
  },
  {
   "cell_type": "code",
   "execution_count": 32,
   "metadata": {},
   "outputs": [],
   "source": [
    "# we can use ipywidgets to make clickers\n",
    "button1 = ipywidgets.Button(description = \"I am a Clicker\")"
   ]
  },
  {
   "cell_type": "code",
   "execution_count": 33,
   "metadata": {},
   "outputs": [
    {
     "data": {
      "application/vnd.jupyter.widget-view+json": {
       "model_id": "19002ea24ee3466cbb02e00c522322ca",
       "version_major": 2,
       "version_minor": 0
      },
      "text/plain": [
       "Button(description=u'I am a Clicker', style=ButtonStyle())"
      ]
     },
     "metadata": {},
     "output_type": "display_data"
    }
   ],
   "source": [
    "display(button1)\n",
    "# we note that nothing happens when we press this button"
   ]
  },
  {
   "cell_type": "code",
   "execution_count": 34,
   "metadata": {},
   "outputs": [],
   "source": [
    "# now, lets make a function that can act when we press\n",
    "# this button\n",
    "def say_click(event):\n",
    "    print(\"I have clicked. Click.\")"
   ]
  },
  {
   "cell_type": "code",
   "execution_count": 35,
   "metadata": {},
   "outputs": [],
   "source": [
    "# now we can tell our button that we've created to \n",
    "# say click when we click\n",
    "button1.on_click(say_click)\n",
    "# we'll note that this is \"back reactive\" - so now \n",
    "# if we go up to our displayed button and press click\n",
    "# it says it has clicked were before it did nothing"
   ]
  },
  {
   "cell_type": "code",
   "execution_count": 36,
   "metadata": {},
   "outputs": [],
   "source": [
    "# we can use ipywidgets to create text boxes\n",
    "ta1 = ipywidgets.Textarea(\"Hi, this is a box of text. (1)\")\n",
    "\n",
    "ta2 = ipywidgets.Textarea(\"Hi, this is a box of text. (2)\")\n",
    "\n",
    "ta3 = ipywidgets.Textarea(\"Hi, this is a box of text. (3)\")\n",
    "\n",
    "ta4 = ipywidgets.Textarea(\"Hi, this is a box of text. (4)\")"
   ]
  },
  {
   "cell_type": "code",
   "execution_count": 37,
   "metadata": {},
   "outputs": [
    {
     "data": {
      "application/vnd.jupyter.widget-view+json": {
       "model_id": "008b856f12034e73b24027212811a61d",
       "version_major": 2,
       "version_minor": 0
      },
      "text/plain": [
       "Textarea(value=u'Hi, this is a box of text. (1)')"
      ]
     },
     "metadata": {},
     "output_type": "display_data"
    }
   ],
   "source": [
    "# first we'll just display the first one\n",
    "display(ta1)"
   ]
  },
  {
   "cell_type": "code",
   "execution_count": 38,
   "metadata": {},
   "outputs": [],
   "source": [
    "# we can organize these text boxes in a few ways\n",
    "#  one way is to use ipywidgets to display things\n",
    "#  in tabular form:\n",
    "tabs = ipywidgets.Tab([ta1, ta2, ta3, ta4])"
   ]
  },
  {
   "cell_type": "code",
   "execution_count": 39,
   "metadata": {},
   "outputs": [
    {
     "data": {
      "application/vnd.jupyter.widget-view+json": {
       "model_id": "7896a288d1a94756ae60beac6f2187f3",
       "version_major": 2,
       "version_minor": 0
      },
      "text/plain": [
       "VGFiKGNoaWxkcmVuPShUZXh0YXJlYSh2YWx1ZT11J0hpLCB0aGlzIGlzIGEgYm94IG9mIHRleHQuICgxKScpLCBUZXh0YXJlYSh2YWx1ZT11J0hpLCB0aGlzIGlzIGEgYm94IG9mIHRleHQuICjigKY=\n"
      ]
     },
     "metadata": {},
     "output_type": "display_data"
    }
   ],
   "source": [
    "display(tabs)"
   ]
  },
  {
   "cell_type": "code",
   "execution_count": 40,
   "metadata": {},
   "outputs": [],
   "source": [
    "# or we can \"accordian\" them:\n",
    "acc = ipywidgets.Accordion([ta1, ta2, ta3, ta4])"
   ]
  },
  {
   "cell_type": "code",
   "execution_count": 41,
   "metadata": {},
   "outputs": [
    {
     "data": {
      "application/vnd.jupyter.widget-view+json": {
       "model_id": "ef4739eafb764e24ac2dac5cf1da223e",
       "version_major": 2,
       "version_minor": 0
      },
      "text/plain": [
       "QWNjb3JkaW9uKGNoaWxkcmVuPShUZXh0YXJlYSh2YWx1ZT11J0hpLCB0aGlzIGlzIGEgYm94IG9mIHRleHQuICgxKScpLCBUZXh0YXJlYSh2YWx1ZT11J0hpLCB0aGlzIGlzIGEgYm94IG9mIHTigKY=\n"
      ]
     },
     "metadata": {},
     "output_type": "display_data"
    }
   ],
   "source": [
    "display(acc)"
   ]
  },
  {
   "cell_type": "code",
   "execution_count": 42,
   "metadata": {},
   "outputs": [
    {
     "data": {
      "application/vnd.jupyter.widget-view+json": {
       "model_id": "9e5a74c7ae5e400482973649f7bc39c0",
       "version_major": 2,
       "version_minor": 0
      },
      "text/plain": [
       "SEJveChjaGlsZHJlbj0oVGV4dGFyZWEodmFsdWU9dSdIaSwgdGhpcyBpcyBhIGJveCBvZiB0ZXh0LiAoMSknKSwgVGV4dGFyZWEodmFsdWU9dSdIaSwgdGhpcyBpcyBhIGJveCBvZiB0ZXh0LiDigKY=\n"
      ]
     },
     "metadata": {},
     "output_type": "display_data"
    }
   ],
   "source": [
    "# or we can organize them into horizontal boxes\n",
    "ipywidgets.HBox([ta1, ta2, ta3, ta4])\n",
    "# note this means a few of them are off screen so \n",
    "# this might not be the best option"
   ]
  },
  {
   "cell_type": "code",
   "execution_count": 43,
   "metadata": {},
   "outputs": [
    {
     "data": {
      "application/vnd.jupyter.widget-view+json": {
       "model_id": "09c28a419b874beab78b1af99a9c1cc7",
       "version_major": 2,
       "version_minor": 0
      },
      "text/plain": [
       "VkJveChjaGlsZHJlbj0oVGV4dGFyZWEodmFsdWU9dSdIaSwgdGhpcyBpcyBhIGJveCBvZiB0ZXh0LiAoMSknKSwgVGV4dGFyZWEodmFsdWU9dSdIaSwgdGhpcyBpcyBhIGJveCBvZiB0ZXh0LiDigKY=\n"
      ]
     },
     "metadata": {},
     "output_type": "display_data"
    }
   ],
   "source": [
    "# or we can organize them in a vertical manner\n",
    "ipywidgets.VBox([ta1, ta2, ta3, ta4])"
   ]
  },
  {
   "cell_type": "code",
   "execution_count": 44,
   "metadata": {},
   "outputs": [
    {
     "data": {
      "application/vnd.jupyter.widget-view+json": {
       "model_id": "647b7bf1030749558775c2aba85e1379",
       "version_major": 2,
       "version_minor": 0
      },
      "text/plain": [
       "VkJveChjaGlsZHJlbj0oSEJveChjaGlsZHJlbj0oVGV4dGFyZWEodmFsdWU9dSdIaSwgdGhpcyBpcyBhIGJveCBvZiB0ZXh0LiAoMSknKSwgVGV4dGFyZWEodmFsdWU9dSdIaSwgdGhpcyBpcyDigKY=\n"
      ]
     },
     "metadata": {},
     "output_type": "display_data"
    }
   ],
   "source": [
    "# or, if we want to be super fancy we \n",
    "# can organize them in a verticle box of \n",
    "# sets of horizontal boxes\n",
    "ipywidgets.VBox( [ipywidgets.HBox([ta1, ta2]),\n",
    "                  ipywidgets.HBox([ta3, ta4])] )"
   ]
  },
  {
   "cell_type": "code",
   "execution_count": 45,
   "metadata": {},
   "outputs": [
    {
     "data": {
      "application/vnd.jupyter.widget-view+json": {
       "model_id": "9212a4b3e0304024bbff72bbe704c132",
       "version_major": 2,
       "version_minor": 0
      },
      "text/plain": [
       "VkJveChjaGlsZHJlbj0oSEJveChjaGlsZHJlbj0oVGV4dGFyZWEodmFsdWU9dSdIaSwgdGhpcyBpcyBhIGJveCBvZiB0ZXh0LiAoMSknKSwgVGV4dGFyZWEodmFsdWU9dSdIaSwgdGhpcyBpcyDigKY=\n"
      ]
     },
     "metadata": {},
     "output_type": "display_data"
    }
   ],
   "source": [
    "# we can even insert a label in our array of \n",
    "# horizontal boxes and see how ipywidgets would\n",
    "#  place this text\n",
    "ipywidgets.VBox( [ipywidgets.HBox([ta1, ta2]),\n",
    "                  ipywidgets.Label(\"Hello there!\"),\n",
    "                  ipywidgets.HBox([ta3, ta4])] )"
   ]
  },
  {
   "cell_type": "markdown",
   "metadata": {},
   "source": [
    "* So, those were just some toy examples\n",
    "* Lets see how we can create something interactive with some of these tools that will update a variable based on the interactivity that we have built"
   ]
  },
  {
   "cell_type": "code",
   "execution_count": 46,
   "metadata": {},
   "outputs": [
    {
     "data": {
      "application/vnd.jupyter.widget-view+json": {
       "model_id": "7b1a3085d87e4e1eb0db06835b5317e5",
       "version_major": 2,
       "version_minor": 0
      },
      "text/plain": [
       "SEJveChjaGlsZHJlbj0oQnV0dG9uKGRlc2NyaXB0aW9uPXUnLTEwJywgc3R5bGU9QnV0dG9uU3R5bGUoKSksIEludFByb2dyZXNzKHZhbHVlPTApLCBCdXR0b24oZGVzY3JpcHRpb249dScrMTDigKY=\n"
      ]
     },
     "metadata": {},
     "output_type": "display_data"
    }
   ],
   "source": [
    "# lets start by making a progress bar again:\n",
    "ip = ipywidgets.IntProgress()\n",
    "# now, lets add in a button that will add 10\n",
    "button_plus = ipywidgets.Button(description = \"+10\")\n",
    "# and one that will subtract 10\n",
    "button_minus = ipywidgets.Button(description = \"-10\")\n",
    "\n",
    "# lets see how this looks in a horizontal box row:\n",
    "ipywidgets.HBox([button_minus, ip, button_plus])\n",
    "# we note if we click these, nothing happens\n",
    "#  this is because we haven't associated actions \n",
    "#  to our clicks"
   ]
  },
  {
   "cell_type": "code",
   "execution_count": 47,
   "metadata": {},
   "outputs": [
    {
     "data": {
      "text/plain": [
       "0"
      ]
     },
     "execution_count": 47,
     "metadata": {},
     "output_type": "execute_result"
    }
   ],
   "source": [
    "# so, no matter what we press, we don't see anything happening\n",
    "ip.value"
   ]
  },
  {
   "cell_type": "code",
   "execution_count": 48,
   "metadata": {},
   "outputs": [],
   "source": [
    "# so, lets now associate a change in the value of our\n",
    "# progress bar when we click the down button:\n",
    "def click_down(event):\n",
    "    ip.value -= 10\n",
    "    \n",
    "# and lets tie this change in value to \n",
    "# the click with the \"on_click\" function of our down button\n",
    "button_minus.on_click(click_down)"
   ]
  },
  {
   "cell_type": "code",
   "execution_count": 49,
   "metadata": {},
   "outputs": [],
   "source": [
    "# same type of thing, but for our up button\n",
    "def click_up(event):\n",
    "    ip.value += 10\n",
    "button_plus.on_click(click_up)"
   ]
  },
  {
   "cell_type": "code",
   "execution_count": 50,
   "metadata": {},
   "outputs": [
    {
     "data": {
      "application/vnd.jupyter.widget-view+json": {
       "model_id": "6107e824e1e04d46bba42564c857bca9",
       "version_major": 2,
       "version_minor": 0
      },
      "text/plain": [
       "SEJveChjaGlsZHJlbj0oQnV0dG9uKGRlc2NyaXB0aW9uPXUnLTEwJywgc3R5bGU9QnV0dG9uU3R5bGUoKSksIEludFByb2dyZXNzKHZhbHVlPTApLCBCdXR0b24oZGVzY3JpcHRpb249dScrMTDigKY=\n"
      ]
     },
     "metadata": {},
     "output_type": "display_data"
    }
   ],
   "source": [
    "# lets try this again:\n",
    "ipywidgets.HBox([button_minus, ip, button_plus])\n",
    "# note also again that these associations with \n",
    "# these up and down click functions are in a sense\n",
    "# \"back reactive\" - so now our previous instance of this \n",
    "# clicker and progress bar updates as well!"
   ]
  },
  {
   "cell_type": "markdown",
   "metadata": {},
   "source": [
    "* ok, lets make some more fun linking examples"
   ]
  },
  {
   "cell_type": "code",
   "execution_count": 51,
   "metadata": {},
   "outputs": [],
   "source": [
    "# lets first make a slider\n",
    "islider = ipywidgets.IntSlider(min = 0, max = 10, step = 1, orientation = 'vertical')"
   ]
  },
  {
   "cell_type": "code",
   "execution_count": 52,
   "metadata": {},
   "outputs": [],
   "source": [
    "# lets give this slider a base color that\n",
    "# is sort of purple-y, using a hex code\n",
    "islider.style.handle_color = \"#750075\""
   ]
  },
  {
   "cell_type": "code",
   "execution_count": 53,
   "metadata": {},
   "outputs": [
    {
     "data": {
      "application/vnd.jupyter.widget-view+json": {
       "model_id": "3ab54d09de8648cf92024d66cbf45ef1",
       "version_major": 2,
       "version_minor": 0
      },
      "text/plain": [
       "IntSlider(value=0, max=10, orientation=u'vertical', style=SliderStyle(handle_color='#750075'))"
      ]
     },
     "metadata": {},
     "output_type": "display_data"
    }
   ],
   "source": [
    "islider # note here (and above with our boxes) I'm not using \"display\"\n",
    "# note this slider slides up and down, \n",
    "# nothing too exciting"
   ]
  },
  {
   "cell_type": "code",
   "execution_count": 54,
   "metadata": {},
   "outputs": [
    {
     "data": {
      "application/vnd.jupyter.widget-view+json": {
       "model_id": "e6d31be431d14abc840e2e7019cd2842",
       "version_major": 2,
       "version_minor": 0
      },
      "text/plain": [
       "ColorPicker(value='black')"
      ]
     },
     "metadata": {},
     "output_type": "display_data"
    }
   ],
   "source": [
    "# lets create a new widget object called a color picker:\n",
    "cp = ipywidgets.ColorPicker()\n",
    "cp\n",
    "# when we show this we can click on the little\n",
    "# box and it popus up a color picker we can mess around with"
   ]
  },
  {
   "cell_type": "code",
   "execution_count": 55,
   "metadata": {},
   "outputs": [
    {
     "data": {
      "text/plain": [
       "<traitlets.traitlets.link at 0x109b60f90>"
      ]
     },
     "execution_count": 55,
     "metadata": {},
     "output_type": "execute_result"
    }
   ],
   "source": [
    "# now, lets link the slider and the color picker\n",
    "ipywidgets.link( (cp, 'value'), (islider.style, 'handle_color'))"
   ]
  },
  {
   "cell_type": "code",
   "execution_count": 56,
   "metadata": {},
   "outputs": [
    {
     "data": {
      "application/vnd.jupyter.widget-view+json": {
       "model_id": "18cac366c2d54c42b1b85514cb9b7691",
       "version_major": 2,
       "version_minor": 0
      },
      "text/plain": [
       "VkJveChjaGlsZHJlbj0oQ29sb3JQaWNrZXIodmFsdWU9J2JsYWNrJyksIEludFNsaWRlcih2YWx1ZT0wLCBtYXg9MTAsIG9yaWVudGF0aW9uPXUndmVydGljYWwnLCBzdHlsZT1TbGlkZXJTdHnigKY=\n"
      ]
     },
     "metadata": {},
     "output_type": "display_data"
    }
   ],
   "source": [
    "ipywidgets.VBox([cp, islider])\n",
    "# note how previous instances of these\n",
    "# objects are tied together\n",
    "#  also note how the .link function \n",
    "# sort of intuitievly knows how to link these \n",
    "#  two interactive widgets together"
   ]
  },
  {
   "cell_type": "code",
   "execution_count": 57,
   "metadata": {},
   "outputs": [
    {
     "data": {
      "application/vnd.jupyter.widget-view+json": {
       "model_id": "d1a57e181d074419aba509cf66f7ace3",
       "version_major": 2,
       "version_minor": 0
      },
      "text/plain": [
       "DatePicker(value=None)"
      ]
     },
     "metadata": {},
     "output_type": "display_data"
    }
   ],
   "source": [
    "# just a few more fun examples and then we'll move\n",
    "# on to bqplot\n",
    "\n",
    "# we can create a date picker:\n",
    "ipywidgets.DatePicker()"
   ]
  },
  {
   "cell_type": "code",
   "execution_count": 58,
   "metadata": {},
   "outputs": [
    {
     "data": {
      "application/vnd.jupyter.widget-view+json": {
       "model_id": "1cfd0aaf1fe541febda9c191790e37db",
       "version_major": 2,
       "version_minor": 0
      },
      "text/plain": [
       "Play(value=0)"
      ]
     },
     "metadata": {},
     "output_type": "display_data"
    }
   ],
   "source": [
    "# we can also make a widget that does allows\n",
    "#  us to \"press play\" or interact with \n",
    "# playable things like music or animation\n",
    "ipywidgets.Play()\n",
    "# of course, we haven't linked any functions to \n",
    "# it now, but lets try that"
   ]
  },
  {
   "cell_type": "code",
   "execution_count": 59,
   "metadata": {
    "scrolled": true
   },
   "outputs": [
    {
     "data": {
      "application/vnd.jupyter.widget-view+json": {
       "model_id": "5537d32e3b274a498b0c80ac742a6fa1",
       "version_major": 2,
       "version_minor": 0
      },
      "text/plain": [
       "HBox(children=(Play(value=50, description=u'Press Play', interval=50, min=1), IntSlider(value=50, min=1)))"
      ]
     },
     "metadata": {},
     "output_type": "display_data"
    }
   ],
   "source": [
    "# as a quick example, lets link an integer slider to \n",
    "# our play button\n",
    "\n",
    "# first, lets define the range of our play button\n",
    "play = ipywidgets.Play(interval = 50, value = 50, min = 1, max = 100, step = 1, description = \"Press Play\")\n",
    "# so, we start at 50, and create min and max value around that\n",
    "\n",
    "# now, lets create our slider\n",
    "slider = ipywidgets.IntSlider()\n",
    "\n",
    "# now, lets associate the min and max of the play interval\n",
    "#  with the min and max of the integer slider\n",
    "ipywidgets.link((play, 'min'), (slider, 'min'))\n",
    "ipywidgets.link((play, 'max'), (slider, 'max'))\n",
    "ipywidgets.link((play, 'value'), (slider, 'value'))\n",
    "# note that we don't have to tell the .link function\n",
    "# how to link these objects - it knows intuatively\n",
    "# how to link the play widget min & max to the \n",
    "# slider min and max\n",
    "\n",
    "# lets display them side by side\n",
    "ipywidgets.HBox([play, slider])"
   ]
  },
  {
   "cell_type": "code",
   "execution_count": 60,
   "metadata": {},
   "outputs": [
    {
     "data": {
      "application/vnd.jupyter.widget-view+json": {
       "model_id": "85e8923eb9f64d9d96670cbfa242fd4c",
       "version_major": 2,
       "version_minor": 0
      },
      "text/plain": [
       "IntSlider(value=50, min=1)"
      ]
     },
     "metadata": {},
     "output_type": "display_data"
    }
   ],
   "source": [
    "# note if we display the slider on its own,\n",
    "# its still linked to the play button above\n",
    "slider"
   ]
  },
  {
   "cell_type": "markdown",
   "metadata": {},
   "source": [
    "### Take aways\n",
    "* so, we went through some toy examples for how we can link widgets together\n",
    "* these may have seemed like some silly examples, but these basic ideas are used to build up higher-level interactivity packages like bqplot that we are going to use now"
   ]
  },
  {
   "cell_type": "markdown",
   "metadata": {},
   "source": [
    "# Activity #3: Bqplot!"
   ]
  },
  {
   "cell_type": "code",
   "execution_count": 61,
   "metadata": {},
   "outputs": [],
   "source": [
    "# note: it is possible you will have to pip-install this or anaconda install this\n",
    "#  also: you might have to close and reopen this notebook if when we get to \n",
    "# \"display\" below, no figure pops up\n",
    "\n",
    "# hopefully, you won't have to restart jupyter but maybe\n",
    "\n",
    "import bqplot\n",
    "import numpy as np"
   ]
  },
  {
   "cell_type": "markdown",
   "metadata": {},
   "source": [
    "Now we are going to mess around with some of the declaritive programming type options that bqplot can use.  This will rely heavily on the \"Grammar of Graphics\" constructs."
   ]
  },
  {
   "cell_type": "code",
   "execution_count": 62,
   "metadata": {},
   "outputs": [],
   "source": [
    "# lets first start by creating data elements for our graphic\n",
    "# just some random numbers:\n",
    "x = np.arange(100)\n",
    "y = np.random.random(100) + 5"
   ]
  },
  {
   "cell_type": "code",
   "execution_count": 63,
   "metadata": {},
   "outputs": [],
   "source": [
    "# now we'll define some scale objects which will\n",
    "# determine how lines will be drawn on our canvas\n",
    "x_sc = bqplot.LinearScale()\n",
    "y_sc = bqplot.LinearScale()"
   ]
  },
  {
   "cell_type": "code",
   "execution_count": 64,
   "metadata": {},
   "outputs": [],
   "source": [
    "# now we are going to use GoG type calls to\n",
    "# define what lines to actually draw combining\n",
    "# information about our data and our scales\n",
    "lines = bqplot.Lines(x = x, y = y, scales = {'x': x_sc, 'y': y_sc})"
   ]
  },
  {
   "cell_type": "code",
   "execution_count": 65,
   "metadata": {},
   "outputs": [],
   "source": [
    "# now, we are going to define what axis we want placed around\n",
    "# the lines that we draw\n",
    "# we'll draw both x & y axis\n",
    "ax_x = bqplot.Axis(scale = x_sc, label = 'X Value')\n",
    "ax_y = bqplot.Axis(scale = y_sc, label = 'Y Value', orientation = 'vertical')"
   ]
  },
  {
   "cell_type": "code",
   "execution_count": 66,
   "metadata": {},
   "outputs": [
    {
     "data": {
      "application/vnd.jupyter.widget-view+json": {
       "model_id": "51bd7809274644598a56c81060d16c2f",
       "version_major": 2,
       "version_minor": 0
      },
      "text/plain": [
       "RmlndXJlKGF4ZXM9W0F4aXMobGFiZWw9dSdYIFZhbHVlJywgc2NhbGU9TGluZWFyU2NhbGUoKSksIEF4aXMobGFiZWw9dSdZIFZhbHVlJywgb3JpZW50YXRpb249J3ZlcnRpY2FsJywgc2NhbGXigKY=\n"
      ]
     },
     "metadata": {},
     "output_type": "display_data"
    }
   ],
   "source": [
    "# finally, we combine all these things together into a \n",
    "# bonified figure:\n",
    "fig = bqplot.Figure(marks = [lines], axes = [ax_x, ax_y])\n",
    "#display(fig)\n",
    "# if you don't see the following fig, here is where\n",
    "#  you might have to close and reopen your notebook\n",
    "fig # note: just \"fig\" instead of \"display(fig)\" may also be an option for you"
   ]
  },
  {
   "cell_type": "code",
   "execution_count": 67,
   "metadata": {},
   "outputs": [],
   "source": [
    "# ok, but this isn't interactive in anyway\n",
    "# lets make it!!\n",
    "pz = bqplot.interacts.PanZoom( scales = {'x': [x_sc], 'y': [y_sc]})"
   ]
  },
  {
   "cell_type": "code",
   "execution_count": 68,
   "metadata": {},
   "outputs": [
    {
     "data": {
      "application/vnd.jupyter.widget-view+json": {
       "model_id": "cc499f00da5b495cb00feeb8156ffb03",
       "version_major": 2,
       "version_minor": 0
      },
      "text/plain": [
       "RmlndXJlKGF4ZXM9W0F4aXMobGFiZWw9dSdYIFZhbHVlJywgc2NhbGU9TGluZWFyU2NhbGUoKSksIEF4aXMobGFiZWw9dSdZIFZhbHVlJywgb3JpZW50YXRpb249J3ZlcnRpY2FsJywgc2NhbGXigKY=\n"
      ]
     },
     "metadata": {},
     "output_type": "display_data"
    }
   ],
   "source": [
    "fig = bqplot.Figure(marks = [lines], axes = [ax_x, ax_y], interaction = pz)\n",
    "display(fig)\n",
    "# note that if I pan and zoom, the figure updates. Ooooo. fancy\n",
    "#  note also, that the above figure also reacts as well\n",
    "# this is because we are using the same lines & ax's objects (I think)"
   ]
  },
  {
   "cell_type": "code",
   "execution_count": 69,
   "metadata": {},
   "outputs": [],
   "source": [
    "# lets see an example of where this can fail\n",
    "\n",
    "# first lets make an x from 0-10 in 100 steps\n",
    "x = np.mgrid[0.0:10.0:100j]\n",
    "# and 2 y variables\n",
    "y1 = x * 2\n",
    "y2 = x**2"
   ]
  },
  {
   "cell_type": "code",
   "execution_count": 70,
   "metadata": {},
   "outputs": [],
   "source": [
    "x_sc = bqplot.LinearScale(min = 1, max = 10)\n",
    "# lets do one y-scale over linear and 1 over log\n",
    "y_sc1 = bqplot.LinearScale(min = 1, max = 20)\n",
    "y_sc2 = bqplot.LogScale(min = 1, max = 100)"
   ]
  },
  {
   "cell_type": "code",
   "execution_count": 71,
   "metadata": {},
   "outputs": [],
   "source": [
    "# lets genrate lines for each y value\n",
    "lines1 = bqplot.Lines(x = x, y = y1, scales = {'x': x_sc, 'y': y_sc1})\n",
    "lines2 = bqplot.Lines(x = x, y = y2, scales = {'x': x_sc, 'y': y_sc2})"
   ]
  },
  {
   "cell_type": "code",
   "execution_count": 72,
   "metadata": {},
   "outputs": [],
   "source": [
    "# and lets plot an x axis like before\n",
    "ax_x = bqplot.Axis(scale = x_sc, label = 'X Value')\n",
    "# and one y axis on the left\n",
    "ax_y1 = bqplot.Axis(scale = y_sc1, label = 'Y1 Value', \n",
    "                    orientation = 'vertical')\n",
    "# and one y-axis on the right\n",
    "ax_y2 = bqplot.Axis(scale = y_sc2, label = 'Y2 Value', \n",
    "                    orientation = 'vertical', side = 'right')"
   ]
  },
  {
   "cell_type": "code",
   "execution_count": 73,
   "metadata": {},
   "outputs": [
    {
     "data": {
      "application/vnd.jupyter.widget-view+json": {
       "model_id": "dc2603226edd4753ab88739308d950e1",
       "version_major": 2,
       "version_minor": 0
      },
      "text/plain": [
       "RmlndXJlKGF4ZXM9W0F4aXMobGFiZWw9dSdYIFZhbHVlJywgc2NhbGU9TGluZWFyU2NhbGUobWF4PTEwLjAsIG1pbj0xLjApKSwgQXhpcyhsYWJlbD11J1kxIFZhbHVlJywgb3JpZW50YXRpb27igKY=\n"
      ]
     },
     "metadata": {},
     "output_type": "display_data"
    }
   ],
   "source": [
    "# lets allow pan and zoom\n",
    "pz = bqplot.interacts.PanZoom(scales = {'x': [x_sc], \n",
    "                                        'y': [y_sc1, y_sc2]})\n",
    "#bqplot.interacts.PanZoom?\n",
    "fig = bqplot.Figure(marks = [lines1, lines2], \n",
    "                    axes = [ax_x, ax_y1, ax_y2], interaction=pz)\n",
    "#display(fig)\n",
    "fig\n",
    "# now we note if we zoom out too far, or pan to too negative of the x-axis\n",
    "# we lose a line\n",
    "\n",
    "# why? because the line is log-scaled, and log(numbers < 0) is undefined\n",
    "\n",
    "# this is a way in which declaritive programming can fail because there\n",
    "#  aren't obvious options to inhibit pan&zoom to a positive range"
   ]
  },
  {
   "cell_type": "markdown",
   "metadata": {},
   "source": [
    "FYI lots of more fun notebooks here: https://github.com/dmadeka/PyGotham-2017\n",
    "\n",
    "From video tutorial here: https://www.youtube.com/watch?v=rraXF0EjRC8"
   ]
  },
  {
   "cell_type": "code",
   "execution_count": 74,
   "metadata": {},
   "outputs": [],
   "source": [
    "# ok, lets do another quick interactive example using a scatter plot\n",
    "x = np.random.random(100)\n",
    "y = np.random.random(100)"
   ]
  },
  {
   "cell_type": "code",
   "execution_count": 75,
   "metadata": {},
   "outputs": [],
   "source": [
    "x_sc = bqplot.LinearScale()\n",
    "y_sc = bqplot.LinearScale()\n",
    "\n",
    "x_ax = bqplot.Axis(scale = x_sc, label = 'X')\n",
    "y_ax = bqplot.Axis(scale = y_sc, label = 'Y', orientation = 'vertical')"
   ]
  },
  {
   "cell_type": "code",
   "execution_count": 76,
   "metadata": {},
   "outputs": [],
   "source": [
    "scatters = bqplot.Scatter(x = x,\n",
    "                          y = y,\n",
    "                          scales = {'x': x_sc, 'y': y_sc})"
   ]
  },
  {
   "cell_type": "code",
   "execution_count": 77,
   "metadata": {},
   "outputs": [
    {
     "data": {
      "application/vnd.jupyter.widget-view+json": {
       "model_id": "24851b63fa9146d093616ce6c737b3d0",
       "version_major": 2,
       "version_minor": 0
      },
      "text/plain": [
       "RmlndXJlKGF4ZXM9W0F4aXMobGFiZWw9dSdYJywgc2NhbGU9TGluZWFyU2NhbGUoKSksIEF4aXMobGFiZWw9dSdZJywgb3JpZW50YXRpb249J3ZlcnRpY2FsJywgc2NhbGU9TGluZWFyU2NhbGXigKY=\n"
      ]
     },
     "metadata": {},
     "output_type": "display_data"
    }
   ],
   "source": [
    "# now, lets create a selector to select points along the x-axis\n",
    "selector = bqplot.interacts.FastIntervalSelector(\n",
    "            scale = x_sc, marks = [scatters]) \n",
    "# we can also highlight what points we are selecting\n",
    "scatters.unselected_style={'opacity': 0.8}\n",
    "scatters.selected_style={'fill': 'red', 'stroke': 'yellow'}\n",
    "# note we are selecing along the x-scale\n",
    "fig = bqplot.Figure(marks = [scatters], axes = [x_ax, y_ax], interaction = selector)\n",
    "display(fig)\n",
    "# this might depend on what computer you are in, but on my mac, I click\n",
    "#  to start selecting and then double click to \"lock in\" my selected\n",
    "# region"
   ]
  },
  {
   "cell_type": "code",
   "execution_count": 78,
   "metadata": {},
   "outputs": [],
   "source": [
    "# we can then print out what region is selected\n",
    "selector.selected"
   ]
  },
  {
   "cell_type": "code",
   "execution_count": null,
   "metadata": {},
   "outputs": [],
   "source": []
  },
  {
   "cell_type": "code",
   "execution_count": 79,
   "metadata": {},
   "outputs": [],
   "source": [
    "# now, lets try some interactive histogramming of our buildings data\n",
    "import pandas as pd\n",
    "buildings = pd.read_csv(\"/Users/jnaiman/Downloads/building_inventory.csv\",\n",
    "                        na_values = {'Year Acquired': 0, \n",
    "                                     'Year Constructed': 0, \n",
    "                                     'Square Footage': 0})"
   ]
  },
  {
   "cell_type": "code",
   "execution_count": 80,
   "metadata": {},
   "outputs": [
    {
     "data": {
      "application/vnd.jupyter.widget-view+json": {
       "model_id": "3580255a76f0414c95bd73a3add4fa52",
       "version_major": 2,
       "version_minor": 0
      },
      "text/plain": [
       "VkJveChjaGlsZHJlbj0oRmlndXJlKGF4ZXM9W0F4aXMoc2NhbGU9TGluZWFyU2NhbGUoKSksIEF4aXMob3JpZW50YXRpb249J3ZlcnRpY2FsJywgc2NhbGU9TGluZWFyU2NhbGUoKSldLCBmaWfigKY=\n"
      ]
     },
     "metadata": {},
     "output_type": "display_data"
    }
   ],
   "source": [
    "# since buildings is our data, we don't have to do anything\n",
    "#  with that, but we do need to create our scales and \n",
    "# axes like we've been doing before:\n",
    "# (1)\n",
    "x_sc = bqplot.LinearScale()\n",
    "y_sc = bqplot.LinearScale()\n",
    "x_ax = bqplot.Axis(scale = x_sc)\n",
    "y_ax = bqplot.Axis(scale = y_sc, orientation = 'vertical')\n",
    "\n",
    "# (2) now, lets do an interactive rebinning, but lets\n",
    "# use bqplot and a slider widget to do it\n",
    "hist = bqplot.Hist(sample = buildings[\"Year Acquired\"],\n",
    "            scales = {'sample': x_sc, 'count': y_sc},\n",
    "                   bins = 128, normalized = True,\n",
    "                   colors = [\"#FFFFFF\"])\n",
    "\n",
    "# lets also create a slider like we've done before\n",
    "islider = ipywidgets.IntSlider(min = 8, max = 128, step = 1)\n",
    "# and lets link our sider and our bins of our histogram\n",
    "ipywidgets.link((islider, 'value'), (hist, 'bins'))\n",
    "# construct a fig\n",
    "#fig = bqplot.Figure(marks = [hist], axes = [x_ax, y_ax])\n",
    "# ***RUN NEXT CELL BEFORE ADDING 2ND HIST\n",
    "\n",
    "# (3) ok, but maybe we want to see our original histogram\n",
    "#  underneath, lets add this to our figure\n",
    "hist2 = bqplot.Hist(sample = buildings[\"Year Acquired\"],\n",
    "                   opacity = 0.1, normalized = True,\n",
    "            scales = {'sample': x_sc, 'count': y_sc},\n",
    "                  bins = 128)\n",
    "fig = bqplot.Figure(marks = [hist, hist2], axes = [x_ax, y_ax])\n",
    "\n",
    "# for 2 & 3\n",
    "#display(ipywidgets.VBox([fig, islider]))\n",
    "ipywidgets.VBox([fig, islider])"
   ]
  },
  {
   "cell_type": "markdown",
   "metadata": {},
   "source": [
    "# Activity #4: Wealth of Nations plot\n",
    "* originially from the TedTalk: https://www.ted.com/talks/hans_rosling_shows_the_best_stats_you_ve_ever_seen\n",
    "* found on Rosling's website: https://www.ted.com/talks/hans_rosling_shows_the_best_stats_you_ve_ever_seen\n",
    "* We're going to make a tool similar to GapMinders:https://www.gapminder.org/world/\n",
    "* Much of this is, in more detail, in the PyGothum-2017 github: https://github.com/dmadeka/PyGotham-2017 \n",
    "* This will talk to javascript on the backend to mimic the output of another plotting package d3.js, but we don't have to learn about d3.js (just now) and can instead rely on our current Python knowledge"
   ]
  },
  {
   "cell_type": "code",
   "execution_count": 81,
   "metadata": {},
   "outputs": [],
   "source": [
    "# import pandas if we have not\n",
    "import pandas as pd\n",
    "\n",
    "# lets start off our plot at the initial year of 1800\n",
    "initial_year = 1800"
   ]
  },
  {
   "cell_type": "code",
   "execution_count": 82,
   "metadata": {},
   "outputs": [
    {
     "data": {
      "text/html": [
       "<div>\n",
       "<style scoped>\n",
       "    .dataframe tbody tr th:only-of-type {\n",
       "        vertical-align: middle;\n",
       "    }\n",
       "\n",
       "    .dataframe tbody tr th {\n",
       "        vertical-align: top;\n",
       "    }\n",
       "\n",
       "    .dataframe thead th {\n",
       "        text-align: right;\n",
       "    }\n",
       "</style>\n",
       "<table border=\"1\" class=\"dataframe\">\n",
       "  <thead>\n",
       "    <tr style=\"text-align: right;\">\n",
       "      <th></th>\n",
       "      <th>income</th>\n",
       "      <th>lifeExpectancy</th>\n",
       "      <th>name</th>\n",
       "      <th>population</th>\n",
       "      <th>region</th>\n",
       "    </tr>\n",
       "  </thead>\n",
       "  <tbody>\n",
       "    <tr>\n",
       "      <th>0</th>\n",
       "      <td>[359.93, 359.93, 359.93, 359.93, 359.93, 359.9...</td>\n",
       "      <td>[26.98, 26.98, 26.98, 26.98, 26.98, 26.98, 26....</td>\n",
       "      <td>Angola</td>\n",
       "      <td>[1567028.0, 1567028.0, 1567028.0, 1567028.0, 1...</td>\n",
       "      <td>Sub-Saharan Africa</td>\n",
       "    </tr>\n",
       "    <tr>\n",
       "      <th>1</th>\n",
       "      <td>[553.72, 553.72, 553.72, 553.72, 553.72, 553.7...</td>\n",
       "      <td>[31.0, 31.0, 31.0, 31.0, 31.0, 31.0, 31.0, 31....</td>\n",
       "      <td>Benin</td>\n",
       "      <td>[636559.0, 636559.0, 636559.0, 636559.0, 63655...</td>\n",
       "      <td>Sub-Saharan Africa</td>\n",
       "    </tr>\n",
       "    <tr>\n",
       "      <th>2</th>\n",
       "      <td>[407.36, 407.36, 407.36, 407.36, 407.36, 407.3...</td>\n",
       "      <td>[33.6, 33.6, 33.6, 33.6, 33.6, 33.6, 33.6, 33....</td>\n",
       "      <td>Botswana</td>\n",
       "      <td>[121000.0, 121000.0, 121000.0, 121000.0, 12100...</td>\n",
       "      <td>Sub-Saharan Africa</td>\n",
       "    </tr>\n",
       "    <tr>\n",
       "      <th>3</th>\n",
       "      <td>[454.33, 454.33, 454.33, 454.33, 454.33, 454.3...</td>\n",
       "      <td>[29.2, 29.2, 29.2, 29.2, 29.2, 29.2, 29.2, 29....</td>\n",
       "      <td>Burkina Faso</td>\n",
       "      <td>[1665421.0, 1665421.0, 1665421.0, 1665421.0, 1...</td>\n",
       "      <td>Sub-Saharan Africa</td>\n",
       "    </tr>\n",
       "    <tr>\n",
       "      <th>4</th>\n",
       "      <td>[447.59, 447.59, 447.59, 447.59, 447.59, 447.5...</td>\n",
       "      <td>[31.5, 31.5, 31.5, 31.5, 31.5, 31.5, 31.5, 31....</td>\n",
       "      <td>Burundi</td>\n",
       "      <td>[899097.0, 899097.0, 899097.0, 899097.0, 89909...</td>\n",
       "      <td>Sub-Saharan Africa</td>\n",
       "    </tr>\n",
       "    <tr>\n",
       "      <th>5</th>\n",
       "      <td>[517.46, 517.46, 517.46, 517.46, 517.46, 517.4...</td>\n",
       "      <td>[28.75, 28.75, 28.75, 28.75, 28.75, 28.75, 28....</td>\n",
       "      <td>Cameroon</td>\n",
       "      <td>[1860054.0, 1860054.0, 1860054.0, 1860054.0, 1...</td>\n",
       "      <td>Sub-Saharan Africa</td>\n",
       "    </tr>\n",
       "    <tr>\n",
       "      <th>6</th>\n",
       "      <td>[340.0, 340.0, 340.0, 340.0, 340.0, 340.0, 340...</td>\n",
       "      <td>[33.8, 33.8, 33.8, 33.8, 33.8, 33.8, 33.8, 33....</td>\n",
       "      <td>Cape Verde</td>\n",
       "      <td>[55716.0, 55716.0, 55716.0, 55716.0, 55716.0, ...</td>\n",
       "      <td>Sub-Saharan Africa</td>\n",
       "    </tr>\n",
       "    <tr>\n",
       "      <th>7</th>\n",
       "      <td>[400.69, 400.69, 400.69, 400.69, 400.69, 400.6...</td>\n",
       "      <td>[30.9, 30.9, 30.9, 30.9, 30.9, 30.9, 30.9, 30....</td>\n",
       "      <td>Chad</td>\n",
       "      <td>[1432000.0, 1432000.0, 1432000.0, 1432000.0, 1...</td>\n",
       "      <td>Sub-Saharan Africa</td>\n",
       "    </tr>\n",
       "    <tr>\n",
       "      <th>8</th>\n",
       "      <td>[800.61, 800.61, 800.61, 800.61, 800.61, 800.6...</td>\n",
       "      <td>[32.1, 32.1, 32.1, 32.1, 32.1, 32.1, 32.1, 32....</td>\n",
       "      <td>Comoros</td>\n",
       "      <td>[56346.0, 56346.0, 56346.0, 56346.0, 56346.0, ...</td>\n",
       "      <td>Sub-Saharan Africa</td>\n",
       "    </tr>\n",
       "    <tr>\n",
       "      <th>9</th>\n",
       "      <td>[394.03, 394.03, 394.03, 394.03, 394.03, 394.0...</td>\n",
       "      <td>[31.6, 31.6, 31.6, 31.6, 31.6, 31.6, 31.6, 31....</td>\n",
       "      <td>Congo, Dem. Rep.</td>\n",
       "      <td>[5163819.0, 5163819.0, 5163819.0, 5163819.0, 5...</td>\n",
       "      <td>Sub-Saharan Africa</td>\n",
       "    </tr>\n",
       "    <tr>\n",
       "      <th>10</th>\n",
       "      <td>[387.38, 387.38, 387.38, 387.38, 387.38, 387.3...</td>\n",
       "      <td>[32.7, 32.7, 32.7, 32.7, 32.7, 32.7, 32.7, 32....</td>\n",
       "      <td>Congo, Rep.</td>\n",
       "      <td>[314465.0, 314465.0, 314465.0, 314465.0, 31446...</td>\n",
       "      <td>Sub-Saharan Africa</td>\n",
       "    </tr>\n",
       "    <tr>\n",
       "      <th>11</th>\n",
       "      <td>[549.19, 549.19, 549.19, 549.19, 549.19, 549.1...</td>\n",
       "      <td>[31.9, 31.9, 31.9, 31.9, 31.9, 31.9, 31.9, 31....</td>\n",
       "      <td>Cote d'Ivoire</td>\n",
       "      <td>[1088530.0, 1088530.0, 1088530.0, 1088530.0, 1...</td>\n",
       "      <td>Sub-Saharan Africa</td>\n",
       "    </tr>\n",
       "    <tr>\n",
       "      <th>12</th>\n",
       "      <td>[379.13, 379.13, 379.13, 379.13, 379.13, 379.1...</td>\n",
       "      <td>[29.8, 29.8, 29.8, 29.8, 29.8, 29.8, 29.8, 29....</td>\n",
       "      <td>Equatorial Guinea</td>\n",
       "      <td>[80377.0, 80377.0, 80377.0, 80377.0, 80377.0, ...</td>\n",
       "      <td>Sub-Saharan Africa</td>\n",
       "    </tr>\n",
       "    <tr>\n",
       "      <th>13</th>\n",
       "      <td>[583.95, 583.95, 583.95, 583.95, 583.95, 583.9...</td>\n",
       "      <td>[30.2, 30.2, 30.2, 30.2, 30.2, 30.2, 30.2, 30....</td>\n",
       "      <td>Eritrea</td>\n",
       "      <td>[205010.0, 205010.0, 205010.0, 205010.0, 20501...</td>\n",
       "      <td>Sub-Saharan Africa</td>\n",
       "    </tr>\n",
       "    <tr>\n",
       "      <th>14</th>\n",
       "      <td>[619.21, 619.21, 619.21, 619.21, 619.21, 619.2...</td>\n",
       "      <td>[29.7, 29.7, 29.7, 29.7, 29.7, 29.7, 29.7, 29....</td>\n",
       "      <td>Ethiopia</td>\n",
       "      <td>[2948990.0, 2948990.0, 2948990.0, 2948990.0, 2...</td>\n",
       "      <td>Sub-Saharan Africa</td>\n",
       "    </tr>\n",
       "    <tr>\n",
       "      <th>15</th>\n",
       "      <td>[377.54, 377.54, 377.54, 377.54, 377.54, 377.5...</td>\n",
       "      <td>[30.6, 30.6, 30.6, 30.6, 30.6, 30.6, 30.6, 30....</td>\n",
       "      <td>Gabon</td>\n",
       "      <td>[158227.0, 158227.0, 158227.0, 158227.0, 15822...</td>\n",
       "      <td>Sub-Saharan Africa</td>\n",
       "    </tr>\n",
       "    <tr>\n",
       "      <th>16</th>\n",
       "      <td>[505.14, 505.14, 505.14, 505.14, 505.14, 505.1...</td>\n",
       "      <td>[28.0, 28.0, 28.0, 28.0, 28.0, 28.0, 28.0, 28....</td>\n",
       "      <td>Ghana</td>\n",
       "      <td>[2016034.0, 2016034.0, 2016034.0, 2016034.0, 2...</td>\n",
       "      <td>Sub-Saharan Africa</td>\n",
       "    </tr>\n",
       "    <tr>\n",
       "      <th>17</th>\n",
       "      <td>[375.96, 375.96, 375.96, 375.96, 375.96, 375.9...</td>\n",
       "      <td>[29.5, 29.5, 29.5, 29.5, 29.5, 29.5, 29.5, 29....</td>\n",
       "      <td>Guinea</td>\n",
       "      <td>[983959.0, 983959.0, 983959.0, 983959.0, 98395...</td>\n",
       "      <td>Sub-Saharan Africa</td>\n",
       "    </tr>\n",
       "    <tr>\n",
       "      <th>18</th>\n",
       "      <td>[345.0, 345.0, 345.0, 345.0, 345.0, 345.0, 345...</td>\n",
       "      <td>[29.3, 29.3, 29.3, 29.3, 29.3, 29.3, 29.3, 29....</td>\n",
       "      <td>Guinea-Bissau</td>\n",
       "      <td>[218167.0, 218167.0, 218167.0, 218167.0, 21816...</td>\n",
       "      <td>Sub-Saharan Africa</td>\n",
       "    </tr>\n",
       "    <tr>\n",
       "      <th>19</th>\n",
       "      <td>[512.93, 512.93, 512.93, 512.93, 512.93, 512.9...</td>\n",
       "      <td>[25.5, 25.5, 25.5, 25.5, 25.5, 25.5, 25.5, 25....</td>\n",
       "      <td>Kenya</td>\n",
       "      <td>[2574000.0, 2574000.0, 2574000.0, 2574000.0, 2...</td>\n",
       "      <td>Sub-Saharan Africa</td>\n",
       "    </tr>\n",
       "    <tr>\n",
       "      <th>20</th>\n",
       "      <td>[364.0, 364.0, 364.0, 364.0, 364.0, 364.0, 364...</td>\n",
       "      <td>[32.8, 32.8, 32.8, 32.8, 32.8, 32.8, 32.8, 32....</td>\n",
       "      <td>Lesotho</td>\n",
       "      <td>[276361.0, 276361.0, 276361.0, 276361.0, 27636...</td>\n",
       "      <td>Sub-Saharan Africa</td>\n",
       "    </tr>\n",
       "    <tr>\n",
       "      <th>21</th>\n",
       "      <td>[544.65, 544.65, 544.65, 544.65, 544.65, 544.6...</td>\n",
       "      <td>[31.1, 31.1, 31.1, 31.1, 31.1, 31.1, 31.1, 31....</td>\n",
       "      <td>Liberia</td>\n",
       "      <td>[313543.0, 313543.0, 313543.0, 313543.0, 31354...</td>\n",
       "      <td>Sub-Saharan Africa</td>\n",
       "    </tr>\n",
       "    <tr>\n",
       "      <th>22</th>\n",
       "      <td>[434.14, 434.14, 434.14, 434.14, 434.14, 434.1...</td>\n",
       "      <td>[30.5, 30.5, 30.5, 30.5, 30.5, 30.5, 30.5, 30....</td>\n",
       "      <td>Madagascar</td>\n",
       "      <td>[1683000.0, 1683000.0, 1683000.0, 1683000.0, 1...</td>\n",
       "      <td>Sub-Saharan Africa</td>\n",
       "    </tr>\n",
       "    <tr>\n",
       "      <th>23</th>\n",
       "      <td>[360.0, 360.0, 360.0, 360.0, 360.0, 360.0, 360...</td>\n",
       "      <td>[30.3, 30.3, 30.3, 30.3, 30.3, 30.3, 30.3, 30....</td>\n",
       "      <td>Malawi</td>\n",
       "      <td>[737000.0, 737000.0, 737000.0, 737000.0, 73700...</td>\n",
       "      <td>Sub-Saharan Africa</td>\n",
       "    </tr>\n",
       "    <tr>\n",
       "      <th>24</th>\n",
       "      <td>[427.43, 427.43, 427.43, 427.43, 427.43, 427.4...</td>\n",
       "      <td>[29.6, 29.6, 29.6, 29.6, 29.6, 29.6, 29.6, 29....</td>\n",
       "      <td>Mali</td>\n",
       "      <td>[1403398.0, 1403398.0, 1403398.0, 1403398.0, 1...</td>\n",
       "      <td>Sub-Saharan Africa</td>\n",
       "    </tr>\n",
       "    <tr>\n",
       "      <th>25</th>\n",
       "      <td>[374.38, 374.38, 374.38, 374.38, 374.38, 374.3...</td>\n",
       "      <td>[32.0, 32.0, 32.0, 32.0, 32.0, 32.0, 32.0, 32....</td>\n",
       "      <td>Mauritania</td>\n",
       "      <td>[382696.0, 382696.0, 382696.0, 382696.0, 38269...</td>\n",
       "      <td>Sub-Saharan Africa</td>\n",
       "    </tr>\n",
       "    <tr>\n",
       "      <th>26</th>\n",
       "      <td>[799.61, 799.61, 799.61, 799.61, 799.61, 799.6...</td>\n",
       "      <td>[31.2, 31.20016129032258, 31.20032258064516, 3...</td>\n",
       "      <td>Mauritius</td>\n",
       "      <td>[181000.0, 181000.0, 181000.0, 181000.0, 18100...</td>\n",
       "      <td>Sub-Saharan Africa</td>\n",
       "    </tr>\n",
       "    <tr>\n",
       "      <th>28</th>\n",
       "      <td>[358.0, 358.0, 358.0, 358.0, 358.0, 358.0, 358...</td>\n",
       "      <td>[30.28, 30.28, 30.28, 30.28, 30.28, 30.28, 30....</td>\n",
       "      <td>Mozambique</td>\n",
       "      <td>[2096000.0, 2096000.0, 2096000.0, 2096000.0, 2...</td>\n",
       "      <td>Sub-Saharan Africa</td>\n",
       "    </tr>\n",
       "    <tr>\n",
       "      <th>29</th>\n",
       "      <td>[350.0, 350.0, 350.0, 350.0, 350.0, 350.0, 350...</td>\n",
       "      <td>[32.4, 32.4, 32.4, 32.4, 32.4, 32.4, 32.4, 32....</td>\n",
       "      <td>Namibia</td>\n",
       "      <td>[229000.0, 229000.0, 229000.0, 229000.0, 22900...</td>\n",
       "      <td>Sub-Saharan Africa</td>\n",
       "    </tr>\n",
       "    <tr>\n",
       "      <th>30</th>\n",
       "      <td>[371.26, 371.26, 371.26, 371.26, 371.26, 371.2...</td>\n",
       "      <td>[30.8, 30.8, 30.8, 30.8, 30.8, 30.8, 30.8, 30....</td>\n",
       "      <td>Niger</td>\n",
       "      <td>[1244861.0, 1244861.0, 1244861.0, 1244861.0, 1...</td>\n",
       "      <td>Sub-Saharan Africa</td>\n",
       "    </tr>\n",
       "    <tr>\n",
       "      <th>...</th>\n",
       "      <td>...</td>\n",
       "      <td>...</td>\n",
       "      <td>...</td>\n",
       "      <td>...</td>\n",
       "      <td>...</td>\n",
       "    </tr>\n",
       "    <tr>\n",
       "      <th>149</th>\n",
       "      <td>[346.43, 346.7945, 347.159, 347.5235, 347.8880...</td>\n",
       "      <td>[54.96, 54.96, 54.96, 54.96, 54.96, 54.96, 54....</td>\n",
       "      <td>Uzbekistan</td>\n",
       "      <td>[1919159.0, 1919159.0, 1919159.0, 1919159.0, 1...</td>\n",
       "      <td>Europe &amp; Central Asia</td>\n",
       "    </tr>\n",
       "    <tr>\n",
       "      <th>150</th>\n",
       "      <td>[671.48, 672.9575, 674.4350000000001, 675.9125...</td>\n",
       "      <td>[34.05, 34.05, 34.05, 34.05, 34.05, 34.05, 34....</td>\n",
       "      <td>Australia</td>\n",
       "      <td>[334000.0, 334000.0, 334000.0, 334000.0, 33400...</td>\n",
       "      <td>East Asia &amp; Pacific</td>\n",
       "    </tr>\n",
       "    <tr>\n",
       "      <th>151</th>\n",
       "      <td>[1011.68, 1011.68, 1011.68, 1011.68, 1011.68, ...</td>\n",
       "      <td>[29.2, 29.2, 29.2, 29.2, 29.2, 29.2, 29.2, 29....</td>\n",
       "      <td>Brunei</td>\n",
       "      <td>[2128.0, 2128.0, 2128.0, 2128.0, 2128.0, 2128....</td>\n",
       "      <td>East Asia &amp; Pacific</td>\n",
       "    </tr>\n",
       "    <tr>\n",
       "      <th>152</th>\n",
       "      <td>[809.23, 809.23, 809.23, 809.23, 809.23, 809.2...</td>\n",
       "      <td>[35.0, 35.0, 35.0, 35.0, 35.0, 35.0, 35.0, 35....</td>\n",
       "      <td>Cambodia</td>\n",
       "      <td>[2090000.0, 2090000.0, 2090000.0, 2090000.0, 2...</td>\n",
       "      <td>East Asia &amp; Pacific</td>\n",
       "    </tr>\n",
       "    <tr>\n",
       "      <th>153</th>\n",
       "      <td>[985.89, 979.7479999999999, 973.606, 967.46399...</td>\n",
       "      <td>[32.0, 32.0, 32.0, 32.0, 32.0, 32.0, 32.0, 32....</td>\n",
       "      <td>China</td>\n",
       "      <td>[381000000.0, 381000000.0, 381000000.0, 381000...</td>\n",
       "      <td>East Asia &amp; Pacific</td>\n",
       "    </tr>\n",
       "    <tr>\n",
       "      <th>154</th>\n",
       "      <td>[472.12, 472.12, 472.12, 472.12, 472.12, 472.1...</td>\n",
       "      <td>[26.1, 26.1, 26.1, 26.1, 26.1, 26.1, 26.1, 26....</td>\n",
       "      <td>Fiji</td>\n",
       "      <td>[130533.0, 130753.16279069768, 130973.32558139...</td>\n",
       "      <td>East Asia &amp; Pacific</td>\n",
       "    </tr>\n",
       "    <tr>\n",
       "      <th>155</th>\n",
       "      <td>[809.34, 809.34, 809.34, 809.34, 809.34, 809.3...</td>\n",
       "      <td>[45.51, 45.51, 45.51, 45.51, 45.51, 45.51, 45....</td>\n",
       "      <td>French Polynesia</td>\n",
       "      <td>[62530.0, 62610.6976744186, 62691.395348837206...</td>\n",
       "      <td>East Asia &amp; Pacific</td>\n",
       "    </tr>\n",
       "    <tr>\n",
       "      <th>156</th>\n",
       "      <td>[790.15, 790.15, 790.15, 790.15, 790.15, 790.1...</td>\n",
       "      <td>[59.22, 59.22, 59.22, 59.22, 59.22, 59.22, 59....</td>\n",
       "      <td>Hong Kong, China</td>\n",
       "      <td>[20000.0, 20000.0, 20000.0, 20000.0, 20000.0, ...</td>\n",
       "      <td>East Asia &amp; Pacific</td>\n",
       "    </tr>\n",
       "    <tr>\n",
       "      <th>157</th>\n",
       "      <td>[514.12, 514.3505, 514.581, 514.8115, 515.042,...</td>\n",
       "      <td>[30.0, 30.0, 30.0, 30.0, 30.0, 30.0, 30.0, 30....</td>\n",
       "      <td>Indonesia</td>\n",
       "      <td>[17927000.0, 17927000.0, 17927000.0, 17927000....</td>\n",
       "      <td>East Asia &amp; Pacific</td>\n",
       "    </tr>\n",
       "    <tr>\n",
       "      <th>158</th>\n",
       "      <td>[1055.06, 1056.4869999999999, 1057.914, 1059.3...</td>\n",
       "      <td>[36.4, 36.400461538461535, 36.40092307692308, ...</td>\n",
       "      <td>Japan</td>\n",
       "      <td>[31000000.0, 31000000.0, 31000000.0, 31000000....</td>\n",
       "      <td>East Asia &amp; Pacific</td>\n",
       "    </tr>\n",
       "    <tr>\n",
       "      <th>159</th>\n",
       "      <td>[698.0, 698.0, 698.0, 698.0, 698.0, 698.0, 698...</td>\n",
       "      <td>[26.0, 26.0, 26.0, 26.0, 26.0, 26.0, 26.0, 26....</td>\n",
       "      <td>Korea, Dem. Rep.</td>\n",
       "      <td>[4345000.0, 4345000.0, 4345000.0, 4345000.0, 4...</td>\n",
       "      <td>East Asia &amp; Pacific</td>\n",
       "    </tr>\n",
       "    <tr>\n",
       "      <th>160</th>\n",
       "      <td>[596.0, 596.0, 596.0, 596.0, 596.0, 596.0, 596...</td>\n",
       "      <td>[25.8, 25.8, 25.8, 25.8, 25.8, 25.8, 25.8, 25....</td>\n",
       "      <td>Korea, Rep.</td>\n",
       "      <td>[9395000.0, 9395000.0, 9395000.0, 9395000.0, 9...</td>\n",
       "      <td>East Asia &amp; Pacific</td>\n",
       "    </tr>\n",
       "    <tr>\n",
       "      <th>161</th>\n",
       "      <td>[607.01, 607.01, 607.01, 607.01, 607.01, 607.0...</td>\n",
       "      <td>[52.98, 52.98, 52.98, 52.98, 52.98, 52.98, 52....</td>\n",
       "      <td>Macao, China</td>\n",
       "      <td>[35000.0, 35000.0, 35000.0, 35000.0, 35000.0, ...</td>\n",
       "      <td>East Asia &amp; Pacific</td>\n",
       "    </tr>\n",
       "    <tr>\n",
       "      <th>162</th>\n",
       "      <td>[750.13, 750.13, 750.13, 750.13, 750.13, 750.1...</td>\n",
       "      <td>[30.6, 30.6, 30.6, 30.6, 30.6, 30.6, 30.6, 30....</td>\n",
       "      <td>Malaysia</td>\n",
       "      <td>[287000.0, 287000.0, 287000.0, 287000.0, 28700...</td>\n",
       "      <td>East Asia &amp; Pacific</td>\n",
       "    </tr>\n",
       "    <tr>\n",
       "      <th>163</th>\n",
       "      <td>[553.05, 553.05, 553.05, 553.05, 553.05, 553.0...</td>\n",
       "      <td>[53.78, 53.78, 53.78, 53.78, 53.78, 53.78, 53....</td>\n",
       "      <td>Micronesia, Fed. Sts.</td>\n",
       "      <td>[16416.0, 16416.0, 16416.0, 16416.0, 16416.0, ...</td>\n",
       "      <td>East Asia &amp; Pacific</td>\n",
       "    </tr>\n",
       "    <tr>\n",
       "      <th>164</th>\n",
       "      <td>[606.93, 606.93, 606.93, 606.93, 606.93, 606.9...</td>\n",
       "      <td>[31.8, 31.8, 31.8, 31.8, 31.8, 31.8, 31.8, 31....</td>\n",
       "      <td>Mongolia</td>\n",
       "      <td>[619000.0, 619000.0, 619000.0, 619000.0, 61900...</td>\n",
       "      <td>East Asia &amp; Pacific</td>\n",
       "    </tr>\n",
       "    <tr>\n",
       "      <th>165</th>\n",
       "      <td>[569.07, 569.07, 569.07, 569.07, 569.07, 569.0...</td>\n",
       "      <td>[30.8, 30.8, 30.8, 30.8, 30.8, 30.8, 30.8, 30....</td>\n",
       "      <td>Myanmar</td>\n",
       "      <td>[3506000.0, 3506000.0, 3506000.0, 3506000.0, 3...</td>\n",
       "      <td>East Asia &amp; Pacific</td>\n",
       "    </tr>\n",
       "    <tr>\n",
       "      <th>166</th>\n",
       "      <td>[944.24, 944.24, 944.24, 944.24, 944.24, 944.2...</td>\n",
       "      <td>[51.93, 51.93, 51.93, 51.93, 51.93, 51.93, 51....</td>\n",
       "      <td>New Caledonia</td>\n",
       "      <td>[29432.0, 29432.0, 29432.0, 29432.0, 29432.0, ...</td>\n",
       "      <td>East Asia &amp; Pacific</td>\n",
       "    </tr>\n",
       "    <tr>\n",
       "      <th>167</th>\n",
       "      <td>[541.62, 541.62, 541.62, 541.62, 541.62, 541.6...</td>\n",
       "      <td>[34.05, 34.05, 34.05, 34.05, 34.05, 34.05, 34....</td>\n",
       "      <td>New Zealand</td>\n",
       "      <td>[100000.0, 100000.0, 100000.0, 100000.0, 10000...</td>\n",
       "      <td>East Asia &amp; Pacific</td>\n",
       "    </tr>\n",
       "    <tr>\n",
       "      <th>168</th>\n",
       "      <td>[573.29, 573.29, 573.29, 573.29, 573.29, 573.2...</td>\n",
       "      <td>[31.5, 31.5, 31.5, 31.5, 31.5, 31.5, 31.5, 31....</td>\n",
       "      <td>Papua New Guinea</td>\n",
       "      <td>[754894.0, 754894.0, 754894.0, 754894.0, 75489...</td>\n",
       "      <td>East Asia &amp; Pacific</td>\n",
       "    </tr>\n",
       "    <tr>\n",
       "      <th>169</th>\n",
       "      <td>[626.97, 626.97, 626.97, 626.97, 626.97, 626.9...</td>\n",
       "      <td>[30.9, 30.9, 30.9, 30.9, 30.9, 30.9, 30.9, 30....</td>\n",
       "      <td>Philippines</td>\n",
       "      <td>[2176000.0, 2176000.0, 2176000.0, 2176000.0, 2...</td>\n",
       "      <td>East Asia &amp; Pacific</td>\n",
       "    </tr>\n",
       "    <tr>\n",
       "      <th>170</th>\n",
       "      <td>[1308.44, 1308.44, 1308.44, 1308.44, 1308.44, ...</td>\n",
       "      <td>[44.9, 44.9, 44.9, 44.9, 44.9, 44.9, 44.9, 44....</td>\n",
       "      <td>Samoa</td>\n",
       "      <td>[47300.0, 47291.98, 47283.96, 47275.94, 47267....</td>\n",
       "      <td>East Asia &amp; Pacific</td>\n",
       "    </tr>\n",
       "    <tr>\n",
       "      <th>171</th>\n",
       "      <td>[861.82, 861.82, 861.82, 861.82, 861.82, 861.8...</td>\n",
       "      <td>[29.1, 29.1, 29.1, 29.1, 29.1, 29.1, 29.1, 29....</td>\n",
       "      <td>Singapore</td>\n",
       "      <td>[30000.0, 30000.0, 30000.0, 30000.0, 30000.0, ...</td>\n",
       "      <td>East Asia &amp; Pacific</td>\n",
       "    </tr>\n",
       "    <tr>\n",
       "      <th>172</th>\n",
       "      <td>[387.81, 387.81, 387.81, 387.81, 387.81, 387.8...</td>\n",
       "      <td>[25.7, 25.7, 25.7, 25.7, 25.7, 25.7, 25.7, 25....</td>\n",
       "      <td>Solomon Islands</td>\n",
       "      <td>[56998.0, 56998.0, 56998.0, 56998.0, 56998.0, ...</td>\n",
       "      <td>East Asia &amp; Pacific</td>\n",
       "    </tr>\n",
       "    <tr>\n",
       "      <th>173</th>\n",
       "      <td>[871.0, 871.0, 871.0, 871.0, 871.0, 871.0, 871...</td>\n",
       "      <td>[28.3, 28.3, 28.3, 28.3, 28.3, 28.3, 28.3, 28....</td>\n",
       "      <td>Taiwan</td>\n",
       "      <td>[2000000.0, 2000000.0, 2000000.0, 2000000.0, 2...</td>\n",
       "      <td>East Asia &amp; Pacific</td>\n",
       "    </tr>\n",
       "    <tr>\n",
       "      <th>174</th>\n",
       "      <td>[496.98, 496.98, 496.98, 496.98, 496.98, 496.9...</td>\n",
       "      <td>[30.4, 30.4, 30.4, 30.4, 30.4, 30.4, 30.4, 30....</td>\n",
       "      <td>Thailand</td>\n",
       "      <td>[4665000.0, 4665000.0, 4665000.0, 4665000.0, 4...</td>\n",
       "      <td>East Asia &amp; Pacific</td>\n",
       "    </tr>\n",
       "    <tr>\n",
       "      <th>175</th>\n",
       "      <td>[514.12, 514.3505, 514.581, 514.8115, 515.042,...</td>\n",
       "      <td>[28.97, 28.97, 28.97, 28.97, 28.97, 28.97, 28....</td>\n",
       "      <td>Timor-Leste</td>\n",
       "      <td>[137262.0, 137262.0, 137262.0, 137262.0, 13726...</td>\n",
       "      <td>East Asia &amp; Pacific</td>\n",
       "    </tr>\n",
       "    <tr>\n",
       "      <th>177</th>\n",
       "      <td>[667.71, 667.71, 667.71, 667.71, 667.71, 667.7...</td>\n",
       "      <td>[57.91, 57.91, 57.91, 57.91, 57.91, 57.91, 57....</td>\n",
       "      <td>Tonga</td>\n",
       "      <td>[18658.0, 18654.325581395347, 18650.6511627907...</td>\n",
       "      <td>East Asia &amp; Pacific</td>\n",
       "    </tr>\n",
       "    <tr>\n",
       "      <th>178</th>\n",
       "      <td>[459.71, 459.71, 459.71, 459.71, 459.71, 459.7...</td>\n",
       "      <td>[32.0, 32.0, 32.0, 32.0, 32.0, 32.0, 32.0, 32....</td>\n",
       "      <td>Vietnam</td>\n",
       "      <td>[6551000.0, 6551000.0, 6551000.0, 6551000.0, 6...</td>\n",
       "      <td>East Asia &amp; Pacific</td>\n",
       "    </tr>\n",
       "    <tr>\n",
       "      <th>179</th>\n",
       "      <td>[829.58, 829.58, 829.58, 829.58, 829.58, 829.5...</td>\n",
       "      <td>[40.8, 40.8, 40.8, 40.8, 40.8, 40.8, 40.8, 40....</td>\n",
       "      <td>Vanuatu</td>\n",
       "      <td>[27791.0, 27791.0, 27791.0, 27791.0, 27791.0, ...</td>\n",
       "      <td>East Asia &amp; Pacific</td>\n",
       "    </tr>\n",
       "  </tbody>\n",
       "</table>\n",
       "<p>178 rows × 5 columns</p>\n",
       "</div>"
      ],
      "text/plain": [
       "                                                income  \\\n",
       "0    [359.93, 359.93, 359.93, 359.93, 359.93, 359.9...   \n",
       "1    [553.72, 553.72, 553.72, 553.72, 553.72, 553.7...   \n",
       "2    [407.36, 407.36, 407.36, 407.36, 407.36, 407.3...   \n",
       "3    [454.33, 454.33, 454.33, 454.33, 454.33, 454.3...   \n",
       "4    [447.59, 447.59, 447.59, 447.59, 447.59, 447.5...   \n",
       "5    [517.46, 517.46, 517.46, 517.46, 517.46, 517.4...   \n",
       "6    [340.0, 340.0, 340.0, 340.0, 340.0, 340.0, 340...   \n",
       "7    [400.69, 400.69, 400.69, 400.69, 400.69, 400.6...   \n",
       "8    [800.61, 800.61, 800.61, 800.61, 800.61, 800.6...   \n",
       "9    [394.03, 394.03, 394.03, 394.03, 394.03, 394.0...   \n",
       "10   [387.38, 387.38, 387.38, 387.38, 387.38, 387.3...   \n",
       "11   [549.19, 549.19, 549.19, 549.19, 549.19, 549.1...   \n",
       "12   [379.13, 379.13, 379.13, 379.13, 379.13, 379.1...   \n",
       "13   [583.95, 583.95, 583.95, 583.95, 583.95, 583.9...   \n",
       "14   [619.21, 619.21, 619.21, 619.21, 619.21, 619.2...   \n",
       "15   [377.54, 377.54, 377.54, 377.54, 377.54, 377.5...   \n",
       "16   [505.14, 505.14, 505.14, 505.14, 505.14, 505.1...   \n",
       "17   [375.96, 375.96, 375.96, 375.96, 375.96, 375.9...   \n",
       "18   [345.0, 345.0, 345.0, 345.0, 345.0, 345.0, 345...   \n",
       "19   [512.93, 512.93, 512.93, 512.93, 512.93, 512.9...   \n",
       "20   [364.0, 364.0, 364.0, 364.0, 364.0, 364.0, 364...   \n",
       "21   [544.65, 544.65, 544.65, 544.65, 544.65, 544.6...   \n",
       "22   [434.14, 434.14, 434.14, 434.14, 434.14, 434.1...   \n",
       "23   [360.0, 360.0, 360.0, 360.0, 360.0, 360.0, 360...   \n",
       "24   [427.43, 427.43, 427.43, 427.43, 427.43, 427.4...   \n",
       "25   [374.38, 374.38, 374.38, 374.38, 374.38, 374.3...   \n",
       "26   [799.61, 799.61, 799.61, 799.61, 799.61, 799.6...   \n",
       "28   [358.0, 358.0, 358.0, 358.0, 358.0, 358.0, 358...   \n",
       "29   [350.0, 350.0, 350.0, 350.0, 350.0, 350.0, 350...   \n",
       "30   [371.26, 371.26, 371.26, 371.26, 371.26, 371.2...   \n",
       "..                                                 ...   \n",
       "149  [346.43, 346.7945, 347.159, 347.5235, 347.8880...   \n",
       "150  [671.48, 672.9575, 674.4350000000001, 675.9125...   \n",
       "151  [1011.68, 1011.68, 1011.68, 1011.68, 1011.68, ...   \n",
       "152  [809.23, 809.23, 809.23, 809.23, 809.23, 809.2...   \n",
       "153  [985.89, 979.7479999999999, 973.606, 967.46399...   \n",
       "154  [472.12, 472.12, 472.12, 472.12, 472.12, 472.1...   \n",
       "155  [809.34, 809.34, 809.34, 809.34, 809.34, 809.3...   \n",
       "156  [790.15, 790.15, 790.15, 790.15, 790.15, 790.1...   \n",
       "157  [514.12, 514.3505, 514.581, 514.8115, 515.042,...   \n",
       "158  [1055.06, 1056.4869999999999, 1057.914, 1059.3...   \n",
       "159  [698.0, 698.0, 698.0, 698.0, 698.0, 698.0, 698...   \n",
       "160  [596.0, 596.0, 596.0, 596.0, 596.0, 596.0, 596...   \n",
       "161  [607.01, 607.01, 607.01, 607.01, 607.01, 607.0...   \n",
       "162  [750.13, 750.13, 750.13, 750.13, 750.13, 750.1...   \n",
       "163  [553.05, 553.05, 553.05, 553.05, 553.05, 553.0...   \n",
       "164  [606.93, 606.93, 606.93, 606.93, 606.93, 606.9...   \n",
       "165  [569.07, 569.07, 569.07, 569.07, 569.07, 569.0...   \n",
       "166  [944.24, 944.24, 944.24, 944.24, 944.24, 944.2...   \n",
       "167  [541.62, 541.62, 541.62, 541.62, 541.62, 541.6...   \n",
       "168  [573.29, 573.29, 573.29, 573.29, 573.29, 573.2...   \n",
       "169  [626.97, 626.97, 626.97, 626.97, 626.97, 626.9...   \n",
       "170  [1308.44, 1308.44, 1308.44, 1308.44, 1308.44, ...   \n",
       "171  [861.82, 861.82, 861.82, 861.82, 861.82, 861.8...   \n",
       "172  [387.81, 387.81, 387.81, 387.81, 387.81, 387.8...   \n",
       "173  [871.0, 871.0, 871.0, 871.0, 871.0, 871.0, 871...   \n",
       "174  [496.98, 496.98, 496.98, 496.98, 496.98, 496.9...   \n",
       "175  [514.12, 514.3505, 514.581, 514.8115, 515.042,...   \n",
       "177  [667.71, 667.71, 667.71, 667.71, 667.71, 667.7...   \n",
       "178  [459.71, 459.71, 459.71, 459.71, 459.71, 459.7...   \n",
       "179  [829.58, 829.58, 829.58, 829.58, 829.58, 829.5...   \n",
       "\n",
       "                                        lifeExpectancy                   name  \\\n",
       "0    [26.98, 26.98, 26.98, 26.98, 26.98, 26.98, 26....                 Angola   \n",
       "1    [31.0, 31.0, 31.0, 31.0, 31.0, 31.0, 31.0, 31....                  Benin   \n",
       "2    [33.6, 33.6, 33.6, 33.6, 33.6, 33.6, 33.6, 33....               Botswana   \n",
       "3    [29.2, 29.2, 29.2, 29.2, 29.2, 29.2, 29.2, 29....           Burkina Faso   \n",
       "4    [31.5, 31.5, 31.5, 31.5, 31.5, 31.5, 31.5, 31....                Burundi   \n",
       "5    [28.75, 28.75, 28.75, 28.75, 28.75, 28.75, 28....               Cameroon   \n",
       "6    [33.8, 33.8, 33.8, 33.8, 33.8, 33.8, 33.8, 33....             Cape Verde   \n",
       "7    [30.9, 30.9, 30.9, 30.9, 30.9, 30.9, 30.9, 30....                   Chad   \n",
       "8    [32.1, 32.1, 32.1, 32.1, 32.1, 32.1, 32.1, 32....                Comoros   \n",
       "9    [31.6, 31.6, 31.6, 31.6, 31.6, 31.6, 31.6, 31....       Congo, Dem. Rep.   \n",
       "10   [32.7, 32.7, 32.7, 32.7, 32.7, 32.7, 32.7, 32....            Congo, Rep.   \n",
       "11   [31.9, 31.9, 31.9, 31.9, 31.9, 31.9, 31.9, 31....          Cote d'Ivoire   \n",
       "12   [29.8, 29.8, 29.8, 29.8, 29.8, 29.8, 29.8, 29....      Equatorial Guinea   \n",
       "13   [30.2, 30.2, 30.2, 30.2, 30.2, 30.2, 30.2, 30....                Eritrea   \n",
       "14   [29.7, 29.7, 29.7, 29.7, 29.7, 29.7, 29.7, 29....               Ethiopia   \n",
       "15   [30.6, 30.6, 30.6, 30.6, 30.6, 30.6, 30.6, 30....                  Gabon   \n",
       "16   [28.0, 28.0, 28.0, 28.0, 28.0, 28.0, 28.0, 28....                  Ghana   \n",
       "17   [29.5, 29.5, 29.5, 29.5, 29.5, 29.5, 29.5, 29....                 Guinea   \n",
       "18   [29.3, 29.3, 29.3, 29.3, 29.3, 29.3, 29.3, 29....          Guinea-Bissau   \n",
       "19   [25.5, 25.5, 25.5, 25.5, 25.5, 25.5, 25.5, 25....                  Kenya   \n",
       "20   [32.8, 32.8, 32.8, 32.8, 32.8, 32.8, 32.8, 32....                Lesotho   \n",
       "21   [31.1, 31.1, 31.1, 31.1, 31.1, 31.1, 31.1, 31....                Liberia   \n",
       "22   [30.5, 30.5, 30.5, 30.5, 30.5, 30.5, 30.5, 30....             Madagascar   \n",
       "23   [30.3, 30.3, 30.3, 30.3, 30.3, 30.3, 30.3, 30....                 Malawi   \n",
       "24   [29.6, 29.6, 29.6, 29.6, 29.6, 29.6, 29.6, 29....                   Mali   \n",
       "25   [32.0, 32.0, 32.0, 32.0, 32.0, 32.0, 32.0, 32....             Mauritania   \n",
       "26   [31.2, 31.20016129032258, 31.20032258064516, 3...              Mauritius   \n",
       "28   [30.28, 30.28, 30.28, 30.28, 30.28, 30.28, 30....             Mozambique   \n",
       "29   [32.4, 32.4, 32.4, 32.4, 32.4, 32.4, 32.4, 32....                Namibia   \n",
       "30   [30.8, 30.8, 30.8, 30.8, 30.8, 30.8, 30.8, 30....                  Niger   \n",
       "..                                                 ...                    ...   \n",
       "149  [54.96, 54.96, 54.96, 54.96, 54.96, 54.96, 54....             Uzbekistan   \n",
       "150  [34.05, 34.05, 34.05, 34.05, 34.05, 34.05, 34....              Australia   \n",
       "151  [29.2, 29.2, 29.2, 29.2, 29.2, 29.2, 29.2, 29....                 Brunei   \n",
       "152  [35.0, 35.0, 35.0, 35.0, 35.0, 35.0, 35.0, 35....               Cambodia   \n",
       "153  [32.0, 32.0, 32.0, 32.0, 32.0, 32.0, 32.0, 32....                  China   \n",
       "154  [26.1, 26.1, 26.1, 26.1, 26.1, 26.1, 26.1, 26....                   Fiji   \n",
       "155  [45.51, 45.51, 45.51, 45.51, 45.51, 45.51, 45....       French Polynesia   \n",
       "156  [59.22, 59.22, 59.22, 59.22, 59.22, 59.22, 59....       Hong Kong, China   \n",
       "157  [30.0, 30.0, 30.0, 30.0, 30.0, 30.0, 30.0, 30....              Indonesia   \n",
       "158  [36.4, 36.400461538461535, 36.40092307692308, ...                  Japan   \n",
       "159  [26.0, 26.0, 26.0, 26.0, 26.0, 26.0, 26.0, 26....       Korea, Dem. Rep.   \n",
       "160  [25.8, 25.8, 25.8, 25.8, 25.8, 25.8, 25.8, 25....            Korea, Rep.   \n",
       "161  [52.98, 52.98, 52.98, 52.98, 52.98, 52.98, 52....           Macao, China   \n",
       "162  [30.6, 30.6, 30.6, 30.6, 30.6, 30.6, 30.6, 30....               Malaysia   \n",
       "163  [53.78, 53.78, 53.78, 53.78, 53.78, 53.78, 53....  Micronesia, Fed. Sts.   \n",
       "164  [31.8, 31.8, 31.8, 31.8, 31.8, 31.8, 31.8, 31....               Mongolia   \n",
       "165  [30.8, 30.8, 30.8, 30.8, 30.8, 30.8, 30.8, 30....                Myanmar   \n",
       "166  [51.93, 51.93, 51.93, 51.93, 51.93, 51.93, 51....          New Caledonia   \n",
       "167  [34.05, 34.05, 34.05, 34.05, 34.05, 34.05, 34....            New Zealand   \n",
       "168  [31.5, 31.5, 31.5, 31.5, 31.5, 31.5, 31.5, 31....       Papua New Guinea   \n",
       "169  [30.9, 30.9, 30.9, 30.9, 30.9, 30.9, 30.9, 30....            Philippines   \n",
       "170  [44.9, 44.9, 44.9, 44.9, 44.9, 44.9, 44.9, 44....                  Samoa   \n",
       "171  [29.1, 29.1, 29.1, 29.1, 29.1, 29.1, 29.1, 29....              Singapore   \n",
       "172  [25.7, 25.7, 25.7, 25.7, 25.7, 25.7, 25.7, 25....        Solomon Islands   \n",
       "173  [28.3, 28.3, 28.3, 28.3, 28.3, 28.3, 28.3, 28....                 Taiwan   \n",
       "174  [30.4, 30.4, 30.4, 30.4, 30.4, 30.4, 30.4, 30....               Thailand   \n",
       "175  [28.97, 28.97, 28.97, 28.97, 28.97, 28.97, 28....            Timor-Leste   \n",
       "177  [57.91, 57.91, 57.91, 57.91, 57.91, 57.91, 57....                  Tonga   \n",
       "178  [32.0, 32.0, 32.0, 32.0, 32.0, 32.0, 32.0, 32....                Vietnam   \n",
       "179  [40.8, 40.8, 40.8, 40.8, 40.8, 40.8, 40.8, 40....                Vanuatu   \n",
       "\n",
       "                                            population                 region  \n",
       "0    [1567028.0, 1567028.0, 1567028.0, 1567028.0, 1...     Sub-Saharan Africa  \n",
       "1    [636559.0, 636559.0, 636559.0, 636559.0, 63655...     Sub-Saharan Africa  \n",
       "2    [121000.0, 121000.0, 121000.0, 121000.0, 12100...     Sub-Saharan Africa  \n",
       "3    [1665421.0, 1665421.0, 1665421.0, 1665421.0, 1...     Sub-Saharan Africa  \n",
       "4    [899097.0, 899097.0, 899097.0, 899097.0, 89909...     Sub-Saharan Africa  \n",
       "5    [1860054.0, 1860054.0, 1860054.0, 1860054.0, 1...     Sub-Saharan Africa  \n",
       "6    [55716.0, 55716.0, 55716.0, 55716.0, 55716.0, ...     Sub-Saharan Africa  \n",
       "7    [1432000.0, 1432000.0, 1432000.0, 1432000.0, 1...     Sub-Saharan Africa  \n",
       "8    [56346.0, 56346.0, 56346.0, 56346.0, 56346.0, ...     Sub-Saharan Africa  \n",
       "9    [5163819.0, 5163819.0, 5163819.0, 5163819.0, 5...     Sub-Saharan Africa  \n",
       "10   [314465.0, 314465.0, 314465.0, 314465.0, 31446...     Sub-Saharan Africa  \n",
       "11   [1088530.0, 1088530.0, 1088530.0, 1088530.0, 1...     Sub-Saharan Africa  \n",
       "12   [80377.0, 80377.0, 80377.0, 80377.0, 80377.0, ...     Sub-Saharan Africa  \n",
       "13   [205010.0, 205010.0, 205010.0, 205010.0, 20501...     Sub-Saharan Africa  \n",
       "14   [2948990.0, 2948990.0, 2948990.0, 2948990.0, 2...     Sub-Saharan Africa  \n",
       "15   [158227.0, 158227.0, 158227.0, 158227.0, 15822...     Sub-Saharan Africa  \n",
       "16   [2016034.0, 2016034.0, 2016034.0, 2016034.0, 2...     Sub-Saharan Africa  \n",
       "17   [983959.0, 983959.0, 983959.0, 983959.0, 98395...     Sub-Saharan Africa  \n",
       "18   [218167.0, 218167.0, 218167.0, 218167.0, 21816...     Sub-Saharan Africa  \n",
       "19   [2574000.0, 2574000.0, 2574000.0, 2574000.0, 2...     Sub-Saharan Africa  \n",
       "20   [276361.0, 276361.0, 276361.0, 276361.0, 27636...     Sub-Saharan Africa  \n",
       "21   [313543.0, 313543.0, 313543.0, 313543.0, 31354...     Sub-Saharan Africa  \n",
       "22   [1683000.0, 1683000.0, 1683000.0, 1683000.0, 1...     Sub-Saharan Africa  \n",
       "23   [737000.0, 737000.0, 737000.0, 737000.0, 73700...     Sub-Saharan Africa  \n",
       "24   [1403398.0, 1403398.0, 1403398.0, 1403398.0, 1...     Sub-Saharan Africa  \n",
       "25   [382696.0, 382696.0, 382696.0, 382696.0, 38269...     Sub-Saharan Africa  \n",
       "26   [181000.0, 181000.0, 181000.0, 181000.0, 18100...     Sub-Saharan Africa  \n",
       "28   [2096000.0, 2096000.0, 2096000.0, 2096000.0, 2...     Sub-Saharan Africa  \n",
       "29   [229000.0, 229000.0, 229000.0, 229000.0, 22900...     Sub-Saharan Africa  \n",
       "30   [1244861.0, 1244861.0, 1244861.0, 1244861.0, 1...     Sub-Saharan Africa  \n",
       "..                                                 ...                    ...  \n",
       "149  [1919159.0, 1919159.0, 1919159.0, 1919159.0, 1...  Europe & Central Asia  \n",
       "150  [334000.0, 334000.0, 334000.0, 334000.0, 33400...    East Asia & Pacific  \n",
       "151  [2128.0, 2128.0, 2128.0, 2128.0, 2128.0, 2128....    East Asia & Pacific  \n",
       "152  [2090000.0, 2090000.0, 2090000.0, 2090000.0, 2...    East Asia & Pacific  \n",
       "153  [381000000.0, 381000000.0, 381000000.0, 381000...    East Asia & Pacific  \n",
       "154  [130533.0, 130753.16279069768, 130973.32558139...    East Asia & Pacific  \n",
       "155  [62530.0, 62610.6976744186, 62691.395348837206...    East Asia & Pacific  \n",
       "156  [20000.0, 20000.0, 20000.0, 20000.0, 20000.0, ...    East Asia & Pacific  \n",
       "157  [17927000.0, 17927000.0, 17927000.0, 17927000....    East Asia & Pacific  \n",
       "158  [31000000.0, 31000000.0, 31000000.0, 31000000....    East Asia & Pacific  \n",
       "159  [4345000.0, 4345000.0, 4345000.0, 4345000.0, 4...    East Asia & Pacific  \n",
       "160  [9395000.0, 9395000.0, 9395000.0, 9395000.0, 9...    East Asia & Pacific  \n",
       "161  [35000.0, 35000.0, 35000.0, 35000.0, 35000.0, ...    East Asia & Pacific  \n",
       "162  [287000.0, 287000.0, 287000.0, 287000.0, 28700...    East Asia & Pacific  \n",
       "163  [16416.0, 16416.0, 16416.0, 16416.0, 16416.0, ...    East Asia & Pacific  \n",
       "164  [619000.0, 619000.0, 619000.0, 619000.0, 61900...    East Asia & Pacific  \n",
       "165  [3506000.0, 3506000.0, 3506000.0, 3506000.0, 3...    East Asia & Pacific  \n",
       "166  [29432.0, 29432.0, 29432.0, 29432.0, 29432.0, ...    East Asia & Pacific  \n",
       "167  [100000.0, 100000.0, 100000.0, 100000.0, 10000...    East Asia & Pacific  \n",
       "168  [754894.0, 754894.0, 754894.0, 754894.0, 75489...    East Asia & Pacific  \n",
       "169  [2176000.0, 2176000.0, 2176000.0, 2176000.0, 2...    East Asia & Pacific  \n",
       "170  [47300.0, 47291.98, 47283.96, 47275.94, 47267....    East Asia & Pacific  \n",
       "171  [30000.0, 30000.0, 30000.0, 30000.0, 30000.0, ...    East Asia & Pacific  \n",
       "172  [56998.0, 56998.0, 56998.0, 56998.0, 56998.0, ...    East Asia & Pacific  \n",
       "173  [2000000.0, 2000000.0, 2000000.0, 2000000.0, 2...    East Asia & Pacific  \n",
       "174  [4665000.0, 4665000.0, 4665000.0, 4665000.0, 4...    East Asia & Pacific  \n",
       "175  [137262.0, 137262.0, 137262.0, 137262.0, 13726...    East Asia & Pacific  \n",
       "177  [18658.0, 18654.325581395347, 18650.6511627907...    East Asia & Pacific  \n",
       "178  [6551000.0, 6551000.0, 6551000.0, 6551000.0, 6...    East Asia & Pacific  \n",
       "179  [27791.0, 27791.0, 27791.0, 27791.0, 27791.0, ...    East Asia & Pacific  \n",
       "\n",
       "[178 rows x 5 columns]"
      ]
     },
     "execution_count": 82,
     "metadata": {},
     "output_type": "execute_result"
    }
   ],
   "source": [
    "# we'll read in our datafile and apply \n",
    "# some pre-written cleaning routines \n",
    "# get out the data we want for our plotting\n",
    "from wealth_of_nations import process_data, get_min_max, get_data\n",
    "\n",
    "# grab data\n",
    "data = process_data('/Users/jnaiman/Downloads/nations.json')\n",
    "\n",
    "data"
   ]
  },
  {
   "cell_type": "code",
   "execution_count": 83,
   "metadata": {},
   "outputs": [],
   "source": [
    "# grab min & max values of our variables of interest\n",
    "income_min, income_max, life_exp_min, life_exp_max, pop_min, pop_max = get_min_max(data)"
   ]
  },
  {
   "cell_type": "code",
   "execution_count": 84,
   "metadata": {},
   "outputs": [],
   "source": [
    "# lets allow for a mouse-over interaction\n",
    "# for silly:\n",
    "import bqplot\n",
    "tt = bqplot.Tooltip(fields=['name', 'x', 'y'], \n",
    "                    labels=['Country Name', \n",
    "                            'Income per Capita', 'Life Expectancy'])\n",
    "#bqplot.Tooltip?"
   ]
  },
  {
   "cell_type": "code",
   "execution_count": 85,
   "metadata": {},
   "outputs": [],
   "source": [
    "# we will label what year is being plotted, just like in the Gabminder plot\n",
    "year_label = bqplot.Label(x=[0.75], y=[0.10], \n",
    "                   font_size=52, font_weight='bolder', \n",
    "                   colors=['orange'],\n",
    "                   text=[str(initial_year)], enable_move=True)"
   ]
  },
  {
   "cell_type": "code",
   "execution_count": 86,
   "metadata": {},
   "outputs": [],
   "source": [
    "# we'll define our scales like before\n",
    "# here we scale our x & y axis to the scales of the min and max of our data\n",
    "x_sc = bqplot.LogScale(min=income_min, max=income_max)\n",
    "y_sc = bqplot.LinearScale(min=life_exp_min, max=life_exp_max)\n",
    "\n",
    "# this is just something to color-code each circle by the region it corresponds to\n",
    "#  (for example, asia, south america, africa, etc)\n",
    "# the colors call is just mapping each catagorical variable to a color\n",
    "c_sc = bqplot.OrdinalColorScale(domain=data['region'].unique().tolist(), \n",
    "                                colors=bqplot.CATEGORY10[:6])\n",
    "\n",
    "# finally, we want the size of each of our dots to correspond to the population of \n",
    "# each country\n",
    "#size_sc = bqplot.LinearScale(min=pop_min, max=pop_max)#, mid_range=0.1)\n",
    "size_sc = bqplot.LinearScale(max=1326856173.0, min=2128.0)\n",
    "#bqplot.LinearScale?"
   ]
  },
  {
   "cell_type": "code",
   "execution_count": 87,
   "metadata": {},
   "outputs": [],
   "source": [
    "# create and label our x & y axis\n",
    "ax_y = bqplot.Axis(label='Life Expectancy', scale=y_sc, \n",
    "                   orientation='vertical', side='left', \n",
    "                   grid_lines='solid')\n",
    "ax_x = bqplot.Axis(label='Income per Capita', scale=x_sc, \n",
    "                   grid_lines='solid')"
   ]
  },
  {
   "cell_type": "code",
   "execution_count": 88,
   "metadata": {},
   "outputs": [],
   "source": [
    "# now we'll use another little function from our library above to grab\n",
    "# data for our initial setup (year = 1800)\n",
    "# Start with the first year's data\n",
    "cap_income, life_exp, pop = get_data(data,initial_year,initial_year)"
   ]
  },
  {
   "cell_type": "code",
   "execution_count": 89,
   "metadata": {},
   "outputs": [],
   "source": [
    "# now lets make our scatter plot!\n",
    "wealth_scat = bqplot.Scatter(x=cap_income, y=life_exp, \n",
    "                             color=data['region'], size=pop,\n",
    "                      names=data['name'], display_names=False,\n",
    "                      scales={'x': x_sc, 'y': y_sc, 'color': c_sc, \n",
    "                              'size': size_sc},\n",
    "                      default_size=4112, tooltip=tt, \n",
    "                             animate=True, stroke='Black',\n",
    "                      unhovered_style={'opacity': 0.5})\n",
    "# much of these calls are things we've seen before, others will allow fun things \n",
    "#  like animation and also the ability to click on our plot and interact with it"
   ]
  },
  {
   "cell_type": "code",
   "execution_count": 90,
   "metadata": {},
   "outputs": [],
   "source": [
    "# for our initial, 1800 view, we'll just allow the first \"line\" of the evolution of the \n",
    "# each nation's track to be displayed... this is essentially a place holder (visible = false)\n",
    "nation_line = bqplot.Lines(x=data['income'][0], \n",
    "                           y=data['lifeExpectancy'][0], \n",
    "                           colors=['Gray'],\n",
    "                       scales={'x': x_sc, 'y': y_sc}, visible=False)"
   ]
  },
  {
   "cell_type": "code",
   "execution_count": 91,
   "metadata": {},
   "outputs": [],
   "source": [
    "# milliseconds of time between changes we make\n",
    "time_interval = 10"
   ]
  },
  {
   "cell_type": "code",
   "execution_count": 92,
   "metadata": {},
   "outputs": [],
   "source": [
    "# create the figure & \n",
    "fig = bqplot.Figure(marks=[wealth_scat, year_label, nation_line], \n",
    "                    axes=[ax_x, ax_y],\n",
    "             title='Health and Wealth of Nations', \n",
    "                    animation_duration=time_interval)\n",
    "\n",
    "# lets control the size in pixels too\n",
    "fig.layout.min_width = '960px'\n",
    "fig.layout.min_height = '640px'"
   ]
  },
  {
   "cell_type": "code",
   "execution_count": 93,
   "metadata": {},
   "outputs": [],
   "source": [
    "# we'll use our friend the int slider to slide through years\n",
    "# for silly:\n",
    "import ipywidgets\n",
    "year_slider = ipywidgets.IntSlider(min=1800, max=2008, step=1, description='Year', value=initial_year)"
   ]
  },
  {
   "cell_type": "code",
   "execution_count": 94,
   "metadata": {},
   "outputs": [],
   "source": [
    "# make sure we define what happens when we change the year on our slider\n",
    "def year_changed(change):\n",
    "    wealth_scat.x, wealth_scat.y, wealth_scat.size = get_data(data,year_slider.value,initial_year)\n",
    "    #wealth_scat.size+=1000\n",
    "    year_label.text = [str(year_slider.value)]\n",
    "\n",
    "year_slider.observe(year_changed, 'value')"
   ]
  },
  {
   "cell_type": "code",
   "execution_count": 95,
   "metadata": {},
   "outputs": [],
   "source": [
    "# now we'll say what happens when we hover over an object\n",
    "# we'll use \"change\" again to make it such that if a \n",
    "# user hovers over a country, the countries \"life line\" \n",
    "#  is visible\n",
    "def hover_changed(change):\n",
    "    if change.new is not None:\n",
    "        nation_line.x = data['income'][change.new + 1]\n",
    "        nation_line.y = data['lifeExpectancy'][change.new + 1]\n",
    "        nation_line.visible = True\n",
    "    else:\n",
    "        nation_line.visible = False\n",
    "        \n",
    "wealth_scat.observe(hover_changed, 'hovered_point')"
   ]
  },
  {
   "cell_type": "code",
   "execution_count": 96,
   "metadata": {},
   "outputs": [],
   "source": [
    "# finally, lets add a little play button so we can animate\n",
    "#  what happens in time, just like on the d3.js plot\n",
    "play_button = ipywidgets.Play(min=1800, max=2008, interval=time_interval)\n",
    "# note, we use \"jslink\" because the \"backend\" here is javascript\n",
    "#  bqplot is just interacting with javascript\n",
    "ipywidgets.jslink((play_button, 'value'), (year_slider, 'value'))"
   ]
  },
  {
   "cell_type": "code",
   "execution_count": 97,
   "metadata": {},
   "outputs": [
    {
     "data": {
      "application/vnd.jupyter.widget-view+json": {
       "model_id": "ae563395a7bc4ff9978266b22962a685",
       "version_major": 2,
       "version_minor": 0
      },
      "text/plain": [
       "VkJveChjaGlsZHJlbj0oSEJveChjaGlsZHJlbj0oUGxheSh2YWx1ZT0xODAwLCBpbnRlcnZhbD0xMCwgbWF4PTIwMDgsIG1pbj0xODAwKSwgSW50U2xpZGVyKHZhbHVlPTE4MDAsIGRlc2NyaXDigKY=\n"
      ]
     },
     "metadata": {},
     "output_type": "display_data"
    }
   ],
   "source": [
    "# finally, lets put it all together!!\n",
    "\n",
    "ipywidgets.VBox([ipywidgets.HBox([play_button, year_slider]), fig])"
   ]
  },
  {
   "cell_type": "code",
   "execution_count": 98,
   "metadata": {},
   "outputs": [
    {
     "data": {
      "text/plain": [
       "(2128.0, 1326856173.0)"
      ]
     },
     "execution_count": 98,
     "metadata": {},
     "output_type": "execute_result"
    }
   ],
   "source": [
    "pop_min, pop_max"
   ]
  },
  {
   "cell_type": "code",
   "execution_count": 99,
   "metadata": {},
   "outputs": [],
   "source": [
    "import bqplot\n",
    "bqplot.Tooltip?"
   ]
  },
  {
   "cell_type": "code",
   "execution_count": null,
   "metadata": {},
   "outputs": [],
   "source": []
  }
 ],
 "metadata": {
  "kernelspec": {
   "display_name": "Python 3",
   "language": "python",
   "name": "python3"
  },
  "language_info": {
   "codemirror_mode": {
    "name": "ipython",
    "version": 3
   },
   "file_extension": ".py",
   "mimetype": "text/x-python",
   "name": "python",
   "nbconvert_exporter": "python",
   "pygments_lexer": "ipython3",
   "version": "3.7.6"
  }
 },
 "nbformat": 4,
 "nbformat_minor": 2
}
