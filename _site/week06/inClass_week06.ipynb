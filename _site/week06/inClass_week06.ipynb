{
 "cells": [
  {
   "cell_type": "markdown",
   "id": "respective-store",
   "metadata": {},
   "source": [
    "# In Class Notebook, Week 06"
   ]
  },
  {
   "cell_type": "markdown",
   "id": "2a597611",
   "metadata": {},
   "source": [
    "You can always access the URL of this notebook: https://github.com/UIUC-iSchool-DataViz/is445_bcubcg_fall2022/blob/master/week06/inClass_week06.ipynb \n",
    "\n",
    "Or post the URL into the nbviewer interface for a plain-text rendering:\n",
    "\n",
    "https://kokes.github.io/nbviewer.js/viewer.html"
   ]
  },
  {
   "cell_type": "code",
   "execution_count": 2,
   "id": "1231d6a1",
   "metadata": {},
   "outputs": [],
   "source": [
    "import pandas as pd\n",
    "import numpy as np\n",
    "import ipywidgets\n",
    "import matplotlib.pyplot as plt\n",
    "import bqplot"
   ]
  },
  {
   "cell_type": "markdown",
   "id": "480258b9",
   "metadata": {},
   "source": [
    "## Quick review from recording last week"
   ]
  },
  {
   "cell_type": "code",
   "execution_count": 3,
   "id": "83686c8d",
   "metadata": {},
   "outputs": [],
   "source": [
    "# Step 1: data\n",
    "data = np.random.random((10,10))"
   ]
  },
  {
   "cell_type": "code",
   "execution_count": 4,
   "id": "46168ae0",
   "metadata": {},
   "outputs": [
    {
     "data": {
      "text/plain": [
       "(10, 10)"
      ]
     },
     "execution_count": 4,
     "metadata": {},
     "output_type": "execute_result"
    }
   ],
   "source": [
    "data.shape"
   ]
  },
  {
   "cell_type": "code",
   "execution_count": 5,
   "id": "08fefc83",
   "metadata": {},
   "outputs": [],
   "source": [
    "bqplot.GridHeatMap?"
   ]
  },
  {
   "cell_type": "code",
   "execution_count": 6,
   "id": "78d33151",
   "metadata": {},
   "outputs": [],
   "source": [
    "bqplot.ColorScale?"
   ]
  },
  {
   "cell_type": "code",
   "execution_count": 7,
   "id": "3faa8fb7",
   "metadata": {},
   "outputs": [
    {
     "data": {
      "application/vnd.jupyter.widget-view+json": {
       "model_id": "bbd2b127c2e94eda8d4ac6b82c248fca",
       "version_major": 2,
       "version_minor": 0
      },
      "text/plain": [
       "Figure(fig_margin={'top': 60, 'bottom': 60, 'left': 60, 'right': 60}, marks=[GridHeatMap(color=array([[9.66575…"
      ]
     },
     "metadata": {},
     "output_type": "display_data"
    }
   ],
   "source": [
    "# Step 2: define scales\n",
    "col_sc = bqplot.ColorScale()\n",
    "\n",
    "# Step 3: define our axis -- ignore right now\n",
    "\n",
    "# Step 4: defien marks\n",
    "heat_map = bqplot.GridHeatMap(color=data, scales={'color':col_sc})\n",
    "\n",
    "# Step 5: interactions -- also ignore for now\n",
    "\n",
    "# finally, a figure\n",
    "fig = bqplot.Figure(marks=[heat_map])\n",
    "fig"
   ]
  },
  {
   "cell_type": "code",
   "execution_count": 8,
   "id": "fff7758f",
   "metadata": {},
   "outputs": [
    {
     "data": {
      "application/vnd.jupyter.widget-view+json": {
       "model_id": "ad8ac425faef4da9ac71d23a71520766",
       "version_major": 2,
       "version_minor": 0
      },
      "text/plain": [
       "Figure(fig_margin={'top': 60, 'bottom': 60, 'left': 60, 'right': 60}, marks=[GridHeatMap(color=array([[9.66575…"
      ]
     },
     "metadata": {},
     "output_type": "display_data"
    }
   ],
   "source": [
    "# Step 2: define scales\n",
    "col_sc = bqplot.ColorScale(scheme='Greens')\n",
    "\n",
    "# Step 3: define our axis -- ignore right now\n",
    "\n",
    "# Step 4: define marks\n",
    "heat_map = bqplot.GridHeatMap(color=data, scales={'color':col_sc})\n",
    "\n",
    "# Step 5: interactions -- also ignore for now\n",
    "\n",
    "# finally, a figure\n",
    "fig = bqplot.Figure(marks=[heat_map])\n",
    "fig"
   ]
  },
  {
   "cell_type": "code",
   "execution_count": 9,
   "id": "2e7511b8",
   "metadata": {},
   "outputs": [],
   "source": [
    "bqplot.ColorAxis?"
   ]
  },
  {
   "cell_type": "code",
   "execution_count": 10,
   "id": "fddbfe6f",
   "metadata": {},
   "outputs": [
    {
     "data": {
      "application/vnd.jupyter.widget-view+json": {
       "model_id": "15537f4eeba44db998b9890121e5c703",
       "version_major": 2,
       "version_minor": 0
      },
      "text/plain": [
       "Figure(axes=[ColorAxis(orientation='vertical', scale=ColorScale(scheme='Greens'), side='right')], fig_margin={…"
      ]
     },
     "metadata": {},
     "output_type": "display_data"
    }
   ],
   "source": [
    "# Step 2: define scales\n",
    "col_sc = bqplot.ColorScale(scheme='Greens')\n",
    "\n",
    "# Step 3: define our axis\n",
    "col_ax = bqplot.ColorAxis(scale=col_sc, orientation='vertical', side='right')\n",
    "\n",
    "# Step 4: define marks\n",
    "heat_map = bqplot.GridHeatMap(color=data, scales={'color':col_sc})\n",
    "\n",
    "# Step 5: interactions -- also ignore for now\n",
    "\n",
    "# finally, a figure\n",
    "fig = bqplot.Figure(marks=[heat_map], axes=[col_ax])\n",
    "fig"
   ]
  },
  {
   "cell_type": "code",
   "execution_count": 11,
   "id": "c3c7d8a3",
   "metadata": {},
   "outputs": [],
   "source": [
    "bqplot.OrdinalScale?"
   ]
  },
  {
   "cell_type": "code",
   "execution_count": 12,
   "id": "372f8e0d",
   "metadata": {},
   "outputs": [
    {
     "data": {
      "application/vnd.jupyter.widget-view+json": {
       "model_id": "a47d9c9d13f940e0acb8847ac54ffe5c",
       "version_major": 2,
       "version_minor": 0
      },
      "text/plain": [
       "Figure(axes=[ColorAxis(orientation='vertical', scale=ColorScale(scheme='Greens'), side='right'), Axis(scale=Or…"
      ]
     },
     "metadata": {},
     "output_type": "display_data"
    }
   ],
   "source": [
    "# Step 2: define scales\n",
    "col_sc = bqplot.ColorScale(scheme='Greens')\n",
    "x_sc = bqplot.OrdinalScale()\n",
    "y_sc = bqplot.OrdinalScale()\n",
    "\n",
    "# Step 3: define our axis\n",
    "col_ax = bqplot.ColorAxis(scale=col_sc, orientation='vertical', side='right')\n",
    "x_ax = bqplot.Axis(scale=x_sc)\n",
    "y_ax = bqplot.Axis(scale=y_sc, orientation='vertical')\n",
    "\n",
    "# Step 4: define marks\n",
    "heat_map = bqplot.GridHeatMap(color=data, scales={'color':col_sc, 'row':y_sc, 'column':x_sc})\n",
    "\n",
    "# Step 5: interactions -- also ignore for now\n",
    "\n",
    "# finally, a figure\n",
    "fig = bqplot.Figure(marks=[heat_map], axes=[col_ax,x_ax,y_ax])\n",
    "fig"
   ]
  },
  {
   "cell_type": "code",
   "execution_count": 13,
   "id": "71f5d6c7",
   "metadata": {},
   "outputs": [
    {
     "data": {
      "application/vnd.jupyter.widget-view+json": {
       "model_id": "5025400d9dc44fd0b9cf7dbf062f1aed",
       "version_major": 2,
       "version_minor": 0
      },
      "text/plain": [
       "Figure(axes=[ColorAxis(orientation='vertical', scale=ColorScale(scheme='Greens'), side='right'), Axis(scale=Or…"
      ]
     },
     "metadata": {},
     "output_type": "display_data"
    }
   ],
   "source": [
    "# Step 2: define scales\n",
    "col_sc = bqplot.ColorScale(scheme='Greens')\n",
    "x_sc = bqplot.OrdinalScale()\n",
    "y_sc = bqplot.OrdinalScale()\n",
    "\n",
    "# Step 3: define our axis\n",
    "col_ax = bqplot.ColorAxis(scale=col_sc, orientation='vertical', side='right')\n",
    "x_ax = bqplot.Axis(scale=x_sc)\n",
    "y_ax = bqplot.Axis(scale=y_sc, orientation='vertical')\n",
    "\n",
    "# Step 4: define marks\n",
    "heat_map = bqplot.GridHeatMap(color=data, scales={'color':col_sc, 'row':y_sc, 'column':x_sc},\n",
    "                             interactions={'click':'select'},\n",
    "                             selected_style={'fill':'magenta'})\n",
    "\n",
    "# Step 5: interactions\n",
    "\n",
    "# finally, a figure\n",
    "fig = bqplot.Figure(marks=[heat_map], axes=[col_ax,x_ax,y_ax])\n",
    "fig"
   ]
  },
  {
   "cell_type": "code",
   "execution_count": 14,
   "id": "f45a0980",
   "metadata": {},
   "outputs": [
    {
     "data": {
      "text/plain": [
       "['_model_module',\n",
       " '_model_module_version',\n",
       " '_model_name',\n",
       " '_view_count',\n",
       " '_view_module',\n",
       " '_view_module_version',\n",
       " '_view_name',\n",
       " 'anchor_style',\n",
       " 'apply_clip',\n",
       " 'color',\n",
       " 'column',\n",
       " 'column_align',\n",
       " 'display_format',\n",
       " 'display_legend',\n",
       " 'enable_hover',\n",
       " 'font_style',\n",
       " 'interactions',\n",
       " 'labels',\n",
       " 'null_color',\n",
       " 'opacity',\n",
       " 'preserve_domain',\n",
       " 'row',\n",
       " 'row_align',\n",
       " 'scales',\n",
       " 'scales_metadata',\n",
       " 'selected',\n",
       " 'selected_style',\n",
       " 'stroke',\n",
       " 'tooltip',\n",
       " 'tooltip_location',\n",
       " 'tooltip_style',\n",
       " 'unselected_style',\n",
       " 'visible']"
      ]
     },
     "execution_count": 14,
     "metadata": {},
     "output_type": "execute_result"
    }
   ],
   "source": [
    "heat_map.keys"
   ]
  },
  {
   "cell_type": "code",
   "execution_count": 15,
   "id": "294a439a",
   "metadata": {},
   "outputs": [],
   "source": [
    "heat_map.selected"
   ]
  },
  {
   "cell_type": "code",
   "execution_count": 16,
   "id": "46834d6a",
   "metadata": {},
   "outputs": [],
   "source": [
    "def on_selected(change):\n",
    "    print(change)"
   ]
  },
  {
   "cell_type": "code",
   "execution_count": 17,
   "id": "6f9fecbe",
   "metadata": {},
   "outputs": [
    {
     "data": {
      "application/vnd.jupyter.widget-view+json": {
       "model_id": "974178a03a7d40368f4a2061795a70ba",
       "version_major": 2,
       "version_minor": 0
      },
      "text/plain": [
       "Figure(axes=[ColorAxis(orientation='vertical', scale=ColorScale(scheme='Greens'), side='right'), Axis(scale=Or…"
      ]
     },
     "metadata": {},
     "output_type": "display_data"
    }
   ],
   "source": [
    "# Step 2: define scales\n",
    "col_sc = bqplot.ColorScale(scheme='Greens')\n",
    "x_sc = bqplot.OrdinalScale()\n",
    "y_sc = bqplot.OrdinalScale()\n",
    "\n",
    "# Step 3: define our axis\n",
    "col_ax = bqplot.ColorAxis(scale=col_sc, orientation='vertical', side='right')\n",
    "x_ax = bqplot.Axis(scale=x_sc)\n",
    "y_ax = bqplot.Axis(scale=y_sc, orientation='vertical')\n",
    "\n",
    "# Step 4: define marks\n",
    "heat_map = bqplot.GridHeatMap(color=data, scales={'color':col_sc, 'row':y_sc, 'column':x_sc},\n",
    "                             interactions={'click':'select'},\n",
    "                             selected_style={'fill':'magenta'})\n",
    "\n",
    "# Step 5: interactions\n",
    "heat_map.observe(on_selected, 'selected')\n",
    "\n",
    "# finally, a figure\n",
    "fig = bqplot.Figure(marks=[heat_map], axes=[col_ax,x_ax,y_ax])\n",
    "fig"
   ]
  },
  {
   "cell_type": "code",
   "execution_count": 18,
   "id": "59eac734",
   "metadata": {},
   "outputs": [
    {
     "data": {
      "application/vnd.jupyter.widget-view+json": {
       "model_id": "65c62da2bb4c4e2e8fe96627e202de1e",
       "version_major": 2,
       "version_minor": 0
      },
      "text/plain": [
       "Figure(axes=[ColorAxis(orientation='vertical', scale=ColorScale(scheme='Greens'), side='right'), Axis(scale=Or…"
      ]
     },
     "metadata": {},
     "output_type": "display_data"
    }
   ],
   "source": [
    "def on_selected(change):\n",
    "    print(change['owner'].selected)\n",
    "    \n",
    "# Step 2: define scales\n",
    "col_sc = bqplot.ColorScale(scheme='Greens')\n",
    "x_sc = bqplot.OrdinalScale()\n",
    "y_sc = bqplot.OrdinalScale()\n",
    "\n",
    "# Step 3: define our axis\n",
    "col_ax = bqplot.ColorAxis(scale=col_sc, orientation='vertical', side='right')\n",
    "x_ax = bqplot.Axis(scale=x_sc)\n",
    "y_ax = bqplot.Axis(scale=y_sc, orientation='vertical')\n",
    "\n",
    "# Step 4: define marks\n",
    "heat_map = bqplot.GridHeatMap(color=data, scales={'color':col_sc, 'row':y_sc, 'column':x_sc},\n",
    "                             interactions={'click':'select'},\n",
    "                             selected_style={'fill':'magenta'})\n",
    "\n",
    "# Step 5: interactions\n",
    "heat_map.observe(on_selected, 'selected')\n",
    "\n",
    "# finally, a figure\n",
    "fig = bqplot.Figure(marks=[heat_map], axes=[col_ax,x_ax,y_ax])\n",
    "fig"
   ]
  },
  {
   "cell_type": "code",
   "execution_count": 19,
   "id": "c12346ee",
   "metadata": {},
   "outputs": [
    {
     "data": {
      "application/vnd.jupyter.widget-view+json": {
       "model_id": "2b09893d618144009a48937db33d714e",
       "version_major": 2,
       "version_minor": 0
      },
      "text/plain": [
       "Figure(axes=[ColorAxis(orientation='vertical', scale=ColorScale(scheme='Greens'), side='right'), Axis(scale=Or…"
      ]
     },
     "metadata": {},
     "output_type": "display_data"
    },
    {
     "name": "stdout",
     "output_type": "stream",
     "text": [
      "[0 1]\n"
     ]
    }
   ],
   "source": [
    "def on_selected(change):\n",
    "    if len(change['owner'].selected) == 1: # no regions, only single bins selected\n",
    "        print(change['owner'].selected[0])\n",
    "    \n",
    "# Step 2: define scales\n",
    "col_sc = bqplot.ColorScale(scheme='Greens')\n",
    "x_sc = bqplot.OrdinalScale()\n",
    "y_sc = bqplot.OrdinalScale()\n",
    "\n",
    "# Step 3: define our axis\n",
    "col_ax = bqplot.ColorAxis(scale=col_sc, orientation='vertical', side='right')\n",
    "x_ax = bqplot.Axis(scale=x_sc)\n",
    "y_ax = bqplot.Axis(scale=y_sc, orientation='vertical')\n",
    "\n",
    "# Step 4: define marks\n",
    "heat_map = bqplot.GridHeatMap(color=data, scales={'color':col_sc, 'row':y_sc, 'column':x_sc},\n",
    "                             interactions={'click':'select'},\n",
    "                             selected_style={'fill':'magenta'})\n",
    "\n",
    "# Step 5: interactions\n",
    "heat_map.observe(on_selected, 'selected')\n",
    "\n",
    "# finally, a figure\n",
    "fig = bqplot.Figure(marks=[heat_map], axes=[col_ax,x_ax,y_ax])\n",
    "fig"
   ]
  },
  {
   "cell_type": "code",
   "execution_count": 20,
   "id": "9b75bb8c",
   "metadata": {},
   "outputs": [],
   "source": [
    "selectedLabel = ipywidgets.Label()"
   ]
  },
  {
   "cell_type": "code",
   "execution_count": 21,
   "id": "dd62a6c1",
   "metadata": {},
   "outputs": [
    {
     "data": {
      "application/vnd.jupyter.widget-view+json": {
       "model_id": "f7e4241dbf10424eba6991be8f3ab7f7",
       "version_major": 2,
       "version_minor": 0
      },
      "text/plain": [
       "Label(value='')"
      ]
     },
     "metadata": {},
     "output_type": "display_data"
    }
   ],
   "source": [
    "selectedLabel"
   ]
  },
  {
   "cell_type": "code",
   "execution_count": 23,
   "id": "d5a35fd8",
   "metadata": {},
   "outputs": [
    {
     "data": {
      "text/plain": [
       "array([0, 1])"
      ]
     },
     "execution_count": 23,
     "metadata": {},
     "output_type": "execute_result"
    }
   ],
   "source": [
    "heat_map.selected[0]"
   ]
  },
  {
   "cell_type": "code",
   "execution_count": 24,
   "id": "5313838d",
   "metadata": {},
   "outputs": [
    {
     "data": {
      "text/plain": [
       "0.8817556773853424"
      ]
     },
     "execution_count": 24,
     "metadata": {},
     "output_type": "execute_result"
    }
   ],
   "source": [
    "i,j = heat_map.selected[0]\n",
    "data[i,j]"
   ]
  },
  {
   "cell_type": "code",
   "execution_count": 25,
   "id": "dd40bf13",
   "metadata": {},
   "outputs": [
    {
     "data": {
      "application/vnd.jupyter.widget-view+json": {
       "model_id": "f7e4241dbf10424eba6991be8f3ab7f7",
       "version_major": 2,
       "version_minor": 0
      },
      "text/plain": [
       "Label(value='Data value=0.8817556773853424')"
      ]
     },
     "metadata": {},
     "output_type": "display_data"
    }
   ],
   "source": [
    "selectedLabel.value = 'Data value=' + str(data[i,j])\n",
    "selectedLabel"
   ]
  },
  {
   "cell_type": "code",
   "execution_count": 26,
   "id": "df05ac6c",
   "metadata": {},
   "outputs": [
    {
     "data": {
      "application/vnd.jupyter.widget-view+json": {
       "model_id": "7e0ccb625a42466f8f0483ded66f7254",
       "version_major": 2,
       "version_minor": 0
      },
      "text/plain": [
       "VBox(children=(Label(value='Data value=0.8817556773853424'), Figure(axes=[ColorAxis(orientation='vertical', sc…"
      ]
     },
     "metadata": {},
     "output_type": "display_data"
    }
   ],
   "source": [
    "def on_selected(change):\n",
    "    if len(change['owner'].selected) == 1: # no regions, only single bins selected\n",
    "        #print(change['owner'].selected[0])\n",
    "        i,j = change['owner'].selected[0]\n",
    "        v = data[i,j]\n",
    "        selectedLabel.value = 'Data Value = ' + str(v)\n",
    "    \n",
    "# Step 2: define scales\n",
    "col_sc = bqplot.ColorScale(scheme='Greens')\n",
    "x_sc = bqplot.OrdinalScale()\n",
    "y_sc = bqplot.OrdinalScale()\n",
    "\n",
    "# Step 3: define our axis\n",
    "col_ax = bqplot.ColorAxis(scale=col_sc, orientation='vertical', side='right')\n",
    "x_ax = bqplot.Axis(scale=x_sc)\n",
    "y_ax = bqplot.Axis(scale=y_sc, orientation='vertical')\n",
    "\n",
    "# Step 4: define marks\n",
    "heat_map = bqplot.GridHeatMap(color=data, scales={'color':col_sc, 'row':y_sc, 'column':x_sc},\n",
    "                             interactions={'click':'select'},\n",
    "                             selected_style={'fill':'magenta'})\n",
    "\n",
    "# Step 5: interactions\n",
    "heat_map.observe(on_selected, 'selected')\n",
    "\n",
    "# finally, a figure\n",
    "fig = bqplot.Figure(marks=[heat_map], axes=[col_ax,x_ax,y_ax])\n",
    "#fig\n",
    "myDashboard = ipywidgets.VBox([selectedLabel,fig])\n",
    "myDashboard"
   ]
  },
  {
   "cell_type": "markdown",
   "id": "85460d7a",
   "metadata": {},
   "source": [
    "## 3D Data (random)"
   ]
  },
  {
   "cell_type": "code",
   "execution_count": 27,
   "id": "b3cc580f",
   "metadata": {},
   "outputs": [],
   "source": [
    "data3d = np.random.random((10,10,20))"
   ]
  },
  {
   "cell_type": "code",
   "execution_count": 28,
   "id": "2bb1f8a2",
   "metadata": {},
   "outputs": [
    {
     "data": {
      "text/plain": [
       "(10, 10, 20)"
      ]
     },
     "execution_count": 28,
     "metadata": {},
     "output_type": "execute_result"
    }
   ],
   "source": [
    "data3d.shape"
   ]
  },
  {
   "cell_type": "code",
   "execution_count": 29,
   "id": "1a455bf6",
   "metadata": {},
   "outputs": [
    {
     "data": {
      "text/plain": [
       "array([0.85216072, 0.17874881, 0.70225637, 0.44148671, 0.79856464,\n",
       "       0.32288615, 0.87509418, 0.95632821, 0.38810885, 0.76111143,\n",
       "       0.77012006, 0.69276269, 0.90854716, 0.34958753, 0.31431899,\n",
       "       0.48022659, 0.02489525, 0.99256677, 0.62534896, 0.12247076])"
      ]
     },
     "execution_count": 29,
     "metadata": {},
     "output_type": "execute_result"
    }
   ],
   "source": [
    "data3d[0,0,:]"
   ]
  },
  {
   "cell_type": "code",
   "execution_count": 30,
   "id": "55bfbac9",
   "metadata": {},
   "outputs": [
    {
     "data": {
      "text/plain": [
       "0.5778795409812322"
      ]
     },
     "execution_count": 30,
     "metadata": {},
     "output_type": "execute_result"
    }
   ],
   "source": [
    "data3d[0,0,:].mean()"
   ]
  },
  {
   "cell_type": "code",
   "execution_count": 31,
   "id": "0204bb57",
   "metadata": {},
   "outputs": [
    {
     "data": {
      "text/plain": [
       "(10, 10)"
      ]
     },
     "execution_count": 31,
     "metadata": {},
     "output_type": "execute_result"
    }
   ],
   "source": [
    "data3d.mean(axis=2).shape"
   ]
  },
  {
   "cell_type": "code",
   "execution_count": 32,
   "id": "43648208",
   "metadata": {},
   "outputs": [],
   "source": [
    "selectedLabel3d = ipywidgets.Label()"
   ]
  },
  {
   "cell_type": "code",
   "execution_count": 33,
   "id": "e02c1dcf",
   "metadata": {},
   "outputs": [
    {
     "data": {
      "application/vnd.jupyter.widget-view+json": {
       "model_id": "178a26d3bdf74cfba48c679bf0270cc5",
       "version_major": 2,
       "version_minor": 0
      },
      "text/plain": [
       "VBox(children=(Label(value=''), Figure(axes=[ColorAxis(orientation='vertical', scale=ColorScale(scheme='Greens…"
      ]
     },
     "metadata": {},
     "output_type": "display_data"
    }
   ],
   "source": [
    "def on_selected(change):\n",
    "    if len(change['owner'].selected) == 1: # no regions, only single bins selected\n",
    "        i,j = change['owner'].selected[0]\n",
    "        v = data3d[i,j,:].mean()\n",
    "        selectedLabel3d.value = 'Data Mean = ' + str(v)\n",
    "    \n",
    "# Step 2: define scales\n",
    "col_sc = bqplot.ColorScale(scheme='Greens')\n",
    "x_sc = bqplot.OrdinalScale()\n",
    "y_sc = bqplot.OrdinalScale()\n",
    "\n",
    "# Step 3: define our axis\n",
    "col_ax = bqplot.ColorAxis(scale=col_sc, orientation='vertical', side='right')\n",
    "x_ax = bqplot.Axis(scale=x_sc)\n",
    "y_ax = bqplot.Axis(scale=y_sc, orientation='vertical')\n",
    "\n",
    "# Step 4: define marks\n",
    "heat_map = bqplot.GridHeatMap(color=data3d.mean(axis=2), scales={'color':col_sc, 'row':y_sc, 'column':x_sc},\n",
    "                             interactions={'click':'select'},\n",
    "                             selected_style={'fill':'magenta'})\n",
    "\n",
    "# Step 5: interactions\n",
    "heat_map.observe(on_selected, 'selected')\n",
    "\n",
    "# finally, a figure\n",
    "fig = bqplot.Figure(marks=[heat_map], axes=[col_ax,x_ax,y_ax])\n",
    "#fig\n",
    "myDashboard = ipywidgets.VBox([selectedLabel3d,fig])\n",
    "myDashboard"
   ]
  },
  {
   "cell_type": "code",
   "execution_count": 34,
   "id": "29169430",
   "metadata": {},
   "outputs": [
    {
     "data": {
      "text/plain": [
       "array([0.85216072, 0.17874881, 0.70225637, 0.44148671, 0.79856464,\n",
       "       0.32288615, 0.87509418, 0.95632821, 0.38810885, 0.76111143,\n",
       "       0.77012006, 0.69276269, 0.90854716, 0.34958753, 0.31431899,\n",
       "       0.48022659, 0.02489525, 0.99256677, 0.62534896, 0.12247076])"
      ]
     },
     "execution_count": 34,
     "metadata": {},
     "output_type": "execute_result"
    }
   ],
   "source": [
    "#1. Data for histogram (starting with a hard-coded value)\n",
    "i,j = 0,0\n",
    "data3d[i,j]"
   ]
  },
  {
   "cell_type": "code",
   "execution_count": 35,
   "id": "f3bca893",
   "metadata": {},
   "outputs": [],
   "source": [
    "# 2. Scales for histogram\n",
    "x_sch = bqplot.LinearScale() # numerical data\n",
    "y_sch = bqplot.LinearScale() # numerical data for the distribution"
   ]
  },
  {
   "cell_type": "code",
   "execution_count": 36,
   "id": "cdd3807a",
   "metadata": {},
   "outputs": [],
   "source": [
    "# 3. Axis for histogram\n",
    "x_axh = bqplot.Axis(scale=x_sch, label='Value of 3rd Axis')\n",
    "y_axh = bqplot.Axis(scale=y_sch, orientation='vertical', label='Frequency')"
   ]
  },
  {
   "cell_type": "code",
   "execution_count": 37,
   "id": "2961a801",
   "metadata": {},
   "outputs": [],
   "source": [
    "bqplot.Hist?"
   ]
  },
  {
   "cell_type": "code",
   "execution_count": 38,
   "id": "6c20908f",
   "metadata": {},
   "outputs": [],
   "source": [
    "# 4. Marks for histogram\n",
    "hist = bqplot.Hist(sample=data3d[i,j,:], # hard-coded for now\n",
    "                  normalized=False, # to get counts instead of density\n",
    "                  scales={'sample':x_sch, 'count':y_sch}, \n",
    "                  bins=5)"
   ]
  },
  {
   "cell_type": "code",
   "execution_count": 39,
   "id": "51f3612a",
   "metadata": {},
   "outputs": [],
   "source": [
    "# 5. interactions -- none right now for the histogram plot"
   ]
  },
  {
   "cell_type": "code",
   "execution_count": 40,
   "id": "b44d02fd",
   "metadata": {},
   "outputs": [
    {
     "data": {
      "application/vnd.jupyter.widget-view+json": {
       "model_id": "8fa8c7ab6f754ab6adbc4fe3d5bc868e",
       "version_major": 2,
       "version_minor": 0
      },
      "text/plain": [
       "Figure(axes=[Axis(label='Value of 3rd Axis', scale=LinearScale(), side='bottom'), Axis(label='Frequency', orie…"
      ]
     },
     "metadata": {},
     "output_type": "display_data"
    }
   ],
   "source": [
    "# finally, a figure\n",
    "figh = bqplot.Figure(marks=[hist],axes=[x_axh, y_axh])\n",
    "figh"
   ]
  },
  {
   "cell_type": "code",
   "execution_count": 41,
   "id": "063173f1",
   "metadata": {},
   "outputs": [
    {
     "data": {
      "text/plain": [
       "['_model_module',\n",
       " '_model_module_version',\n",
       " '_model_name',\n",
       " '_view_count',\n",
       " '_view_module',\n",
       " '_view_module_version',\n",
       " '_view_name',\n",
       " 'apply_clip',\n",
       " 'bins',\n",
       " 'colors',\n",
       " 'count',\n",
       " 'display_legend',\n",
       " 'enable_hover',\n",
       " 'interactions',\n",
       " 'labels',\n",
       " 'midpoints',\n",
       " 'normalized',\n",
       " 'opacities',\n",
       " 'preserve_domain',\n",
       " 'sample',\n",
       " 'scales',\n",
       " 'scales_metadata',\n",
       " 'selected',\n",
       " 'selected_style',\n",
       " 'stroke',\n",
       " 'tooltip',\n",
       " 'tooltip_location',\n",
       " 'tooltip_style',\n",
       " 'unselected_style',\n",
       " 'visible']"
      ]
     },
     "execution_count": 41,
     "metadata": {},
     "output_type": "execute_result"
    }
   ],
   "source": [
    "hist.keys"
   ]
  },
  {
   "cell_type": "code",
   "execution_count": 42,
   "id": "ec4762e0",
   "metadata": {},
   "outputs": [
    {
     "data": {
      "text/plain": [
       "array([0.85216072, 0.17874881, 0.70225637, 0.44148671, 0.79856464,\n",
       "       0.32288615, 0.87509418, 0.95632821, 0.38810885, 0.76111143,\n",
       "       0.77012006, 0.69276269, 0.90854716, 0.34958753, 0.31431899,\n",
       "       0.48022659, 0.02489525, 0.99256677, 0.62534896, 0.12247076])"
      ]
     },
     "execution_count": 42,
     "metadata": {},
     "output_type": "execute_result"
    }
   ],
   "source": [
    "hist.sample"
   ]
  },
  {
   "cell_type": "code",
   "execution_count": 43,
   "id": "e3e687bc",
   "metadata": {},
   "outputs": [
    {
     "data": {
      "application/vnd.jupyter.widget-view+json": {
       "model_id": "2bb2f732b43b4b0d8a4dc9c427dd2440",
       "version_major": 2,
       "version_minor": 0
      },
      "text/plain": [
       "VBox(children=(Label(value=''), HBox(children=(Figure(axes=[ColorAxis(orientation='vertical', scale=ColorScale…"
      ]
     },
     "metadata": {},
     "output_type": "display_data"
    }
   ],
   "source": [
    "def on_selected(change):\n",
    "    if len(change['owner'].selected) == 1: # no regions, only single bins selected\n",
    "        i,j = change['owner'].selected[0]\n",
    "        v = data3d[i,j,:].mean()\n",
    "        selectedLabel3d.value = 'Data Mean = ' + str(v) # updating the trait of the label\n",
    "        hist.sample = data3d[i,j,:] # updating the trait \"sample\" of histogram\n",
    "    \n",
    "# Step 2: define scales\n",
    "col_sc = bqplot.ColorScale(scheme='Greens')\n",
    "x_sc = bqplot.OrdinalScale()\n",
    "y_sc = bqplot.OrdinalScale()\n",
    "\n",
    "# Step 3: define our axis\n",
    "col_ax = bqplot.ColorAxis(scale=col_sc, orientation='vertical', side='right')\n",
    "x_ax = bqplot.Axis(scale=x_sc)\n",
    "y_ax = bqplot.Axis(scale=y_sc, orientation='vertical')\n",
    "\n",
    "# Step 4: define marks\n",
    "heat_map = bqplot.GridHeatMap(color=data3d.mean(axis=2), scales={'color':col_sc, 'row':y_sc, 'column':x_sc},\n",
    "                             interactions={'click':'select'},\n",
    "                             selected_style={'fill':'magenta'})\n",
    "\n",
    "# Step 5: interactions\n",
    "heat_map.observe(on_selected, 'selected')\n",
    "\n",
    "# finally, a figure\n",
    "fig = bqplot.Figure(marks=[heat_map], axes=[col_ax,x_ax,y_ax])\n",
    "#fig\n",
    "#myDashboard = ipywidgets.VBox([selectedLabel3d,fig])\n",
    "fig.layout.min_width='500px'\n",
    "figh.layout.min_width='500px'\n",
    "figures = ipywidgets.HBox([fig, figh]) # fig=heat map (driver), figh=histgram (updates)\n",
    "myDashboard = ipywidgets.VBox([selectedLabel3d, figures])\n",
    "myDashboard"
   ]
  },
  {
   "cell_type": "code",
   "execution_count": 44,
   "id": "18f06717",
   "metadata": {},
   "outputs": [],
   "source": [
    "hist.bins = 10"
   ]
  },
  {
   "cell_type": "code",
   "execution_count": 45,
   "id": "c96496c7",
   "metadata": {},
   "outputs": [
    {
     "data": {
      "application/vnd.jupyter.widget-view+json": {
       "model_id": "0b8ba49f0c4848ce8e3a5172e53775ee",
       "version_major": 2,
       "version_minor": 0
      },
      "text/plain": [
       "IntSlider(value=5, max=20, min=1)"
      ]
     },
     "metadata": {},
     "output_type": "display_data"
    }
   ],
   "source": [
    "bins_slider = ipywidgets.IntSlider(value=5,min=1, max=data3d.shape[2])\n",
    "bins_slider"
   ]
  },
  {
   "cell_type": "code",
   "execution_count": 46,
   "id": "5aef7c44",
   "metadata": {},
   "outputs": [
    {
     "data": {
      "text/plain": [
       "Link(source=(IntSlider(value=5, max=20, min=1), 'value'), target=(Hist(colors=['steelblue'], count=array([1., …"
      ]
     },
     "metadata": {},
     "output_type": "display_data"
    }
   ],
   "source": [
    "ipywidgets.jslink((bins_slider,'value'),(hist,'bins'))"
   ]
  },
  {
   "cell_type": "code",
   "execution_count": 47,
   "id": "765c7b9d",
   "metadata": {},
   "outputs": [
    {
     "data": {
      "application/vnd.jupyter.widget-view+json": {
       "model_id": "7f9c9603617742a4b1cba1b9d879a443",
       "version_major": 2,
       "version_minor": 0
      },
      "text/plain": [
       "VBox(children=(HBox(children=(Label(value=''), IntSlider(value=5, max=20, min=1))), HBox(children=(Figure(axes…"
      ]
     },
     "metadata": {},
     "output_type": "display_data"
    }
   ],
   "source": [
    "figures = ipywidgets.HBox([fig,figh])\n",
    "controls = ipywidgets.HBox([selectedLabel3d, bins_slider])\n",
    "myDashboard = ipywidgets.VBox([controls, figures])\n",
    "myDashboard"
   ]
  },
  {
   "cell_type": "markdown",
   "id": "762ce983",
   "metadata": {},
   "source": [
    "## Dashboarding with the UFO dataset"
   ]
  },
  {
   "cell_type": "code",
   "execution_count": 48,
   "id": "268cbab1",
   "metadata": {},
   "outputs": [],
   "source": [
    "data_url = 'https://raw.githubusercontent.com/UIUC-iSchool-DataViz/is445_bcubcg_fall2022/main/data/ufo-scrubbed-geocoded-time-standardized-00.csv'"
   ]
  },
  {
   "cell_type": "code",
   "execution_count": 49,
   "id": "00ad0dcd",
   "metadata": {},
   "outputs": [],
   "source": [
    "ufos = pd.read_csv(data_url, names = [\"date\", \"city\", \"state\", \"country\",\n",
    "                          \"shape\", \"duration_seconds\", \"duration\",\n",
    "                          \"comment\", \"report_date\", \n",
    "                           \"latitude\", \"longitude\"],\n",
    "                  parse_dates = [\"date\", \"report_date\"])"
   ]
  },
  {
   "cell_type": "code",
   "execution_count": 50,
   "id": "937bd79f",
   "metadata": {},
   "outputs": [
    {
     "data": {
      "text/plain": [
       "80332"
      ]
     },
     "execution_count": 50,
     "metadata": {},
     "output_type": "execute_result"
    }
   ],
   "source": [
    "len(ufos)"
   ]
  },
  {
   "cell_type": "code",
   "execution_count": 51,
   "id": "f3331614",
   "metadata": {},
   "outputs": [
    {
     "data": {
      "text/plain": [
       "array([38755, 29352, 48712, 42544, 30916, 39361,   220, 40200, 40605,\n",
       "       44453, 67950, 67157, 67425, 12124, 44931, 43384, 75235, 70713,\n",
       "       60709, 31918,  3010, 25333, 76571, 38385, 32696, 56482, 23048,\n",
       "       75700,  2477, 15687, 42007, 68605, 14370, 26671,  6113, 42988,\n",
       "       10544, 78399,  1144, 37925, 28693, 79700, 38947, 60897,  6425,\n",
       "        7875,  6180, 28529, 29267,  4110, 68409, 48050,  1032, 71780,\n",
       "       63685, 46789,  9759, 55359, 20579, 72556, 48352, 57759, 38435,\n",
       "       19389,  4562, 47559, 31178, 77954, 42147, 78424, 71142, 73478,\n",
       "       39063,  4555, 80182, 64009, 46604, 11819, 58543, 37333, 72670,\n",
       "        8834,  7665, 12927, 47089, 18050, 74941, 21060, 69785, 78715,\n",
       "       58861, 55215, 53138, 61077, 16106,  3424, 55564, 15063, 65192,\n",
       "       78252, 13486, 58486,  2217,  5501, 77779, 30162, 63805, 14526,\n",
       "       75744, 18149, 61811, 56876,  7069, 66637, 58482, 72367, 56803,\n",
       "       74646, 37297, 63607, 68601, 68521, 75228,  1189, 17003, 21114,\n",
       "       66163, 39909, 21162, 50004, 30890, 19177, 26542, 40383, 32220,\n",
       "       25721, 15723, 77975, 38784, 28889, 14196, 50484, 50274,   457,\n",
       "       73109,  8187, 38846,  2399,  6376, 13689, 66008, 24217, 71350,\n",
       "       18525, 16599, 60115, 69878, 67637, 66903, 68832, 33558,  9942,\n",
       "       62834, 35813, 28376, 30939, 68316, 45161, 80198, 13271, 57276,\n",
       "       44004, 74784, 37607, 41015,  1053, 71395, 21948,   716, 40183,\n",
       "        6211, 44354, 47672, 60955,  3304,  8189, 40445, 47167, 39520,\n",
       "        9593, 71298, 21895, 17419, 52269, 49996, 17813,  5601, 23049,\n",
       "        7198, 76892, 40195, 79281,  5393, 68766, 11994, 60846, 58530,\n",
       "       45485, 43806, 77626, 20714, 46250, 73303, 13101, 17668, 46031,\n",
       "       26258,  7625, 79660, 55624, 10696, 18630, 20952, 60434, 36541,\n",
       "       26059, 26215, 71347, 45061, 73846, 16987, 43829, 65574, 36403,\n",
       "       61963, 77545, 32091, 70593, 11621, 74354, 62345, 36845, 57719,\n",
       "       31059, 14588,  3931, 52644, 24265, 15951, 53988, 10077, 35367,\n",
       "       12322, 51573, 47688, 28499, 49807, 56204,  1843, 58887, 56297,\n",
       "       42345, 52149, 34749, 42727, 41149, 39402, 56661, 10480, 27576,\n",
       "       66776, 67088, 75389, 25806, 39335, 69719, 55309, 41901, 64382,\n",
       "       46907, 33461, 70346, 21706, 41312, 38399, 76856, 71944, 62275,\n",
       "        7741,  9857, 25609, 60382, 43768, 77661, 65388, 24533, 79969,\n",
       "        3828, 61389, 78937,  8660, 56001, 80125, 52025, 35482,  3968,\n",
       "       52384,  6375, 56709, 53694, 11548, 38413, 58600, 39044,   258,\n",
       "       72447, 47717, 77713, 48517, 65518, 13946, 72343, 45400, 14465,\n",
       "       36872,  6149, 54061, 51452, 71907, 77222, 22653, 50803,  5718,\n",
       "       50318, 34554, 74317, 32752, 45557,  4302, 63828, 27434, 77762,\n",
       "       32335, 30548, 44592,  1664, 30585,  9916, 45749, 23235, 41145,\n",
       "       65573, 20107, 62850, 63683, 67744, 30195, 78512, 10554, 48096,\n",
       "       49980,  5775, 64742, 17124, 61628, 24490, 57681, 38320, 64244,\n",
       "       78090,  5119, 78458, 54634, 42543, 63744, 11272, 52064, 27243,\n",
       "       37671, 25937, 10620, 42143, 25038, 54021, 50999, 54978, 69714,\n",
       "       39311, 73266, 13582, 64425, 55966, 24647, 52040, 62612, 19381,\n",
       "       49759, 32474, 13935, 19634, 13533, 47387, 55090, 53895, 19440,\n",
       "       33005, 34463, 73718, 20090, 15503,  6735, 78741, 56114, 58965,\n",
       "       16541, 34073, 17846, 56715,   304, 47101, 54116, 69324, 33416,\n",
       "       39152, 37620, 50332, 79309,  2194, 66663, 34812, 30518, 42852,\n",
       "       37461, 32743, 44507, 10989, 44670, 44464,  9294, 46056, 12326,\n",
       "       30958, 41451, 62662, 67771, 55779, 67906, 21665, 31286, 49396,\n",
       "       43295, 73048, 75215, 54173, 40015, 50231, 33928, 57907, 61203,\n",
       "       61108, 30448, 45975, 37609, 69397, 23196, 36189, 31777,   446,\n",
       "       39215, 23044, 32322, 66888, 63281,   274,  2751, 49207, 37262,\n",
       "       43750, 24035, 65532, 17187, 75870, 49020, 77787, 78641, 23847,\n",
       "       18390, 47946, 48462, 60334, 44103, 51009, 60233, 78985, 69105,\n",
       "       58903, 71432, 21841, 72420, 59861, 13449, 70358, 11064, 40773,\n",
       "        7579, 31899, 55659,  3974, 20125, 56756, 71601, 23797, 19986,\n",
       "       50718, 43160,  6878,  1235, 45248,  3704, 28295, 35705, 43153,\n",
       "        3910, 59604, 40089, 21686, 55613, 31172, 77306,  5151, 65895,\n",
       "       54086,   519, 35882, 33443, 17344, 73978, 65383, 54793, 17803,\n",
       "       25862, 63033, 66755, 23372, 44006, 17063, 27635, 17984, 73230,\n",
       "       20670, 74115, 76855, 49218,  3147, 22005, 10338, 71429, 56279,\n",
       "       64330, 36184, 16911, 77015,  3409, 28075,  6798, 48905,  2183,\n",
       "       35433, 21974,  7843, 15945, 12379, 51197, 57306, 18471, 45420,\n",
       "       15240, 67320, 38252, 25671,  3950, 35760, 36939, 60607, 64617,\n",
       "       32613, 51788, 61735, 42662, 43882,  3555,  6901, 65300, 42346,\n",
       "       29585, 69333,  4583, 34354,  4200, 76211, 68561, 16784, 62377,\n",
       "       11176, 32651, 51989, 70570, 55277, 38940, 13096, 26892,   482,\n",
       "       14116,  9800, 68381, 68460, 68810, 20862, 38335, 77928, 77479,\n",
       "        2734, 43909, 73570,  4725, 12093, 68787, 25060, 10035, 80280,\n",
       "       77988, 80213, 27580, 69416, 44521, 19758, 55425,  8559, 76031,\n",
       "       35953, 48784,  6243, 38717, 64174, 45486, 14544,  3490, 60696,\n",
       "       34710, 48676, 20174, 33480, 23032, 30536, 61366, 38986, 38001,\n",
       "       41393, 31127, 52882, 20364, 15234, 62902, 30244, 13411,  9522,\n",
       "       51174,  5964, 77557, 59559,   485, 47984, 20703, 29193, 28233,\n",
       "       58360, 77151, 49602, 76771, 37560, 70192, 46837, 74469, 16137,\n",
       "       27966, 39323, 38600, 43681,  8447,  6206, 76416,  7407,  5677,\n",
       "       58702, 21348, 41941,  1774, 69516, 33075, 55506, 39341, 26959,\n",
       "        4661, 52774,  7772, 34728, 48471, 65807,  9429, 63485, 46927,\n",
       "       16836, 57925, 44315, 45913, 65083, 53677, 60237, 22657, 40054,\n",
       "       28380, 24093, 62605, 15145, 51910, 79385, 25139, 68140, 45778,\n",
       "       10391, 56324, 40658, 15585,  3467, 32374, 41652, 22918, 10108,\n",
       "       46176, 54676, 60790,  8899, 39824, 79349, 34506, 77910, 31096,\n",
       "       40161, 62403,  1593, 49184, 22413, 31446,  3337, 46897, 18888,\n",
       "       14571, 68179, 26165,  6595, 22915, 38581,  5112, 37003, 20765,\n",
       "       29009, 75463, 11070, 23080,  1427, 57344, 58159,  5886, 29787,\n",
       "        1772,  4660, 53636, 69387, 26847, 45444, 55571, 18188, 12818,\n",
       "       74330, 51712, 79456, 24889, 21871, 51687, 26641, 68603, 35560,\n",
       "       29285, 45603, 78277, 52615, 20981, 27687, 13821, 50018, 61835,\n",
       "       18480, 59574, 61988, 33587, 41180, 38449,  1805, 24588,  1222,\n",
       "       12592, 28606, 13720, 55859, 70901,  4786, 37553,  8863, 14824,\n",
       "       63602, 31933, 70229, 30181, 71641, 67245, 40262, 75687, 70964,\n",
       "       74626, 55246, 38716, 40519, 52248, 64069, 28755, 12964, 27986,\n",
       "       70294, 11349, 78122, 47129, 77060, 71685, 29280, 67896, 46078,\n",
       "       68312, 66865, 22186, 63635,   128, 54004, 26683, 35416, 31416,\n",
       "       62572, 62470,  4168,   673, 74638, 20097, 48578, 60761,  5865,\n",
       "       20656, 16046, 25463, 68351, 46278, 58480, 72366,  3531, 58908,\n",
       "       56669, 12389, 19888, 68322, 78035,  9482, 23487,  1785, 12073,\n",
       "       14021, 61926, 13252, 76177, 25191, 23443, 77459, 14060, 42923,\n",
       "       79603, 27996,   160, 72963, 27915, 35278,  1864, 17186, 70858,\n",
       "       73753, 44909, 74661, 12672, 55529, 73469, 22198,  2413,  9013,\n",
       "       42692,  6389, 70662, 27952, 76282, 67761, 74482,  3527, 77970,\n",
       "       77398, 64402, 44768, 20432, 30524, 14930, 28751, 46735,  3786,\n",
       "        3548, 11771, 44578, 65852, 36871,  3186, 43686, 14099, 16897,\n",
       "       51597, 80037, 40273, 44679, 66907,  1340, 41410, 32606, 17624,\n",
       "       77095, 47038, 27664, 78582, 53570, 37042, 72496, 62864, 53627,\n",
       "       64959, 50218, 51399, 73256, 62399, 24068, 50881, 65870, 61206,\n",
       "       25869, 16532, 68252, 35199, 64699, 73885, 59687, 18362,  6177,\n",
       "       11351,  3803, 43048, 38285, 52205, 29833,  5627, 29452, 42359,\n",
       "       61972, 25248, 53829, 43546, 50335, 31345, 66629, 17506, 28948,\n",
       "       50009, 72176,  3329,  4235, 36303, 63377, 48664, 40384, 38845,\n",
       "       68307])"
      ]
     },
     "execution_count": 51,
     "metadata": {},
     "output_type": "execute_result"
    }
   ],
   "source": [
    "nsamples = 1000\n",
    "downSampleMask = np.random.choice(range(len(ufos)-1), nsamples, replace=False)\n",
    "downSampleMask"
   ]
  },
  {
   "cell_type": "code",
   "execution_count": 52,
   "id": "10211e68",
   "metadata": {},
   "outputs": [],
   "source": [
    "ufosDS = ufos.loc[downSampleMask]"
   ]
  },
  {
   "cell_type": "code",
   "execution_count": 53,
   "id": "bee9b785",
   "metadata": {},
   "outputs": [
    {
     "data": {
      "text/plain": [
       "1000"
      ]
     },
     "execution_count": 53,
     "metadata": {},
     "output_type": "execute_result"
    }
   ],
   "source": [
    "len(ufosDS)"
   ]
  },
  {
   "cell_type": "code",
   "execution_count": 54,
   "id": "49611238",
   "metadata": {},
   "outputs": [
    {
     "data": {
      "text/html": [
       "<div>\n",
       "<style scoped>\n",
       "    .dataframe tbody tr th:only-of-type {\n",
       "        vertical-align: middle;\n",
       "    }\n",
       "\n",
       "    .dataframe tbody tr th {\n",
       "        vertical-align: top;\n",
       "    }\n",
       "\n",
       "    .dataframe thead th {\n",
       "        text-align: right;\n",
       "    }\n",
       "</style>\n",
       "<table border=\"1\" class=\"dataframe\">\n",
       "  <thead>\n",
       "    <tr style=\"text-align: right;\">\n",
       "      <th></th>\n",
       "      <th>date</th>\n",
       "      <th>city</th>\n",
       "      <th>state</th>\n",
       "      <th>country</th>\n",
       "      <th>shape</th>\n",
       "      <th>duration_seconds</th>\n",
       "      <th>duration</th>\n",
       "      <th>comment</th>\n",
       "      <th>report_date</th>\n",
       "      <th>latitude</th>\n",
       "      <th>longitude</th>\n",
       "    </tr>\n",
       "  </thead>\n",
       "  <tbody>\n",
       "    <tr>\n",
       "      <th>38755</th>\n",
       "      <td>2014-04-23 20:15:00</td>\n",
       "      <td>clovis</td>\n",
       "      <td>nm</td>\n",
       "      <td>us</td>\n",
       "      <td>unknown</td>\n",
       "      <td>120.0</td>\n",
       "      <td>2 minutes</td>\n",
       "      <td>Bright solid light moveing east then changed t...</td>\n",
       "      <td>2014-04-24</td>\n",
       "      <td>34.404722</td>\n",
       "      <td>-103.204722</td>\n",
       "    </tr>\n",
       "    <tr>\n",
       "      <th>29352</th>\n",
       "      <td>2010-02-04 15:00:00</td>\n",
       "      <td>nicolosi&amp;#44 sicily (italy; mt. etna)</td>\n",
       "      <td>tn</td>\n",
       "      <td>NaN</td>\n",
       "      <td>NaN</td>\n",
       "      <td>5.0</td>\n",
       "      <td>5 seconds</td>\n",
       "      <td>Posess surprise daytime image of huge triangle</td>\n",
       "      <td>2010-04-13</td>\n",
       "      <td>37.617495</td>\n",
       "      <td>15.024093</td>\n",
       "    </tr>\n",
       "    <tr>\n",
       "      <th>48712</th>\n",
       "      <td>1971-06-15 12:00:00</td>\n",
       "      <td>orange/anahiem</td>\n",
       "      <td>ca</td>\n",
       "      <td>NaN</td>\n",
       "      <td>disk</td>\n",
       "      <td>60.0</td>\n",
       "      <td>1 minute</td>\n",
       "      <td>saucer over Angel Stadium summer of 71 or 72</td>\n",
       "      <td>2005-02-22</td>\n",
       "      <td>33.835293</td>\n",
       "      <td>-117.914504</td>\n",
       "    </tr>\n",
       "    <tr>\n",
       "      <th>42544</th>\n",
       "      <td>2004-05-15 19:00:00</td>\n",
       "      <td>satara (india)</td>\n",
       "      <td>NaN</td>\n",
       "      <td>NaN</td>\n",
       "      <td>circle</td>\n",
       "      <td>300.0</td>\n",
       "      <td>5 min</td>\n",
       "      <td>is that natural miracal ?</td>\n",
       "      <td>2004-06-04</td>\n",
       "      <td>17.680000</td>\n",
       "      <td>73.980000</td>\n",
       "    </tr>\n",
       "    <tr>\n",
       "      <th>30916</th>\n",
       "      <td>2005-03-12 23:00:00</td>\n",
       "      <td>kelseyville</td>\n",
       "      <td>ca</td>\n",
       "      <td>us</td>\n",
       "      <td>disk</td>\n",
       "      <td>180.0</td>\n",
       "      <td>3 minutes</td>\n",
       "      <td>3 Red Glowing UFOs</td>\n",
       "      <td>2006-07-16</td>\n",
       "      <td>38.978056</td>\n",
       "      <td>-122.838333</td>\n",
       "    </tr>\n",
       "    <tr>\n",
       "      <th>...</th>\n",
       "      <td>...</td>\n",
       "      <td>...</td>\n",
       "      <td>...</td>\n",
       "      <td>...</td>\n",
       "      <td>...</td>\n",
       "      <td>...</td>\n",
       "      <td>...</td>\n",
       "      <td>...</td>\n",
       "      <td>...</td>\n",
       "      <td>...</td>\n",
       "      <td>...</td>\n",
       "    </tr>\n",
       "    <tr>\n",
       "      <th>63377</th>\n",
       "      <td>1987-07-07 13:00:00</td>\n",
       "      <td>ciolpani (romania)</td>\n",
       "      <td>NaN</td>\n",
       "      <td>NaN</td>\n",
       "      <td>disk</td>\n",
       "      <td>300.0</td>\n",
       "      <td>5 minutes</td>\n",
       "      <td>Stationary object above Lake of Snagov.</td>\n",
       "      <td>2004-01-17</td>\n",
       "      <td>44.727240</td>\n",
       "      <td>26.109570</td>\n",
       "    </tr>\n",
       "    <tr>\n",
       "      <th>48664</th>\n",
       "      <td>1966-06-15 00:00:00</td>\n",
       "      <td>baltimore</td>\n",
       "      <td>md</td>\n",
       "      <td>us</td>\n",
       "      <td>oval</td>\n",
       "      <td>1200.0</td>\n",
       "      <td>15-20 min</td>\n",
       "      <td>UFO-approx 1965-67 Bowleys Quarters MD&amp;#44 Sil...</td>\n",
       "      <td>2007-06-12</td>\n",
       "      <td>39.290278</td>\n",
       "      <td>-76.612500</td>\n",
       "    </tr>\n",
       "    <tr>\n",
       "      <th>40384</th>\n",
       "      <td>2009-04-05 19:00:00</td>\n",
       "      <td>taunton (somerset) (uk/england)</td>\n",
       "      <td>NaN</td>\n",
       "      <td>gb</td>\n",
       "      <td>sphere</td>\n",
       "      <td>180.0</td>\n",
       "      <td>3:mins</td>\n",
       "      <td>Orange Sphere seen over Taunton somerset UK.</td>\n",
       "      <td>2009-12-12</td>\n",
       "      <td>51.021111</td>\n",
       "      <td>-3.104722</td>\n",
       "    </tr>\n",
       "    <tr>\n",
       "      <th>38845</th>\n",
       "      <td>2007-04-24 21:40:00</td>\n",
       "      <td>brentwood</td>\n",
       "      <td>ca</td>\n",
       "      <td>us</td>\n",
       "      <td>circle</td>\n",
       "      <td>300.0</td>\n",
       "      <td>5 minutes</td>\n",
       "      <td>Bright Orange round object sighted in the East...</td>\n",
       "      <td>2007-04-27</td>\n",
       "      <td>37.931944</td>\n",
       "      <td>-121.694722</td>\n",
       "    </tr>\n",
       "    <tr>\n",
       "      <th>68307</th>\n",
       "      <td>2003-08-21 23:00:00</td>\n",
       "      <td>osaka (japan)</td>\n",
       "      <td>NaN</td>\n",
       "      <td>NaN</td>\n",
       "      <td>changing</td>\n",
       "      <td>30.0</td>\n",
       "      <td>00:00:30</td>\n",
       "      <td>Bright light changed into 3 redish colored lig...</td>\n",
       "      <td>2003-08-28</td>\n",
       "      <td>34.693738</td>\n",
       "      <td>135.502165</td>\n",
       "    </tr>\n",
       "  </tbody>\n",
       "</table>\n",
       "<p>1000 rows × 11 columns</p>\n",
       "</div>"
      ],
      "text/plain": [
       "                     date                                   city state  \\\n",
       "38755 2014-04-23 20:15:00                                 clovis    nm   \n",
       "29352 2010-02-04 15:00:00  nicolosi&#44 sicily (italy; mt. etna)    tn   \n",
       "48712 1971-06-15 12:00:00                         orange/anahiem    ca   \n",
       "42544 2004-05-15 19:00:00                         satara (india)   NaN   \n",
       "30916 2005-03-12 23:00:00                            kelseyville    ca   \n",
       "...                   ...                                    ...   ...   \n",
       "63377 1987-07-07 13:00:00                     ciolpani (romania)   NaN   \n",
       "48664 1966-06-15 00:00:00                              baltimore    md   \n",
       "40384 2009-04-05 19:00:00        taunton (somerset) (uk/england)   NaN   \n",
       "38845 2007-04-24 21:40:00                              brentwood    ca   \n",
       "68307 2003-08-21 23:00:00                          osaka (japan)   NaN   \n",
       "\n",
       "      country     shape  duration_seconds   duration  \\\n",
       "38755      us   unknown             120.0  2 minutes   \n",
       "29352     NaN       NaN               5.0  5 seconds   \n",
       "48712     NaN      disk              60.0   1 minute   \n",
       "42544     NaN    circle             300.0      5 min   \n",
       "30916      us      disk             180.0  3 minutes   \n",
       "...       ...       ...               ...        ...   \n",
       "63377     NaN      disk             300.0  5 minutes   \n",
       "48664      us      oval            1200.0  15-20 min   \n",
       "40384      gb    sphere             180.0     3:mins   \n",
       "38845      us    circle             300.0  5 minutes   \n",
       "68307     NaN  changing              30.0   00:00:30   \n",
       "\n",
       "                                                 comment report_date  \\\n",
       "38755  Bright solid light moveing east then changed t...  2014-04-24   \n",
       "29352     Posess surprise daytime image of huge triangle  2010-04-13   \n",
       "48712       saucer over Angel Stadium summer of 71 or 72  2005-02-22   \n",
       "42544                          is that natural miracal ?  2004-06-04   \n",
       "30916                                 3 Red Glowing UFOs  2006-07-16   \n",
       "...                                                  ...         ...   \n",
       "63377            Stationary object above Lake of Snagov.  2004-01-17   \n",
       "48664  UFO-approx 1965-67 Bowleys Quarters MD&#44 Sil...  2007-06-12   \n",
       "40384       Orange Sphere seen over Taunton somerset UK.  2009-12-12   \n",
       "38845  Bright Orange round object sighted in the East...  2007-04-27   \n",
       "68307  Bright light changed into 3 redish colored lig...  2003-08-28   \n",
       "\n",
       "        latitude   longitude  \n",
       "38755  34.404722 -103.204722  \n",
       "29352  37.617495   15.024093  \n",
       "48712  33.835293 -117.914504  \n",
       "42544  17.680000   73.980000  \n",
       "30916  38.978056 -122.838333  \n",
       "...          ...         ...  \n",
       "63377  44.727240   26.109570  \n",
       "48664  39.290278  -76.612500  \n",
       "40384  51.021111   -3.104722  \n",
       "38845  37.931944 -121.694722  \n",
       "68307  34.693738  135.502165  \n",
       "\n",
       "[1000 rows x 11 columns]"
      ]
     },
     "execution_count": 54,
     "metadata": {},
     "output_type": "execute_result"
    }
   ],
   "source": [
    "ufosDS"
   ]
  },
  {
   "cell_type": "code",
   "execution_count": 55,
   "id": "44f412b2",
   "metadata": {},
   "outputs": [
    {
     "data": {
      "application/vnd.jupyter.widget-view+json": {
       "model_id": "aca6077d254c45acb329bd1cb78d429a",
       "version_major": 2,
       "version_minor": 0
      },
      "text/plain": [
       "Figure(axes=[Axis(label='Longitude', scale=LinearScale()), Axis(label='Latitude', orientation='vertical', scal…"
      ]
     },
     "metadata": {},
     "output_type": "display_data"
    }
   ],
   "source": [
    "# 1. data = for a scatter plot is the downsampled data\n",
    "\n",
    "# 2. scales\n",
    "x_sc = bqplot.LinearScale()\n",
    "y_sc = bqplot.LinearScale()\n",
    "\n",
    "# 3. axis\n",
    "x_ax = bqplot.Axis(scale=x_sc, label='Longitude')\n",
    "y_ax = bqplot.Axis(scale=y_sc, orientation='vertical', label='Latitude')\n",
    "\n",
    "# 4. marks\n",
    "scatters = bqplot.Scatter(x=ufosDS['longitude'], y=ufosDS['latitude'],\n",
    "                         scales = {'x':x_sc, 'y':y_sc})\n",
    "\n",
    "# skipping a bit... right into figure\n",
    "fig = bqplot.Figure(marks=[scatters],axes=[x_ax, y_ax])\n",
    "fig"
   ]
  },
  {
   "cell_type": "code",
   "execution_count": 56,
   "id": "9446cccb",
   "metadata": {},
   "outputs": [
    {
     "data": {
      "application/vnd.jupyter.widget-view+json": {
       "model_id": "8125cf084d1a44239b8cff0e4075bace",
       "version_major": 2,
       "version_minor": 0
      },
      "text/plain": [
       "Figure(axes=[Axis(label='Longitude', scale=LinearScale()), Axis(label='Latitude', orientation='vertical', scal…"
      ]
     },
     "metadata": {},
     "output_type": "display_data"
    }
   ],
   "source": [
    "# 1. data = for a scatter plot is the downsampled data\n",
    "\n",
    "# 2. scales\n",
    "x_sc = bqplot.LinearScale()\n",
    "y_sc = bqplot.LinearScale()\n",
    "col_sc = bqplot.ColorScale()\n",
    "\n",
    "# 3. axis\n",
    "x_ax = bqplot.Axis(scale=x_sc, label='Longitude')\n",
    "y_ax = bqplot.Axis(scale=y_sc, orientation='vertical', label='Latitude')\n",
    "col_ax = bqplot.ColorAxis(scale=col_sc, label='Duration in sec', orientation='vertical', side='right')\n",
    "\n",
    "# 4. marks\n",
    "scatters = bqplot.Scatter(x=ufosDS['longitude'], y=ufosDS['latitude'],\n",
    "                          color = ufosDS['duration_seconds'],\n",
    "                         scales = {'x':x_sc, 'y':y_sc, 'color':col_sc})\n",
    "\n",
    "# skipping a bit... right into figure\n",
    "fig = bqplot.Figure(marks=[scatters],axes=[x_ax, y_ax,col_ax])\n",
    "fig"
   ]
  },
  {
   "cell_type": "code",
   "execution_count": 57,
   "id": "a8a6388c",
   "metadata": {},
   "outputs": [
    {
     "data": {
      "text/plain": [
       "(1.0, 1080000.0)"
      ]
     },
     "execution_count": 57,
     "metadata": {},
     "output_type": "execute_result"
    }
   ],
   "source": [
    "ufosDS['duration_seconds'].min(), ufosDS['duration_seconds'].max()"
   ]
  },
  {
   "cell_type": "code",
   "execution_count": 58,
   "id": "52d2d9ab",
   "metadata": {},
   "outputs": [
    {
     "data": {
      "application/vnd.jupyter.widget-view+json": {
       "model_id": "1595a12944304bea9b69facb49f062c5",
       "version_major": 2,
       "version_minor": 0
      },
      "text/plain": [
       "Figure(axes=[Axis(label='Longitude', scale=LinearScale()), Axis(label='Latitude', orientation='vertical', scal…"
      ]
     },
     "metadata": {},
     "output_type": "display_data"
    }
   ],
   "source": [
    "# 1. data = for a scatter plot is the downsampled data\n",
    "\n",
    "# 2. scales\n",
    "x_sc = bqplot.LinearScale()\n",
    "y_sc = bqplot.LinearScale()\n",
    "col_sc = bqplot.ColorScale()\n",
    "\n",
    "# 3. axis\n",
    "x_ax = bqplot.Axis(scale=x_sc, label='Longitude')\n",
    "y_ax = bqplot.Axis(scale=y_sc, orientation='vertical', label='Latitude')\n",
    "col_ax = bqplot.ColorAxis(scale=col_sc, label='Duration in sec', orientation='vertical', side='right')\n",
    "\n",
    "# 4. marks\n",
    "scatters = bqplot.Scatter(x=ufosDS['longitude'], y=ufosDS['latitude'],\n",
    "                          color = np.log10(ufosDS['duration_seconds']),\n",
    "                         scales = {'x':x_sc, 'y':y_sc, 'color':col_sc})\n",
    "\n",
    "# skipping a bit... right into figure\n",
    "fig = bqplot.Figure(marks=[scatters],axes=[x_ax, y_ax,col_ax])\n",
    "fig"
   ]
  },
  {
   "cell_type": "code",
   "execution_count": 59,
   "id": "0349fd7e",
   "metadata": {},
   "outputs": [],
   "source": [
    "def generate_histogram_from_lat_long(ufos, nlong=20, nlat=20, longmin=-150, longmax=150,\n",
    "                                     latmin=-40, latmax=70,\n",
    "                                     takeLog=True):\n",
    "    long_bins = np.linspace(longmin, longmax, nlong+1)\n",
    "    lat_bins = np.linspace(latmin, latmax, nlat+1)\n",
    "    hist2d, long_edges, lat_edges = np.histogram2d(ufos['longitude'], \n",
    "                                                   ufos['latitude'], \n",
    "                                                   weights=ufos['duration_seconds'],\n",
    "                                                  bins = [long_bins,lat_bins])\n",
    "    hist2d = hist2d.T\n",
    "    if takeLog:\n",
    "        hist2d[hist2d <= 0] = np.nan # set zeros to NaNs\n",
    "        # then take log\n",
    "        hist2d = np.log10(hist2d)\n",
    "    long_centers = (long_edges[:-1] + long_edges[1:]) / 2\n",
    "    lat_centers = (lat_edges[:-1] + lat_edges[1:]) / 2\n",
    "    return hist2d, long_centers, lat_centers, long_edges, lat_edges"
   ]
  },
  {
   "cell_type": "code",
   "execution_count": 60,
   "id": "5164c076",
   "metadata": {},
   "outputs": [],
   "source": [
    "hist2d, long_centers, lat_centers, long_edges, lat_edges = generate_histogram_from_lat_long(ufos)"
   ]
  },
  {
   "cell_type": "code",
   "execution_count": 61,
   "id": "5ac83cf2",
   "metadata": {},
   "outputs": [],
   "source": [
    "#hist2d"
   ]
  },
  {
   "cell_type": "code",
   "execution_count": 62,
   "id": "dc7dce0b",
   "metadata": {},
   "outputs": [
    {
     "data": {
      "application/vnd.jupyter.widget-view+json": {
       "model_id": "a1cbadc85a754a32996ffec2d50fbb87",
       "version_major": 2,
       "version_minor": 0
      },
      "text/plain": [
       "Figure(axes=[ColorAxis(orientation='vertical', scale=ColorScale(max=8.09710747658943, min=0.0, scheme='RdPu'),…"
      ]
     },
     "metadata": {},
     "output_type": "display_data"
    }
   ],
   "source": [
    "# 1. data for the UFOS lat/long map (pre-binned)\n",
    "\n",
    "# 2. scales\n",
    "col_sc = bqplot.ColorScale(scheme=\"RdPu\", min=np.nanmin(hist2d), max=np.nanmax(hist2d))\n",
    "x_sc = bqplot.LinearScale()\n",
    "y_sc = bqplot.LinearScale()\n",
    "\n",
    "# 3. axis\n",
    "col_ax = bqplot.ColorAxis(scale=col_sc, orientation='vertical', side='right')\n",
    "x_ax = bqplot.Axis(scale=x_sc, label='Longitude')\n",
    "y_ax = bqplot.Axis(scale=y_sc, label='Latitude', orientation='vertical')\n",
    "\n",
    "# 4. marks\n",
    "heat_map = bqplot.GridHeatMap(color=hist2d, row=lat_centers, column=long_centers,\n",
    "                             scales={'color':col_sc, 'row':y_sc, 'column':x_sc},\n",
    "                             interactions={'click':'select'},\n",
    "                             selected_style={'fill':'blue'})\n",
    "\n",
    "# 5. interactivity\n",
    "\n",
    "# all together now!\n",
    "fig = bqplot.Figure(marks=[heat_map], axes=[col_ax, x_ax, y_ax])\n",
    "fig"
   ]
  },
  {
   "cell_type": "code",
   "execution_count": 63,
   "id": "9c5c4808",
   "metadata": {},
   "outputs": [
    {
     "data": {
      "application/vnd.jupyter.widget-view+json": {
       "model_id": "fa5b578ad34a440681c147c8bc72adcb",
       "version_major": 2,
       "version_minor": 0
      },
      "text/plain": [
       "VBox(children=(Label(value=''), Figure(axes=[ColorAxis(orientation='vertical', scale=ColorScale(max=8.09710747…"
      ]
     },
     "metadata": {},
     "output_type": "display_data"
    }
   ],
   "source": [
    "# 1. data for the UFOS lat/long map (pre-binned)\n",
    "\n",
    "# 2. scales\n",
    "col_sc = bqplot.ColorScale(scheme=\"RdPu\", min=np.nanmin(hist2d), max=np.nanmax(hist2d))\n",
    "x_sc = bqplot.LinearScale()\n",
    "y_sc = bqplot.LinearScale()\n",
    "\n",
    "# 3. axis\n",
    "col_ax = bqplot.ColorAxis(scale=col_sc, orientation='vertical', side='right')\n",
    "x_ax = bqplot.Axis(scale=x_sc, label='Longitude')\n",
    "y_ax = bqplot.Axis(scale=y_sc, label='Latitude', orientation='vertical')\n",
    "\n",
    "# 4. marks\n",
    "heat_map = bqplot.GridHeatMap(color=hist2d, row=lat_centers, column=long_centers,\n",
    "                             scales={'color':col_sc, 'row':y_sc, 'column':x_sc},\n",
    "                             interactions={'click':'select'},\n",
    "                             selected_style={'fill':'blue'})\n",
    "\n",
    "# 5. interactivity\n",
    "selectedLabel = ipywidgets.Label()\n",
    "def get_data_value(change):\n",
    "    if len(change['owner'].selected) == 1: # only 1 selection allowed\n",
    "        i,j = change['owner'].selected[0]\n",
    "        v = hist2d[i,j]\n",
    "        selectedLabel.value = 'Total duration in log(sec)=' + str(v)\n",
    "        \n",
    "# make sure to link to the trait that is changing in the heat map\n",
    "heat_map.observe(get_data_value, 'selected')\n",
    "\n",
    "# all together now!\n",
    "fig = bqplot.Figure(marks=[heat_map], axes=[col_ax, x_ax, y_ax])\n",
    "#fig\n",
    "myDashboard = ipywidgets.VBox([selectedLabel, fig])\n",
    "myDashboard"
   ]
  },
  {
   "cell_type": "code",
   "execution_count": 64,
   "id": "6d388faf",
   "metadata": {},
   "outputs": [],
   "source": [
    "import datetime as dt"
   ]
  },
  {
   "cell_type": "code",
   "execution_count": 65,
   "id": "808da458",
   "metadata": {},
   "outputs": [],
   "source": [
    "# 2. scales for scatter plot\n",
    "x_scl = bqplot.DateScale(min=dt.datetime(1950,1,1),max=dt.datetime(2022,1,1))\n",
    "y_scl = bqplot.LogScale()"
   ]
  },
  {
   "cell_type": "code",
   "execution_count": 66,
   "id": "11ee6bcd",
   "metadata": {},
   "outputs": [],
   "source": [
    "ax_xcl = bqplot.Axis(label='Date', scale=x_scl)\n",
    "ax_ycl = bqplot.Axis(label='Duration in Sec', scale=y_scl, orientation='vertical')"
   ]
  },
  {
   "cell_type": "code",
   "execution_count": 67,
   "id": "2d163873",
   "metadata": {},
   "outputs": [],
   "source": [
    "i,j = 19,0 # I know this has a lot of data!"
   ]
  },
  {
   "cell_type": "code",
   "execution_count": 68,
   "id": "141bfb31",
   "metadata": {},
   "outputs": [],
   "source": [
    "# ufos[i,j] this won't work!  our data is not in a 20x20 grid format\n",
    "long_min = long_edges[j] # j is associated with y\n",
    "long_max = long_edges[j+1]"
   ]
  },
  {
   "cell_type": "code",
   "execution_count": 69,
   "id": "30c3caf1",
   "metadata": {},
   "outputs": [
    {
     "data": {
      "text/plain": [
       "(-150.0, -135.0)"
      ]
     },
     "execution_count": 69,
     "metadata": {},
     "output_type": "execute_result"
    }
   ],
   "source": [
    "long_min, long_max"
   ]
  },
  {
   "cell_type": "code",
   "execution_count": 70,
   "id": "6c1366eb",
   "metadata": {},
   "outputs": [],
   "source": [
    "lat_min = lat_edges[i] # i is associated with x\n",
    "lat_max = lat_edges[i+1]"
   ]
  },
  {
   "cell_type": "code",
   "execution_count": 71,
   "id": "a2d33b6a",
   "metadata": {},
   "outputs": [
    {
     "data": {
      "text/plain": [
       "(64.5, 70.0)"
      ]
     },
     "execution_count": 71,
     "metadata": {},
     "output_type": "execute_result"
    }
   ],
   "source": [
    "lat_min, lat_max"
   ]
  },
  {
   "cell_type": "code",
   "execution_count": 72,
   "id": "f6e404c8",
   "metadata": {},
   "outputs": [],
   "source": [
    "region_mask = ( (ufos['latitude']>=lat_min) & (ufos['latitude']<=lat_max) &\\\n",
    "              (ufos['longitude']>=long_min) & (ufos['longitude']<=long_max) )"
   ]
  },
  {
   "cell_type": "code",
   "execution_count": 73,
   "id": "c8f021d7",
   "metadata": {},
   "outputs": [
    {
     "data": {
      "text/plain": [
       "327      64.837778\n",
       "2845     64.837778\n",
       "3620     64.837778\n",
       "4602     64.751111\n",
       "6011     64.837778\n",
       "           ...    \n",
       "77347    64.751111\n",
       "77497    64.837778\n",
       "78571    64.837778\n",
       "79029    64.837778\n",
       "79470    64.837778\n",
       "Name: latitude, Length: 74, dtype: float64"
      ]
     },
     "execution_count": 73,
     "metadata": {},
     "output_type": "execute_result"
    }
   ],
   "source": [
    "ufos['latitude'][region_mask]"
   ]
  },
  {
   "cell_type": "code",
   "execution_count": 74,
   "id": "47ecfdb3",
   "metadata": {},
   "outputs": [
    {
     "data": {
      "text/plain": [
       "327     -147.716389\n",
       "2845    -147.716389\n",
       "3620    -147.716389\n",
       "4602    -147.349444\n",
       "6011    -147.716389\n",
       "            ...    \n",
       "77347   -147.349444\n",
       "77497   -147.716389\n",
       "78571   -147.716389\n",
       "79029   -147.716389\n",
       "79470   -147.716389\n",
       "Name: longitude, Length: 74, dtype: float64"
      ]
     },
     "execution_count": 74,
     "metadata": {},
     "output_type": "execute_result"
    }
   ],
   "source": [
    "ufos['longitude'][region_mask]"
   ]
  },
  {
   "cell_type": "code",
   "execution_count": 75,
   "id": "859954b5",
   "metadata": {},
   "outputs": [],
   "source": [
    "# 4. Marks\n",
    "scatters = bqplot.Scatter(x=ufos['date'][region_mask], \n",
    "                         y=ufos['duration_seconds'][region_mask],\n",
    "                         scales={'x':x_scl, 'y':y_scl})"
   ]
  },
  {
   "cell_type": "code",
   "execution_count": 76,
   "id": "5a170fa4",
   "metadata": {},
   "outputs": [
    {
     "data": {
      "application/vnd.jupyter.widget-view+json": {
       "model_id": "6fab4dabaff940a8a9dfd3982896b15e",
       "version_major": 2,
       "version_minor": 0
      },
      "text/plain": [
       "Figure(axes=[Axis(label='Date', scale=DateScale(max=datetime.datetime(2022, 1, 1, 0, 0), min=datetime.datetime…"
      ]
     },
     "metadata": {},
     "output_type": "display_data"
    }
   ],
   "source": [
    "fig_dur = bqplot.Figure(marks=[scatters], axes=[ax_xcl, ax_ycl])\n",
    "fig_dur"
   ]
  },
  {
   "cell_type": "code",
   "execution_count": 77,
   "id": "0eaa1f53",
   "metadata": {},
   "outputs": [],
   "source": [
    "# 1. data for the UFOS lat/long map (pre-binned)\n",
    "\n",
    "# 2. scales\n",
    "col_sc = bqplot.ColorScale(scheme=\"RdPu\", min=np.nanmin(hist2d), max=np.nanmax(hist2d))\n",
    "x_sc = bqplot.LinearScale()\n",
    "y_sc = bqplot.LinearScale()\n",
    "\n",
    "# 3. axis\n",
    "col_ax = bqplot.ColorAxis(scale=col_sc, orientation='vertical', side='right')\n",
    "x_ax = bqplot.Axis(scale=x_sc, label='Longitude')\n",
    "y_ax = bqplot.Axis(scale=y_sc, label='Latitude', orientation='vertical')\n",
    "\n",
    "# 4. marks\n",
    "heat_map = bqplot.GridHeatMap(color=hist2d, row=lat_centers, column=long_centers,\n",
    "                             scales={'color':col_sc, 'row':y_sc, 'column':x_sc},\n",
    "                             interactions={'click':'select'},\n",
    "                             selected_style={'fill':'blue'})\n",
    "\n",
    "# all together now!\n",
    "fig = bqplot.Figure(marks=[heat_map], axes=[col_ax, x_ax, y_ax])\n",
    "#fig\n",
    "#myDashboard = ipywidgets.VBox([selectedLabel, fig])\n",
    "#myDashboard"
   ]
  },
  {
   "cell_type": "code",
   "execution_count": 78,
   "id": "a0023b7f",
   "metadata": {},
   "outputs": [],
   "source": [
    "# 5. interactivity\n",
    "selectedLabel = ipywidgets.Label()\n",
    "def get_data_value(change):\n",
    "    if len(change['owner'].selected) == 1: # only 1 selection allowed\n",
    "        i,j = change['owner'].selected[0]\n",
    "        v = hist2d[i,j]\n",
    "        selectedLabel.value = 'Total duration in log(sec)=' + str(v)\n",
    "        long_min = long_edges[j] # j is associated with y\n",
    "        long_max = long_edges[j+1]\n",
    "        lat_min = lat_edges[i] # i is associated with x\n",
    "        lat_max = lat_edges[i+1]\n",
    "        region_mask = ( (ufos['latitude']>=lat_min) & (ufos['latitude']<=lat_max) &\\\n",
    "              (ufos['longitude']>=long_min) & (ufos['longitude']<=long_max) )\n",
    "        scatters.x = ufos['date'][region_mask]\n",
    "        scatters.y = ufos['duration_seconds'][region_mask]\n",
    "        \n",
    "# make sure to link to the trait that is changing in the heat map\n",
    "heat_map.observe(get_data_value, 'selected')"
   ]
  },
  {
   "cell_type": "code",
   "execution_count": 79,
   "id": "d0751f07",
   "metadata": {},
   "outputs": [
    {
     "data": {
      "application/vnd.jupyter.widget-view+json": {
       "model_id": "d5fdc7df4c464a7daec8ae9423f94c1d",
       "version_major": 2,
       "version_minor": 0
      },
      "text/plain": [
       "VBox(children=(Label(value=''), HBox(children=(Figure(axes=[ColorAxis(orientation='vertical', scale=ColorScale…"
      ]
     },
     "metadata": {},
     "output_type": "display_data"
    }
   ],
   "source": [
    "fig.layout.min_width='500px'\n",
    "fig.layout.min_width='500px'\n",
    "\n",
    "figures = ipywidgets.HBox([fig, fig_dur])\n",
    "\n",
    "myDashboard = ipywidgets.VBox([selectedLabel, figures])\n",
    "myDashboard"
   ]
  },
  {
   "cell_type": "markdown",
   "id": "a2ab63e5",
   "metadata": {},
   "source": [
    "Updating the scatter plot to use a bar chart!"
   ]
  },
  {
   "cell_type": "code",
   "execution_count": 80,
   "id": "ddab9466",
   "metadata": {},
   "outputs": [],
   "source": [
    "# bar plot\n",
    "\n",
    "# scales\n",
    "x_scl = bqplot.LinearScale()\n",
    "y_scl = bqplot.LinearScale()\n",
    "\n",
    "# axis\n",
    "ax_xcl = bqplot.Axis(label='Year', scale=x_scl)\n",
    "ax_ycl = bqplot.Axis(label='Total duration in sec', scale=y_scl, orientation='vertical')"
   ]
  },
  {
   "cell_type": "code",
   "execution_count": 81,
   "id": "ca0e32b3",
   "metadata": {},
   "outputs": [],
   "source": [
    "i,j = 19,0 # I know this has a lot of data!\n",
    "long_min = long_edges[j] # j is associated with y\n",
    "long_max = long_edges[j+1]\n",
    "lat_min = lat_edges[i] # i is associated with x\n",
    "lat_max = lat_edges[i+1]\n",
    "region_mask = ( (ufos['latitude']>=lat_min) & (ufos['latitude']<=lat_max) &\\\n",
    "              (ufos['longitude']>=long_min) & (ufos['longitude']<=long_max) )"
   ]
  },
  {
   "cell_type": "code",
   "execution_count": 82,
   "id": "512962f1",
   "metadata": {},
   "outputs": [
    {
     "data": {
      "text/plain": [
       "0        1949\n",
       "1        1949\n",
       "2        1955\n",
       "3        1956\n",
       "4        1960\n",
       "         ... \n",
       "80327    2013\n",
       "80328    2013\n",
       "80329    2013\n",
       "80330    2013\n",
       "80331    2013\n",
       "Name: year, Length: 80332, dtype: int64"
      ]
     },
     "execution_count": 82,
     "metadata": {},
     "output_type": "execute_result"
    }
   ],
   "source": [
    "ufos['year'] = ufos['date'].dt.year\n",
    "ufos['year']"
   ]
  },
  {
   "cell_type": "code",
   "execution_count": 83,
   "id": "9a7ece39",
   "metadata": {},
   "outputs": [],
   "source": [
    "dur, dur_edges = np.histogram(ufos['year'][region_mask], \n",
    "                             weights=ufos['duration_seconds'][region_mask],\n",
    "                             bins=10)"
   ]
  },
  {
   "cell_type": "code",
   "execution_count": 84,
   "id": "f157c579",
   "metadata": {},
   "outputs": [],
   "source": [
    "dur_centers = (dur_edges[:-1]+dur_edges[1:])/2"
   ]
  },
  {
   "cell_type": "code",
   "execution_count": 85,
   "id": "c77df9eb",
   "metadata": {},
   "outputs": [],
   "source": [
    "# marks\n",
    "dur_hist = bqplot.Bars(x=dur_centers, y=dur, scales={'x':x_scl, 'y':y_scl})"
   ]
  },
  {
   "cell_type": "code",
   "execution_count": 86,
   "id": "214008ff",
   "metadata": {},
   "outputs": [],
   "source": [
    "fig_dur = bqplot.Figure(marks=[dur_hist],axes=[ax_xcl,ax_ycl])"
   ]
  },
  {
   "cell_type": "code",
   "execution_count": 87,
   "id": "1f344339",
   "metadata": {},
   "outputs": [
    {
     "data": {
      "application/vnd.jupyter.widget-view+json": {
       "model_id": "f84f93c0721d4fcd8afbe48020767f50",
       "version_major": 2,
       "version_minor": 0
      },
      "text/plain": [
       "Figure(axes=[Axis(label='Year', scale=LinearScale(), side='bottom'), Axis(label='Total duration in sec', orien…"
      ]
     },
     "metadata": {},
     "output_type": "display_data"
    }
   ],
   "source": [
    "fig_dur"
   ]
  },
  {
   "cell_type": "code",
   "execution_count": 88,
   "id": "6a5431c2",
   "metadata": {},
   "outputs": [],
   "source": [
    "# 5. interactivity\n",
    "selectedLabel = ipywidgets.Label()\n",
    "def get_data_value(change):\n",
    "    if len(change['owner'].selected) == 1: # only 1 selection allowed\n",
    "        i,j = change['owner'].selected[0]\n",
    "        v = hist2d[i,j]\n",
    "        selectedLabel.value = 'Total duration in log(sec)=' + str(v)\n",
    "        long_min = long_edges[j] # j is associated with y\n",
    "        long_max = long_edges[j+1]\n",
    "        lat_min = lat_edges[i] # i is associated with x\n",
    "        lat_max = lat_edges[i+1]\n",
    "        region_mask = ( (ufos['latitude']>=lat_min) & (ufos['latitude']<=lat_max) &\\\n",
    "              (ufos['longitude']>=long_min) & (ufos['longitude']<=long_max) )\n",
    "        #scatters.x = ufos['date'][region_mask]\n",
    "        #scatters.y = ufos['duration_seconds'][region_mask]\n",
    "        if len(ufos['year'][region_mask])>0: # make sure we have data\n",
    "            dur, dur_edges = np.histogram(ufos['year'][region_mask], \n",
    "                                         weights=ufos['duration_seconds'][region_mask],\n",
    "                                         bins=10)     \n",
    "            dur_centers = (dur_edges[:-1]+dur_edges[1:])/2\n",
    "            dur_hist.x = dur_centers\n",
    "            dur_hist.y = dur\n",
    "            \n",
    "# make sure to link to the trait that is changing in the heat map\n",
    "heat_map.observe(get_data_value, 'selected')"
   ]
  },
  {
   "cell_type": "code",
   "execution_count": 89,
   "id": "59aff255",
   "metadata": {},
   "outputs": [],
   "source": [
    "# (I) GRIDHEAT MAP\n",
    "# 1. data for the UFOS lat/long map (pre-binned)\n",
    "\n",
    "# 2. scales\n",
    "col_sc = bqplot.ColorScale(scheme=\"RdPu\", min=np.nanmin(hist2d), max=np.nanmax(hist2d))\n",
    "x_sc = bqplot.LinearScale()\n",
    "y_sc = bqplot.LinearScale()\n",
    "\n",
    "# 3. axis\n",
    "col_ax = bqplot.ColorAxis(scale=col_sc, orientation='vertical', side='right')\n",
    "x_ax = bqplot.Axis(scale=x_sc, label='Longitude')\n",
    "y_ax = bqplot.Axis(scale=y_sc, label='Latitude', orientation='vertical')\n",
    "\n",
    "# 4. marks\n",
    "heat_map = bqplot.GridHeatMap(color=hist2d, row=lat_centers, column=long_centers,\n",
    "                             scales={'color':col_sc, 'row':y_sc, 'column':x_sc},\n",
    "                             interactions={'click':'select'},\n",
    "                             selected_style={'fill':'blue'})\n",
    "\n",
    "# all together now!\n",
    "fig = bqplot.Figure(marks=[heat_map], axes=[col_ax, x_ax, y_ax])"
   ]
  },
  {
   "cell_type": "code",
   "execution_count": 90,
   "id": "e3241bac",
   "metadata": {},
   "outputs": [],
   "source": [
    "# (II) BAR PLOT\n",
    "\n",
    "# scales\n",
    "x_scl = bqplot.LinearScale()\n",
    "y_scl = bqplot.LinearScale()\n",
    "\n",
    "# axis\n",
    "ax_xcl = bqplot.Axis(label='Year', scale=x_scl)\n",
    "ax_ycl = bqplot.Axis(label='Total duration in sec', scale=y_scl, orientation='vertical')\n",
    "\n",
    "# marks/data\n",
    "i,j = 19,0 # I know this has a lot of data!\n",
    "long_min = long_edges[j] # j is associated with y\n",
    "long_max = long_edges[j+1]\n",
    "lat_min = lat_edges[i] # i is associated with x\n",
    "lat_max = lat_edges[i+1]\n",
    "region_mask = ( (ufos['latitude']>=lat_min) & (ufos['latitude']<=lat_max) &\\\n",
    "              (ufos['longitude']>=long_min) & (ufos['longitude']<=long_max) )\n",
    "\n",
    "dur, dur_edges = np.histogram(ufos['year'][region_mask], \n",
    "                             weights=ufos['duration_seconds'][region_mask],\n",
    "                             bins=10)\n",
    "\n",
    "dur_hist = bqplot.Bars(x=dur_centers, y=dur, scales={'x':x_scl, 'y':y_scl})\n",
    "\n",
    "fig_dur = bqplot.Figure(marks=[dur_hist],axes=[ax_xcl,ax_ycl])"
   ]
  },
  {
   "cell_type": "code",
   "execution_count": 91,
   "id": "bdf3606f",
   "metadata": {},
   "outputs": [],
   "source": [
    "# (III) LINKING GRIDHEATMAP TO BARPLOT\n",
    "selectedLabel = ipywidgets.Label()\n",
    "def get_data_value(change):\n",
    "    if len(change['owner'].selected) == 1: # only 1 selection allowed\n",
    "        i,j = change['owner'].selected[0]\n",
    "        v = hist2d[i,j]\n",
    "        selectedLabel.value = 'Total duration in log(sec)=' + str(v)\n",
    "        long_min = long_edges[j] # j is associated with y\n",
    "        long_max = long_edges[j+1]\n",
    "        lat_min = lat_edges[i] # i is associated with x\n",
    "        lat_max = lat_edges[i+1]\n",
    "        region_mask = ( (ufos['latitude']>=lat_min) & (ufos['latitude']<=lat_max) &\\\n",
    "              (ufos['longitude']>=long_min) & (ufos['longitude']<=long_max) )\n",
    "        if len(ufos['year'][region_mask])>0: # make sure we have data\n",
    "            dur, dur_edges = np.histogram(ufos['year'][region_mask], \n",
    "                                         weights=ufos['duration_seconds'][region_mask],\n",
    "                                         bins=10)     \n",
    "            dur_centers = (dur_edges[:-1]+dur_edges[1:])/2\n",
    "            dur_hist.x = dur_centers\n",
    "            dur_hist.y = dur\n",
    "            \n",
    "# make sure to link to the trait that is changing in the heat map\n",
    "heat_map.observe(get_data_value, 'selected')"
   ]
  },
  {
   "cell_type": "code",
   "execution_count": 92,
   "id": "a8080703",
   "metadata": {},
   "outputs": [],
   "source": [
    "# (IV) LAYOUT OF DASHBOARD\n",
    "fig.layout.min_width='500px'\n",
    "fig_dur.layout.min_width='500px'\n",
    "figures = ipywidgets.HBox([fig, fig_dur])\n",
    "myDashboard = ipywidgets.VBox([selectedLabel, figures])"
   ]
  },
  {
   "cell_type": "code",
   "execution_count": 93,
   "id": "0051a444",
   "metadata": {},
   "outputs": [
    {
     "data": {
      "application/vnd.jupyter.widget-view+json": {
       "model_id": "9b2cbd25ebda4f8ba848ccc7048fd55a",
       "version_major": 2,
       "version_minor": 0
      },
      "text/plain": [
       "VBox(children=(Label(value=''), HBox(children=(Figure(axes=[ColorAxis(orientation='vertical', scale=ColorScale…"
      ]
     },
     "metadata": {},
     "output_type": "display_data"
    }
   ],
   "source": [
    "myDashboard"
   ]
  },
  {
   "cell_type": "markdown",
   "id": "2c19383e",
   "metadata": {},
   "source": [
    "## Homework hint!\n",
    "\n",
    "One thing you might want to try for the homework is a pivot table.  Here is an example dataframe that is similiar in \"shape\" to the homework data:"
   ]
  },
  {
   "cell_type": "code",
   "execution_count": 94,
   "id": "8ddd59f0",
   "metadata": {},
   "outputs": [
    {
     "data": {
      "text/html": [
       "<div>\n",
       "<style scoped>\n",
       "    .dataframe tbody tr th:only-of-type {\n",
       "        vertical-align: middle;\n",
       "    }\n",
       "\n",
       "    .dataframe tbody tr th {\n",
       "        vertical-align: top;\n",
       "    }\n",
       "\n",
       "    .dataframe thead th {\n",
       "        text-align: right;\n",
       "    }\n",
       "</style>\n",
       "<table border=\"1\" class=\"dataframe\">\n",
       "  <thead>\n",
       "    <tr style=\"text-align: right;\">\n",
       "      <th></th>\n",
       "      <th>A</th>\n",
       "      <th>B</th>\n",
       "      <th>C</th>\n",
       "      <th>D</th>\n",
       "      <th>E</th>\n",
       "    </tr>\n",
       "  </thead>\n",
       "  <tbody>\n",
       "    <tr>\n",
       "      <th>0</th>\n",
       "      <td>foo</td>\n",
       "      <td>one</td>\n",
       "      <td>small</td>\n",
       "      <td>1</td>\n",
       "      <td>2</td>\n",
       "    </tr>\n",
       "    <tr>\n",
       "      <th>1</th>\n",
       "      <td>foo</td>\n",
       "      <td>one</td>\n",
       "      <td>large</td>\n",
       "      <td>2</td>\n",
       "      <td>4</td>\n",
       "    </tr>\n",
       "    <tr>\n",
       "      <th>2</th>\n",
       "      <td>foo</td>\n",
       "      <td>one</td>\n",
       "      <td>large</td>\n",
       "      <td>2</td>\n",
       "      <td>5</td>\n",
       "    </tr>\n",
       "    <tr>\n",
       "      <th>3</th>\n",
       "      <td>foo</td>\n",
       "      <td>two</td>\n",
       "      <td>small</td>\n",
       "      <td>3</td>\n",
       "      <td>5</td>\n",
       "    </tr>\n",
       "    <tr>\n",
       "      <th>4</th>\n",
       "      <td>foo</td>\n",
       "      <td>two</td>\n",
       "      <td>small</td>\n",
       "      <td>3</td>\n",
       "      <td>6</td>\n",
       "    </tr>\n",
       "    <tr>\n",
       "      <th>5</th>\n",
       "      <td>bar</td>\n",
       "      <td>one</td>\n",
       "      <td>large</td>\n",
       "      <td>4</td>\n",
       "      <td>6</td>\n",
       "    </tr>\n",
       "    <tr>\n",
       "      <th>6</th>\n",
       "      <td>bar</td>\n",
       "      <td>one</td>\n",
       "      <td>small</td>\n",
       "      <td>5</td>\n",
       "      <td>8</td>\n",
       "    </tr>\n",
       "    <tr>\n",
       "      <th>7</th>\n",
       "      <td>bar</td>\n",
       "      <td>two</td>\n",
       "      <td>small</td>\n",
       "      <td>6</td>\n",
       "      <td>9</td>\n",
       "    </tr>\n",
       "    <tr>\n",
       "      <th>8</th>\n",
       "      <td>bar</td>\n",
       "      <td>two</td>\n",
       "      <td>large</td>\n",
       "      <td>7</td>\n",
       "      <td>9</td>\n",
       "    </tr>\n",
       "  </tbody>\n",
       "</table>\n",
       "</div>"
      ],
      "text/plain": [
       "     A    B      C  D  E\n",
       "0  foo  one  small  1  2\n",
       "1  foo  one  large  2  4\n",
       "2  foo  one  large  2  5\n",
       "3  foo  two  small  3  5\n",
       "4  foo  two  small  3  6\n",
       "5  bar  one  large  4  6\n",
       "6  bar  one  small  5  8\n",
       "7  bar  two  small  6  9\n",
       "8  bar  two  large  7  9"
      ]
     },
     "execution_count": 94,
     "metadata": {},
     "output_type": "execute_result"
    }
   ],
   "source": [
    "df = pd.DataFrame({\"A\": [\"foo\", \"foo\", \"foo\", \"foo\", \"foo\",\n",
    "                         \"bar\", \"bar\", \"bar\", \"bar\"],\n",
    "                   \"B\": [\"one\", \"one\", \"one\", \"two\", \"two\",\n",
    "                         \"one\", \"one\", \"two\", \"two\"],\n",
    "                   \"C\": [\"small\", \"large\", \"large\", \"small\",\n",
    "                         \"small\", \"large\", \"small\", \"small\",\n",
    "                         \"large\"],\n",
    "                   \"D\": [1, 2, 2, 3, 3, 4, 5, 6, 7],\n",
    "                   \"E\": [2, 4, 5, 5, 6, 6, 8, 9, 9]})\n",
    "df"
   ]
  },
  {
   "cell_type": "markdown",
   "id": "5adb4c08",
   "metadata": {},
   "source": [
    "Let's say we want to sum all the values of \"D\" into bins of 'A' and 'C' as a table, we could do this with:"
   ]
  },
  {
   "cell_type": "code",
   "execution_count": 95,
   "id": "376237a5",
   "metadata": {},
   "outputs": [],
   "source": [
    "table = pd.pivot_table(df, values='D', index=['A'],\n",
    "                    columns=['C'], aggfunc=np.sum, fill_value=0)"
   ]
  },
  {
   "cell_type": "code",
   "execution_count": 96,
   "id": "c9f86eaa",
   "metadata": {},
   "outputs": [
    {
     "data": {
      "text/html": [
       "<div>\n",
       "<style scoped>\n",
       "    .dataframe tbody tr th:only-of-type {\n",
       "        vertical-align: middle;\n",
       "    }\n",
       "\n",
       "    .dataframe tbody tr th {\n",
       "        vertical-align: top;\n",
       "    }\n",
       "\n",
       "    .dataframe thead th {\n",
       "        text-align: right;\n",
       "    }\n",
       "</style>\n",
       "<table border=\"1\" class=\"dataframe\">\n",
       "  <thead>\n",
       "    <tr style=\"text-align: right;\">\n",
       "      <th>C</th>\n",
       "      <th>large</th>\n",
       "      <th>small</th>\n",
       "    </tr>\n",
       "    <tr>\n",
       "      <th>A</th>\n",
       "      <th></th>\n",
       "      <th></th>\n",
       "    </tr>\n",
       "  </thead>\n",
       "  <tbody>\n",
       "    <tr>\n",
       "      <th>bar</th>\n",
       "      <td>11</td>\n",
       "      <td>11</td>\n",
       "    </tr>\n",
       "    <tr>\n",
       "      <th>foo</th>\n",
       "      <td>4</td>\n",
       "      <td>7</td>\n",
       "    </tr>\n",
       "  </tbody>\n",
       "</table>\n",
       "</div>"
      ],
      "text/plain": [
       "C    large  small\n",
       "A                \n",
       "bar     11     11\n",
       "foo      4      7"
      ]
     },
     "execution_count": 96,
     "metadata": {},
     "output_type": "execute_result"
    }
   ],
   "source": [
    "table"
   ]
  },
  {
   "cell_type": "markdown",
   "id": "4703830b",
   "metadata": {},
   "source": [
    "How to get the x/y labels for this table?"
   ]
  },
  {
   "cell_type": "code",
   "execution_count": 99,
   "id": "7b38a856",
   "metadata": {},
   "outputs": [
    {
     "data": {
      "text/plain": [
       "array(['bar', 'foo'], dtype='<U3')"
      ]
     },
     "execution_count": 99,
     "metadata": {},
     "output_type": "execute_result"
    }
   ],
   "source": [
    "table.index.values.astype('str')"
   ]
  },
  {
   "cell_type": "code",
   "execution_count": 98,
   "id": "0512221b",
   "metadata": {},
   "outputs": [
    {
     "data": {
      "text/plain": [
       "array(['large', 'small'], dtype='<U5')"
      ]
     },
     "execution_count": 98,
     "metadata": {},
     "output_type": "execute_result"
    }
   ],
   "source": [
    "table.columns.values.astype('str')"
   ]
  },
  {
   "cell_type": "code",
   "execution_count": null,
   "id": "918de2d5",
   "metadata": {},
   "outputs": [],
   "source": []
  }
 ],
 "metadata": {
  "kernelspec": {
   "display_name": "Python 3 (ipykernel)",
   "language": "python",
   "name": "python3"
  },
  "language_info": {
   "codemirror_mode": {
    "name": "ipython",
    "version": 3
   },
   "file_extension": ".py",
   "mimetype": "text/x-python",
   "name": "python",
   "nbconvert_exporter": "python",
   "pygments_lexer": "ipython3",
   "version": "3.7.12"
  }
 },
 "nbformat": 4,
 "nbformat_minor": 5
}
