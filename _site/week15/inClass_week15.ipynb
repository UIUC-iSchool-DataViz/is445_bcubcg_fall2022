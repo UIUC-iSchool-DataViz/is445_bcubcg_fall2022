{
 "cells": [
  {
   "cell_type": "markdown",
   "id": "innovative-airplane",
   "metadata": {},
   "source": [
    "# In Class Notebook, Week 15"
   ]
  },
  {
   "cell_type": "markdown",
   "id": "27102a29",
   "metadata": {},
   "source": [
    "You can always click on https://github.com/UIUC-iSchool-DataViz/is445_bcubcg_fall2022/blob/master/week15/inClass_week15.ipynb \n",
    "\n",
    "Or past into the nbviewer interface for a plain-text rendering:\n",
    "\n",
    "https://kokes.github.io/nbviewer.js/viewer.html"
   ]
  },
  {
   "cell_type": "code",
   "execution_count": 1,
   "id": "75ba3490",
   "metadata": {},
   "outputs": [
    {
     "name": "stderr",
     "output_type": "stream",
     "text": [
      "/Users/jnaiman/opt/anaconda3/envs/DataViz/lib/python3.7/site-packages/yt/utilities/logger.py:4: VisibleDeprecationWarning: The configuration file /Users/jnaiman/.config/yt/ytrc is deprecated in favor of /Users/jnaiman/.config/yt/yt.toml. Currently, both are present. Please manually remove the deprecated one to silence this warning.\n",
      "Deprecated since v4.0.0. This feature will be removed in v4.1.0\n",
      "  from yt.config import ytcfg\n"
     ]
    }
   ],
   "source": [
    "import yt"
   ]
  },
  {
   "cell_type": "code",
   "execution_count": null,
   "id": "6de10241",
   "metadata": {},
   "outputs": [],
   "source": []
  }
 ],
 "metadata": {
  "kernelspec": {
   "display_name": "Python 3 (ipykernel)",
   "language": "python",
   "name": "python3"
  },
  "language_info": {
   "codemirror_mode": {
    "name": "ipython",
    "version": 3
   },
   "file_extension": ".py",
   "mimetype": "text/x-python",
   "name": "python",
   "nbconvert_exporter": "python",
   "pygments_lexer": "ipython3",
   "version": "3.7.12"
  }
 },
 "nbformat": 4,
 "nbformat_minor": 5
}
