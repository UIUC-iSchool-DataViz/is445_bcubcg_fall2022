{
 "cells": [
  {
   "cell_type": "markdown",
   "id": "respective-store",
   "metadata": {},
   "source": [
    "# In Class Notebook, Week 07"
   ]
  },
  {
   "cell_type": "markdown",
   "id": "2a597611",
   "metadata": {},
   "source": [
    "You can always find here: https://github.com/UIUC-iSchool-DataViz/is445_bcubcg_fall2022/blob/master/week07/inClass_week07.ipynb  \n",
    "\n",
    "Or into the nbviewer interface for a plain-text rendering:\n",
    "\n",
    "https://kokes.github.io/nbviewer.js/viewer.html"
   ]
  },
  {
   "cell_type": "code",
   "execution_count": 1,
   "id": "41aeb870",
   "metadata": {},
   "outputs": [],
   "source": [
    "import pandas as pd\n",
    "import matplotlib.pyplot as plt\n",
    "import geopandas\n",
    "import bqplot\n",
    "import numpy as np"
   ]
  },
  {
   "cell_type": "markdown",
   "id": "d2e4c5bf",
   "metadata": {},
   "source": [
    "## Intro to Maps with bqplot\n",
    "(and its limitations)"
   ]
  },
  {
   "cell_type": "code",
   "execution_count": 3,
   "id": "3d81e5a2",
   "metadata": {},
   "outputs": [
    {
     "data": {
      "application/vnd.jupyter.widget-view+json": {
       "model_id": "b9bac048916b47d1b1fe9e13835aa5c9",
       "version_major": 2,
       "version_minor": 0
      },
      "text/plain": [
       "Figure(fig_margin={'top': 0, 'bottom': 0, 'left': 0, 'right': 0}, marks=[Map(hovered_styles={'hovered_fill': '…"
      ]
     },
     "metadata": {},
     "output_type": "display_data"
    }
   ],
   "source": [
    "# 1. data\n",
    "shape_data = bqplot.topo_load('map_data/WorldMap.json')\n",
    "\n",
    "#2. scales\n",
    "sc_geo = bqplot.Mercator() # not a great projection!!\n",
    "\n",
    "# 3 marks\n",
    "shape_map = bqplot.Map(map_data=shape_data, scales={'projection':sc_geo})\n",
    "\n",
    "# put it all together!\n",
    "fig = bqplot.Figure(marks=[shape_map], fig_margin={'top':0, 'bottom':0, 'left':0, 'right':0})\n",
    "fig"
   ]
  },
  {
   "cell_type": "code",
   "execution_count": 4,
   "id": "c568fe2d",
   "metadata": {},
   "outputs": [
    {
     "data": {
      "application/vnd.jupyter.widget-view+json": {
       "model_id": "66b09bb7d054413786144039b092f51e",
       "version_major": 2,
       "version_minor": 0
      },
      "text/plain": [
       "Figure(fig_margin={'top': 0, 'bottom': 0, 'left': 0, 'right': 0}, marks=[Map(hovered_styles={'hovered_fill': '…"
      ]
     },
     "metadata": {},
     "output_type": "display_data"
    }
   ],
   "source": [
    "# 1. data\n",
    "shape_data = bqplot.topo_load('map_data/WorldMap.json')\n",
    "\n",
    "#2. scales\n",
    "sc_geo = bqplot.Gnomonic() # nightmare projection!\n",
    "\n",
    "# 3 marks\n",
    "shape_map = bqplot.Map(map_data=shape_data, scales={'projection':sc_geo})\n",
    "\n",
    "# put it all together!\n",
    "fig = bqplot.Figure(marks=[shape_map], fig_margin={'top':0, 'bottom':0, 'left':0, 'right':0})\n",
    "fig"
   ]
  },
  {
   "cell_type": "code",
   "execution_count": null,
   "id": "017ab139",
   "metadata": {},
   "outputs": [],
   "source": [
    "# 1. data\n",
    "state_data = bqplot.topo_load('map_data/USStatesMap.json')\n",
    "\n",
    "# 2. scales\n"
   ]
  }
 ],
 "metadata": {
  "kernelspec": {
   "display_name": "Python 3 (ipykernel)",
   "language": "python",
   "name": "python3"
  },
  "language_info": {
   "codemirror_mode": {
    "name": "ipython",
    "version": 3
   },
   "file_extension": ".py",
   "mimetype": "text/x-python",
   "name": "python",
   "nbconvert_exporter": "python",
   "pygments_lexer": "ipython3",
   "version": "3.7.12"
  }
 },
 "nbformat": 4,
 "nbformat_minor": 5
}
