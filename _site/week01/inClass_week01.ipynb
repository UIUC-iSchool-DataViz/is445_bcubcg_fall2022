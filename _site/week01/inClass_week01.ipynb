{
 "cells": [
  {
   "cell_type": "markdown",
   "id": "respective-store",
   "metadata": {},
   "source": [
    "# In Class Notebook, Week 01"
   ]
  },
  {
   "cell_type": "markdown",
   "id": "patent-merit",
   "metadata": {},
   "source": [
    "You can always paste the URL of this notebook (https://github.com/UIUC-iSchool-DataViz/is445_bcubcg_fall2022/blob/master/week01/inClass_week01.ipynb ) into the nbviewer interface for a plain-text rendering:\n",
    "\n",
    "https://kokes.github.io/nbviewer.js/viewer.html\n",
    "\n",
    "I am typing a thing.\n",
    "\n",
    "I am typing another thing."
   ]
  },
  {
   "cell_type": "code",
   "execution_count": 1,
   "id": "b0202ec6",
   "metadata": {},
   "outputs": [
    {
     "data": {
      "text/plain": [
       "9"
      ]
     },
     "execution_count": 1,
     "metadata": {},
     "output_type": "execute_result"
    }
   ],
   "source": [
    "4+5"
   ]
  },
  {
   "cell_type": "markdown",
   "id": "43d50231",
   "metadata": {},
   "source": [
    "But I can write things like normal.\n",
    "\n",
    "# A large header\n",
    "\n",
    "## I can make a smaller header\n",
    "\n",
    "### Even smaller\n",
    "\n",
    "#### Super smaller (smallest)"
   ]
  },
  {
   "cell_type": "markdown",
   "id": "b43efb46",
   "metadata": {},
   "source": [
    "Make some ordered lists:\n",
    " 1. thing number 1\n",
    " 1. next thing\n",
    " 1. a final thing\n",
    " \n",
    "Unordered lists:\n",
    " * bullet point 1\n",
    " * bullet point 2\n",
    " \n",
    "$\\frac{x}{y} = \\frac{2}{3}$"
   ]
  },
  {
   "cell_type": "code",
   "execution_count": 2,
   "id": "1635f300",
   "metadata": {},
   "outputs": [
    {
     "name": "stdout",
     "output_type": "stream",
     "text": [
      "hi there\n"
     ]
    }
   ],
   "source": [
    "print('hi there')"
   ]
  },
  {
   "cell_type": "code",
   "execution_count": 3,
   "id": "bf6dbe4b",
   "metadata": {},
   "outputs": [
    {
     "data": {
      "text/plain": [
       "'hi there'"
      ]
     },
     "execution_count": 3,
     "metadata": {},
     "output_type": "execute_result"
    }
   ],
   "source": [
    "'hi there'"
   ]
  },
  {
   "cell_type": "markdown",
   "id": "ac3f64c2",
   "metadata": {},
   "source": [
    "## Simple plots\n",
    "\n",
    "(ESC-M hot key for markdown cells)"
   ]
  },
  {
   "cell_type": "code",
   "execution_count": 4,
   "id": "1115faa4",
   "metadata": {},
   "outputs": [],
   "source": [
    "import matplotlib\n",
    "import matplotlib.pyplot as plt"
   ]
  },
  {
   "cell_type": "code",
   "execution_count": 5,
   "id": "24f7af80",
   "metadata": {},
   "outputs": [],
   "source": [
    "import datetime\n",
    "import numpy as np"
   ]
  },
  {
   "cell_type": "code",
   "execution_count": 6,
   "id": "84cf6316",
   "metadata": {},
   "outputs": [],
   "source": [
    "time = [20070101, 20070401, 20070701, 20071001, 20080101, 20080401, 20080701, 20081001, 20090101]"
   ]
  },
  {
   "cell_type": "code",
   "execution_count": 7,
   "id": "c104fa36",
   "metadata": {},
   "outputs": [
    {
     "data": {
      "text/plain": [
       "[20070101,\n",
       " 20070401,\n",
       " 20070701,\n",
       " 20071001,\n",
       " 20080101,\n",
       " 20080401,\n",
       " 20080701,\n",
       " 20081001,\n",
       " 20090101]"
      ]
     },
     "execution_count": 7,
     "metadata": {},
     "output_type": "execute_result"
    }
   ],
   "source": [
    "time"
   ]
  },
  {
   "cell_type": "code",
   "execution_count": null,
   "id": "d7ed84ac",
   "metadata": {},
   "outputs": [],
   "source": []
  }
 ],
 "metadata": {
  "kernelspec": {
   "display_name": "Python 3 (ipykernel)",
   "language": "python",
   "name": "python3"
  },
  "language_info": {
   "codemirror_mode": {
    "name": "ipython",
    "version": 3
   },
   "file_extension": ".py",
   "mimetype": "text/x-python",
   "name": "python",
   "nbconvert_exporter": "python",
   "pygments_lexer": "ipython3",
   "version": "3.7.12"
  }
 },
 "nbformat": 4,
 "nbformat_minor": 5
}
