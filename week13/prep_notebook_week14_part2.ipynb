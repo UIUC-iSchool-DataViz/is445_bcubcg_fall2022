{
 "cells": [
  {
   "cell_type": "markdown",
   "metadata": {},
   "source": [
    "# SciViz!"
   ]
  },
  {
   "cell_type": "markdown",
   "metadata": {},
   "source": [
    "## 2. Using yt"
   ]
  },
  {
   "cell_type": "code",
   "execution_count": null,
   "metadata": {},
   "outputs": [],
   "source": [
    "import yt"
   ]
  },
  {
   "cell_type": "markdown",
   "metadata": {},
   "source": [
    "We'll use a dataset originally from the yt hub: http://yt-project.org/data/\n",
    "\n",
    "Specifically, we'll use the IsolatedGalaxy dataset: http://yt-project.org/data/IsolatedGalaxy.tar.gz\n",
    "\n",
    "Now, lets grab a dataset & upload it.  Here's where mine is stored (in data):"
   ]
  },
  {
   "cell_type": "code",
   "execution_count": null,
   "metadata": {},
   "outputs": [],
   "source": [
    "ds = yt.load(\"/Users/jnaiman/Downloads/IsolatedGalaxy/galaxy0030/galaxy0030\")"
   ]
  },
  {
   "cell_type": "markdown",
   "metadata": {},
   "source": [
    "Print out various stats of this dataset:"
   ]
  },
  {
   "cell_type": "code",
   "execution_count": null,
   "metadata": {},
   "outputs": [],
   "source": [
    "ds.print_stats()"
   ]
  },
  {
   "cell_type": "markdown",
   "metadata": {},
   "source": [
    "This is basically telling us something about the number of data points in the dataset. Don't worry if you don't know what levels, grids or cells are at this point we'll get to it later."
   ]
  },
  {
   "cell_type": "markdown",
   "metadata": {},
   "source": [
    "Same thing with field list, its cool if some of these look less familiar then others:"
   ]
  },
  {
   "cell_type": "code",
   "execution_count": null,
   "metadata": {},
   "outputs": [],
   "source": [
    "ds.field_list"
   ]
  },
  {
   "cell_type": "code",
   "execution_count": null,
   "metadata": {},
   "outputs": [],
   "source": [
    "ds.derived_field_list"
   ]
  },
  {
   "cell_type": "markdown",
   "metadata": {},
   "source": [
    "This is a 3D simululation of a galaxy, lets check out some stats about the box:"
   ]
  },
  {
   "cell_type": "code",
   "execution_count": null,
   "metadata": {},
   "outputs": [],
   "source": [
    "ds.domain_right_edge, ds.domain_left_edge"
   ]
  },
  {
   "cell_type": "markdown",
   "metadata": {},
   "source": [
    "What this is saying is the box goes from (0,0,0) to (1,1,1) in \"code_length\" units.  Basically, this is just a normalized box."
   ]
  },
  {
   "cell_type": "markdown",
   "metadata": {},
   "source": [
    "You can also do fun things like print out max & min densities:"
   ]
  },
  {
   "cell_type": "code",
   "execution_count": null,
   "metadata": {},
   "outputs": [],
   "source": [
    "ds.r[:].max(\"density\"), ds.r[:].min(\"density\")"
   ]
  },
  {
   "cell_type": "markdown",
   "metadata": {},
   "source": [
    "The above is for the whole box.\n",
    "\n",
    "We can also ask where the maximum density is in this simulation box:"
   ]
  },
  {
   "cell_type": "code",
   "execution_count": null,
   "metadata": {},
   "outputs": [],
   "source": [
    "ds.r[:].argmax(\"density\")"
   ]
  },
  {
   "cell_type": "markdown",
   "metadata": {},
   "source": [
    "So this gives us x/y/z positions for where the maximum density is.\n",
    "\n",
    "Ok, lets make a quick plot 1/2 down the z-direction. "
   ]
  },
  {
   "cell_type": "code",
   "execution_count": null,
   "metadata": {},
   "outputs": [],
   "source": [
    "# if the plot is too big for class try:\n",
    "import matplotlib.pyplot as plt\n",
    "plt.rcParams['figure.figsize'] = [3, 3]\n",
    "\n",
    "\n",
    "p = ds.r[:, :, 0.5].plot(\"density\")"
   ]
  },
  {
   "cell_type": "markdown",
   "metadata": {},
   "source": [
    "Let's zoom:"
   ]
  },
  {
   "cell_type": "code",
   "execution_count": null,
   "metadata": {},
   "outputs": [],
   "source": [
    "p.zoom(10)"
   ]
  },
  {
   "cell_type": "markdown",
   "metadata": {},
   "source": [
    "So, unless you're an astronomer you might be a little confused about these \"kpc\" units. But yt allows us to change them!  Behold cool yt units things:"
   ]
  },
  {
   "cell_type": "code",
   "execution_count": null,
   "metadata": {},
   "outputs": [],
   "source": [
    "yt.units.kpc.get_cgs_equivalent()"
   ]
  },
  {
   "cell_type": "markdown",
   "metadata": {},
   "source": [
    "So we have now changed these weird kpc units.\n",
    "\n",
    "yt also can do cool things with units like, `yt.units` figures out some math stuff like, making things into cubed cm:"
   ]
  },
  {
   "cell_type": "code",
   "execution_count": null,
   "metadata": {},
   "outputs": [],
   "source": [
    "(yt.units.kpc**3).get_cgs_equivalent()"
   ]
  },
  {
   "cell_type": "markdown",
   "metadata": {},
   "source": [
    "So let's set some units of our plot!  Let's change the units of density from $g/cm^3$ to $kg/m^3$"
   ]
  },
  {
   "cell_type": "code",
   "execution_count": null,
   "metadata": {},
   "outputs": [],
   "source": [
    "p.set_unit(\"density\",\"kg/m**3\")"
   ]
  },
  {
   "cell_type": "markdown",
   "metadata": {},
   "source": [
    "We can also include annotations on this plot:"
   ]
  },
  {
   "cell_type": "code",
   "execution_count": null,
   "metadata": {},
   "outputs": [],
   "source": [
    "p.annotate_velocity()"
   ]
  },
  {
   "cell_type": "markdown",
   "metadata": {},
   "source": [
    "This shows how material is moving in this simulation this is shown with velocity vectors.\n",
    "\n",
    "We can combine some of our coding around finding max values of density and combine with some region plots.\n",
    "\n",
    "Let's project the maximum density along the z axis i.e. lets make a plot of the maximum density along the z-axis of our plot:"
   ]
  },
  {
   "cell_type": "code",
   "execution_count": null,
   "metadata": {},
   "outputs": [],
   "source": [
    "p2 = ds.r[:].max(\"density\", axis=\"z\").plot()"
   ]
  },
  {
   "cell_type": "markdown",
   "metadata": {},
   "source": [
    "We can zoom this as well:"
   ]
  },
  {
   "cell_type": "code",
   "execution_count": null,
   "metadata": {},
   "outputs": [],
   "source": [
    "p2.zoom(10)"
   ]
  },
  {
   "cell_type": "markdown",
   "metadata": {},
   "source": [
    "If we scroll back up we can see that there is indeed a different between this and our slice plot.  Here, we are much more \"smeared\" since we're picking only the max density $\\rightarrow$ everything looks brighter.\n",
    "\n",
    "We can also do plots based on region selection but over specific values of z (and x & y). If we recall our box goes from 0$\\rightarrow$1 in each x/y/z direction, we can plot a zoom in like so:"
   ]
  },
  {
   "cell_type": "code",
   "execution_count": null,
   "metadata": {},
   "outputs": [],
   "source": [
    "p = ds.r[0.1:0.9, 0.1:0.9, 0.55:0.65].max(\"density\", axis=\"z\").plot()"
   ]
  },
  {
   "cell_type": "markdown",
   "metadata": {},
   "source": [
    "So, this shows the maximum density but only in a thin slice of the z-axis which is offset from the center.\n",
    "\n",
    "Since the galaxy lives at the center, and is the highest density gas region, it makes sense that our densities are lower and our features look different -- more \"fuzzy ball\" outside of the galaxy then gas flowing onto a galaxy disk.\n",
    "\n",
    "Let's redo the same plot but for the temperature of the gas:"
   ]
  },
  {
   "cell_type": "code",
   "execution_count": null,
   "metadata": {},
   "outputs": [],
   "source": [
    "p = ds.r[0.1:0.9, 0.1:0.9, 0.55:0.65].mean(\"temperature\", axis=\"z\").plot()"
   ]
  },
  {
   "cell_type": "markdown",
   "metadata": {},
   "source": [
    "We might want to highlight the temperature of the most dense regions.  Why?  Well maybe we want to, instead of depicting the straight temperature, we want to depict the temperature of the *majority of the gas*. We can do this by specifying a \"weight\" in our projection:"
   ]
  },
  {
   "cell_type": "code",
   "execution_count": null,
   "metadata": {},
   "outputs": [],
   "source": [
    "p = ds.r[0.1:0.9, 0.1:0.9, 0.55:0.65].mean(\"temperature\", weight=\"density\", axis=\"z\").plot()"
   ]
  },
  {
   "cell_type": "markdown",
   "metadata": {},
   "source": [
    "So why is there this blocky structure?  In space, we don't see cubes around galaxies... yet anyway...\n",
    "\n",
    "This is becuase this is a simulation of a galaxy, not an actual galaxy.  We can show why this might be by plotting the \"grids\" of this simulation over this thing:"
   ]
  },
  {
   "cell_type": "code",
   "execution_count": null,
   "metadata": {},
   "outputs": [],
   "source": [
    "p.annotate_grids()"
   ]
  },
  {
   "cell_type": "markdown",
   "metadata": {},
   "source": [
    "From this we can see that our grids sort of align where the temperature looks funny.  This is a good indicator that we have some numerical artifacts in our simulation.\n",
    "\n",
    "Ok!  Let's try some more analysis-like plots some of the helpful yt included plots is:"
   ]
  },
  {
   "cell_type": "code",
   "execution_count": null,
   "metadata": {},
   "outputs": [],
   "source": [
    "ds.r[:].profile(\"density\", \"temperature\").plot()"
   ]
  },
  {
   "cell_type": "markdown",
   "metadata": {},
   "source": [
    "So this is plotting the temperature of the gas in our simulation, in each binned density.\n",
    "\n",
    "In our actual simulation, we have temperaturates at a variety of densities, and this is usually the case, so by default what is plotted is the temperature (our 2nd param) plotted at each density bin, but weighted by the mass of material (gas) in each cell.\n",
    "\n",
    "We can weight by other things, like in this case density:"
   ]
  },
  {
   "cell_type": "code",
   "execution_count": null,
   "metadata": {},
   "outputs": [],
   "source": [
    "ds.r[:].profile(\"density\", \"temperature\", weight_field=\"density\").plot()"
   ]
  },
  {
   "cell_type": "markdown",
   "metadata": {},
   "source": [
    "So, similar shape (since mass and density are related) but a little different."
   ]
  },
  {
   "cell_type": "markdown",
   "metadata": {},
   "source": [
    "# Activity #2: Brain data with yt\n",
    "\n",
    "We can also use yt to play with other sorts of data:"
   ]
  },
  {
   "cell_type": "code",
   "execution_count": null,
   "metadata": {},
   "outputs": [],
   "source": [
    "import h5py # might have to pip install"
   ]
  },
  {
   "cell_type": "markdown",
   "metadata": {},
   "source": [
    "Let's read our datafile into something called \"scan_data\":"
   ]
  },
  {
   "cell_type": "code",
   "execution_count": null,
   "metadata": {},
   "outputs": [],
   "source": [
    "with h5py.File(\"/Users/jnaiman/Downloads/single_dicom.h5\", \"r\") as f:\n",
    "    scan_data = f[\"/scan\"][:]"
   ]
  },
  {
   "cell_type": "markdown",
   "metadata": {},
   "source": [
    "If we recall, we had a weird shape of this data:"
   ]
  },
  {
   "cell_type": "code",
   "execution_count": null,
   "metadata": {},
   "outputs": [],
   "source": [
    "scan_data.shape"
   ]
  },
  {
   "cell_type": "markdown",
   "metadata": {},
   "source": [
    "So to import this data into yt to have yt make images for us, we need to do some formatting with numpy:"
   ]
  },
  {
   "cell_type": "code",
   "execution_count": null,
   "metadata": {},
   "outputs": [],
   "source": [
    "import numpy as np"
   ]
  },
  {
   "cell_type": "code",
   "execution_count": null,
   "metadata": {},
   "outputs": [],
   "source": [
    "dsd = yt.load_uniform_grid({'scan': scan_data},\n",
    "                     [36, 512, 512],\n",
    "                     #length_unit = yt.units.centimeter, # specify the units of this dataset\n",
    "                     bbox = np.array([[0., 10], [0, 10], [0, 10]]), # give a \"size\" to this dataset\n",
    ")"
   ]
  },
  {
   "cell_type": "code",
   "execution_count": null,
   "metadata": {},
   "outputs": [],
   "source": [
    "dsd.r[:].mean(\"scan\", axis=\"y\").plot(); # this takes the mean along the specified axis \"y\" and plots"
   ]
  },
  {
   "cell_type": "markdown",
   "metadata": {},
   "source": [
    "Can also do .max or .min\n",
    "\n",
    "Note here that the number of fields available is much less:"
   ]
  },
  {
   "cell_type": "code",
   "execution_count": null,
   "metadata": {},
   "outputs": [],
   "source": [
    "dsd.field_list"
   ]
  },
  {
   "cell_type": "markdown",
   "metadata": {},
   "source": [
    "We can also look at different potions of the z-y axis by specifying the x-axis:"
   ]
  },
  {
   "cell_type": "code",
   "execution_count": null,
   "metadata": {},
   "outputs": [],
   "source": [
    "p = dsd.r[0.75,:,:].plot('scan')"
   ]
  },
  {
   "cell_type": "markdown",
   "metadata": {},
   "source": [
    "# Activity #3: Output images and objects (3D) with yt\n",
    "Note: we'll do more with 3D objects next week/the last week, but this is a good first view of some cool ways we can output objects with yt.\n",
    "\n",
    "Let's go back to to our galaxy object and make a surface.\n",
    "\n",
    "First, we'll cut down to a sphere and check that out:"
   ]
  },
  {
   "cell_type": "code",
   "execution_count": null,
   "metadata": {},
   "outputs": [],
   "source": [
    "sphere = ds.sphere(\"max\", (500.0, \"kpc\"))\n",
    "sphere.mean(\"density\", axis=\"y\").plot(); # this takes the mean along the specified axis \"y\" and plots"
   ]
  },
  {
   "cell_type": "markdown",
   "metadata": {},
   "source": [
    "Let's generate a surface of constant density i.e. we'll connect points on a surface where the density has a single value:"
   ]
  },
  {
   "cell_type": "code",
   "execution_count": null,
   "metadata": {},
   "outputs": [],
   "source": [
    "surface = ds.surface(sphere, \"density\", 1e-27)"
   ]
  },
  {
   "cell_type": "code",
   "execution_count": null,
   "metadata": {},
   "outputs": [],
   "source": [
    "surface.export_obj('/Users/jillnaiman/Downloads/myGalFiles',color_field='temperature')\n",
    "# the above might take a while"
   ]
  },
  {
   "cell_type": "markdown",
   "metadata": {},
   "source": [
    "At this point you can upload this to SketchFab, or use PyGEL3D if you were able to install this.\n",
    "\n",
    "# -----------------------------------------------------------------------\n",
    "\n",
    "We **WON'T** be doing this from Spring 2021 and on, but its left here as a note for others.\n",
    "\n",
    "#### If you have PyGEL3D installed:"
   ]
  },
  {
   "cell_type": "code",
   "execution_count": null,
   "metadata": {},
   "outputs": [],
   "source": [
    "# for checking out our surfaces right here\n",
    "#http://www2.compute.dtu.dk/projects/GEL/PyGEL/\n",
    "#!pip install PyGEL3D\n",
    "\n",
    "# you might have to link where pip installs things\n",
    "# you can find this in your activated DataViz environment with `pip show PyGEL3D`\n",
    "from sys import path\n",
    "path.append('/Users/jillnaiman/opt/anaconda3/lib/python3.7/site-packages/')"
   ]
  },
  {
   "cell_type": "code",
   "execution_count": null,
   "metadata": {},
   "outputs": [],
   "source": [
    "from PyGEL3D import gel\n",
    "from PyGEL3D import js\n",
    "\n",
    "# for navigating\n",
    "\n",
    "js.set_export_mode()\n",
    "m = gel.obj_load(\"/Users/jillnaiman/Downloads/myGalFiles.obj\")\n",
    "viewer = gel.GLManifoldViewer()\n",
    "viewer.display(m)\n",
    "\n",
    "\n",
    "\n",
    "# press ESC to quit?  Yes, but then it takes a while so"
   ]
  },
  {
   "cell_type": "code",
   "execution_count": null,
   "metadata": {},
   "outputs": [],
   "source": [
    "# to get rid of the window\n",
    "del viewer"
   ]
  },
  {
   "cell_type": "markdown",
   "metadata": {},
   "source": [
    "Now, lets try with an inline viewer -- also display in the notebook:"
   ]
  },
  {
   "cell_type": "code",
   "execution_count": null,
   "metadata": {},
   "outputs": [],
   "source": [
    "import numpy as np # if you haven't yet\n",
    "\n",
    "#js.display(m,wireframe=False)\n",
    "# comment out after you've run since we'll re-run below"
   ]
  },
  {
   "cell_type": "markdown",
   "metadata": {},
   "source": [
    "Now let's try with an inline viewer & data colors:"
   ]
  },
  {
   "cell_type": "code",
   "execution_count": null,
   "metadata": {},
   "outputs": [],
   "source": [
    "surf_temp = surface['temperature']\n",
    "surf_temp.shape"
   ]
  },
  {
   "cell_type": "markdown",
   "metadata": {},
   "source": [
    "We see that this is infact a long list of values temperatures on each surface *face*.\n",
    "\n",
    "If we look at the shape of the object:"
   ]
  },
  {
   "cell_type": "code",
   "execution_count": null,
   "metadata": {},
   "outputs": [],
   "source": [
    "m.positions().shape, surf_temp.shape[0]*3"
   ]
  },
  {
   "cell_type": "markdown",
   "metadata": {},
   "source": [
    "We see we have (surf_temp.shape)X3 times the number of points in x/y/z.  This is because these are *vertex* values.  So, if we want to color by something, we should use 3X the number of faces."
   ]
  },
  {
   "cell_type": "code",
   "execution_count": null,
   "metadata": {},
   "outputs": [],
   "source": [
    "js.display(m, data=np.repeat(np.log10(surf_temp),3),wireframe=False)"
   ]
  },
  {
   "cell_type": "markdown",
   "metadata": {},
   "source": [
    "We can also process for 3D printing:"
   ]
  },
  {
   "cell_type": "code",
   "execution_count": null,
   "metadata": {},
   "outputs": [],
   "source": [
    "surface.export_obj('/Users/jillnaiman/Downloads/myGalFiles_print',dist_fac=0.001)"
   ]
  },
  {
   "cell_type": "markdown",
   "metadata": {},
   "source": [
    "## Outputing images for things like clothing"
   ]
  },
  {
   "cell_type": "code",
   "execution_count": null,
   "metadata": {},
   "outputs": [],
   "source": [
    "p = ds.r[:, :, 0.5].plot(\"density\")"
   ]
  },
  {
   "cell_type": "code",
   "execution_count": null,
   "metadata": {},
   "outputs": [],
   "source": [
    "p.zoom(20)"
   ]
  },
  {
   "cell_type": "code",
   "execution_count": null,
   "metadata": {},
   "outputs": [],
   "source": [
    "myImage = p.frb # fixed resoltuion binary"
   ]
  },
  {
   "cell_type": "markdown",
   "metadata": {},
   "source": [
    "We can then grab a simple image array:"
   ]
  },
  {
   "cell_type": "code",
   "execution_count": null,
   "metadata": {},
   "outputs": [],
   "source": [
    "plt.imshow(np.array(myImage['density']))"
   ]
  },
  {
   "cell_type": "markdown",
   "metadata": {},
   "source": [
    "... or we can turn off labels and grab a lovely image:"
   ]
  },
  {
   "cell_type": "code",
   "execution_count": null,
   "metadata": {},
   "outputs": [],
   "source": [
    "p = ds.r[:, :, 0.5].plot(\"density\")\n",
    "p.zoom(10)"
   ]
  },
  {
   "cell_type": "code",
   "execution_count": null,
   "metadata": {},
   "outputs": [],
   "source": [
    "p.hide_colorbar(); p.hide_axes();"
   ]
  },
  {
   "cell_type": "code",
   "execution_count": null,
   "metadata": {},
   "outputs": [],
   "source": [
    "p"
   ]
  },
  {
   "cell_type": "markdown",
   "metadata": {},
   "source": [
    "Save the image:"
   ]
  },
  {
   "cell_type": "code",
   "execution_count": null,
   "metadata": {},
   "outputs": [],
   "source": [
    "p.save('/Users/jnaiman/Downloads/myImage.png')"
   ]
  },
  {
   "cell_type": "markdown",
   "metadata": {},
   "source": [
    "Now you have a lovely image that you can upload and put on things like sweaters or whatnot."
   ]
  },
  {
   "cell_type": "code",
   "execution_count": null,
   "metadata": {},
   "outputs": [],
   "source": []
  }
 ],
 "metadata": {
  "kernelspec": {
   "display_name": "Python 3 (ipykernel)",
   "language": "python",
   "name": "python3"
  },
  "language_info": {
   "codemirror_mode": {
    "name": "ipython",
    "version": 3
   },
   "file_extension": ".py",
   "mimetype": "text/x-python",
   "name": "python",
   "nbconvert_exporter": "python",
   "pygments_lexer": "ipython3",
   "version": "3.7.12"
  }
 },
 "nbformat": 4,
 "nbformat_minor": 2
}
