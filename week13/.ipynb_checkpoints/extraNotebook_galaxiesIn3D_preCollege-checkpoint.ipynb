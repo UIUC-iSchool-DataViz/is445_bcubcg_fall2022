{
 "cells": [
  {
   "cell_type": "markdown",
   "metadata": {},
   "source": [
    "# Extra stuff with ipyvolume\n",
    "\n",
    "Note: you need to download the following and make sure they are in your current directory (and put the data file in a subdirectory called `data`):\n",
    " * [outarrsnap_001_fac1n3.txt](https://raw.githubusercontent.com/UIUC-iSchool-DataViz/spring2020/master/week14/data/outarrsnap_001_fac1n3.txt)\n",
    " * [solverlibs.py](https://raw.githubusercontent.com/UIUC-iSchool-DataViz/spring2020/master/week14/solverlibs.py)\n",
    " \n",
    "This uses data from a numerical simulation of galaxies.  More info can be found on that [course webpage](https://jnaiman.github.io/csci-p-14110/).\n"
   ]
  },
  {
   "cell_type": "code",
   "execution_count": 1,
   "metadata": {},
   "outputs": [],
   "source": [
    "# if you don't get it:\n",
    "#!pip install ipyvolume\n",
    "# note: you may need:\n",
    "#!jupyter nbextension enable --py --sys-prefix ipyvolume\n",
    "#!jupyter nbextension enable --py --sys-prefix widgetsnbextension\n",
    "\n",
    "# or you can do:\n",
    "#!conda install -c conda-forge ipyvolume\n",
    "\n",
    "\n",
    "import ipyvolume"
   ]
  },
  {
   "cell_type": "code",
   "execution_count": 2,
   "metadata": {},
   "outputs": [],
   "source": [
    "from solverlibs import read_in_galaxy_data"
   ]
  },
  {
   "cell_type": "code",
   "execution_count": 3,
   "metadata": {},
   "outputs": [],
   "source": [
    "# time (N-body units), position vectors at each time (kpc), \n",
    "#  velocity vectors (km/s), energy (N-body units), # bodies, particle type (dark matter or stars)\n",
    "# make sure you link were things are saved\n",
    "save_file = 'data/outarrsnap_001_fac1n3.txt'\n",
    "t_h, r_h, v_h, E_h, N, part_type = read_in_galaxy_data(save_file)"
   ]
  },
  {
   "cell_type": "code",
   "execution_count": 4,
   "metadata": {},
   "outputs": [
    {
     "data": {
      "text/plain": [
       "(82, 3, 500)"
      ]
     },
     "execution_count": 4,
     "metadata": {},
     "output_type": "execute_result"
    }
   ],
   "source": [
    "r_h.shape"
   ]
  },
  {
   "cell_type": "code",
   "execution_count": 5,
   "metadata": {},
   "outputs": [
    {
     "data": {
      "application/vnd.jupyter.widget-view+json": {
       "model_id": "fa15f90ee38745af9affb0d1392e5bbf",
       "version_major": 2,
       "version_minor": 0
      },
      "text/plain": [
       "VBox(children=(Figure(camera=PerspectiveCamera(fov=46.0, position=(0.0, 0.0, 2.0), quaternion=(0.0, 0.0, 0.0, …"
      ]
     },
     "metadata": {},
     "output_type": "display_data"
    }
   ],
   "source": [
    "# we'll have to reformat a bit for plotting\n",
    "# right now, just all as one color\n",
    "x = r_h[:,0,:].ravel()\n",
    "y = r_h[:,1,:].ravel()\n",
    "z = r_h[:,2,:].ravel()\n",
    "ipyvolume.quickscatter(x, y, z, \n",
    "                       size=1, marker=\"sphere\")\n",
    "# this plots things as overlapping spheres\n",
    "# so the orbits look like tubes"
   ]
  },
  {
   "cell_type": "markdown",
   "metadata": {},
   "source": [
    "Let's make things a little more complicated and allow us to take a look at each orbit:"
   ]
  },
  {
   "cell_type": "code",
   "execution_count": 6,
   "metadata": {},
   "outputs": [
    {
     "data": {
      "application/vnd.jupyter.widget-view+json": {
       "model_id": "d04470ff6f314010b9cebbd9041dbed9",
       "version_major": 2,
       "version_minor": 0
      },
      "text/plain": [
       "VBox(children=(Figure(camera=PerspectiveCamera(fov=46.0, position=(0.0, 0.0, 2.0), quaternion=(0.0, 0.0, 0.0, …"
      ]
     },
     "metadata": {},
     "output_type": "display_data"
    }
   ],
   "source": [
    "ipyvolume.figure()\n",
    "colors = ['red', 'blue', 'green'] # now velocity of each particle is different color\n",
    "for i in range(v_h.shape[0]): # loop over number of particles\n",
    "    ipyvolume.scatter(v_h[i,0,:],\n",
    "                      v_h[i,1,:],\n",
    "                      v_h[i,2,:],\n",
    "                     marker='sphere')\n",
    "ipyvolume.show()"
   ]
  },
  {
   "cell_type": "markdown",
   "metadata": {},
   "source": [
    "So this is a little less intiative, but this is how the velocities of our particles change during their orbits."
   ]
  },
  {
   "cell_type": "markdown",
   "metadata": {},
   "source": [
    "Ok, we can also show velocity by little vectors:"
   ]
  },
  {
   "cell_type": "code",
   "execution_count": 10,
   "metadata": {},
   "outputs": [
    {
     "data": {
      "application/vnd.jupyter.widget-view+json": {
       "model_id": "94190c8075c54234b40fdaeef768cb69",
       "version_major": 2,
       "version_minor": 0
      },
      "text/plain": [
       "VBox(children=(Figure(camera=PerspectiveCamera(fov=46.0, position=(0.0, 0.0, 2.0), quaternion=(0.0, 0.0, 0.0, …"
      ]
     },
     "metadata": {},
     "output_type": "display_data"
    }
   ],
   "source": [
    "ipyvolume.figure()\n",
    "for i in range(v_h.shape[0]): # loop over particles \n",
    "    ipyvolume.quiver(r_h[i,0,:], # plot x,y,z positions\n",
    "                      r_h[i,1,:],\n",
    "                      r_h[i,2,:],\n",
    "                     v_h[i,0,:], # also include vx/vy/vz vectors of velocities\n",
    "                      v_h[i,1,:],\n",
    "                      v_h[i,2,:])\n",
    "ipyvolume.show()"
   ]
  },
  {
   "cell_type": "markdown",
   "metadata": {},
   "source": [
    "So clearly the above is pointless - while it looks cool the arrows are too big and there are too many of them!  We can change this by taking \"X\" number of points.  This is like the subsampling we did before to keep our framerates of our animations small:"
   ]
  },
  {
   "cell_type": "code",
   "execution_count": 11,
   "metadata": {},
   "outputs": [
    {
     "data": {
      "application/vnd.jupyter.widget-view+json": {
       "model_id": "5e548c3d82c24893a33bb563cfd67df7",
       "version_major": 2,
       "version_minor": 0
      },
      "text/plain": [
       "VBox(children=(Figure(camera=PerspectiveCamera(fov=46.0, position=(0.0, 0.0, 2.0), quaternion=(0.0, 0.0, 0.0, …"
      ]
     },
     "metadata": {},
     "output_type": "display_data"
    }
   ],
   "source": [
    "step = 1000 # plot ever \"step\"th velocity vector\n",
    "# also, length of arrays in time-axis\n",
    "N = v_h.shape[2]\n",
    "\n",
    "ipyvolume.figure()\n",
    "for i in range(v_h.shape[0]): # loop every particle\n",
    "    ipyvolume.quiver(r_h[i,0,0:N:step], # plot subsampled x/y/z\n",
    "                      r_h[i,1,0:N:step],\n",
    "                      r_h[i,2,0:N:step],\n",
    "                     v_h[i,0,0:N:step], # with subsampled vectors vx/vy/vz\n",
    "                      v_h[i,1,0:N:step],\n",
    "                      v_h[i,2,0:N:step], \n",
    "                     size=2) # also, if things look too crowded, we can also make the arrows themselves smaller\n",
    "ipyvolume.show()"
   ]
  },
  {
   "cell_type": "markdown",
   "metadata": {},
   "source": [
    "Now we can see a bit more about the motion - that their directions are opposite of eachother for example.  And that the central mass only moves slightly and around its center as well."
   ]
  },
  {
   "cell_type": "markdown",
   "metadata": {},
   "source": [
    "## Animation\n",
    "Let's now figure out how to make an animation in 3D, and then save it for ourselves!  To do this, we'll need to format our data specifically as (time, position):"
   ]
  },
  {
   "cell_type": "code",
   "execution_count": 12,
   "metadata": {},
   "outputs": [
    {
     "data": {
      "text/plain": [
       "(500, 82)"
      ]
     },
     "execution_count": 12,
     "metadata": {},
     "output_type": "execute_result"
    }
   ],
   "source": [
    "# for example, for particle 0:\n",
    "r_h[:,0,:].T.shape"
   ]
  },
  {
   "cell_type": "code",
   "execution_count": 13,
   "metadata": {},
   "outputs": [
    {
     "data": {
      "text/plain": [
       "((82, 3, 500), (82, 3, 50), (50, 82))"
      ]
     },
     "execution_count": 13,
     "metadata": {},
     "output_type": "execute_result"
    }
   ],
   "source": [
    "step = 10 # only do every 10 steps\n",
    "# also, length of arrays in time\n",
    "N = v_h.shape[2]\n",
    "\n",
    "# subsample to make more managable\n",
    "r = r_h[:,:,0:N:step]\n",
    "v = v_h[:,:,0:N:step]\n",
    "\n",
    "r_h.shape, r.shape, r[:,2,:].T.shape"
   ]
  },
  {
   "cell_type": "code",
   "execution_count": 14,
   "metadata": {},
   "outputs": [
    {
     "data": {
      "application/vnd.jupyter.widget-view+json": {
       "model_id": "c0087c9d9cbe4c92b7373add69750b1e",
       "version_major": 2,
       "version_minor": 0
      },
      "text/plain": [
       "VBox(children=(Figure(animation=200.0, camera=PerspectiveCamera(fov=46.0, position=(0.0, 0.0, 2.0), quaternion…"
      ]
     },
     "metadata": {},
     "output_type": "display_data"
    }
   ],
   "source": [
    "ipyvolume.figure()\n",
    "\n",
    "s = ipyvolume.scatter(r[:,0,:].T, r[:,1,:].T, r[:,2,:].T, \n",
    "                      marker='sphere')\n",
    "\n",
    "ani = ipyvolume.animation_control(s, interval=200)\n",
    "\n",
    "ipyvolume.show()"
   ]
  },
  {
   "cell_type": "markdown",
   "metadata": {},
   "source": [
    "Note that we can only use the ```animation_control``` function on scatter plots or quiver plots, so we can't add lines or anything here.  Perhaps in a future release of ```ipyvolume```!"
   ]
  },
  {
   "cell_type": "markdown",
   "metadata": {},
   "source": [
    "### Exercise\n",
    "Try higher resolution in time.\n",
    "\n",
    "Try a higher resolution dataset."
   ]
  },
  {
   "cell_type": "markdown",
   "metadata": {},
   "source": [
    "# Part 2: ipyvolume + ipywidgets\n",
    "Now let's combine the powers of widgets and ipyvolume to explore our datasets in 3D."
   ]
  },
  {
   "cell_type": "code",
   "execution_count": 15,
   "metadata": {},
   "outputs": [],
   "source": [
    "import ipywidgets"
   ]
  },
  {
   "cell_type": "code",
   "execution_count": 16,
   "metadata": {},
   "outputs": [
    {
     "data": {
      "text/plain": [
       "(410,)"
      ]
     },
     "execution_count": 16,
     "metadata": {},
     "output_type": "execute_result"
    }
   ],
   "source": [
    "step = 100 # only do every 100th timestep\n",
    "# also, length of arrays\n",
    "N = v_h.shape[2] # full time\n",
    "\n",
    "# decimate again\n",
    "r = r_h[:,:,0:N:step]\n",
    "v = v_h[:,:,0:N:step]\n",
    "\n",
    "r[:,0,:].ravel().shape"
   ]
  },
  {
   "cell_type": "code",
   "execution_count": 17,
   "metadata": {},
   "outputs": [],
   "source": [
    "ipyvolume.figure()\n",
    "\n",
    "x = r[:,0,:].ravel()\n",
    "y = r[:,1,:].ravel()\n",
    "z = r[:,2,:].ravel()\n",
    "\n",
    "s = ipyvolume.scatter(x, y, z, \n",
    "                      marker='sphere')\n",
    "\n",
    "#ipyvolume.show()\n",
    "#colors.shape, r[:,0,:].shape"
   ]
  },
  {
   "cell_type": "markdown",
   "metadata": {},
   "source": [
    "Now let's use widgets to change the size and color of our points:"
   ]
  },
  {
   "cell_type": "code",
   "execution_count": 18,
   "metadata": {},
   "outputs": [],
   "source": [
    "import ipywidgets\n",
    "size = ipywidgets.FloatSlider(min=0, max=30, step=0.1)\n",
    "color = ipywidgets.ColorPicker()"
   ]
  },
  {
   "cell_type": "markdown",
   "metadata": {},
   "source": [
    "Now we'll use a function we haven't used before from ipywidgets - something that links our scatter plot features to our widgets:"
   ]
  },
  {
   "cell_type": "code",
   "execution_count": 19,
   "metadata": {},
   "outputs": [
    {
     "data": {
      "text/plain": [
       "Link(source=(Scatter(color_selected=array('white', dtype='<U5'), geo='sphere', line_material=ShaderMaterial(),…"
      ]
     },
     "metadata": {},
     "output_type": "display_data"
    }
   ],
   "source": [
    "ipywidgets.jslink((s, 'size'), (size, 'value'))\n",
    "ipywidgets.jslink((s, 'color'), (color, 'value'))"
   ]
  },
  {
   "cell_type": "markdown",
   "metadata": {},
   "source": [
    "Finally, well put all these things in a row: our plot, then our two linked widgets:"
   ]
  },
  {
   "cell_type": "code",
   "execution_count": 20,
   "metadata": {},
   "outputs": [
    {
     "data": {
      "application/vnd.jupyter.widget-view+json": {
       "model_id": "4076e5a8c57a4c6589fd7b32b640b354",
       "version_major": 2,
       "version_minor": 0
      },
      "text/plain": [
       "VBox(children=(VBox(children=(Figure(camera=PerspectiveCamera(fov=46.0, position=(0.0, 0.0, 2.0), projectionMa…"
      ]
     },
     "metadata": {},
     "output_type": "display_data"
    }
   ],
   "source": [
    "ipywidgets.VBox([ipyvolume.gcc(), size,  color])"
   ]
  },
  {
   "cell_type": "markdown",
   "metadata": {},
   "source": [
    "### Exercise\n",
    "Bonus: make a quiver plot\n",
    "\n",
    "Bonus: what other things can you think to add sliders/pickers for?  Hint: check out the docs for ```ipyvolume.quiver``` and ```ipyvolume.scatter``` to see what you can change."
   ]
  },
  {
   "cell_type": "markdown",
   "metadata": {},
   "source": [
    "# Part 3 - embedding\n",
    "\n",
    "Finally, we might want to embed our creations on the web somewhere.  The first step is to make an ```html``` file from our in-python widgets.  Luckily, there is a function for that!"
   ]
  },
  {
   "cell_type": "code",
   "execution_count": 21,
   "metadata": {},
   "outputs": [],
   "source": [
    "myVBox = ipywidgets.VBox([ipyvolume.gcc(), size,  color])"
   ]
  },
  {
   "cell_type": "code",
   "execution_count": 22,
   "metadata": {},
   "outputs": [],
   "source": [
    "# if we don't do this, the bqplot will be really tiny in the standalone html\n",
    "ipyvolume.embed.layout = myVBox.children[1].layout\n",
    "ipyvolume.embed.layout.min_width = \"400px\""
   ]
  },
  {
   "cell_type": "code",
   "execution_count": 23,
   "metadata": {},
   "outputs": [],
   "source": [
    "# NOTE: try offline=False if any dispaly issues come up\n",
    "ipyvolume.embed.embed_html(\"myPage_galaxies.html\", myVBox, offline=True, devmode=False)"
   ]
  },
  {
   "cell_type": "code",
   "execution_count": 24,
   "metadata": {},
   "outputs": [],
   "source": [
    "!open myPage_galaxies.html"
   ]
  },
  {
   "cell_type": "markdown",
   "metadata": {},
   "source": [
    "### Exercise\n",
    "Generate a page for your own simulation with all the controls you want!\n",
    "\n",
    "**Bonus**: though we won't be covering it explicitly, you can actually deploy this to the web to be hosted on github pages.  The first thing you need to do is call ```embed``` a little differently:"
   ]
  },
  {
   "cell_type": "code",
   "execution_count": 88,
   "metadata": {},
   "outputs": [],
   "source": [
    "ipyvolume.embed.embed_html(\"myPage_galaxies.html\", myVBox, offline=False, devmode=False)"
   ]
  },
  {
   "cell_type": "markdown",
   "metadata": {},
   "source": [
    "Now, instead of opening it here, you need to add this file to your github page.  Again, we won't cover this in class, but feel free to ask for help after you've looked over the resources provided on today's course webpage under the \"deploying to the web\" header."
   ]
  },
  {
   "cell_type": "markdown",
   "metadata": {},
   "source": [
    "**Bonus**: add more linkage to your plot by linking to bqplot.  See the \"Mixing ipyvolume with bqplot\" example on the ```ipyvolume``` docs: https://ipyvolume.readthedocs.io/en/latest/bqplot.html#"
   ]
  },
  {
   "cell_type": "markdown",
   "metadata": {},
   "source": [
    "## Harder exercise\n",
    "Color by particle #1 or particle #2"
   ]
  },
  {
   "cell_type": "code",
   "execution_count": null,
   "metadata": {},
   "outputs": [],
   "source": []
  }
 ],
 "metadata": {
  "kernelspec": {
   "display_name": "Python 3",
   "language": "python",
   "name": "python3"
  },
  "language_info": {
   "codemirror_mode": {
    "name": "ipython",
    "version": 3
   },
   "file_extension": ".py",
   "mimetype": "text/x-python",
   "name": "python",
   "nbconvert_exporter": "python",
   "pygments_lexer": "ipython3",
   "version": "3.7.6"
  }
 },
 "nbformat": 4,
 "nbformat_minor": 2
}
