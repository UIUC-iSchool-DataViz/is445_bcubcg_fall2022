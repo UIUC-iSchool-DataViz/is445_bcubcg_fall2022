{
 "cells": [
  {
   "cell_type": "markdown",
   "metadata": {},
   "source": [
    "# Intro to sciviz -- 3D graphics in jupyter notebooks"
   ]
  },
  {
   "cell_type": "markdown",
   "metadata": {},
   "source": [
    "Note: We might do things out of order!  \n",
    "\n",
    "1. ipyvolume\n",
    "1. yt (next week!)"
   ]
  },
  {
   "cell_type": "markdown",
   "metadata": {},
   "source": [
    "Import usual things:"
   ]
  },
  {
   "cell_type": "code",
   "execution_count": 1,
   "metadata": {},
   "outputs": [],
   "source": [
    "import numpy as np\n",
    "import pandas as pd"
   ]
  },
  {
   "cell_type": "markdown",
   "metadata": {},
   "source": [
    "# 1. Using ipyvolume"
   ]
  },
  {
   "cell_type": "markdown",
   "metadata": {},
   "source": [
    "Let's make a quick test plot with ipyvolume:"
   ]
  },
  {
   "cell_type": "code",
   "execution_count": 2,
   "metadata": {},
   "outputs": [],
   "source": [
    "import ipyvolume"
   ]
  },
  {
   "cell_type": "code",
   "execution_count": 3,
   "metadata": {},
   "outputs": [
    {
     "data": {
      "application/vnd.jupyter.widget-view+json": {
       "model_id": "d7488bd8c4ed4b8db097a9b191d8851e",
       "version_major": 2,
       "version_minor": 0
      },
      "text/plain": [
       "VBox(children=(Figure(camera=PerspectiveCamera(fov=45.0, position=(0.0, 0.0, 2.0), projectionMatrix=(1.0, 0.0,…"
      ]
     },
     "metadata": {},
     "output_type": "display_data"
    }
   ],
   "source": [
    "x, y, z = np.random.random((3, 100)) # 3 dimensions, 100 points total\n",
    "ipyvolume.quickscatter(x, y, z, size=1, marker=\"sphere\")"
   ]
  },
  {
   "cell_type": "code",
   "execution_count": 4,
   "metadata": {},
   "outputs": [],
   "source": [
    "gfile = '/Users/jnaiman/Downloads/galaxyFiles/outarrsnap_001_fac1n3.txt'\n",
    "# unzip galaxyFiles.zip"
   ]
  },
  {
   "cell_type": "code",
   "execution_count": 5,
   "metadata": {},
   "outputs": [],
   "source": [
    "# where is solver libs?\n",
    "from sys import path\n",
    "path.append('/Users/jnaiman/Downloads/galaxyFiles/') # this is where I've unpacked my zip\n",
    "\n",
    "from solverlibs import read_in_galaxy_data\n",
    "\n",
    "t_h, r_h, v_h, e_h, N, part_type = \\\n",
    "     read_in_galaxy_data(gfile)"
   ]
  },
  {
   "cell_type": "code",
   "execution_count": 6,
   "metadata": {},
   "outputs": [
    {
     "data": {
      "text/plain": [
       "(82, 3, 500)"
      ]
     },
     "execution_count": 6,
     "metadata": {},
     "output_type": "execute_result"
    }
   ],
   "source": [
    "r_h.shape"
   ]
  },
  {
   "cell_type": "code",
   "execution_count": 7,
   "metadata": {},
   "outputs": [],
   "source": [
    "# one timestep\n",
    "nT = 0\n",
    "\n",
    "x, y, z = r_h[:,0,nT], r_h[:,1,nT], r_h[:,2,nT]"
   ]
  },
  {
   "cell_type": "code",
   "execution_count": 8,
   "metadata": {
    "scrolled": false
   },
   "outputs": [
    {
     "data": {
      "application/vnd.jupyter.widget-view+json": {
       "model_id": "3eea58af04a14fde944653d1fdd72e8e",
       "version_major": 2,
       "version_minor": 0
      },
      "text/plain": [
       "VBox(children=(Figure(camera=PerspectiveCamera(fov=45.0, position=(0.0, 0.0, 2.0), projectionMatrix=(1.0, 0.0,…"
      ]
     },
     "metadata": {},
     "output_type": "display_data"
    }
   ],
   "source": [
    "ipyvolume.quickscatter(x, y, z, size=1, marker=\"sphere\")"
   ]
  },
  {
   "cell_type": "markdown",
   "metadata": {},
   "source": [
    "This can take a super long time!!!!  Probably don't run this one:"
   ]
  },
  {
   "cell_type": "code",
   "execution_count": 9,
   "metadata": {},
   "outputs": [],
   "source": [
    "# all timesteps:\n",
    "\n",
    "###x, y, z = r_h[:,0,:].ravel(), r_h[:,1,:].ravel(), r_h[:,2,:].ravel()"
   ]
  },
  {
   "cell_type": "code",
   "execution_count": 10,
   "metadata": {
    "scrolled": true
   },
   "outputs": [],
   "source": [
    "#ipyvolume.quickscatter(x, y, z, size=1, marker=\"sphere\")"
   ]
  },
  {
   "cell_type": "markdown",
   "metadata": {},
   "source": [
    "What about velocity vectors?  Let's make a full figure object to plot upon:"
   ]
  },
  {
   "cell_type": "code",
   "execution_count": 11,
   "metadata": {},
   "outputs": [
    {
     "data": {
      "application/vnd.jupyter.widget-view+json": {
       "model_id": "67d2233d0fec4071a9c708d2ee67f76e",
       "version_major": 2,
       "version_minor": 0
      },
      "text/plain": [
       "VBox(children=(Figure(camera=PerspectiveCamera(fov=45.0, position=(0.0, 0.0, 2.0), projectionMatrix=(1.0, 0.0,…"
      ]
     },
     "metadata": {},
     "output_type": "display_data"
    }
   ],
   "source": [
    "ipyvolume.figure()\n",
    "for i in range(v_h.shape[0]): # loop every particle\n",
    "    ipyvolume.quiver(r_h[i,0,:], \n",
    "                      r_h[i,1,:],\n",
    "                      r_h[i,2,:],\n",
    "                     v_h[i,0,:], \n",
    "                      v_h[i,1,:],\n",
    "                      v_h[i,2,:], \n",
    "                     size=1) # also, if things look too crowded, we can also make the arrows themselves smaller\n",
    "ipyvolume.show()"
   ]
  },
  {
   "cell_type": "markdown",
   "metadata": {},
   "source": [
    "Not much better, hard to see, can try with some subsampling:"
   ]
  },
  {
   "cell_type": "code",
   "execution_count": 12,
   "metadata": {},
   "outputs": [
    {
     "data": {
      "text/plain": [
       "(82, 3, 500)"
      ]
     },
     "execution_count": 12,
     "metadata": {},
     "output_type": "execute_result"
    }
   ],
   "source": [
    "r_h.shape"
   ]
  },
  {
   "cell_type": "code",
   "execution_count": 13,
   "metadata": {},
   "outputs": [
    {
     "data": {
      "application/vnd.jupyter.widget-view+json": {
       "model_id": "79eb470d5fbc484dabc769942f1e2c46",
       "version_major": 2,
       "version_minor": 0
      },
      "text/plain": [
       "VBox(children=(Figure(camera=PerspectiveCamera(fov=45.0, position=(0.0, 0.0, 2.0), projectionMatrix=(1.0, 0.0,…"
      ]
     },
     "metadata": {},
     "output_type": "display_data"
    }
   ],
   "source": [
    "step = 10 # plot ever \"step\"th velocity vector\n",
    "# also, length of arrays in time-axis\n",
    "N = v_h.shape[2]\n",
    "\n",
    "ipyvolume.figure()\n",
    "for i in range(v_h.shape[0]): # loop every particle\n",
    "    ipyvolume.quiver(r_h[i,0,0:N:step], # plot subsampled x/y/z\n",
    "                      r_h[i,1,0:N:step],\n",
    "                      r_h[i,2,0:N:step],\n",
    "                     v_h[i,0,0:N:step], # with subsampled vectors vx/vy/vz\n",
    "                      v_h[i,1,0:N:step],\n",
    "                      v_h[i,2,0:N:step], \n",
    "                     size=1) # also, if things look too crowded, we can also make the arrows themselves smaller\n",
    "ipyvolume.show()"
   ]
  },
  {
   "cell_type": "markdown",
   "metadata": {},
   "source": [
    "## 3d animations\n",
    "\n",
    "\n",
    "Let's now figure out how to make an animation in 3D, and then save it for ourselves!  To do this, we'll need to format our data specifically as [time, position].  This is yet another example of where a lot of data-viz is data-formatting!\n",
    "\n",
    "Onto formatting our data as [time, position], we'll do this with a `.T` function that \"flips\" our data shape.  `.T` stands for \"transposing\":"
   ]
  },
  {
   "cell_type": "code",
   "execution_count": 14,
   "metadata": {},
   "outputs": [
    {
     "name": "stdout",
     "output_type": "stream",
     "text": [
      "(82, 500) (500, 82)\n"
     ]
    }
   ],
   "source": [
    "# for example, for particle 0:\n",
    "print(r_h[:,0,:].shape, r_h[:,0,:].T.shape)"
   ]
  },
  {
   "cell_type": "markdown",
   "metadata": {},
   "source": [
    "Down sample our velocity data for easier plotting:"
   ]
  },
  {
   "cell_type": "code",
   "execution_count": 15,
   "metadata": {},
   "outputs": [
    {
     "name": "stdout",
     "output_type": "stream",
     "text": [
      "(82, 3, 500) (82, 3, 50) (50, 82)\n"
     ]
    }
   ],
   "source": [
    "step = 10 # only do every 10 steps\n",
    "# also, length of arrays in time\n",
    "N = v_h.shape[2]\n",
    "\n",
    "# subsample to make more managable\n",
    "r = r_h[:,:,0:N:step]\n",
    "v = v_h[:,:,0:N:step]\n",
    "\n",
    "print(r_h.shape, r.shape, r[:,2,:].T.shape)"
   ]
  },
  {
   "cell_type": "code",
   "execution_count": 16,
   "metadata": {},
   "outputs": [
    {
     "data": {
      "application/vnd.jupyter.widget-view+json": {
       "model_id": "2b819f0f98bc45a9930f5296dc3a95dc",
       "version_major": 2,
       "version_minor": 0
      },
      "text/plain": [
       "VBox(children=(Figure(animation=200.0, camera=PerspectiveCamera(fov=45.0, position=(0.0, 0.0, 2.0), projection…"
      ]
     },
     "metadata": {},
     "output_type": "display_data"
    }
   ],
   "source": [
    "ipyvolume.figure()\n",
    "\n",
    "s = ipyvolume.scatter(r[:,0,:].T, r[:,1,:].T, r[:,2,:].T, \n",
    "                      marker='sphere')\n",
    "\n",
    "ani = ipyvolume.animation_control(s, interval=200)\n",
    "\n",
    "ipyvolume.show()"
   ]
  },
  {
   "cell_type": "markdown",
   "metadata": {},
   "source": [
    "**Astronomy Note:** This is actually a simulation of two galaxies merging.  *However*, its done with only a few particles so you can see the galaxies \"exploding\" rather than merging.  Try one of the larger files in the file folder and see how it changes!\n",
    "\n",
    "### ipyvolume + ipywidgets\n",
    "\n",
    "Now let's combine the powers of widgets and ipyvolume to explore our datasets in 3D."
   ]
  },
  {
   "cell_type": "markdown",
   "metadata": {},
   "source": [
    "Let's only plot a few points on a scatter plot:"
   ]
  },
  {
   "cell_type": "code",
   "execution_count": 17,
   "metadata": {},
   "outputs": [],
   "source": [
    "step = 10 # only do every 10th timestep\n",
    "# also, length of arrays\n",
    "N = v_h.shape[2] # full time\n",
    "\n",
    "# decimate again\n",
    "r = r_h[:,:,0:N:step]\n",
    "v = v_h[:,:,0:N:step]"
   ]
  },
  {
   "cell_type": "markdown",
   "metadata": {},
   "source": [
    "Let's format for our scatter plot again, with some sub-sampling for speed:"
   ]
  },
  {
   "cell_type": "code",
   "execution_count": 18,
   "metadata": {},
   "outputs": [],
   "source": [
    "x = r[:,0,0:N:step].ravel()\n",
    "y = r[:,1,0:N:step].ravel()\n",
    "z = r[:,2,0:N:step].ravel()"
   ]
  },
  {
   "cell_type": "markdown",
   "metadata": {},
   "source": [
    "Reconstruct our scatter plot with every 100th point:"
   ]
  },
  {
   "cell_type": "code",
   "execution_count": 19,
   "metadata": {},
   "outputs": [
    {
     "data": {
      "application/vnd.jupyter.widget-view+json": {
       "model_id": "509ee3da1fe24a4c990cf9e01fdbe58e",
       "version_major": 2,
       "version_minor": 0
      },
      "text/plain": [
       "VBox(children=(Figure(camera=PerspectiveCamera(fov=45.0, position=(0.0, 0.0, 2.0), projectionMatrix=(1.0, 0.0,…"
      ]
     },
     "metadata": {},
     "output_type": "display_data"
    }
   ],
   "source": [
    "ipyvolume.figure()\n",
    "\n",
    "s = ipyvolume.scatter(x, y, z, \n",
    "                      marker='sphere')\n",
    "\n",
    "ipyvolume.show()"
   ]
  },
  {
   "cell_type": "markdown",
   "metadata": {},
   "source": [
    "Now let's create this plot but we won't show it:"
   ]
  },
  {
   "cell_type": "code",
   "execution_count": 20,
   "metadata": {},
   "outputs": [],
   "source": [
    "ipyvolume.figure()\n",
    "\n",
    "s = ipyvolume.scatter(x, y, z, \n",
    "                      marker='sphere')"
   ]
  },
  {
   "cell_type": "markdown",
   "metadata": {},
   "source": [
    "We can link widgets to ths to control the size & color of our points.  Let's use a `FloatSlider` widget and a `ColorPicker` widget:"
   ]
  },
  {
   "cell_type": "code",
   "execution_count": 21,
   "metadata": {},
   "outputs": [],
   "source": [
    "import ipywidgets"
   ]
  },
  {
   "cell_type": "code",
   "execution_count": 22,
   "metadata": {},
   "outputs": [],
   "source": [
    "size = ipywidgets.FloatSlider(min=0, max=30, step=0.1)\n",
    "color = ipywidgets.ColorPicker()"
   ]
  },
  {
   "cell_type": "code",
   "execution_count": 23,
   "metadata": {},
   "outputs": [
    {
     "data": {
      "application/vnd.jupyter.widget-view+json": {
       "model_id": "d32f365d79a54b469ed7bfe413c3b6a7",
       "version_major": 2,
       "version_minor": 0
      },
      "text/plain": [
       "FloatSlider(value=0.0, max=30.0)"
      ]
     },
     "metadata": {},
     "output_type": "display_data"
    }
   ],
   "source": [
    "size"
   ]
  },
  {
   "cell_type": "code",
   "execution_count": 24,
   "metadata": {},
   "outputs": [
    {
     "data": {
      "application/vnd.jupyter.widget-view+json": {
       "model_id": "6fb5ce88d6f54e8ab54a18aa2a0618ed",
       "version_major": 2,
       "version_minor": 0
      },
      "text/plain": [
       "ColorPicker(value='black')"
      ]
     },
     "metadata": {},
     "output_type": "display_data"
    }
   ],
   "source": [
    "color"
   ]
  },
  {
   "cell_type": "code",
   "execution_count": 25,
   "metadata": {},
   "outputs": [
    {
     "data": {
      "text/plain": [
       "0.0"
      ]
     },
     "execution_count": 25,
     "metadata": {},
     "output_type": "execute_result"
    }
   ],
   "source": [
    "size.value"
   ]
  },
  {
   "cell_type": "code",
   "execution_count": 26,
   "metadata": {},
   "outputs": [
    {
     "data": {
      "text/plain": [
       "'black'"
      ]
     },
     "execution_count": 26,
     "metadata": {},
     "output_type": "execute_result"
    }
   ],
   "source": [
    "color.value"
   ]
  },
  {
   "cell_type": "markdown",
   "metadata": {},
   "source": [
    "Now we'll use a widget function we haven't used before called `jslink`.  With this we can link attributes of our scatter plot like the scatter *size* and *color* with the *value*s of each of our widgets:"
   ]
  },
  {
   "cell_type": "code",
   "execution_count": 27,
   "metadata": {},
   "outputs": [
    {
     "data": {
      "text/plain": [
       "array(2)"
      ]
     },
     "execution_count": 27,
     "metadata": {},
     "output_type": "execute_result"
    }
   ],
   "source": [
    "s.size"
   ]
  },
  {
   "cell_type": "code",
   "execution_count": 28,
   "metadata": {},
   "outputs": [
    {
     "data": {
      "text/plain": [
       "array('red', dtype='<U3')"
      ]
     },
     "execution_count": 28,
     "metadata": {},
     "output_type": "execute_result"
    }
   ],
   "source": [
    "s.color"
   ]
  },
  {
   "cell_type": "code",
   "execution_count": 29,
   "metadata": {},
   "outputs": [
    {
     "data": {
      "text/plain": [
       "Link(source=(Scatter(color_selected=array('white', dtype='<U5'), geo='sphere', line_material=ShaderMaterial(),…"
      ]
     },
     "metadata": {},
     "output_type": "display_data"
    }
   ],
   "source": [
    "ipywidgets.jslink((s, 'size'), (size, 'value'))\n",
    "ipywidgets.jslink((s, 'color'), (color, 'value'))"
   ]
  },
  {
   "cell_type": "markdown",
   "metadata": {},
   "source": [
    "Finally, well put all these things in a column - our plot, then our two linked widgets:"
   ]
  },
  {
   "cell_type": "code",
   "execution_count": 30,
   "metadata": {
    "scrolled": false
   },
   "outputs": [
    {
     "data": {
      "application/vnd.jupyter.widget-view+json": {
       "model_id": "723e763f7d634d78be07a8f80d64993a",
       "version_major": 2,
       "version_minor": 0
      },
      "text/plain": [
       "VBox(children=(VBox(children=(Figure(camera=PerspectiveCamera(fov=45.0, position=(0.0, 0.0, 2.0), projectionMa…"
      ]
     },
     "metadata": {},
     "output_type": "display_data"
    }
   ],
   "source": [
    "ipywidgets.VBox([ipyvolume.gcc(), size,  color])"
   ]
  },
  {
   "cell_type": "markdown",
   "metadata": {},
   "source": [
    "### export your 3D object to a webpage\n",
    "\n",
    "Finally, we might want to embed our creations on the web somewhere.  The first step is to make an ```html``` file from our in-python widgets.  Luckily, there is a function for that!  Instead of displaying our `VBox`, let's save it as an object:"
   ]
  },
  {
   "cell_type": "code",
   "execution_count": 31,
   "metadata": {},
   "outputs": [],
   "source": [
    "myVBox = ipywidgets.VBox([ipyvolume.gcc(), size,  color])"
   ]
  },
  {
   "cell_type": "markdown",
   "metadata": {},
   "source": [
    "Now we'll need to do a few layout things so that the box won't be super small on our embedded webpage (try it without and see what happens!)"
   ]
  },
  {
   "cell_type": "code",
   "execution_count": 32,
   "metadata": {},
   "outputs": [],
   "source": [
    "ipyvolume.embed.layout = myVBox.children[1].layout\n",
    "ipyvolume.embed.layout.min_width = \"400px\""
   ]
  },
  {
   "cell_type": "markdown",
   "metadata": {},
   "source": [
    "Finally we'll \"embed\" our interactive plot within a webpage:"
   ]
  },
  {
   "cell_type": "code",
   "execution_count": 33,
   "metadata": {},
   "outputs": [],
   "source": [
    "# NOTE!!!! offline=False OR True may or may not work... depends\n",
    "#ipyvolume.embed.embed_html(\"myPage.html\", myVBox, offline=False, devmode=False)\n",
    "ipyvolume.embed.embed_html(\"myPage.html\", myVBox, offline=True, devmode=False)"
   ]
  },
  {
   "cell_type": "markdown",
   "metadata": {},
   "source": [
    "This webpage is locally stored, but you can open it up in your default browser with (on a Mac):"
   ]
  },
  {
   "cell_type": "code",
   "execution_count": 34,
   "metadata": {},
   "outputs": [],
   "source": [
    "!open myPage.html"
   ]
  },
  {
   "cell_type": "code",
   "execution_count": null,
   "metadata": {},
   "outputs": [],
   "source": []
  },
  {
   "cell_type": "markdown",
   "metadata": {},
   "source": [
    "### Bonus: animation + widgets\n",
    "\n",
    "This is just the code for how this looks feel free to poke around at it if you are interested!"
   ]
  },
  {
   "cell_type": "markdown",
   "metadata": {},
   "source": [
    "First, a test plot:"
   ]
  },
  {
   "cell_type": "code",
   "execution_count": 35,
   "metadata": {},
   "outputs": [
    {
     "data": {
      "application/vnd.jupyter.widget-view+json": {
       "model_id": "6b2fc7bcbb034acda7a90d2d0a71ff88",
       "version_major": 2,
       "version_minor": 0
      },
      "text/plain": [
       "VBox(children=(VBox(children=(Figure(animation=200.0, camera=PerspectiveCamera(fov=45.0, position=(0.0, 0.0, 2…"
      ]
     },
     "metadata": {},
     "output_type": "display_data"
    }
   ],
   "source": [
    "step = 10 # only do every 10th timestep\n",
    "# also, length of arrays\n",
    "N = r_h.shape[2] # full time\n",
    "# decimate again\n",
    "r = r_h[:,:,0:N:step]\n",
    "\n",
    "\n",
    "ipyvolume.figure()\n",
    "\n",
    "size = ipywidgets.FloatSlider(min=0, max=30, step=0.1, description='Size of Particles')\n",
    "\n",
    "s = ipyvolume.scatter(r[:,0,:].T, r[:,1,:].T, r[:,2,:].T, \n",
    "                      marker='sphere')\n",
    "\n",
    "ipywidgets.jslink((s, 'size'), (size, 'value'))\n",
    "ani = ipyvolume.animation_control(s, interval=200)\n",
    "ipywidgets.VBox([ipyvolume.gcc(), size])"
   ]
  },
  {
   "cell_type": "markdown",
   "metadata": {},
   "source": [
    "Save with animation:"
   ]
  },
  {
   "cell_type": "code",
   "execution_count": 37,
   "metadata": {},
   "outputs": [],
   "source": [
    "ipyvolume.figure()\n",
    "\n",
    "size = ipywidgets.FloatSlider(min=0, max=30, step=0.1, description='Size of Particles')\n",
    "\n",
    "s = ipyvolume.scatter(r[:,0,:].T, r[:,1,:].T, r[:,2,:].T, \n",
    "                      marker='sphere')\n",
    "\n",
    "ipywidgets.jslink((s, 'size'), (size, 'value'))\n",
    "ani = ipyvolume.animation_control(s, interval=200)\n",
    "\n",
    "# export to web\n",
    "myVboxOut = ipywidgets.VBox([ipyvolume.gcc(), size])\n",
    "# if we don't do this, the plot will be really tiny in the standalone html\n",
    "ipyvolume.embed.layout = myVboxOut.children[1].layout\n",
    "ipyvolume.embed.layout.min_width = \"400px\"\n",
    "#ipyvolume.embed.embed_html(\"myPage_withAni.html\", myVboxOut, offline=False, devmode=False)\n",
    "ipyvolume.embed.embed_html(\"myPage_withAni.html\", myVboxOut, offline=True, devmode=False)"
   ]
  },
  {
   "cell_type": "markdown",
   "metadata": {},
   "source": [
    "Check it out:"
   ]
  },
  {
   "cell_type": "code",
   "execution_count": 38,
   "metadata": {},
   "outputs": [],
   "source": [
    "!open myPage_withAni.html"
   ]
  },
  {
   "cell_type": "markdown",
   "metadata": {},
   "source": [
    "**NOTE!!  Online seems to not work now...**\n",
    "\n",
    "Try for export to online as well:"
   ]
  },
  {
   "cell_type": "code",
   "execution_count": 41,
   "metadata": {},
   "outputs": [],
   "source": [
    "ipyvolume.figure()\n",
    "\n",
    "size = ipywidgets.FloatSlider(min=0, max=30, step=0.1, description='Size of Particles')\n",
    "\n",
    "s = ipyvolume.scatter(r[:,0,:].T, r[:,1,:].T, r[:,2,:].T, \n",
    "                      marker='sphere')\n",
    "\n",
    "ipywidgets.jslink((s, 'size'), (size, 'value'))\n",
    "ani = ipyvolume.animation_control(s, interval=200)\n",
    "\n",
    "# export to web\n",
    "myVboxOut = ipywidgets.VBox([ipyvolume.gcc(), size])\n",
    "# if we don't do this, the plot will be really tiny in the standalone html\n",
    "ipyvolume.embed.layout = myVboxOut.children[1].layout\n",
    "ipyvolume.embed.layout.min_width = \"400px\"\n",
    "ipyvolume.embed.embed_html(\"myPage_withAni_online.html\", myVboxOut, offline=False, devmode=True)"
   ]
  },
  {
   "cell_type": "code",
   "execution_count": 42,
   "metadata": {},
   "outputs": [],
   "source": [
    "!open myPage_withAni_online.html"
   ]
  },
  {
   "cell_type": "markdown",
   "metadata": {},
   "source": [
    "Now you have a lovely image that you can upload and put on things like sweaters or whatnot."
   ]
  },
  {
   "cell_type": "code",
   "execution_count": 38,
   "metadata": {},
   "outputs": [],
   "source": [
    "# try with other files\n",
    "gfile = '/Users/jnaiman/Downloads/galaxyFiles/outarrsnap_001_fac1n2.txt'\n",
    "t_h, r_h, v_h, e_h, N, part_type = \\\n",
    "     read_in_galaxy_data(gfile)\n",
    "\n",
    "# downgrade time sampling\n",
    "step = 100"
   ]
  },
  {
   "cell_type": "code",
   "execution_count": null,
   "metadata": {},
   "outputs": [],
   "source": []
  }
 ],
 "metadata": {
  "kernelspec": {
   "display_name": "Python 3 (ipykernel)",
   "language": "python",
   "name": "python3"
  },
  "language_info": {
   "codemirror_mode": {
    "name": "ipython",
    "version": 3
   },
   "file_extension": ".py",
   "mimetype": "text/x-python",
   "name": "python",
   "nbconvert_exporter": "python",
   "pygments_lexer": "ipython3",
   "version": "3.7.12"
  }
 },
 "nbformat": 4,
 "nbformat_minor": 2
}
