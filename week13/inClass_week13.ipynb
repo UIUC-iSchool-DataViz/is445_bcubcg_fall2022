{
 "cells": [
  {
   "cell_type": "markdown",
   "id": "innovative-airplane",
   "metadata": {},
   "source": [
    "# In Class Notebook, Week 13"
   ]
  },
  {
   "cell_type": "markdown",
   "id": "27102a29",
   "metadata": {},
   "source": [
    "You can always access the notebook URL: https://github.com/UIUC-iSchool-DataViz/is445_bcubcg_fall2022/blob/master/week13/inClass_week13.ipynb \n",
    "\n",
    "Or into the nbviewer interface for a plain-text rendering:\n",
    "\n",
    "https://kokes.github.io/nbviewer.js/viewer.html"
   ]
  },
  {
   "cell_type": "markdown",
   "id": "2f57569e",
   "metadata": {},
   "source": [
    "## 1. Remaking the Mobility Dashboard with local data"
   ]
  },
  {
   "cell_type": "code",
   "execution_count": 1,
   "id": "72184425",
   "metadata": {},
   "outputs": [],
   "source": [
    "myJekyllSaveDir = '/Users/jnaiman/jnaiman.github.io/assets/json/'"
   ]
  },
  {
   "cell_type": "code",
   "execution_count": 2,
   "id": "bdde7773",
   "metadata": {},
   "outputs": [],
   "source": [
    "import pandas as pd\n",
    "import numpy as np\n",
    "import altair as alt\n",
    "import matplotlib.pyplot as plt"
   ]
  },
  {
   "cell_type": "code",
   "execution_count": 3,
   "id": "2f11c108",
   "metadata": {},
   "outputs": [],
   "source": [
    "mobility_url = 'https://raw.githubusercontent.com/UIUC-iSchool-DataViz/is445_bcubcg_fall2022/main/data/mobility.csv'"
   ]
  },
  {
   "cell_type": "code",
   "execution_count": null,
   "id": "f94dfc85",
   "metadata": {},
   "outputs": [],
   "source": [
    "brush = alt.selection_interval(encodings=['x','y'])\n",
    "\n",
    "rect_alt = alt.Chart(mobility_url).mark_rect().encode(\n",
    "    alt.X(\"Student_teacher_ration:Q\", bin=alt.Bin(maxbins=10)),\n",
    "    alt.Y(\"State:O\"),\n",
    "    alt.Color(\"count()\")\n",
    ")"
   ]
  }
 ],
 "metadata": {
  "kernelspec": {
   "display_name": "Python 3 (ipykernel)",
   "language": "python",
   "name": "python3"
  },
  "language_info": {
   "codemirror_mode": {
    "name": "ipython",
    "version": 3
   },
   "file_extension": ".py",
   "mimetype": "text/x-python",
   "name": "python",
   "nbconvert_exporter": "python",
   "pygments_lexer": "ipython3",
   "version": "3.7.12"
  }
 },
 "nbformat": 4,
 "nbformat_minor": 5
}
