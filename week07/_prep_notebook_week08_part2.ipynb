{
 "cells": [
  {
   "cell_type": "code",
   "execution_count": 3,
   "metadata": {},
   "outputs": [],
   "source": [
    "# import our usual things\n",
    "#%matplotlib inline\n",
    "import pandas as pd\n",
    "import matplotlib.pyplot as plt\n",
    "import geopandas \n",
    "import ipyleaflet\n",
    "import numpy as np\n",
    "import bqplot"
   ]
  },
  {
   "cell_type": "markdown",
   "metadata": {},
   "source": [
    "# Plotting earthquake sensor data on the US map with cartopy\n",
    "* we'll be plotting the activity of earthquake sensors across the US in response to the 2011 earthquake in Japan\n",
    "* more info can be found here: https://ds.iris.edu/ds/nodes/dmc/specialevents/2011/03/11/tohoku-japan-earthquake/\n",
    "* a few cool movies based on this data & others collected & simulated about this event can be found here: http://www.seismicsoundlab.org/?page_id=338\n",
    "\n",
    "Show this movie: https://vimeo.com/187740441 (we'll talk more about what we do and don't like about this later)"
   ]
  },
  {
   "cell_type": "code",
   "execution_count": 6,
   "metadata": {},
   "outputs": [],
   "source": [
    "# using pandas to access the data per usual\n",
    "import pandas as pd"
   ]
  },
  {
   "cell_type": "code",
   "execution_count": 8,
   "metadata": {},
   "outputs": [],
   "source": [
    "locations = pd.read_csv(\"/Users/jnaiman/Downloads/location.txt\", delimiter=\"\\t\",\n",
    "            header = None, names = [\"longitude\", \"latitude\", \"empty1\", \"empty2\"])"
   ]
  },
  {
   "cell_type": "code",
   "execution_count": 9,
   "metadata": {},
   "outputs": [
    {
     "data": {
      "text/html": [
       "<div>\n",
       "<style scoped>\n",
       "    .dataframe tbody tr th:only-of-type {\n",
       "        vertical-align: middle;\n",
       "    }\n",
       "\n",
       "    .dataframe tbody tr th {\n",
       "        vertical-align: top;\n",
       "    }\n",
       "\n",
       "    .dataframe thead th {\n",
       "        text-align: right;\n",
       "    }\n",
       "</style>\n",
       "<table border=\"1\" class=\"dataframe\">\n",
       "  <thead>\n",
       "    <tr style=\"text-align: right;\">\n",
       "      <th></th>\n",
       "      <th>longitude</th>\n",
       "      <th>latitude</th>\n",
       "      <th>empty1</th>\n",
       "      <th>empty2</th>\n",
       "    </tr>\n",
       "  </thead>\n",
       "  <tbody>\n",
       "    <tr>\n",
       "      <th>0</th>\n",
       "      <td>-98.683</td>\n",
       "      <td>27.065</td>\n",
       "      <td>1</td>\n",
       "      <td>#</td>\n",
       "    </tr>\n",
       "    <tr>\n",
       "      <th>1</th>\n",
       "      <td>-98.102</td>\n",
       "      <td>26.938</td>\n",
       "      <td>1</td>\n",
       "      <td>#</td>\n",
       "    </tr>\n",
       "    <tr>\n",
       "      <th>2</th>\n",
       "      <td>-98.068</td>\n",
       "      <td>26.463</td>\n",
       "      <td>1</td>\n",
       "      <td>#</td>\n",
       "    </tr>\n",
       "    <tr>\n",
       "      <th>3</th>\n",
       "      <td>-117.110</td>\n",
       "      <td>32.889</td>\n",
       "      <td>1</td>\n",
       "      <td>#</td>\n",
       "    </tr>\n",
       "    <tr>\n",
       "      <th>4</th>\n",
       "      <td>-107.790</td>\n",
       "      <td>32.532</td>\n",
       "      <td>1</td>\n",
       "      <td>#</td>\n",
       "    </tr>\n",
       "    <tr>\n",
       "      <th>...</th>\n",
       "      <td>...</td>\n",
       "      <td>...</td>\n",
       "      <td>...</td>\n",
       "      <td>...</td>\n",
       "    </tr>\n",
       "    <tr>\n",
       "      <th>433</th>\n",
       "      <td>-95.623</td>\n",
       "      <td>33.198</td>\n",
       "      <td>1</td>\n",
       "      <td>#</td>\n",
       "    </tr>\n",
       "    <tr>\n",
       "      <th>434</th>\n",
       "      <td>-94.985</td>\n",
       "      <td>33.260</td>\n",
       "      <td>1</td>\n",
       "      <td>#</td>\n",
       "    </tr>\n",
       "    <tr>\n",
       "      <th>435</th>\n",
       "      <td>-94.182</td>\n",
       "      <td>33.242</td>\n",
       "      <td>1</td>\n",
       "      <td>#</td>\n",
       "    </tr>\n",
       "    <tr>\n",
       "      <th>436</th>\n",
       "      <td>-93.400</td>\n",
       "      <td>33.258</td>\n",
       "      <td>1</td>\n",
       "      <td>#</td>\n",
       "    </tr>\n",
       "    <tr>\n",
       "      <th>437</th>\n",
       "      <td>-92.803</td>\n",
       "      <td>33.258</td>\n",
       "      <td>1</td>\n",
       "      <td>#</td>\n",
       "    </tr>\n",
       "  </tbody>\n",
       "</table>\n",
       "<p>438 rows × 4 columns</p>\n",
       "</div>"
      ],
      "text/plain": [
       "     longitude  latitude  empty1 empty2\n",
       "0      -98.683    27.065       1      #\n",
       "1      -98.102    26.938       1      #\n",
       "2      -98.068    26.463       1      #\n",
       "3     -117.110    32.889       1      #\n",
       "4     -107.790    32.532       1      #\n",
       "..         ...       ...     ...    ...\n",
       "433    -95.623    33.198       1      #\n",
       "434    -94.985    33.260       1      #\n",
       "435    -94.182    33.242       1      #\n",
       "436    -93.400    33.258       1      #\n",
       "437    -92.803    33.258       1      #\n",
       "\n",
       "[438 rows x 4 columns]"
      ]
     },
     "execution_count": 9,
     "metadata": {},
     "output_type": "execute_result"
    }
   ],
   "source": [
    "locations"
   ]
  },
  {
   "cell_type": "markdown",
   "metadata": {},
   "source": [
    "Now we'll do some data cleaning:"
   ]
  },
  {
   "cell_type": "code",
   "execution_count": 10,
   "metadata": {},
   "outputs": [],
   "source": [
    "del locations[\"empty1\"], locations[\"empty2\"]"
   ]
  },
  {
   "cell_type": "code",
   "execution_count": 11,
   "metadata": {},
   "outputs": [
    {
     "data": {
      "text/html": [
       "<div>\n",
       "<style scoped>\n",
       "    .dataframe tbody tr th:only-of-type {\n",
       "        vertical-align: middle;\n",
       "    }\n",
       "\n",
       "    .dataframe tbody tr th {\n",
       "        vertical-align: top;\n",
       "    }\n",
       "\n",
       "    .dataframe thead th {\n",
       "        text-align: right;\n",
       "    }\n",
       "</style>\n",
       "<table border=\"1\" class=\"dataframe\">\n",
       "  <thead>\n",
       "    <tr style=\"text-align: right;\">\n",
       "      <th></th>\n",
       "      <th>longitude</th>\n",
       "      <th>latitude</th>\n",
       "    </tr>\n",
       "  </thead>\n",
       "  <tbody>\n",
       "    <tr>\n",
       "      <th>0</th>\n",
       "      <td>-98.683</td>\n",
       "      <td>27.065</td>\n",
       "    </tr>\n",
       "    <tr>\n",
       "      <th>1</th>\n",
       "      <td>-98.102</td>\n",
       "      <td>26.938</td>\n",
       "    </tr>\n",
       "    <tr>\n",
       "      <th>2</th>\n",
       "      <td>-98.068</td>\n",
       "      <td>26.463</td>\n",
       "    </tr>\n",
       "    <tr>\n",
       "      <th>3</th>\n",
       "      <td>-117.110</td>\n",
       "      <td>32.889</td>\n",
       "    </tr>\n",
       "    <tr>\n",
       "      <th>4</th>\n",
       "      <td>-107.790</td>\n",
       "      <td>32.532</td>\n",
       "    </tr>\n",
       "    <tr>\n",
       "      <th>...</th>\n",
       "      <td>...</td>\n",
       "      <td>...</td>\n",
       "    </tr>\n",
       "    <tr>\n",
       "      <th>433</th>\n",
       "      <td>-95.623</td>\n",
       "      <td>33.198</td>\n",
       "    </tr>\n",
       "    <tr>\n",
       "      <th>434</th>\n",
       "      <td>-94.985</td>\n",
       "      <td>33.260</td>\n",
       "    </tr>\n",
       "    <tr>\n",
       "      <th>435</th>\n",
       "      <td>-94.182</td>\n",
       "      <td>33.242</td>\n",
       "    </tr>\n",
       "    <tr>\n",
       "      <th>436</th>\n",
       "      <td>-93.400</td>\n",
       "      <td>33.258</td>\n",
       "    </tr>\n",
       "    <tr>\n",
       "      <th>437</th>\n",
       "      <td>-92.803</td>\n",
       "      <td>33.258</td>\n",
       "    </tr>\n",
       "  </tbody>\n",
       "</table>\n",
       "<p>438 rows × 2 columns</p>\n",
       "</div>"
      ],
      "text/plain": [
       "     longitude  latitude\n",
       "0      -98.683    27.065\n",
       "1      -98.102    26.938\n",
       "2      -98.068    26.463\n",
       "3     -117.110    32.889\n",
       "4     -107.790    32.532\n",
       "..         ...       ...\n",
       "433    -95.623    33.198\n",
       "434    -94.985    33.260\n",
       "435    -94.182    33.242\n",
       "436    -93.400    33.258\n",
       "437    -92.803    33.258\n",
       "\n",
       "[438 rows x 2 columns]"
      ]
     },
     "execution_count": 11,
     "metadata": {},
     "output_type": "execute_result"
    }
   ],
   "source": [
    "# we can check out how these look - lat-long pairs\n",
    "locations"
   ]
  },
  {
   "cell_type": "markdown",
   "metadata": {},
   "source": [
    "Ok, lets start thinking about how to link this data to the actual readings of each detector.  First, lets read in the detector data:"
   ]
  },
  {
   "cell_type": "code",
   "execution_count": null,
   "metadata": {},
   "outputs": [],
   "source": [
    "seismic = pd.read_csv(\"/Users/jnaiman/Downloads/data_tohoku_norm_transpose.csv\",\n",
    "           header = None)"
   ]
  },
  {
   "cell_type": "code",
   "execution_count": 21,
   "metadata": {},
   "outputs": [
    {
     "data": {
      "text/plain": [
       "((14401, 438), (438, 2))"
      ]
     },
     "execution_count": 21,
     "metadata": {},
     "output_type": "execute_result"
    }
   ],
   "source": [
    "# what is the shape of this data vs the location data?\n",
    "seismic.shape, locations.shape"
   ]
  },
  {
   "cell_type": "markdown",
   "metadata": {},
   "source": [
    "So, this is telling us\n",
    " 1. that there are 438 stations in total\n",
    " 1. what about 14401?  this is the length of time in seconds that each detector recorded"
   ]
  },
  {
   "cell_type": "code",
   "execution_count": 22,
   "metadata": {},
   "outputs": [
    {
     "data": {
      "text/plain": [
       "4.000277777777778"
      ]
     },
     "execution_count": 22,
     "metadata": {},
     "output_type": "execute_result"
    }
   ],
   "source": [
    "14401/(60*60)\n",
    "# so about 4 hours worth of data in \n",
    "#  second increments"
   ]
  },
  {
   "cell_type": "markdown",
   "metadata": {},
   "source": [
    "Lets check out this seismic data with a widget"
   ]
  },
  {
   "cell_type": "code",
   "execution_count": 26,
   "metadata": {},
   "outputs": [
    {
     "data": {
      "application/vnd.jupyter.widget-view+json": {
       "model_id": "e667d533f5324c3580ffc63dbb198901",
       "version_major": 2,
       "version_minor": 0
      },
      "text/plain": [
       "interactive(children=(IntSlider(value=0, description='station', max=437), Output()), _dom_classes=('widget-int…"
      ]
     },
     "metadata": {},
     "output_type": "display_data"
    }
   ],
   "source": [
    "import ipywidgets\n",
    "@ipywidgets.interact(station = (0, 437))\n",
    "def plot(station = 0):\n",
    "    plt.plot(seismic[station])\n",
    "    plt.xlabel(\"Time in sec\")\n",
    "    # note: this is normalized to peak amplitude for this event\n",
    "    #  so, in essence, unitless\n",
    "    plt.ylabel(\"Normalized Displacement\") \n",
    "    plt.ylim(-1, 1)\n",
    "    plt.show()\n",
    "    \n",
    "# the above allows us to see how each detector reacted to\n",
    "#  this earthquake"
   ]
  },
  {
   "cell_type": "code",
   "execution_count": 27,
   "metadata": {},
   "outputs": [
    {
     "data": {
      "text/plain": [
       "((14401, 438), (438, 2))"
      ]
     },
     "execution_count": 27,
     "metadata": {},
     "output_type": "execute_result"
    }
   ],
   "source": [
    "# one thing you might notice depending on your computer's age\n",
    "# is that this can get a little laggy\n",
    "#  ultimately, we want to use the full dataset\n",
    "#  but for the purposes of doing things now, or debugging at home\n",
    "#  lets use a downsampled dataset\n",
    "\n",
    "# recall our origional sizes\n",
    "seismic.shape, locations.shape"
   ]
  },
  {
   "cell_type": "code",
   "execution_count": 28,
   "metadata": {},
   "outputs": [],
   "source": [
    "# we have 3 options: we can decrese the number of stations, \n",
    "#  or the number of time samples, or both\n",
    "# for illustration purposes, lets do both\n",
    "\n",
    "nstations = 300 # downsample to 300\n",
    "ntimes = 1440 # factor of 10\n",
    "\n",
    "import numpy as np\n",
    "stationsIndex = np.random.choice(range(locations.shape[0]-1), \n",
    "                                  nstations, replace=False)\n",
    "timesIndex = np.random.choice(range(seismic.shape[0]-1), \n",
    "                                  ntimes, replace=False)\n",
    "\n",
    "# sort each\n",
    "stationsIndex.sort()\n",
    "timesIndex.sort()"
   ]
  },
  {
   "cell_type": "code",
   "execution_count": 29,
   "metadata": {},
   "outputs": [
    {
     "data": {
      "text/plain": [
       "((1440, 300), (300, 2))"
      ]
     },
     "execution_count": 29,
     "metadata": {},
     "output_type": "execute_result"
    }
   ],
   "source": [
    "locations2 = locations.loc[stationsIndex]\n",
    "seismic2 = seismic.loc[timesIndex,stationsIndex]\n",
    "seismic2.shape, locations2.shape\n",
    "# sweet"
   ]
  },
  {
   "cell_type": "code",
   "execution_count": 30,
   "metadata": {},
   "outputs": [
    {
     "data": {
      "text/plain": [
       "<cartopy.mpl.feature_artist.FeatureArtist at 0x7fdf80a09e50>"
      ]
     },
     "execution_count": 30,
     "metadata": {},
     "output_type": "execute_result"
    },
    {
     "data": {
      "image/png": "[encoded data removed]",
      "text/plain": [
       "<Figure size 720x720 with 1 Axes>"
      ]
     },
     "metadata": {
      "needs_background": "light"
     },
     "output_type": "display_data"
    }
   ],
   "source": [
    "# lets real quick redo our plots and take a look\n",
    "fig = plt.figure(figsize=(10, 10))\n",
    "ax = fig.add_subplot(111, \n",
    "                     projection = cartopy.crs.LambertCylindrical())\n",
    "ax.scatter(locations2[\"longitude\"], locations2[\"latitude\"], \n",
    "           transform = cartopy.crs.PlateCarree())\n",
    "ax.coastlines()"
   ]
  },
  {
   "cell_type": "code",
   "execution_count": 31,
   "metadata": {},
   "outputs": [
    {
     "data": {
      "application/vnd.jupyter.widget-view+json": {
       "model_id": "d212409377f54b6c8c86eff47d467176",
       "version_major": 2,
       "version_minor": 0
      },
      "text/plain": [
       "interactive(children=(IntSlider(value=0, description='station', max=299), Output()), _dom_classes=('widget-int…"
      ]
     },
     "metadata": {},
     "output_type": "display_data"
    }
   ],
   "source": [
    "# and redo our widget\n",
    "import ipywidgets\n",
    "@ipywidgets.interact(station = (0,nstations-1))\n",
    "def plot(station = 0):\n",
    "    plt.plot(seismic2.iloc[:,station])\n",
    "    plt.xlabel(\"Time in sec\")\n",
    "    # note: this is normalized to peak amplitude for this event\n",
    "    #  so, in essence, unitless\n",
    "    plt.ylabel(\"Normalized Displacement\") \n",
    "    plt.ylim(-1, 1)\n",
    "    plt.show()"
   ]
  },
  {
   "cell_type": "code",
   "execution_count": 32,
   "metadata": {},
   "outputs": [
    {
     "data": {
      "application/vnd.jupyter.widget-view+json": {
       "model_id": "84b57b2e7dae42e38716aecfa2eda0ee",
       "version_major": 2,
       "version_minor": 0
      },
      "text/plain": [
       "VBox(children=(IntSlider(value=0, max=299), Figure(axes=[Axis(scale=LinearScale()), Axis(orientation='vertical…"
      ]
     },
     "metadata": {},
     "output_type": "display_data"
    }
   ],
   "source": [
    "# note, we can also do the above plot with bqplot as well:\n",
    "import bqplot\n",
    "\n",
    "# scales\n",
    "x_sc = bqplot.LinearScale()\n",
    "y_sc = bqplot.LinearScale()\n",
    "\n",
    "# marks\n",
    "lines = bqplot.Lines(x = seismic2.index.values, \n",
    "                     y = seismic2.iloc[:,0],\n",
    "                    scales = {'x': x_sc, 'y': y_sc})\n",
    "\n",
    "# axes\n",
    "x_ax = bqplot.Axis(scale = x_sc)\n",
    "y_ax = bqplot.Axis(scale = y_sc, orientation = 'vertical')\n",
    "\n",
    "# combine into figure\n",
    "fig = bqplot.Figure(marks = [lines], axes = [x_ax, y_ax])\n",
    "\n",
    "# create our slider using ipywidgets\n",
    "slider = ipywidgets.IntSlider(min=0, max=nstations-1)\n",
    "y_sc.min = -1.0\n",
    "y_sc.max = 1.0\n",
    "\n",
    "# create a linking function for slider & plot\n",
    "def update_slider(event):\n",
    "    lines.y = seismic2.iloc[:,event['new']]\n",
    "\n",
    "slider.observe(update_slider, 'value')\n",
    "\n",
    "display(ipywidgets.VBox([slider, fig]))\n",
    "\n",
    "# note that this is much more responsive now\n",
    "#  than we we did this ourselves\n",
    "# bqplots ftw"
   ]
  },
  {
   "cell_type": "code",
   "execution_count": 33,
   "metadata": {},
   "outputs": [
    {
     "data": {
      "application/vnd.jupyter.widget-view+json": {
       "model_id": "d85d5b3508e44f9dacd049f19682d470",
       "version_major": 2,
       "version_minor": 0
      },
      "text/plain": [
       "interactive(children=(IntSlider(value=0, description='station', max=300), IntSlider(value=0, description='t', …"
      ]
     },
     "metadata": {},
     "output_type": "display_data"
    }
   ],
   "source": [
    "# ok, so we are now super into linking THING A with THING B\n",
    "#  so lets link our sesmic data with its location on the map\n",
    "#  we can do this with cartopy & matplotlib\n",
    "\n",
    "@ipywidgets.interact(station = (0, nstations, 1), \n",
    "                     t = (0, ntimes, 1))\n",
    "def plot(station = 0, t = 0):\n",
    "    fig = plt.figure(figsize=(10, 10))\n",
    "    ax = fig.add_subplot(211, \n",
    "                         projection = cartopy.crs.LambertCylindrical())\n",
    "    colors = seismic2.iloc[t]\n",
    "    ax.scatter(locations2[\"longitude\"], \n",
    "               locations2[\"latitude\"], \n",
    "               transform = cartopy.crs.PlateCarree(),\n",
    "               c = colors)\n",
    "    ax.coastlines()\n",
    "\n",
    "    ax = fig.add_subplot(212)\n",
    "    ax.plot(seismic2.index.values, seismic2.iloc[:,station])\n",
    "    ax.set_ylim(-1, 1)\n",
    "    plt.show()"
   ]
  },
  {
   "cell_type": "markdown",
   "metadata": {},
   "source": [
    "# Activity #3: Info viz maps with bqplot"
   ]
  },
  {
   "cell_type": "code",
   "execution_count": 34,
   "metadata": {},
   "outputs": [
    {
     "data": {
      "application/vnd.jupyter.widget-view+json": {
       "model_id": "3b3cefe74a4342de876afd3be1049b10",
       "version_major": 2,
       "version_minor": 0
      },
      "text/plain": [
       "Figure(fig_margin={'top': 60, 'bottom': 60, 'left': 60, 'right': 60}, marks=[Map(hovered_styles={'hovered_fill…"
      ]
     },
     "metadata": {},
     "output_type": "display_data"
    }
   ],
   "source": [
    "# with bqplot\n",
    "\n",
    "map_mark = bqplot.Map(scales={'projection': bqplot.AlbersUSA()})\n",
    "fig = bqplot.Figure(marks=[map_mark], title='Basic Map Example')\n",
    "fig"
   ]
  },
  {
   "cell_type": "code",
   "execution_count": 35,
   "metadata": {},
   "outputs": [
    {
     "data": {
      "application/vnd.jupyter.widget-view+json": {
       "model_id": "70b98cb0c47347dc89398ef8e25d15cf",
       "version_major": 2,
       "version_minor": 0
      },
      "text/plain": [
       "Figure(fig_margin={'top': 0, 'bottom': 0, 'left': 0, 'right': 0}, marks=[Map(hovered_styles={'hovered_fill': '…"
      ]
     },
     "metadata": {},
     "output_type": "display_data"
    }
   ],
   "source": [
    "# can make a statemap instead\n",
    "#(1)\n",
    "sc_geo = bqplot.AlbersUSA()\n",
    "state_data = bqplot.topo_load('map_data/USStatesMap.json')\n",
    "\n",
    "# (2) \n",
    "def_tt = bqplot.Tooltip(fields=['id', 'name'])\n",
    "\n",
    "states_map = bqplot.Map(map_data=state_data, \n",
    "                        scales={'projection':sc_geo}, \n",
    "                        tooltip=def_tt)\n",
    "\n",
    "# (2) grab interactions\n",
    "states_map.interactions = {'click': 'select', 'hover': 'tooltip'}\n",
    "\n",
    "# (3) grab data directly from map\n",
    "# we could also grab from the state_data itself\n",
    "from states_utils import get_ids_and_names\n",
    "ids, state_names = get_ids_and_names(states_map)\n",
    "\n",
    "\n",
    "# lets make into arrays for ease\n",
    "#state_names =np.array(state_names)\n",
    "#ids = np.array(ids)\n",
    "state_names, ids\n",
    "# into arrays\n",
    "\n",
    "\n",
    "# (4) data\n",
    "def get_data_value(change):\n",
    "    if change['owner'].selected is not None:\n",
    "        for i,s in enumerate(change['owner'].selected):\n",
    "            print(state_names[s == ids])\n",
    "        \n",
    "states_map.observe(get_data_value,'selected')\n",
    "\n",
    "# (1)\n",
    "fig=bqplot.Figure(marks=[states_map], \n",
    "                  title='US States Map Example',\n",
    "                  fig_margin={'top': 0, 'bottom': 0, 'left': 0, 'right': 0}) # try w/o first and see\n",
    "fig"
   ]
  },
  {
   "cell_type": "markdown",
   "metadata": {},
   "source": [
    "## Adding in some data to link to our usa map"
   ]
  },
  {
   "cell_type": "code",
   "execution_count": 36,
   "metadata": {},
   "outputs": [],
   "source": [
    "# lets add in some exprot data\n",
    "comm = pd.read_csv('/Users/jnaiman/Downloads/total_export.csv')"
   ]
  },
  {
   "cell_type": "code",
   "execution_count": 37,
   "metadata": {},
   "outputs": [
    {
     "data": {
      "text/plain": [
       "array([['Alabama', '574.6', '673.2', '530.0', '719.5', '724.4', '771.5',\n",
       "        '695.6', '839.7', '1,050.4', '1,040.7', '1,131.7', '1,405.0',\n",
       "        '1,469.6', '1,587.3', '1,510.1', '1,199.1', '1,207.6', '1,271.9']],\n",
       "      dtype=object)"
      ]
     },
     "execution_count": 37,
     "metadata": {},
     "output_type": "execute_result"
    }
   ],
   "source": [
    "comm.loc[comm['State'] == 'Alabama'].values\n",
    "# we note that these are formatted as strings - this means we'll have to \n",
    "#  do some formatting when we plot data\n",
    "\n",
    "# also, note that the state name is the first column and not a number\n",
    "# we'll also have to take care of this too"
   ]
  },
  {
   "cell_type": "code",
   "execution_count": 38,
   "metadata": {},
   "outputs": [
    {
     "data": {
      "text/plain": [
       "array([2000, 2001, 2002, 2003, 2004, 2005, 2006, 2007, 2008, 2009, 2010,\n",
       "       2011, 2012, 2013, 2014, 2015, 2016, 2017])"
      ]
     },
     "execution_count": 38,
     "metadata": {},
     "output_type": "execute_result"
    }
   ],
   "source": [
    "# grab years\n",
    "years = list(comm.columns.values)\n",
    "years = np.array(years[1:]) # get rid of state\n",
    "# as numbers\n",
    "years = years.astype('int')\n",
    "years"
   ]
  },
  {
   "cell_type": "code",
   "execution_count": 39,
   "metadata": {},
   "outputs": [
    {
     "data": {
      "application/vnd.jupyter.widget-view+json": {
       "model_id": "f7fbf15cddfa484dabee8d0b764d312a",
       "version_major": 2,
       "version_minor": 0
      },
      "text/plain": [
       "HBox(children=(Figure(fig_margin={'top': 0, 'bottom': 0, 'left': 0, 'right': 0}, marks=[Map(hovered_styles={'h…"
      ]
     },
     "metadata": {},
     "output_type": "display_data"
    }
   ],
   "source": [
    "sc_geo = bqplot.AlbersUSA()\n",
    "state_data = bqplot.topo_load('map_data/USStatesMap.json')\n",
    "\n",
    "def_tt = bqplot.Tooltip(fields=['id', 'name'])\n",
    "\n",
    "states_map = bqplot.Map(map_data=state_data, scales={'projection':sc_geo}, tooltip=def_tt)\n",
    "states_map.interactions = {'click': 'select', 'hover': 'tooltip'}\n",
    "\n",
    "fig=bqplot.Figure(marks=[states_map], title='US States Map Example',\n",
    "                  fig_margin={'top': 0, 'bottom': 0, 'left': 0, 'right': 0})\n",
    "\n",
    "\n",
    "# lets also make a line plot\n",
    "# second, the lineplot\n",
    "x_scl = bqplot.LinearScale() \n",
    "y_scl = bqplot.LinearScale()\n",
    "ax_xcl = bqplot.Axis(label='Year', scale=x_scl)\n",
    "ax_ycl = bqplot.Axis(label='Total Export from State NA', \n",
    "                     scale=y_scl, \n",
    "                    orientation='vertical', side='left')\n",
    "lines = bqplot.Lines(x = years, y = np.zeros(len(years)),\n",
    "                    scales = {'x': x_scl, 'y': y_scl})\n",
    "#print(lines)\n",
    "fig_lines = bqplot.Figure(marks = [lines], \n",
    "                          axes = [ax_ycl, ax_xcl],)\n",
    "\n",
    "# let do something additive for all states selected\n",
    "def get_data_value(change):\n",
    "    exports = np.zeros(len(years))\n",
    "    snames = ''\n",
    "    if change['owner'].selected is not None:\n",
    "        for i,s in enumerate(change['owner'].selected):\n",
    "            sn = state_names[s == ids][0]\n",
    "            snames += sn + ', '\n",
    "            # because of formatting, things are in arrays hence [0]\n",
    "            #  also, take out state name hence [1:]\n",
    "            exports_in=comm.loc[comm['State'] == sn].values[0][1:]\n",
    "            # there are \",\"'s in exports we gotta take out\n",
    "            exports_in = np.array([exports_in[i].replace(',','') for i in range(len(exports_in))])\n",
    "            exports = np.add(exports, exports_in.astype('float64'))\n",
    "        lines.y = exports\n",
    "        ax_ycl.label='Total Export from ' + snames\n",
    "    else:\n",
    "        lines.y = np.zeros(len(exports))\n",
    "        ax_ycl.label='Total Export from NA'\n",
    "\n",
    "states_map.observe(get_data_value,'selected')\n",
    "\n",
    "# some formatting for vertical\n",
    "#fig_lines.layout.max_height='250px'\n",
    "#fig_lines.layout.min_width='800px'\n",
    "#fig.layout.min_width='800px'\n",
    "#ipywidgets.VBox([fig_lines,fig])\n",
    "ipywidgets.HBox([fig,fig_lines])"
   ]
  },
  {
   "cell_type": "markdown",
   "metadata": {},
   "source": [
    "# Activity:\n",
    "\n",
    "Using the tools and resources we talked about today - create a map with at least 2 layers\n",
    "\n",
    "Bonus: make it interactive and part of a dashboard!\n",
    "\n",
    "FYI: this will be part of the extra credit over the break!"
   ]
  },
  {
   "cell_type": "code",
   "execution_count": null,
   "metadata": {},
   "outputs": [],
   "source": []
  }
 ],
 "metadata": {
  "kernelspec": {
   "display_name": "Python 3 (ipykernel)",
   "language": "python",
   "name": "python3"
  },
  "language_info": {
   "codemirror_mode": {
    "name": "ipython",
    "version": 3
   },
   "file_extension": ".py",
   "mimetype": "text/x-python",
   "name": "python",
   "nbconvert_exporter": "python",
   "pygments_lexer": "ipython3",
   "version": "3.7.12"
  }
 },
 "nbformat": 4,
 "nbformat_minor": 2
}
