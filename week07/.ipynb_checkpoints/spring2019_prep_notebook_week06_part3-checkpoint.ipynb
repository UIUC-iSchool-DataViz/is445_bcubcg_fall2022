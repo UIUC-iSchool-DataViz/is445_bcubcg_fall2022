{
 "cells": [
  {
   "cell_type": "markdown",
   "metadata": {},
   "source": [
    "# from before:"
   ]
  },
  {
   "cell_type": "code",
   "execution_count": 1,
   "metadata": {},
   "outputs": [],
   "source": [
    "import pandas as pd\n",
    "import numpy as np\n",
    "import bqplot\n",
    "# our usual stuff\n",
    "%matplotlib inline\n",
    "# lets add in some exprot data\n",
    "comm = pd.read_csv('/Users/jillnaiman/Downloads/total_export.csv')"
   ]
  },
  {
   "cell_type": "code",
   "execution_count": 2,
   "metadata": {},
   "outputs": [
    {
     "data": {
      "text/plain": [
       "array([2000, 2001, 2002, 2003, 2004, 2005, 2006, 2007, 2008, 2009, 2010,\n",
       "       2011, 2012, 2013, 2014, 2015, 2016, 2017])"
      ]
     },
     "execution_count": 2,
     "metadata": {},
     "output_type": "execute_result"
    }
   ],
   "source": [
    "# grab years\n",
    "years = list(comm.columns.values)\n",
    "years = np.array(years[1:]) # get rid of state\n",
    "# as numbers\n",
    "years = years.astype('int')\n",
    "years"
   ]
  },
  {
   "cell_type": "code",
   "execution_count": 3,
   "metadata": {},
   "outputs": [
    {
     "ename": "NameError",
     "evalue": "name 'bqplot' is not defined",
     "output_type": "error",
     "traceback": [
      "\u001b[0;31m---------------------------------------------------------------------------\u001b[0m",
      "\u001b[0;31mNameError\u001b[0m                                 Traceback (most recent call last)",
      "\u001b[0;32m<ipython-input-3-f95ebfed728b>\u001b[0m in \u001b[0;36m<module>\u001b[0;34m\u001b[0m\n\u001b[0;32m----> 1\u001b[0;31m \u001b[0msc_geo\u001b[0m \u001b[0;34m=\u001b[0m \u001b[0mbqplot\u001b[0m\u001b[0;34m.\u001b[0m\u001b[0mAlbersUSA\u001b[0m\u001b[0;34m(\u001b[0m\u001b[0;34m)\u001b[0m\u001b[0;34m\u001b[0m\u001b[0;34m\u001b[0m\u001b[0m\n\u001b[0m\u001b[1;32m      2\u001b[0m \u001b[0mstate_data\u001b[0m \u001b[0;34m=\u001b[0m \u001b[0mbqplot\u001b[0m\u001b[0;34m.\u001b[0m\u001b[0mtopo_load\u001b[0m\u001b[0;34m(\u001b[0m\u001b[0;34m'map_data/USStatesMap.json'\u001b[0m\u001b[0;34m)\u001b[0m\u001b[0;34m\u001b[0m\u001b[0;34m\u001b[0m\u001b[0m\n\u001b[1;32m      3\u001b[0m \u001b[0;34m\u001b[0m\u001b[0m\n\u001b[1;32m      4\u001b[0m \u001b[0mdef_tt\u001b[0m \u001b[0;34m=\u001b[0m \u001b[0mbqplot\u001b[0m\u001b[0;34m.\u001b[0m\u001b[0mTooltip\u001b[0m\u001b[0;34m(\u001b[0m\u001b[0mfields\u001b[0m\u001b[0;34m=\u001b[0m\u001b[0;34m[\u001b[0m\u001b[0;34m'id'\u001b[0m\u001b[0;34m,\u001b[0m \u001b[0;34m'name'\u001b[0m\u001b[0;34m]\u001b[0m\u001b[0;34m)\u001b[0m\u001b[0;34m\u001b[0m\u001b[0;34m\u001b[0m\u001b[0m\n\u001b[1;32m      5\u001b[0m \u001b[0;34m\u001b[0m\u001b[0m\n",
      "\u001b[0;31mNameError\u001b[0m: name 'bqplot' is not defined"
     ]
    }
   ],
   "source": [
    "sc_geo = bqplot.AlbersUSA()\n",
    "state_data = bqplot.topo_load('map_data/USStatesMap.json')\n",
    "\n",
    "def_tt = bqplot.Tooltip(fields=['id', 'name'])\n",
    "\n",
    "states_map = bqplot.Map(map_data=state_data, scales={'projection':sc_geo}, tooltip=def_tt)\n",
    "states_map.interactions = {'click': 'select', 'hover': 'tooltip'}\n",
    "\n",
    "fig=bqplot.Figure(marks=[states_map], title='US States Map Example',\n",
    "                  fig_margin={'top': 0, 'bottom': 0, 'left': 0, 'right': 0})\n",
    "\n",
    "\n",
    "# lets also make a line plot\n",
    "# second, the lineplot\n",
    "x_scl = bqplot.LinearScale() \n",
    "y_scl = bqplot.LinearScale()\n",
    "ax_xcl = bqplot.Axis(label='Year', scale=x_scl)\n",
    "ax_ycl = bqplot.Axis(label='Total Export from State NA', \n",
    "                     scale=y_scl, \n",
    "                    orientation='vertical', side='left')\n",
    "lines = bqplot.Lines(x = years, y = np.zeros(len(years)),\n",
    "                    scales = {'x': x_scl, 'y': y_scl})\n",
    "#print(lines)\n",
    "fig_lines = bqplot.Figure(marks = [lines], \n",
    "                          axes = [ax_ycl, ax_xcl],)\n",
    "\n",
    "# let do something additive for all states selected\n",
    "def get_data_value(change):\n",
    "    exports = np.zeros(len(years))\n",
    "    snames = ''\n",
    "    if change['owner'].selected is not None:\n",
    "        for i,s in enumerate(change['owner'].selected):\n",
    "            sn = state_names[s == ids][0]\n",
    "            snames += sn + ', '\n",
    "            # because of formatting, things are in arrays hence [0]\n",
    "            #  also, take out state name hence [1:]\n",
    "            # NOTE! BQPLOT has misspelled massachussetts!\n",
    "            if sn == 'Massachusetts': sn = 'Massachussetts'\n",
    "            exports_in=comm.loc[comm['State'] == sn].values[0][1:]\n",
    "            # there are \",\"'s in exports we gotta take out\n",
    "            exports_in = np.array([exports_in[i].replace(',','') for i in range(len(exports_in))])\n",
    "            exports = np.add(exports, exports_in.astype('float64'))\n",
    "        lines.y = exports\n",
    "        ax_ycl.label='Total Export from ' + snames\n",
    "    else:\n",
    "        lines.y = np.zeros(len(exports))\n",
    "        ax_ycl.label='Total Export from NA'\n",
    "\n",
    "states_map.observe(get_data_value,'selected')\n",
    "\n",
    "# some formatting for vertical\n",
    "#fig_lines.layout.max_height='250px'\n",
    "#fig_lines.layout.min_width='800px'\n",
    "#fig.layout.min_width='800px'\n",
    "#ipywidgets.VBox([fig_lines,fig])\n",
    "ipywidgets.HBox([fig,fig_lines])"
   ]
  },
  {
   "cell_type": "markdown",
   "metadata": {},
   "source": [
    "# Activity #1: MarketMap\n",
    "* another way to visualize mappable data"
   ]
  },
  {
   "cell_type": "markdown",
   "metadata": {},
   "source": [
    "## 1.a : explore the dataset"
   ]
  },
  {
   "cell_type": "code",
   "execution_count": null,
   "metadata": {},
   "outputs": [],
   "source": []
  },
  {
   "cell_type": "code",
   "execution_count": null,
   "metadata": {},
   "outputs": [],
   "source": [
    "#!pip install xlrd # JPN, might have to run this\n",
    "\n",
    "# note: this is quering from the web!  How neat is that??\n",
    "df = pd.read_excel('https://query.data.world/s/ivl45pdpubos6jpsii3djsjwm2pcjv', skiprows=5)\n",
    "# the above might take a while to load all the data"
   ]
  },
  {
   "cell_type": "code",
   "execution_count": null,
   "metadata": {},
   "outputs": [],
   "source": [
    "# save as CSV if you wanna\n",
    "#df.to_csv('/Users/jillnaiman/Downloads/market_map_data.csv')"
   ]
  },
  {
   "cell_type": "code",
   "execution_count": null,
   "metadata": {},
   "outputs": [],
   "source": [
    "# or can try:\n",
    "#df = pd.read_csv('/Users/jillnaiman/Downloads/market_map_data.csv')"
   ]
  },
  {
   "cell_type": "code",
   "execution_count": null,
   "metadata": {},
   "outputs": [],
   "source": [
    "# what is in this dataframe? lets take a look at the top\n",
    "df.head()\n",
    "# this dataset is called: \"Surgery Charges Across the U.S.\"\n",
    "#  and its just showing us how much different procedures \n",
    "#  cost from different hospitals"
   ]
  },
  {
   "cell_type": "code",
   "execution_count": null,
   "metadata": {},
   "outputs": [],
   "source": [
    "# what kinds of data are we working with?\n",
    "df.dtypes"
   ]
  },
  {
   "cell_type": "code",
   "execution_count": null,
   "metadata": {},
   "outputs": [],
   "source": [
    "# lets look at some summary data\n",
    "# recall: this is like R's \"summary\" function\n",
    "df.describe()\n",
    "# so, things like the mean zipcode aren't\n",
    "#  meaningful, same thing with provider ID\n",
    "#  But certainly looking at the average\n",
    "#  total payments, discharges, might \n",
    "#  be useful"
   ]
  },
  {
   "cell_type": "code",
   "execution_count": null,
   "metadata": {},
   "outputs": [],
   "source": [
    "# lets look at how many seperate types of surgery are \n",
    "#  represented in this dataset:\n",
    "df[\"DRG Definition\"].unique().size"
   ]
  },
  {
   "cell_type": "code",
   "execution_count": null,
   "metadata": {},
   "outputs": [],
   "source": [
    "# what about how many provider (hospital) names?\n",
    "df[\"Provider Name\"].unique().size"
   ]
  },
  {
   "cell_type": "code",
   "execution_count": null,
   "metadata": {},
   "outputs": [],
   "source": [
    "# how many states are represented\n",
    "df[\"Provider State\"].unique().size"
   ]
  },
  {
   "cell_type": "code",
   "execution_count": null,
   "metadata": {},
   "outputs": [],
   "source": [
    "# what are the state codes?\n",
    "df[\"Provider State\"].unique()"
   ]
  },
  {
   "cell_type": "code",
   "execution_count": null,
   "metadata": {},
   "outputs": [],
   "source": [
    "# lets figure out  what the most common surgeries are via how \n",
    "#  many many folks are discharged after each type of surgery\n",
    "# (1)\n",
    "most_common = df.groupby(\"DRG Definition\")[\"Total Discharges\"].sum()\n",
    "most_common\n",
    "\n",
    "# (2) but lets sort by the largest on top\n",
    "most_common = df.groupby(\"DRG Definition\")[\"Total Discharges\"].sum().sort_values(ascending=False)\n",
    "most_common\n",
    "\n",
    "# (3) lets look at only the top 5, for fun\n",
    "most_common[:5]\n",
    "\n",
    "# (4) or we can only look at the names of the top 5:\n",
    "most_common[:5].index.values"
   ]
  },
  {
   "cell_type": "markdown",
   "metadata": {},
   "source": [
    "## 1.b: formatting data for MarketMap\n",
    "* here we are going to practice doing some fancy things to clean this data\n",
    "* this will be good practice for when you run into other datasets \"in the wild\""
   ]
  },
  {
   "cell_type": "code",
   "execution_count": null,
   "metadata": {},
   "outputs": [],
   "source": [
    "# (1) lets create a little table of total discharges for\n",
    "#  each type of surgery & state\n",
    "total_discharges = df.groupby([\"DRG Definition\", \"Provider State\"])[\"Total Discharges\"].sum()\n",
    "total_discharges\n",
    "\n",
    "# (2) the above is not intuative, lets prettify it\n",
    "total_discharges = df.groupby([\"DRG Definition\", \"Provider State\"])[\"Total Discharges\"].sum().unstack()\n",
    "total_discharges"
   ]
  },
  {
   "cell_type": "markdown",
   "metadata": {},
   "source": [
    "### Aside: lets quick check out what are the most frequent surgeries"
   ]
  },
  {
   "cell_type": "code",
   "execution_count": null,
   "metadata": {},
   "outputs": [],
   "source": [
    "# for our map, we are going to want to \n",
    "# normalize the discharges or each surgery \n",
    "# for each \n",
    "# state by the total discharges across all \n",
    "# states for a particular type of surger\n",
    "#  lets add this to our total_discharges DF\n",
    "total_discharges[\"Total\"] = total_discharges.sum(axis = 1)\n",
    "total_discharges[\"Total\"].head() # just look at the first few"
   ]
  },
  {
   "cell_type": "code",
   "execution_count": null,
   "metadata": {},
   "outputs": [],
   "source": [
    "# finally, lets check out the most often\n",
    "#  performed surgery across all states\n",
    "\n",
    "# we can do this by sorting our DF by this total we just\n",
    "# calculated:\n",
    "total_discharges.sort_values(by = \"Total\", \n",
    "                             ascending=False, \n",
    "                             inplace = True)\n",
    "\n",
    "# now lets just look at the first few of our \n",
    "#  sorted array\n",
    "total_discharges.head()\n",
    "\n",
    "# so, from this we see that joint replacement\n",
    "#  or reattachment of a lower extremeity is \n",
    "#  the most likely surgery (in number of discharges)\n",
    "# followed by surgeries for sepsis and then heart failure"
   ]
  },
  {
   "cell_type": "code",
   "execution_count": null,
   "metadata": {},
   "outputs": [],
   "source": [
    "# neat.  We won't need these for plotting, so we can remove our\n",
    "# total column we just calculated\n",
    "del total_discharges[\"Total\"]\n",
    "total_discharges.head()\n",
    "# now we see that we are back to just states & surgeries\n",
    "#  *but* our sorting is still by the total that we \n",
    "# previously calculated.\n",
    "# spiffy!"
   ]
  },
  {
   "cell_type": "markdown",
   "metadata": {},
   "source": [
    "## 1.c: plot data with bqplot"
   ]
  },
  {
   "cell_type": "code",
   "execution_count": null,
   "metadata": {},
   "outputs": [],
   "source": [
    "import bqplot\n",
    "# by default bqplot does not import \n",
    "#  all packages, we have to \n",
    "#  explicitely import market_map\n",
    "import bqplot.market_map # for access to market_map"
   ]
  },
  {
   "cell_type": "code",
   "execution_count": null,
   "metadata": {},
   "outputs": [],
   "source": [
    "# lets do our usual thing, but with a market map\n",
    "#  instead of a heat map\n",
    "\n",
    "# scales:\n",
    "x_sc, y_sc = bqplot.OrdinalScale(), bqplot.OrdinalScale() # note, just a different way to call things\n",
    "c_sc = bqplot.ColorScale(scheme=\"Blues\")\n",
    "\n",
    "# just a color axes for now:\n",
    "c_ax = bqplot.ColorAxis(scale = c_sc, orientation = 'vertical')\n",
    "\n",
    "# lets make the market map:\n",
    "\n",
    "# (1) what should we plot for our color? lets take a look:\n",
    "total_discharges.iloc[0].values, total_discharges.columns.values\n",
    "# this is the total discharges for the most \n",
    "# popular surgical procedure\n",
    "# the columns will be states\n",
    "\n",
    "# (2) lets put this into a map\n",
    "mmap = bqplot.market_map.MarketMap(color = total_discharges.iloc[0].values, \n",
    "                                  names = total_discharges.columns.values,\n",
    "                                  scales={'color':c_sc}, \n",
    "                                   axes=[c_ax])\n",
    "\n",
    "# (3) ok, but just clicking on things doesn't tell us too much\n",
    "# lets add a little label to print out the total of the selected\n",
    "import ipywidgets\n",
    "label = ipywidgets.Label()\n",
    "# link to market map\n",
    "def get_data(change):\n",
    "    # (3.1)\n",
    "    #print(change['owner'].selected)\n",
    "    # (3.2) loop\n",
    "    v = 0.0 # to store total value\n",
    "    for s in change['owner'].selected:\n",
    "        v += total_discharges.iloc[0][total_discharges.iloc[0].index == s].values\n",
    "    if v > 0: # in case nothing is selected\n",
    "        # what are we printing?\n",
    "        l = 'Total discharges of ' + \\\n",
    "        total_discharges.iloc[0].name + \\\n",
    "        ' = ' + str(v[0]) # note: v is by default an array\n",
    "        label.value = l \n",
    "    \n",
    "mmap.observe(get_data,'selected')\n",
    "    \n",
    "#mmap\n",
    "\n",
    "# (3)\n",
    "ipywidgets.VBox([label,mmap])"
   ]
  },
  {
   "cell_type": "markdown",
   "metadata": {},
   "source": [
    "## Discussion:\n",
    "* think back to the map we had last week: we can certainly plot this information with a more geo-realistic map\n",
    "* what are the pros & cons of each style of map?  What do each highlight?  How are each biased?"
   ]
  },
  {
   "cell_type": "markdown",
   "metadata": {},
   "source": [
    "## IF we have time: Re-do with other mapping system:"
   ]
  },
  {
   "cell_type": "code",
   "execution_count": null,
   "metadata": {},
   "outputs": [],
   "source": [
    "from us_state_abbrev import us_state_abbrev\n",
    "\n",
    "sc_geo = bqplot.AlbersUSA()\n",
    "state_data = bqplot.topo_load('map_data/USStatesMap.json')\n",
    "\n",
    "#(1)\n",
    "#states_map = bqplot.Map(map_data=state_data, scales={'projection':sc_geo})\n",
    "\n",
    "#(2)\n",
    "# library from last time\n",
    "from states_utils import get_ids_and_names\n",
    "ids, state_names = get_ids_and_names(states_map)\n",
    "\n",
    "# color maps\n",
    "import matplotlib.cm as cm\n",
    "cmap = cm.Blues\n",
    "\n",
    "# most popular surgery\n",
    "popSurg = total_discharges.iloc[0]\n",
    "\n",
    "# here, we will go through the process of getting colors to plot\n",
    "#  each state with its similar color to the marketmap above:\n",
    "\n",
    "#!pip install webcolors\n",
    "from webcolors import rgb_to_hex\n",
    "d = {} # empty dict to store colors\n",
    "for s in states_map.map_data['objects']['subunits']['geometries']:\n",
    "    if s['properties'] is not None:\n",
    "        #print(s['properties']['name'], s['id'])\n",
    "        # match states to abbreviations\n",
    "        state_abbrev = us_state_abbrev[s['properties']['name']]\n",
    "        #print(state_abbrev)\n",
    "        v = popSurg[popSurg.index == state_abbrev].values[0]\n",
    "        # renorm v to colors and then number of states\n",
    "        v = (v - popSurg.values.min())/(popSurg.values.max()-popSurg.values.min())\n",
    "        #print(v, int(cmap(v)[0]), int(cmap(v)[1]), int(cmap(v)[2]))\n",
    "        # convert to from 0-1 to 0-255 rgbs\n",
    "        c = [int(cmap(v)[i]*255) for i in range(3)]\n",
    "        #d[s['id']] = rgb_to_hex([int(cmap(v)[0]*255), int(cmap(v)[1]*255), int(cmap(v)[2]*255)])\n",
    "        d[s['id']] = rgb_to_hex(c)\n",
    "    \n",
    "    \n",
    "def_tt = bqplot.Tooltip(fields=['name'])\n",
    "    \n",
    "states_map = bqplot.Map(map_data=state_data, scales={'projection':sc_geo}, colors = d, tooltip=def_tt)\n",
    "# add interactions\n",
    "states_map.interactions = {'click': 'select', 'hover': 'tooltip'}\n",
    "\n",
    "# (3)\n",
    "label = ipywidgets.Label()\n",
    "# link to heat map\n",
    "def get_data(change):\n",
    "    v = 0.0 # to store total value\n",
    "    if change['owner'].selected is not None:\n",
    "        for s in change['owner'].selected:\n",
    "            #print(s)\n",
    "            sn = state_names[s == ids][0]\n",
    "            state_abbrev = us_state_abbrev[sn]\n",
    "            v += popSurg[popSurg.index == state_abbrev].values[0]\n",
    "        if v > 0: # in case nothing is selected\n",
    "            # what are we printing?\n",
    "            l = 'Total discharges of ' + \\\n",
    "            popSurg.name + \\\n",
    "            ' = ' + str(v) # note: v is by default an array\n",
    "            label.value = l \n",
    "    \n",
    "states_map.observe(get_data,'selected')\n",
    "\n",
    "fig=bqplot.Figure(marks=[states_map], \n",
    "                  title='US States Map Example',\n",
    "                  fig_margin={'top': 0, 'bottom': 0, 'left': 0, 'right': 0}) # try w/o first and see\n",
    "#fig\n",
    "# (3)\n",
    "ipywidgets.VBox([label,fig])"
   ]
  },
  {
   "cell_type": "markdown",
   "metadata": {},
   "source": [
    "# Activity #2: Real quick ipyleaflets\n",
    "* since cartopy wasn't working for folks, we'll quickly look at another option: ipyleaflets"
   ]
  },
  {
   "cell_type": "code",
   "execution_count": null,
   "metadata": {},
   "outputs": [],
   "source": [
    "#!pip install ipyleaflet\n",
    "from ipyleaflet import *\n",
    "# note: you might have to close and reopen you notebook\n",
    "# to see the map\n",
    "\n",
    "m = Map(center=(52, 10), zoom=8, basemap=basemaps.Hydda.Full)\n",
    "\n",
    "#(2) street maps\n",
    "strata_all = basemap_to_tiles(basemaps.Strava.All)\n",
    "m.add_layer(strata_all)\n",
    "m"
   ]
  },
  {
   "cell_type": "markdown",
   "metadata": {},
   "source": [
    "### Note: more examples available here - https://github.com/jupyter-widgets/ipyleaflet/tree/master/examples"
   ]
  },
  {
   "cell_type": "code",
   "execution_count": null,
   "metadata": {},
   "outputs": [],
   "source": []
  }
 ],
 "metadata": {
  "kernelspec": {
   "display_name": "Python 3",
   "language": "python",
   "name": "python3"
  },
  "language_info": {
   "codemirror_mode": {
    "name": "ipython",
    "version": 3
   },
   "file_extension": ".py",
   "mimetype": "text/x-python",
   "name": "python",
   "nbconvert_exporter": "python",
   "pygments_lexer": "ipython3",
   "version": "3.7.6"
  }
 },
 "nbformat": 4,
 "nbformat_minor": 2
}
