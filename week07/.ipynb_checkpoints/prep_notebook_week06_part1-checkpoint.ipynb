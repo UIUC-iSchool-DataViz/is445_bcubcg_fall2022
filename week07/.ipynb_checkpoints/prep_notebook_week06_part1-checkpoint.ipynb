{
 "cells": [
  {
   "cell_type": "markdown",
   "metadata": {},
   "source": [
    "# Heat Maps & Market Maps\n",
    "\n",
    "We'll build off our use of `bqplot` to make a dashboard with randomly sampled data last lecture to make interactive dashboards out of \"real\" data using the `UFO Dataset`.\n",
    "\n",
    "We'll also look at the `Market Map` marks in `bqplot` for another representation of mappable data in a dashboard."
   ]
  },
  {
   "cell_type": "markdown",
   "metadata": {},
   "source": [
    "Let's import our usual stuff:"
   ]
  },
  {
   "cell_type": "code",
   "execution_count": 1,
   "metadata": {},
   "outputs": [],
   "source": [
    "import pandas as pd\n",
    "import bqplot\n",
    "import numpy as np\n",
    "import traitlets\n",
    "import ipywidgets\n",
    "import matplotlib.pyplot as plt\n",
    "%matplotlib inline"
   ]
  },
  {
   "cell_type": "markdown",
   "metadata": {},
   "source": [
    "## Dashboarding with \"real\" data using the UFO dataset"
   ]
  },
  {
   "cell_type": "markdown",
   "metadata": {},
   "source": [
    "Let's read in the UFO dataset:"
   ]
  },
  {
   "cell_type": "code",
   "execution_count": 2,
   "metadata": {},
   "outputs": [],
   "source": [
    "ufos = pd.read_csv(\"/Users/jillnaiman/Downloads/ufo-scrubbed-geocoded-time-standardized-00.csv\",\n",
    "                  names = [\"date\", \"city\", \"state\", \"country\",\n",
    "                          \"shape\", \"duration_seconds\", \"duration\",\n",
    "                          \"comment\", \"report_date\", \n",
    "                           \"latitude\", \"longitude\"],\n",
    "                  parse_dates = [\"date\", \"report_date\"])"
   ]
  },
  {
   "cell_type": "markdown",
   "metadata": {},
   "source": [
    "### Aside: downsampling\n",
    "\n",
    "We have covered downsampling before, but we will repeat it here in case folks have slower computers and don't want to use the full dataset while in class.\n",
    "\n",
    "We can remind ourselves of how many entries are in this dataset:"
   ]
  },
  {
   "cell_type": "code",
   "execution_count": 3,
   "metadata": {},
   "outputs": [
    {
     "data": {
      "text/plain": [
       "80332"
      ]
     },
     "execution_count": 3,
     "metadata": {},
     "output_type": "execute_result"
    }
   ],
   "source": [
    "len(ufos)"
   ]
  },
  {
   "cell_type": "markdown",
   "metadata": {},
   "source": [
    "80,000 entries is a lot!  So, to speed up our interactivity, we can randomly sample this dataset for plotting purposes.  Lets down sample to 1000 samples:"
   ]
  },
  {
   "cell_type": "code",
   "execution_count": 4,
   "metadata": {},
   "outputs": [
    {
     "data": {
      "text/plain": [
       "array([30565, 67569, 71798, 32821, 74855, 49462, 13587, 60132, 60296,\n",
       "       69275, 62435,  3151, 78254, 25911, 18667, 65033, 70276, 59171,\n",
       "       26713, 32466, 56629, 31564, 15186, 13875, 76470,  8905, 51304,\n",
       "       34708, 68792, 67223, 69372, 16755, 73700, 20145, 38061, 26419,\n",
       "       37471, 62368, 37795, 47121, 75346, 51389,  7557, 50637, 75297,\n",
       "       41435,  4516, 55026,  6181, 61635, 64775, 44627, 53960,  5179,\n",
       "       75428,  5390,  3525, 59774, 15719, 38372, 10364, 45401,   436,\n",
       "       53882, 67668, 45623, 45520, 44095, 56109, 49003, 73229, 48873,\n",
       "       31279, 33747,  2882, 14784, 14683, 17271, 10422, 68467, 27776,\n",
       "       46802, 73851, 51661, 42961, 35426, 40243, 22743, 57096,  3867,\n",
       "       68773, 32706, 38674, 40854, 63188, 57353, 34764, 30523, 65743,\n",
       "        8026, 31618, 62872,  3463, 55184, 49361,   621,  6380, 77954,\n",
       "        8303, 26872, 45777, 20099, 63457, 52399, 19353, 59464, 50363,\n",
       "       67050,  9025, 74702, 29985, 16561, 18040, 72353, 41068, 61177,\n",
       "       29893,   187, 39088, 42727, 45307, 49859, 68988, 32678,  1818,\n",
       "       75832, 73597, 61433, 52932, 11556, 16826, 26985, 17842, 59510,\n",
       "       10858, 63529,  2922, 15721, 59508, 54337, 70674, 65154, 50931,\n",
       "        2284, 76845, 71398, 64887, 13927,  7391, 47339, 60824, 34786,\n",
       "       69099, 71407, 25929, 20903, 19894, 75317,  1390, 17880, 19308,\n",
       "       69706, 35873, 28373, 36781, 10501,  9619, 57832, 34239, 29635,\n",
       "       57526, 51237, 28734, 32759, 69773, 25698, 36676, 62168, 48674,\n",
       "       43999, 28493, 48172, 51307, 31099, 33358, 72902, 10753,   758,\n",
       "       44310, 52277, 62876, 34581, 79800, 29865, 57214, 54580,   254,\n",
       "       73327, 16732, 20817, 72794, 61394,  3107, 71268, 36253, 74245,\n",
       "       61257, 46584, 15307,  1732,  7142, 47020,  3481, 17248, 32766,\n",
       "       56195,  7528, 26589, 21197, 12945, 38835, 10379,  6116, 70513,\n",
       "       64999, 24938, 16505, 46827,  7027, 61700, 33146, 52526, 32151,\n",
       "       74581, 48296,  8787, 14665, 43925, 15338, 73850, 33977, 66956,\n",
       "       21855, 66541,  2144, 65956, 14856, 76958, 35882, 22411, 16518,\n",
       "       44530, 56226, 63207,  3237, 29630, 34199, 52120, 33291, 65122,\n",
       "       68562, 72332, 13745, 71738, 25732, 75175, 56602, 26745, 11099,\n",
       "       78886, 30744, 38429,  1393, 13558, 36106, 42666, 33269, 21631,\n",
       "       31844, 80314,  9134, 52206, 23530,  8293, 39436,  6366, 31743,\n",
       "       75993, 30124, 52677, 23773,  2177, 15791, 28211, 61023, 12409,\n",
       "       75741, 23179, 30647, 12132, 11882, 77878,  2575, 17290, 77103,\n",
       "       27344, 42310, 22031, 62461,  8252, 64619, 73295, 77435, 28307,\n",
       "       70835, 38387, 63216, 35894, 68859, 15546, 73225, 38039, 30552,\n",
       "       30817, 67685, 43033, 79558,  4648, 30350, 33683, 23818, 63151,\n",
       "       12381, 76368, 31464, 79432, 54722, 80116, 48430, 35874, 17983,\n",
       "       39728, 46595, 37968, 49544,   328,  5112, 47998, 71876, 61733,\n",
       "          46, 33573, 10022, 45169, 67489, 67129, 74746, 66318, 55283,\n",
       "       33185, 23433, 40464, 49341, 32397, 11873, 63793, 45736, 19328,\n",
       "       14010, 43990, 77450, 10958, 79828, 33934, 79719,  6481, 28417,\n",
       "       68675, 60380, 68414, 58890, 17055, 75985,  2964, 63387, 43365,\n",
       "       30945, 49696, 30044, 51176, 28779, 11578,  7916, 75450,  6453,\n",
       "       33240,   904, 52037, 41624, 56215, 72374, 37596, 33613, 47102,\n",
       "        3988,  7414, 13862, 47611, 34067, 61953,  9034,  3230, 28200,\n",
       "       64316, 11538, 66892, 73573, 35306,  7451, 76134, 65596, 79498,\n",
       "       22153, 59751, 23855, 60687,  9845, 64728, 76542, 28675, 13865,\n",
       "       54214, 45023, 52108, 42044, 19233, 31277, 67139, 74679, 54693,\n",
       "       33938, 17246, 73276, 58230, 68654, 45819,  5907, 49423, 53101,\n",
       "       45161, 22460, 68159, 12970, 19379, 49558, 53750, 66388, 37241,\n",
       "       18782, 56394, 69178, 20171, 66124, 69378, 27677, 53653, 10556,\n",
       "        8063, 32812, 41870, 36085, 61534, 38997, 75833, 60518, 25183,\n",
       "       76853,  7880, 32276,  2148, 46719, 47147, 29664, 66830,  3324,\n",
       "       52130, 18727, 16091, 46237, 56766, 78589, 47010, 42820, 51740,\n",
       "       73312, 59245,  8168, 11195, 28291, 31586, 59570, 29862, 61734,\n",
       "       66113,  8979, 69105, 58688, 29286, 18971, 79820, 68803,  9607,\n",
       "       62427,  4011, 64968, 20520, 54130,   934, 26355, 14473, 75986,\n",
       "       29740, 78058, 74016, 73758,  6091, 32090, 18302, 64372, 77570,\n",
       "       14202, 45960,  3509, 31473, 25110, 20824, 59949, 76099, 30369,\n",
       "       56581, 44152, 35776, 63609, 23516, 66396, 15553,  1740, 69835,\n",
       "        3898, 35510, 13448, 42606, 74014, 39887, 78800, 29151, 16829,\n",
       "        8814,  8435, 48304, 40153, 60491, 79791, 65828, 32164, 79531,\n",
       "       19424, 16901, 23645, 36311, 52815, 53379,  2403,  2062, 56972,\n",
       "       10796, 37725, 33943, 27970, 43267, 36126, 61078,  2679, 58884,\n",
       "       20593, 69585, 11086, 78946,  1174, 16816,  3039, 43411, 48476,\n",
       "       56632, 37853, 37052, 72915, 34475, 16355, 16502, 53369, 40345,\n",
       "       22164, 41506, 69856, 17766, 72768, 18718,  7646,  2765, 71508,\n",
       "       41299, 11022, 31607, 24030, 38840,  1695, 80007, 27699,  7395,\n",
       "       40587, 57765, 43560,  9944, 40252,  2376, 35082, 51927, 66902,\n",
       "       68707, 27744, 40966,  9124, 70491, 10690,  8915, 39025, 12022,\n",
       "       32232, 67343, 12481, 52947,   939, 24414, 19756,  2874, 58839,\n",
       "       34241, 39751,  3101, 53423, 53037, 47879, 76390, 49901, 23251,\n",
       "        6230, 67714,  6855, 51507, 61608, 28952,  5295, 24079, 14801,\n",
       "       19166, 71292, 50312, 42916, 47455, 21262, 23397, 16894, 48386,\n",
       "       29708,  7545, 70488, 77685, 70857, 39410,  9399, 76287, 31116,\n",
       "       62534, 78883, 52326, 34681, 59671, 51042, 67041, 41727, 61548,\n",
       "       60042, 21564, 51887, 22308, 30251,  5980, 76186, 31843, 36680,\n",
       "       34321, 57648, 60002, 29548, 17973, 69711, 36046, 48570, 40865,\n",
       "       62152, 45739,  4340, 51730, 23991, 43550, 17548, 58982, 53687,\n",
       "       69131, 23076, 59475, 12952, 33135, 68283, 23572, 20667, 58282,\n",
       "       70196, 69100, 62434, 12415, 33678, 78535, 40177, 33374, 35880,\n",
       "       30343, 71017,  4787, 62644, 37436, 26809, 30746, 37377, 19913,\n",
       "        5684, 73024, 11741, 13420, 49195, 61039, 53345, 51161, 11726,\n",
       "        2731, 71399, 45619, 71696, 21882, 58658, 40494, 57012, 58024,\n",
       "       44034, 47510, 34012, 36458,  3677,  6159, 14889,  2137, 49936,\n",
       "       79396, 10366, 33008, 34502, 22781, 72814, 11896, 23371, 51015,\n",
       "       38614, 74315,  1594, 75619,  7014, 33661, 68063, 62637, 45710,\n",
       "       42355, 35606, 45316, 16483,  6466, 23539, 10632,   370, 30649,\n",
       "        2120, 72137, 25508,  1182, 14932, 46863, 44981, 47145, 66656,\n",
       "       42064, 50025, 72423,  8265, 46870, 44580, 45597, 43844, 78005,\n",
       "       43984, 38411, 73808, 61238, 33189, 34176, 57177,  3153, 22470,\n",
       "       71591, 59185, 47468, 41061, 71369, 24462, 12560, 34267, 30097,\n",
       "       49416, 73317, 53841,   138, 24409, 27040, 17427, 38880, 12641,\n",
       "       31555, 60472, 17993, 55965, 12271, 36406, 15336,   804, 13105,\n",
       "       32668, 50702, 53988, 46545, 35391, 62433, 56360, 38350, 44786,\n",
       "       41620, 61376, 13831, 72742, 74195, 51590, 30618, 26604, 50961,\n",
       "       37645, 49921, 10509, 70258, 45440, 30525, 43500, 58486, 79477,\n",
       "       27417, 43797, 26619, 33248, 10057, 27693, 33601,  9726, 15351,\n",
       "       70391, 54168, 62005,  1664, 37820, 80199, 58794, 20803, 31122,\n",
       "        4170, 62389, 25072, 63117, 77462, 71359, 71020, 52543, 46352,\n",
       "       74738, 77978, 29739, 79810, 49340, 67682, 38727, 76315, 16837,\n",
       "       59350, 39387, 25707, 58232,  7377, 21053, 40911, 79003, 73314,\n",
       "       14602, 74570, 15860, 44243, 46613, 77708, 76652, 43280, 38249,\n",
       "       43902,  9631, 35459,  2104, 20255, 79446, 68492, 37375, 14809,\n",
       "       63225, 54882, 11134, 19559, 80134, 34420, 11315, 17319,  3452,\n",
       "       40554, 22418, 12323, 56403, 58060, 22073, 20233, 66278,  6198,\n",
       "       22612, 58832,  2846, 52485, 43918,  8346, 62076,  5084, 67075,\n",
       "       22441, 11069, 47928, 19287, 61781, 53921,  6630, 20054,  3628,\n",
       "       41589, 46060, 68866, 64269, 79425,  5437, 45299, 63057, 30118,\n",
       "       45074])"
      ]
     },
     "execution_count": 4,
     "metadata": {},
     "output_type": "execute_result"
    }
   ],
   "source": [
    "nsamples = 1000\n",
    "#nsamples = 5000 # if you want a larger sample\n",
    "downSampleMask = np.random.choice(range(len(ufos)-1), \n",
    "                                  nsamples, replace=False)\n",
    "downSampleMask\n",
    "# so, downsample mask is now a list of random indicies for \n",
    "#  the UFO dataset.  Your's will not be the same because we have not set a seed."
   ]
  },
  {
   "cell_type": "markdown",
   "metadata": {},
   "source": [
    "Let's create a subset of our data with the `.loc` function:"
   ]
  },
  {
   "cell_type": "code",
   "execution_count": 5,
   "metadata": {},
   "outputs": [
    {
     "data": {
      "text/plain": [
       "1000"
      ]
     },
     "execution_count": 5,
     "metadata": {},
     "output_type": "execute_result"
    }
   ],
   "source": [
    "ufosDS = ufos.loc[downSampleMask]\n",
    "len(ufosDS)\n",
    "# so much shorter"
   ]
  },
  {
   "cell_type": "markdown",
   "metadata": {},
   "source": [
    "We can also see that this is saved as a dataframe:"
   ]
  },
  {
   "cell_type": "code",
   "execution_count": 6,
   "metadata": {},
   "outputs": [
    {
     "data": {
      "text/html": [
       "<div>\n",
       "<style scoped>\n",
       "    .dataframe tbody tr th:only-of-type {\n",
       "        vertical-align: middle;\n",
       "    }\n",
       "\n",
       "    .dataframe tbody tr th {\n",
       "        vertical-align: top;\n",
       "    }\n",
       "\n",
       "    .dataframe thead th {\n",
       "        text-align: right;\n",
       "    }\n",
       "</style>\n",
       "<table border=\"1\" class=\"dataframe\">\n",
       "  <thead>\n",
       "    <tr style=\"text-align: right;\">\n",
       "      <th></th>\n",
       "      <th>date</th>\n",
       "      <th>city</th>\n",
       "      <th>state</th>\n",
       "      <th>country</th>\n",
       "      <th>shape</th>\n",
       "      <th>duration_seconds</th>\n",
       "      <th>duration</th>\n",
       "      <th>comment</th>\n",
       "      <th>report_date</th>\n",
       "      <th>latitude</th>\n",
       "      <th>longitude</th>\n",
       "    </tr>\n",
       "  </thead>\n",
       "  <tbody>\n",
       "    <tr>\n",
       "      <th>30565</th>\n",
       "      <td>1979-03-01 04:00:00</td>\n",
       "      <td>medford</td>\n",
       "      <td>or</td>\n",
       "      <td>us</td>\n",
       "      <td>unknown</td>\n",
       "      <td>300.0</td>\n",
       "      <td>5 min</td>\n",
       "      <td>While in flight landing at Medford from Klamma...</td>\n",
       "      <td>1998-09-26</td>\n",
       "      <td>42.326667</td>\n",
       "      <td>-122.874444</td>\n",
       "    </tr>\n",
       "    <tr>\n",
       "      <th>67569</th>\n",
       "      <td>2012-08-18 22:00:00</td>\n",
       "      <td>hartford</td>\n",
       "      <td>ct</td>\n",
       "      <td>us</td>\n",
       "      <td>light</td>\n",
       "      <td>5.0</td>\n",
       "      <td>5 seconds</td>\n",
       "      <td>Fast moving light over Hartford&amp;#44 CT</td>\n",
       "      <td>2012-08-19</td>\n",
       "      <td>41.763611</td>\n",
       "      <td>-72.685556</td>\n",
       "    </tr>\n",
       "    <tr>\n",
       "      <th>71798</th>\n",
       "      <td>2001-08-06 20:55:00</td>\n",
       "      <td>los angeles</td>\n",
       "      <td>ca</td>\n",
       "      <td>us</td>\n",
       "      <td>light</td>\n",
       "      <td>60.0</td>\n",
       "      <td>&lt;1 minute</td>\n",
       "      <td>Los Angeles CA&amp;#44 08/06/01: extremely bright ...</td>\n",
       "      <td>2001-08-12</td>\n",
       "      <td>34.052222</td>\n",
       "      <td>-118.242778</td>\n",
       "    </tr>\n",
       "    <tr>\n",
       "      <th>32821</th>\n",
       "      <td>2000-03-02 19:00:00</td>\n",
       "      <td>springfield</td>\n",
       "      <td>mo</td>\n",
       "      <td>us</td>\n",
       "      <td>unknown</td>\n",
       "      <td>1500.0</td>\n",
       "      <td>approx. 25 min.</td>\n",
       "      <td>Counterclockwise rotation of four lights again...</td>\n",
       "      <td>2000-04-01</td>\n",
       "      <td>37.215278</td>\n",
       "      <td>-93.298056</td>\n",
       "    </tr>\n",
       "    <tr>\n",
       "      <th>74855</th>\n",
       "      <td>2004-09-15 21:00:00</td>\n",
       "      <td>omaha</td>\n",
       "      <td>ne</td>\n",
       "      <td>us</td>\n",
       "      <td>sphere</td>\n",
       "      <td>12.0</td>\n",
       "      <td>12 sec</td>\n",
       "      <td>((NUFORC Note:  Possible satellites??  PD))  A...</td>\n",
       "      <td>2005-05-24</td>\n",
       "      <td>41.258611</td>\n",
       "      <td>-95.937500</td>\n",
       "    </tr>\n",
       "    <tr>\n",
       "      <th>...</th>\n",
       "      <td>...</td>\n",
       "      <td>...</td>\n",
       "      <td>...</td>\n",
       "      <td>...</td>\n",
       "      <td>...</td>\n",
       "      <td>...</td>\n",
       "      <td>...</td>\n",
       "      <td>...</td>\n",
       "      <td>...</td>\n",
       "      <td>...</td>\n",
       "      <td>...</td>\n",
       "    </tr>\n",
       "    <tr>\n",
       "      <th>5437</th>\n",
       "      <td>1998-10-30 03:30:00</td>\n",
       "      <td>kelowna (canada)</td>\n",
       "      <td>bc</td>\n",
       "      <td>ca</td>\n",
       "      <td>fireball</td>\n",
       "      <td>2.0</td>\n",
       "      <td>&lt; 2sec</td>\n",
       "      <td>Bright white&amp;#44 spherical object.  Approx siz...</td>\n",
       "      <td>2000-12-02</td>\n",
       "      <td>49.900000</td>\n",
       "      <td>-119.483333</td>\n",
       "    </tr>\n",
       "    <tr>\n",
       "      <th>45299</th>\n",
       "      <td>2000-05-03 20:00:00</td>\n",
       "      <td>mt. pleasant</td>\n",
       "      <td>ia</td>\n",
       "      <td>us</td>\n",
       "      <td>light</td>\n",
       "      <td>300.0</td>\n",
       "      <td>5 minutes</td>\n",
       "      <td>One craft crossed in front of an airplane that...</td>\n",
       "      <td>2000-05-11</td>\n",
       "      <td>40.963611</td>\n",
       "      <td>-91.557778</td>\n",
       "    </tr>\n",
       "    <tr>\n",
       "      <th>63057</th>\n",
       "      <td>2013-07-05 23:00:00</td>\n",
       "      <td>warren</td>\n",
       "      <td>mi</td>\n",
       "      <td>us</td>\n",
       "      <td>triangle</td>\n",
       "      <td>300.0</td>\n",
       "      <td>3-5 minutes</td>\n",
       "      <td>3 orange lights in a triangle not blinking no ...</td>\n",
       "      <td>2013-08-30</td>\n",
       "      <td>42.477500</td>\n",
       "      <td>-83.027778</td>\n",
       "    </tr>\n",
       "    <tr>\n",
       "      <th>30118</th>\n",
       "      <td>2008-02-09 19:30:00</td>\n",
       "      <td>san francisco</td>\n",
       "      <td>ca</td>\n",
       "      <td>us</td>\n",
       "      <td>changing</td>\n",
       "      <td>60.0</td>\n",
       "      <td>1 minute</td>\n",
       "      <td>Bright lights&amp;#44 three horizontal rows&amp;#44 ma...</td>\n",
       "      <td>2008-02-14</td>\n",
       "      <td>37.775000</td>\n",
       "      <td>-122.418333</td>\n",
       "    </tr>\n",
       "    <tr>\n",
       "      <th>45074</th>\n",
       "      <td>2008-05-30 17:00:00</td>\n",
       "      <td>madison</td>\n",
       "      <td>wi</td>\n",
       "      <td>us</td>\n",
       "      <td>other</td>\n",
       "      <td>600.0</td>\n",
       "      <td>5-10 minutes</td>\n",
       "      <td>A black&amp;#44 parallelogram shaped object was se...</td>\n",
       "      <td>2009-12-12</td>\n",
       "      <td>43.073056</td>\n",
       "      <td>-89.401111</td>\n",
       "    </tr>\n",
       "  </tbody>\n",
       "</table>\n",
       "<p>1000 rows × 11 columns</p>\n",
       "</div>"
      ],
      "text/plain": [
       "                     date              city state country     shape  \\\n",
       "30565 1979-03-01 04:00:00           medford    or      us   unknown   \n",
       "67569 2012-08-18 22:00:00          hartford    ct      us     light   \n",
       "71798 2001-08-06 20:55:00       los angeles    ca      us     light   \n",
       "32821 2000-03-02 19:00:00       springfield    mo      us   unknown   \n",
       "74855 2004-09-15 21:00:00             omaha    ne      us    sphere   \n",
       "...                   ...               ...   ...     ...       ...   \n",
       "5437  1998-10-30 03:30:00  kelowna (canada)    bc      ca  fireball   \n",
       "45299 2000-05-03 20:00:00      mt. pleasant    ia      us     light   \n",
       "63057 2013-07-05 23:00:00            warren    mi      us  triangle   \n",
       "30118 2008-02-09 19:30:00     san francisco    ca      us  changing   \n",
       "45074 2008-05-30 17:00:00           madison    wi      us     other   \n",
       "\n",
       "       duration_seconds         duration  \\\n",
       "30565             300.0            5 min   \n",
       "67569               5.0        5 seconds   \n",
       "71798              60.0        <1 minute   \n",
       "32821            1500.0  approx. 25 min.   \n",
       "74855              12.0           12 sec   \n",
       "...                 ...              ...   \n",
       "5437                2.0           < 2sec   \n",
       "45299             300.0        5 minutes   \n",
       "63057             300.0      3-5 minutes   \n",
       "30118              60.0         1 minute   \n",
       "45074             600.0     5-10 minutes   \n",
       "\n",
       "                                                 comment report_date  \\\n",
       "30565  While in flight landing at Medford from Klamma...  1998-09-26   \n",
       "67569             Fast moving light over Hartford&#44 CT  2012-08-19   \n",
       "71798  Los Angeles CA&#44 08/06/01: extremely bright ...  2001-08-12   \n",
       "32821  Counterclockwise rotation of four lights again...  2000-04-01   \n",
       "74855  ((NUFORC Note:  Possible satellites??  PD))  A...  2005-05-24   \n",
       "...                                                  ...         ...   \n",
       "5437   Bright white&#44 spherical object.  Approx siz...  2000-12-02   \n",
       "45299  One craft crossed in front of an airplane that...  2000-05-11   \n",
       "63057  3 orange lights in a triangle not blinking no ...  2013-08-30   \n",
       "30118  Bright lights&#44 three horizontal rows&#44 ma...  2008-02-14   \n",
       "45074  A black&#44 parallelogram shaped object was se...  2009-12-12   \n",
       "\n",
       "        latitude   longitude  \n",
       "30565  42.326667 -122.874444  \n",
       "67569  41.763611  -72.685556  \n",
       "71798  34.052222 -118.242778  \n",
       "32821  37.215278  -93.298056  \n",
       "74855  41.258611  -95.937500  \n",
       "...          ...         ...  \n",
       "5437   49.900000 -119.483333  \n",
       "45299  40.963611  -91.557778  \n",
       "63057  42.477500  -83.027778  \n",
       "30118  37.775000 -122.418333  \n",
       "45074  43.073056  -89.401111  \n",
       "\n",
       "[1000 rows x 11 columns]"
      ]
     },
     "execution_count": 6,
     "metadata": {},
     "output_type": "execute_result"
    }
   ],
   "source": [
    "ufosDS"
   ]
  },
  {
   "cell_type": "markdown",
   "metadata": {},
   "source": [
    "Lets make a super quick scatter plot to remind ourselves what this looks like:"
   ]
  },
  {
   "cell_type": "code",
   "execution_count": 7,
   "metadata": {},
   "outputs": [
    {
     "data": {
      "application/vnd.jupyter.widget-view+json": {
       "model_id": "ecee28b7330843caa139c61bb8b60452",
       "version_major": 2,
       "version_minor": 0
      },
      "text/plain": [
       "Figure(axes=[Axis(label='Longitude', scale=LinearScale()), Axis(label='Latitude', orientation='vertical', scal…"
      ]
     },
     "metadata": {},
     "output_type": "display_data"
    }
   ],
   "source": [
    "# Set up x/y scales\n",
    "x_sc = bqplot.LinearScale()\n",
    "y_sc = bqplot.LinearScale()\n",
    "\n",
    "# Set p axis\n",
    "x_ax = bqplot.Axis(scale = x_sc, label='Longitude')\n",
    "y_ax = bqplot.Axis(scale = y_sc, \n",
    "                   orientation = 'vertical', \n",
    "                   label='Latitude')\n",
    "\n",
    "#(1) set up marks\n",
    "scatters = bqplot.Scatter(x = ufosDS['longitude'],\n",
    "                          y = ufosDS['latitude'],\n",
    "                          scales = {'x': x_sc, 'y': y_sc})\n",
    "\n",
    "fig = bqplot.Figure(marks = [scatters], axes = [x_ax, y_ax]) \n",
    "fig"
   ]
  },
  {
   "cell_type": "markdown",
   "metadata": {},
   "source": [
    "Note I haven't added in colors or interactions.  Let's at least add some colors in:"
   ]
  },
  {
   "cell_type": "code",
   "execution_count": 8,
   "metadata": {},
   "outputs": [
    {
     "data": {
      "application/vnd.jupyter.widget-view+json": {
       "model_id": "98a297016abd4c708007e77360746b3e",
       "version_major": 2,
       "version_minor": 0
      },
      "text/plain": [
       "Figure(axes=[Axis(label='Longitude', scale=LinearScale()), Axis(label='Latitude', orientation='vertical', scal…"
      ]
     },
     "metadata": {},
     "output_type": "display_data"
    }
   ],
   "source": [
    "# lets make a super quick scatter plot to remind ourselves what this looks like:\n",
    "x_sc = bqplot.LinearScale()\n",
    "y_sc = bqplot.LinearScale()\n",
    "\n",
    "x_ax = bqplot.Axis(scale = x_sc, label='Longitude')\n",
    "y_ax = bqplot.Axis(scale = y_sc, \n",
    "                   orientation = 'vertical', \n",
    "                   label='Latitude')\n",
    "\n",
    "\n",
    "# Let's add in a color scale\n",
    "c_sc = bqplot.ColorScale() # color scale\n",
    "# color axes:\n",
    "c_ax = bqplot.ColorAxis(scale = c_sc, label='Duration in sec', orientation = 'vertical', side = 'right')\n",
    "\n",
    "# now replot:\n",
    "scatters = bqplot.Scatter(x = ufosDS['longitude'],\n",
    "                          y = ufosDS['latitude'],\n",
    "                          color=ufosDS['duration_seconds'],\n",
    "                          scales = {'x': x_sc, 'y': y_sc, 'color':c_sc})\n",
    "\n",
    "\n",
    "fig = bqplot.Figure(marks = [scatters], axes = [x_ax, y_ax, c_ax]) \n",
    "fig"
   ]
  },
  {
   "cell_type": "markdown",
   "metadata": {},
   "source": [
    "You'll note that this is a pretty muted color map.  This is because we are coloring by duration, and if you recall there is a *huge* range in durations:"
   ]
  },
  {
   "cell_type": "code",
   "execution_count": 9,
   "metadata": {},
   "outputs": [
    {
     "data": {
      "text/plain": [
       "(0.33, 37800.0)"
      ]
     },
     "execution_count": 9,
     "metadata": {},
     "output_type": "execute_result"
    }
   ],
   "source": [
    "ufosDS['duration_seconds'].min(), ufosDS['duration_seconds'].max()"
   ]
  },
  {
   "cell_type": "markdown",
   "metadata": {},
   "source": [
    "To account for this, let's take the log-base-10 of the duration when we plot.  We should make sure we specify this on our color axis (color bar) label:"
   ]
  },
  {
   "cell_type": "code",
   "execution_count": 10,
   "metadata": {},
   "outputs": [
    {
     "data": {
      "application/vnd.jupyter.widget-view+json": {
       "model_id": "714cdb0243494c428bfdde806138414b",
       "version_major": 2,
       "version_minor": 0
      },
      "text/plain": [
       "Figure(axes=[Axis(label='Longitude', scale=LinearScale()), Axis(label='Latitude', orientation='vertical', scal…"
      ]
     },
     "metadata": {},
     "output_type": "display_data"
    }
   ],
   "source": [
    "# lets make a super quick scatter plot to remind ourselves what this looks like:\n",
    "x_sc = bqplot.LinearScale()\n",
    "y_sc = bqplot.LinearScale()\n",
    "\n",
    "x_ax = bqplot.Axis(scale = x_sc, label='Longitude')\n",
    "y_ax = bqplot.Axis(scale = y_sc, \n",
    "                   orientation = 'vertical', \n",
    "                   label='Latitude')\n",
    "\n",
    "\n",
    "# (2) recall we can also color by things like duration\n",
    "c_sc = bqplot.ColorScale() # color scale\n",
    "\n",
    "# updated color axis with log scaling\n",
    "c_ax = bqplot.ColorAxis(scale = c_sc, label='log(sec)', \n",
    "                        orientation = 'vertical', side = 'right')\n",
    "scatters = bqplot.Scatter(x = ufosDS['longitude'],\n",
    "                          y = ufosDS['latitude'],\n",
    "                          color=np.log10(ufosDS['duration_seconds']), # here we take log, base 10\n",
    "                          scales = {'x': x_sc, 'y': y_sc, 'color':c_sc})\n",
    "\n",
    "fig = bqplot.Figure(marks = [scatters], axes = [x_ax, y_ax, c_ax]) \n",
    "fig"
   ]
  },
  {
   "cell_type": "markdown",
   "metadata": {},
   "source": [
    "## Heatmap Dashboard with our UFO dataset.\n",
    "\n",
    "Now we are going to use our heatmap idea to plot this data again. Note this will shmear out a lot of the nice map stuff we see above since we will be binning in lat/long. Don't worry!  We'll talk about making maps in the 2nd part of class. \n",
    "\n",
    "What should we color by?  Lets do by duration again.\n",
    "\n",
    "To get this to work with our heatmap, we're going to have to do some rebinning. Right now, our data is all in 1 long list we need to rebin things in a 2d histogram where the x axis is longitude & y is latitude.\n",
    "\n",
    "There are a few ways to do this, we'll use numpy to do our binning and use this as input into `bqplot.GridHeatMap`.  Before that, we can get a sense of what we think things will look like using matplotlib's `hist2d`.  We'll use the siting duration as *weights* into our histogram - so bins that have several long sitings will be counted as significant as well as bins that have multiple short sitings:"
   ]
  },
  {
   "cell_type": "code",
   "execution_count": 11,
   "metadata": {},
   "outputs": [
    {
     "data": {
      "image/png": "[encoded data removed]",
      "text/plain": [
       "<Figure size 432x288 with 2 Axes>"
      ]
     },
     "metadata": {
      "needs_background": "light"
     },
     "output_type": "display_data"
    }
   ],
   "source": [
    "plt.hist2d(ufos['longitude'], ufos['latitude'], weights=ufos['duration_seconds'], bins=20, cmap='RdPu')\n",
    "cb = plt.colorbar()\n",
    "cb.set_label('counts in bin')"
   ]
  },
  {
   "cell_type": "markdown",
   "metadata": {},
   "source": [
    "Note that here I am using the whole UFO dataset again, since we are rebinning anyway.  Feel free to use `ufoDS` if it works better on your computer."
   ]
  },
  {
   "cell_type": "markdown",
   "metadata": {},
   "source": [
    "Again, we know that the duration should be log scaled, and we can do that with the `SymLogNorm` color scale in matplotlib if we want:"
   ]
  },
  {
   "cell_type": "code",
   "execution_count": 12,
   "metadata": {},
   "outputs": [
    {
     "data": {
      "image/png": "[encoded data removed]",
      "text/plain": [
       "<Figure size 432x288 with 2 Axes>"
      ]
     },
     "metadata": {
      "needs_background": "light"
     },
     "output_type": "display_data"
    }
   ],
   "source": [
    "import matplotlib.colors as mpl_colors\n",
    "plt.hist2d(ufos['longitude'], ufos['latitude'], weights=ufos['duration_seconds'], \n",
    "           bins=20, cmap='RdPu', norm = mpl_colors.SymLogNorm(10))\n",
    "cb = plt.colorbar()\n",
    "cb.set_label('counts in bin')"
   ]
  },
  {
   "cell_type": "markdown",
   "metadata": {},
   "source": [
    "Now this is starting to look a bit more like our scatter plot, but we can more easily make out areas of long duration (like in the US).  Ok, we want to incorporate interactivity, so let's use the `bqplot` engine + our ideas of the heatmap marks that we used last time to create our own clickable map.\n",
    "\n",
    "Let's use `numpy`'s 2d histogram function to do that for us:"
   ]
  },
  {
   "cell_type": "code",
   "execution_count": 13,
   "metadata": {
    "scrolled": true
   },
   "outputs": [
    {
     "data": {
      "text/plain": [
       "array([[0.00000000e+00, 0.00000000e+00, 0.00000000e+00, 0.00000000e+00,\n",
       "        0.00000000e+00, 0.00000000e+00, 0.00000000e+00, 0.00000000e+00,\n",
       "        1.80000000e+03, 0.00000000e+00, 0.00000000e+00, 0.00000000e+00,\n",
       "        0.00000000e+00, 4.70640000e+04, 0.00000000e+00, 0.00000000e+00,\n",
       "        0.00000000e+00, 1.20300000e+03, 7.37100000e+03, 3.70000000e+03],\n",
       "       [0.00000000e+00, 0.00000000e+00, 0.00000000e+00, 0.00000000e+00,\n",
       "        0.00000000e+00, 0.00000000e+00, 0.00000000e+00, 0.00000000e+00,\n",
       "        1.50000000e+01, 0.00000000e+00, 0.00000000e+00, 0.00000000e+00,\n",
       "        0.00000000e+00, 6.75425400e+06, 0.00000000e+00, 0.00000000e+00,\n",
       "        0.00000000e+00, 0.00000000e+00, 9.63978000e+05, 5.10500000e+03],\n",
       "       [2.00000000e+00, 0.00000000e+00, 0.00000000e+00, 0.00000000e+00,\n",
       "        0.00000000e+00, 0.00000000e+00, 0.00000000e+00, 0.00000000e+00,\n",
       "        0.00000000e+00, 8.78160000e+04, 0.00000000e+00, 0.00000000e+00,\n",
       "        0.00000000e+00, 0.00000000e+00, 0.00000000e+00, 4.74493000e+05,\n",
       "        1.28508831e+06, 4.91300000e+05, 9.89250000e+04, 2.26200000e+04],\n",
       "       [0.00000000e+00, 0.00000000e+00, 0.00000000e+00, 0.00000000e+00,\n",
       "        0.00000000e+00, 0.00000000e+00, 0.00000000e+00, 1.00000000e+00,\n",
       "        0.00000000e+00, 0.00000000e+00, 0.00000000e+00, 0.00000000e+00,\n",
       "        0.00000000e+00, 6.35797000e+05, 2.87622208e+07, 3.54044364e+07,\n",
       "        6.28236612e+07, 1.00635500e+06, 5.77100000e+03, 0.00000000e+00],\n",
       "       [0.00000000e+00, 0.00000000e+00, 0.00000000e+00, 0.00000000e+00,\n",
       "        0.00000000e+00, 0.00000000e+00, 0.00000000e+00, 0.00000000e+00,\n",
       "        0.00000000e+00, 0.00000000e+00, 3.00000000e+01, 0.00000000e+00,\n",
       "        3.60830000e+04, 3.59955000e+05, 1.88657418e+07, 9.50278891e+07,\n",
       "        6.11220969e+06, 7.07408000e+05, 6.45000000e+02, 0.00000000e+00],\n",
       "       [0.00000000e+00, 0.00000000e+00, 0.00000000e+00, 0.00000000e+00,\n",
       "        0.00000000e+00, 6.00000000e+01, 1.77155100e+04, 0.00000000e+00,\n",
       "        4.22200000e+03, 6.31242000e+06, 4.30800000e+03, 3.72908800e+04,\n",
       "        1.21576500e+06, 5.15448200e+05, 6.78530713e+07, 7.27040887e+07,\n",
       "        1.53348520e+08, 2.02530000e+04, 3.00000000e+01, 4.50000000e+01],\n",
       "       [0.00000000e+00, 0.00000000e+00, 0.00000000e+00, 0.00000000e+00,\n",
       "        0.00000000e+00, 3.70000000e+02, 9.12210000e+04, 1.26450000e+04,\n",
       "        3.18560000e+04, 0.00000000e+00, 2.42000000e+03, 7.77000000e+03,\n",
       "        5.10860000e+04, 6.33667000e+05, 7.40500000e+03, 1.88000000e+03,\n",
       "        8.92232000e+05, 3.73700000e+03, 0.00000000e+00, 0.00000000e+00],\n",
       "       [0.00000000e+00, 0.00000000e+00, 0.00000000e+00, 0.00000000e+00,\n",
       "        0.00000000e+00, 0.00000000e+00, 1.05000000e+03, 7.48120000e+04,\n",
       "        4.16230000e+04, 1.98900000e+04, 4.20000000e+02, 0.00000000e+00,\n",
       "        0.00000000e+00, 0.00000000e+00, 0.00000000e+00, 1.83000000e+03,\n",
       "        0.00000000e+00, 0.00000000e+00, 3.00000000e+02, 0.00000000e+00],\n",
       "       [0.00000000e+00, 0.00000000e+00, 0.00000000e+00, 0.00000000e+00,\n",
       "        0.00000000e+00, 0.00000000e+00, 0.00000000e+00, 0.00000000e+00,\n",
       "        2.78630000e+04, 0.00000000e+00, 0.00000000e+00, 0.00000000e+00,\n",
       "        3.96000000e+03, 0.00000000e+00, 1.20000000e+02, 9.30000000e+01,\n",
       "        0.00000000e+00, 0.00000000e+00, 7.89300000e+03, 6.00000000e+03],\n",
       "       [0.00000000e+00, 0.00000000e+00, 0.00000000e+00, 0.00000000e+00,\n",
       "        0.00000000e+00, 0.00000000e+00, 0.00000000e+00, 0.00000000e+00,\n",
       "        9.00000000e+02, 0.00000000e+00, 0.00000000e+00, 5.00000000e+00,\n",
       "        0.00000000e+00, 0.00000000e+00, 1.02010000e+04, 5.61210000e+04,\n",
       "        5.47800000e+03, 1.26257935e+08, 3.18400000e+04, 0.00000000e+00],\n",
       "       [0.00000000e+00, 0.00000000e+00, 0.00000000e+00, 0.00000000e+00,\n",
       "        0.00000000e+00, 0.00000000e+00, 1.09010000e+04, 1.56000000e+03,\n",
       "        0.00000000e+00, 0.00000000e+00, 6.00000000e+01, 6.27000000e+03,\n",
       "        0.00000000e+00, 0.00000000e+00, 1.80000000e+02, 7.47150000e+04,\n",
       "        9.65608500e+06, 2.93482580e+06, 4.12235000e+04, 2.16800000e+03],\n",
       "       [0.00000000e+00, 0.00000000e+00, 0.00000000e+00, 0.00000000e+00,\n",
       "        0.00000000e+00, 0.00000000e+00, 4.79700000e+04, 2.72000000e+04,\n",
       "        7.28000000e+03, 0.00000000e+00, 4.20000000e+02, 0.00000000e+00,\n",
       "        0.00000000e+00, 3.72000000e+03, 7.04730000e+04, 2.69006700e+06,\n",
       "        5.97460000e+04, 2.63280000e+04, 7.25901000e+03, 4.80000000e+02],\n",
       "       [0.00000000e+00, 0.00000000e+00, 0.00000000e+00, 0.00000000e+00,\n",
       "        0.00000000e+00, 0.00000000e+00, 0.00000000e+00, 0.00000000e+00,\n",
       "        0.00000000e+00, 4.00000000e+00, 1.26693000e+04, 2.74500000e+03,\n",
       "        1.20000000e+02, 1.49500000e+03, 6.19925000e+05, 6.34558600e+06,\n",
       "        3.35000000e+02, 4.65000000e+02, 0.00000000e+00, 0.00000000e+00],\n",
       "       [0.00000000e+00, 0.00000000e+00, 0.00000000e+00, 0.00000000e+00,\n",
       "        0.00000000e+00, 0.00000000e+00, 0.00000000e+00, 0.00000000e+00,\n",
       "        1.11500000e+03, 0.00000000e+00, 0.00000000e+00, 0.00000000e+00,\n",
       "        0.00000000e+00, 9.06200000e+03, 6.12000000e+03, 1.23500000e+04,\n",
       "        1.83300000e+03, 1.20000000e+03, 0.00000000e+00, 0.00000000e+00],\n",
       "       [0.00000000e+00, 0.00000000e+00, 0.00000000e+00, 0.00000000e+00,\n",
       "        0.00000000e+00, 0.00000000e+00, 6.06500000e+03, 0.00000000e+00,\n",
       "        0.00000000e+00, 0.00000000e+00, 9.00000000e+01, 2.46850000e+04,\n",
       "        6.24540000e+04, 4.09906000e+05, 2.72113200e+06, 1.80000000e+02,\n",
       "        1.05000000e+04, 1.00000000e+01, 0.00000000e+00, 0.00000000e+00],\n",
       "       [0.00000000e+00, 0.00000000e+00, 0.00000000e+00, 0.00000000e+00,\n",
       "        0.00000000e+00, 0.00000000e+00, 0.00000000e+00, 0.00000000e+00,\n",
       "        0.00000000e+00, 8.55000000e+02, 5.68070000e+04, 3.29310000e+04,\n",
       "        3.43550000e+04, 7.74800000e+03, 2.46500000e+03, 1.20000000e+03,\n",
       "        1.80000000e+02, 0.00000000e+00, 0.00000000e+00, 0.00000000e+00],\n",
       "       [0.00000000e+00, 0.00000000e+00, 0.00000000e+00, 0.00000000e+00,\n",
       "        0.00000000e+00, 0.00000000e+00, 7.82235000e+04, 1.41000000e+03,\n",
       "        0.00000000e+00, 2.62000000e+02, 1.59050000e+04, 5.27311300e+06,\n",
       "        5.70430000e+04, 1.50990000e+04, 1.42420000e+04, 2.18490000e+04,\n",
       "        2.54000000e+02, 0.00000000e+00, 0.00000000e+00, 0.00000000e+00],\n",
       "       [0.00000000e+00, 0.00000000e+00, 0.00000000e+00, 0.00000000e+00,\n",
       "        0.00000000e+00, 4.02105000e+03, 3.74460000e+04, 1.27389600e+06,\n",
       "        3.00000000e+01, 1.36700000e+03, 0.00000000e+00, 7.32000000e+03,\n",
       "        0.00000000e+00, 4.20000000e+02, 5.29100000e+03, 2.79550000e+04,\n",
       "        1.22000000e+02, 0.00000000e+00, 0.00000000e+00, 0.00000000e+00],\n",
       "       [0.00000000e+00, 0.00000000e+00, 0.00000000e+00, 0.00000000e+00,\n",
       "        0.00000000e+00, 8.65800000e+04, 5.28249450e+05, 3.87328000e+05,\n",
       "        1.93230000e+04, 1.08000000e+04, 3.00000000e+00, 0.00000000e+00,\n",
       "        9.00000000e+02, 0.00000000e+00, 0.00000000e+00, 0.00000000e+00,\n",
       "        0.00000000e+00, 6.00000000e+01, 0.00000000e+00, 0.00000000e+00],\n",
       "       [0.00000000e+00, 0.00000000e+00, 0.00000000e+00, 0.00000000e+00,\n",
       "        7.20010000e+01, 8.43470000e+04, 2.18700000e+04, 0.00000000e+00,\n",
       "        3.61000000e+03, 0.00000000e+00, 0.00000000e+00, 0.00000000e+00,\n",
       "        0.00000000e+00, 0.00000000e+00, 0.00000000e+00, 0.00000000e+00,\n",
       "        0.00000000e+00, 0.00000000e+00, 0.00000000e+00, 0.00000000e+00]])"
      ]
     },
     "execution_count": 13,
     "metadata": {},
     "output_type": "execute_result"
    }
   ],
   "source": [
    "# ***START WITH 10 EACH**\n",
    "nlong = 20 \n",
    "nlat = 20\n",
    "\n",
    "#(1)\n",
    "hist2d, long_edges, lat_edges = np.histogram2d(ufos['longitude'], \n",
    "                                               ufos['latitude'], \n",
    "                                               weights=ufos['duration_seconds'], \n",
    "                                              bins=[nlong,nlat])\n",
    "\n",
    "# this returns the TOTAL duration of ufo events in each bin\n",
    "# Let's take a quick look at this data\n",
    "hist2d"
   ]
  },
  {
   "cell_type": "code",
   "execution_count": 14,
   "metadata": {},
   "outputs": [
    {
     "data": {
      "text/plain": [
       "(153348519.88, 0.0)"
      ]
     },
     "execution_count": 14,
     "metadata": {},
     "output_type": "execute_result"
    }
   ],
   "source": [
    "hist2d.max(), hist2d.min() # a pretty big range!"
   ]
  },
  {
   "cell_type": "markdown",
   "metadata": {},
   "source": [
    "Let's take a quick look at this with `imshow` in `matplotlib`:"
   ]
  },
  {
   "cell_type": "code",
   "execution_count": 15,
   "metadata": {},
   "outputs": [
    {
     "data": {
      "text/plain": [
       "<matplotlib.image.AxesImage at 0x7fef80d6c310>"
      ]
     },
     "execution_count": 15,
     "metadata": {},
     "output_type": "execute_result"
    },
    {
     "data": {
      "image/png": "[encoded data removed]",
      "text/plain": [
       "<Figure size 432x288 with 1 Axes>"
      ]
     },
     "metadata": {
      "needs_background": "light"
     },
     "output_type": "display_data"
    }
   ],
   "source": [
    "plt.imshow(hist2d, cmap='RdPu', norm = mpl_colors.SymLogNorm(10))"
   ]
  },
  {
   "cell_type": "markdown",
   "metadata": {},
   "source": [
    "Note that the x/y labels are just the bin indicies.  But even so, we can see that this is rotated to what we want to acutally plot!  \n",
    "\n",
    "Different methods of histogramming will give you different shaped outputs.  Worse still, depending on what viz engine you're using, it expects different orientations of the data going in!  My suggestion is to experiement and make sure you're data is in the correct orientation by plotting it a few times.\n",
    "\n",
    "For `bqplot`, we actually want our orientation to be *upsidedown* which we can get by taking the transpose of `hist2d`:"
   ]
  },
  {
   "cell_type": "code",
   "execution_count": 16,
   "metadata": {},
   "outputs": [
    {
     "data": {
      "text/plain": [
       "<matplotlib.image.AxesImage at 0x7fef50810810>"
      ]
     },
     "execution_count": 16,
     "metadata": {},
     "output_type": "execute_result"
    },
    {
     "data": {
      "image/png": "[encoded data removed]",
      "text/plain": [
       "<Figure size 432x288 with 1 Axes>"
      ]
     },
     "metadata": {
      "needs_background": "light"
     },
     "output_type": "display_data"
    }
   ],
   "source": [
    "plt.imshow(hist2d.T, cmap='RdPu', norm = mpl_colors.SymLogNorm(10))"
   ]
  },
  {
   "cell_type": "markdown",
   "metadata": {},
   "source": [
    "Ok, let's make our histogramming more complex.  \n",
    "\n",
    "As an aside: we want to treat the histogram as a probability instead of a total weighted count:"
   ]
  },
  {
   "cell_type": "code",
   "execution_count": 17,
   "metadata": {},
   "outputs": [
    {
     "data": {
      "text/plain": [
       "(0.0015329854771788194, 0.0)"
      ]
     },
     "execution_count": 17,
     "metadata": {},
     "output_type": "execute_result"
    }
   ],
   "source": [
    "hist2d, long_edges, lat_edges = np.histogram2d(ufos['longitude'], \n",
    "                                               ufos['latitude'], \n",
    "                                               weights=ufos['duration_seconds'],\n",
    "                                              density=True, \n",
    "                                              bins = [nlong,nlat])\n",
    "hist2d.max(), hist2d.min()"
   ]
  },
  {
   "cell_type": "markdown",
   "metadata": {},
   "source": [
    "What are the shapes of the different outputs here?"
   ]
  },
  {
   "cell_type": "code",
   "execution_count": 18,
   "metadata": {},
   "outputs": [
    {
     "data": {
      "text/plain": [
       "((20, 20), (21,), (21,))"
      ]
     },
     "execution_count": 18,
     "metadata": {},
     "output_type": "execute_result"
    }
   ],
   "source": [
    "hist2d.shape, long_edges.shape, lat_edges.shape"
   ]
  },
  {
   "cell_type": "markdown",
   "metadata": {},
   "source": [
    "Note that the long/lat edges have 1 more count than the histogram size.  This is because they are indeed edges.  To get bin centers, which is what we want to do for plotting we can do:"
   ]
  },
  {
   "cell_type": "code",
   "execution_count": 19,
   "metadata": {},
   "outputs": [
    {
     "data": {
      "text/plain": [
       "array([-167.78055671, -150.02555893, -132.27056115, -114.51556337,\n",
       "        -96.76056559,  -79.00556781,  -61.25057003,  -43.49557225,\n",
       "        -25.74057447,   -7.98557669,    9.76942109,   27.52441887,\n",
       "         45.27941665,   63.03441443,   80.78941221,   98.54440999,\n",
       "        116.29940777,  134.05440555,  151.80940333,  169.56440111])"
      ]
     },
     "execution_count": 19,
     "metadata": {},
     "output_type": "execute_result"
    }
   ],
   "source": [
    "long_centers = (long_edges[:-1] + long_edges[1:]) / 2\n",
    "long_centers"
   ]
  },
  {
   "cell_type": "code",
   "execution_count": 20,
   "metadata": {},
   "outputs": [
    {
     "data": {
      "text/plain": [
       "array([-78.9736832, -71.1955456, -63.417408 , -55.6392704, -47.8611328,\n",
       "       -40.0829952, -32.3048576, -24.52672  , -16.7485824,  -8.9704448,\n",
       "        -1.1923072,   6.5858304,  14.363968 ,  22.1421056,  29.9202432,\n",
       "        37.6983808,  45.4765184,  53.254656 ,  61.0327936,  68.8109312])"
      ]
     },
     "execution_count": 20,
     "metadata": {},
     "output_type": "execute_result"
    }
   ],
   "source": [
    "lat_centers = (lat_edges[:-1] + lat_edges[1:]) / 2\n",
    "lat_centers"
   ]
  },
  {
   "cell_type": "markdown",
   "metadata": {},
   "source": [
    "We might want to control where our bins are, we can do this by specifying bin edges ourselves:"
   ]
  },
  {
   "cell_type": "code",
   "execution_count": 21,
   "metadata": {},
   "outputs": [
    {
     "name": "stdout",
     "output_type": "stream",
     "text": [
      "[-150. -135. -120. -105.  -90.  -75.  -60.  -45.  -30.  -15.    0.   15.\n",
      "   30.   45.   60.   75.   90.  105.  120.  135.  150.] (21,)\n",
      "[-40.  -34.5 -29.  -23.5 -18.  -12.5  -7.   -1.5   4.    9.5  15.   20.5\n",
      "  26.   31.5  37.   42.5  48.   53.5  59.   64.5  70. ] (21,)\n"
     ]
    }
   ],
   "source": [
    "long_bins = np.linspace(-150, 150, nlong+1)\n",
    "lat_bins = np.linspace(-40, 70, nlat+1)\n",
    "print(long_bins, long_bins.shape)\n",
    "print(lat_bins, lat_bins.shape)"
   ]
  },
  {
   "cell_type": "markdown",
   "metadata": {},
   "source": [
    "Let's take these bins as our inputs and regenerate our histogram:"
   ]
  },
  {
   "cell_type": "code",
   "execution_count": 22,
   "metadata": {},
   "outputs": [],
   "source": [
    "hist2d, long_edges, lat_edges = np.histogram2d(ufos['longitude'], \n",
    "                                               ufos['latitude'], \n",
    "                                               weights=ufos['duration_seconds'],\n",
    "                                              bins = [long_bins,lat_bins])"
   ]
  },
  {
   "cell_type": "markdown",
   "metadata": {},
   "source": [
    "And grab our centers of lat and long for plotting as well:"
   ]
  },
  {
   "cell_type": "code",
   "execution_count": 23,
   "metadata": {},
   "outputs": [],
   "source": [
    "long_centers = (long_edges[:-1] + long_edges[1:]) / 2\n",
    "lat_centers = (lat_edges[:-1] + lat_edges[1:]) / 2"
   ]
  },
  {
   "cell_type": "markdown",
   "metadata": {},
   "source": [
    "We know that we want to input this into `bqplot`'s grid heatmap, so we need to take the transpose:"
   ]
  },
  {
   "cell_type": "code",
   "execution_count": 24,
   "metadata": {},
   "outputs": [],
   "source": [
    "hist2d = hist2d.T"
   ]
  },
  {
   "cell_type": "markdown",
   "metadata": {},
   "source": [
    "What is the range of values in our plot?"
   ]
  },
  {
   "cell_type": "code",
   "execution_count": 25,
   "metadata": {},
   "outputs": [
    {
     "data": {
      "text/plain": [
       "(0.0, 125056847.51, 1.0)"
      ]
     },
     "execution_count": 25,
     "metadata": {},
     "output_type": "execute_result"
    }
   ],
   "source": [
    "hist2d.min(), hist2d.max(), hist2d[hist2d>0].min() # this is the *total duration* of sitings in a bin"
   ]
  },
  {
   "cell_type": "markdown",
   "metadata": {},
   "source": [
    "We still have a big range in count values because we weighted by the non-log duration above.  So we'll instead take the log of our output histogram.\n",
    "\n",
    "For aesthetic value, we want to have areas where there are no counts (like the ocean) show up as zero.  We can do that by a little trick -- setting the 0 values to `NaN`.  We will then take the log for color scaling:"
   ]
  },
  {
   "cell_type": "code",
   "execution_count": 26,
   "metadata": {},
   "outputs": [
    {
     "name": "stderr",
     "output_type": "stream",
     "text": [
      "/Users/jillnaiman/opt/anaconda3/lib/python3.7/site-packages/ipykernel_launcher.py:1: RuntimeWarning: divide by zero encountered in log10\n",
      "  \"\"\"Entry point for launching an IPython kernel.\n"
     ]
    },
    {
     "data": {
      "text/plain": [
       "-inf"
      ]
     },
     "execution_count": 26,
     "metadata": {},
     "output_type": "execute_result"
    }
   ],
   "source": [
    "np.log10(hist2d).min()"
   ]
  },
  {
   "cell_type": "markdown",
   "metadata": {},
   "source": [
    "The above gives us an error which can mess up our color maps.  So we act tricky:"
   ]
  },
  {
   "cell_type": "code",
   "execution_count": 27,
   "metadata": {},
   "outputs": [],
   "source": [
    "hist2d[hist2d <= 0] = np.nan # set zeros to NaNs\n",
    "# then take log\n",
    "hist2d = np.log10(hist2d)\n",
    "#hist2d[0:10]"
   ]
  },
  {
   "cell_type": "markdown",
   "metadata": {},
   "source": [
    "Now that we have all that fancy binning out of the way, lets proceed as normal:"
   ]
  },
  {
   "cell_type": "code",
   "execution_count": 28,
   "metadata": {},
   "outputs": [
    {
     "data": {
      "application/vnd.jupyter.widget-view+json": {
       "model_id": "e30ed558ed4448189f0798082cc7a510",
       "version_major": 2,
       "version_minor": 0
      },
      "text/plain": [
       "Figure(axes=[ColorAxis(orientation='vertical', scale=ColorScale(max=8.09710747658943, min=0.0, scheme='RdPu'),…"
      ]
     },
     "metadata": {},
     "output_type": "display_data"
    }
   ],
   "source": [
    "# (1) add scales - colors, x & y\n",
    "col_sc = bqplot.ColorScale(scheme=\"RdPu\", \n",
    "                           min=np.nanmin(hist2d), \n",
    "                           max=np.nanmax(hist2d))\n",
    "x_sc = bqplot.LinearScale()\n",
    "y_sc = bqplot.LinearScale()\n",
    "\n",
    "# (2) create axis - for colors, x & y\n",
    "c_ax = bqplot.ColorAxis(scale = col_sc, \n",
    "                        orientation = 'vertical', \n",
    "                        side = 'right')\n",
    "\n",
    "x_ax = bqplot.Axis(scale = x_sc, label='Longitude')\n",
    "y_ax = bqplot.Axis(scale = y_sc, \n",
    "                   orientation = 'vertical', \n",
    "                   label = 'Latitude')\n",
    "\n",
    "# (3) Marks\n",
    "heat_map = bqplot.GridHeatMap(color = hist2d,\n",
    "                              row = lat_centers, \n",
    "                              column = long_centers,\n",
    "                              scales = {'color': col_sc,\n",
    "                                        'row': y_sc,\n",
    "                                        'column': x_sc},\n",
    "                              interactions = {'click': 'select'},\n",
    "                              anchor_style = {'fill':'blue'}, \n",
    "                              selected_style = {'opacity': 1.0},\n",
    "                              unselected_style = {'opacity': 1.0})\n",
    "\n",
    "# (4) interactivity - none yet\n",
    "\n",
    "# (5) put it all together in a figure\n",
    "fig = bqplot.Figure(marks = [heat_map], axes = [c_ax, y_ax, x_ax])\n",
    "fig"
   ]
  },
  {
   "cell_type": "markdown",
   "metadata": {},
   "source": [
    "Let's start building up our dashboard like before.  One easy thing we can do is add a label:"
   ]
  },
  {
   "cell_type": "code",
   "execution_count": 29,
   "metadata": {},
   "outputs": [
    {
     "data": {
      "application/vnd.jupyter.widget-view+json": {
       "model_id": "fb56f1b252f54d118762de5749ddcb1d",
       "version_major": 2,
       "version_minor": 0
      },
      "text/plain": [
       "VBox(children=(Label(value=''), Figure(axes=[ColorAxis(orientation='vertical', scale=ColorScale(max=8.09710747…"
      ]
     },
     "metadata": {},
     "output_type": "display_data"
    }
   ],
   "source": [
    "# (1) add scales - colors, x & y\n",
    "col_sc = bqplot.ColorScale(scheme=\"RdPu\", \n",
    "                           min=np.nanmin(hist2d), \n",
    "                           max=np.nanmax(hist2d))\n",
    "x_sc = bqplot.LinearScale()\n",
    "y_sc = bqplot.LinearScale()\n",
    "\n",
    "# (2) create axis - for colors, x & y\n",
    "c_ax = bqplot.ColorAxis(scale = col_sc, \n",
    "                        orientation = 'vertical', \n",
    "                        side = 'right')\n",
    "\n",
    "x_ax = bqplot.Axis(scale = x_sc, label='Longitude')\n",
    "y_ax = bqplot.Axis(scale = y_sc, \n",
    "                   orientation = 'vertical', \n",
    "                   label = 'Latitude')\n",
    "\n",
    "# (3) Marks\n",
    "heat_map = bqplot.GridHeatMap(color = hist2d,\n",
    "                              row = lat_centers, \n",
    "                              column = long_centers,\n",
    "                              scales = {'color': col_sc,\n",
    "                                        'row': y_sc,\n",
    "                                        'column': x_sc},\n",
    "                              interactions = {'click': 'select'},\n",
    "                              anchor_style = {'fill':'blue'}, \n",
    "                              selected_style = {'opacity': 1.0},\n",
    "                              unselected_style = {'opacity': 1.0})\n",
    "\n",
    "# (4) interactivity - label\n",
    "mySelectedLabel = ipywidgets.Label()\n",
    "def get_data_value(change):\n",
    "    if len(change['owner'].selected) == 1: #only 1 selected\n",
    "        i,j = change['owner'].selected[0]\n",
    "        v = hist2d[i,j] # grab data value\n",
    "        mySelectedLabel.value = 'Total duration in log(sec) = ' + str(v) # set our label\n",
    "    \n",
    "# make sure we check out     \n",
    "heat_map.observe(get_data_value, 'selected')\n",
    "\n",
    "\n",
    "# (5) put it all together in a figure\n",
    "fig = bqplot.Figure(marks = [heat_map], axes = [c_ax, y_ax, x_ax])\n",
    "myDashboard = ipywidgets.VBox([mySelectedLabel,fig])\n",
    "myDashboard"
   ]
  },
  {
   "cell_type": "markdown",
   "metadata": {},
   "source": [
    "Let's also include information about the duration as a function of date in a particular bin on another plot -- a scatter plot this time.  Let's first start by making this plot alone before putting it into our dashboard."
   ]
  },
  {
   "cell_type": "code",
   "execution_count": 30,
   "metadata": {},
   "outputs": [],
   "source": [
    "import datetime as dt # we'll use this to format our dates all fancy like"
   ]
  },
  {
   "cell_type": "markdown",
   "metadata": {},
   "source": [
    "#1: Now let's make our scales.  We'll start with a new `bqplot` scale called `DateScale`:"
   ]
  },
  {
   "cell_type": "code",
   "execution_count": 31,
   "metadata": {},
   "outputs": [],
   "source": [
    "x_scl = bqplot.DateScale(min=dt.datetime(1950,1,1),max=dt.datetime(2020,1,1)) # note: for dates on x-axis"
   ]
  },
  {
   "cell_type": "markdown",
   "metadata": {},
   "source": [
    "Let's plot the duration on a log scale since we know that's probably what will look best based on the range of durations:"
   ]
  },
  {
   "cell_type": "code",
   "execution_count": 32,
   "metadata": {},
   "outputs": [],
   "source": [
    "y_scl = bqplot.LogScale()"
   ]
  },
  {
   "cell_type": "markdown",
   "metadata": {},
   "source": [
    "#2: Our axis:"
   ]
  },
  {
   "cell_type": "code",
   "execution_count": 33,
   "metadata": {},
   "outputs": [],
   "source": [
    "ax_xcl = bqplot.Axis(label='Date', scale=x_scl)\n",
    "ax_ycl = bqplot.Axis(label='Duration in Sec', scale=y_scl, \n",
    "                    orientation='vertical', side='left')"
   ]
  },
  {
   "cell_type": "markdown",
   "metadata": {},
   "source": [
    "#3: our marks, in this case a scatter plot\n",
    "\n",
    "Thinking ahead, we know that we want to select a 2d bin from our heatmap to then draw scatters for our scatter plot.  Let's write things in this way:"
   ]
  },
  {
   "cell_type": "code",
   "execution_count": 34,
   "metadata": {},
   "outputs": [],
   "source": [
    "i,j = 19,0 # picking an x/y bin -- this is one I know has a lot of data!"
   ]
  },
  {
   "cell_type": "markdown",
   "metadata": {},
   "source": [
    "Let's specify the range of longs & lats for this selection of x/y bin:"
   ]
  },
  {
   "cell_type": "code",
   "execution_count": 35,
   "metadata": {},
   "outputs": [],
   "source": [
    "longs = [long_edges[j], long_edges[j+1]] # min/max longitude\n",
    "lats = [lat_edges[i],lat_edges[i+1]] # min/max latitude"
   ]
  },
  {
   "cell_type": "markdown",
   "metadata": {},
   "source": [
    "Let's mask out a subset of the UFO dataset with *only* these ranges of longitude and latitude:"
   ]
  },
  {
   "cell_type": "code",
   "execution_count": 36,
   "metadata": {},
   "outputs": [
    {
     "data": {
      "text/plain": [
       "([64.5, 70.0], [-150.0, -135.0], 327      64.837778\n",
       " 2845     64.837778\n",
       " 3620     64.837778\n",
       " 4602     64.751111\n",
       " 6011     64.837778\n",
       "            ...    \n",
       " 77347    64.751111\n",
       " 77497    64.837778\n",
       " 78571    64.837778\n",
       " 79029    64.837778\n",
       " 79470    64.837778\n",
       " Name: latitude, Length: 74, dtype: float64)"
      ]
     },
     "execution_count": 36,
     "metadata": {},
     "output_type": "execute_result"
    }
   ],
   "source": [
    "region_mask = ( (ufos['latitude'] >= lats[0]) & (ufos['latitude']<=lats[1]) &\\\n",
    "                (ufos['longitude'] >= longs[0]) & (ufos['longitude']<=longs[1]) )\n",
    "\n",
    "# we can see this selects for the upper right point of our heatmap\n",
    "lats, longs, ufos['latitude'][region_mask]"
   ]
  },
  {
   "cell_type": "markdown",
   "metadata": {},
   "source": [
    "We won't add any interactivity to this plot -- the interactivity will be drawn from our heatmap, so all that is left to do is add in marks:"
   ]
  },
  {
   "cell_type": "markdown",
   "metadata": {},
   "source": [
    "#4: Marks"
   ]
  },
  {
   "cell_type": "code",
   "execution_count": 37,
   "metadata": {},
   "outputs": [],
   "source": [
    "# lets plot the durations as a function of year there\n",
    "duration_scatt = bqplot.Scatter(x = ufos['date'][region_mask],\n",
    "                               y = ufos['duration_seconds'][region_mask], \n",
    "                              scales={'x':x_scl, 'y':y_scl})"
   ]
  },
  {
   "cell_type": "markdown",
   "metadata": {},
   "source": [
    "#5: Put it all together and take a look!"
   ]
  },
  {
   "cell_type": "code",
   "execution_count": 38,
   "metadata": {},
   "outputs": [
    {
     "data": {
      "application/vnd.jupyter.widget-view+json": {
       "model_id": "42b5fc77e6534532b7d66332b5623d6c",
       "version_major": 2,
       "version_minor": 0
      },
      "text/plain": [
       "Figure(axes=[Axis(label='Date', scale=DateScale(max=datetime.datetime(2020, 1, 1, 0, 0), min=datetime.datetime…"
      ]
     },
     "metadata": {},
     "output_type": "display_data"
    }
   ],
   "source": [
    "fig_dur = bqplot.Figure(marks = [duration_scatt], axes = [ax_xcl, ax_ycl])\n",
    "fig_dur"
   ]
  },
  {
   "cell_type": "markdown",
   "metadata": {},
   "source": [
    "### Scatter plot + label driven by heatmap dashboard\n",
    "\n",
    "Let's put together our heatmap + label + scatter plot as a dashboard.  I'll recopy what we had before into some cells we can put together:"
   ]
  },
  {
   "cell_type": "code",
   "execution_count": 39,
   "metadata": {},
   "outputs": [],
   "source": [
    "# (I) CREATE LABEL\n",
    "mySelectedLabel = ipywidgets.Label()"
   ]
  },
  {
   "cell_type": "code",
   "execution_count": 40,
   "metadata": {},
   "outputs": [],
   "source": [
    "# (II) HEAT MAP\n",
    "\n",
    "# (1) add scales - colors, x & y\n",
    "col_sc = bqplot.ColorScale(scheme=\"RdPu\", \n",
    "                           min=np.nanmin(hist2d), \n",
    "                           max=np.nanmax(hist2d))\n",
    "x_sc = bqplot.LinearScale()\n",
    "y_sc = bqplot.LinearScale()\n",
    "\n",
    "# (2) create axis - for colors, x & y\n",
    "c_ax = bqplot.ColorAxis(scale = col_sc, \n",
    "                        orientation = 'vertical', \n",
    "                        side = 'right')\n",
    "\n",
    "x_ax = bqplot.Axis(scale = x_sc, label='Longitude')\n",
    "y_ax = bqplot.Axis(scale = y_sc, \n",
    "                   orientation = 'vertical', \n",
    "                   label = 'Latitude')\n",
    "\n",
    "# (3) Marks\n",
    "heat_map = bqplot.GridHeatMap(color = hist2d,\n",
    "                              row = lat_centers, \n",
    "                              column = long_centers,\n",
    "                              scales = {'color': col_sc,\n",
    "                                        'row': y_sc,\n",
    "                                        'column': x_sc},\n",
    "                              interactions = {'click': 'select'},\n",
    "                              anchor_style = {'fill':'blue'}, \n",
    "                              selected_style = {'opacity': 1.0},\n",
    "                              unselected_style = {'opacity': 1.0})\n",
    "\n",
    "# skipping 4 & 5 for now"
   ]
  },
  {
   "cell_type": "code",
   "execution_count": 41,
   "metadata": {},
   "outputs": [],
   "source": [
    "# (III) SCATTER PLOT\n",
    "\n",
    "# (1) scales\n",
    "x_scl = bqplot.DateScale(min=dt.datetime(1950,1,1),max=dt.datetime(2020,1,1)) # note: for dates on x-axis\n",
    "y_scl = bqplot.LogScale()\n",
    "\n",
    "# (2) Axis\n",
    "ax_xcl = bqplot.Axis(label='Date', scale=x_scl)\n",
    "ax_ycl = bqplot.Axis(label='Duration in Sec', scale=y_scl, \n",
    "                    orientation='vertical', side='left')\n",
    "\n",
    "# (3) Marks\n",
    "# NOTE: we'll start with some default value selected\n",
    "i,j = 19,0 # picking an x/y bin -- this is one I know has a lot of data!\n",
    "longs = [long_edges[j], long_edges[j+1]] # min/max longitude\n",
    "lats = [lat_edges[i],lat_edges[i+1]] # min/max latitude\n",
    "# lets plot the durations as a function of year there\n",
    "duration_scatt = bqplot.Scatter(x = ufos['date'][region_mask],\n",
    "                               y = ufos['duration_seconds'][region_mask], \n",
    "                              scales={'x':x_scl, 'y':y_scl})\n",
    "\n",
    "# skipping 4 & 5 for now"
   ]
  },
  {
   "cell_type": "code",
   "execution_count": 42,
   "metadata": {},
   "outputs": [],
   "source": [
    "# (IV) LINKING TOGETHER DASHBOARD WITH INTERACTIVITY\n",
    "\n",
    "def get_data_value(change):\n",
    "    if len(change['owner'].selected) == 1: #only 1 selected\n",
    "        i,j = change['owner'].selected[0]\n",
    "        v = hist2d[i,j] # grab data value\n",
    "        mySelectedLabel.value = 'Total duration in log(sec) = ' + str(v) # set our label\n",
    "        # now: for the scatter plot\n",
    "        longs = [long_edges[j], long_edges[j+1]]\n",
    "        lats = [lat_edges[i],lat_edges[i+1]]\n",
    "        region_mask = ( (ufos['latitude'] >= lats[0]) & (ufos['latitude']<=lats[1]) &\\\n",
    "                    (ufos['longitude'] >= longs[0]) & (ufos['longitude']<=longs[1]) )\n",
    "        duration_scatt.x = ufos['date'][region_mask]\n",
    "        duration_scatt.y = ufos['duration_seconds'][region_mask]\n",
    "\n",
    "heat_map.observe(get_data_value, 'selected')"
   ]
  },
  {
   "cell_type": "code",
   "execution_count": 43,
   "metadata": {},
   "outputs": [],
   "source": [
    "# (5) create figures\n",
    "fig_heatmap = bqplot.Figure(marks = [heat_map], axes = [c_ax, y_ax, x_ax])\n",
    "fig_dur = bqplot.Figure(marks = [duration_scatt], axes = [ax_xcl, ax_ycl])"
   ]
  },
  {
   "cell_type": "code",
   "execution_count": 44,
   "metadata": {},
   "outputs": [
    {
     "data": {
      "application/vnd.jupyter.widget-view+json": {
       "model_id": "b56d4cb2a8ce4072ad22d8a26d7cbd22",
       "version_major": 2,
       "version_minor": 0
      },
      "text/plain": [
       "VBox(children=(Label(value=''), HBox(children=(Figure(axes=[ColorAxis(orientation='vertical', scale=ColorScale…"
      ]
     },
     "metadata": {},
     "output_type": "display_data"
    }
   ],
   "source": [
    "# since we know from last time we wanna make our figs a bit bigger:\n",
    "fig_heatmap.layout.min_width='500px'\n",
    "fig_dur.layout.min_width='500px'\n",
    "\n",
    "myDashboard = ipywidgets.VBox([mySelectedLabel, ipywidgets.HBox([fig_heatmap,fig_dur])])\n",
    "myDashboard"
   ]
  },
  {
   "cell_type": "markdown",
   "metadata": {},
   "source": [
    "Note that when I select a deep purple place, my scatter plot is very laggy, this makes me think we should do this with a histogram/bar type plot.  So let's try that below, by augmenting our creation of our dashboard:"
   ]
  },
  {
   "cell_type": "code",
   "execution_count": 45,
   "metadata": {},
   "outputs": [],
   "source": [
    "# Below hasn't changed:\n",
    "\n",
    "# (I) CREATE LABEL\n",
    "mySelectedLabel = ipywidgets.Label()\n",
    "\n",
    "# (II) HEAT MAP\n",
    "\n",
    "# (1) add scales - colors, x & y\n",
    "col_sc = bqplot.ColorScale(scheme=\"RdPu\", \n",
    "                           min=np.nanmin(hist2d), \n",
    "                           max=np.nanmax(hist2d))\n",
    "x_sc = bqplot.LinearScale()\n",
    "y_sc = bqplot.LinearScale()\n",
    "\n",
    "# (2) create axis - for colors, x & y\n",
    "c_ax = bqplot.ColorAxis(scale = col_sc, \n",
    "                        orientation = 'vertical', \n",
    "                        side = 'right')\n",
    "\n",
    "x_ax = bqplot.Axis(scale = x_sc, label='Longitude')\n",
    "y_ax = bqplot.Axis(scale = y_sc, \n",
    "                   orientation = 'vertical', \n",
    "                   label = 'Latitude')\n",
    "\n",
    "# (3) Marks\n",
    "heat_map = bqplot.GridHeatMap(color = hist2d,\n",
    "                              row = lat_centers, \n",
    "                              column = long_centers,\n",
    "                              scales = {'color': col_sc,\n",
    "                                        'row': y_sc,\n",
    "                                        'column': x_sc},\n",
    "                              interactions = {'click': 'select'},\n",
    "                              anchor_style = {'fill':'blue'}, \n",
    "                              selected_style = {'opacity': 1.0},\n",
    "                              unselected_style = {'opacity': 1.0})\n",
    "\n",
    "# skipping 4 & 5 for now"
   ]
  },
  {
   "cell_type": "markdown",
   "metadata": {},
   "source": [
    "Let's use a `Bar` mark from `bqplot` to plot duration as a function of time:"
   ]
  },
  {
   "cell_type": "code",
   "execution_count": 46,
   "metadata": {},
   "outputs": [],
   "source": [
    "# (II) BAR PLOT\n",
    "\n",
    "# (1-2) scales & ax in usual way\n",
    "x_scl = bqplot.LinearScale() # note we are back to linears\n",
    "y_scl = bqplot.LinearScale()\n",
    "ax_xcl = bqplot.Axis(label='Date', scale=x_scl)\n",
    "ax_ycl = bqplot.Axis(label='Total duration in Sec', scale=y_scl, \n",
    "                    orientation='vertical', side='left')\n",
    "\n",
    "# create the data mask for each binned region like we did before:\n",
    "i,j = 19,0\n",
    "longs = [long_edges[j], long_edges[j+1]]\n",
    "lats = [lat_edges[i],lat_edges[i+1]]\n",
    "region_mask = ( (ufos['latitude'] >= lats[0]) & (ufos['latitude']<=lats[1]) &\\\n",
    "                (ufos['longitude'] >= longs[0]) & (ufos['longitude']<=longs[1]) )"
   ]
  },
  {
   "cell_type": "markdown",
   "metadata": {},
   "source": [
    "Here, we'll use `numpy`'s histogram function (this time in 1D) to grab all of the *years* overwhich the durations occur.  We'll do a count of UFO sitings per binned year, weighted by the duration of sitings:"
   ]
  },
  {
   "cell_type": "code",
   "execution_count": 48,
   "metadata": {},
   "outputs": [
    {
     "data": {
      "text/plain": [
       "0       1949-10-10 20:30:00\n",
       "1       1949-10-10 21:00:00\n",
       "2       1955-10-10 17:00:00\n",
       "3       1956-10-10 21:00:00\n",
       "4       1960-10-10 20:00:00\n",
       "                ...        \n",
       "80327   2013-09-09 21:15:00\n",
       "80328   2013-09-09 22:00:00\n",
       "80329   2013-09-09 22:00:00\n",
       "80330   2013-09-09 22:20:00\n",
       "80331   2013-09-09 23:00:00\n",
       "Name: date, Length: 80332, dtype: datetime64[ns]"
      ]
     },
     "execution_count": 48,
     "metadata": {},
     "output_type": "execute_result"
    }
   ],
   "source": [
    "ufos['date']"
   ]
  },
  {
   "cell_type": "markdown",
   "metadata": {},
   "source": [
    "For nice formatting purposes, let's create a column that just has years:"
   ]
  },
  {
   "cell_type": "code",
   "execution_count": 49,
   "metadata": {},
   "outputs": [
    {
     "data": {
      "text/plain": [
       "0        1949\n",
       "1        1949\n",
       "2        1955\n",
       "3        1956\n",
       "4        1960\n",
       "         ... \n",
       "80327    2013\n",
       "80328    2013\n",
       "80329    2013\n",
       "80330    2013\n",
       "80331    2013\n",
       "Name: year, Length: 80332, dtype: int64"
      ]
     },
     "execution_count": 49,
     "metadata": {},
     "output_type": "execute_result"
    }
   ],
   "source": [
    "ufos['year'] = ufos['date'].dt.year\n",
    "ufos['year']"
   ]
  },
  {
   "cell_type": "code",
   "execution_count": 50,
   "metadata": {},
   "outputs": [],
   "source": [
    "# Histogram, weight by duration, 10 bins in years:\n",
    "dur, dur_edges = np.histogram(ufos['year'][region_mask],\n",
    "                              weights=ufos['duration_seconds'][region_mask],\n",
    "                              bins=10)"
   ]
  },
  {
   "cell_type": "markdown",
   "metadata": {},
   "source": [
    "Get bin centers:"
   ]
  },
  {
   "cell_type": "code",
   "execution_count": 51,
   "metadata": {},
   "outputs": [],
   "source": [
    "dur_centers = (dur_edges[:-1] + dur_edges[1:]) / 2"
   ]
  },
  {
   "cell_type": "markdown",
   "metadata": {},
   "source": [
    "Finally, create the marks for the bar-plot:"
   ]
  },
  {
   "cell_type": "code",
   "execution_count": 52,
   "metadata": {},
   "outputs": [],
   "source": [
    "duration_hist = bqplot.Bars(x=dur_centers, y=dur, \n",
    "                          scales={'x':x_scl, 'y':y_scl})"
   ]
  },
  {
   "cell_type": "markdown",
   "metadata": {},
   "source": [
    "#4: Now we can finally add some interactivity.  We have to be careful to not try to plot bars when there is no data in our selection."
   ]
  },
  {
   "cell_type": "code",
   "execution_count": 53,
   "metadata": {},
   "outputs": [],
   "source": [
    "def get_data_value(change):\n",
    "    if len(change['owner'].selected) == 1: #only 1 selected\n",
    "        i,j = change['owner'].selected[0]\n",
    "        v = hist2d[i,j] # grab data value\n",
    "        mySelectedLabel.value = 'Total duration in log(sec) = ' + str(v) # set our label\n",
    "        # Histogram:\n",
    "        longs = [long_edges[j], long_edges[j+1]]\n",
    "        lats = [lat_edges[i],lat_edges[i+1]]\n",
    "        region_mask = ( (ufos['latitude'] >= lats[0]) & (ufos['latitude']<=lats[1]) &\\\n",
    "                    (ufos['longitude'] >= longs[0]) & (ufos['longitude']<=longs[1]) )\n",
    "        if len(ufos['year'][region_mask]) > 0: # make sure point exist so no histogram errors!\n",
    "            dur, dur_edges = np.histogram(ufos['year'][region_mask],\n",
    "                                          weights=ufos['duration_seconds'][region_mask],\n",
    "                                          bins=10)\n",
    "            dur_centers = (dur_edges[:-1] + dur_edges[1:]) / 2\n",
    "            duration_hist.x = dur_centers\n",
    "            duration_hist.y = dur\n",
    "\n",
    "# make sure we connect to heatmap     \n",
    "heat_map.observe(get_data_value, 'selected')"
   ]
  },
  {
   "cell_type": "markdown",
   "metadata": {},
   "source": [
    "#5: Put the figures together:"
   ]
  },
  {
   "cell_type": "code",
   "execution_count": 54,
   "metadata": {},
   "outputs": [],
   "source": [
    "fig_heatmap = bqplot.Figure(marks = [heat_map], axes = [c_ax, y_ax, x_ax])\n",
    "fig_dur = bqplot.Figure(marks = [duration_hist], axes = [ax_xcl, ax_ycl])"
   ]
  },
  {
   "cell_type": "code",
   "execution_count": 55,
   "metadata": {},
   "outputs": [
    {
     "data": {
      "application/vnd.jupyter.widget-view+json": {
       "model_id": "a4df887c5cc04a758324fdb6a59eb1e0",
       "version_major": 2,
       "version_minor": 0
      },
      "text/plain": [
       "VBox(children=(Label(value=''), HBox(children=(Figure(axes=[ColorAxis(orientation='vertical', scale=ColorScale…"
      ]
     },
     "metadata": {},
     "output_type": "display_data"
    }
   ],
   "source": [
    "fig_heatmap.layout.min_width = '500px'\n",
    "fig_dur.layout.min_width = '500px'\n",
    "\n",
    "plots = ipywidgets.HBox([fig_heatmap,fig_dur])\n",
    "myDashboard = ipywidgets.VBox([mySelectedLabel, plots])\n",
    "myDashboard"
   ]
  },
  {
   "cell_type": "markdown",
   "metadata": {},
   "source": [
    "So, this is much more reactive than what we had before, while still keeping a lot of the same transfer of information.  Arguably, this is an even *clearer* representation of what we are interested in.\n",
    "\n",
    "Bonus things to think about: \n",
    "* how would you keep the same time range across all plots\n",
    "* how would you plot multiple bar selections on the same set of axis?  How would you highlight that in the heatmap plot?"
   ]
  },
  {
   "cell_type": "markdown",
   "metadata": {},
   "source": [
    "## Market Maps with bqplot\n",
    "\n",
    "As we will discuss shortly - maps and their projections can be misleading.  One way around this is to plot data on a \"MarketMap\" format.  `bqplot` has such a mark we can make use of!"
   ]
  },
  {
   "cell_type": "markdown",
   "metadata": {},
   "source": [
    "In theory, we can read this data in with `pandas.read_excel` function.  In practice, it can be very slow, so we'll use the saved CSV linked in today's page.\n",
    "\n",
    "We will look at a dataset about surgeries performed in the United States over one year:"
   ]
  },
  {
   "cell_type": "code",
   "execution_count": 63,
   "metadata": {},
   "outputs": [],
   "source": [
    "# IN THEORY:\n",
    "#!pip install xlrd # JPN, might have to run this\n",
    "\n",
    "# note: this is quering from the web!  How neat is that??\n",
    "#df = pd.read_excel('https://query.data.world/s/ivl45pdpubos6jpsii3djsjwm2pcjv', skiprows=5)\n",
    "# the above might take a while to load all the data"
   ]
  },
  {
   "cell_type": "code",
   "execution_count": 64,
   "metadata": {},
   "outputs": [],
   "source": [
    "df = pd.read_csv('/Users/jillnaiman/Downloads/market_map_data.csv')"
   ]
  },
  {
   "cell_type": "markdown",
   "metadata": {},
   "source": [
    "Let's take a look at the top of this dataset:"
   ]
  },
  {
   "cell_type": "code",
   "execution_count": 67,
   "metadata": {},
   "outputs": [
    {
     "data": {
      "text/html": [
       "<div>\n",
       "<style scoped>\n",
       "    .dataframe tbody tr th:only-of-type {\n",
       "        vertical-align: middle;\n",
       "    }\n",
       "\n",
       "    .dataframe tbody tr th {\n",
       "        vertical-align: top;\n",
       "    }\n",
       "\n",
       "    .dataframe thead th {\n",
       "        text-align: right;\n",
       "    }\n",
       "</style>\n",
       "<table border=\"1\" class=\"dataframe\">\n",
       "  <thead>\n",
       "    <tr style=\"text-align: right;\">\n",
       "      <th></th>\n",
       "      <th>Unnamed: 0</th>\n",
       "      <th>DRG Definition</th>\n",
       "      <th>Provider Id</th>\n",
       "      <th>Provider Name</th>\n",
       "      <th>Provider Street Address</th>\n",
       "      <th>Provider City</th>\n",
       "      <th>Provider State</th>\n",
       "      <th>Provider Zip Code</th>\n",
       "      <th>Hospital Referral Region (HRR) Description</th>\n",
       "      <th>Total Discharges</th>\n",
       "      <th>Average Covered Charges</th>\n",
       "      <th>Average Total Payments</th>\n",
       "      <th>Average Medicare Payments</th>\n",
       "    </tr>\n",
       "  </thead>\n",
       "  <tbody>\n",
       "    <tr>\n",
       "      <th>0</th>\n",
       "      <td>0</td>\n",
       "      <td>001 - HEART TRANSPLANT OR IMPLANT OF HEART ASS...</td>\n",
       "      <td>10033</td>\n",
       "      <td>UNIVERSITY OF ALABAMA HOSPITAL</td>\n",
       "      <td>619 SOUTH 19TH STREET</td>\n",
       "      <td>BIRMINGHAM</td>\n",
       "      <td>AL</td>\n",
       "      <td>35233</td>\n",
       "      <td>AL - Birmingham</td>\n",
       "      <td>13</td>\n",
       "      <td>1.172866e+06</td>\n",
       "      <td>251876.307692</td>\n",
       "      <td>244457.923077</td>\n",
       "    </tr>\n",
       "    <tr>\n",
       "      <th>1</th>\n",
       "      <td>1</td>\n",
       "      <td>001 - HEART TRANSPLANT OR IMPLANT OF HEART ASS...</td>\n",
       "      <td>30103</td>\n",
       "      <td>MAYO CLINIC HOSPITAL</td>\n",
       "      <td>5777 EAST MAYO BOULEVARD</td>\n",
       "      <td>PHOENIX</td>\n",
       "      <td>AZ</td>\n",
       "      <td>85054</td>\n",
       "      <td>AZ - Phoenix</td>\n",
       "      <td>20</td>\n",
       "      <td>4.375313e+05</td>\n",
       "      <td>240422.800000</td>\n",
       "      <td>133509.550000</td>\n",
       "    </tr>\n",
       "    <tr>\n",
       "      <th>2</th>\n",
       "      <td>2</td>\n",
       "      <td>001 - HEART TRANSPLANT OR IMPLANT OF HEART ASS...</td>\n",
       "      <td>50108</td>\n",
       "      <td>SUTTER GENERAL HOSPITAL</td>\n",
       "      <td>2801 L STREET</td>\n",
       "      <td>SACRAMENTO</td>\n",
       "      <td>CA</td>\n",
       "      <td>95816</td>\n",
       "      <td>CA - Sacramento</td>\n",
       "      <td>25</td>\n",
       "      <td>8.156741e+05</td>\n",
       "      <td>233197.480000</td>\n",
       "      <td>221681.800000</td>\n",
       "    </tr>\n",
       "    <tr>\n",
       "      <th>3</th>\n",
       "      <td>3</td>\n",
       "      <td>001 - HEART TRANSPLANT OR IMPLANT OF HEART ASS...</td>\n",
       "      <td>50262</td>\n",
       "      <td>RONALD REAGAN U C L A MEDICAL CENTER</td>\n",
       "      <td>757 WESTWOOD PLAZA</td>\n",
       "      <td>LOS ANGELES</td>\n",
       "      <td>CA</td>\n",
       "      <td>90095</td>\n",
       "      <td>CA - Los Angeles</td>\n",
       "      <td>14</td>\n",
       "      <td>1.499044e+06</td>\n",
       "      <td>415968.785714</td>\n",
       "      <td>366608.928571</td>\n",
       "    </tr>\n",
       "    <tr>\n",
       "      <th>4</th>\n",
       "      <td>4</td>\n",
       "      <td>001 - HEART TRANSPLANT OR IMPLANT OF HEART ASS...</td>\n",
       "      <td>50441</td>\n",
       "      <td>STANFORD HOSPITAL</td>\n",
       "      <td>300 PASTEUR DRIVE</td>\n",
       "      <td>STANFORD</td>\n",
       "      <td>CA</td>\n",
       "      <td>94305</td>\n",
       "      <td>CA - San Mateo County</td>\n",
       "      <td>23</td>\n",
       "      <td>2.238699e+06</td>\n",
       "      <td>420865.478261</td>\n",
       "      <td>403453.652174</td>\n",
       "    </tr>\n",
       "  </tbody>\n",
       "</table>\n",
       "</div>"
      ],
      "text/plain": [
       "   Unnamed: 0                                     DRG Definition  Provider Id  \\\n",
       "0           0  001 - HEART TRANSPLANT OR IMPLANT OF HEART ASS...        10033   \n",
       "1           1  001 - HEART TRANSPLANT OR IMPLANT OF HEART ASS...        30103   \n",
       "2           2  001 - HEART TRANSPLANT OR IMPLANT OF HEART ASS...        50108   \n",
       "3           3  001 - HEART TRANSPLANT OR IMPLANT OF HEART ASS...        50262   \n",
       "4           4  001 - HEART TRANSPLANT OR IMPLANT OF HEART ASS...        50441   \n",
       "\n",
       "                          Provider Name   Provider Street Address  \\\n",
       "0        UNIVERSITY OF ALABAMA HOSPITAL     619 SOUTH 19TH STREET   \n",
       "1                  MAYO CLINIC HOSPITAL  5777 EAST MAYO BOULEVARD   \n",
       "2               SUTTER GENERAL HOSPITAL             2801 L STREET   \n",
       "3  RONALD REAGAN U C L A MEDICAL CENTER        757 WESTWOOD PLAZA   \n",
       "4                     STANFORD HOSPITAL         300 PASTEUR DRIVE   \n",
       "\n",
       "  Provider City Provider State  Provider Zip Code  \\\n",
       "0    BIRMINGHAM             AL              35233   \n",
       "1       PHOENIX             AZ              85054   \n",
       "2    SACRAMENTO             CA              95816   \n",
       "3   LOS ANGELES             CA              90095   \n",
       "4      STANFORD             CA              94305   \n",
       "\n",
       "  Hospital Referral Region (HRR) Description  Total Discharges  \\\n",
       "0                            AL - Birmingham                13   \n",
       "1                               AZ - Phoenix                20   \n",
       "2                            CA - Sacramento                25   \n",
       "3                           CA - Los Angeles                14   \n",
       "4                      CA - San Mateo County                23   \n",
       "\n",
       "   Average Covered Charges  Average Total Payments  Average Medicare Payments  \n",
       "0             1.172866e+06           251876.307692              244457.923077  \n",
       "1             4.375313e+05           240422.800000              133509.550000  \n",
       "2             8.156741e+05           233197.480000              221681.800000  \n",
       "3             1.499044e+06           415968.785714              366608.928571  \n",
       "4             2.238699e+06           420865.478261              403453.652174  "
      ]
     },
     "execution_count": 67,
     "metadata": {},
     "output_type": "execute_result"
    }
   ],
   "source": [
    "df.head()"
   ]
  },
  {
   "cell_type": "markdown",
   "metadata": {},
   "source": [
    "Let's also use some useful pandas functions, for example we can check what types of data we are dealing with:"
   ]
  },
  {
   "cell_type": "code",
   "execution_count": 68,
   "metadata": {},
   "outputs": [
    {
     "data": {
      "text/plain": [
       "Unnamed: 0                                      int64\n",
       "DRG Definition                                 object\n",
       "Provider Id                                     int64\n",
       "Provider Name                                  object\n",
       "Provider Street Address                        object\n",
       "Provider City                                  object\n",
       "Provider State                                 object\n",
       "Provider Zip Code                               int64\n",
       "Hospital Referral Region (HRR) Description     object\n",
       "Total Discharges                                int64\n",
       "Average Covered Charges                       float64\n",
       "Average Total Payments                        float64\n",
       "Average Medicare Payments                     float64\n",
       "dtype: object"
      ]
     },
     "execution_count": 68,
     "metadata": {},
     "output_type": "execute_result"
    }
   ],
   "source": [
    "df.dtypes"
   ]
  },
  {
   "cell_type": "markdown",
   "metadata": {},
   "source": [
    "Let's also look at some summary data, recall that while this will calculate the summary stats for all numerical columns, it won't always make sense:"
   ]
  },
  {
   "cell_type": "code",
   "execution_count": 70,
   "metadata": {},
   "outputs": [
    {
     "data": {
      "text/html": [
       "<div>\n",
       "<style scoped>\n",
       "    .dataframe tbody tr th:only-of-type {\n",
       "        vertical-align: middle;\n",
       "    }\n",
       "\n",
       "    .dataframe tbody tr th {\n",
       "        vertical-align: top;\n",
       "    }\n",
       "\n",
       "    .dataframe thead th {\n",
       "        text-align: right;\n",
       "    }\n",
       "</style>\n",
       "<table border=\"1\" class=\"dataframe\">\n",
       "  <thead>\n",
       "    <tr style=\"text-align: right;\">\n",
       "      <th></th>\n",
       "      <th>Unnamed: 0</th>\n",
       "      <th>Provider Id</th>\n",
       "      <th>Provider Zip Code</th>\n",
       "      <th>Total Discharges</th>\n",
       "      <th>Average Covered Charges</th>\n",
       "      <th>Average Total Payments</th>\n",
       "      <th>Average Medicare Payments</th>\n",
       "    </tr>\n",
       "  </thead>\n",
       "  <tbody>\n",
       "    <tr>\n",
       "      <th>count</th>\n",
       "      <td>202656.000000</td>\n",
       "      <td>202656.000000</td>\n",
       "      <td>202656.000000</td>\n",
       "      <td>202656.000000</td>\n",
       "      <td>2.026560e+05</td>\n",
       "      <td>202656.000000</td>\n",
       "      <td>202656.000000</td>\n",
       "    </tr>\n",
       "    <tr>\n",
       "      <th>mean</th>\n",
       "      <td>101327.500000</td>\n",
       "      <td>255322.552749</td>\n",
       "      <td>47029.141698</td>\n",
       "      <td>36.011196</td>\n",
       "      <td>5.258934e+04</td>\n",
       "      <td>13168.560144</td>\n",
       "      <td>11218.465217</td>\n",
       "    </tr>\n",
       "    <tr>\n",
       "      <th>std</th>\n",
       "      <td>58501.892414</td>\n",
       "      <td>150834.203550</td>\n",
       "      <td>27792.935433</td>\n",
       "      <td>48.864835</td>\n",
       "      <td>6.244522e+04</td>\n",
       "      <td>13772.839671</td>\n",
       "      <td>12279.103622</td>\n",
       "    </tr>\n",
       "    <tr>\n",
       "      <th>min</th>\n",
       "      <td>0.000000</td>\n",
       "      <td>10001.000000</td>\n",
       "      <td>1040.000000</td>\n",
       "      <td>11.000000</td>\n",
       "      <td>1.367652e+03</td>\n",
       "      <td>2320.482759</td>\n",
       "      <td>1329.909091</td>\n",
       "    </tr>\n",
       "    <tr>\n",
       "      <th>25%</th>\n",
       "      <td>50663.750000</td>\n",
       "      <td>110082.000000</td>\n",
       "      <td>25301.000000</td>\n",
       "      <td>14.000000</td>\n",
       "      <td>2.094930e+04</td>\n",
       "      <td>6258.925806</td>\n",
       "      <td>5011.979167</td>\n",
       "    </tr>\n",
       "    <tr>\n",
       "      <th>50%</th>\n",
       "      <td>101327.500000</td>\n",
       "      <td>240093.000000</td>\n",
       "      <td>43701.000000</td>\n",
       "      <td>22.000000</td>\n",
       "      <td>3.463380e+04</td>\n",
       "      <td>9180.169753</td>\n",
       "      <td>7714.654762</td>\n",
       "    </tr>\n",
       "    <tr>\n",
       "      <th>75%</th>\n",
       "      <td>151991.250000</td>\n",
       "      <td>380014.000000</td>\n",
       "      <td>71603.000000</td>\n",
       "      <td>39.000000</td>\n",
       "      <td>6.076193e+04</td>\n",
       "      <td>14631.466690</td>\n",
       "      <td>12472.680288</td>\n",
       "    </tr>\n",
       "    <tr>\n",
       "      <th>max</th>\n",
       "      <td>202655.000000</td>\n",
       "      <td>670088.000000</td>\n",
       "      <td>99801.000000</td>\n",
       "      <td>3855.000000</td>\n",
       "      <td>2.238699e+06</td>\n",
       "      <td>434396.000000</td>\n",
       "      <td>403453.652174</td>\n",
       "    </tr>\n",
       "  </tbody>\n",
       "</table>\n",
       "</div>"
      ],
      "text/plain": [
       "          Unnamed: 0    Provider Id  Provider Zip Code  Total Discharges  \\\n",
       "count  202656.000000  202656.000000      202656.000000     202656.000000   \n",
       "mean   101327.500000  255322.552749       47029.141698         36.011196   \n",
       "std     58501.892414  150834.203550       27792.935433         48.864835   \n",
       "min         0.000000   10001.000000        1040.000000         11.000000   \n",
       "25%     50663.750000  110082.000000       25301.000000         14.000000   \n",
       "50%    101327.500000  240093.000000       43701.000000         22.000000   \n",
       "75%    151991.250000  380014.000000       71603.000000         39.000000   \n",
       "max    202655.000000  670088.000000       99801.000000       3855.000000   \n",
       "\n",
       "       Average Covered Charges  Average Total Payments  \\\n",
       "count             2.026560e+05           202656.000000   \n",
       "mean              5.258934e+04            13168.560144   \n",
       "std               6.244522e+04            13772.839671   \n",
       "min               1.367652e+03             2320.482759   \n",
       "25%               2.094930e+04             6258.925806   \n",
       "50%               3.463380e+04             9180.169753   \n",
       "75%               6.076193e+04            14631.466690   \n",
       "max               2.238699e+06           434396.000000   \n",
       "\n",
       "       Average Medicare Payments  \n",
       "count              202656.000000  \n",
       "mean                11218.465217  \n",
       "std                 12279.103622  \n",
       "min                  1329.909091  \n",
       "25%                  5011.979167  \n",
       "50%                  7714.654762  \n",
       "75%                 12472.680288  \n",
       "max                403453.652174  "
      ]
     },
     "execution_count": 70,
     "metadata": {},
     "output_type": "execute_result"
    }
   ],
   "source": [
    "df.describe()"
   ]
  },
  {
   "cell_type": "markdown",
   "metadata": {},
   "source": [
    "For example, things like the \"mea zipcode\" are meaningless numbers."
   ]
  },
  {
   "cell_type": "markdown",
   "metadata": {},
   "source": [
    "Let's explore our data further: for example, lets look at how many separate types of surgery are represented in this dataset:"
   ]
  },
  {
   "cell_type": "code",
   "execution_count": 71,
   "metadata": {},
   "outputs": [
    {
     "data": {
      "text/plain": [
       "564"
      ]
     },
     "execution_count": 71,
     "metadata": {},
     "output_type": "execute_result"
    }
   ],
   "source": [
    "df[\"DRG Definition\"].unique().size"
   ]
  },
  {
   "cell_type": "markdown",
   "metadata": {},
   "source": [
    "What about unique hospital (provider) names?"
   ]
  },
  {
   "cell_type": "code",
   "execution_count": 72,
   "metadata": {},
   "outputs": [
    {
     "data": {
      "text/plain": [
       "3151"
      ]
     },
     "execution_count": 72,
     "metadata": {},
     "output_type": "execute_result"
    }
   ],
   "source": [
    "df[\"Provider Name\"].unique().size"
   ]
  },
  {
   "cell_type": "markdown",
   "metadata": {},
   "source": [
    "How many states are represented?"
   ]
  },
  {
   "cell_type": "code",
   "execution_count": 73,
   "metadata": {},
   "outputs": [
    {
     "data": {
      "text/plain": [
       "51"
      ]
     },
     "execution_count": 73,
     "metadata": {},
     "output_type": "execute_result"
    }
   ],
   "source": [
    "df[\"Provider State\"].unique().size"
   ]
  },
  {
   "cell_type": "markdown",
   "metadata": {},
   "source": [
    "How are these states coded?"
   ]
  },
  {
   "cell_type": "code",
   "execution_count": 74,
   "metadata": {},
   "outputs": [
    {
     "data": {
      "text/plain": [
       "array(['AL', 'AZ', 'CA', 'CT', 'DC', 'FL', 'GA', 'IL', 'IN', 'KY', 'LA',\n",
       "       'MA', 'MI', 'MN', 'MO', 'NE', 'NJ', 'NY', 'NC', 'OH', 'OK', 'PA',\n",
       "       'SC', 'TN', 'TX', 'VA', 'WA', 'WI', 'AK', 'AR', 'CO', 'DE', 'ID',\n",
       "       'IA', 'KS', 'ME', 'MD', 'MS', 'NV', 'NH', 'NM', 'ND', 'OR', 'RI',\n",
       "       'UT', 'VT', 'WV', 'HI', 'SD', 'MT', 'WY'], dtype=object)"
      ]
     },
     "execution_count": 74,
     "metadata": {},
     "output_type": "execute_result"
    }
   ],
   "source": [
    "df[\"Provider State\"].unique()"
   ]
  },
  {
   "cell_type": "markdown",
   "metadata": {},
   "source": [
    "Lets figure out  what the most common surgeries are via how many many folks are discharged after each type of surgery:"
   ]
  },
  {
   "cell_type": "code",
   "execution_count": 75,
   "metadata": {},
   "outputs": [
    {
     "data": {
      "text/plain": [
       "DRG Definition\n",
       "001 - HEART TRANSPLANT OR IMPLANT OF HEART ASSIST SYSTEM W MCC                 1495\n",
       "002 - HEART TRANSPLANT OR IMPLANT OF HEART ASSIST SYSTEM W/O MCC                 23\n",
       "003 - ECMO OR TRACH W MV 96+ HRS OR PDX EXC FACE, MOUTH & NECK W MAJ O.R.     11987\n",
       "004 - TRACH W MV 96+ HRS OR PDX EXC FACE, MOUTH & NECK W/O MAJ O.R.           11774\n",
       "005 - LIVER TRANSPLANT W MCC OR INTESTINAL TRANSPLANT                           741\n",
       "                                                                              ...  \n",
       "982 - EXTENSIVE O.R. PROCEDURE UNRELATED TO PRINCIPAL DIAGNOSIS W CC           7691\n",
       "983 - EXTENSIVE O.R. PROCEDURE UNRELATED TO PRINCIPAL DIAGNOSIS W/O CC/MCC      134\n",
       "987 - NON-EXTENSIVE O.R. PROC UNRELATED TO PRINCIPAL DIAGNOSIS W MCC           1033\n",
       "988 - NON-EXTENSIVE O.R. PROC UNRELATED TO PRINCIPAL DIAGNOSIS W CC            1149\n",
       "989 - NON-EXTENSIVE O.R. PROC UNRELATED TO PRINCIPAL DIAGNOSIS W/O CC/MCC        39\n",
       "Name: Total Discharges, Length: 564, dtype: int64"
      ]
     },
     "execution_count": 75,
     "metadata": {},
     "output_type": "execute_result"
    }
   ],
   "source": [
    "most_common = df.groupby(\"DRG Definition\")[\"Total Discharges\"].sum()\n",
    "most_common"
   ]
  },
  {
   "cell_type": "markdown",
   "metadata": {},
   "source": [
    "... but lets sort by the largest on top:"
   ]
  },
  {
   "cell_type": "code",
   "execution_count": 76,
   "metadata": {},
   "outputs": [
    {
     "data": {
      "text/plain": [
       "DRG Definition\n",
       "470 - MAJOR JOINT REPLACEMENT OR REATTACHMENT OF LOWER EXTREMITY W/O MCC    458259\n",
       "871 - SEPTICEMIA OR SEVERE SEPSIS W/O MV 96+ HOURS W MCC                    438597\n",
       "291 - HEART FAILURE & SHOCK W MCC                                           198889\n",
       "292 - HEART FAILURE & SHOCK W CC                                            192918\n",
       "392 - ESOPHAGITIS, GASTROENT & MISC DIGEST DISORDERS W/O MCC                190375\n",
       "                                                                             ...  \n",
       "693 - URINARY STONES W/O ESW LITHOTRIPSY W MCC                                  11\n",
       "094 - BACTERIAL & TUBERCULOUS INFECTIONS OF NERVOUS SYSTEM W MCC                11\n",
       "495 - LOCAL EXCISION & REMOVAL INT FIX DEVICES EXC HIP & FEMUR W MCC            11\n",
       "358 - OTHER DIGESTIVE SYSTEM O.R. PROCEDURES W/O CC/MCC                         11\n",
       "858 - POSTOPERATIVE OR POST-TRAUMATIC INFECTIONS W O.R. PROC W/O CC/MCC         11\n",
       "Name: Total Discharges, Length: 564, dtype: int64"
      ]
     },
     "execution_count": 76,
     "metadata": {},
     "output_type": "execute_result"
    }
   ],
   "source": [
    "most_common = df.groupby(\"DRG Definition\")[\"Total Discharges\"].sum().sort_values(ascending=False)\n",
    "most_common"
   ]
  },
  {
   "cell_type": "markdown",
   "metadata": {},
   "source": [
    "Lets look at only the top 5, for fun:"
   ]
  },
  {
   "cell_type": "code",
   "execution_count": 77,
   "metadata": {},
   "outputs": [
    {
     "data": {
      "text/plain": [
       "DRG Definition\n",
       "470 - MAJOR JOINT REPLACEMENT OR REATTACHMENT OF LOWER EXTREMITY W/O MCC    458259\n",
       "871 - SEPTICEMIA OR SEVERE SEPSIS W/O MV 96+ HOURS W MCC                    438597\n",
       "291 - HEART FAILURE & SHOCK W MCC                                           198889\n",
       "292 - HEART FAILURE & SHOCK W CC                                            192918\n",
       "392 - ESOPHAGITIS, GASTROENT & MISC DIGEST DISORDERS W/O MCC                190375\n",
       "Name: Total Discharges, dtype: int64"
      ]
     },
     "execution_count": 77,
     "metadata": {},
     "output_type": "execute_result"
    }
   ],
   "source": [
    "most_common[:5]"
   ]
  },
  {
   "cell_type": "markdown",
   "metadata": {},
   "source": [
    "... or we can only look at the names of the top 5:"
   ]
  },
  {
   "cell_type": "code",
   "execution_count": 78,
   "metadata": {},
   "outputs": [
    {
     "data": {
      "text/plain": [
       "array(['470 - MAJOR JOINT REPLACEMENT OR REATTACHMENT OF LOWER EXTREMITY W/O MCC',\n",
       "       '871 - SEPTICEMIA OR SEVERE SEPSIS W/O MV 96+ HOURS W MCC',\n",
       "       '291 - HEART FAILURE & SHOCK W MCC',\n",
       "       '292 - HEART FAILURE & SHOCK W CC',\n",
       "       '392 - ESOPHAGITIS, GASTROENT & MISC DIGEST DISORDERS W/O MCC'],\n",
       "      dtype=object)"
      ]
     },
     "execution_count": 78,
     "metadata": {},
     "output_type": "execute_result"
    }
   ],
   "source": [
    "most_common[:5].index.values"
   ]
  },
  {
   "cell_type": "markdown",
   "metadata": {},
   "source": [
    "### Cleaning the dataset for the MarketMap plot\n",
    "\n",
    "Here we are going to practice doing some fancy things to clean this data.  This will be good practice for when you run into other datasets \"in the wild\":"
   ]
  },
  {
   "cell_type": "markdown",
   "metadata": {},
   "source": [
    "Let's first create a little table of total discharges for each type of surgery & state:"
   ]
  },
  {
   "cell_type": "code",
   "execution_count": 79,
   "metadata": {},
   "outputs": [
    {
     "data": {
      "text/plain": [
       "DRG Definition                                                             Provider State\n",
       "001 - HEART TRANSPLANT OR IMPLANT OF HEART ASSIST SYSTEM W MCC             AL                 13\n",
       "                                                                           AZ                 20\n",
       "                                                                           CA                125\n",
       "                                                                           CT                 29\n",
       "                                                                           DC                 31\n",
       "                                                                                            ... \n",
       "988 - NON-EXTENSIVE O.R. PROC UNRELATED TO PRINCIPAL DIAGNOSIS W CC        WI                 28\n",
       "                                                                           WV                 28\n",
       "989 - NON-EXTENSIVE O.R. PROC UNRELATED TO PRINCIPAL DIAGNOSIS W/O CC/MCC  KS                 13\n",
       "                                                                           KY                 13\n",
       "                                                                           NY                 13\n",
       "Name: Total Discharges, Length: 15087, dtype: int64"
      ]
     },
     "execution_count": 79,
     "metadata": {},
     "output_type": "execute_result"
    }
   ],
   "source": [
    "total_discharges = df.groupby([\"DRG Definition\", \"Provider State\"])[\"Total Discharges\"].sum()\n",
    "total_discharges"
   ]
  },
  {
   "cell_type": "markdown",
   "metadata": {},
   "source": [
    "The above is not intuative, lets prettify it:"
   ]
  },
  {
   "cell_type": "code",
   "execution_count": 80,
   "metadata": {},
   "outputs": [
    {
     "data": {
      "text/html": [
       "<div>\n",
       "<style scoped>\n",
       "    .dataframe tbody tr th:only-of-type {\n",
       "        vertical-align: middle;\n",
       "    }\n",
       "\n",
       "    .dataframe tbody tr th {\n",
       "        vertical-align: top;\n",
       "    }\n",
       "\n",
       "    .dataframe thead th {\n",
       "        text-align: right;\n",
       "    }\n",
       "</style>\n",
       "<table border=\"1\" class=\"dataframe\">\n",
       "  <thead>\n",
       "    <tr style=\"text-align: right;\">\n",
       "      <th>Provider State</th>\n",
       "      <th>AK</th>\n",
       "      <th>AL</th>\n",
       "      <th>AR</th>\n",
       "      <th>AZ</th>\n",
       "      <th>CA</th>\n",
       "      <th>CO</th>\n",
       "      <th>CT</th>\n",
       "      <th>DC</th>\n",
       "      <th>DE</th>\n",
       "      <th>FL</th>\n",
       "      <th>...</th>\n",
       "      <th>SD</th>\n",
       "      <th>TN</th>\n",
       "      <th>TX</th>\n",
       "      <th>UT</th>\n",
       "      <th>VA</th>\n",
       "      <th>VT</th>\n",
       "      <th>WA</th>\n",
       "      <th>WI</th>\n",
       "      <th>WV</th>\n",
       "      <th>WY</th>\n",
       "    </tr>\n",
       "    <tr>\n",
       "      <th>DRG Definition</th>\n",
       "      <th></th>\n",
       "      <th></th>\n",
       "      <th></th>\n",
       "      <th></th>\n",
       "      <th></th>\n",
       "      <th></th>\n",
       "      <th></th>\n",
       "      <th></th>\n",
       "      <th></th>\n",
       "      <th></th>\n",
       "      <th></th>\n",
       "      <th></th>\n",
       "      <th></th>\n",
       "      <th></th>\n",
       "      <th></th>\n",
       "      <th></th>\n",
       "      <th></th>\n",
       "      <th></th>\n",
       "      <th></th>\n",
       "      <th></th>\n",
       "      <th></th>\n",
       "    </tr>\n",
       "  </thead>\n",
       "  <tbody>\n",
       "    <tr>\n",
       "      <th>001 - HEART TRANSPLANT OR IMPLANT OF HEART ASSIST SYSTEM W MCC</th>\n",
       "      <td>NaN</td>\n",
       "      <td>13.0</td>\n",
       "      <td>NaN</td>\n",
       "      <td>20.0</td>\n",
       "      <td>125.0</td>\n",
       "      <td>NaN</td>\n",
       "      <td>29.0</td>\n",
       "      <td>31.0</td>\n",
       "      <td>NaN</td>\n",
       "      <td>83.0</td>\n",
       "      <td>...</td>\n",
       "      <td>NaN</td>\n",
       "      <td>34.0</td>\n",
       "      <td>206.0</td>\n",
       "      <td>NaN</td>\n",
       "      <td>61.0</td>\n",
       "      <td>NaN</td>\n",
       "      <td>36.0</td>\n",
       "      <td>21.0</td>\n",
       "      <td>NaN</td>\n",
       "      <td>NaN</td>\n",
       "    </tr>\n",
       "    <tr>\n",
       "      <th>002 - HEART TRANSPLANT OR IMPLANT OF HEART ASSIST SYSTEM W/O MCC</th>\n",
       "      <td>NaN</td>\n",
       "      <td>NaN</td>\n",
       "      <td>NaN</td>\n",
       "      <td>NaN</td>\n",
       "      <td>NaN</td>\n",
       "      <td>NaN</td>\n",
       "      <td>NaN</td>\n",
       "      <td>NaN</td>\n",
       "      <td>NaN</td>\n",
       "      <td>NaN</td>\n",
       "      <td>...</td>\n",
       "      <td>NaN</td>\n",
       "      <td>NaN</td>\n",
       "      <td>NaN</td>\n",
       "      <td>NaN</td>\n",
       "      <td>NaN</td>\n",
       "      <td>NaN</td>\n",
       "      <td>NaN</td>\n",
       "      <td>NaN</td>\n",
       "      <td>NaN</td>\n",
       "      <td>NaN</td>\n",
       "    </tr>\n",
       "    <tr>\n",
       "      <th>003 - ECMO OR TRACH W MV 96+ HRS OR PDX EXC FACE, MOUTH &amp; NECK W MAJ O.R.</th>\n",
       "      <td>12.0</td>\n",
       "      <td>237.0</td>\n",
       "      <td>128.0</td>\n",
       "      <td>200.0</td>\n",
       "      <td>710.0</td>\n",
       "      <td>117.0</td>\n",
       "      <td>125.0</td>\n",
       "      <td>128.0</td>\n",
       "      <td>79.0</td>\n",
       "      <td>934.0</td>\n",
       "      <td>...</td>\n",
       "      <td>NaN</td>\n",
       "      <td>381.0</td>\n",
       "      <td>906.0</td>\n",
       "      <td>54.0</td>\n",
       "      <td>356.0</td>\n",
       "      <td>13.0</td>\n",
       "      <td>74.0</td>\n",
       "      <td>114.0</td>\n",
       "      <td>84.0</td>\n",
       "      <td>NaN</td>\n",
       "    </tr>\n",
       "    <tr>\n",
       "      <th>004 - TRACH W MV 96+ HRS OR PDX EXC FACE, MOUTH &amp; NECK W/O MAJ O.R.</th>\n",
       "      <td>11.0</td>\n",
       "      <td>257.0</td>\n",
       "      <td>129.0</td>\n",
       "      <td>127.0</td>\n",
       "      <td>894.0</td>\n",
       "      <td>59.0</td>\n",
       "      <td>59.0</td>\n",
       "      <td>81.0</td>\n",
       "      <td>55.0</td>\n",
       "      <td>943.0</td>\n",
       "      <td>...</td>\n",
       "      <td>18.0</td>\n",
       "      <td>438.0</td>\n",
       "      <td>1009.0</td>\n",
       "      <td>12.0</td>\n",
       "      <td>247.0</td>\n",
       "      <td>NaN</td>\n",
       "      <td>42.0</td>\n",
       "      <td>84.0</td>\n",
       "      <td>50.0</td>\n",
       "      <td>NaN</td>\n",
       "    </tr>\n",
       "    <tr>\n",
       "      <th>005 - LIVER TRANSPLANT W MCC OR INTESTINAL TRANSPLANT</th>\n",
       "      <td>NaN</td>\n",
       "      <td>16.0</td>\n",
       "      <td>NaN</td>\n",
       "      <td>17.0</td>\n",
       "      <td>106.0</td>\n",
       "      <td>12.0</td>\n",
       "      <td>NaN</td>\n",
       "      <td>NaN</td>\n",
       "      <td>NaN</td>\n",
       "      <td>69.0</td>\n",
       "      <td>...</td>\n",
       "      <td>NaN</td>\n",
       "      <td>36.0</td>\n",
       "      <td>46.0</td>\n",
       "      <td>NaN</td>\n",
       "      <td>13.0</td>\n",
       "      <td>NaN</td>\n",
       "      <td>13.0</td>\n",
       "      <td>16.0</td>\n",
       "      <td>NaN</td>\n",
       "      <td>NaN</td>\n",
       "    </tr>\n",
       "    <tr>\n",
       "      <th>...</th>\n",
       "      <td>...</td>\n",
       "      <td>...</td>\n",
       "      <td>...</td>\n",
       "      <td>...</td>\n",
       "      <td>...</td>\n",
       "      <td>...</td>\n",
       "      <td>...</td>\n",
       "      <td>...</td>\n",
       "      <td>...</td>\n",
       "      <td>...</td>\n",
       "      <td>...</td>\n",
       "      <td>...</td>\n",
       "      <td>...</td>\n",
       "      <td>...</td>\n",
       "      <td>...</td>\n",
       "      <td>...</td>\n",
       "      <td>...</td>\n",
       "      <td>...</td>\n",
       "      <td>...</td>\n",
       "      <td>...</td>\n",
       "      <td>...</td>\n",
       "    </tr>\n",
       "    <tr>\n",
       "      <th>982 - EXTENSIVE O.R. PROCEDURE UNRELATED TO PRINCIPAL DIAGNOSIS W CC</th>\n",
       "      <td>NaN</td>\n",
       "      <td>154.0</td>\n",
       "      <td>102.0</td>\n",
       "      <td>183.0</td>\n",
       "      <td>485.0</td>\n",
       "      <td>24.0</td>\n",
       "      <td>60.0</td>\n",
       "      <td>65.0</td>\n",
       "      <td>67.0</td>\n",
       "      <td>767.0</td>\n",
       "      <td>...</td>\n",
       "      <td>21.0</td>\n",
       "      <td>174.0</td>\n",
       "      <td>395.0</td>\n",
       "      <td>19.0</td>\n",
       "      <td>217.0</td>\n",
       "      <td>11.0</td>\n",
       "      <td>69.0</td>\n",
       "      <td>79.0</td>\n",
       "      <td>59.0</td>\n",
       "      <td>NaN</td>\n",
       "    </tr>\n",
       "    <tr>\n",
       "      <th>983 - EXTENSIVE O.R. PROCEDURE UNRELATED TO PRINCIPAL DIAGNOSIS W/O CC/MCC</th>\n",
       "      <td>NaN</td>\n",
       "      <td>11.0</td>\n",
       "      <td>NaN</td>\n",
       "      <td>11.0</td>\n",
       "      <td>NaN</td>\n",
       "      <td>NaN</td>\n",
       "      <td>NaN</td>\n",
       "      <td>NaN</td>\n",
       "      <td>NaN</td>\n",
       "      <td>14.0</td>\n",
       "      <td>...</td>\n",
       "      <td>NaN</td>\n",
       "      <td>NaN</td>\n",
       "      <td>NaN</td>\n",
       "      <td>NaN</td>\n",
       "      <td>NaN</td>\n",
       "      <td>NaN</td>\n",
       "      <td>11.0</td>\n",
       "      <td>NaN</td>\n",
       "      <td>NaN</td>\n",
       "      <td>NaN</td>\n",
       "    </tr>\n",
       "    <tr>\n",
       "      <th>987 - NON-EXTENSIVE O.R. PROC UNRELATED TO PRINCIPAL DIAGNOSIS W MCC</th>\n",
       "      <td>NaN</td>\n",
       "      <td>37.0</td>\n",
       "      <td>26.0</td>\n",
       "      <td>NaN</td>\n",
       "      <td>25.0</td>\n",
       "      <td>NaN</td>\n",
       "      <td>17.0</td>\n",
       "      <td>21.0</td>\n",
       "      <td>20.0</td>\n",
       "      <td>73.0</td>\n",
       "      <td>...</td>\n",
       "      <td>NaN</td>\n",
       "      <td>33.0</td>\n",
       "      <td>79.0</td>\n",
       "      <td>NaN</td>\n",
       "      <td>NaN</td>\n",
       "      <td>NaN</td>\n",
       "      <td>NaN</td>\n",
       "      <td>35.0</td>\n",
       "      <td>25.0</td>\n",
       "      <td>NaN</td>\n",
       "    </tr>\n",
       "    <tr>\n",
       "      <th>988 - NON-EXTENSIVE O.R. PROC UNRELATED TO PRINCIPAL DIAGNOSIS W CC</th>\n",
       "      <td>NaN</td>\n",
       "      <td>51.0</td>\n",
       "      <td>11.0</td>\n",
       "      <td>NaN</td>\n",
       "      <td>NaN</td>\n",
       "      <td>NaN</td>\n",
       "      <td>38.0</td>\n",
       "      <td>11.0</td>\n",
       "      <td>27.0</td>\n",
       "      <td>47.0</td>\n",
       "      <td>...</td>\n",
       "      <td>NaN</td>\n",
       "      <td>12.0</td>\n",
       "      <td>66.0</td>\n",
       "      <td>NaN</td>\n",
       "      <td>NaN</td>\n",
       "      <td>NaN</td>\n",
       "      <td>NaN</td>\n",
       "      <td>28.0</td>\n",
       "      <td>28.0</td>\n",
       "      <td>NaN</td>\n",
       "    </tr>\n",
       "    <tr>\n",
       "      <th>989 - NON-EXTENSIVE O.R. PROC UNRELATED TO PRINCIPAL DIAGNOSIS W/O CC/MCC</th>\n",
       "      <td>NaN</td>\n",
       "      <td>NaN</td>\n",
       "      <td>NaN</td>\n",
       "      <td>NaN</td>\n",
       "      <td>NaN</td>\n",
       "      <td>NaN</td>\n",
       "      <td>NaN</td>\n",
       "      <td>NaN</td>\n",
       "      <td>NaN</td>\n",
       "      <td>NaN</td>\n",
       "      <td>...</td>\n",
       "      <td>NaN</td>\n",
       "      <td>NaN</td>\n",
       "      <td>NaN</td>\n",
       "      <td>NaN</td>\n",
       "      <td>NaN</td>\n",
       "      <td>NaN</td>\n",
       "      <td>NaN</td>\n",
       "      <td>NaN</td>\n",
       "      <td>NaN</td>\n",
       "      <td>NaN</td>\n",
       "    </tr>\n",
       "  </tbody>\n",
       "</table>\n",
       "<p>564 rows × 51 columns</p>\n",
       "</div>"
      ],
      "text/plain": [
       "Provider State                                        AK     AL     AR     AZ  \\\n",
       "DRG Definition                                                                  \n",
       "001 - HEART TRANSPLANT OR IMPLANT OF HEART ASSI...   NaN   13.0    NaN   20.0   \n",
       "002 - HEART TRANSPLANT OR IMPLANT OF HEART ASSI...   NaN    NaN    NaN    NaN   \n",
       "003 - ECMO OR TRACH W MV 96+ HRS OR PDX EXC FAC...  12.0  237.0  128.0  200.0   \n",
       "004 - TRACH W MV 96+ HRS OR PDX EXC FACE, MOUTH...  11.0  257.0  129.0  127.0   \n",
       "005 - LIVER TRANSPLANT W MCC OR INTESTINAL TRAN...   NaN   16.0    NaN   17.0   \n",
       "...                                                  ...    ...    ...    ...   \n",
       "982 - EXTENSIVE O.R. PROCEDURE UNRELATED TO PRI...   NaN  154.0  102.0  183.0   \n",
       "983 - EXTENSIVE O.R. PROCEDURE UNRELATED TO PRI...   NaN   11.0    NaN   11.0   \n",
       "987 - NON-EXTENSIVE O.R. PROC UNRELATED TO PRIN...   NaN   37.0   26.0    NaN   \n",
       "988 - NON-EXTENSIVE O.R. PROC UNRELATED TO PRIN...   NaN   51.0   11.0    NaN   \n",
       "989 - NON-EXTENSIVE O.R. PROC UNRELATED TO PRIN...   NaN    NaN    NaN    NaN   \n",
       "\n",
       "Provider State                                         CA     CO     CT  \\\n",
       "DRG Definition                                                            \n",
       "001 - HEART TRANSPLANT OR IMPLANT OF HEART ASSI...  125.0    NaN   29.0   \n",
       "002 - HEART TRANSPLANT OR IMPLANT OF HEART ASSI...    NaN    NaN    NaN   \n",
       "003 - ECMO OR TRACH W MV 96+ HRS OR PDX EXC FAC...  710.0  117.0  125.0   \n",
       "004 - TRACH W MV 96+ HRS OR PDX EXC FACE, MOUTH...  894.0   59.0   59.0   \n",
       "005 - LIVER TRANSPLANT W MCC OR INTESTINAL TRAN...  106.0   12.0    NaN   \n",
       "...                                                   ...    ...    ...   \n",
       "982 - EXTENSIVE O.R. PROCEDURE UNRELATED TO PRI...  485.0   24.0   60.0   \n",
       "983 - EXTENSIVE O.R. PROCEDURE UNRELATED TO PRI...    NaN    NaN    NaN   \n",
       "987 - NON-EXTENSIVE O.R. PROC UNRELATED TO PRIN...   25.0    NaN   17.0   \n",
       "988 - NON-EXTENSIVE O.R. PROC UNRELATED TO PRIN...    NaN    NaN   38.0   \n",
       "989 - NON-EXTENSIVE O.R. PROC UNRELATED TO PRIN...    NaN    NaN    NaN   \n",
       "\n",
       "Provider State                                         DC    DE     FL  ...  \\\n",
       "DRG Definition                                                          ...   \n",
       "001 - HEART TRANSPLANT OR IMPLANT OF HEART ASSI...   31.0   NaN   83.0  ...   \n",
       "002 - HEART TRANSPLANT OR IMPLANT OF HEART ASSI...    NaN   NaN    NaN  ...   \n",
       "003 - ECMO OR TRACH W MV 96+ HRS OR PDX EXC FAC...  128.0  79.0  934.0  ...   \n",
       "004 - TRACH W MV 96+ HRS OR PDX EXC FACE, MOUTH...   81.0  55.0  943.0  ...   \n",
       "005 - LIVER TRANSPLANT W MCC OR INTESTINAL TRAN...    NaN   NaN   69.0  ...   \n",
       "...                                                   ...   ...    ...  ...   \n",
       "982 - EXTENSIVE O.R. PROCEDURE UNRELATED TO PRI...   65.0  67.0  767.0  ...   \n",
       "983 - EXTENSIVE O.R. PROCEDURE UNRELATED TO PRI...    NaN   NaN   14.0  ...   \n",
       "987 - NON-EXTENSIVE O.R. PROC UNRELATED TO PRIN...   21.0  20.0   73.0  ...   \n",
       "988 - NON-EXTENSIVE O.R. PROC UNRELATED TO PRIN...   11.0  27.0   47.0  ...   \n",
       "989 - NON-EXTENSIVE O.R. PROC UNRELATED TO PRIN...    NaN   NaN    NaN  ...   \n",
       "\n",
       "Provider State                                        SD     TN      TX    UT  \\\n",
       "DRG Definition                                                                  \n",
       "001 - HEART TRANSPLANT OR IMPLANT OF HEART ASSI...   NaN   34.0   206.0   NaN   \n",
       "002 - HEART TRANSPLANT OR IMPLANT OF HEART ASSI...   NaN    NaN     NaN   NaN   \n",
       "003 - ECMO OR TRACH W MV 96+ HRS OR PDX EXC FAC...   NaN  381.0   906.0  54.0   \n",
       "004 - TRACH W MV 96+ HRS OR PDX EXC FACE, MOUTH...  18.0  438.0  1009.0  12.0   \n",
       "005 - LIVER TRANSPLANT W MCC OR INTESTINAL TRAN...   NaN   36.0    46.0   NaN   \n",
       "...                                                  ...    ...     ...   ...   \n",
       "982 - EXTENSIVE O.R. PROCEDURE UNRELATED TO PRI...  21.0  174.0   395.0  19.0   \n",
       "983 - EXTENSIVE O.R. PROCEDURE UNRELATED TO PRI...   NaN    NaN     NaN   NaN   \n",
       "987 - NON-EXTENSIVE O.R. PROC UNRELATED TO PRIN...   NaN   33.0    79.0   NaN   \n",
       "988 - NON-EXTENSIVE O.R. PROC UNRELATED TO PRIN...   NaN   12.0    66.0   NaN   \n",
       "989 - NON-EXTENSIVE O.R. PROC UNRELATED TO PRIN...   NaN    NaN     NaN   NaN   \n",
       "\n",
       "Provider State                                         VA    VT    WA     WI  \\\n",
       "DRG Definition                                                                 \n",
       "001 - HEART TRANSPLANT OR IMPLANT OF HEART ASSI...   61.0   NaN  36.0   21.0   \n",
       "002 - HEART TRANSPLANT OR IMPLANT OF HEART ASSI...    NaN   NaN   NaN    NaN   \n",
       "003 - ECMO OR TRACH W MV 96+ HRS OR PDX EXC FAC...  356.0  13.0  74.0  114.0   \n",
       "004 - TRACH W MV 96+ HRS OR PDX EXC FACE, MOUTH...  247.0   NaN  42.0   84.0   \n",
       "005 - LIVER TRANSPLANT W MCC OR INTESTINAL TRAN...   13.0   NaN  13.0   16.0   \n",
       "...                                                   ...   ...   ...    ...   \n",
       "982 - EXTENSIVE O.R. PROCEDURE UNRELATED TO PRI...  217.0  11.0  69.0   79.0   \n",
       "983 - EXTENSIVE O.R. PROCEDURE UNRELATED TO PRI...    NaN   NaN  11.0    NaN   \n",
       "987 - NON-EXTENSIVE O.R. PROC UNRELATED TO PRIN...    NaN   NaN   NaN   35.0   \n",
       "988 - NON-EXTENSIVE O.R. PROC UNRELATED TO PRIN...    NaN   NaN   NaN   28.0   \n",
       "989 - NON-EXTENSIVE O.R. PROC UNRELATED TO PRIN...    NaN   NaN   NaN    NaN   \n",
       "\n",
       "Provider State                                        WV  WY  \n",
       "DRG Definition                                                \n",
       "001 - HEART TRANSPLANT OR IMPLANT OF HEART ASSI...   NaN NaN  \n",
       "002 - HEART TRANSPLANT OR IMPLANT OF HEART ASSI...   NaN NaN  \n",
       "003 - ECMO OR TRACH W MV 96+ HRS OR PDX EXC FAC...  84.0 NaN  \n",
       "004 - TRACH W MV 96+ HRS OR PDX EXC FACE, MOUTH...  50.0 NaN  \n",
       "005 - LIVER TRANSPLANT W MCC OR INTESTINAL TRAN...   NaN NaN  \n",
       "...                                                  ...  ..  \n",
       "982 - EXTENSIVE O.R. PROCEDURE UNRELATED TO PRI...  59.0 NaN  \n",
       "983 - EXTENSIVE O.R. PROCEDURE UNRELATED TO PRI...   NaN NaN  \n",
       "987 - NON-EXTENSIVE O.R. PROC UNRELATED TO PRIN...  25.0 NaN  \n",
       "988 - NON-EXTENSIVE O.R. PROC UNRELATED TO PRIN...  28.0 NaN  \n",
       "989 - NON-EXTENSIVE O.R. PROC UNRELATED TO PRIN...   NaN NaN  \n",
       "\n",
       "[564 rows x 51 columns]"
      ]
     },
     "execution_count": 80,
     "metadata": {},
     "output_type": "execute_result"
    }
   ],
   "source": [
    "total_discharges = df.groupby([\"DRG Definition\", \"Provider State\"])[\"Total Discharges\"].sum().unstack()\n",
    "total_discharges # note we went from a list back into rows/columns"
   ]
  },
  {
   "cell_type": "markdown",
   "metadata": {},
   "source": [
    "#### Aside: lets quick check out what are the most frequent surgeries"
   ]
  },
  {
   "cell_type": "code",
   "execution_count": 81,
   "metadata": {},
   "outputs": [
    {
     "data": {
      "text/plain": [
       "DRG Definition\n",
       "001 - HEART TRANSPLANT OR IMPLANT OF HEART ASSIST SYSTEM W MCC                1495.0\n",
       "002 - HEART TRANSPLANT OR IMPLANT OF HEART ASSIST SYSTEM W/O MCC                23.0\n",
       "003 - ECMO OR TRACH W MV 96+ HRS OR PDX EXC FACE, MOUTH & NECK W MAJ O.R.    11987.0\n",
       "004 - TRACH W MV 96+ HRS OR PDX EXC FACE, MOUTH & NECK W/O MAJ O.R.          11774.0\n",
       "005 - LIVER TRANSPLANT W MCC OR INTESTINAL TRANSPLANT                          741.0\n",
       "Name: Total, dtype: float64"
      ]
     },
     "execution_count": 81,
     "metadata": {},
     "output_type": "execute_result"
    }
   ],
   "source": [
    "# for our map, we are going to want to \n",
    "# normalize the discharges or each surgery \n",
    "# for each \n",
    "# state by the total discharges across all \n",
    "# states for a particular type of surger\n",
    "#  lets add this to our total_discharges DF\n",
    "total_discharges[\"Total\"] = total_discharges.sum(axis = 1)\n",
    "total_discharges[\"Total\"].head() # just look at the first few"
   ]
  },
  {
   "cell_type": "code",
   "execution_count": 82,
   "metadata": {},
   "outputs": [
    {
     "data": {
      "text/html": [
       "<div>\n",
       "<style scoped>\n",
       "    .dataframe tbody tr th:only-of-type {\n",
       "        vertical-align: middle;\n",
       "    }\n",
       "\n",
       "    .dataframe tbody tr th {\n",
       "        vertical-align: top;\n",
       "    }\n",
       "\n",
       "    .dataframe thead th {\n",
       "        text-align: right;\n",
       "    }\n",
       "</style>\n",
       "<table border=\"1\" class=\"dataframe\">\n",
       "  <thead>\n",
       "    <tr style=\"text-align: right;\">\n",
       "      <th>Provider State</th>\n",
       "      <th>AK</th>\n",
       "      <th>AL</th>\n",
       "      <th>AR</th>\n",
       "      <th>AZ</th>\n",
       "      <th>CA</th>\n",
       "      <th>CO</th>\n",
       "      <th>CT</th>\n",
       "      <th>DC</th>\n",
       "      <th>DE</th>\n",
       "      <th>FL</th>\n",
       "      <th>...</th>\n",
       "      <th>TN</th>\n",
       "      <th>TX</th>\n",
       "      <th>UT</th>\n",
       "      <th>VA</th>\n",
       "      <th>VT</th>\n",
       "      <th>WA</th>\n",
       "      <th>WI</th>\n",
       "      <th>WV</th>\n",
       "      <th>WY</th>\n",
       "      <th>Total</th>\n",
       "    </tr>\n",
       "    <tr>\n",
       "      <th>DRG Definition</th>\n",
       "      <th></th>\n",
       "      <th></th>\n",
       "      <th></th>\n",
       "      <th></th>\n",
       "      <th></th>\n",
       "      <th></th>\n",
       "      <th></th>\n",
       "      <th></th>\n",
       "      <th></th>\n",
       "      <th></th>\n",
       "      <th></th>\n",
       "      <th></th>\n",
       "      <th></th>\n",
       "      <th></th>\n",
       "      <th></th>\n",
       "      <th></th>\n",
       "      <th></th>\n",
       "      <th></th>\n",
       "      <th></th>\n",
       "      <th></th>\n",
       "      <th></th>\n",
       "    </tr>\n",
       "  </thead>\n",
       "  <tbody>\n",
       "    <tr>\n",
       "      <th>470 - MAJOR JOINT REPLACEMENT OR REATTACHMENT OF LOWER EXTREMITY W/O MCC</th>\n",
       "      <td>855.0</td>\n",
       "      <td>9146.0</td>\n",
       "      <td>5692.0</td>\n",
       "      <td>10472.0</td>\n",
       "      <td>32930.0</td>\n",
       "      <td>7793.0</td>\n",
       "      <td>5689.0</td>\n",
       "      <td>1247.0</td>\n",
       "      <td>2119.0</td>\n",
       "      <td>31086.0</td>\n",
       "      <td>...</td>\n",
       "      <td>11133.0</td>\n",
       "      <td>29410.0</td>\n",
       "      <td>4455.0</td>\n",
       "      <td>13923.0</td>\n",
       "      <td>766.0</td>\n",
       "      <td>10027.0</td>\n",
       "      <td>9482.0</td>\n",
       "      <td>2925.0</td>\n",
       "      <td>651.0</td>\n",
       "      <td>458259.0</td>\n",
       "    </tr>\n",
       "    <tr>\n",
       "      <th>871 - SEPTICEMIA OR SEVERE SEPSIS W/O MV 96+ HOURS W MCC</th>\n",
       "      <td>452.0</td>\n",
       "      <td>6066.0</td>\n",
       "      <td>5187.0</td>\n",
       "      <td>6914.0</td>\n",
       "      <td>45434.0</td>\n",
       "      <td>4400.0</td>\n",
       "      <td>6390.0</td>\n",
       "      <td>643.0</td>\n",
       "      <td>1556.0</td>\n",
       "      <td>25209.0</td>\n",
       "      <td>...</td>\n",
       "      <td>11295.0</td>\n",
       "      <td>30595.0</td>\n",
       "      <td>2780.0</td>\n",
       "      <td>15119.0</td>\n",
       "      <td>739.0</td>\n",
       "      <td>10146.0</td>\n",
       "      <td>6712.0</td>\n",
       "      <td>3427.0</td>\n",
       "      <td>474.0</td>\n",
       "      <td>438597.0</td>\n",
       "    </tr>\n",
       "    <tr>\n",
       "      <th>291 - HEART FAILURE &amp; SHOCK W MCC</th>\n",
       "      <td>110.0</td>\n",
       "      <td>3894.0</td>\n",
       "      <td>2143.0</td>\n",
       "      <td>2252.0</td>\n",
       "      <td>14894.0</td>\n",
       "      <td>1273.0</td>\n",
       "      <td>2806.0</td>\n",
       "      <td>529.0</td>\n",
       "      <td>1019.0</td>\n",
       "      <td>14923.0</td>\n",
       "      <td>...</td>\n",
       "      <td>5285.0</td>\n",
       "      <td>13718.0</td>\n",
       "      <td>500.0</td>\n",
       "      <td>6815.0</td>\n",
       "      <td>303.0</td>\n",
       "      <td>3557.0</td>\n",
       "      <td>3028.0</td>\n",
       "      <td>1535.0</td>\n",
       "      <td>161.0</td>\n",
       "      <td>198889.0</td>\n",
       "    </tr>\n",
       "    <tr>\n",
       "      <th>292 - HEART FAILURE &amp; SHOCK W CC</th>\n",
       "      <td>166.0</td>\n",
       "      <td>4131.0</td>\n",
       "      <td>2382.0</td>\n",
       "      <td>2092.0</td>\n",
       "      <td>11654.0</td>\n",
       "      <td>1341.0</td>\n",
       "      <td>2714.0</td>\n",
       "      <td>902.0</td>\n",
       "      <td>936.0</td>\n",
       "      <td>14274.0</td>\n",
       "      <td>...</td>\n",
       "      <td>4899.0</td>\n",
       "      <td>13047.0</td>\n",
       "      <td>548.0</td>\n",
       "      <td>5863.0</td>\n",
       "      <td>318.0</td>\n",
       "      <td>2900.0</td>\n",
       "      <td>3175.0</td>\n",
       "      <td>1749.0</td>\n",
       "      <td>212.0</td>\n",
       "      <td>192918.0</td>\n",
       "    </tr>\n",
       "    <tr>\n",
       "      <th>392 - ESOPHAGITIS, GASTROENT &amp; MISC DIGEST DISORDERS W/O MCC</th>\n",
       "      <td>182.0</td>\n",
       "      <td>4920.0</td>\n",
       "      <td>2462.0</td>\n",
       "      <td>3050.0</td>\n",
       "      <td>12358.0</td>\n",
       "      <td>1728.0</td>\n",
       "      <td>2723.0</td>\n",
       "      <td>556.0</td>\n",
       "      <td>782.0</td>\n",
       "      <td>20322.0</td>\n",
       "      <td>...</td>\n",
       "      <td>4681.0</td>\n",
       "      <td>12692.0</td>\n",
       "      <td>492.0</td>\n",
       "      <td>4884.0</td>\n",
       "      <td>249.0</td>\n",
       "      <td>2435.0</td>\n",
       "      <td>2582.0</td>\n",
       "      <td>1632.0</td>\n",
       "      <td>168.0</td>\n",
       "      <td>190375.0</td>\n",
       "    </tr>\n",
       "  </tbody>\n",
       "</table>\n",
       "<p>5 rows × 52 columns</p>\n",
       "</div>"
      ],
      "text/plain": [
       "Provider State                                         AK      AL      AR  \\\n",
       "DRG Definition                                                              \n",
       "470 - MAJOR JOINT REPLACEMENT OR REATTACHMENT O...  855.0  9146.0  5692.0   \n",
       "871 - SEPTICEMIA OR SEVERE SEPSIS W/O MV 96+ HO...  452.0  6066.0  5187.0   \n",
       "291 - HEART FAILURE & SHOCK W MCC                   110.0  3894.0  2143.0   \n",
       "292 - HEART FAILURE & SHOCK W CC                    166.0  4131.0  2382.0   \n",
       "392 - ESOPHAGITIS, GASTROENT & MISC DIGEST DISO...  182.0  4920.0  2462.0   \n",
       "\n",
       "Provider State                                           AZ       CA      CO  \\\n",
       "DRG Definition                                                                 \n",
       "470 - MAJOR JOINT REPLACEMENT OR REATTACHMENT O...  10472.0  32930.0  7793.0   \n",
       "871 - SEPTICEMIA OR SEVERE SEPSIS W/O MV 96+ HO...   6914.0  45434.0  4400.0   \n",
       "291 - HEART FAILURE & SHOCK W MCC                    2252.0  14894.0  1273.0   \n",
       "292 - HEART FAILURE & SHOCK W CC                     2092.0  11654.0  1341.0   \n",
       "392 - ESOPHAGITIS, GASTROENT & MISC DIGEST DISO...   3050.0  12358.0  1728.0   \n",
       "\n",
       "Provider State                                          CT      DC      DE  \\\n",
       "DRG Definition                                                               \n",
       "470 - MAJOR JOINT REPLACEMENT OR REATTACHMENT O...  5689.0  1247.0  2119.0   \n",
       "871 - SEPTICEMIA OR SEVERE SEPSIS W/O MV 96+ HO...  6390.0   643.0  1556.0   \n",
       "291 - HEART FAILURE & SHOCK W MCC                   2806.0   529.0  1019.0   \n",
       "292 - HEART FAILURE & SHOCK W CC                    2714.0   902.0   936.0   \n",
       "392 - ESOPHAGITIS, GASTROENT & MISC DIGEST DISO...  2723.0   556.0   782.0   \n",
       "\n",
       "Provider State                                           FL  ...       TN  \\\n",
       "DRG Definition                                               ...            \n",
       "470 - MAJOR JOINT REPLACEMENT OR REATTACHMENT O...  31086.0  ...  11133.0   \n",
       "871 - SEPTICEMIA OR SEVERE SEPSIS W/O MV 96+ HO...  25209.0  ...  11295.0   \n",
       "291 - HEART FAILURE & SHOCK W MCC                   14923.0  ...   5285.0   \n",
       "292 - HEART FAILURE & SHOCK W CC                    14274.0  ...   4899.0   \n",
       "392 - ESOPHAGITIS, GASTROENT & MISC DIGEST DISO...  20322.0  ...   4681.0   \n",
       "\n",
       "Provider State                                           TX      UT       VA  \\\n",
       "DRG Definition                                                                 \n",
       "470 - MAJOR JOINT REPLACEMENT OR REATTACHMENT O...  29410.0  4455.0  13923.0   \n",
       "871 - SEPTICEMIA OR SEVERE SEPSIS W/O MV 96+ HO...  30595.0  2780.0  15119.0   \n",
       "291 - HEART FAILURE & SHOCK W MCC                   13718.0   500.0   6815.0   \n",
       "292 - HEART FAILURE & SHOCK W CC                    13047.0   548.0   5863.0   \n",
       "392 - ESOPHAGITIS, GASTROENT & MISC DIGEST DISO...  12692.0   492.0   4884.0   \n",
       "\n",
       "Provider State                                         VT       WA      WI  \\\n",
       "DRG Definition                                                               \n",
       "470 - MAJOR JOINT REPLACEMENT OR REATTACHMENT O...  766.0  10027.0  9482.0   \n",
       "871 - SEPTICEMIA OR SEVERE SEPSIS W/O MV 96+ HO...  739.0  10146.0  6712.0   \n",
       "291 - HEART FAILURE & SHOCK W MCC                   303.0   3557.0  3028.0   \n",
       "292 - HEART FAILURE & SHOCK W CC                    318.0   2900.0  3175.0   \n",
       "392 - ESOPHAGITIS, GASTROENT & MISC DIGEST DISO...  249.0   2435.0  2582.0   \n",
       "\n",
       "Provider State                                          WV     WY     Total  \n",
       "DRG Definition                                                               \n",
       "470 - MAJOR JOINT REPLACEMENT OR REATTACHMENT O...  2925.0  651.0  458259.0  \n",
       "871 - SEPTICEMIA OR SEVERE SEPSIS W/O MV 96+ HO...  3427.0  474.0  438597.0  \n",
       "291 - HEART FAILURE & SHOCK W MCC                   1535.0  161.0  198889.0  \n",
       "292 - HEART FAILURE & SHOCK W CC                    1749.0  212.0  192918.0  \n",
       "392 - ESOPHAGITIS, GASTROENT & MISC DIGEST DISO...  1632.0  168.0  190375.0  \n",
       "\n",
       "[5 rows x 52 columns]"
      ]
     },
     "execution_count": 82,
     "metadata": {},
     "output_type": "execute_result"
    }
   ],
   "source": [
    "# finally, lets check out the most often\n",
    "#  performed surgery across all states\n",
    "\n",
    "# we can do this by sorting our DF by this total we just\n",
    "# calculated:\n",
    "total_discharges.sort_values(by = \"Total\", \n",
    "                             ascending=False, \n",
    "                             inplace = True)\n",
    "\n",
    "# now lets just look at the first few of our \n",
    "#  sorted array\n",
    "total_discharges.head()\n",
    "\n",
    "# so, from this we see that joint replacement\n",
    "#  or reattachment of a lower extremeity is \n",
    "#  the most likely surgery (in number of discharges)\n",
    "# followed by surgeries for sepsis and then heart failure"
   ]
  },
  {
   "cell_type": "code",
   "execution_count": 83,
   "metadata": {},
   "outputs": [
    {
     "data": {
      "text/html": [
       "<div>\n",
       "<style scoped>\n",
       "    .dataframe tbody tr th:only-of-type {\n",
       "        vertical-align: middle;\n",
       "    }\n",
       "\n",
       "    .dataframe tbody tr th {\n",
       "        vertical-align: top;\n",
       "    }\n",
       "\n",
       "    .dataframe thead th {\n",
       "        text-align: right;\n",
       "    }\n",
       "</style>\n",
       "<table border=\"1\" class=\"dataframe\">\n",
       "  <thead>\n",
       "    <tr style=\"text-align: right;\">\n",
       "      <th>Provider State</th>\n",
       "      <th>AK</th>\n",
       "      <th>AL</th>\n",
       "      <th>AR</th>\n",
       "      <th>AZ</th>\n",
       "      <th>CA</th>\n",
       "      <th>CO</th>\n",
       "      <th>CT</th>\n",
       "      <th>DC</th>\n",
       "      <th>DE</th>\n",
       "      <th>FL</th>\n",
       "      <th>...</th>\n",
       "      <th>SD</th>\n",
       "      <th>TN</th>\n",
       "      <th>TX</th>\n",
       "      <th>UT</th>\n",
       "      <th>VA</th>\n",
       "      <th>VT</th>\n",
       "      <th>WA</th>\n",
       "      <th>WI</th>\n",
       "      <th>WV</th>\n",
       "      <th>WY</th>\n",
       "    </tr>\n",
       "    <tr>\n",
       "      <th>DRG Definition</th>\n",
       "      <th></th>\n",
       "      <th></th>\n",
       "      <th></th>\n",
       "      <th></th>\n",
       "      <th></th>\n",
       "      <th></th>\n",
       "      <th></th>\n",
       "      <th></th>\n",
       "      <th></th>\n",
       "      <th></th>\n",
       "      <th></th>\n",
       "      <th></th>\n",
       "      <th></th>\n",
       "      <th></th>\n",
       "      <th></th>\n",
       "      <th></th>\n",
       "      <th></th>\n",
       "      <th></th>\n",
       "      <th></th>\n",
       "      <th></th>\n",
       "      <th></th>\n",
       "    </tr>\n",
       "  </thead>\n",
       "  <tbody>\n",
       "    <tr>\n",
       "      <th>470 - MAJOR JOINT REPLACEMENT OR REATTACHMENT OF LOWER EXTREMITY W/O MCC</th>\n",
       "      <td>855.0</td>\n",
       "      <td>9146.0</td>\n",
       "      <td>5692.0</td>\n",
       "      <td>10472.0</td>\n",
       "      <td>32930.0</td>\n",
       "      <td>7793.0</td>\n",
       "      <td>5689.0</td>\n",
       "      <td>1247.0</td>\n",
       "      <td>2119.0</td>\n",
       "      <td>31086.0</td>\n",
       "      <td>...</td>\n",
       "      <td>3200.0</td>\n",
       "      <td>11133.0</td>\n",
       "      <td>29410.0</td>\n",
       "      <td>4455.0</td>\n",
       "      <td>13923.0</td>\n",
       "      <td>766.0</td>\n",
       "      <td>10027.0</td>\n",
       "      <td>9482.0</td>\n",
       "      <td>2925.0</td>\n",
       "      <td>651.0</td>\n",
       "    </tr>\n",
       "    <tr>\n",
       "      <th>871 - SEPTICEMIA OR SEVERE SEPSIS W/O MV 96+ HOURS W MCC</th>\n",
       "      <td>452.0</td>\n",
       "      <td>6066.0</td>\n",
       "      <td>5187.0</td>\n",
       "      <td>6914.0</td>\n",
       "      <td>45434.0</td>\n",
       "      <td>4400.0</td>\n",
       "      <td>6390.0</td>\n",
       "      <td>643.0</td>\n",
       "      <td>1556.0</td>\n",
       "      <td>25209.0</td>\n",
       "      <td>...</td>\n",
       "      <td>1574.0</td>\n",
       "      <td>11295.0</td>\n",
       "      <td>30595.0</td>\n",
       "      <td>2780.0</td>\n",
       "      <td>15119.0</td>\n",
       "      <td>739.0</td>\n",
       "      <td>10146.0</td>\n",
       "      <td>6712.0</td>\n",
       "      <td>3427.0</td>\n",
       "      <td>474.0</td>\n",
       "    </tr>\n",
       "    <tr>\n",
       "      <th>291 - HEART FAILURE &amp; SHOCK W MCC</th>\n",
       "      <td>110.0</td>\n",
       "      <td>3894.0</td>\n",
       "      <td>2143.0</td>\n",
       "      <td>2252.0</td>\n",
       "      <td>14894.0</td>\n",
       "      <td>1273.0</td>\n",
       "      <td>2806.0</td>\n",
       "      <td>529.0</td>\n",
       "      <td>1019.0</td>\n",
       "      <td>14923.0</td>\n",
       "      <td>...</td>\n",
       "      <td>540.0</td>\n",
       "      <td>5285.0</td>\n",
       "      <td>13718.0</td>\n",
       "      <td>500.0</td>\n",
       "      <td>6815.0</td>\n",
       "      <td>303.0</td>\n",
       "      <td>3557.0</td>\n",
       "      <td>3028.0</td>\n",
       "      <td>1535.0</td>\n",
       "      <td>161.0</td>\n",
       "    </tr>\n",
       "    <tr>\n",
       "      <th>292 - HEART FAILURE &amp; SHOCK W CC</th>\n",
       "      <td>166.0</td>\n",
       "      <td>4131.0</td>\n",
       "      <td>2382.0</td>\n",
       "      <td>2092.0</td>\n",
       "      <td>11654.0</td>\n",
       "      <td>1341.0</td>\n",
       "      <td>2714.0</td>\n",
       "      <td>902.0</td>\n",
       "      <td>936.0</td>\n",
       "      <td>14274.0</td>\n",
       "      <td>...</td>\n",
       "      <td>511.0</td>\n",
       "      <td>4899.0</td>\n",
       "      <td>13047.0</td>\n",
       "      <td>548.0</td>\n",
       "      <td>5863.0</td>\n",
       "      <td>318.0</td>\n",
       "      <td>2900.0</td>\n",
       "      <td>3175.0</td>\n",
       "      <td>1749.0</td>\n",
       "      <td>212.0</td>\n",
       "    </tr>\n",
       "    <tr>\n",
       "      <th>392 - ESOPHAGITIS, GASTROENT &amp; MISC DIGEST DISORDERS W/O MCC</th>\n",
       "      <td>182.0</td>\n",
       "      <td>4920.0</td>\n",
       "      <td>2462.0</td>\n",
       "      <td>3050.0</td>\n",
       "      <td>12358.0</td>\n",
       "      <td>1728.0</td>\n",
       "      <td>2723.0</td>\n",
       "      <td>556.0</td>\n",
       "      <td>782.0</td>\n",
       "      <td>20322.0</td>\n",
       "      <td>...</td>\n",
       "      <td>436.0</td>\n",
       "      <td>4681.0</td>\n",
       "      <td>12692.0</td>\n",
       "      <td>492.0</td>\n",
       "      <td>4884.0</td>\n",
       "      <td>249.0</td>\n",
       "      <td>2435.0</td>\n",
       "      <td>2582.0</td>\n",
       "      <td>1632.0</td>\n",
       "      <td>168.0</td>\n",
       "    </tr>\n",
       "  </tbody>\n",
       "</table>\n",
       "<p>5 rows × 51 columns</p>\n",
       "</div>"
      ],
      "text/plain": [
       "Provider State                                         AK      AL      AR  \\\n",
       "DRG Definition                                                              \n",
       "470 - MAJOR JOINT REPLACEMENT OR REATTACHMENT O...  855.0  9146.0  5692.0   \n",
       "871 - SEPTICEMIA OR SEVERE SEPSIS W/O MV 96+ HO...  452.0  6066.0  5187.0   \n",
       "291 - HEART FAILURE & SHOCK W MCC                   110.0  3894.0  2143.0   \n",
       "292 - HEART FAILURE & SHOCK W CC                    166.0  4131.0  2382.0   \n",
       "392 - ESOPHAGITIS, GASTROENT & MISC DIGEST DISO...  182.0  4920.0  2462.0   \n",
       "\n",
       "Provider State                                           AZ       CA      CO  \\\n",
       "DRG Definition                                                                 \n",
       "470 - MAJOR JOINT REPLACEMENT OR REATTACHMENT O...  10472.0  32930.0  7793.0   \n",
       "871 - SEPTICEMIA OR SEVERE SEPSIS W/O MV 96+ HO...   6914.0  45434.0  4400.0   \n",
       "291 - HEART FAILURE & SHOCK W MCC                    2252.0  14894.0  1273.0   \n",
       "292 - HEART FAILURE & SHOCK W CC                     2092.0  11654.0  1341.0   \n",
       "392 - ESOPHAGITIS, GASTROENT & MISC DIGEST DISO...   3050.0  12358.0  1728.0   \n",
       "\n",
       "Provider State                                          CT      DC      DE  \\\n",
       "DRG Definition                                                               \n",
       "470 - MAJOR JOINT REPLACEMENT OR REATTACHMENT O...  5689.0  1247.0  2119.0   \n",
       "871 - SEPTICEMIA OR SEVERE SEPSIS W/O MV 96+ HO...  6390.0   643.0  1556.0   \n",
       "291 - HEART FAILURE & SHOCK W MCC                   2806.0   529.0  1019.0   \n",
       "292 - HEART FAILURE & SHOCK W CC                    2714.0   902.0   936.0   \n",
       "392 - ESOPHAGITIS, GASTROENT & MISC DIGEST DISO...  2723.0   556.0   782.0   \n",
       "\n",
       "Provider State                                           FL  ...      SD  \\\n",
       "DRG Definition                                               ...           \n",
       "470 - MAJOR JOINT REPLACEMENT OR REATTACHMENT O...  31086.0  ...  3200.0   \n",
       "871 - SEPTICEMIA OR SEVERE SEPSIS W/O MV 96+ HO...  25209.0  ...  1574.0   \n",
       "291 - HEART FAILURE & SHOCK W MCC                   14923.0  ...   540.0   \n",
       "292 - HEART FAILURE & SHOCK W CC                    14274.0  ...   511.0   \n",
       "392 - ESOPHAGITIS, GASTROENT & MISC DIGEST DISO...  20322.0  ...   436.0   \n",
       "\n",
       "Provider State                                           TN       TX      UT  \\\n",
       "DRG Definition                                                                 \n",
       "470 - MAJOR JOINT REPLACEMENT OR REATTACHMENT O...  11133.0  29410.0  4455.0   \n",
       "871 - SEPTICEMIA OR SEVERE SEPSIS W/O MV 96+ HO...  11295.0  30595.0  2780.0   \n",
       "291 - HEART FAILURE & SHOCK W MCC                    5285.0  13718.0   500.0   \n",
       "292 - HEART FAILURE & SHOCK W CC                     4899.0  13047.0   548.0   \n",
       "392 - ESOPHAGITIS, GASTROENT & MISC DIGEST DISO...   4681.0  12692.0   492.0   \n",
       "\n",
       "Provider State                                           VA     VT       WA  \\\n",
       "DRG Definition                                                                \n",
       "470 - MAJOR JOINT REPLACEMENT OR REATTACHMENT O...  13923.0  766.0  10027.0   \n",
       "871 - SEPTICEMIA OR SEVERE SEPSIS W/O MV 96+ HO...  15119.0  739.0  10146.0   \n",
       "291 - HEART FAILURE & SHOCK W MCC                    6815.0  303.0   3557.0   \n",
       "292 - HEART FAILURE & SHOCK W CC                     5863.0  318.0   2900.0   \n",
       "392 - ESOPHAGITIS, GASTROENT & MISC DIGEST DISO...   4884.0  249.0   2435.0   \n",
       "\n",
       "Provider State                                          WI      WV     WY  \n",
       "DRG Definition                                                             \n",
       "470 - MAJOR JOINT REPLACEMENT OR REATTACHMENT O...  9482.0  2925.0  651.0  \n",
       "871 - SEPTICEMIA OR SEVERE SEPSIS W/O MV 96+ HO...  6712.0  3427.0  474.0  \n",
       "291 - HEART FAILURE & SHOCK W MCC                   3028.0  1535.0  161.0  \n",
       "292 - HEART FAILURE & SHOCK W CC                    3175.0  1749.0  212.0  \n",
       "392 - ESOPHAGITIS, GASTROENT & MISC DIGEST DISO...  2582.0  1632.0  168.0  \n",
       "\n",
       "[5 rows x 51 columns]"
      ]
     },
     "execution_count": 83,
     "metadata": {},
     "output_type": "execute_result"
    }
   ],
   "source": [
    "# neat.  We won't need these for plotting, so we can remove our\n",
    "# total column we just calculated\n",
    "del total_discharges[\"Total\"]\n",
    "total_discharges.head()\n",
    "# now we see that we are back to just states & surgeries\n",
    "#  *but* our sorting is still by the total that we \n",
    "# previously calculated.\n",
    "# spiffy!"
   ]
  },
  {
   "cell_type": "markdown",
   "metadata": {},
   "source": [
    "#### End aside!"
   ]
  },
  {
   "cell_type": "markdown",
   "metadata": {},
   "source": [
    "Now, we have to explicitly import market map, for example if we try:"
   ]
  },
  {
   "cell_type": "code",
   "execution_count": 85,
   "metadata": {},
   "outputs": [
    {
     "ename": "AttributeError",
     "evalue": "module 'bqplot' has no attribute 'market_map'",
     "output_type": "error",
     "traceback": [
      "\u001b[0;31m---------------------------------------------------------------------------\u001b[0m",
      "\u001b[0;31mAttributeError\u001b[0m                            Traceback (most recent call last)",
      "\u001b[0;32m<ipython-input-85-3a1b1220133f>\u001b[0m in \u001b[0;36m<module>\u001b[0;34m\u001b[0m\n\u001b[0;32m----> 1\u001b[0;31m \u001b[0mbqplot\u001b[0m\u001b[0;34m.\u001b[0m\u001b[0mmarket_map\u001b[0m\u001b[0;34m\u001b[0m\u001b[0;34m\u001b[0m\u001b[0m\n\u001b[0m",
      "\u001b[0;31mAttributeError\u001b[0m: module 'bqplot' has no attribute 'market_map'"
     ]
    }
   ],
   "source": [
    "bqplot.market_map"
   ]
  },
  {
   "cell_type": "markdown",
   "metadata": {},
   "source": [
    "We get an error.  By default bqplot does not import all packages, we have to explicitely import market_map:"
   ]
  },
  {
   "cell_type": "code",
   "execution_count": 86,
   "metadata": {},
   "outputs": [],
   "source": [
    "import bqplot.market_map # for access to market_map"
   ]
  },
  {
   "cell_type": "markdown",
   "metadata": {},
   "source": [
    "Now we'll do our usual `bqplot` thing with scales, axes and marks, but with our new `market_map` mark:"
   ]
  },
  {
   "cell_type": "code",
   "execution_count": 87,
   "metadata": {},
   "outputs": [],
   "source": [
    "# (1) scales\n",
    "x_sc, y_sc = bqplot.OrdinalScale(), bqplot.OrdinalScale() # note, just a different way to call things in Python\n",
    "c_sc = bqplot.ColorScale(scheme=\"Blues\")"
   ]
  },
  {
   "cell_type": "markdown",
   "metadata": {},
   "source": [
    "We only need a color axis:"
   ]
  },
  {
   "cell_type": "code",
   "execution_count": 88,
   "metadata": {},
   "outputs": [],
   "source": [
    "c_ax = bqplot.ColorAxis(scale = c_sc, orientation = 'vertical')"
   ]
  },
  {
   "cell_type": "markdown",
   "metadata": {},
   "source": [
    "What should we plot in color?  Let's take a look at the total discharges for the most popular surgical procedure (the 0th index):"
   ]
  },
  {
   "cell_type": "code",
   "execution_count": 89,
   "metadata": {},
   "outputs": [
    {
     "data": {
      "text/plain": [
       "(array([  855.,  9146.,  5692., 10472., 32930.,  7793.,  5689.,  1247.,\n",
       "         2119., 31086., 12405.,   784.,  6872.,  2665., 20706., 11813.,\n",
       "         6983.,  6926.,  5696., 11333.,  9708.,  2563., 16534., 11220.,\n",
       "        11783.,  4728.,  2259., 16189.,  2080.,  4448.,  2693., 11418.,\n",
       "         2212.,  2909., 21171., 16024.,  7751.,  5045., 18602.,  1336.,\n",
       "         8402.,  3200., 11133., 29410.,  4455., 13923.,   766., 10027.,\n",
       "         9482.,  2925.,   651.]),\n",
       " array(['AK', 'AL', 'AR', 'AZ', 'CA', 'CO', 'CT', 'DC', 'DE', 'FL', 'GA',\n",
       "        'HI', 'IA', 'ID', 'IL', 'IN', 'KS', 'KY', 'LA', 'MA', 'MD', 'ME',\n",
       "        'MI', 'MN', 'MO', 'MS', 'MT', 'NC', 'ND', 'NE', 'NH', 'NJ', 'NM',\n",
       "        'NV', 'NY', 'OH', 'OK', 'OR', 'PA', 'RI', 'SC', 'SD', 'TN', 'TX',\n",
       "        'UT', 'VA', 'VT', 'WA', 'WI', 'WV', 'WY'], dtype=object))"
      ]
     },
     "execution_count": 89,
     "metadata": {},
     "output_type": "execute_result"
    }
   ],
   "source": [
    "total_discharges.iloc[0].values, total_discharges.columns.values"
   ]
  },
  {
   "cell_type": "code",
   "execution_count": 92,
   "metadata": {},
   "outputs": [
    {
     "data": {
      "text/plain": [
       "'470 - MAJOR JOINT REPLACEMENT OR REATTACHMENT OF LOWER EXTREMITY W/O MCC'"
      ]
     },
     "execution_count": 92,
     "metadata": {},
     "output_type": "execute_result"
    }
   ],
   "source": [
    "total_discharges.iloc[0].name # most popular surgery"
   ]
  },
  {
   "cell_type": "code",
   "execution_count": 93,
   "metadata": {},
   "outputs": [
    {
     "data": {
      "text/plain": [
       "('871 - SEPTICEMIA OR SEVERE SEPSIS W/O MV 96+ HOURS W MCC',\n",
       " array([  452.,  6066.,  5187.,  6914., 45434.,  4400.,  6390.,   643.,\n",
       "         1556., 25209., 11571.,  1401.,  4431.,  1835., 19489., 10571.,\n",
       "         4708.,  7422.,  6235., 11102.,  8731.,  1876., 19827.,  6111.,\n",
       "        10430.,  5889.,  1298., 16713.,  1261.,  2110.,  1857., 13371.,\n",
       "         2195.,  2823., 27868., 14541.,  7000.,  3896., 17787.,  1535.,\n",
       "         7601.,  1574., 11295., 30595.,  2780., 15119.,   739., 10146.,\n",
       "         6712.,  3427.,   474.]))"
      ]
     },
     "execution_count": 93,
     "metadata": {},
     "output_type": "execute_result"
    }
   ],
   "source": [
    "total_discharges.iloc[1].name, total_discharges.iloc[1].values # the 2nd most popular"
   ]
  },
  {
   "cell_type": "markdown",
   "metadata": {},
   "source": [
    "Let's use MarketMap to plot the most popular surgery number by state:"
   ]
  },
  {
   "cell_type": "code",
   "execution_count": 94,
   "metadata": {},
   "outputs": [],
   "source": [
    "# (3) Marks... & fig?\n",
    "mmap = bqplot.market_map.MarketMap(color = total_discharges.iloc[0].values, \n",
    "                                  names = total_discharges.columns.values,\n",
    "                                  scales={'color':c_sc}, \n",
    "                                   axes=[c_ax])"
   ]
  },
  {
   "cell_type": "markdown",
   "metadata": {},
   "source": [
    "Let's show our map:"
   ]
  },
  {
   "cell_type": "code",
   "execution_count": 96,
   "metadata": {},
   "outputs": [
    {
     "data": {
      "application/vnd.jupyter.widget-view+json": {
       "model_id": "52f9fc73ad0e4eb99fbda979bc3ed9f0",
       "version_major": 2,
       "version_minor": 0
      },
      "text/plain": [
       "MarketMap(axes=[ColorAxis(scale=ColorScale(scheme='Blues'))], color=array([  855.,  9146.,  5692., 10472., 329…"
      ]
     },
     "metadata": {},
     "output_type": "display_data"
    }
   ],
   "source": [
    "mmap"
   ]
  },
  {
   "cell_type": "markdown",
   "metadata": {},
   "source": [
    "A few things to note: you'll see that I didn't do the last process of making a figure!  This is because MarketMap is a special kind of `bqplot` that makes its own self contained figure."
   ]
  },
  {
   "cell_type": "markdown",
   "metadata": {},
   "source": [
    "Ok, so far so good, but again, we don't have any interactivity!  Let's add some:"
   ]
  },
  {
   "cell_type": "code",
   "execution_count": 99,
   "metadata": {},
   "outputs": [
    {
     "data": {
      "application/vnd.jupyter.widget-view+json": {
       "model_id": "741141875ea24c4eb2914e9d9e87e369",
       "version_major": 2,
       "version_minor": 0
      },
      "text/plain": [
       "MarketMap(axes=[ColorAxis(orientation='vertical', scale=ColorScale(scheme='Blues'))], color=array([  855.,  91…"
      ]
     },
     "metadata": {},
     "output_type": "display_data"
    },
    {
     "name": "stdout",
     "output_type": "stream",
     "text": [
      "{'name': 'selected', 'old': [], 'new': ['IA'], 'owner': MarketMap(axes=[ColorAxis(scale=ColorScale(scheme='Blues'))], color=array([  855.,  9146.,  5692., 10472., 32930.,  7793.,  5689.,  1247.,\n",
      "        2119., 31086., 12405.,   784.,  6872.,  2665., 20706., 11813.,\n",
      "        6983.,  6926.,  5696., 11333.,  9708.,  2563., 16534., 11220.,\n",
      "       11783.,  4728.,  2259., 16189.,  2080.,  4448.,  2693., 11418.,\n",
      "        2212.,  2909., 21171., 16024.,  7751.,  5045., 18602.,  1336.,\n",
      "        8402.,  3200., 11133., 29410.,  4455., 13923.,   766., 10027.,\n",
      "        9482.,  2925.,   651.]), colors=['#1f77b4', '#ff7f0e', '#2ca02c', '#d62728', '#9467bd', '#8c564b', '#e377c2', '#7f7f7f', '#bcbd22', '#17becf'], layout=Layout(min_width='125px'), map_margin={'top': 50, 'right': 50, 'left': 50, 'bottom': 50}, names=array(['AK', 'AL', 'AR', 'AZ', 'CA', 'CO', 'CT', 'DC', 'DE', 'FL', 'GA',\n",
      "       'HI', 'IA', 'ID', 'IL', 'IN', 'KS', 'KY', 'LA', 'MA', 'MD', 'ME',\n",
      "       'MI', 'MN', 'MO', 'MS', 'MT', 'NC', 'ND', 'NE', 'NH', 'NJ', 'NM',\n",
      "       'NV', 'NY', 'OH', 'OK', 'OR', 'PA', 'RI', 'SC', 'SD', 'TN', 'TX',\n",
      "       'UT', 'VA', 'VT', 'WA', 'WI', 'WV', 'WY'], dtype=object), scales={'color': ColorScale(scheme='Blues')}, selected=['IA']), 'type': 'change'}\n",
      "{'name': 'selected', 'old': ['IA'], 'new': ['IA', 'MA'], 'owner': MarketMap(axes=[ColorAxis(scale=ColorScale(scheme='Blues'))], color=array([  855.,  9146.,  5692., 10472., 32930.,  7793.,  5689.,  1247.,\n",
      "        2119., 31086., 12405.,   784.,  6872.,  2665., 20706., 11813.,\n",
      "        6983.,  6926.,  5696., 11333.,  9708.,  2563., 16534., 11220.,\n",
      "       11783.,  4728.,  2259., 16189.,  2080.,  4448.,  2693., 11418.,\n",
      "        2212.,  2909., 21171., 16024.,  7751.,  5045., 18602.,  1336.,\n",
      "        8402.,  3200., 11133., 29410.,  4455., 13923.,   766., 10027.,\n",
      "        9482.,  2925.,   651.]), colors=['#1f77b4', '#ff7f0e', '#2ca02c', '#d62728', '#9467bd', '#8c564b', '#e377c2', '#7f7f7f', '#bcbd22', '#17becf'], layout=Layout(min_width='125px'), map_margin={'top': 50, 'right': 50, 'left': 50, 'bottom': 50}, names=array(['AK', 'AL', 'AR', 'AZ', 'CA', 'CO', 'CT', 'DC', 'DE', 'FL', 'GA',\n",
      "       'HI', 'IA', 'ID', 'IL', 'IN', 'KS', 'KY', 'LA', 'MA', 'MD', 'ME',\n",
      "       'MI', 'MN', 'MO', 'MS', 'MT', 'NC', 'ND', 'NE', 'NH', 'NJ', 'NM',\n",
      "       'NV', 'NY', 'OH', 'OK', 'OR', 'PA', 'RI', 'SC', 'SD', 'TN', 'TX',\n",
      "       'UT', 'VA', 'VT', 'WA', 'WI', 'WV', 'WY'], dtype=object), scales={'color': ColorScale(scheme='Blues')}, selected=['IA', 'MA']), 'type': 'change'}\n",
      "{'name': 'selected', 'old': ['IA', 'MA'], 'new': ['IA'], 'owner': MarketMap(axes=[ColorAxis(scale=ColorScale(scheme='Blues'))], color=array([  855.,  9146.,  5692., 10472., 32930.,  7793.,  5689.,  1247.,\n",
      "        2119., 31086., 12405.,   784.,  6872.,  2665., 20706., 11813.,\n",
      "        6983.,  6926.,  5696., 11333.,  9708.,  2563., 16534., 11220.,\n",
      "       11783.,  4728.,  2259., 16189.,  2080.,  4448.,  2693., 11418.,\n",
      "        2212.,  2909., 21171., 16024.,  7751.,  5045., 18602.,  1336.,\n",
      "        8402.,  3200., 11133., 29410.,  4455., 13923.,   766., 10027.,\n",
      "        9482.,  2925.,   651.]), colors=['#1f77b4', '#ff7f0e', '#2ca02c', '#d62728', '#9467bd', '#8c564b', '#e377c2', '#7f7f7f', '#bcbd22', '#17becf'], layout=Layout(min_width='125px'), map_margin={'top': 50, 'right': 50, 'left': 50, 'bottom': 50}, names=array(['AK', 'AL', 'AR', 'AZ', 'CA', 'CO', 'CT', 'DC', 'DE', 'FL', 'GA',\n",
      "       'HI', 'IA', 'ID', 'IL', 'IN', 'KS', 'KY', 'LA', 'MA', 'MD', 'ME',\n",
      "       'MI', 'MN', 'MO', 'MS', 'MT', 'NC', 'ND', 'NE', 'NH', 'NJ', 'NM',\n",
      "       'NV', 'NY', 'OH', 'OK', 'OR', 'PA', 'RI', 'SC', 'SD', 'TN', 'TX',\n",
      "       'UT', 'VA', 'VT', 'WA', 'WI', 'WV', 'WY'], dtype=object), scales={'color': ColorScale(scheme='Blues')}, selected=['IA']), 'type': 'change'}\n"
     ]
    }
   ],
   "source": [
    "# (1) scales\n",
    "x_sc, y_sc = bqplot.OrdinalScale(), bqplot.OrdinalScale() # note, just a different way to call things in Python\n",
    "c_sc = bqplot.ColorScale(scheme=\"Blues\")\n",
    "# (2) axes\n",
    "c_ax = bqplot.ColorAxis(scale = c_sc, orientation = 'vertical')\n",
    "\n",
    "# (3/5) Marks/fig\n",
    "mmap = bqplot.market_map.MarketMap(color = total_discharges.iloc[0].values, \n",
    "                                  names = total_discharges.columns.values,\n",
    "                                  scales={'color':c_sc}, \n",
    "                                   axes=[c_ax])\n",
    "\n",
    "# (4) interactivity\n",
    "def show_data(change):\n",
    "    print(change)\n",
    "    \n",
    "mmap.observe(show_data, 'selected')\n",
    "\n",
    "mmap"
   ]
  },
  {
   "cell_type": "markdown",
   "metadata": {},
   "source": [
    "So we see while this is a new kind of `bqplot` object, it has all the \"changes\" we've become accustomed to.  \n",
    "\n",
    "Let's build up our interactivity:"
   ]
  },
  {
   "cell_type": "code",
   "execution_count": 101,
   "metadata": {},
   "outputs": [
    {
     "data": {
      "application/vnd.jupyter.widget-view+json": {
       "model_id": "95fe35370bab4c8fa72ed530b4d8d389",
       "version_major": 2,
       "version_minor": 0
      },
      "text/plain": [
       "MarketMap(axes=[ColorAxis(orientation='vertical', scale=ColorScale(scheme='Blues'))], color=array([  855.,  91…"
      ]
     },
     "metadata": {},
     "output_type": "display_data"
    },
    {
     "name": "stdout",
     "output_type": "stream",
     "text": [
      "['MA']\n",
      "['MA', 'ND']\n",
      "['MA']\n",
      "[]\n",
      "['AK']\n",
      "['AK', 'NY']\n",
      "['AK']\n",
      "[]\n"
     ]
    }
   ],
   "source": [
    "# (1) scales\n",
    "x_sc, y_sc = bqplot.OrdinalScale(), bqplot.OrdinalScale() # note, just a different way to call things in Python\n",
    "c_sc = bqplot.ColorScale(scheme=\"Blues\")\n",
    "# (2) axes\n",
    "c_ax = bqplot.ColorAxis(scale = c_sc, orientation = 'vertical')\n",
    "\n",
    "# (3/5) Marks/fig\n",
    "mmap = bqplot.market_map.MarketMap(color = total_discharges.iloc[0].values, \n",
    "                                  names = total_discharges.columns.values,\n",
    "                                  scales={'color':c_sc}, \n",
    "                                   axes=[c_ax])\n",
    "\n",
    "# (4) interactivity\n",
    "def show_data(change):\n",
    "    print(change['owner'].selected)\n",
    "    \n",
    "mmap.observe(show_data, 'selected')\n",
    "\n",
    "mmap"
   ]
  },
  {
   "cell_type": "markdown",
   "metadata": {},
   "source": [
    "One thing we might want to do is sum up all of the discharges for all of the states selected.  How do we map states and names?  Let's print out a few more things:"
   ]
  },
  {
   "cell_type": "code",
   "execution_count": 103,
   "metadata": {},
   "outputs": [
    {
     "data": {
      "application/vnd.jupyter.widget-view+json": {
       "model_id": "eb1e1f2ff3ec46bfbbe326d14f20d8ea",
       "version_major": 2,
       "version_minor": 0
      },
      "text/plain": [
       "MarketMap(axes=[ColorAxis(orientation='vertical', scale=ColorScale(scheme='Blues'))], color=array([  855.,  91…"
      ]
     },
     "metadata": {},
     "output_type": "display_data"
    },
    {
     "name": "stdout",
     "output_type": "stream",
     "text": [
      "['DC']\n",
      "[  855.  9146.  5692. 10472. 32930.  7793.  5689.  1247.  2119. 31086.\n",
      " 12405.   784.  6872.  2665. 20706. 11813.  6983.  6926.  5696. 11333.\n",
      "  9708.  2563. 16534. 11220. 11783.  4728.  2259. 16189.  2080.  4448.\n",
      "  2693. 11418.  2212.  2909. 21171. 16024.  7751.  5045. 18602.  1336.\n",
      "  8402.  3200. 11133. 29410.  4455. 13923.   766. 10027.  9482.  2925.\n",
      "   651.]\n",
      "['AK' 'AL' 'AR' 'AZ' 'CA' 'CO' 'CT' 'DC' 'DE' 'FL' 'GA' 'HI' 'IA' 'ID'\n",
      " 'IL' 'IN' 'KS' 'KY' 'LA' 'MA' 'MD' 'ME' 'MI' 'MN' 'MO' 'MS' 'MT' 'NC'\n",
      " 'ND' 'NE' 'NH' 'NJ' 'NM' 'NV' 'NY' 'OH' 'OK' 'OR' 'PA' 'RI' 'SC' 'SD'\n",
      " 'TN' 'TX' 'UT' 'VA' 'VT' 'WA' 'WI' 'WV' 'WY']\n",
      "['DC', 'DE']\n",
      "[  855.  9146.  5692. 10472. 32930.  7793.  5689.  1247.  2119. 31086.\n",
      " 12405.   784.  6872.  2665. 20706. 11813.  6983.  6926.  5696. 11333.\n",
      "  9708.  2563. 16534. 11220. 11783.  4728.  2259. 16189.  2080.  4448.\n",
      "  2693. 11418.  2212.  2909. 21171. 16024.  7751.  5045. 18602.  1336.\n",
      "  8402.  3200. 11133. 29410.  4455. 13923.   766. 10027.  9482.  2925.\n",
      "   651.]\n",
      "['AK' 'AL' 'AR' 'AZ' 'CA' 'CO' 'CT' 'DC' 'DE' 'FL' 'GA' 'HI' 'IA' 'ID'\n",
      " 'IL' 'IN' 'KS' 'KY' 'LA' 'MA' 'MD' 'ME' 'MI' 'MN' 'MO' 'MS' 'MT' 'NC'\n",
      " 'ND' 'NE' 'NH' 'NJ' 'NM' 'NV' 'NY' 'OH' 'OK' 'OR' 'PA' 'RI' 'SC' 'SD'\n",
      " 'TN' 'TX' 'UT' 'VA' 'VT' 'WA' 'WI' 'WV' 'WY']\n"
     ]
    }
   ],
   "source": [
    "# (1) scales\n",
    "x_sc, y_sc = bqplot.OrdinalScale(), bqplot.OrdinalScale() # note, just a different way to call things in Python\n",
    "c_sc = bqplot.ColorScale(scheme=\"Blues\")\n",
    "# (2) axes\n",
    "c_ax = bqplot.ColorAxis(scale = c_sc, orientation = 'vertical')\n",
    "\n",
    "# (3/5) Marks/fig\n",
    "mmap = bqplot.market_map.MarketMap(color = total_discharges.iloc[0].values, \n",
    "                                  names = total_discharges.columns.values,\n",
    "                                  scales={'color':c_sc}, \n",
    "                                   axes=[c_ax])\n",
    "\n",
    "# (4) interactivity\n",
    "def show_data(change):\n",
    "    print(change['owner'].selected)\n",
    "    print(change['owner'].color)\n",
    "    print(change['owner'].names)\n",
    "    \n",
    "mmap.observe(show_data, 'selected')\n",
    "\n",
    "mmap"
   ]
  },
  {
   "cell_type": "markdown",
   "metadata": {},
   "source": [
    "From the above we see we get the entire list of names *and* total discharges each time we click!  So we can use these:"
   ]
  },
  {
   "cell_type": "code",
   "execution_count": 109,
   "metadata": {},
   "outputs": [
    {
     "data": {
      "application/vnd.jupyter.widget-view+json": {
       "model_id": "f36836a84e72479d9a6f23d3e073f811",
       "version_major": 2,
       "version_minor": 0
      },
      "text/plain": [
       "VBox(children=(Label(value=''), MarketMap(axes=[ColorAxis(orientation='vertical', scale=ColorScale(scheme='Blu…"
      ]
     },
     "metadata": {},
     "output_type": "display_data"
    }
   ],
   "source": [
    "# (1) scales\n",
    "x_sc, y_sc = bqplot.OrdinalScale(), bqplot.OrdinalScale() # note, just a different way to call things in Python\n",
    "c_sc = bqplot.ColorScale(scheme=\"Blues\")\n",
    "# (2) axes\n",
    "c_ax = bqplot.ColorAxis(scale = c_sc, orientation = 'vertical')\n",
    "\n",
    "# (3/5) Marks/fig\n",
    "mmap = bqplot.market_map.MarketMap(color = total_discharges.iloc[0].values, \n",
    "                                  names = total_discharges.columns.values,\n",
    "                                  scales={'color':c_sc}, \n",
    "                                   axes=[c_ax])\n",
    "\n",
    "# (4) interactivity\n",
    "myLabel = ipywidgets.Label() # show total number of discharges\n",
    "def show_data(change):\n",
    "    v = 0 # sum up discharges\n",
    "    for s in change['owner'].selected:\n",
    "        #print(s)\n",
    "        discharges_in_state = change['owner'].color[change['owner'].names == s]\n",
    "        v += discharges_in_state\n",
    "    myLabel.value = 'Summed discharges for ' + total_discharges.iloc[0].name + ' = ' + str(int(v))\n",
    "    # the middle part just reminds us what name we are using\n",
    "    \n",
    "mmap.observe(show_data, 'selected')\n",
    "\n",
    "myDashboard = ipywidgets.VBox([myLabel, mmap])\n",
    "myDashboard"
   ]
  },
  {
   "cell_type": "markdown",
   "metadata": {},
   "source": [
    "So, MarketMap is a nice way to display map values without having to deal with any projection stuff."
   ]
  },
  {
   "cell_type": "code",
   "execution_count": null,
   "metadata": {},
   "outputs": [],
   "source": []
  }
 ],
 "metadata": {
  "kernelspec": {
   "display_name": "Python 3",
   "language": "python",
   "name": "python3"
  },
  "language_info": {
   "codemirror_mode": {
    "name": "ipython",
    "version": 3
   },
   "file_extension": ".py",
   "mimetype": "text/x-python",
   "name": "python",
   "nbconvert_exporter": "python",
   "pygments_lexer": "ipython3",
   "version": "3.7.6"
  }
 },
 "nbformat": 4,
 "nbformat_minor": 4
}
