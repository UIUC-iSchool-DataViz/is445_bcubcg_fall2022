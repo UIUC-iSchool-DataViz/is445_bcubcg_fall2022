{
 "cells": [
  {
   "cell_type": "markdown",
   "metadata": {},
   "source": [
    "# UFO dataset -> making a dashboard"
   ]
  },
  {
   "cell_type": "code",
   "execution_count": 2,
   "metadata": {},
   "outputs": [],
   "source": [
    "# usual things\n",
    "import pandas as pd\n",
    "import bqplot\n",
    "import numpy as np\n",
    "import ipywidgets\n",
    "import matplotlib.pyplot as plt\n",
    "%matplotlib inline"
   ]
  },
  {
   "cell_type": "code",
   "execution_count": 3,
   "metadata": {},
   "outputs": [],
   "source": [
    "ufos = pd.read_csv(\"/Users/jillnaiman/Downloads/ufo-scrubbed-geocoded-time-standardized-00.csv\",\n",
    "                  names = [\"date\", \"city\", \"state\", \"country\",\n",
    "                          \"shape\", \"duration_seconds\", \"duration\",\n",
    "                          \"comment\", \"report_date\", \n",
    "                           \"latitude\", \"longitude\"],\n",
    "                  parse_dates = [\"date\", \"report_date\"])"
   ]
  },
  {
   "cell_type": "code",
   "execution_count": 4,
   "metadata": {},
   "outputs": [
    {
     "data": {
      "text/plain": [
       "80332"
      ]
     },
     "execution_count": 4,
     "metadata": {},
     "output_type": "execute_result"
    }
   ],
   "source": [
    "len(ufos)"
   ]
  },
  {
   "cell_type": "code",
   "execution_count": 5,
   "metadata": {},
   "outputs": [],
   "source": [
    "# downsampling if you want to:\n",
    "nsamples = 1000 # 100, 5000\n",
    "downSampleMask = np.random.choice(range(len(ufos)-1), nsamples, replace=False)"
   ]
  },
  {
   "cell_type": "code",
   "execution_count": 7,
   "metadata": {},
   "outputs": [],
   "source": [
    "#downSampleMask\n",
    "ufosDS = ufos.loc[downSampleMask]"
   ]
  },
  {
   "cell_type": "code",
   "execution_count": 8,
   "metadata": {},
   "outputs": [
    {
     "data": {
      "text/html": [
       "<div>\n",
       "<style scoped>\n",
       "    .dataframe tbody tr th:only-of-type {\n",
       "        vertical-align: middle;\n",
       "    }\n",
       "\n",
       "    .dataframe tbody tr th {\n",
       "        vertical-align: top;\n",
       "    }\n",
       "\n",
       "    .dataframe thead th {\n",
       "        text-align: right;\n",
       "    }\n",
       "</style>\n",
       "<table border=\"1\" class=\"dataframe\">\n",
       "  <thead>\n",
       "    <tr style=\"text-align: right;\">\n",
       "      <th></th>\n",
       "      <th>date</th>\n",
       "      <th>city</th>\n",
       "      <th>state</th>\n",
       "      <th>country</th>\n",
       "      <th>shape</th>\n",
       "      <th>duration_seconds</th>\n",
       "      <th>duration</th>\n",
       "      <th>comment</th>\n",
       "      <th>report_date</th>\n",
       "      <th>latitude</th>\n",
       "      <th>longitude</th>\n",
       "    </tr>\n",
       "  </thead>\n",
       "  <tbody>\n",
       "    <tr>\n",
       "      <th>11213</th>\n",
       "      <td>2011-01-01 00:00:00</td>\n",
       "      <td>farmington hills</td>\n",
       "      <td>mi</td>\n",
       "      <td>us</td>\n",
       "      <td>circle</td>\n",
       "      <td>900.0</td>\n",
       "      <td>appx. 15 mins</td>\n",
       "      <td>Series of red lights moving in a wave-like line.</td>\n",
       "      <td>2011-01-05</td>\n",
       "      <td>42.485278</td>\n",
       "      <td>-83.377222</td>\n",
       "    </tr>\n",
       "    <tr>\n",
       "      <th>28294</th>\n",
       "      <td>2013-02-23 18:57:00</td>\n",
       "      <td>whittier</td>\n",
       "      <td>ca</td>\n",
       "      <td>us</td>\n",
       "      <td>circle</td>\n",
       "      <td>300.0</td>\n",
       "      <td>3-5 minutes</td>\n",
       "      <td>13 to 15 bright reddish/orange orb shaped obje...</td>\n",
       "      <td>2013-02-28</td>\n",
       "      <td>33.979167</td>\n",
       "      <td>-118.031944</td>\n",
       "    </tr>\n",
       "    <tr>\n",
       "      <th>25409</th>\n",
       "      <td>2006-01-09 18:53:00</td>\n",
       "      <td>el segundo</td>\n",
       "      <td>ca</td>\n",
       "      <td>us</td>\n",
       "      <td>fireball</td>\n",
       "      <td>10.0</td>\n",
       "      <td>10 sec</td>\n",
       "      <td>Rotating fire ball moving very fast&amp;#44 few hu...</td>\n",
       "      <td>2006-02-14</td>\n",
       "      <td>33.919167</td>\n",
       "      <td>-118.415556</td>\n",
       "    </tr>\n",
       "    <tr>\n",
       "      <th>20276</th>\n",
       "      <td>2010-12-24 20:00:00</td>\n",
       "      <td>cherry fork</td>\n",
       "      <td>oh</td>\n",
       "      <td>us</td>\n",
       "      <td>light</td>\n",
       "      <td>300.0</td>\n",
       "      <td>5 min</td>\n",
       "      <td>Three red lights in triangle formation no soun...</td>\n",
       "      <td>2011-04-03</td>\n",
       "      <td>38.887500</td>\n",
       "      <td>-83.614444</td>\n",
       "    </tr>\n",
       "    <tr>\n",
       "      <th>7783</th>\n",
       "      <td>2010-11-10 21:00:00</td>\n",
       "      <td>spruce pine</td>\n",
       "      <td>nc</td>\n",
       "      <td>us</td>\n",
       "      <td>triangle</td>\n",
       "      <td>3600.0</td>\n",
       "      <td>1 hour</td>\n",
       "      <td>Red and Yellow Prisms in the Sky over Appalachia</td>\n",
       "      <td>2012-05-13</td>\n",
       "      <td>35.915278</td>\n",
       "      <td>-82.064722</td>\n",
       "    </tr>\n",
       "    <tr>\n",
       "      <th>...</th>\n",
       "      <td>...</td>\n",
       "      <td>...</td>\n",
       "      <td>...</td>\n",
       "      <td>...</td>\n",
       "      <td>...</td>\n",
       "      <td>...</td>\n",
       "      <td>...</td>\n",
       "      <td>...</td>\n",
       "      <td>...</td>\n",
       "      <td>...</td>\n",
       "      <td>...</td>\n",
       "    </tr>\n",
       "    <tr>\n",
       "      <th>11400</th>\n",
       "      <td>2014-01-01 00:00:00</td>\n",
       "      <td>kettering</td>\n",
       "      <td>oh</td>\n",
       "      <td>us</td>\n",
       "      <td>circle</td>\n",
       "      <td>45.0</td>\n",
       "      <td>45 seconds</td>\n",
       "      <td>Strange orange ball.</td>\n",
       "      <td>2014-01-10</td>\n",
       "      <td>39.689444</td>\n",
       "      <td>-84.168889</td>\n",
       "    </tr>\n",
       "    <tr>\n",
       "      <th>16889</th>\n",
       "      <td>1998-12-10 01:15:00</td>\n",
       "      <td>camp pendelton</td>\n",
       "      <td>ca</td>\n",
       "      <td>NaN</td>\n",
       "      <td>sphere</td>\n",
       "      <td>109800.0</td>\n",
       "      <td>3 1/2 hrs</td>\n",
       "      <td>Blue Sphere</td>\n",
       "      <td>2005-05-24</td>\n",
       "      <td>33.317842</td>\n",
       "      <td>-117.320512</td>\n",
       "    </tr>\n",
       "    <tr>\n",
       "      <th>68557</th>\n",
       "      <td>2002-08-02 22:30:00</td>\n",
       "      <td>camarillo</td>\n",
       "      <td>ca</td>\n",
       "      <td>us</td>\n",
       "      <td>other</td>\n",
       "      <td>15.0</td>\n",
       "      <td>15 seconds</td>\n",
       "      <td>Unbelievable craft observed at low altitude ov...</td>\n",
       "      <td>2013-04-12</td>\n",
       "      <td>34.216389</td>\n",
       "      <td>-119.036667</td>\n",
       "    </tr>\n",
       "    <tr>\n",
       "      <th>52232</th>\n",
       "      <td>2000-06-28 01:00:00</td>\n",
       "      <td>newmarket</td>\n",
       "      <td>nh</td>\n",
       "      <td>us</td>\n",
       "      <td>oval</td>\n",
       "      <td>300.0</td>\n",
       "      <td>aprox.5min.</td>\n",
       "      <td>Black oval w/ multi-colored lights a frighteni...</td>\n",
       "      <td>2000-08-25</td>\n",
       "      <td>43.082778</td>\n",
       "      <td>-70.935556</td>\n",
       "    </tr>\n",
       "    <tr>\n",
       "      <th>63402</th>\n",
       "      <td>1998-07-07 22:00:00</td>\n",
       "      <td>hull</td>\n",
       "      <td>ga</td>\n",
       "      <td>us</td>\n",
       "      <td>oval</td>\n",
       "      <td>300.0</td>\n",
       "      <td>five minutes</td>\n",
       "      <td>small&amp;#44 luminous&amp;#44 silent&amp;#44  gliding craft</td>\n",
       "      <td>2007-06-12</td>\n",
       "      <td>34.014722</td>\n",
       "      <td>-83.293889</td>\n",
       "    </tr>\n",
       "  </tbody>\n",
       "</table>\n",
       "<p>1000 rows × 11 columns</p>\n",
       "</div>"
      ],
      "text/plain": [
       "                     date              city state country     shape  \\\n",
       "11213 2011-01-01 00:00:00  farmington hills    mi      us    circle   \n",
       "28294 2013-02-23 18:57:00          whittier    ca      us    circle   \n",
       "25409 2006-01-09 18:53:00        el segundo    ca      us  fireball   \n",
       "20276 2010-12-24 20:00:00       cherry fork    oh      us     light   \n",
       "7783  2010-11-10 21:00:00       spruce pine    nc      us  triangle   \n",
       "...                   ...               ...   ...     ...       ...   \n",
       "11400 2014-01-01 00:00:00         kettering    oh      us    circle   \n",
       "16889 1998-12-10 01:15:00    camp pendelton    ca     NaN    sphere   \n",
       "68557 2002-08-02 22:30:00         camarillo    ca      us     other   \n",
       "52232 2000-06-28 01:00:00         newmarket    nh      us      oval   \n",
       "63402 1998-07-07 22:00:00              hull    ga      us      oval   \n",
       "\n",
       "       duration_seconds       duration  \\\n",
       "11213             900.0  appx. 15 mins   \n",
       "28294             300.0    3-5 minutes   \n",
       "25409              10.0         10 sec   \n",
       "20276             300.0          5 min   \n",
       "7783             3600.0         1 hour   \n",
       "...                 ...            ...   \n",
       "11400              45.0     45 seconds   \n",
       "16889          109800.0      3 1/2 hrs   \n",
       "68557              15.0     15 seconds   \n",
       "52232             300.0    aprox.5min.   \n",
       "63402             300.0   five minutes   \n",
       "\n",
       "                                                 comment report_date  \\\n",
       "11213   Series of red lights moving in a wave-like line.  2011-01-05   \n",
       "28294  13 to 15 bright reddish/orange orb shaped obje...  2013-02-28   \n",
       "25409  Rotating fire ball moving very fast&#44 few hu...  2006-02-14   \n",
       "20276  Three red lights in triangle formation no soun...  2011-04-03   \n",
       "7783    Red and Yellow Prisms in the Sky over Appalachia  2012-05-13   \n",
       "...                                                  ...         ...   \n",
       "11400                               Strange orange ball.  2014-01-10   \n",
       "16889                                        Blue Sphere  2005-05-24   \n",
       "68557  Unbelievable craft observed at low altitude ov...  2013-04-12   \n",
       "52232  Black oval w/ multi-colored lights a frighteni...  2000-08-25   \n",
       "63402   small&#44 luminous&#44 silent&#44  gliding craft  2007-06-12   \n",
       "\n",
       "        latitude   longitude  \n",
       "11213  42.485278  -83.377222  \n",
       "28294  33.979167 -118.031944  \n",
       "25409  33.919167 -118.415556  \n",
       "20276  38.887500  -83.614444  \n",
       "7783   35.915278  -82.064722  \n",
       "...          ...         ...  \n",
       "11400  39.689444  -84.168889  \n",
       "16889  33.317842 -117.320512  \n",
       "68557  34.216389 -119.036667  \n",
       "52232  43.082778  -70.935556  \n",
       "63402  34.014722  -83.293889  \n",
       "\n",
       "[1000 rows x 11 columns]"
      ]
     },
     "execution_count": 8,
     "metadata": {},
     "output_type": "execute_result"
    }
   ],
   "source": [
    "ufosDS"
   ]
  },
  {
   "cell_type": "code",
   "execution_count": 9,
   "metadata": {},
   "outputs": [
    {
     "data": {
      "application/vnd.jupyter.widget-view+json": {
       "model_id": "7ce3732c32a542d0ac57079a5ce8106e",
       "version_major": 2,
       "version_minor": 0
      },
      "text/plain": [
       "Figure(axes=[Axis(label='Longitude', scale=LinearScale()), Axis(label='Latitude', orientation='vertical', scal…"
      ]
     },
     "metadata": {},
     "output_type": "display_data"
    }
   ],
   "source": [
    "# quick scatter plot:\n",
    "\n",
    "# scales\n",
    "x_sc = bqplot.LinearScale()\n",
    "y_sc = bqplot.LinearScale()\n",
    "\n",
    "# set up axis\n",
    "x_ax = bqplot.Axis(scale=x_sc, label='Longitude')\n",
    "y_ax = bqplot.Axis(scale=y_sc, label='Latitude', \n",
    "                  orientation='vertical')\n",
    "\n",
    "# marks\n",
    "scatters = bqplot.Scatter(x = ufosDS['longitude'], y=ufosDS['latitude'],\n",
    "                         scales={'x':x_sc, 'y':y_sc})\n",
    "\n",
    "# interaction\n",
    "# none for this one\n",
    "\n",
    "# put all together in a figure\n",
    "fig = bqplot.Figure(marks=[scatters], axes=[x_ax, y_ax])\n",
    "fig"
   ]
  },
  {
   "cell_type": "code",
   "execution_count": 13,
   "metadata": {},
   "outputs": [
    {
     "data": {
      "image/png": "[encoded data removed]",
      "text/plain": [
       "<Figure size 432x288 with 2 Axes>"
      ]
     },
     "metadata": {
      "needs_background": "light"
     },
     "output_type": "display_data"
    }
   ],
   "source": [
    "# use ~~numpy~~ matplotlib to make some 2d histograms\n",
    "import matplotlib.colors as mpl_colors\n",
    "plt.hist2d(ufos['longitude'], ufos['latitude'], weights=ufos['duration_seconds'], \n",
    "          bins=20, cmap='RdPu', norm=mpl_colors.SymLogNorm(10))\n",
    "cb = plt.colorbar()\n",
    "cb.set_label('weighted counts in bin')"
   ]
  },
  {
   "cell_type": "markdown",
   "metadata": {},
   "source": [
    "So, using matplotlib to make a quick plot, we have an idea of how our final heatmap should look."
   ]
  },
  {
   "cell_type": "code",
   "execution_count": 14,
   "metadata": {},
   "outputs": [],
   "source": [
    "# for bqplot heatmap, make the histograms ourselves\n",
    "nlong = 20\n",
    "nlat = 20\n",
    "\n",
    "hist2d, long_edges, lat_edges = np.histogram2d(ufos['longitude'], \n",
    "                                              ufos['latitude'], \n",
    "                                              weights = ufos['duration_seconds'], \n",
    "                                              bins=[nlong, nlat])"
   ]
  },
  {
   "cell_type": "code",
   "execution_count": 16,
   "metadata": {},
   "outputs": [
    {
     "data": {
      "text/plain": [
       "(153348519.88, 0.0)"
      ]
     },
     "execution_count": 16,
     "metadata": {},
     "output_type": "execute_result"
    }
   ],
   "source": [
    "hist2d.max(), hist2d.min()"
   ]
  },
  {
   "cell_type": "code",
   "execution_count": 18,
   "metadata": {},
   "outputs": [
    {
     "data": {
      "text/plain": [
       "<matplotlib.image.AxesImage at 0x7fc5810d5d90>"
      ]
     },
     "execution_count": 18,
     "metadata": {},
     "output_type": "execute_result"
    },
    {
     "data": {
      "image/png": "[encoded data removed]",
      "text/plain": [
       "<Figure size 432x288 with 1 Axes>"
      ]
     },
     "metadata": {
      "needs_background": "light"
     },
     "output_type": "display_data"
    }
   ],
   "source": [
    "# taking a look at our map really quick\n",
    "plt.imshow(hist2d.T, cmap='RdPu', norm=mpl_colors.SymLogNorm(10))"
   ]
  },
  {
   "cell_type": "code",
   "execution_count": 19,
   "metadata": {},
   "outputs": [
    {
     "data": {
      "text/plain": [
       "((20, 20), (21,), (21,))"
      ]
     },
     "execution_count": 19,
     "metadata": {},
     "output_type": "execute_result"
    }
   ],
   "source": [
    "hist2d.shape, long_edges.shape, lat_edges.shape"
   ]
  },
  {
   "cell_type": "code",
   "execution_count": 71,
   "metadata": {},
   "outputs": [
    {
     "data": {
      "text/plain": [
       "array([-150., -135., -120., -105.,  -90.,  -75.,  -60.,  -45.,  -30.,\n",
       "        -15.,    0.,   15.,   30.,   45.,   60.,   75.,   90.,  105.,\n",
       "        120.,  135.,  150.])"
      ]
     },
     "execution_count": 71,
     "metadata": {},
     "output_type": "execute_result"
    }
   ],
   "source": [
    "long_edges"
   ]
  },
  {
   "cell_type": "code",
   "execution_count": 72,
   "metadata": {},
   "outputs": [
    {
     "data": {
      "text/plain": [
       "array([-150., -135., -120., -105.,  -90.,  -75.,  -60.,  -45.,  -30.,\n",
       "        -15.,    0.,   15.,   30.,   45.,   60.,   75.,   90.,  105.,\n",
       "        120.,  135.])"
      ]
     },
     "execution_count": 72,
     "metadata": {},
     "output_type": "execute_result"
    }
   ],
   "source": [
    "long_edges[:-1]"
   ]
  },
  {
   "cell_type": "code",
   "execution_count": 73,
   "metadata": {},
   "outputs": [
    {
     "data": {
      "text/plain": [
       "array([-135., -120., -105.,  -90.,  -75.,  -60.,  -45.,  -30.,  -15.,\n",
       "          0.,   15.,   30.,   45.,   60.,   75.,   90.,  105.,  120.,\n",
       "        135.,  150.])"
      ]
     },
     "execution_count": 73,
     "metadata": {},
     "output_type": "execute_result"
    }
   ],
   "source": [
    "long_edges[1:]"
   ]
  },
  {
   "cell_type": "code",
   "execution_count": 74,
   "metadata": {},
   "outputs": [
    {
     "data": {
      "text/plain": [
       "array([-142.5, -127.5, -112.5,  -97.5,  -82.5,  -67.5,  -52.5,  -37.5,\n",
       "        -22.5,   -7.5,    7.5,   22.5,   37.5,   52.5,   67.5,   82.5,\n",
       "         97.5,  112.5,  127.5,  142.5])"
      ]
     },
     "execution_count": 74,
     "metadata": {},
     "output_type": "execute_result"
    }
   ],
   "source": [
    "(long_edges[:-1] + long_edges[1:])/2"
   ]
  },
  {
   "cell_type": "code",
   "execution_count": 20,
   "metadata": {},
   "outputs": [
    {
     "data": {
      "text/plain": [
       "array([-167.78055671, -150.02555893, -132.27056115, -114.51556337,\n",
       "        -96.76056559,  -79.00556781,  -61.25057003,  -43.49557225,\n",
       "        -25.74057447,   -7.98557669,    9.76942109,   27.52441887,\n",
       "         45.27941665,   63.03441443,   80.78941221,   98.54440999,\n",
       "        116.29940777,  134.05440555,  151.80940333,  169.56440111])"
      ]
     },
     "execution_count": 20,
     "metadata": {},
     "output_type": "execute_result"
    }
   ],
   "source": [
    "# let's make bin centers from our edges\n",
    "long_centers = (long_edges[:-1] + long_edges[1:])/2\n",
    "long_centers"
   ]
  },
  {
   "cell_type": "code",
   "execution_count": 21,
   "metadata": {},
   "outputs": [
    {
     "data": {
      "text/plain": [
       "array([-78.9736832, -71.1955456, -63.417408 , -55.6392704, -47.8611328,\n",
       "       -40.0829952, -32.3048576, -24.52672  , -16.7485824,  -8.9704448,\n",
       "        -1.1923072,   6.5858304,  14.363968 ,  22.1421056,  29.9202432,\n",
       "        37.6983808,  45.4765184,  53.254656 ,  61.0327936,  68.8109312])"
      ]
     },
     "execution_count": 21,
     "metadata": {},
     "output_type": "execute_result"
    }
   ],
   "source": [
    "lat_centers = (lat_edges[:-1] + lat_edges[1:])/2\n",
    "lat_centers"
   ]
  },
  {
   "cell_type": "code",
   "execution_count": 22,
   "metadata": {},
   "outputs": [],
   "source": [
    "# specifing our own bins\n",
    "long_bins = np.linspace(-150, 150, nlong+1)\n",
    "lat_bins = np.linspace(-40, 70, nlat+1)\n",
    "\n",
    "hist2d, long_edges, lat_edges = np.histogram2d(ufos['longitude'], \n",
    "                                              ufos['latitude'], \n",
    "                                              weights = ufos['duration_seconds'], \n",
    "                                              bins=[long_bins, lat_bins])"
   ]
  },
  {
   "cell_type": "code",
   "execution_count": 23,
   "metadata": {},
   "outputs": [],
   "source": [
    "long_centers = (long_edges[:-1] + long_edges[1:])/2\n",
    "lat_centers = (lat_edges[:-1] + lat_edges[1:])/2"
   ]
  },
  {
   "cell_type": "code",
   "execution_count": 24,
   "metadata": {},
   "outputs": [],
   "source": [
    "# for bqplot we could figure this out ourselves, but let's save us some time right now:\n",
    "hist2d = hist2d.T"
   ]
  },
  {
   "cell_type": "code",
   "execution_count": 25,
   "metadata": {},
   "outputs": [
    {
     "name": "stderr",
     "output_type": "stream",
     "text": [
      "/Users/jillnaiman/opt/anaconda3/lib/python3.7/site-packages/ipykernel_launcher.py:2: RuntimeWarning: divide by zero encountered in log10\n",
      "  \n"
     ]
    },
    {
     "data": {
      "text/plain": [
       "-inf"
      ]
     },
     "execution_count": 25,
     "metadata": {},
     "output_type": "execute_result"
    }
   ],
   "source": [
    "# we'll also do some tricks for the colormap\n",
    "np.log10(hist2d).min()"
   ]
  },
  {
   "cell_type": "code",
   "execution_count": 26,
   "metadata": {},
   "outputs": [],
   "source": [
    "# so here we will set the \"bad\" values -> those with no sitings\n",
    "hist2d[hist2d<= 0] = np.nan\n",
    "\n",
    "hist2d = np.log10(hist2d)"
   ]
  },
  {
   "cell_type": "code",
   "execution_count": 28,
   "metadata": {},
   "outputs": [],
   "source": [
    "#hist2d"
   ]
  },
  {
   "cell_type": "markdown",
   "metadata": {},
   "source": [
    "Finally: let's make our heatmap:"
   ]
  },
  {
   "cell_type": "code",
   "execution_count": 30,
   "metadata": {},
   "outputs": [
    {
     "data": {
      "application/vnd.jupyter.widget-view+json": {
       "model_id": "fe09c00015324a1fb37cd94c352a010b",
       "version_major": 2,
       "version_minor": 0
      },
      "text/plain": [
       "Figure(axes=[ColorAxis(orientation='vertical', scale=ColorScale(max=8.09710747658943, min=0.0, scheme='RdPu'),…"
      ]
     },
     "metadata": {},
     "output_type": "display_data"
    }
   ],
   "source": [
    "# scales\n",
    "x_sc = bqplot.LinearScale()\n",
    "y_sc = bqplot.LinearScale() \n",
    "col_sc = bqplot.ColorScale(scheme='RdPu', min=np.nanmin(hist2d), max=np.nanmax(hist2d))\n",
    "\n",
    "# axis\n",
    "x_ax = bqplot.Axis(scale=x_sc, label='Longitude')\n",
    "y_ax = bqplot.Axis(scale=y_sc, label='Latitude', orientation='vertical')\n",
    "c_ax = bqplot.ColorAxis(scale=col_sc, orientation='vertical', side='right')\n",
    "\n",
    "# marks\n",
    "heat_map = bqplot.GridHeatMap(color=hist2d, \n",
    "                             row=lat_centers, \n",
    "                             column=long_centers, \n",
    "                             scales={'color':col_sc, 'row':y_sc, 'column':x_sc},\n",
    "                             interactions={'click':'select'}, \n",
    "                             anchor_style={'fill':'blue'})\n",
    "\n",
    "# interactivty\n",
    "# not do for now\n",
    "\n",
    "# put all together\n",
    "fig = bqplot.Figure(marks=[heat_map], axes=[c_ax, y_ax, x_ax])\n",
    "fig"
   ]
  },
  {
   "cell_type": "code",
   "execution_count": 36,
   "metadata": {
    "scrolled": false
   },
   "outputs": [
    {
     "data": {
      "application/vnd.jupyter.widget-view+json": {
       "model_id": "ff522955d7204d7d98262eb10f5b87e8",
       "version_major": 2,
       "version_minor": 0
      },
      "text/plain": [
       "VBox(children=(Label(value=''), Figure(axes=[ColorAxis(orientation='vertical', scale=ColorScale(max=8.09710747…"
      ]
     },
     "metadata": {},
     "output_type": "display_data"
    }
   ],
   "source": [
    "# scales\n",
    "x_sc = bqplot.LinearScale()\n",
    "y_sc = bqplot.LinearScale() \n",
    "col_sc = bqplot.ColorScale(scheme='RdPu', min=np.nanmin(hist2d), max=np.nanmax(hist2d))\n",
    "\n",
    "# axis\n",
    "x_ax = bqplot.Axis(scale=x_sc, label='Longitude')\n",
    "y_ax = bqplot.Axis(scale=y_sc, label='Latitude', orientation='vertical')\n",
    "c_ax = bqplot.ColorAxis(scale=col_sc, orientation='vertical', side='right')\n",
    "\n",
    "# marks\n",
    "heat_map = bqplot.GridHeatMap(color=hist2d, \n",
    "                             row=lat_centers, \n",
    "                             column=long_centers, \n",
    "                             scales={'color':col_sc, 'row':y_sc, 'column':x_sc},\n",
    "                             interactions={'click':'select'}, \n",
    "                             anchor_style={'fill':'blue'})\n",
    "\n",
    "# interactivity - do this!\n",
    "mySelectedLabel = ipywidgets.Label() # print out info about our selection\n",
    "def get_data_value(change):\n",
    "    # to make sure we only support single selections\n",
    "    if len(change['owner'].selected) == 1: # *only* 1 selection\n",
    "        #print(change['owner'].selected)\n",
    "        i,j = change['owner'].selected[0]\n",
    "        v = hist2d[i,j]\n",
    "        mySelectedLabel.value = 'Total Duration in log(sec) = ' + str(v)\n",
    "    \n",
    "# make sure we \"observe\" for a change in our heatmap (traitlets)\n",
    "heat_map.observe(get_data_value, 'selected')\n",
    "\n",
    "# put all together\n",
    "fig = bqplot.Figure(marks=[heat_map], axes=[c_ax, y_ax, x_ax])\n",
    "#fig\n",
    "# layout our dashboard\n",
    "myDashboard = ipywidgets.VBox([mySelectedLabel, fig])\n",
    "myDashboard"
   ]
  },
  {
   "cell_type": "code",
   "execution_count": 77,
   "metadata": {},
   "outputs": [
    {
     "data": {
      "text/plain": [
       "['_dom_classes',\n",
       " '_model_module',\n",
       " '_model_module_version',\n",
       " '_model_name',\n",
       " '_view_count',\n",
       " '_view_module',\n",
       " '_view_module_version',\n",
       " '_view_name',\n",
       " 'animation_duration',\n",
       " 'axes',\n",
       " 'background_style',\n",
       " 'fig_margin',\n",
       " 'interaction',\n",
       " 'layout',\n",
       " 'legend_location',\n",
       " 'legend_style',\n",
       " 'legend_text',\n",
       " 'marks',\n",
       " 'max_aspect_ratio',\n",
       " 'min_aspect_ratio',\n",
       " 'padding_x',\n",
       " 'padding_y',\n",
       " 'pixel_ratio',\n",
       " 'scale_x',\n",
       " 'scale_y',\n",
       " 'theme',\n",
       " 'title',\n",
       " 'title_style']"
      ]
     },
     "execution_count": 77,
     "metadata": {},
     "output_type": "execute_result"
    }
   ],
   "source": [
    "fig.keys"
   ]
  },
  {
   "cell_type": "code",
   "execution_count": 37,
   "metadata": {},
   "outputs": [],
   "source": [
    "# for a random bin, let's plot what this distribution of siting duration as a function of \n",
    "#. would look like"
   ]
  },
  {
   "cell_type": "code",
   "execution_count": 38,
   "metadata": {},
   "outputs": [
    {
     "data": {
      "text/plain": [
       "0       1949-10-10 20:30:00\n",
       "1       1949-10-10 21:00:00\n",
       "2       1955-10-10 17:00:00\n",
       "3       1956-10-10 21:00:00\n",
       "4       1960-10-10 20:00:00\n",
       "                ...        \n",
       "80327   2013-09-09 21:15:00\n",
       "80328   2013-09-09 22:00:00\n",
       "80329   2013-09-09 22:00:00\n",
       "80330   2013-09-09 22:20:00\n",
       "80331   2013-09-09 23:00:00\n",
       "Name: date, Length: 80332, dtype: datetime64[ns]"
      ]
     },
     "execution_count": 38,
     "metadata": {},
     "output_type": "execute_result"
    }
   ],
   "source": [
    "ufos['date'] # need to use a date scale"
   ]
  },
  {
   "cell_type": "code",
   "execution_count": 42,
   "metadata": {},
   "outputs": [],
   "source": [
    "# first scales\n",
    "import datetime as dt # for formatting min/max in our bqplot.DateScale\n",
    "x_scl = bqplot.DateScale(min=dt.datetime(1950, 1, 1), max=dt.datetime(2020, 1,1))"
   ]
  },
  {
   "cell_type": "code",
   "execution_count": 40,
   "metadata": {},
   "outputs": [],
   "source": [
    "y_scl = bqplot.LogScale() # since we know duration is best shown in log"
   ]
  },
  {
   "cell_type": "code",
   "execution_count": 41,
   "metadata": {},
   "outputs": [],
   "source": [
    "# axis\n",
    "ax_xcl = bqplot.Axis(label='Date', scale=x_scl) # dates\n",
    "ax_ycl = bqplot.Axis(label='Duration in log(sec)', scale=y_scl, \n",
    "                    orientation='vertical', side='left')"
   ]
  },
  {
   "cell_type": "code",
   "execution_count": 45,
   "metadata": {},
   "outputs": [],
   "source": [
    "i, j = 19, 0 # x/y bin index (Jill is cheating by knowing there is data there)\n",
    "# is specify that we have only data in this lat/long bin\n",
    "#. => will mask out only these lats/longs corresponding to this i/j bin\n",
    "# (1) let's grab these sets of lats/longs based on our histogram edges\n",
    "longs = [long_edges[j], long_edges[j+1]]\n",
    "lats = [lat_edges[i], lat_edges[i+1]]\n",
    "#longs, lats\n",
    "# I only want data in this particular longtitude & latitude bin\n",
    "region_mask = ( (ufos['latitude'] >= lats[0]) & (ufos['latitude'] <= lats[1]) &\\\n",
    "               (ufos['longitude'] >= longs[0]) & (ufos['longitude']<= longs[1]) )"
   ]
  },
  {
   "cell_type": "code",
   "execution_count": 48,
   "metadata": {},
   "outputs": [
    {
     "data": {
      "text/plain": [
       "327     -147.716389\n",
       "2845    -147.716389\n",
       "3620    -147.716389\n",
       "4602    -147.349444\n",
       "6011    -147.716389\n",
       "            ...    \n",
       "77347   -147.349444\n",
       "77497   -147.716389\n",
       "78571   -147.716389\n",
       "79029   -147.716389\n",
       "79470   -147.716389\n",
       "Name: longitude, Length: 74, dtype: float64"
      ]
     },
     "execution_count": 48,
     "metadata": {},
     "output_type": "execute_result"
    }
   ],
   "source": [
    "ufos['longitude'][region_mask]"
   ]
  },
  {
   "cell_type": "code",
   "execution_count": 50,
   "metadata": {},
   "outputs": [],
   "source": [
    "# let's make our marks -> scatter plot\n",
    "duration_scatt = bqplot.Scatter(x=ufos['date'][region_mask], \n",
    "                               y=ufos['duration_seconds'][region_mask],\n",
    "                               scales={'x':x_scl, 'y':y_scl})"
   ]
  },
  {
   "cell_type": "code",
   "execution_count": 51,
   "metadata": {},
   "outputs": [
    {
     "data": {
      "application/vnd.jupyter.widget-view+json": {
       "model_id": "5efa8db3c62e4d25a4fc507dbc013031",
       "version_major": 2,
       "version_minor": 0
      },
      "text/plain": [
       "Figure(axes=[Axis(label='Date', scale=DateScale(max=datetime.datetime(2020, 1, 1, 0, 0), min=datetime.datetime…"
      ]
     },
     "metadata": {},
     "output_type": "display_data"
    }
   ],
   "source": [
    "# put it all together as a figure\n",
    "fig_dur = bqplot.Figure(marks=[duration_scatt], axes=[ax_xcl, ax_ycl])\n",
    "fig_dur"
   ]
  },
  {
   "cell_type": "code",
   "execution_count": 59,
   "metadata": {},
   "outputs": [],
   "source": [
    "# CREATE LABEL - #1\n",
    "mySelectedLabel = ipywidgets.Label() # print out info about our selection"
   ]
  },
  {
   "cell_type": "code",
   "execution_count": 60,
   "metadata": {},
   "outputs": [],
   "source": [
    "# CREATE HEATMAP ELEMENTS - #2\n",
    "# scales\n",
    "x_sc = bqplot.LinearScale()\n",
    "y_sc = bqplot.LinearScale() \n",
    "col_sc = bqplot.ColorScale(scheme='RdPu', min=np.nanmin(hist2d), max=np.nanmax(hist2d))\n",
    "\n",
    "# axis\n",
    "x_ax = bqplot.Axis(scale=x_sc, label='Longitude')\n",
    "y_ax = bqplot.Axis(scale=y_sc, label='Latitude', orientation='vertical')\n",
    "c_ax = bqplot.ColorAxis(scale=col_sc, orientation='vertical', side='right')\n",
    "\n",
    "# marks\n",
    "heat_map = bqplot.GridHeatMap(color=hist2d, \n",
    "                             row=lat_centers, \n",
    "                             column=long_centers, \n",
    "                             scales={'color':col_sc, 'row':y_sc, 'column':x_sc},\n",
    "                             interactions={'click':'select'}, \n",
    "                             anchor_style={'fill':'blue'})"
   ]
  },
  {
   "cell_type": "code",
   "execution_count": 61,
   "metadata": {},
   "outputs": [],
   "source": [
    "# CREATE SCATTER PLOT ELEMENTS - #3\n",
    "\n",
    "# scales\n",
    "x_scl = bqplot.DateScale(min=dt.datetime(1950, 1, 1), max=dt.datetime(2020, 1,1))\n",
    "y_scl = bqplot.LogScale() # since we know duration is best shown in log\n",
    "\n",
    "# axis\n",
    "ax_xcl = bqplot.Axis(label='Date', scale=x_scl) # dates\n",
    "ax_ycl = bqplot.Axis(label='Duration in log(sec)', scale=y_scl, \n",
    "                    orientation='vertical', side='left')\n",
    "\n",
    "# marks\n",
    "i, j = 19, 0 \n",
    "longs = [long_edges[j], long_edges[j+1]]\n",
    "lats = [lat_edges[i], lat_edges[i+1]]\n",
    "# I only want data in this particular longtitude & latitude bin\n",
    "region_mask = ( (ufos['latitude'] >= lats[0]) & (ufos['latitude'] <= lats[1]) &\\\n",
    "               (ufos['longitude'] >= longs[0]) & (ufos['longitude']<= longs[1]) )\n",
    "\n",
    "duration_scatt = bqplot.Scatter(x=ufos['date'][region_mask], \n",
    "                               y=ufos['duration_seconds'][region_mask],\n",
    "                               scales={'x':x_scl, 'y':y_scl})"
   ]
  },
  {
   "cell_type": "code",
   "execution_count": 66,
   "metadata": {},
   "outputs": [
    {
     "data": {
      "text/plain": [
       "['_model_module',\n",
       " '_model_module_version',\n",
       " '_model_name',\n",
       " '_view_count',\n",
       " '_view_module',\n",
       " '_view_module_version',\n",
       " '_view_name',\n",
       " 'apply_clip',\n",
       " 'color',\n",
       " 'colors',\n",
       " 'default_opacities',\n",
       " 'default_size',\n",
       " 'default_skew',\n",
       " 'display_legend',\n",
       " 'display_names',\n",
       " 'drag_color',\n",
       " 'drag_size',\n",
       " 'enable_delete',\n",
       " 'enable_hover',\n",
       " 'enable_move',\n",
       " 'fill',\n",
       " 'hovered_point',\n",
       " 'hovered_style',\n",
       " 'interactions',\n",
       " 'labels',\n",
       " 'marker',\n",
       " 'names',\n",
       " 'names_unique',\n",
       " 'opacity',\n",
       " 'preserve_domain',\n",
       " 'restrict_x',\n",
       " 'restrict_y',\n",
       " 'rotation',\n",
       " 'scales',\n",
       " 'scales_metadata',\n",
       " 'selected',\n",
       " 'selected_style',\n",
       " 'size',\n",
       " 'skew',\n",
       " 'stroke',\n",
       " 'stroke_width',\n",
       " 'tooltip',\n",
       " 'tooltip_location',\n",
       " 'tooltip_style',\n",
       " 'unhovered_style',\n",
       " 'unselected_style',\n",
       " 'update_on_move',\n",
       " 'visible',\n",
       " 'x',\n",
       " 'y']"
      ]
     },
     "execution_count": 66,
     "metadata": {},
     "output_type": "execute_result"
    }
   ],
   "source": [
    "duration_scatt.keys"
   ]
  },
  {
   "cell_type": "code",
   "execution_count": 67,
   "metadata": {},
   "outputs": [
    {
     "data": {
      "text/plain": [
       "['_model_module',\n",
       " '_model_module_version',\n",
       " '_model_name',\n",
       " '_view_count',\n",
       " '_view_module',\n",
       " '_view_module_version',\n",
       " '_view_name',\n",
       " 'anchor_style',\n",
       " 'apply_clip',\n",
       " 'color',\n",
       " 'column',\n",
       " 'column_align',\n",
       " 'display_format',\n",
       " 'display_legend',\n",
       " 'enable_hover',\n",
       " 'font_style',\n",
       " 'interactions',\n",
       " 'labels',\n",
       " 'null_color',\n",
       " 'opacity',\n",
       " 'preserve_domain',\n",
       " 'row',\n",
       " 'row_align',\n",
       " 'scales',\n",
       " 'scales_metadata',\n",
       " 'selected',\n",
       " 'selected_style',\n",
       " 'stroke',\n",
       " 'tooltip',\n",
       " 'tooltip_location',\n",
       " 'tooltip_style',\n",
       " 'unselected_style',\n",
       " 'visible']"
      ]
     },
     "execution_count": 67,
     "metadata": {},
     "output_type": "execute_result"
    }
   ],
   "source": [
    "heat_map.keys"
   ]
  },
  {
   "cell_type": "code",
   "execution_count": 62,
   "metadata": {},
   "outputs": [],
   "source": [
    "# LINKING SCATTER PLOT WITH HEATMAP\n",
    "def get_data_value(change):\n",
    "    # to make sure we only support single selections\n",
    "    if len(change['owner'].selected) == 1: # *only* 1 selection\n",
    "        i,j = change['owner'].selected[0]\n",
    "        v = hist2d[i,j]\n",
    "        mySelectedLabel.value = 'Total Duration in log(sec) = ' + str(v)\n",
    "        # UPDATE SCATTER PLOT TOO\n",
    "        longs = [long_edges[j], long_edges[j+1]]\n",
    "        lats = [lat_edges[i], lat_edges[i+1]]\n",
    "        # I only want data in this particular longtitude & latitude bin\n",
    "        region_mask = ( (ufos['latitude'] >= lats[0]) & (ufos['latitude'] <= lats[1]) &\\\n",
    "                       (ufos['longitude'] >= longs[0]) & (ufos['longitude']<= longs[1]) )\n",
    "        # we already developed our scatter plot with binning in mind\n",
    "        duration_scatt.x = ufos['date'][region_mask]\n",
    "        duration_scatt.y = ufos['duration_seconds'][region_mask]\n",
    "          \n",
    "# make sure we \"observe\" for a change in our heatmap (traitlets)\n",
    "heat_map.observe(get_data_value, 'selected')"
   ]
  },
  {
   "cell_type": "code",
   "execution_count": 63,
   "metadata": {},
   "outputs": [],
   "source": [
    "# CREATE FIGURE OBJECTS - #5\n",
    "fig_heatmap = bqplot.Figure(marks=[heat_map], axes=[c_ax, y_ax, x_ax])\n",
    "fig_dur = bqplot.Figure(marks=[duration_scatt], axes=[ax_xcl, ax_ycl])"
   ]
  },
  {
   "cell_type": "code",
   "execution_count": 65,
   "metadata": {},
   "outputs": [
    {
     "data": {
      "application/vnd.jupyter.widget-view+json": {
       "model_id": "068557388c014a5b92c2569704cc217d",
       "version_major": 2,
       "version_minor": 0
      },
      "text/plain": [
       "VBox(children=(Label(value='Total Duration in log(sec) = 7.956605641674489'), HBox(children=(Figure(axes=[Colo…"
      ]
     },
     "metadata": {},
     "output_type": "display_data"
    }
   ],
   "source": [
    "# Put it all together finally!  As a dashboard\n",
    "fig_heatmap.layout.min_width='400px'\n",
    "fig_dur.layout.min_width = '400px'\n",
    "\n",
    "plots = ipywidgets.HBox([fig_heatmap, fig_dur])\n",
    "myDashboard = ipywidgets.VBox([mySelectedLabel, plots])\n",
    "myDashboard"
   ]
  },
  {
   "cell_type": "markdown",
   "metadata": {},
   "source": [
    "# Beginning Chloropeth Maps (more next week)"
   ]
  },
  {
   "cell_type": "code",
   "execution_count": 68,
   "metadata": {},
   "outputs": [
    {
     "data": {
      "application/vnd.jupyter.widget-view+json": {
       "model_id": "f98e85f73b3b4f61aed0233b847cd1bc",
       "version_major": 2,
       "version_minor": 0
      },
      "text/plain": [
       "Figure(fig_margin={'top': 0, 'bottom': 0, 'left': 0, 'right': 0}, marks=[Map(hovered_styles={'hovered_fill': '…"
      ]
     },
     "metadata": {},
     "output_type": "display_data"
    }
   ],
   "source": [
    "# a quick map of the US\n",
    "\n",
    "# scales\n",
    "sc_geo = bqplot.AlbersUSA() # a projection from the globe (sphere) onto a plane (US centric)\n",
    "# \"axis\"\n",
    "state_data = bqplot.topo_load('map_data/USStatesMap.json')\n",
    "\n",
    "# marks\n",
    "states_map = bqplot.Map(map_data=state_data, scales={'projection':sc_geo})\n",
    "\n",
    "# put it all together in afigure\n",
    "fig = bqplot.Figure(marks=[states_map], \n",
    "                   fig_margin={'top':0, 'bottom':0, 'left':0, 'right':0})\n",
    "fig"
   ]
  },
  {
   "cell_type": "code",
   "execution_count": 70,
   "metadata": {},
   "outputs": [
    {
     "data": {
      "application/vnd.jupyter.widget-view+json": {
       "model_id": "e0d2fd8c92164ee596e0efaadc166c3e",
       "version_major": 2,
       "version_minor": 0
      },
      "text/plain": [
       "Figure(fig_margin={'top': 0, 'bottom': 0, 'left': 0, 'right': 0}, marks=[Map(hovered_styles={'hovered_fill': '…"
      ]
     },
     "metadata": {},
     "output_type": "display_data"
    }
   ],
   "source": [
    "# scales\n",
    "sc_geo = bqplot.Gnomonic() # a projection from the globe (sphere) onto a plane \n",
    "# \"axis\"\n",
    "shape_data = bqplot.topo_load('map_data/WorldMap.json')\n",
    "\n",
    "# marks\n",
    "shape_map = bqplot.Map(map_data=shape_data, scales={'projection':sc_geo})\n",
    "\n",
    "# put it all together in afigure\n",
    "fig = bqplot.Figure(marks=[shape_map], \n",
    "                   fig_margin={'top':0, 'bottom':0, 'left':0, 'right':0})\n",
    "fig"
   ]
  },
  {
   "cell_type": "markdown",
   "metadata": {},
   "source": [
    "# Choose your own adventure\n",
    "1. Work on the dashboard for the HW <- totally fine place to be\n",
    "1. Check out the prep notebook for part 2 -> building a dashboard with an interactive map\n",
    "  * tooltip (how to build one & limitation there of)\n",
    "  * use this as a base to do multiple line plots to compare exports from states"
   ]
  },
  {
   "cell_type": "code",
   "execution_count": null,
   "metadata": {},
   "outputs": [],
   "source": [
    "x_ax = bqplot.Axis(scale = x_sc, label='Agency Name', label_offset='100px',\n",
    "                  tick_rotate=45, # rotated\n",
    "                   tick_style={'font-size':'3px', 'tick_offset':'100px','text-anchor': 'top'})\n",
    "y_ax = bqplot.Axis(scale = y_sc, \n",
    "                   orientation = 'vertical', \n",
    "                   label = 'Congressional District')\n"
   ]
  }
 ],
 "metadata": {
  "kernelspec": {
   "display_name": "Python 3",
   "language": "python",
   "name": "python3"
  },
  "language_info": {
   "codemirror_mode": {
    "name": "ipython",
    "version": 3
   },
   "file_extension": ".py",
   "mimetype": "text/x-python",
   "name": "python",
   "nbconvert_exporter": "python",
   "pygments_lexer": "ipython3",
   "version": "3.8.5"
  }
 },
 "nbformat": 4,
 "nbformat_minor": 4
}
