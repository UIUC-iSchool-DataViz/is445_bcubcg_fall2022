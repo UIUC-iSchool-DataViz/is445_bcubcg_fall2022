{
 "cells": [
  {
   "cell_type": "markdown",
   "metadata": {},
   "source": [
    "# Heat Maps & Market Maps\n",
    "\n",
    "We'll build off our use of `bqplot` to make a dashboard with randomly sampled data last lecture to make interactive dashboards out of \"real\" data using the `UFO Dataset`.\n",
    "\n",
    "We'll also look at the `Market Map` marks in `bqplot` for another representation of mappable data in a dashboard."
   ]
  },
  {
   "cell_type": "markdown",
   "metadata": {},
   "source": [
    "Let's import our usual stuff:"
   ]
  },
  {
   "cell_type": "code",
   "execution_count": 2,
   "metadata": {},
   "outputs": [],
   "source": [
    "import pandas as pd\n",
    "import bqplot\n",
    "import numpy as np\n",
    "import traitlets\n",
    "import ipywidgets\n",
    "import matplotlib.pyplot as plt\n",
    "####%matplotlib inline"
   ]
  },
  {
   "cell_type": "markdown",
   "metadata": {},
   "source": [
    "## Review  from last time\n",
    "\n",
    "Last time we generated random data in 3D:"
   ]
  },
  {
   "cell_type": "markdown",
   "metadata": {},
   "source": [
    "We started by making a 3D dataset:"
   ]
  },
  {
   "cell_type": "code",
   "execution_count": 3,
   "metadata": {},
   "outputs": [],
   "source": [
    "data3d = np.random.random( (10,10, 20))"
   ]
  },
  {
   "cell_type": "code",
   "execution_count": 4,
   "metadata": {},
   "outputs": [
    {
     "data": {
      "text/plain": [
       "(10, 10, 20)"
      ]
     },
     "execution_count": 4,
     "metadata": {},
     "output_type": "execute_result"
    }
   ],
   "source": [
    "data3d.shape # x, y, z"
   ]
  },
  {
   "cell_type": "markdown",
   "metadata": {},
   "source": [
    "Recall we selected specfic x/y indices to plot.  For example if x=y=0:"
   ]
  },
  {
   "cell_type": "code",
   "execution_count": 5,
   "metadata": {},
   "outputs": [
    {
     "data": {
      "text/plain": [
       "array([0.47636965, 0.6136651 , 0.54043535, 0.01383007, 0.22303403,\n",
       "       0.46115163, 0.02142681, 0.16341514, 0.23163891, 0.99279605,\n",
       "       0.80631994, 0.28381256, 0.37767712, 0.14863163, 0.7719806 ,\n",
       "       0.03881232, 0.83173675, 0.77286762, 0.35985762, 0.0639061 ])"
      ]
     },
     "execution_count": 5,
     "metadata": {},
     "output_type": "execute_result"
    }
   ],
   "source": [
    "data3d[0,0,:]"
   ]
  },
  {
   "cell_type": "code",
   "execution_count": 6,
   "metadata": {},
   "outputs": [
    {
     "data": {
      "text/plain": [
       "0.409668250646608"
      ]
     },
     "execution_count": 6,
     "metadata": {},
     "output_type": "execute_result"
    }
   ],
   "source": [
    "data3d[0,0,:].mean()"
   ]
  },
  {
   "cell_type": "markdown",
   "metadata": {},
   "source": [
    "Now that we've decided how our label will look.  What about our heat map?  We know this is expecting 2d data as an input.  So, we'll do the same thing, we'll take a mean, but we'll do it over the whole array:"
   ]
  },
  {
   "cell_type": "code",
   "execution_count": 7,
   "metadata": {},
   "outputs": [
    {
     "data": {
      "text/plain": [
       "array([[0.40966825, 0.44724279, 0.64566357, 0.52617436, 0.55229814,\n",
       "        0.4568381 , 0.52125786, 0.49702673, 0.5177452 , 0.59447443],\n",
       "       [0.5141948 , 0.44876509, 0.57739629, 0.42920724, 0.40885301,\n",
       "        0.44123814, 0.48038735, 0.51320646, 0.54248668, 0.50143203],\n",
       "       [0.36951696, 0.65034664, 0.45854553, 0.53286961, 0.50744225,\n",
       "        0.45367653, 0.46699664, 0.50943452, 0.51603916, 0.49770903],\n",
       "       [0.51529386, 0.46687266, 0.42455169, 0.4224931 , 0.45574   ,\n",
       "        0.6176894 , 0.42536075, 0.5265202 , 0.5930755 , 0.49013701],\n",
       "       [0.50731944, 0.43855689, 0.45858108, 0.45773197, 0.7267714 ,\n",
       "        0.44467398, 0.55492718, 0.4599125 , 0.55192207, 0.46430982],\n",
       "       [0.50089584, 0.49169973, 0.37964531, 0.54562393, 0.48457338,\n",
       "        0.51259726, 0.58631782, 0.4739903 , 0.34775131, 0.48003365],\n",
       "       [0.48390694, 0.5432987 , 0.58172279, 0.5784864 , 0.37917908,\n",
       "        0.52023041, 0.44826141, 0.49617959, 0.47220668, 0.48708894],\n",
       "       [0.4545293 , 0.44537408, 0.38342619, 0.49635567, 0.43549592,\n",
       "        0.52966479, 0.56065134, 0.46794129, 0.46976581, 0.52729516],\n",
       "       [0.37890166, 0.36680555, 0.52497245, 0.54001186, 0.61234693,\n",
       "        0.54537401, 0.41918866, 0.44010998, 0.55325589, 0.52401182],\n",
       "       [0.46730896, 0.40519864, 0.51079399, 0.54612297, 0.56908601,\n",
       "        0.52547517, 0.52016573, 0.50863028, 0.56589366, 0.55185587]])"
      ]
     },
     "execution_count": 7,
     "metadata": {},
     "output_type": "execute_result"
    }
   ],
   "source": [
    "data3d.mean(axis=2)"
   ]
  },
  {
   "cell_type": "code",
   "execution_count": 8,
   "metadata": {},
   "outputs": [
    {
     "data": {
      "text/plain": [
       "(10, 10)"
      ]
     },
     "execution_count": 8,
     "metadata": {},
     "output_type": "execute_result"
    }
   ],
   "source": [
    "data3d.mean(axis=2).shape"
   ]
  },
  {
   "cell_type": "markdown",
   "metadata": {},
   "source": [
    "Let's build up our dashboard again, I'll copy-paste into Slack/zoom:"
   ]
  },
  {
   "cell_type": "code",
   "execution_count": 9,
   "metadata": {},
   "outputs": [],
   "source": [
    "mySelectedLabel = ipywidgets.Label() # start with our label"
   ]
  },
  {
   "cell_type": "markdown",
   "metadata": {},
   "source": [
    "So, all we need to to begin with is just add this sort of mean into our observation function:"
   ]
  },
  {
   "cell_type": "code",
   "execution_count": 10,
   "metadata": {},
   "outputs": [
    {
     "data": {
      "application/vnd.jupyter.widget-view+json": {
       "model_id": "85b42d09061b4d099f36cd5dacd3b3e3",
       "version_major": 2,
       "version_minor": 0
      },
      "text/plain": [
       "VBox(children=(Label(value=''), Figure(axes=[ColorAxis(orientation='vertical', scale=ColorScale(scheme='Reds')…"
      ]
     },
     "metadata": {},
     "output_type": "display_data"
    }
   ],
   "source": [
    "# first, just print out what is changing, what is selected\n",
    "# only support 1 selected grid\n",
    "def on_selected(change):\n",
    "    if len(change['owner'].selected) == 1:\n",
    "        #print(change['owner'].selected[0])\n",
    "        i, j = change['owner'].selected[0]\n",
    "        v = data3d[i,j,:].mean() # CHANGE HERE\n",
    "        mySelectedLabel.value = 'Mean Data Value = ' + str(v)\n",
    "    \n",
    "# 1. Data -- now 3d\n",
    "\n",
    "# 2. Scale - color scale\n",
    "col_sc = bqplot.ColorScale(scheme=\"Reds\") \n",
    "# this is because the \"bins\" are just bins -- their order is NOT numerically important\n",
    "x_sc = bqplot.OrdinalScale()\n",
    "y_sc = bqplot.OrdinalScale()\n",
    "\n",
    "# 3. Axis -- for colors, the axis is a colorbar!\n",
    "ax_col = bqplot.ColorAxis(scale = col_sc, orientation='vertical', \n",
    "                          side='right') \n",
    "ax_x = bqplot.Axis(scale = x_sc) # same x/y ax we had before\n",
    "ax_y = bqplot.Axis(scale = y_sc, orientation='vertical')\n",
    "\n",
    "# 4. Mark -- heatmap -- CHANGE HERE\n",
    "heat_map = bqplot.GridHeatMap(color = data3d.mean(axis=2), \n",
    "                              scales = {'color':col_sc, \n",
    "                                        'row':y_sc, 'column':x_sc},\n",
    "                             interactions={'click':'select'},\n",
    "                             anchor_style={'fill':'blue'},\n",
    "                             selected_style={'opacity':1.0},\n",
    "                             unselected_style={'opacity':0.8})\n",
    "\n",
    "# 5. Interactions -- going to be built into the GridHeatMap mark (how things *look* when selection happens)\n",
    "# BUT I'm going to define what happens when the interaction takes place (something is selected)\n",
    "heat_map.observe(on_selected, 'selected')\n",
    "\n",
    "# Finally, a figure!\n",
    "fig = bqplot.Figure(marks = [heat_map], axes=[ax_col, ax_x, ax_y]) # have to add this axis to my figure object!\n",
    "#fig\n",
    "\n",
    "# combine the widget & figure and display both at the same time!\n",
    "myDashboard = ipywidgets.VBox([mySelectedLabel, fig])\n",
    "myDashboard # show the dashboard"
   ]
  },
  {
   "cell_type": "markdown",
   "metadata": {},
   "source": [
    "Ok, so we have the first few components of our dashboard with our new 3D dataset.  Let's work on the histogram.  We'll put this to the right of our label+heatmap, but first things first, the histogram:"
   ]
  },
  {
   "cell_type": "code",
   "execution_count": 11,
   "metadata": {},
   "outputs": [
    {
     "data": {
      "text/plain": [
       "array([0.47636965, 0.6136651 , 0.54043535, 0.01383007, 0.22303403,\n",
       "       0.46115163, 0.02142681, 0.16341514, 0.23163891, 0.99279605,\n",
       "       0.80631994, 0.28381256, 0.37767712, 0.14863163, 0.7719806 ,\n",
       "       0.03881232, 0.83173675, 0.77286762, 0.35985762, 0.0639061 ])"
      ]
     },
     "execution_count": 11,
     "metadata": {},
     "output_type": "execute_result"
    }
   ],
   "source": [
    "# 1. Data -- what is the data for the histogram\n",
    "i, j = 0, 0 # just as an example\n",
    "data3d[i,j] # 20 elements"
   ]
  },
  {
   "cell_type": "markdown",
   "metadata": {},
   "source": [
    "This is the data that we want to feed into our histogram so that if we select on i,j with our heatmap it will show us the distribution of values along the 3rd dimension."
   ]
  },
  {
   "cell_type": "code",
   "execution_count": 12,
   "metadata": {},
   "outputs": [],
   "source": [
    "# 2. Scales -- linear for a histogram of numerical data\n",
    "x_sch = bqplot.LinearScale()\n",
    "y_sch = bqplot.LinearScale()"
   ]
  },
  {
   "cell_type": "code",
   "execution_count": 13,
   "metadata": {},
   "outputs": [],
   "source": [
    "# 3. Axis\n",
    "x_axh = bqplot.Axis(scale = x_sch, label = 'Value of 3rd axis')\n",
    "y_axh = bqplot.Axis(scale = y_sch, \n",
    "                    orientation = 'vertical', \n",
    "                    label='Frequency')"
   ]
  },
  {
   "cell_type": "markdown",
   "metadata": {},
   "source": [
    "Marks will be the bqplot.Hist mark for histograms:"
   ]
  },
  {
   "cell_type": "code",
   "execution_count": 14,
   "metadata": {},
   "outputs": [],
   "source": [
    "bqplot.Hist?"
   ]
  },
  {
   "cell_type": "code",
   "execution_count": 15,
   "metadata": {},
   "outputs": [],
   "source": [
    "hist = bqplot.Hist(sample = data3d[i,j,:], # note: we are \"hard coding\" the x/y indicies as i,j\n",
    "                   normalized = False, # normalized=False means we get counts in each bin\n",
    "                   scales = {'sample': x_sch, 'count': y_sch}, # sample is data values, count is frequency\n",
    "                   bins = 5) # number of bins"
   ]
  },
  {
   "cell_type": "markdown",
   "metadata": {},
   "source": [
    "Note here that we specified this plot in a different way than the `GridHeatMap` and `Scatter` -- each type of `bqplot` plot has different parameters associated with the type of plot we are using.  Let's combine this as a figure and take a look!"
   ]
  },
  {
   "cell_type": "code",
   "execution_count": 16,
   "metadata": {},
   "outputs": [
    {
     "data": {
      "application/vnd.jupyter.widget-view+json": {
       "model_id": "ab6f52a44e2a43ab919fba20c7da8677",
       "version_major": 2,
       "version_minor": 0
      },
      "text/plain": [
       "Figure(axes=[Axis(label='Value of 3rd axis', scale=LinearScale(), side='bottom'), Axis(label='Frequency', orie…"
      ]
     },
     "metadata": {},
     "output_type": "display_data"
    }
   ],
   "source": [
    "figh = bqplot.Figure(marks = [hist], axes = [x_axh, y_axh])\n",
    "figh # your's might look different because you have different random numbers!"
   ]
  },
  {
   "cell_type": "markdown",
   "metadata": {},
   "source": [
    "Let's pause here and think about how to link up our histogram i,j with our selections on the heatmap.  First, what values of the histogram can we update?  Let's check:"
   ]
  },
  {
   "cell_type": "code",
   "execution_count": 17,
   "metadata": {},
   "outputs": [
    {
     "data": {
      "text/plain": [
       "['_model_module',\n",
       " '_model_module_version',\n",
       " '_model_name',\n",
       " '_view_count',\n",
       " '_view_module',\n",
       " '_view_module_version',\n",
       " '_view_name',\n",
       " 'apply_clip',\n",
       " 'bins',\n",
       " 'colors',\n",
       " 'count',\n",
       " 'display_legend',\n",
       " 'enable_hover',\n",
       " 'interactions',\n",
       " 'labels',\n",
       " 'midpoints',\n",
       " 'normalized',\n",
       " 'opacities',\n",
       " 'preserve_domain',\n",
       " 'sample',\n",
       " 'scales',\n",
       " 'scales_metadata',\n",
       " 'selected',\n",
       " 'selected_style',\n",
       " 'stroke',\n",
       " 'tooltip',\n",
       " 'tooltip_location',\n",
       " 'tooltip_style',\n",
       " 'unselected_style',\n",
       " 'visible']"
      ]
     },
     "execution_count": 17,
     "metadata": {},
     "output_type": "execute_result"
    }
   ],
   "source": [
    "hist.keys"
   ]
  },
  {
   "cell_type": "code",
   "execution_count": 18,
   "metadata": {},
   "outputs": [
    {
     "data": {
      "text/plain": [
       "array([0.47636965, 0.6136651 , 0.54043535, 0.01383007, 0.22303403,\n",
       "       0.46115163, 0.02142681, 0.16341514, 0.23163891, 0.99279605,\n",
       "       0.80631994, 0.28381256, 0.37767712, 0.14863163, 0.7719806 ,\n",
       "       0.03881232, 0.83173675, 0.77286762, 0.35985762, 0.0639061 ])"
      ]
     },
     "execution_count": 18,
     "metadata": {},
     "output_type": "execute_result"
    }
   ],
   "source": [
    "hist.sample"
   ]
  },
  {
   "cell_type": "markdown",
   "metadata": {},
   "source": [
    "Hey!  Here is where our data values are stored!  Like with when we observe changes in our heat map and update the values of our ipywidget's value we want to also update this sample's data!  \n",
    "\n",
    "Let's update our `on_selected` function to reflect this:"
   ]
  },
  {
   "cell_type": "code",
   "execution_count": 19,
   "metadata": {},
   "outputs": [],
   "source": [
    "def on_selected(change):\n",
    "    if len(change['owner'].selected) == 1: #only 1 selected\n",
    "        i, j = change['owner'].selected[0] # grab the x/y coordinates\n",
    "        v = data3d[i,j].mean() # grab data value at x/y index and mean along z\n",
    "        mySelectedLabel.value = 'Data Sum = ' + str(v) # set our label\n",
    "        # NOW ALSO: update our histogram\n",
    "        hist.sample = data3d[i,j,:]"
   ]
  },
  {
   "cell_type": "markdown",
   "metadata": {},
   "source": [
    "We don't have to go through the exersise of rebuilding our heatmap and histogram in general, but let's just do it for the sake of completeness and not accidentally re-linking thinks we shouldn't:"
   ]
  },
  {
   "cell_type": "markdown",
   "metadata": {},
   "source": [
    "#1 heatmap:"
   ]
  },
  {
   "cell_type": "code",
   "execution_count": 20,
   "metadata": {},
   "outputs": [],
   "source": [
    "# (1) Scales: x/y, colors\n",
    "col_sc = bqplot.ColorScale(scheme = \"Reds\")\n",
    "x_sc = bqplot.OrdinalScale()\n",
    "y_sc = bqplot.OrdinalScale()\n",
    "\n",
    "# (2) Axis: x/y, colors\n",
    "c_ax = bqplot.ColorAxis(scale = col_sc, \n",
    "                        orientation = 'vertical', \n",
    "                        side = 'right')\n",
    "x_ax = bqplot.Axis(scale = x_sc)\n",
    "y_ax = bqplot.Axis(scale = y_sc, \n",
    "                   orientation = 'vertical')\n",
    "\n",
    "# (3) Marks: heatmap\n",
    "heat_map = bqplot.GridHeatMap(color = data3d.mean(axis=2),\n",
    "                              scales = {'color': col_sc,\n",
    "                                        'row': y_sc,\n",
    "                                        'column': x_sc},\n",
    "                              interactions = {'click': 'select'}, # make interactive on click of each box\n",
    "                              anchor_style = {'fill':'blue'}, # to make our selection blue\n",
    "                              selected_style = {'opacity': 1.0}, # make 100% opaque if box is selected\n",
    "                              unselected_style = {'opacity': 0.8}) # make a little see-through if not\n",
    "\n",
    "# (4) Link selection on heatmap to other things\n",
    "heat_map.observe(on_selected, 'selected')\n",
    "\n",
    "# (5) Paint heatmap canvas, don't display yet:\n",
    "fig_heatmap = bqplot.Figure(marks = [heat_map], axes = [c_ax, y_ax, x_ax])"
   ]
  },
  {
   "cell_type": "markdown",
   "metadata": {},
   "source": [
    "#2 histogram:"
   ]
  },
  {
   "cell_type": "code",
   "execution_count": 21,
   "metadata": {},
   "outputs": [],
   "source": [
    "# (1) scales: x/y, linear\n",
    "x_sch = bqplot.LinearScale() # range of z-axis data\n",
    "y_sch = bqplot.LinearScale() # frequency of z-axis data in bins\n",
    "\n",
    "# (2) axis: x/y\n",
    "x_axh = bqplot.Axis(scale = x_sch, label = 'Value of 3rd axis')\n",
    "y_axh = bqplot.Axis(scale = y_sch, \n",
    "                    orientation = 'vertical', \n",
    "                    label='Frequency')\n",
    "\n",
    "# (3) Marks: histogram - start with just 0,0 in i/j -- can do other place holders\n",
    "hist = bqplot.Hist(sample = data3d[0,0,:],\n",
    "                   normalized = False, # normalized=False means we get counts in each bin\n",
    "                   scales = {'sample': x_sch, 'count': y_sch}, # sample is data values, count is frequency\n",
    "                   bins = 5) # number of bins\n",
    "\n",
    "# (4) NO LINKING ON HISTOGRAM SIDE\n",
    "\n",
    "# (5) Paint histogram canvas, don't display yet\n",
    "fig_hist = bqplot.Figure(marks = [hist], axes = [x_axh, y_axh])"
   ]
  },
  {
   "cell_type": "markdown",
   "metadata": {},
   "source": [
    "Create dashboard layout and display:"
   ]
  },
  {
   "cell_type": "code",
   "execution_count": 22,
   "metadata": {},
   "outputs": [
    {
     "data": {
      "application/vnd.jupyter.widget-view+json": {
       "model_id": "95df427be8c542cbb97bf3ae67c43d69",
       "version_major": 2,
       "version_minor": 0
      },
      "text/plain": [
       "VBox(children=(Label(value='Mean Data Value = 0.4385568897789233'), HBox(children=(Figure(axes=[ColorAxis(orie…"
      ]
     },
     "metadata": {},
     "output_type": "display_data"
    }
   ],
   "source": [
    "# side by side figures\n",
    "figures = ipywidgets.HBox([fig_heatmap, fig_hist])\n",
    "\n",
    "# label on top\n",
    "myDashboard = ipywidgets.VBox([mySelectedLabel, figures])\n",
    "myDashboard"
   ]
  },
  {
   "cell_type": "markdown",
   "metadata": {},
   "source": [
    "Ok close, but its all smooshed!  We can play with the layout of our plots before we display.  To do this we use some more CSS-like styling options, in particular, `layout`:"
   ]
  },
  {
   "cell_type": "code",
   "execution_count": 23,
   "metadata": {},
   "outputs": [
    {
     "data": {
      "application/vnd.jupyter.widget-view+json": {
       "model_id": "11cedafb13a9437bab97a604e99b5f67",
       "version_major": 2,
       "version_minor": 0
      },
      "text/plain": [
       "VBox(children=(Label(value='Data Sum = 0.4669966412588571'), HBox(children=(Figure(axes=[ColorAxis(orientation…"
      ]
     },
     "metadata": {},
     "output_type": "display_data"
    }
   ],
   "source": [
    "# mess with figure layout:\n",
    "fig_heatmap.layout.min_width = '500px' # feel free to change for your screen\n",
    "fig_hist.layout.min_width = '500px'\n",
    "\n",
    "# side by side figures\n",
    "figures = ipywidgets.HBox([fig_heatmap, fig_hist])\n",
    "\n",
    "# label on top\n",
    "myDashboard = ipywidgets.VBox([mySelectedLabel, figures])\n",
    "myDashboard"
   ]
  },
  {
   "cell_type": "markdown",
   "metadata": {},
   "source": [
    "Note that update was \"back-reactive\" in that it changed the figure layout above as well!  Super sweet!"
   ]
  },
  {
   "cell_type": "markdown",
   "metadata": {},
   "source": [
    "#### Further complications: linking in different directions\n",
    "\n",
    "We can also apply some other links to further enhance our dashboard.  One that we've messed with before is allowing the user to select the number of bins of a histogram.\n",
    "\n",
    "There are a few ways to do this, but one \"easier\" way is to just link the histogram \"bins\" with the value of a bins-slider.  \n",
    "\n",
    "If we recall: `bins` was another key that was listed in hist:"
   ]
  },
  {
   "cell_type": "code",
   "execution_count": 24,
   "metadata": {},
   "outputs": [
    {
     "data": {
      "text/plain": [
       "['_model_module',\n",
       " '_model_module_version',\n",
       " '_model_name',\n",
       " '_view_count',\n",
       " '_view_module',\n",
       " '_view_module_version',\n",
       " '_view_name',\n",
       " 'apply_clip',\n",
       " 'bins',\n",
       " 'colors',\n",
       " 'count',\n",
       " 'display_legend',\n",
       " 'enable_hover',\n",
       " 'interactions',\n",
       " 'labels',\n",
       " 'midpoints',\n",
       " 'normalized',\n",
       " 'opacities',\n",
       " 'preserve_domain',\n",
       " 'sample',\n",
       " 'scales',\n",
       " 'scales_metadata',\n",
       " 'selected',\n",
       " 'selected_style',\n",
       " 'stroke',\n",
       " 'tooltip',\n",
       " 'tooltip_location',\n",
       " 'tooltip_style',\n",
       " 'unselected_style',\n",
       " 'visible']"
      ]
     },
     "execution_count": 24,
     "metadata": {},
     "output_type": "execute_result"
    }
   ],
   "source": [
    "hist.keys"
   ]
  },
  {
   "cell_type": "code",
   "execution_count": 25,
   "metadata": {},
   "outputs": [],
   "source": [
    "hist.bins = 5 # this changes the bins of our histogram above in a back-reactive way -- traitlets magic!"
   ]
  },
  {
   "cell_type": "markdown",
   "metadata": {},
   "source": [
    "Let's add a little integer slider to allow our user to select the number of bins for the histogram:"
   ]
  },
  {
   "cell_type": "code",
   "execution_count": 26,
   "metadata": {},
   "outputs": [],
   "source": [
    "bins_slider = ipywidgets.IntSlider(value=5, min=1, max=data3d.shape[2]) # don't make more bins than data points!"
   ]
  },
  {
   "cell_type": "markdown",
   "metadata": {},
   "source": [
    "A reminder of what this looks like:"
   ]
  },
  {
   "cell_type": "code",
   "execution_count": 27,
   "metadata": {},
   "outputs": [
    {
     "data": {
      "application/vnd.jupyter.widget-view+json": {
       "model_id": "81f15ecccea145ff90b6169c778ecaa9",
       "version_major": 2,
       "version_minor": 0
      },
      "text/plain": [
       "IntSlider(value=5, max=20, min=1)"
      ]
     },
     "metadata": {},
     "output_type": "display_data"
    }
   ],
   "source": [
    "bins_slider"
   ]
  },
  {
   "cell_type": "markdown",
   "metadata": {},
   "source": [
    "We can use `link` or `jslink` to link the value of this slider to our histogram's number of bins:"
   ]
  },
  {
   "cell_type": "code",
   "execution_count": 28,
   "metadata": {},
   "outputs": [
    {
     "data": {
      "text/plain": [
       "Link(source=(IntSlider(value=5, max=20, min=1), 'value'), target=(Hist(bins=5, colors=['steelblue'], count=arr…"
      ]
     },
     "metadata": {},
     "output_type": "display_data"
    }
   ],
   "source": [
    "ipywidgets.jslink((bins_slider, 'value'), (hist, 'bins'))"
   ]
  },
  {
   "cell_type": "markdown",
   "metadata": {},
   "source": [
    "While this change is \"backreactive\", let's redo our figure layout so we can see everything a bit better:"
   ]
  },
  {
   "cell_type": "code",
   "execution_count": 29,
   "metadata": {},
   "outputs": [
    {
     "data": {
      "application/vnd.jupyter.widget-view+json": {
       "model_id": "e04a108f80f0459db1dcc617b72b8a1e",
       "version_major": 2,
       "version_minor": 0
      },
      "text/plain": [
       "VBox(children=(HBox(children=(Label(value='Data Sum = 0.7267713966338347'), IntSlider(value=5, max=20, min=1))…"
      ]
     },
     "metadata": {},
     "output_type": "display_data"
    }
   ],
   "source": [
    "# mess with figure layout:\n",
    "fig_heatmap.layout.min_width = '500px' # feel free to change for your screen\n",
    "fig_hist.layout.min_width = '500px'\n",
    "\n",
    "# side by side figures\n",
    "figures = ipywidgets.HBox([fig_heatmap, fig_hist])\n",
    "\n",
    "# label on top to the left, bins slider to the right\n",
    "controls = ipywidgets.HBox([mySelectedLabel, bins_slider])\n",
    "\n",
    "# combined\n",
    "myDashboard = ipywidgets.VBox([controls, figures])\n",
    "myDashboard"
   ]
  },
  {
   "cell_type": "markdown",
   "metadata": {},
   "source": [
    "## Dashboarding with \"real\" data using the UFO dataset"
   ]
  },
  {
   "cell_type": "markdown",
   "metadata": {},
   "source": [
    "Let's read in the UFO dataset:"
   ]
  },
  {
   "cell_type": "code",
   "execution_count": 30,
   "metadata": {},
   "outputs": [],
   "source": [
    "ufos = pd.read_csv(\"/Users/jillnaiman/Downloads/ufo-scrubbed-geocoded-time-standardized-00.csv\",\n",
    "                  names = [\"date\", \"city\", \"state\", \"country\",\n",
    "                          \"shape\", \"duration_seconds\", \"duration\",\n",
    "                          \"comment\", \"report_date\", \n",
    "                           \"latitude\", \"longitude\"],\n",
    "                  parse_dates = [\"date\", \"report_date\"])\n",
    "\n",
    "# or from the web (but takes longer):\n",
    "# ufos = pd.read_csv(\"https://uiuc-ischool-dataviz.github.io/spring2019online/week04/data/ufo-scrubbed-geocoded-time-standardized-00.csv\",\n",
    "#                   names = [\"date\", \"city\", \"state\", \"country\",\n",
    "#                           \"shape\", \"duration_seconds\", \"duration\",\n",
    "#                           \"comment\", \"report_date\", \n",
    "#                            \"latitude\", \"longitude\"],\n",
    "#                   parse_dates = [\"date\", \"report_date\"])"
   ]
  },
  {
   "cell_type": "markdown",
   "metadata": {},
   "source": [
    "### Aside: downsampling\n",
    "\n",
    "We have covered downsampling before, but we will repeat it here in case folks have slower computers and don't want to use the full dataset while in class.\n",
    "\n",
    "We can remind ourselves of how many entries are in this dataset:"
   ]
  },
  {
   "cell_type": "code",
   "execution_count": 31,
   "metadata": {},
   "outputs": [
    {
     "data": {
      "text/plain": [
       "80332"
      ]
     },
     "execution_count": 31,
     "metadata": {},
     "output_type": "execute_result"
    }
   ],
   "source": [
    "len(ufos)"
   ]
  },
  {
   "cell_type": "markdown",
   "metadata": {},
   "source": [
    "80,000 entries is a lot!  So, to speed up our interactivity, we can randomly sample this dataset for plotting purposes.  Lets down sample to 1000 samples:"
   ]
  },
  {
   "cell_type": "code",
   "execution_count": 32,
   "metadata": {},
   "outputs": [
    {
     "data": {
      "text/plain": [
       "array([50014, 52171, 46137, 67454,  9008, 75902, 63013, 50007,  3473,\n",
       "       30857, 30430, 58279, 23112, 14999, 18422, 26548, 30157, 57412,\n",
       "       48759,  9193, 69869, 69148, 24063, 22870, 63965, 35261, 36652,\n",
       "       44465, 57155, 58268, 72963, 20829, 10055, 17983, 50519, 12227,\n",
       "       24831,  9092, 33386, 37463, 63121, 27679, 77415, 34576,  1476,\n",
       "       70667, 72067, 25401, 65209, 72953, 74412, 21853, 63936, 23069,\n",
       "       57026, 75858, 76867, 42204,  7724, 58630, 32923, 22421, 22965,\n",
       "       69262, 79611, 72544, 67576, 46188, 34857,   574, 68421, 49140,\n",
       "       20457, 36556, 40139, 32730, 74172, 72105, 25708, 61262, 40570,\n",
       "        5421,  8520, 66397, 40925, 14616, 49653, 38062, 59582, 21706,\n",
       "       57054, 61311, 77582, 41985, 73411, 29282, 53667, 79503, 32915,\n",
       "       56576, 54810, 34179, 70699, 45406, 42878, 73289, 59896, 53073,\n",
       "       71941,    58, 47731, 63739, 25003, 46912, 68128, 36210, 67624,\n",
       "       27211, 27016, 51334, 31196, 71065, 51977, 16548,   961, 48501,\n",
       "       47637, 10143, 26819, 40168,   337, 55788, 20301, 10635, 33572,\n",
       "       24861,  1315, 21599, 29635,   643, 42404,  3592,  8924, 59202,\n",
       "       47426, 76199, 72824, 63169, 20784, 35591, 42689, 26417, 57591,\n",
       "       70460, 24793, 10256, 58079, 68973, 43735, 22359, 79140, 37987,\n",
       "       76828, 21919, 38002, 41954, 11110, 35936, 42484, 44710, 65727,\n",
       "       57178, 33035, 46216, 23921, 56714, 66498, 35622, 22864, 45593,\n",
       "       69419, 35604, 59374, 28398, 36159, 30735, 49076, 76601, 39140,\n",
       "       25234, 18775, 56330,  2817,  2560, 78087, 44927, 25873, 34448,\n",
       "       23578, 47728, 69915, 30203, 46928, 78414, 39714, 38403, 50309,\n",
       "       12121, 46087, 40183, 32610, 28979, 64803, 42285, 27039, 26796,\n",
       "       39275, 63111, 69528, 66679, 74718, 60286, 56360, 19006,  7013,\n",
       "        8424, 65377, 33773, 79775, 26151, 31024, 45661, 35607,  2055,\n",
       "       52283, 76100, 17747, 22665, 26201, 45679, 61620, 56177, 46789,\n",
       "       69836, 71491, 31993, 10420, 35079, 64180, 50852, 69087, 20434,\n",
       "       59236, 66353, 15627, 20691, 76720, 16605, 24459, 21137, 10813,\n",
       "       70702,  3143, 37385, 10039, 46303, 23396, 18685, 18446, 15067,\n",
       "       32644, 18244, 44548, 16049, 30816, 74671, 37118, 59795,  3468,\n",
       "       50561, 46771, 68626, 59163, 65599, 54875, 39338, 67846, 14982,\n",
       "       47480, 28295, 78967, 33957, 15409, 15079, 12516,  3446, 74222,\n",
       "       54304, 20132, 73053, 16705, 49901, 32000, 77366, 11625, 42137,\n",
       "       54249, 40976, 27839, 65733, 47961, 64634, 65085, 50768,  9291,\n",
       "       60146, 29579, 56919, 30475, 40710, 43233, 44772, 54026, 23220,\n",
       "       26282, 66885, 16531, 61112, 51116, 61588, 33524, 36731, 44066,\n",
       "       43336,  8889, 42122, 10492, 23593,  1837, 78631, 35318, 46752,\n",
       "       54968, 36138, 45513, 48580, 38753, 15755, 20208, 70595, 65528,\n",
       "       15830,  6546, 34634, 62099, 33870, 33797, 14671,  2360,  7876,\n",
       "       25303, 27342, 22884, 55237, 33772, 52122, 46979, 31487,  8920,\n",
       "       62636, 13615, 55700, 24204, 25276, 54100, 33279, 13734, 31301,\n",
       "       68013, 19915, 10721, 46819, 12026, 41362, 64403, 44081, 64241,\n",
       "       50860,  6447, 43045,  7282, 14408,  4697, 47823, 39077,  1586,\n",
       "       29583, 74339, 22850, 56432, 21775, 36531,  9841, 62599, 21588,\n",
       "       15083, 68242, 76800, 43197, 11192, 57458, 63694, 60609, 77856,\n",
       "       34678, 68574,   658, 59813, 64219, 30900, 80150, 56045, 48022,\n",
       "       41253, 27537,  8479,  5686, 39676,  1812,  4872,  7382, 73764,\n",
       "       29018,   870, 73704, 52150, 60209, 41540, 67651, 77071, 36105,\n",
       "       18940, 43358,  6752, 67824,   991, 37045, 15791, 47638, 25953,\n",
       "       32689, 64658, 35784, 45111,  6977, 54869, 60056, 39572,  2929,\n",
       "       21843,  6254, 40300, 17904, 76773, 19402, 25788, 54720, 60850,\n",
       "       35293, 26158, 18363, 20439, 19053, 66731, 41863, 17080, 48810,\n",
       "       49009,  8202, 62100, 25308, 48758, 23305, 50794,  1089, 10835,\n",
       "       32657,  5608,   589, 22078, 39452, 57587, 59028, 14200, 61003,\n",
       "       13724,  7349, 66730, 31096, 65812, 18668, 45343, 12315, 53011,\n",
       "       11981, 34517, 33237, 13429, 39629, 59003, 33620, 71650, 80137,\n",
       "       25850, 18911, 20828, 28030, 43957, 15193,  6073, 57501, 10302,\n",
       "       56577, 21722,  8991, 31240, 55415, 21971, 57473, 35192, 13792,\n",
       "       33274, 47484, 72531, 22616, 50832, 17988,  6005,  5321, 66686,\n",
       "       21671, 13893, 30180, 43415, 38228, 75545, 68335, 62002, 20612,\n",
       "        7184, 37600, 44322,  5671, 11589,  1969, 56726, 22754, 68492,\n",
       "        4619, 76974,  1240, 59447,  8451, 76317, 55275, 69096, 27552,\n",
       "       22749, 72565,  8245, 62216, 50234, 42130, 17070, 24313, 40303,\n",
       "        3621, 38990, 26371,  5078, 27307, 50269, 12565, 57902, 24261,\n",
       "       16768, 29211, 24947, 42630, 39474, 74398, 63732, 12662, 76319,\n",
       "       18581, 15349, 79080, 43924, 67479, 74451,  8552, 59758, 45417,\n",
       "       29025, 70854, 32457, 41155, 58025, 31800, 51916, 51164, 73216,\n",
       "       26472, 41264, 75310,  1764, 10231,  1202, 59514, 54481, 10529,\n",
       "        5303, 61825,  7622,  1179, 74485, 12259, 71067, 63955, 61593,\n",
       "       38703, 66509, 60555, 49401, 45810, 50539, 70752, 63530, 53693,\n",
       "       63755, 23139,  2007, 54987, 52535, 53714, 79928, 45706,  1421,\n",
       "       49616, 78711,  8434, 63213, 12673, 51403, 62569, 60847,  8498,\n",
       "       41217, 47160, 76642, 61855, 78467, 26666,  9029, 50704, 38084,\n",
       "       24271, 77246, 65019, 28300, 60012, 51036, 51985, 39912, 20902,\n",
       "       50032,  9691, 59589, 41775, 68005, 60997, 40697, 34790, 33308,\n",
       "       40960, 79072, 55663, 48227, 70753, 54919, 71861, 30949, 42999,\n",
       "       79471, 72468,  1713, 33611, 28355, 45072, 42336, 36423, 14699,\n",
       "       54478,  2386, 46659, 32880, 75617, 60988, 33678, 21515, 67743,\n",
       "       47822, 12803, 77719, 73969, 16969, 60944, 39852, 24060, 32073,\n",
       "       37368, 17238, 28954, 65326,  8629, 51627, 18481, 46036, 49397,\n",
       "       74536, 54681, 43175, 49315,  3733, 52421, 75934, 33725, 37817,\n",
       "       32838, 41265, 20174, 63839, 15529, 73248, 51755, 35357, 30281,\n",
       "       11047, 26118, 18819, 61907, 67356, 76761, 62600, 20821, 52024,\n",
       "       21363, 27676, 50243, 64245, 64690, 47064,  9849, 62385, 58858,\n",
       "        8172, 25229, 47380, 22936, 19774, 16657, 20147,  3004, 77764,\n",
       "       33146, 29552, 21382, 70013, 78169,  2630, 23638, 35061, 38223,\n",
       "       26803, 45018, 55591, 28339, 46488, 24977, 54757,  3622, 10967,\n",
       "       23786, 18041, 24749, 25065, 11803, 57913,  1449, 27657, 27178,\n",
       "       35645, 44970, 59365, 33893, 77858, 61165, 34374, 33988, 29233,\n",
       "       72701, 24087,  2906,  7875, 46128, 14603,  6825, 16056, 49113,\n",
       "       52478, 14569, 45274, 53739, 16187,  9999, 14822,  2027, 64533,\n",
       "       11325, 76669, 73260, 60964, 70417, 67966, 70550, 75197, 44940,\n",
       "        8091, 14763, 70361, 40396, 50002, 37334,  9086, 64042, 57762,\n",
       "       43359, 44539, 10336, 58313, 69731,  9657, 33806, 64193, 47427,\n",
       "       72056, 27280, 68599, 50018, 80149, 39345, 35733, 45305, 16423,\n",
       "        4888, 40308, 22082, 42822, 21767, 68727, 20257, 67564,   683,\n",
       "        2622, 69365, 33289, 63031, 71586, 31917, 36268, 66629,  3317,\n",
       "       27770,  8608, 48098, 12844, 33439, 42912, 23934, 26917, 41827,\n",
       "       30556, 39116,   335, 48553, 19589, 30959, 24415, 16621, 25732,\n",
       "       75337, 46624, 68588, 67066,  4353, 54756, 39476, 53975, 30580,\n",
       "       31235, 29537,  8873, 14605, 57324, 34512, 57393,   814, 67294,\n",
       "       24434, 70882, 75914, 76723, 71940, 35292, 39281, 15980, 77796,\n",
       "       36450, 75870, 65697, 60942, 14692, 75845, 75472,  7479, 44429,\n",
       "       22166, 31071, 69237, 78041, 19015, 72994,    69, 61756, 64810,\n",
       "        5053, 74702, 78753, 11269, 64926, 12319, 32973, 12532, 28140,\n",
       "       25738, 21542, 15366, 42368, 80310, 48212, 31605, 13903, 61135,\n",
       "       54971, 62349, 14060, 43198, 42011, 79654, 78447, 32454, 49941,\n",
       "       13097, 22889, 13815,   386,   891, 19494,  7509, 80273, 13215,\n",
       "        3723, 64589, 41507, 53042, 45398, 36394,  1331, 10089, 36393,\n",
       "        9328, 60956, 46388, 23872, 20000, 75956, 34640, 33501, 46583,\n",
       "       39312])"
      ]
     },
     "execution_count": 32,
     "metadata": {},
     "output_type": "execute_result"
    }
   ],
   "source": [
    "nsamples = 1000\n",
    "#nsamples = 5000 # if you want a larger sample\n",
    "downSampleMask = np.random.choice(range(len(ufos)-1), \n",
    "                                  nsamples, replace=False)\n",
    "downSampleMask\n",
    "# so, downsample mask is now a list of random indicies for \n",
    "#  the UFO dataset.  Your's will not be the same because we have not set a seed."
   ]
  },
  {
   "cell_type": "markdown",
   "metadata": {},
   "source": [
    "Let's create a subset of our data with the `.loc` function:"
   ]
  },
  {
   "cell_type": "code",
   "execution_count": 33,
   "metadata": {},
   "outputs": [
    {
     "data": {
      "text/plain": [
       "1000"
      ]
     },
     "execution_count": 33,
     "metadata": {},
     "output_type": "execute_result"
    }
   ],
   "source": [
    "ufosDS = ufos.loc[downSampleMask]\n",
    "len(ufosDS)\n",
    "# so much shorter"
   ]
  },
  {
   "cell_type": "markdown",
   "metadata": {},
   "source": [
    "We can also see that this is saved as a dataframe:"
   ]
  },
  {
   "cell_type": "code",
   "execution_count": 34,
   "metadata": {},
   "outputs": [
    {
     "data": {
      "text/html": [
       "<div>\n",
       "<style scoped>\n",
       "    .dataframe tbody tr th:only-of-type {\n",
       "        vertical-align: middle;\n",
       "    }\n",
       "\n",
       "    .dataframe tbody tr th {\n",
       "        vertical-align: top;\n",
       "    }\n",
       "\n",
       "    .dataframe thead th {\n",
       "        text-align: right;\n",
       "    }\n",
       "</style>\n",
       "<table border=\"1\" class=\"dataframe\">\n",
       "  <thead>\n",
       "    <tr style=\"text-align: right;\">\n",
       "      <th></th>\n",
       "      <th>date</th>\n",
       "      <th>city</th>\n",
       "      <th>state</th>\n",
       "      <th>country</th>\n",
       "      <th>shape</th>\n",
       "      <th>duration_seconds</th>\n",
       "      <th>duration</th>\n",
       "      <th>comment</th>\n",
       "      <th>report_date</th>\n",
       "      <th>latitude</th>\n",
       "      <th>longitude</th>\n",
       "    </tr>\n",
       "  </thead>\n",
       "  <tbody>\n",
       "    <tr>\n",
       "      <th>50014</th>\n",
       "      <td>2012-06-18 20:30:00</td>\n",
       "      <td>carr (west of)</td>\n",
       "      <td>co</td>\n",
       "      <td>us</td>\n",
       "      <td>changing</td>\n",
       "      <td>600.0</td>\n",
       "      <td>ten minutes +</td>\n",
       "      <td>Bright light over mountains of Colorado</td>\n",
       "      <td>2012-06-20</td>\n",
       "      <td>40.896111</td>\n",
       "      <td>-104.874444</td>\n",
       "    </tr>\n",
       "    <tr>\n",
       "      <th>52171</th>\n",
       "      <td>2012-06-27 18:00:00</td>\n",
       "      <td>san leandro</td>\n",
       "      <td>ca</td>\n",
       "      <td>us</td>\n",
       "      <td>disk</td>\n",
       "      <td>900.0</td>\n",
       "      <td>15 minutes</td>\n",
       "      <td>Two flat disk shaped long objects hovering in sky</td>\n",
       "      <td>2012-10-30</td>\n",
       "      <td>37.725000</td>\n",
       "      <td>-122.155000</td>\n",
       "    </tr>\n",
       "    <tr>\n",
       "      <th>46137</th>\n",
       "      <td>2013-05-07 21:24:00</td>\n",
       "      <td>villa ridge</td>\n",
       "      <td>mo</td>\n",
       "      <td>us</td>\n",
       "      <td>circle</td>\n",
       "      <td>120.0</td>\n",
       "      <td>2 minutes</td>\n",
       "      <td>Fireball in sky.</td>\n",
       "      <td>2013-05-15</td>\n",
       "      <td>38.472500</td>\n",
       "      <td>-90.886667</td>\n",
       "    </tr>\n",
       "    <tr>\n",
       "      <th>67454</th>\n",
       "      <td>2006-08-18 03:00:00</td>\n",
       "      <td>south elgin</td>\n",
       "      <td>il</td>\n",
       "      <td>us</td>\n",
       "      <td>changing</td>\n",
       "      <td>1200.0</td>\n",
       "      <td>15-20minutes</td>\n",
       "      <td>3 black craft&amp;#44changed shape &amp;amp; became me...</td>\n",
       "      <td>2007-02-24</td>\n",
       "      <td>41.994167</td>\n",
       "      <td>-88.292222</td>\n",
       "    </tr>\n",
       "    <tr>\n",
       "      <th>9008</th>\n",
       "      <td>2012-11-13 19:36:00</td>\n",
       "      <td>webster</td>\n",
       "      <td>ma</td>\n",
       "      <td>us</td>\n",
       "      <td>fireball</td>\n",
       "      <td>5.0</td>\n",
       "      <td>5 seconds</td>\n",
       "      <td>I was sitting in my computer room when I heard...</td>\n",
       "      <td>2012-11-19</td>\n",
       "      <td>42.050000</td>\n",
       "      <td>-71.880556</td>\n",
       "    </tr>\n",
       "    <tr>\n",
       "      <th>...</th>\n",
       "      <td>...</td>\n",
       "      <td>...</td>\n",
       "      <td>...</td>\n",
       "      <td>...</td>\n",
       "      <td>...</td>\n",
       "      <td>...</td>\n",
       "      <td>...</td>\n",
       "      <td>...</td>\n",
       "      <td>...</td>\n",
       "      <td>...</td>\n",
       "      <td>...</td>\n",
       "    </tr>\n",
       "    <tr>\n",
       "      <th>75956</th>\n",
       "      <td>2011-09-19 21:55:00</td>\n",
       "      <td>cleveland</td>\n",
       "      <td>oh</td>\n",
       "      <td>us</td>\n",
       "      <td>triangle</td>\n",
       "      <td>5.0</td>\n",
       "      <td>5 seconds</td>\n",
       "      <td>I was driving down a Cleveland street approach...</td>\n",
       "      <td>2011-10-10</td>\n",
       "      <td>41.499444</td>\n",
       "      <td>-81.695556</td>\n",
       "    </tr>\n",
       "    <tr>\n",
       "      <th>34640</th>\n",
       "      <td>2003-03-04 07:34:00</td>\n",
       "      <td>westlake</td>\n",
       "      <td>la</td>\n",
       "      <td>us</td>\n",
       "      <td>triangle</td>\n",
       "      <td>10.0</td>\n",
       "      <td>10 seconds</td>\n",
       "      <td>Me and a co worker observed three craft flying...</td>\n",
       "      <td>2003-03-21</td>\n",
       "      <td>30.241944</td>\n",
       "      <td>-93.250556</td>\n",
       "    </tr>\n",
       "    <tr>\n",
       "      <th>33501</th>\n",
       "      <td>2010-03-25 15:00:00</td>\n",
       "      <td>sachse</td>\n",
       "      <td>tx</td>\n",
       "      <td>us</td>\n",
       "      <td>sphere</td>\n",
       "      <td>45.0</td>\n",
       "      <td>45 seconds</td>\n",
       "      <td>GIANT ORB AT AFTERNOON TIME...NO MISTAKE IN ID...</td>\n",
       "      <td>2013-09-30</td>\n",
       "      <td>32.976111</td>\n",
       "      <td>-96.595000</td>\n",
       "    </tr>\n",
       "    <tr>\n",
       "      <th>46583</th>\n",
       "      <td>2005-06-10 14:00:00</td>\n",
       "      <td>freeport</td>\n",
       "      <td>ny</td>\n",
       "      <td>us</td>\n",
       "      <td>unknown</td>\n",
       "      <td>30.0</td>\n",
       "      <td>30 seconds</td>\n",
       "      <td>Strange sight on Long Island...daytime</td>\n",
       "      <td>2005-06-20</td>\n",
       "      <td>40.657500</td>\n",
       "      <td>-73.583611</td>\n",
       "    </tr>\n",
       "    <tr>\n",
       "      <th>39312</th>\n",
       "      <td>2000-04-27 23:38:00</td>\n",
       "      <td>plano</td>\n",
       "      <td>tx</td>\n",
       "      <td>us</td>\n",
       "      <td>triangle</td>\n",
       "      <td>3.0</td>\n",
       "      <td>3 seconds</td>\n",
       "      <td>I saw a craft moving at an incredible speed&amp;#4...</td>\n",
       "      <td>2000-05-03</td>\n",
       "      <td>33.019722</td>\n",
       "      <td>-96.698611</td>\n",
       "    </tr>\n",
       "  </tbody>\n",
       "</table>\n",
       "<p>1000 rows × 11 columns</p>\n",
       "</div>"
      ],
      "text/plain": [
       "                     date            city state country     shape  \\\n",
       "50014 2012-06-18 20:30:00  carr (west of)    co      us  changing   \n",
       "52171 2012-06-27 18:00:00     san leandro    ca      us      disk   \n",
       "46137 2013-05-07 21:24:00     villa ridge    mo      us    circle   \n",
       "67454 2006-08-18 03:00:00     south elgin    il      us  changing   \n",
       "9008  2012-11-13 19:36:00         webster    ma      us  fireball   \n",
       "...                   ...             ...   ...     ...       ...   \n",
       "75956 2011-09-19 21:55:00       cleveland    oh      us  triangle   \n",
       "34640 2003-03-04 07:34:00        westlake    la      us  triangle   \n",
       "33501 2010-03-25 15:00:00          sachse    tx      us    sphere   \n",
       "46583 2005-06-10 14:00:00        freeport    ny      us   unknown   \n",
       "39312 2000-04-27 23:38:00           plano    tx      us  triangle   \n",
       "\n",
       "       duration_seconds       duration  \\\n",
       "50014             600.0  ten minutes +   \n",
       "52171             900.0     15 minutes   \n",
       "46137             120.0      2 minutes   \n",
       "67454            1200.0   15-20minutes   \n",
       "9008                5.0      5 seconds   \n",
       "...                 ...            ...   \n",
       "75956               5.0      5 seconds   \n",
       "34640              10.0     10 seconds   \n",
       "33501              45.0     45 seconds   \n",
       "46583              30.0     30 seconds   \n",
       "39312               3.0      3 seconds   \n",
       "\n",
       "                                                 comment report_date  \\\n",
       "50014            Bright light over mountains of Colorado  2012-06-20   \n",
       "52171  Two flat disk shaped long objects hovering in sky  2012-10-30   \n",
       "46137                                   Fireball in sky.  2013-05-15   \n",
       "67454  3 black craft&#44changed shape &amp; became me...  2007-02-24   \n",
       "9008   I was sitting in my computer room when I heard...  2012-11-19   \n",
       "...                                                  ...         ...   \n",
       "75956  I was driving down a Cleveland street approach...  2011-10-10   \n",
       "34640  Me and a co worker observed three craft flying...  2003-03-21   \n",
       "33501  GIANT ORB AT AFTERNOON TIME...NO MISTAKE IN ID...  2013-09-30   \n",
       "46583             Strange sight on Long Island...daytime  2005-06-20   \n",
       "39312  I saw a craft moving at an incredible speed&#4...  2000-05-03   \n",
       "\n",
       "        latitude   longitude  \n",
       "50014  40.896111 -104.874444  \n",
       "52171  37.725000 -122.155000  \n",
       "46137  38.472500  -90.886667  \n",
       "67454  41.994167  -88.292222  \n",
       "9008   42.050000  -71.880556  \n",
       "...          ...         ...  \n",
       "75956  41.499444  -81.695556  \n",
       "34640  30.241944  -93.250556  \n",
       "33501  32.976111  -96.595000  \n",
       "46583  40.657500  -73.583611  \n",
       "39312  33.019722  -96.698611  \n",
       "\n",
       "[1000 rows x 11 columns]"
      ]
     },
     "execution_count": 34,
     "metadata": {},
     "output_type": "execute_result"
    }
   ],
   "source": [
    "ufosDS"
   ]
  },
  {
   "cell_type": "markdown",
   "metadata": {},
   "source": [
    "Lets make a super quick scatter plot to remind ourselves what this looks like:"
   ]
  },
  {
   "cell_type": "code",
   "execution_count": 35,
   "metadata": {},
   "outputs": [
    {
     "data": {
      "application/vnd.jupyter.widget-view+json": {
       "model_id": "75232950f465404f934e30ae831cacbe",
       "version_major": 2,
       "version_minor": 0
      },
      "text/plain": [
       "Figure(axes=[Axis(label='Longitude', scale=LinearScale()), Axis(label='Latitude', orientation='vertical', scal…"
      ]
     },
     "metadata": {},
     "output_type": "display_data"
    }
   ],
   "source": [
    "# Set up x/y scales\n",
    "x_sc = bqplot.LinearScale()\n",
    "y_sc = bqplot.LinearScale()\n",
    "\n",
    "# Set p axis\n",
    "x_ax = bqplot.Axis(scale = x_sc, label='Longitude')\n",
    "y_ax = bqplot.Axis(scale = y_sc, \n",
    "                   orientation = 'vertical', \n",
    "                   label='Latitude')\n",
    "\n",
    "#(1) set up marks\n",
    "scatters = bqplot.Scatter(x = ufosDS['longitude'],\n",
    "                          y = ufosDS['latitude'],\n",
    "                          scales = {'x': x_sc, 'y': y_sc})\n",
    "\n",
    "fig = bqplot.Figure(marks = [scatters], axes = [x_ax, y_ax]) \n",
    "fig"
   ]
  },
  {
   "cell_type": "markdown",
   "metadata": {},
   "source": [
    "Note I haven't added in colors or interactions.  Let's at least add some colors in:"
   ]
  },
  {
   "cell_type": "code",
   "execution_count": 36,
   "metadata": {},
   "outputs": [
    {
     "data": {
      "application/vnd.jupyter.widget-view+json": {
       "model_id": "babc7b9af2f24b6e9ae0281e9b9e58df",
       "version_major": 2,
       "version_minor": 0
      },
      "text/plain": [
       "Figure(axes=[Axis(label='Longitude', scale=LinearScale()), Axis(label='Latitude', orientation='vertical', scal…"
      ]
     },
     "metadata": {},
     "output_type": "display_data"
    }
   ],
   "source": [
    "# lets make a super quick scatter plot to remind ourselves what this looks like:\n",
    "x_sc = bqplot.LinearScale()\n",
    "y_sc = bqplot.LinearScale()\n",
    "\n",
    "x_ax = bqplot.Axis(scale = x_sc, label='Longitude')\n",
    "y_ax = bqplot.Axis(scale = y_sc, \n",
    "                   orientation = 'vertical', \n",
    "                   label='Latitude')\n",
    "\n",
    "\n",
    "# Let's add in a color scale\n",
    "c_sc = bqplot.ColorScale() # color scale\n",
    "# color axes:\n",
    "c_ax = bqplot.ColorAxis(scale = c_sc, label='Duration in sec', \n",
    "                        orientation = 'vertical', side = 'right')\n",
    "\n",
    "# now replot:\n",
    "scatters = bqplot.Scatter(x = ufosDS['longitude'],\n",
    "                          y = ufosDS['latitude'],\n",
    "                          color=ufosDS['duration_seconds'],\n",
    "                          scales = {'x': x_sc, 'y': y_sc, 'color':c_sc})\n",
    "\n",
    "\n",
    "fig = bqplot.Figure(marks = [scatters], axes = [x_ax, y_ax, c_ax]) \n",
    "fig"
   ]
  },
  {
   "cell_type": "markdown",
   "metadata": {},
   "source": [
    "You'll note that this is a pretty muted color map.  This is because we are coloring by duration, and if you recall there is a *huge* range in durations:"
   ]
  },
  {
   "cell_type": "code",
   "execution_count": 37,
   "metadata": {},
   "outputs": [
    {
     "data": {
      "text/plain": [
       "(1.0, 2631600.0)"
      ]
     },
     "execution_count": 37,
     "metadata": {},
     "output_type": "execute_result"
    }
   ],
   "source": [
    "ufosDS['duration_seconds'].min(), ufosDS['duration_seconds'].max()"
   ]
  },
  {
   "cell_type": "markdown",
   "metadata": {},
   "source": [
    "To account for this, let's take the log-base-10 of the duration when we plot.  We should make sure we specify this on our color axis (color bar) label:"
   ]
  },
  {
   "cell_type": "code",
   "execution_count": 38,
   "metadata": {},
   "outputs": [
    {
     "data": {
      "application/vnd.jupyter.widget-view+json": {
       "model_id": "c28642c1e9e94473a2b1f6510e5ab86a",
       "version_major": 2,
       "version_minor": 0
      },
      "text/plain": [
       "Figure(axes=[Axis(label='Longitude', scale=LinearScale()), Axis(label='Latitude', orientation='vertical', scal…"
      ]
     },
     "metadata": {},
     "output_type": "display_data"
    }
   ],
   "source": [
    "# lets make a super quick scatter plot to remind ourselves what this looks like:\n",
    "x_sc = bqplot.LinearScale()\n",
    "y_sc = bqplot.LinearScale()\n",
    "\n",
    "x_ax = bqplot.Axis(scale = x_sc, label='Longitude')\n",
    "y_ax = bqplot.Axis(scale = y_sc, \n",
    "                   orientation = 'vertical', \n",
    "                   label='Latitude')\n",
    "\n",
    "\n",
    "# (2) recall we can also color by things like duration\n",
    "c_sc = bqplot.ColorScale() # color scale\n",
    "\n",
    "# updated color axis with log scaling\n",
    "c_ax = bqplot.ColorAxis(scale = c_sc, label='log(sec)', \n",
    "                        orientation = 'vertical', side = 'right')\n",
    "scatters = bqplot.Scatter(x = ufosDS['longitude'],\n",
    "                          y = ufosDS['latitude'],\n",
    "                          color=np.log10(ufosDS['duration_seconds']), # here we take log, base 10\n",
    "                          scales = {'x': x_sc, 'y': y_sc, 'color':c_sc})\n",
    "\n",
    "fig = bqplot.Figure(marks = [scatters], axes = [x_ax, y_ax, c_ax]) \n",
    "fig"
   ]
  },
  {
   "cell_type": "markdown",
   "metadata": {},
   "source": [
    "## Heatmap Dashboard with our UFO dataset.\n",
    "\n",
    "Now we are going to use our heatmap idea to plot this data again. Note this will shmear out a lot of the nice map stuff we see above since we will be binning in lat/long. Don't worry!  We'll talk about making maps in the 2nd part of class. \n",
    "\n",
    "What should we color by?  Lets do by duration again.\n",
    "\n",
    "To get this to work with our heatmap, we're going to have to do some rebinning. Right now, our data is all in 1 long list we need to rebin things in a 2d histogram where the x axis is longitude & y is latitude.\n",
    "\n",
    "There are a few ways to do this, we'll use numpy to do our binning and use this as input into `bqplot.GridHeatMap`.  Before that, we can get a sense of what we think things will look like using matplotlib's `hist2d`.  We'll use the siting duration as *weights* into our histogram - so bins that have several long sitings will be counted as significant as well as bins that have multiple short sitings.\n",
    "\n",
    "We'll skip down to the code to do the histogramming, but here is an aside with more details if you'd like to look at it:\n",
    "\n",
    "### ASIDE"
   ]
  },
  {
   "cell_type": "code",
   "execution_count": 39,
   "metadata": {},
   "outputs": [
    {
     "data": {
      "image/png": "[encoded data removed]",
      "text/plain": [
       "<Figure size 432x288 with 2 Axes>"
      ]
     },
     "metadata": {
      "needs_background": "light"
     },
     "output_type": "display_data"
    }
   ],
   "source": [
    "plt.hist2d(ufos['longitude'], ufos['latitude'], \n",
    "           weights=ufos['duration_seconds'], bins=20, cmap='RdPu')\n",
    "cb = plt.colorbar()\n",
    "cb.set_label('counts in bin')"
   ]
  },
  {
   "cell_type": "markdown",
   "metadata": {},
   "source": [
    "Note that here I am using the whole UFO dataset again, since we are rebinning anyway.  Feel free to use `ufoDS` if it works better on your computer."
   ]
  },
  {
   "cell_type": "markdown",
   "metadata": {},
   "source": [
    "Again, we know that the duration should be log scaled, and we can do that with the `SymLogNorm` color scale in matplotlib if we want:"
   ]
  },
  {
   "cell_type": "code",
   "execution_count": 40,
   "metadata": {},
   "outputs": [
    {
     "name": "stderr",
     "output_type": "stream",
     "text": [
      "/Users/jillnaiman/anaconda3/envs/DataViz/lib/python3.7/site-packages/ipykernel_launcher.py:3: MatplotlibDeprecationWarning: default base may change from np.e to 10.  To suppress this warning specify the base keyword argument.\n",
      "  This is separate from the ipykernel package so we can avoid doing imports until\n"
     ]
    },
    {
     "data": {
      "image/png": "[encoded data removed]",
      "text/plain": [
       "<Figure size 432x288 with 2 Axes>"
      ]
     },
     "metadata": {
      "needs_background": "light"
     },
     "output_type": "display_data"
    }
   ],
   "source": [
    "import matplotlib.colors as mpl_colors\n",
    "plt.hist2d(ufos['longitude'], ufos['latitude'], weights=ufos['duration_seconds'], \n",
    "           bins=20, cmap='RdPu', norm = mpl_colors.SymLogNorm(10)) # ignorning the warning (10 -> e)\n",
    "cb = plt.colorbar()\n",
    "cb.set_label('counts in bin')"
   ]
  },
  {
   "cell_type": "markdown",
   "metadata": {},
   "source": [
    "Now this is starting to look a bit more like our scatter plot, but we can more easily make out areas of long duration (like in the US).  Ok, we want to incorporate interactivity, so let's use the `bqplot` engine + our ideas of the heatmap marks that we used last time to create our own clickable map.\n",
    "\n",
    "Let's use `numpy`'s 2d histogram function to do that for us:"
   ]
  },
  {
   "cell_type": "code",
   "execution_count": 41,
   "metadata": {
    "scrolled": true
   },
   "outputs": [
    {
     "data": {
      "text/plain": [
       "array([[0.00000000e+00, 0.00000000e+00, 0.00000000e+00, 0.00000000e+00,\n",
       "        0.00000000e+00, 0.00000000e+00, 0.00000000e+00, 0.00000000e+00,\n",
       "        1.80000000e+03, 0.00000000e+00, 0.00000000e+00, 0.00000000e+00,\n",
       "        0.00000000e+00, 4.70640000e+04, 0.00000000e+00, 0.00000000e+00,\n",
       "        0.00000000e+00, 1.20300000e+03, 7.37100000e+03, 3.70000000e+03],\n",
       "       [0.00000000e+00, 0.00000000e+00, 0.00000000e+00, 0.00000000e+00,\n",
       "        0.00000000e+00, 0.00000000e+00, 0.00000000e+00, 0.00000000e+00,\n",
       "        1.50000000e+01, 0.00000000e+00, 0.00000000e+00, 0.00000000e+00,\n",
       "        0.00000000e+00, 6.75425400e+06, 0.00000000e+00, 0.00000000e+00,\n",
       "        0.00000000e+00, 0.00000000e+00, 9.63978000e+05, 5.10500000e+03],\n",
       "       [2.00000000e+00, 0.00000000e+00, 0.00000000e+00, 0.00000000e+00,\n",
       "        0.00000000e+00, 0.00000000e+00, 0.00000000e+00, 0.00000000e+00,\n",
       "        0.00000000e+00, 8.78160000e+04, 0.00000000e+00, 0.00000000e+00,\n",
       "        0.00000000e+00, 0.00000000e+00, 0.00000000e+00, 4.74493000e+05,\n",
       "        1.28508831e+06, 4.91300000e+05, 9.89250000e+04, 2.26200000e+04],\n",
       "       [0.00000000e+00, 0.00000000e+00, 0.00000000e+00, 0.00000000e+00,\n",
       "        0.00000000e+00, 0.00000000e+00, 0.00000000e+00, 1.00000000e+00,\n",
       "        0.00000000e+00, 0.00000000e+00, 0.00000000e+00, 0.00000000e+00,\n",
       "        0.00000000e+00, 6.35797000e+05, 2.87622208e+07, 3.54044364e+07,\n",
       "        6.28236612e+07, 1.00635500e+06, 5.77100000e+03, 0.00000000e+00],\n",
       "       [0.00000000e+00, 0.00000000e+00, 0.00000000e+00, 0.00000000e+00,\n",
       "        0.00000000e+00, 0.00000000e+00, 0.00000000e+00, 0.00000000e+00,\n",
       "        0.00000000e+00, 0.00000000e+00, 3.00000000e+01, 0.00000000e+00,\n",
       "        3.60830000e+04, 3.59955000e+05, 1.88657418e+07, 9.50278891e+07,\n",
       "        6.11220969e+06, 7.07408000e+05, 6.45000000e+02, 0.00000000e+00],\n",
       "       [0.00000000e+00, 0.00000000e+00, 0.00000000e+00, 0.00000000e+00,\n",
       "        0.00000000e+00, 6.00000000e+01, 1.77155100e+04, 0.00000000e+00,\n",
       "        4.22200000e+03, 6.31242000e+06, 4.30800000e+03, 3.72908800e+04,\n",
       "        1.21576500e+06, 5.15448200e+05, 6.78530713e+07, 7.27040887e+07,\n",
       "        1.53348520e+08, 2.02530000e+04, 3.00000000e+01, 4.50000000e+01],\n",
       "       [0.00000000e+00, 0.00000000e+00, 0.00000000e+00, 0.00000000e+00,\n",
       "        0.00000000e+00, 3.70000000e+02, 9.12210000e+04, 1.26450000e+04,\n",
       "        3.18560000e+04, 0.00000000e+00, 2.42000000e+03, 7.77000000e+03,\n",
       "        5.10860000e+04, 6.33667000e+05, 7.40500000e+03, 1.88000000e+03,\n",
       "        8.92232000e+05, 3.73700000e+03, 0.00000000e+00, 0.00000000e+00],\n",
       "       [0.00000000e+00, 0.00000000e+00, 0.00000000e+00, 0.00000000e+00,\n",
       "        0.00000000e+00, 0.00000000e+00, 1.05000000e+03, 7.48120000e+04,\n",
       "        4.16230000e+04, 1.98900000e+04, 4.20000000e+02, 0.00000000e+00,\n",
       "        0.00000000e+00, 0.00000000e+00, 0.00000000e+00, 1.83000000e+03,\n",
       "        0.00000000e+00, 0.00000000e+00, 3.00000000e+02, 0.00000000e+00],\n",
       "       [0.00000000e+00, 0.00000000e+00, 0.00000000e+00, 0.00000000e+00,\n",
       "        0.00000000e+00, 0.00000000e+00, 0.00000000e+00, 0.00000000e+00,\n",
       "        2.78630000e+04, 0.00000000e+00, 0.00000000e+00, 0.00000000e+00,\n",
       "        3.96000000e+03, 0.00000000e+00, 1.20000000e+02, 9.30000000e+01,\n",
       "        0.00000000e+00, 0.00000000e+00, 7.89300000e+03, 6.00000000e+03],\n",
       "       [0.00000000e+00, 0.00000000e+00, 0.00000000e+00, 0.00000000e+00,\n",
       "        0.00000000e+00, 0.00000000e+00, 0.00000000e+00, 0.00000000e+00,\n",
       "        9.00000000e+02, 0.00000000e+00, 0.00000000e+00, 5.00000000e+00,\n",
       "        0.00000000e+00, 0.00000000e+00, 1.02010000e+04, 5.61210000e+04,\n",
       "        5.47800000e+03, 1.26257935e+08, 3.18400000e+04, 0.00000000e+00],\n",
       "       [0.00000000e+00, 0.00000000e+00, 0.00000000e+00, 0.00000000e+00,\n",
       "        0.00000000e+00, 0.00000000e+00, 1.09010000e+04, 1.56000000e+03,\n",
       "        0.00000000e+00, 0.00000000e+00, 6.00000000e+01, 6.27000000e+03,\n",
       "        0.00000000e+00, 0.00000000e+00, 1.80000000e+02, 7.47150000e+04,\n",
       "        9.65608500e+06, 2.93482580e+06, 4.12235000e+04, 2.16800000e+03],\n",
       "       [0.00000000e+00, 0.00000000e+00, 0.00000000e+00, 0.00000000e+00,\n",
       "        0.00000000e+00, 0.00000000e+00, 4.79700000e+04, 2.72000000e+04,\n",
       "        7.28000000e+03, 0.00000000e+00, 4.20000000e+02, 0.00000000e+00,\n",
       "        0.00000000e+00, 3.72000000e+03, 7.04730000e+04, 2.69006700e+06,\n",
       "        5.97460000e+04, 2.63280000e+04, 7.25901000e+03, 4.80000000e+02],\n",
       "       [0.00000000e+00, 0.00000000e+00, 0.00000000e+00, 0.00000000e+00,\n",
       "        0.00000000e+00, 0.00000000e+00, 0.00000000e+00, 0.00000000e+00,\n",
       "        0.00000000e+00, 4.00000000e+00, 1.26693000e+04, 2.74500000e+03,\n",
       "        1.20000000e+02, 1.49500000e+03, 6.19925000e+05, 6.34558600e+06,\n",
       "        3.35000000e+02, 4.65000000e+02, 0.00000000e+00, 0.00000000e+00],\n",
       "       [0.00000000e+00, 0.00000000e+00, 0.00000000e+00, 0.00000000e+00,\n",
       "        0.00000000e+00, 0.00000000e+00, 0.00000000e+00, 0.00000000e+00,\n",
       "        1.11500000e+03, 0.00000000e+00, 0.00000000e+00, 0.00000000e+00,\n",
       "        0.00000000e+00, 9.06200000e+03, 6.12000000e+03, 1.23500000e+04,\n",
       "        1.83300000e+03, 1.20000000e+03, 0.00000000e+00, 0.00000000e+00],\n",
       "       [0.00000000e+00, 0.00000000e+00, 0.00000000e+00, 0.00000000e+00,\n",
       "        0.00000000e+00, 0.00000000e+00, 6.06500000e+03, 0.00000000e+00,\n",
       "        0.00000000e+00, 0.00000000e+00, 9.00000000e+01, 2.46850000e+04,\n",
       "        6.24540000e+04, 4.09906000e+05, 2.72113200e+06, 1.80000000e+02,\n",
       "        1.05000000e+04, 1.00000000e+01, 0.00000000e+00, 0.00000000e+00],\n",
       "       [0.00000000e+00, 0.00000000e+00, 0.00000000e+00, 0.00000000e+00,\n",
       "        0.00000000e+00, 0.00000000e+00, 0.00000000e+00, 0.00000000e+00,\n",
       "        0.00000000e+00, 8.55000000e+02, 5.68070000e+04, 3.29310000e+04,\n",
       "        3.43550000e+04, 7.74800000e+03, 2.46500000e+03, 1.20000000e+03,\n",
       "        1.80000000e+02, 0.00000000e+00, 0.00000000e+00, 0.00000000e+00],\n",
       "       [0.00000000e+00, 0.00000000e+00, 0.00000000e+00, 0.00000000e+00,\n",
       "        0.00000000e+00, 0.00000000e+00, 7.82235000e+04, 1.41000000e+03,\n",
       "        0.00000000e+00, 2.62000000e+02, 1.59050000e+04, 5.27311300e+06,\n",
       "        5.70430000e+04, 1.50990000e+04, 1.42420000e+04, 2.18490000e+04,\n",
       "        2.54000000e+02, 0.00000000e+00, 0.00000000e+00, 0.00000000e+00],\n",
       "       [0.00000000e+00, 0.00000000e+00, 0.00000000e+00, 0.00000000e+00,\n",
       "        0.00000000e+00, 4.02105000e+03, 3.74460000e+04, 1.27389600e+06,\n",
       "        3.00000000e+01, 1.36700000e+03, 0.00000000e+00, 7.32000000e+03,\n",
       "        0.00000000e+00, 4.20000000e+02, 5.29100000e+03, 2.79550000e+04,\n",
       "        1.22000000e+02, 0.00000000e+00, 0.00000000e+00, 0.00000000e+00],\n",
       "       [0.00000000e+00, 0.00000000e+00, 0.00000000e+00, 0.00000000e+00,\n",
       "        0.00000000e+00, 8.65800000e+04, 5.28249450e+05, 3.87328000e+05,\n",
       "        1.93230000e+04, 1.08000000e+04, 3.00000000e+00, 0.00000000e+00,\n",
       "        9.00000000e+02, 0.00000000e+00, 0.00000000e+00, 0.00000000e+00,\n",
       "        0.00000000e+00, 6.00000000e+01, 0.00000000e+00, 0.00000000e+00],\n",
       "       [0.00000000e+00, 0.00000000e+00, 0.00000000e+00, 0.00000000e+00,\n",
       "        7.20010000e+01, 8.43470000e+04, 2.18700000e+04, 0.00000000e+00,\n",
       "        3.61000000e+03, 0.00000000e+00, 0.00000000e+00, 0.00000000e+00,\n",
       "        0.00000000e+00, 0.00000000e+00, 0.00000000e+00, 0.00000000e+00,\n",
       "        0.00000000e+00, 0.00000000e+00, 0.00000000e+00, 0.00000000e+00]])"
      ]
     },
     "execution_count": 41,
     "metadata": {},
     "output_type": "execute_result"
    }
   ],
   "source": [
    "# ***START WITH 10 EACH**\n",
    "nlong = 20 \n",
    "nlat = 20\n",
    "\n",
    "#(1)\n",
    "hist2d, long_edges, lat_edges = np.histogram2d(ufos['longitude'], \n",
    "                                               ufos['latitude'], \n",
    "                                               weights=ufos['duration_seconds'], \n",
    "                                              bins=[nlong,nlat])\n",
    "\n",
    "# this returns the TOTAL duration of ufo events in each bin\n",
    "# Let's take a quick look at this data\n",
    "hist2d"
   ]
  },
  {
   "cell_type": "code",
   "execution_count": 42,
   "metadata": {},
   "outputs": [
    {
     "data": {
      "text/plain": [
       "(153348519.88, 0.0)"
      ]
     },
     "execution_count": 42,
     "metadata": {},
     "output_type": "execute_result"
    }
   ],
   "source": [
    "hist2d.max(), hist2d.min() # a pretty big range!"
   ]
  },
  {
   "cell_type": "markdown",
   "metadata": {},
   "source": [
    "Let's take a quick look at this with `imshow` in `matplotlib`:"
   ]
  },
  {
   "cell_type": "code",
   "execution_count": 43,
   "metadata": {},
   "outputs": [
    {
     "name": "stderr",
     "output_type": "stream",
     "text": [
      "/Users/jillnaiman/anaconda3/envs/DataViz/lib/python3.7/site-packages/ipykernel_launcher.py:1: MatplotlibDeprecationWarning: default base may change from np.e to 10.  To suppress this warning specify the base keyword argument.\n",
      "  \"\"\"Entry point for launching an IPython kernel.\n"
     ]
    },
    {
     "data": {
      "text/plain": [
       "<matplotlib.image.AxesImage at 0x7fed106983d0>"
      ]
     },
     "execution_count": 43,
     "metadata": {},
     "output_type": "execute_result"
    },
    {
     "data": {
      "image/png": "[encoded data removed]",
      "text/plain": [
       "<Figure size 432x288 with 1 Axes>"
      ]
     },
     "metadata": {
      "needs_background": "light"
     },
     "output_type": "display_data"
    }
   ],
   "source": [
    "plt.imshow(hist2d, cmap='RdPu', norm = mpl_colors.SymLogNorm(10))"
   ]
  },
  {
   "cell_type": "markdown",
   "metadata": {},
   "source": [
    "Note that the x/y labels are just the bin indicies.  But even so, we can see that this is rotated to what we want to acutally plot!  \n",
    "\n",
    "Different methods of histogramming will give you different shaped outputs.  Worse still, depending on what viz engine you're using, it expects different orientations of the data going in!  My suggestion is to experiement and make sure you're data is in the correct orientation by plotting it a few times.\n",
    "\n",
    "For `bqplot`, we actually want our orientation to be *upsidedown* which we can get by taking the transpose of `hist2d`:"
   ]
  },
  {
   "cell_type": "code",
   "execution_count": 44,
   "metadata": {},
   "outputs": [
    {
     "name": "stderr",
     "output_type": "stream",
     "text": [
      "/Users/jillnaiman/anaconda3/envs/DataViz/lib/python3.7/site-packages/ipykernel_launcher.py:1: MatplotlibDeprecationWarning: default base may change from np.e to 10.  To suppress this warning specify the base keyword argument.\n",
      "  \"\"\"Entry point for launching an IPython kernel.\n"
     ]
    },
    {
     "data": {
      "text/plain": [
       "<matplotlib.image.AxesImage at 0x7fed51012ed0>"
      ]
     },
     "execution_count": 44,
     "metadata": {},
     "output_type": "execute_result"
    },
    {
     "data": {
      "image/png": "[encoded data removed]",
      "text/plain": [
       "<Figure size 432x288 with 1 Axes>"
      ]
     },
     "metadata": {
      "needs_background": "light"
     },
     "output_type": "display_data"
    }
   ],
   "source": [
    "plt.imshow(hist2d.T, cmap='RdPu', norm = mpl_colors.SymLogNorm(10))"
   ]
  },
  {
   "cell_type": "markdown",
   "metadata": {},
   "source": [
    "Ok, let's make our histogramming more complex.  \n",
    "\n",
    "As an aside: we want to treat the histogram as a probability instead of a total weighted count:"
   ]
  },
  {
   "cell_type": "code",
   "execution_count": 45,
   "metadata": {},
   "outputs": [
    {
     "data": {
      "text/plain": [
       "(0.0015329854771788194, 0.0)"
      ]
     },
     "execution_count": 45,
     "metadata": {},
     "output_type": "execute_result"
    }
   ],
   "source": [
    "hist2d, long_edges, lat_edges = np.histogram2d(ufos['longitude'], \n",
    "                                               ufos['latitude'], \n",
    "                                               weights=ufos['duration_seconds'],\n",
    "                                              density=True, \n",
    "                                              bins = [nlong,nlat])\n",
    "hist2d.max(), hist2d.min()"
   ]
  },
  {
   "cell_type": "markdown",
   "metadata": {},
   "source": [
    "What are the shapes of the different outputs here?"
   ]
  },
  {
   "cell_type": "code",
   "execution_count": 46,
   "metadata": {},
   "outputs": [
    {
     "data": {
      "text/plain": [
       "((20, 20), (21,), (21,))"
      ]
     },
     "execution_count": 46,
     "metadata": {},
     "output_type": "execute_result"
    }
   ],
   "source": [
    "hist2d.shape, long_edges.shape, lat_edges.shape"
   ]
  },
  {
   "cell_type": "markdown",
   "metadata": {},
   "source": [
    "Note that the long/lat edges have 1 more count than the histogram size.  This is because they are indeed edges.  To get bin centers, which is what we want to do for plotting we can do:"
   ]
  },
  {
   "cell_type": "code",
   "execution_count": 47,
   "metadata": {},
   "outputs": [
    {
     "data": {
      "text/plain": [
       "array([-167.78055671, -150.02555893, -132.27056115, -114.51556337,\n",
       "        -96.76056559,  -79.00556781,  -61.25057003,  -43.49557225,\n",
       "        -25.74057447,   -7.98557669,    9.76942109,   27.52441887,\n",
       "         45.27941665,   63.03441443,   80.78941221,   98.54440999,\n",
       "        116.29940777,  134.05440555,  151.80940333,  169.56440111])"
      ]
     },
     "execution_count": 47,
     "metadata": {},
     "output_type": "execute_result"
    }
   ],
   "source": [
    "long_centers = (long_edges[:-1] + long_edges[1:]) / 2\n",
    "long_centers"
   ]
  },
  {
   "cell_type": "code",
   "execution_count": 48,
   "metadata": {},
   "outputs": [
    {
     "data": {
      "text/plain": [
       "array([-78.9736832, -71.1955456, -63.417408 , -55.6392704, -47.8611328,\n",
       "       -40.0829952, -32.3048576, -24.52672  , -16.7485824,  -8.9704448,\n",
       "        -1.1923072,   6.5858304,  14.363968 ,  22.1421056,  29.9202432,\n",
       "        37.6983808,  45.4765184,  53.254656 ,  61.0327936,  68.8109312])"
      ]
     },
     "execution_count": 48,
     "metadata": {},
     "output_type": "execute_result"
    }
   ],
   "source": [
    "lat_centers = (lat_edges[:-1] + lat_edges[1:]) / 2\n",
    "lat_centers"
   ]
  },
  {
   "cell_type": "markdown",
   "metadata": {},
   "source": [
    "We might want to control where our bins are, we can do this by specifying bin edges ourselves:"
   ]
  },
  {
   "cell_type": "code",
   "execution_count": 49,
   "metadata": {},
   "outputs": [
    {
     "name": "stdout",
     "output_type": "stream",
     "text": [
      "[-150. -135. -120. -105.  -90.  -75.  -60.  -45.  -30.  -15.    0.   15.\n",
      "   30.   45.   60.   75.   90.  105.  120.  135.  150.] (21,)\n",
      "[-40.  -34.5 -29.  -23.5 -18.  -12.5  -7.   -1.5   4.    9.5  15.   20.5\n",
      "  26.   31.5  37.   42.5  48.   53.5  59.   64.5  70. ] (21,)\n"
     ]
    }
   ],
   "source": [
    "long_bins = np.linspace(-150, 150, nlong+1)\n",
    "lat_bins = np.linspace(-40, 70, nlat+1)\n",
    "print(long_bins, long_bins.shape)\n",
    "print(lat_bins, lat_bins.shape)"
   ]
  },
  {
   "cell_type": "markdown",
   "metadata": {},
   "source": [
    "Let's take these bins as our inputs and regenerate our histogram:"
   ]
  },
  {
   "cell_type": "code",
   "execution_count": 50,
   "metadata": {},
   "outputs": [],
   "source": [
    "hist2d, long_edges, lat_edges = np.histogram2d(ufos['longitude'], \n",
    "                                               ufos['latitude'], \n",
    "                                               weights=ufos['duration_seconds'],\n",
    "                                              bins = [long_bins,lat_bins])"
   ]
  },
  {
   "cell_type": "markdown",
   "metadata": {},
   "source": [
    "And grab our centers of lat and long for plotting as well (note: if you're like 30% with inline programming, that is totally fine!):"
   ]
  },
  {
   "cell_type": "code",
   "execution_count": 51,
   "metadata": {},
   "outputs": [],
   "source": [
    "long_centers = (long_edges[:-1] + long_edges[1:]) / 2\n",
    "lat_centers = (lat_edges[:-1] + lat_edges[1:]) / 2"
   ]
  },
  {
   "cell_type": "markdown",
   "metadata": {},
   "source": [
    "We know that we want to input this into `bqplot`'s grid heatmap, so we need to take the transpose:"
   ]
  },
  {
   "cell_type": "code",
   "execution_count": 52,
   "metadata": {},
   "outputs": [],
   "source": [
    "hist2d = hist2d.T"
   ]
  },
  {
   "cell_type": "markdown",
   "metadata": {},
   "source": [
    "What is the range of values in our plot?"
   ]
  },
  {
   "cell_type": "code",
   "execution_count": 53,
   "metadata": {},
   "outputs": [
    {
     "data": {
      "text/plain": [
       "(0.0, 125056847.51, 1.0)"
      ]
     },
     "execution_count": 53,
     "metadata": {},
     "output_type": "execute_result"
    }
   ],
   "source": [
    "hist2d.min(), hist2d.max(), hist2d[hist2d>0].min() # this is the *total duration* of sitings in a bin"
   ]
  },
  {
   "cell_type": "markdown",
   "metadata": {},
   "source": [
    "We still have a big range in count values because we weighted by the non-log duration above.  So we'll instead take the log of our output histogram.\n",
    "\n",
    "For aesthetic value, we want to have areas where there are no counts (like the ocean) show up as zero.  We can do that by a little trick -- setting the 0 values to `NaN`.  We will then take the log for color scaling:"
   ]
  },
  {
   "cell_type": "code",
   "execution_count": 54,
   "metadata": {},
   "outputs": [
    {
     "name": "stderr",
     "output_type": "stream",
     "text": [
      "/Users/jillnaiman/anaconda3/envs/DataViz/lib/python3.7/site-packages/ipykernel_launcher.py:1: RuntimeWarning: divide by zero encountered in log10\n",
      "  \"\"\"Entry point for launching an IPython kernel.\n"
     ]
    },
    {
     "data": {
      "text/plain": [
       "-inf"
      ]
     },
     "execution_count": 54,
     "metadata": {},
     "output_type": "execute_result"
    }
   ],
   "source": [
    "np.log10(hist2d).min()"
   ]
  },
  {
   "cell_type": "markdown",
   "metadata": {},
   "source": [
    "The above gives us an error which can mess up our color maps.  So we'll be tricky:"
   ]
  },
  {
   "cell_type": "code",
   "execution_count": 55,
   "metadata": {},
   "outputs": [],
   "source": [
    "hist2d[hist2d <= 0] = np.nan # set zeros to NaNs\n",
    "# then take log\n",
    "hist2d = np.log10(hist2d)\n",
    "#hist2d[0:10]"
   ]
  },
  {
   "cell_type": "markdown",
   "metadata": {},
   "source": [
    "### END ASIDE\n",
    "\n",
    "In the interest of time, we won't be doing the binning in class, but here is a function that will do this for us:"
   ]
  },
  {
   "cell_type": "code",
   "execution_count": 56,
   "metadata": {},
   "outputs": [],
   "source": [
    "def generate_histogram_from_lat_long(ufos, nlong=20, nlat=20, longmin=-150, longmax=150,\n",
    "                                     latmin=-40, latmax=70,\n",
    "                                     takeLog=True):\n",
    "    long_bins = np.linspace(longmin, longmax, nlong+1)\n",
    "    lat_bins = np.linspace(latmin, latmax, nlat+1)\n",
    "    hist2d, long_edges, lat_edges = np.histogram2d(ufos['longitude'], \n",
    "                                                   ufos['latitude'], \n",
    "                                                   weights=ufos['duration_seconds'],\n",
    "                                                  bins = [long_bins,lat_bins])\n",
    "    hist2d = hist2d.T\n",
    "    if takeLog:\n",
    "        hist2d[hist2d <= 0] = np.nan # set zeros to NaNs\n",
    "        # then take log\n",
    "        hist2d = np.log10(hist2d)\n",
    "    long_centers = (long_edges[:-1] + long_edges[1:]) / 2\n",
    "    lat_centers = (lat_edges[:-1] + lat_edges[1:]) / 2\n",
    "    return hist2d, long_centers, lat_centers, long_edges, lat_edges"
   ]
  },
  {
   "cell_type": "markdown",
   "metadata": {},
   "source": [
    "Now we'll just use this!"
   ]
  },
  {
   "cell_type": "code",
   "execution_count": 57,
   "metadata": {},
   "outputs": [],
   "source": [
    "hist2d, long_centers, lat_centers, long_edges, lat_edges = generate_histogram_from_lat_long(ufos)"
   ]
  },
  {
   "cell_type": "markdown",
   "metadata": {},
   "source": [
    "Now that we have all that fancy binning out of the way, lets proceed as normal:"
   ]
  },
  {
   "cell_type": "code",
   "execution_count": 58,
   "metadata": {},
   "outputs": [
    {
     "data": {
      "application/vnd.jupyter.widget-view+json": {
       "model_id": "47f81ba344034718a2190b5cce81c0ae",
       "version_major": 2,
       "version_minor": 0
      },
      "text/plain": [
       "Figure(axes=[ColorAxis(orientation='vertical', scale=ColorScale(max=8.09710747658943, min=0.0, scheme='RdPu'),…"
      ]
     },
     "metadata": {},
     "output_type": "display_data"
    }
   ],
   "source": [
    "# (1) add scales - colors, x & y\n",
    "col_sc = bqplot.ColorScale(scheme=\"RdPu\", \n",
    "                           min=np.nanmin(hist2d), \n",
    "                           max=np.nanmax(hist2d))\n",
    "x_sc = bqplot.LinearScale()\n",
    "y_sc = bqplot.LinearScale()\n",
    "\n",
    "# (2) create axis - for colors, x & y\n",
    "c_ax = bqplot.ColorAxis(scale = col_sc, \n",
    "                        orientation = 'vertical', \n",
    "                        side = 'right')\n",
    "\n",
    "x_ax = bqplot.Axis(scale = x_sc, label='Longitude')\n",
    "y_ax = bqplot.Axis(scale = y_sc, \n",
    "                   orientation = 'vertical', \n",
    "                   label = 'Latitude')\n",
    "\n",
    "# (3) Marks\n",
    "heat_map = bqplot.GridHeatMap(color = hist2d,\n",
    "                              row = lat_centers, \n",
    "                              column = long_centers,\n",
    "                              scales = {'color': col_sc,\n",
    "                                        'row': y_sc,\n",
    "                                        'column': x_sc},\n",
    "                              interactions = {'click': 'select'},\n",
    "                              anchor_style = {'fill':'blue'}, \n",
    "                              selected_style = {'opacity': 1.0},\n",
    "                              unselected_style = {'opacity': 1.0})\n",
    "\n",
    "# (4) interactivity - none yet\n",
    "\n",
    "# (5) put it all together in a figure\n",
    "fig = bqplot.Figure(marks = [heat_map], axes = [c_ax, y_ax, x_ax])\n",
    "fig"
   ]
  },
  {
   "cell_type": "markdown",
   "metadata": {},
   "source": [
    "Let's start building up our dashboard like before.  One easy thing we can do is add a label:"
   ]
  },
  {
   "cell_type": "code",
   "execution_count": 59,
   "metadata": {},
   "outputs": [
    {
     "data": {
      "application/vnd.jupyter.widget-view+json": {
       "model_id": "5e6b97c7d5c64418b1ae6ca3e6bacff0",
       "version_major": 2,
       "version_minor": 0
      },
      "text/plain": [
       "VBox(children=(Label(value=''), Figure(axes=[ColorAxis(orientation='vertical', scale=ColorScale(max=8.09710747…"
      ]
     },
     "metadata": {},
     "output_type": "display_data"
    }
   ],
   "source": [
    "# (1) add scales - colors, x & y\n",
    "col_sc = bqplot.ColorScale(scheme=\"RdPu\", \n",
    "                           min=np.nanmin(hist2d), \n",
    "                           max=np.nanmax(hist2d))\n",
    "x_sc = bqplot.LinearScale()\n",
    "y_sc = bqplot.LinearScale()\n",
    "\n",
    "# (2) create axis - for colors, x & y\n",
    "c_ax = bqplot.ColorAxis(scale = col_sc, \n",
    "                        orientation = 'vertical', \n",
    "                        side = 'right')\n",
    "\n",
    "x_ax = bqplot.Axis(scale = x_sc, label='Longitude')\n",
    "y_ax = bqplot.Axis(scale = y_sc, \n",
    "                   orientation = 'vertical', \n",
    "                   label = 'Latitude')\n",
    "\n",
    "# (3) Marks\n",
    "heat_map = bqplot.GridHeatMap(color = hist2d,\n",
    "                              row = lat_centers, \n",
    "                              column = long_centers,\n",
    "                              scales = {'color': col_sc,\n",
    "                                        'row': y_sc,\n",
    "                                        'column': x_sc},\n",
    "                              interactions = {'click': 'select'},\n",
    "                              anchor_style = {'fill':'blue'}, \n",
    "                              selected_style = {'opacity': 1.0},\n",
    "                              unselected_style = {'opacity': 1.0})\n",
    "\n",
    "# (4) interactivity - label\n",
    "mySelectedLabel = ipywidgets.Label()\n",
    "def get_data_value(change):\n",
    "    if len(change['owner'].selected) == 1: #only 1 selected\n",
    "        i,j = change['owner'].selected[0]\n",
    "        v = hist2d[i,j] # grab data value\n",
    "        mySelectedLabel.value = 'Total duration in log(sec) = ' + str(v) # set our label\n",
    "    \n",
    "# make sure we check out     \n",
    "heat_map.observe(get_data_value, 'selected')\n",
    "\n",
    "\n",
    "# (5) put it all together in a figure\n",
    "fig = bqplot.Figure(marks = [heat_map], axes = [c_ax, y_ax, x_ax])\n",
    "myDashboard = ipywidgets.VBox([mySelectedLabel,fig])\n",
    "myDashboard"
   ]
  },
  {
   "cell_type": "markdown",
   "metadata": {},
   "source": [
    "Let's also include information about the duration as a function of date in a particular bin on another plot -- a scatter plot this time.  Let's first start by making this plot alone before putting it into our dashboard."
   ]
  },
  {
   "cell_type": "code",
   "execution_count": 60,
   "metadata": {},
   "outputs": [],
   "source": [
    "import datetime as dt # we'll use this to format our dates all fancy like"
   ]
  },
  {
   "cell_type": "markdown",
   "metadata": {},
   "source": [
    "#1: Now let's make our scales.  We'll start with a new `bqplot` scale called `DateScale`:"
   ]
  },
  {
   "cell_type": "code",
   "execution_count": 61,
   "metadata": {},
   "outputs": [],
   "source": [
    "x_scl = bqplot.DateScale(min=dt.datetime(1950,1,1),max=dt.datetime(2020,1,1)) # note: for dates on x-axis"
   ]
  },
  {
   "cell_type": "markdown",
   "metadata": {},
   "source": [
    "Let's plot the duration on a log scale since we know that's probably what will look best based on the range of durations:"
   ]
  },
  {
   "cell_type": "code",
   "execution_count": 62,
   "metadata": {},
   "outputs": [],
   "source": [
    "y_scl = bqplot.LogScale()"
   ]
  },
  {
   "cell_type": "markdown",
   "metadata": {},
   "source": [
    "#2: Our axis:"
   ]
  },
  {
   "cell_type": "code",
   "execution_count": 63,
   "metadata": {},
   "outputs": [],
   "source": [
    "ax_xcl = bqplot.Axis(label='Date', scale=x_scl)\n",
    "ax_ycl = bqplot.Axis(label='Duration in Sec', scale=y_scl, \n",
    "                    orientation='vertical', side='left')"
   ]
  },
  {
   "cell_type": "markdown",
   "metadata": {},
   "source": [
    "#3: our marks, in this case a scatter plot\n",
    "\n",
    "Thinking ahead, we know that we want to select a 2d bin from our heatmap to then draw scatters for our scatter plot.  Let's write things in this way:"
   ]
  },
  {
   "cell_type": "code",
   "execution_count": 64,
   "metadata": {},
   "outputs": [],
   "source": [
    "i,j = 19,0 # picking an x/y bin -- this is one I know has a lot of data!"
   ]
  },
  {
   "cell_type": "markdown",
   "metadata": {},
   "source": [
    "Let's specify the range of longs & lats for this selection of x/y bin:"
   ]
  },
  {
   "cell_type": "code",
   "execution_count": 65,
   "metadata": {},
   "outputs": [],
   "source": [
    "longs = [long_edges[j], long_edges[j+1]] # min/max longitude\n",
    "lats = [lat_edges[i],lat_edges[i+1]] # min/max latitude"
   ]
  },
  {
   "cell_type": "markdown",
   "metadata": {},
   "source": [
    "Let's *mask* out a subset of the UFO dataset with *only* these ranges of longitude and latitude:"
   ]
  },
  {
   "cell_type": "code",
   "execution_count": 66,
   "metadata": {},
   "outputs": [
    {
     "data": {
      "text/plain": [
       "([64.5, 70.0],\n",
       " [-150.0, -135.0],\n",
       " 327      64.837778\n",
       " 2845     64.837778\n",
       " 3620     64.837778\n",
       " 4602     64.751111\n",
       " 6011     64.837778\n",
       "            ...    \n",
       " 77347    64.751111\n",
       " 77497    64.837778\n",
       " 78571    64.837778\n",
       " 79029    64.837778\n",
       " 79470    64.837778\n",
       " Name: latitude, Length: 74, dtype: float64)"
      ]
     },
     "execution_count": 66,
     "metadata": {},
     "output_type": "execute_result"
    }
   ],
   "source": [
    "region_mask = ( (ufos['latitude'] >= lats[0]) & (ufos['latitude']<=lats[1]) &\\\n",
    "                (ufos['longitude'] >= longs[0]) & (ufos['longitude']<=longs[1]) )\n",
    "\n",
    "# we can see this selects for the upper right point of our heatmap\n",
    "lats, longs, ufos['latitude'][region_mask]"
   ]
  },
  {
   "cell_type": "markdown",
   "metadata": {},
   "source": [
    "We won't add any interactivity to this plot -- the interactivity will be drawn from our heatmap, so all that is left to do is add in marks:"
   ]
  },
  {
   "cell_type": "markdown",
   "metadata": {},
   "source": [
    "#4: Marks"
   ]
  },
  {
   "cell_type": "code",
   "execution_count": 67,
   "metadata": {},
   "outputs": [],
   "source": [
    "# lets plot the durations as a function of year there\n",
    "duration_scatt = bqplot.Scatter(x = ufos['date'][region_mask],\n",
    "                               y = ufos['duration_seconds'][region_mask], \n",
    "                              scales={'x':x_scl, 'y':y_scl})"
   ]
  },
  {
   "cell_type": "markdown",
   "metadata": {},
   "source": [
    "#5: Put it all together and take a look!"
   ]
  },
  {
   "cell_type": "code",
   "execution_count": 68,
   "metadata": {},
   "outputs": [
    {
     "data": {
      "application/vnd.jupyter.widget-view+json": {
       "model_id": "858111ccd52d40528e3578cbd6df39aa",
       "version_major": 2,
       "version_minor": 0
      },
      "text/plain": [
       "Figure(axes=[Axis(label='Date', scale=DateScale(max=datetime.datetime(2020, 1, 1, 0, 0), min=datetime.datetime…"
      ]
     },
     "metadata": {},
     "output_type": "display_data"
    }
   ],
   "source": [
    "fig_dur = bqplot.Figure(marks = [duration_scatt], axes = [ax_xcl, ax_ycl])\n",
    "fig_dur"
   ]
  },
  {
   "cell_type": "markdown",
   "metadata": {},
   "source": [
    "### Scatter plot + label driven by heatmap dashboard\n",
    "\n",
    "Let's put together our heatmap + label + scatter plot as a dashboard.  I'll recopy what we had before into some cells we can put together:"
   ]
  },
  {
   "cell_type": "code",
   "execution_count": 69,
   "metadata": {},
   "outputs": [],
   "source": [
    "# (I) CREATE LABEL\n",
    "mySelectedLabel = ipywidgets.Label()"
   ]
  },
  {
   "cell_type": "code",
   "execution_count": 70,
   "metadata": {},
   "outputs": [],
   "source": [
    "# (II) HEAT MAP\n",
    "\n",
    "# (1) add scales - colors, x & y\n",
    "col_sc = bqplot.ColorScale(scheme=\"RdPu\", \n",
    "                           min=np.nanmin(hist2d), \n",
    "                           max=np.nanmax(hist2d))\n",
    "x_sc = bqplot.LinearScale()\n",
    "y_sc = bqplot.LinearScale()\n",
    "\n",
    "# (2) create axis - for colors, x & y\n",
    "c_ax = bqplot.ColorAxis(scale = col_sc, \n",
    "                        orientation = 'vertical', \n",
    "                        side = 'right')\n",
    "\n",
    "x_ax = bqplot.Axis(scale = x_sc, label='Longitude')\n",
    "y_ax = bqplot.Axis(scale = y_sc, \n",
    "                   orientation = 'vertical', \n",
    "                   label = 'Latitude')\n",
    "\n",
    "# (3) Marks\n",
    "heat_map = bqplot.GridHeatMap(color = hist2d,\n",
    "                              row = lat_centers, \n",
    "                              column = long_centers,\n",
    "                              scales = {'color': col_sc,\n",
    "                                        'row': y_sc,\n",
    "                                        'column': x_sc},\n",
    "                              interactions = {'click': 'select'},\n",
    "                              anchor_style = {'fill':'blue'}, \n",
    "                              selected_style = {'opacity': 1.0},\n",
    "                              unselected_style = {'opacity': 1.0})\n",
    "\n",
    "# skipping 4 & 5 for now"
   ]
  },
  {
   "cell_type": "code",
   "execution_count": 71,
   "metadata": {},
   "outputs": [],
   "source": [
    "# (III) SCATTER PLOT\n",
    "\n",
    "# (1) scales\n",
    "x_scl = bqplot.DateScale(min=dt.datetime(1950,1,1),max=dt.datetime(2020,1,1)) # note: for dates on x-axis\n",
    "y_scl = bqplot.LogScale()\n",
    "\n",
    "# (2) Axis\n",
    "ax_xcl = bqplot.Axis(label='Date', scale=x_scl)\n",
    "ax_ycl = bqplot.Axis(label='Duration in Sec', scale=y_scl, \n",
    "                    orientation='vertical', side='left')\n",
    "\n",
    "# (3) Marks\n",
    "# NOTE: we'll start with some default value selected\n",
    "i,j = 19,0 # picking an x/y bin -- this is one I know has a lot of data!\n",
    "longs = [long_edges[j], long_edges[j+1]] # min/max longitude\n",
    "lats = [lat_edges[i],lat_edges[i+1]] # min/max latitude\n",
    "# lets plot the durations as a function of year there\n",
    "duration_scatt = bqplot.Scatter(x = ufos['date'][region_mask],\n",
    "                               y = ufos['duration_seconds'][region_mask], \n",
    "                              scales={'x':x_scl, 'y':y_scl})\n",
    "\n",
    "# skipping 4 & 5 for now"
   ]
  },
  {
   "cell_type": "code",
   "execution_count": 72,
   "metadata": {},
   "outputs": [],
   "source": [
    "# (IV) LINKING TOGETHER DASHBOARD WITH INTERACTIVITY\n",
    "\n",
    "def get_data_value(change):\n",
    "    if len(change['owner'].selected) == 1: #only 1 selected\n",
    "        i,j = change['owner'].selected[0]\n",
    "        v = hist2d[i,j] # grab data value\n",
    "        mySelectedLabel.value = 'Total duration in log(sec) = ' + str(v) # set our label\n",
    "        # now: for the scatter plot -- THIS PART IS NEW\n",
    "        longs = [long_edges[j], long_edges[j+1]]\n",
    "        lats = [lat_edges[i],lat_edges[i+1]]\n",
    "        region_mask = ( (ufos['latitude'] >= lats[0]) & (ufos['latitude']<=lats[1]) &\\\n",
    "                    (ufos['longitude'] >= longs[0]) & (ufos['longitude']<=longs[1]) )\n",
    "        duration_scatt.x = ufos['date'][region_mask]\n",
    "        duration_scatt.y = ufos['duration_seconds'][region_mask]\n",
    "\n",
    "heat_map.observe(get_data_value, 'selected')"
   ]
  },
  {
   "cell_type": "code",
   "execution_count": 73,
   "metadata": {},
   "outputs": [],
   "source": [
    "# (5) create figures\n",
    "fig_heatmap = bqplot.Figure(marks = [heat_map], axes = [c_ax, y_ax, x_ax])\n",
    "fig_dur = bqplot.Figure(marks = [duration_scatt], axes = [ax_xcl, ax_ycl])"
   ]
  },
  {
   "cell_type": "code",
   "execution_count": 74,
   "metadata": {},
   "outputs": [
    {
     "data": {
      "application/vnd.jupyter.widget-view+json": {
       "model_id": "52f9b2723fdb46fb8ea91a10eb97f0de",
       "version_major": 2,
       "version_minor": 0
      },
      "text/plain": [
       "VBox(children=(Label(value=''), HBox(children=(Figure(axes=[ColorAxis(orientation='vertical', scale=ColorScale…"
      ]
     },
     "metadata": {},
     "output_type": "display_data"
    }
   ],
   "source": [
    "# since we know from last time we wanna make our figs a bit bigger:\n",
    "fig_heatmap.layout.min_width='500px'\n",
    "fig_dur.layout.min_width='500px'\n",
    "\n",
    "myDashboard = ipywidgets.VBox([mySelectedLabel, ipywidgets.HBox([fig_heatmap,fig_dur])])\n",
    "myDashboard"
   ]
  },
  {
   "cell_type": "markdown",
   "metadata": {},
   "source": [
    "Note that when I select a deep purple place, my scatter plot is very laggy, this makes me think we should do this with a histogram/bar type plot.  So let's try that below, by augmenting our creation of our dashboard:"
   ]
  },
  {
   "cell_type": "code",
   "execution_count": 75,
   "metadata": {},
   "outputs": [],
   "source": [
    "# Below hasn't changed:\n",
    "\n",
    "# (I) CREATE LABEL\n",
    "mySelectedLabel = ipywidgets.Label()\n",
    "\n",
    "# (II) HEAT MAP\n",
    "\n",
    "# (1) add scales - colors, x & y\n",
    "col_sc = bqplot.ColorScale(scheme=\"RdPu\", \n",
    "                           min=np.nanmin(hist2d), \n",
    "                           max=np.nanmax(hist2d))\n",
    "x_sc = bqplot.LinearScale()\n",
    "y_sc = bqplot.LinearScale()\n",
    "\n",
    "# (2) create axis - for colors, x & y\n",
    "c_ax = bqplot.ColorAxis(scale = col_sc, \n",
    "                        orientation = 'vertical', \n",
    "                        side = 'right')\n",
    "\n",
    "x_ax = bqplot.Axis(scale = x_sc, label='Longitude')\n",
    "y_ax = bqplot.Axis(scale = y_sc, \n",
    "                   orientation = 'vertical', \n",
    "                   label = 'Latitude')\n",
    "\n",
    "# (3) Marks\n",
    "heat_map = bqplot.GridHeatMap(color = hist2d,\n",
    "                              row = lat_centers, \n",
    "                              column = long_centers,\n",
    "                              scales = {'color': col_sc,\n",
    "                                        'row': y_sc,\n",
    "                                        'column': x_sc},\n",
    "                              interactions = {'click': 'select'},\n",
    "                              anchor_style = {'fill':'blue'}, \n",
    "                              selected_style = {'opacity': 1.0},\n",
    "                              unselected_style = {'opacity': 1.0})\n",
    "\n",
    "# skipping 4 & 5 for now"
   ]
  },
  {
   "cell_type": "markdown",
   "metadata": {},
   "source": [
    "Let's use a `Bar` mark from `bqplot` to plot duration as a function of time:"
   ]
  },
  {
   "cell_type": "code",
   "execution_count": 76,
   "metadata": {},
   "outputs": [],
   "source": [
    "# (II) BAR PLOT\n",
    "\n",
    "# (1-2) scales & ax in usual way\n",
    "x_scl = bqplot.LinearScale() # note we are back to linears\n",
    "y_scl = bqplot.LinearScale()\n",
    "ax_xcl = bqplot.Axis(label='Date', scale=x_scl)\n",
    "ax_ycl = bqplot.Axis(label='Total duration in Sec', scale=y_scl, \n",
    "                    orientation='vertical', side='left')\n",
    "\n",
    "# create the data mask for each binned region like we did before:\n",
    "i,j = 19,0\n",
    "longs = [long_edges[j], long_edges[j+1]]\n",
    "lats = [lat_edges[i],lat_edges[i+1]]\n",
    "region_mask = ( (ufos['latitude'] >= lats[0]) & (ufos['latitude']<=lats[1]) &\\\n",
    "                (ufos['longitude'] >= longs[0]) & (ufos['longitude']<=longs[1]) )"
   ]
  },
  {
   "cell_type": "markdown",
   "metadata": {},
   "source": [
    "Here, we'll use `numpy`'s histogram function (this time in 1D) to grab all of the *years* overwhich the durations occur.  We'll do a count of UFO sitings per binned year, weighted by the duration of sitings:"
   ]
  },
  {
   "cell_type": "code",
   "execution_count": 77,
   "metadata": {},
   "outputs": [
    {
     "data": {
      "text/plain": [
       "0       1949-10-10 20:30:00\n",
       "1       1949-10-10 21:00:00\n",
       "2       1955-10-10 17:00:00\n",
       "3       1956-10-10 21:00:00\n",
       "4       1960-10-10 20:00:00\n",
       "                ...        \n",
       "80327   2013-09-09 21:15:00\n",
       "80328   2013-09-09 22:00:00\n",
       "80329   2013-09-09 22:00:00\n",
       "80330   2013-09-09 22:20:00\n",
       "80331   2013-09-09 23:00:00\n",
       "Name: date, Length: 80332, dtype: datetime64[ns]"
      ]
     },
     "execution_count": 77,
     "metadata": {},
     "output_type": "execute_result"
    }
   ],
   "source": [
    "ufos['date']"
   ]
  },
  {
   "cell_type": "markdown",
   "metadata": {},
   "source": [
    "For nice formatting purposes, let's create a column that just has years:"
   ]
  },
  {
   "cell_type": "code",
   "execution_count": 78,
   "metadata": {},
   "outputs": [
    {
     "data": {
      "text/plain": [
       "0        1949\n",
       "1        1949\n",
       "2        1955\n",
       "3        1956\n",
       "4        1960\n",
       "         ... \n",
       "80327    2013\n",
       "80328    2013\n",
       "80329    2013\n",
       "80330    2013\n",
       "80331    2013\n",
       "Name: year, Length: 80332, dtype: int64"
      ]
     },
     "execution_count": 78,
     "metadata": {},
     "output_type": "execute_result"
    }
   ],
   "source": [
    "ufos['year'] = ufos['date'].dt.year\n",
    "ufos['year']"
   ]
  },
  {
   "cell_type": "code",
   "execution_count": 79,
   "metadata": {},
   "outputs": [],
   "source": [
    "# Histogram, weight by duration, 10 bins in years:\n",
    "dur, dur_edges = np.histogram(ufos['year'][region_mask],\n",
    "                              weights=ufos['duration_seconds'][region_mask],\n",
    "                              bins=10)"
   ]
  },
  {
   "cell_type": "markdown",
   "metadata": {},
   "source": [
    "Get bin centers:"
   ]
  },
  {
   "cell_type": "code",
   "execution_count": 80,
   "metadata": {},
   "outputs": [],
   "source": [
    "dur_centers = (dur_edges[:-1] + dur_edges[1:]) / 2"
   ]
  },
  {
   "cell_type": "markdown",
   "metadata": {},
   "source": [
    "Finally, create the marks for the bar-plot:"
   ]
  },
  {
   "cell_type": "code",
   "execution_count": 81,
   "metadata": {},
   "outputs": [],
   "source": [
    "duration_hist = bqplot.Bars(x=dur_centers, y=dur, \n",
    "                          scales={'x':x_scl, 'y':y_scl})"
   ]
  },
  {
   "cell_type": "markdown",
   "metadata": {},
   "source": [
    "#4: Now we can finally add some interactivity.  We have to be careful to not try to plot bars when there is no data in our selection."
   ]
  },
  {
   "cell_type": "code",
   "execution_count": 82,
   "metadata": {},
   "outputs": [],
   "source": [
    "def get_data_value(change):\n",
    "    if len(change['owner'].selected) == 1: #only 1 selected\n",
    "        i,j = change['owner'].selected[0]\n",
    "        v = hist2d[i,j] # grab data value\n",
    "        mySelectedLabel.value = 'Total duration in log(sec) = ' + str(v) # set our label\n",
    "        # Histogram:\n",
    "        longs = [long_edges[j], long_edges[j+1]]\n",
    "        lats = [lat_edges[i],lat_edges[i+1]]\n",
    "        region_mask = ( (ufos['latitude'] >= lats[0]) & (ufos['latitude']<=lats[1]) &\\\n",
    "                    (ufos['longitude'] >= longs[0]) & (ufos['longitude']<=longs[1]) )\n",
    "        if len(ufos['year'][region_mask]) > 0: # make sure point exist so no histogram errors!\n",
    "            dur, dur_edges = np.histogram(ufos['year'][region_mask],\n",
    "                                          weights=ufos['duration_seconds'][region_mask],\n",
    "                                          bins=10)\n",
    "            dur_centers = (dur_edges[:-1] + dur_edges[1:]) / 2\n",
    "            duration_hist.x = dur_centers\n",
    "            duration_hist.y = dur\n",
    "\n",
    "# make sure we connect to heatmap     \n",
    "heat_map.observe(get_data_value, 'selected')"
   ]
  },
  {
   "cell_type": "markdown",
   "metadata": {},
   "source": [
    "#5: Put the figures together:"
   ]
  },
  {
   "cell_type": "code",
   "execution_count": 83,
   "metadata": {},
   "outputs": [],
   "source": [
    "fig_heatmap = bqplot.Figure(marks = [heat_map], axes = [c_ax, y_ax, x_ax])\n",
    "fig_dur = bqplot.Figure(marks = [duration_hist], axes = [ax_xcl, ax_ycl])"
   ]
  },
  {
   "cell_type": "code",
   "execution_count": 84,
   "metadata": {},
   "outputs": [
    {
     "data": {
      "application/vnd.jupyter.widget-view+json": {
       "model_id": "56c1cc5f83e24b3d875e1fa845c1d9b2",
       "version_major": 2,
       "version_minor": 0
      },
      "text/plain": [
       "VBox(children=(Label(value=''), HBox(children=(Figure(axes=[ColorAxis(orientation='vertical', scale=ColorScale…"
      ]
     },
     "metadata": {},
     "output_type": "display_data"
    }
   ],
   "source": [
    "fig_heatmap.layout.min_width = '500px'\n",
    "fig_dur.layout.min_width = '500px'\n",
    "\n",
    "plots = ipywidgets.HBox([fig_heatmap,fig_dur])\n",
    "myDashboard = ipywidgets.VBox([mySelectedLabel, plots])\n",
    "myDashboard"
   ]
  },
  {
   "cell_type": "markdown",
   "metadata": {},
   "source": [
    "So, this is much more reactive than what we had before, while still keeping a lot of the same transfer of information.  Arguably, this is an even *clearer* representation of what we are interested in.\n",
    "\n",
    "Bonus things to think about: \n",
    "* how would you keep the same time range across all plots\n",
    "* how would you plot multiple bar selections on the same set of axis?  How would you highlight that in the heatmap plot?"
   ]
  },
  {
   "cell_type": "markdown",
   "metadata": {},
   "source": [
    "### maybe hint for HW goes here..."
   ]
  },
  {
   "cell_type": "markdown",
   "metadata": {},
   "source": [
    "# This is probably as far as we will get today"
   ]
  },
  {
   "cell_type": "markdown",
   "metadata": {},
   "source": [
    "## Market Maps with bqplot\n",
    "\n",
    "As we will discuss shortly - maps and their projections can be misleading.  One way around this is to plot data on a \"MarketMap\" format.  `bqplot` has such a mark we can make use of!"
   ]
  },
  {
   "cell_type": "markdown",
   "metadata": {},
   "source": [
    "In theory, we can read this data in with `pandas.read_excel` function.  In practice, it can be very slow, so we'll use the saved CSV linked in today's page.\n",
    "\n",
    "We will look at a dataset about surgeries performed in the United States over one year:"
   ]
  },
  {
   "cell_type": "code",
   "execution_count": 85,
   "metadata": {},
   "outputs": [],
   "source": [
    "# IN THEORY:\n",
    "#!pip install xlrd # JPN, might have to run this\n",
    "\n",
    "# note: this is quering from the web!  How neat is that??\n",
    "#df = pd.read_excel('https://query.data.world/s/ivl45pdpubos6jpsii3djsjwm2pcjv', skiprows=5)\n",
    "# the above might take a while to load all the data"
   ]
  },
  {
   "cell_type": "code",
   "execution_count": 86,
   "metadata": {},
   "outputs": [],
   "source": [
    "df = pd.read_csv('/Users/jillnaiman/Downloads/market_map_data.csv')"
   ]
  },
  {
   "cell_type": "markdown",
   "metadata": {},
   "source": [
    "Let's take a look at the top of this dataset:"
   ]
  },
  {
   "cell_type": "code",
   "execution_count": 87,
   "metadata": {},
   "outputs": [
    {
     "data": {
      "text/html": [
       "<div>\n",
       "<style scoped>\n",
       "    .dataframe tbody tr th:only-of-type {\n",
       "        vertical-align: middle;\n",
       "    }\n",
       "\n",
       "    .dataframe tbody tr th {\n",
       "        vertical-align: top;\n",
       "    }\n",
       "\n",
       "    .dataframe thead th {\n",
       "        text-align: right;\n",
       "    }\n",
       "</style>\n",
       "<table border=\"1\" class=\"dataframe\">\n",
       "  <thead>\n",
       "    <tr style=\"text-align: right;\">\n",
       "      <th></th>\n",
       "      <th>Unnamed: 0</th>\n",
       "      <th>DRG Definition</th>\n",
       "      <th>Provider Id</th>\n",
       "      <th>Provider Name</th>\n",
       "      <th>Provider Street Address</th>\n",
       "      <th>Provider City</th>\n",
       "      <th>Provider State</th>\n",
       "      <th>Provider Zip Code</th>\n",
       "      <th>Hospital Referral Region (HRR) Description</th>\n",
       "      <th>Total Discharges</th>\n",
       "      <th>Average Covered Charges</th>\n",
       "      <th>Average Total Payments</th>\n",
       "      <th>Average Medicare Payments</th>\n",
       "    </tr>\n",
       "  </thead>\n",
       "  <tbody>\n",
       "    <tr>\n",
       "      <th>0</th>\n",
       "      <td>0</td>\n",
       "      <td>001 - HEART TRANSPLANT OR IMPLANT OF HEART ASS...</td>\n",
       "      <td>10033</td>\n",
       "      <td>UNIVERSITY OF ALABAMA HOSPITAL</td>\n",
       "      <td>619 SOUTH 19TH STREET</td>\n",
       "      <td>BIRMINGHAM</td>\n",
       "      <td>AL</td>\n",
       "      <td>35233</td>\n",
       "      <td>AL - Birmingham</td>\n",
       "      <td>13</td>\n",
       "      <td>1.172866e+06</td>\n",
       "      <td>251876.307692</td>\n",
       "      <td>244457.923077</td>\n",
       "    </tr>\n",
       "    <tr>\n",
       "      <th>1</th>\n",
       "      <td>1</td>\n",
       "      <td>001 - HEART TRANSPLANT OR IMPLANT OF HEART ASS...</td>\n",
       "      <td>30103</td>\n",
       "      <td>MAYO CLINIC HOSPITAL</td>\n",
       "      <td>5777 EAST MAYO BOULEVARD</td>\n",
       "      <td>PHOENIX</td>\n",
       "      <td>AZ</td>\n",
       "      <td>85054</td>\n",
       "      <td>AZ - Phoenix</td>\n",
       "      <td>20</td>\n",
       "      <td>4.375313e+05</td>\n",
       "      <td>240422.800000</td>\n",
       "      <td>133509.550000</td>\n",
       "    </tr>\n",
       "    <tr>\n",
       "      <th>2</th>\n",
       "      <td>2</td>\n",
       "      <td>001 - HEART TRANSPLANT OR IMPLANT OF HEART ASS...</td>\n",
       "      <td>50108</td>\n",
       "      <td>SUTTER GENERAL HOSPITAL</td>\n",
       "      <td>2801 L STREET</td>\n",
       "      <td>SACRAMENTO</td>\n",
       "      <td>CA</td>\n",
       "      <td>95816</td>\n",
       "      <td>CA - Sacramento</td>\n",
       "      <td>25</td>\n",
       "      <td>8.156741e+05</td>\n",
       "      <td>233197.480000</td>\n",
       "      <td>221681.800000</td>\n",
       "    </tr>\n",
       "    <tr>\n",
       "      <th>3</th>\n",
       "      <td>3</td>\n",
       "      <td>001 - HEART TRANSPLANT OR IMPLANT OF HEART ASS...</td>\n",
       "      <td>50262</td>\n",
       "      <td>RONALD REAGAN U C L A MEDICAL CENTER</td>\n",
       "      <td>757 WESTWOOD PLAZA</td>\n",
       "      <td>LOS ANGELES</td>\n",
       "      <td>CA</td>\n",
       "      <td>90095</td>\n",
       "      <td>CA - Los Angeles</td>\n",
       "      <td>14</td>\n",
       "      <td>1.499044e+06</td>\n",
       "      <td>415968.785714</td>\n",
       "      <td>366608.928571</td>\n",
       "    </tr>\n",
       "    <tr>\n",
       "      <th>4</th>\n",
       "      <td>4</td>\n",
       "      <td>001 - HEART TRANSPLANT OR IMPLANT OF HEART ASS...</td>\n",
       "      <td>50441</td>\n",
       "      <td>STANFORD HOSPITAL</td>\n",
       "      <td>300 PASTEUR DRIVE</td>\n",
       "      <td>STANFORD</td>\n",
       "      <td>CA</td>\n",
       "      <td>94305</td>\n",
       "      <td>CA - San Mateo County</td>\n",
       "      <td>23</td>\n",
       "      <td>2.238699e+06</td>\n",
       "      <td>420865.478261</td>\n",
       "      <td>403453.652174</td>\n",
       "    </tr>\n",
       "  </tbody>\n",
       "</table>\n",
       "</div>"
      ],
      "text/plain": [
       "   Unnamed: 0                                     DRG Definition  Provider Id  \\\n",
       "0           0  001 - HEART TRANSPLANT OR IMPLANT OF HEART ASS...        10033   \n",
       "1           1  001 - HEART TRANSPLANT OR IMPLANT OF HEART ASS...        30103   \n",
       "2           2  001 - HEART TRANSPLANT OR IMPLANT OF HEART ASS...        50108   \n",
       "3           3  001 - HEART TRANSPLANT OR IMPLANT OF HEART ASS...        50262   \n",
       "4           4  001 - HEART TRANSPLANT OR IMPLANT OF HEART ASS...        50441   \n",
       "\n",
       "                          Provider Name   Provider Street Address  \\\n",
       "0        UNIVERSITY OF ALABAMA HOSPITAL     619 SOUTH 19TH STREET   \n",
       "1                  MAYO CLINIC HOSPITAL  5777 EAST MAYO BOULEVARD   \n",
       "2               SUTTER GENERAL HOSPITAL             2801 L STREET   \n",
       "3  RONALD REAGAN U C L A MEDICAL CENTER        757 WESTWOOD PLAZA   \n",
       "4                     STANFORD HOSPITAL         300 PASTEUR DRIVE   \n",
       "\n",
       "  Provider City Provider State  Provider Zip Code  \\\n",
       "0    BIRMINGHAM             AL              35233   \n",
       "1       PHOENIX             AZ              85054   \n",
       "2    SACRAMENTO             CA              95816   \n",
       "3   LOS ANGELES             CA              90095   \n",
       "4      STANFORD             CA              94305   \n",
       "\n",
       "  Hospital Referral Region (HRR) Description  Total Discharges  \\\n",
       "0                            AL - Birmingham                13   \n",
       "1                               AZ - Phoenix                20   \n",
       "2                            CA - Sacramento                25   \n",
       "3                           CA - Los Angeles                14   \n",
       "4                      CA - San Mateo County                23   \n",
       "\n",
       "   Average Covered Charges  Average Total Payments  Average Medicare Payments  \n",
       "0             1.172866e+06           251876.307692              244457.923077  \n",
       "1             4.375313e+05           240422.800000              133509.550000  \n",
       "2             8.156741e+05           233197.480000              221681.800000  \n",
       "3             1.499044e+06           415968.785714              366608.928571  \n",
       "4             2.238699e+06           420865.478261              403453.652174  "
      ]
     },
     "execution_count": 87,
     "metadata": {},
     "output_type": "execute_result"
    }
   ],
   "source": [
    "df.head()"
   ]
  },
  {
   "cell_type": "markdown",
   "metadata": {},
   "source": [
    "Let's also use some useful pandas functions, for example we can check what types of data we are dealing with:"
   ]
  },
  {
   "cell_type": "code",
   "execution_count": 88,
   "metadata": {},
   "outputs": [
    {
     "data": {
      "text/plain": [
       "Unnamed: 0                                      int64\n",
       "DRG Definition                                 object\n",
       "Provider Id                                     int64\n",
       "Provider Name                                  object\n",
       "Provider Street Address                        object\n",
       "Provider City                                  object\n",
       "Provider State                                 object\n",
       "Provider Zip Code                               int64\n",
       "Hospital Referral Region (HRR) Description     object\n",
       "Total Discharges                                int64\n",
       "Average Covered Charges                       float64\n",
       "Average Total Payments                        float64\n",
       "Average Medicare Payments                     float64\n",
       "dtype: object"
      ]
     },
     "execution_count": 88,
     "metadata": {},
     "output_type": "execute_result"
    }
   ],
   "source": [
    "df.dtypes"
   ]
  },
  {
   "cell_type": "markdown",
   "metadata": {},
   "source": [
    "Let's also look at some summary data, recall that while this will calculate the summary stats for all numerical columns, it won't always make sense:"
   ]
  },
  {
   "cell_type": "code",
   "execution_count": 89,
   "metadata": {},
   "outputs": [
    {
     "data": {
      "text/html": [
       "<div>\n",
       "<style scoped>\n",
       "    .dataframe tbody tr th:only-of-type {\n",
       "        vertical-align: middle;\n",
       "    }\n",
       "\n",
       "    .dataframe tbody tr th {\n",
       "        vertical-align: top;\n",
       "    }\n",
       "\n",
       "    .dataframe thead th {\n",
       "        text-align: right;\n",
       "    }\n",
       "</style>\n",
       "<table border=\"1\" class=\"dataframe\">\n",
       "  <thead>\n",
       "    <tr style=\"text-align: right;\">\n",
       "      <th></th>\n",
       "      <th>Unnamed: 0</th>\n",
       "      <th>Provider Id</th>\n",
       "      <th>Provider Zip Code</th>\n",
       "      <th>Total Discharges</th>\n",
       "      <th>Average Covered Charges</th>\n",
       "      <th>Average Total Payments</th>\n",
       "      <th>Average Medicare Payments</th>\n",
       "    </tr>\n",
       "  </thead>\n",
       "  <tbody>\n",
       "    <tr>\n",
       "      <th>count</th>\n",
       "      <td>202656.000000</td>\n",
       "      <td>202656.000000</td>\n",
       "      <td>202656.000000</td>\n",
       "      <td>202656.000000</td>\n",
       "      <td>2.026560e+05</td>\n",
       "      <td>202656.000000</td>\n",
       "      <td>202656.000000</td>\n",
       "    </tr>\n",
       "    <tr>\n",
       "      <th>mean</th>\n",
       "      <td>101327.500000</td>\n",
       "      <td>255322.552749</td>\n",
       "      <td>47029.141698</td>\n",
       "      <td>36.011196</td>\n",
       "      <td>5.258934e+04</td>\n",
       "      <td>13168.560144</td>\n",
       "      <td>11218.465217</td>\n",
       "    </tr>\n",
       "    <tr>\n",
       "      <th>std</th>\n",
       "      <td>58501.892414</td>\n",
       "      <td>150834.203550</td>\n",
       "      <td>27792.935433</td>\n",
       "      <td>48.864835</td>\n",
       "      <td>6.244522e+04</td>\n",
       "      <td>13772.839671</td>\n",
       "      <td>12279.103622</td>\n",
       "    </tr>\n",
       "    <tr>\n",
       "      <th>min</th>\n",
       "      <td>0.000000</td>\n",
       "      <td>10001.000000</td>\n",
       "      <td>1040.000000</td>\n",
       "      <td>11.000000</td>\n",
       "      <td>1.367652e+03</td>\n",
       "      <td>2320.482759</td>\n",
       "      <td>1329.909091</td>\n",
       "    </tr>\n",
       "    <tr>\n",
       "      <th>25%</th>\n",
       "      <td>50663.750000</td>\n",
       "      <td>110082.000000</td>\n",
       "      <td>25301.000000</td>\n",
       "      <td>14.000000</td>\n",
       "      <td>2.094930e+04</td>\n",
       "      <td>6258.925806</td>\n",
       "      <td>5011.979167</td>\n",
       "    </tr>\n",
       "    <tr>\n",
       "      <th>50%</th>\n",
       "      <td>101327.500000</td>\n",
       "      <td>240093.000000</td>\n",
       "      <td>43701.000000</td>\n",
       "      <td>22.000000</td>\n",
       "      <td>3.463380e+04</td>\n",
       "      <td>9180.169753</td>\n",
       "      <td>7714.654762</td>\n",
       "    </tr>\n",
       "    <tr>\n",
       "      <th>75%</th>\n",
       "      <td>151991.250000</td>\n",
       "      <td>380014.000000</td>\n",
       "      <td>71603.000000</td>\n",
       "      <td>39.000000</td>\n",
       "      <td>6.076193e+04</td>\n",
       "      <td>14631.466690</td>\n",
       "      <td>12472.680288</td>\n",
       "    </tr>\n",
       "    <tr>\n",
       "      <th>max</th>\n",
       "      <td>202655.000000</td>\n",
       "      <td>670088.000000</td>\n",
       "      <td>99801.000000</td>\n",
       "      <td>3855.000000</td>\n",
       "      <td>2.238699e+06</td>\n",
       "      <td>434396.000000</td>\n",
       "      <td>403453.652174</td>\n",
       "    </tr>\n",
       "  </tbody>\n",
       "</table>\n",
       "</div>"
      ],
      "text/plain": [
       "          Unnamed: 0    Provider Id  Provider Zip Code  Total Discharges  \\\n",
       "count  202656.000000  202656.000000      202656.000000     202656.000000   \n",
       "mean   101327.500000  255322.552749       47029.141698         36.011196   \n",
       "std     58501.892414  150834.203550       27792.935433         48.864835   \n",
       "min         0.000000   10001.000000        1040.000000         11.000000   \n",
       "25%     50663.750000  110082.000000       25301.000000         14.000000   \n",
       "50%    101327.500000  240093.000000       43701.000000         22.000000   \n",
       "75%    151991.250000  380014.000000       71603.000000         39.000000   \n",
       "max    202655.000000  670088.000000       99801.000000       3855.000000   \n",
       "\n",
       "       Average Covered Charges  Average Total Payments  \\\n",
       "count             2.026560e+05           202656.000000   \n",
       "mean              5.258934e+04            13168.560144   \n",
       "std               6.244522e+04            13772.839671   \n",
       "min               1.367652e+03             2320.482759   \n",
       "25%               2.094930e+04             6258.925806   \n",
       "50%               3.463380e+04             9180.169753   \n",
       "75%               6.076193e+04            14631.466690   \n",
       "max               2.238699e+06           434396.000000   \n",
       "\n",
       "       Average Medicare Payments  \n",
       "count              202656.000000  \n",
       "mean                11218.465217  \n",
       "std                 12279.103622  \n",
       "min                  1329.909091  \n",
       "25%                  5011.979167  \n",
       "50%                  7714.654762  \n",
       "75%                 12472.680288  \n",
       "max                403453.652174  "
      ]
     },
     "execution_count": 89,
     "metadata": {},
     "output_type": "execute_result"
    }
   ],
   "source": [
    "df.describe()"
   ]
  },
  {
   "cell_type": "markdown",
   "metadata": {},
   "source": [
    "For example, things like the \"mean zipcode\" are meaningless numbers."
   ]
  },
  {
   "cell_type": "markdown",
   "metadata": {},
   "source": [
    "Let's explore our data further: for example, lets look at how many separate types of surgery are represented in this dataset:"
   ]
  },
  {
   "cell_type": "code",
   "execution_count": 90,
   "metadata": {},
   "outputs": [
    {
     "data": {
      "text/plain": [
       "564"
      ]
     },
     "execution_count": 90,
     "metadata": {},
     "output_type": "execute_result"
    }
   ],
   "source": [
    "df[\"DRG Definition\"].unique().size"
   ]
  },
  {
   "cell_type": "markdown",
   "metadata": {},
   "source": [
    "What about unique hospital (provider) names?"
   ]
  },
  {
   "cell_type": "code",
   "execution_count": 91,
   "metadata": {},
   "outputs": [
    {
     "data": {
      "text/plain": [
       "3151"
      ]
     },
     "execution_count": 91,
     "metadata": {},
     "output_type": "execute_result"
    }
   ],
   "source": [
    "df[\"Provider Name\"].unique().size"
   ]
  },
  {
   "cell_type": "markdown",
   "metadata": {},
   "source": [
    "How many states are represented?"
   ]
  },
  {
   "cell_type": "code",
   "execution_count": 92,
   "metadata": {},
   "outputs": [
    {
     "data": {
      "text/plain": [
       "51"
      ]
     },
     "execution_count": 92,
     "metadata": {},
     "output_type": "execute_result"
    }
   ],
   "source": [
    "df[\"Provider State\"].unique().size"
   ]
  },
  {
   "cell_type": "markdown",
   "metadata": {},
   "source": [
    "How are these states coded?"
   ]
  },
  {
   "cell_type": "code",
   "execution_count": 93,
   "metadata": {},
   "outputs": [
    {
     "data": {
      "text/plain": [
       "array(['AL', 'AZ', 'CA', 'CT', 'DC', 'FL', 'GA', 'IL', 'IN', 'KY', 'LA',\n",
       "       'MA', 'MI', 'MN', 'MO', 'NE', 'NJ', 'NY', 'NC', 'OH', 'OK', 'PA',\n",
       "       'SC', 'TN', 'TX', 'VA', 'WA', 'WI', 'AK', 'AR', 'CO', 'DE', 'ID',\n",
       "       'IA', 'KS', 'ME', 'MD', 'MS', 'NV', 'NH', 'NM', 'ND', 'OR', 'RI',\n",
       "       'UT', 'VT', 'WV', 'HI', 'SD', 'MT', 'WY'], dtype=object)"
      ]
     },
     "execution_count": 93,
     "metadata": {},
     "output_type": "execute_result"
    }
   ],
   "source": [
    "df[\"Provider State\"].unique()"
   ]
  },
  {
   "cell_type": "markdown",
   "metadata": {},
   "source": [
    "Lets figure out  what the most common surgeries are via how many many folks are discharged after each type of surgery:"
   ]
  },
  {
   "cell_type": "code",
   "execution_count": 94,
   "metadata": {},
   "outputs": [
    {
     "data": {
      "text/plain": [
       "DRG Definition\n",
       "001 - HEART TRANSPLANT OR IMPLANT OF HEART ASSIST SYSTEM W MCC                 1495\n",
       "002 - HEART TRANSPLANT OR IMPLANT OF HEART ASSIST SYSTEM W/O MCC                 23\n",
       "003 - ECMO OR TRACH W MV 96+ HRS OR PDX EXC FACE, MOUTH & NECK W MAJ O.R.     11987\n",
       "004 - TRACH W MV 96+ HRS OR PDX EXC FACE, MOUTH & NECK W/O MAJ O.R.           11774\n",
       "005 - LIVER TRANSPLANT W MCC OR INTESTINAL TRANSPLANT                           741\n",
       "                                                                              ...  \n",
       "982 - EXTENSIVE O.R. PROCEDURE UNRELATED TO PRINCIPAL DIAGNOSIS W CC           7691\n",
       "983 - EXTENSIVE O.R. PROCEDURE UNRELATED TO PRINCIPAL DIAGNOSIS W/O CC/MCC      134\n",
       "987 - NON-EXTENSIVE O.R. PROC UNRELATED TO PRINCIPAL DIAGNOSIS W MCC           1033\n",
       "988 - NON-EXTENSIVE O.R. PROC UNRELATED TO PRINCIPAL DIAGNOSIS W CC            1149\n",
       "989 - NON-EXTENSIVE O.R. PROC UNRELATED TO PRINCIPAL DIAGNOSIS W/O CC/MCC        39\n",
       "Name: Total Discharges, Length: 564, dtype: int64"
      ]
     },
     "execution_count": 94,
     "metadata": {},
     "output_type": "execute_result"
    }
   ],
   "source": [
    "most_common = df.groupby(\"DRG Definition\")[\"Total Discharges\"].sum()\n",
    "most_common"
   ]
  },
  {
   "cell_type": "markdown",
   "metadata": {},
   "source": [
    "... but lets sort by the largest on top:"
   ]
  },
  {
   "cell_type": "code",
   "execution_count": 95,
   "metadata": {},
   "outputs": [
    {
     "data": {
      "text/plain": [
       "DRG Definition\n",
       "470 - MAJOR JOINT REPLACEMENT OR REATTACHMENT OF LOWER EXTREMITY W/O MCC    458259\n",
       "871 - SEPTICEMIA OR SEVERE SEPSIS W/O MV 96+ HOURS W MCC                    438597\n",
       "291 - HEART FAILURE & SHOCK W MCC                                           198889\n",
       "292 - HEART FAILURE & SHOCK W CC                                            192918\n",
       "392 - ESOPHAGITIS, GASTROENT & MISC DIGEST DISORDERS W/O MCC                190375\n",
       "                                                                             ...  \n",
       "347 - ANAL & STOMAL PROCEDURES W MCC                                            11\n",
       "094 - BACTERIAL & TUBERCULOUS INFECTIONS OF NERVOUS SYSTEM W MCC                11\n",
       "858 - POSTOPERATIVE OR POST-TRAUMATIC INFECTIONS W O.R. PROC W/O CC/MCC         11\n",
       "114 - ORBITAL PROCEDURES W/O CC/MCC                                             11\n",
       "693 - URINARY STONES W/O ESW LITHOTRIPSY W MCC                                  11\n",
       "Name: Total Discharges, Length: 564, dtype: int64"
      ]
     },
     "execution_count": 95,
     "metadata": {},
     "output_type": "execute_result"
    }
   ],
   "source": [
    "most_common = df.groupby(\"DRG Definition\")[\"Total Discharges\"].sum().sort_values(ascending=False)\n",
    "most_common"
   ]
  },
  {
   "cell_type": "markdown",
   "metadata": {},
   "source": [
    "Lets look at only the top 5, for fun:"
   ]
  },
  {
   "cell_type": "code",
   "execution_count": 96,
   "metadata": {},
   "outputs": [
    {
     "data": {
      "text/plain": [
       "DRG Definition\n",
       "470 - MAJOR JOINT REPLACEMENT OR REATTACHMENT OF LOWER EXTREMITY W/O MCC    458259\n",
       "871 - SEPTICEMIA OR SEVERE SEPSIS W/O MV 96+ HOURS W MCC                    438597\n",
       "291 - HEART FAILURE & SHOCK W MCC                                           198889\n",
       "292 - HEART FAILURE & SHOCK W CC                                            192918\n",
       "392 - ESOPHAGITIS, GASTROENT & MISC DIGEST DISORDERS W/O MCC                190375\n",
       "Name: Total Discharges, dtype: int64"
      ]
     },
     "execution_count": 96,
     "metadata": {},
     "output_type": "execute_result"
    }
   ],
   "source": [
    "most_common[:5]"
   ]
  },
  {
   "cell_type": "markdown",
   "metadata": {},
   "source": [
    "... or we can only look at the names of the top 5:"
   ]
  },
  {
   "cell_type": "code",
   "execution_count": 97,
   "metadata": {},
   "outputs": [
    {
     "data": {
      "text/plain": [
       "array(['470 - MAJOR JOINT REPLACEMENT OR REATTACHMENT OF LOWER EXTREMITY W/O MCC',\n",
       "       '871 - SEPTICEMIA OR SEVERE SEPSIS W/O MV 96+ HOURS W MCC',\n",
       "       '291 - HEART FAILURE & SHOCK W MCC',\n",
       "       '292 - HEART FAILURE & SHOCK W CC',\n",
       "       '392 - ESOPHAGITIS, GASTROENT & MISC DIGEST DISORDERS W/O MCC'],\n",
       "      dtype=object)"
      ]
     },
     "execution_count": 97,
     "metadata": {},
     "output_type": "execute_result"
    }
   ],
   "source": [
    "most_common[:5].index.values"
   ]
  },
  {
   "cell_type": "markdown",
   "metadata": {},
   "source": [
    "### Cleaning the dataset for the MarketMap plot\n",
    "\n",
    "Here we are going to practice doing some fancy things to clean this data.  This will be good practice for when you run into other datasets \"in the wild\":"
   ]
  },
  {
   "cell_type": "markdown",
   "metadata": {},
   "source": [
    "Let's first create a little table of total discharges for each type of surgery & state:"
   ]
  },
  {
   "cell_type": "code",
   "execution_count": 98,
   "metadata": {},
   "outputs": [
    {
     "data": {
      "text/plain": [
       "DRG Definition                                                             Provider State\n",
       "001 - HEART TRANSPLANT OR IMPLANT OF HEART ASSIST SYSTEM W MCC             AL                 13\n",
       "                                                                           AZ                 20\n",
       "                                                                           CA                125\n",
       "                                                                           CT                 29\n",
       "                                                                           DC                 31\n",
       "                                                                                            ... \n",
       "988 - NON-EXTENSIVE O.R. PROC UNRELATED TO PRINCIPAL DIAGNOSIS W CC        WI                 28\n",
       "                                                                           WV                 28\n",
       "989 - NON-EXTENSIVE O.R. PROC UNRELATED TO PRINCIPAL DIAGNOSIS W/O CC/MCC  KS                 13\n",
       "                                                                           KY                 13\n",
       "                                                                           NY                 13\n",
       "Name: Total Discharges, Length: 15087, dtype: int64"
      ]
     },
     "execution_count": 98,
     "metadata": {},
     "output_type": "execute_result"
    }
   ],
   "source": [
    "total_discharges = df.groupby([\"DRG Definition\", \"Provider State\"])[\"Total Discharges\"].sum()\n",
    "total_discharges"
   ]
  },
  {
   "cell_type": "markdown",
   "metadata": {},
   "source": [
    "The above is not intuative, lets prettify it:"
   ]
  },
  {
   "cell_type": "code",
   "execution_count": 99,
   "metadata": {},
   "outputs": [
    {
     "data": {
      "text/html": [
       "<div>\n",
       "<style scoped>\n",
       "    .dataframe tbody tr th:only-of-type {\n",
       "        vertical-align: middle;\n",
       "    }\n",
       "\n",
       "    .dataframe tbody tr th {\n",
       "        vertical-align: top;\n",
       "    }\n",
       "\n",
       "    .dataframe thead th {\n",
       "        text-align: right;\n",
       "    }\n",
       "</style>\n",
       "<table border=\"1\" class=\"dataframe\">\n",
       "  <thead>\n",
       "    <tr style=\"text-align: right;\">\n",
       "      <th>Provider State</th>\n",
       "      <th>AK</th>\n",
       "      <th>AL</th>\n",
       "      <th>AR</th>\n",
       "      <th>AZ</th>\n",
       "      <th>CA</th>\n",
       "      <th>CO</th>\n",
       "      <th>CT</th>\n",
       "      <th>DC</th>\n",
       "      <th>DE</th>\n",
       "      <th>FL</th>\n",
       "      <th>...</th>\n",
       "      <th>SD</th>\n",
       "      <th>TN</th>\n",
       "      <th>TX</th>\n",
       "      <th>UT</th>\n",
       "      <th>VA</th>\n",
       "      <th>VT</th>\n",
       "      <th>WA</th>\n",
       "      <th>WI</th>\n",
       "      <th>WV</th>\n",
       "      <th>WY</th>\n",
       "    </tr>\n",
       "    <tr>\n",
       "      <th>DRG Definition</th>\n",
       "      <th></th>\n",
       "      <th></th>\n",
       "      <th></th>\n",
       "      <th></th>\n",
       "      <th></th>\n",
       "      <th></th>\n",
       "      <th></th>\n",
       "      <th></th>\n",
       "      <th></th>\n",
       "      <th></th>\n",
       "      <th></th>\n",
       "      <th></th>\n",
       "      <th></th>\n",
       "      <th></th>\n",
       "      <th></th>\n",
       "      <th></th>\n",
       "      <th></th>\n",
       "      <th></th>\n",
       "      <th></th>\n",
       "      <th></th>\n",
       "      <th></th>\n",
       "    </tr>\n",
       "  </thead>\n",
       "  <tbody>\n",
       "    <tr>\n",
       "      <th>001 - HEART TRANSPLANT OR IMPLANT OF HEART ASSIST SYSTEM W MCC</th>\n",
       "      <td>NaN</td>\n",
       "      <td>13.0</td>\n",
       "      <td>NaN</td>\n",
       "      <td>20.0</td>\n",
       "      <td>125.0</td>\n",
       "      <td>NaN</td>\n",
       "      <td>29.0</td>\n",
       "      <td>31.0</td>\n",
       "      <td>NaN</td>\n",
       "      <td>83.0</td>\n",
       "      <td>...</td>\n",
       "      <td>NaN</td>\n",
       "      <td>34.0</td>\n",
       "      <td>206.0</td>\n",
       "      <td>NaN</td>\n",
       "      <td>61.0</td>\n",
       "      <td>NaN</td>\n",
       "      <td>36.0</td>\n",
       "      <td>21.0</td>\n",
       "      <td>NaN</td>\n",
       "      <td>NaN</td>\n",
       "    </tr>\n",
       "    <tr>\n",
       "      <th>002 - HEART TRANSPLANT OR IMPLANT OF HEART ASSIST SYSTEM W/O MCC</th>\n",
       "      <td>NaN</td>\n",
       "      <td>NaN</td>\n",
       "      <td>NaN</td>\n",
       "      <td>NaN</td>\n",
       "      <td>NaN</td>\n",
       "      <td>NaN</td>\n",
       "      <td>NaN</td>\n",
       "      <td>NaN</td>\n",
       "      <td>NaN</td>\n",
       "      <td>NaN</td>\n",
       "      <td>...</td>\n",
       "      <td>NaN</td>\n",
       "      <td>NaN</td>\n",
       "      <td>NaN</td>\n",
       "      <td>NaN</td>\n",
       "      <td>NaN</td>\n",
       "      <td>NaN</td>\n",
       "      <td>NaN</td>\n",
       "      <td>NaN</td>\n",
       "      <td>NaN</td>\n",
       "      <td>NaN</td>\n",
       "    </tr>\n",
       "    <tr>\n",
       "      <th>003 - ECMO OR TRACH W MV 96+ HRS OR PDX EXC FACE, MOUTH &amp; NECK W MAJ O.R.</th>\n",
       "      <td>12.0</td>\n",
       "      <td>237.0</td>\n",
       "      <td>128.0</td>\n",
       "      <td>200.0</td>\n",
       "      <td>710.0</td>\n",
       "      <td>117.0</td>\n",
       "      <td>125.0</td>\n",
       "      <td>128.0</td>\n",
       "      <td>79.0</td>\n",
       "      <td>934.0</td>\n",
       "      <td>...</td>\n",
       "      <td>NaN</td>\n",
       "      <td>381.0</td>\n",
       "      <td>906.0</td>\n",
       "      <td>54.0</td>\n",
       "      <td>356.0</td>\n",
       "      <td>13.0</td>\n",
       "      <td>74.0</td>\n",
       "      <td>114.0</td>\n",
       "      <td>84.0</td>\n",
       "      <td>NaN</td>\n",
       "    </tr>\n",
       "    <tr>\n",
       "      <th>004 - TRACH W MV 96+ HRS OR PDX EXC FACE, MOUTH &amp; NECK W/O MAJ O.R.</th>\n",
       "      <td>11.0</td>\n",
       "      <td>257.0</td>\n",
       "      <td>129.0</td>\n",
       "      <td>127.0</td>\n",
       "      <td>894.0</td>\n",
       "      <td>59.0</td>\n",
       "      <td>59.0</td>\n",
       "      <td>81.0</td>\n",
       "      <td>55.0</td>\n",
       "      <td>943.0</td>\n",
       "      <td>...</td>\n",
       "      <td>18.0</td>\n",
       "      <td>438.0</td>\n",
       "      <td>1009.0</td>\n",
       "      <td>12.0</td>\n",
       "      <td>247.0</td>\n",
       "      <td>NaN</td>\n",
       "      <td>42.0</td>\n",
       "      <td>84.0</td>\n",
       "      <td>50.0</td>\n",
       "      <td>NaN</td>\n",
       "    </tr>\n",
       "    <tr>\n",
       "      <th>005 - LIVER TRANSPLANT W MCC OR INTESTINAL TRANSPLANT</th>\n",
       "      <td>NaN</td>\n",
       "      <td>16.0</td>\n",
       "      <td>NaN</td>\n",
       "      <td>17.0</td>\n",
       "      <td>106.0</td>\n",
       "      <td>12.0</td>\n",
       "      <td>NaN</td>\n",
       "      <td>NaN</td>\n",
       "      <td>NaN</td>\n",
       "      <td>69.0</td>\n",
       "      <td>...</td>\n",
       "      <td>NaN</td>\n",
       "      <td>36.0</td>\n",
       "      <td>46.0</td>\n",
       "      <td>NaN</td>\n",
       "      <td>13.0</td>\n",
       "      <td>NaN</td>\n",
       "      <td>13.0</td>\n",
       "      <td>16.0</td>\n",
       "      <td>NaN</td>\n",
       "      <td>NaN</td>\n",
       "    </tr>\n",
       "    <tr>\n",
       "      <th>...</th>\n",
       "      <td>...</td>\n",
       "      <td>...</td>\n",
       "      <td>...</td>\n",
       "      <td>...</td>\n",
       "      <td>...</td>\n",
       "      <td>...</td>\n",
       "      <td>...</td>\n",
       "      <td>...</td>\n",
       "      <td>...</td>\n",
       "      <td>...</td>\n",
       "      <td>...</td>\n",
       "      <td>...</td>\n",
       "      <td>...</td>\n",
       "      <td>...</td>\n",
       "      <td>...</td>\n",
       "      <td>...</td>\n",
       "      <td>...</td>\n",
       "      <td>...</td>\n",
       "      <td>...</td>\n",
       "      <td>...</td>\n",
       "      <td>...</td>\n",
       "    </tr>\n",
       "    <tr>\n",
       "      <th>982 - EXTENSIVE O.R. PROCEDURE UNRELATED TO PRINCIPAL DIAGNOSIS W CC</th>\n",
       "      <td>NaN</td>\n",
       "      <td>154.0</td>\n",
       "      <td>102.0</td>\n",
       "      <td>183.0</td>\n",
       "      <td>485.0</td>\n",
       "      <td>24.0</td>\n",
       "      <td>60.0</td>\n",
       "      <td>65.0</td>\n",
       "      <td>67.0</td>\n",
       "      <td>767.0</td>\n",
       "      <td>...</td>\n",
       "      <td>21.0</td>\n",
       "      <td>174.0</td>\n",
       "      <td>395.0</td>\n",
       "      <td>19.0</td>\n",
       "      <td>217.0</td>\n",
       "      <td>11.0</td>\n",
       "      <td>69.0</td>\n",
       "      <td>79.0</td>\n",
       "      <td>59.0</td>\n",
       "      <td>NaN</td>\n",
       "    </tr>\n",
       "    <tr>\n",
       "      <th>983 - EXTENSIVE O.R. PROCEDURE UNRELATED TO PRINCIPAL DIAGNOSIS W/O CC/MCC</th>\n",
       "      <td>NaN</td>\n",
       "      <td>11.0</td>\n",
       "      <td>NaN</td>\n",
       "      <td>11.0</td>\n",
       "      <td>NaN</td>\n",
       "      <td>NaN</td>\n",
       "      <td>NaN</td>\n",
       "      <td>NaN</td>\n",
       "      <td>NaN</td>\n",
       "      <td>14.0</td>\n",
       "      <td>...</td>\n",
       "      <td>NaN</td>\n",
       "      <td>NaN</td>\n",
       "      <td>NaN</td>\n",
       "      <td>NaN</td>\n",
       "      <td>NaN</td>\n",
       "      <td>NaN</td>\n",
       "      <td>11.0</td>\n",
       "      <td>NaN</td>\n",
       "      <td>NaN</td>\n",
       "      <td>NaN</td>\n",
       "    </tr>\n",
       "    <tr>\n",
       "      <th>987 - NON-EXTENSIVE O.R. PROC UNRELATED TO PRINCIPAL DIAGNOSIS W MCC</th>\n",
       "      <td>NaN</td>\n",
       "      <td>37.0</td>\n",
       "      <td>26.0</td>\n",
       "      <td>NaN</td>\n",
       "      <td>25.0</td>\n",
       "      <td>NaN</td>\n",
       "      <td>17.0</td>\n",
       "      <td>21.0</td>\n",
       "      <td>20.0</td>\n",
       "      <td>73.0</td>\n",
       "      <td>...</td>\n",
       "      <td>NaN</td>\n",
       "      <td>33.0</td>\n",
       "      <td>79.0</td>\n",
       "      <td>NaN</td>\n",
       "      <td>NaN</td>\n",
       "      <td>NaN</td>\n",
       "      <td>NaN</td>\n",
       "      <td>35.0</td>\n",
       "      <td>25.0</td>\n",
       "      <td>NaN</td>\n",
       "    </tr>\n",
       "    <tr>\n",
       "      <th>988 - NON-EXTENSIVE O.R. PROC UNRELATED TO PRINCIPAL DIAGNOSIS W CC</th>\n",
       "      <td>NaN</td>\n",
       "      <td>51.0</td>\n",
       "      <td>11.0</td>\n",
       "      <td>NaN</td>\n",
       "      <td>NaN</td>\n",
       "      <td>NaN</td>\n",
       "      <td>38.0</td>\n",
       "      <td>11.0</td>\n",
       "      <td>27.0</td>\n",
       "      <td>47.0</td>\n",
       "      <td>...</td>\n",
       "      <td>NaN</td>\n",
       "      <td>12.0</td>\n",
       "      <td>66.0</td>\n",
       "      <td>NaN</td>\n",
       "      <td>NaN</td>\n",
       "      <td>NaN</td>\n",
       "      <td>NaN</td>\n",
       "      <td>28.0</td>\n",
       "      <td>28.0</td>\n",
       "      <td>NaN</td>\n",
       "    </tr>\n",
       "    <tr>\n",
       "      <th>989 - NON-EXTENSIVE O.R. PROC UNRELATED TO PRINCIPAL DIAGNOSIS W/O CC/MCC</th>\n",
       "      <td>NaN</td>\n",
       "      <td>NaN</td>\n",
       "      <td>NaN</td>\n",
       "      <td>NaN</td>\n",
       "      <td>NaN</td>\n",
       "      <td>NaN</td>\n",
       "      <td>NaN</td>\n",
       "      <td>NaN</td>\n",
       "      <td>NaN</td>\n",
       "      <td>NaN</td>\n",
       "      <td>...</td>\n",
       "      <td>NaN</td>\n",
       "      <td>NaN</td>\n",
       "      <td>NaN</td>\n",
       "      <td>NaN</td>\n",
       "      <td>NaN</td>\n",
       "      <td>NaN</td>\n",
       "      <td>NaN</td>\n",
       "      <td>NaN</td>\n",
       "      <td>NaN</td>\n",
       "      <td>NaN</td>\n",
       "    </tr>\n",
       "  </tbody>\n",
       "</table>\n",
       "<p>564 rows × 51 columns</p>\n",
       "</div>"
      ],
      "text/plain": [
       "Provider State                                        AK     AL     AR     AZ  \\\n",
       "DRG Definition                                                                  \n",
       "001 - HEART TRANSPLANT OR IMPLANT OF HEART ASSI...   NaN   13.0    NaN   20.0   \n",
       "002 - HEART TRANSPLANT OR IMPLANT OF HEART ASSI...   NaN    NaN    NaN    NaN   \n",
       "003 - ECMO OR TRACH W MV 96+ HRS OR PDX EXC FAC...  12.0  237.0  128.0  200.0   \n",
       "004 - TRACH W MV 96+ HRS OR PDX EXC FACE, MOUTH...  11.0  257.0  129.0  127.0   \n",
       "005 - LIVER TRANSPLANT W MCC OR INTESTINAL TRAN...   NaN   16.0    NaN   17.0   \n",
       "...                                                  ...    ...    ...    ...   \n",
       "982 - EXTENSIVE O.R. PROCEDURE UNRELATED TO PRI...   NaN  154.0  102.0  183.0   \n",
       "983 - EXTENSIVE O.R. PROCEDURE UNRELATED TO PRI...   NaN   11.0    NaN   11.0   \n",
       "987 - NON-EXTENSIVE O.R. PROC UNRELATED TO PRIN...   NaN   37.0   26.0    NaN   \n",
       "988 - NON-EXTENSIVE O.R. PROC UNRELATED TO PRIN...   NaN   51.0   11.0    NaN   \n",
       "989 - NON-EXTENSIVE O.R. PROC UNRELATED TO PRIN...   NaN    NaN    NaN    NaN   \n",
       "\n",
       "Provider State                                         CA     CO     CT  \\\n",
       "DRG Definition                                                            \n",
       "001 - HEART TRANSPLANT OR IMPLANT OF HEART ASSI...  125.0    NaN   29.0   \n",
       "002 - HEART TRANSPLANT OR IMPLANT OF HEART ASSI...    NaN    NaN    NaN   \n",
       "003 - ECMO OR TRACH W MV 96+ HRS OR PDX EXC FAC...  710.0  117.0  125.0   \n",
       "004 - TRACH W MV 96+ HRS OR PDX EXC FACE, MOUTH...  894.0   59.0   59.0   \n",
       "005 - LIVER TRANSPLANT W MCC OR INTESTINAL TRAN...  106.0   12.0    NaN   \n",
       "...                                                   ...    ...    ...   \n",
       "982 - EXTENSIVE O.R. PROCEDURE UNRELATED TO PRI...  485.0   24.0   60.0   \n",
       "983 - EXTENSIVE O.R. PROCEDURE UNRELATED TO PRI...    NaN    NaN    NaN   \n",
       "987 - NON-EXTENSIVE O.R. PROC UNRELATED TO PRIN...   25.0    NaN   17.0   \n",
       "988 - NON-EXTENSIVE O.R. PROC UNRELATED TO PRIN...    NaN    NaN   38.0   \n",
       "989 - NON-EXTENSIVE O.R. PROC UNRELATED TO PRIN...    NaN    NaN    NaN   \n",
       "\n",
       "Provider State                                         DC    DE     FL  ...  \\\n",
       "DRG Definition                                                          ...   \n",
       "001 - HEART TRANSPLANT OR IMPLANT OF HEART ASSI...   31.0   NaN   83.0  ...   \n",
       "002 - HEART TRANSPLANT OR IMPLANT OF HEART ASSI...    NaN   NaN    NaN  ...   \n",
       "003 - ECMO OR TRACH W MV 96+ HRS OR PDX EXC FAC...  128.0  79.0  934.0  ...   \n",
       "004 - TRACH W MV 96+ HRS OR PDX EXC FACE, MOUTH...   81.0  55.0  943.0  ...   \n",
       "005 - LIVER TRANSPLANT W MCC OR INTESTINAL TRAN...    NaN   NaN   69.0  ...   \n",
       "...                                                   ...   ...    ...  ...   \n",
       "982 - EXTENSIVE O.R. PROCEDURE UNRELATED TO PRI...   65.0  67.0  767.0  ...   \n",
       "983 - EXTENSIVE O.R. PROCEDURE UNRELATED TO PRI...    NaN   NaN   14.0  ...   \n",
       "987 - NON-EXTENSIVE O.R. PROC UNRELATED TO PRIN...   21.0  20.0   73.0  ...   \n",
       "988 - NON-EXTENSIVE O.R. PROC UNRELATED TO PRIN...   11.0  27.0   47.0  ...   \n",
       "989 - NON-EXTENSIVE O.R. PROC UNRELATED TO PRIN...    NaN   NaN    NaN  ...   \n",
       "\n",
       "Provider State                                        SD     TN      TX    UT  \\\n",
       "DRG Definition                                                                  \n",
       "001 - HEART TRANSPLANT OR IMPLANT OF HEART ASSI...   NaN   34.0   206.0   NaN   \n",
       "002 - HEART TRANSPLANT OR IMPLANT OF HEART ASSI...   NaN    NaN     NaN   NaN   \n",
       "003 - ECMO OR TRACH W MV 96+ HRS OR PDX EXC FAC...   NaN  381.0   906.0  54.0   \n",
       "004 - TRACH W MV 96+ HRS OR PDX EXC FACE, MOUTH...  18.0  438.0  1009.0  12.0   \n",
       "005 - LIVER TRANSPLANT W MCC OR INTESTINAL TRAN...   NaN   36.0    46.0   NaN   \n",
       "...                                                  ...    ...     ...   ...   \n",
       "982 - EXTENSIVE O.R. PROCEDURE UNRELATED TO PRI...  21.0  174.0   395.0  19.0   \n",
       "983 - EXTENSIVE O.R. PROCEDURE UNRELATED TO PRI...   NaN    NaN     NaN   NaN   \n",
       "987 - NON-EXTENSIVE O.R. PROC UNRELATED TO PRIN...   NaN   33.0    79.0   NaN   \n",
       "988 - NON-EXTENSIVE O.R. PROC UNRELATED TO PRIN...   NaN   12.0    66.0   NaN   \n",
       "989 - NON-EXTENSIVE O.R. PROC UNRELATED TO PRIN...   NaN    NaN     NaN   NaN   \n",
       "\n",
       "Provider State                                         VA    VT    WA     WI  \\\n",
       "DRG Definition                                                                 \n",
       "001 - HEART TRANSPLANT OR IMPLANT OF HEART ASSI...   61.0   NaN  36.0   21.0   \n",
       "002 - HEART TRANSPLANT OR IMPLANT OF HEART ASSI...    NaN   NaN   NaN    NaN   \n",
       "003 - ECMO OR TRACH W MV 96+ HRS OR PDX EXC FAC...  356.0  13.0  74.0  114.0   \n",
       "004 - TRACH W MV 96+ HRS OR PDX EXC FACE, MOUTH...  247.0   NaN  42.0   84.0   \n",
       "005 - LIVER TRANSPLANT W MCC OR INTESTINAL TRAN...   13.0   NaN  13.0   16.0   \n",
       "...                                                   ...   ...   ...    ...   \n",
       "982 - EXTENSIVE O.R. PROCEDURE UNRELATED TO PRI...  217.0  11.0  69.0   79.0   \n",
       "983 - EXTENSIVE O.R. PROCEDURE UNRELATED TO PRI...    NaN   NaN  11.0    NaN   \n",
       "987 - NON-EXTENSIVE O.R. PROC UNRELATED TO PRIN...    NaN   NaN   NaN   35.0   \n",
       "988 - NON-EXTENSIVE O.R. PROC UNRELATED TO PRIN...    NaN   NaN   NaN   28.0   \n",
       "989 - NON-EXTENSIVE O.R. PROC UNRELATED TO PRIN...    NaN   NaN   NaN    NaN   \n",
       "\n",
       "Provider State                                        WV  WY  \n",
       "DRG Definition                                                \n",
       "001 - HEART TRANSPLANT OR IMPLANT OF HEART ASSI...   NaN NaN  \n",
       "002 - HEART TRANSPLANT OR IMPLANT OF HEART ASSI...   NaN NaN  \n",
       "003 - ECMO OR TRACH W MV 96+ HRS OR PDX EXC FAC...  84.0 NaN  \n",
       "004 - TRACH W MV 96+ HRS OR PDX EXC FACE, MOUTH...  50.0 NaN  \n",
       "005 - LIVER TRANSPLANT W MCC OR INTESTINAL TRAN...   NaN NaN  \n",
       "...                                                  ...  ..  \n",
       "982 - EXTENSIVE O.R. PROCEDURE UNRELATED TO PRI...  59.0 NaN  \n",
       "983 - EXTENSIVE O.R. PROCEDURE UNRELATED TO PRI...   NaN NaN  \n",
       "987 - NON-EXTENSIVE O.R. PROC UNRELATED TO PRIN...  25.0 NaN  \n",
       "988 - NON-EXTENSIVE O.R. PROC UNRELATED TO PRIN...  28.0 NaN  \n",
       "989 - NON-EXTENSIVE O.R. PROC UNRELATED TO PRIN...   NaN NaN  \n",
       "\n",
       "[564 rows x 51 columns]"
      ]
     },
     "execution_count": 99,
     "metadata": {},
     "output_type": "execute_result"
    }
   ],
   "source": [
    "total_discharges = df.groupby([\"DRG Definition\", \"Provider State\"])[\"Total Discharges\"].sum().unstack()\n",
    "total_discharges # note we went from a list back into rows/columns"
   ]
  },
  {
   "cell_type": "markdown",
   "metadata": {},
   "source": [
    "#### Aside: lets quick check out what are the most frequent surgeries"
   ]
  },
  {
   "cell_type": "code",
   "execution_count": 100,
   "metadata": {},
   "outputs": [
    {
     "data": {
      "text/plain": [
       "DRG Definition\n",
       "001 - HEART TRANSPLANT OR IMPLANT OF HEART ASSIST SYSTEM W MCC                1495.0\n",
       "002 - HEART TRANSPLANT OR IMPLANT OF HEART ASSIST SYSTEM W/O MCC                23.0\n",
       "003 - ECMO OR TRACH W MV 96+ HRS OR PDX EXC FACE, MOUTH & NECK W MAJ O.R.    11987.0\n",
       "004 - TRACH W MV 96+ HRS OR PDX EXC FACE, MOUTH & NECK W/O MAJ O.R.          11774.0\n",
       "005 - LIVER TRANSPLANT W MCC OR INTESTINAL TRANSPLANT                          741.0\n",
       "Name: Total, dtype: float64"
      ]
     },
     "execution_count": 100,
     "metadata": {},
     "output_type": "execute_result"
    }
   ],
   "source": [
    "# for our map, we are going to want to \n",
    "# normalize the discharges or each surgery \n",
    "# for each \n",
    "# state by the total discharges across all \n",
    "# states for a particular type of surger\n",
    "#  lets add this to our total_discharges DF\n",
    "total_discharges[\"Total\"] = total_discharges.sum(axis = 1)\n",
    "total_discharges[\"Total\"].head() # just look at the first few"
   ]
  },
  {
   "cell_type": "code",
   "execution_count": 101,
   "metadata": {},
   "outputs": [
    {
     "data": {
      "text/html": [
       "<div>\n",
       "<style scoped>\n",
       "    .dataframe tbody tr th:only-of-type {\n",
       "        vertical-align: middle;\n",
       "    }\n",
       "\n",
       "    .dataframe tbody tr th {\n",
       "        vertical-align: top;\n",
       "    }\n",
       "\n",
       "    .dataframe thead th {\n",
       "        text-align: right;\n",
       "    }\n",
       "</style>\n",
       "<table border=\"1\" class=\"dataframe\">\n",
       "  <thead>\n",
       "    <tr style=\"text-align: right;\">\n",
       "      <th>Provider State</th>\n",
       "      <th>AK</th>\n",
       "      <th>AL</th>\n",
       "      <th>AR</th>\n",
       "      <th>AZ</th>\n",
       "      <th>CA</th>\n",
       "      <th>CO</th>\n",
       "      <th>CT</th>\n",
       "      <th>DC</th>\n",
       "      <th>DE</th>\n",
       "      <th>FL</th>\n",
       "      <th>...</th>\n",
       "      <th>TN</th>\n",
       "      <th>TX</th>\n",
       "      <th>UT</th>\n",
       "      <th>VA</th>\n",
       "      <th>VT</th>\n",
       "      <th>WA</th>\n",
       "      <th>WI</th>\n",
       "      <th>WV</th>\n",
       "      <th>WY</th>\n",
       "      <th>Total</th>\n",
       "    </tr>\n",
       "    <tr>\n",
       "      <th>DRG Definition</th>\n",
       "      <th></th>\n",
       "      <th></th>\n",
       "      <th></th>\n",
       "      <th></th>\n",
       "      <th></th>\n",
       "      <th></th>\n",
       "      <th></th>\n",
       "      <th></th>\n",
       "      <th></th>\n",
       "      <th></th>\n",
       "      <th></th>\n",
       "      <th></th>\n",
       "      <th></th>\n",
       "      <th></th>\n",
       "      <th></th>\n",
       "      <th></th>\n",
       "      <th></th>\n",
       "      <th></th>\n",
       "      <th></th>\n",
       "      <th></th>\n",
       "      <th></th>\n",
       "    </tr>\n",
       "  </thead>\n",
       "  <tbody>\n",
       "    <tr>\n",
       "      <th>470 - MAJOR JOINT REPLACEMENT OR REATTACHMENT OF LOWER EXTREMITY W/O MCC</th>\n",
       "      <td>855.0</td>\n",
       "      <td>9146.0</td>\n",
       "      <td>5692.0</td>\n",
       "      <td>10472.0</td>\n",
       "      <td>32930.0</td>\n",
       "      <td>7793.0</td>\n",
       "      <td>5689.0</td>\n",
       "      <td>1247.0</td>\n",
       "      <td>2119.0</td>\n",
       "      <td>31086.0</td>\n",
       "      <td>...</td>\n",
       "      <td>11133.0</td>\n",
       "      <td>29410.0</td>\n",
       "      <td>4455.0</td>\n",
       "      <td>13923.0</td>\n",
       "      <td>766.0</td>\n",
       "      <td>10027.0</td>\n",
       "      <td>9482.0</td>\n",
       "      <td>2925.0</td>\n",
       "      <td>651.0</td>\n",
       "      <td>458259.0</td>\n",
       "    </tr>\n",
       "    <tr>\n",
       "      <th>871 - SEPTICEMIA OR SEVERE SEPSIS W/O MV 96+ HOURS W MCC</th>\n",
       "      <td>452.0</td>\n",
       "      <td>6066.0</td>\n",
       "      <td>5187.0</td>\n",
       "      <td>6914.0</td>\n",
       "      <td>45434.0</td>\n",
       "      <td>4400.0</td>\n",
       "      <td>6390.0</td>\n",
       "      <td>643.0</td>\n",
       "      <td>1556.0</td>\n",
       "      <td>25209.0</td>\n",
       "      <td>...</td>\n",
       "      <td>11295.0</td>\n",
       "      <td>30595.0</td>\n",
       "      <td>2780.0</td>\n",
       "      <td>15119.0</td>\n",
       "      <td>739.0</td>\n",
       "      <td>10146.0</td>\n",
       "      <td>6712.0</td>\n",
       "      <td>3427.0</td>\n",
       "      <td>474.0</td>\n",
       "      <td>438597.0</td>\n",
       "    </tr>\n",
       "    <tr>\n",
       "      <th>291 - HEART FAILURE &amp; SHOCK W MCC</th>\n",
       "      <td>110.0</td>\n",
       "      <td>3894.0</td>\n",
       "      <td>2143.0</td>\n",
       "      <td>2252.0</td>\n",
       "      <td>14894.0</td>\n",
       "      <td>1273.0</td>\n",
       "      <td>2806.0</td>\n",
       "      <td>529.0</td>\n",
       "      <td>1019.0</td>\n",
       "      <td>14923.0</td>\n",
       "      <td>...</td>\n",
       "      <td>5285.0</td>\n",
       "      <td>13718.0</td>\n",
       "      <td>500.0</td>\n",
       "      <td>6815.0</td>\n",
       "      <td>303.0</td>\n",
       "      <td>3557.0</td>\n",
       "      <td>3028.0</td>\n",
       "      <td>1535.0</td>\n",
       "      <td>161.0</td>\n",
       "      <td>198889.0</td>\n",
       "    </tr>\n",
       "    <tr>\n",
       "      <th>292 - HEART FAILURE &amp; SHOCK W CC</th>\n",
       "      <td>166.0</td>\n",
       "      <td>4131.0</td>\n",
       "      <td>2382.0</td>\n",
       "      <td>2092.0</td>\n",
       "      <td>11654.0</td>\n",
       "      <td>1341.0</td>\n",
       "      <td>2714.0</td>\n",
       "      <td>902.0</td>\n",
       "      <td>936.0</td>\n",
       "      <td>14274.0</td>\n",
       "      <td>...</td>\n",
       "      <td>4899.0</td>\n",
       "      <td>13047.0</td>\n",
       "      <td>548.0</td>\n",
       "      <td>5863.0</td>\n",
       "      <td>318.0</td>\n",
       "      <td>2900.0</td>\n",
       "      <td>3175.0</td>\n",
       "      <td>1749.0</td>\n",
       "      <td>212.0</td>\n",
       "      <td>192918.0</td>\n",
       "    </tr>\n",
       "    <tr>\n",
       "      <th>392 - ESOPHAGITIS, GASTROENT &amp; MISC DIGEST DISORDERS W/O MCC</th>\n",
       "      <td>182.0</td>\n",
       "      <td>4920.0</td>\n",
       "      <td>2462.0</td>\n",
       "      <td>3050.0</td>\n",
       "      <td>12358.0</td>\n",
       "      <td>1728.0</td>\n",
       "      <td>2723.0</td>\n",
       "      <td>556.0</td>\n",
       "      <td>782.0</td>\n",
       "      <td>20322.0</td>\n",
       "      <td>...</td>\n",
       "      <td>4681.0</td>\n",
       "      <td>12692.0</td>\n",
       "      <td>492.0</td>\n",
       "      <td>4884.0</td>\n",
       "      <td>249.0</td>\n",
       "      <td>2435.0</td>\n",
       "      <td>2582.0</td>\n",
       "      <td>1632.0</td>\n",
       "      <td>168.0</td>\n",
       "      <td>190375.0</td>\n",
       "    </tr>\n",
       "  </tbody>\n",
       "</table>\n",
       "<p>5 rows × 52 columns</p>\n",
       "</div>"
      ],
      "text/plain": [
       "Provider State                                         AK      AL      AR  \\\n",
       "DRG Definition                                                              \n",
       "470 - MAJOR JOINT REPLACEMENT OR REATTACHMENT O...  855.0  9146.0  5692.0   \n",
       "871 - SEPTICEMIA OR SEVERE SEPSIS W/O MV 96+ HO...  452.0  6066.0  5187.0   \n",
       "291 - HEART FAILURE & SHOCK W MCC                   110.0  3894.0  2143.0   \n",
       "292 - HEART FAILURE & SHOCK W CC                    166.0  4131.0  2382.0   \n",
       "392 - ESOPHAGITIS, GASTROENT & MISC DIGEST DISO...  182.0  4920.0  2462.0   \n",
       "\n",
       "Provider State                                           AZ       CA      CO  \\\n",
       "DRG Definition                                                                 \n",
       "470 - MAJOR JOINT REPLACEMENT OR REATTACHMENT O...  10472.0  32930.0  7793.0   \n",
       "871 - SEPTICEMIA OR SEVERE SEPSIS W/O MV 96+ HO...   6914.0  45434.0  4400.0   \n",
       "291 - HEART FAILURE & SHOCK W MCC                    2252.0  14894.0  1273.0   \n",
       "292 - HEART FAILURE & SHOCK W CC                     2092.0  11654.0  1341.0   \n",
       "392 - ESOPHAGITIS, GASTROENT & MISC DIGEST DISO...   3050.0  12358.0  1728.0   \n",
       "\n",
       "Provider State                                          CT      DC      DE  \\\n",
       "DRG Definition                                                               \n",
       "470 - MAJOR JOINT REPLACEMENT OR REATTACHMENT O...  5689.0  1247.0  2119.0   \n",
       "871 - SEPTICEMIA OR SEVERE SEPSIS W/O MV 96+ HO...  6390.0   643.0  1556.0   \n",
       "291 - HEART FAILURE & SHOCK W MCC                   2806.0   529.0  1019.0   \n",
       "292 - HEART FAILURE & SHOCK W CC                    2714.0   902.0   936.0   \n",
       "392 - ESOPHAGITIS, GASTROENT & MISC DIGEST DISO...  2723.0   556.0   782.0   \n",
       "\n",
       "Provider State                                           FL  ...       TN  \\\n",
       "DRG Definition                                               ...            \n",
       "470 - MAJOR JOINT REPLACEMENT OR REATTACHMENT O...  31086.0  ...  11133.0   \n",
       "871 - SEPTICEMIA OR SEVERE SEPSIS W/O MV 96+ HO...  25209.0  ...  11295.0   \n",
       "291 - HEART FAILURE & SHOCK W MCC                   14923.0  ...   5285.0   \n",
       "292 - HEART FAILURE & SHOCK W CC                    14274.0  ...   4899.0   \n",
       "392 - ESOPHAGITIS, GASTROENT & MISC DIGEST DISO...  20322.0  ...   4681.0   \n",
       "\n",
       "Provider State                                           TX      UT       VA  \\\n",
       "DRG Definition                                                                 \n",
       "470 - MAJOR JOINT REPLACEMENT OR REATTACHMENT O...  29410.0  4455.0  13923.0   \n",
       "871 - SEPTICEMIA OR SEVERE SEPSIS W/O MV 96+ HO...  30595.0  2780.0  15119.0   \n",
       "291 - HEART FAILURE & SHOCK W MCC                   13718.0   500.0   6815.0   \n",
       "292 - HEART FAILURE & SHOCK W CC                    13047.0   548.0   5863.0   \n",
       "392 - ESOPHAGITIS, GASTROENT & MISC DIGEST DISO...  12692.0   492.0   4884.0   \n",
       "\n",
       "Provider State                                         VT       WA      WI  \\\n",
       "DRG Definition                                                               \n",
       "470 - MAJOR JOINT REPLACEMENT OR REATTACHMENT O...  766.0  10027.0  9482.0   \n",
       "871 - SEPTICEMIA OR SEVERE SEPSIS W/O MV 96+ HO...  739.0  10146.0  6712.0   \n",
       "291 - HEART FAILURE & SHOCK W MCC                   303.0   3557.0  3028.0   \n",
       "292 - HEART FAILURE & SHOCK W CC                    318.0   2900.0  3175.0   \n",
       "392 - ESOPHAGITIS, GASTROENT & MISC DIGEST DISO...  249.0   2435.0  2582.0   \n",
       "\n",
       "Provider State                                          WV     WY     Total  \n",
       "DRG Definition                                                               \n",
       "470 - MAJOR JOINT REPLACEMENT OR REATTACHMENT O...  2925.0  651.0  458259.0  \n",
       "871 - SEPTICEMIA OR SEVERE SEPSIS W/O MV 96+ HO...  3427.0  474.0  438597.0  \n",
       "291 - HEART FAILURE & SHOCK W MCC                   1535.0  161.0  198889.0  \n",
       "292 - HEART FAILURE & SHOCK W CC                    1749.0  212.0  192918.0  \n",
       "392 - ESOPHAGITIS, GASTROENT & MISC DIGEST DISO...  1632.0  168.0  190375.0  \n",
       "\n",
       "[5 rows x 52 columns]"
      ]
     },
     "execution_count": 101,
     "metadata": {},
     "output_type": "execute_result"
    }
   ],
   "source": [
    "# finally, lets check out the most often\n",
    "#  performed surgery across all states\n",
    "\n",
    "# we can do this by sorting our DF by this total we just\n",
    "# calculated:\n",
    "total_discharges.sort_values(by = \"Total\", \n",
    "                             ascending=False, \n",
    "                             inplace = True)\n",
    "\n",
    "# now lets just look at the first few of our \n",
    "#  sorted array\n",
    "total_discharges.head()\n",
    "\n",
    "# so, from this we see that joint replacement\n",
    "#  or reattachment of a lower extremeity is \n",
    "#  the most likely surgery (in number of discharges)\n",
    "# followed by surgeries for sepsis and then heart failure"
   ]
  },
  {
   "cell_type": "code",
   "execution_count": 102,
   "metadata": {},
   "outputs": [
    {
     "data": {
      "text/html": [
       "<div>\n",
       "<style scoped>\n",
       "    .dataframe tbody tr th:only-of-type {\n",
       "        vertical-align: middle;\n",
       "    }\n",
       "\n",
       "    .dataframe tbody tr th {\n",
       "        vertical-align: top;\n",
       "    }\n",
       "\n",
       "    .dataframe thead th {\n",
       "        text-align: right;\n",
       "    }\n",
       "</style>\n",
       "<table border=\"1\" class=\"dataframe\">\n",
       "  <thead>\n",
       "    <tr style=\"text-align: right;\">\n",
       "      <th>Provider State</th>\n",
       "      <th>AK</th>\n",
       "      <th>AL</th>\n",
       "      <th>AR</th>\n",
       "      <th>AZ</th>\n",
       "      <th>CA</th>\n",
       "      <th>CO</th>\n",
       "      <th>CT</th>\n",
       "      <th>DC</th>\n",
       "      <th>DE</th>\n",
       "      <th>FL</th>\n",
       "      <th>...</th>\n",
       "      <th>SD</th>\n",
       "      <th>TN</th>\n",
       "      <th>TX</th>\n",
       "      <th>UT</th>\n",
       "      <th>VA</th>\n",
       "      <th>VT</th>\n",
       "      <th>WA</th>\n",
       "      <th>WI</th>\n",
       "      <th>WV</th>\n",
       "      <th>WY</th>\n",
       "    </tr>\n",
       "    <tr>\n",
       "      <th>DRG Definition</th>\n",
       "      <th></th>\n",
       "      <th></th>\n",
       "      <th></th>\n",
       "      <th></th>\n",
       "      <th></th>\n",
       "      <th></th>\n",
       "      <th></th>\n",
       "      <th></th>\n",
       "      <th></th>\n",
       "      <th></th>\n",
       "      <th></th>\n",
       "      <th></th>\n",
       "      <th></th>\n",
       "      <th></th>\n",
       "      <th></th>\n",
       "      <th></th>\n",
       "      <th></th>\n",
       "      <th></th>\n",
       "      <th></th>\n",
       "      <th></th>\n",
       "      <th></th>\n",
       "    </tr>\n",
       "  </thead>\n",
       "  <tbody>\n",
       "    <tr>\n",
       "      <th>470 - MAJOR JOINT REPLACEMENT OR REATTACHMENT OF LOWER EXTREMITY W/O MCC</th>\n",
       "      <td>855.0</td>\n",
       "      <td>9146.0</td>\n",
       "      <td>5692.0</td>\n",
       "      <td>10472.0</td>\n",
       "      <td>32930.0</td>\n",
       "      <td>7793.0</td>\n",
       "      <td>5689.0</td>\n",
       "      <td>1247.0</td>\n",
       "      <td>2119.0</td>\n",
       "      <td>31086.0</td>\n",
       "      <td>...</td>\n",
       "      <td>3200.0</td>\n",
       "      <td>11133.0</td>\n",
       "      <td>29410.0</td>\n",
       "      <td>4455.0</td>\n",
       "      <td>13923.0</td>\n",
       "      <td>766.0</td>\n",
       "      <td>10027.0</td>\n",
       "      <td>9482.0</td>\n",
       "      <td>2925.0</td>\n",
       "      <td>651.0</td>\n",
       "    </tr>\n",
       "    <tr>\n",
       "      <th>871 - SEPTICEMIA OR SEVERE SEPSIS W/O MV 96+ HOURS W MCC</th>\n",
       "      <td>452.0</td>\n",
       "      <td>6066.0</td>\n",
       "      <td>5187.0</td>\n",
       "      <td>6914.0</td>\n",
       "      <td>45434.0</td>\n",
       "      <td>4400.0</td>\n",
       "      <td>6390.0</td>\n",
       "      <td>643.0</td>\n",
       "      <td>1556.0</td>\n",
       "      <td>25209.0</td>\n",
       "      <td>...</td>\n",
       "      <td>1574.0</td>\n",
       "      <td>11295.0</td>\n",
       "      <td>30595.0</td>\n",
       "      <td>2780.0</td>\n",
       "      <td>15119.0</td>\n",
       "      <td>739.0</td>\n",
       "      <td>10146.0</td>\n",
       "      <td>6712.0</td>\n",
       "      <td>3427.0</td>\n",
       "      <td>474.0</td>\n",
       "    </tr>\n",
       "    <tr>\n",
       "      <th>291 - HEART FAILURE &amp; SHOCK W MCC</th>\n",
       "      <td>110.0</td>\n",
       "      <td>3894.0</td>\n",
       "      <td>2143.0</td>\n",
       "      <td>2252.0</td>\n",
       "      <td>14894.0</td>\n",
       "      <td>1273.0</td>\n",
       "      <td>2806.0</td>\n",
       "      <td>529.0</td>\n",
       "      <td>1019.0</td>\n",
       "      <td>14923.0</td>\n",
       "      <td>...</td>\n",
       "      <td>540.0</td>\n",
       "      <td>5285.0</td>\n",
       "      <td>13718.0</td>\n",
       "      <td>500.0</td>\n",
       "      <td>6815.0</td>\n",
       "      <td>303.0</td>\n",
       "      <td>3557.0</td>\n",
       "      <td>3028.0</td>\n",
       "      <td>1535.0</td>\n",
       "      <td>161.0</td>\n",
       "    </tr>\n",
       "    <tr>\n",
       "      <th>292 - HEART FAILURE &amp; SHOCK W CC</th>\n",
       "      <td>166.0</td>\n",
       "      <td>4131.0</td>\n",
       "      <td>2382.0</td>\n",
       "      <td>2092.0</td>\n",
       "      <td>11654.0</td>\n",
       "      <td>1341.0</td>\n",
       "      <td>2714.0</td>\n",
       "      <td>902.0</td>\n",
       "      <td>936.0</td>\n",
       "      <td>14274.0</td>\n",
       "      <td>...</td>\n",
       "      <td>511.0</td>\n",
       "      <td>4899.0</td>\n",
       "      <td>13047.0</td>\n",
       "      <td>548.0</td>\n",
       "      <td>5863.0</td>\n",
       "      <td>318.0</td>\n",
       "      <td>2900.0</td>\n",
       "      <td>3175.0</td>\n",
       "      <td>1749.0</td>\n",
       "      <td>212.0</td>\n",
       "    </tr>\n",
       "    <tr>\n",
       "      <th>392 - ESOPHAGITIS, GASTROENT &amp; MISC DIGEST DISORDERS W/O MCC</th>\n",
       "      <td>182.0</td>\n",
       "      <td>4920.0</td>\n",
       "      <td>2462.0</td>\n",
       "      <td>3050.0</td>\n",
       "      <td>12358.0</td>\n",
       "      <td>1728.0</td>\n",
       "      <td>2723.0</td>\n",
       "      <td>556.0</td>\n",
       "      <td>782.0</td>\n",
       "      <td>20322.0</td>\n",
       "      <td>...</td>\n",
       "      <td>436.0</td>\n",
       "      <td>4681.0</td>\n",
       "      <td>12692.0</td>\n",
       "      <td>492.0</td>\n",
       "      <td>4884.0</td>\n",
       "      <td>249.0</td>\n",
       "      <td>2435.0</td>\n",
       "      <td>2582.0</td>\n",
       "      <td>1632.0</td>\n",
       "      <td>168.0</td>\n",
       "    </tr>\n",
       "  </tbody>\n",
       "</table>\n",
       "<p>5 rows × 51 columns</p>\n",
       "</div>"
      ],
      "text/plain": [
       "Provider State                                         AK      AL      AR  \\\n",
       "DRG Definition                                                              \n",
       "470 - MAJOR JOINT REPLACEMENT OR REATTACHMENT O...  855.0  9146.0  5692.0   \n",
       "871 - SEPTICEMIA OR SEVERE SEPSIS W/O MV 96+ HO...  452.0  6066.0  5187.0   \n",
       "291 - HEART FAILURE & SHOCK W MCC                   110.0  3894.0  2143.0   \n",
       "292 - HEART FAILURE & SHOCK W CC                    166.0  4131.0  2382.0   \n",
       "392 - ESOPHAGITIS, GASTROENT & MISC DIGEST DISO...  182.0  4920.0  2462.0   \n",
       "\n",
       "Provider State                                           AZ       CA      CO  \\\n",
       "DRG Definition                                                                 \n",
       "470 - MAJOR JOINT REPLACEMENT OR REATTACHMENT O...  10472.0  32930.0  7793.0   \n",
       "871 - SEPTICEMIA OR SEVERE SEPSIS W/O MV 96+ HO...   6914.0  45434.0  4400.0   \n",
       "291 - HEART FAILURE & SHOCK W MCC                    2252.0  14894.0  1273.0   \n",
       "292 - HEART FAILURE & SHOCK W CC                     2092.0  11654.0  1341.0   \n",
       "392 - ESOPHAGITIS, GASTROENT & MISC DIGEST DISO...   3050.0  12358.0  1728.0   \n",
       "\n",
       "Provider State                                          CT      DC      DE  \\\n",
       "DRG Definition                                                               \n",
       "470 - MAJOR JOINT REPLACEMENT OR REATTACHMENT O...  5689.0  1247.0  2119.0   \n",
       "871 - SEPTICEMIA OR SEVERE SEPSIS W/O MV 96+ HO...  6390.0   643.0  1556.0   \n",
       "291 - HEART FAILURE & SHOCK W MCC                   2806.0   529.0  1019.0   \n",
       "292 - HEART FAILURE & SHOCK W CC                    2714.0   902.0   936.0   \n",
       "392 - ESOPHAGITIS, GASTROENT & MISC DIGEST DISO...  2723.0   556.0   782.0   \n",
       "\n",
       "Provider State                                           FL  ...      SD  \\\n",
       "DRG Definition                                               ...           \n",
       "470 - MAJOR JOINT REPLACEMENT OR REATTACHMENT O...  31086.0  ...  3200.0   \n",
       "871 - SEPTICEMIA OR SEVERE SEPSIS W/O MV 96+ HO...  25209.0  ...  1574.0   \n",
       "291 - HEART FAILURE & SHOCK W MCC                   14923.0  ...   540.0   \n",
       "292 - HEART FAILURE & SHOCK W CC                    14274.0  ...   511.0   \n",
       "392 - ESOPHAGITIS, GASTROENT & MISC DIGEST DISO...  20322.0  ...   436.0   \n",
       "\n",
       "Provider State                                           TN       TX      UT  \\\n",
       "DRG Definition                                                                 \n",
       "470 - MAJOR JOINT REPLACEMENT OR REATTACHMENT O...  11133.0  29410.0  4455.0   \n",
       "871 - SEPTICEMIA OR SEVERE SEPSIS W/O MV 96+ HO...  11295.0  30595.0  2780.0   \n",
       "291 - HEART FAILURE & SHOCK W MCC                    5285.0  13718.0   500.0   \n",
       "292 - HEART FAILURE & SHOCK W CC                     4899.0  13047.0   548.0   \n",
       "392 - ESOPHAGITIS, GASTROENT & MISC DIGEST DISO...   4681.0  12692.0   492.0   \n",
       "\n",
       "Provider State                                           VA     VT       WA  \\\n",
       "DRG Definition                                                                \n",
       "470 - MAJOR JOINT REPLACEMENT OR REATTACHMENT O...  13923.0  766.0  10027.0   \n",
       "871 - SEPTICEMIA OR SEVERE SEPSIS W/O MV 96+ HO...  15119.0  739.0  10146.0   \n",
       "291 - HEART FAILURE & SHOCK W MCC                    6815.0  303.0   3557.0   \n",
       "292 - HEART FAILURE & SHOCK W CC                     5863.0  318.0   2900.0   \n",
       "392 - ESOPHAGITIS, GASTROENT & MISC DIGEST DISO...   4884.0  249.0   2435.0   \n",
       "\n",
       "Provider State                                          WI      WV     WY  \n",
       "DRG Definition                                                             \n",
       "470 - MAJOR JOINT REPLACEMENT OR REATTACHMENT O...  9482.0  2925.0  651.0  \n",
       "871 - SEPTICEMIA OR SEVERE SEPSIS W/O MV 96+ HO...  6712.0  3427.0  474.0  \n",
       "291 - HEART FAILURE & SHOCK W MCC                   3028.0  1535.0  161.0  \n",
       "292 - HEART FAILURE & SHOCK W CC                    3175.0  1749.0  212.0  \n",
       "392 - ESOPHAGITIS, GASTROENT & MISC DIGEST DISO...  2582.0  1632.0  168.0  \n",
       "\n",
       "[5 rows x 51 columns]"
      ]
     },
     "execution_count": 102,
     "metadata": {},
     "output_type": "execute_result"
    }
   ],
   "source": [
    "# neat.  We won't need these for plotting, so we can remove our\n",
    "# total column we just calculated\n",
    "del total_discharges[\"Total\"]\n",
    "total_discharges.head()\n",
    "# now we see that we are back to just states & surgeries\n",
    "#  *but* our sorting is still by the total that we \n",
    "# previously calculated.\n",
    "# spiffy!"
   ]
  },
  {
   "cell_type": "markdown",
   "metadata": {},
   "source": [
    "#### End aside!"
   ]
  },
  {
   "cell_type": "markdown",
   "metadata": {},
   "source": [
    "Now, we have to explicitly import market map, for example if we try:"
   ]
  },
  {
   "cell_type": "code",
   "execution_count": 103,
   "metadata": {},
   "outputs": [
    {
     "ename": "AttributeError",
     "evalue": "module 'bqplot' has no attribute 'market_map'",
     "output_type": "error",
     "traceback": [
      "\u001b[0;31m---------------------------------------------------------------------------\u001b[0m",
      "\u001b[0;31mAttributeError\u001b[0m                            Traceback (most recent call last)",
      "\u001b[0;32m/var/folders/t5/9xgccmv92hnfvjwd62mk8zqh0000gn/T/ipykernel_25996/3765666494.py\u001b[0m in \u001b[0;36m<module>\u001b[0;34m\u001b[0m\n\u001b[0;32m----> 1\u001b[0;31m \u001b[0mbqplot\u001b[0m\u001b[0;34m.\u001b[0m\u001b[0mmarket_map\u001b[0m\u001b[0;34m\u001b[0m\u001b[0;34m\u001b[0m\u001b[0m\n\u001b[0m",
      "\u001b[0;31mAttributeError\u001b[0m: module 'bqplot' has no attribute 'market_map'"
     ]
    }
   ],
   "source": [
    "bqplot.market_map"
   ]
  },
  {
   "cell_type": "markdown",
   "metadata": {},
   "source": [
    "We get an error.  By default bqplot does not import all packages, we have to explicitely import market_map:"
   ]
  },
  {
   "cell_type": "code",
   "execution_count": 104,
   "metadata": {},
   "outputs": [],
   "source": [
    "import bqplot.market_map # for access to market_map"
   ]
  },
  {
   "cell_type": "markdown",
   "metadata": {},
   "source": [
    "Now we'll do our usual `bqplot` thing with scales, axes and marks, but with our new `market_map` mark:"
   ]
  },
  {
   "cell_type": "code",
   "execution_count": 105,
   "metadata": {},
   "outputs": [],
   "source": [
    "# (1) scales\n",
    "x_sc, y_sc = bqplot.OrdinalScale(), bqplot.OrdinalScale() # note, just a different way to call things in Python\n",
    "c_sc = bqplot.ColorScale(scheme=\"Blues\")"
   ]
  },
  {
   "cell_type": "markdown",
   "metadata": {},
   "source": [
    "We only need a color axis:"
   ]
  },
  {
   "cell_type": "code",
   "execution_count": 106,
   "metadata": {},
   "outputs": [],
   "source": [
    "c_ax = bqplot.ColorAxis(scale = c_sc, orientation = 'vertical')"
   ]
  },
  {
   "cell_type": "markdown",
   "metadata": {},
   "source": [
    "What should we plot in color?  Let's take a look at the total discharges for the most popular surgical procedure (the 0th index):"
   ]
  },
  {
   "cell_type": "code",
   "execution_count": 107,
   "metadata": {},
   "outputs": [
    {
     "data": {
      "text/plain": [
       "(array([  855.,  9146.,  5692., 10472., 32930.,  7793.,  5689.,  1247.,\n",
       "         2119., 31086., 12405.,   784.,  6872.,  2665., 20706., 11813.,\n",
       "         6983.,  6926.,  5696., 11333.,  9708.,  2563., 16534., 11220.,\n",
       "        11783.,  4728.,  2259., 16189.,  2080.,  4448.,  2693., 11418.,\n",
       "         2212.,  2909., 21171., 16024.,  7751.,  5045., 18602.,  1336.,\n",
       "         8402.,  3200., 11133., 29410.,  4455., 13923.,   766., 10027.,\n",
       "         9482.,  2925.,   651.]),\n",
       " array(['AK', 'AL', 'AR', 'AZ', 'CA', 'CO', 'CT', 'DC', 'DE', 'FL', 'GA',\n",
       "        'HI', 'IA', 'ID', 'IL', 'IN', 'KS', 'KY', 'LA', 'MA', 'MD', 'ME',\n",
       "        'MI', 'MN', 'MO', 'MS', 'MT', 'NC', 'ND', 'NE', 'NH', 'NJ', 'NM',\n",
       "        'NV', 'NY', 'OH', 'OK', 'OR', 'PA', 'RI', 'SC', 'SD', 'TN', 'TX',\n",
       "        'UT', 'VA', 'VT', 'WA', 'WI', 'WV', 'WY'], dtype=object))"
      ]
     },
     "execution_count": 107,
     "metadata": {},
     "output_type": "execute_result"
    }
   ],
   "source": [
    "total_discharges.iloc[0].values, total_discharges.columns.values"
   ]
  },
  {
   "cell_type": "code",
   "execution_count": 108,
   "metadata": {},
   "outputs": [
    {
     "data": {
      "text/plain": [
       "'470 - MAJOR JOINT REPLACEMENT OR REATTACHMENT OF LOWER EXTREMITY W/O MCC'"
      ]
     },
     "execution_count": 108,
     "metadata": {},
     "output_type": "execute_result"
    }
   ],
   "source": [
    "total_discharges.iloc[0].name # most popular surgery"
   ]
  },
  {
   "cell_type": "code",
   "execution_count": 109,
   "metadata": {},
   "outputs": [
    {
     "data": {
      "text/plain": [
       "('871 - SEPTICEMIA OR SEVERE SEPSIS W/O MV 96+ HOURS W MCC',\n",
       " array([  452.,  6066.,  5187.,  6914., 45434.,  4400.,  6390.,   643.,\n",
       "         1556., 25209., 11571.,  1401.,  4431.,  1835., 19489., 10571.,\n",
       "         4708.,  7422.,  6235., 11102.,  8731.,  1876., 19827.,  6111.,\n",
       "        10430.,  5889.,  1298., 16713.,  1261.,  2110.,  1857., 13371.,\n",
       "         2195.,  2823., 27868., 14541.,  7000.,  3896., 17787.,  1535.,\n",
       "         7601.,  1574., 11295., 30595.,  2780., 15119.,   739., 10146.,\n",
       "         6712.,  3427.,   474.]))"
      ]
     },
     "execution_count": 109,
     "metadata": {},
     "output_type": "execute_result"
    }
   ],
   "source": [
    "total_discharges.iloc[1].name, total_discharges.iloc[1].values # the 2nd most popular"
   ]
  },
  {
   "cell_type": "markdown",
   "metadata": {},
   "source": [
    "Let's use MarketMap to plot the most popular surgery number by state:"
   ]
  },
  {
   "cell_type": "code",
   "execution_count": 110,
   "metadata": {},
   "outputs": [],
   "source": [
    "# (3) Marks... & fig?\n",
    "mmap = bqplot.market_map.MarketMap(color = total_discharges.iloc[0].values, \n",
    "                                  names = total_discharges.columns.values,\n",
    "                                  scales={'color':c_sc}, \n",
    "                                   axes=[c_ax])"
   ]
  },
  {
   "cell_type": "markdown",
   "metadata": {},
   "source": [
    "Let's show our map:"
   ]
  },
  {
   "cell_type": "code",
   "execution_count": 111,
   "metadata": {},
   "outputs": [
    {
     "data": {
      "application/vnd.jupyter.widget-view+json": {
       "model_id": "517cf753926145f5823fef0c1f81ac5b",
       "version_major": 2,
       "version_minor": 0
      },
      "text/plain": [
       "MarketMap(axes=[ColorAxis(scale=ColorScale(scheme='Blues'))], color=array([  855.,  9146.,  5692., 10472., 329…"
      ]
     },
     "metadata": {},
     "output_type": "display_data"
    }
   ],
   "source": [
    "mmap"
   ]
  },
  {
   "cell_type": "markdown",
   "metadata": {},
   "source": [
    "A few things to note: you'll see that I didn't do the last process of making a figure!  This is because MarketMap is a special kind of `bqplot` that makes its own self contained figure."
   ]
  },
  {
   "cell_type": "markdown",
   "metadata": {},
   "source": [
    "Ok, so far so good, but again, we don't have any interactivity!  Let's add some:"
   ]
  },
  {
   "cell_type": "code",
   "execution_count": 112,
   "metadata": {},
   "outputs": [
    {
     "data": {
      "application/vnd.jupyter.widget-view+json": {
       "model_id": "bcd5105b81344a5b80474b7240a4d176",
       "version_major": 2,
       "version_minor": 0
      },
      "text/plain": [
       "MarketMap(axes=[ColorAxis(orientation='vertical', scale=ColorScale(scheme='Blues'))], color=array([  855.,  91…"
      ]
     },
     "metadata": {},
     "output_type": "display_data"
    }
   ],
   "source": [
    "# (1) scales\n",
    "x_sc, y_sc = bqplot.OrdinalScale(), bqplot.OrdinalScale() # note, just a different way to call things in Python\n",
    "c_sc = bqplot.ColorScale(scheme=\"Blues\")\n",
    "# (2) axes\n",
    "c_ax = bqplot.ColorAxis(scale = c_sc, orientation = 'vertical')\n",
    "\n",
    "# (3/5) Marks/fig\n",
    "mmap = bqplot.market_map.MarketMap(color = total_discharges.iloc[0].values, \n",
    "                                  names = total_discharges.columns.values,\n",
    "                                  scales={'color':c_sc}, \n",
    "                                   axes=[c_ax])\n",
    "\n",
    "# (4) interactivity\n",
    "def show_data(change):\n",
    "    print(change)\n",
    "    \n",
    "mmap.observe(show_data, 'selected')\n",
    "\n",
    "mmap"
   ]
  },
  {
   "cell_type": "markdown",
   "metadata": {},
   "source": [
    "So we see while this is a new kind of `bqplot` object, it has all the \"changes\" we've become accustomed to.  \n",
    "\n",
    "Let's build up our interactivity:"
   ]
  },
  {
   "cell_type": "code",
   "execution_count": 113,
   "metadata": {},
   "outputs": [
    {
     "data": {
      "application/vnd.jupyter.widget-view+json": {
       "model_id": "5046e2015883425fa0c9c1f7ca1983e6",
       "version_major": 2,
       "version_minor": 0
      },
      "text/plain": [
       "MarketMap(axes=[ColorAxis(orientation='vertical', scale=ColorScale(scheme='Blues'))], color=array([  855.,  91…"
      ]
     },
     "metadata": {},
     "output_type": "display_data"
    }
   ],
   "source": [
    "# (1) scales\n",
    "x_sc, y_sc = bqplot.OrdinalScale(), bqplot.OrdinalScale() # note, just a different way to call things in Python\n",
    "c_sc = bqplot.ColorScale(scheme=\"Blues\")\n",
    "# (2) axes\n",
    "c_ax = bqplot.ColorAxis(scale = c_sc, orientation = 'vertical')\n",
    "\n",
    "# (3/5) Marks/fig\n",
    "mmap = bqplot.market_map.MarketMap(color = total_discharges.iloc[0].values, \n",
    "                                  names = total_discharges.columns.values,\n",
    "                                  scales={'color':c_sc}, \n",
    "                                   axes=[c_ax])\n",
    "\n",
    "# (4) interactivity\n",
    "def show_data(change):\n",
    "    print(change['owner'].selected)\n",
    "    \n",
    "mmap.observe(show_data, 'selected')\n",
    "\n",
    "mmap"
   ]
  },
  {
   "cell_type": "markdown",
   "metadata": {},
   "source": [
    "One thing we might want to do is sum up all of the discharges for all of the states selected.  How do we map states and names?  Let's print out a few more things:"
   ]
  },
  {
   "cell_type": "code",
   "execution_count": 114,
   "metadata": {},
   "outputs": [
    {
     "data": {
      "application/vnd.jupyter.widget-view+json": {
       "model_id": "59357c387e3a4540830ce03301b79213",
       "version_major": 2,
       "version_minor": 0
      },
      "text/plain": [
       "MarketMap(axes=[ColorAxis(orientation='vertical', scale=ColorScale(scheme='Blues'))], color=array([  855.,  91…"
      ]
     },
     "metadata": {},
     "output_type": "display_data"
    }
   ],
   "source": [
    "# (1) scales\n",
    "x_sc, y_sc = bqplot.OrdinalScale(), bqplot.OrdinalScale() # note, just a different way to call things in Python\n",
    "c_sc = bqplot.ColorScale(scheme=\"Blues\")\n",
    "# (2) axes\n",
    "c_ax = bqplot.ColorAxis(scale = c_sc, orientation = 'vertical')\n",
    "\n",
    "# (3/5) Marks/fig\n",
    "mmap = bqplot.market_map.MarketMap(color = total_discharges.iloc[0].values, \n",
    "                                  names = total_discharges.columns.values,\n",
    "                                  scales={'color':c_sc}, \n",
    "                                   axes=[c_ax])\n",
    "\n",
    "# (4) interactivity\n",
    "def show_data(change):\n",
    "    print(change['owner'].selected)\n",
    "    print(change['owner'].color)\n",
    "    print(change['owner'].names)\n",
    "    \n",
    "mmap.observe(show_data, 'selected')\n",
    "\n",
    "mmap"
   ]
  },
  {
   "cell_type": "markdown",
   "metadata": {},
   "source": [
    "From the above we see we get the entire list of names *and* total discharges each time we click!  So we can use these:"
   ]
  },
  {
   "cell_type": "code",
   "execution_count": 115,
   "metadata": {},
   "outputs": [
    {
     "data": {
      "application/vnd.jupyter.widget-view+json": {
       "model_id": "587871b08b6b407c9156ffc281fddb6c",
       "version_major": 2,
       "version_minor": 0
      },
      "text/plain": [
       "VBox(children=(Label(value=''), MarketMap(axes=[ColorAxis(orientation='vertical', scale=ColorScale(scheme='Blu…"
      ]
     },
     "metadata": {},
     "output_type": "display_data"
    }
   ],
   "source": [
    "# (1) scales\n",
    "x_sc, y_sc = bqplot.OrdinalScale(), bqplot.OrdinalScale() # note, just a different way to call things in Python\n",
    "c_sc = bqplot.ColorScale(scheme=\"Blues\")\n",
    "# (2) axes\n",
    "c_ax = bqplot.ColorAxis(scale = c_sc, orientation = 'vertical')\n",
    "\n",
    "# (3/5) Marks/fig\n",
    "mmap = bqplot.market_map.MarketMap(color = total_discharges.iloc[0].values, \n",
    "                                  names = total_discharges.columns.values,\n",
    "                                  scales={'color':c_sc}, \n",
    "                                   axes=[c_ax])\n",
    "\n",
    "# (4) interactivity\n",
    "myLabel = ipywidgets.Label() # show total number of discharges\n",
    "def show_data(change):\n",
    "    v = 0 # sum up discharges\n",
    "    for s in change['owner'].selected: # for all selected states\n",
    "        #print(s)\n",
    "        discharges_in_state = change['owner'].color[change['owner'].names == s] # color map value for this state\n",
    "        v += discharges_in_state # add it up\n",
    "    myLabel.value = 'Summed discharges for ' + total_discharges.iloc[0].name + ' = ' + str(int(v))\n",
    "    # the middle part just reminds us what name we are using\n",
    "    \n",
    "mmap.observe(show_data, 'selected')\n",
    "\n",
    "myDashboard = ipywidgets.VBox([myLabel, mmap])\n",
    "myDashboard"
   ]
  },
  {
   "cell_type": "markdown",
   "metadata": {},
   "source": [
    "So, MarketMap is a nice way to display map values without having to deal with any projection stuff."
   ]
  },
  {
   "cell_type": "code",
   "execution_count": null,
   "metadata": {},
   "outputs": [],
   "source": []
  }
 ],
 "metadata": {
  "kernelspec": {
   "display_name": "Python 3 (ipykernel)",
   "language": "python",
   "name": "python3"
  },
  "language_info": {
   "codemirror_mode": {
    "name": "ipython",
    "version": 3
   },
   "file_extension": ".py",
   "mimetype": "text/x-python",
   "name": "python",
   "nbconvert_exporter": "python",
   "pygments_lexer": "ipython3",
   "version": "3.7.12"
  }
 },
 "nbformat": 4,
 "nbformat_minor": 4
}
