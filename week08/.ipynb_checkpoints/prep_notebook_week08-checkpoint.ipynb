{
 "cells": [
  {
   "cell_type": "code",
   "execution_count": null,
   "metadata": {},
   "outputs": [],
   "source": [
    "%matplotlib inline"
   ]
  },
  {
   "cell_type": "code",
   "execution_count": null,
   "metadata": {},
   "outputs": [],
   "source": [
    "import cartopy\n",
    "import pandas as pd\n",
    "import matplotlib.pyplot as plt"
   ]
  },
  {
   "cell_type": "code",
   "execution_count": null,
   "metadata": {},
   "outputs": [],
   "source": [
    "plt.rcParams[\"figure.dpi\"] = 300"
   ]
  },
  {
   "cell_type": "code",
   "execution_count": null,
   "metadata": {},
   "outputs": [],
   "source": [
    "states = cartopy.io.shapereader.natural_earth(resolution='110m', category='cultural',\n",
    "                                    name='admin_1_states_provinces_lakes_shp')"
   ]
  },
  {
   "cell_type": "code",
   "execution_count": null,
   "metadata": {},
   "outputs": [],
   "source": [
    "reader = cartopy.io.shapereader.Reader(states)"
   ]
  },
  {
   "cell_type": "code",
   "execution_count": null,
   "metadata": {},
   "outputs": [],
   "source": [
    "fig = plt.figure()\n",
    "ax = fig.add_subplot(111, projection = cartopy.crs.PlateCarree())\n",
    "ax.coastlines()\n",
    "plt.title(\"Equirectangular\");"
   ]
  },
  {
   "cell_type": "code",
   "execution_count": null,
   "metadata": {},
   "outputs": [],
   "source": [
    "ny_lon, ny_lat = -75, 43"
   ]
  },
  {
   "cell_type": "code",
   "execution_count": null,
   "metadata": {},
   "outputs": [],
   "source": [
    "def make_proj(proj_name):\n",
    "    fig = plt.figure()\n",
    "    proj = getattr(cartopy.crs, proj_name)\n",
    "    ax = fig.add_subplot(111, projection = proj())\n",
    "    ax.gridlines()\n",
    "    ax.coastlines()\n",
    "    ax.set_global()\n",
    "    plt.title(proj_name)\n",
    "    plt.savefig(\"images/{}.png\".format(proj_name.lower()))\n",
    "    ax.tissot(500, alpha=0.25, facecolor='red')\n",
    "    plt.savefig(\"images/{}_tissot.png\".format(proj_name.lower()))"
   ]
  },
  {
   "cell_type": "code",
   "execution_count": null,
   "metadata": {},
   "outputs": [],
   "source": [
    "for proj in [\"Mercator\", \"PlateCarree\", \"Gnomonic\", \"TransverseMercator\", \"LambertCylindrical\", \"Mollweide\", \"Sinusoidal\"]:\n",
    "    make_proj(proj)\n",
    "    print(\"Done with\", proj)"
   ]
  },
  {
   "cell_type": "code",
   "execution_count": null,
   "metadata": {},
   "outputs": [],
   "source": [
    "champaign_lat, champaign_lon = 40.1164, -88.2434\n",
    "antananarivo_lat, antananarivo_lon = -18.8792, 47.5079"
   ]
  },
  {
   "cell_type": "code",
   "execution_count": null,
   "metadata": {},
   "outputs": [],
   "source": [
    "fig = plt.figure()\n",
    "ax = fig.add_subplot(111, projection = cartopy.crs.PlateCarree())\n",
    "ax.gridlines()\n",
    "ax.coastlines()\n",
    "ax.set_global()\n",
    "ax.plot([champaign_lon, antananarivo_lon], [champaign_lat, antananarivo_lat], transform = cartopy.crs.PlateCarree())\n",
    "ax.plot([champaign_lon, antananarivo_lon], [champaign_lat, antananarivo_lat], transform = cartopy.crs.Geodetic())"
   ]
  },
  {
   "cell_type": "code",
   "execution_count": null,
   "metadata": {},
   "outputs": [],
   "source": [
    "fig = plt.figure()\n",
    "ax = fig.add_subplot(111, projection = cartopy.crs.Mollweide())\n",
    "ax.gridlines()\n",
    "ax.coastlines()\n",
    "ax.set_global()\n",
    "ax.plot([champaign_lon, antananarivo_lon], [champaign_lat, antananarivo_lat], transform = cartopy.crs.PlateCarree())\n",
    "ax.plot([champaign_lon, antananarivo_lon], [champaign_lat, antananarivo_lat], transform = cartopy.crs.Geodetic())"
   ]
  },
  {
   "cell_type": "code",
   "execution_count": null,
   "metadata": {},
   "outputs": [],
   "source": []
  }
 ],
 "metadata": {
  "kernelspec": {
   "display_name": "Python 3",
   "language": "python",
   "name": "python3"
  },
  "language_info": {
   "codemirror_mode": {
    "name": "ipython",
    "version": 3
   },
   "file_extension": ".py",
   "mimetype": "text/x-python",
   "name": "python",
   "nbconvert_exporter": "python",
   "pygments_lexer": "ipython3",
   "version": "3.7.6"
  }
 },
 "nbformat": 4,
 "nbformat_minor": 2
}
