{
 "cells": [
  {
   "cell_type": "code",
   "execution_count": 1,
   "metadata": {},
   "outputs": [],
   "source": [
    "import bqplot\n",
    "import numpy as np\n",
    "import ipywidgets"
   ]
  },
  {
   "cell_type": "markdown",
   "metadata": {},
   "source": [
    "## 1. Random Line plot"
   ]
  },
  {
   "cell_type": "code",
   "execution_count": 2,
   "metadata": {},
   "outputs": [],
   "source": [
    "# 1. Data\n",
    "x = np.arange(100)"
   ]
  },
  {
   "cell_type": "code",
   "execution_count": 3,
   "metadata": {},
   "outputs": [
    {
     "data": {
      "text/plain": [
       "array([ 0,  1,  2,  3,  4,  5,  6,  7,  8,  9, 10, 11, 12, 13, 14, 15, 16,\n",
       "       17, 18, 19, 20, 21, 22, 23, 24, 25, 26, 27, 28, 29, 30, 31, 32, 33,\n",
       "       34, 35, 36, 37, 38, 39, 40, 41, 42, 43, 44, 45, 46, 47, 48, 49, 50,\n",
       "       51, 52, 53, 54, 55, 56, 57, 58, 59, 60, 61, 62, 63, 64, 65, 66, 67,\n",
       "       68, 69, 70, 71, 72, 73, 74, 75, 76, 77, 78, 79, 80, 81, 82, 83, 84,\n",
       "       85, 86, 87, 88, 89, 90, 91, 92, 93, 94, 95, 96, 97, 98, 99])"
      ]
     },
     "execution_count": 3,
     "metadata": {},
     "output_type": "execute_result"
    }
   ],
   "source": [
    "x"
   ]
  },
  {
   "cell_type": "code",
   "execution_count": 4,
   "metadata": {},
   "outputs": [],
   "source": [
    "y = np.random.random(100)"
   ]
  },
  {
   "cell_type": "code",
   "execution_count": 5,
   "metadata": {},
   "outputs": [
    {
     "data": {
      "text/plain": [
       "array([0.46122347, 0.44151456, 0.1111893 , 0.62253545, 0.32716589,\n",
       "       0.03439785, 0.66088521, 0.46552615, 0.99963127, 0.87534873,\n",
       "       0.07755301, 0.38566262, 0.01930129, 0.08676906, 0.17311304,\n",
       "       0.83492398, 0.89613075, 0.71905952, 0.39212283, 0.57567524,\n",
       "       0.02493849, 0.60386435, 0.70610624, 0.18688038, 0.5498312 ,\n",
       "       0.53357392, 0.44587048, 0.74272883, 0.59682042, 0.60218623,\n",
       "       0.81615802, 0.24803489, 0.14918757, 0.60753268, 0.38431671,\n",
       "       0.93763148, 0.33292647, 0.81747029, 0.88141489, 0.89628229,\n",
       "       0.20950579, 0.60870209, 0.31660486, 0.54220475, 0.85552366,\n",
       "       0.97634819, 0.65067141, 0.53666175, 0.13934266, 0.68185179,\n",
       "       0.93645056, 0.67069007, 0.49800841, 0.9921424 , 0.6539567 ,\n",
       "       0.80144463, 0.44168627, 0.10597509, 0.54556605, 0.17411885,\n",
       "       0.03053323, 0.5715797 , 0.59394428, 0.21438789, 0.2338021 ,\n",
       "       0.30595668, 0.21681254, 0.94373632, 0.62069129, 0.77478568,\n",
       "       0.32008104, 0.39744562, 0.09458661, 0.31254953, 0.99469902,\n",
       "       0.61409039, 0.32235428, 0.50080406, 0.77816043, 0.18717512,\n",
       "       0.9641267 , 0.94160477, 0.1469734 , 0.79559214, 0.45714302,\n",
       "       0.29848422, 0.10466857, 0.4300981 , 0.60567161, 0.71474495,\n",
       "       0.93252872, 0.31754331, 0.67369256, 0.30807823, 0.04280019,\n",
       "       0.09271489, 0.42574715, 0.29802448, 0.93670552, 0.23157204])"
      ]
     },
     "execution_count": 5,
     "metadata": {},
     "output_type": "execute_result"
    }
   ],
   "source": [
    "y"
   ]
  },
  {
   "cell_type": "code",
   "execution_count": 6,
   "metadata": {},
   "outputs": [],
   "source": [
    "# 2. Pick scales -- linear data in x & y, use linear scales in x & y\n",
    "x_sc = bqplot.LinearScale()\n",
    "y_sc = bqplot.LinearScale()"
   ]
  },
  {
   "cell_type": "code",
   "execution_count": 7,
   "metadata": {},
   "outputs": [],
   "source": [
    "bqplot.LinearScale? # so this is basically a mapping between data & 2D-plot space"
   ]
  },
  {
   "cell_type": "code",
   "execution_count": 8,
   "metadata": {},
   "outputs": [],
   "source": [
    "# 3. Marks -- Line plot for now\n",
    "lines = bqplot.Lines(x=x, y=y, scales = {'x':x_sc, 'y':y_sc})\n",
    "# sometimes we put interactivity here"
   ]
  },
  {
   "cell_type": "code",
   "execution_count": 9,
   "metadata": {},
   "outputs": [],
   "source": [
    "bqplot.Lines? # how our data will \"look\" on our plot"
   ]
  },
  {
   "cell_type": "code",
   "execution_count": 10,
   "metadata": {},
   "outputs": [],
   "source": [
    "# 4. Axis for, in this case, x & y\n",
    "ax_x = bqplot.Axis(scale=x_sc, label='X Value')\n",
    "ax_y = bqplot.Axis(scale=y_sc, label='Y Value', orientation='vertical')"
   ]
  },
  {
   "cell_type": "code",
   "execution_count": 11,
   "metadata": {},
   "outputs": [],
   "source": [
    "bqplot.Axis?"
   ]
  },
  {
   "cell_type": "code",
   "execution_count": 12,
   "metadata": {},
   "outputs": [],
   "source": [
    "# 5. often times interactivity goes here... but not yet!"
   ]
  },
  {
   "cell_type": "code",
   "execution_count": 13,
   "metadata": {},
   "outputs": [],
   "source": [
    "# Finally: put everything together into a Figure object\n",
    "fig = bqplot.Figure(marks=[lines], axes=[ax_x, ax_y])"
   ]
  },
  {
   "cell_type": "code",
   "execution_count": 14,
   "metadata": {},
   "outputs": [],
   "source": [
    "bqplot.Figure?"
   ]
  },
  {
   "cell_type": "code",
   "execution_count": 17,
   "metadata": {},
   "outputs": [
    {
     "data": {
      "application/vnd.jupyter.widget-view+json": {
       "model_id": "81124b8ba4584bfa8013e59dbece7d9d",
       "version_major": 2,
       "version_minor": 0
      },
      "text/plain": [
       "Figure(axes=[Axis(label='X Value', scale=LinearScale(), side='bottom'), Axis(label='Y Value', orientation='ver…"
      ]
     },
     "metadata": {},
     "output_type": "display_data"
    }
   ],
   "source": [
    "#display(fig)\n",
    "fig"
   ]
  },
  {
   "cell_type": "markdown",
   "metadata": {},
   "source": [
    "So we did all this weird axes/scales/figure/marks stuff, to add interactions -- let's try adding a PanZoom interaction!"
   ]
  },
  {
   "cell_type": "code",
   "execution_count": 18,
   "metadata": {},
   "outputs": [],
   "source": [
    "pz = bqplot.interacts.PanZoom( scales = {'x': [x_sc], 'y': [y_sc]})"
   ]
  },
  {
   "cell_type": "code",
   "execution_count": 23,
   "metadata": {},
   "outputs": [],
   "source": [
    "bqplot.interacts.PanZoom?"
   ]
  },
  {
   "cell_type": "code",
   "execution_count": 21,
   "metadata": {},
   "outputs": [],
   "source": [
    "fig = bqplot.Figure(marks=[lines], axes=[ax_x, ax_y], interaction=pz)"
   ]
  },
  {
   "cell_type": "code",
   "execution_count": 22,
   "metadata": {},
   "outputs": [
    {
     "data": {
      "application/vnd.jupyter.widget-view+json": {
       "model_id": "c310d42fc48c446488b4db71fb390747",
       "version_major": 2,
       "version_minor": 0
      },
      "text/plain": [
       "Figure(axes=[Axis(label='X Value', scale=LinearScale(), side='bottom'), Axis(label='Y Value', orientation='ver…"
      ]
     },
     "metadata": {},
     "output_type": "display_data"
    }
   ],
   "source": [
    "fig"
   ]
  },
  {
   "cell_type": "markdown",
   "metadata": {},
   "source": [
    "## 2. Random scatter plot"
   ]
  },
  {
   "cell_type": "code",
   "execution_count": 24,
   "metadata": {},
   "outputs": [],
   "source": [
    "# 1. Data\n",
    "x = np.random.random(100)"
   ]
  },
  {
   "cell_type": "code",
   "execution_count": 25,
   "metadata": {},
   "outputs": [
    {
     "data": {
      "text/plain": [
       "array([0.03448209, 0.10931299, 0.16087847, 0.36668644, 0.56893066,\n",
       "       0.65678566, 0.78152921, 0.7458284 , 0.76321515, 0.93704451,\n",
       "       0.76704335, 0.34532201, 0.0507685 , 0.37185718, 0.11473612,\n",
       "       0.73531584, 0.76687874, 0.88144521, 0.26277716, 0.71176752,\n",
       "       0.09810827, 0.8258311 , 0.31442952, 0.51452295, 0.32831092,\n",
       "       0.86401844, 0.45051218, 0.53121204, 0.32471366, 0.35169893,\n",
       "       0.82591383, 0.27608212, 0.81192884, 0.3384185 , 0.40344093,\n",
       "       0.53744622, 0.27169063, 0.64835151, 0.19608727, 0.70969556,\n",
       "       0.56800833, 0.16611368, 0.97125951, 0.51905726, 0.49304465,\n",
       "       0.82708318, 0.24147173, 0.45624365, 0.6222716 , 0.04574119,\n",
       "       0.82054072, 0.41882995, 0.51693418, 0.34139965, 0.28332709,\n",
       "       0.2324163 , 0.75864439, 0.12854946, 0.49024657, 0.36124736,\n",
       "       0.45761223, 0.33475659, 0.01659763, 0.91285045, 0.46340185,\n",
       "       0.49756991, 0.2453416 , 0.28589968, 0.69991454, 0.37025564,\n",
       "       0.11407419, 0.91692293, 0.7469402 , 0.81683611, 0.47864281,\n",
       "       0.33282085, 0.20898947, 0.10802837, 0.00292816, 0.25790605,\n",
       "       0.2381829 , 0.25861987, 0.06195732, 0.38351416, 0.67381444,\n",
       "       0.49093949, 0.6800416 , 0.40645916, 0.02252633, 0.36348447,\n",
       "       0.86047478, 0.33444751, 0.02086691, 0.56033816, 0.16029865,\n",
       "       0.48282216, 0.80588271, 0.20750696, 0.41712877, 0.263269  ])"
      ]
     },
     "execution_count": 25,
     "metadata": {},
     "output_type": "execute_result"
    }
   ],
   "source": [
    "x"
   ]
  },
  {
   "cell_type": "code",
   "execution_count": 26,
   "metadata": {},
   "outputs": [],
   "source": [
    "y = np.random.random(100)"
   ]
  },
  {
   "cell_type": "code",
   "execution_count": 27,
   "metadata": {},
   "outputs": [
    {
     "data": {
      "text/plain": [
       "array([0.36018156, 0.64825979, 0.62858504, 0.79245382, 0.04759542,\n",
       "       0.79779226, 0.31685257, 0.07998768, 0.75092387, 0.42242889,\n",
       "       0.51045386, 0.68840989, 0.88516467, 0.11842245, 0.81789376,\n",
       "       0.23966877, 0.97333194, 0.76708968, 0.6965742 , 0.88320432,\n",
       "       0.86490792, 0.57254605, 0.7812842 , 0.98362059, 0.37231873,\n",
       "       0.56322321, 0.13672946, 0.80344057, 0.0432476 , 0.04058671,\n",
       "       0.3308263 , 0.14504108, 0.11713596, 0.93001856, 0.69700524,\n",
       "       0.04702853, 0.05123171, 0.88770543, 0.72165254, 0.22231494,\n",
       "       0.73017774, 0.99550984, 0.68328093, 0.58444651, 0.31895253,\n",
       "       0.175433  , 0.04330077, 0.16418444, 0.23125295, 0.93188555,\n",
       "       0.08323757, 0.31237806, 0.284286  , 0.76518229, 0.55491705,\n",
       "       0.27633258, 0.65905243, 0.56936207, 0.5786479 , 0.64135523,\n",
       "       0.69832045, 0.8642296 , 0.73974577, 0.01116523, 0.05170672,\n",
       "       0.22849442, 0.1068327 , 0.89899437, 0.97644821, 0.32702821,\n",
       "       0.40097209, 0.75580861, 0.59699624, 0.92128131, 0.39582102,\n",
       "       0.46342679, 0.98915827, 0.53588046, 0.5775578 , 0.2915206 ,\n",
       "       0.37463312, 0.18140526, 0.47150003, 0.74176315, 0.76288959,\n",
       "       0.60133307, 0.64187023, 0.55756484, 0.63921841, 0.09203044,\n",
       "       0.14561376, 0.73086979, 0.7338273 , 0.07086047, 0.88231662,\n",
       "       0.59591431, 0.78336002, 0.53032046, 0.49223314, 0.49608966])"
      ]
     },
     "execution_count": 27,
     "metadata": {},
     "output_type": "execute_result"
    }
   ],
   "source": [
    "y"
   ]
  },
  {
   "cell_type": "code",
   "execution_count": 28,
   "metadata": {},
   "outputs": [],
   "source": [
    "# 2. create some linear scales (again!)\n",
    "x_sc = bqplot.LinearScale()\n",
    "y_sc = bqplot.LinearScale()"
   ]
  },
  {
   "cell_type": "code",
   "execution_count": 29,
   "metadata": {},
   "outputs": [],
   "source": [
    "# 3. Axis objects based on these scales\n",
    "ax_x = bqplot.Axis(scale = x_sc, label=\"X\")\n",
    "ax_y = bqplot.Axis(scale = y_sc, label=\"Y\", orientation='vertical')"
   ]
  },
  {
   "cell_type": "markdown",
   "metadata": {},
   "source": [
    "Before we did a \"Line\" mark.  For a scatter plot, we'll do a \"Scatter\" mark!"
   ]
  },
  {
   "cell_type": "code",
   "execution_count": 30,
   "metadata": {},
   "outputs": [],
   "source": [
    "# 4. Mark\n",
    "scatters = bqplot.Scatter(x = x, y = y, scales={'x':x_sc, 'y':y_sc})"
   ]
  },
  {
   "cell_type": "code",
   "execution_count": 31,
   "metadata": {},
   "outputs": [],
   "source": [
    "bqplot.Scatter?"
   ]
  },
  {
   "cell_type": "code",
   "execution_count": 33,
   "metadata": {},
   "outputs": [],
   "source": [
    "# 5. interaction -- FastIntervalSelector\n",
    "#.  I want to select an interval of points along the x-axis\n",
    "bqplot.interacts.FastIntervalSelector?"
   ]
  },
  {
   "cell_type": "code",
   "execution_count": 34,
   "metadata": {},
   "outputs": [],
   "source": [
    "selector = bqplot.interacts.FastIntervalSelector(scale=x_sc, marks=[scatters])"
   ]
  },
  {
   "cell_type": "code",
   "execution_count": 35,
   "metadata": {},
   "outputs": [
    {
     "data": {
      "application/vnd.jupyter.widget-view+json": {
       "model_id": "65152d8364ac49f285aecd61f778cded",
       "version_major": 2,
       "version_minor": 0
      },
      "text/plain": [
       "Figure(axes=[Axis(label='X', scale=LinearScale(), side='bottom'), Axis(label='Y', orientation='vertical', scal…"
      ]
     },
     "metadata": {},
     "output_type": "display_data"
    }
   ],
   "source": [
    "# finally -- a figure!\n",
    "fig = bqplot.Figure(marks=[scatters], axes=[ax_x, ax_y], interaction = selector)\n",
    "fig"
   ]
  },
  {
   "cell_type": "code",
   "execution_count": 36,
   "metadata": {},
   "outputs": [
    {
     "data": {
      "text/plain": [
       "array([0.51203008, 0.84865143])"
      ]
     },
     "execution_count": 36,
     "metadata": {},
     "output_type": "execute_result"
    }
   ],
   "source": [
    "selector.selected"
   ]
  },
  {
   "cell_type": "markdown",
   "metadata": {},
   "source": [
    "We can change the look of the \"scatters\" marks based on selection:"
   ]
  },
  {
   "cell_type": "code",
   "execution_count": 37,
   "metadata": {},
   "outputs": [],
   "source": [
    "scatters.unselected_style = {'opacity':0.8} # a little see-through when not selected\n",
    "scatters.selected_style={'fill':'red', 'stroke':'yellow'}"
   ]
  },
  {
   "cell_type": "code",
   "execution_count": 38,
   "metadata": {},
   "outputs": [
    {
     "data": {
      "application/vnd.jupyter.widget-view+json": {
       "model_id": "65152d8364ac49f285aecd61f778cded",
       "version_major": 2,
       "version_minor": 0
      },
      "text/plain": [
       "Figure(axes=[Axis(label='X', scale=LinearScale(), side='bottom'), Axis(label='Y', orientation='vertical', scal…"
      ]
     },
     "metadata": {},
     "output_type": "display_data"
    }
   ],
   "source": [
    "fig"
   ]
  },
  {
   "cell_type": "code",
   "execution_count": 39,
   "metadata": {},
   "outputs": [
    {
     "data": {
      "text/plain": [
       "array([0.03448209, 0.10931299, 0.16087847, 0.36668644, 0.56893066,\n",
       "       0.65678566, 0.78152921, 0.7458284 , 0.76321515, 0.93704451,\n",
       "       0.76704335, 0.34532201, 0.0507685 , 0.37185718, 0.11473612,\n",
       "       0.73531584, 0.76687874, 0.88144521, 0.26277716, 0.71176752,\n",
       "       0.09810827, 0.8258311 , 0.31442952, 0.51452295, 0.32831092,\n",
       "       0.86401844, 0.45051218, 0.53121204, 0.32471366, 0.35169893,\n",
       "       0.82591383, 0.27608212, 0.81192884, 0.3384185 , 0.40344093,\n",
       "       0.53744622, 0.27169063, 0.64835151, 0.19608727, 0.70969556,\n",
       "       0.56800833, 0.16611368, 0.97125951, 0.51905726, 0.49304465,\n",
       "       0.82708318, 0.24147173, 0.45624365, 0.6222716 , 0.04574119,\n",
       "       0.82054072, 0.41882995, 0.51693418, 0.34139965, 0.28332709,\n",
       "       0.2324163 , 0.75864439, 0.12854946, 0.49024657, 0.36124736,\n",
       "       0.45761223, 0.33475659, 0.01659763, 0.91285045, 0.46340185,\n",
       "       0.49756991, 0.2453416 , 0.28589968, 0.69991454, 0.37025564,\n",
       "       0.11407419, 0.91692293, 0.7469402 , 0.81683611, 0.47864281,\n",
       "       0.33282085, 0.20898947, 0.10802837, 0.00292816, 0.25790605,\n",
       "       0.2381829 , 0.25861987, 0.06195732, 0.38351416, 0.67381444,\n",
       "       0.49093949, 0.6800416 , 0.40645916, 0.02252633, 0.36348447,\n",
       "       0.86047478, 0.33444751, 0.02086691, 0.56033816, 0.16029865,\n",
       "       0.48282216, 0.80588271, 0.20750696, 0.41712877, 0.263269  ])"
      ]
     },
     "execution_count": 39,
     "metadata": {},
     "output_type": "execute_result"
    }
   ],
   "source": [
    "x"
   ]
  },
  {
   "cell_type": "code",
   "execution_count": 40,
   "metadata": {},
   "outputs": [
    {
     "data": {
      "text/plain": [
       "array([0.36018156, 0.64825979, 0.62858504, 0.79245382, 0.04759542,\n",
       "       0.79779226, 0.31685257, 0.07998768, 0.75092387, 0.42242889,\n",
       "       0.51045386, 0.68840989, 0.88516467, 0.11842245, 0.81789376,\n",
       "       0.23966877, 0.97333194, 0.76708968, 0.6965742 , 0.88320432,\n",
       "       0.86490792, 0.57254605, 0.7812842 , 0.98362059, 0.37231873,\n",
       "       0.56322321, 0.13672946, 0.80344057, 0.0432476 , 0.04058671,\n",
       "       0.3308263 , 0.14504108, 0.11713596, 0.93001856, 0.69700524,\n",
       "       0.04702853, 0.05123171, 0.88770543, 0.72165254, 0.22231494,\n",
       "       0.73017774, 0.99550984, 0.68328093, 0.58444651, 0.31895253,\n",
       "       0.175433  , 0.04330077, 0.16418444, 0.23125295, 0.93188555,\n",
       "       0.08323757, 0.31237806, 0.284286  , 0.76518229, 0.55491705,\n",
       "       0.27633258, 0.65905243, 0.56936207, 0.5786479 , 0.64135523,\n",
       "       0.69832045, 0.8642296 , 0.73974577, 0.01116523, 0.05170672,\n",
       "       0.22849442, 0.1068327 , 0.89899437, 0.97644821, 0.32702821,\n",
       "       0.40097209, 0.75580861, 0.59699624, 0.92128131, 0.39582102,\n",
       "       0.46342679, 0.98915827, 0.53588046, 0.5775578 , 0.2915206 ,\n",
       "       0.37463312, 0.18140526, 0.47150003, 0.74176315, 0.76288959,\n",
       "       0.60133307, 0.64187023, 0.55756484, 0.63921841, 0.09203044,\n",
       "       0.14561376, 0.73086979, 0.7338273 , 0.07086047, 0.88231662,\n",
       "       0.59591431, 0.78336002, 0.53032046, 0.49223314, 0.49608966])"
      ]
     },
     "execution_count": 40,
     "metadata": {},
     "output_type": "execute_result"
    }
   ],
   "source": [
    "y"
   ]
  },
  {
   "cell_type": "code",
   "execution_count": 41,
   "metadata": {},
   "outputs": [
    {
     "data": {
      "text/plain": [
       "(100,)"
      ]
     },
     "execution_count": 41,
     "metadata": {},
     "output_type": "execute_result"
    }
   ],
   "source": [
    "y.shape"
   ]
  },
  {
   "cell_type": "markdown",
   "metadata": {},
   "source": [
    "## 3. Heatmap (2d Data) with random points"
   ]
  },
  {
   "cell_type": "code",
   "execution_count": 42,
   "metadata": {},
   "outputs": [],
   "source": [
    "# 1. Data\n",
    "data = np.random.random( (10, 10) )"
   ]
  },
  {
   "cell_type": "code",
   "execution_count": 74,
   "metadata": {},
   "outputs": [
    {
     "data": {
      "text/plain": [
       "array([[0.58989414, 0.68397708, 0.66278601, 0.5408976 , 0.9693185 ,\n",
       "        0.68700492, 0.173914  , 0.64861625, 0.30780544, 0.11771333],\n",
       "       [0.41375264, 0.60636106, 0.05731498, 0.67746146, 0.14992504,\n",
       "        0.04442673, 0.90670582, 0.51955875, 0.96080304, 0.5515289 ],\n",
       "       [0.48097145, 0.37344345, 0.17353181, 0.4578347 , 0.19953201,\n",
       "        0.03414197, 0.01511233, 0.37247233, 0.59231042, 0.31648153],\n",
       "       [0.38612009, 0.22631793, 0.96126498, 0.89103813, 0.30569113,\n",
       "        0.1460685 , 0.75010262, 0.76501239, 0.04677228, 0.34132688],\n",
       "       [0.37063089, 0.5650219 , 0.60433404, 0.68985143, 0.64837045,\n",
       "        0.94918305, 0.73891296, 0.49631326, 0.93788438, 0.30722456],\n",
       "       [0.64345905, 0.23958286, 0.0480288 , 0.90451934, 0.99126259,\n",
       "        0.84703278, 0.12930839, 0.83114047, 0.74514455, 0.73679432],\n",
       "       [0.60245444, 0.55327658, 0.9622388 , 0.609966  , 0.09229455,\n",
       "        0.79087311, 0.30824441, 0.79772483, 0.12119156, 0.89343157],\n",
       "       [0.57306867, 0.31830395, 0.90128099, 0.98548416, 0.86956019,\n",
       "        0.09300852, 0.86782108, 0.85425933, 0.31054986, 0.71924912],\n",
       "       [0.99477961, 0.58546429, 0.4801721 , 0.01099087, 0.68875669,\n",
       "        0.64378786, 0.85037977, 0.28783255, 0.76530995, 0.35543003],\n",
       "       [0.49386181, 0.38796121, 0.21449907, 0.15691844, 0.830791  ,\n",
       "        0.93833936, 0.59127738, 0.93535154, 0.81481136, 0.60710499]])"
      ]
     },
     "execution_count": 74,
     "metadata": {},
     "output_type": "execute_result"
    }
   ],
   "source": [
    "data"
   ]
  },
  {
   "cell_type": "code",
   "execution_count": 75,
   "metadata": {},
   "outputs": [
    {
     "data": {
      "text/plain": [
       "(10, 10)"
      ]
     },
     "execution_count": 75,
     "metadata": {},
     "output_type": "execute_result"
    }
   ],
   "source": [
    "data.shape"
   ]
  },
  {
   "cell_type": "code",
   "execution_count": 76,
   "metadata": {},
   "outputs": [
    {
     "data": {
      "text/plain": [
       "0.6870049178157462"
      ]
     },
     "execution_count": 76,
     "metadata": {},
     "output_type": "execute_result"
    }
   ],
   "source": [
    "data[0, 5]"
   ]
  },
  {
   "cell_type": "code",
   "execution_count": 45,
   "metadata": {},
   "outputs": [],
   "source": [
    "# 2. Scale - color scale\n",
    "col_sc = bqplot.ColorScale()"
   ]
  },
  {
   "cell_type": "code",
   "execution_count": 46,
   "metadata": {},
   "outputs": [],
   "source": [
    "bqplot.ColorScale?"
   ]
  },
  {
   "cell_type": "code",
   "execution_count": 47,
   "metadata": {},
   "outputs": [],
   "source": [
    "# 3. Axis -- NOT plot axis"
   ]
  },
  {
   "cell_type": "code",
   "execution_count": 56,
   "metadata": {},
   "outputs": [],
   "source": [
    "bqplot.GridHeatMap?"
   ]
  },
  {
   "cell_type": "code",
   "execution_count": 49,
   "metadata": {},
   "outputs": [],
   "source": [
    "# 4. Mark -- heatmap\n",
    "heat_map = bqplot.GridHeatMap(color = data, scales = {'color':col_sc})"
   ]
  },
  {
   "cell_type": "code",
   "execution_count": 50,
   "metadata": {},
   "outputs": [],
   "source": [
    "# 5. Interactions -- skpping as well!"
   ]
  },
  {
   "cell_type": "code",
   "execution_count": 51,
   "metadata": {},
   "outputs": [
    {
     "data": {
      "application/vnd.jupyter.widget-view+json": {
       "model_id": "ce77d4c57c60485db9c94d98800f2e4b",
       "version_major": 2,
       "version_minor": 0
      },
      "text/plain": [
       "Figure(fig_margin={'top': 60, 'bottom': 60, 'left': 60, 'right': 60}, marks=[GridHeatMap(color=array([[0.58989…"
      ]
     },
     "metadata": {},
     "output_type": "display_data"
    }
   ],
   "source": [
    "# Finally, a figure!\n",
    "fig = bqplot.Figure(marks = [heat_map])\n",
    "fig"
   ]
  },
  {
   "cell_type": "markdown",
   "metadata": {},
   "source": [
    "First, changing the color scheme of our heatmap:"
   ]
  },
  {
   "cell_type": "code",
   "execution_count": 52,
   "metadata": {},
   "outputs": [
    {
     "data": {
      "application/vnd.jupyter.widget-view+json": {
       "model_id": "0dbe5d6f45904d82a856aca63b35a81e",
       "version_major": 2,
       "version_minor": 0
      },
      "text/plain": [
       "Figure(fig_margin={'top': 60, 'bottom': 60, 'left': 60, 'right': 60}, marks=[GridHeatMap(color=array([[0.58989…"
      ]
     },
     "metadata": {},
     "output_type": "display_data"
    }
   ],
   "source": [
    "# 1. Data -- same\n",
    "\n",
    "# 2. Scale - color scale\n",
    "col_sc = bqplot.ColorScale(scheme=\"Reds\") # this is the update!\n",
    "\n",
    "# 3. Axis -- NOT plot axis\n",
    "\n",
    "# 4. Mark -- heatmap\n",
    "heat_map = bqplot.GridHeatMap(color = data, scales = {'color':col_sc})\n",
    "\n",
    "# 5. Interactions -- skipping as well!\n",
    "\n",
    "# Finally, a figure!\n",
    "fig = bqplot.Figure(marks = [heat_map])\n",
    "fig"
   ]
  },
  {
   "cell_type": "markdown",
   "metadata": {},
   "source": [
    "Add in some color axis so that we know how our data maps to our colors:"
   ]
  },
  {
   "cell_type": "code",
   "execution_count": 54,
   "metadata": {},
   "outputs": [
    {
     "data": {
      "application/vnd.jupyter.widget-view+json": {
       "model_id": "2487e7fcdbe64ec6820569a716f1f5b7",
       "version_major": 2,
       "version_minor": 0
      },
      "text/plain": [
       "Figure(axes=[ColorAxis(orientation='vertical', scale=ColorScale(scheme='Reds'), side='right')], fig_margin={'t…"
      ]
     },
     "metadata": {},
     "output_type": "display_data"
    }
   ],
   "source": [
    "# 1. Data -- same\n",
    "\n",
    "# 2. Scale - color scale\n",
    "col_sc = bqplot.ColorScale(scheme=\"Reds\") \n",
    "\n",
    "# 3. Axis -- for colors, the axis is a colorbar!\n",
    "ax_col = bqplot.ColorAxis(scale = col_sc, orientation='vertical', side='right') # this is the update!\n",
    "\n",
    "# 4. Mark -- heatmap\n",
    "heat_map = bqplot.GridHeatMap(color = data, scales = {'color':col_sc})\n",
    "\n",
    "# 5. Interactions -- skipping as well!\n",
    "\n",
    "# Finally, a figure!\n",
    "fig = bqplot.Figure(marks = [heat_map], axes=[ax_col]) # have to add this axis to my figure object!\n",
    "fig"
   ]
  },
  {
   "cell_type": "markdown",
   "metadata": {},
   "source": [
    "Keep adding -- add some x & y axis labels.  For now -- just use the defaults."
   ]
  },
  {
   "cell_type": "code",
   "execution_count": 57,
   "metadata": {},
   "outputs": [
    {
     "data": {
      "application/vnd.jupyter.widget-view+json": {
       "model_id": "ecfa0e007ddb41f094396a1d086b82b2",
       "version_major": 2,
       "version_minor": 0
      },
      "text/plain": [
       "Figure(axes=[ColorAxis(orientation='vertical', scale=ColorScale(scheme='Reds'), side='right'), Axis(scale=Ordi…"
      ]
     },
     "metadata": {},
     "output_type": "display_data"
    }
   ],
   "source": [
    "# 1. Data -- same\n",
    "\n",
    "# 2. Scale - color scale\n",
    "col_sc = bqplot.ColorScale(scheme=\"Reds\") \n",
    "# this is because the \"bins\" are just bins -- their order is NOT numerically important\n",
    "x_sc = bqplot.OrdinalScale()\n",
    "y_sc = bqplot.OrdinalScale()\n",
    "\n",
    "# 3. Axis -- for colors, the axis is a colorbar!\n",
    "ax_col = bqplot.ColorAxis(scale = col_sc, orientation='vertical', side='right') \n",
    "ax_x = bqplot.Axis(scale = x_sc) # same x/y ax we had before\n",
    "ax_y = bqplot.Axis(scale = y_sc, orientation='vertical')\n",
    "\n",
    "# 4. Mark -- heatmap\n",
    "heat_map = bqplot.GridHeatMap(color = data, scales = {'color':col_sc, 'row':y_sc, 'column':x_sc})\n",
    "\n",
    "# 5. Interactions -- skipping as well!\n",
    "\n",
    "# Finally, a figure!\n",
    "fig = bqplot.Figure(marks = [heat_map], axes=[ax_col, ax_x, ax_y]) # have to add this axis to my figure object!\n",
    "fig"
   ]
  },
  {
   "cell_type": "code",
   "execution_count": 58,
   "metadata": {},
   "outputs": [],
   "source": [
    "bqplot.GridHeatMap?"
   ]
  },
  {
   "cell_type": "markdown",
   "metadata": {},
   "source": [
    "By looking through some doc strings we might get the sense that we have some interactions, selection, change the selected style... look through some examples as well."
   ]
  },
  {
   "cell_type": "code",
   "execution_count": 59,
   "metadata": {},
   "outputs": [
    {
     "data": {
      "application/vnd.jupyter.widget-view+json": {
       "model_id": "98340ab03b0b46de804dd25407360510",
       "version_major": 2,
       "version_minor": 0
      },
      "text/plain": [
       "Figure(axes=[ColorAxis(orientation='vertical', scale=ColorScale(scheme='Reds'), side='right'), Axis(scale=Ordi…"
      ]
     },
     "metadata": {},
     "output_type": "display_data"
    }
   ],
   "source": [
    "# 1. Data -- same\n",
    "\n",
    "# 2. Scale - color scale\n",
    "col_sc = bqplot.ColorScale(scheme=\"Reds\") \n",
    "# this is because the \"bins\" are just bins -- their order is NOT numerically important\n",
    "x_sc = bqplot.OrdinalScale()\n",
    "y_sc = bqplot.OrdinalScale()\n",
    "\n",
    "# 3. Axis -- for colors, the axis is a colorbar!\n",
    "ax_col = bqplot.ColorAxis(scale = col_sc, orientation='vertical', side='right') \n",
    "ax_x = bqplot.Axis(scale = x_sc) # same x/y ax we had before\n",
    "ax_y = bqplot.Axis(scale = y_sc, orientation='vertical')\n",
    "\n",
    "# 4. Mark -- heatmap\n",
    "heat_map = bqplot.GridHeatMap(color = data, scales = {'color':col_sc, 'row':y_sc, 'column':x_sc},\n",
    "                             interactions={'click':'select'},\n",
    "                             anchor_style={'fill':'blue'},\n",
    "                             selected_style={'opacity':1.0},\n",
    "                             unselected_style={'opacity':0.8})\n",
    "\n",
    "# 5. Interactions -- going to be built into the GridHeatMap mark\n",
    "\n",
    "# Finally, a figure!\n",
    "fig = bqplot.Figure(marks = [heat_map], axes=[ax_col, ax_x, ax_y]) # have to add this axis to my figure object!\n",
    "fig"
   ]
  },
  {
   "cell_type": "code",
   "execution_count": 60,
   "metadata": {},
   "outputs": [
    {
     "data": {
      "text/plain": [
       "array([[5, 4]])"
      ]
     },
     "execution_count": 60,
     "metadata": {},
     "output_type": "execute_result"
    }
   ],
   "source": [
    "heat_map.selected"
   ]
  },
  {
   "cell_type": "markdown",
   "metadata": {},
   "source": [
    "I'm going to start building a dashboard: label that shows the value of the data in a selected grid & grid heatmap itself"
   ]
  },
  {
   "cell_type": "code",
   "execution_count": 61,
   "metadata": {},
   "outputs": [],
   "source": [
    "mySelectedLabel = ipywidgets.Label()"
   ]
  },
  {
   "cell_type": "code",
   "execution_count": 62,
   "metadata": {},
   "outputs": [],
   "source": [
    "# first, just print out what is changing\n",
    "def on_selected(change):\n",
    "    print(change)"
   ]
  },
  {
   "cell_type": "code",
   "execution_count": 63,
   "metadata": {},
   "outputs": [
    {
     "data": {
      "application/vnd.jupyter.widget-view+json": {
       "model_id": "2febd56f86684b3ba14860ac5baedc0f",
       "version_major": 2,
       "version_minor": 0
      },
      "text/plain": [
       "Figure(axes=[ColorAxis(orientation='vertical', scale=ColorScale(scheme='Reds'), side='right'), Axis(scale=Ordi…"
      ]
     },
     "metadata": {},
     "output_type": "display_data"
    },
    {
     "name": "stdout",
     "output_type": "stream",
     "text": [
      "{'name': 'selected', 'old': None, 'new': array([[5, 3]]), 'owner': GridHeatMap(anchor_style={'fill': 'blue'}, color=array([[0.58989414, 0.68397708, 0.66278601, 0.5408976 , 0.9693185 ,\n",
      "        0.68700492, 0.173914  , 0.64861625, 0.30780544, 0.11771333],\n",
      "       [0.41375264, 0.60636106, 0.05731498, 0.67746146, 0.14992504,\n",
      "        0.04442673, 0.90670582, 0.51955875, 0.96080304, 0.5515289 ],\n",
      "       [0.48097145, 0.37344345, 0.17353181, 0.4578347 , 0.19953201,\n",
      "        0.03414197, 0.01511233, 0.37247233, 0.59231042, 0.31648153],\n",
      "       [0.38612009, 0.22631793, 0.96126498, 0.89103813, 0.30569113,\n",
      "        0.1460685 , 0.75010262, 0.76501239, 0.04677228, 0.34132688],\n",
      "       [0.37063089, 0.5650219 , 0.60433404, 0.68985143, 0.64837045,\n",
      "        0.94918305, 0.73891296, 0.49631326, 0.93788438, 0.30722456],\n",
      "       [0.64345905, 0.23958286, 0.0480288 , 0.90451934, 0.99126259,\n",
      "        0.84703278, 0.12930839, 0.83114047, 0.74514455, 0.73679432],\n",
      "       [0.60245444, 0.55327658, 0.9622388 , 0.609966  , 0.09229455,\n",
      "        0.79087311, 0.30824441, 0.79772483, 0.12119156, 0.89343157],\n",
      "       [0.57306867, 0.31830395, 0.90128099, 0.98548416, 0.86956019,\n",
      "        0.09300852, 0.86782108, 0.85425933, 0.31054986, 0.71924912],\n",
      "       [0.99477961, 0.58546429, 0.4801721 , 0.01099087, 0.68875669,\n",
      "        0.64378786, 0.85037977, 0.28783255, 0.76530995, 0.35543003],\n",
      "       [0.49386181, 0.38796121, 0.21449907, 0.15691844, 0.830791  ,\n",
      "        0.93833936, 0.59127738, 0.93535154, 0.81481136, 0.60710499]]), interactions={'click': 'select'}, scales={'color': ColorScale(scheme='Reds'), 'row': OrdinalScale(), 'column': OrdinalScale()}, scales_metadata={'row': {'orientation': 'vertical', 'dimension': 'y'}, 'column': {'orientation': 'horizontal', 'dimension': 'x'}, 'color': {'dimension': 'color'}}, selected=array([[5, 3]]), selected_style={'opacity': 1.0}, tooltip_style={'opacity': 0.9}, unselected_style={'opacity': 0.8}), 'type': 'change'}\n",
      "{'name': 'selected', 'old': array([[5, 3]]), 'new': array([[0, 0]]), 'owner': GridHeatMap(anchor_style={'fill': 'blue'}, color=array([[0.58989414, 0.68397708, 0.66278601, 0.5408976 , 0.9693185 ,\n",
      "        0.68700492, 0.173914  , 0.64861625, 0.30780544, 0.11771333],\n",
      "       [0.41375264, 0.60636106, 0.05731498, 0.67746146, 0.14992504,\n",
      "        0.04442673, 0.90670582, 0.51955875, 0.96080304, 0.5515289 ],\n",
      "       [0.48097145, 0.37344345, 0.17353181, 0.4578347 , 0.19953201,\n",
      "        0.03414197, 0.01511233, 0.37247233, 0.59231042, 0.31648153],\n",
      "       [0.38612009, 0.22631793, 0.96126498, 0.89103813, 0.30569113,\n",
      "        0.1460685 , 0.75010262, 0.76501239, 0.04677228, 0.34132688],\n",
      "       [0.37063089, 0.5650219 , 0.60433404, 0.68985143, 0.64837045,\n",
      "        0.94918305, 0.73891296, 0.49631326, 0.93788438, 0.30722456],\n",
      "       [0.64345905, 0.23958286, 0.0480288 , 0.90451934, 0.99126259,\n",
      "        0.84703278, 0.12930839, 0.83114047, 0.74514455, 0.73679432],\n",
      "       [0.60245444, 0.55327658, 0.9622388 , 0.609966  , 0.09229455,\n",
      "        0.79087311, 0.30824441, 0.79772483, 0.12119156, 0.89343157],\n",
      "       [0.57306867, 0.31830395, 0.90128099, 0.98548416, 0.86956019,\n",
      "        0.09300852, 0.86782108, 0.85425933, 0.31054986, 0.71924912],\n",
      "       [0.99477961, 0.58546429, 0.4801721 , 0.01099087, 0.68875669,\n",
      "        0.64378786, 0.85037977, 0.28783255, 0.76530995, 0.35543003],\n",
      "       [0.49386181, 0.38796121, 0.21449907, 0.15691844, 0.830791  ,\n",
      "        0.93833936, 0.59127738, 0.93535154, 0.81481136, 0.60710499]]), interactions={'click': 'select'}, scales={'color': ColorScale(scheme='Reds'), 'row': OrdinalScale(), 'column': OrdinalScale()}, scales_metadata={'row': {'orientation': 'vertical', 'dimension': 'y'}, 'column': {'orientation': 'horizontal', 'dimension': 'x'}, 'color': {'dimension': 'color'}}, selected=array([[0, 0]]), selected_style={'opacity': 1.0}, tooltip_style={'opacity': 0.9}, unselected_style={'opacity': 0.8}), 'type': 'change'}\n"
     ]
    }
   ],
   "source": [
    "# 1. Data -- same\n",
    "\n",
    "# 2. Scale - color scale\n",
    "col_sc = bqplot.ColorScale(scheme=\"Reds\") \n",
    "# this is because the \"bins\" are just bins -- their order is NOT numerically important\n",
    "x_sc = bqplot.OrdinalScale()\n",
    "y_sc = bqplot.OrdinalScale()\n",
    "\n",
    "# 3. Axis -- for colors, the axis is a colorbar!\n",
    "ax_col = bqplot.ColorAxis(scale = col_sc, orientation='vertical', side='right') \n",
    "ax_x = bqplot.Axis(scale = x_sc) # same x/y ax we had before\n",
    "ax_y = bqplot.Axis(scale = y_sc, orientation='vertical')\n",
    "\n",
    "# 4. Mark -- heatmap\n",
    "heat_map = bqplot.GridHeatMap(color = data, scales = {'color':col_sc, 'row':y_sc, 'column':x_sc},\n",
    "                             interactions={'click':'select'},\n",
    "                             anchor_style={'fill':'blue'},\n",
    "                             selected_style={'opacity':1.0},\n",
    "                             unselected_style={'opacity':0.8})\n",
    "\n",
    "# 5. Interactions -- going to be built into the GridHeatMap mark (how things *look* when selection happens)\n",
    "# BUT I'm going to define what happens when the interaction takes place (something is selected)\n",
    "heat_map.observe(on_selected, 'selected')\n",
    "\n",
    "# Finally, a figure!\n",
    "fig = bqplot.Figure(marks = [heat_map], axes=[ax_col, ax_x, ax_y]) # have to add this axis to my figure object!\n",
    "fig"
   ]
  },
  {
   "cell_type": "code",
   "execution_count": 65,
   "metadata": {},
   "outputs": [
    {
     "data": {
      "application/vnd.jupyter.widget-view+json": {
       "model_id": "664c42bd84754734a6e89e59b178d4f4",
       "version_major": 2,
       "version_minor": 0
      },
      "text/plain": [
       "Figure(axes=[ColorAxis(orientation='vertical', scale=ColorScale(scheme='Reds'), side='right'), Axis(scale=Ordi…"
      ]
     },
     "metadata": {},
     "output_type": "display_data"
    },
    {
     "name": "stdout",
     "output_type": "stream",
     "text": [
      "[[0 0]]\n",
      "[[3 4]]\n",
      "[[5 6]]\n",
      "[[5 7]\n",
      " [5 6]]\n",
      "[[4 7]\n",
      " [4 6]\n",
      " [5 6]\n",
      " [5 7]]\n",
      "[[3 6]\n",
      " [4 6]\n",
      " [5 6]]\n",
      "[[2 7]\n",
      " [2 6]\n",
      " [3 6]\n",
      " [3 7]\n",
      " [4 6]\n",
      " [4 7]\n",
      " [5 6]\n",
      " [5 7]]\n",
      "[[6 8]\n",
      " [5 6]\n",
      " [5 7]\n",
      " [5 8]\n",
      " [6 6]\n",
      " [6 7]]\n",
      "[[4 8]\n",
      " [4 6]\n",
      " [4 7]\n",
      " [5 6]\n",
      " [5 7]\n",
      " [5 8]]\n",
      "[[3 6]]\n"
     ]
    }
   ],
   "source": [
    "# first, just print out what is changing, what is selected\n",
    "def on_selected(change):\n",
    "    print(change['owner'].selected)\n",
    "    \n",
    "# 1. Data -- same\n",
    "\n",
    "# 2. Scale - color scale\n",
    "col_sc = bqplot.ColorScale(scheme=\"Reds\") \n",
    "# this is because the \"bins\" are just bins -- their order is NOT numerically important\n",
    "x_sc = bqplot.OrdinalScale()\n",
    "y_sc = bqplot.OrdinalScale()\n",
    "\n",
    "# 3. Axis -- for colors, the axis is a colorbar!\n",
    "ax_col = bqplot.ColorAxis(scale = col_sc, orientation='vertical', side='right') \n",
    "ax_x = bqplot.Axis(scale = x_sc) # same x/y ax we had before\n",
    "ax_y = bqplot.Axis(scale = y_sc, orientation='vertical')\n",
    "\n",
    "# 4. Mark -- heatmap\n",
    "heat_map = bqplot.GridHeatMap(color = data, scales = {'color':col_sc, 'row':y_sc, 'column':x_sc},\n",
    "                             interactions={'click':'select'},\n",
    "                             anchor_style={'fill':'blue'},\n",
    "                             selected_style={'opacity':1.0},\n",
    "                             unselected_style={'opacity':0.8})\n",
    "\n",
    "# 5. Interactions -- going to be built into the GridHeatMap mark (how things *look* when selection happens)\n",
    "# BUT I'm going to define what happens when the interaction takes place (something is selected)\n",
    "heat_map.observe(on_selected, 'selected')\n",
    "\n",
    "# Finally, a figure!\n",
    "fig = bqplot.Figure(marks = [heat_map], axes=[ax_col, ax_x, ax_y]) # have to add this axis to my figure object!\n",
    "fig"
   ]
  },
  {
   "cell_type": "code",
   "execution_count": 66,
   "metadata": {},
   "outputs": [
    {
     "data": {
      "application/vnd.jupyter.widget-view+json": {
       "model_id": "2a0d3880e7544e39aac19f29c97e8dde",
       "version_major": 2,
       "version_minor": 0
      },
      "text/plain": [
       "Figure(axes=[ColorAxis(orientation='vertical', scale=ColorScale(scheme='Reds'), side='right'), Axis(scale=Ordi…"
      ]
     },
     "metadata": {},
     "output_type": "display_data"
    },
    {
     "name": "stdout",
     "output_type": "stream",
     "text": [
      "[7 3]\n",
      "[2 4]\n",
      "[2 2]\n",
      "[3 2]\n",
      "[3 3]\n",
      "[4 2]\n",
      "[6 2]\n"
     ]
    }
   ],
   "source": [
    "# first, just print out what is changing, what is selected\n",
    "# only support 1 selected grid\n",
    "def on_selected(change):\n",
    "    if len(change['owner'].selected) == 1:\n",
    "        print(change['owner'].selected[0])\n",
    "    \n",
    "# 1. Data -- same\n",
    "\n",
    "# 2. Scale - color scale\n",
    "col_sc = bqplot.ColorScale(scheme=\"Reds\") \n",
    "# this is because the \"bins\" are just bins -- their order is NOT numerically important\n",
    "x_sc = bqplot.OrdinalScale()\n",
    "y_sc = bqplot.OrdinalScale()\n",
    "\n",
    "# 3. Axis -- for colors, the axis is a colorbar!\n",
    "ax_col = bqplot.ColorAxis(scale = col_sc, orientation='vertical', side='right') \n",
    "ax_x = bqplot.Axis(scale = x_sc) # same x/y ax we had before\n",
    "ax_y = bqplot.Axis(scale = y_sc, orientation='vertical')\n",
    "\n",
    "# 4. Mark -- heatmap\n",
    "heat_map = bqplot.GridHeatMap(color = data, scales = {'color':col_sc, 'row':y_sc, 'column':x_sc},\n",
    "                             interactions={'click':'select'},\n",
    "                             anchor_style={'fill':'blue'},\n",
    "                             selected_style={'opacity':1.0},\n",
    "                             unselected_style={'opacity':0.8})\n",
    "\n",
    "# 5. Interactions -- going to be built into the GridHeatMap mark (how things *look* when selection happens)\n",
    "# BUT I'm going to define what happens when the interaction takes place (something is selected)\n",
    "heat_map.observe(on_selected, 'selected')\n",
    "\n",
    "# Finally, a figure!\n",
    "fig = bqplot.Figure(marks = [heat_map], axes=[ax_col, ax_x, ax_y]) # have to add this axis to my figure object!\n",
    "fig"
   ]
  },
  {
   "cell_type": "code",
   "execution_count": 67,
   "metadata": {},
   "outputs": [
    {
     "data": {
      "application/vnd.jupyter.widget-view+json": {
       "model_id": "83b2ddf6e52346fc9022631c665ab4db",
       "version_major": 2,
       "version_minor": 0
      },
      "text/plain": [
       "Figure(axes=[ColorAxis(orientation='vertical', scale=ColorScale(scheme='Reds'), side='right'), Axis(scale=Ordi…"
      ]
     },
     "metadata": {},
     "output_type": "display_data"
    }
   ],
   "source": [
    "# first, just print out what is changing, what is selected\n",
    "# only support 1 selected grid\n",
    "def on_selected(change):\n",
    "    if len(change['owner'].selected) == 1:\n",
    "        #print(change['owner'].selected[0])\n",
    "        i, j = change['owner'].selected[0]\n",
    "        v = data[i,j] # grabbing the underlying datavalue associated with this row/column\n",
    "        mySelectedLabel.value = 'Data Value = ' + str(v)\n",
    "    \n",
    "# 1. Data -- same\n",
    "\n",
    "# 2. Scale - color scale\n",
    "col_sc = bqplot.ColorScale(scheme=\"Reds\") \n",
    "# this is because the \"bins\" are just bins -- their order is NOT numerically important\n",
    "x_sc = bqplot.OrdinalScale()\n",
    "y_sc = bqplot.OrdinalScale()\n",
    "\n",
    "# 3. Axis -- for colors, the axis is a colorbar!\n",
    "ax_col = bqplot.ColorAxis(scale = col_sc, orientation='vertical', side='right') \n",
    "ax_x = bqplot.Axis(scale = x_sc) # same x/y ax we had before\n",
    "ax_y = bqplot.Axis(scale = y_sc, orientation='vertical')\n",
    "\n",
    "# 4. Mark -- heatmap\n",
    "heat_map = bqplot.GridHeatMap(color = data, scales = {'color':col_sc, 'row':y_sc, 'column':x_sc},\n",
    "                             interactions={'click':'select'},\n",
    "                             anchor_style={'fill':'blue'},\n",
    "                             selected_style={'opacity':1.0},\n",
    "                             unselected_style={'opacity':0.8})\n",
    "\n",
    "# 5. Interactions -- going to be built into the GridHeatMap mark (how things *look* when selection happens)\n",
    "# BUT I'm going to define what happens when the interaction takes place (something is selected)\n",
    "heat_map.observe(on_selected, 'selected')\n",
    "\n",
    "# Finally, a figure!\n",
    "fig = bqplot.Figure(marks = [heat_map], axes=[ax_col, ax_x, ax_y]) # have to add this axis to my figure object!\n",
    "fig"
   ]
  },
  {
   "cell_type": "code",
   "execution_count": 69,
   "metadata": {},
   "outputs": [
    {
     "data": {
      "application/vnd.jupyter.widget-view+json": {
       "model_id": "b2a44d891d6e453ea46f56170b5fdebb",
       "version_major": 2,
       "version_minor": 0
      },
      "text/plain": [
       "Label(value='Data Value = 0.7653099463059154')"
      ]
     },
     "metadata": {},
     "output_type": "display_data"
    }
   ],
   "source": [
    "mySelectedLabel"
   ]
  },
  {
   "cell_type": "markdown",
   "metadata": {},
   "source": [
    "Show both the widget & the heatmap at the same time:"
   ]
  },
  {
   "cell_type": "code",
   "execution_count": 70,
   "metadata": {},
   "outputs": [
    {
     "data": {
      "application/vnd.jupyter.widget-view+json": {
       "model_id": "ffa5f5706286425d8658d86611b10cc0",
       "version_major": 2,
       "version_minor": 0
      },
      "text/plain": [
       "VBox(children=(Label(value='Data Value = 0.7653099463059154'), Figure(axes=[ColorAxis(orientation='vertical', …"
      ]
     },
     "metadata": {},
     "output_type": "display_data"
    }
   ],
   "source": [
    "# first, just print out what is changing, what is selected\n",
    "# only support 1 selected grid\n",
    "def on_selected(change):\n",
    "    if len(change['owner'].selected) == 1:\n",
    "        #print(change['owner'].selected[0])\n",
    "        i, j = change['owner'].selected[0]\n",
    "        v = data[i,j] # grabbing the underlying datavalue associated with this row/column\n",
    "        mySelectedLabel.value = 'Data Value = ' + str(v)\n",
    "    \n",
    "# 1. Data -- same\n",
    "\n",
    "# 2. Scale - color scale\n",
    "col_sc = bqplot.ColorScale(scheme=\"Reds\") \n",
    "# this is because the \"bins\" are just bins -- their order is NOT numerically important\n",
    "x_sc = bqplot.OrdinalScale()\n",
    "y_sc = bqplot.OrdinalScale()\n",
    "\n",
    "# 3. Axis -- for colors, the axis is a colorbar!\n",
    "ax_col = bqplot.ColorAxis(scale = col_sc, orientation='vertical', side='right') \n",
    "ax_x = bqplot.Axis(scale = x_sc) # same x/y ax we had before\n",
    "ax_y = bqplot.Axis(scale = y_sc, orientation='vertical')\n",
    "\n",
    "# 4. Mark -- heatmap\n",
    "heat_map = bqplot.GridHeatMap(color = data, scales = {'color':col_sc, 'row':y_sc, 'column':x_sc},\n",
    "                             interactions={'click':'select'},\n",
    "                             anchor_style={'fill':'blue'},\n",
    "                             selected_style={'opacity':1.0},\n",
    "                             unselected_style={'opacity':0.8})\n",
    "\n",
    "# 5. Interactions -- going to be built into the GridHeatMap mark (how things *look* when selection happens)\n",
    "# BUT I'm going to define what happens when the interaction takes place (something is selected)\n",
    "heat_map.observe(on_selected, 'selected')\n",
    "\n",
    "# Finally, a figure!\n",
    "fig = bqplot.Figure(marks = [heat_map], axes=[ax_col, ax_x, ax_y]) # have to add this axis to my figure object!\n",
    "#fig\n",
    "\n",
    "# combine the widget & figure and display both at the same time!\n",
    "myDashboard = ipywidgets.VBox([mySelectedLabel, fig])\n",
    "myDashboard # show the dashboard"
   ]
  },
  {
   "cell_type": "markdown",
   "metadata": {},
   "source": [
    "## Multi-dimention data dashboards"
   ]
  },
  {
   "cell_type": "code",
   "execution_count": 71,
   "metadata": {},
   "outputs": [],
   "source": [
    "data3d = np.random.random( (10,10, 20))"
   ]
  },
  {
   "cell_type": "code",
   "execution_count": 73,
   "metadata": {},
   "outputs": [
    {
     "data": {
      "text/plain": [
       "(10, 10, 20)"
      ]
     },
     "execution_count": 73,
     "metadata": {},
     "output_type": "execute_result"
    }
   ],
   "source": [
    "data3d.shape"
   ]
  },
  {
   "cell_type": "code",
   "execution_count": null,
   "metadata": {},
   "outputs": [],
   "source": []
  }
 ],
 "metadata": {
  "kernelspec": {
   "display_name": "Python 3",
   "language": "python",
   "name": "python3"
  },
  "language_info": {
   "codemirror_mode": {
    "name": "ipython",
    "version": 3
   },
   "file_extension": ".py",
   "mimetype": "text/x-python",
   "name": "python",
   "nbconvert_exporter": "python",
   "pygments_lexer": "ipython3",
   "version": "3.7.9"
  }
 },
 "nbformat": 4,
 "nbformat_minor": 4
}
