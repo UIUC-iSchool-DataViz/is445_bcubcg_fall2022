{
 "cells": [
  {
   "cell_type": "markdown",
   "metadata": {},
   "source": [
    "# Week 06: Continuing interactivity in Python with the viz engine bqplot"
   ]
  },
  {
   "cell_type": "markdown",
   "metadata": {},
   "source": [
    "Make sure you have installed this via the install script `test_imports_week01.ipynb` in week 1.  You may have to restart your jupyter or your browswer.\n",
    "\n",
    "We'll start by using `bqplot` in a Grammar of Graphics & *Declaritive* sort of way, and then, if we have time, spend a few moments looking at its `matplotlib`-like interface as well which is an *Imperative* method."
   ]
  },
  {
   "cell_type": "code",
   "execution_count": 1,
   "metadata": {},
   "outputs": [],
   "source": [
    "import bqplot\n",
    "import numpy as np\n",
    "import ipywidgets"
   ]
  },
  {
   "cell_type": "markdown",
   "metadata": {},
   "source": [
    "Now we are going to mess around with some of the declaritive programming type options that bqplot can use.  This will rely heavily on the \"Grammar of Graphics\" constructs."
   ]
  },
  {
   "cell_type": "markdown",
   "metadata": {},
   "source": [
    "## Random line plot with Pan/Zoom interaction\n",
    "\n",
    "We'll now go through the example I put up on the slides for this week. \n",
    "\n",
    "**Data:** Let's first start by creating *data* elements for our graphic just some random numbers:"
   ]
  },
  {
   "cell_type": "code",
   "execution_count": 2,
   "metadata": {},
   "outputs": [],
   "source": [
    "x = np.arange(100) # integers 0->999\n",
    "y = np.random.random(100) + 5 # random numbers with mean = 5"
   ]
  },
  {
   "cell_type": "code",
   "execution_count": 3,
   "metadata": {},
   "outputs": [
    {
     "data": {
      "text/plain": [
       "(array([ 0,  1,  2,  3,  4,  5,  6,  7,  8,  9, 10, 11, 12, 13, 14, 15, 16,\n",
       "        17, 18, 19, 20, 21, 22, 23, 24, 25, 26, 27, 28, 29, 30, 31, 32, 33,\n",
       "        34, 35, 36, 37, 38, 39, 40, 41, 42, 43, 44, 45, 46, 47, 48, 49, 50,\n",
       "        51, 52, 53, 54, 55, 56, 57, 58, 59, 60, 61, 62, 63, 64, 65, 66, 67,\n",
       "        68, 69, 70, 71, 72, 73, 74, 75, 76, 77, 78, 79, 80, 81, 82, 83, 84,\n",
       "        85, 86, 87, 88, 89, 90, 91, 92, 93, 94, 95, 96, 97, 98, 99]),\n",
       " array([5.91275574, 5.98109701, 5.13654608, 5.67117447, 5.62898235,\n",
       "        5.456996  , 5.43633926, 5.76841997, 5.0107382 , 5.36692454,\n",
       "        5.76129178, 5.87277075, 5.78964582, 5.33425298, 5.63542578,\n",
       "        5.99678948, 5.22195954, 5.90020221, 5.76863092, 5.38720581,\n",
       "        5.62901613, 5.20851733, 5.56324485, 5.22566736, 5.76887044,\n",
       "        5.24751213, 5.13741897, 5.94804583, 5.78972873, 5.47260128,\n",
       "        5.34843432, 5.05149801, 5.16319702, 5.75641236, 5.31710969,\n",
       "        5.58002291, 5.90670317, 5.96441573, 5.29724756, 5.85191973,\n",
       "        5.74704583, 5.83298624, 5.44721001, 5.03591122, 5.17949334,\n",
       "        5.89636453, 5.37104134, 5.99935686, 5.19498145, 5.00927746,\n",
       "        5.7862172 , 5.62005212, 5.01495149, 5.11877869, 5.45020947,\n",
       "        5.41702614, 5.60221107, 5.65494572, 5.89542837, 5.8422005 ,\n",
       "        5.77591305, 5.46289172, 5.08000132, 5.47627506, 5.16268711,\n",
       "        5.46926989, 5.99756294, 5.68130628, 5.40883185, 5.77490508,\n",
       "        5.24046793, 5.97265556, 5.05115436, 5.91706563, 5.22364964,\n",
       "        5.4374233 , 5.36370678, 5.0471988 , 5.83498414, 5.2118584 ,\n",
       "        5.36596622, 5.80334187, 5.77238835, 5.65989442, 5.44295069,\n",
       "        5.28240924, 5.05317827, 5.78004817, 5.9560903 , 5.84972768,\n",
       "        5.96193921, 5.92562655, 5.95436121, 5.17547221, 5.64561618,\n",
       "        5.78132774, 5.1259913 , 5.64575252, 5.27561166, 5.24893387]))"
      ]
     },
     "execution_count": 3,
     "metadata": {},
     "output_type": "execute_result"
    }
   ],
   "source": [
    "x, y"
   ]
  },
  {
   "cell_type": "markdown",
   "metadata": {},
   "source": [
    "**Scales:** Now we'll define some scale objects which will determine how lines will be drawn on our canvas:"
   ]
  },
  {
   "cell_type": "code",
   "execution_count": 4,
   "metadata": {},
   "outputs": [],
   "source": [
    "bqplot.LinearScale?"
   ]
  },
  {
   "cell_type": "code",
   "execution_count": 5,
   "metadata": {},
   "outputs": [],
   "source": [
    "x_sc = bqplot.LinearScale()\n",
    "y_sc = bqplot.LinearScale()"
   ]
  },
  {
   "cell_type": "markdown",
   "metadata": {},
   "source": [
    "**Marks:** Now we are going to use GoG type calls to define what lines to actually draw combining information about our data and our scales:"
   ]
  },
  {
   "cell_type": "code",
   "execution_count": 6,
   "metadata": {},
   "outputs": [],
   "source": [
    "bqplot.Lines?"
   ]
  },
  {
   "cell_type": "code",
   "execution_count": 7,
   "metadata": {},
   "outputs": [],
   "source": [
    "lines = bqplot.Lines(x = x, y = y, scales = {'x': x_sc, 'y': y_sc})"
   ]
  },
  {
   "cell_type": "markdown",
   "metadata": {},
   "source": [
    "**Axis:** Now, we are going to define what axis we want placed around the lines that we draw we'll draw both x & y axis."
   ]
  },
  {
   "cell_type": "code",
   "execution_count": 8,
   "metadata": {},
   "outputs": [],
   "source": [
    "bqplot.Axis?"
   ]
  },
  {
   "cell_type": "code",
   "execution_count": 9,
   "metadata": {},
   "outputs": [],
   "source": [
    "ax_x = bqplot.Axis(scale = x_sc, label = 'X Value')\n",
    "ax_y = bqplot.Axis(scale = y_sc, label = 'Y Value', orientation = 'vertical')"
   ]
  },
  {
   "cell_type": "markdown",
   "metadata": {},
   "source": [
    "**Figure:** Finally, we combine all these things together into a bonified figure:"
   ]
  },
  {
   "cell_type": "code",
   "execution_count": 10,
   "metadata": {},
   "outputs": [],
   "source": [
    "bqplot.Figure?"
   ]
  },
  {
   "cell_type": "code",
   "execution_count": 11,
   "metadata": {},
   "outputs": [
    {
     "data": {
      "application/vnd.jupyter.widget-view+json": {
       "model_id": "6e83f3e1a16e42cf8eb17dde50bd80c7",
       "version_major": 2,
       "version_minor": 0
      },
      "text/plain": [
       "Figure(axes=[Axis(label='X Value', scale=LinearScale(), side='bottom'), Axis(label='Y Value', orientation='ver…"
      ]
     },
     "metadata": {},
     "output_type": "display_data"
    }
   ],
   "source": [
    "fig = bqplot.Figure(marks = [lines], axes = [ax_x, ax_y])\n",
    "#display(fig) # you might also want to try \"display\"\n",
    "# if you don't see the following fig, here is where\n",
    "#  you might have to close and reopen your notebook\n",
    "fig # note: just \"fig\" instead of \"display(fig)\" may also be an option for you"
   ]
  },
  {
   "cell_type": "markdown",
   "metadata": {},
   "source": [
    "Ok, but this isn't interactive in anyway lets make it!!  There are a few \"interactions\" supported in `bqplot` but not all of them are supported for all types of plots.  The docs can be a little nebulous about what plot can use what type of interaction, so we'll just try a few and see what happens.  Here, let's add in an ability to pan/zoom in our plot:"
   ]
  },
  {
   "cell_type": "code",
   "execution_count": 12,
   "metadata": {},
   "outputs": [],
   "source": [
    "bqplot.interacts?"
   ]
  },
  {
   "cell_type": "code",
   "execution_count": 13,
   "metadata": {},
   "outputs": [],
   "source": [
    "bqplot.interacts.PanZoom?"
   ]
  },
  {
   "cell_type": "code",
   "execution_count": 14,
   "metadata": {},
   "outputs": [],
   "source": [
    "pz = bqplot.interacts.PanZoom( scales = {'x': [x_sc], 'y': [y_sc]})"
   ]
  },
  {
   "cell_type": "code",
   "execution_count": 15,
   "metadata": {},
   "outputs": [
    {
     "data": {
      "application/vnd.jupyter.widget-view+json": {
       "model_id": "ce8425f3840843408c612f003332bba6",
       "version_major": 2,
       "version_minor": 0
      },
      "text/plain": [
       "Figure(axes=[Axis(label='X Value', scale=LinearScale(), side='bottom'), Axis(label='Y Value', orientation='ver…"
      ]
     },
     "metadata": {},
     "output_type": "display_data"
    }
   ],
   "source": [
    "fig = bqplot.Figure(marks = [lines], axes = [ax_x, ax_y], interaction = pz)\n",
    "#display(fig)\n",
    "fig"
   ]
  },
  {
   "cell_type": "markdown",
   "metadata": {},
   "source": [
    "Note that if I pan and zoom, the figure updates. Ooooo. fancy.\n",
    "\n",
    "Note also, that the above figure also reacts as well this is because we are using the same lines & ax's objects -- recall back to last week that this was a feature of using ipywidgets and traitlets as well."
   ]
  },
  {
   "cell_type": "markdown",
   "metadata": {},
   "source": [
    "### ASIDE: where things can go wrong (SKIPPING generally):"
   ]
  },
  {
   "cell_type": "code",
   "execution_count": 16,
   "metadata": {},
   "outputs": [],
   "source": [
    "# lets see an example of where this can fail\n",
    "\n",
    "# first lets make an x from 0-10 in 100 steps\n",
    "x = np.mgrid[0.0:10.0:100j]\n",
    "# and 2 y variables\n",
    "y1 = x * 2\n",
    "y2 = x**2"
   ]
  },
  {
   "cell_type": "code",
   "execution_count": 17,
   "metadata": {},
   "outputs": [],
   "source": [
    "x_sc = bqplot.LinearScale(min = 1, max = 10)\n",
    "# lets do one y-scale over linear and 1 over log\n",
    "y_sc1 = bqplot.LinearScale(min = 1, max = 20)\n",
    "y_sc2 = bqplot.LogScale(min = 1, max = 100)"
   ]
  },
  {
   "cell_type": "code",
   "execution_count": 18,
   "metadata": {},
   "outputs": [],
   "source": [
    "# lets genrate lines for each y value\n",
    "lines1 = bqplot.Lines(x = x, y = y1, scales = {'x': x_sc, 'y': y_sc1})\n",
    "lines2 = bqplot.Lines(x = x, y = y2, scales = {'x': x_sc, 'y': y_sc2})"
   ]
  },
  {
   "cell_type": "code",
   "execution_count": 19,
   "metadata": {},
   "outputs": [],
   "source": [
    "# and lets plot an x axis like before\n",
    "ax_x = bqplot.Axis(scale = x_sc, label = 'X Value')\n",
    "# and one y axis on the left\n",
    "ax_y1 = bqplot.Axis(scale = y_sc1, label = 'Y1 Value', \n",
    "                    orientation = 'vertical')\n",
    "# and one y-axis on the right\n",
    "ax_y2 = bqplot.Axis(scale = y_sc2, label = 'Y2 Value', \n",
    "                    orientation = 'vertical', side = 'right')"
   ]
  },
  {
   "cell_type": "code",
   "execution_count": 20,
   "metadata": {
    "scrolled": false
   },
   "outputs": [
    {
     "data": {
      "application/vnd.jupyter.widget-view+json": {
       "model_id": "7edda1b670154b9cb676712fa8dc45b1",
       "version_major": 2,
       "version_minor": 0
      },
      "text/plain": [
       "Figure(axes=[Axis(label='X Value', scale=LinearScale(max=10.0, min=1.0), side='bottom'), Axis(label='Y1 Value'…"
      ]
     },
     "metadata": {},
     "output_type": "display_data"
    }
   ],
   "source": [
    "# lets allow pan and zoom\n",
    "pz = bqplot.interacts.PanZoom(scales = {'x': [x_sc], \n",
    "                                        'y': [y_sc1, y_sc2]})\n",
    "#bqplot.interacts.PanZoom?\n",
    "fig = bqplot.Figure(marks = [lines1, lines2], \n",
    "                    axes = [ax_x, ax_y1, ax_y2], interaction=pz)\n",
    "#display(fig)\n",
    "fig\n",
    "# now we note if we zoom out too far, or pan to too negative of the x-axis\n",
    "# we lose a line\n",
    "\n",
    "# why? because the line is log-scaled, and log(numbers < 0) is undefined\n",
    "\n",
    "# this is a way in which declaritive programming can fail because there\n",
    "#  aren't obvious options to inhibit pan&zoom to a positive range"
   ]
  },
  {
   "cell_type": "markdown",
   "metadata": {},
   "source": [
    "### END ASIDE/SKIP"
   ]
  },
  {
   "cell_type": "markdown",
   "metadata": {},
   "source": [
    "FYI lots of more fun notebooks here: https://github.com/dmadeka/PyGotham-2017\n",
    "\n",
    "From video tutorial here: https://www.youtube.com/watch?v=rraXF0EjRC8"
   ]
  },
  {
   "cell_type": "markdown",
   "metadata": {},
   "source": [
    "## Random Scatter plot\n",
    "Ok, lets do another quick interactive example using a scatter plot:"
   ]
  },
  {
   "cell_type": "code",
   "execution_count": 21,
   "metadata": {},
   "outputs": [],
   "source": [
    "# 1. Data\n",
    "x = np.random.random(100) # random points betweeon 0-1\n",
    "y = np.random.random(100) # random points betweeon 0-1"
   ]
  },
  {
   "cell_type": "code",
   "execution_count": 22,
   "metadata": {},
   "outputs": [
    {
     "data": {
      "text/plain": [
       "(array([0.30930358, 0.1298033 , 0.9232619 , 0.38011645, 0.28252345,\n",
       "        0.60795212, 0.93714342, 0.4056051 , 0.50085707, 0.71045806,\n",
       "        0.76754607, 0.53302721, 0.01306678, 0.34718011, 0.44018708,\n",
       "        0.03161579, 0.3335248 , 0.77583962, 0.85860331, 0.09426142,\n",
       "        0.14575186, 0.10713811, 0.33360675, 0.79440048, 0.44381137,\n",
       "        0.71791031, 0.18662448, 0.09310719, 0.92515459, 0.16727828,\n",
       "        0.57839014, 0.49982976, 0.74509109, 0.36140909, 0.89521223,\n",
       "        0.79822913, 0.70130124, 0.27952886, 0.54823579, 0.08608242,\n",
       "        0.91543151, 0.82559239, 0.05435018, 0.3634683 , 0.94677096,\n",
       "        0.24839512, 0.01961833, 0.19900659, 0.89325356, 0.00804123,\n",
       "        0.92957083, 0.68566839, 0.50964775, 0.83551369, 0.58326345,\n",
       "        0.07077789, 0.2709328 , 0.53423563, 0.96399552, 0.99979255,\n",
       "        0.37912238, 0.8644381 , 0.21201402, 0.85521379, 0.03735684,\n",
       "        0.73686832, 0.57701002, 0.87381711, 0.68267267, 0.14892529,\n",
       "        0.89188933, 0.48386703, 0.58448538, 0.96826206, 0.24086383,\n",
       "        0.18583053, 0.79286333, 0.55837039, 0.36814752, 0.87704424,\n",
       "        0.17778696, 0.97521366, 0.88382807, 0.99497126, 0.57872925,\n",
       "        0.79438485, 0.98509512, 0.27129101, 0.6787186 , 0.53867369,\n",
       "        0.751459  , 0.20352209, 0.27219445, 0.97974665, 0.20448509,\n",
       "        0.7022063 , 0.363514  , 0.57404627, 0.66136741, 0.90161736]),\n",
       " array([1.08447075e-01, 3.12560172e-01, 4.55791853e-02, 2.61978016e-01,\n",
       "        7.65777624e-01, 6.75471345e-01, 4.61130337e-01, 5.58977019e-01,\n",
       "        4.82588848e-01, 1.97008783e-02, 8.55869563e-01, 3.57579528e-01,\n",
       "        3.75498523e-02, 8.95274925e-01, 8.12304855e-02, 3.28952660e-01,\n",
       "        5.66792801e-01, 8.27827088e-02, 2.52125390e-01, 3.51761413e-01,\n",
       "        6.39346711e-01, 5.27250703e-01, 5.49543511e-01, 6.35852978e-01,\n",
       "        3.54607900e-01, 2.62881783e-01, 2.24962674e-01, 9.80516696e-01,\n",
       "        8.66629612e-01, 1.54394841e-02, 3.54138077e-01, 9.10788561e-01,\n",
       "        5.18192333e-01, 9.96301051e-01, 6.05549904e-02, 8.92499277e-01,\n",
       "        9.98376552e-01, 8.81545232e-01, 4.31013440e-02, 5.97609805e-01,\n",
       "        7.28661695e-01, 6.16189647e-01, 8.90148528e-01, 1.08425580e-01,\n",
       "        1.78507753e-01, 1.47979514e-01, 5.37900018e-01, 4.18132004e-01,\n",
       "        7.12265705e-01, 7.17513907e-01, 9.96719085e-01, 2.48462493e-01,\n",
       "        2.54619536e-01, 9.22659992e-01, 7.13151476e-01, 6.04188463e-01,\n",
       "        5.87774531e-01, 9.55707896e-01, 2.96252796e-01, 1.74371035e-01,\n",
       "        1.90442834e-01, 4.20111291e-01, 7.55287074e-01, 3.67217360e-01,\n",
       "        3.47279543e-01, 2.55085642e-01, 1.96599020e-01, 4.80450811e-01,\n",
       "        3.30084892e-01, 5.36180776e-01, 4.14158855e-01, 5.82962882e-01,\n",
       "        4.37006624e-01, 7.25493232e-01, 9.55866059e-01, 6.69215421e-02,\n",
       "        6.91079929e-01, 1.48512650e-01, 9.52990291e-01, 6.77139462e-01,\n",
       "        8.80257468e-01, 1.12140555e-01, 4.73707611e-01, 5.82532423e-01,\n",
       "        9.25384794e-01, 8.91168213e-01, 2.78595888e-01, 9.12967035e-02,\n",
       "        1.48972100e-01, 6.85526885e-04, 6.34450790e-01, 3.63010631e-01,\n",
       "        6.23618995e-01, 3.49997536e-01, 6.61558885e-01, 5.72750575e-01,\n",
       "        1.25330325e-01, 4.17285224e-01, 1.12062385e-01, 1.41072794e-01]))"
      ]
     },
     "execution_count": 22,
     "metadata": {},
     "output_type": "execute_result"
    }
   ],
   "source": [
    "x, y"
   ]
  },
  {
   "cell_type": "markdown",
   "metadata": {},
   "source": [
    "Create scales and axis like we did before:"
   ]
  },
  {
   "cell_type": "code",
   "execution_count": 23,
   "metadata": {},
   "outputs": [],
   "source": [
    "# 2. scales\n",
    "x_sc = bqplot.LinearScale()\n",
    "y_sc = bqplot.LinearScale()\n",
    "\n",
    "# 3. axis\n",
    "x_ax = bqplot.Axis(scale = x_sc, label = 'X')\n",
    "y_ax = bqplot.Axis(scale = y_sc, label = 'Y', orientation = 'vertical')"
   ]
  },
  {
   "cell_type": "markdown",
   "metadata": {},
   "source": [
    "Create a scatter plot graphing object with these random x/y and scales:"
   ]
  },
  {
   "cell_type": "code",
   "execution_count": 24,
   "metadata": {},
   "outputs": [],
   "source": [
    "bqplot.Scatter?"
   ]
  },
  {
   "cell_type": "code",
   "execution_count": 25,
   "metadata": {},
   "outputs": [],
   "source": [
    "# 4. marks\n",
    "scatters = bqplot.Scatter(x = x,\n",
    "                          y = y,\n",
    "                          scales = {'x': x_sc, 'y': y_sc})"
   ]
  },
  {
   "cell_type": "markdown",
   "metadata": {},
   "source": [
    "Now, lets create a selector to select points along the x-axis.  We will use the `bqplot` interaction called `FastIntervalSelector`:"
   ]
  },
  {
   "cell_type": "code",
   "execution_count": 26,
   "metadata": {},
   "outputs": [],
   "source": [
    "bqplot.interacts.FastIntervalSelector?"
   ]
  },
  {
   "cell_type": "code",
   "execution_count": 27,
   "metadata": {},
   "outputs": [],
   "source": [
    "# 5. interactions\n",
    "selector = bqplot.interacts.FastIntervalSelector(\n",
    "            scale = x_sc, marks = [scatters]) "
   ]
  },
  {
   "cell_type": "markdown",
   "metadata": {},
   "source": [
    "Let's check out the full figure + interaction!"
   ]
  },
  {
   "cell_type": "code",
   "execution_count": 28,
   "metadata": {},
   "outputs": [
    {
     "data": {
      "application/vnd.jupyter.widget-view+json": {
       "model_id": "b78dfb7180d04498ab3f8bb091cf016a",
       "version_major": 2,
       "version_minor": 0
      },
      "text/plain": [
       "Figure(axes=[Axis(label='X', scale=LinearScale(), side='bottom'), Axis(label='Y', orientation='vertical', scal…"
      ]
     },
     "metadata": {},
     "output_type": "display_data"
    }
   ],
   "source": [
    "# Finally: fig\n",
    "fig = bqplot.Figure(marks = [scatters], axes = [x_ax, y_ax], interaction = selector)\n",
    "fig"
   ]
  },
  {
   "cell_type": "markdown",
   "metadata": {},
   "source": [
    "This might depend on what computer you are in, but on my mac, I click to start selecting and then double click to \"lock in\" my selected region.\n",
    "\n",
    "How do we tell what interval we have selected?"
   ]
  },
  {
   "cell_type": "code",
   "execution_count": 30,
   "metadata": {},
   "outputs": [
    {
     "data": {
      "text/plain": [
       "array([0.52015065, 0.62497847])"
      ]
     },
     "execution_count": 30,
     "metadata": {},
     "output_type": "execute_result"
    }
   ],
   "source": [
    "selector.selected"
   ]
  },
  {
   "cell_type": "markdown",
   "metadata": {},
   "source": [
    "So, its a little hard to see what points are selected.  There are some hidden tags within our scatter plot points that we can mess with to change our our plot looks.  These have CSS styling (how HTML is styled), so they'll look very un-Pythonic, because they are!  We'll get more into this sort of thing when we are doing Javascript later in the course:"
   ]
  },
  {
   "cell_type": "code",
   "execution_count": 31,
   "metadata": {},
   "outputs": [],
   "source": [
    "scatters.unselected_style={'opacity': 0.8} # when unselected, make the points a little see-through\n",
    "\n",
    "scatters.selected_style={'fill': 'red', 'stroke': 'yellow'} # fill with red, outline in yellow when selected"
   ]
  },
  {
   "cell_type": "markdown",
   "metadata": {},
   "source": [
    "Display updated figure (though, like with widgets, this change is \"backreactive\" and will show up above as well):"
   ]
  },
  {
   "cell_type": "code",
   "execution_count": 32,
   "metadata": {},
   "outputs": [
    {
     "data": {
      "application/vnd.jupyter.widget-view+json": {
       "model_id": "6717b2623e2d4497b22ac969e6b1cf92",
       "version_major": 2,
       "version_minor": 0
      },
      "text/plain": [
       "Figure(axes=[Axis(label='X', scale=LinearScale(), side='bottom'), Axis(label='Y', orientation='vertical', scal…"
      ]
     },
     "metadata": {},
     "output_type": "display_data"
    }
   ],
   "source": [
    "fig = bqplot.Figure(marks = [scatters], axes = [x_ax, y_ax], interaction = selector)\n",
    "#display(fig)\n",
    "fig"
   ]
  },
  {
   "cell_type": "markdown",
   "metadata": {},
   "source": [
    "## Random Heatmap with 2D data"
   ]
  },
  {
   "cell_type": "markdown",
   "metadata": {},
   "source": [
    "Lets start thinking about heatmaps with some random data:"
   ]
  },
  {
   "cell_type": "code",
   "execution_count": 33,
   "metadata": {},
   "outputs": [
    {
     "data": {
      "text/plain": [
       "array([[5.18161949e-01, 7.98286668e-01, 8.45918569e-01, 5.65062817e-01,\n",
       "        4.87998671e-01, 3.28149495e-01, 5.37498018e-01, 2.56076958e-01,\n",
       "        7.17537237e-01, 4.35997055e-01],\n",
       "       [6.80726793e-01, 6.50718938e-01, 9.45647275e-01, 5.50165687e-03,\n",
       "        5.25384258e-02, 3.29081154e-01, 2.95054999e-01, 7.87374521e-01,\n",
       "        6.83762085e-01, 5.60821444e-01],\n",
       "       [2.91035425e-01, 1.27386550e-01, 4.00645239e-01, 4.41559024e-01,\n",
       "        3.00047392e-01, 4.44490586e-01, 6.63820758e-01, 9.13074313e-01,\n",
       "        3.57761850e-01, 2.81112814e-01],\n",
       "       [6.81083301e-01, 8.81553969e-01, 5.53703214e-01, 4.65639073e-02,\n",
       "        7.06371055e-01, 5.49598822e-01, 2.63835347e-01, 7.97236025e-01,\n",
       "        1.36590057e-01, 5.03839380e-01],\n",
       "       [5.96231118e-01, 7.03280290e-01, 1.03229655e-01, 4.74274543e-01,\n",
       "        2.95265992e-01, 3.23490637e-01, 6.08607636e-01, 1.22677448e-01,\n",
       "        3.22988132e-01, 8.88838012e-01],\n",
       "       [9.62715996e-01, 3.81747253e-01, 3.44846313e-01, 8.67893847e-01,\n",
       "        7.31389437e-01, 8.79255288e-01, 9.46177455e-01, 8.17412115e-01,\n",
       "        8.99331807e-01, 7.22911556e-01],\n",
       "       [2.62164545e-01, 3.10747890e-01, 1.41637033e-01, 4.18666059e-01,\n",
       "        4.52342423e-01, 7.95405227e-02, 7.48784830e-01, 5.68737550e-01,\n",
       "        2.64929244e-01, 6.20372889e-01],\n",
       "       [3.48410101e-01, 1.01603871e-01, 1.75296274e-01, 2.78845597e-01,\n",
       "        8.50123289e-01, 2.52024093e-01, 3.88510405e-01, 1.99606976e-01,\n",
       "        2.32172919e-01, 5.23248002e-01],\n",
       "       [3.58781574e-01, 3.40374306e-01, 1.93542658e-01, 2.33226209e-01,\n",
       "        5.23322018e-01, 5.95074677e-01, 3.47184191e-01, 1.28753830e-01,\n",
       "        4.28312387e-01, 8.98116199e-01],\n",
       "       [2.76514505e-01, 6.92819957e-01, 5.18280940e-04, 5.58217231e-01,\n",
       "        6.42183248e-02, 1.43722549e-01, 9.24203337e-01, 3.61372770e-01,\n",
       "        9.57058268e-01, 7.86730433e-01]])"
      ]
     },
     "execution_count": 33,
     "metadata": {},
     "output_type": "execute_result"
    }
   ],
   "source": [
    "# 1. Data\n",
    "data = np.random.random((10, 10))\n",
    "data # your's may look different!"
   ]
  },
  {
   "cell_type": "markdown",
   "metadata": {},
   "source": [
    "So we just have a 10 x 10 array here.\n",
    "\n",
    "Lets start by generating a quick heat map with `bqplot`'s `GridHeatMap` marks function. We've been making plots with linear scales before, but now for a heatmap, we will want to make a color scale as well.  Let's start with just assigning a color scale, and going from there:"
   ]
  },
  {
   "cell_type": "code",
   "execution_count": 34,
   "metadata": {},
   "outputs": [],
   "source": [
    "bqplot.ColorScale?"
   ]
  },
  {
   "cell_type": "code",
   "execution_count": 35,
   "metadata": {},
   "outputs": [
    {
     "data": {
      "application/vnd.jupyter.widget-view+json": {
       "model_id": "a70aa314b7e7407a98a9fe764c47ffa7",
       "version_major": 2,
       "version_minor": 0
      },
      "text/plain": [
       "Figure(fig_margin={'top': 60, 'bottom': 60, 'left': 60, 'right': 60}, marks=[GridHeatMap(color=array([[5.18161…"
      ]
     },
     "metadata": {},
     "output_type": "display_data"
    }
   ],
   "source": [
    "# 2. Scales -- in this case, just a color scale\n",
    "col_sc = bqplot.ColorScale() # use bqplot to define a color scale\n",
    "\n",
    "# 3. Axis -- skipping for now\n",
    "\n",
    "# 4. Mark -- use colorscale to make make heatmap of our data:\n",
    "heat_map = bqplot.GridHeatMap(color = data, scales = {'color': col_sc})\n",
    "\n",
    "# 5. Skipping any interactions\n",
    "\n",
    "# Finally: figure\n",
    "fig = bqplot.Figure(marks = [heat_map])\n",
    "fig"
   ]
  },
  {
   "cell_type": "code",
   "execution_count": 36,
   "metadata": {},
   "outputs": [],
   "source": [
    "bqplot.GridHeatMap?"
   ]
  },
  {
   "cell_type": "markdown",
   "metadata": {},
   "source": [
    "There are some things we probably want to do here.  One of them being able to change the color scale -- we spent all this time thinking about color, let's put those thoughts to good use!"
   ]
  },
  {
   "cell_type": "code",
   "execution_count": 37,
   "metadata": {},
   "outputs": [
    {
     "data": {
      "application/vnd.jupyter.widget-view+json": {
       "model_id": "1383be20fdb04f63b1b49d6fe57da065",
       "version_major": 2,
       "version_minor": 0
      },
      "text/plain": [
       "Figure(fig_margin={'top': 60, 'bottom': 60, 'left': 60, 'right': 60}, marks=[GridHeatMap(color=array([[5.18161…"
      ]
     },
     "metadata": {},
     "output_type": "display_data"
    }
   ],
   "source": [
    "# 1. Data -- same as above\n",
    "\n",
    "# 2. Scale -- color with new color scheme\n",
    "col_sc = bqplot.ColorScale(scheme = \"Reds\") # color scheme of reds\n",
    "\n",
    "# 3. skip Axis\n",
    "\n",
    "# 4. Marks -- use colorscale to make make heatmap of our data:\n",
    "heat_map = bqplot.GridHeatMap(color = data, scales = {'color': col_sc})\n",
    "\n",
    "# Figure\n",
    "fig = bqplot.Figure(marks = [heat_map])\n",
    "fig"
   ]
  },
  {
   "cell_type": "markdown",
   "metadata": {},
   "source": [
    "Let's build upon this plot by adding some axis so that we can think about how to label our data.  Currently, we *only* have a color scale for each color in our 10x10 grid, so we will label this color axis with a colorbar:"
   ]
  },
  {
   "cell_type": "code",
   "execution_count": 38,
   "metadata": {},
   "outputs": [],
   "source": [
    "bqplot.ColorAxis?"
   ]
  },
  {
   "cell_type": "code",
   "execution_count": 39,
   "metadata": {},
   "outputs": [
    {
     "data": {
      "application/vnd.jupyter.widget-view+json": {
       "model_id": "b6ab5849b22642deb9fbe9bcd3dc9b46",
       "version_major": 2,
       "version_minor": 0
      },
      "text/plain": [
       "Figure(axes=[ColorAxis(orientation='vertical', scale=ColorScale(scheme='Reds'), side='right')], fig_margin={'t…"
      ]
     },
     "metadata": {},
     "output_type": "display_data"
    }
   ],
   "source": [
    "# 1. Data -- same\n",
    "\n",
    "# 2. Scales -- color\n",
    "col_sc = bqplot.ColorScale(scheme = \"Reds\")\n",
    "# lets plot some axes on our plot as well, in this case\n",
    "#  our axis will be a color bar, vertically on the right\n",
    "#  of our heatmap\n",
    "\n",
    "# 3. Axis (finally) -- here a \"color axis\" is just a colorbar\n",
    "c_ax = bqplot.ColorAxis(scale = col_sc, \n",
    "                        orientation = 'vertical', \n",
    "                        side = 'right') \n",
    "\n",
    "# 4. Marks -- put it all together and lets take a look!\n",
    "heat_map = bqplot.GridHeatMap(color = data, \n",
    "                              scales = {'color': col_sc})\n",
    "\n",
    "# 5. no interactions\n",
    "\n",
    "# generate fig!\n",
    "fig = bqplot.Figure(marks = [heat_map], axes = [c_ax])\n",
    "fig"
   ]
  },
  {
   "cell_type": "markdown",
   "metadata": {},
   "source": [
    "While our x/y bins don't mean anything in particular in this case - we are dealing with just a randomly binned 10x10 dataset after all - we none-the-less probably want to put at least the bin labels on there.  So let's make some x/y scales and some x/y axis (note I'm doing Scales/Axis a bit out of order here to group by kind of axis):"
   ]
  },
  {
   "cell_type": "code",
   "execution_count": 40,
   "metadata": {},
   "outputs": [],
   "source": [
    "x_sc = bqplot.OrdinalScale()\n",
    "y_sc = bqplot.OrdinalScale()\n",
    "\n",
    "x_ax = bqplot.Axis(scale = x_sc)\n",
    "y_ax = bqplot.Axis(scale = y_sc, \n",
    "                   orientation = 'vertical')"
   ]
  },
  {
   "cell_type": "markdown",
   "metadata": {},
   "source": [
    "Why did I choose ordinal scales?  Well again - the bins, while numbered, don't actually mean anything, so in a sense they are \"categorical\" bins, and our scales should reflect that fact!"
   ]
  },
  {
   "cell_type": "markdown",
   "metadata": {},
   "source": [
    "Color scale & color axis like before:"
   ]
  },
  {
   "cell_type": "code",
   "execution_count": 41,
   "metadata": {},
   "outputs": [],
   "source": [
    "col_sc = bqplot.ColorScale(scheme = \"Reds\")\n",
    "\n",
    "c_ax = bqplot.ColorAxis(scale = col_sc, \n",
    "                        orientation = 'vertical', \n",
    "                        side = 'right')"
   ]
  },
  {
   "cell_type": "markdown",
   "metadata": {},
   "source": [
    "Combine all these scales, axis and the data into a heat map mark using `bqplot.GridHeatMap`:"
   ]
  },
  {
   "cell_type": "code",
   "execution_count": 42,
   "metadata": {},
   "outputs": [],
   "source": [
    "# Marks -- lets now re-do our heat map & add in some interactivity:\n",
    "heat_map = bqplot.GridHeatMap(color = data,\n",
    "                              scales = {'color': col_sc,\n",
    "                                        'row': y_sc,\n",
    "                                        'column': x_sc})"
   ]
  },
  {
   "cell_type": "markdown",
   "metadata": {},
   "source": [
    "... put these marks and axes on a figure canvas and plot it!"
   ]
  },
  {
   "cell_type": "code",
   "execution_count": 43,
   "metadata": {},
   "outputs": [
    {
     "data": {
      "application/vnd.jupyter.widget-view+json": {
       "model_id": "7e16c3d5cad1456d88888d37544872a1",
       "version_major": 2,
       "version_minor": 0
      },
      "text/plain": [
       "Figure(axes=[ColorAxis(orientation='vertical', scale=ColorScale(scheme='Reds'), side='right'), Axis(orientatio…"
      ]
     },
     "metadata": {},
     "output_type": "display_data"
    }
   ],
   "source": [
    "# stir and combine into 1 figure\n",
    "fig = bqplot.Figure(marks = [heat_map], \n",
    "                    axes = [c_ax, y_ax, x_ax])\n",
    "\n",
    "fig"
   ]
  },
  {
   "cell_type": "markdown",
   "metadata": {},
   "source": [
    "So, we are almost there -- we don't have any interactivity!  Let's get into it.  In this case, we can actually specify the interaction when we are constructing the `GridHeatMap` mark.  Let's do something when we click on each square.  We can do this with a `click-select` interaction.  "
   ]
  },
  {
   "cell_type": "code",
   "execution_count": 44,
   "metadata": {},
   "outputs": [
    {
     "data": {
      "application/vnd.jupyter.widget-view+json": {
       "model_id": "d52e86eb89f14f0bb94000e4308c5d3d",
       "version_major": 2,
       "version_minor": 0
      },
      "text/plain": [
       "Figure(axes=[ColorAxis(orientation='vertical', scale=ColorScale(scheme='Reds'), side='right'), Axis(orientatio…"
      ]
     },
     "metadata": {},
     "output_type": "display_data"
    }
   ],
   "source": [
    "# 1. Data -- same\n",
    "\n",
    "# 2. Scales -- recopy our scales and axis for posterity:\n",
    "col_sc = bqplot.ColorScale(scheme = \"Reds\")\n",
    "x_sc = bqplot.OrdinalScale()\n",
    "y_sc = bqplot.OrdinalScale()\n",
    "\n",
    "# 3. Axis -- create axis - for colors, x & y\n",
    "c_ax = bqplot.ColorAxis(scale = col_sc, \n",
    "                        orientation = 'vertical', \n",
    "                        side = 'right')\n",
    "x_ax = bqplot.Axis(scale = x_sc)\n",
    "y_ax = bqplot.Axis(scale = y_sc, \n",
    "                   orientation = 'vertical')\n",
    "\n",
    "# 4. Marks -- lets now re-do our heat map & add in some interactivity:\n",
    "heat_map = bqplot.GridHeatMap(color = data,\n",
    "                              scales = {'color': col_sc,\n",
    "                                        'row': y_sc,\n",
    "                                        'column': x_sc},\n",
    "                              interactions = {'click': 'select'}, # make interactive on click of each box\n",
    "                              anchor_style = {'fill':'blue'}, # to make our selection blue\n",
    "                              selected_style = {'opacity': 1.0}, # make 100% opaque if box is selected\n",
    "                              unselected_style = {'opacity': 0.8}) # make a little see-through if not\n",
    "\n",
    "# 5. Note: I put interactions in my marks call here!\n",
    "\n",
    "# stir and combine into 1 figure\n",
    "fig = bqplot.Figure(marks = [heat_map], \n",
    "                    axes = [c_ax, y_ax, x_ax])\n",
    "\n",
    "fig"
   ]
  },
  {
   "cell_type": "markdown",
   "metadata": {},
   "source": [
    "Ok fine, but our selection isn't linked to anything! Lets check out what heat_map selected actually is before we decide to do something with it:"
   ]
  },
  {
   "cell_type": "code",
   "execution_count": 45,
   "metadata": {},
   "outputs": [
    {
     "data": {
      "text/plain": [
       "array([[5, 5]])"
      ]
     },
     "execution_count": 45,
     "metadata": {},
     "output_type": "execute_result"
    }
   ],
   "source": [
    "heat_map.selected\n",
    "#  note if I select a different box & re-run this cell,\n",
    "#  I get out different values"
   ]
  },
  {
   "cell_type": "markdown",
   "metadata": {},
   "source": [
    "So the *trait* of the heat_map that gets updated when we select a box is the x/y indicies.\n",
    "\n",
    "Let's start simple: write a little function that links the data value to the selected & lets print this in a little ipywidgets label:"
   ]
  },
  {
   "cell_type": "code",
   "execution_count": 46,
   "metadata": {},
   "outputs": [],
   "source": [
    "mySelectedLabel = ipywidgets.Label()"
   ]
  },
  {
   "cell_type": "markdown",
   "metadata": {},
   "source": [
    "Let's now define what happens to this label when our heatmap is selected.  If we recall back to when we started learning about ipywidgets and traitlets, this will be a change in the `mySelectedLabel` widget's *value* when a *trait* of our `GridHeatMap` object changes.\n",
    "\n",
    "First, let's define this action, starting simple: just print out whatever is selected:"
   ]
  },
  {
   "cell_type": "code",
   "execution_count": 47,
   "metadata": {},
   "outputs": [],
   "source": [
    "def on_selected(change):\n",
    "    print(change)"
   ]
  },
  {
   "cell_type": "markdown",
   "metadata": {},
   "source": [
    "Now, let's re-construct our heatmap and link this `on_selected` function to the *trait* of the selected heatmap:"
   ]
  },
  {
   "cell_type": "code",
   "execution_count": 48,
   "metadata": {},
   "outputs": [
    {
     "data": {
      "application/vnd.jupyter.widget-view+json": {
       "model_id": "4061da5ee5b643988d8a6f2c7c01e22f",
       "version_major": 2,
       "version_minor": 0
      },
      "text/plain": [
       "Figure(axes=[ColorAxis(orientation='vertical', scale=ColorScale(scheme='Reds'), side='right'), Axis(orientatio…"
      ]
     },
     "metadata": {},
     "output_type": "display_data"
    }
   ],
   "source": [
    "# 1. Data -- same\n",
    "\n",
    "# 2. Scales -- recopy our scales and axis for posterity:\n",
    "col_sc = bqplot.ColorScale(scheme = \"Reds\")\n",
    "x_sc = bqplot.OrdinalScale()\n",
    "y_sc = bqplot.OrdinalScale()\n",
    "\n",
    "# 3. Axis -- create axis - for colors, x & y\n",
    "c_ax = bqplot.ColorAxis(scale = col_sc, \n",
    "                        orientation = 'vertical', \n",
    "                        side = 'right')\n",
    "x_ax = bqplot.Axis(scale = x_sc)\n",
    "y_ax = bqplot.Axis(scale = y_sc, \n",
    "                   orientation = 'vertical')\n",
    "\n",
    "# 4. Marks -- lets now re-do our heat map & add in some interactivity:\n",
    "heat_map = bqplot.GridHeatMap(color = data,\n",
    "                              scales = {'color': col_sc,\n",
    "                                        'row': y_sc,\n",
    "                                        'column': x_sc},\n",
    "                              interactions = {'click': 'select'}, # make interactive on click of each box\n",
    "                              anchor_style = {'fill':'blue'}, # to make our selection blue\n",
    "                              selected_style = {'opacity': 1.0}, # make 100% opaque if box is selected\n",
    "                              unselected_style = {'opacity': 0.8}) # make a little see-through if not\n",
    "\n",
    "# 5. Note: I put interactions in my marks call here.  BUT now we want to actually DO something with our selection\n",
    "## THIS IS ALL WE HAVE ADDED!\n",
    "heat_map.observe(on_selected, 'selected')\n",
    "\n",
    "\n",
    "# stir and combine into 1 figure\n",
    "fig = bqplot.Figure(marks = [heat_map], \n",
    "                    axes = [c_ax, y_ax, x_ax])\n",
    "\n",
    "fig"
   ]
  },
  {
   "cell_type": "markdown",
   "metadata": {},
   "source": [
    "So, we can see that what gets printed out when we select is a dictionary -- this is like a \"change\" dictionary with an ipywidget that we played with last week and it has some familiar things in it like the `old` and `new` keys, the `owner` key, etc.  \n",
    "\n",
    "Check out the `selected=array...` in the above -- this is how we can grab the index of whatever grid we have selected.\n",
    "\n",
    "It also is storing a lot of information about our `GridHeatMap` plot!  \n",
    "\n",
    "Since the change \"owner\" is our heat_map marks, let's print these out so we can access the indicies.  Once we do this, we can then use these indicies to access the data in our plot.  \n",
    "\n",
    "One thing at a time though - let's just print out the selected indicies:"
   ]
  },
  {
   "cell_type": "code",
   "execution_count": 49,
   "metadata": {},
   "outputs": [],
   "source": [
    "def on_selected(change):\n",
    "    print(change['owner'].selected)"
   ]
  },
  {
   "cell_type": "code",
   "execution_count": 50,
   "metadata": {},
   "outputs": [
    {
     "data": {
      "application/vnd.jupyter.widget-view+json": {
       "model_id": "f5e235c50271497385980b47eedf0aa6",
       "version_major": 2,
       "version_minor": 0
      },
      "text/plain": [
       "Figure(axes=[ColorAxis(orientation='vertical', scale=ColorScale(scheme='Reds'), side='right'), Axis(orientatio…"
      ]
     },
     "metadata": {},
     "output_type": "display_data"
    }
   ],
   "source": [
    "# 1. Data -- same\n",
    "\n",
    "# 2. Scales -- recopy our scales and axis for posterity:\n",
    "col_sc = bqplot.ColorScale(scheme = \"Reds\")\n",
    "x_sc = bqplot.OrdinalScale()\n",
    "y_sc = bqplot.OrdinalScale()\n",
    "\n",
    "# 3. Axis -- create axis - for colors, x & y\n",
    "c_ax = bqplot.ColorAxis(scale = col_sc, \n",
    "                        orientation = 'vertical', \n",
    "                        side = 'right')\n",
    "x_ax = bqplot.Axis(scale = x_sc)\n",
    "y_ax = bqplot.Axis(scale = y_sc, \n",
    "                   orientation = 'vertical')\n",
    "\n",
    "# 4. Marks -- lets now re-do our heat map & add in some interactivity:\n",
    "heat_map = bqplot.GridHeatMap(color = data,\n",
    "                              scales = {'color': col_sc,\n",
    "                                        'row': y_sc,\n",
    "                                        'column': x_sc},\n",
    "                              interactions = {'click': 'select'}, # make interactive on click of each box\n",
    "                              anchor_style = {'fill':'blue'}, # to make our selection blue\n",
    "                              selected_style = {'opacity': 1.0}, # make 100% opaque if box is selected\n",
    "                              unselected_style = {'opacity': 0.8}) # make a little see-through if not\n",
    "\n",
    "# 5. Note: I put interactions in my marks call here.  BUT now we want to actually DO something with our selection\n",
    "## THIS IS ALL WE HAVE ADDED!\n",
    "heat_map.observe(on_selected, 'selected')\n",
    "\n",
    "\n",
    "# stir and combine into 1 figure\n",
    "fig = bqplot.Figure(marks = [heat_map], \n",
    "                    axes = [c_ax, y_ax, x_ax])\n",
    "\n",
    "fig"
   ]
  },
  {
   "cell_type": "markdown",
   "metadata": {},
   "source": [
    "It turns out we can actually `SHIFT-select` and select a selection of boxes at one time.  Depending on your browser/OS you can also use `CMD` or `CTRL`-select to select individual boxes.  However, this is a little bit dependent on how your browser/trackpad/mouse is set up.\n",
    "\n",
    "(`CMD`-select doesn't work in notebooks on my Mac, but it does in jupyter-lab.  Go fig.)\n",
    "\n",
    "**DEMONSTRATE**\n",
    "\n",
    "Because of this we actual `selected` set of indicies we want to access can be more than just x/y indicies - it can be an array of indicies representing all of the `SHIFT-select`ed points.\n",
    "\n",
    "For the sake of simplicity, let's *only* do things when we select one point.  So we will *only* take out the first element of this selected array.  Let's print this with our `on_selected` function:"
   ]
  },
  {
   "cell_type": "code",
   "execution_count": 51,
   "metadata": {},
   "outputs": [],
   "source": [
    "def on_selected(change):\n",
    "    if len(change['owner'].selected) == 1:\n",
    "        print(change['owner'].selected[0])\n",
    "    # else: don't update anything"
   ]
  },
  {
   "cell_type": "code",
   "execution_count": 52,
   "metadata": {},
   "outputs": [
    {
     "data": {
      "application/vnd.jupyter.widget-view+json": {
       "model_id": "fff011340c144106bad7b9888d46c7ad",
       "version_major": 2,
       "version_minor": 0
      },
      "text/plain": [
       "Figure(axes=[ColorAxis(orientation='vertical', scale=ColorScale(scheme='Reds'), side='right'), Axis(orientatio…"
      ]
     },
     "metadata": {},
     "output_type": "display_data"
    }
   ],
   "source": [
    "# 1. Data -- same\n",
    "\n",
    "# 2. Scales -- recopy our scales and axis for posterity:\n",
    "col_sc = bqplot.ColorScale(scheme = \"Reds\")\n",
    "x_sc = bqplot.OrdinalScale()\n",
    "y_sc = bqplot.OrdinalScale()\n",
    "\n",
    "# 3. Axis -- create axis - for colors, x & y\n",
    "c_ax = bqplot.ColorAxis(scale = col_sc, \n",
    "                        orientation = 'vertical', \n",
    "                        side = 'right')\n",
    "x_ax = bqplot.Axis(scale = x_sc)\n",
    "y_ax = bqplot.Axis(scale = y_sc, \n",
    "                   orientation = 'vertical')\n",
    "\n",
    "# 4. Marks -- lets now re-do our heat map & add in some interactivity:\n",
    "heat_map = bqplot.GridHeatMap(color = data,\n",
    "                              scales = {'color': col_sc,\n",
    "                                        'row': y_sc,\n",
    "                                        'column': x_sc},\n",
    "                              interactions = {'click': 'select'}, # make interactive on click of each box\n",
    "                              anchor_style = {'fill':'blue'}, # to make our selection blue\n",
    "                              selected_style = {'opacity': 1.0}, # make 100% opaque if box is selected\n",
    "                              unselected_style = {'opacity': 0.8}) # make a little see-through if not\n",
    "\n",
    "# 5. Note: I put interactions in my marks call here.  BUT now we want to actually DO something with our selection\n",
    "## THIS IS ALL WE HAVE ADDED!\n",
    "heat_map.observe(on_selected, 'selected')\n",
    "\n",
    "\n",
    "# stir and combine into 1 figure\n",
    "fig = bqplot.Figure(marks = [heat_map], \n",
    "                    axes = [c_ax, y_ax, x_ax])\n",
    "\n",
    "fig"
   ]
  },
  {
   "cell_type": "markdown",
   "metadata": {},
   "source": [
    "Now you'll notice if I `SHIFT-select` I still only get the set of x/y indicies associated with the blue selected point.  Sweet.\n",
    "\n",
    "Now that we have these indicies in our plot, we can (finally) update our Label widget to print out what the data value is at this point:"
   ]
  },
  {
   "cell_type": "code",
   "execution_count": 53,
   "metadata": {},
   "outputs": [],
   "source": [
    "def on_selected(change):\n",
    "    if len(change['owner'].selected) == 1: #only 1 selected\n",
    "        i, j = change['owner'].selected[0] # grab the x/y coordinates\n",
    "        v = data[i,j] # grab data value\n",
    "        mySelectedLabel.value = 'Data Value = ' + str(v) # set our label"
   ]
  },
  {
   "cell_type": "markdown",
   "metadata": {},
   "source": [
    "Now we just have to make sure we show both of the figure and the label when we display:"
   ]
  },
  {
   "cell_type": "code",
   "execution_count": 54,
   "metadata": {},
   "outputs": [
    {
     "data": {
      "application/vnd.jupyter.widget-view+json": {
       "model_id": "1ff60df4e2eb4f6e93f035d294fd3e39",
       "version_major": 2,
       "version_minor": 0
      },
      "text/plain": [
       "VBox(children=(Label(value=''), Figure(axes=[ColorAxis(orientation='vertical', scale=ColorScale(scheme='Reds')…"
      ]
     },
     "metadata": {},
     "output_type": "display_data"
    }
   ],
   "source": [
    "# 1. Data -- same\n",
    "\n",
    "# 2. Scales -- recopy our scales and axis for posterity:\n",
    "col_sc = bqplot.ColorScale(scheme = \"Reds\")\n",
    "x_sc = bqplot.OrdinalScale()\n",
    "y_sc = bqplot.OrdinalScale()\n",
    "\n",
    "# 3. Axis -- create axis - for colors, x & y\n",
    "c_ax = bqplot.ColorAxis(scale = col_sc, \n",
    "                        orientation = 'vertical', \n",
    "                        side = 'right')\n",
    "x_ax = bqplot.Axis(scale = x_sc)\n",
    "y_ax = bqplot.Axis(scale = y_sc, \n",
    "                   orientation = 'vertical')\n",
    "\n",
    "# 4. Marks -- lets now re-do our heat map & add in some interactivity:\n",
    "heat_map = bqplot.GridHeatMap(color = data,\n",
    "                              scales = {'color': col_sc,\n",
    "                                        'row': y_sc,\n",
    "                                        'column': x_sc},\n",
    "                              interactions = {'click': 'select'}, # make interactive on click of each box\n",
    "                              anchor_style = {'fill':'blue'}, # to make our selection blue\n",
    "                              selected_style = {'opacity': 1.0}, # make 100% opaque if box is selected\n",
    "                              unselected_style = {'opacity': 0.8}) # make a little see-through if not\n",
    "\n",
    "# 5. Note: I put interactions in my marks call here.  BUT now we want to actually DO something with our selection\n",
    "## THIS IS ALL WE HAVE ADDED!\n",
    "heat_map.observe(on_selected, 'selected')\n",
    "\n",
    "\n",
    "# stir and combine into 1 figure\n",
    "fig = bqplot.Figure(marks = [heat_map], \n",
    "                    axes = [c_ax, y_ax, x_ax])\n",
    "\n",
    "\n",
    "# ADDED: putting widget and plot together\n",
    "myDashboard = ipywidgets.VBox([mySelectedLabel, fig]) # have label on top of fig\n",
    "myDashboard # show"
   ]
  },
  {
   "cell_type": "markdown",
   "metadata": {},
   "source": [
    "Hey neat!  So now when we do an action, in this case selecting, on one object (the heat map) we have updates *tied to* another object, in this case we are also updating our label widget's value.\n",
    "\n",
    "This is how we will build up dashboards that allow us to display different aspects of our data in linked views.\n",
    "\n",
    "Let's practice one of these linked views now by making a linked histogram of a 3D dataset instead of printing the value with a 2D dataset."
   ]
  },
  {
   "cell_type": "markdown",
   "metadata": {},
   "source": [
    "## Random heatmap + Histogram with 3D data"
   ]
  },
  {
   "cell_type": "markdown",
   "metadata": {},
   "source": [
    "Now let's move on to making a preliminary dashboard for multi-dimensional datasets. Let's first start with some randomly generated data again, this time in 3D:"
   ]
  },
  {
   "cell_type": "code",
   "execution_count": 55,
   "metadata": {
    "scrolled": true
   },
   "outputs": [
    {
     "data": {
      "text/plain": [
       "array([[[8.11673060e-01, 2.97751192e-01, 5.02234330e-02, ...,\n",
       "         1.15766120e-01, 5.33857271e-01, 7.63640002e-01],\n",
       "        [5.43977621e-01, 2.78283406e-01, 3.69298866e-01, ...,\n",
       "         5.95890174e-01, 8.58693388e-01, 7.79772999e-01],\n",
       "        [2.50597894e-01, 5.81543200e-01, 1.28116287e-01, ...,\n",
       "         3.90555750e-02, 4.85757164e-01, 2.66765560e-01],\n",
       "        ...,\n",
       "        [2.98326835e-02, 3.67890393e-01, 2.08386008e-01, ...,\n",
       "         9.26903270e-01, 4.19156296e-01, 2.97102645e-01],\n",
       "        [7.04164050e-01, 6.01641098e-01, 8.87687115e-01, ...,\n",
       "         7.84991724e-01, 3.80369793e-01, 8.09482859e-01],\n",
       "        [2.23582119e-01, 3.38575345e-01, 6.09732919e-04, ...,\n",
       "         6.57117579e-01, 7.87451765e-01, 6.16237453e-01]],\n",
       "\n",
       "       [[9.01416842e-01, 8.75112682e-01, 6.91408469e-01, ...,\n",
       "         9.43944635e-01, 9.12539225e-01, 3.78856166e-01],\n",
       "        [3.39046347e-01, 4.77046700e-01, 9.55689004e-01, ...,\n",
       "         2.21801201e-01, 5.35968567e-01, 7.02025595e-01],\n",
       "        [1.38529360e-01, 6.23763633e-01, 2.37020473e-01, ...,\n",
       "         6.87642290e-01, 8.38149847e-03, 4.30393362e-01],\n",
       "        ...,\n",
       "        [8.26565590e-01, 5.88728384e-01, 6.36892510e-01, ...,\n",
       "         3.73880628e-01, 9.12665521e-01, 8.93206098e-02],\n",
       "        [8.73647432e-01, 7.36129613e-01, 8.88352700e-01, ...,\n",
       "         9.23600987e-01, 9.36123205e-01, 1.65586748e-01],\n",
       "        [2.95201858e-01, 2.86745176e-01, 6.57626183e-01, ...,\n",
       "         6.14308318e-01, 1.14770408e-01, 9.42585567e-01]],\n",
       "\n",
       "       [[3.25799594e-01, 7.46197913e-01, 2.11412604e-01, ...,\n",
       "         1.57473434e-01, 3.26122566e-01, 2.64279449e-01],\n",
       "        [3.22280230e-01, 5.32796599e-01, 7.21958943e-01, ...,\n",
       "         9.25851558e-01, 8.60874861e-01, 9.63487150e-01],\n",
       "        [6.94446775e-02, 2.00850884e-01, 4.10707947e-01, ...,\n",
       "         1.83710504e-01, 2.07153599e-01, 4.51246157e-01],\n",
       "        ...,\n",
       "        [6.14259625e-01, 7.52267835e-01, 3.24092429e-01, ...,\n",
       "         3.88187356e-01, 6.95981224e-01, 2.38428935e-01],\n",
       "        [3.20800705e-01, 4.17645215e-01, 4.39793786e-01, ...,\n",
       "         8.75348893e-01, 6.76860055e-01, 7.66630709e-01],\n",
       "        [2.79277338e-01, 3.14830702e-01, 5.62195580e-02, ...,\n",
       "         4.74853572e-01, 1.42056703e-01, 4.78772380e-01]],\n",
       "\n",
       "       ...,\n",
       "\n",
       "       [[3.20192877e-01, 2.37134014e-01, 7.98952702e-01, ...,\n",
       "         5.73543631e-01, 7.37791555e-01, 4.14510743e-01],\n",
       "        [4.86689265e-01, 3.68225319e-01, 4.93785221e-02, ...,\n",
       "         8.23089493e-01, 5.02799299e-01, 2.01607885e-01],\n",
       "        [1.32792090e-01, 3.89328623e-02, 5.00785082e-01, ...,\n",
       "         4.03199870e-01, 9.01572643e-01, 8.56351045e-01],\n",
       "        ...,\n",
       "        [6.64965304e-01, 8.57439939e-01, 6.88598541e-01, ...,\n",
       "         7.98101047e-01, 7.20957488e-01, 8.55813940e-01],\n",
       "        [1.91811937e-01, 9.39809368e-02, 1.19893220e-01, ...,\n",
       "         2.71838906e-01, 4.09128919e-01, 2.42885635e-01],\n",
       "        [2.72109707e-01, 4.01102732e-01, 5.40617900e-01, ...,\n",
       "         7.94356939e-01, 2.24092723e-01, 1.86954035e-03]],\n",
       "\n",
       "       [[4.43668810e-01, 7.46819311e-01, 4.57253364e-02, ...,\n",
       "         8.66048654e-01, 3.08640872e-01, 2.17646562e-02],\n",
       "        [2.77772950e-01, 5.41179640e-01, 5.41335924e-01, ...,\n",
       "         8.04782013e-01, 3.16852890e-01, 2.40025354e-01],\n",
       "        [3.14489207e-01, 8.19642043e-02, 1.45705031e-01, ...,\n",
       "         7.43655849e-01, 8.96103209e-01, 3.11373521e-01],\n",
       "        ...,\n",
       "        [8.98571846e-01, 6.01843991e-01, 4.38083573e-02, ...,\n",
       "         7.14852184e-01, 8.64252576e-01, 2.51734592e-01],\n",
       "        [9.58796378e-01, 1.60821330e-01, 9.81102748e-01, ...,\n",
       "         6.64971029e-01, 3.74201969e-01, 8.55598848e-01],\n",
       "        [5.98629179e-01, 2.67231959e-01, 2.45027006e-01, ...,\n",
       "         2.57552078e-01, 9.31608178e-01, 1.14159642e-01]],\n",
       "\n",
       "       [[4.83642276e-01, 5.07590002e-01, 1.77196413e-01, ...,\n",
       "         7.29694971e-01, 7.67138590e-01, 5.28802679e-01],\n",
       "        [5.56126329e-01, 3.96091449e-01, 1.27262621e-02, ...,\n",
       "         6.07624250e-01, 3.63692256e-01, 7.99014378e-01],\n",
       "        [6.56997227e-01, 6.59317938e-01, 2.38302857e-01, ...,\n",
       "         4.23831111e-01, 1.96365209e-01, 9.95283679e-01],\n",
       "        ...,\n",
       "        [9.37852715e-01, 1.97741341e-01, 7.89882624e-01, ...,\n",
       "         7.25809504e-01, 5.47895490e-01, 1.99751749e-01],\n",
       "        [1.01240366e-01, 5.14518054e-01, 2.35544227e-01, ...,\n",
       "         5.62483026e-02, 1.51031704e-01, 5.87699371e-01],\n",
       "        [6.33119980e-01, 3.55656938e-01, 2.29569186e-01, ...,\n",
       "         6.69007626e-01, 2.30733694e-01, 7.05490515e-01]]])"
      ]
     },
     "execution_count": 55,
     "metadata": {},
     "output_type": "execute_result"
    }
   ],
   "source": [
    "data = np.random.random((10, 10,20))\n",
    "data"
   ]
  },
  {
   "cell_type": "code",
   "execution_count": 56,
   "metadata": {},
   "outputs": [
    {
     "data": {
      "text/plain": [
       "(10, 10, 20)"
      ]
     },
     "execution_count": 56,
     "metadata": {},
     "output_type": "execute_result"
    }
   ],
   "source": [
    "data.shape"
   ]
  },
  {
   "cell_type": "code",
   "execution_count": 57,
   "metadata": {},
   "outputs": [
    {
     "data": {
      "text/plain": [
       "array([0.81167306, 0.29775119, 0.05022343, 0.75775461, 0.46465042,\n",
       "       0.21416507, 0.131985  , 0.58947541, 0.82184187, 0.55550078,\n",
       "       0.05591085, 0.99560596, 0.15949702, 0.05506187, 0.74824293,\n",
       "       0.44144437, 0.05564853, 0.11576612, 0.53385727, 0.76364   ])"
      ]
     },
     "execution_count": 57,
     "metadata": {},
     "output_type": "execute_result"
    }
   ],
   "source": [
    "data[0,0,:]\n",
    "# we can see that no instead of 1 value, each \"i,j\" component\n",
    "#  has an array of values"
   ]
  },
  {
   "cell_type": "markdown",
   "metadata": {},
   "source": [
    "Make the heatmap plot like before.\n",
    "\n",
    "First, scales and axis (x/y and color):"
   ]
  },
  {
   "cell_type": "code",
   "execution_count": 58,
   "metadata": {},
   "outputs": [],
   "source": [
    "# Scales: now add scales - colors, x & y\n",
    "col_sc = bqplot.ColorScale(scheme = \"Reds\")\n",
    "x_sc = bqplot.OrdinalScale()\n",
    "y_sc = bqplot.OrdinalScale()\n",
    "\n",
    "# Axis: create axis - for colors, x & y\n",
    "c_ax = bqplot.ColorAxis(scale = col_sc, \n",
    "                        orientation = 'vertical', \n",
    "                        side = 'right')\n",
    "x_ax = bqplot.Axis(scale = x_sc)\n",
    "y_ax = bqplot.Axis(scale = y_sc, \n",
    "                   orientation = 'vertical')"
   ]
  },
  {
   "cell_type": "markdown",
   "metadata": {},
   "source": [
    "Now, instead of feeding in `data` like we did in 2D for our heatmap, let's feed in the sum of data along the z-axis:"
   ]
  },
  {
   "cell_type": "code",
   "execution_count": 59,
   "metadata": {},
   "outputs": [],
   "source": [
    "# Marks: lets now re-do our heat map & add in some interactivity:\n",
    "heat_map = bqplot.GridHeatMap(color = np.sum(data, axis=2),\n",
    "                              scales = {'color': col_sc,\n",
    "                                        'row': y_sc,\n",
    "                                        'column': x_sc},\n",
    "                              interactions = {'click': 'select'}, # make interactive on click of each box\n",
    "                              anchor_style = {'fill':'blue'}, # to make our selection blue\n",
    "                              selected_style = {'opacity': 1.0}, # make 100% opaque if box is selected\n",
    "                              unselected_style = {'opacity': 0.8}) # make a little see-through if not"
   ]
  },
  {
   "cell_type": "markdown",
   "metadata": {},
   "source": [
    "Let's include our label in our dashboard:"
   ]
  },
  {
   "cell_type": "code",
   "execution_count": 60,
   "metadata": {},
   "outputs": [],
   "source": [
    "# create label again\n",
    "mySelectedLabel = ipywidgets.Label()"
   ]
  },
  {
   "cell_type": "markdown",
   "metadata": {},
   "source": [
    "This time, let's have the data print out the sum along the z-axis instead of just a data value at an x/y index position:"
   ]
  },
  {
   "cell_type": "code",
   "execution_count": 61,
   "metadata": {},
   "outputs": [],
   "source": [
    "def on_selected(change):\n",
    "    if len(change['owner'].selected) == 1: #only 1 selected\n",
    "        i, j = change['owner'].selected[0] # grab the x/y coordinates\n",
    "        v = data[i,j].sum() # grab data value at x/y index and sum along z\n",
    "        mySelectedLabel.value = 'Data Sum = ' + str(v) # set our label"
   ]
  },
  {
   "cell_type": "markdown",
   "metadata": {},
   "source": [
    "Observe change:"
   ]
  },
  {
   "cell_type": "code",
   "execution_count": 62,
   "metadata": {},
   "outputs": [],
   "source": [
    "heat_map.observe(on_selected, 'selected')"
   ]
  },
  {
   "cell_type": "markdown",
   "metadata": {},
   "source": [
    "Combine and display:"
   ]
  },
  {
   "cell_type": "code",
   "execution_count": 63,
   "metadata": {},
   "outputs": [
    {
     "data": {
      "application/vnd.jupyter.widget-view+json": {
       "model_id": "decf34da77e9486696c15a6daf6efa23",
       "version_major": 2,
       "version_minor": 0
      },
      "text/plain": [
       "VBox(children=(Label(value=''), Figure(axes=[ColorAxis(orientation='vertical', scale=ColorScale(scheme='Reds')…"
      ]
     },
     "metadata": {},
     "output_type": "display_data"
    }
   ],
   "source": [
    "fig = bqplot.Figure(marks = [heat_map], axes = [c_ax, y_ax, x_ax])\n",
    "\n",
    "myDashboard = ipywidgets.VBox([mySelectedLabel, fig])\n",
    "myDashboard"
   ]
  },
  {
   "cell_type": "markdown",
   "metadata": {},
   "source": [
    "Ultimately what we want to do is select an x/y grid and then \"expand\" our data along z into a histogram such that if we select a grid on our heatmap a new histogram is generated that shows the distribution of values along z.  \n",
    "\n",
    "Before we link these two things together, let's make a histogram of a single \"z\" value by fixing our x/y indicies:"
   ]
  },
  {
   "cell_type": "code",
   "execution_count": 64,
   "metadata": {},
   "outputs": [],
   "source": [
    "i,j = 0,0 # can be any combo"
   ]
  },
  {
   "cell_type": "code",
   "execution_count": 65,
   "metadata": {},
   "outputs": [
    {
     "data": {
      "text/plain": [
       "array([0.81167306, 0.29775119, 0.05022343, 0.75775461, 0.46465042,\n",
       "       0.21416507, 0.131985  , 0.58947541, 0.82184187, 0.55550078,\n",
       "       0.05591085, 0.99560596, 0.15949702, 0.05506187, 0.74824293,\n",
       "       0.44144437, 0.05564853, 0.11576612, 0.53385727, 0.76364   ])"
      ]
     },
     "execution_count": 65,
     "metadata": {},
     "output_type": "execute_result"
    }
   ],
   "source": [
    "data[i,j] # 20 elements"
   ]
  },
  {
   "cell_type": "markdown",
   "metadata": {},
   "source": [
    "Let's make a histogram.    \n",
    "\n",
    "Let's think about what our x/y scales will be: we want to show the distribution of values along z.  Intuitavely, we know this will go between $\\sim$0-1 since we have randomly generated values.\n",
    "\n",
    "So, our \"x\" axis for this plot should be a linear scale so it can go from 0-1, and our \"y\" axis should be linear and will show the frequency of values in each bin.\n",
    "\n",
    "Scales:"
   ]
  },
  {
   "cell_type": "code",
   "execution_count": 66,
   "metadata": {},
   "outputs": [],
   "source": [
    "x_sch = bqplot.LinearScale()\n",
    "y_sch = bqplot.LinearScale()"
   ]
  },
  {
   "cell_type": "markdown",
   "metadata": {},
   "source": [
    "Let's make axis with these scales:"
   ]
  },
  {
   "cell_type": "code",
   "execution_count": 67,
   "metadata": {},
   "outputs": [],
   "source": [
    "x_axh = bqplot.Axis(scale = x_sch, label = 'Value of 3rd axis')\n",
    "y_axh = bqplot.Axis(scale = y_sch, \n",
    "                    orientation = 'vertical', \n",
    "                    label='Frequency')"
   ]
  },
  {
   "cell_type": "markdown",
   "metadata": {},
   "source": [
    "Now we will use `bqplot.Hist` to make this histogram:"
   ]
  },
  {
   "cell_type": "code",
   "execution_count": 68,
   "metadata": {},
   "outputs": [],
   "source": [
    "hist = bqplot.Hist(sample = data[i,j,:],\n",
    "                   normalized = False, # normalized=False means we get counts in each bin\n",
    "                   scales = {'sample': x_sch, 'count': y_sch}, # sample is data values, count is frequency\n",
    "                   bins = 5) # number of bins"
   ]
  },
  {
   "cell_type": "markdown",
   "metadata": {},
   "source": [
    "Note here that we specified this plot in a different way than the `GridHeatMap` and `Scatter` -- each type of `bqplot` plot has different parameters associated with the type of plot we are using."
   ]
  },
  {
   "cell_type": "code",
   "execution_count": 69,
   "metadata": {},
   "outputs": [
    {
     "data": {
      "application/vnd.jupyter.widget-view+json": {
       "model_id": "3df3698c38b041b0a8c2c7d4c5c3ad50",
       "version_major": 2,
       "version_minor": 0
      },
      "text/plain": [
       "Figure(axes=[Axis(label='Value of 3rd axis', scale=LinearScale(), side='bottom'), Axis(label='Frequency', orie…"
      ]
     },
     "metadata": {},
     "output_type": "display_data"
    }
   ],
   "source": [
    "figh = bqplot.Figure(marks = [hist], axes = [x_axh, y_axh])\n",
    "figh"
   ]
  },
  {
   "cell_type": "markdown",
   "metadata": {},
   "source": [
    "Let's pause here and think about how to link up our histogram i,j with our selections on the heatmap.  First, what values of the histogram can we update?  Let's check:"
   ]
  },
  {
   "cell_type": "code",
   "execution_count": 70,
   "metadata": {},
   "outputs": [
    {
     "data": {
      "text/plain": [
       "['_model_module',\n",
       " '_model_module_version',\n",
       " '_model_name',\n",
       " '_view_count',\n",
       " '_view_module',\n",
       " '_view_module_version',\n",
       " '_view_name',\n",
       " 'apply_clip',\n",
       " 'bins',\n",
       " 'colors',\n",
       " 'count',\n",
       " 'display_legend',\n",
       " 'enable_hover',\n",
       " 'interactions',\n",
       " 'labels',\n",
       " 'midpoints',\n",
       " 'normalized',\n",
       " 'opacities',\n",
       " 'preserve_domain',\n",
       " 'sample',\n",
       " 'scales',\n",
       " 'scales_metadata',\n",
       " 'selected',\n",
       " 'selected_style',\n",
       " 'stroke',\n",
       " 'tooltip',\n",
       " 'tooltip_location',\n",
       " 'tooltip_style',\n",
       " 'unselected_style',\n",
       " 'visible']"
      ]
     },
     "execution_count": 70,
     "metadata": {},
     "output_type": "execute_result"
    }
   ],
   "source": [
    "hist.keys"
   ]
  },
  {
   "cell_type": "code",
   "execution_count": 71,
   "metadata": {},
   "outputs": [
    {
     "data": {
      "text/plain": [
       "array([0.81167306, 0.29775119, 0.05022343, 0.75775461, 0.46465042,\n",
       "       0.21416507, 0.131985  , 0.58947541, 0.82184187, 0.55550078,\n",
       "       0.05591085, 0.99560596, 0.15949702, 0.05506187, 0.74824293,\n",
       "       0.44144437, 0.05564853, 0.11576612, 0.53385727, 0.76364   ])"
      ]
     },
     "execution_count": 71,
     "metadata": {},
     "output_type": "execute_result"
    }
   ],
   "source": [
    "hist.sample"
   ]
  },
  {
   "cell_type": "markdown",
   "metadata": {},
   "source": [
    "Hey!  Here is where our data values are stored!  Like with when we observe changes in our heat map and update the values of our ipywidget's value we want to also update this sample's data!  \n",
    "\n",
    "Let's update our `on_selected` function to reflect this:"
   ]
  },
  {
   "cell_type": "code",
   "execution_count": 72,
   "metadata": {},
   "outputs": [],
   "source": [
    "def on_selected(change):\n",
    "    if len(change['owner'].selected) == 1: #only 1 selected\n",
    "        i, j = change['owner'].selected[0] # grab the x/y coordinates\n",
    "        v = data[i,j].sum() # grab data value at x/y index and sum along z\n",
    "        mySelectedLabel.value = 'Data Sum = ' + str(v) # set our label\n",
    "        # NOW ALSO: update our histogram\n",
    "        hist.sample = data[i,j,:]"
   ]
  },
  {
   "cell_type": "markdown",
   "metadata": {},
   "source": [
    "We don't have to go through the exersise of rebuilding our heatmap and histogram in general, but let's just do it for the sake of completeness and not accidentally re-linking thinks we shouldn't:"
   ]
  },
  {
   "cell_type": "markdown",
   "metadata": {},
   "source": [
    "#1 heatmap:"
   ]
  },
  {
   "cell_type": "code",
   "execution_count": 73,
   "metadata": {},
   "outputs": [],
   "source": [
    "# (1) Scales: x/y, colors\n",
    "col_sc = bqplot.ColorScale(scheme = \"Reds\")\n",
    "x_sc = bqplot.OrdinalScale()\n",
    "y_sc = bqplot.OrdinalScale()\n",
    "\n",
    "# (2) Axis: x/y, colors\n",
    "c_ax = bqplot.ColorAxis(scale = col_sc, \n",
    "                        orientation = 'vertical', \n",
    "                        side = 'right')\n",
    "x_ax = bqplot.Axis(scale = x_sc)\n",
    "y_ax = bqplot.Axis(scale = y_sc, \n",
    "                   orientation = 'vertical')\n",
    "\n",
    "# (3) Marks: heatmap\n",
    "heat_map = bqplot.GridHeatMap(color = np.sum(data, axis=2),\n",
    "                              scales = {'color': col_sc,\n",
    "                                        'row': y_sc,\n",
    "                                        'column': x_sc},\n",
    "                              interactions = {'click': 'select'}, # make interactive on click of each box\n",
    "                              anchor_style = {'fill':'blue'}, # to make our selection blue\n",
    "                              selected_style = {'opacity': 1.0}, # make 100% opaque if box is selected\n",
    "                              unselected_style = {'opacity': 0.8}) # make a little see-through if not\n",
    "\n",
    "# (4) Link selection on heatmap to other things\n",
    "heat_map.observe(on_selected, 'selected')\n",
    "\n",
    "# (5) Paint heatmap canvas, don't display yet:\n",
    "fig_heatmap = bqplot.Figure(marks = [heat_map], axes = [c_ax, y_ax, x_ax])"
   ]
  },
  {
   "cell_type": "markdown",
   "metadata": {},
   "source": [
    "#2 histogram:"
   ]
  },
  {
   "cell_type": "code",
   "execution_count": 74,
   "metadata": {},
   "outputs": [],
   "source": [
    "# (1) scales: x/y, linear\n",
    "x_sch = bqplot.LinearScale() # range of z-axis data\n",
    "y_sch = bqplot.LinearScale() # frequency of z-axis data in bins\n",
    "\n",
    "# (2) axis: x/y\n",
    "x_axh = bqplot.Axis(scale = x_sch, label = 'Value of 3rd axis')\n",
    "y_axh = bqplot.Axis(scale = y_sch, \n",
    "                    orientation = 'vertical', \n",
    "                    label='Frequency')\n",
    "\n",
    "# (3) Marks: histogram - start with just 0,0 in i/j -- can do other place holders\n",
    "hist = bqplot.Hist(sample = data[0,0,:],\n",
    "                   normalized = False, # normalized=False means we get counts in each bin\n",
    "                   scales = {'sample': x_sch, 'count': y_sch}, # sample is data values, count is frequency\n",
    "                   bins = 5) # number of bins\n",
    "\n",
    "# (4) NO LINKING ON HISTOGRAM SIDE\n",
    "\n",
    "# (5) Paint histogram canvas, don't display yet\n",
    "fig_hist = bqplot.Figure(marks = [hist], axes = [x_axh, y_axh])"
   ]
  },
  {
   "cell_type": "markdown",
   "metadata": {},
   "source": [
    "Create dashboard layout and display:"
   ]
  },
  {
   "cell_type": "code",
   "execution_count": 75,
   "metadata": {},
   "outputs": [
    {
     "data": {
      "application/vnd.jupyter.widget-view+json": {
       "model_id": "1f237a9df3c14b568f66be434941840e",
       "version_major": 2,
       "version_minor": 0
      },
      "text/plain": [
       "VBox(children=(Label(value=''), HBox(children=(Figure(axes=[ColorAxis(orientation='vertical', scale=ColorScale…"
      ]
     },
     "metadata": {},
     "output_type": "display_data"
    }
   ],
   "source": [
    "# side by side figures\n",
    "figures = ipywidgets.HBox([fig_heatmap, fig_hist])\n",
    "\n",
    "# label on top\n",
    "myDashboard = ipywidgets.VBox([mySelectedLabel, figures])\n",
    "myDashboard"
   ]
  },
  {
   "cell_type": "markdown",
   "metadata": {},
   "source": [
    "Ok close, but its all smooshed!  We can play with the layout of our plots before we display.  To do this we use some more CSS-like styling options, in particular, `layout`:"
   ]
  },
  {
   "cell_type": "code",
   "execution_count": 76,
   "metadata": {},
   "outputs": [
    {
     "data": {
      "application/vnd.jupyter.widget-view+json": {
       "model_id": "2b791a8fe6fe47348e9316bf14f0a83f",
       "version_major": 2,
       "version_minor": 0
      },
      "text/plain": [
       "VBox(children=(Label(value=''), HBox(children=(Figure(axes=[ColorAxis(orientation='vertical', scale=ColorScale…"
      ]
     },
     "metadata": {},
     "output_type": "display_data"
    }
   ],
   "source": [
    "# mess with figure layout:\n",
    "fig_heatmap.layout.min_width = '500px' # feel free to change for your screen\n",
    "fig_hist.layout.min_width = '500px'\n",
    "\n",
    "# side by side figures\n",
    "figures = ipywidgets.HBox([fig_heatmap, fig_hist])\n",
    "\n",
    "# label on top\n",
    "myDashboard = ipywidgets.VBox([mySelectedLabel, figures])\n",
    "myDashboard"
   ]
  },
  {
   "cell_type": "markdown",
   "metadata": {},
   "source": [
    "Note that update was \"back-reactive\" in that it changed the figure layout above as well!  Super sweet!"
   ]
  },
  {
   "cell_type": "markdown",
   "metadata": {},
   "source": [
    "#### Further complications: linking in different directions\n",
    "\n",
    "We can also apply some other links to further enhance our dashboard.  One that we've messed with before is allowing the user to select the number of bins of a histogram.\n",
    "\n",
    "There are a few ways to do this, but one \"easier\" way is to just link the histogram \"bins\" with the value of a bins-slider.  \n",
    "\n",
    "If we recall: `bins` was another key that was listed in hist:"
   ]
  },
  {
   "cell_type": "code",
   "execution_count": 77,
   "metadata": {},
   "outputs": [
    {
     "data": {
      "text/plain": [
       "['_model_module',\n",
       " '_model_module_version',\n",
       " '_model_name',\n",
       " '_view_count',\n",
       " '_view_module',\n",
       " '_view_module_version',\n",
       " '_view_name',\n",
       " 'apply_clip',\n",
       " 'bins',\n",
       " 'colors',\n",
       " 'count',\n",
       " 'display_legend',\n",
       " 'enable_hover',\n",
       " 'interactions',\n",
       " 'labels',\n",
       " 'midpoints',\n",
       " 'normalized',\n",
       " 'opacities',\n",
       " 'preserve_domain',\n",
       " 'sample',\n",
       " 'scales',\n",
       " 'scales_metadata',\n",
       " 'selected',\n",
       " 'selected_style',\n",
       " 'stroke',\n",
       " 'tooltip',\n",
       " 'tooltip_location',\n",
       " 'tooltip_style',\n",
       " 'unselected_style',\n",
       " 'visible']"
      ]
     },
     "execution_count": 77,
     "metadata": {},
     "output_type": "execute_result"
    }
   ],
   "source": [
    "hist.keys"
   ]
  },
  {
   "cell_type": "code",
   "execution_count": 78,
   "metadata": {},
   "outputs": [],
   "source": [
    "hist.bins = 5 # this changes the bins of our histogram above in a back-reactive way -- traitlets magic!"
   ]
  },
  {
   "cell_type": "markdown",
   "metadata": {},
   "source": [
    "Let's add a little integer slider to allow our user to select the number of bins for the histogram:"
   ]
  },
  {
   "cell_type": "code",
   "execution_count": 79,
   "metadata": {},
   "outputs": [],
   "source": [
    "bins_slider = ipywidgets.IntSlider(value=5, min=1, max=data.shape[2]) # don't make more bins than data points!"
   ]
  },
  {
   "cell_type": "markdown",
   "metadata": {},
   "source": [
    "A reminder of what this looks like:"
   ]
  },
  {
   "cell_type": "code",
   "execution_count": 80,
   "metadata": {},
   "outputs": [
    {
     "data": {
      "application/vnd.jupyter.widget-view+json": {
       "model_id": "63eb2c4d57184855a01d1dd302f1edfb",
       "version_major": 2,
       "version_minor": 0
      },
      "text/plain": [
       "IntSlider(value=5, max=20, min=1)"
      ]
     },
     "metadata": {},
     "output_type": "display_data"
    }
   ],
   "source": [
    "bins_slider"
   ]
  },
  {
   "cell_type": "markdown",
   "metadata": {},
   "source": [
    "We can use `link` or `jslink` to link the value of this slider to our histogram's number of bins:"
   ]
  },
  {
   "cell_type": "code",
   "execution_count": 81,
   "metadata": {},
   "outputs": [
    {
     "data": {
      "text/plain": [
       "Link(source=(IntSlider(value=5, max=20, min=1), 'value'), target=(Hist(bins=5, colors=['steelblue'], count=arr…"
      ]
     },
     "metadata": {},
     "output_type": "display_data"
    }
   ],
   "source": [
    "ipywidgets.jslink((bins_slider, 'value'), (hist, 'bins'))"
   ]
  },
  {
   "cell_type": "markdown",
   "metadata": {},
   "source": [
    "While this change is \"backreactive\", let's redo our figure layout so we can see everything a bit better:"
   ]
  },
  {
   "cell_type": "code",
   "execution_count": 82,
   "metadata": {},
   "outputs": [
    {
     "data": {
      "application/vnd.jupyter.widget-view+json": {
       "model_id": "881a2d3bebfd435db027d906e3c0d079",
       "version_major": 2,
       "version_minor": 0
      },
      "text/plain": [
       "VBox(children=(HBox(children=(Label(value='Data Sum = 9.181232186389362'), IntSlider(value=5, max=20, min=1)))…"
      ]
     },
     "metadata": {},
     "output_type": "display_data"
    }
   ],
   "source": [
    "# mess with figure layout:\n",
    "fig_heatmap.layout.min_width = '500px' # feel free to change for your screen\n",
    "fig_hist.layout.min_width = '500px'\n",
    "\n",
    "# side by side figures\n",
    "figures = ipywidgets.HBox([fig_heatmap, fig_hist])\n",
    "\n",
    "# label on top to the left, bins slider to the right\n",
    "controls = ipywidgets.HBox([mySelectedLabel, bins_slider])\n",
    "\n",
    "# combined\n",
    "myDashboard = ipywidgets.VBox([controls, figures])\n",
    "myDashboard"
   ]
  },
  {
   "cell_type": "markdown",
   "metadata": {},
   "source": [
    "## Interactive plots with bqplot's matplotlib-like interface\n",
    "\n",
    "There is a `matplotlib`-like interface in `bqplot` that we can also use to make interactive figures."
   ]
  },
  {
   "cell_type": "code",
   "execution_count": 83,
   "metadata": {},
   "outputs": [],
   "source": [
    "import bqplot.pyplot as bplt"
   ]
  },
  {
   "cell_type": "markdown",
   "metadata": {},
   "source": [
    "We can start with our gridded heatmap:"
   ]
  },
  {
   "cell_type": "code",
   "execution_count": 84,
   "metadata": {},
   "outputs": [
    {
     "data": {
      "application/vnd.jupyter.widget-view+json": {
       "model_id": "8006f76cdad6437787a7392cf9b01ba9",
       "version_major": 2,
       "version_minor": 0
      },
      "text/plain": [
       "Figure(axes=[ColorAxis(scale=ColorScale()), Axis(orientation='vertical', scale=OrdinalScale(reverse=True)), Ax…"
      ]
     },
     "metadata": {},
     "output_type": "display_data"
    }
   ],
   "source": [
    "# first let's set up a figure object - the call is a little different for bqplot\n",
    "fig = bplt.figure(padding_y=0.0)\n",
    "\n",
    "# we'll call plt's gridheatmap function\n",
    "heat_map = bplt.gridheatmap(data[:,:,0]) # just take bottom part of data\n",
    "fig"
   ]
  },
  {
   "cell_type": "markdown",
   "metadata": {},
   "source": [
    "We can make our plots interactive in much the same way as before:"
   ]
  },
  {
   "cell_type": "code",
   "execution_count": 85,
   "metadata": {},
   "outputs": [],
   "source": [
    "# same function as before:\n",
    "def on_selected_bplt(change):\n",
    "    if len(change['owner'].selected) == 1: #only 1 selected\n",
    "        i, j = change['owner'].selected[0] # grab the x/y coordinates\n",
    "        v = data[i,j].sum() # grab data value at x/y index and sum along z\n",
    "        mySelectedLabel.value = 'Data Sum = ' + str(v) # set our label\n",
    "        # NOW ALSO: update our histogram\n",
    "        hist.sample = data[i,j,:]"
   ]
  },
  {
   "cell_type": "code",
   "execution_count": 86,
   "metadata": {},
   "outputs": [],
   "source": [
    "mySelectedLabel = ipywidgets.Label()"
   ]
  },
  {
   "cell_type": "code",
   "execution_count": 87,
   "metadata": {},
   "outputs": [
    {
     "data": {
      "application/vnd.jupyter.widget-view+json": {
       "model_id": "3b50486e18c143898cd6b4248f513c62",
       "version_major": 2,
       "version_minor": 0
      },
      "text/plain": [
       "VBox(children=(Label(value=''), Figure(axes=[ColorAxis(scale=ColorScale(scheme='Reds'), side='top'), Axis(labe…"
      ]
     },
     "metadata": {},
     "output_type": "display_data"
    }
   ],
   "source": [
    "fig = bplt.figure(padding_y=0.0) # set up a figure object\n",
    "bplt.scales(scales={'color':bqplot.ColorScale(scheme='Reds')})\n",
    "\n",
    "# use bqplot's plt interface to plot:\n",
    "heat_map = bplt.gridheatmap(np.sum(data, axis=2),\n",
    "                            interactions={'click':'select'}, \n",
    "                            anchor_style = {'fill':'blue'})\n",
    "\n",
    "# hook heat_maps selected value to the label \n",
    "heat_map.observe(on_selected_bplt, 'selected')\n",
    "\n",
    "# change labels\n",
    "fig.axes[2].label = 'X' # xaxes label\n",
    "fig.axes[1].label = 'Y' # yaxes label\n",
    "\n",
    "# 0 is the colorbar axis\n",
    "fig.axes[0].orientation = 'horizontal'\n",
    "fig.axes[0].side = 'top' # vertical and side=right don't work rightnow?\n",
    "\n",
    "# show both the fig and label in a vertical box\n",
    "ipywidgets.VBox([mySelectedLabel,fig])"
   ]
  },
  {
   "cell_type": "code",
   "execution_count": 88,
   "metadata": {},
   "outputs": [
    {
     "data": {
      "application/vnd.jupyter.widget-view+json": {
       "model_id": "77caadbf035449678ef6e617cafdbf1e",
       "version_major": 2,
       "version_minor": 0
      },
      "text/plain": [
       "Figure(axes=[Axis(label='Frequency', orientation='vertical', scale=LinearScale()), Axis(label='Z values', scal…"
      ]
     },
     "metadata": {},
     "output_type": "display_data"
    }
   ],
   "source": [
    "fig_hist = bplt.figure(padding_y=0.0) # set up a figure object\n",
    "\n",
    "# use bqplot's plt interface to plot:\n",
    "hist = bplt.hist(sample = data[0,0,:],\n",
    "                   normalized = False, # normalized=False means we get counts in each bin\n",
    "                   bins = 5) \n",
    "\n",
    "# change labels\n",
    "fig_hist.axes[1].label = 'Z values' # xaxes label\n",
    "fig_hist.axes[0].label = 'Frequency' # yaxes label\n",
    "\n",
    "fig_hist # empty plot of x/y"
   ]
  },
  {
   "cell_type": "code",
   "execution_count": 89,
   "metadata": {},
   "outputs": [
    {
     "data": {
      "application/vnd.jupyter.widget-view+json": {
       "model_id": "c19fef4ec10e4a34a67ea390b4deb0f8",
       "version_major": 2,
       "version_minor": 0
      },
      "text/plain": [
       "VBox(children=(Label(value=''), HBox(children=(Figure(axes=[ColorAxis(scale=ColorScale(scheme='Reds'), side='t…"
      ]
     },
     "metadata": {},
     "output_type": "display_data"
    }
   ],
   "source": [
    "fig.layout.min_width='500px'\n",
    "fig_hist.layout.min_width='500px'\n",
    "\n",
    "ipywidgets.VBox([mySelectedLabel,\n",
    "                 ipywidgets.HBox([fig,fig_hist])])"
   ]
  },
  {
   "cell_type": "markdown",
   "metadata": {},
   "source": [
    "## Extras: Interactive histogramming with bqplot\n",
    "\n",
    "Now, lets try some interactive histogramming of our buildings data:"
   ]
  },
  {
   "cell_type": "code",
   "execution_count": 92,
   "metadata": {},
   "outputs": [],
   "source": [
    "import pandas as pd\n",
    "buildings = pd.read_csv(\"https://uiuc-ischool-dataviz.github.io/is445_AOUAOG_fall2021/week02/data/building_inventory.csv\",\n",
    "                        na_values = {'Year Acquired': 0, \n",
    "                                     'Year Constructed': 0, \n",
    "                                     'Square Footage': 0})"
   ]
  },
  {
   "cell_type": "markdown",
   "metadata": {},
   "source": [
    "Let's create some linear scales and attach axis like before:"
   ]
  },
  {
   "cell_type": "code",
   "execution_count": 93,
   "metadata": {},
   "outputs": [
    {
     "data": {
      "application/vnd.jupyter.widget-view+json": {
       "model_id": "68d64c7d467240f18eebfec886a1e957",
       "version_major": 2,
       "version_minor": 0
      },
      "text/plain": [
       "VBox(children=(Figure(axes=[Axis(scale=LinearScale()), Axis(orientation='vertical', scale=LinearScale())], fig…"
      ]
     },
     "metadata": {},
     "output_type": "display_data"
    }
   ],
   "source": [
    "# since buildings is our data, we don't have to do anything\n",
    "#  with that, but we do need to create our scales and \n",
    "# axes like we've been doing before:\n",
    "# (1)\n",
    "x_sc = bqplot.LinearScale()\n",
    "y_sc = bqplot.LinearScale()\n",
    "x_ax = bqplot.Axis(scale = x_sc)\n",
    "y_ax = bqplot.Axis(scale = y_sc, orientation = 'vertical')\n",
    "\n",
    "# (2) now, lets do an interactive rebinning, but lets\n",
    "# use bqplot and a slider widget to do it\n",
    "hist = bqplot.Hist(sample = buildings[\"Year Acquired\"],\n",
    "            scales = {'sample': x_sc, 'count': y_sc},\n",
    "                   bins = 128, normalized = True,\n",
    "                   colors = [\"#FFFFFF\"])\n",
    "\n",
    "# lets also create a slider like we've done before\n",
    "islider = ipywidgets.IntSlider(min = 8, max = 128, step = 1)\n",
    "# and lets link our sider and our bins of our histogram\n",
    "ipywidgets.link((islider, 'value'), (hist, 'bins'))\n",
    "# construct a fig\n",
    "#fig = bqplot.Figure(marks = [hist], axes = [x_ax, y_ax])\n",
    "# ***RUN NEXT CELL BEFORE ADDING 2ND HIST\n",
    "\n",
    "# (3) ok, but maybe we want to see our original histogram\n",
    "#  underneath, lets add this to our figure\n",
    "hist2 = bqplot.Hist(sample = buildings[\"Year Acquired\"],\n",
    "                   opacity = 0.1, normalized = True,\n",
    "            scales = {'sample': x_sc, 'count': y_sc},\n",
    "                  bins = 128)\n",
    "fig = bqplot.Figure(marks = [hist, hist2], axes = [x_ax, y_ax])\n",
    "\n",
    "# for 2 & 3\n",
    "#display(ipywidgets.VBox([fig, islider]))\n",
    "ipywidgets.VBox([fig, islider])"
   ]
  },
  {
   "cell_type": "markdown",
   "metadata": {},
   "source": [
    "## Extras: Wealth of Nations plot\n",
    "* originially from the TedTalk: https://www.ted.com/talks/hans_rosling_shows_the_best_stats_you_ve_ever_seen\n",
    "* found on Rosling's website: https://www.ted.com/talks/hans_rosling_shows_the_best_stats_you_ve_ever_seen\n",
    "* We're going to make a tool similar to GapMinders:https://www.gapminder.org/world/\n",
    "* Much of this is, in more detail, in the PyGothum-2017 github: https://github.com/dmadeka/PyGotham-2017 \n",
    "* This will talk to javascript on the backend to mimic the output of another plotting package d3.js, but we don't have to learn about d3.js (just now) and can instead rely on our current Python knowledge"
   ]
  },
  {
   "cell_type": "code",
   "execution_count": 94,
   "metadata": {},
   "outputs": [],
   "source": [
    "# import pandas if we have not\n",
    "import pandas as pd\n",
    "\n",
    "# lets start off our plot at the initial year of 1800\n",
    "initial_year = 1800"
   ]
  },
  {
   "cell_type": "code",
   "execution_count": 96,
   "metadata": {},
   "outputs": [
    {
     "data": {
      "text/html": [
       "<div>\n",
       "<style scoped>\n",
       "    .dataframe tbody tr th:only-of-type {\n",
       "        vertical-align: middle;\n",
       "    }\n",
       "\n",
       "    .dataframe tbody tr th {\n",
       "        vertical-align: top;\n",
       "    }\n",
       "\n",
       "    .dataframe thead th {\n",
       "        text-align: right;\n",
       "    }\n",
       "</style>\n",
       "<table border=\"1\" class=\"dataframe\">\n",
       "  <thead>\n",
       "    <tr style=\"text-align: right;\">\n",
       "      <th></th>\n",
       "      <th>name</th>\n",
       "      <th>region</th>\n",
       "      <th>income</th>\n",
       "      <th>population</th>\n",
       "      <th>lifeExpectancy</th>\n",
       "    </tr>\n",
       "  </thead>\n",
       "  <tbody>\n",
       "    <tr>\n",
       "      <th>0</th>\n",
       "      <td>Angola</td>\n",
       "      <td>Sub-Saharan Africa</td>\n",
       "      <td>[359.93, 359.93, 359.93, 359.93, 359.93, 359.9...</td>\n",
       "      <td>[1567028.0, 1567028.0, 1567028.0, 1567028.0, 1...</td>\n",
       "      <td>[26.98, 26.98, 26.98, 26.98, 26.98, 26.98, 26....</td>\n",
       "    </tr>\n",
       "    <tr>\n",
       "      <th>1</th>\n",
       "      <td>Benin</td>\n",
       "      <td>Sub-Saharan Africa</td>\n",
       "      <td>[553.72, 553.72, 553.72, 553.72, 553.72, 553.7...</td>\n",
       "      <td>[636559.0, 636559.0, 636559.0, 636559.0, 63655...</td>\n",
       "      <td>[31.0, 31.0, 31.0, 31.0, 31.0, 31.0, 31.0, 31....</td>\n",
       "    </tr>\n",
       "    <tr>\n",
       "      <th>2</th>\n",
       "      <td>Botswana</td>\n",
       "      <td>Sub-Saharan Africa</td>\n",
       "      <td>[407.36, 407.36, 407.36, 407.36, 407.36, 407.3...</td>\n",
       "      <td>[121000.0, 121000.0, 121000.0, 121000.0, 12100...</td>\n",
       "      <td>[33.6, 33.6, 33.6, 33.6, 33.6, 33.6, 33.6, 33....</td>\n",
       "    </tr>\n",
       "    <tr>\n",
       "      <th>3</th>\n",
       "      <td>Burkina Faso</td>\n",
       "      <td>Sub-Saharan Africa</td>\n",
       "      <td>[454.33, 454.33, 454.33, 454.33, 454.33, 454.3...</td>\n",
       "      <td>[1665421.0, 1665421.0, 1665421.0, 1665421.0, 1...</td>\n",
       "      <td>[29.2, 29.2, 29.2, 29.2, 29.2, 29.2, 29.2, 29....</td>\n",
       "    </tr>\n",
       "    <tr>\n",
       "      <th>4</th>\n",
       "      <td>Burundi</td>\n",
       "      <td>Sub-Saharan Africa</td>\n",
       "      <td>[447.59, 447.59, 447.59, 447.59, 447.59, 447.5...</td>\n",
       "      <td>[899097.0, 899097.0, 899097.0, 899097.0, 89909...</td>\n",
       "      <td>[31.5, 31.5, 31.5, 31.5, 31.5, 31.5, 31.5, 31....</td>\n",
       "    </tr>\n",
       "    <tr>\n",
       "      <th>...</th>\n",
       "      <td>...</td>\n",
       "      <td>...</td>\n",
       "      <td>...</td>\n",
       "      <td>...</td>\n",
       "      <td>...</td>\n",
       "    </tr>\n",
       "    <tr>\n",
       "      <th>174</th>\n",
       "      <td>Thailand</td>\n",
       "      <td>East Asia &amp; Pacific</td>\n",
       "      <td>[496.98, 496.98, 496.98, 496.98, 496.98, 496.9...</td>\n",
       "      <td>[4665000.0, 4665000.0, 4665000.0, 4665000.0, 4...</td>\n",
       "      <td>[30.4, 30.4, 30.4, 30.4, 30.4, 30.4, 30.4, 30....</td>\n",
       "    </tr>\n",
       "    <tr>\n",
       "      <th>175</th>\n",
       "      <td>Timor-Leste</td>\n",
       "      <td>East Asia &amp; Pacific</td>\n",
       "      <td>[514.12, 514.3505, 514.581, 514.8115, 515.042,...</td>\n",
       "      <td>[137262.0, 137262.0, 137262.0, 137262.0, 13726...</td>\n",
       "      <td>[28.97, 28.97, 28.97, 28.97, 28.97, 28.97, 28....</td>\n",
       "    </tr>\n",
       "    <tr>\n",
       "      <th>177</th>\n",
       "      <td>Tonga</td>\n",
       "      <td>East Asia &amp; Pacific</td>\n",
       "      <td>[667.71, 667.71, 667.71, 667.71, 667.71, 667.7...</td>\n",
       "      <td>[18658.0, 18654.325581395347, 18650.6511627907...</td>\n",
       "      <td>[57.91, 57.91, 57.91, 57.91, 57.91, 57.91, 57....</td>\n",
       "    </tr>\n",
       "    <tr>\n",
       "      <th>178</th>\n",
       "      <td>Vietnam</td>\n",
       "      <td>East Asia &amp; Pacific</td>\n",
       "      <td>[459.71, 459.71, 459.71, 459.71, 459.71, 459.7...</td>\n",
       "      <td>[6551000.0, 6551000.0, 6551000.0, 6551000.0, 6...</td>\n",
       "      <td>[32.0, 32.0, 32.0, 32.0, 32.0, 32.0, 32.0, 32....</td>\n",
       "    </tr>\n",
       "    <tr>\n",
       "      <th>179</th>\n",
       "      <td>Vanuatu</td>\n",
       "      <td>East Asia &amp; Pacific</td>\n",
       "      <td>[829.58, 829.58, 829.58, 829.58, 829.58, 829.5...</td>\n",
       "      <td>[27791.0, 27791.0, 27791.0, 27791.0, 27791.0, ...</td>\n",
       "      <td>[40.8, 40.8, 40.8, 40.8, 40.8, 40.8, 40.8, 40....</td>\n",
       "    </tr>\n",
       "  </tbody>\n",
       "</table>\n",
       "<p>178 rows × 5 columns</p>\n",
       "</div>"
      ],
      "text/plain": [
       "             name               region  \\\n",
       "0          Angola   Sub-Saharan Africa   \n",
       "1           Benin   Sub-Saharan Africa   \n",
       "2        Botswana   Sub-Saharan Africa   \n",
       "3    Burkina Faso   Sub-Saharan Africa   \n",
       "4         Burundi   Sub-Saharan Africa   \n",
       "..            ...                  ...   \n",
       "174      Thailand  East Asia & Pacific   \n",
       "175   Timor-Leste  East Asia & Pacific   \n",
       "177         Tonga  East Asia & Pacific   \n",
       "178       Vietnam  East Asia & Pacific   \n",
       "179       Vanuatu  East Asia & Pacific   \n",
       "\n",
       "                                                income  \\\n",
       "0    [359.93, 359.93, 359.93, 359.93, 359.93, 359.9...   \n",
       "1    [553.72, 553.72, 553.72, 553.72, 553.72, 553.7...   \n",
       "2    [407.36, 407.36, 407.36, 407.36, 407.36, 407.3...   \n",
       "3    [454.33, 454.33, 454.33, 454.33, 454.33, 454.3...   \n",
       "4    [447.59, 447.59, 447.59, 447.59, 447.59, 447.5...   \n",
       "..                                                 ...   \n",
       "174  [496.98, 496.98, 496.98, 496.98, 496.98, 496.9...   \n",
       "175  [514.12, 514.3505, 514.581, 514.8115, 515.042,...   \n",
       "177  [667.71, 667.71, 667.71, 667.71, 667.71, 667.7...   \n",
       "178  [459.71, 459.71, 459.71, 459.71, 459.71, 459.7...   \n",
       "179  [829.58, 829.58, 829.58, 829.58, 829.58, 829.5...   \n",
       "\n",
       "                                            population  \\\n",
       "0    [1567028.0, 1567028.0, 1567028.0, 1567028.0, 1...   \n",
       "1    [636559.0, 636559.0, 636559.0, 636559.0, 63655...   \n",
       "2    [121000.0, 121000.0, 121000.0, 121000.0, 12100...   \n",
       "3    [1665421.0, 1665421.0, 1665421.0, 1665421.0, 1...   \n",
       "4    [899097.0, 899097.0, 899097.0, 899097.0, 89909...   \n",
       "..                                                 ...   \n",
       "174  [4665000.0, 4665000.0, 4665000.0, 4665000.0, 4...   \n",
       "175  [137262.0, 137262.0, 137262.0, 137262.0, 13726...   \n",
       "177  [18658.0, 18654.325581395347, 18650.6511627907...   \n",
       "178  [6551000.0, 6551000.0, 6551000.0, 6551000.0, 6...   \n",
       "179  [27791.0, 27791.0, 27791.0, 27791.0, 27791.0, ...   \n",
       "\n",
       "                                        lifeExpectancy  \n",
       "0    [26.98, 26.98, 26.98, 26.98, 26.98, 26.98, 26....  \n",
       "1    [31.0, 31.0, 31.0, 31.0, 31.0, 31.0, 31.0, 31....  \n",
       "2    [33.6, 33.6, 33.6, 33.6, 33.6, 33.6, 33.6, 33....  \n",
       "3    [29.2, 29.2, 29.2, 29.2, 29.2, 29.2, 29.2, 29....  \n",
       "4    [31.5, 31.5, 31.5, 31.5, 31.5, 31.5, 31.5, 31....  \n",
       "..                                                 ...  \n",
       "174  [30.4, 30.4, 30.4, 30.4, 30.4, 30.4, 30.4, 30....  \n",
       "175  [28.97, 28.97, 28.97, 28.97, 28.97, 28.97, 28....  \n",
       "177  [57.91, 57.91, 57.91, 57.91, 57.91, 57.91, 57....  \n",
       "178  [32.0, 32.0, 32.0, 32.0, 32.0, 32.0, 32.0, 32....  \n",
       "179  [40.8, 40.8, 40.8, 40.8, 40.8, 40.8, 40.8, 40....  \n",
       "\n",
       "[178 rows x 5 columns]"
      ]
     },
     "execution_count": 96,
     "metadata": {},
     "output_type": "execute_result"
    }
   ],
   "source": [
    "# we'll read in our datafile and apply \n",
    "# some pre-written cleaning routines \n",
    "# get out the data we want for our plotting\n",
    "# put this file in the same directory as the notebook, or link it in your path:\n",
    "from sys import path\n",
    "path.append('./library') # this is the subdirectory where wealth_of_nations.py is\n",
    "from wealth_of_nations import process_data, get_min_max, get_data\n",
    "\n",
    "# grab data\n",
    "data = process_data('/Users/jnaiman/Downloads/nations.json')\n",
    "\n",
    "data"
   ]
  },
  {
   "cell_type": "code",
   "execution_count": 97,
   "metadata": {},
   "outputs": [],
   "source": [
    "# grab min & max values of our variables of interest\n",
    "income_min, income_max, life_exp_min, life_exp_max, pop_min, pop_max = get_min_max(data)"
   ]
  },
  {
   "cell_type": "code",
   "execution_count": 98,
   "metadata": {},
   "outputs": [],
   "source": [
    "# lets allow for a mouse-over interaction\n",
    "# for silly:\n",
    "import bqplot\n",
    "tt = bqplot.Tooltip(fields=['name', 'x', 'y'], \n",
    "                    labels=['Country Name', \n",
    "                            'Income per Capita', 'Life Expectancy'])\n",
    "#bqplot.Tooltip?"
   ]
  },
  {
   "cell_type": "code",
   "execution_count": 99,
   "metadata": {},
   "outputs": [],
   "source": [
    "# we will label what year is being plotted, just like in the Gabminder plot\n",
    "year_label = bqplot.Label(x=[0.75], y=[0.10], \n",
    "                   font_size=52, font_weight='bolder', \n",
    "                   colors=['orange'],\n",
    "                   text=[str(initial_year)], enable_move=True)"
   ]
  },
  {
   "cell_type": "code",
   "execution_count": 100,
   "metadata": {},
   "outputs": [],
   "source": [
    "# we'll define our scales like before\n",
    "# here we scale our x & y axis to the scales of the min and max of our data\n",
    "x_sc = bqplot.LogScale(min=income_min, max=income_max)\n",
    "y_sc = bqplot.LinearScale(min=life_exp_min, max=life_exp_max)\n",
    "\n",
    "# this is just something to color-code each circle by the region it corresponds to\n",
    "#  (for example, asia, south america, africa, etc)\n",
    "# the colors call is just mapping each catagorical variable to a color\n",
    "c_sc = bqplot.OrdinalColorScale(domain=data['region'].unique().tolist(), \n",
    "                                colors=bqplot.CATEGORY10[:6])\n",
    "\n",
    "# finally, we want the size of each of our dots to correspond to the population of \n",
    "# each country\n",
    "#size_sc = bqplot.LinearScale(min=pop_min, max=pop_max)#, mid_range=0.1)\n",
    "size_sc = bqplot.LinearScale(max=1326856173.0, min=2128.0)\n",
    "#bqplot.LinearScale?"
   ]
  },
  {
   "cell_type": "code",
   "execution_count": 101,
   "metadata": {},
   "outputs": [],
   "source": [
    "# create and label our x & y axis\n",
    "ax_y = bqplot.Axis(label='Life Expectancy', scale=y_sc, \n",
    "                   orientation='vertical', side='left', \n",
    "                   grid_lines='solid')\n",
    "ax_x = bqplot.Axis(label='Income per Capita', scale=x_sc, \n",
    "                   grid_lines='solid')"
   ]
  },
  {
   "cell_type": "code",
   "execution_count": 102,
   "metadata": {},
   "outputs": [],
   "source": [
    "# now we'll use another little function from our library above to grab\n",
    "# data for our initial setup (year = 1800)\n",
    "# Start with the first year's data\n",
    "cap_income, life_exp, pop = get_data(data,initial_year,initial_year)"
   ]
  },
  {
   "cell_type": "code",
   "execution_count": 103,
   "metadata": {},
   "outputs": [],
   "source": [
    "# now lets make our scatter plot!\n",
    "wealth_scat = bqplot.Scatter(x=cap_income, y=life_exp, \n",
    "                             color=data['region'], size=pop,\n",
    "                      names=data['name'], display_names=False,\n",
    "                      scales={'x': x_sc, 'y': y_sc, 'color': c_sc, \n",
    "                              'size': size_sc},\n",
    "                      default_size=4112, tooltip=tt, \n",
    "                             animate=True, stroke='Black',\n",
    "                      unhovered_style={'opacity': 0.5})\n",
    "# much of these calls are things we've seen before, others will allow fun things \n",
    "#  like animation and also the ability to click on our plot and interact with it"
   ]
  },
  {
   "cell_type": "code",
   "execution_count": 104,
   "metadata": {},
   "outputs": [],
   "source": [
    "# for our initial, 1800 view, we'll just allow the first \"line\" of the evolution of the \n",
    "# each nation's track to be displayed... this is essentially a place holder (visible = false)\n",
    "nation_line = bqplot.Lines(x=data['income'][0], \n",
    "                           y=data['lifeExpectancy'][0], \n",
    "                           colors=['Gray'],\n",
    "                       scales={'x': x_sc, 'y': y_sc}, visible=False)"
   ]
  },
  {
   "cell_type": "code",
   "execution_count": 105,
   "metadata": {},
   "outputs": [],
   "source": [
    "# milliseconds of time between changes we make\n",
    "time_interval = 10"
   ]
  },
  {
   "cell_type": "code",
   "execution_count": 106,
   "metadata": {},
   "outputs": [],
   "source": [
    "# create the figure & \n",
    "fig = bqplot.Figure(marks=[wealth_scat, year_label, nation_line], \n",
    "                    axes=[ax_x, ax_y],\n",
    "             title='Health and Wealth of Nations', \n",
    "                    animation_duration=time_interval)\n",
    "\n",
    "# lets control the size in pixels too\n",
    "fig.layout.min_width = '960px'\n",
    "fig.layout.min_height = '640px'"
   ]
  },
  {
   "cell_type": "code",
   "execution_count": 107,
   "metadata": {},
   "outputs": [],
   "source": [
    "# we'll use our friend the int slider to slide through years\n",
    "# for silly:\n",
    "import ipywidgets\n",
    "year_slider = ipywidgets.IntSlider(min=1800, max=2008, step=1, description='Year', value=initial_year)"
   ]
  },
  {
   "cell_type": "code",
   "execution_count": 108,
   "metadata": {},
   "outputs": [],
   "source": [
    "# make sure we define what happens when we change the year on our slider\n",
    "def year_changed(change):\n",
    "    wealth_scat.x, wealth_scat.y, wealth_scat.size = get_data(data,year_slider.value,initial_year)\n",
    "    #wealth_scat.size+=1000\n",
    "    year_label.text = [str(year_slider.value)]\n",
    "\n",
    "year_slider.observe(year_changed, 'value')"
   ]
  },
  {
   "cell_type": "code",
   "execution_count": 109,
   "metadata": {},
   "outputs": [],
   "source": [
    "# now we'll say what happens when we hover over an object\n",
    "# we'll use \"change\" again to make it such that if a \n",
    "# user hovers over a country, the countries \"life line\" \n",
    "#  is visible\n",
    "def hover_changed(change):\n",
    "    if change.new is not None:\n",
    "        nation_line.x = data['income'][change.new + 1]\n",
    "        nation_line.y = data['lifeExpectancy'][change.new + 1]\n",
    "        nation_line.visible = True\n",
    "    else:\n",
    "        nation_line.visible = False\n",
    "        \n",
    "wealth_scat.observe(hover_changed, 'hovered_point')"
   ]
  },
  {
   "cell_type": "code",
   "execution_count": 110,
   "metadata": {},
   "outputs": [
    {
     "data": {
      "text/plain": [
       "Link(source=(Play(value=1800, interval=10, max=2008, min=1800), 'value'), target=(IntSlider(value=1800, descri…"
      ]
     },
     "metadata": {},
     "output_type": "display_data"
    }
   ],
   "source": [
    "# finally, lets add a little play button so we can animate\n",
    "#  what happens in time, just like on the d3.js plot\n",
    "play_button = ipywidgets.Play(min=1800, max=2008, interval=time_interval)\n",
    "# note, we use \"jslink\" because the \"backend\" here is javascript\n",
    "#  bqplot is just interacting with javascript\n",
    "ipywidgets.jslink((play_button, 'value'), (year_slider, 'value'))"
   ]
  },
  {
   "cell_type": "code",
   "execution_count": 111,
   "metadata": {},
   "outputs": [
    {
     "data": {
      "application/vnd.jupyter.widget-view+json": {
       "model_id": "6365609d9811444c96bc13cb55ce56e9",
       "version_major": 2,
       "version_minor": 0
      },
      "text/plain": [
       "VBox(children=(HBox(children=(Play(value=1800, interval=10, max=2008, min=1800), IntSlider(value=1800, descrip…"
      ]
     },
     "metadata": {},
     "output_type": "display_data"
    }
   ],
   "source": [
    "# finally, lets put it all together!!\n",
    "\n",
    "ipywidgets.VBox([ipywidgets.HBox([play_button, year_slider]), fig])"
   ]
  },
  {
   "cell_type": "code",
   "execution_count": null,
   "metadata": {},
   "outputs": [],
   "source": []
  },
  {
   "cell_type": "code",
   "execution_count": null,
   "metadata": {},
   "outputs": [],
   "source": []
  }
 ],
 "metadata": {
  "kernelspec": {
   "display_name": "Python 3 (ipykernel)",
   "language": "python",
   "name": "python3"
  },
  "language_info": {
   "codemirror_mode": {
    "name": "ipython",
    "version": 3
   },
   "file_extension": ".py",
   "mimetype": "text/x-python",
   "name": "python",
   "nbconvert_exporter": "python",
   "pygments_lexer": "ipython3",
   "version": "3.7.12"
  }
 },
 "nbformat": 4,
 "nbformat_minor": 2
}
