{
 "cells": [
  {
   "cell_type": "code",
   "execution_count": 1,
   "metadata": {},
   "outputs": [],
   "source": [
    "import bqplot\n",
    "import numpy as np"
   ]
  },
  {
   "cell_type": "code",
   "execution_count": 3,
   "metadata": {},
   "outputs": [],
   "source": [
    "x = np.arange(100)\n",
    "y = np.random.random(100) + 5"
   ]
  },
  {
   "cell_type": "code",
   "execution_count": 4,
   "metadata": {},
   "outputs": [
    {
     "data": {
      "text/plain": [
       "array([ 0,  1,  2,  3,  4,  5,  6,  7,  8,  9, 10, 11, 12, 13, 14, 15, 16,\n",
       "       17, 18, 19, 20, 21, 22, 23, 24, 25, 26, 27, 28, 29, 30, 31, 32, 33,\n",
       "       34, 35, 36, 37, 38, 39, 40, 41, 42, 43, 44, 45, 46, 47, 48, 49, 50,\n",
       "       51, 52, 53, 54, 55, 56, 57, 58, 59, 60, 61, 62, 63, 64, 65, 66, 67,\n",
       "       68, 69, 70, 71, 72, 73, 74, 75, 76, 77, 78, 79, 80, 81, 82, 83, 84,\n",
       "       85, 86, 87, 88, 89, 90, 91, 92, 93, 94, 95, 96, 97, 98, 99])"
      ]
     },
     "execution_count": 4,
     "metadata": {},
     "output_type": "execute_result"
    }
   ],
   "source": [
    "x"
   ]
  },
  {
   "cell_type": "code",
   "execution_count": 5,
   "metadata": {},
   "outputs": [
    {
     "data": {
      "text/plain": [
       "array([5.98588084, 5.00465279, 5.95370465, 5.05244539, 5.37369425,\n",
       "       5.42413579, 5.5168475 , 5.86198189, 5.17383939, 5.78704244,\n",
       "       5.07769525, 5.18558276, 5.94158494, 5.23490672, 5.03400586,\n",
       "       5.89505379, 5.42265116, 5.05573042, 5.42747325, 5.12673041,\n",
       "       5.63652009, 5.48423653, 5.57506109, 5.86832416, 5.9659018 ,\n",
       "       5.41461116, 5.40155897, 5.27994374, 5.9732695 , 5.78851514,\n",
       "       5.95766846, 5.73372481, 5.01966354, 5.84939144, 5.13628458,\n",
       "       5.41807843, 5.61308176, 5.65911334, 5.91939305, 5.81612052,\n",
       "       5.61654527, 5.87143698, 5.30913357, 5.11610729, 5.5285846 ,\n",
       "       5.86066964, 5.5717908 , 5.23485964, 5.00718937, 5.58406535,\n",
       "       5.83942542, 5.04761315, 5.12720043, 5.71127545, 5.74968697,\n",
       "       5.89979756, 5.02727448, 5.67304891, 5.71420273, 5.57654779,\n",
       "       5.78459917, 5.9891575 , 5.38215697, 5.77501132, 5.93687417,\n",
       "       5.32882193, 5.30993707, 5.01638839, 5.74625773, 5.76048617,\n",
       "       5.19153933, 5.12073844, 5.37105122, 5.07592385, 5.81762509,\n",
       "       5.10015791, 5.3244472 , 5.87617792, 5.20832204, 5.50552533,\n",
       "       5.15028543, 5.40403148, 5.57779415, 5.20919889, 5.87011459,\n",
       "       5.49315372, 5.4989383 , 5.71387425, 5.56067059, 5.53846505,\n",
       "       5.43608101, 5.55323291, 5.46366237, 5.21552796, 5.04740448,\n",
       "       5.25825099, 5.11125032, 5.94777663, 5.55876343, 5.77741691])"
      ]
     },
     "execution_count": 5,
     "metadata": {},
     "output_type": "execute_result"
    }
   ],
   "source": [
    "y"
   ]
  },
  {
   "cell_type": "code",
   "execution_count": 6,
   "metadata": {},
   "outputs": [],
   "source": [
    "x_sc = bqplot.LinearScale()\n",
    "y_sc = bqplot.LinearScale()"
   ]
  },
  {
   "cell_type": "code",
   "execution_count": 7,
   "metadata": {},
   "outputs": [],
   "source": [
    "lines = bqplot.Lines(x = x, y = y, scales = {'x': x_sc, 'y': y_sc})"
   ]
  },
  {
   "cell_type": "code",
   "execution_count": 14,
   "metadata": {},
   "outputs": [],
   "source": [
    "ax_x = bqplot.Axis(scale = x_sc, label = 'x value')\n",
    "ax_y = bqplot.Axis(scale = y_sc, label = 'y value', orientation = 'vertical')"
   ]
  },
  {
   "cell_type": "code",
   "execution_count": 29,
   "metadata": {},
   "outputs": [
    {
     "data": {
      "application/vnd.jupyter.widget-view+json": {
       "model_id": "5df64810b23944c797f0e74672b760a1",
       "version_major": 2,
       "version_minor": 0
      },
      "text/plain": [
       "Figure(axes=[Axis(label='x value', scale=LinearScale(max=60.0, min=0.0), side='bottom'), Axis(label='y value',…"
      ]
     },
     "metadata": {},
     "output_type": "display_data"
    }
   ],
   "source": [
    "pz = bqplot.interacts.PanZoom( scales = {'x': [x_sc], 'y': [y_sc]} )\n",
    "bqplot.Figure(marks = [lines], axes = [ax_x, ax_y], interaction = pz)"
   ]
  },
  {
   "cell_type": "code",
   "execution_count": 32,
   "metadata": {},
   "outputs": [
    {
     "data": {
      "application/vnd.jupyter.widget-view+json": {
       "model_id": "5a9f5678f3294b23b22a760864f61c82",
       "version_major": 2,
       "version_minor": 0
      },
      "text/plain": [
       "FloatSlider(value=0.0)"
      ]
     },
     "metadata": {},
     "output_type": "display_data"
    }
   ],
   "source": [
    "import ipywidgets\n",
    "islider = ipywidgets.FloatSlider(min_val=0, max_val=100, step=.1)\n",
    "ipywidgets.link((islider,'value'),(x_sc, 'min'))\n",
    "display(islider)"
   ]
  },
  {
   "cell_type": "code",
   "execution_count": 33,
   "metadata": {},
   "outputs": [],
   "source": [
    "x = np.mgrid[0.0:10.0:100j]\n",
    "y1 = x * 2\n",
    "y2 = x**2"
   ]
  },
  {
   "cell_type": "code",
   "execution_count": 44,
   "metadata": {},
   "outputs": [],
   "source": [
    "x_sc = bqplot.LinearScale(min = 0, max = 10)\n",
    "y_sc1 = bqplot.LinearScale(min = 0, max = 20)\n",
    "y_sc2 = bqplot.LogScale(min = 1, max = 100)"
   ]
  },
  {
   "cell_type": "code",
   "execution_count": 45,
   "metadata": {},
   "outputs": [],
   "source": [
    "lines1 = bqplot.Lines(x = x, y = y1, scales = {'x': x_sc, 'y': y_sc1})\n",
    "lines2 = bqplot.Lines(x = x, y = y2, scales = {'x': x_sc, 'y': y_sc2})"
   ]
  },
  {
   "cell_type": "code",
   "execution_count": 46,
   "metadata": {},
   "outputs": [],
   "source": [
    "ax_x = bqplot.Axis(scale = x_sc, label = 'x')\n",
    "ax_y1 = bqplot.Axis(scale = y_sc1, label = 'y1', orientation = 'vertical')\n",
    "ax_y2 = bqplot.Axis(scale = y_sc2, label = 'y2', orientation = 'vertical', side = 'right')"
   ]
  },
  {
   "cell_type": "code",
   "execution_count": 47,
   "metadata": {},
   "outputs": [
    {
     "data": {
      "application/vnd.jupyter.widget-view+json": {
       "model_id": "f9241a54d83d44ddb4aa53d4f2d5b9eb",
       "version_major": 2,
       "version_minor": 0
      },
      "text/plain": [
       "Figure(axes=[Axis(label='x', scale=LinearScale(max=10.0, min=0.0), side='bottom'), Axis(label='y1', orientatio…"
      ]
     },
     "metadata": {},
     "output_type": "display_data"
    }
   ],
   "source": [
    "pz = bqplot.interacts.PanZoom(scales = {'x': [x_sc], 'y': [y_sc1, y_sc2]})\n",
    "fig = bqplot.Figure(marks = [lines1, lines2], axes = [ax_x, ax_y1, ax_y2],\n",
    "                   interaction = pz)\n",
    "display(fig)"
   ]
  },
  {
   "cell_type": "code",
   "execution_count": 51,
   "metadata": {},
   "outputs": [],
   "source": [
    "import pandas as pd\n",
    "buildings = pd.read_csv(\"../workspace/building_inventory.csv\",\n",
    "                       na_values = {'Year Acquired': 0,\n",
    "                                    'Year Constructed': 0,\n",
    "                                    'Square Footage': 0})"
   ]
  },
  {
   "cell_type": "code",
   "execution_count": 53,
   "metadata": {},
   "outputs": [],
   "source": [
    "x_sc = bqplot.LinearScale()\n",
    "y_sc = bqplot.LinearScale()\n",
    "\n",
    "x_ax = bqplot.Axis(scale = x_sc, label = 'Year Constructed')\n",
    "y_ax = bqplot.Axis(scale = y_sc, label = 'Year Acquired', orientation = 'vertical')\n",
    "\n",
    "scatter = bqplot.Scatter(x = buildings['Year Constructed'], y = buildings['Year Acquired'],\n",
    "                        scales = {'x': x_sc, 'y': y_sc})\n",
    "fig = bqplot.Figure(marks = [scatter], axes = [x_ax, y_ax])\n",
    "display(fig)"
   ]
  },
  {
   "cell_type": "code",
   "execution_count": 68,
   "metadata": {},
   "outputs": [
    {
     "data": {
      "text/plain": [
       "((525, 22), (3223, 22))"
      ]
     },
     "execution_count": 68,
     "metadata": {},
     "output_type": "execute_result"
    }
   ],
   "source": [
    "uiuc = buildings[buildings[\"Agency Name\"] == \"University of Illinois\"]\n",
    "dnr = buildings[buildings[\"Agency Name\"] == \"Department of Natural Resources\"]\n",
    "uiuc.shape, dnr.shape"
   ]
  },
  {
   "cell_type": "code",
   "execution_count": 60,
   "metadata": {},
   "outputs": [
    {
     "data": {
      "application/vnd.jupyter.widget-view+json": {
       "model_id": "71ca7b2763b34c188341f862bb209366",
       "version_major": 2,
       "version_minor": 0
      },
      "text/plain": [
       "VBox(children=(Toolbar(figure=Figure(axes=[Axis(label='Year Constructed', scale=LinearScale()), Axis(label='Ye…"
      ]
     },
     "metadata": {},
     "output_type": "display_data"
    }
   ],
   "source": [
    "x_sc = bqplot.LinearScale()\n",
    "y_sc = bqplot.LinearScale()\n",
    "size_scale = bqplot.LinearScale()\n",
    "\n",
    "x_ax = bqplot.Axis(scale = x_sc, label = 'Year Constructed')\n",
    "y_ax = bqplot.Axis(scale = y_sc, label = 'Year Acquired', orientation = 'vertical')\n",
    "\n",
    "scatter = bqplot.Scatter(x = uiuc['Year Constructed'], y = uiuc['Year Acquired'],\n",
    "                         size = uiuc[\"Square Footage\"],\n",
    "                        scales = {'x': x_sc, 'y': y_sc, 'size': size_scale})\n",
    "pz = bqplot.interacts.PanZoom(scales = {'x': [x_sc], 'y': [y_sc]})\n",
    "fig = bqplot.Figure(marks = [scatter], axes = [x_ax, y_ax], interaction = pz)\n",
    "tb = bqplot.Toolbar(figure = fig)\n",
    "display(ipywidgets.VBox([tb, fig]))"
   ]
  },
  {
   "cell_type": "code",
   "execution_count": 69,
   "metadata": {},
   "outputs": [
    {
     "data": {
      "application/vnd.jupyter.widget-view+json": {
       "model_id": "c0627af0e8f6454eba52450f3faa8e4a",
       "version_major": 2,
       "version_minor": 0
      },
      "text/plain": [
       "HBox(children=(Figure(axes=[Axis(label='Year Constructed', scale=LinearScale()), Axis(label='Year Acquired', o…"
      ]
     },
     "metadata": {},
     "output_type": "display_data"
    }
   ],
   "source": [
    "x_sc = bqplot.LinearScale()\n",
    "y_sc = bqplot.LinearScale()\n",
    "size_scale = bqplot.LinearScale()\n",
    "\n",
    "x_ax = bqplot.Axis(scale = x_sc, label = 'Year Constructed')\n",
    "y_ax = bqplot.Axis(scale = y_sc, label = 'Year Acquired', orientation = 'vertical')\n",
    "\n",
    "scatter1 = bqplot.Scatter(x = uiuc['Year Constructed'], y = uiuc['Year Acquired'],\n",
    "                         size = uiuc[\"Square Footage\"],\n",
    "                        scales = {'x': x_sc, 'y': y_sc, 'size': size_scale})\n",
    "scatter2 = bqplot.Scatter(x = dnr['Year Constructed'], y = dnr['Year Acquired'],\n",
    "                         size = dnr['Square Footage'],\n",
    "                         scales = {'x': x_sc, 'y': y_sc, 'size': size_scale})\n",
    "pz = bqplot.interacts.PanZoom(scales = {'x': [x_sc], 'y': [y_sc]})\n",
    "fig1 = bqplot.Figure(marks = [scatter1], axes = [x_ax, y_ax], interaction = pz)\n",
    "fig2 = bqplot.Figure(marks = [scatter2], axes = [x_ax, y_ax], interaction = pz)\n",
    "display( ipywidgets.HBox( [fig1, fig2] ))"
   ]
  },
  {
   "cell_type": "code",
   "execution_count": 80,
   "metadata": {},
   "outputs": [
    {
     "data": {
      "application/vnd.jupyter.widget-view+json": {
       "model_id": "8648d6c2caf34b80a49b231d95cbba48",
       "version_major": 2,
       "version_minor": 0
      },
      "text/plain": [
       "VBox(children=(HTML(value=''), Figure(axes=[Axis(label='x', scale=LinearScale()), Axis(label='y', orientation=…"
      ]
     },
     "metadata": {},
     "output_type": "display_data"
    }
   ],
   "source": [
    "x = np.mgrid[0.0:100:256j]\n",
    "y = np.random.random(256)**2 + 2\n",
    "\n",
    "x_sc = bqplot.LinearScale()\n",
    "y_sc = bqplot.LinearScale()\n",
    "\n",
    "x_ax = bqplot.Axis(scale = x_sc, label = 'x')\n",
    "y_ax = bqplot.Axis(scale = y_sc, label = 'y', orientation = 'vertical')\n",
    "\n",
    "scatters = bqplot.Scatter(x = x, y = y, scales = {'x': x_sc, 'y': y_sc})\n",
    "\n",
    "sel = bqplot.interacts.FastIntervalSelector(scale = x_sc, marks = [scatters])\n",
    "\n",
    "fig = bqplot.Figure(marks = [scatters], axes = [x_ax, y_ax], interaction = sel)\n",
    "h = ipywidgets.HTML()\n",
    "def interval_updated(change):\n",
    "    min_val, max_val = change['new']\n",
    "    selected_points = (x > min_val) & (x < max_val)\n",
    "    h.value = str(y[selected_points].sum())\n",
    "sel.observe(interval_updated, 'selected')\n",
    "\n",
    "display(ipywidgets.VBox([h, fig]))"
   ]
  },
  {
   "cell_type": "code",
   "execution_count": 83,
   "metadata": {},
   "outputs": [
    {
     "data": {
      "application/vnd.jupyter.widget-view+json": {
       "model_id": "1033cf7b3cad44d6ab561ffefb716501",
       "version_major": 2,
       "version_minor": 0
      },
      "text/plain": [
       "VBox(children=(HTML(value=''), Figure(axes=[Axis(label='Year Constructed', scale=LinearScale()), Axis(label='Y…"
      ]
     },
     "metadata": {},
     "output_type": "display_data"
    }
   ],
   "source": [
    "x_sc = bqplot.LinearScale()\n",
    "y_sc = bqplot.LinearScale()\n",
    "size_scale = bqplot.LinearScale()\n",
    "\n",
    "x_ax = bqplot.Axis(scale = x_sc, label = 'Year Constructed')\n",
    "y_ax = bqplot.Axis(scale = y_sc, label = 'Year Acquired', orientation = 'vertical')\n",
    "\n",
    "scatter = bqplot.Scatter(x = uiuc['Year Constructed'], y = uiuc['Year Acquired'],\n",
    "                         size = uiuc[\"Square Footage\"],\n",
    "                        scales = {'x': x_sc, 'y': y_sc, 'size': size_scale})\n",
    "\n",
    "sel = bqplot.interacts.FastIntervalSelector(scale = x_sc, marks = [scatter])\n",
    "h = ipywidgets.HTML()\n",
    "def interval_updated(change):\n",
    "    min_val, max_val = change['new']\n",
    "    selected_points = (uiuc[\"Year Constructed\"] > min_val) & (uiuc[\"Year Constructed\"] < max_val)\n",
    "    h.value = \"Total Square Footage:\" + str(uiuc[\"Square Footage\"][selected_points].sum())\n",
    "sel.observe(interval_updated, 'selected')\n",
    "\n",
    "fig = bqplot.Figure(marks = [scatter], axes = [x_ax, y_ax], interaction = sel)\n",
    "display(ipywidgets.VBox([h, fig]))"
   ]
  },
  {
   "cell_type": "code",
   "execution_count": 88,
   "metadata": {},
   "outputs": [
    {
     "data": {
      "application/vnd.jupyter.widget-view+json": {
       "model_id": "73d1cc9baf224a7a8ffad52d24e7d223",
       "version_major": 2,
       "version_minor": 0
      },
      "text/plain": [
       "VBox(children=(HTML(value=''), Figure(axes=[Axis(label='Year Constructed', scale=LinearScale()), Axis(label='Y…"
      ]
     },
     "metadata": {},
     "output_type": "display_data"
    }
   ],
   "source": [
    "x_sc = bqplot.LinearScale()\n",
    "y_sc = bqplot.LinearScale()\n",
    "size_scale = bqplot.LinearScale()\n",
    "\n",
    "x_ax = bqplot.Axis(scale = x_sc, label = 'Year Constructed')\n",
    "y_ax = bqplot.Axis(scale = y_sc, label = 'Year Acquired', orientation = 'vertical')\n",
    "\n",
    "scatter = bqplot.Scatter(x = uiuc['Year Constructed'], y = uiuc['Year Acquired'],\n",
    "                         size = uiuc[\"Square Footage\"],\n",
    "                        scales = {'x': x_sc, 'y': y_sc, 'size': size_scale})\n",
    "\n",
    "sel = bqplot.interacts.BrushSelector(x_scale = x_sc, y_scale = y_sc, marks = [scatter])\n",
    "h = ipywidgets.HTML()\n",
    "def interval_updated(change):\n",
    "    h.value = str(change['new'])\n",
    "    \n",
    "sel.observe(interval_updated, 'selected')\n",
    "\n",
    "fig = bqplot.Figure(marks = [scatter], axes = [x_ax, y_ax], interaction = sel)\n",
    "display(ipywidgets.VBox([h, fig]))"
   ]
  },
  {
   "cell_type": "code",
   "execution_count": 89,
   "metadata": {},
   "outputs": [],
   "source": [
    "sel.color = 'black'"
   ]
  },
  {
   "cell_type": "code",
   "execution_count": 92,
   "metadata": {},
   "outputs": [],
   "source": [
    "sel.selected_x = [1880, 1900]"
   ]
  },
  {
   "cell_type": "code",
   "execution_count": 110,
   "metadata": {},
   "outputs": [],
   "source": [
    "agencies = buildings.groupby(\"Agency Name\").count().sort_values(\"Address\").head(5).index"
   ]
  },
  {
   "cell_type": "code",
   "execution_count": 111,
   "metadata": {},
   "outputs": [
    {
     "data": {
      "text/plain": [
       "Index(['Appellate Court / Fifth District', 'IL State Board of Education',\n",
       "       'Department of Revenue', 'Illinois Courts',\n",
       "       'Office of the Attorney General'],\n",
       "      dtype='object', name='Agency Name')"
      ]
     },
     "execution_count": 111,
     "metadata": {},
     "output_type": "execute_result"
    }
   ],
   "source": [
    "agencies"
   ]
  },
  {
   "cell_type": "code",
   "execution_count": 114,
   "metadata": {},
   "outputs": [
    {
     "ename": "TypeError",
     "evalue": "string indices must be integers",
     "output_type": "error",
     "traceback": [
      "\u001b[0;31m---------------------------------------------------------------------------\u001b[0m",
      "\u001b[0;31mTypeError\u001b[0m                                 Traceback (most recent call last)",
      "\u001b[0;32m<ipython-input-114-1a7dcd6b6d0c>\u001b[0m in \u001b[0;36m<module>\u001b[0;34m\u001b[0m\n\u001b[0;32m----> 1\u001b[0;31m \u001b[0;34m[\u001b[0m\u001b[0mb\u001b[0m \u001b[0;32mfor\u001b[0m \u001b[0mb\u001b[0m \u001b[0;32min\u001b[0m \u001b[0mbuildings\u001b[0m \u001b[0;32mif\u001b[0m \u001b[0mb\u001b[0m\u001b[0;34m[\u001b[0m\u001b[0;34m\"Agency Name\"\u001b[0m\u001b[0;34m]\u001b[0m \u001b[0;32min\u001b[0m \u001b[0magencies\u001b[0m\u001b[0;34m]\u001b[0m\u001b[0;34m\u001b[0m\u001b[0;34m\u001b[0m\u001b[0m\n\u001b[0m",
      "\u001b[0;32m<ipython-input-114-1a7dcd6b6d0c>\u001b[0m in \u001b[0;36m<listcomp>\u001b[0;34m(.0)\u001b[0m\n\u001b[0;32m----> 1\u001b[0;31m \u001b[0;34m[\u001b[0m\u001b[0mb\u001b[0m \u001b[0;32mfor\u001b[0m \u001b[0mb\u001b[0m \u001b[0;32min\u001b[0m \u001b[0mbuildings\u001b[0m \u001b[0;32mif\u001b[0m \u001b[0mb\u001b[0m\u001b[0;34m[\u001b[0m\u001b[0;34m\"Agency Name\"\u001b[0m\u001b[0;34m]\u001b[0m \u001b[0;32min\u001b[0m \u001b[0magencies\u001b[0m\u001b[0;34m]\u001b[0m\u001b[0;34m\u001b[0m\u001b[0;34m\u001b[0m\u001b[0m\n\u001b[0m",
      "\u001b[0;31mTypeError\u001b[0m: string indices must be integers"
     ]
    }
   ],
   "source": []
  },
  {
   "cell_type": "code",
   "execution_count": null,
   "metadata": {},
   "outputs": [],
   "source": []
  }
 ],
 "metadata": {
  "kernelspec": {
   "display_name": "Python 3",
   "language": "python",
   "name": "python3"
  },
  "language_info": {
   "codemirror_mode": {
    "name": "ipython",
    "version": 3
   },
   "file_extension": ".py",
   "mimetype": "text/x-python",
   "name": "python",
   "nbconvert_exporter": "python",
   "pygments_lexer": "ipython3",
   "version": "3.7.6"
  }
 },
 "nbformat": 4,
 "nbformat_minor": 2
}
