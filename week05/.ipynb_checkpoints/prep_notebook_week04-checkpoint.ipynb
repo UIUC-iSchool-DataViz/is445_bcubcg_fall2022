{
 "cells": [
  {
   "cell_type": "markdown",
   "metadata": {},
   "source": [
    "# Beginning interactivity with tabular data: ipywidgets"
   ]
  },
  {
   "cell_type": "markdown",
   "metadata": {},
   "source": [
    "## ipywidgets: More details"
   ]
  },
  {
   "cell_type": "markdown",
   "metadata": {},
   "source": [
    "Import our usual things:"
   ]
  },
  {
   "cell_type": "code",
   "execution_count": 1,
   "metadata": {},
   "outputs": [],
   "source": [
    "%matplotlib inline\n",
    "import matplotlib.pyplot as plt\n",
    "import numpy as np"
   ]
  },
  {
   "cell_type": "markdown",
   "metadata": {},
   "source": [
    "Also import ipywidgets:"
   ]
  },
  {
   "cell_type": "code",
   "execution_count": 2,
   "metadata": {},
   "outputs": [],
   "source": [
    "import ipywidgets"
   ]
  },
  {
   "cell_type": "markdown",
   "metadata": {},
   "source": [
    "This is how we've used widgets before for the most part with the weird \"decorator\" function that \"decorates\" whatever function directly follows it:"
   ]
  },
  {
   "cell_type": "code",
   "execution_count": 3,
   "metadata": {},
   "outputs": [
    {
     "data": {
      "application/vnd.jupyter.widget-view+json": {
       "model_id": "e7466a06ff6646c1b6f1f2d2651f4613",
       "version_major": 2,
       "version_minor": 0
      },
      "text/plain": [
       "interactive(children=(Dropdown(description='name', options=('Linda', 'Tina', 'Louise'), value='Linda'), Output…"
      ]
     },
     "metadata": {},
     "output_type": "display_data"
    }
   ],
   "source": [
    "@ipywidgets.interact(name = ['Linda', 'Tina', 'Louise'])\n",
    "def print_name(name):\n",
    "    print(name) # just a simple print out"
   ]
  },
  {
   "cell_type": "markdown",
   "metadata": {},
   "source": [
    "### Let's make sure we can mess with widgets\n",
    "\n",
    "But now, lets go into ipywidgets in a bit more detail and look at specific functions and call them directly from ipywidgets.\n",
    "\n",
    "For example, we can create a little display that increments integer numbers:"
   ]
  },
  {
   "cell_type": "code",
   "execution_count": 4,
   "metadata": {},
   "outputs": [
    {
     "data": {
      "application/vnd.jupyter.widget-view+json": {
       "model_id": "cffc5f2dadef4f0884c146f3e3be19cd",
       "version_major": 2,
       "version_minor": 0
      },
      "text/plain": [
       "IntText(value=0)"
      ]
     },
     "metadata": {},
     "output_type": "display_data"
    }
   ],
   "source": [
    "itext = ipywidgets.IntText()\n",
    "itext"
   ]
  },
  {
   "cell_type": "markdown",
   "metadata": {},
   "source": [
    "But what if that didn't display for you?  Depending on what version of jupyter notebook you have, you might have to use \"display\" to actually show your widgets.  \n",
    "\n",
    "Try (uncommenting) the following:"
   ]
  },
  {
   "cell_type": "code",
   "execution_count": 5,
   "metadata": {},
   "outputs": [],
   "source": [
    "#from IPython.display import display\n",
    "#display(itext)"
   ]
  },
  {
   "cell_type": "markdown",
   "metadata": {},
   "source": [
    "Still didn't work?  Try refreshing and/or restarting your notebook.\n",
    "\n",
    "*Still* not working?  You might have to install the jupyter notebook widget extension:"
   ]
  },
  {
   "cell_type": "code",
   "execution_count": 6,
   "metadata": {},
   "outputs": [],
   "source": [
    "#!jupyter nbextension enable --py widgetsnbextension"
   ]
  },
  {
   "cell_type": "markdown",
   "metadata": {},
   "source": [
    "If you end up running the above cell (uncommented naturally!) then you might have to refresh or restart your jupyter notebook."
   ]
  },
  {
   "cell_type": "markdown",
   "metadata": {},
   "source": [
    "Moving on: \n",
    "\n",
    "The value of `itext` is then stored - so we could in theory generate a toggle and then do stuff with its value:"
   ]
  },
  {
   "cell_type": "code",
   "execution_count": 7,
   "metadata": {},
   "outputs": [
    {
     "data": {
      "text/plain": [
       "0"
      ]
     },
     "execution_count": 7,
     "metadata": {},
     "output_type": "execute_result"
    }
   ],
   "source": [
    "itext.value"
   ]
  },
  {
   "cell_type": "markdown",
   "metadata": {},
   "source": [
    "Note if I go up and change the toggle value I have to re-run this cell to print out the newly stored value."
   ]
  },
  {
   "cell_type": "markdown",
   "metadata": {},
   "source": [
    "I can also set the value \"by hand\":"
   ]
  },
  {
   "cell_type": "code",
   "execution_count": 8,
   "metadata": {},
   "outputs": [],
   "source": [
    "itext.value = 10"
   ]
  },
  {
   "cell_type": "markdown",
   "metadata": {},
   "source": [
    "Once I run this cell, now the toggle values are updated above."
   ]
  },
  {
   "cell_type": "markdown",
   "metadata": {},
   "source": [
    "### Building up interfaces with ipywidgets"
   ]
  },
  {
   "cell_type": "markdown",
   "metadata": {},
   "source": [
    "Let's start thinking about how we can link up widgets together to make interfaces!"
   ]
  },
  {
   "cell_type": "markdown",
   "metadata": {},
   "source": [
    "Let's start making up a little progress bar, and I'm going to set it at 90%:"
   ]
  },
  {
   "cell_type": "code",
   "execution_count": 9,
   "metadata": {},
   "outputs": [
    {
     "data": {
      "application/vnd.jupyter.widget-view+json": {
       "model_id": "e99fad28f0754a62a4fc35fcd36f151e",
       "version_major": 2,
       "version_minor": 0
      },
      "text/plain": [
       "IntProgress(value=90)"
      ]
     },
     "metadata": {},
     "output_type": "display_data"
    }
   ],
   "source": [
    "ip = ipywidgets.IntProgress(value = 90)\n",
    "ip"
   ]
  },
  {
   "cell_type": "markdown",
   "metadata": {},
   "source": [
    "Let's think about how we'd link up this with a little integer slider to change our value:"
   ]
  },
  {
   "cell_type": "code",
   "execution_count": 10,
   "metadata": {},
   "outputs": [
    {
     "data": {
      "application/vnd.jupyter.widget-view+json": {
       "model_id": "a5191f02a7b24ebb90ba5cf42db76853",
       "version_major": 2,
       "version_minor": 0
      },
      "text/plain": [
       "IntSlider(value=0)"
      ]
     },
     "metadata": {},
     "output_type": "display_data"
    }
   ],
   "source": [
    "irange = ipywidgets.IntSlider(min = 0, max = 100, step = 1)\n",
    "irange"
   ]
  },
  {
   "cell_type": "markdown",
   "metadata": {},
   "source": [
    "Right now I can change one and not the other, so that's not what we are going for.  We have to \"link\" whatever is in our widgets that controls both our progress bar and our integer slider.  \n",
    "\n",
    "But what do we link?  Let's see whats \"in\" our different widgets:"
   ]
  },
  {
   "cell_type": "code",
   "execution_count": 11,
   "metadata": {},
   "outputs": [
    {
     "data": {
      "text/plain": [
       "['_dom_classes',\n",
       " '_model_module',\n",
       " '_model_module_version',\n",
       " '_model_name',\n",
       " '_view_count',\n",
       " '_view_module',\n",
       " '_view_module_version',\n",
       " '_view_name',\n",
       " 'bar_style',\n",
       " 'description',\n",
       " 'description_tooltip',\n",
       " 'layout',\n",
       " 'max',\n",
       " 'min',\n",
       " 'orientation',\n",
       " 'style',\n",
       " 'value']"
      ]
     },
     "execution_count": 11,
     "metadata": {},
     "output_type": "execute_result"
    }
   ],
   "source": [
    "ip.keys"
   ]
  },
  {
   "cell_type": "code",
   "execution_count": 12,
   "metadata": {},
   "outputs": [
    {
     "data": {
      "text/plain": [
       "['_dom_classes',\n",
       " '_model_module',\n",
       " '_model_module_version',\n",
       " '_model_name',\n",
       " '_view_count',\n",
       " '_view_module',\n",
       " '_view_module_version',\n",
       " '_view_name',\n",
       " 'continuous_update',\n",
       " 'description',\n",
       " 'description_tooltip',\n",
       " 'disabled',\n",
       " 'layout',\n",
       " 'max',\n",
       " 'min',\n",
       " 'orientation',\n",
       " 'readout',\n",
       " 'readout_format',\n",
       " 'step',\n",
       " 'style',\n",
       " 'value']"
      ]
     },
     "execution_count": 12,
     "metadata": {},
     "output_type": "execute_result"
    }
   ],
   "source": [
    "irange.keys"
   ]
  },
  {
   "cell_type": "markdown",
   "metadata": {},
   "source": [
    "So, there are a lot of parameters here, but one thing that is pretty standard across all widgets is that they have some sort of \"value\" that can be updated, for example, behold:"
   ]
  },
  {
   "cell_type": "code",
   "execution_count": 13,
   "metadata": {},
   "outputs": [
    {
     "data": {
      "application/vnd.jupyter.widget-view+json": {
       "model_id": "e99fad28f0754a62a4fc35fcd36f151e",
       "version_major": 2,
       "version_minor": 0
      },
      "text/plain": [
       "IntProgress(value=90)"
      ]
     },
     "metadata": {},
     "output_type": "display_data"
    }
   ],
   "source": [
    "ip"
   ]
  },
  {
   "cell_type": "code",
   "execution_count": 14,
   "metadata": {},
   "outputs": [],
   "source": [
    "ip.value=10"
   ]
  },
  {
   "cell_type": "markdown",
   "metadata": {},
   "source": [
    "How do we link the values of these two widgets?  With a function called `jslink`:"
   ]
  },
  {
   "cell_type": "code",
   "execution_count": 15,
   "metadata": {},
   "outputs": [],
   "source": [
    "ipywidgets.jslink?"
   ]
  },
  {
   "cell_type": "markdown",
   "metadata": {},
   "source": [
    "Let's give it a shot!"
   ]
  },
  {
   "cell_type": "code",
   "execution_count": 16,
   "metadata": {},
   "outputs": [
    {
     "data": {
      "text/plain": [
       "Link(source=(IntProgress(value=10), 'value'), target=(IntSlider(value=0), 'value'))"
      ]
     },
     "metadata": {},
     "output_type": "display_data"
    }
   ],
   "source": [
    "ipywidgets.jslink((ip,'value'), (irange,'value'))"
   ]
  },
  {
   "cell_type": "markdown",
   "metadata": {},
   "source": [
    "Let's see!"
   ]
  },
  {
   "cell_type": "code",
   "execution_count": 17,
   "metadata": {},
   "outputs": [
    {
     "data": {
      "application/vnd.jupyter.widget-view+json": {
       "model_id": "e99fad28f0754a62a4fc35fcd36f151e",
       "version_major": 2,
       "version_minor": 0
      },
      "text/plain": [
       "IntProgress(value=10)"
      ]
     },
     "metadata": {},
     "output_type": "display_data"
    }
   ],
   "source": [
    "ip"
   ]
  },
  {
   "cell_type": "code",
   "execution_count": 18,
   "metadata": {},
   "outputs": [
    {
     "data": {
      "application/vnd.jupyter.widget-view+json": {
       "model_id": "a5191f02a7b24ebb90ba5cf42db76853",
       "version_major": 2,
       "version_minor": 0
      },
      "text/plain": [
       "IntSlider(value=10)"
      ]
     },
     "metadata": {},
     "output_type": "display_data"
    }
   ],
   "source": [
    "irange"
   ]
  },
  {
   "cell_type": "markdown",
   "metadata": {},
   "source": [
    "Cool!  Note that they are all linked -- every instance!"
   ]
  },
  {
   "cell_type": "markdown",
   "metadata": {},
   "source": [
    "So, we probably want to display these two widgets on top of eachother, how can we do that?\n",
    "\n",
    "ipywidgets has a bunch of layout options we can use:"
   ]
  },
  {
   "cell_type": "code",
   "execution_count": 19,
   "metadata": {},
   "outputs": [
    {
     "data": {
      "application/vnd.jupyter.widget-view+json": {
       "model_id": "57ae0ca25cf940558e3a96db7a928711",
       "version_major": 2,
       "version_minor": 0
      },
      "text/plain": [
       "VBox(children=(IntProgress(value=10), IntSlider(value=10)))"
      ]
     },
     "metadata": {},
     "output_type": "display_data"
    }
   ],
   "source": [
    "ipywidgets.VBox([ip, irange])"
   ]
  },
  {
   "cell_type": "markdown",
   "metadata": {},
   "source": [
    "What does this `jslink` function do?  We know it links the values, but how?  It does this on the \"browser side\", but what does that mean?\n",
    "\n",
    "There are actually 2 different programming languages operating when you are using a jupyter notebook:\n",
    " 1. Python is used to do your calculations\n",
    " 1. Javascript is used to \"report\" back the outputs from Python\n",
    "\n",
    "Here `jslink` means that the link between your progress bar and slider is happening through Javascript, and happens all within your browser - Python is never contacted about anything in this case!\n",
    "\n",
    "We'll see in a second that there are some instances where we want more options than presented with `jslink` and so we'll actually want Python to get involved in the linking of things.  \n",
    "\n",
    "Let's redo what we just did but getting Python involved:"
   ]
  },
  {
   "cell_type": "code",
   "execution_count": 20,
   "metadata": {},
   "outputs": [
    {
     "data": {
      "application/vnd.jupyter.widget-view+json": {
       "model_id": "694b45a643ab4e76b66d3282d4822529",
       "version_major": 2,
       "version_minor": 0
      },
      "text/plain": [
       "VBox(children=(IntProgress(value=90), IntSlider(value=90)))"
      ]
     },
     "metadata": {},
     "output_type": "display_data"
    }
   ],
   "source": [
    "ip2 = ipywidgets.IntProgress(value = 90)\n",
    "irange2 = ipywidgets.IntSlider(min = 0, max = 100, step = 1)\n",
    "ipywidgets.link((ip2,'value'), (irange2,'value')) # here is the change: \"jslink\" changes to \"link\"\n",
    "ipywidgets.VBox([ip2, irange2])"
   ]
  },
  {
   "cell_type": "markdown",
   "metadata": {},
   "source": [
    "So, just looking at it, it looks exactly the same!  However, we did did this through *Python* this time."
   ]
  },
  {
   "cell_type": "markdown",
   "metadata": {},
   "source": [
    "In this sense we add an extra step:\n",
    " 1. first the browser senses a change when you move the slider (Javascript)\n",
    " 1. sends this info to the kernel (Javascript -> Python)\n",
    " 1. Python registers this change and figures out what to do with it, in this case it says to update the progress bar (Python)\n",
    " 1. Python then tells the browser to update the progress bar (Python -> Javascript)\n",
    " 1. the browser displays the change in the progress bar (Javascript)"
   ]
  },
  {
   "cell_type": "markdown",
   "metadata": {},
   "source": [
    "Ok, that's a little complicated.  The big question you can ask yourself is: Do we really care?  At the moment, no - we can do everything we want using Python/JS in these notebooks, doesn't really affect us one way or the other.  When we start thinking about developing for the web however, we have to think carefully about how to design things because a remote browser only has access to JS by default!  But by then we'll be learning Javascript anyway, so not to worry!\n",
    "\n",
    "For now, let's move on and worry about this JS/Python linking distinction later.\n",
    "\n",
    "Let's try making a button that does something when we press it:"
   ]
  },
  {
   "cell_type": "code",
   "execution_count": 21,
   "metadata": {},
   "outputs": [
    {
     "data": {
      "application/vnd.jupyter.widget-view+json": {
       "model_id": "83f0eb148de94b9f867954cb9b505f1b",
       "version_major": 2,
       "version_minor": 0
      },
      "text/plain": [
       "Button(description='I am a Clicker', style=ButtonStyle())"
      ]
     },
     "metadata": {},
     "output_type": "display_data"
    }
   ],
   "source": [
    "button = ipywidgets.Button(description = \"I am a Clicker\")\n",
    "button"
   ]
  },
  {
   "cell_type": "markdown",
   "metadata": {},
   "source": [
    "So, obviously, we want to do something cool when the button is clicked.  To do that, first we make a function that will do something when we click our button:"
   ]
  },
  {
   "cell_type": "code",
   "execution_count": 22,
   "metadata": {},
   "outputs": [],
   "source": [
    "# let's just say I've clicked:\n",
    "def say_click(event):\n",
    "    print(\"I have clicked. Click.\")"
   ]
  },
  {
   "cell_type": "markdown",
   "metadata": {},
   "source": [
    "Now we have to link our button click to this function, which is more complicated then what `jslink` can handle, so we use the \"on_click\" function associated with this button through the Python-linking channel:"
   ]
  },
  {
   "cell_type": "code",
   "execution_count": 23,
   "metadata": {},
   "outputs": [],
   "source": [
    "button.on_click(say_click)"
   ]
  },
  {
   "cell_type": "markdown",
   "metadata": {},
   "source": [
    "Now, note that if we go back and press our button, it now prints our statement.  This seems indeed like magic, but its using \"callbacks\" to look for changes via Python.  Practically, we don't have to worry about what is going on under the hood for what we want to do with ipywidgets, but it is none-the-less pretty neat. :)"
   ]
  },
  {
   "cell_type": "markdown",
   "metadata": {},
   "source": [
    "Let's build up a bit more complex interactivity using our new friend the button and this \"on_click\" function to interactively update our progress bar."
   ]
  },
  {
   "cell_type": "markdown",
   "metadata": {},
   "source": [
    "Lets start by making a progress bar again:"
   ]
  },
  {
   "cell_type": "code",
   "execution_count": 24,
   "metadata": {},
   "outputs": [],
   "source": [
    "ip = ipywidgets.IntProgress()"
   ]
  },
  {
   "cell_type": "markdown",
   "metadata": {},
   "source": [
    "Now, lets add in a button that will add 10:"
   ]
  },
  {
   "cell_type": "code",
   "execution_count": 25,
   "metadata": {},
   "outputs": [],
   "source": [
    "button_plus = ipywidgets.Button(description = \"+10\")"
   ]
  },
  {
   "cell_type": "markdown",
   "metadata": {},
   "source": [
    "... and one that will subtract 10:"
   ]
  },
  {
   "cell_type": "code",
   "execution_count": 26,
   "metadata": {},
   "outputs": [],
   "source": [
    "button_minus = ipywidgets.Button(description = \"-10\")"
   ]
  },
  {
   "cell_type": "markdown",
   "metadata": {},
   "source": [
    "Lets see how this looks in a horizontal box row:"
   ]
  },
  {
   "cell_type": "code",
   "execution_count": 27,
   "metadata": {},
   "outputs": [
    {
     "data": {
      "application/vnd.jupyter.widget-view+json": {
       "model_id": "8cc5b59b29bc4fdab1df74344671dd5c",
       "version_major": 2,
       "version_minor": 0
      },
      "text/plain": [
       "HBox(children=(Button(description='-10', style=ButtonStyle()), IntProgress(value=0), Button(description='+10',…"
      ]
     },
     "metadata": {},
     "output_type": "display_data"
    }
   ],
   "source": [
    "ipywidgets.HBox([button_minus, ip, button_plus])"
   ]
  },
  {
   "cell_type": "markdown",
   "metadata": {},
   "source": [
    "Note if we click these, nothing happens. This is because we haven't associated actions to our clicks just yet.  We have to make some functions that will tell our buttons and progress bar what to do when each respective button is clicked.  So, let's do that!"
   ]
  },
  {
   "cell_type": "markdown",
   "metadata": {},
   "source": [
    "First, let's remind ourselves what we want to be changing here -- the value of the progress bar:"
   ]
  },
  {
   "cell_type": "code",
   "execution_count": 28,
   "metadata": {},
   "outputs": [
    {
     "data": {
      "text/plain": [
       "0"
      ]
     },
     "execution_count": 28,
     "metadata": {},
     "output_type": "execute_result"
    }
   ],
   "source": [
    "ip.value"
   ]
  },
  {
   "cell_type": "markdown",
   "metadata": {},
   "source": [
    "Lets now associate a change in the value of our progress bar when we click the down button:"
   ]
  },
  {
   "cell_type": "code",
   "execution_count": 29,
   "metadata": {},
   "outputs": [],
   "source": [
    "def click_down(event):\n",
    "    ip.value -= 10"
   ]
  },
  {
   "cell_type": "markdown",
   "metadata": {},
   "source": [
    "Note that while I'm going to associate the click of my button with the `-10` button the *action* that happens when I click is to change the value of the progress bar!"
   ]
  },
  {
   "cell_type": "markdown",
   "metadata": {},
   "source": [
    "Lets tie this change in value to the click with the \"on_click\" function of our down button:"
   ]
  },
  {
   "cell_type": "code",
   "execution_count": 30,
   "metadata": {},
   "outputs": [],
   "source": [
    "button_minus.on_click(click_down)"
   ]
  },
  {
   "cell_type": "markdown",
   "metadata": {},
   "source": [
    "Now let's do the same for our \"+10\" button:"
   ]
  },
  {
   "cell_type": "code",
   "execution_count": 31,
   "metadata": {},
   "outputs": [],
   "source": [
    "def click_up(event):\n",
    "    ip.value += 10\n",
    "button_plus.on_click(click_up)"
   ]
  },
  {
   "cell_type": "markdown",
   "metadata": {},
   "source": [
    "We can now go back up and click on our progress bar, or we can re-display again as well:"
   ]
  },
  {
   "cell_type": "code",
   "execution_count": 32,
   "metadata": {},
   "outputs": [
    {
     "data": {
      "application/vnd.jupyter.widget-view+json": {
       "model_id": "64edf27daabd4203a467c6f7b4051e5f",
       "version_major": 2,
       "version_minor": 0
      },
      "text/plain": [
       "HBox(children=(Button(description='-10', style=ButtonStyle()), IntProgress(value=0), Button(description='+10',…"
      ]
     },
     "metadata": {},
     "output_type": "display_data"
    }
   ],
   "source": [
    "ipywidgets.HBox([button_minus, ip, button_plus])"
   ]
  },
  {
   "cell_type": "markdown",
   "metadata": {},
   "source": [
    "## A few more ipywidget linking practice examples\n",
    "\n",
    "Let's try a few more!"
   ]
  },
  {
   "cell_type": "markdown",
   "metadata": {},
   "source": [
    "### #1: More with layouts (and text boxes) -- OPTIONAL-ISH"
   ]
  },
  {
   "cell_type": "markdown",
   "metadata": {},
   "source": [
    "We can use ipywidgets to create text boxes:"
   ]
  },
  {
   "cell_type": "code",
   "execution_count": 33,
   "metadata": {},
   "outputs": [],
   "source": [
    "ta1 = ipywidgets.Textarea(\"Hi, this is a box of text. (1)\")\n",
    "\n",
    "ta2 = ipywidgets.Textarea(\"Hi, this is a box of text. (2)\")\n",
    "\n",
    "ta3 = ipywidgets.Textarea(\"Hi, this is a box of text. (3)\")\n",
    "\n",
    "ta4 = ipywidgets.Textarea(\"Hi, this is a box of text. (4)\")"
   ]
  },
  {
   "cell_type": "markdown",
   "metadata": {},
   "source": [
    "There are different ways we can layout these text boxes.\n",
    "\n",
    "We can make tabs:"
   ]
  },
  {
   "cell_type": "code",
   "execution_count": 34,
   "metadata": {},
   "outputs": [
    {
     "data": {
      "application/vnd.jupyter.widget-view+json": {
       "model_id": "b94ba3f1fad74b1593242197413639b3",
       "version_major": 2,
       "version_minor": 0
      },
      "text/plain": [
       "Tab(children=(Textarea(value='Hi, this is a box of text. (1)'), Textarea(value='Hi, this is a box of text. (2)…"
      ]
     },
     "metadata": {},
     "output_type": "display_data"
    }
   ],
   "source": [
    "tabs = ipywidgets.Tab([ta1, ta2, ta3, ta4])\n",
    "tabs"
   ]
  },
  {
   "cell_type": "markdown",
   "metadata": {},
   "source": [
    "Or we can \"accordian\" them:"
   ]
  },
  {
   "cell_type": "code",
   "execution_count": 35,
   "metadata": {},
   "outputs": [
    {
     "data": {
      "application/vnd.jupyter.widget-view+json": {
       "model_id": "60e1a173f2d748c1b732d25df48bc222",
       "version_major": 2,
       "version_minor": 0
      },
      "text/plain": [
       "Accordion(children=(Textarea(value='Hi, this is a box of text. (1)'), Textarea(value='Hi, this is a box of tex…"
      ]
     },
     "metadata": {},
     "output_type": "display_data"
    }
   ],
   "source": [
    "acc = ipywidgets.Accordion([ta1, ta2, ta3, ta4])\n",
    "acc"
   ]
  },
  {
   "cell_type": "markdown",
   "metadata": {},
   "source": [
    "We can organize them into horizontal boxes like we did before:"
   ]
  },
  {
   "cell_type": "code",
   "execution_count": 36,
   "metadata": {},
   "outputs": [
    {
     "data": {
      "application/vnd.jupyter.widget-view+json": {
       "model_id": "ec8e19f19f334a6dbc20d635ab990b46",
       "version_major": 2,
       "version_minor": 0
      },
      "text/plain": [
       "HBox(children=(Textarea(value='Hi, this is a box of text. (1)'), Textarea(value='Hi, this is a box of text. (2…"
      ]
     },
     "metadata": {},
     "output_type": "display_data"
    }
   ],
   "source": [
    "ipywidgets.HBox([ta1, ta2, ta3, ta4])"
   ]
  },
  {
   "cell_type": "markdown",
   "metadata": {},
   "source": [
    "Note this means a few of them are off screen so this might not be the best option in this calse.\n",
    "\n",
    "We can organize them in a vertical box instead:"
   ]
  },
  {
   "cell_type": "code",
   "execution_count": 37,
   "metadata": {},
   "outputs": [
    {
     "data": {
      "application/vnd.jupyter.widget-view+json": {
       "model_id": "2fd6660ebc51494997603be37eac777f",
       "version_major": 2,
       "version_minor": 0
      },
      "text/plain": [
       "VBox(children=(Textarea(value='Hi, this is a box of text. (1)'), Textarea(value='Hi, this is a box of text. (2…"
      ]
     },
     "metadata": {},
     "output_type": "display_data"
    }
   ],
   "source": [
    "ipywidgets.VBox([ta1, ta2, ta3, ta4])"
   ]
  },
  {
   "cell_type": "markdown",
   "metadata": {},
   "source": [
    "Or, if we want to be super fancy we can organize them in a verticle box of sets of horizontal boxes:"
   ]
  },
  {
   "cell_type": "code",
   "execution_count": 38,
   "metadata": {},
   "outputs": [
    {
     "data": {
      "application/vnd.jupyter.widget-view+json": {
       "model_id": "c5f0f6d0fb3e4bbb969a6244c6f25108",
       "version_major": 2,
       "version_minor": 0
      },
      "text/plain": [
       "VBox(children=(HBox(children=(Textarea(value='Hi, this is a box of text. (1)'), Textarea(value='Hi, this is a …"
      ]
     },
     "metadata": {},
     "output_type": "display_data"
    }
   ],
   "source": [
    "ipywidgets.VBox( [ipywidgets.HBox([ta1, ta2]),\n",
    "                  ipywidgets.HBox([ta3, ta4])] )"
   ]
  },
  {
   "cell_type": "markdown",
   "metadata": {},
   "source": [
    "We can even insert another widget in our array of horizontal boxes and see how ipywidgets would place it -- let's try it with a label widget:"
   ]
  },
  {
   "cell_type": "code",
   "execution_count": 39,
   "metadata": {},
   "outputs": [
    {
     "data": {
      "application/vnd.jupyter.widget-view+json": {
       "model_id": "9f4de8321cb649b282bd2946d50add3e",
       "version_major": 2,
       "version_minor": 0
      },
      "text/plain": [
       "VBox(children=(HBox(children=(Textarea(value='Hi, this is a box of text. (1)'), Textarea(value='Hi, this is a …"
      ]
     },
     "metadata": {},
     "output_type": "display_data"
    }
   ],
   "source": [
    "ipywidgets.VBox( [ipywidgets.HBox([ta1, ta2]),\n",
    "                  ipywidgets.Label(\"Hello there!\"),\n",
    "                  ipywidgets.HBox([ta3, ta4])] )"
   ]
  },
  {
   "cell_type": "markdown",
   "metadata": {},
   "source": [
    "### #2: More with layouts (and text boxes) -- putting together sliders with play button -- OPTIONAL"
   ]
  },
  {
   "cell_type": "markdown",
   "metadata": {},
   "source": [
    "As a quick example, lets link an integer slider to our play button.  First, lets define the range of our play button:"
   ]
  },
  {
   "cell_type": "code",
   "execution_count": 40,
   "metadata": {},
   "outputs": [],
   "source": [
    "play = ipywidgets.Play(interval = 50, value = 50, min = 1, max = 100, step = 1, description = \"Press Play\")"
   ]
  },
  {
   "cell_type": "markdown",
   "metadata": {},
   "source": [
    "Here, we start at 50, and create min and max value around that. Now, lets create our slider:"
   ]
  },
  {
   "cell_type": "code",
   "execution_count": 41,
   "metadata": {},
   "outputs": [],
   "source": [
    "slider = ipywidgets.IntSlider()"
   ]
  },
  {
   "cell_type": "markdown",
   "metadata": {},
   "source": [
    "Now let's link the min and max of the play interval with the min and max of the integer slider using the `jslink` function:"
   ]
  },
  {
   "cell_type": "code",
   "execution_count": 42,
   "metadata": {},
   "outputs": [
    {
     "data": {
      "text/plain": [
       "Link(source=(Play(value=50, description='Press Play', interval=50, min=1), 'value'), target=(IntSlider(value=0…"
      ]
     },
     "metadata": {},
     "output_type": "display_data"
    }
   ],
   "source": [
    "ipywidgets.jslink((play, 'min'), (slider, 'min'))\n",
    "ipywidgets.jslink((play, 'max'), (slider, 'max'))\n",
    "ipywidgets.jslink((play, 'value'), (slider, 'value'))"
   ]
  },
  {
   "cell_type": "markdown",
   "metadata": {},
   "source": [
    "Note that we don't have to tell the .link function how to link these objects - it knows intuatively. How to link the play widget min & max to the slider min and max.\n",
    "\n",
    "Finally, let's display them side by side:"
   ]
  },
  {
   "cell_type": "code",
   "execution_count": 43,
   "metadata": {},
   "outputs": [
    {
     "data": {
      "application/vnd.jupyter.widget-view+json": {
       "model_id": "65c902cb5a1948e58a80a83a39278c6e",
       "version_major": 2,
       "version_minor": 0
      },
      "text/plain": [
       "HBox(children=(Play(value=1, description='Press Play', interval=50, min=1), IntSlider(value=50, min=1)))"
      ]
     },
     "metadata": {},
     "output_type": "display_data"
    }
   ],
   "source": [
    "ipywidgets.HBox([play, slider])"
   ]
  },
  {
   "cell_type": "markdown",
   "metadata": {},
   "source": [
    "### #3: slider colorpicker and an intro to traitlets and .observe -- NECESSARY FOR TRAITLETS"
   ]
  },
  {
   "cell_type": "markdown",
   "metadata": {},
   "source": [
    "Lets first make a slider:"
   ]
  },
  {
   "cell_type": "code",
   "execution_count": 44,
   "metadata": {},
   "outputs": [],
   "source": [
    "islider = ipywidgets.IntSlider(min = 0, max = 10, step = 1, orientation = 'vertical')"
   ]
  },
  {
   "cell_type": "markdown",
   "metadata": {},
   "source": [
    "Lets give this slider a base color that is sort of purple-y, using a hex code.  Recall: HTML hex codes are another way to \"name\" colors:\n",
    "\n",
    "<img src=\"https://i.pinimg.com/originals/7b/f7/c6/7bf7c6e53128592dcd608f368571821c.gif\">"
   ]
  },
  {
   "cell_type": "code",
   "execution_count": 45,
   "metadata": {},
   "outputs": [],
   "source": [
    "islider.style.handle_color = \"#750075\""
   ]
  },
  {
   "cell_type": "markdown",
   "metadata": {},
   "source": [
    "Let's take a quick look:"
   ]
  },
  {
   "cell_type": "code",
   "execution_count": 46,
   "metadata": {},
   "outputs": [
    {
     "data": {
      "application/vnd.jupyter.widget-view+json": {
       "model_id": "e432fadda4494cb8b554a6427d9952a9",
       "version_major": 2,
       "version_minor": 0
      },
      "text/plain": [
       "IntSlider(value=0, max=10, orientation='vertical', style=SliderStyle(handle_color='#750075'))"
      ]
     },
     "metadata": {},
     "output_type": "display_data"
    }
   ],
   "source": [
    "islider "
   ]
  },
  {
   "cell_type": "markdown",
   "metadata": {},
   "source": [
    "Just slides up and down, nothing too exciting.  Lets create a new widget object called a color picker to pick the color of our handle:"
   ]
  },
  {
   "cell_type": "code",
   "execution_count": 47,
   "metadata": {},
   "outputs": [
    {
     "data": {
      "application/vnd.jupyter.widget-view+json": {
       "model_id": "0424eb45ef764128b67db8059cde197d",
       "version_major": 2,
       "version_minor": 0
      },
      "text/plain": [
       "ColorPicker(value='black')"
      ]
     },
     "metadata": {},
     "output_type": "display_data"
    }
   ],
   "source": [
    "cp = ipywidgets.ColorPicker()\n",
    "cp"
   ]
  },
  {
   "cell_type": "markdown",
   "metadata": {},
   "source": [
    "When we show this we can click on the little box and it pops up a color picker we can mess around with!  Neato.\n",
    "\n",
    "Now let's link the slider's color with the color picker's value.  For practice, let's use the Python-based `link` function:"
   ]
  },
  {
   "cell_type": "code",
   "execution_count": 48,
   "metadata": {},
   "outputs": [
    {
     "data": {
      "text/plain": [
       "<traitlets.traitlets.link at 0x7fa9a0393450>"
      ]
     },
     "execution_count": 48,
     "metadata": {},
     "output_type": "execute_result"
    }
   ],
   "source": [
    "ipywidgets.link( (cp, 'value'), (islider.style, 'handle_color') )"
   ]
  },
  {
   "cell_type": "markdown",
   "metadata": {},
   "source": [
    "And let's see them both together:"
   ]
  },
  {
   "cell_type": "code",
   "execution_count": 49,
   "metadata": {},
   "outputs": [
    {
     "data": {
      "application/vnd.jupyter.widget-view+json": {
       "model_id": "a813d587f3c64fc0b2cf4a05590a2ef3",
       "version_major": 2,
       "version_minor": 0
      },
      "text/plain": [
       "VBox(children=(ColorPicker(value='black'), IntSlider(value=0, max=10, orientation='vertical', style=SliderStyl…"
      ]
     },
     "metadata": {},
     "output_type": "display_data"
    }
   ],
   "source": [
    "ipywidgets.VBox([cp, islider])"
   ]
  },
  {
   "cell_type": "markdown",
   "metadata": {},
   "source": [
    "But what is this `traitlets.traitlets` thing above that occurs when we use `link` instead of `jslink`?  I thought we were doing things with widgets!  Let's talk a bit about what `traitlets` are in Python."
   ]
  },
  {
   "cell_type": "markdown",
   "metadata": {},
   "source": [
    "## Traitlets \n",
    "\n",
    "Traitlets are a way to link the *change in a variable* to an action."
   ]
  },
  {
   "cell_type": "markdown",
   "metadata": {},
   "source": [
    "We'll start by making a class w/o using traitlets.  We've worked with classes before, just sort of \"under the radar\" like with Pandas objects.  Now we will define our own:"
   ]
  },
  {
   "cell_type": "code",
   "execution_count": 52,
   "metadata": {},
   "outputs": [],
   "source": [
    "class MyObject():\n",
    "    name = 'unnamed'\n",
    "    age = 0"
   ]
  },
  {
   "cell_type": "markdown",
   "metadata": {},
   "source": [
    "Let's define a new variable of this `class` type:"
   ]
  },
  {
   "cell_type": "code",
   "execution_count": 53,
   "metadata": {},
   "outputs": [],
   "source": [
    "my_obj = MyObject()"
   ]
  },
  {
   "cell_type": "code",
   "execution_count": 54,
   "metadata": {},
   "outputs": [
    {
     "data": {
      "text/plain": [
       "('unnamed', 0)"
      ]
     },
     "execution_count": 54,
     "metadata": {},
     "output_type": "execute_result"
    }
   ],
   "source": [
    "my_obj.name, my_obj.age"
   ]
  },
  {
   "cell_type": "markdown",
   "metadata": {},
   "source": [
    "We can update the values of these variables like we would any other object:"
   ]
  },
  {
   "cell_type": "code",
   "execution_count": 55,
   "metadata": {},
   "outputs": [],
   "source": [
    "my_obj.name = 'Bob'; my_obj.age = 47"
   ]
  },
  {
   "cell_type": "markdown",
   "metadata": {},
   "source": [
    "Now, let's check out our new values:"
   ]
  },
  {
   "cell_type": "code",
   "execution_count": 56,
   "metadata": {},
   "outputs": [
    {
     "name": "stdout",
     "output_type": "stream",
     "text": [
      "Hello, my name is: Bob and I am 47 years old\n"
     ]
    }
   ],
   "source": [
    "print('Hello, my name is:', my_obj.name, 'and I am', my_obj.age, 'years old')"
   ]
  },
  {
   "cell_type": "markdown",
   "metadata": {},
   "source": [
    "Now, let's say I wanted to re-set the values of the variables in my class -- to print out the above statement, I'd have to redo everything:"
   ]
  },
  {
   "cell_type": "code",
   "execution_count": 57,
   "metadata": {},
   "outputs": [],
   "source": [
    "my_obj.name = 'Linda'; my_obj.age = 45"
   ]
  },
  {
   "cell_type": "code",
   "execution_count": 58,
   "metadata": {},
   "outputs": [
    {
     "name": "stdout",
     "output_type": "stream",
     "text": [
      "Hello, my name is: Linda and I am 45 years old\n"
     ]
    }
   ],
   "source": [
    "print('Hello, my name is:', my_obj.name, 'and I am', my_obj.age, 'years old')"
   ]
  },
  {
   "cell_type": "markdown",
   "metadata": {},
   "source": [
    "The `traitlets` library allows us to \"track\" changes so that we can associate actions with updates to variables.  Let's try this example again:"
   ]
  },
  {
   "cell_type": "code",
   "execution_count": 59,
   "metadata": {},
   "outputs": [],
   "source": [
    "import traitlets"
   ]
  },
  {
   "cell_type": "code",
   "execution_count": 60,
   "metadata": {},
   "outputs": [],
   "source": [
    "class MyTraitletObject(traitlets.HasTraits):\n",
    "    # lets use the unicode trait to let our object have a name\n",
    "    name = traitlets.Unicode(\"unnamed\") \n",
    "    # lets also give our object an age\n",
    "    age = traitlets.Int(0)"
   ]
  },
  {
   "cell_type": "code",
   "execution_count": 61,
   "metadata": {},
   "outputs": [],
   "source": [
    "my_t_obj = MyTraitletObject()\n",
    "my_t_obj.age = 47\n",
    "my_t_obj.name = 'Bob'"
   ]
  },
  {
   "cell_type": "code",
   "execution_count": 62,
   "metadata": {},
   "outputs": [
    {
     "name": "stdout",
     "output_type": "stream",
     "text": [
      "Hello, my name is: Bob and I am 47 years old\n"
     ]
    }
   ],
   "source": [
    "print('Hello, my name is:', my_t_obj.name, 'and I am', my_t_obj.age, 'years old')"
   ]
  },
  {
   "cell_type": "markdown",
   "metadata": {},
   "source": [
    "So far this is not very exciting - we are back where we started!  However, there are options to \"observe\" changes in our traits:"
   ]
  },
  {
   "cell_type": "markdown",
   "metadata": {},
   "source": [
    "Let's create a function that can act on one of the variables of our variables, in particluar, its going to react to the name in my object:"
   ]
  },
  {
   "cell_type": "code",
   "execution_count": 63,
   "metadata": {},
   "outputs": [],
   "source": [
    "def name_changed(change):\n",
    "    print(change) # this is a format that is required of a traitlets class\n",
    "\n",
    "# lets tell traitlets that we are going to change something\n",
    "my_t_obj.observe(name_changed, ['name'])"
   ]
  },
  {
   "cell_type": "markdown",
   "metadata": {},
   "source": [
    "Now when we update, we get info about our update back:"
   ]
  },
  {
   "cell_type": "code",
   "execution_count": 64,
   "metadata": {},
   "outputs": [
    {
     "name": "stdout",
     "output_type": "stream",
     "text": [
      "{'name': 'name', 'old': 'Bob', 'new': 'Linda', 'owner': <__main__.MyTraitletObject object at 0x7fa9a039c150>, 'type': 'change'}\n"
     ]
    }
   ],
   "source": [
    "my_t_obj.name = 'Linda'"
   ]
  },
  {
   "cell_type": "markdown",
   "metadata": {},
   "source": [
    "We can see that there are these weird \"new\" and \"old\" names -- this is tracking how things change. The \"owner\" is just pointing to the memory location of `my_t_obj`."
   ]
  },
  {
   "cell_type": "markdown",
   "metadata": {},
   "source": [
    "Let's do something a little more exciting - have a default print-out of the introduction:"
   ]
  },
  {
   "cell_type": "code",
   "execution_count": 65,
   "metadata": {},
   "outputs": [],
   "source": [
    "def name_changed2(change):\n",
    "    print('Hello, my name is', change['new'], 'and I am', change['owner'].age, 'years old')\n",
    "\n",
    "# lets tell traitlets that we are going to change something\n",
    "my_t_obj.observe(name_changed2, ['name'])"
   ]
  },
  {
   "cell_type": "code",
   "execution_count": 66,
   "metadata": {},
   "outputs": [],
   "source": [
    "my_t_obj.name = 'Linda'"
   ]
  },
  {
   "cell_type": "markdown",
   "metadata": {},
   "source": [
    "Note that now, I've got *2* things associated with any changes -- let's take off the first one:"
   ]
  },
  {
   "cell_type": "code",
   "execution_count": 67,
   "metadata": {},
   "outputs": [],
   "source": [
    "my_t_obj.unobserve(name_changed, ['name'])"
   ]
  },
  {
   "cell_type": "code",
   "execution_count": 68,
   "metadata": {},
   "outputs": [
    {
     "name": "stdout",
     "output_type": "stream",
     "text": [
      "Hello, my name is Bob and I am 47 years old\n"
     ]
    }
   ],
   "source": [
    "my_t_obj.name = \"Bob\""
   ]
  },
  {
   "cell_type": "markdown",
   "metadata": {},
   "source": [
    "We can practice by making a \"watching for a change\" function for age as well:"
   ]
  },
  {
   "cell_type": "code",
   "execution_count": 69,
   "metadata": {},
   "outputs": [],
   "source": [
    "def age_changed(change):\n",
    "    print('Hello, my name is', change['owner'].name, 'and I am', change['new'], 'years old')\n",
    "\n",
    "my_t_obj.observe(age_changed, ['age'])"
   ]
  },
  {
   "cell_type": "code",
   "execution_count": 70,
   "metadata": {},
   "outputs": [
    {
     "name": "stdout",
     "output_type": "stream",
     "text": [
      "Hello, my name is Bob and I am 48 years old\n"
     ]
    }
   ],
   "source": [
    "my_t_obj.age = 48"
   ]
  },
  {
   "cell_type": "markdown",
   "metadata": {},
   "source": [
    "### #4. Michigan colormap and scale: with `interact`"
   ]
  },
  {
   "cell_type": "markdown",
   "metadata": {},
   "source": [
    "Let's go back to the Michigan dataset from last week.  First we read in and reshaped our dataset:"
   ]
  },
  {
   "cell_type": "code",
   "execution_count": 81,
   "metadata": {},
   "outputs": [],
   "source": [
    "mich_filename = '/Users/jillnaiman/Downloads/michigan_lld.flt'\n",
    "michigan = np.fromfile(mich_filename, dtype='f4').reshape((5365,4201))"
   ]
  },
  {
   "cell_type": "markdown",
   "metadata": {},
   "source": [
    "If we recall, we had to \"mask\" out the bad measurement at -9999:"
   ]
  },
  {
   "cell_type": "code",
   "execution_count": 82,
   "metadata": {},
   "outputs": [],
   "source": [
    "michigan[michigan==-9999] = np.nan"
   ]
  },
  {
   "cell_type": "markdown",
   "metadata": {},
   "source": [
    "... so that we could make a meaningful histogram:"
   ]
  },
  {
   "cell_type": "code",
   "execution_count": 83,
   "metadata": {},
   "outputs": [
    {
     "data": {
      "image/png": "[encoded data removed]",
      "text/plain": [
       "<Figure size 432x288 with 1 Axes>"
      ]
     },
     "metadata": {
      "needs_background": "light"
     },
     "output_type": "display_data"
    }
   ],
   "source": [
    "plt.hist(michigan[~np.isnan(michigan)])\n",
    "plt.show()"
   ]
  },
  {
   "cell_type": "markdown",
   "metadata": {},
   "source": [
    "We can take a quick look at our dataset:"
   ]
  },
  {
   "cell_type": "code",
   "execution_count": 84,
   "metadata": {},
   "outputs": [
    {
     "data": {
      "image/png": "[encoded data removed]",
      "text/plain": [
       "<Figure size 432x288 with 1 Axes>"
      ]
     },
     "metadata": {
      "needs_background": "light"
     },
     "output_type": "display_data"
    }
   ],
   "source": [
    "plt.imshow(michigan)\n",
    "plt.show()"
   ]
  },
  {
   "cell_type": "markdown",
   "metadata": {},
   "source": [
    "Neat!  We also talked a bit about some ways we could transform the color scale for our `imshow` call above:"
   ]
  },
  {
   "cell_type": "code",
   "execution_count": 85,
   "metadata": {},
   "outputs": [
    {
     "data": {
      "image/png": "[encoded data removed]",
      "text/plain": [
       "<Figure size 432x288 with 2 Axes>"
      ]
     },
     "metadata": {
      "needs_background": "light"
     },
     "output_type": "display_data"
    }
   ],
   "source": [
    "# for data color transformation\n",
    "import matplotlib.colors as mpl_colors\n",
    "\n",
    "plt.imshow(michigan, cmap=\"terrain\", norm = mpl_colors.SymLogNorm(10)) # symmetric log scaling\n",
    "plt.clim(-352,352) # symmetric about positive and negative heights\n",
    "plt.colorbar()\n",
    "plt.show()"
   ]
  },
  {
   "cell_type": "markdown",
   "metadata": {},
   "source": [
    "What is this `SymLogNorm` function?"
   ]
  },
  {
   "cell_type": "code",
   "execution_count": 86,
   "metadata": {},
   "outputs": [],
   "source": [
    "mpl_colors.SymLogNorm?"
   ]
  },
  {
   "cell_type": "code",
   "execution_count": 87,
   "metadata": {},
   "outputs": [
    {
     "data": {
      "text/plain": [
       "(array([0.     , 1.     , 1.69897]), array([0.     , 1.     , 1.69897]))"
      ]
     },
     "execution_count": 87,
     "metadata": {},
     "output_type": "execute_result"
    }
   ],
   "source": [
    "np.log10([1,10,50]),np.log10(np.abs([-1,-10,-50]))"
   ]
  },
  {
   "cell_type": "markdown",
   "metadata": {},
   "source": [
    "We see that 1 and 10 are mapped to a jump of 1 but 1->50 is mapped only to a jump of 0.7 instead of 40.\n",
    "\n",
    "One natural thing we might want to do is change color scheme and be able to toggle on and off the SymLogNorm color remapper.  We can do this 2 ways - by using our widget `@interact` decorator function again, and by explicitly laying out widgets.  Let's try to first way first:"
   ]
  },
  {
   "cell_type": "code",
   "execution_count": 88,
   "metadata": {},
   "outputs": [
    {
     "data": {
      "application/vnd.jupyter.widget-view+json": {
       "model_id": "1eec3583f5e646e8956eac0144fb378d",
       "version_major": 2,
       "version_minor": 0
      },
      "text/plain": [
       "interactive(children=(Dropdown(description='colormap', index=154, options=('Accent', 'Accent_r', 'Blues', 'Blu…"
      ]
     },
     "metadata": {},
     "output_type": "display_data"
    }
   ],
   "source": [
    "@ipywidgets.interact(colormap = plt.colormaps(),\n",
    "                     sym_log=True)\n",
    "def plot(colormap = 'terrain', sym_log = True):\n",
    "    if sym_log:\n",
    "        norm = mpl_colors.SymLogNorm(10)\n",
    "    else:\n",
    "        norm = mpl_colors.Normalize()\n",
    "        \n",
    "    fig, ax = plt.subplots(figsize=(6,8))\n",
    "    # calling colorbar in a different way:\n",
    "    CAX = ax.imshow(michigan, cmap=colormap, norm = norm)\n",
    "    plt.colorbar(CAX, extend = 'both')\n",
    "    plt.show()"
   ]
  },
  {
   "cell_type": "markdown",
   "metadata": {},
   "source": [
    "**Bonus:**"
   ]
  },
  {
   "cell_type": "code",
   "execution_count": 89,
   "metadata": {},
   "outputs": [
    {
     "data": {
      "application/vnd.jupyter.widget-view+json": {
       "model_id": "9958eea145a44cce882b66e18283ae54",
       "version_major": 2,
       "version_minor": 0
      },
      "text/plain": [
       "interactive(children=(Dropdown(description='colormap', index=154, options=('Accent', 'Accent_r', 'Blues', 'Blu…"
      ]
     },
     "metadata": {},
     "output_type": "display_data"
    }
   ],
   "source": [
    "@ipywidgets.interact(colormap = plt.colormaps(), color_range = (1.0, 352.0, 1.0), \n",
    "                     sym_log=True)\n",
    "def plot(colormap = 'terrain', color_range = 352, sym_log = True):\n",
    "    if sym_log:\n",
    "        norm = mpl_colors.SymLogNorm(10)\n",
    "    else:\n",
    "        norm = mpl_colors.Normalize()\n",
    "        \n",
    "    fig, ax = plt.subplots(figsize=(6,8))\n",
    "    # calling colorbar in a different way:\n",
    "    CAX = ax.imshow(michigan, cmap=colormap, norm = norm)\n",
    "    CAX.set_clim(-color_range, color_range)\n",
    "    plt.colorbar(CAX, extend = 'both')\n",
    "    plt.show()"
   ]
  },
  {
   "cell_type": "markdown",
   "metadata": {},
   "source": [
    "### #5. Michigan colormap and scale: Widget Placement by hand\n",
    "\n",
    "More info for `Output`: https://ipywidgets.readthedocs.io/en/latest/examples/Output%20Widget.html"
   ]
  },
  {
   "cell_type": "markdown",
   "metadata": {},
   "source": [
    "**Note:** If we are short on time, we might only get through the color-map-by-hand portion of this.\n",
    "\n",
    "We'll need a few extra functions to do this sort of thing \"by hand\":"
   ]
  },
  {
   "cell_type": "code",
   "execution_count": 90,
   "metadata": {},
   "outputs": [],
   "source": [
    "#plt.close('all')"
   ]
  },
  {
   "cell_type": "code",
   "execution_count": 145,
   "metadata": {},
   "outputs": [],
   "source": [
    "from IPython.display import display, clear_output\n",
    "%config InlineBackend.close_figures=False \n",
    "# If you get \"double\" displays over the next 2 cells, make sure you have this \"config\" statement there\n",
    "# This stops the auto-creation of figures until we say \"plt.show\" or \"display\"\n",
    "# Read more here: https://github.com/jupyter-widgets/ipywidgets/issues/1940"
   ]
  },
  {
   "cell_type": "code",
   "execution_count": 146,
   "metadata": {},
   "outputs": [
    {
     "data": {
      "application/vnd.jupyter.widget-view+json": {
       "model_id": "e0390c69d3d94ab9907cfed171445650",
       "version_major": 2,
       "version_minor": 0
      },
      "text/plain": [
       "Output()"
      ]
     },
     "metadata": {},
     "output_type": "display_data"
    }
   ],
   "source": [
    "fig = plt.figure()\n",
    "# add axes by hand like last week\n",
    "# order here is: left, bottom, width, height\n",
    "plt.ioff()\n",
    "ax = fig.add_axes([0.0, 0.15, 1.0, 0.8]) \n",
    "\n",
    "image = ax.imshow(michigan, cmap='terrain')\n",
    "fig.colorbar(image, extend = 'both')\n",
    "\n",
    "out = ipywidgets.Output()  ### NEW WIDGET CALL\n",
    "display(out)"
   ]
  },
  {
   "cell_type": "markdown",
   "metadata": {},
   "source": [
    "The `Output` widget sort of \"captures\" the display until we explictly call it in context:"
   ]
  },
  {
   "cell_type": "code",
   "execution_count": 147,
   "metadata": {},
   "outputs": [],
   "source": [
    "with out:\n",
    "    display(fig)"
   ]
  },
  {
   "cell_type": "markdown",
   "metadata": {},
   "source": [
    "We use the `Layout` widget call, along with `figsize` in matplotlib to change the size of our image:"
   ]
  },
  {
   "cell_type": "code",
   "execution_count": 148,
   "metadata": {},
   "outputs": [
    {
     "data": {
      "application/vnd.jupyter.widget-view+json": {
       "model_id": "c9f77a56b9554f01bee9e74e53fef106",
       "version_major": 2,
       "version_minor": 0
      },
      "text/plain": [
       "Output(layout=Layout(height='500px', width='500px'))"
      ]
     },
     "metadata": {},
     "output_type": "display_data"
    }
   ],
   "source": [
    "fig = plt.figure(figsize=(8,8))\n",
    "# add axes by hand like last week\n",
    "# order here is: left, bottom, width, height\n",
    "ax = fig.add_axes([0.0, 0.15, 1.0, 0.8]) \n",
    "\n",
    "image = ax.imshow(michigan, cmap='terrain')\n",
    "fig.colorbar(image, extend = 'both')\n",
    "\n",
    "#del out\n",
    "out = ipywidgets.Output(layout=ipywidgets.Layout(height='500px', width = '500px'))  ### NEW WIDGET CALL\n",
    "display(out) # hold our output...\n",
    "\n",
    "with out: # until we explicitly say display!\n",
    "    display(fig) # only display the fig when we explitly say to!"
   ]
  },
  {
   "cell_type": "markdown",
   "metadata": {},
   "source": [
    "Why would we bother making our lives more complicated like this instead of just using `@interact` like we did before?  So that we can start placing our widgets where we want and start to have a little more control over what we are displaying and how.  For example, let's add a dropdown menu by hand:"
   ]
  },
  {
   "cell_type": "code",
   "execution_count": 155,
   "metadata": {},
   "outputs": [],
   "source": [
    "dropdown = ipywidgets.Dropdown(options=plt.colormaps())"
   ]
  },
  {
   "cell_type": "code",
   "execution_count": 156,
   "metadata": {},
   "outputs": [
    {
     "data": {
      "text/plain": [
       "['_dom_classes',\n",
       " '_model_module',\n",
       " '_model_module_version',\n",
       " '_model_name',\n",
       " '_options_labels',\n",
       " '_view_count',\n",
       " '_view_module',\n",
       " '_view_module_version',\n",
       " '_view_name',\n",
       " 'description',\n",
       " 'description_tooltip',\n",
       " 'disabled',\n",
       " 'index',\n",
       " 'layout',\n",
       " 'style']"
      ]
     },
     "execution_count": 156,
     "metadata": {},
     "output_type": "execute_result"
    }
   ],
   "source": [
    "dropdown.keys"
   ]
  },
  {
   "cell_type": "markdown",
   "metadata": {},
   "source": [
    "`dropdown.index` gives us the # of the color map from `plt.colormaps()`.  Let's add this in:"
   ]
  },
  {
   "cell_type": "code",
   "execution_count": 157,
   "metadata": {},
   "outputs": [
    {
     "data": {
      "application/vnd.jupyter.widget-view+json": {
       "model_id": "1e701def65f5451eaeabda4038079826",
       "version_major": 2,
       "version_minor": 0
      },
      "text/plain": [
       "HBox(children=(Output(layout=Layout(height='500px', width='500px')), Dropdown(options=('Accent', 'Accent_r', '…"
      ]
     },
     "metadata": {},
     "output_type": "display_data"
    }
   ],
   "source": [
    "fig = plt.figure(figsize=(8,8))\n",
    "# add axes by hand like last week\n",
    "# order here is: left, bottom, width, height\n",
    "ax = fig.add_axes([0.0, 0.15, 1.0, 0.8]) \n",
    "\n",
    "image = ax.imshow(michigan, cmap='terrain')\n",
    "fig.colorbar(image, extend = 'both')\n",
    "\n",
    "#del out\n",
    "out = ipywidgets.Output(layout=ipywidgets.Layout(height='500px', width = '500px'))\n",
    "dropdown = ipywidgets.Dropdown(options=plt.colormaps())\n",
    "\n",
    "hbox=ipywidgets.HBox([out, dropdown])\n",
    "\n",
    "display(hbox)\n",
    "with out:\n",
    "    display(fig)"
   ]
  },
  {
   "cell_type": "markdown",
   "metadata": {},
   "source": [
    "So now we can start placing our interactive widgets how we want!  Note that if update the dropdown, nothing happens because its not connected to the plot anyway.  Let's work on connecting our dropdown menu to our plot using an `.observe` traitlets call:"
   ]
  },
  {
   "cell_type": "code",
   "execution_count": 154,
   "metadata": {},
   "outputs": [
    {
     "data": {
      "application/vnd.jupyter.widget-view+json": {
       "model_id": "6cb2fd2e747d4ebf942fd2245fc590df",
       "version_major": 2,
       "version_minor": 0
      },
      "text/plain": [
       "HBox(children=(Output(layout=Layout(height='500px', width='500px')), Dropdown(options=('Accent', 'Accent_r', '…"
      ]
     },
     "metadata": {},
     "output_type": "display_data"
    },
    {
     "name": "stdout",
     "output_type": "stream",
     "text": [
      "{'name': '_property_lock', 'old': traitlets.Undefined, 'new': {'index': 11}, 'owner': Dropdown(options=('Accent', 'Accent_r', 'Blues', 'Blues_r', 'BrBG', 'BrBG_r', 'BuGn', 'BuGn_r', 'BuPu', 'BuPu_r', 'CMRmap', 'CMRmap_r', 'Dark2', 'Dark2_r', 'GnBu', 'GnBu_r', 'Greens', 'Greens_r', 'Greys', 'Greys_r', 'OrRd', 'OrRd_r', 'Oranges', 'Oranges_r', 'PRGn', 'PRGn_r', 'Paired', 'Paired_r', 'Pastel1', 'Pastel1_r', 'Pastel2', 'Pastel2_r', 'PiYG', 'PiYG_r', 'PuBu', 'PuBuGn', 'PuBuGn_r', 'PuBu_r', 'PuOr', 'PuOr_r', 'PuRd', 'PuRd_r', 'Purples', 'Purples_r', 'RdBu', 'RdBu_r', 'RdGy', 'RdGy_r', 'RdPu', 'RdPu_r', 'RdYlBu', 'RdYlBu_r', 'RdYlGn', 'RdYlGn_r', 'Reds', 'Reds_r', 'Set1', 'Set1_r', 'Set2', 'Set2_r', 'Set3', 'Set3_r', 'Spectral', 'Spectral_r', 'Wistia', 'Wistia_r', 'YlGn', 'YlGnBu', 'YlGnBu_r', 'YlGn_r', 'YlOrBr', 'YlOrBr_r', 'YlOrRd', 'YlOrRd_r', 'afmhot', 'afmhot_r', 'autumn', 'autumn_r', 'binary', 'binary_r', 'bone', 'bone_r', 'brg', 'brg_r', 'bwr', 'bwr_r', 'cividis', 'cividis_r', 'cool', 'cool_r', 'coolwarm', 'coolwarm_r', 'copper', 'copper_r', 'cubehelix', 'cubehelix_r', 'flag', 'flag_r', 'gist_earth', 'gist_earth_r', 'gist_gray', 'gist_gray_r', 'gist_heat', 'gist_heat_r', 'gist_ncar', 'gist_ncar_r', 'gist_rainbow', 'gist_rainbow_r', 'gist_stern', 'gist_stern_r', 'gist_yarg', 'gist_yarg_r', 'gnuplot', 'gnuplot2', 'gnuplot2_r', 'gnuplot_r', 'gray', 'gray_r', 'hot', 'hot_r', 'hsv', 'hsv_r', 'inferno', 'inferno_r', 'jet', 'jet_r', 'magma', 'magma_r', 'nipy_spectral', 'nipy_spectral_r', 'ocean', 'ocean_r', 'pink', 'pink_r', 'plasma', 'plasma_r', 'prism', 'prism_r', 'rainbow', 'rainbow_r', 'seismic', 'seismic_r', 'spring', 'spring_r', 'summer', 'summer_r', 'tab10', 'tab10_r', 'tab20', 'tab20_r', 'tab20b', 'tab20b_r', 'tab20c', 'tab20c_r', 'terrain', 'terrain_r', 'twilight', 'twilight_r', 'twilight_shifted', 'twilight_shifted_r', 'viridis', 'viridis_r', 'winter', 'winter_r'), value='Accent'), 'type': 'change'}\n",
      "{'name': 'label', 'old': 'Accent', 'new': 'CMRmap_r', 'owner': Dropdown(index=11, options=('Accent', 'Accent_r', 'Blues', 'Blues_r', 'BrBG', 'BrBG_r', 'BuGn', 'BuGn_r', 'BuPu', 'BuPu_r', 'CMRmap', 'CMRmap_r', 'Dark2', 'Dark2_r', 'GnBu', 'GnBu_r', 'Greens', 'Greens_r', 'Greys', 'Greys_r', 'OrRd', 'OrRd_r', 'Oranges', 'Oranges_r', 'PRGn', 'PRGn_r', 'Paired', 'Paired_r', 'Pastel1', 'Pastel1_r', 'Pastel2', 'Pastel2_r', 'PiYG', 'PiYG_r', 'PuBu', 'PuBuGn', 'PuBuGn_r', 'PuBu_r', 'PuOr', 'PuOr_r', 'PuRd', 'PuRd_r', 'Purples', 'Purples_r', 'RdBu', 'RdBu_r', 'RdGy', 'RdGy_r', 'RdPu', 'RdPu_r', 'RdYlBu', 'RdYlBu_r', 'RdYlGn', 'RdYlGn_r', 'Reds', 'Reds_r', 'Set1', 'Set1_r', 'Set2', 'Set2_r', 'Set3', 'Set3_r', 'Spectral', 'Spectral_r', 'Wistia', 'Wistia_r', 'YlGn', 'YlGnBu', 'YlGnBu_r', 'YlGn_r', 'YlOrBr', 'YlOrBr_r', 'YlOrRd', 'YlOrRd_r', 'afmhot', 'afmhot_r', 'autumn', 'autumn_r', 'binary', 'binary_r', 'bone', 'bone_r', 'brg', 'brg_r', 'bwr', 'bwr_r', 'cividis', 'cividis_r', 'cool', 'cool_r', 'coolwarm', 'coolwarm_r', 'copper', 'copper_r', 'cubehelix', 'cubehelix_r', 'flag', 'flag_r', 'gist_earth', 'gist_earth_r', 'gist_gray', 'gist_gray_r', 'gist_heat', 'gist_heat_r', 'gist_ncar', 'gist_ncar_r', 'gist_rainbow', 'gist_rainbow_r', 'gist_stern', 'gist_stern_r', 'gist_yarg', 'gist_yarg_r', 'gnuplot', 'gnuplot2', 'gnuplot2_r', 'gnuplot_r', 'gray', 'gray_r', 'hot', 'hot_r', 'hsv', 'hsv_r', 'inferno', 'inferno_r', 'jet', 'jet_r', 'magma', 'magma_r', 'nipy_spectral', 'nipy_spectral_r', 'ocean', 'ocean_r', 'pink', 'pink_r', 'plasma', 'plasma_r', 'prism', 'prism_r', 'rainbow', 'rainbow_r', 'seismic', 'seismic_r', 'spring', 'spring_r', 'summer', 'summer_r', 'tab10', 'tab10_r', 'tab20', 'tab20_r', 'tab20b', 'tab20b_r', 'tab20c', 'tab20c_r', 'terrain', 'terrain_r', 'twilight', 'twilight_r', 'twilight_shifted', 'twilight_shifted_r', 'viridis', 'viridis_r', 'winter', 'winter_r'), value='Accent'), 'type': 'change'}\n",
      "{'name': 'value', 'old': 'Accent', 'new': 'CMRmap_r', 'owner': Dropdown(index=11, options=('Accent', 'Accent_r', 'Blues', 'Blues_r', 'BrBG', 'BrBG_r', 'BuGn', 'BuGn_r', 'BuPu', 'BuPu_r', 'CMRmap', 'CMRmap_r', 'Dark2', 'Dark2_r', 'GnBu', 'GnBu_r', 'Greens', 'Greens_r', 'Greys', 'Greys_r', 'OrRd', 'OrRd_r', 'Oranges', 'Oranges_r', 'PRGn', 'PRGn_r', 'Paired', 'Paired_r', 'Pastel1', 'Pastel1_r', 'Pastel2', 'Pastel2_r', 'PiYG', 'PiYG_r', 'PuBu', 'PuBuGn', 'PuBuGn_r', 'PuBu_r', 'PuOr', 'PuOr_r', 'PuRd', 'PuRd_r', 'Purples', 'Purples_r', 'RdBu', 'RdBu_r', 'RdGy', 'RdGy_r', 'RdPu', 'RdPu_r', 'RdYlBu', 'RdYlBu_r', 'RdYlGn', 'RdYlGn_r', 'Reds', 'Reds_r', 'Set1', 'Set1_r', 'Set2', 'Set2_r', 'Set3', 'Set3_r', 'Spectral', 'Spectral_r', 'Wistia', 'Wistia_r', 'YlGn', 'YlGnBu', 'YlGnBu_r', 'YlGn_r', 'YlOrBr', 'YlOrBr_r', 'YlOrRd', 'YlOrRd_r', 'afmhot', 'afmhot_r', 'autumn', 'autumn_r', 'binary', 'binary_r', 'bone', 'bone_r', 'brg', 'brg_r', 'bwr', 'bwr_r', 'cividis', 'cividis_r', 'cool', 'cool_r', 'coolwarm', 'coolwarm_r', 'copper', 'copper_r', 'cubehelix', 'cubehelix_r', 'flag', 'flag_r', 'gist_earth', 'gist_earth_r', 'gist_gray', 'gist_gray_r', 'gist_heat', 'gist_heat_r', 'gist_ncar', 'gist_ncar_r', 'gist_rainbow', 'gist_rainbow_r', 'gist_stern', 'gist_stern_r', 'gist_yarg', 'gist_yarg_r', 'gnuplot', 'gnuplot2', 'gnuplot2_r', 'gnuplot_r', 'gray', 'gray_r', 'hot', 'hot_r', 'hsv', 'hsv_r', 'inferno', 'inferno_r', 'jet', 'jet_r', 'magma', 'magma_r', 'nipy_spectral', 'nipy_spectral_r', 'ocean', 'ocean_r', 'pink', 'pink_r', 'plasma', 'plasma_r', 'prism', 'prism_r', 'rainbow', 'rainbow_r', 'seismic', 'seismic_r', 'spring', 'spring_r', 'summer', 'summer_r', 'tab10', 'tab10_r', 'tab20', 'tab20_r', 'tab20b', 'tab20b_r', 'tab20c', 'tab20c_r', 'terrain', 'terrain_r', 'twilight', 'twilight_r', 'twilight_shifted', 'twilight_shifted_r', 'viridis', 'viridis_r', 'winter', 'winter_r'), value='CMRmap_r'), 'type': 'change'}\n",
      "{'name': 'index', 'old': 0, 'new': 11, 'owner': Dropdown(index=11, options=('Accent', 'Accent_r', 'Blues', 'Blues_r', 'BrBG', 'BrBG_r', 'BuGn', 'BuGn_r', 'BuPu', 'BuPu_r', 'CMRmap', 'CMRmap_r', 'Dark2', 'Dark2_r', 'GnBu', 'GnBu_r', 'Greens', 'Greens_r', 'Greys', 'Greys_r', 'OrRd', 'OrRd_r', 'Oranges', 'Oranges_r', 'PRGn', 'PRGn_r', 'Paired', 'Paired_r', 'Pastel1', 'Pastel1_r', 'Pastel2', 'Pastel2_r', 'PiYG', 'PiYG_r', 'PuBu', 'PuBuGn', 'PuBuGn_r', 'PuBu_r', 'PuOr', 'PuOr_r', 'PuRd', 'PuRd_r', 'Purples', 'Purples_r', 'RdBu', 'RdBu_r', 'RdGy', 'RdGy_r', 'RdPu', 'RdPu_r', 'RdYlBu', 'RdYlBu_r', 'RdYlGn', 'RdYlGn_r', 'Reds', 'Reds_r', 'Set1', 'Set1_r', 'Set2', 'Set2_r', 'Set3', 'Set3_r', 'Spectral', 'Spectral_r', 'Wistia', 'Wistia_r', 'YlGn', 'YlGnBu', 'YlGnBu_r', 'YlGn_r', 'YlOrBr', 'YlOrBr_r', 'YlOrRd', 'YlOrRd_r', 'afmhot', 'afmhot_r', 'autumn', 'autumn_r', 'binary', 'binary_r', 'bone', 'bone_r', 'brg', 'brg_r', 'bwr', 'bwr_r', 'cividis', 'cividis_r', 'cool', 'cool_r', 'coolwarm', 'coolwarm_r', 'copper', 'copper_r', 'cubehelix', 'cubehelix_r', 'flag', 'flag_r', 'gist_earth', 'gist_earth_r', 'gist_gray', 'gist_gray_r', 'gist_heat', 'gist_heat_r', 'gist_ncar', 'gist_ncar_r', 'gist_rainbow', 'gist_rainbow_r', 'gist_stern', 'gist_stern_r', 'gist_yarg', 'gist_yarg_r', 'gnuplot', 'gnuplot2', 'gnuplot2_r', 'gnuplot_r', 'gray', 'gray_r', 'hot', 'hot_r', 'hsv', 'hsv_r', 'inferno', 'inferno_r', 'jet', 'jet_r', 'magma', 'magma_r', 'nipy_spectral', 'nipy_spectral_r', 'ocean', 'ocean_r', 'pink', 'pink_r', 'plasma', 'plasma_r', 'prism', 'prism_r', 'rainbow', 'rainbow_r', 'seismic', 'seismic_r', 'spring', 'spring_r', 'summer', 'summer_r', 'tab10', 'tab10_r', 'tab20', 'tab20_r', 'tab20b', 'tab20b_r', 'tab20c', 'tab20c_r', 'terrain', 'terrain_r', 'twilight', 'twilight_r', 'twilight_shifted', 'twilight_shifted_r', 'viridis', 'viridis_r', 'winter', 'winter_r'), value='CMRmap_r'), 'type': 'change'}\n",
      "{'name': '_property_lock', 'old': {'index': 11}, 'new': {}, 'owner': Dropdown(index=11, options=('Accent', 'Accent_r', 'Blues', 'Blues_r', 'BrBG', 'BrBG_r', 'BuGn', 'BuGn_r', 'BuPu', 'BuPu_r', 'CMRmap', 'CMRmap_r', 'Dark2', 'Dark2_r', 'GnBu', 'GnBu_r', 'Greens', 'Greens_r', 'Greys', 'Greys_r', 'OrRd', 'OrRd_r', 'Oranges', 'Oranges_r', 'PRGn', 'PRGn_r', 'Paired', 'Paired_r', 'Pastel1', 'Pastel1_r', 'Pastel2', 'Pastel2_r', 'PiYG', 'PiYG_r', 'PuBu', 'PuBuGn', 'PuBuGn_r', 'PuBu_r', 'PuOr', 'PuOr_r', 'PuRd', 'PuRd_r', 'Purples', 'Purples_r', 'RdBu', 'RdBu_r', 'RdGy', 'RdGy_r', 'RdPu', 'RdPu_r', 'RdYlBu', 'RdYlBu_r', 'RdYlGn', 'RdYlGn_r', 'Reds', 'Reds_r', 'Set1', 'Set1_r', 'Set2', 'Set2_r', 'Set3', 'Set3_r', 'Spectral', 'Spectral_r', 'Wistia', 'Wistia_r', 'YlGn', 'YlGnBu', 'YlGnBu_r', 'YlGn_r', 'YlOrBr', 'YlOrBr_r', 'YlOrRd', 'YlOrRd_r', 'afmhot', 'afmhot_r', 'autumn', 'autumn_r', 'binary', 'binary_r', 'bone', 'bone_r', 'brg', 'brg_r', 'bwr', 'bwr_r', 'cividis', 'cividis_r', 'cool', 'cool_r', 'coolwarm', 'coolwarm_r', 'copper', 'copper_r', 'cubehelix', 'cubehelix_r', 'flag', 'flag_r', 'gist_earth', 'gist_earth_r', 'gist_gray', 'gist_gray_r', 'gist_heat', 'gist_heat_r', 'gist_ncar', 'gist_ncar_r', 'gist_rainbow', 'gist_rainbow_r', 'gist_stern', 'gist_stern_r', 'gist_yarg', 'gist_yarg_r', 'gnuplot', 'gnuplot2', 'gnuplot2_r', 'gnuplot_r', 'gray', 'gray_r', 'hot', 'hot_r', 'hsv', 'hsv_r', 'inferno', 'inferno_r', 'jet', 'jet_r', 'magma', 'magma_r', 'nipy_spectral', 'nipy_spectral_r', 'ocean', 'ocean_r', 'pink', 'pink_r', 'plasma', 'plasma_r', 'prism', 'prism_r', 'rainbow', 'rainbow_r', 'seismic', 'seismic_r', 'spring', 'spring_r', 'summer', 'summer_r', 'tab10', 'tab10_r', 'tab20', 'tab20_r', 'tab20b', 'tab20b_r', 'tab20c', 'tab20c_r', 'terrain', 'terrain_r', 'twilight', 'twilight_r', 'twilight_shifted', 'twilight_shifted_r', 'viridis', 'viridis_r', 'winter', 'winter_r'), value='CMRmap_r'), 'type': 'change'}\n"
     ]
    }
   ],
   "source": [
    "fig = plt.figure(figsize=(8,8))\n",
    "# add axes by hand like last week\n",
    "# order here is: left, bottom, width, height\n",
    "ax = fig.add_axes([0.0, 0.15, 1.0, 0.8]) \n",
    "\n",
    "image = ax.imshow(michigan, cmap='terrain')\n",
    "fig.colorbar(image, extend = 'both')\n",
    "\n",
    "#del out\n",
    "out = ipywidgets.Output(layout=ipywidgets.Layout(height='500px', width = '500px'))\n",
    "dropdown = ipywidgets.Dropdown(options=plt.colormaps())\n",
    "\n",
    "hbox=ipywidgets.HBox([out, dropdown])\n",
    "\n",
    "display(hbox)\n",
    "#with out:\n",
    "#    display(fig)\n",
    "\n",
    "def updateDropdown(change):\n",
    "    print(change) # first just print\n",
    "\n",
    "    with out:\n",
    "        clear_output(wait=True) # clear everything on the display - don't keep making figures!\n",
    "        display(fig)\n",
    "        \n",
    "dropdown.observe(updateDropdown)\n"
   ]
  },
  {
   "cell_type": "markdown",
   "metadata": {},
   "source": [
    "Let's use `change['owner'].index` to grab the index of the colormap we want:"
   ]
  },
  {
   "cell_type": "code",
   "execution_count": 158,
   "metadata": {},
   "outputs": [
    {
     "data": {
      "application/vnd.jupyter.widget-view+json": {
       "model_id": "090fe4ebc85f4d4fac0ca1c1cae7871b",
       "version_major": 2,
       "version_minor": 0
      },
      "text/plain": [
       "HBox(children=(Output(layout=Layout(height='500px', width='500px')), Dropdown(options=('Accent', 'Accent_r', '…"
      ]
     },
     "metadata": {},
     "output_type": "display_data"
    }
   ],
   "source": [
    "fig = plt.figure(figsize=(8,8))\n",
    "# add axes by hand like last week\n",
    "# order here is: left, bottom, width, height\n",
    "ax = fig.add_axes([0.0, 0.15, 1.0, 0.8]) \n",
    "\n",
    "image = ax.imshow(michigan, cmap='terrain')\n",
    "fig.colorbar(image, extend = 'both')\n",
    "\n",
    "out = ipywidgets.Output(layout=ipywidgets.Layout(height='500px', width = '500px'))\n",
    "dropdown = ipywidgets.Dropdown(options=plt.colormaps())\n",
    "\n",
    "hbox=ipywidgets.HBox([out, dropdown])\n",
    "\n",
    "display(hbox)\n",
    "\n",
    "def updateDropdown(change):\n",
    "    cmap=plt.colormaps()[change['owner'].index] # grab our new cmap\n",
    "    # let's start by clearing out all our previous axes and starting with a fresh canvas\n",
    "    for a in fig.axes:\n",
    "        fig.delaxes(a)\n",
    "        \n",
    "    # draw on our axes like before\n",
    "    ax = fig.add_axes([0.0, 0.15, 1.0, 0.8]) \n",
    "    # make an image and assign a color map\n",
    "    image = ax.imshow(michigan, cmap=cmap)\n",
    "    fig.colorbar(image, extend = 'both')\n",
    "\n",
    "    # display with an output widget\n",
    "    with out:\n",
    "        clear_output(wait=True) # clear everything on the display - don't keep making figures!\n",
    "        display(fig)\n",
    "        \n",
    "dropdown.observe(updateDropdown)\n"
   ]
  },
  {
   "cell_type": "markdown",
   "metadata": {},
   "source": [
    "So, it's a little annoying that we have to wait to select something to display, so let's reorganize our function a bit to make it look nice:"
   ]
  },
  {
   "cell_type": "code",
   "execution_count": 163,
   "metadata": {},
   "outputs": [
    {
     "data": {
      "application/vnd.jupyter.widget-view+json": {
       "model_id": "6374c0cec36746fd9d3bd692ada7069e",
       "version_major": 2,
       "version_minor": 0
      },
      "text/plain": [
       "HBox(children=(Output(layout=Layout(height='500px', width='500px')), Dropdown(options=('Accent', 'Accent_r', '…"
      ]
     },
     "metadata": {},
     "output_type": "display_data"
    }
   ],
   "source": [
    "plt.close('all') # if you get a \"too many figures open\" warning\n",
    "fig = plt.figure(figsize=(8,8))\n",
    "# add axes by hand like last week\n",
    "# order here is: left, bottom, width, height\n",
    "ax = fig.add_axes([0.0, 0.15, 1.0, 0.8]) \n",
    "\n",
    "image = ax.imshow(michigan, cmap='terrain')\n",
    "fig.colorbar(image, extend = 'both')\n",
    "\n",
    "out = ipywidgets.Output(layout=ipywidgets.Layout(height='500px', width = '500px'))\n",
    "dropdown = ipywidgets.Dropdown(options=plt.colormaps())\n",
    "\n",
    "hbox=ipywidgets.HBox([out, dropdown])\n",
    "\n",
    "display(hbox)\n",
    "\n",
    "def updateDropdown(change):\n",
    "    if change is not None:\n",
    "        cmap=plt.colormaps()[change['owner'].index]\n",
    "        for a in fig.axes:\n",
    "            fig.delaxes(a)\n",
    "        ax = fig.add_axes([0.0, 0.15, 1.0, 0.8]) \n",
    "\n",
    "        image = ax.imshow(michigan, cmap=cmap)\n",
    "        fig.colorbar(image, extend = 'both')\n",
    "\n",
    "    with out:\n",
    "        clear_output(wait=True)\n",
    "        display(fig)\n",
    "        \n",
    "dropdown.observe(updateDropdown)\n",
    "\n",
    "updateDropdown(None)"
   ]
  },
  {
   "cell_type": "markdown",
   "metadata": {},
   "source": [
    "Let's keep going and add in our toggle box!"
   ]
  },
  {
   "cell_type": "code",
   "execution_count": 173,
   "metadata": {},
   "outputs": [
    {
     "data": {
      "application/vnd.jupyter.widget-view+json": {
       "model_id": "6b8acce26cb44f3c9bcb55ac61dee2c5",
       "version_major": 2,
       "version_minor": 0
      },
      "text/plain": [
       "HBox(children=(Output(layout=Layout(height='500px', width='500px')), VBox(children=(Dropdown(index=154, option…"
      ]
     },
     "metadata": {},
     "output_type": "display_data"
    }
   ],
   "source": [
    "plt.close('all') # if you get a \"too many figures open\" warning\n",
    "fig = plt.figure(figsize=(8,8))\n",
    "# add axes by hand like last week\n",
    "# order here is: left, bottom, width, height\n",
    "ax = fig.add_axes([0.0, 0.15, 1.0, 0.8]) \n",
    "\n",
    "image = ax.imshow(michigan, cmap='terrain')\n",
    "fig.colorbar(image, extend = 'both')\n",
    "\n",
    "out = ipywidgets.Output(layout=ipywidgets.Layout(height='500px', width = '500px'))\n",
    "#dropdown = ipywidgets.Dropdown(options=plt.colormaps())\n",
    "\n",
    "# just so that we can start with 'terrain'\n",
    "dropdown = ipywidgets.Dropdown(options=plt.colormaps(), index=plt.colormaps().index('terrain'))\n",
    "toggleButton = ipywidgets.ToggleButton(value=False,description='Log Norm?')\n",
    "\n",
    "controls = ipywidgets.VBox([dropdown, toggleButton])\n",
    "hbox=ipywidgets.HBox([out, controls])\n",
    "\n",
    "display(hbox)\n",
    "\n",
    "# (2) update figure based on toggle on/off\n",
    "def updateToggle(change):\n",
    "    if change is not None:\n",
    "        #print(change)\n",
    "        #print(change['owner'])\n",
    "        #print(change['owner'].value)\n",
    "        \n",
    "        # grab base colormap from other widget\n",
    "        cmap=plt.colormaps()[dropdown.index]\n",
    "        for a in fig.axes:\n",
    "            fig.delaxes(a)\n",
    "        ax = fig.add_axes([0.0, 0.15, 1.0, 0.8]) \n",
    "        \n",
    "        # pick norm based on toggle button\n",
    "        if change['owner'].value:\n",
    "            norm = mpl_colors.SymLogNorm(10)\n",
    "        else:\n",
    "            norm = mpl_colors.Normalize()\n",
    "\n",
    "        image = ax.imshow(michigan, cmap=cmap, norm=norm)\n",
    "        fig.colorbar(image, extend = 'both')\n",
    "\n",
    "    with out:\n",
    "        clear_output(wait=True)\n",
    "        display(fig)     \n",
    "toggleButton.observe(updateToggle)\n",
    "\n",
    "\n",
    "# (1) update figure based on dropdown\n",
    "# AND MAKE SURE WE ADD IN RESULTS OF TOGGLE BUTTON!\n",
    "def updateDropdown(change):\n",
    "    if change is not None:\n",
    "        cmap=plt.colormaps()[change['owner'].index]\n",
    "        for a in fig.axes:\n",
    "            fig.delaxes(a)\n",
    "        ax = fig.add_axes([0.0, 0.15, 1.0, 0.8]) \n",
    "        \n",
    "        # pick norm based on toggle button\n",
    "        if toggleButton.value:\n",
    "            norm = mpl_colors.SymLogNorm(10)\n",
    "        else:\n",
    "            norm = mpl_colors.Normalize()\n",
    "\n",
    "        image = ax.imshow(michigan, cmap=cmap, norm=norm)\n",
    "        fig.colorbar(image, extend = 'both')\n",
    "\n",
    "    with out:\n",
    "        clear_output(wait=True)\n",
    "        display(fig)     \n",
    "dropdown.observe(updateDropdown)\n",
    "\n",
    "\n",
    "updateDropdown(None)\n",
    "updateToggle(None)"
   ]
  },
  {
   "cell_type": "markdown",
   "metadata": {},
   "source": [
    "Finally, note that we can now move around each widget individually on our plot:"
   ]
  },
  {
   "cell_type": "code",
   "execution_count": 175,
   "metadata": {
    "scrolled": false
   },
   "outputs": [
    {
     "data": {
      "application/vnd.jupyter.widget-view+json": {
       "model_id": "6d438d2d517143b292e61db5ae8378ca",
       "version_major": 2,
       "version_minor": 0
      },
      "text/plain": [
       "HBox(children=(Output(layout=Layout(height='500px', width='500px')), VBox(children=(Dropdown(index=154, option…"
      ]
     },
     "metadata": {},
     "output_type": "display_data"
    }
   ],
   "source": [
    "plt.close('all') # if you get a \"too many figures open\" warning\n",
    "fig = plt.figure(figsize=(8,8))\n",
    "# add axes by hand like last week\n",
    "# order here is: left, bottom, width, height\n",
    "ax = fig.add_axes([0.0, 0.15, 1.0, 0.8]) \n",
    "\n",
    "image = ax.imshow(michigan, cmap='terrain')\n",
    "fig.colorbar(image, extend = 'both')\n",
    "\n",
    "out = ipywidgets.Output(layout=ipywidgets.Layout(height='500px', width = '500px'))\n",
    "#dropdown = ipywidgets.Dropdown(options=plt.colormaps())\n",
    "\n",
    "# just so that we can start with 'terrain'\n",
    "dropdown = ipywidgets.Dropdown(options=plt.colormaps(), index=plt.colormaps().index('terrain'))\n",
    "toggleButton = ipywidgets.ToggleButton(value=False,description='Log Norm?')\n",
    "\n",
    "controls = ipywidgets.VBox([dropdown, toggleButton])\n",
    "controls.layout.top = '200px' # UPDATED\n",
    "hbox=ipywidgets.HBox([out, controls])\n",
    "\n",
    "display(hbox)\n",
    "\n",
    "# (2) update figure based on toggle on/off\n",
    "def updateToggle(change):\n",
    "    if change is not None:\n",
    "        \n",
    "        # grab base colormap from other widget\n",
    "        cmap=plt.colormaps()[dropdown.index]\n",
    "        for a in fig.axes:\n",
    "            fig.delaxes(a)\n",
    "        ax = fig.add_axes([0.0, 0.15, 1.0, 0.8]) \n",
    "        \n",
    "        # pick norm based on toggle button\n",
    "        if change['owner'].value:\n",
    "            norm = mpl_colors.SymLogNorm(10)\n",
    "        else:\n",
    "            norm = mpl_colors.Normalize()\n",
    "\n",
    "        image = ax.imshow(michigan, cmap=cmap, norm=norm)\n",
    "        fig.colorbar(image, extend = 'both')\n",
    "\n",
    "    with out:\n",
    "        clear_output(wait=True)\n",
    "        display(fig)     \n",
    "toggleButton.observe(updateToggle)\n",
    "\n",
    "\n",
    "# (1) update figure based on dropdown\n",
    "# AND MAKE SURE WE ADD IN RESULTS OF TOGGLE BUTTON!\n",
    "def updateDropdown(change):\n",
    "    if change is not None:\n",
    "        cmap=plt.colormaps()[change['owner'].index]\n",
    "        for a in fig.axes:\n",
    "            fig.delaxes(a)\n",
    "        ax = fig.add_axes([0.0, 0.15, 1.0, 0.8]) \n",
    "        \n",
    "        # pick norm based on toggle button\n",
    "        if toggleButton.value:\n",
    "            norm = mpl_colors.SymLogNorm(10)\n",
    "        else:\n",
    "            norm = mpl_colors.Normalize()\n",
    "\n",
    "        image = ax.imshow(michigan, cmap=cmap, norm=norm)\n",
    "        fig.colorbar(image, extend = 'both')\n",
    "\n",
    "    with out:\n",
    "        clear_output(wait=True)\n",
    "        display(fig)     \n",
    "dropdown.observe(updateDropdown)\n",
    "\n",
    "\n",
    "updateDropdown(None)\n",
    "updateToggle(None)"
   ]
  },
  {
   "cell_type": "markdown",
   "metadata": {},
   "source": [
    "This seems a lot more complicated: why would we bother?\n",
    "\n",
    "1. You don't have to if you don't want to! (At least for this week...)\n",
    "1. It gives us finer-grained control over where to place things when we start building up multi-panel dashboards.\n",
    "\n",
    "Taking some time to understand widgets in this context will help you design custom dashboards for your analysis & visualization needs. \n",
    "\n",
    "`bqplot`, which we will use next week, uses this sort of layout options to link figures with widgets, but makes this sort of design a lot easier then what we just did!"
   ]
  },
  {
   "cell_type": "markdown",
   "metadata": {},
   "source": [
    "# For the Homework this week: The UFO dataset"
   ]
  },
  {
   "cell_type": "markdown",
   "metadata": {},
   "source": [
    "Make sure you have this dataset downloaded from: https://uiuc-ischool-dataviz.github.io/spring2019online/week04/data/ufo-scrubbed-geocoded-time-standardized-00.csv"
   ]
  },
  {
   "cell_type": "markdown",
   "metadata": {},
   "source": [
    "You will be using this dataset for your HW so we will read it in and take a quick look.  The rest of the class is messing around with this dataset!"
   ]
  },
  {
   "cell_type": "markdown",
   "metadata": {},
   "source": [
    "Reading in the UFO dataset:"
   ]
  },
  {
   "cell_type": "code",
   "execution_count": 177,
   "metadata": {},
   "outputs": [],
   "source": [
    "import pandas as pd\n",
    "\n",
    "ufos = pd.read_csv(\"/Users/jillnaiman/Downloads/ufo-scrubbed-geocoded-time-standardized-00.csv\",\n",
    "                  names = [\"date\", \"city\", \"state\", \"country\",\n",
    "                          \"shape\", \"duration_seconds\", \"duration\",\n",
    "                          \"comment\", \"report_date\", \"latitude\", \"longitude\"],\n",
    "                  parse_dates = [\"date\", \"report_date\"])\n",
    "\n",
    "# you might get a memory warning thing, its just not deprecated correctly\n",
    "#  try not to panic :D\n"
   ]
  },
  {
   "cell_type": "code",
   "execution_count": 178,
   "metadata": {},
   "outputs": [
    {
     "data": {
      "text/html": [
       "<div>\n",
       "<style scoped>\n",
       "    .dataframe tbody tr th:only-of-type {\n",
       "        vertical-align: middle;\n",
       "    }\n",
       "\n",
       "    .dataframe tbody tr th {\n",
       "        vertical-align: top;\n",
       "    }\n",
       "\n",
       "    .dataframe thead th {\n",
       "        text-align: right;\n",
       "    }\n",
       "</style>\n",
       "<table border=\"1\" class=\"dataframe\">\n",
       "  <thead>\n",
       "    <tr style=\"text-align: right;\">\n",
       "      <th></th>\n",
       "      <th>date</th>\n",
       "      <th>city</th>\n",
       "      <th>state</th>\n",
       "      <th>country</th>\n",
       "      <th>shape</th>\n",
       "      <th>duration_seconds</th>\n",
       "      <th>duration</th>\n",
       "      <th>comment</th>\n",
       "      <th>report_date</th>\n",
       "      <th>latitude</th>\n",
       "      <th>longitude</th>\n",
       "    </tr>\n",
       "  </thead>\n",
       "  <tbody>\n",
       "    <tr>\n",
       "      <th>0</th>\n",
       "      <td>1949-10-10 20:30:00</td>\n",
       "      <td>san marcos</td>\n",
       "      <td>tx</td>\n",
       "      <td>us</td>\n",
       "      <td>cylinder</td>\n",
       "      <td>2700.0</td>\n",
       "      <td>45 minutes</td>\n",
       "      <td>This event took place in early fall around 194...</td>\n",
       "      <td>2004-04-27</td>\n",
       "      <td>29.883056</td>\n",
       "      <td>-97.941111</td>\n",
       "    </tr>\n",
       "    <tr>\n",
       "      <th>1</th>\n",
       "      <td>1949-10-10 21:00:00</td>\n",
       "      <td>lackland afb</td>\n",
       "      <td>tx</td>\n",
       "      <td>NaN</td>\n",
       "      <td>light</td>\n",
       "      <td>7200.0</td>\n",
       "      <td>1-2 hrs</td>\n",
       "      <td>1949 Lackland AFB&amp;#44 TX.  Lights racing acros...</td>\n",
       "      <td>2005-12-16</td>\n",
       "      <td>29.384210</td>\n",
       "      <td>-98.581082</td>\n",
       "    </tr>\n",
       "    <tr>\n",
       "      <th>2</th>\n",
       "      <td>1955-10-10 17:00:00</td>\n",
       "      <td>chester (uk/england)</td>\n",
       "      <td>NaN</td>\n",
       "      <td>gb</td>\n",
       "      <td>circle</td>\n",
       "      <td>20.0</td>\n",
       "      <td>20 seconds</td>\n",
       "      <td>Green/Orange circular disc over Chester&amp;#44 En...</td>\n",
       "      <td>2008-01-21</td>\n",
       "      <td>53.200000</td>\n",
       "      <td>-2.916667</td>\n",
       "    </tr>\n",
       "    <tr>\n",
       "      <th>3</th>\n",
       "      <td>1956-10-10 21:00:00</td>\n",
       "      <td>edna</td>\n",
       "      <td>tx</td>\n",
       "      <td>us</td>\n",
       "      <td>circle</td>\n",
       "      <td>20.0</td>\n",
       "      <td>1/2 hour</td>\n",
       "      <td>My older brother and twin sister were leaving ...</td>\n",
       "      <td>2004-01-17</td>\n",
       "      <td>28.978333</td>\n",
       "      <td>-96.645833</td>\n",
       "    </tr>\n",
       "    <tr>\n",
       "      <th>4</th>\n",
       "      <td>1960-10-10 20:00:00</td>\n",
       "      <td>kaneohe</td>\n",
       "      <td>hi</td>\n",
       "      <td>us</td>\n",
       "      <td>light</td>\n",
       "      <td>900.0</td>\n",
       "      <td>15 minutes</td>\n",
       "      <td>AS a Marine 1st Lt. flying an FJ4B fighter/att...</td>\n",
       "      <td>2004-01-22</td>\n",
       "      <td>21.418056</td>\n",
       "      <td>-157.803611</td>\n",
       "    </tr>\n",
       "    <tr>\n",
       "      <th>...</th>\n",
       "      <td>...</td>\n",
       "      <td>...</td>\n",
       "      <td>...</td>\n",
       "      <td>...</td>\n",
       "      <td>...</td>\n",
       "      <td>...</td>\n",
       "      <td>...</td>\n",
       "      <td>...</td>\n",
       "      <td>...</td>\n",
       "      <td>...</td>\n",
       "      <td>...</td>\n",
       "    </tr>\n",
       "    <tr>\n",
       "      <th>80327</th>\n",
       "      <td>2013-09-09 21:15:00</td>\n",
       "      <td>nashville</td>\n",
       "      <td>tn</td>\n",
       "      <td>us</td>\n",
       "      <td>light</td>\n",
       "      <td>600.0</td>\n",
       "      <td>10 minutes</td>\n",
       "      <td>Round from the distance/slowly changing colors...</td>\n",
       "      <td>2013-09-30</td>\n",
       "      <td>36.165833</td>\n",
       "      <td>-86.784444</td>\n",
       "    </tr>\n",
       "    <tr>\n",
       "      <th>80328</th>\n",
       "      <td>2013-09-09 22:00:00</td>\n",
       "      <td>boise</td>\n",
       "      <td>id</td>\n",
       "      <td>us</td>\n",
       "      <td>circle</td>\n",
       "      <td>1200.0</td>\n",
       "      <td>20 minutes</td>\n",
       "      <td>Boise&amp;#44 ID&amp;#44 spherical&amp;#44 20 min&amp;#44 10 r...</td>\n",
       "      <td>2013-09-30</td>\n",
       "      <td>43.613611</td>\n",
       "      <td>-116.202500</td>\n",
       "    </tr>\n",
       "    <tr>\n",
       "      <th>80329</th>\n",
       "      <td>2013-09-09 22:00:00</td>\n",
       "      <td>napa</td>\n",
       "      <td>ca</td>\n",
       "      <td>us</td>\n",
       "      <td>other</td>\n",
       "      <td>1200.0</td>\n",
       "      <td>hour</td>\n",
       "      <td>Napa UFO&amp;#44</td>\n",
       "      <td>2013-09-30</td>\n",
       "      <td>38.297222</td>\n",
       "      <td>-122.284444</td>\n",
       "    </tr>\n",
       "    <tr>\n",
       "      <th>80330</th>\n",
       "      <td>2013-09-09 22:20:00</td>\n",
       "      <td>vienna</td>\n",
       "      <td>va</td>\n",
       "      <td>us</td>\n",
       "      <td>circle</td>\n",
       "      <td>5.0</td>\n",
       "      <td>5 seconds</td>\n",
       "      <td>Saw a five gold lit cicular craft moving fastl...</td>\n",
       "      <td>2013-09-30</td>\n",
       "      <td>38.901111</td>\n",
       "      <td>-77.265556</td>\n",
       "    </tr>\n",
       "    <tr>\n",
       "      <th>80331</th>\n",
       "      <td>2013-09-09 23:00:00</td>\n",
       "      <td>edmond</td>\n",
       "      <td>ok</td>\n",
       "      <td>us</td>\n",
       "      <td>cigar</td>\n",
       "      <td>1020.0</td>\n",
       "      <td>17 minutes</td>\n",
       "      <td>2 witnesses 2  miles apart&amp;#44 Red &amp;amp; White...</td>\n",
       "      <td>2013-09-30</td>\n",
       "      <td>35.652778</td>\n",
       "      <td>-97.477778</td>\n",
       "    </tr>\n",
       "  </tbody>\n",
       "</table>\n",
       "<p>80332 rows × 11 columns</p>\n",
       "</div>"
      ],
      "text/plain": [
       "                     date                  city state country     shape  \\\n",
       "0     1949-10-10 20:30:00            san marcos    tx      us  cylinder   \n",
       "1     1949-10-10 21:00:00          lackland afb    tx     NaN     light   \n",
       "2     1955-10-10 17:00:00  chester (uk/england)   NaN      gb    circle   \n",
       "3     1956-10-10 21:00:00                  edna    tx      us    circle   \n",
       "4     1960-10-10 20:00:00               kaneohe    hi      us     light   \n",
       "...                   ...                   ...   ...     ...       ...   \n",
       "80327 2013-09-09 21:15:00             nashville    tn      us     light   \n",
       "80328 2013-09-09 22:00:00                 boise    id      us    circle   \n",
       "80329 2013-09-09 22:00:00                  napa    ca      us     other   \n",
       "80330 2013-09-09 22:20:00                vienna    va      us    circle   \n",
       "80331 2013-09-09 23:00:00                edmond    ok      us     cigar   \n",
       "\n",
       "       duration_seconds    duration  \\\n",
       "0                2700.0  45 minutes   \n",
       "1                7200.0     1-2 hrs   \n",
       "2                  20.0  20 seconds   \n",
       "3                  20.0    1/2 hour   \n",
       "4                 900.0  15 minutes   \n",
       "...                 ...         ...   \n",
       "80327             600.0  10 minutes   \n",
       "80328            1200.0  20 minutes   \n",
       "80329            1200.0        hour   \n",
       "80330               5.0   5 seconds   \n",
       "80331            1020.0  17 minutes   \n",
       "\n",
       "                                                 comment report_date  \\\n",
       "0      This event took place in early fall around 194...  2004-04-27   \n",
       "1      1949 Lackland AFB&#44 TX.  Lights racing acros...  2005-12-16   \n",
       "2      Green/Orange circular disc over Chester&#44 En...  2008-01-21   \n",
       "3      My older brother and twin sister were leaving ...  2004-01-17   \n",
       "4      AS a Marine 1st Lt. flying an FJ4B fighter/att...  2004-01-22   \n",
       "...                                                  ...         ...   \n",
       "80327  Round from the distance/slowly changing colors...  2013-09-30   \n",
       "80328  Boise&#44 ID&#44 spherical&#44 20 min&#44 10 r...  2013-09-30   \n",
       "80329                                       Napa UFO&#44  2013-09-30   \n",
       "80330  Saw a five gold lit cicular craft moving fastl...  2013-09-30   \n",
       "80331  2 witnesses 2  miles apart&#44 Red &amp; White...  2013-09-30   \n",
       "\n",
       "        latitude   longitude  \n",
       "0      29.883056  -97.941111  \n",
       "1      29.384210  -98.581082  \n",
       "2      53.200000   -2.916667  \n",
       "3      28.978333  -96.645833  \n",
       "4      21.418056 -157.803611  \n",
       "...          ...         ...  \n",
       "80327  36.165833  -86.784444  \n",
       "80328  43.613611 -116.202500  \n",
       "80329  38.297222 -122.284444  \n",
       "80330  38.901111  -77.265556  \n",
       "80331  35.652778  -97.477778  \n",
       "\n",
       "[80332 rows x 11 columns]"
      ]
     },
     "execution_count": 178,
     "metadata": {},
     "output_type": "execute_result"
    }
   ],
   "source": [
    "ufos"
   ]
  },
  {
   "cell_type": "markdown",
   "metadata": {},
   "source": [
    "First thing to notice, is this is a pretty darn big dataset!  This can get a little cumbersome if you want to be able to do some quick prototyping of visualizations.  \n",
    "\n",
    "Depending on what sort of computer you are working on, you may want to consider working with a *random subset* of this dataframe for your \"prototyping\" phase, and then only use the full dataset when you are ready for *production*:"
   ]
  },
  {
   "cell_type": "code",
   "execution_count": 181,
   "metadata": {},
   "outputs": [
    {
     "data": {
      "text/plain": [
       "array([70050,   569, 41280, 32457, 78875, 17160,    21, 27473, 37345,\n",
       "       25706, 58465,  4659,   937, 44165, 30504, 53404, 59417,  2467,\n",
       "        1815, 28449, 52788, 20103, 28728, 45872, 13336, 21256, 22822,\n",
       "       55252, 32096, 62683, 44697, 29487,  9697, 47665, 57871, 23690,\n",
       "       17788, 68368, 78858, 69342, 38261,  6580,   510,  7391, 15214,\n",
       "       15582, 52735,  1885, 36696, 72190, 51920, 75691, 26201, 73539,\n",
       "       49478,  1758, 45057, 65279, 25184, 16215, 22163, 14108, 37658,\n",
       "        8931, 50899, 44565, 43977, 28706, 64632, 13760, 45145, 26964,\n",
       "       73653, 23806, 15720, 12261, 32869,  8994, 47606, 46738, 62175,\n",
       "       61931, 70196, 42020, 68431, 30521, 16654, 67451, 16840,  8349,\n",
       "       52234, 11432, 40291, 60059, 10743, 53655, 76584, 14917, 17926,\n",
       "       68034, 39543,  8728, 56244, 51798, 68238,  3578, 66664, 25568,\n",
       "       62336, 27882,  2418, 24719, 70045, 73918, 68138,  2778, 29189,\n",
       "       44488,  4900,  6380, 16947, 77009,  9519,  7541, 52523, 22101,\n",
       "       44103, 70443, 28743, 58478, 27006, 25700, 13087, 31955, 32671,\n",
       "       71535, 34279, 74413,  3840, 48762, 18674, 59091, 68476, 56531,\n",
       "       64810, 28489, 73971, 74694, 34652, 62309, 50938, 29789, 28042,\n",
       "       32616, 12869, 19410, 30584,  6701, 11407, 78464, 66620, 43546,\n",
       "       19310, 40876, 74224, 57072, 36203, 10808,  2078, 34630, 74204,\n",
       "       32315, 51651, 33415,  1616, 69831, 64385,  2559, 74865, 23441,\n",
       "       59382, 23542, 73174, 56366, 68137, 78405, 37393, 40594,  3681,\n",
       "       27634, 53152, 79140, 69860, 26743, 19893, 17153, 52649, 11026,\n",
       "       67364, 43407, 54150, 51983, 65332, 19639, 57023, 57962, 48086,\n",
       "       69436, 47506,  3225, 24470,  8920, 36412, 50608, 63660, 22692,\n",
       "       11789, 43769, 76015, 32908, 78101, 36655, 39406, 15184,  8883,\n",
       "        3872, 40107, 13625, 47901,  9471, 56275, 62927, 17247, 18519,\n",
       "       45549, 75971, 54840,  2341, 55808, 79100, 65223, 43924, 73403,\n",
       "       46138, 31527, 55969, 75194, 17381,  5663, 41562, 69667, 69259,\n",
       "       54424, 27337, 75079, 62647, 17391, 37445, 64353, 22859, 43448,\n",
       "       54227, 64708, 77180, 17125,  7339, 27094, 35925, 13458, 75873,\n",
       "        1432, 54475, 22349, 39251, 45767, 63507, 78597,  3589, 12599,\n",
       "       53680, 51406, 48856, 38828, 46060, 79068, 61454, 15385, 35560,\n",
       "       59943, 24959, 61825, 48925, 46627, 30257, 78947, 19505, 12334,\n",
       "       14563, 35044,  3363, 78332, 47886, 66555, 22854, 23880, 12993,\n",
       "       33082, 66046,  3031, 78765, 76366,  2448, 74260, 77492, 21238,\n",
       "       70579, 60360, 48907, 60499, 61437, 42122, 20458, 50571, 50781,\n",
       "       78111, 74171, 73296, 62916, 19418, 71391, 72681, 53969,  1762,\n",
       "       43385, 29979, 32242, 38729, 60121, 39375,  8215, 13676,  1380,\n",
       "        2516, 55616,  7558,  9192,  2164,  7650, 50480, 45488, 75638,\n",
       "       74877, 49433, 17107, 49095, 56445, 20193, 29342, 27470, 46581,\n",
       "        3640, 15636, 47242,  6206, 26794, 79865, 62457, 41294, 61530,\n",
       "       51970, 19709, 55484, 59705, 24310, 75633, 66103, 12671, 31053,\n",
       "       43538, 57551, 17848, 14125,  9506, 76720, 67027,  4598, 63910,\n",
       "        5901, 58778, 16955, 22405, 47235, 76442,  2631, 11167, 30292,\n",
       "       26975, 69710,  2821, 15326, 26564, 10411,   323, 37681, 69731,\n",
       "       26224, 75747, 44294, 36294, 48643,  2391, 23224, 39012, 34160,\n",
       "       64895, 40529, 56713, 44387, 12709, 19727, 14807,  2002, 35294,\n",
       "         130, 64596, 20393, 59734, 61648, 44977, 36252, 31744, 45094,\n",
       "       70150, 70872, 27797, 57647, 34430,  8283, 38857, 48429, 45787,\n",
       "       69454, 53551, 79227, 72938,  5309, 60958, 71555, 57352, 39936,\n",
       "       26471, 43035, 47803, 79463, 24212, 51156, 58519, 55241, 34342,\n",
       "       56109, 77850, 33640, 35407, 47485, 45321, 17148,  2602, 78116,\n",
       "       30260, 37074, 50877, 73665, 26519, 70770, 15921, 61261, 70404,\n",
       "       44703, 72459,  4799,  9219, 48264, 67326, 52426, 43095,   576,\n",
       "       15967, 21888, 57021, 55466, 35620, 44582, 18161,  8261, 23704,\n",
       "       53802, 66384, 16181, 73769, 75429, 59567, 39395, 53865, 40797,\n",
       "       12026, 71982, 20804, 51357, 69368, 70879, 43652, 79623, 53918,\n",
       "       63825, 43106, 69730,  9265, 10254, 11880, 63294, 47200, 58627,\n",
       "       53161, 72650, 49137, 60707, 52140, 77153,  1497, 73604, 57837,\n",
       "       75986, 52954, 60567, 35824, 61386, 55680,  3597, 26702, 51163,\n",
       "        4938, 74624, 11865, 55792, 76717, 40289,  2389,  5164, 31907,\n",
       "        7931, 24511, 42301, 44432, 67782, 14642, 58716, 56405, 16960,\n",
       "       69696, 37016, 58205, 56921, 75265, 13163, 54305, 31081, 45727,\n",
       "       66422, 40618, 31584, 21532, 69930, 80010, 33155, 33703, 70981,\n",
       "       77656, 34113, 26629, 16292, 76040,   580, 32437, 74153, 10929,\n",
       "       33695, 67955, 57472, 46528, 24348, 75103,  8134, 69255, 75153,\n",
       "        3494,  6537, 60942, 59681, 59502, 70367,  8697, 41999, 36786,\n",
       "       73143, 73409, 45962, 34831, 46776, 21981, 28753, 63788, 22085,\n",
       "       52524, 30810, 46139, 12435, 64262,  8054, 21361, 64132, 27442,\n",
       "       41936, 22212, 74510,  5864, 51146, 71850, 22647, 76600, 19421,\n",
       "       70064,  1994, 56692, 54065, 17521, 68141,  5254, 31429, 35252,\n",
       "       12082, 56673, 33728, 12730, 43672, 39549, 25097, 10581, 31438,\n",
       "       65400, 70168, 62269, 13364, 59547, 79065,  5060, 31347, 67098,\n",
       "       25692, 13504, 79350, 22436, 48266, 70465, 73004, 38549, 62652,\n",
       "       67899, 65655, 44316, 17657, 15068, 38641, 19110, 53929,  7373,\n",
       "       43157, 35711, 49468, 22786, 56590, 61037, 47010, 71133, 66252,\n",
       "        6831, 28444, 66622, 59227, 52884, 79202, 33008, 47613, 77277,\n",
       "       43956, 72422, 69870, 51423, 33420, 23319, 26382, 65606, 27344,\n",
       "       78441, 10771, 40170, 38516,  1581, 44557, 48302, 80023,  6198,\n",
       "       53280, 50683, 17967,  3905, 26435,  4965, 63758, 34619, 57510,\n",
       "        6084, 75229,  1940, 18022, 71453, 49918, 56352, 64397, 58269,\n",
       "       37285, 21908, 32429,  6832, 53336,  5883, 52455, 63270, 31397,\n",
       "       69320,  8350, 64106, 76006, 79439, 47982, 45980, 61474, 28051,\n",
       "       35952, 39761,  6150, 64660, 25332, 40501, 15248, 68154, 10028,\n",
       "       28156, 58026, 62235,  3544,  5143, 65614, 18649, 39932, 79480,\n",
       "       25181, 37731,  7579, 17569, 63441, 68673, 80094,  7682, 16582,\n",
       "       57426, 42007, 69247, 40243, 25865,  8917, 54106,  6200, 28136,\n",
       "       45947, 25960, 15808, 42422, 14861, 63463, 19257,  1292, 47038,\n",
       "       42033, 37483, 71321, 32845, 55395,  1663, 79711, 18697, 66501,\n",
       "       59493, 41887, 50895, 54454, 42902, 43958, 40397, 66126, 28892,\n",
       "       75909, 17831, 28535, 36037, 37759, 76081, 65387, 26353,  2744,\n",
       "       15176,  2221, 40399, 74323,  3677, 23724,  7603, 66616,  5753,\n",
       "       59693,  2906, 31591,  7398, 33399, 27477,  3046, 24875, 23788,\n",
       "       59575, 11069, 39537, 78257, 22052, 39546, 32836, 53471, 66861,\n",
       "         123, 20255, 44443,  9687, 65402, 22180, 34192, 69798, 78119,\n",
       "       28714, 30651,  7410,  8577,  5837, 51178, 11777, 14105, 15568,\n",
       "       56828, 71048, 70830, 74597, 16923, 53778, 31382,  2042, 68487,\n",
       "       43415, 46202, 36894, 16322, 38151, 66420, 12320, 55502, 52714,\n",
       "        6609, 12895, 74928,  2119, 11801, 75798, 39471, 17547, 35945,\n",
       "       64759,  1599, 47589, 44906, 51058, 66067, 71615, 24934,  9895,\n",
       "       56798, 18087, 66830, 78924, 43190, 49791, 52897, 28185, 35246,\n",
       "       61381, 53746,  7314, 52950, 25246,  2319, 55996, 59770, 78396,\n",
       "        2314, 56536, 56391, 65382, 70114, 31678, 57018, 24757,  7906,\n",
       "        8469, 16776, 62091,  2183, 57965, 53664, 13949, 51009, 53293,\n",
       "       65242,  2685, 42279, 16333,  8354, 37281, 78905, 54568, 52004,\n",
       "       32111,  3194, 48008, 61136, 30402, 63134, 55570,  3195, 57620,\n",
       "       77036, 26427, 37103, 21778,  3949, 35219, 73791, 46127, 30314,\n",
       "       19558, 60101, 80085, 66280, 60414, 21655, 56683, 53256, 10090,\n",
       "       59462, 57592, 26733, 15941, 36140, 69370, 29286, 78237,  5363,\n",
       "       20928, 72537, 12985,  4013, 12406, 63677, 62424, 37695, 30482,\n",
       "       56967,  1178, 45053,  4327, 16532, 19836, 45306, 27514, 15839,\n",
       "       47767])"
      ]
     },
     "execution_count": 181,
     "metadata": {},
     "output_type": "execute_result"
    }
   ],
   "source": [
    "# Lets down sample to 1000 samples:\n",
    "nsamples = 1000\n",
    "#nsamples = 5000\n",
    "downSampleMask = np.random.choice(range(len(ufos)-1), nsamples, replace=False)\n",
    "downSampleMask # take a look"
   ]
  },
  {
   "cell_type": "markdown",
   "metadata": {},
   "source": [
    "So, downSampleMask is now a list of random indicies for the UFO dataset.  Let's downsample our UFO dataset:"
   ]
  },
  {
   "cell_type": "code",
   "execution_count": 182,
   "metadata": {},
   "outputs": [],
   "source": [
    "ufosDS = ufos.loc[downSampleMask]"
   ]
  },
  {
   "cell_type": "code",
   "execution_count": 183,
   "metadata": {},
   "outputs": [
    {
     "data": {
      "text/html": [
       "<div>\n",
       "<style scoped>\n",
       "    .dataframe tbody tr th:only-of-type {\n",
       "        vertical-align: middle;\n",
       "    }\n",
       "\n",
       "    .dataframe tbody tr th {\n",
       "        vertical-align: top;\n",
       "    }\n",
       "\n",
       "    .dataframe thead th {\n",
       "        text-align: right;\n",
       "    }\n",
       "</style>\n",
       "<table border=\"1\" class=\"dataframe\">\n",
       "  <thead>\n",
       "    <tr style=\"text-align: right;\">\n",
       "      <th></th>\n",
       "      <th>date</th>\n",
       "      <th>city</th>\n",
       "      <th>state</th>\n",
       "      <th>country</th>\n",
       "      <th>shape</th>\n",
       "      <th>duration_seconds</th>\n",
       "      <th>duration</th>\n",
       "      <th>comment</th>\n",
       "      <th>report_date</th>\n",
       "      <th>latitude</th>\n",
       "      <th>longitude</th>\n",
       "    </tr>\n",
       "  </thead>\n",
       "  <tbody>\n",
       "    <tr>\n",
       "      <th>70050</th>\n",
       "      <td>2010-08-27 14:34:00</td>\n",
       "      <td>murry</td>\n",
       "      <td>ne</td>\n",
       "      <td>NaN</td>\n",
       "      <td>diamond</td>\n",
       "      <td>8.0</td>\n",
       "      <td>8 seconds</td>\n",
       "      <td>diamond shaped craft dancing over murry nebraska</td>\n",
       "      <td>2010-08-30</td>\n",
       "      <td>40.917110</td>\n",
       "      <td>-95.930442</td>\n",
       "    </tr>\n",
       "    <tr>\n",
       "      <th>569</th>\n",
       "      <td>1985-10-01 21:30:00</td>\n",
       "      <td>jefferson</td>\n",
       "      <td>oh</td>\n",
       "      <td>us</td>\n",
       "      <td>triangle</td>\n",
       "      <td>3600.0</td>\n",
       "      <td>1 hour</td>\n",
       "      <td>Three lights&amp;#44possibly single or part of obj...</td>\n",
       "      <td>2000-12-02</td>\n",
       "      <td>41.738611</td>\n",
       "      <td>-80.770000</td>\n",
       "    </tr>\n",
       "    <tr>\n",
       "      <th>41280</th>\n",
       "      <td>2009-05-10 16:30:00</td>\n",
       "      <td>tobay beach</td>\n",
       "      <td>ny</td>\n",
       "      <td>NaN</td>\n",
       "      <td>circle</td>\n",
       "      <td>600.0</td>\n",
       "      <td>10 minutes</td>\n",
       "      <td>05/10/09 Tobay Beach N.Y. A  silver reflective...</td>\n",
       "      <td>2009-05-12</td>\n",
       "      <td>40.611575</td>\n",
       "      <td>-73.432013</td>\n",
       "    </tr>\n",
       "    <tr>\n",
       "      <th>32457</th>\n",
       "      <td>2014-03-19 23:15:00</td>\n",
       "      <td>conway</td>\n",
       "      <td>sc</td>\n",
       "      <td>us</td>\n",
       "      <td>light</td>\n",
       "      <td>30.0</td>\n",
       "      <td>1:30 seconds</td>\n",
       "      <td>Bright light moving across the night sky.</td>\n",
       "      <td>2014-03-21</td>\n",
       "      <td>33.835833</td>\n",
       "      <td>-79.048056</td>\n",
       "    </tr>\n",
       "    <tr>\n",
       "      <th>78875</th>\n",
       "      <td>2002-09-03 22:00:00</td>\n",
       "      <td>roswell</td>\n",
       "      <td>nm</td>\n",
       "      <td>us</td>\n",
       "      <td>unknown</td>\n",
       "      <td>120.0</td>\n",
       "      <td>2 minutes</td>\n",
       "      <td>Humming&amp;#44 oscillating sounds outside of Rosw...</td>\n",
       "      <td>2002-09-13</td>\n",
       "      <td>33.394167</td>\n",
       "      <td>-104.522500</td>\n",
       "    </tr>\n",
       "    <tr>\n",
       "      <th>...</th>\n",
       "      <td>...</td>\n",
       "      <td>...</td>\n",
       "      <td>...</td>\n",
       "      <td>...</td>\n",
       "      <td>...</td>\n",
       "      <td>...</td>\n",
       "      <td>...</td>\n",
       "      <td>...</td>\n",
       "      <td>...</td>\n",
       "      <td>...</td>\n",
       "      <td>...</td>\n",
       "    </tr>\n",
       "    <tr>\n",
       "      <th>19836</th>\n",
       "      <td>2000-12-22 03:00:00</td>\n",
       "      <td>mm 110</td>\n",
       "      <td>az</td>\n",
       "      <td>NaN</td>\n",
       "      <td>circle</td>\n",
       "      <td>30.0</td>\n",
       "      <td>30 seconds</td>\n",
       "      <td>Large blue/green circular object with same col...</td>\n",
       "      <td>2001-02-18</td>\n",
       "      <td>40.381806</td>\n",
       "      <td>49.830253</td>\n",
       "    </tr>\n",
       "    <tr>\n",
       "      <th>45306</th>\n",
       "      <td>2001-05-03 22:00:00</td>\n",
       "      <td>quebec city (canada)</td>\n",
       "      <td>pq</td>\n",
       "      <td>NaN</td>\n",
       "      <td>changing</td>\n",
       "      <td>2100.0</td>\n",
       "      <td>35 min</td>\n",
       "      <td>the craft made sharp turns&amp;#44 emitted its own...</td>\n",
       "      <td>2001-08-05</td>\n",
       "      <td>46.803283</td>\n",
       "      <td>-71.242796</td>\n",
       "    </tr>\n",
       "    <tr>\n",
       "      <th>27514</th>\n",
       "      <td>2004-02-20 19:00:00</td>\n",
       "      <td>quartzite</td>\n",
       "      <td>az</td>\n",
       "      <td>NaN</td>\n",
       "      <td>circle</td>\n",
       "      <td>600.0</td>\n",
       "      <td>10min.approx.</td>\n",
       "      <td>large circular craftlike&amp;quot; outline &amp;quot;o...</td>\n",
       "      <td>2004-06-04</td>\n",
       "      <td>33.663914</td>\n",
       "      <td>-114.229949</td>\n",
       "    </tr>\n",
       "    <tr>\n",
       "      <th>15839</th>\n",
       "      <td>2012-01-17 23:00:00</td>\n",
       "      <td>west chester</td>\n",
       "      <td>pa</td>\n",
       "      <td>us</td>\n",
       "      <td>triangle</td>\n",
       "      <td>600.0</td>\n",
       "      <td>8 - 10 minutes</td>\n",
       "      <td>Slow low flying unidentified craft</td>\n",
       "      <td>2012-01-24</td>\n",
       "      <td>39.849444</td>\n",
       "      <td>-75.356111</td>\n",
       "    </tr>\n",
       "    <tr>\n",
       "      <th>47767</th>\n",
       "      <td>1999-06-01 23:00:00</td>\n",
       "      <td>bristol</td>\n",
       "      <td>tn</td>\n",
       "      <td>us</td>\n",
       "      <td>light</td>\n",
       "      <td>180.0</td>\n",
       "      <td>3 minutes</td>\n",
       "      <td>Brilliant white light over Bristol&amp;#44 TN trav...</td>\n",
       "      <td>2008-06-12</td>\n",
       "      <td>36.595000</td>\n",
       "      <td>-82.188889</td>\n",
       "    </tr>\n",
       "  </tbody>\n",
       "</table>\n",
       "<p>1000 rows × 11 columns</p>\n",
       "</div>"
      ],
      "text/plain": [
       "                     date                  city state country     shape  \\\n",
       "70050 2010-08-27 14:34:00                 murry    ne     NaN   diamond   \n",
       "569   1985-10-01 21:30:00             jefferson    oh      us  triangle   \n",
       "41280 2009-05-10 16:30:00           tobay beach    ny     NaN    circle   \n",
       "32457 2014-03-19 23:15:00                conway    sc      us     light   \n",
       "78875 2002-09-03 22:00:00               roswell    nm      us   unknown   \n",
       "...                   ...                   ...   ...     ...       ...   \n",
       "19836 2000-12-22 03:00:00                mm 110    az     NaN    circle   \n",
       "45306 2001-05-03 22:00:00  quebec city (canada)    pq     NaN  changing   \n",
       "27514 2004-02-20 19:00:00             quartzite    az     NaN    circle   \n",
       "15839 2012-01-17 23:00:00          west chester    pa      us  triangle   \n",
       "47767 1999-06-01 23:00:00               bristol    tn      us     light   \n",
       "\n",
       "       duration_seconds        duration  \\\n",
       "70050               8.0       8 seconds   \n",
       "569              3600.0          1 hour   \n",
       "41280             600.0      10 minutes   \n",
       "32457              30.0    1:30 seconds   \n",
       "78875             120.0       2 minutes   \n",
       "...                 ...             ...   \n",
       "19836              30.0      30 seconds   \n",
       "45306            2100.0          35 min   \n",
       "27514             600.0   10min.approx.   \n",
       "15839             600.0  8 - 10 minutes   \n",
       "47767             180.0       3 minutes   \n",
       "\n",
       "                                                 comment report_date  \\\n",
       "70050   diamond shaped craft dancing over murry nebraska  2010-08-30   \n",
       "569    Three lights&#44possibly single or part of obj...  2000-12-02   \n",
       "41280  05/10/09 Tobay Beach N.Y. A  silver reflective...  2009-05-12   \n",
       "32457          Bright light moving across the night sky.  2014-03-21   \n",
       "78875  Humming&#44 oscillating sounds outside of Rosw...  2002-09-13   \n",
       "...                                                  ...         ...   \n",
       "19836  Large blue/green circular object with same col...  2001-02-18   \n",
       "45306  the craft made sharp turns&#44 emitted its own...  2001-08-05   \n",
       "27514  large circular craftlike&quot; outline &quot;o...  2004-06-04   \n",
       "15839                 Slow low flying unidentified craft  2012-01-24   \n",
       "47767  Brilliant white light over Bristol&#44 TN trav...  2008-06-12   \n",
       "\n",
       "        latitude   longitude  \n",
       "70050  40.917110  -95.930442  \n",
       "569    41.738611  -80.770000  \n",
       "41280  40.611575  -73.432013  \n",
       "32457  33.835833  -79.048056  \n",
       "78875  33.394167 -104.522500  \n",
       "...          ...         ...  \n",
       "19836  40.381806   49.830253  \n",
       "45306  46.803283  -71.242796  \n",
       "27514  33.663914 -114.229949  \n",
       "15839  39.849444  -75.356111  \n",
       "47767  36.595000  -82.188889  \n",
       "\n",
       "[1000 rows x 11 columns]"
      ]
     },
     "execution_count": 183,
     "metadata": {},
     "output_type": "execute_result"
    }
   ],
   "source": [
    "ufosDS"
   ]
  },
  {
   "cell_type": "markdown",
   "metadata": {},
   "source": [
    "Quick look:"
   ]
  },
  {
   "cell_type": "code",
   "execution_count": 187,
   "metadata": {},
   "outputs": [
    {
     "data": {
      "image/png": "[encoded data removed]",
      "text/plain": [
       "<Figure size 576x576 with 1 Axes>"
      ]
     },
     "metadata": {
      "needs_background": "light"
     },
     "output_type": "display_data"
    }
   ],
   "source": [
    "plt.clf() # might need this to \"get rid\" of Michigan data\n",
    "plt.plot(ufos['longitude'],ufos['latitude'],'.')\n",
    "plt.show()"
   ]
  },
  {
   "cell_type": "code",
   "execution_count": 188,
   "metadata": {},
   "outputs": [
    {
     "data": {
      "image/png": "[encoded data removed]",
      "text/plain": [
       "<Figure size 576x576 with 1 Axes>"
      ]
     },
     "metadata": {
      "needs_background": "light"
     },
     "output_type": "display_data"
    }
   ],
   "source": [
    "plt.clf() # might need this to \"get rid\" of Michigan data\n",
    "plt.plot(ufosDS['longitude'],ufosDS['latitude'],'.')\n",
    "plt.show()"
   ]
  },
  {
   "cell_type": "markdown",
   "metadata": {},
   "source": [
    "### Lab: work on HW with this dataset!"
   ]
  },
  {
   "cell_type": "code",
   "execution_count": null,
   "metadata": {},
   "outputs": [],
   "source": []
  }
 ],
 "metadata": {
  "kernelspec": {
   "display_name": "Python 3",
   "language": "python",
   "name": "python3"
  },
  "language_info": {
   "codemirror_mode": {
    "name": "ipython",
    "version": 3
   },
   "file_extension": ".py",
   "mimetype": "text/x-python",
   "name": "python",
   "nbconvert_exporter": "python",
   "pygments_lexer": "ipython3",
   "version": "3.7.6"
  }
 },
 "nbformat": 4,
 "nbformat_minor": 4
}
