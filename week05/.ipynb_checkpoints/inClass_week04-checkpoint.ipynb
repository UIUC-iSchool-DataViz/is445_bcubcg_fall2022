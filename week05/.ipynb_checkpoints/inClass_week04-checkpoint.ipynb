{
 "cells": [
  {
   "cell_type": "markdown",
   "id": "native-martin",
   "metadata": {},
   "source": [
    "# Start with a reminder of widgets"
   ]
  },
  {
   "cell_type": "code",
   "execution_count": 1,
   "id": "failing-volume",
   "metadata": {},
   "outputs": [],
   "source": [
    "import matplotlib.pyplot as plt\n",
    "import numpy as np\n",
    "import pandas as pd\n",
    "import ipywidgets"
   ]
  },
  {
   "cell_type": "markdown",
   "id": "impossible-target",
   "metadata": {},
   "source": [
    "## Michigan data (redo)"
   ]
  },
  {
   "cell_type": "code",
   "execution_count": 2,
   "id": "alpine-antigua",
   "metadata": {},
   "outputs": [],
   "source": [
    "michigan = np.fromfile(\"/Users/jillnaiman/Downloads/michigan_lld.flt\",dtype='f4').reshape((5365, 4201))"
   ]
  },
  {
   "cell_type": "code",
   "execution_count": 3,
   "id": "supported-health",
   "metadata": {},
   "outputs": [],
   "source": [
    "michigan[michigan==-9999] = np.nan"
   ]
  },
  {
   "cell_type": "code",
   "execution_count": 4,
   "id": "random-navigation",
   "metadata": {},
   "outputs": [
    {
     "data": {
      "image/png": "[encoded data removed]",
      "text/plain": [
       "<Figure size 432x288 with 1 Axes>"
      ]
     },
     "metadata": {
      "needs_background": "light"
     },
     "output_type": "display_data"
    }
   ],
   "source": [
    "plt.hist(michigan.flatten())\n",
    "plt.show()"
   ]
  },
  {
   "cell_type": "code",
   "execution_count": 5,
   "id": "aggregate-outside",
   "metadata": {},
   "outputs": [
    {
     "data": {
      "text/plain": [
       "['Accent',\n",
       " 'Accent_r',\n",
       " 'Blues',\n",
       " 'Blues_r',\n",
       " 'BrBG',\n",
       " 'BrBG_r',\n",
       " 'BuGn',\n",
       " 'BuGn_r',\n",
       " 'BuPu',\n",
       " 'BuPu_r',\n",
       " 'CMRmap',\n",
       " 'CMRmap_r',\n",
       " 'Dark2',\n",
       " 'Dark2_r',\n",
       " 'GnBu',\n",
       " 'GnBu_r',\n",
       " 'Greens',\n",
       " 'Greens_r',\n",
       " 'Greys',\n",
       " 'Greys_r',\n",
       " 'OrRd',\n",
       " 'OrRd_r',\n",
       " 'Oranges',\n",
       " 'Oranges_r',\n",
       " 'PRGn',\n",
       " 'PRGn_r',\n",
       " 'Paired',\n",
       " 'Paired_r',\n",
       " 'Pastel1',\n",
       " 'Pastel1_r',\n",
       " 'Pastel2',\n",
       " 'Pastel2_r',\n",
       " 'PiYG',\n",
       " 'PiYG_r',\n",
       " 'PuBu',\n",
       " 'PuBuGn',\n",
       " 'PuBuGn_r',\n",
       " 'PuBu_r',\n",
       " 'PuOr',\n",
       " 'PuOr_r',\n",
       " 'PuRd',\n",
       " 'PuRd_r',\n",
       " 'Purples',\n",
       " 'Purples_r',\n",
       " 'RdBu',\n",
       " 'RdBu_r',\n",
       " 'RdGy',\n",
       " 'RdGy_r',\n",
       " 'RdPu',\n",
       " 'RdPu_r',\n",
       " 'RdYlBu',\n",
       " 'RdYlBu_r',\n",
       " 'RdYlGn',\n",
       " 'RdYlGn_r',\n",
       " 'Reds',\n",
       " 'Reds_r',\n",
       " 'Set1',\n",
       " 'Set1_r',\n",
       " 'Set2',\n",
       " 'Set2_r',\n",
       " 'Set3',\n",
       " 'Set3_r',\n",
       " 'Spectral',\n",
       " 'Spectral_r',\n",
       " 'Wistia',\n",
       " 'Wistia_r',\n",
       " 'YlGn',\n",
       " 'YlGnBu',\n",
       " 'YlGnBu_r',\n",
       " 'YlGn_r',\n",
       " 'YlOrBr',\n",
       " 'YlOrBr_r',\n",
       " 'YlOrRd',\n",
       " 'YlOrRd_r',\n",
       " 'afmhot',\n",
       " 'afmhot_r',\n",
       " 'autumn',\n",
       " 'autumn_r',\n",
       " 'binary',\n",
       " 'binary_r',\n",
       " 'bone',\n",
       " 'bone_r',\n",
       " 'brg',\n",
       " 'brg_r',\n",
       " 'bwr',\n",
       " 'bwr_r',\n",
       " 'cividis',\n",
       " 'cividis_r',\n",
       " 'cool',\n",
       " 'cool_r',\n",
       " 'coolwarm',\n",
       " 'coolwarm_r',\n",
       " 'copper',\n",
       " 'copper_r',\n",
       " 'cubehelix',\n",
       " 'cubehelix_r',\n",
       " 'flag',\n",
       " 'flag_r',\n",
       " 'gist_earth',\n",
       " 'gist_earth_r',\n",
       " 'gist_gray',\n",
       " 'gist_gray_r',\n",
       " 'gist_heat',\n",
       " 'gist_heat_r',\n",
       " 'gist_ncar',\n",
       " 'gist_ncar_r',\n",
       " 'gist_rainbow',\n",
       " 'gist_rainbow_r',\n",
       " 'gist_stern',\n",
       " 'gist_stern_r',\n",
       " 'gist_yarg',\n",
       " 'gist_yarg_r',\n",
       " 'gnuplot',\n",
       " 'gnuplot2',\n",
       " 'gnuplot2_r',\n",
       " 'gnuplot_r',\n",
       " 'gray',\n",
       " 'gray_r',\n",
       " 'hot',\n",
       " 'hot_r',\n",
       " 'hsv',\n",
       " 'hsv_r',\n",
       " 'inferno',\n",
       " 'inferno_r',\n",
       " 'jet',\n",
       " 'jet_r',\n",
       " 'magma',\n",
       " 'magma_r',\n",
       " 'nipy_spectral',\n",
       " 'nipy_spectral_r',\n",
       " 'ocean',\n",
       " 'ocean_r',\n",
       " 'pink',\n",
       " 'pink_r',\n",
       " 'plasma',\n",
       " 'plasma_r',\n",
       " 'prism',\n",
       " 'prism_r',\n",
       " 'rainbow',\n",
       " 'rainbow_r',\n",
       " 'seismic',\n",
       " 'seismic_r',\n",
       " 'spring',\n",
       " 'spring_r',\n",
       " 'summer',\n",
       " 'summer_r',\n",
       " 'tab10',\n",
       " 'tab10_r',\n",
       " 'tab20',\n",
       " 'tab20_r',\n",
       " 'tab20b',\n",
       " 'tab20b_r',\n",
       " 'tab20c',\n",
       " 'tab20c_r',\n",
       " 'terrain',\n",
       " 'terrain_r',\n",
       " 'twilight',\n",
       " 'twilight_r',\n",
       " 'twilight_shifted',\n",
       " 'twilight_shifted_r',\n",
       " 'viridis',\n",
       " 'viridis_r',\n",
       " 'winter',\n",
       " 'winter_r']"
      ]
     },
     "execution_count": 5,
     "metadata": {},
     "output_type": "execute_result"
    }
   ],
   "source": [
    "plt.colormaps()"
   ]
  },
  {
   "cell_type": "code",
   "execution_count": 7,
   "id": "developed-drill",
   "metadata": {},
   "outputs": [
    {
     "data": {
      "image/png": "[encoded data removed]",
      "text/plain": [
       "<Figure size 432x288 with 1 Axes>"
      ]
     },
     "metadata": {
      "needs_background": "light"
     },
     "output_type": "display_data"
    }
   ],
   "source": [
    "# Step 1: hard-coded plot\n",
    "plt.imshow(michigan, cmap='Accent')\n",
    "plt.show()"
   ]
  },
  {
   "cell_type": "code",
   "execution_count": 8,
   "id": "parallel-external",
   "metadata": {},
   "outputs": [],
   "source": [
    "# Step 2: plotting function\n",
    "def plot_michigan(colormap):\n",
    "    plt.imshow(michigan, cmap=colormap)"
   ]
  },
  {
   "cell_type": "code",
   "execution_count": 9,
   "id": "bronze-hamburg",
   "metadata": {},
   "outputs": [
    {
     "data": {
      "image/png": "[encoded data removed]",
      "text/plain": [
       "<Figure size 432x288 with 1 Axes>"
      ]
     },
     "metadata": {
      "needs_background": "light"
     },
     "output_type": "display_data"
    }
   ],
   "source": [
    "plot_michigan('terrain')"
   ]
  },
  {
   "cell_type": "code",
   "execution_count": 11,
   "id": "authorized-championship",
   "metadata": {},
   "outputs": [
    {
     "data": {
      "application/vnd.jupyter.widget-view+json": {
       "model_id": "6756e79ba1de4c93a2ba641352f7cdfe",
       "version_major": 2,
       "version_minor": 0
      },
      "text/plain": [
       "interactive(children=(Dropdown(description='colormap', options=('Accent', 'Accent_r', 'Blues', 'Blues_r', 'BrB…"
      ]
     },
     "metadata": {},
     "output_type": "display_data"
    }
   ],
   "source": [
    "# Step 3: Widgitize the function with a decorator\n",
    "@ipywidgets.interact(colormap=plt.colormaps())\n",
    "def plot_michigan(colormap):\n",
    "    plt.imshow(michigan, cmap=colormap)\n",
    "    plt.colorbar()"
   ]
  },
  {
   "cell_type": "markdown",
   "id": "neural-annual",
   "metadata": {},
   "source": [
    "Making it fancier with more widgets:"
   ]
  },
  {
   "cell_type": "code",
   "execution_count": 13,
   "id": "fancy-newman",
   "metadata": {},
   "outputs": [
    {
     "data": {
      "application/vnd.jupyter.widget-view+json": {
       "model_id": "143d54da62ab497d97f32fad4aef5940",
       "version_major": 2,
       "version_minor": 0
      },
      "text/plain": [
       "interactive(children=(Dropdown(description='colormap', options=('Accent', 'Accent_r', 'Blues', 'Blues_r', 'BrB…"
      ]
     },
     "metadata": {},
     "output_type": "display_data"
    }
   ],
   "source": [
    "@ipywidgets.interact(colormap=plt.colormaps(), color_range=350)\n",
    "def plot_michigan(colormap,color_range):\n",
    "    plt.imshow(michigan, cmap=colormap)\n",
    "    plt.clim(-color_range, color_range)\n",
    "    plt.colorbar()"
   ]
  },
  {
   "cell_type": "markdown",
   "id": "global-viewer",
   "metadata": {},
   "source": [
    "## Possibly useful for HW, let's try this with another dataset (buildings)"
   ]
  },
  {
   "cell_type": "code",
   "execution_count": 14,
   "id": "bibliographic-blend",
   "metadata": {},
   "outputs": [],
   "source": [
    "buildings = pd.read_csv(\"/Users/jillnaiman/Downloads/building_inventory.csv\",\n",
    "                       na_values={'Square Footage':0,\n",
    "                                 'Year Acquired':0,\n",
    "                                 'Year Constructed':0,\n",
    "                                 'Floors':0}) # mark these entries that have a zero as an NaN"
   ]
  },
  {
   "cell_type": "code",
   "execution_count": 15,
   "id": "foreign-kazakhstan",
   "metadata": {},
   "outputs": [],
   "source": [
    "stats = buildings.groupby(\"Year Acquired\")[\"Square Footage\"].describe()"
   ]
  },
  {
   "cell_type": "code",
   "execution_count": 16,
   "id": "everyday-running",
   "metadata": {},
   "outputs": [
    {
     "data": {
      "text/html": [
       "<div>\n",
       "<style scoped>\n",
       "    .dataframe tbody tr th:only-of-type {\n",
       "        vertical-align: middle;\n",
       "    }\n",
       "\n",
       "    .dataframe tbody tr th {\n",
       "        vertical-align: top;\n",
       "    }\n",
       "\n",
       "    .dataframe thead th {\n",
       "        text-align: right;\n",
       "    }\n",
       "</style>\n",
       "<table border=\"1\" class=\"dataframe\">\n",
       "  <thead>\n",
       "    <tr style=\"text-align: right;\">\n",
       "      <th></th>\n",
       "      <th>count</th>\n",
       "      <th>mean</th>\n",
       "      <th>std</th>\n",
       "      <th>min</th>\n",
       "      <th>25%</th>\n",
       "      <th>50%</th>\n",
       "      <th>75%</th>\n",
       "      <th>max</th>\n",
       "    </tr>\n",
       "    <tr>\n",
       "      <th>Year Acquired</th>\n",
       "      <th></th>\n",
       "      <th></th>\n",
       "      <th></th>\n",
       "      <th></th>\n",
       "      <th></th>\n",
       "      <th></th>\n",
       "      <th></th>\n",
       "      <th></th>\n",
       "    </tr>\n",
       "  </thead>\n",
       "  <tbody>\n",
       "    <tr>\n",
       "      <th>1753.0</th>\n",
       "      <td>1.0</td>\n",
       "      <td>1200.000000</td>\n",
       "      <td>NaN</td>\n",
       "      <td>1200.0</td>\n",
       "      <td>1200.0</td>\n",
       "      <td>1200.0</td>\n",
       "      <td>1200.00</td>\n",
       "      <td>1200.0</td>\n",
       "    </tr>\n",
       "    <tr>\n",
       "      <th>1802.0</th>\n",
       "      <td>2.0</td>\n",
       "      <td>2220.000000</td>\n",
       "      <td>1943.129435</td>\n",
       "      <td>846.0</td>\n",
       "      <td>1533.0</td>\n",
       "      <td>2220.0</td>\n",
       "      <td>2907.00</td>\n",
       "      <td>3594.0</td>\n",
       "    </tr>\n",
       "    <tr>\n",
       "      <th>1810.0</th>\n",
       "      <td>3.0</td>\n",
       "      <td>1344.333333</td>\n",
       "      <td>1809.945948</td>\n",
       "      <td>216.0</td>\n",
       "      <td>300.5</td>\n",
       "      <td>385.0</td>\n",
       "      <td>1908.50</td>\n",
       "      <td>3432.0</td>\n",
       "    </tr>\n",
       "    <tr>\n",
       "      <th>1832.0</th>\n",
       "      <td>1.0</td>\n",
       "      <td>120000.000000</td>\n",
       "      <td>NaN</td>\n",
       "      <td>120000.0</td>\n",
       "      <td>120000.0</td>\n",
       "      <td>120000.0</td>\n",
       "      <td>120000.00</td>\n",
       "      <td>120000.0</td>\n",
       "    </tr>\n",
       "    <tr>\n",
       "      <th>1837.0</th>\n",
       "      <td>1.0</td>\n",
       "      <td>10302.000000</td>\n",
       "      <td>NaN</td>\n",
       "      <td>10302.0</td>\n",
       "      <td>10302.0</td>\n",
       "      <td>10302.0</td>\n",
       "      <td>10302.00</td>\n",
       "      <td>10302.0</td>\n",
       "    </tr>\n",
       "    <tr>\n",
       "      <th>...</th>\n",
       "      <td>...</td>\n",
       "      <td>...</td>\n",
       "      <td>...</td>\n",
       "      <td>...</td>\n",
       "      <td>...</td>\n",
       "      <td>...</td>\n",
       "      <td>...</td>\n",
       "      <td>...</td>\n",
       "    </tr>\n",
       "    <tr>\n",
       "      <th>2015.0</th>\n",
       "      <td>20.0</td>\n",
       "      <td>15254.650000</td>\n",
       "      <td>29153.085290</td>\n",
       "      <td>144.0</td>\n",
       "      <td>696.0</td>\n",
       "      <td>3152.0</td>\n",
       "      <td>10590.25</td>\n",
       "      <td>105000.0</td>\n",
       "    </tr>\n",
       "    <tr>\n",
       "      <th>2016.0</th>\n",
       "      <td>10.0</td>\n",
       "      <td>30483.900000</td>\n",
       "      <td>61864.180491</td>\n",
       "      <td>1152.0</td>\n",
       "      <td>2464.0</td>\n",
       "      <td>3352.5</td>\n",
       "      <td>3793.00</td>\n",
       "      <td>184000.0</td>\n",
       "    </tr>\n",
       "    <tr>\n",
       "      <th>2017.0</th>\n",
       "      <td>1.0</td>\n",
       "      <td>6720.000000</td>\n",
       "      <td>NaN</td>\n",
       "      <td>6720.0</td>\n",
       "      <td>6720.0</td>\n",
       "      <td>6720.0</td>\n",
       "      <td>6720.00</td>\n",
       "      <td>6720.0</td>\n",
       "    </tr>\n",
       "    <tr>\n",
       "      <th>2018.0</th>\n",
       "      <td>4.0</td>\n",
       "      <td>4290.000000</td>\n",
       "      <td>5153.644342</td>\n",
       "      <td>1455.0</td>\n",
       "      <td>1455.0</td>\n",
       "      <td>1852.5</td>\n",
       "      <td>4687.50</td>\n",
       "      <td>12000.0</td>\n",
       "    </tr>\n",
       "    <tr>\n",
       "      <th>2019.0</th>\n",
       "      <td>2.0</td>\n",
       "      <td>760.000000</td>\n",
       "      <td>0.000000</td>\n",
       "      <td>760.0</td>\n",
       "      <td>760.0</td>\n",
       "      <td>760.0</td>\n",
       "      <td>760.00</td>\n",
       "      <td>760.0</td>\n",
       "    </tr>\n",
       "  </tbody>\n",
       "</table>\n",
       "<p>171 rows × 8 columns</p>\n",
       "</div>"
      ],
      "text/plain": [
       "               count           mean           std       min       25%  \\\n",
       "Year Acquired                                                           \n",
       "1753.0           1.0    1200.000000           NaN    1200.0    1200.0   \n",
       "1802.0           2.0    2220.000000   1943.129435     846.0    1533.0   \n",
       "1810.0           3.0    1344.333333   1809.945948     216.0     300.5   \n",
       "1832.0           1.0  120000.000000           NaN  120000.0  120000.0   \n",
       "1837.0           1.0   10302.000000           NaN   10302.0   10302.0   \n",
       "...              ...            ...           ...       ...       ...   \n",
       "2015.0          20.0   15254.650000  29153.085290     144.0     696.0   \n",
       "2016.0          10.0   30483.900000  61864.180491    1152.0    2464.0   \n",
       "2017.0           1.0    6720.000000           NaN    6720.0    6720.0   \n",
       "2018.0           4.0    4290.000000   5153.644342    1455.0    1455.0   \n",
       "2019.0           2.0     760.000000      0.000000     760.0     760.0   \n",
       "\n",
       "                    50%        75%       max  \n",
       "Year Acquired                                 \n",
       "1753.0           1200.0    1200.00    1200.0  \n",
       "1802.0           2220.0    2907.00    3594.0  \n",
       "1810.0            385.0    1908.50    3432.0  \n",
       "1832.0         120000.0  120000.00  120000.0  \n",
       "1837.0          10302.0   10302.00   10302.0  \n",
       "...                 ...        ...       ...  \n",
       "2015.0           3152.0   10590.25  105000.0  \n",
       "2016.0           3352.5    3793.00  184000.0  \n",
       "2017.0           6720.0    6720.00    6720.0  \n",
       "2018.0           1852.5    4687.50   12000.0  \n",
       "2019.0            760.0     760.00     760.0  \n",
       "\n",
       "[171 rows x 8 columns]"
      ]
     },
     "execution_count": 16,
     "metadata": {},
     "output_type": "execute_result"
    }
   ],
   "source": [
    "stats"
   ]
  },
  {
   "cell_type": "code",
   "execution_count": 18,
   "id": "satisfied-energy",
   "metadata": {},
   "outputs": [
    {
     "data": {
      "image/png": "[encoded data removed]",
      "text/plain": [
       "<Figure size 432x144 with 1 Axes>"
      ]
     },
     "metadata": {
      "needs_background": "light"
     },
     "output_type": "display_data"
    }
   ],
   "source": [
    "# Step 1: hard code\n",
    "fig, ax = plt.subplots(figsize=(6,2))\n",
    "ax.plot(stats['mean'])\n",
    "plt.show()"
   ]
  },
  {
   "cell_type": "code",
   "execution_count": 19,
   "id": "isolated-exhaust",
   "metadata": {},
   "outputs": [],
   "source": [
    "# Step 2: make a \"with style\" plotting function\n",
    "def make_plot(style):\n",
    "    with plt.style.context(style):\n",
    "        fig, ax = plt.subplots(figsize=(6,2))\n",
    "        ax.plot(stats['mean'])\n",
    "    plt.show()"
   ]
  },
  {
   "cell_type": "code",
   "execution_count": 20,
   "id": "young-newfoundland",
   "metadata": {},
   "outputs": [
    {
     "data": {
      "image/png": "[encoded data removed]",
      "text/plain": [
       "<Figure size 432x144 with 1 Axes>"
      ]
     },
     "metadata": {},
     "output_type": "display_data"
    }
   ],
   "source": [
    "make_plot('seaborn')"
   ]
  },
  {
   "cell_type": "code",
   "execution_count": 21,
   "id": "coastal-sierra",
   "metadata": {},
   "outputs": [
    {
     "data": {
      "application/vnd.jupyter.widget-view+json": {
       "model_id": "d38d1744b99f477d88a9c2959ad05936",
       "version_major": 2,
       "version_minor": 0
      },
      "text/plain": [
       "interactive(children=(Dropdown(description='style', options=('Solarize_Light2', '_classic_test_patch', 'bmh', …"
      ]
     },
     "metadata": {},
     "output_type": "display_data"
    }
   ],
   "source": [
    "# Step 3: wigetize\n",
    "@ipywidgets.interact(style=plt.style.available)\n",
    "def make_plot(style):\n",
    "    with plt.style.context(style):\n",
    "        fig, ax = plt.subplots(figsize=(6,2))\n",
    "        ax.plot(stats['mean'])\n",
    "    plt.show()"
   ]
  },
  {
   "cell_type": "markdown",
   "id": "postal-catering",
   "metadata": {},
   "source": [
    "# Widgets in more detail"
   ]
  },
  {
   "cell_type": "code",
   "execution_count": 22,
   "id": "peaceful-decision",
   "metadata": {},
   "outputs": [
    {
     "data": {
      "application/vnd.jupyter.widget-view+json": {
       "model_id": "dfbc59423c2d4a628db84e3b884f1d32",
       "version_major": 2,
       "version_minor": 0
      },
      "text/plain": [
       "IntText(value=0)"
      ]
     },
     "metadata": {},
     "output_type": "display_data"
    }
   ],
   "source": [
    "itext = ipywidgets.IntText()\n",
    "itext"
   ]
  },
  {
   "cell_type": "markdown",
   "id": "requested-pharmacy",
   "metadata": {},
   "source": [
    "### Aside!\n",
    "If you don't see this:\n",
    " * try refreshing browser\n",
    " * try shutting down & reopening\n",
    " * Are you in a Chrome/Firefox browser?\n",
    "\n",
    "A few more complex things:"
   ]
  },
  {
   "cell_type": "code",
   "execution_count": 24,
   "id": "accurate-wells",
   "metadata": {},
   "outputs": [],
   "source": [
    "#from IPython.display import display\n",
    "#display(itext)"
   ]
  },
  {
   "cell_type": "code",
   "execution_count": 25,
   "id": "operational-queue",
   "metadata": {},
   "outputs": [],
   "source": [
    "#!jupyter nbextension enable --py widgetsnbextension"
   ]
  },
  {
   "cell_type": "markdown",
   "id": "latter-drunk",
   "metadata": {},
   "source": [
    "### End aside!"
   ]
  },
  {
   "cell_type": "code",
   "execution_count": 30,
   "id": "operational-webster",
   "metadata": {},
   "outputs": [
    {
     "data": {
      "application/vnd.jupyter.widget-view+json": {
       "model_id": "dfbc59423c2d4a628db84e3b884f1d32",
       "version_major": 2,
       "version_minor": 0
      },
      "text/plain": [
       "IntText(value=0)"
      ]
     },
     "metadata": {},
     "output_type": "display_data"
    }
   ],
   "source": [
    "itext"
   ]
  },
  {
   "cell_type": "code",
   "execution_count": 31,
   "id": "fourth-surrey",
   "metadata": {},
   "outputs": [
    {
     "data": {
      "text/plain": [
       "0"
      ]
     },
     "execution_count": 31,
     "metadata": {},
     "output_type": "execute_result"
    }
   ],
   "source": [
    "itext.value"
   ]
  },
  {
   "cell_type": "code",
   "execution_count": 32,
   "id": "boring-alliance",
   "metadata": {},
   "outputs": [],
   "source": [
    "itext.value = 5"
   ]
  },
  {
   "cell_type": "markdown",
   "id": "universal-sense",
   "metadata": {},
   "source": [
    "Can tie widget values together to build up interfaces:"
   ]
  },
  {
   "cell_type": "code",
   "execution_count": 35,
   "id": "integral-tokyo",
   "metadata": {},
   "outputs": [
    {
     "data": {
      "application/vnd.jupyter.widget-view+json": {
       "model_id": "df000d74e0404521894fdf2201831163",
       "version_major": 2,
       "version_minor": 0
      },
      "text/plain": [
       "IntProgress(value=90)"
      ]
     },
     "metadata": {},
     "output_type": "display_data"
    }
   ],
   "source": [
    "ip = ipywidgets.IntProgress(value=90)\n",
    "ip"
   ]
  },
  {
   "cell_type": "code",
   "execution_count": 36,
   "id": "august-sociology",
   "metadata": {},
   "outputs": [],
   "source": [
    "ipywidgets.IntSlider?"
   ]
  },
  {
   "cell_type": "code",
   "execution_count": 37,
   "id": "surrounded-guard",
   "metadata": {},
   "outputs": [
    {
     "data": {
      "application/vnd.jupyter.widget-view+json": {
       "model_id": "a27c1f74f59f4b3e9422e14dbcc49161",
       "version_major": 2,
       "version_minor": 0
      },
      "text/plain": [
       "IntSlider(value=0)"
      ]
     },
     "metadata": {},
     "output_type": "display_data"
    }
   ],
   "source": [
    "irange = ipywidgets.IntSlider(min=0,max=100, step=1)\n",
    "irange"
   ]
  },
  {
   "cell_type": "markdown",
   "id": "duplicate-screening",
   "metadata": {},
   "source": [
    "What are we linking?  If we aren't sure, one trick:"
   ]
  },
  {
   "cell_type": "code",
   "execution_count": 38,
   "id": "retained-boundary",
   "metadata": {},
   "outputs": [
    {
     "data": {
      "text/plain": [
       "['_dom_classes',\n",
       " '_model_module',\n",
       " '_model_module_version',\n",
       " '_model_name',\n",
       " '_view_count',\n",
       " '_view_module',\n",
       " '_view_module_version',\n",
       " '_view_name',\n",
       " 'bar_style',\n",
       " 'description',\n",
       " 'description_tooltip',\n",
       " 'layout',\n",
       " 'max',\n",
       " 'min',\n",
       " 'orientation',\n",
       " 'style',\n",
       " 'value']"
      ]
     },
     "execution_count": 38,
     "metadata": {},
     "output_type": "execute_result"
    }
   ],
   "source": [
    "ip.keys"
   ]
  },
  {
   "cell_type": "code",
   "execution_count": 39,
   "id": "annual-driving",
   "metadata": {},
   "outputs": [
    {
     "data": {
      "text/plain": [
       "['_dom_classes',\n",
       " '_model_module',\n",
       " '_model_module_version',\n",
       " '_model_name',\n",
       " '_view_count',\n",
       " '_view_module',\n",
       " '_view_module_version',\n",
       " '_view_name',\n",
       " 'continuous_update',\n",
       " 'description',\n",
       " 'description_tooltip',\n",
       " 'disabled',\n",
       " 'layout',\n",
       " 'max',\n",
       " 'min',\n",
       " 'orientation',\n",
       " 'readout',\n",
       " 'readout_format',\n",
       " 'step',\n",
       " 'style',\n",
       " 'value']"
      ]
     },
     "execution_count": 39,
     "metadata": {},
     "output_type": "execute_result"
    }
   ],
   "source": [
    "irange.keys"
   ]
  },
  {
   "cell_type": "code",
   "execution_count": 40,
   "id": "industrial-expert",
   "metadata": {},
   "outputs": [
    {
     "data": {
      "application/vnd.jupyter.widget-view+json": {
       "model_id": "df000d74e0404521894fdf2201831163",
       "version_major": 2,
       "version_minor": 0
      },
      "text/plain": [
       "IntProgress(value=90)"
      ]
     },
     "metadata": {},
     "output_type": "display_data"
    }
   ],
   "source": [
    "ip"
   ]
  },
  {
   "cell_type": "code",
   "execution_count": 41,
   "id": "brown-simple",
   "metadata": {},
   "outputs": [],
   "source": [
    "ip.value = 10"
   ]
  },
  {
   "cell_type": "code",
   "execution_count": 42,
   "id": "satellite-franchise",
   "metadata": {},
   "outputs": [],
   "source": [
    "ipywidgets.jslink?"
   ]
  },
  {
   "cell_type": "code",
   "execution_count": 43,
   "id": "polish-product",
   "metadata": {},
   "outputs": [
    {
     "data": {
      "text/plain": [
       "Link(source=(IntProgress(value=10), 'value'), target=(IntSlider(value=50), 'value'))"
      ]
     },
     "metadata": {},
     "output_type": "display_data"
    }
   ],
   "source": [
    "#c = link((widget1, 'value'), (widget2, 'value'))\n",
    "ipywidgets.jslink((ip,'value'), (irange, 'value'))"
   ]
  },
  {
   "cell_type": "code",
   "execution_count": 44,
   "id": "elementary-negotiation",
   "metadata": {},
   "outputs": [
    {
     "data": {
      "application/vnd.jupyter.widget-view+json": {
       "model_id": "df000d74e0404521894fdf2201831163",
       "version_major": 2,
       "version_minor": 0
      },
      "text/plain": [
       "IntProgress(value=10)"
      ]
     },
     "metadata": {},
     "output_type": "display_data"
    }
   ],
   "source": [
    "ip"
   ]
  },
  {
   "cell_type": "code",
   "execution_count": 45,
   "id": "graphic-overhead",
   "metadata": {},
   "outputs": [
    {
     "data": {
      "application/vnd.jupyter.widget-view+json": {
       "model_id": "a27c1f74f59f4b3e9422e14dbcc49161",
       "version_major": 2,
       "version_minor": 0
      },
      "text/plain": [
       "IntSlider(value=10)"
      ]
     },
     "metadata": {},
     "output_type": "display_data"
    }
   ],
   "source": [
    "irange"
   ]
  },
  {
   "cell_type": "markdown",
   "id": "incomplete-appendix",
   "metadata": {},
   "source": [
    "We'll use the ipywidgets layout option of `VBox` to put these in the same cell:"
   ]
  },
  {
   "cell_type": "code",
   "execution_count": 46,
   "id": "bulgarian-maker",
   "metadata": {},
   "outputs": [
    {
     "data": {
      "application/vnd.jupyter.widget-view+json": {
       "model_id": "3595367abbc94e478113588ba4ba2408",
       "version_major": 2,
       "version_minor": 0
      },
      "text/plain": [
       "VBox(children=(IntProgress(value=49), IntSlider(value=49)))"
      ]
     },
     "metadata": {},
     "output_type": "display_data"
    }
   ],
   "source": [
    "ipywidgets.VBox([ip, irange])"
   ]
  },
  {
   "cell_type": "code",
   "execution_count": 47,
   "id": "important-kitty",
   "metadata": {},
   "outputs": [
    {
     "data": {
      "application/vnd.jupyter.widget-view+json": {
       "model_id": "8563a62490b24a92924fe38b2ed9736e",
       "version_major": 2,
       "version_minor": 0
      },
      "text/plain": [
       "HBox(children=(IntProgress(value=75), IntSlider(value=75)))"
      ]
     },
     "metadata": {},
     "output_type": "display_data"
    }
   ],
   "source": [
    "ipywidgets.HBox([ip, irange])"
   ]
  },
  {
   "cell_type": "markdown",
   "id": "differential-kitty",
   "metadata": {},
   "source": [
    "Sometimes we do have to make a \"round trip\" to the backend (Python).  We can use \"link\" to make a \"round trip\" to the backend:"
   ]
  },
  {
   "cell_type": "code",
   "execution_count": 50,
   "id": "productive-kingston",
   "metadata": {},
   "outputs": [],
   "source": [
    "ip2 = ipywidgets.IntProgress(value=90)\n",
    "#ip2\n",
    "irange2 = ipywidgets.IntSlider(min=0, max=100, step=1)\n",
    "#irange2"
   ]
  },
  {
   "cell_type": "code",
   "execution_count": 52,
   "id": "thrown-gateway",
   "metadata": {},
   "outputs": [],
   "source": [
    "ipywidgets.link?"
   ]
  },
  {
   "cell_type": "code",
   "execution_count": 53,
   "id": "genuine-madrid",
   "metadata": {},
   "outputs": [
    {
     "data": {
      "text/plain": [
       "<traitlets.traitlets.link at 0x7f841089a310>"
      ]
     },
     "execution_count": 53,
     "metadata": {},
     "output_type": "execute_result"
    }
   ],
   "source": [
    "#c = link((src, \"value\"), (tgt, \"value\"))\n",
    "ipywidgets.link((ip2,'value'),(irange2,'value'))"
   ]
  },
  {
   "cell_type": "code",
   "execution_count": 54,
   "id": "protective-trouble",
   "metadata": {},
   "outputs": [
    {
     "data": {
      "application/vnd.jupyter.widget-view+json": {
       "model_id": "bfe3e35cba3a4cdba95d008dbe777c60",
       "version_major": 2,
       "version_minor": 0
      },
      "text/plain": [
       "VBox(children=(IntProgress(value=90), IntSlider(value=90)))"
      ]
     },
     "metadata": {},
     "output_type": "display_data"
    }
   ],
   "source": [
    "ipywidgets.VBox([ip2,irange2])"
   ]
  },
  {
   "cell_type": "markdown",
   "id": "disabled-adoption",
   "metadata": {},
   "source": [
    "Quick take-away: we can link via JS (front end) or Python (back end) -- this doesn't make a difference right now, but its something to remember for the future."
   ]
  },
  {
   "cell_type": "markdown",
   "id": "liberal-diamond",
   "metadata": {},
   "source": [
    "Let's start linking more things (i.e. functions that we write)."
   ]
  },
  {
   "cell_type": "code",
   "execution_count": 55,
   "id": "signal-finder",
   "metadata": {},
   "outputs": [
    {
     "data": {
      "application/vnd.jupyter.widget-view+json": {
       "model_id": "261e87bf010f4204af52f73473360612",
       "version_major": 2,
       "version_minor": 0
      },
      "text/plain": [
       "Button(description='I am a clicker', style=ButtonStyle())"
      ]
     },
     "metadata": {},
     "output_type": "display_data"
    },
    {
     "name": "stdout",
     "output_type": "stream",
     "text": [
      "I have clicked!\n",
      "I have clicked!\n",
      "I have clicked!\n",
      "I have clicked!\n"
     ]
    }
   ],
   "source": [
    "button = ipywidgets.Button(description=\"I am a clicker\")\n",
    "button"
   ]
  },
  {
   "cell_type": "markdown",
   "id": "armed-rhythm",
   "metadata": {},
   "source": [
    "Add something that happens when I click this button:"
   ]
  },
  {
   "cell_type": "code",
   "execution_count": 56,
   "id": "quantitative-trial",
   "metadata": {},
   "outputs": [],
   "source": [
    "# something print out when I click the button\n",
    "def say_click(event): # what is event? stay tuned!\n",
    "    print(\"I have clicked!\")"
   ]
  },
  {
   "cell_type": "markdown",
   "id": "valuable-patch",
   "metadata": {},
   "source": [
    "Similar to link/jslink I need to \"link up\" the function `say_click` with my press of the button."
   ]
  },
  {
   "cell_type": "code",
   "execution_count": 58,
   "id": "greek-resistance",
   "metadata": {},
   "outputs": [
    {
     "data": {
      "text/plain": [
       "['_dom_classes',\n",
       " '_model_module',\n",
       " '_model_module_version',\n",
       " '_model_name',\n",
       " '_view_count',\n",
       " '_view_module',\n",
       " '_view_module_version',\n",
       " '_view_name',\n",
       " 'button_style',\n",
       " 'description',\n",
       " 'disabled',\n",
       " 'icon',\n",
       " 'layout',\n",
       " 'style',\n",
       " 'tooltip']"
      ]
     },
     "execution_count": 58,
     "metadata": {},
     "output_type": "execute_result"
    }
   ],
   "source": [
    "button.keys # doesn't say much here"
   ]
  },
  {
   "cell_type": "code",
   "execution_count": 68,
   "id": "representative-explanation",
   "metadata": {},
   "outputs": [],
   "source": [
    "# something about a \"callback\""
   ]
  },
  {
   "cell_type": "code",
   "execution_count": 71,
   "id": "declared-mobile",
   "metadata": {},
   "outputs": [],
   "source": [
    "button.on_click?"
   ]
  },
  {
   "cell_type": "code",
   "execution_count": 60,
   "id": "brazilian-newton",
   "metadata": {},
   "outputs": [],
   "source": [
    "button.on_click(say_click)"
   ]
  },
  {
   "cell_type": "code",
   "execution_count": 61,
   "id": "atomic-registrar",
   "metadata": {},
   "outputs": [
    {
     "data": {
      "application/vnd.jupyter.widget-view+json": {
       "model_id": "261e87bf010f4204af52f73473360612",
       "version_major": 2,
       "version_minor": 0
      },
      "text/plain": [
       "Button(description='I am a clicker', style=ButtonStyle())"
      ]
     },
     "metadata": {},
     "output_type": "display_data"
    },
    {
     "name": "stdout",
     "output_type": "stream",
     "text": [
      "I have clicked!\n",
      "I have clicked!\n",
      "I have clicked!\n",
      "I have clicked!\n"
     ]
    }
   ],
   "source": [
    "button"
   ]
  },
  {
   "cell_type": "code",
   "execution_count": 65,
   "id": "sorted-northern",
   "metadata": {},
   "outputs": [],
   "source": [
    "button2 = ipywidgets.Button(description=\"I am a clicker\") # created a widget\n",
    "\n",
    "def say_click2(event): # \"callback\" function\n",
    "    print(event) # aside -- to see what is going on in this \"event\" thing\n",
    "    # the clicked button widget instance (stay tuned for bqplot next week)\n",
    "    #print(\"I have clicked!\")\n",
    "    \n",
    "button2.on_click(say_click2) # linked function with the `on_click` button function\n",
    "# .observe (stay tuned for that!)"
   ]
  },
  {
   "cell_type": "code",
   "execution_count": 66,
   "id": "surface-christian",
   "metadata": {},
   "outputs": [
    {
     "data": {
      "application/vnd.jupyter.widget-view+json": {
       "model_id": "5275800d260f43f683d8d2381824b509",
       "version_major": 2,
       "version_minor": 0
      },
      "text/plain": [
       "Button(description='I am a clicker', style=ButtonStyle())"
      ]
     },
     "metadata": {},
     "output_type": "display_data"
    },
    {
     "name": "stdout",
     "output_type": "stream",
     "text": [
      "Button(description='I am a clicker', style=ButtonStyle())\n",
      "Button(description='I am a clicker', style=ButtonStyle())\n",
      "Button(description='I am a clicker', style=ButtonStyle())\n"
     ]
    }
   ],
   "source": [
    "button"
   ]
  },
  {
   "cell_type": "markdown",
   "id": "average-scholarship",
   "metadata": {},
   "source": [
    "^just an aside, we'll get more practice later, stay tuned!"
   ]
  },
  {
   "cell_type": "markdown",
   "id": "possible-radiation",
   "metadata": {},
   "source": [
    "Instead of getting \"into the weeds\" for this one, let's do another example:"
   ]
  },
  {
   "cell_type": "code",
   "execution_count": 72,
   "id": "electric-finnish",
   "metadata": {},
   "outputs": [],
   "source": [
    "ip3 = ipywidgets.IntProgress()"
   ]
  },
  {
   "cell_type": "code",
   "execution_count": 73,
   "id": "composite-least",
   "metadata": {},
   "outputs": [
    {
     "data": {
      "application/vnd.jupyter.widget-view+json": {
       "model_id": "b6b48bc802b5471b9db3d8c1c145ad6c",
       "version_major": 2,
       "version_minor": 0
      },
      "text/plain": [
       "IntProgress(value=0)"
      ]
     },
     "metadata": {},
     "output_type": "display_data"
    }
   ],
   "source": [
    "ip3"
   ]
  },
  {
   "cell_type": "code",
   "execution_count": 74,
   "id": "respected-genre",
   "metadata": {},
   "outputs": [],
   "source": [
    "button_plus = ipywidgets.Button(description=\"+10\")"
   ]
  },
  {
   "cell_type": "code",
   "execution_count": 75,
   "id": "preceding-listing",
   "metadata": {},
   "outputs": [],
   "source": [
    "button_minus = ipywidgets.Button(description=\"-10\")"
   ]
  },
  {
   "cell_type": "code",
   "execution_count": 76,
   "id": "wired-nancy",
   "metadata": {},
   "outputs": [
    {
     "data": {
      "application/vnd.jupyter.widget-view+json": {
       "model_id": "a26a9bc40ee64b8594d1d10ca21904e0",
       "version_major": 2,
       "version_minor": 0
      },
      "text/plain": [
       "HBox(children=(Button(description='-10', style=ButtonStyle()), IntProgress(value=0), Button(description='+10',…"
      ]
     },
     "metadata": {},
     "output_type": "display_data"
    }
   ],
   "source": [
    "ipywidgets.HBox([button_minus, ip3, button_plus])"
   ]
  },
  {
   "cell_type": "code",
   "execution_count": 77,
   "id": "infrared-gibson",
   "metadata": {},
   "outputs": [],
   "source": [
    "def click_up(event):\n",
    "    ip3.value += 10"
   ]
  },
  {
   "cell_type": "code",
   "execution_count": 78,
   "id": "spatial-rebecca",
   "metadata": {},
   "outputs": [],
   "source": [
    "button_plus.on_click(click_up)"
   ]
  },
  {
   "cell_type": "code",
   "execution_count": 79,
   "id": "incoming-burden",
   "metadata": {},
   "outputs": [],
   "source": [
    "def click_down(event):\n",
    "    ip3.value -= 10\n",
    "button_minus.on_click(click_down)"
   ]
  },
  {
   "cell_type": "markdown",
   "id": "fantastic-vertical",
   "metadata": {},
   "source": [
    "Few more layout things in the prep notebook that we might come back to!"
   ]
  },
  {
   "cell_type": "code",
   "execution_count": 80,
   "id": "certified-sequence",
   "metadata": {},
   "outputs": [],
   "source": [
    "islider = ipywidgets.IntSlider(min=0,max=10, step=1,orientation='vertical')"
   ]
  },
  {
   "cell_type": "code",
   "execution_count": 81,
   "id": "primary-attraction",
   "metadata": {},
   "outputs": [
    {
     "data": {
      "application/vnd.jupyter.widget-view+json": {
       "model_id": "432aa344737b4cbab354fcfd4b178279",
       "version_major": 2,
       "version_minor": 0
      },
      "text/plain": [
       "IntSlider(value=0, max=10, orientation='vertical')"
      ]
     },
     "metadata": {},
     "output_type": "display_data"
    }
   ],
   "source": [
    "islider"
   ]
  },
  {
   "cell_type": "code",
   "execution_count": 83,
   "id": "contrary-russian",
   "metadata": {},
   "outputs": [],
   "source": [
    "islider.value= 1"
   ]
  },
  {
   "cell_type": "code",
   "execution_count": 84,
   "id": "dedicated-footage",
   "metadata": {},
   "outputs": [
    {
     "data": {
      "text/plain": [
       "['_dom_classes',\n",
       " '_model_module',\n",
       " '_model_module_version',\n",
       " '_model_name',\n",
       " '_view_count',\n",
       " '_view_module',\n",
       " '_view_module_version',\n",
       " '_view_name',\n",
       " 'continuous_update',\n",
       " 'description',\n",
       " 'description_tooltip',\n",
       " 'disabled',\n",
       " 'layout',\n",
       " 'max',\n",
       " 'min',\n",
       " 'orientation',\n",
       " 'readout',\n",
       " 'readout_format',\n",
       " 'step',\n",
       " 'style',\n",
       " 'value']"
      ]
     },
     "execution_count": 84,
     "metadata": {},
     "output_type": "execute_result"
    }
   ],
   "source": [
    "islider.keys"
   ]
  },
  {
   "cell_type": "code",
   "execution_count": 91,
   "id": "classified-pulse",
   "metadata": {},
   "outputs": [],
   "source": [
    "islider.style.handle_color='#2f8358'"
   ]
  },
  {
   "cell_type": "code",
   "execution_count": 92,
   "id": "binary-tucson",
   "metadata": {},
   "outputs": [
    {
     "data": {
      "application/vnd.jupyter.widget-view+json": {
       "model_id": "432aa344737b4cbab354fcfd4b178279",
       "version_major": 2,
       "version_minor": 0
      },
      "text/plain": [
       "IntSlider(value=0, max=10, orientation='vertical', style=SliderStyle(handle_color='#2f8358'))"
      ]
     },
     "metadata": {},
     "output_type": "display_data"
    }
   ],
   "source": [
    "islider"
   ]
  },
  {
   "cell_type": "code",
   "execution_count": 90,
   "id": "nonprofit-string",
   "metadata": {},
   "outputs": [
    {
     "data": {
      "application/vnd.jupyter.widget-view+json": {
       "model_id": "55e3533fdfdb4f46a691c531eae814a5",
       "version_major": 2,
       "version_minor": 0
      },
      "text/plain": [
       "ColorPicker(value='black')"
      ]
     },
     "metadata": {},
     "output_type": "display_data"
    }
   ],
   "source": [
    "cp = ipywidgets.ColorPicker()\n",
    "cp"
   ]
  },
  {
   "cell_type": "code",
   "execution_count": 95,
   "id": "regular-myanmar",
   "metadata": {},
   "outputs": [
    {
     "data": {
      "text/plain": [
       "'#2f8358'"
      ]
     },
     "execution_count": 95,
     "metadata": {},
     "output_type": "execute_result"
    }
   ],
   "source": [
    "cp.value"
   ]
  },
  {
   "cell_type": "code",
   "execution_count": 96,
   "id": "elementary-planet",
   "metadata": {},
   "outputs": [
    {
     "data": {
      "text/plain": [
       "<traitlets.traitlets.link at 0x7f8420628850>"
      ]
     },
     "execution_count": 96,
     "metadata": {},
     "output_type": "execute_result"
    }
   ],
   "source": [
    "ipywidgets.link( (cp, 'value'), (islider.style, 'handle_color'))"
   ]
  },
  {
   "cell_type": "code",
   "execution_count": 97,
   "id": "herbal-happening",
   "metadata": {},
   "outputs": [
    {
     "data": {
      "application/vnd.jupyter.widget-view+json": {
       "model_id": "fce642c49dd64c2ab12288cbeb294805",
       "version_major": 2,
       "version_minor": 0
      },
      "text/plain": [
       "VBox(children=(ColorPicker(value='#2f8358'), IntSlider(value=1, max=10, orientation='vertical', style=SliderSt…"
      ]
     },
     "metadata": {},
     "output_type": "display_data"
    }
   ],
   "source": [
    "ipywidgets.VBox([cp,islider])"
   ]
  },
  {
   "cell_type": "markdown",
   "id": "naughty-saver",
   "metadata": {},
   "source": [
    "Again, \"link\" is all done on the \"backend\" with Python -- through the traitlets library."
   ]
  },
  {
   "cell_type": "markdown",
   "id": "sealed-phrase",
   "metadata": {},
   "source": [
    "## Playing a bit with traitlets\n",
    "\n",
    "But first!  Classes without traitlets"
   ]
  },
  {
   "cell_type": "code",
   "execution_count": 98,
   "id": "streaming-prior",
   "metadata": {},
   "outputs": [],
   "source": [
    "class MyObject():\n",
    "    name = 'unnamed'\n",
    "    age = 0"
   ]
  },
  {
   "cell_type": "code",
   "execution_count": 99,
   "id": "desirable-township",
   "metadata": {},
   "outputs": [],
   "source": [
    "my_obj = MyObject()"
   ]
  },
  {
   "cell_type": "code",
   "execution_count": 100,
   "id": "tamil-trash",
   "metadata": {},
   "outputs": [
    {
     "data": {
      "text/plain": [
       "<__main__.MyObject at 0x7f8410a8a590>"
      ]
     },
     "execution_count": 100,
     "metadata": {},
     "output_type": "execute_result"
    }
   ],
   "source": [
    "my_obj # an instance of this class"
   ]
  },
  {
   "cell_type": "code",
   "execution_count": 101,
   "id": "driving-mining",
   "metadata": {},
   "outputs": [
    {
     "data": {
      "text/plain": [
       "__main__.MyObject"
      ]
     },
     "execution_count": 101,
     "metadata": {},
     "output_type": "execute_result"
    }
   ],
   "source": [
    "type(my_obj)"
   ]
  },
  {
   "cell_type": "code",
   "execution_count": 102,
   "id": "bound-pacific",
   "metadata": {},
   "outputs": [
    {
     "data": {
      "text/plain": [
       "int"
      ]
     },
     "execution_count": 102,
     "metadata": {},
     "output_type": "execute_result"
    }
   ],
   "source": [
    "type(1)"
   ]
  },
  {
   "cell_type": "code",
   "execution_count": 103,
   "id": "further-karen",
   "metadata": {},
   "outputs": [
    {
     "data": {
      "text/plain": [
       "('unnamed', 0)"
      ]
     },
     "execution_count": 103,
     "metadata": {},
     "output_type": "execute_result"
    }
   ],
   "source": [
    "my_obj.name, my_obj.age # objects associated with the instance my_obj of the MyObject class"
   ]
  },
  {
   "cell_type": "code",
   "execution_count": 108,
   "id": "geographic-helen",
   "metadata": {},
   "outputs": [],
   "source": [
    "my_obj.name = 'Bob'\n",
    "my_obj.age = 47"
   ]
  },
  {
   "cell_type": "code",
   "execution_count": 109,
   "id": "initial-hygiene",
   "metadata": {},
   "outputs": [
    {
     "name": "stdout",
     "output_type": "stream",
     "text": [
      "hello, my name is Bob and I am 47 years old\n"
     ]
    }
   ],
   "source": [
    "print(\"hello, my name is\", my_obj.name, 'and I am', my_obj.age, 'years old')"
   ]
  },
  {
   "cell_type": "markdown",
   "id": "whole-removal",
   "metadata": {},
   "source": [
    "If I want to change the name and age of someone listed as `my_obj`:"
   ]
  },
  {
   "cell_type": "code",
   "execution_count": 110,
   "id": "facial-alexandria",
   "metadata": {},
   "outputs": [],
   "source": [
    "my_obj.name = 'Linda'\n",
    "my_obj.age = 45"
   ]
  },
  {
   "cell_type": "code",
   "execution_count": 111,
   "id": "adult-ontario",
   "metadata": {},
   "outputs": [
    {
     "name": "stdout",
     "output_type": "stream",
     "text": [
      "hello, my name is Linda and I am 45 years old\n"
     ]
    }
   ],
   "source": [
    "print(\"hello, my name is\", my_obj.name, 'and I am', my_obj.age, 'years old')"
   ]
  },
  {
   "cell_type": "code",
   "execution_count": 112,
   "id": "little-buying",
   "metadata": {},
   "outputs": [],
   "source": [
    "import traitlets"
   ]
  },
  {
   "cell_type": "code",
   "execution_count": 113,
   "id": "vanilla-overhead",
   "metadata": {},
   "outputs": [],
   "source": [
    "class MyTraitletObject(traitlets.HasTraits):\n",
    "    name = traitlets.Unicode(\"unnamed\")\n",
    "    age = traitlets.Int(0)"
   ]
  },
  {
   "cell_type": "code",
   "execution_count": 114,
   "id": "mature-differential",
   "metadata": {},
   "outputs": [],
   "source": [
    "myT_obj = MyTraitletObject() # myT_obj is instance of myTraitletObject class"
   ]
  },
  {
   "cell_type": "code",
   "execution_count": 118,
   "id": "indirect-scoop",
   "metadata": {},
   "outputs": [],
   "source": [
    "myT_obj.name = 'Bob'\n",
    "myT_obj.age = 47"
   ]
  },
  {
   "cell_type": "code",
   "execution_count": 116,
   "id": "cultural-military",
   "metadata": {},
   "outputs": [
    {
     "name": "stdout",
     "output_type": "stream",
     "text": [
      "hello, my name is Bob and I am 47 years old\n"
     ]
    }
   ],
   "source": [
    "print(\"hello, my name is\", myT_obj.name, 'and I am', myT_obj.age, 'years old')"
   ]
  },
  {
   "cell_type": "code",
   "execution_count": 120,
   "id": "annoying-tuition",
   "metadata": {},
   "outputs": [],
   "source": [
    "def name_changed(change):\n",
    "    print(change)\n",
    "    \n",
    "myT_obj.observe(name_changed, ['name']) # whenever my \"name\" changes in an object of MyTraitletClass, print the \"change\""
   ]
  },
  {
   "cell_type": "code",
   "execution_count": 121,
   "id": "hearing-poultry",
   "metadata": {},
   "outputs": [
    {
     "name": "stdout",
     "output_type": "stream",
     "text": [
      "{'name': 'name', 'old': 'Bob', 'new': 'Linda', 'owner': <__main__.MyTraitletObject object at 0x7f84108da590>, 'type': 'change'}\n"
     ]
    }
   ],
   "source": [
    "myT_obj.name = 'Linda'"
   ]
  },
  {
   "cell_type": "code",
   "execution_count": 122,
   "id": "quick-butterfly",
   "metadata": {},
   "outputs": [
    {
     "data": {
      "text/plain": [
       "<__main__.MyTraitletObject at 0x7f84108da590>"
      ]
     },
     "execution_count": 122,
     "metadata": {},
     "output_type": "execute_result"
    }
   ],
   "source": [
    "myT_obj"
   ]
  },
  {
   "cell_type": "markdown",
   "id": "instructional-breeding",
   "metadata": {},
   "source": [
    "Building on printing out the \"change\" -- let's print out the new name:"
   ]
  },
  {
   "cell_type": "code",
   "execution_count": 123,
   "id": "unlikely-fault",
   "metadata": {},
   "outputs": [],
   "source": [
    "def name_changed2(change):\n",
    "    #print(change)\n",
    "    print(\"hello, my name is\", change['new'], 'and I am', change['owner'].age, 'years old')\n",
    "myT_obj.observe(name_changed2, ['name'])"
   ]
  },
  {
   "cell_type": "code",
   "execution_count": 124,
   "id": "smooth-drove",
   "metadata": {},
   "outputs": [
    {
     "name": "stdout",
     "output_type": "stream",
     "text": [
      "{'name': 'name', 'old': 'Linda', 'new': 'Bob', 'owner': <__main__.MyTraitletObject object at 0x7f84108da590>, 'type': 'change'}\n",
      "hello, my name is Bob and I am 47 years old\n"
     ]
    }
   ],
   "source": [
    "myT_obj.name = 'Bob'"
   ]
  },
  {
   "cell_type": "markdown",
   "id": "static-coast",
   "metadata": {},
   "source": [
    "Here we get 2 print outs because to \"observations\" are happening -- name_changed and name_changed2"
   ]
  },
  {
   "cell_type": "markdown",
   "id": "elementary-reynolds",
   "metadata": {},
   "source": [
    "One way around this, is to \"unobserve\" the name_changed function:"
   ]
  },
  {
   "cell_type": "code",
   "execution_count": 125,
   "id": "jewish-digest",
   "metadata": {},
   "outputs": [],
   "source": [
    "myT_obj.unobserve(name_changed, ['name'])"
   ]
  },
  {
   "cell_type": "code",
   "execution_count": 126,
   "id": "warming-farmer",
   "metadata": {},
   "outputs": [
    {
     "name": "stdout",
     "output_type": "stream",
     "text": [
      "hello, my name is Linda and I am 47 years old\n"
     ]
    }
   ],
   "source": [
    "myT_obj.name = \"Linda\""
   ]
  },
  {
   "cell_type": "code",
   "execution_count": 127,
   "id": "unknown-namibia",
   "metadata": {},
   "outputs": [],
   "source": [
    "myT_obj.age = 45"
   ]
  },
  {
   "cell_type": "markdown",
   "id": "single-messaging",
   "metadata": {},
   "source": [
    "Also add a function to \"observe\" changes in the age trait:"
   ]
  },
  {
   "cell_type": "code",
   "execution_count": 128,
   "id": "offensive-flight",
   "metadata": {},
   "outputs": [],
   "source": [
    "def age_changed(change):\n",
    "    #print(change)\n",
    "    print(\"hello, my name is\", change['owner'].name, 'and I am', change['new'], 'years old')\n"
   ]
  },
  {
   "cell_type": "code",
   "execution_count": 129,
   "id": "pressed-ontario",
   "metadata": {},
   "outputs": [],
   "source": [
    "myT_obj.observe(age_changed, ['age'])"
   ]
  },
  {
   "cell_type": "code",
   "execution_count": 130,
   "id": "material-smart",
   "metadata": {},
   "outputs": [
    {
     "name": "stdout",
     "output_type": "stream",
     "text": [
      "hello, my name is Linda and I am 47 years old\n"
     ]
    }
   ],
   "source": [
    "myT_obj.age=47"
   ]
  },
  {
   "cell_type": "code",
   "execution_count": 131,
   "id": "returning-latitude",
   "metadata": {},
   "outputs": [
    {
     "name": "stdout",
     "output_type": "stream",
     "text": [
      "hello, my name is Louise and I am 47 years old\n",
      "hello, my name is Louise and I am 8 years old\n"
     ]
    }
   ],
   "source": [
    "myT_obj.name, myT_obj.age =\"Louise\", 8"
   ]
  },
  {
   "cell_type": "markdown",
   "id": "charitable-capability",
   "metadata": {},
   "source": [
    "# Quick aside for the HW"
   ]
  },
  {
   "cell_type": "code",
   "execution_count": 132,
   "id": "humanitarian-lover",
   "metadata": {},
   "outputs": [],
   "source": [
    "ufos = pd.read_csv(\"/Users/jillnaiman/Downloads/ufo-scrubbed-geocoded-time-standardized-00.csv\",\n",
    "                  names = [\"date\", \"city\", \"state\", \"country\",\n",
    "                          \"shape\", \"duration_seconds\", \"duration\",\n",
    "                          \"comment\", \"report_date\", \"latitude\", \"longitude\"],\n",
    "                  parse_dates = [\"date\", \"report_date\"]) # parse_date is saying which columns should be considered dates"
   ]
  },
  {
   "cell_type": "code",
   "execution_count": 133,
   "id": "grave-cuisine",
   "metadata": {},
   "outputs": [
    {
     "data": {
      "text/html": [
       "<div>\n",
       "<style scoped>\n",
       "    .dataframe tbody tr th:only-of-type {\n",
       "        vertical-align: middle;\n",
       "    }\n",
       "\n",
       "    .dataframe tbody tr th {\n",
       "        vertical-align: top;\n",
       "    }\n",
       "\n",
       "    .dataframe thead th {\n",
       "        text-align: right;\n",
       "    }\n",
       "</style>\n",
       "<table border=\"1\" class=\"dataframe\">\n",
       "  <thead>\n",
       "    <tr style=\"text-align: right;\">\n",
       "      <th></th>\n",
       "      <th>date</th>\n",
       "      <th>city</th>\n",
       "      <th>state</th>\n",
       "      <th>country</th>\n",
       "      <th>shape</th>\n",
       "      <th>duration_seconds</th>\n",
       "      <th>duration</th>\n",
       "      <th>comment</th>\n",
       "      <th>report_date</th>\n",
       "      <th>latitude</th>\n",
       "      <th>longitude</th>\n",
       "    </tr>\n",
       "  </thead>\n",
       "  <tbody>\n",
       "    <tr>\n",
       "      <th>0</th>\n",
       "      <td>1949-10-10 20:30:00</td>\n",
       "      <td>san marcos</td>\n",
       "      <td>tx</td>\n",
       "      <td>us</td>\n",
       "      <td>cylinder</td>\n",
       "      <td>2700.0</td>\n",
       "      <td>45 minutes</td>\n",
       "      <td>This event took place in early fall around 194...</td>\n",
       "      <td>2004-04-27</td>\n",
       "      <td>29.883056</td>\n",
       "      <td>-97.941111</td>\n",
       "    </tr>\n",
       "    <tr>\n",
       "      <th>1</th>\n",
       "      <td>1949-10-10 21:00:00</td>\n",
       "      <td>lackland afb</td>\n",
       "      <td>tx</td>\n",
       "      <td>NaN</td>\n",
       "      <td>light</td>\n",
       "      <td>7200.0</td>\n",
       "      <td>1-2 hrs</td>\n",
       "      <td>1949 Lackland AFB&amp;#44 TX.  Lights racing acros...</td>\n",
       "      <td>2005-12-16</td>\n",
       "      <td>29.384210</td>\n",
       "      <td>-98.581082</td>\n",
       "    </tr>\n",
       "    <tr>\n",
       "      <th>2</th>\n",
       "      <td>1955-10-10 17:00:00</td>\n",
       "      <td>chester (uk/england)</td>\n",
       "      <td>NaN</td>\n",
       "      <td>gb</td>\n",
       "      <td>circle</td>\n",
       "      <td>20.0</td>\n",
       "      <td>20 seconds</td>\n",
       "      <td>Green/Orange circular disc over Chester&amp;#44 En...</td>\n",
       "      <td>2008-01-21</td>\n",
       "      <td>53.200000</td>\n",
       "      <td>-2.916667</td>\n",
       "    </tr>\n",
       "    <tr>\n",
       "      <th>3</th>\n",
       "      <td>1956-10-10 21:00:00</td>\n",
       "      <td>edna</td>\n",
       "      <td>tx</td>\n",
       "      <td>us</td>\n",
       "      <td>circle</td>\n",
       "      <td>20.0</td>\n",
       "      <td>1/2 hour</td>\n",
       "      <td>My older brother and twin sister were leaving ...</td>\n",
       "      <td>2004-01-17</td>\n",
       "      <td>28.978333</td>\n",
       "      <td>-96.645833</td>\n",
       "    </tr>\n",
       "    <tr>\n",
       "      <th>4</th>\n",
       "      <td>1960-10-10 20:00:00</td>\n",
       "      <td>kaneohe</td>\n",
       "      <td>hi</td>\n",
       "      <td>us</td>\n",
       "      <td>light</td>\n",
       "      <td>900.0</td>\n",
       "      <td>15 minutes</td>\n",
       "      <td>AS a Marine 1st Lt. flying an FJ4B fighter/att...</td>\n",
       "      <td>2004-01-22</td>\n",
       "      <td>21.418056</td>\n",
       "      <td>-157.803611</td>\n",
       "    </tr>\n",
       "    <tr>\n",
       "      <th>...</th>\n",
       "      <td>...</td>\n",
       "      <td>...</td>\n",
       "      <td>...</td>\n",
       "      <td>...</td>\n",
       "      <td>...</td>\n",
       "      <td>...</td>\n",
       "      <td>...</td>\n",
       "      <td>...</td>\n",
       "      <td>...</td>\n",
       "      <td>...</td>\n",
       "      <td>...</td>\n",
       "    </tr>\n",
       "    <tr>\n",
       "      <th>80327</th>\n",
       "      <td>2013-09-09 21:15:00</td>\n",
       "      <td>nashville</td>\n",
       "      <td>tn</td>\n",
       "      <td>us</td>\n",
       "      <td>light</td>\n",
       "      <td>600.0</td>\n",
       "      <td>10 minutes</td>\n",
       "      <td>Round from the distance/slowly changing colors...</td>\n",
       "      <td>2013-09-30</td>\n",
       "      <td>36.165833</td>\n",
       "      <td>-86.784444</td>\n",
       "    </tr>\n",
       "    <tr>\n",
       "      <th>80328</th>\n",
       "      <td>2013-09-09 22:00:00</td>\n",
       "      <td>boise</td>\n",
       "      <td>id</td>\n",
       "      <td>us</td>\n",
       "      <td>circle</td>\n",
       "      <td>1200.0</td>\n",
       "      <td>20 minutes</td>\n",
       "      <td>Boise&amp;#44 ID&amp;#44 spherical&amp;#44 20 min&amp;#44 10 r...</td>\n",
       "      <td>2013-09-30</td>\n",
       "      <td>43.613611</td>\n",
       "      <td>-116.202500</td>\n",
       "    </tr>\n",
       "    <tr>\n",
       "      <th>80329</th>\n",
       "      <td>2013-09-09 22:00:00</td>\n",
       "      <td>napa</td>\n",
       "      <td>ca</td>\n",
       "      <td>us</td>\n",
       "      <td>other</td>\n",
       "      <td>1200.0</td>\n",
       "      <td>hour</td>\n",
       "      <td>Napa UFO&amp;#44</td>\n",
       "      <td>2013-09-30</td>\n",
       "      <td>38.297222</td>\n",
       "      <td>-122.284444</td>\n",
       "    </tr>\n",
       "    <tr>\n",
       "      <th>80330</th>\n",
       "      <td>2013-09-09 22:20:00</td>\n",
       "      <td>vienna</td>\n",
       "      <td>va</td>\n",
       "      <td>us</td>\n",
       "      <td>circle</td>\n",
       "      <td>5.0</td>\n",
       "      <td>5 seconds</td>\n",
       "      <td>Saw a five gold lit cicular craft moving fastl...</td>\n",
       "      <td>2013-09-30</td>\n",
       "      <td>38.901111</td>\n",
       "      <td>-77.265556</td>\n",
       "    </tr>\n",
       "    <tr>\n",
       "      <th>80331</th>\n",
       "      <td>2013-09-09 23:00:00</td>\n",
       "      <td>edmond</td>\n",
       "      <td>ok</td>\n",
       "      <td>us</td>\n",
       "      <td>cigar</td>\n",
       "      <td>1020.0</td>\n",
       "      <td>17 minutes</td>\n",
       "      <td>2 witnesses 2  miles apart&amp;#44 Red &amp;amp; White...</td>\n",
       "      <td>2013-09-30</td>\n",
       "      <td>35.652778</td>\n",
       "      <td>-97.477778</td>\n",
       "    </tr>\n",
       "  </tbody>\n",
       "</table>\n",
       "<p>80332 rows × 11 columns</p>\n",
       "</div>"
      ],
      "text/plain": [
       "                     date                  city state country     shape  \\\n",
       "0     1949-10-10 20:30:00            san marcos    tx      us  cylinder   \n",
       "1     1949-10-10 21:00:00          lackland afb    tx     NaN     light   \n",
       "2     1955-10-10 17:00:00  chester (uk/england)   NaN      gb    circle   \n",
       "3     1956-10-10 21:00:00                  edna    tx      us    circle   \n",
       "4     1960-10-10 20:00:00               kaneohe    hi      us     light   \n",
       "...                   ...                   ...   ...     ...       ...   \n",
       "80327 2013-09-09 21:15:00             nashville    tn      us     light   \n",
       "80328 2013-09-09 22:00:00                 boise    id      us    circle   \n",
       "80329 2013-09-09 22:00:00                  napa    ca      us     other   \n",
       "80330 2013-09-09 22:20:00                vienna    va      us    circle   \n",
       "80331 2013-09-09 23:00:00                edmond    ok      us     cigar   \n",
       "\n",
       "       duration_seconds    duration  \\\n",
       "0                2700.0  45 minutes   \n",
       "1                7200.0     1-2 hrs   \n",
       "2                  20.0  20 seconds   \n",
       "3                  20.0    1/2 hour   \n",
       "4                 900.0  15 minutes   \n",
       "...                 ...         ...   \n",
       "80327             600.0  10 minutes   \n",
       "80328            1200.0  20 minutes   \n",
       "80329            1200.0        hour   \n",
       "80330               5.0   5 seconds   \n",
       "80331            1020.0  17 minutes   \n",
       "\n",
       "                                                 comment report_date  \\\n",
       "0      This event took place in early fall around 194...  2004-04-27   \n",
       "1      1949 Lackland AFB&#44 TX.  Lights racing acros...  2005-12-16   \n",
       "2      Green/Orange circular disc over Chester&#44 En...  2008-01-21   \n",
       "3      My older brother and twin sister were leaving ...  2004-01-17   \n",
       "4      AS a Marine 1st Lt. flying an FJ4B fighter/att...  2004-01-22   \n",
       "...                                                  ...         ...   \n",
       "80327  Round from the distance/slowly changing colors...  2013-09-30   \n",
       "80328  Boise&#44 ID&#44 spherical&#44 20 min&#44 10 r...  2013-09-30   \n",
       "80329                                       Napa UFO&#44  2013-09-30   \n",
       "80330  Saw a five gold lit cicular craft moving fastl...  2013-09-30   \n",
       "80331  2 witnesses 2  miles apart&#44 Red &amp; White...  2013-09-30   \n",
       "\n",
       "        latitude   longitude  \n",
       "0      29.883056  -97.941111  \n",
       "1      29.384210  -98.581082  \n",
       "2      53.200000   -2.916667  \n",
       "3      28.978333  -96.645833  \n",
       "4      21.418056 -157.803611  \n",
       "...          ...         ...  \n",
       "80327  36.165833  -86.784444  \n",
       "80328  43.613611 -116.202500  \n",
       "80329  38.297222 -122.284444  \n",
       "80330  38.901111  -77.265556  \n",
       "80331  35.652778  -97.477778  \n",
       "\n",
       "[80332 rows x 11 columns]"
      ]
     },
     "execution_count": 133,
     "metadata": {},
     "output_type": "execute_result"
    }
   ],
   "source": [
    "ufos # reported alien sitings (not necessarily real :) )"
   ]
  },
  {
   "cell_type": "markdown",
   "id": "spatial-gallery",
   "metadata": {},
   "source": [
    "We notice there are a lot of NaN's:"
   ]
  },
  {
   "cell_type": "code",
   "execution_count": 134,
   "id": "religious-america",
   "metadata": {},
   "outputs": [],
   "source": [
    "ufos = ufos.fillna({'country':'unknown', 'state':'unknown', 'shape':'unknown'})"
   ]
  },
  {
   "cell_type": "code",
   "execution_count": 135,
   "id": "pursuant-giving",
   "metadata": {},
   "outputs": [
    {
     "data": {
      "text/html": [
       "<div>\n",
       "<style scoped>\n",
       "    .dataframe tbody tr th:only-of-type {\n",
       "        vertical-align: middle;\n",
       "    }\n",
       "\n",
       "    .dataframe tbody tr th {\n",
       "        vertical-align: top;\n",
       "    }\n",
       "\n",
       "    .dataframe thead th {\n",
       "        text-align: right;\n",
       "    }\n",
       "</style>\n",
       "<table border=\"1\" class=\"dataframe\">\n",
       "  <thead>\n",
       "    <tr style=\"text-align: right;\">\n",
       "      <th></th>\n",
       "      <th>date</th>\n",
       "      <th>city</th>\n",
       "      <th>state</th>\n",
       "      <th>country</th>\n",
       "      <th>shape</th>\n",
       "      <th>duration_seconds</th>\n",
       "      <th>duration</th>\n",
       "      <th>comment</th>\n",
       "      <th>report_date</th>\n",
       "      <th>latitude</th>\n",
       "      <th>longitude</th>\n",
       "    </tr>\n",
       "  </thead>\n",
       "  <tbody>\n",
       "    <tr>\n",
       "      <th>0</th>\n",
       "      <td>1949-10-10 20:30:00</td>\n",
       "      <td>san marcos</td>\n",
       "      <td>tx</td>\n",
       "      <td>us</td>\n",
       "      <td>cylinder</td>\n",
       "      <td>2700.0</td>\n",
       "      <td>45 minutes</td>\n",
       "      <td>This event took place in early fall around 194...</td>\n",
       "      <td>2004-04-27</td>\n",
       "      <td>29.883056</td>\n",
       "      <td>-97.941111</td>\n",
       "    </tr>\n",
       "    <tr>\n",
       "      <th>1</th>\n",
       "      <td>1949-10-10 21:00:00</td>\n",
       "      <td>lackland afb</td>\n",
       "      <td>tx</td>\n",
       "      <td>unknown</td>\n",
       "      <td>light</td>\n",
       "      <td>7200.0</td>\n",
       "      <td>1-2 hrs</td>\n",
       "      <td>1949 Lackland AFB&amp;#44 TX.  Lights racing acros...</td>\n",
       "      <td>2005-12-16</td>\n",
       "      <td>29.384210</td>\n",
       "      <td>-98.581082</td>\n",
       "    </tr>\n",
       "    <tr>\n",
       "      <th>2</th>\n",
       "      <td>1955-10-10 17:00:00</td>\n",
       "      <td>chester (uk/england)</td>\n",
       "      <td>unknown</td>\n",
       "      <td>gb</td>\n",
       "      <td>circle</td>\n",
       "      <td>20.0</td>\n",
       "      <td>20 seconds</td>\n",
       "      <td>Green/Orange circular disc over Chester&amp;#44 En...</td>\n",
       "      <td>2008-01-21</td>\n",
       "      <td>53.200000</td>\n",
       "      <td>-2.916667</td>\n",
       "    </tr>\n",
       "    <tr>\n",
       "      <th>3</th>\n",
       "      <td>1956-10-10 21:00:00</td>\n",
       "      <td>edna</td>\n",
       "      <td>tx</td>\n",
       "      <td>us</td>\n",
       "      <td>circle</td>\n",
       "      <td>20.0</td>\n",
       "      <td>1/2 hour</td>\n",
       "      <td>My older brother and twin sister were leaving ...</td>\n",
       "      <td>2004-01-17</td>\n",
       "      <td>28.978333</td>\n",
       "      <td>-96.645833</td>\n",
       "    </tr>\n",
       "    <tr>\n",
       "      <th>4</th>\n",
       "      <td>1960-10-10 20:00:00</td>\n",
       "      <td>kaneohe</td>\n",
       "      <td>hi</td>\n",
       "      <td>us</td>\n",
       "      <td>light</td>\n",
       "      <td>900.0</td>\n",
       "      <td>15 minutes</td>\n",
       "      <td>AS a Marine 1st Lt. flying an FJ4B fighter/att...</td>\n",
       "      <td>2004-01-22</td>\n",
       "      <td>21.418056</td>\n",
       "      <td>-157.803611</td>\n",
       "    </tr>\n",
       "    <tr>\n",
       "      <th>...</th>\n",
       "      <td>...</td>\n",
       "      <td>...</td>\n",
       "      <td>...</td>\n",
       "      <td>...</td>\n",
       "      <td>...</td>\n",
       "      <td>...</td>\n",
       "      <td>...</td>\n",
       "      <td>...</td>\n",
       "      <td>...</td>\n",
       "      <td>...</td>\n",
       "      <td>...</td>\n",
       "    </tr>\n",
       "    <tr>\n",
       "      <th>80327</th>\n",
       "      <td>2013-09-09 21:15:00</td>\n",
       "      <td>nashville</td>\n",
       "      <td>tn</td>\n",
       "      <td>us</td>\n",
       "      <td>light</td>\n",
       "      <td>600.0</td>\n",
       "      <td>10 minutes</td>\n",
       "      <td>Round from the distance/slowly changing colors...</td>\n",
       "      <td>2013-09-30</td>\n",
       "      <td>36.165833</td>\n",
       "      <td>-86.784444</td>\n",
       "    </tr>\n",
       "    <tr>\n",
       "      <th>80328</th>\n",
       "      <td>2013-09-09 22:00:00</td>\n",
       "      <td>boise</td>\n",
       "      <td>id</td>\n",
       "      <td>us</td>\n",
       "      <td>circle</td>\n",
       "      <td>1200.0</td>\n",
       "      <td>20 minutes</td>\n",
       "      <td>Boise&amp;#44 ID&amp;#44 spherical&amp;#44 20 min&amp;#44 10 r...</td>\n",
       "      <td>2013-09-30</td>\n",
       "      <td>43.613611</td>\n",
       "      <td>-116.202500</td>\n",
       "    </tr>\n",
       "    <tr>\n",
       "      <th>80329</th>\n",
       "      <td>2013-09-09 22:00:00</td>\n",
       "      <td>napa</td>\n",
       "      <td>ca</td>\n",
       "      <td>us</td>\n",
       "      <td>other</td>\n",
       "      <td>1200.0</td>\n",
       "      <td>hour</td>\n",
       "      <td>Napa UFO&amp;#44</td>\n",
       "      <td>2013-09-30</td>\n",
       "      <td>38.297222</td>\n",
       "      <td>-122.284444</td>\n",
       "    </tr>\n",
       "    <tr>\n",
       "      <th>80330</th>\n",
       "      <td>2013-09-09 22:20:00</td>\n",
       "      <td>vienna</td>\n",
       "      <td>va</td>\n",
       "      <td>us</td>\n",
       "      <td>circle</td>\n",
       "      <td>5.0</td>\n",
       "      <td>5 seconds</td>\n",
       "      <td>Saw a five gold lit cicular craft moving fastl...</td>\n",
       "      <td>2013-09-30</td>\n",
       "      <td>38.901111</td>\n",
       "      <td>-77.265556</td>\n",
       "    </tr>\n",
       "    <tr>\n",
       "      <th>80331</th>\n",
       "      <td>2013-09-09 23:00:00</td>\n",
       "      <td>edmond</td>\n",
       "      <td>ok</td>\n",
       "      <td>us</td>\n",
       "      <td>cigar</td>\n",
       "      <td>1020.0</td>\n",
       "      <td>17 minutes</td>\n",
       "      <td>2 witnesses 2  miles apart&amp;#44 Red &amp;amp; White...</td>\n",
       "      <td>2013-09-30</td>\n",
       "      <td>35.652778</td>\n",
       "      <td>-97.477778</td>\n",
       "    </tr>\n",
       "  </tbody>\n",
       "</table>\n",
       "<p>80332 rows × 11 columns</p>\n",
       "</div>"
      ],
      "text/plain": [
       "                     date                  city    state  country     shape  \\\n",
       "0     1949-10-10 20:30:00            san marcos       tx       us  cylinder   \n",
       "1     1949-10-10 21:00:00          lackland afb       tx  unknown     light   \n",
       "2     1955-10-10 17:00:00  chester (uk/england)  unknown       gb    circle   \n",
       "3     1956-10-10 21:00:00                  edna       tx       us    circle   \n",
       "4     1960-10-10 20:00:00               kaneohe       hi       us     light   \n",
       "...                   ...                   ...      ...      ...       ...   \n",
       "80327 2013-09-09 21:15:00             nashville       tn       us     light   \n",
       "80328 2013-09-09 22:00:00                 boise       id       us    circle   \n",
       "80329 2013-09-09 22:00:00                  napa       ca       us     other   \n",
       "80330 2013-09-09 22:20:00                vienna       va       us    circle   \n",
       "80331 2013-09-09 23:00:00                edmond       ok       us     cigar   \n",
       "\n",
       "       duration_seconds    duration  \\\n",
       "0                2700.0  45 minutes   \n",
       "1                7200.0     1-2 hrs   \n",
       "2                  20.0  20 seconds   \n",
       "3                  20.0    1/2 hour   \n",
       "4                 900.0  15 minutes   \n",
       "...                 ...         ...   \n",
       "80327             600.0  10 minutes   \n",
       "80328            1200.0  20 minutes   \n",
       "80329            1200.0        hour   \n",
       "80330               5.0   5 seconds   \n",
       "80331            1020.0  17 minutes   \n",
       "\n",
       "                                                 comment report_date  \\\n",
       "0      This event took place in early fall around 194...  2004-04-27   \n",
       "1      1949 Lackland AFB&#44 TX.  Lights racing acros...  2005-12-16   \n",
       "2      Green/Orange circular disc over Chester&#44 En...  2008-01-21   \n",
       "3      My older brother and twin sister were leaving ...  2004-01-17   \n",
       "4      AS a Marine 1st Lt. flying an FJ4B fighter/att...  2004-01-22   \n",
       "...                                                  ...         ...   \n",
       "80327  Round from the distance/slowly changing colors...  2013-09-30   \n",
       "80328  Boise&#44 ID&#44 spherical&#44 20 min&#44 10 r...  2013-09-30   \n",
       "80329                                       Napa UFO&#44  2013-09-30   \n",
       "80330  Saw a five gold lit cicular craft moving fastl...  2013-09-30   \n",
       "80331  2 witnesses 2  miles apart&#44 Red &amp; White...  2013-09-30   \n",
       "\n",
       "        latitude   longitude  \n",
       "0      29.883056  -97.941111  \n",
       "1      29.384210  -98.581082  \n",
       "2      53.200000   -2.916667  \n",
       "3      28.978333  -96.645833  \n",
       "4      21.418056 -157.803611  \n",
       "...          ...         ...  \n",
       "80327  36.165833  -86.784444  \n",
       "80328  43.613611 -116.202500  \n",
       "80329  38.297222 -122.284444  \n",
       "80330  38.901111  -77.265556  \n",
       "80331  35.652778  -97.477778  \n",
       "\n",
       "[80332 rows x 11 columns]"
      ]
     },
     "execution_count": 135,
     "metadata": {},
     "output_type": "execute_result"
    }
   ],
   "source": [
    "ufos"
   ]
  },
  {
   "cell_type": "markdown",
   "id": "regular-juice",
   "metadata": {},
   "source": [
    "For your \"prototyping\" phase of creating your viz, maybe you only want to use a subset of this (large!) dataset.\n",
    "\n",
    "So what we'll do is \"downsample\" our dataset by taking a random sample of these rows."
   ]
  },
  {
   "cell_type": "code",
   "execution_count": 136,
   "id": "third-elite",
   "metadata": {},
   "outputs": [],
   "source": [
    "nSamples = 1000"
   ]
  },
  {
   "cell_type": "code",
   "execution_count": 148,
   "id": "faced-delay",
   "metadata": {},
   "outputs": [],
   "source": [
    "np.random.seed(0)\n",
    "randomIndicies = np.random.choice(range(len(ufos)-1), nSamples, replace=False) # replace=False is to not double count indicies"
   ]
  },
  {
   "cell_type": "code",
   "execution_count": 149,
   "id": "greek-bermuda",
   "metadata": {},
   "outputs": [
    {
     "data": {
      "text/plain": [
       "array([59392, 44710, 74346, 17220, 71553,  2686, 63550, 11290, 53115,\n",
       "       45579, 46020, 45857, 60328, 57359, 74744, 43284, 64258, 35423,\n",
       "       33090,  8346, 33359, 35453, 31879, 68976, 47926, 60163, 64738,\n",
       "       12477, 45221, 40544, 31016, 19272, 40378, 18211, 46304, 76960,\n",
       "       11410, 78335, 65672, 49901, 58150,  8258, 47074, 24277, 69838,\n",
       "       18770, 49336, 37090, 21980, 61250, 67384, 70890, 63258, 53862,\n",
       "       25007,  7761, 44160, 80094, 21279, 58043, 35380, 63306, 69489,\n",
       "       10278, 47236, 25660, 49471, 35408, 60907, 33563, 24697, 36608,\n",
       "       27633,  1599,  5217,  7771, 16394, 54366, 74474, 17770,  2515,\n",
       "       37384, 68949, 15451, 10284, 26037, 42655, 69408, 63093, 57183,\n",
       "       17028, 31328,  2841, 78722, 39663, 78001, 54974, 24966, 77951,\n",
       "       22517, 16737, 21288, 57374, 14914, 50034, 43162, 59987, 13421,\n",
       "       60492, 73975, 20184, 21242, 48277, 77813,   216, 53320, 23463,\n",
       "       40504, 41040, 26008, 44590,  6735, 16066, 63755, 71337, 71081,\n",
       "       65109,  9214,  9351, 54969, 63712, 64727, 72844, 15193, 31424,\n",
       "       43356,  2760, 10890, 68156, 66785, 22500, 61109, 69858, 12582,\n",
       "         729, 33316, 54733, 20213, 52661, 11320, 21261, 18831, 43619,\n",
       "       59427, 28298, 19329, 33388, 43072, 66636, 26495, 49479, 17958,\n",
       "       71344,  2065, 46389, 79274, 44508, 65545, 72737, 59163, 55791,\n",
       "       47059,  8818, 79011, 42378, 41114, 21328, 10612, 16665, 45724,\n",
       "        7030, 33053, 69589, 59716, 46979, 14047, 36797, 18620, 15266,\n",
       "       17252, 11698, 15532, 58139, 10539, 74244, 61205, 32123, 71761,\n",
       "       61567, 53786, 55140, 71941, 18926, 12869, 17749, 16532, 11384,\n",
       "       42567, 17561, 24551, 41169, 21471, 15292, 36248, 20689, 12043,\n",
       "       37522,  2955, 22648, 27458, 46606, 16093, 80099,  8013, 44134,\n",
       "       15660, 38557,  7888, 33902, 42295, 79218, 11844,  5099, 52028,\n",
       "       19734, 66548, 55577, 35532, 71106, 75002, 48515, 29571,  5837,\n",
       "       48111, 56056, 39065, 56847, 72361, 21923, 64060,  2874, 63590,\n",
       "       79084, 34569, 39017, 30383, 29501, 44212, 73071, 68574, 26067,\n",
       "       20226, 31124, 69054, 23393, 56025,  3613, 76836,  4869, 44575,\n",
       "       23586, 38700, 39321, 79963, 71635, 79051, 77067,   380, 38133,\n",
       "       70591,  4898, 16337, 28303, 63476, 23508,  1481, 60316, 39563,\n",
       "        1003, 78755, 41912, 75589, 79871, 10170, 27631, 32541, 33006,\n",
       "       38716, 77986, 26876, 30052, 20728, 65977, 24711, 38683, 70278,\n",
       "        8539, 60877,  9427, 22873, 69522, 53129, 27597,  7768,  3787,\n",
       "       37259, 72296, 76890, 70855,  1702, 49962, 11770, 42358, 12321,\n",
       "       56240, 28547,  5723, 52057, 49886, 25831, 43719, 66877, 40590,\n",
       "       58516, 57624, 37244, 71799, 64937, 78896, 73707, 28010, 55520,\n",
       "       11732, 74910, 25594,  2695,  3343, 35366, 41897, 19251, 65038,\n",
       "       41479, 17223,  2063, 34358, 65030, 34137, 48898, 25265, 79785,\n",
       "       28636,  1717, 78448,  2921, 25871, 16635, 43414, 12984, 11235,\n",
       "       56026,  8461, 57165, 45596, 66679, 56742, 78958, 19277, 67823,\n",
       "       43891,    51, 71815, 20413, 29228, 68054, 16656, 52229,  7407,\n",
       "       28643, 16446, 66153, 38984, 37798, 47040,  4178, 70227,  5854,\n",
       "       28562, 25412, 71270, 18095,  6558,  6770, 57177, 13590, 40303,\n",
       "       57791, 71980, 16391, 40065, 72568, 59088, 37407, 10339, 37934,\n",
       "       13567, 34408, 66139,  6528,  5572, 31208, 79220, 62011, 60113,\n",
       "       45420, 33106, 22055, 55337, 68145, 21249,  5921, 27859, 61517,\n",
       "       76634, 78287,  7170, 10938, 23347,  9920, 53339, 44312,  4064,\n",
       "       29484,  4076, 66960, 65361, 48038,  5711,  1771, 24446, 65414,\n",
       "        5740,  9744,   305,  5582, 72647, 58088, 58643, 45471, 77370,\n",
       "       32536, 57158, 50399, 73504, 72478, 16602, 53650, 53133, 64528,\n",
       "       51669, 36872, 70992, 38520, 51164, 74751, 63767,  4831, 54696,\n",
       "       52639, 61542, 55162, 66819,  9084, 75596, 61539, 71088, 74799,\n",
       "       30137,  5551, 41772, 13524, 50589, 66625, 39438, 39672,  3242,\n",
       "       25087, 66463,  2344, 66237, 12175, 73510, 57778, 47425, 28815,\n",
       "       30957, 70705, 58807, 75539,  2696, 61738, 56477, 23384, 17915,\n",
       "       53282, 34956, 18202, 64335, 66367, 12713, 65412, 18465, 46867,\n",
       "       65345, 37123, 44490,  2785, 54472, 77702, 31072,  6945,  1700,\n",
       "       36759, 67539, 40006, 40582,  5224, 62564,  5898, 15903, 22810,\n",
       "       47580,  7341, 29766,  7875, 49439, 56592, 64150, 72282, 77949,\n",
       "       31066, 39977,  9258,   962, 49958, 70811, 76753, 67721, 56855,\n",
       "       10761, 18073, 11726,  4141, 12705, 25506, 25454, 41904, 52454,\n",
       "       51728, 49629, 18818, 68366, 27022, 57509, 69138, 36172, 63058,\n",
       "       31088, 66937, 44029, 71546, 57136, 38061,  3546, 30292, 52012,\n",
       "       25641, 34516, 18224, 71045, 45416,  1806, 67454, 19570, 71100,\n",
       "       48744, 76157, 51242, 29299, 18155, 40707,  9486, 49240, 31118,\n",
       "       58756, 11276, 49495, 26670, 60890, 72926, 36648, 25870, 31643,\n",
       "       43758, 18362, 77922, 23635, 24221, 52868, 74396, 57163, 23237,\n",
       "       59439, 39108, 24872, 57698, 63490, 33736, 17677,  2675, 74195,\n",
       "       61367, 36610, 18418, 20616, 53156, 65220, 55807,  6580, 63102,\n",
       "        9402, 38508, 47094, 28278, 31274, 26398, 67038, 29393, 74404,\n",
       "       71372, 76768, 39819, 32980, 31510, 44884, 70110, 58822, 13906,\n",
       "       68002, 52157, 27602, 65694, 25962, 27447, 20493, 71993, 35696,\n",
       "       28349, 67155, 42855, 43793, 64665, 54053, 11385,  4284, 23581,\n",
       "        3772, 76785, 69609, 30024,  4405, 40965,  5691, 31944, 75124,\n",
       "       30212,  6682, 76691, 45954, 52666, 29109, 63573, 60213, 70681,\n",
       "       25471, 32965, 19983, 58261, 38897, 51731,  2765, 33910, 31860,\n",
       "       45082, 62402, 53676, 24048, 12020, 31065, 26232, 48526, 72460,\n",
       "       64271, 18247, 42527, 33526, 34947, 64922, 50513,  7423, 47452,\n",
       "       27349, 45456, 30861, 75513,  1364, 63355, 68102, 28317, 12501,\n",
       "        1562, 16574, 40296, 34020, 71037, 69741, 78881, 31435, 14200,\n",
       "        5599, 74895, 57987, 14433, 18689, 53497, 77243, 55833, 36090,\n",
       "       61884, 19104, 46472, 19016, 53675,  9414, 10003, 19530, 52388,\n",
       "       67218, 28484, 37213,  3084,  5618, 40751, 53748, 14618, 52208,\n",
       "       46099, 75208, 20822, 16457, 66365, 22341, 78040, 42962, 74056,\n",
       "       52738, 62798,  9054, 78118, 16698, 63567, 44289,   439, 39415,\n",
       "       61814, 69096,  7110, 19573, 40379, 42161, 48853,  4400, 20518,\n",
       "       15768, 24121, 35912, 43158, 75916, 29246, 74944, 30423, 33808,\n",
       "       24788, 11512, 44793, 22059, 18256, 18076, 41785, 60998, 43784,\n",
       "       22259, 30095, 69859, 14382, 59521, 68733, 30256, 79809, 28654,\n",
       "        7818, 14806, 42313, 14521, 32988, 31409,  4534, 35624, 12757,\n",
       "       73090,  6680, 41492, 46756,  8122, 58724, 66547, 54385, 76494,\n",
       "        3081, 76108, 36487,   857, 36003, 35075,  9315, 28203, 39670,\n",
       "       64847, 33752, 54783, 74891, 68543, 76177, 18841, 34286, 64597,\n",
       "       36703, 66516, 35592, 24535, 21598, 60816, 74957, 57780, 31641,\n",
       "       20074, 59035, 12856, 75808,  5966, 31801, 20667, 26814, 30440,\n",
       "       69900, 54480, 63963, 60402, 67805, 34384, 31846, 74478,  7404,\n",
       "       80181, 39384, 54960, 44157,  6821, 80124, 37830, 71804, 29171,\n",
       "       28625, 66316, 26479, 61958, 72438, 72999, 33080, 49379, 42791,\n",
       "       39968, 25672,  9219, 10793, 12832, 10739, 17375,  9745,  3786,\n",
       "       12854, 50231, 50007,  2020, 48206,  6321, 65566, 10087, 21740,\n",
       "       33210, 51027, 35333, 17325, 57798, 67296,  3473, 55200, 72638,\n",
       "       16835, 59838, 59220, 79356, 24484, 77556,  3778, 40314,  3707,\n",
       "       21081,  5095, 54312, 38035, 29222, 32745, 51349, 60936, 23055,\n",
       "       48078, 21252,  4391, 29634, 23760, 48063, 61148, 11673, 75015,\n",
       "       67766, 66125, 53604, 34755, 29120, 51065,  4320, 14554, 35566,\n",
       "        9732, 78518, 42163, 58459, 74730, 33832, 79039, 71078, 72761,\n",
       "       40586, 59996,  7946, 72924, 69738, 53998, 17809, 41097, 42493,\n",
       "       46408, 62681, 66649, 39803, 11049, 18223, 64666, 11746, 76111,\n",
       "       32476, 12951, 56844, 42101,  3909, 71284, 15585, 25568, 41284,\n",
       "       66165])"
      ]
     },
     "execution_count": 149,
     "metadata": {},
     "output_type": "execute_result"
    }
   ],
   "source": [
    "randomIndicies"
   ]
  },
  {
   "cell_type": "code",
   "execution_count": 150,
   "id": "caring-impossible",
   "metadata": {},
   "outputs": [],
   "source": [
    "ufosDS = ufos.loc[randomIndicies]"
   ]
  },
  {
   "cell_type": "code",
   "execution_count": 151,
   "id": "detected-animation",
   "metadata": {},
   "outputs": [
    {
     "data": {
      "text/html": [
       "<div>\n",
       "<style scoped>\n",
       "    .dataframe tbody tr th:only-of-type {\n",
       "        vertical-align: middle;\n",
       "    }\n",
       "\n",
       "    .dataframe tbody tr th {\n",
       "        vertical-align: top;\n",
       "    }\n",
       "\n",
       "    .dataframe thead th {\n",
       "        text-align: right;\n",
       "    }\n",
       "</style>\n",
       "<table border=\"1\" class=\"dataframe\">\n",
       "  <thead>\n",
       "    <tr style=\"text-align: right;\">\n",
       "      <th></th>\n",
       "      <th>date</th>\n",
       "      <th>city</th>\n",
       "      <th>state</th>\n",
       "      <th>country</th>\n",
       "      <th>shape</th>\n",
       "      <th>duration_seconds</th>\n",
       "      <th>duration</th>\n",
       "      <th>comment</th>\n",
       "      <th>report_date</th>\n",
       "      <th>latitude</th>\n",
       "      <th>longitude</th>\n",
       "    </tr>\n",
       "  </thead>\n",
       "  <tbody>\n",
       "    <tr>\n",
       "      <th>59392</th>\n",
       "      <td>2001-07-24 10:00:00</td>\n",
       "      <td>ocean city</td>\n",
       "      <td>md</td>\n",
       "      <td>us</td>\n",
       "      <td>flash</td>\n",
       "      <td>1.0</td>\n",
       "      <td>1 second</td>\n",
       "      <td>flash of light&amp;#33 possibly abduction&amp;#33</td>\n",
       "      <td>2006-05-15</td>\n",
       "      <td>38.336389</td>\n",
       "      <td>-75.085278</td>\n",
       "    </tr>\n",
       "    <tr>\n",
       "      <th>44710</th>\n",
       "      <td>2001-05-28 18:45:00</td>\n",
       "      <td>waynesburg</td>\n",
       "      <td>oh</td>\n",
       "      <td>us</td>\n",
       "      <td>chevron</td>\n",
       "      <td>60.0</td>\n",
       "      <td>1 minute</td>\n",
       "      <td>UFO sighting of boomerang in Ohio during Dayli...</td>\n",
       "      <td>2011-10-10</td>\n",
       "      <td>40.667778</td>\n",
       "      <td>-81.257500</td>\n",
       "    </tr>\n",
       "    <tr>\n",
       "      <th>74346</th>\n",
       "      <td>2004-09-14 20:45:00</td>\n",
       "      <td>dallas</td>\n",
       "      <td>tx</td>\n",
       "      <td>us</td>\n",
       "      <td>light</td>\n",
       "      <td>2.0</td>\n",
       "      <td>2 seconds</td>\n",
       "      <td>travelling southbound on Highway 67&amp;#44 I saw ...</td>\n",
       "      <td>2004-09-29</td>\n",
       "      <td>32.783333</td>\n",
       "      <td>-96.800000</td>\n",
       "    </tr>\n",
       "    <tr>\n",
       "      <th>17220</th>\n",
       "      <td>2013-12-11 18:25:00</td>\n",
       "      <td>powell</td>\n",
       "      <td>wy</td>\n",
       "      <td>us</td>\n",
       "      <td>chevron</td>\n",
       "      <td>10.0</td>\n",
       "      <td>~10 seconds</td>\n",
       "      <td>Bright flashes in north sky...</td>\n",
       "      <td>2013-12-12</td>\n",
       "      <td>44.753889</td>\n",
       "      <td>-108.756667</td>\n",
       "    </tr>\n",
       "    <tr>\n",
       "      <th>71553</th>\n",
       "      <td>1996-08-05 00:30:00</td>\n",
       "      <td>tel aviv (israel)</td>\n",
       "      <td>unknown</td>\n",
       "      <td>unknown</td>\n",
       "      <td>sphere</td>\n",
       "      <td>7200.0</td>\n",
       "      <td>2 hours</td>\n",
       "      <td>500 witnesses + TV cameras + army presence in ...</td>\n",
       "      <td>2008-07-05</td>\n",
       "      <td>32.085300</td>\n",
       "      <td>34.781768</td>\n",
       "    </tr>\n",
       "    <tr>\n",
       "      <th>...</th>\n",
       "      <td>...</td>\n",
       "      <td>...</td>\n",
       "      <td>...</td>\n",
       "      <td>...</td>\n",
       "      <td>...</td>\n",
       "      <td>...</td>\n",
       "      <td>...</td>\n",
       "      <td>...</td>\n",
       "      <td>...</td>\n",
       "      <td>...</td>\n",
       "      <td>...</td>\n",
       "    </tr>\n",
       "    <tr>\n",
       "      <th>71284</th>\n",
       "      <td>2013-08-03 23:30:00</td>\n",
       "      <td>new richmond</td>\n",
       "      <td>wi</td>\n",
       "      <td>us</td>\n",
       "      <td>light</td>\n",
       "      <td>300.0</td>\n",
       "      <td>5 minutes</td>\n",
       "      <td>Amber colored light in New Richmond&amp;#44 Wi.</td>\n",
       "      <td>2013-08-30</td>\n",
       "      <td>45.123056</td>\n",
       "      <td>-92.536389</td>\n",
       "    </tr>\n",
       "    <tr>\n",
       "      <th>15585</th>\n",
       "      <td>2003-11-07 00:00:00</td>\n",
       "      <td>livingston</td>\n",
       "      <td>mt</td>\n",
       "      <td>us</td>\n",
       "      <td>fireball</td>\n",
       "      <td>5.0</td>\n",
       "      <td>5 seconds</td>\n",
       "      <td>Round green sphere&amp;#44 dropping beind the moun...</td>\n",
       "      <td>2003-11-11</td>\n",
       "      <td>45.662500</td>\n",
       "      <td>-110.560278</td>\n",
       "    </tr>\n",
       "    <tr>\n",
       "      <th>25568</th>\n",
       "      <td>2005-02-10 19:50:00</td>\n",
       "      <td>new york city</td>\n",
       "      <td>ny</td>\n",
       "      <td>us</td>\n",
       "      <td>light</td>\n",
       "      <td>20.0</td>\n",
       "      <td>20 seconds</td>\n",
       "      <td>out my window in nyc i saw two very distinct s...</td>\n",
       "      <td>2005-04-16</td>\n",
       "      <td>40.714167</td>\n",
       "      <td>-74.006389</td>\n",
       "    </tr>\n",
       "    <tr>\n",
       "      <th>41284</th>\n",
       "      <td>2009-05-10 21:29:00</td>\n",
       "      <td>milpitas</td>\n",
       "      <td>ca</td>\n",
       "      <td>us</td>\n",
       "      <td>sphere</td>\n",
       "      <td>15.0</td>\n",
       "      <td>15 sec</td>\n",
       "      <td>Ufo Milpitas</td>\n",
       "      <td>2009-05-12</td>\n",
       "      <td>37.428333</td>\n",
       "      <td>-121.905556</td>\n",
       "    </tr>\n",
       "    <tr>\n",
       "      <th>66165</th>\n",
       "      <td>1965-08-15 20:45:00</td>\n",
       "      <td>oneonta</td>\n",
       "      <td>ny</td>\n",
       "      <td>us</td>\n",
       "      <td>oval</td>\n",
       "      <td>600.0</td>\n",
       "      <td>10 minutes</td>\n",
       "      <td>Large Illuminated Oval Disk -  Oneonta NY - 1965</td>\n",
       "      <td>2012-04-18</td>\n",
       "      <td>42.452778</td>\n",
       "      <td>-75.064167</td>\n",
       "    </tr>\n",
       "  </tbody>\n",
       "</table>\n",
       "<p>1000 rows × 11 columns</p>\n",
       "</div>"
      ],
      "text/plain": [
       "                     date               city    state  country     shape  \\\n",
       "59392 2001-07-24 10:00:00         ocean city       md       us     flash   \n",
       "44710 2001-05-28 18:45:00         waynesburg       oh       us   chevron   \n",
       "74346 2004-09-14 20:45:00             dallas       tx       us     light   \n",
       "17220 2013-12-11 18:25:00             powell       wy       us   chevron   \n",
       "71553 1996-08-05 00:30:00  tel aviv (israel)  unknown  unknown    sphere   \n",
       "...                   ...                ...      ...      ...       ...   \n",
       "71284 2013-08-03 23:30:00       new richmond       wi       us     light   \n",
       "15585 2003-11-07 00:00:00         livingston       mt       us  fireball   \n",
       "25568 2005-02-10 19:50:00      new york city       ny       us     light   \n",
       "41284 2009-05-10 21:29:00           milpitas       ca       us    sphere   \n",
       "66165 1965-08-15 20:45:00            oneonta       ny       us      oval   \n",
       "\n",
       "       duration_seconds     duration  \\\n",
       "59392               1.0     1 second   \n",
       "44710              60.0     1 minute   \n",
       "74346               2.0    2 seconds   \n",
       "17220              10.0  ~10 seconds   \n",
       "71553            7200.0      2 hours   \n",
       "...                 ...          ...   \n",
       "71284             300.0    5 minutes   \n",
       "15585               5.0    5 seconds   \n",
       "25568              20.0   20 seconds   \n",
       "41284              15.0       15 sec   \n",
       "66165             600.0   10 minutes   \n",
       "\n",
       "                                                 comment report_date  \\\n",
       "59392          flash of light&#33 possibly abduction&#33  2006-05-15   \n",
       "44710  UFO sighting of boomerang in Ohio during Dayli...  2011-10-10   \n",
       "74346  travelling southbound on Highway 67&#44 I saw ...  2004-09-29   \n",
       "17220                     Bright flashes in north sky...  2013-12-12   \n",
       "71553  500 witnesses + TV cameras + army presence in ...  2008-07-05   \n",
       "...                                                  ...         ...   \n",
       "71284        Amber colored light in New Richmond&#44 Wi.  2013-08-30   \n",
       "15585  Round green sphere&#44 dropping beind the moun...  2003-11-11   \n",
       "25568  out my window in nyc i saw two very distinct s...  2005-04-16   \n",
       "41284                                       Ufo Milpitas  2009-05-12   \n",
       "66165   Large Illuminated Oval Disk -  Oneonta NY - 1965  2012-04-18   \n",
       "\n",
       "        latitude   longitude  \n",
       "59392  38.336389  -75.085278  \n",
       "44710  40.667778  -81.257500  \n",
       "74346  32.783333  -96.800000  \n",
       "17220  44.753889 -108.756667  \n",
       "71553  32.085300   34.781768  \n",
       "...          ...         ...  \n",
       "71284  45.123056  -92.536389  \n",
       "15585  45.662500 -110.560278  \n",
       "25568  40.714167  -74.006389  \n",
       "41284  37.428333 -121.905556  \n",
       "66165  42.452778  -75.064167  \n",
       "\n",
       "[1000 rows x 11 columns]"
      ]
     },
     "execution_count": 151,
     "metadata": {},
     "output_type": "execute_result"
    }
   ],
   "source": [
    "ufosDS"
   ]
  },
  {
   "cell_type": "code",
   "execution_count": 152,
   "id": "representative-group",
   "metadata": {},
   "outputs": [
    {
     "data": {
      "image/png": "[encoded data removed]",
      "text/plain": [
       "<Figure size 432x288 with 1 Axes>"
      ]
     },
     "metadata": {
      "needs_background": "light"
     },
     "output_type": "display_data"
    }
   ],
   "source": [
    "plt.plot(ufos['longitude'], ufos['latitude'],'.') # non downsampled\n",
    "plt.show()"
   ]
  },
  {
   "cell_type": "code",
   "execution_count": 154,
   "id": "encouraging-commons",
   "metadata": {},
   "outputs": [
    {
     "data": {
      "image/png": "[encoded data removed]",
      "text/plain": [
       "<Figure size 432x288 with 1 Axes>"
      ]
     },
     "metadata": {
      "needs_background": "light"
     },
     "output_type": "display_data"
    }
   ],
   "source": [
    "plt.plot(ufosDS['longitude'], ufosDS['latitude'],'.')\n",
    "plt.show()"
   ]
  },
  {
   "cell_type": "markdown",
   "id": "vanilla-front",
   "metadata": {},
   "source": [
    "Making scatter plot a little fancier:"
   ]
  },
  {
   "cell_type": "code",
   "execution_count": 155,
   "id": "narrative-robert",
   "metadata": {},
   "outputs": [
    {
     "data": {
      "text/plain": [
       "<matplotlib.collections.PathCollection at 0x7f83e0567690>"
      ]
     },
     "execution_count": 155,
     "metadata": {},
     "output_type": "execute_result"
    },
    {
     "data": {
      "image/png": "[encoded data removed]",
      "text/plain": [
       "<Figure size 432x288 with 1 Axes>"
      ]
     },
     "metadata": {
      "needs_background": "light"
     },
     "output_type": "display_data"
    }
   ],
   "source": [
    "plt.scatter(ufosDS['longitude'], ufosDS['latitude'], \n",
    "           c=np.log10(ufosDS['duration_seconds']), cmap='rainbow')"
   ]
  },
  {
   "cell_type": "markdown",
   "id": "powerful-macro",
   "metadata": {},
   "source": [
    "Also use pandas to make plots from this dataframe as well:"
   ]
  },
  {
   "cell_type": "code",
   "execution_count": 157,
   "id": "direct-mongolia",
   "metadata": {},
   "outputs": [
    {
     "data": {
      "image/png": "[encoded data removed]",
      "text/plain": [
       "<Figure size 1440x360 with 1 Axes>"
      ]
     },
     "metadata": {
      "needs_background": "light"
     },
     "output_type": "display_data"
    }
   ],
   "source": [
    "fig, ax = plt.subplots(figsize=(20,5))\n",
    "ufosDS.hist(column='longitude',ax=ax)\n",
    "plt.show()"
   ]
  },
  {
   "cell_type": "code",
   "execution_count": 196,
   "id": "royal-evolution",
   "metadata": {},
   "outputs": [
    {
     "data": {
      "image/png": "[encoded data removed]",
      "text/plain": [
       "<Figure size 1440x360 with 1 Axes>"
      ]
     },
     "metadata": {
      "needs_background": "light"
     },
     "output_type": "display_data"
    }
   ],
   "source": [
    "fig, ax = plt.subplots(figsize=(20,5))\n",
    "ufosDS.hist(column='longitude',ax=ax, bins=20)\n",
    "plt.show()"
   ]
  },
  {
   "cell_type": "code",
   "execution_count": 195,
   "id": "editorial-italy",
   "metadata": {},
   "outputs": [],
   "source": [
    "ufosDS.hist?"
   ]
  },
  {
   "cell_type": "code",
   "execution_count": 197,
   "id": "curious-arrow",
   "metadata": {},
   "outputs": [],
   "source": [
    "ufosDS.plot?"
   ]
  },
  {
   "cell_type": "code",
   "execution_count": null,
   "id": "undefined-scale",
   "metadata": {},
   "outputs": [],
   "source": []
  },
  {
   "cell_type": "markdown",
   "id": "tropical-resort",
   "metadata": {},
   "source": [
    "# Circling back to widgets!"
   ]
  },
  {
   "cell_type": "code",
   "execution_count": 158,
   "id": "described-cleaners",
   "metadata": {},
   "outputs": [],
   "source": [
    "ta1 = ipywidgets.Textarea(\"Hi, I am box 1\")"
   ]
  },
  {
   "cell_type": "code",
   "execution_count": 159,
   "id": "excited-swing",
   "metadata": {},
   "outputs": [
    {
     "data": {
      "application/vnd.jupyter.widget-view+json": {
       "model_id": "abdf929a2a6e4488ad266e54067e9de9",
       "version_major": 2,
       "version_minor": 0
      },
      "text/plain": [
       "Textarea(value='Hi, I am box 1')"
      ]
     },
     "metadata": {},
     "output_type": "display_data"
    }
   ],
   "source": [
    "ta1"
   ]
  },
  {
   "cell_type": "code",
   "execution_count": 160,
   "id": "ruled-anniversary",
   "metadata": {},
   "outputs": [],
   "source": [
    "ta2 = ipywidgets.Textarea(\"Hi, I am box 2\")\n",
    "ta3 = ipywidgets.Textarea(\"Hi, I am box 3\")\n",
    "ta4 = ipywidgets.Textarea(\"Hi, I am box 4\")"
   ]
  },
  {
   "cell_type": "code",
   "execution_count": 161,
   "id": "other-static",
   "metadata": {},
   "outputs": [
    {
     "data": {
      "application/vnd.jupyter.widget-view+json": {
       "model_id": "06a467b69db1473e8b7495527cf4a36c",
       "version_major": 2,
       "version_minor": 0
      },
      "text/plain": [
       "Tab(children=(Textarea(value='Other stuff!\\n'), Textarea(value='Hi, I am box 2'), Textarea(value='Hi, I am box…"
      ]
     },
     "metadata": {},
     "output_type": "display_data"
    }
   ],
   "source": [
    "tabs = ipywidgets.Tab([ta1, ta2, ta3, ta4])\n",
    "tabs"
   ]
  },
  {
   "cell_type": "code",
   "execution_count": 163,
   "id": "posted-saint",
   "metadata": {},
   "outputs": [
    {
     "data": {
      "application/vnd.jupyter.widget-view+json": {
       "model_id": "6ae217f0f9744735aaf9eb973b114d34",
       "version_major": 2,
       "version_minor": 0
      },
      "text/plain": [
       "Accordion(children=(Textarea(value='Other stuff!\\n'), Textarea(value='Hi, I am box 2'), Textarea(value='Hi, I …"
      ]
     },
     "metadata": {},
     "output_type": "display_data"
    }
   ],
   "source": [
    "acc = ipywidgets.Accordion([ta1, ta2, ta3, ta4])\n",
    "acc"
   ]
  },
  {
   "cell_type": "code",
   "execution_count": 164,
   "id": "combined-revelation",
   "metadata": {},
   "outputs": [
    {
     "data": {
      "application/vnd.jupyter.widget-view+json": {
       "model_id": "0aac62969dfa424096af02df698cd76f",
       "version_major": 2,
       "version_minor": 0
      },
      "text/plain": [
       "HBox(children=(Textarea(value='Other stuff!\\n'), Textarea(value='Hi, I am box 2'), Textarea(value='Hi, I am bo…"
      ]
     },
     "metadata": {},
     "output_type": "display_data"
    }
   ],
   "source": [
    "ipywidgets.HBox([ta1, ta2, ta3, ta4])"
   ]
  },
  {
   "cell_type": "code",
   "execution_count": 165,
   "id": "celtic-prayer",
   "metadata": {},
   "outputs": [
    {
     "data": {
      "application/vnd.jupyter.widget-view+json": {
       "model_id": "787c356ccf724cbd89d62734f10152ab",
       "version_major": 2,
       "version_minor": 0
      },
      "text/plain": [
       "VBox(children=(Textarea(value='Other stuff!\\n'), Textarea(value='Hi, I am box 2'), Textarea(value='Hi, I am bo…"
      ]
     },
     "metadata": {},
     "output_type": "display_data"
    }
   ],
   "source": [
    "ipywidgets.VBox([ta1, ta2, ta3, ta4])"
   ]
  },
  {
   "cell_type": "code",
   "execution_count": 166,
   "id": "dirty-eating",
   "metadata": {},
   "outputs": [],
   "source": [
    "box1 = ipywidgets.HBox([ta1, ta2])\n",
    "box2 = ipywidgets.HBox([ta3,ta4])"
   ]
  },
  {
   "cell_type": "code",
   "execution_count": 167,
   "id": "inner-sandwich",
   "metadata": {},
   "outputs": [
    {
     "data": {
      "application/vnd.jupyter.widget-view+json": {
       "model_id": "02ec718ab7f44dca86270a2e9a44fdf3",
       "version_major": 2,
       "version_minor": 0
      },
      "text/plain": [
       "HBox(children=(Textarea(value='Other stuff!\\n'), Textarea(value='Hi, I am box 2')))"
      ]
     },
     "metadata": {},
     "output_type": "display_data"
    }
   ],
   "source": [
    "box1"
   ]
  },
  {
   "cell_type": "code",
   "execution_count": 168,
   "id": "unsigned-croatia",
   "metadata": {},
   "outputs": [
    {
     "data": {
      "application/vnd.jupyter.widget-view+json": {
       "model_id": "36c5c533048c4e51b3c56282203d434b",
       "version_major": 2,
       "version_minor": 0
      },
      "text/plain": [
       "HBox(children=(Textarea(value='Hi, I am box 3'), Textarea(value='Hi, I am box 4')))"
      ]
     },
     "metadata": {},
     "output_type": "display_data"
    }
   ],
   "source": [
    "box2"
   ]
  },
  {
   "cell_type": "code",
   "execution_count": 169,
   "id": "smooth-lounge",
   "metadata": {},
   "outputs": [
    {
     "data": {
      "application/vnd.jupyter.widget-view+json": {
       "model_id": "f01b8d9736434583add77c69b9a00a3b",
       "version_major": 2,
       "version_minor": 0
      },
      "text/plain": [
       "VBox(children=(HBox(children=(Textarea(value='Other stuff!\\n'), Textarea(value='Hi, I am box 2'))), HBox(child…"
      ]
     },
     "metadata": {},
     "output_type": "display_data"
    }
   ],
   "source": [
    "ipywidgets.VBox([box1, box2])"
   ]
  },
  {
   "cell_type": "code",
   "execution_count": 171,
   "id": "blind-assignment",
   "metadata": {},
   "outputs": [
    {
     "data": {
      "application/vnd.jupyter.widget-view+json": {
       "model_id": "b06bad5709b64cffad712cda1cfbaca4",
       "version_major": 2,
       "version_minor": 0
      },
      "text/plain": [
       "VBox(children=(HBox(children=(Textarea(value='Other stuff!\\n'), Textarea(value='Hi, I am box 2'))), HBox(child…"
      ]
     },
     "metadata": {},
     "output_type": "display_data"
    }
   ],
   "source": [
    "ipywidgets.VBox([ipywidgets.HBox([ta1,ta2]),ipywidgets.HBox([ta3,ta4])])"
   ]
  },
  {
   "cell_type": "code",
   "execution_count": 172,
   "id": "affected-thesaurus",
   "metadata": {},
   "outputs": [],
   "source": [
    "myLabel = ipywidgets.Label(\"Hello!\")"
   ]
  },
  {
   "cell_type": "code",
   "execution_count": 173,
   "id": "endless-month",
   "metadata": {},
   "outputs": [
    {
     "data": {
      "application/vnd.jupyter.widget-view+json": {
       "model_id": "c6ac44b06524421a9d23932a179a0e50",
       "version_major": 2,
       "version_minor": 0
      },
      "text/plain": [
       "Label(value='Hello!')"
      ]
     },
     "metadata": {},
     "output_type": "display_data"
    }
   ],
   "source": [
    "myLabel"
   ]
  },
  {
   "cell_type": "code",
   "execution_count": 174,
   "id": "associate-companion",
   "metadata": {},
   "outputs": [
    {
     "data": {
      "application/vnd.jupyter.widget-view+json": {
       "model_id": "abe0de44bc7847b78cee2e1ba2d6fffc",
       "version_major": 2,
       "version_minor": 0
      },
      "text/plain": [
       "VBox(children=(HBox(children=(Textarea(value='Other stuff!\\n'), Textarea(value='Hi, I am box 2'))), Label(valu…"
      ]
     },
     "metadata": {},
     "output_type": "display_data"
    }
   ],
   "source": [
    "ipywidgets.VBox([box1, myLabel, box2])"
   ]
  },
  {
   "cell_type": "code",
   "execution_count": 175,
   "id": "several-stable",
   "metadata": {},
   "outputs": [
    {
     "data": {
      "text/plain": [
       "['_model_module',\n",
       " '_model_module_version',\n",
       " '_model_name',\n",
       " '_view_count',\n",
       " '_view_module',\n",
       " '_view_module_version',\n",
       " '_view_name',\n",
       " 'align_content',\n",
       " 'align_items',\n",
       " 'align_self',\n",
       " 'border',\n",
       " 'bottom',\n",
       " 'display',\n",
       " 'flex',\n",
       " 'flex_flow',\n",
       " 'grid_area',\n",
       " 'grid_auto_columns',\n",
       " 'grid_auto_flow',\n",
       " 'grid_auto_rows',\n",
       " 'grid_column',\n",
       " 'grid_gap',\n",
       " 'grid_row',\n",
       " 'grid_template_areas',\n",
       " 'grid_template_columns',\n",
       " 'grid_template_rows',\n",
       " 'height',\n",
       " 'justify_content',\n",
       " 'justify_items',\n",
       " 'left',\n",
       " 'margin',\n",
       " 'max_height',\n",
       " 'max_width',\n",
       " 'min_height',\n",
       " 'min_width',\n",
       " 'object_fit',\n",
       " 'object_position',\n",
       " 'order',\n",
       " 'overflow',\n",
       " 'overflow_x',\n",
       " 'overflow_y',\n",
       " 'padding',\n",
       " 'right',\n",
       " 'top',\n",
       " 'visibility',\n",
       " 'width']"
      ]
     },
     "execution_count": 175,
     "metadata": {},
     "output_type": "execute_result"
    }
   ],
   "source": [
    "box1.layout.keys"
   ]
  },
  {
   "cell_type": "code",
   "execution_count": 179,
   "id": "coordinate-reader",
   "metadata": {},
   "outputs": [],
   "source": [
    "box2.layout.top='50px'"
   ]
  },
  {
   "cell_type": "code",
   "execution_count": 180,
   "id": "tested-nancy",
   "metadata": {},
   "outputs": [
    {
     "data": {
      "application/vnd.jupyter.widget-view+json": {
       "model_id": "aa0e0e74481f4344bf231d5f5ca5dfd8",
       "version_major": 2,
       "version_minor": 0
      },
      "text/plain": [
       "VBox(children=(HBox(children=(Textarea(value='Other stuff!\\n'), Textarea(value='Hi, I am box 2')), layout=Layo…"
      ]
     },
     "metadata": {},
     "output_type": "display_data"
    }
   ],
   "source": [
    "ipywidgets.VBox([box1, myLabel, box2])"
   ]
  },
  {
   "cell_type": "markdown",
   "id": "separate-performer",
   "metadata": {},
   "source": [
    "# Just a sneak peak into bqplot"
   ]
  },
  {
   "cell_type": "code",
   "execution_count": 181,
   "id": "municipal-complaint",
   "metadata": {},
   "outputs": [],
   "source": [
    "import bqplot"
   ]
  },
  {
   "cell_type": "markdown",
   "id": "international-intake",
   "metadata": {},
   "source": [
    "We won't be using the matplotlib-like interface really at all, but its worth knowing that it is there!"
   ]
  },
  {
   "cell_type": "code",
   "execution_count": 182,
   "id": "sweet-thomson",
   "metadata": {},
   "outputs": [],
   "source": [
    "from bqplot import pyplot as bplt"
   ]
  },
  {
   "cell_type": "code",
   "execution_count": 184,
   "id": "russian-flexibility",
   "metadata": {},
   "outputs": [
    {
     "data": {
      "application/vnd.jupyter.widget-view+json": {
       "model_id": "3a010bf499cc4945a98a5d09608009ae",
       "version_major": 2,
       "version_minor": 0
      },
      "text/plain": [
       "VBox(children=(Figure(axes=[Axis(scale=LinearScale()), Axis(orientation='vertical', scale=LinearScale())], fig…"
      ]
     },
     "metadata": {},
     "output_type": "display_data"
    }
   ],
   "source": [
    "bplt.figure() # this is really the only difference between bplt and plt (bqplot vs. matplotlib)\n",
    "bplt.plot([1,2,3], [4,5,6])\n",
    "bplt.show()"
   ]
  },
  {
   "cell_type": "code",
   "execution_count": 187,
   "id": "specific-expression",
   "metadata": {},
   "outputs": [
    {
     "data": {
      "application/vnd.jupyter.widget-view+json": {
       "model_id": "9189e5fe51c443a18a60adce9f83383e",
       "version_major": 2,
       "version_minor": 0
      },
      "text/plain": [
       "VBox(children=(Figure(axes=[Axis(scale=LinearScale()), Axis(orientation='vertical', scale=LinearScale())], fig…"
      ]
     },
     "metadata": {},
     "output_type": "display_data"
    }
   ],
   "source": [
    "bplt.figure() # this is really the only difference between bplt and plt (bqplot vs. matplotlib)\n",
    "bplt.plot([1,2,3], [4,5,6])\n",
    "bplt.brush_selector() # not doing anything with this selector, its just here!\n",
    "bplt.show()"
   ]
  },
  {
   "cell_type": "code",
   "execution_count": 189,
   "id": "scenic-valuable",
   "metadata": {},
   "outputs": [
    {
     "data": {
      "application/vnd.jupyter.widget-view+json": {
       "model_id": "89441324bb9040c195d11c9fadf9b297",
       "version_major": 2,
       "version_minor": 0
      },
      "text/plain": [
       "VBox(children=(Figure(axes=[Axis(scale=LinearScale()), Axis(orientation='vertical', scale=LinearScale())], fig…"
      ]
     },
     "metadata": {},
     "output_type": "display_data"
    },
    {
     "name": "stdout",
     "output_type": "stream",
     "text": [
      "selected [[1.11712519 4.19136029]\n",
      " [1.11945218 4.19724265]]\n",
      "selected [[1.11712519 4.19136029]\n",
      " [1.12177917 4.19724265]]\n",
      "selected [[1.11712519 4.16194853]\n",
      " [1.15203004 4.19724265]]\n",
      "selected [[1.11712519 4.15018382]\n",
      " [1.16599199 4.19724265]]\n",
      "selected [[1.11712519 4.14430147]\n",
      " [1.16599199 4.19724265]]\n",
      "selected [[1.11712519 4.14430147]\n",
      " [1.16831898 4.19724265]]\n",
      "selected [[1.11712519 4.14430147]\n",
      " [1.17529995 4.19724265]]\n",
      "selected [[1.11712519 4.14430147]\n",
      " [1.24045568 4.19724265]]\n",
      "selected [[1.11712519 4.13841912]\n",
      " [1.32655434 4.19724265]]\n",
      "selected [[1.11712519 4.13841912]\n",
      " [1.34749725 4.19724265]]\n"
     ]
    }
   ],
   "source": [
    "bplt.figure() # this is really the only difference between bplt and plt (bqplot vs. matplotlib)\n",
    "bplt.plot([1,2,3], [4,5,6])\n",
    "\n",
    "def onBrush(name,value):\n",
    "    print(name,value)\n",
    "\n",
    "bplt.brush_selector(onBrush) # not doing anything with this selector, its just here!\n",
    "bplt.show()"
   ]
  },
  {
   "cell_type": "code",
   "execution_count": 194,
   "id": "western-prefix",
   "metadata": {},
   "outputs": [
    {
     "data": {
      "application/vnd.jupyter.widget-view+json": {
       "model_id": "22ac5454178240d1a7eb574a580b57f6",
       "version_major": 2,
       "version_minor": 0
      },
      "text/plain": [
       "VBox(children=(Label(value=''), Figure(axes=[Axis(scale=LinearScale()), Axis(orientation='vertical', scale=Lin…"
      ]
     },
     "metadata": {},
     "output_type": "display_data"
    }
   ],
   "source": [
    "fig = bplt.figure() # this is really the only difference between bplt and plt (bqplot vs. matplotlib)\n",
    "bplt.plot([1,2,3], [4,5,6])\n",
    "myLabel = ipywidgets.Label()\n",
    "\n",
    "def onBrush(name,value):\n",
    "    #print(name,value)\n",
    "    myLabel.value = str(value[0][1])\n",
    "    #print(value[0])\n",
    "    \n",
    "bplt.brush_selector(onBrush) # not doing anything with this selector, its just here!\n",
    "#bplt.show()\n",
    "\n",
    "ipywidgets.VBox([myLabel, fig])"
   ]
  },
  {
   "cell_type": "code",
   "execution_count": null,
   "id": "mental-thanksgiving",
   "metadata": {},
   "outputs": [],
   "source": []
  },
  {
   "cell_type": "code",
   "execution_count": null,
   "id": "organic-soundtrack",
   "metadata": {},
   "outputs": [],
   "source": []
  }
 ],
 "metadata": {
  "kernelspec": {
   "display_name": "Python 3",
   "language": "python",
   "name": "python3"
  },
  "language_info": {
   "codemirror_mode": {
    "name": "ipython",
    "version": 3
   },
   "file_extension": ".py",
   "mimetype": "text/x-python",
   "name": "python",
   "nbconvert_exporter": "python",
   "pygments_lexer": "ipython3",
   "version": "3.7.9"
  }
 },
 "nbformat": 4,
 "nbformat_minor": 5
}
