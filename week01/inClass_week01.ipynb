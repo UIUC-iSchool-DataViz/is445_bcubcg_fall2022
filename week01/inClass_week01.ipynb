{
 "cells": [
  {
   "cell_type": "markdown",
   "id": "respective-store",
   "metadata": {},
   "source": [
    "# In Class Notebook, Week 01"
   ]
  },
  {
   "cell_type": "markdown",
   "id": "patent-merit",
   "metadata": {},
   "source": [
    "You can always paste the URL of this notebook (https://github.com/UIUC-iSchool-DataViz/is445_bcubcg_fall2022/blob/master/week01/inClass_week01.ipynb ) into the nbviewer interface for a plain-text rendering:\n",
    "\n",
    "https://kokes.github.io/nbviewer.js/viewer.html\n",
    "\n",
    "I am typing a thing.\n",
    "\n",
    "I am typing another thing."
   ]
  },
  {
   "cell_type": "code",
   "execution_count": 1,
   "id": "b0202ec6",
   "metadata": {},
   "outputs": [
    {
     "data": {
      "text/plain": [
       "9"
      ]
     },
     "execution_count": 1,
     "metadata": {},
     "output_type": "execute_result"
    }
   ],
   "source": [
    "4+5"
   ]
  },
  {
   "cell_type": "markdown",
   "id": "53e777c1",
   "metadata": {},
   "source": [
    "But I can write things like normal.\n",
    "\n",
    "# A large header\n",
    "\n",
    "## I can make a smaller header\n",
    "\n",
    "### Even smaller\n",
    "\n",
    "#### Super smaller (smallest)"
   ]
  },
  {
   "cell_type": "markdown",
   "id": "83a8b37c",
   "metadata": {},
   "source": [
    "Make some ordered lists:\n",
    " 1. thing number 1\n",
    " 1. next thing\n",
    " 1. a final thing\n",
    " \n",
    "Unordered lists:\n",
    " * bullet point 1\n",
    " * bullet point 2\n",
    " \n",
    "$\\frac{x}{y} = \\frac{2}{3}$"
   ]
  },
  {
   "cell_type": "code",
   "execution_count": null,
   "id": "86acd0d9",
   "metadata": {},
   "outputs": [],
   "source": []
  }
 ],
 "metadata": {
  "kernelspec": {
   "display_name": "Python 3 (ipykernel)",
   "language": "python",
   "name": "python3"
  },
  "language_info": {
   "codemirror_mode": {
    "name": "ipython",
    "version": 3
   },
   "file_extension": ".py",
   "mimetype": "text/x-python",
   "name": "python",
   "nbconvert_exporter": "python",
   "pygments_lexer": "ipython3",
   "version": "3.7.12"
  }
 },
 "nbformat": 4,
 "nbformat_minor": 5
}
