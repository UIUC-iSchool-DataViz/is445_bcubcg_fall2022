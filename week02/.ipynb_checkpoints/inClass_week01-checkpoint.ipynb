{
 "cells": [
  {
   "cell_type": "markdown",
   "id": "respective-store",
   "metadata": {},
   "source": [
    "# In Class Notebook, Week 01"
   ]
  },
  {
   "cell_type": "markdown",
   "id": "patent-merit",
   "metadata": {},
   "source": [
    "You can always paste the URL of this notebook (https://github.com/UIUC-iSchool-DataViz/is445_AOUAOG_fall2021/blob/master/week01/inClass_week01.ipynb ) into the nbviewer interface for a plain-text rendering:\n",
    "\n",
    "https://kokes.github.io/nbviewer.js/viewer.html"
   ]
  },
  {
   "cell_type": "markdown",
   "id": "e9f5d797",
   "metadata": {},
   "source": [
    "This is me writing some words right here.\n",
    "\n",
    "I am writing more words here."
   ]
  },
  {
   "cell_type": "markdown",
   "id": "55a888cd",
   "metadata": {},
   "source": [
    "# This is a large header\n",
    "\n",
    "Lists of stuff:\n",
    "1. this is a first thing\n",
    "1. this is a 2nd thing\n",
    "1. this is a last thing"
   ]
  },
  {
   "cell_type": "markdown",
   "id": "7da172c2",
   "metadata": {},
   "source": [
    "Also make an unordered list:\n",
    "* first thing\n",
    "* second thing\n",
    "* third thing"
   ]
  },
  {
   "cell_type": "code",
   "execution_count": null,
   "id": "141b92e0",
   "metadata": {},
   "outputs": [],
   "source": []
  }
 ],
 "metadata": {
  "kernelspec": {
   "display_name": "Python 3 (ipykernel)",
   "language": "python",
   "name": "python3"
  },
  "language_info": {
   "codemirror_mode": {
    "name": "ipython",
    "version": 3
   },
   "file_extension": ".py",
   "mimetype": "text/x-python",
   "name": "python",
   "nbconvert_exporter": "python",
   "pygments_lexer": "ipython3",
   "version": "3.7.10"
  }
 },
 "nbformat": 4,
 "nbformat_minor": 5
}
