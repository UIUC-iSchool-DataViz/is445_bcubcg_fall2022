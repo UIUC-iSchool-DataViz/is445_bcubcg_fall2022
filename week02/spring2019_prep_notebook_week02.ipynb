{
 "cells": [
  {
   "cell_type": "markdown",
   "metadata": {},
   "source": [
    "\n",
    "## We can also use python to make diagrams\n",
    "* This uses matplotlib.patches"
   ]
  },
  {
   "cell_type": "code",
   "execution_count": null,
   "metadata": {},
   "outputs": [],
   "source": [
    "%matplotlib inline\n",
    "import matplotlib\n",
    "import matplotlib.pyplot as plt\n",
    "matplotlib.rcParams[\"font.family\"] = \"sans-serif\" # note, could also use like \"sans-serif\" others, just google\n",
    "\n",
    "# lets also import numpy\n",
    "import numpy as np"
   ]
  },
  {
   "cell_type": "markdown",
   "metadata": {},
   "source": [
    "# ----- ACTIVITY #1: Diagrams ------"
   ]
  },
  {
   "cell_type": "code",
   "execution_count": null,
   "metadata": {},
   "outputs": [],
   "source": [
    "# lets re-do that diagram of the angular distribution of human vision we had in the slides from last lecture\n",
    "# ***** GO TO LECTURE SLIDES FROM LAST TIME ****\n",
    "# lets focus on the large FOV image\n",
    "\n",
    "# make edge color for our patches black\n",
    "edgecolor = \"#000000\" # black\n",
    "# note, the above uses the standard hex codes for colors\n",
    "#  we'll talk a bit about this later, but you can also just google \"hex color codes\", like so:\n",
    "# https://www.color-hex.com/\n",
    "\n",
    "# lets color our patches like what is in the slide\n",
    "facecolor_totalFOV = \"#1f77b4\" # blueish\n",
    "facecolor_bincFOV = \"#ff7f0e\" # orangish\n",
    "\n",
    "# NOTE: do plt.show after each step!!\n",
    "\n",
    "# (1)\n",
    "totalFOV = matplotlib.patches.Wedge([0.0, 0.0], 1.0, 90 - (210/2.0), 90 + (210/2.0), # span of the wedge\n",
    "                                    lw=2.0, \n",
    "                                    facecolor=facecolor_totalFOV, \n",
    "                                    edgecolor=edgecolor)\n",
    "\n",
    "# (3) lets put this other wedge definition up here with the totalFOV one for consistency\n",
    "binoc = matplotlib.patches.Wedge([0.0, 0.0], 1.0, 90 - (114/2.0), 90 + (114/2.0), \n",
    "                                 width=0.25, # so that it doesn't overlap totally with total FOV\n",
    "                                 lw=2.0, \n",
    "                                 facecolor=facecolor_bincFOV, edgecolor=edgecolor)\n",
    "\n",
    "# (5) Finally, if we remember back to the figure, there was an arrow dictating \n",
    "#     the forward direction\n",
    "facecolor_arrow = \"#aaaaaa\" # gray\n",
    "arrow = matplotlib.patches.Arrow(-1.10, 0.0, 0.0, 0.75, \n",
    "                                 width=0.25, edgecolor=edgecolor, \n",
    "                                 facecolor=facecolor_arrow)#, label=\"forward\")\n",
    "\n",
    "\n",
    "# (1)\n",
    "fig, ax = plt.subplots(figsize=(10, 7), dpi=300)\n",
    "ax.add_patch(totalFOV)\n",
    "ax.set_xlim(-1.25, 1.25)\n",
    "ax.set_ylim(-0.5, 1.25)\n",
    "\n",
    "# (3)\n",
    "ax.add_patch(binoc)\n",
    "\n",
    "# (5)\n",
    "ax.add_patch(arrow)\n",
    "\n",
    "# (6) Finally, lets overplot the arrow's notatoin\n",
    "plt.text(-1.22, 0.35, \"Forward\", rotation=90, fontsize=\"xx-large\")\n",
    "\n",
    "\n",
    "# (4) lets also add a legend to remind us what is what\n",
    "ax.legend([totalFOV, binoc], [\"Total FOV\", \"Binocular FOV\"], fontsize=\"x-large\")\n",
    "\n",
    "\n",
    "# (2) lets disappear the axis & ticks\n",
    "ax.set_xticks([])\n",
    "ax.set_yticks([])\n",
    "ax.spines['right'].set_visible(False)\n",
    "ax.spines['left'].set_visible(False)\n",
    "ax.spines['top'].set_visible(False)\n",
    "ax.spines['bottom'].set_visible(False)\n",
    "\n",
    "plt.show()"
   ]
  },
  {
   "cell_type": "markdown",
   "metadata": {},
   "source": [
    "## Take away\n",
    "* so, that was a lot of effort (maybe) to make a diagram, *but* we can now go back and change things very easily \n",
    "* for example we can change all the colors **do this**, or we can change the size of the wedge\n",
    "* the take away is that Python not only makes graphs, but it can also be used to make diagrams"
   ]
  },
  {
   "cell_type": "markdown",
   "metadata": {},
   "source": [
    "# ------ ACTIVITY #2: Manipulating Images -------"
   ]
  },
  {
   "cell_type": "markdown",
   "metadata": {},
   "source": [
    "## Python can also be used to manipulate images\n",
    "* lets try with our stitch image"
   ]
  },
  {
   "cell_type": "code",
   "execution_count": null,
   "metadata": {},
   "outputs": [],
   "source": [
    "# note: for this to work you might have to install pillow\n",
    "#  either with pip: pip3 install pillow (might have to use sudo)\n",
    "#  or anaconda: conda install -c anaconda pillow \n",
    "# Also, I think there is a way to do it using the GUI, but I've never used the Anaconda GUI to install things before\n",
    "import PIL.Image as Image\n",
    "#data = np.array(Image.open(\"https://uiuc-ischool-dataviz.github.io/spring2019online/week01/images/stitch_nobg_tilted.png\", \"r\"))\n",
    "im = Image.open(\"/Users/jnaiman/Downloads/stitch_reworked.png\", \"r\")\n",
    "\n",
    "data = np.array(im)"
   ]
  },
  {
   "cell_type": "code",
   "execution_count": null,
   "metadata": {},
   "outputs": [],
   "source": [
    "np.unique(data[:,:,0])\n",
    "# so we see there are only 3 colors"
   ]
  },
  {
   "cell_type": "code",
   "execution_count": null,
   "metadata": {},
   "outputs": [],
   "source": [
    "# lets remind ourselves a bit of what this looks like\n",
    "fig,ax = plt.subplots(figsize=(5,5))\n",
    "ax.imshow(im)"
   ]
  },
  {
   "cell_type": "code",
   "execution_count": null,
   "metadata": {},
   "outputs": [],
   "source": [
    "# if we recall last time, we talked a bit about how to use this visualization to\n",
    "#  figure out how to quantify the goodness or badness of stitch, lets play with \n",
    "# this idea a bit more\n",
    "\n",
    "\n",
    "# lets now use pixel filling to determine the volumetric good and bad levels\n",
    "ngood = (data[:,:,0] == 255).sum() # number of \"good\" pixels\n",
    "nbad = (data[:,:,0] == 126).sum() # number of \"bad\" pixels\n",
    "total = ngood + nbad\n",
    "badness = nbad / total\n",
    "goodness = ngood/  total\n",
    "print(badness, goodness)\n",
    "\n",
    "# so, looks like ~77% bad and 23% good\n",
    "# does that match up with what you'd think from looking at the above figure?"
   ]
  },
  {
   "cell_type": "code",
   "execution_count": null,
   "metadata": {},
   "outputs": [],
   "source": [
    "# now, lets plot this thing on a little bar graph!\n",
    "p1 = plt.bar([1], badness, [0.5], color='#991620')\n",
    "p2 = plt.bar([1], goodness, [0.5], bottom=badness)\n",
    "plt.xlim(0.0, 2.0)"
   ]
  },
  {
   "cell_type": "code",
   "execution_count": null,
   "metadata": {},
   "outputs": [],
   "source": [
    "# what if we just counted pixes from our figure above?\n",
    "# looks like good changes to badness at ~150\n",
    "# image top is at ~50 pixels\n",
    "# image bottom is at ~450 pixels\n",
    "\n",
    "# so:\n",
    "goodness_apparent = (50-150)/(50-450)\n",
    "\n",
    "print(goodness_apparent)\n",
    "\n"
   ]
  },
  {
   "cell_type": "code",
   "execution_count": null,
   "metadata": {},
   "outputs": [],
   "source": [
    "# what is badness, apparent\n",
    "1.0-goodness_apparent"
   ]
  },
  {
   "cell_type": "code",
   "execution_count": null,
   "metadata": {},
   "outputs": [],
   "source": [
    "plt.pie([badness,goodness]) # can also do a pie chart if we want I suppose :D\n",
    "# note: this uses wedges!!"
   ]
  },
  {
   "cell_type": "markdown",
   "metadata": {},
   "source": [
    "# ------ ACTIVITY #3: Python tips and tricks! ------\n",
    "(note: this will be put up as a \"cheat sheet\" for students if we are running short on time)"
   ]
  },
  {
   "cell_type": "markdown",
   "metadata": {},
   "source": [
    "* We've been playing around with a few complex things in Python, but lets take a step back for a moment and delve into how Python deals with data in a bit more detail"
   ]
  },
  {
   "cell_type": "code",
   "execution_count": null,
   "metadata": {},
   "outputs": [],
   "source": [
    "# initialize a\n",
    "a = []"
   ]
  },
  {
   "cell_type": "code",
   "execution_count": null,
   "metadata": {},
   "outputs": [],
   "source": [
    "# take a gander at a\n",
    "a\n",
    "# hey look a is an empty list!"
   ]
  },
  {
   "cell_type": "code",
   "execution_count": null,
   "metadata": {},
   "outputs": [],
   "source": [
    "# we can mix types in our lists\n",
    "a = [1, 2, \"hey\"]\n",
    "# here we have a few integers and a string"
   ]
  },
  {
   "cell_type": "code",
   "execution_count": null,
   "metadata": {},
   "outputs": [],
   "source": [
    "# lets look at a again\n",
    "a"
   ]
  },
  {
   "cell_type": "code",
   "execution_count": null,
   "metadata": {},
   "outputs": [],
   "source": [
    "# also, for our general purposes, we can call a string with a single or double quotes\n",
    "'hey' == \"hey\""
   ]
  },
  {
   "cell_type": "code",
   "execution_count": null,
   "metadata": {},
   "outputs": [],
   "source": [
    "# we can also easily add to our list with the append statement\n",
    "a.append(\"there\")\n",
    "a"
   ]
  },
  {
   "cell_type": "code",
   "execution_count": null,
   "metadata": {},
   "outputs": [],
   "source": [
    "# returns an item at an index, & removes item, default is the last item\n",
    "a.pop()"
   ]
  },
  {
   "cell_type": "code",
   "execution_count": null,
   "metadata": {},
   "outputs": [],
   "source": [
    "# now a is back to what we had before\n",
    "a"
   ]
  },
  {
   "cell_type": "code",
   "execution_count": null,
   "metadata": {},
   "outputs": [],
   "source": [
    "# we can also grab elements of a by their indicies\n",
    "a[1]"
   ]
  },
  {
   "cell_type": "code",
   "execution_count": null,
   "metadata": {},
   "outputs": [],
   "source": [
    "# note that indexing starts from 0 in python\n",
    "a[0]"
   ]
  },
  {
   "cell_type": "code",
   "execution_count": null,
   "metadata": {},
   "outputs": [],
   "source": [
    "# the -# can be used to grab starting from the last element of the list\n",
    "a[-1]"
   ]
  },
  {
   "cell_type": "code",
   "execution_count": null,
   "metadata": {},
   "outputs": [],
   "source": [
    "# the colon means \"all the things\"\n",
    "a[:]"
   ]
  },
  {
   "cell_type": "code",
   "execution_count": null,
   "metadata": {},
   "outputs": [],
   "source": [
    "# we can also take subsets easily, for example, ignorning the first element of a\n",
    "# this is a way to filter data\n",
    "a[1:]"
   ]
  },
  {
   "cell_type": "code",
   "execution_count": null,
   "metadata": {},
   "outputs": [],
   "source": [
    "# can also take all but the last eleement\n",
    "a[:-1]"
   ]
  },
  {
   "cell_type": "code",
   "execution_count": null,
   "metadata": {},
   "outputs": [],
   "source": [
    "# we can also combine these two things to grab from the first to the 2nd to last element\n",
    "# in this case, the one element\n",
    "a[1:-1]"
   ]
  },
  {
   "cell_type": "code",
   "execution_count": null,
   "metadata": {},
   "outputs": [],
   "source": [
    "# there are also some nice string manipulations we can do\n",
    "#  like splitting a string into a list object\n",
    "a = \"this is a much longer list, where i have taken a sentence and split it based on the spaces\".split()"
   ]
  },
  {
   "cell_type": "code",
   "execution_count": null,
   "metadata": {},
   "outputs": [],
   "source": [
    "a"
   ]
  },
  {
   "cell_type": "code",
   "execution_count": null,
   "metadata": {},
   "outputs": [],
   "source": [
    "# we can grab every other element in the list\n",
    "a[::2]"
   ]
  },
  {
   "cell_type": "code",
   "execution_count": null,
   "metadata": {},
   "outputs": [],
   "source": [
    "# we can also reorder this list back-to-front\n",
    "a[::-1]"
   ]
  },
  {
   "cell_type": "code",
   "execution_count": null,
   "metadata": {},
   "outputs": [],
   "source": [
    "# we can also update individual strings in this list\n",
    "a[3] = 'sorta'"
   ]
  },
  {
   "cell_type": "code",
   "execution_count": null,
   "metadata": {},
   "outputs": [],
   "source": [
    "a"
   ]
  },
  {
   "cell_type": "code",
   "execution_count": null,
   "metadata": {},
   "outputs": [],
   "source": [
    "# now lets look quickly at some funny things about strings in Python\n",
    "name = \"jill\""
   ]
  },
  {
   "cell_type": "code",
   "execution_count": null,
   "metadata": {},
   "outputs": [],
   "source": [
    "name[0]"
   ]
  },
  {
   "cell_type": "code",
   "execution_count": null,
   "metadata": {},
   "outputs": [],
   "source": [
    "# this will produce an error\n",
    "name[0] = 'J'"
   ]
  },
  {
   "cell_type": "code",
   "execution_count": null,
   "metadata": {},
   "outputs": [],
   "source": [
    "# have to use something like replace\n",
    "name.replace(\"j\",\"J\")"
   ]
  },
  {
   "cell_type": "code",
   "execution_count": null,
   "metadata": {},
   "outputs": [],
   "source": [
    "# python also has stuff called dictionaries\n",
    "d = {'bevier': 'building', 'green' : 'road', 'champaign': 'city'}"
   ]
  },
  {
   "cell_type": "code",
   "execution_count": null,
   "metadata": {},
   "outputs": [],
   "source": [
    "d"
   ]
  },
  {
   "cell_type": "code",
   "execution_count": null,
   "metadata": {},
   "outputs": [],
   "source": [
    "# here the \"champaign\" entry is of type \"city\"\n",
    "d['champaign']"
   ]
  },
  {
   "cell_type": "code",
   "execution_count": null,
   "metadata": {},
   "outputs": [],
   "source": [
    "# its super easy to add to dictionaries, here we add an empty list\n",
    "d['mylist'] = []"
   ]
  },
  {
   "cell_type": "code",
   "execution_count": null,
   "metadata": {},
   "outputs": [],
   "source": [
    "d"
   ]
  },
  {
   "cell_type": "code",
   "execution_count": null,
   "metadata": {},
   "outputs": [],
   "source": [
    "# we can add to this list in the usual way - with the above \"append\" function we used before\n",
    "d['mylist'].append(10)"
   ]
  },
  {
   "cell_type": "code",
   "execution_count": null,
   "metadata": {},
   "outputs": [],
   "source": [
    "d"
   ]
  },
  {
   "cell_type": "code",
   "execution_count": null,
   "metadata": {},
   "outputs": [],
   "source": [
    "# there are these other cool objects called \"sets\"\n",
    "myset = set()"
   ]
  },
  {
   "cell_type": "code",
   "execution_count": null,
   "metadata": {},
   "outputs": [],
   "source": [
    "myset"
   ]
  },
  {
   "cell_type": "code",
   "execution_count": null,
   "metadata": {},
   "outputs": [],
   "source": [
    "# lets check out some operations with sets, for example some movies I like\n",
    "jill_movies = set(['last jedi', 'girls trip', 'frozen'])\n",
    "# lets say we have another person named bob an these are the movies he likes\n",
    "bob_movies = set(['last jedi', 'other movie'])"
   ]
  },
  {
   "cell_type": "code",
   "execution_count": null,
   "metadata": {},
   "outputs": [],
   "source": [
    "jill_movies"
   ]
  },
  {
   "cell_type": "code",
   "execution_count": null,
   "metadata": {},
   "outputs": [],
   "source": [
    "bob_movies"
   ]
  },
  {
   "cell_type": "code",
   "execution_count": null,
   "metadata": {},
   "outputs": [],
   "source": [
    "# we can create a set that is made up of my movies, but without those movies that appear in bob's movies list\n",
    "jill_movies - bob_movies"
   ]
  },
  {
   "cell_type": "code",
   "execution_count": null,
   "metadata": {},
   "outputs": [],
   "source": [
    "jill_movies[0] # note we can't index"
   ]
  },
  {
   "cell_type": "code",
   "execution_count": null,
   "metadata": {},
   "outputs": [],
   "source": [
    "# we can take the union of sets\n",
    "jill_movies.union(bob_movies)"
   ]
  },
  {
   "cell_type": "code",
   "execution_count": null,
   "metadata": {},
   "outputs": [],
   "source": [
    "# for some final string manipulation, we can use a thing called enumerate \n",
    "# to both count in a for loop and use an element of our list directly\n",
    "for i, word in enumerate(reversed(a)):\n",
    "    print(i, word.upper())"
   ]
  },
  {
   "cell_type": "code",
   "execution_count": null,
   "metadata": {},
   "outputs": [],
   "source": [
    "# continue and break are flow control statements\n",
    "for i, word in enumerate(sorted(a)):\n",
    "    if word == \"and\":\n",
    "        continue\n",
    "    if word == \"it\":\n",
    "        break\n",
    "    print(i, word.upper())"
   ]
  },
  {
   "cell_type": "code",
   "execution_count": null,
   "metadata": {},
   "outputs": [],
   "source": [
    "# also, we can use the \"?\" to figure out things we don't know, for example the reader\n",
    "#  function from  the csv library\n",
    "import csv"
   ]
  },
  {
   "cell_type": "code",
   "execution_count": null,
   "metadata": {},
   "outputs": [],
   "source": [
    "csv.reader?"
   ]
  },
  {
   "cell_type": "markdown",
   "metadata": {},
   "source": [
    "# ------ ACTIVITY #4: CSV Read and manipulate -----"
   ]
  },
  {
   "cell_type": "markdown",
   "metadata": {},
   "source": [
    "* Ok, now lets check out some building inventory documents for Illinois\n",
    "* Note: normally these would be on the jupyter hub, but again, we have to download them from the website!"
   ]
  },
  {
   "cell_type": "code",
   "execution_count": null,
   "metadata": {},
   "outputs": [],
   "source": [
    "# again,note we have to supply the full path\n",
    "f = open(\"/Users/jnaiman/Downloads/building_inventory.csv\")"
   ]
  },
  {
   "cell_type": "code",
   "execution_count": null,
   "metadata": {},
   "outputs": [],
   "source": [
    "# so here we are just going to read in our data.\n",
    "# we can see its sort of in a weird format\n",
    "f.seek(0)\n",
    "for record in csv.reader(f):\n",
    "    print(record)"
   ]
  },
  {
   "cell_type": "code",
   "execution_count": null,
   "metadata": {},
   "outputs": [],
   "source": [
    "# lets fill up a dictonary with each column\n",
    "# this is just saying, loop over each column\n",
    "f.seek(0)\n",
    "reader = csv.reader(f)\n",
    "header = next(reader)\n",
    "header\n"
   ]
  },
  {
   "cell_type": "code",
   "execution_count": null,
   "metadata": {},
   "outputs": [],
   "source": [
    "data = {} # empty dictonary\n",
    "for col in header:\n",
    "    data[col] = []\n",
    "data # now we have an empty dictonary with named entries ready to be filled"
   ]
  },
  {
   "cell_type": "code",
   "execution_count": null,
   "metadata": {},
   "outputs": [],
   "source": [
    "# to fill the dictionary we are going to use the function \"zip\"\n",
    "# here is a little example\n",
    "a = [\"hi\", \"there\", \"my\", \"friends\"]\n",
    "b = [9, 4, 1, 9]\n",
    "for word, num in zip(a, b):\n",
    "    print(word, num)\n",
    "#  you can think of if kind of like \"enumerate\" that we \n",
    "# used above, but its iterating over 2 lists here instead of a number and a list\n"
   ]
  },
  {
   "cell_type": "code",
   "execution_count": null,
   "metadata": {},
   "outputs": [],
   "source": [
    "# ok, so we are going to use this function zip to fill our dictionary\n",
    "\n",
    "# first, a call like before\n",
    "f.seek(0)\n",
    "reader = csv.reader(f)\n",
    "header = next(reader)\n",
    "data = {}\n",
    "# fill column names as dictionary headings\n",
    "for col in header:\n",
    "    data[col] = []\n",
    "    \n",
    "# now, fill lists within headers\n",
    "for row in reader:\n",
    "    for col, val in zip(header, row):\n",
    "        data[col].append(val)"
   ]
  },
  {
   "cell_type": "code",
   "execution_count": null,
   "metadata": {},
   "outputs": [],
   "source": [
    "len(data['Zip code'])"
   ]
  },
  {
   "cell_type": "code",
   "execution_count": null,
   "metadata": {},
   "outputs": [],
   "source": [
    "len(data['Agency Name'])"
   ]
  },
  {
   "cell_type": "code",
   "execution_count": null,
   "metadata": {},
   "outputs": [],
   "source": [
    "# we can also use keys() to list our dictionary names\n",
    "data.keys()"
   ]
  },
  {
   "cell_type": "code",
   "execution_count": null,
   "metadata": {},
   "outputs": [],
   "source": [
    "# we can do fun things with this dataset, like look at square footage of particular buildings\n",
    "for i, location in enumerate(data['Address']):\n",
    "    if '905 S Goodwin Ave' in location:\n",
    "        print(data['Square Footage'][i])"
   ]
  },
  {
   "cell_type": "code",
   "execution_count": null,
   "metadata": {},
   "outputs": [],
   "source": [
    "#####len(set(data['Agency Name']))"
   ]
  },
  {
   "cell_type": "code",
   "execution_count": null,
   "metadata": {},
   "outputs": [],
   "source": [
    "# we will import collections which is a library that provides other data structures\n",
    "# in which to store our data\n",
    "# its sort of like \"numpy\" for arrays in this sense\n",
    "import collections"
   ]
  },
  {
   "cell_type": "code",
   "execution_count": null,
   "metadata": {},
   "outputs": [],
   "source": [
    "# for example, here we can create a counter for how many entries have particular agency names\n",
    "collections.Counter(data['Agency Name'])\n",
    "#data['Agency Name']"
   ]
  },
  {
   "cell_type": "code",
   "execution_count": null,
   "metadata": {},
   "outputs": [],
   "source": [
    "# lets pick out data particularly for UIUC\n",
    "# first create an empty dictonary\n",
    "uiuc = {}\n",
    "# give it all the right headers\n",
    "for col in header:\n",
    "    uiuc[col] = []\n",
    "\n",
    "uiuc"
   ]
  },
  {
   "cell_type": "code",
   "execution_count": null,
   "metadata": {},
   "outputs": [],
   "source": [
    "# fill this subset from data\n",
    "for i, agency in enumerate(data['Agency Name']):\n",
    "    if agency == 'University of Illinois Urbana-Champaign':\n",
    "        for key in data:\n",
    "            uiuc[key].append(data[key][i])\n",
    "uiuc"
   ]
  },
  {
   "cell_type": "code",
   "execution_count": null,
   "metadata": {},
   "outputs": [],
   "source": [
    "collections.Counter(uiuc['Agency Name'])"
   ]
  },
  {
   "cell_type": "code",
   "execution_count": null,
   "metadata": {},
   "outputs": [],
   "source": [
    "max(uiuc['Square Footage'])"
   ]
  },
  {
   "cell_type": "code",
   "execution_count": null,
   "metadata": {},
   "outputs": [],
   "source": [
    "# note that the abofe is a string\n",
    "type(uiuc['Square Footage'][0])"
   ]
  },
  {
   "cell_type": "code",
   "execution_count": null,
   "metadata": {},
   "outputs": [],
   "source": [
    "# this can present an issue if we want to compare otherwise numbers\n",
    "'9' > '150000'"
   ]
  },
  {
   "cell_type": "markdown",
   "metadata": {},
   "source": [
    "# --------- ACTIVITY #5: Using pandas to read and look at data -------"
   ]
  },
  {
   "cell_type": "code",
   "execution_count": null,
   "metadata": {},
   "outputs": [],
   "source": [
    "# we can also do a lot of these things iwth pandas library\n",
    "# again, this is something you can pip or anaconda install if you need to\n",
    "import pandas as pd"
   ]
  },
  {
   "cell_type": "code",
   "execution_count": null,
   "metadata": {},
   "outputs": [],
   "source": [
    "buildings = pd.read_csv('/Users/jnaiman/Downloads/building_inventory.csv')"
   ]
  },
  {
   "cell_type": "code",
   "execution_count": null,
   "metadata": {},
   "outputs": [],
   "source": [
    "buildings\n",
    "# formatting here is sort of nice"
   ]
  },
  {
   "cell_type": "code",
   "execution_count": null,
   "metadata": {},
   "outputs": [],
   "source": [
    "# how many entries are there? as an iterable\n",
    "buildings.index"
   ]
  },
  {
   "cell_type": "code",
   "execution_count": null,
   "metadata": {},
   "outputs": [],
   "source": [
    "buildings.loc[0:3] #easy to grab subsets - here by label\n",
    "#buildings.loc? #easy to grab subsets - here by label\n",
    "#buildings.columns"
   ]
  },
  {
   "cell_type": "code",
   "execution_count": null,
   "metadata": {},
   "outputs": [],
   "source": [
    "buildings.iloc[0:3] # look up by index, here the same as above, but note it treats data a bit differently"
   ]
  },
  {
   "cell_type": "code",
   "execution_count": null,
   "metadata": {},
   "outputs": [],
   "source": [
    "buildings.loc[0:10][\"Agency Name\"] # grab 1-10 entries, and print out the Agency names of those entries"
   ]
  },
  {
   "cell_type": "code",
   "execution_count": null,
   "metadata": {},
   "outputs": [],
   "source": [
    "buildings[\"Agency Name\"].nunique() # how many unique agencies"
   ]
  },
  {
   "cell_type": "code",
   "execution_count": null,
   "metadata": {},
   "outputs": [],
   "source": [
    "# if you are used to R at all, this is sort of like \"summary\" function, but basically giving some \n",
    "# summary statistics for the numerical data in our dataset\n",
    "buildings.describe()"
   ]
  },
  {
   "cell_type": "code",
   "execution_count": null,
   "metadata": {},
   "outputs": [],
   "source": [
    "buildings.loc[buildings[\"Square Footage\"] == 0] # we can subset easily - here, for buildings without any sq footage!"
   ]
  },
  {
   "cell_type": "code",
   "execution_count": null,
   "metadata": {},
   "outputs": [],
   "source": [
    "buildings[\"Bldg Status\"].unique() "
   ]
  },
  {
   "cell_type": "code",
   "execution_count": null,
   "metadata": {},
   "outputs": [],
   "source": [
    "buildings.loc[buildings[\"Bldg Status\"] == \"In Progress\"] # who is being built now?"
   ]
  },
  {
   "cell_type": "code",
   "execution_count": null,
   "metadata": {},
   "outputs": [],
   "source": [
    "buildings[\"Square Footage\"].plot() # easy plots with pandas dataframes"
   ]
  },
  {
   "cell_type": "code",
   "execution_count": null,
   "metadata": {},
   "outputs": [],
   "source": [
    "# again, another way to sort\n",
    "for status, df in buildings.groupby(\"Bldg Status\"):\n",
    "    print(status, df.shape[0])"
   ]
  },
  {
   "cell_type": "code",
   "execution_count": null,
   "metadata": {},
   "outputs": [],
   "source": [
    "buildings.max()"
   ]
  },
  {
   "cell_type": "code",
   "execution_count": null,
   "metadata": {},
   "outputs": [],
   "source": [
    "pd.read_csv?"
   ]
  },
  {
   "cell_type": "code",
   "execution_count": null,
   "metadata": {},
   "outputs": [],
   "source": [
    "b = pd.read_csv(\"/Users/jnaiman/Downloads/building_inventory.csv\",\n",
    "           na_values = {'Square Footage': 0,\n",
    "                       'Year Acquired': 0,\n",
    "                       'Year Constructed': 0}) \n",
    "# specify what to do with incomplete entries, here this just says if any of these columns have a value 0, treat\n",
    "#  as a NaN or not-a-number"
   ]
  },
  {
   "cell_type": "code",
   "execution_count": null,
   "metadata": {},
   "outputs": [],
   "source": [
    "b[\"Square Footage\"].min()"
   ]
  },
  {
   "cell_type": "code",
   "execution_count": null,
   "metadata": {},
   "outputs": [],
   "source": [
    "b[\"Year Constructed\"].min()"
   ]
  },
  {
   "cell_type": "code",
   "execution_count": null,
   "metadata": {},
   "outputs": [],
   "source": [
    "b[\"Year Acquired\"].min()"
   ]
  },
  {
   "cell_type": "code",
   "execution_count": null,
   "metadata": {},
   "outputs": [],
   "source": [
    "b.loc[b[\"Year Acquired\"] < 1800]"
   ]
  },
  {
   "cell_type": "code",
   "execution_count": null,
   "metadata": {},
   "outputs": [],
   "source": [
    "b2 = b.sort_values(\"Year Constructed\")"
   ]
  },
  {
   "cell_type": "code",
   "execution_count": null,
   "metadata": {},
   "outputs": [],
   "source": [
    "b2.iloc[0]"
   ]
  },
  {
   "cell_type": "code",
   "execution_count": null,
   "metadata": {},
   "outputs": [],
   "source": [
    "b.sort_values(\"Year Constructed\", inplace=True)"
   ]
  },
  {
   "cell_type": "code",
   "execution_count": null,
   "metadata": {},
   "outputs": [],
   "source": [
    "b.groupby(\"Year Acquired\")[\"Square Footage\"].sum()"
   ]
  },
  {
   "cell_type": "code",
   "execution_count": null,
   "metadata": {},
   "outputs": [],
   "source": [
    "b.loc[b[\"Agency Name\"] == \"University of Illinois\"].groupby(\"Year Acquired\")[\"Square Footage\"].sum()"
   ]
  },
  {
   "cell_type": "code",
   "execution_count": null,
   "metadata": {},
   "outputs": [],
   "source": []
  },
  {
   "cell_type": "code",
   "execution_count": null,
   "metadata": {},
   "outputs": [],
   "source": []
  },
  {
   "cell_type": "code",
   "execution_count": null,
   "metadata": {},
   "outputs": [],
   "source": []
  }
 ],
 "metadata": {
  "kernelspec": {
   "display_name": "Python 3 (ipykernel)",
   "language": "python",
   "name": "python3"
  },
  "language_info": {
   "codemirror_mode": {
    "name": "ipython",
    "version": 3
   },
   "file_extension": ".py",
   "mimetype": "text/x-python",
   "name": "python",
   "nbconvert_exporter": "python",
   "pygments_lexer": "ipython3",
   "version": "3.7.12"
  }
 },
 "nbformat": 4,
 "nbformat_minor": 2
}
