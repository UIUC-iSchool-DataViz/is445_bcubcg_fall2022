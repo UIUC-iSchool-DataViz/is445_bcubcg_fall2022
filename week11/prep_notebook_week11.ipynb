{
 "cells": [
  {
   "cell_type": "markdown",
   "id": "3e45483e",
   "metadata": {},
   "source": [
    "# Week 11, Prep notebook"
   ]
  },
  {
   "cell_type": "markdown",
   "id": "82b0c204",
   "metadata": {},
   "source": [
    "Last week we talked about how Jekyll sites work overall, and this week we'll focus on building visualizations to host on these pages with vega-lite and Altair in Python."
   ]
  },
  {
   "cell_type": "markdown",
   "id": "487d4f4b",
   "metadata": {},
   "source": [
    "## 1. Include vega-lite plots directly from vega-editor\n",
    "\n",
    "We can start with saving vega-lite code directly as json if we do our development in the vega-editor.  For a walk through of this see the file `3_direct_from_vega_editor.md` in the prep files (note to self: this is in the dev onlinecv locally at the moment).\n",
    "\n",
    "**You must include the full URL to the dataset for this to work!**"
   ]
  },
  {
   "cell_type": "markdown",
   "id": "eb6fecb0",
   "metadata": {},
   "source": [
    "## 2. Copy vega-lite code from other sources and save using Altair\n",
    "\n",
    "For example, you may have developed some code on [Starboard](https://starboard.gg/) that you now want to copy into this notebook with Altair, and then eventually save to your Jekyll webpage.\n",
    "\n",
    "We can follow the [Converting vega-lite to Altair instructions](https://altair-viz.github.io/user_guide/internals.html#converting-vega-lite-to-altair) to do this."
   ]
  },
  {
   "cell_type": "markdown",
   "id": "1903b882",
   "metadata": {},
   "source": [
    "For example, from [one of our prep Starboard notebooks](https://starboard.gg/jnaiman/prep_notebook_week11_spring2022-nG3SEUx) we have the following vega-lite specification:\n",
    "\n",
    "```\n",
    "var myHist1 = \n",
    "{\n",
    "  data: {\"url\": \"https://raw.githubusercontent.com/UIUC-iSchool-DataViz/is445_spring2022/master/week10/data/mobility.csv\"\n",
    "  },\n",
    "  mark: \"bar\",\n",
    "  height: \"300\",\n",
    "  width: \"500\",\n",
    "  encoding: {\n",
    "    \"x\": {\"field\": \"State\", \"type\": \"nominal\"},\n",
    "    // NOTE: this won't work because \"sum\" assumes numerical data\n",
    "    //\"y\": {\"aggregate\": \"sum\", \"field\": \"State\", \"type\": \"nominal\"} \n",
    "    //\"y\": {\"aggregate\": \"count\", \"field\": \"State\", \"type\": \"nominal\"} // might give an error/warning\n",
    "    \"y\": {\"aggregate\": \"count\", \"field\": \"State\", \"type\": \"quantitative\"}\n",
    "  }\n",
    "};\n",
    "\n",
    "var v = vegaEmbed('#firstHist', myHist1);\n",
    "```\n",
    "\n",
    "We can convert this to an Altair plot here with:"
   ]
  },
  {
   "cell_type": "code",
   "execution_count": 1,
   "id": "09ed94e9",
   "metadata": {},
   "outputs": [],
   "source": [
    "import altair as alt"
   ]
  },
  {
   "cell_type": "code",
   "execution_count": 5,
   "id": "c72a620d",
   "metadata": {},
   "outputs": [
    {
     "data": {
      "text/html": [
       "\n",
       "<div id=\"altair-viz-733c046887f64403807d9f9c43e7fcba\"></div>\n",
       "<script type=\"text/javascript\">\n",
       "  var VEGA_DEBUG = (typeof VEGA_DEBUG == \"undefined\") ? {} : VEGA_DEBUG;\n",
       "  (function(spec, embedOpt){\n",
       "    let outputDiv = document.currentScript.previousElementSibling;\n",
       "    if (outputDiv.id !== \"altair-viz-733c046887f64403807d9f9c43e7fcba\") {\n",
       "      outputDiv = document.getElementById(\"altair-viz-733c046887f64403807d9f9c43e7fcba\");\n",
       "    }\n",
       "    const paths = {\n",
       "      \"vega\": \"https://cdn.jsdelivr.net/npm//vega@5?noext\",\n",
       "      \"vega-lib\": \"https://cdn.jsdelivr.net/npm//vega-lib?noext\",\n",
       "      \"vega-lite\": \"https://cdn.jsdelivr.net/npm//vega-lite@4.17.0?noext\",\n",
       "      \"vega-embed\": \"https://cdn.jsdelivr.net/npm//vega-embed@6?noext\",\n",
       "    };\n",
       "\n",
       "    function maybeLoadScript(lib, version) {\n",
       "      var key = `${lib.replace(\"-\", \"\")}_version`;\n",
       "      return (VEGA_DEBUG[key] == version) ?\n",
       "        Promise.resolve(paths[lib]) :\n",
       "        new Promise(function(resolve, reject) {\n",
       "          var s = document.createElement('script');\n",
       "          document.getElementsByTagName(\"head\")[0].appendChild(s);\n",
       "          s.async = true;\n",
       "          s.onload = () => {\n",
       "            VEGA_DEBUG[key] = version;\n",
       "            return resolve(paths[lib]);\n",
       "          };\n",
       "          s.onerror = () => reject(`Error loading script: ${paths[lib]}`);\n",
       "          s.src = paths[lib];\n",
       "        });\n",
       "    }\n",
       "\n",
       "    function showError(err) {\n",
       "      outputDiv.innerHTML = `<div class=\"error\" style=\"color:red;\">${err}</div>`;\n",
       "      throw err;\n",
       "    }\n",
       "\n",
       "    function displayChart(vegaEmbed) {\n",
       "      vegaEmbed(outputDiv, spec, embedOpt)\n",
       "        .catch(err => showError(`Javascript Error: ${err.message}<br>This usually means there's a typo in your chart specification. See the javascript console for the full traceback.`));\n",
       "    }\n",
       "\n",
       "    if(typeof define === \"function\" && define.amd) {\n",
       "      requirejs.config({paths});\n",
       "      require([\"vega-embed\"], displayChart, err => showError(`Error loading script: ${err.message}`));\n",
       "    } else {\n",
       "      maybeLoadScript(\"vega\", \"5\")\n",
       "        .then(() => maybeLoadScript(\"vega-lite\", \"4.17.0\"))\n",
       "        .then(() => maybeLoadScript(\"vega-embed\", \"6\"))\n",
       "        .catch(showError)\n",
       "        .then(() => displayChart(vegaEmbed));\n",
       "    }\n",
       "  })({\"config\": {\"view\": {\"continuousWidth\": 400, \"continuousHeight\": 300}}, \"data\": {\"url\": \"https://raw.githubusercontent.com/UIUC-iSchool-DataViz/is445_spring2022/master/week10/data/mobility.csv\"}, \"mark\": \"bar\", \"encoding\": {\"x\": {\"field\": \"State\", \"type\": \"nominal\"}, \"y\": {\"aggregate\": \"count\", \"field\": \"State\", \"type\": \"quantitative\"}}, \"height\": 300, \"width\": 500, \"$schema\": \"https://vega.github.io/schema/vega-lite/v4.17.0.json\"}, {\"mode\": \"vega-lite\"});\n",
       "</script>"
      ],
      "text/plain": [
       "alt.Chart(...)"
      ]
     },
     "execution_count": 5,
     "metadata": {},
     "output_type": "execute_result"
    }
   ],
   "source": [
    "chart1 = alt.Chart.from_dict({\n",
    "  \"data\": {\"url\": \"https://raw.githubusercontent.com/UIUC-iSchool-DataViz/is445_spring2022/master/week10/data/mobility.csv\"\n",
    "  },\n",
    "  \"mark\": \"bar\",\n",
    "  \"height\": 300,\n",
    "  \"width\": 500,\n",
    "  \"encoding\": {\n",
    "    \"x\": {\"field\": \"State\", \"type\": \"nominal\"},\n",
    "    # NOTE: this won't work because \"sum\" assumes numerical data\n",
    "    #\"y\": {\"aggregate\": \"sum\", \"field\": \"State\", \"type\": \"nominal\"} \n",
    "    #\"y\": {\"aggregate\": \"count\", \"field\": \"State\", \"type\": \"nominal\"} // might give an error/warning\n",
    "    \"y\": {\"aggregate\": \"count\", \"field\": \"State\", \"type\": \"quantitative\"}\n",
    "  }\n",
    "})\n",
    "\n",
    "chart1"
   ]
  },
  {
   "cell_type": "markdown",
   "id": "f77dfef5",
   "metadata": {},
   "source": [
    "Note that I had to put in and take out some \" marks -- this is because different vega-lite \"hosting\" services will be more/less lenient with these kinds of formatting issues.\n",
    "\n",
    "Now, in principle, I could go to the Vega-Editor using the three `...` button at the upper right of this plot, OR I can just save with:"
   ]
  },
  {
   "cell_type": "code",
   "execution_count": 8,
   "id": "00716934",
   "metadata": {},
   "outputs": [],
   "source": [
    "myJekyllDir = '/Users/jnaiman/online_cv_fall2022/'\n",
    "chart1.properties(width='container').save(myJekyllDir+\"assets/json/chart1.json\")"
   ]
  },
  {
   "cell_type": "markdown",
   "id": "e018eb95",
   "metadata": {},
   "source": [
    "## 3. Complications with copy-paste for more complex operations\n",
    "\n",
    "So, not everything translates easily between how we've used vega-lite in Starboard before to here, in Jekyll.  In particular, selections in between plots can get a little tricky.  To do this, let's see about re-making our Mobility dashboard. \n",
    "\n",
    "Let's first do the plots one at a time.  The rectangle plot spec looked like:\n",
    "\n",
    "```\n",
    "var rectPlot1Spec = {\n",
    "  // Data\n",
    "  data: {\"url\":\"https://raw.githubusercontent.com/UIUC-iSchool-DataViz/is445_spring2021/master/week08/data/mobility.csv\"},\n",
    "  // Marks\n",
    "  mark:\"rect\",\n",
    "  height:\"400\",\n",
    "  // Encoding (note:error for encoding vs encodings)\n",
    "  encoding:{\n",
    "    //\"x\":{\"field\":\"Student_teacher_ratio\", \"type\":\"quantitative\"},\n",
    "    \"x\":{\"bin\":{\"maxbins\":10}, \"field\":\"Student_teacher_ratio\", \"type\":\"quantitative\"},\n",
    "    \"y\":{\"field\":\"State\",\"type\":\"ordinal\"},\n",
    "    \"color\":{\"aggregate\":\"count\", \"type\":\"quantitative\"} \n",
    "    // will show the number of records with a specific student/teacher ratio in a particular state\n",
    "  }\n",
    "  \n",
    "};\n",
    "\n",
    "var v = vegaEmbed('#rectPlot1',rectPlot1Spec);\n",
    "```\n",
    "\n",
    "Which is translated to:"
   ]
  },
  {
   "cell_type": "code",
   "execution_count": 42,
   "id": "1b8e4146",
   "metadata": {},
   "outputs": [
    {
     "data": {
      "text/html": [
       "\n",
       "<div id=\"altair-viz-cf27e7a39ce34b1b97728761719380cb\"></div>\n",
       "<script type=\"text/javascript\">\n",
       "  var VEGA_DEBUG = (typeof VEGA_DEBUG == \"undefined\") ? {} : VEGA_DEBUG;\n",
       "  (function(spec, embedOpt){\n",
       "    let outputDiv = document.currentScript.previousElementSibling;\n",
       "    if (outputDiv.id !== \"altair-viz-cf27e7a39ce34b1b97728761719380cb\") {\n",
       "      outputDiv = document.getElementById(\"altair-viz-cf27e7a39ce34b1b97728761719380cb\");\n",
       "    }\n",
       "    const paths = {\n",
       "      \"vega\": \"https://cdn.jsdelivr.net/npm//vega@5?noext\",\n",
       "      \"vega-lib\": \"https://cdn.jsdelivr.net/npm//vega-lib?noext\",\n",
       "      \"vega-lite\": \"https://cdn.jsdelivr.net/npm//vega-lite@4.17.0?noext\",\n",
       "      \"vega-embed\": \"https://cdn.jsdelivr.net/npm//vega-embed@6?noext\",\n",
       "    };\n",
       "\n",
       "    function maybeLoadScript(lib, version) {\n",
       "      var key = `${lib.replace(\"-\", \"\")}_version`;\n",
       "      return (VEGA_DEBUG[key] == version) ?\n",
       "        Promise.resolve(paths[lib]) :\n",
       "        new Promise(function(resolve, reject) {\n",
       "          var s = document.createElement('script');\n",
       "          document.getElementsByTagName(\"head\")[0].appendChild(s);\n",
       "          s.async = true;\n",
       "          s.onload = () => {\n",
       "            VEGA_DEBUG[key] = version;\n",
       "            return resolve(paths[lib]);\n",
       "          };\n",
       "          s.onerror = () => reject(`Error loading script: ${paths[lib]}`);\n",
       "          s.src = paths[lib];\n",
       "        });\n",
       "    }\n",
       "\n",
       "    function showError(err) {\n",
       "      outputDiv.innerHTML = `<div class=\"error\" style=\"color:red;\">${err}</div>`;\n",
       "      throw err;\n",
       "    }\n",
       "\n",
       "    function displayChart(vegaEmbed) {\n",
       "      vegaEmbed(outputDiv, spec, embedOpt)\n",
       "        .catch(err => showError(`Javascript Error: ${err.message}<br>This usually means there's a typo in your chart specification. See the javascript console for the full traceback.`));\n",
       "    }\n",
       "\n",
       "    if(typeof define === \"function\" && define.amd) {\n",
       "      requirejs.config({paths});\n",
       "      require([\"vega-embed\"], displayChart, err => showError(`Error loading script: ${err.message}`));\n",
       "    } else {\n",
       "      maybeLoadScript(\"vega\", \"5\")\n",
       "        .then(() => maybeLoadScript(\"vega-lite\", \"4.17.0\"))\n",
       "        .then(() => maybeLoadScript(\"vega-embed\", \"6\"))\n",
       "        .catch(showError)\n",
       "        .then(() => displayChart(vegaEmbed));\n",
       "    }\n",
       "  })({\"config\": {\"view\": {\"continuousWidth\": 400, \"continuousHeight\": 300}}, \"data\": {\"url\": \"https://raw.githubusercontent.com/UIUC-iSchool-DataViz/is445_spring2021/master/week08/data/mobility.csv\"}, \"mark\": \"rect\", \"encoding\": {\"color\": {\"aggregate\": \"count\", \"type\": \"quantitative\"}, \"x\": {\"bin\": {\"maxbins\": 10}, \"field\": \"Student_teacher_ratio\", \"type\": \"quantitative\"}, \"y\": {\"field\": \"State\", \"type\": \"ordinal\"}}, \"height\": 400, \"$schema\": \"https://vega.github.io/schema/vega-lite/v4.17.0.json\"}, {\"mode\": \"vega-lite\"});\n",
       "</script>"
      ],
      "text/plain": [
       "alt.Chart(...)"
      ]
     },
     "execution_count": 42,
     "metadata": {},
     "output_type": "execute_result"
    }
   ],
   "source": [
    "chart1 = alt.Chart.from_dict({\n",
    "  #// Data\n",
    "  \"data\": {\"url\":\"https://raw.githubusercontent.com/UIUC-iSchool-DataViz/is445_spring2021/master/week08/data/mobility.csv\"},\n",
    "  #// Marks\n",
    "  \"mark\":\"rect\",\n",
    "  \"height\":400,\n",
    "  #// Encoding (note:error for encoding vs encodings)\n",
    "  \"encoding\":{\n",
    "    #//\"x\":{\"field\":\"Student_teacher_ratio\", \"type\":\"quantitative\"},\n",
    "    \"x\":{\"bin\":{\"maxbins\":10}, \"field\":\"Student_teacher_ratio\", \"type\":\"quantitative\"},\n",
    "    \"y\":{\"field\":\"State\",\"type\":\"ordinal\"},\n",
    "    \"color\":{\"aggregate\":\"count\", \"type\":\"quantitative\"} \n",
    "    #// will show the number of records with a specific student/teacher ratio in a particular state\n",
    "  }\n",
    "  \n",
    "})\n",
    "chart1"
   ]
  },
  {
   "cell_type": "markdown",
   "id": "fdc3dbd0",
   "metadata": {},
   "source": [
    "Note of course the changes in where \" have been added and removed."
   ]
  },
  {
   "cell_type": "markdown",
   "id": "a315582c",
   "metadata": {},
   "source": [
    "The second chart was the histogram of the mobility score, given by the specification:\n",
    "\n",
    "```\n",
    "var mobilityHistSpec = {\n",
    "  // Data\n",
    "  data: {\"url\":\"https://raw.githubusercontent.com/UIUC-iSchool-DataViz/is445_spring2021/master/week08/data/mobility.csv\"},\n",
    "  // Mark\n",
    "  mark: \"bar\",\n",
    "  // Encoding\n",
    "  encoding:{\n",
    "    \"x\":{\"field\":\"Mobility\", \"type\":\"quantitative\", \"bin\":true, \"axis\":{\"title\":\"Mobility Score\"}},\n",
    "    //\"x\":{\"field\":\"Mobility\", \"type\":\"quantitative\", \"axis\":{\"title\":\"Mobility Score\"}},\n",
    "    \"y\":{\"aggregate\":\"count\",\"type\":\"quantitative\", \"axis\":{\"title\":\"Mobility Score Distribution\"}}\n",
    "  }\n",
    "};\n",
    "\n",
    "var v = vegaEmbed('#mobilityHist1',mobilityHistSpec);\n",
    "```"
   ]
  },
  {
   "cell_type": "markdown",
   "id": "9b964c9c",
   "metadata": {},
   "source": [
    "This now turns into:"
   ]
  },
  {
   "cell_type": "code",
   "execution_count": 43,
   "id": "e334e5b9",
   "metadata": {},
   "outputs": [
    {
     "data": {
      "text/html": [
       "\n",
       "<div id=\"altair-viz-0e14dc1bd25044c7a54f2916b7cd0832\"></div>\n",
       "<script type=\"text/javascript\">\n",
       "  var VEGA_DEBUG = (typeof VEGA_DEBUG == \"undefined\") ? {} : VEGA_DEBUG;\n",
       "  (function(spec, embedOpt){\n",
       "    let outputDiv = document.currentScript.previousElementSibling;\n",
       "    if (outputDiv.id !== \"altair-viz-0e14dc1bd25044c7a54f2916b7cd0832\") {\n",
       "      outputDiv = document.getElementById(\"altair-viz-0e14dc1bd25044c7a54f2916b7cd0832\");\n",
       "    }\n",
       "    const paths = {\n",
       "      \"vega\": \"https://cdn.jsdelivr.net/npm//vega@5?noext\",\n",
       "      \"vega-lib\": \"https://cdn.jsdelivr.net/npm//vega-lib?noext\",\n",
       "      \"vega-lite\": \"https://cdn.jsdelivr.net/npm//vega-lite@4.17.0?noext\",\n",
       "      \"vega-embed\": \"https://cdn.jsdelivr.net/npm//vega-embed@6?noext\",\n",
       "    };\n",
       "\n",
       "    function maybeLoadScript(lib, version) {\n",
       "      var key = `${lib.replace(\"-\", \"\")}_version`;\n",
       "      return (VEGA_DEBUG[key] == version) ?\n",
       "        Promise.resolve(paths[lib]) :\n",
       "        new Promise(function(resolve, reject) {\n",
       "          var s = document.createElement('script');\n",
       "          document.getElementsByTagName(\"head\")[0].appendChild(s);\n",
       "          s.async = true;\n",
       "          s.onload = () => {\n",
       "            VEGA_DEBUG[key] = version;\n",
       "            return resolve(paths[lib]);\n",
       "          };\n",
       "          s.onerror = () => reject(`Error loading script: ${paths[lib]}`);\n",
       "          s.src = paths[lib];\n",
       "        });\n",
       "    }\n",
       "\n",
       "    function showError(err) {\n",
       "      outputDiv.innerHTML = `<div class=\"error\" style=\"color:red;\">${err}</div>`;\n",
       "      throw err;\n",
       "    }\n",
       "\n",
       "    function displayChart(vegaEmbed) {\n",
       "      vegaEmbed(outputDiv, spec, embedOpt)\n",
       "        .catch(err => showError(`Javascript Error: ${err.message}<br>This usually means there's a typo in your chart specification. See the javascript console for the full traceback.`));\n",
       "    }\n",
       "\n",
       "    if(typeof define === \"function\" && define.amd) {\n",
       "      requirejs.config({paths});\n",
       "      require([\"vega-embed\"], displayChart, err => showError(`Error loading script: ${err.message}`));\n",
       "    } else {\n",
       "      maybeLoadScript(\"vega\", \"5\")\n",
       "        .then(() => maybeLoadScript(\"vega-lite\", \"4.17.0\"))\n",
       "        .then(() => maybeLoadScript(\"vega-embed\", \"6\"))\n",
       "        .catch(showError)\n",
       "        .then(() => displayChart(vegaEmbed));\n",
       "    }\n",
       "  })({\"config\": {\"view\": {\"continuousWidth\": 400, \"continuousHeight\": 300}}, \"data\": {\"url\": \"https://raw.githubusercontent.com/UIUC-iSchool-DataViz/is445_spring2021/master/week08/data/mobility.csv\"}, \"mark\": \"bar\", \"encoding\": {\"x\": {\"axis\": {\"title\": \"Mobility Score\"}, \"bin\": true, \"field\": \"Mobility\", \"type\": \"quantitative\"}, \"y\": {\"aggregate\": \"count\", \"axis\": {\"title\": \"Mobility Score Distribution\"}, \"type\": \"quantitative\"}}, \"$schema\": \"https://vega.github.io/schema/vega-lite/v4.17.0.json\"}, {\"mode\": \"vega-lite\"});\n",
       "</script>"
      ],
      "text/plain": [
       "alt.Chart(...)"
      ]
     },
     "execution_count": 43,
     "metadata": {},
     "output_type": "execute_result"
    }
   ],
   "source": [
    "chart2 = alt.Chart.from_dict({\n",
    "  #// Data\n",
    "  \"data\": {\"url\":\"https://raw.githubusercontent.com/UIUC-iSchool-DataViz/is445_spring2021/master/week08/data/mobility.csv\"},\n",
    "  #// Mark\n",
    "  \"mark\": \"bar\",\n",
    "  #// Encoding\n",
    "  \"encoding\":{\n",
    "    \"x\":{\"field\":\"Mobility\", \"type\":\"quantitative\", \"bin\":True, \"axis\":{\"title\":\"Mobility Score\"}},\n",
    "    #//\"x\":{\"field\":\"Mobility\", \"type\":\"quantitative\", \"axis\":{\"title\":\"Mobility Score\"}},\n",
    "    \"y\":{\"aggregate\":\"count\",\"type\":\"quantitative\", \"axis\":{\"title\":\"Mobility Score Distribution\"}}\n",
    "  }\n",
    "})\n",
    "chart2"
   ]
  },
  {
   "cell_type": "markdown",
   "id": "e104a6d4",
   "metadata": {},
   "source": [
    "Note here that we had to change the JS `true` to the Pythonic `True`."
   ]
  },
  {
   "cell_type": "markdown",
   "id": "62be930e",
   "metadata": {},
   "source": [
    "The first thing we probably want to do is put these charts side-by-side.  We can do this with Altair's horizontal concatination function:"
   ]
  },
  {
   "cell_type": "code",
   "execution_count": 44,
   "id": "50f28e49",
   "metadata": {},
   "outputs": [
    {
     "data": {
      "text/html": [
       "\n",
       "<div id=\"altair-viz-582fb6f4a9a64fd09ba8c77dbd3ce82c\"></div>\n",
       "<script type=\"text/javascript\">\n",
       "  var VEGA_DEBUG = (typeof VEGA_DEBUG == \"undefined\") ? {} : VEGA_DEBUG;\n",
       "  (function(spec, embedOpt){\n",
       "    let outputDiv = document.currentScript.previousElementSibling;\n",
       "    if (outputDiv.id !== \"altair-viz-582fb6f4a9a64fd09ba8c77dbd3ce82c\") {\n",
       "      outputDiv = document.getElementById(\"altair-viz-582fb6f4a9a64fd09ba8c77dbd3ce82c\");\n",
       "    }\n",
       "    const paths = {\n",
       "      \"vega\": \"https://cdn.jsdelivr.net/npm//vega@5?noext\",\n",
       "      \"vega-lib\": \"https://cdn.jsdelivr.net/npm//vega-lib?noext\",\n",
       "      \"vega-lite\": \"https://cdn.jsdelivr.net/npm//vega-lite@4.17.0?noext\",\n",
       "      \"vega-embed\": \"https://cdn.jsdelivr.net/npm//vega-embed@6?noext\",\n",
       "    };\n",
       "\n",
       "    function maybeLoadScript(lib, version) {\n",
       "      var key = `${lib.replace(\"-\", \"\")}_version`;\n",
       "      return (VEGA_DEBUG[key] == version) ?\n",
       "        Promise.resolve(paths[lib]) :\n",
       "        new Promise(function(resolve, reject) {\n",
       "          var s = document.createElement('script');\n",
       "          document.getElementsByTagName(\"head\")[0].appendChild(s);\n",
       "          s.async = true;\n",
       "          s.onload = () => {\n",
       "            VEGA_DEBUG[key] = version;\n",
       "            return resolve(paths[lib]);\n",
       "          };\n",
       "          s.onerror = () => reject(`Error loading script: ${paths[lib]}`);\n",
       "          s.src = paths[lib];\n",
       "        });\n",
       "    }\n",
       "\n",
       "    function showError(err) {\n",
       "      outputDiv.innerHTML = `<div class=\"error\" style=\"color:red;\">${err}</div>`;\n",
       "      throw err;\n",
       "    }\n",
       "\n",
       "    function displayChart(vegaEmbed) {\n",
       "      vegaEmbed(outputDiv, spec, embedOpt)\n",
       "        .catch(err => showError(`Javascript Error: ${err.message}<br>This usually means there's a typo in your chart specification. See the javascript console for the full traceback.`));\n",
       "    }\n",
       "\n",
       "    if(typeof define === \"function\" && define.amd) {\n",
       "      requirejs.config({paths});\n",
       "      require([\"vega-embed\"], displayChart, err => showError(`Error loading script: ${err.message}`));\n",
       "    } else {\n",
       "      maybeLoadScript(\"vega\", \"5\")\n",
       "        .then(() => maybeLoadScript(\"vega-lite\", \"4.17.0\"))\n",
       "        .then(() => maybeLoadScript(\"vega-embed\", \"6\"))\n",
       "        .catch(showError)\n",
       "        .then(() => displayChart(vegaEmbed));\n",
       "    }\n",
       "  })({\"config\": {\"view\": {\"continuousWidth\": 400, \"continuousHeight\": 300}}, \"hconcat\": [{\"data\": {\"url\": \"https://raw.githubusercontent.com/UIUC-iSchool-DataViz/is445_spring2021/master/week08/data/mobility.csv\"}, \"mark\": \"rect\", \"encoding\": {\"color\": {\"aggregate\": \"count\", \"type\": \"quantitative\"}, \"x\": {\"bin\": {\"maxbins\": 10}, \"field\": \"Student_teacher_ratio\", \"type\": \"quantitative\"}, \"y\": {\"field\": \"State\", \"type\": \"ordinal\"}}, \"height\": 400}, {\"data\": {\"url\": \"https://raw.githubusercontent.com/UIUC-iSchool-DataViz/is445_spring2021/master/week08/data/mobility.csv\"}, \"mark\": \"bar\", \"encoding\": {\"x\": {\"axis\": {\"title\": \"Mobility Score\"}, \"bin\": true, \"field\": \"Mobility\", \"type\": \"quantitative\"}, \"y\": {\"aggregate\": \"count\", \"axis\": {\"title\": \"Mobility Score Distribution\"}, \"type\": \"quantitative\"}}}], \"$schema\": \"https://vega.github.io/schema/vega-lite/v4.17.0.json\"}, {\"mode\": \"vega-lite\"});\n",
       "</script>"
      ],
      "text/plain": [
       "alt.HConcatChart(...)"
      ]
     },
     "execution_count": 44,
     "metadata": {},
     "output_type": "execute_result"
    }
   ],
   "source": [
    "chart = alt.HConcatChart(hconcat=[chart1,chart2])\n",
    "chart"
   ]
  },
  {
   "cell_type": "code",
   "execution_count": 48,
   "id": "97499aa8",
   "metadata": {},
   "outputs": [],
   "source": [
    "# note that this gives an error -- ignore this for the time being\n",
    "#chart.properties(width='container').save(myJekyllDir+\"assets/json/static_mobility.json\")\n",
    "chart.properties().save(myJekyllDir+\"assets/json/static_mobility.json\")"
   ]
  },
  {
   "cell_type": "markdown",
   "id": "1f150f28",
   "metadata": {},
   "source": [
    "Ok, so now we want to add a brush selection like before for the left-most plot that changes the values of the histograms on the right-most plot.  How to do this?  Well, first let's look at the brush selector in Altair:"
   ]
  },
  {
   "cell_type": "code",
   "execution_count": 15,
   "id": "fb53f5a1",
   "metadata": {},
   "outputs": [],
   "source": [
    "brush = alt.selection_interval()  # selection of type \"interval\""
   ]
  },
  {
   "cell_type": "markdown",
   "id": "ec803811",
   "metadata": {},
   "source": [
    "We can add this to our first plot and then see we have some interactivity:"
   ]
  },
  {
   "cell_type": "code",
   "execution_count": 16,
   "id": "3486930c",
   "metadata": {},
   "outputs": [
    {
     "data": {
      "text/html": [
       "\n",
       "<div id=\"altair-viz-90d1e0bda81749828eaf946bfa09d2cb\"></div>\n",
       "<script type=\"text/javascript\">\n",
       "  var VEGA_DEBUG = (typeof VEGA_DEBUG == \"undefined\") ? {} : VEGA_DEBUG;\n",
       "  (function(spec, embedOpt){\n",
       "    let outputDiv = document.currentScript.previousElementSibling;\n",
       "    if (outputDiv.id !== \"altair-viz-90d1e0bda81749828eaf946bfa09d2cb\") {\n",
       "      outputDiv = document.getElementById(\"altair-viz-90d1e0bda81749828eaf946bfa09d2cb\");\n",
       "    }\n",
       "    const paths = {\n",
       "      \"vega\": \"https://cdn.jsdelivr.net/npm//vega@5?noext\",\n",
       "      \"vega-lib\": \"https://cdn.jsdelivr.net/npm//vega-lib?noext\",\n",
       "      \"vega-lite\": \"https://cdn.jsdelivr.net/npm//vega-lite@4.17.0?noext\",\n",
       "      \"vega-embed\": \"https://cdn.jsdelivr.net/npm//vega-embed@6?noext\",\n",
       "    };\n",
       "\n",
       "    function maybeLoadScript(lib, version) {\n",
       "      var key = `${lib.replace(\"-\", \"\")}_version`;\n",
       "      return (VEGA_DEBUG[key] == version) ?\n",
       "        Promise.resolve(paths[lib]) :\n",
       "        new Promise(function(resolve, reject) {\n",
       "          var s = document.createElement('script');\n",
       "          document.getElementsByTagName(\"head\")[0].appendChild(s);\n",
       "          s.async = true;\n",
       "          s.onload = () => {\n",
       "            VEGA_DEBUG[key] = version;\n",
       "            return resolve(paths[lib]);\n",
       "          };\n",
       "          s.onerror = () => reject(`Error loading script: ${paths[lib]}`);\n",
       "          s.src = paths[lib];\n",
       "        });\n",
       "    }\n",
       "\n",
       "    function showError(err) {\n",
       "      outputDiv.innerHTML = `<div class=\"error\" style=\"color:red;\">${err}</div>`;\n",
       "      throw err;\n",
       "    }\n",
       "\n",
       "    function displayChart(vegaEmbed) {\n",
       "      vegaEmbed(outputDiv, spec, embedOpt)\n",
       "        .catch(err => showError(`Javascript Error: ${err.message}<br>This usually means there's a typo in your chart specification. See the javascript console for the full traceback.`));\n",
       "    }\n",
       "\n",
       "    if(typeof define === \"function\" && define.amd) {\n",
       "      requirejs.config({paths});\n",
       "      require([\"vega-embed\"], displayChart, err => showError(`Error loading script: ${err.message}`));\n",
       "    } else {\n",
       "      maybeLoadScript(\"vega\", \"5\")\n",
       "        .then(() => maybeLoadScript(\"vega-lite\", \"4.17.0\"))\n",
       "        .then(() => maybeLoadScript(\"vega-embed\", \"6\"))\n",
       "        .catch(showError)\n",
       "        .then(() => displayChart(vegaEmbed));\n",
       "    }\n",
       "  })({\"config\": {\"view\": {\"continuousWidth\": 400, \"continuousHeight\": 300}}, \"data\": {\"url\": \"https://raw.githubusercontent.com/UIUC-iSchool-DataViz/is445_spring2021/master/week08/data/mobility.csv\"}, \"mark\": \"rect\", \"encoding\": {\"color\": {\"aggregate\": \"count\", \"type\": \"quantitative\"}, \"x\": {\"bin\": {\"maxbins\": 10}, \"field\": \"Student_teacher_ratio\", \"type\": \"quantitative\"}, \"y\": {\"field\": \"State\", \"type\": \"ordinal\"}}, \"height\": 400, \"selection\": {\"selector001\": {\"type\": \"interval\"}}, \"$schema\": \"https://vega.github.io/schema/vega-lite/v4.17.0.json\"}, {\"mode\": \"vega-lite\"});\n",
       "</script>"
      ],
      "text/plain": [
       "alt.Chart(...)"
      ]
     },
     "execution_count": 16,
     "metadata": {},
     "output_type": "execute_result"
    }
   ],
   "source": [
    "chart1.add_selection(\n",
    "        brush\n",
    "    )"
   ]
  },
  {
   "cell_type": "markdown",
   "id": "76333a41",
   "metadata": {},
   "source": [
    "What are some of the parameters we can use in our brush selection?"
   ]
  },
  {
   "cell_type": "code",
   "execution_count": 14,
   "id": "c06a8a4e",
   "metadata": {},
   "outputs": [],
   "source": [
    "alt.selection_interval?"
   ]
  },
  {
   "cell_type": "markdown",
   "id": "82894893",
   "metadata": {},
   "source": [
    "One thing we note here is that there is potentially a `field` we can use for the selection which might make us think we want to use \"Mobility\" as the input but we actually now need to specify the encodings -- i.e. on what axis in our original plot are we selecting?\n",
    "\n",
    "So, we are selecting boxes in `chart1` -- so this will be selecting on both x & y:"
   ]
  },
  {
   "cell_type": "code",
   "execution_count": 26,
   "id": "14ad9fa1",
   "metadata": {},
   "outputs": [],
   "source": [
    "brush = alt.selection_interval(encodings=['x','y'])"
   ]
  },
  {
   "cell_type": "markdown",
   "id": "976aa699",
   "metadata": {},
   "source": [
    "Let's now add this brush to our `chart1`:"
   ]
  },
  {
   "cell_type": "code",
   "execution_count": 50,
   "id": "8fe44c37",
   "metadata": {},
   "outputs": [],
   "source": [
    "chart1 = alt.Chart.from_dict({\n",
    "  \"data\": {\"url\":\"https://raw.githubusercontent.com/UIUC-iSchool-DataViz/is445_spring2021/master/week08/data/mobility.csv\"},\n",
    "  \"mark\":\"rect\",\n",
    "  \"height\":400,\n",
    "  \"encoding\":{\n",
    "    \"x\":{\"bin\":{\"maxbins\":10}, \"field\":\"Student_teacher_ratio\", \"type\":\"quantitative\"},\n",
    "    \"y\":{\"field\":\"State\",\"type\":\"ordinal\"},\n",
    "    \"color\":{\"aggregate\":\"count\", \"type\":\"quantitative\"} \n",
    "  }  \n",
    "}).add_selection(\n",
    "        brush\n",
    "    )"
   ]
  },
  {
   "cell_type": "markdown",
   "id": "95761b6d",
   "metadata": {},
   "source": [
    "And now we can add this also as a [transform filter](https://altair-viz.github.io/user_guide/transform/filter.html) to our `chart2` plot:"
   ]
  },
  {
   "cell_type": "code",
   "execution_count": 51,
   "id": "84ef83ac",
   "metadata": {},
   "outputs": [],
   "source": [
    "chart2 = alt.Chart.from_dict({\n",
    "  \"data\": {\"url\":\"https://raw.githubusercontent.com/UIUC-iSchool-DataViz/is445_spring2021/master/week08/data/mobility.csv\"},\n",
    "  \"mark\": \"bar\",\n",
    "  \"encoding\":{\n",
    "    \"x\":{\"field\":\"Mobility\", \"type\":\"quantitative\", \"bin\":True, \"axis\":{\"title\":\"Mobility Score\"}},\n",
    "    \"y\":{\"aggregate\":\"count\",\"type\":\"quantitative\", \"axis\":{\"title\":\"Mobility Score Distribution\"}}\n",
    "  }\n",
    "}).transform_filter(\n",
    "    brush\n",
    ")"
   ]
  },
  {
   "cell_type": "markdown",
   "id": "e8fd1dc4",
   "metadata": {},
   "source": [
    "Now let's horizontally concatinate them, and let's do it in the fancy Altair way:"
   ]
  },
  {
   "cell_type": "code",
   "execution_count": 52,
   "id": "c835d3e3",
   "metadata": {},
   "outputs": [],
   "source": [
    "chart = chart1 | chart2"
   ]
  },
  {
   "cell_type": "code",
   "execution_count": 53,
   "id": "92ede7e6",
   "metadata": {},
   "outputs": [
    {
     "data": {
      "text/html": [
       "\n",
       "<div id=\"altair-viz-042364e508894f85a6601e0455dc5a02\"></div>\n",
       "<script type=\"text/javascript\">\n",
       "  var VEGA_DEBUG = (typeof VEGA_DEBUG == \"undefined\") ? {} : VEGA_DEBUG;\n",
       "  (function(spec, embedOpt){\n",
       "    let outputDiv = document.currentScript.previousElementSibling;\n",
       "    if (outputDiv.id !== \"altair-viz-042364e508894f85a6601e0455dc5a02\") {\n",
       "      outputDiv = document.getElementById(\"altair-viz-042364e508894f85a6601e0455dc5a02\");\n",
       "    }\n",
       "    const paths = {\n",
       "      \"vega\": \"https://cdn.jsdelivr.net/npm//vega@5?noext\",\n",
       "      \"vega-lib\": \"https://cdn.jsdelivr.net/npm//vega-lib?noext\",\n",
       "      \"vega-lite\": \"https://cdn.jsdelivr.net/npm//vega-lite@4.17.0?noext\",\n",
       "      \"vega-embed\": \"https://cdn.jsdelivr.net/npm//vega-embed@6?noext\",\n",
       "    };\n",
       "\n",
       "    function maybeLoadScript(lib, version) {\n",
       "      var key = `${lib.replace(\"-\", \"\")}_version`;\n",
       "      return (VEGA_DEBUG[key] == version) ?\n",
       "        Promise.resolve(paths[lib]) :\n",
       "        new Promise(function(resolve, reject) {\n",
       "          var s = document.createElement('script');\n",
       "          document.getElementsByTagName(\"head\")[0].appendChild(s);\n",
       "          s.async = true;\n",
       "          s.onload = () => {\n",
       "            VEGA_DEBUG[key] = version;\n",
       "            return resolve(paths[lib]);\n",
       "          };\n",
       "          s.onerror = () => reject(`Error loading script: ${paths[lib]}`);\n",
       "          s.src = paths[lib];\n",
       "        });\n",
       "    }\n",
       "\n",
       "    function showError(err) {\n",
       "      outputDiv.innerHTML = `<div class=\"error\" style=\"color:red;\">${err}</div>`;\n",
       "      throw err;\n",
       "    }\n",
       "\n",
       "    function displayChart(vegaEmbed) {\n",
       "      vegaEmbed(outputDiv, spec, embedOpt)\n",
       "        .catch(err => showError(`Javascript Error: ${err.message}<br>This usually means there's a typo in your chart specification. See the javascript console for the full traceback.`));\n",
       "    }\n",
       "\n",
       "    if(typeof define === \"function\" && define.amd) {\n",
       "      requirejs.config({paths});\n",
       "      require([\"vega-embed\"], displayChart, err => showError(`Error loading script: ${err.message}`));\n",
       "    } else {\n",
       "      maybeLoadScript(\"vega\", \"5\")\n",
       "        .then(() => maybeLoadScript(\"vega-lite\", \"4.17.0\"))\n",
       "        .then(() => maybeLoadScript(\"vega-embed\", \"6\"))\n",
       "        .catch(showError)\n",
       "        .then(() => displayChart(vegaEmbed));\n",
       "    }\n",
       "  })({\"config\": {\"view\": {\"continuousWidth\": 400, \"continuousHeight\": 300}}, \"hconcat\": [{\"data\": {\"url\": \"https://raw.githubusercontent.com/UIUC-iSchool-DataViz/is445_spring2021/master/week08/data/mobility.csv\"}, \"mark\": \"rect\", \"encoding\": {\"color\": {\"aggregate\": \"count\", \"type\": \"quantitative\"}, \"x\": {\"bin\": {\"maxbins\": 10}, \"field\": \"Student_teacher_ratio\", \"type\": \"quantitative\"}, \"y\": {\"field\": \"State\", \"type\": \"ordinal\"}}, \"height\": 400, \"selection\": {\"selector006\": {\"type\": \"interval\", \"encodings\": [\"x\", \"y\"]}}}, {\"data\": {\"url\": \"https://raw.githubusercontent.com/UIUC-iSchool-DataViz/is445_spring2021/master/week08/data/mobility.csv\"}, \"mark\": \"bar\", \"encoding\": {\"x\": {\"axis\": {\"title\": \"Mobility Score\"}, \"bin\": true, \"field\": \"Mobility\", \"type\": \"quantitative\"}, \"y\": {\"aggregate\": \"count\", \"axis\": {\"title\": \"Mobility Score Distribution\"}, \"type\": \"quantitative\"}}, \"transform\": [{\"filter\": {\"selection\": \"selector006\"}}]}], \"$schema\": \"https://vega.github.io/schema/vega-lite/v4.17.0.json\"}, {\"mode\": \"vega-lite\"});\n",
       "</script>"
      ],
      "text/plain": [
       "alt.HConcatChart(...)"
      ]
     },
     "execution_count": 53,
     "metadata": {},
     "output_type": "execute_result"
    }
   ],
   "source": [
    "chart"
   ]
  },
  {
   "cell_type": "markdown",
   "id": "24d04a38",
   "metadata": {},
   "source": [
    "Neat!  Now we can once again save this in the \"usual way\" to add to our Jekyll file:"
   ]
  },
  {
   "cell_type": "code",
   "execution_count": 54,
   "id": "f852b07a",
   "metadata": {},
   "outputs": [],
   "source": [
    "#error again, ignorning\n",
    "#chart.properties(width='container').save(myJekyllDir+\"assets/json/dashboard_mobility.json\")\n",
    "chart.properties().save(myJekyllDir+\"assets/json/dashboard_mobility.json\")"
   ]
  },
  {
   "cell_type": "code",
   "execution_count": null,
   "id": "5d5319e8",
   "metadata": {},
   "outputs": [],
   "source": []
  },
  {
   "cell_type": "code",
   "execution_count": null,
   "id": "7b26b9c9",
   "metadata": {},
   "outputs": [],
   "source": []
  },
  {
   "cell_type": "code",
   "execution_count": null,
   "id": "1dc14a8f",
   "metadata": {},
   "outputs": [],
   "source": []
  }
 ],
 "metadata": {
  "kernelspec": {
   "display_name": "Python 3 (ipykernel)",
   "language": "python",
   "name": "python3"
  },
  "language_info": {
   "codemirror_mode": {
    "name": "ipython",
    "version": 3
   },
   "file_extension": ".py",
   "mimetype": "text/x-python",
   "name": "python",
   "nbconvert_exporter": "python",
   "pygments_lexer": "ipython3",
   "version": "3.7.12"
  }
 },
 "nbformat": 4,
 "nbformat_minor": 5
}
