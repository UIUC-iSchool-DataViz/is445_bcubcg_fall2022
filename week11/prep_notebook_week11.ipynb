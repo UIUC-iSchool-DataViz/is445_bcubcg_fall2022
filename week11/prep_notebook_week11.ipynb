{
 "cells": [
  {
   "cell_type": "markdown",
   "id": "659dd1d5",
   "metadata": {},
   "source": [
    "# Week 11, Prep notebook"
   ]
  },
  {
   "cell_type": "markdown",
   "id": "05eb00fb",
   "metadata": {},
   "source": [
    "Last week we talked about how Jekyll sites work overall, and this week we'll focus on building visualizations to host on these pages with vega-lite and Altair in Python."
   ]
  },
  {
   "cell_type": "markdown",
   "id": "cb8c4486",
   "metadata": {},
   "source": [
    "We can start with saving vega-lite code directly as json if we do our development in the vega-editor.  For example, if we use this example: https://vega.github.io/editor/#/examples/vega-lite/stacked_bar_h"
   ]
  },
  {
   "cell_type": "code",
   "execution_count": null,
   "id": "ebe515d0",
   "metadata": {},
   "outputs": [],
   "source": []
  }
 ],
 "metadata": {
  "kernelspec": {
   "display_name": "Python 3 (ipykernel)",
   "language": "python",
   "name": "python3"
  },
  "language_info": {
   "codemirror_mode": {
    "name": "ipython",
    "version": 3
   },
   "file_extension": ".py",
   "mimetype": "text/x-python",
   "name": "python",
   "nbconvert_exporter": "python",
   "pygments_lexer": "ipython3",
   "version": "3.7.12"
  }
 },
 "nbformat": 4,
 "nbformat_minor": 5
}
