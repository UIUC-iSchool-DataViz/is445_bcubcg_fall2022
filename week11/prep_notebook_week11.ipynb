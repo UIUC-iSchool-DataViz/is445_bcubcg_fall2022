{
 "cells": [
  {
   "cell_type": "markdown",
   "id": "b65894ca",
   "metadata": {},
   "source": [
    "# Week 11, Prep notebook"
   ]
  },
  {
   "cell_type": "markdown",
   "id": "de89b6e5",
   "metadata": {},
   "source": [
    "Last week we talked about how Jekyll sites work overall, and this week we'll focus on building visualizations to host on these pages with vega-lite and Altair in Python."
   ]
  },
  {
   "cell_type": "markdown",
   "id": "94279b39",
   "metadata": {},
   "source": [
    "## 1. Include vega-lite plots directly from vega-editor\n",
    "\n",
    "We can start with saving vega-lite code directly as json if we do our development in the vega-editor.  For a walk through of this see the file `3_direct_from_vega_editor.md` in the prep files (note to self: this is in the dev onlinecv locally at the moment).\n",
    "\n",
    "**You must include the full URL to the dataset for this to work!**"
   ]
  },
  {
   "cell_type": "markdown",
   "id": "a30988b5",
   "metadata": {},
   "source": [
    "## 2. Copy vega-lite code from other sources and save using Altair\n",
    "\n",
    "For example, you may have developed some code on [Starboard](https://starboard.gg/) that you now want to copy into this notebook with Altair, and then eventually save to your Jekyll webpage.\n",
    "\n",
    "We can follow the [Converting vega-lite to Altair instructions](https://altair-viz.github.io/user_guide/internals.html#converting-vega-lite-to-altair) to do this."
   ]
  },
  {
   "cell_type": "markdown",
   "id": "397fc365",
   "metadata": {},
   "source": [
    "For example, from [one of our prep Starboard notebooks](https://starboard.gg/jnaiman/prep_notebook_week11_spring2022-nG3SEUx) we have the following vega-lite specification:\n",
    "\n",
    "```\n",
    "var myHist1 = \n",
    "{\n",
    "  data: {\"url\": \"https://raw.githubusercontent.com/UIUC-iSchool-DataViz/is445_spring2022/master/week10/data/mobility.csv\"\n",
    "  },\n",
    "  mark: \"bar\",\n",
    "  height: \"300\",\n",
    "  width: \"500\",\n",
    "  encoding: {\n",
    "    \"x\": {\"field\": \"State\", \"type\": \"nominal\"},\n",
    "    // NOTE: this won't work because \"sum\" assumes numerical data\n",
    "    //\"y\": {\"aggregate\": \"sum\", \"field\": \"State\", \"type\": \"nominal\"} \n",
    "    //\"y\": {\"aggregate\": \"count\", \"field\": \"State\", \"type\": \"nominal\"} // might give an error/warning\n",
    "    \"y\": {\"aggregate\": \"count\", \"field\": \"State\", \"type\": \"quantitative\"}\n",
    "  }\n",
    "};\n",
    "\n",
    "var v = vegaEmbed('#firstHist', myHist1);\n",
    "```\n",
    "\n",
    "We can convert this to an Altair plot here with:"
   ]
  },
  {
   "cell_type": "code",
   "execution_count": 1,
   "id": "e9c5b90c",
   "metadata": {},
   "outputs": [],
   "source": [
    "import altair as alt"
   ]
  },
  {
   "cell_type": "code",
   "execution_count": 5,
   "id": "b04fb9c8",
   "metadata": {},
   "outputs": [
    {
     "data": {
      "text/html": [
       "\n",
       "<div id=\"altair-viz-733c046887f64403807d9f9c43e7fcba\"></div>\n",
       "<script type=\"text/javascript\">\n",
       "  var VEGA_DEBUG = (typeof VEGA_DEBUG == \"undefined\") ? {} : VEGA_DEBUG;\n",
       "  (function(spec, embedOpt){\n",
       "    let outputDiv = document.currentScript.previousElementSibling;\n",
       "    if (outputDiv.id !== \"altair-viz-733c046887f64403807d9f9c43e7fcba\") {\n",
       "      outputDiv = document.getElementById(\"altair-viz-733c046887f64403807d9f9c43e7fcba\");\n",
       "    }\n",
       "    const paths = {\n",
       "      \"vega\": \"https://cdn.jsdelivr.net/npm//vega@5?noext\",\n",
       "      \"vega-lib\": \"https://cdn.jsdelivr.net/npm//vega-lib?noext\",\n",
       "      \"vega-lite\": \"https://cdn.jsdelivr.net/npm//vega-lite@4.17.0?noext\",\n",
       "      \"vega-embed\": \"https://cdn.jsdelivr.net/npm//vega-embed@6?noext\",\n",
       "    };\n",
       "\n",
       "    function maybeLoadScript(lib, version) {\n",
       "      var key = `${lib.replace(\"-\", \"\")}_version`;\n",
       "      return (VEGA_DEBUG[key] == version) ?\n",
       "        Promise.resolve(paths[lib]) :\n",
       "        new Promise(function(resolve, reject) {\n",
       "          var s = document.createElement('script');\n",
       "          document.getElementsByTagName(\"head\")[0].appendChild(s);\n",
       "          s.async = true;\n",
       "          s.onload = () => {\n",
       "            VEGA_DEBUG[key] = version;\n",
       "            return resolve(paths[lib]);\n",
       "          };\n",
       "          s.onerror = () => reject(`Error loading script: ${paths[lib]}`);\n",
       "          s.src = paths[lib];\n",
       "        });\n",
       "    }\n",
       "\n",
       "    function showError(err) {\n",
       "      outputDiv.innerHTML = `<div class=\"error\" style=\"color:red;\">${err}</div>`;\n",
       "      throw err;\n",
       "    }\n",
       "\n",
       "    function displayChart(vegaEmbed) {\n",
       "      vegaEmbed(outputDiv, spec, embedOpt)\n",
       "        .catch(err => showError(`Javascript Error: ${err.message}<br>This usually means there's a typo in your chart specification. See the javascript console for the full traceback.`));\n",
       "    }\n",
       "\n",
       "    if(typeof define === \"function\" && define.amd) {\n",
       "      requirejs.config({paths});\n",
       "      require([\"vega-embed\"], displayChart, err => showError(`Error loading script: ${err.message}`));\n",
       "    } else {\n",
       "      maybeLoadScript(\"vega\", \"5\")\n",
       "        .then(() => maybeLoadScript(\"vega-lite\", \"4.17.0\"))\n",
       "        .then(() => maybeLoadScript(\"vega-embed\", \"6\"))\n",
       "        .catch(showError)\n",
       "        .then(() => displayChart(vegaEmbed));\n",
       "    }\n",
       "  })({\"config\": {\"view\": {\"continuousWidth\": 400, \"continuousHeight\": 300}}, \"data\": {\"url\": \"https://raw.githubusercontent.com/UIUC-iSchool-DataViz/is445_spring2022/master/week10/data/mobility.csv\"}, \"mark\": \"bar\", \"encoding\": {\"x\": {\"field\": \"State\", \"type\": \"nominal\"}, \"y\": {\"aggregate\": \"count\", \"field\": \"State\", \"type\": \"quantitative\"}}, \"height\": 300, \"width\": 500, \"$schema\": \"https://vega.github.io/schema/vega-lite/v4.17.0.json\"}, {\"mode\": \"vega-lite\"});\n",
       "</script>"
      ],
      "text/plain": [
       "alt.Chart(...)"
      ]
     },
     "execution_count": 5,
     "metadata": {},
     "output_type": "execute_result"
    }
   ],
   "source": [
    "chart1 = alt.Chart.from_dict({\n",
    "  \"data\": {\"url\": \"https://raw.githubusercontent.com/UIUC-iSchool-DataViz/is445_spring2022/master/week10/data/mobility.csv\"\n",
    "  },\n",
    "  \"mark\": \"bar\",\n",
    "  \"height\": 300,\n",
    "  \"width\": 500,\n",
    "  \"encoding\": {\n",
    "    \"x\": {\"field\": \"State\", \"type\": \"nominal\"},\n",
    "    # NOTE: this won't work because \"sum\" assumes numerical data\n",
    "    #\"y\": {\"aggregate\": \"sum\", \"field\": \"State\", \"type\": \"nominal\"} \n",
    "    #\"y\": {\"aggregate\": \"count\", \"field\": \"State\", \"type\": \"nominal\"} // might give an error/warning\n",
    "    \"y\": {\"aggregate\": \"count\", \"field\": \"State\", \"type\": \"quantitative\"}\n",
    "  }\n",
    "})\n",
    "\n",
    "chart1"
   ]
  },
  {
   "cell_type": "markdown",
   "id": "67626cae",
   "metadata": {},
   "source": [
    "Note that I had to put in and take out some \" marks -- this is because different vega-lite \"hosting\" services will be more/less lenient with these kinds of formatting issues.\n",
    "\n",
    "Now, in principle, I could go to the Vega-Editor using the three `...` button at the upper right of this plot, OR I can just save with:"
   ]
  },
  {
   "cell_type": "code",
   "execution_count": 8,
   "id": "815098a5",
   "metadata": {},
   "outputs": [],
   "source": [
    "myJekyllDir = '/Users/jnaiman/online_cv_fall2022/'\n",
    "chart1.properties(width='container').save(myJekyllDir+\"assets/json/chart1.json\")"
   ]
  },
  {
   "cell_type": "markdown",
   "id": "c5d4bdcb",
   "metadata": {},
   "source": [
    "## 3. Complications with copy-paste for more complex operations\n",
    "\n",
    "So, not everything translates easily between how we've used vega-lite in Starboard before to here, in Jekyll.  In particular, selections in between plots can get a little tricky.  To do this, let's see about re-making our Mobility dashboard. \n",
    "\n",
    "Let's first do the plots one at a time.  The rectangle plot spec looked like:\n",
    "\n",
    "```\n",
    "var rectPlot1Spec = {\n",
    "  // Data\n",
    "  data: {\"url\":\"https://raw.githubusercontent.com/UIUC-iSchool-DataViz/is445_spring2021/master/week08/data/mobility.csv\"},\n",
    "  // Marks\n",
    "  mark:\"rect\",\n",
    "  height:\"400\",\n",
    "  // Encoding (note:error for encoding vs encodings)\n",
    "  encoding:{\n",
    "    //\"x\":{\"field\":\"Student_teacher_ratio\", \"type\":\"quantitative\"},\n",
    "    \"x\":{\"bin\":{\"maxbins\":10}, \"field\":\"Student_teacher_ratio\", \"type\":\"quantitative\"},\n",
    "    \"y\":{\"field\":\"State\",\"type\":\"ordinal\"},\n",
    "    \"color\":{\"aggregate\":\"count\", \"type\":\"quantitative\"} \n",
    "    // will show the number of records with a specific student/teacher ratio in a particular state\n",
    "  }\n",
    "  \n",
    "};\n",
    "\n",
    "var v = vegaEmbed('#rectPlot1',rectPlot1Spec);\n",
    "```\n",
    "\n",
    "Which is translated to:"
   ]
  },
  {
   "cell_type": "code",
   "execution_count": 42,
   "id": "d1d5f9fe",
   "metadata": {},
   "outputs": [
    {
     "data": {
      "text/html": [
       "\n",
       "<div id=\"altair-viz-cf27e7a39ce34b1b97728761719380cb\"></div>\n",
       "<script type=\"text/javascript\">\n",
       "  var VEGA_DEBUG = (typeof VEGA_DEBUG == \"undefined\") ? {} : VEGA_DEBUG;\n",
       "  (function(spec, embedOpt){\n",
       "    let outputDiv = document.currentScript.previousElementSibling;\n",
       "    if (outputDiv.id !== \"altair-viz-cf27e7a39ce34b1b97728761719380cb\") {\n",
       "      outputDiv = document.getElementById(\"altair-viz-cf27e7a39ce34b1b97728761719380cb\");\n",
       "    }\n",
       "    const paths = {\n",
       "      \"vega\": \"https://cdn.jsdelivr.net/npm//vega@5?noext\",\n",
       "      \"vega-lib\": \"https://cdn.jsdelivr.net/npm//vega-lib?noext\",\n",
       "      \"vega-lite\": \"https://cdn.jsdelivr.net/npm//vega-lite@4.17.0?noext\",\n",
       "      \"vega-embed\": \"https://cdn.jsdelivr.net/npm//vega-embed@6?noext\",\n",
       "    };\n",
       "\n",
       "    function maybeLoadScript(lib, version) {\n",
       "      var key = `${lib.replace(\"-\", \"\")}_version`;\n",
       "      return (VEGA_DEBUG[key] == version) ?\n",
       "        Promise.resolve(paths[lib]) :\n",
       "        new Promise(function(resolve, reject) {\n",
       "          var s = document.createElement('script');\n",
       "          document.getElementsByTagName(\"head\")[0].appendChild(s);\n",
       "          s.async = true;\n",
       "          s.onload = () => {\n",
       "            VEGA_DEBUG[key] = version;\n",
       "            return resolve(paths[lib]);\n",
       "          };\n",
       "          s.onerror = () => reject(`Error loading script: ${paths[lib]}`);\n",
       "          s.src = paths[lib];\n",
       "        });\n",
       "    }\n",
       "\n",
       "    function showError(err) {\n",
       "      outputDiv.innerHTML = `<div class=\"error\" style=\"color:red;\">${err}</div>`;\n",
       "      throw err;\n",
       "    }\n",
       "\n",
       "    function displayChart(vegaEmbed) {\n",
       "      vegaEmbed(outputDiv, spec, embedOpt)\n",
       "        .catch(err => showError(`Javascript Error: ${err.message}<br>This usually means there's a typo in your chart specification. See the javascript console for the full traceback.`));\n",
       "    }\n",
       "\n",
       "    if(typeof define === \"function\" && define.amd) {\n",
       "      requirejs.config({paths});\n",
       "      require([\"vega-embed\"], displayChart, err => showError(`Error loading script: ${err.message}`));\n",
       "    } else {\n",
       "      maybeLoadScript(\"vega\", \"5\")\n",
       "        .then(() => maybeLoadScript(\"vega-lite\", \"4.17.0\"))\n",
       "        .then(() => maybeLoadScript(\"vega-embed\", \"6\"))\n",
       "        .catch(showError)\n",
       "        .then(() => displayChart(vegaEmbed));\n",
       "    }\n",
       "  })({\"config\": {\"view\": {\"continuousWidth\": 400, \"continuousHeight\": 300}}, \"data\": {\"url\": \"https://raw.githubusercontent.com/UIUC-iSchool-DataViz/is445_spring2021/master/week08/data/mobility.csv\"}, \"mark\": \"rect\", \"encoding\": {\"color\": {\"aggregate\": \"count\", \"type\": \"quantitative\"}, \"x\": {\"bin\": {\"maxbins\": 10}, \"field\": \"Student_teacher_ratio\", \"type\": \"quantitative\"}, \"y\": {\"field\": \"State\", \"type\": \"ordinal\"}}, \"height\": 400, \"$schema\": \"https://vega.github.io/schema/vega-lite/v4.17.0.json\"}, {\"mode\": \"vega-lite\"});\n",
       "</script>"
      ],
      "text/plain": [
       "alt.Chart(...)"
      ]
     },
     "execution_count": 42,
     "metadata": {},
     "output_type": "execute_result"
    }
   ],
   "source": [
    "chart1 = alt.Chart.from_dict({\n",
    "  #// Data\n",
    "  \"data\": {\"url\":\"https://raw.githubusercontent.com/UIUC-iSchool-DataViz/is445_spring2021/master/week08/data/mobility.csv\"},\n",
    "  #// Marks\n",
    "  \"mark\":\"rect\",\n",
    "  \"height\":400,\n",
    "  #// Encoding (note:error for encoding vs encodings)\n",
    "  \"encoding\":{\n",
    "    #//\"x\":{\"field\":\"Student_teacher_ratio\", \"type\":\"quantitative\"},\n",
    "    \"x\":{\"bin\":{\"maxbins\":10}, \"field\":\"Student_teacher_ratio\", \"type\":\"quantitative\"},\n",
    "    \"y\":{\"field\":\"State\",\"type\":\"ordinal\"},\n",
    "    \"color\":{\"aggregate\":\"count\", \"type\":\"quantitative\"} \n",
    "    #// will show the number of records with a specific student/teacher ratio in a particular state\n",
    "  }\n",
    "  \n",
    "})\n",
    "chart1"
   ]
  },
  {
   "cell_type": "markdown",
   "id": "1cc97ba5",
   "metadata": {},
   "source": [
    "Note of course the changes in where \" have been added and removed."
   ]
  },
  {
   "cell_type": "markdown",
   "id": "21b426ac",
   "metadata": {},
   "source": [
    "The second chart was the histogram of the mobility score, given by the specification:\n",
    "\n",
    "```\n",
    "var mobilityHistSpec = {\n",
    "  // Data\n",
    "  data: {\"url\":\"https://raw.githubusercontent.com/UIUC-iSchool-DataViz/is445_spring2021/master/week08/data/mobility.csv\"},\n",
    "  // Mark\n",
    "  mark: \"bar\",\n",
    "  // Encoding\n",
    "  encoding:{\n",
    "    \"x\":{\"field\":\"Mobility\", \"type\":\"quantitative\", \"bin\":true, \"axis\":{\"title\":\"Mobility Score\"}},\n",
    "    //\"x\":{\"field\":\"Mobility\", \"type\":\"quantitative\", \"axis\":{\"title\":\"Mobility Score\"}},\n",
    "    \"y\":{\"aggregate\":\"count\",\"type\":\"quantitative\", \"axis\":{\"title\":\"Mobility Score Distribution\"}}\n",
    "  }\n",
    "};\n",
    "\n",
    "var v = vegaEmbed('#mobilityHist1',mobilityHistSpec);\n",
    "```"
   ]
  },
  {
   "cell_type": "markdown",
   "id": "d5c136c5",
   "metadata": {},
   "source": [
    "This now turns into:"
   ]
  },
  {
   "cell_type": "code",
   "execution_count": 43,
   "id": "2b7cb63c",
   "metadata": {},
   "outputs": [
    {
     "data": {
      "text/html": [
       "\n",
       "<div id=\"altair-viz-0e14dc1bd25044c7a54f2916b7cd0832\"></div>\n",
       "<script type=\"text/javascript\">\n",
       "  var VEGA_DEBUG = (typeof VEGA_DEBUG == \"undefined\") ? {} : VEGA_DEBUG;\n",
       "  (function(spec, embedOpt){\n",
       "    let outputDiv = document.currentScript.previousElementSibling;\n",
       "    if (outputDiv.id !== \"altair-viz-0e14dc1bd25044c7a54f2916b7cd0832\") {\n",
       "      outputDiv = document.getElementById(\"altair-viz-0e14dc1bd25044c7a54f2916b7cd0832\");\n",
       "    }\n",
       "    const paths = {\n",
       "      \"vega\": \"https://cdn.jsdelivr.net/npm//vega@5?noext\",\n",
       "      \"vega-lib\": \"https://cdn.jsdelivr.net/npm//vega-lib?noext\",\n",
       "      \"vega-lite\": \"https://cdn.jsdelivr.net/npm//vega-lite@4.17.0?noext\",\n",
       "      \"vega-embed\": \"https://cdn.jsdelivr.net/npm//vega-embed@6?noext\",\n",
       "    };\n",
       "\n",
       "    function maybeLoadScript(lib, version) {\n",
       "      var key = `${lib.replace(\"-\", \"\")}_version`;\n",
       "      return (VEGA_DEBUG[key] == version) ?\n",
       "        Promise.resolve(paths[lib]) :\n",
       "        new Promise(function(resolve, reject) {\n",
       "          var s = document.createElement('script');\n",
       "          document.getElementsByTagName(\"head\")[0].appendChild(s);\n",
       "          s.async = true;\n",
       "          s.onload = () => {\n",
       "            VEGA_DEBUG[key] = version;\n",
       "            return resolve(paths[lib]);\n",
       "          };\n",
       "          s.onerror = () => reject(`Error loading script: ${paths[lib]}`);\n",
       "          s.src = paths[lib];\n",
       "        });\n",
       "    }\n",
       "\n",
       "    function showError(err) {\n",
       "      outputDiv.innerHTML = `<div class=\"error\" style=\"color:red;\">${err}</div>`;\n",
       "      throw err;\n",
       "    }\n",
       "\n",
       "    function displayChart(vegaEmbed) {\n",
       "      vegaEmbed(outputDiv, spec, embedOpt)\n",
       "        .catch(err => showError(`Javascript Error: ${err.message}<br>This usually means there's a typo in your chart specification. See the javascript console for the full traceback.`));\n",
       "    }\n",
       "\n",
       "    if(typeof define === \"function\" && define.amd) {\n",
       "      requirejs.config({paths});\n",
       "      require([\"vega-embed\"], displayChart, err => showError(`Error loading script: ${err.message}`));\n",
       "    } else {\n",
       "      maybeLoadScript(\"vega\", \"5\")\n",
       "        .then(() => maybeLoadScript(\"vega-lite\", \"4.17.0\"))\n",
       "        .then(() => maybeLoadScript(\"vega-embed\", \"6\"))\n",
       "        .catch(showError)\n",
       "        .then(() => displayChart(vegaEmbed));\n",
       "    }\n",
       "  })({\"config\": {\"view\": {\"continuousWidth\": 400, \"continuousHeight\": 300}}, \"data\": {\"url\": \"https://raw.githubusercontent.com/UIUC-iSchool-DataViz/is445_spring2021/master/week08/data/mobility.csv\"}, \"mark\": \"bar\", \"encoding\": {\"x\": {\"axis\": {\"title\": \"Mobility Score\"}, \"bin\": true, \"field\": \"Mobility\", \"type\": \"quantitative\"}, \"y\": {\"aggregate\": \"count\", \"axis\": {\"title\": \"Mobility Score Distribution\"}, \"type\": \"quantitative\"}}, \"$schema\": \"https://vega.github.io/schema/vega-lite/v4.17.0.json\"}, {\"mode\": \"vega-lite\"});\n",
       "</script>"
      ],
      "text/plain": [
       "alt.Chart(...)"
      ]
     },
     "execution_count": 43,
     "metadata": {},
     "output_type": "execute_result"
    }
   ],
   "source": [
    "chart2 = alt.Chart.from_dict({\n",
    "  #// Data\n",
    "  \"data\": {\"url\":\"https://raw.githubusercontent.com/UIUC-iSchool-DataViz/is445_spring2021/master/week08/data/mobility.csv\"},\n",
    "  #// Mark\n",
    "  \"mark\": \"bar\",\n",
    "  #// Encoding\n",
    "  \"encoding\":{\n",
    "    \"x\":{\"field\":\"Mobility\", \"type\":\"quantitative\", \"bin\":True, \"axis\":{\"title\":\"Mobility Score\"}},\n",
    "    #//\"x\":{\"field\":\"Mobility\", \"type\":\"quantitative\", \"axis\":{\"title\":\"Mobility Score\"}},\n",
    "    \"y\":{\"aggregate\":\"count\",\"type\":\"quantitative\", \"axis\":{\"title\":\"Mobility Score Distribution\"}}\n",
    "  }\n",
    "})\n",
    "chart2"
   ]
  },
  {
   "cell_type": "markdown",
   "id": "10ebf218",
   "metadata": {},
   "source": [
    "Note here that we had to change the JS `true` to the Pythonic `True`."
   ]
  },
  {
   "cell_type": "markdown",
   "id": "a5e9445c",
   "metadata": {},
   "source": [
    "The first thing we probably want to do is put these charts side-by-side.  We can do this with Altair's horizontal concatination function:"
   ]
  },
  {
   "cell_type": "code",
   "execution_count": 44,
   "id": "36bff9e6",
   "metadata": {},
   "outputs": [
    {
     "data": {
      "text/html": [
       "\n",
       "<div id=\"altair-viz-582fb6f4a9a64fd09ba8c77dbd3ce82c\"></div>\n",
       "<script type=\"text/javascript\">\n",
       "  var VEGA_DEBUG = (typeof VEGA_DEBUG == \"undefined\") ? {} : VEGA_DEBUG;\n",
       "  (function(spec, embedOpt){\n",
       "    let outputDiv = document.currentScript.previousElementSibling;\n",
       "    if (outputDiv.id !== \"altair-viz-582fb6f4a9a64fd09ba8c77dbd3ce82c\") {\n",
       "      outputDiv = document.getElementById(\"altair-viz-582fb6f4a9a64fd09ba8c77dbd3ce82c\");\n",
       "    }\n",
       "    const paths = {\n",
       "      \"vega\": \"https://cdn.jsdelivr.net/npm//vega@5?noext\",\n",
       "      \"vega-lib\": \"https://cdn.jsdelivr.net/npm//vega-lib?noext\",\n",
       "      \"vega-lite\": \"https://cdn.jsdelivr.net/npm//vega-lite@4.17.0?noext\",\n",
       "      \"vega-embed\": \"https://cdn.jsdelivr.net/npm//vega-embed@6?noext\",\n",
       "    };\n",
       "\n",
       "    function maybeLoadScript(lib, version) {\n",
       "      var key = `${lib.replace(\"-\", \"\")}_version`;\n",
       "      return (VEGA_DEBUG[key] == version) ?\n",
       "        Promise.resolve(paths[lib]) :\n",
       "        new Promise(function(resolve, reject) {\n",
       "          var s = document.createElement('script');\n",
       "          document.getElementsByTagName(\"head\")[0].appendChild(s);\n",
       "          s.async = true;\n",
       "          s.onload = () => {\n",
       "            VEGA_DEBUG[key] = version;\n",
       "            return resolve(paths[lib]);\n",
       "          };\n",
       "          s.onerror = () => reject(`Error loading script: ${paths[lib]}`);\n",
       "          s.src = paths[lib];\n",
       "        });\n",
       "    }\n",
       "\n",
       "    function showError(err) {\n",
       "      outputDiv.innerHTML = `<div class=\"error\" style=\"color:red;\">${err}</div>`;\n",
       "      throw err;\n",
       "    }\n",
       "\n",
       "    function displayChart(vegaEmbed) {\n",
       "      vegaEmbed(outputDiv, spec, embedOpt)\n",
       "        .catch(err => showError(`Javascript Error: ${err.message}<br>This usually means there's a typo in your chart specification. See the javascript console for the full traceback.`));\n",
       "    }\n",
       "\n",
       "    if(typeof define === \"function\" && define.amd) {\n",
       "      requirejs.config({paths});\n",
       "      require([\"vega-embed\"], displayChart, err => showError(`Error loading script: ${err.message}`));\n",
       "    } else {\n",
       "      maybeLoadScript(\"vega\", \"5\")\n",
       "        .then(() => maybeLoadScript(\"vega-lite\", \"4.17.0\"))\n",
       "        .then(() => maybeLoadScript(\"vega-embed\", \"6\"))\n",
       "        .catch(showError)\n",
       "        .then(() => displayChart(vegaEmbed));\n",
       "    }\n",
       "  })({\"config\": {\"view\": {\"continuousWidth\": 400, \"continuousHeight\": 300}}, \"hconcat\": [{\"data\": {\"url\": \"https://raw.githubusercontent.com/UIUC-iSchool-DataViz/is445_spring2021/master/week08/data/mobility.csv\"}, \"mark\": \"rect\", \"encoding\": {\"color\": {\"aggregate\": \"count\", \"type\": \"quantitative\"}, \"x\": {\"bin\": {\"maxbins\": 10}, \"field\": \"Student_teacher_ratio\", \"type\": \"quantitative\"}, \"y\": {\"field\": \"State\", \"type\": \"ordinal\"}}, \"height\": 400}, {\"data\": {\"url\": \"https://raw.githubusercontent.com/UIUC-iSchool-DataViz/is445_spring2021/master/week08/data/mobility.csv\"}, \"mark\": \"bar\", \"encoding\": {\"x\": {\"axis\": {\"title\": \"Mobility Score\"}, \"bin\": true, \"field\": \"Mobility\", \"type\": \"quantitative\"}, \"y\": {\"aggregate\": \"count\", \"axis\": {\"title\": \"Mobility Score Distribution\"}, \"type\": \"quantitative\"}}}], \"$schema\": \"https://vega.github.io/schema/vega-lite/v4.17.0.json\"}, {\"mode\": \"vega-lite\"});\n",
       "</script>"
      ],
      "text/plain": [
       "alt.HConcatChart(...)"
      ]
     },
     "execution_count": 44,
     "metadata": {},
     "output_type": "execute_result"
    }
   ],
   "source": [
    "chart = alt.HConcatChart(hconcat=[chart1,chart2])\n",
    "chart"
   ]
  },
  {
   "cell_type": "code",
   "execution_count": 48,
   "id": "2590fdd3",
   "metadata": {},
   "outputs": [],
   "source": [
    "# note that this gives an error -- ignore this for the time being\n",
    "#chart.properties(width='container').save(myJekyllDir+\"assets/json/static_mobility.json\")\n",
    "chart.properties().save(myJekyllDir+\"assets/json/static_mobility.json\")"
   ]
  },
  {
   "cell_type": "markdown",
   "id": "c228884e",
   "metadata": {},
   "source": [
    "Ok, so now we want to add a brush selection like before for the left-most plot that changes the values of the histograms on the right-most plot.  How to do this?  Well, first let's look at the brush selector in Altair:"
   ]
  },
  {
   "cell_type": "code",
   "execution_count": 15,
   "id": "df6f8b23",
   "metadata": {},
   "outputs": [],
   "source": [
    "brush = alt.selection_interval()  # selection of type \"interval\""
   ]
  },
  {
   "cell_type": "markdown",
   "id": "ecaf88b6",
   "metadata": {},
   "source": [
    "We can add this to our first plot and then see we have some interactivity:"
   ]
  },
  {
   "cell_type": "code",
   "execution_count": 16,
   "id": "f8995ab8",
   "metadata": {},
   "outputs": [
    {
     "data": {
      "text/html": [
       "\n",
       "<div id=\"altair-viz-90d1e0bda81749828eaf946bfa09d2cb\"></div>\n",
       "<script type=\"text/javascript\">\n",
       "  var VEGA_DEBUG = (typeof VEGA_DEBUG == \"undefined\") ? {} : VEGA_DEBUG;\n",
       "  (function(spec, embedOpt){\n",
       "    let outputDiv = document.currentScript.previousElementSibling;\n",
       "    if (outputDiv.id !== \"altair-viz-90d1e0bda81749828eaf946bfa09d2cb\") {\n",
       "      outputDiv = document.getElementById(\"altair-viz-90d1e0bda81749828eaf946bfa09d2cb\");\n",
       "    }\n",
       "    const paths = {\n",
       "      \"vega\": \"https://cdn.jsdelivr.net/npm//vega@5?noext\",\n",
       "      \"vega-lib\": \"https://cdn.jsdelivr.net/npm//vega-lib?noext\",\n",
       "      \"vega-lite\": \"https://cdn.jsdelivr.net/npm//vega-lite@4.17.0?noext\",\n",
       "      \"vega-embed\": \"https://cdn.jsdelivr.net/npm//vega-embed@6?noext\",\n",
       "    };\n",
       "\n",
       "    function maybeLoadScript(lib, version) {\n",
       "      var key = `${lib.replace(\"-\", \"\")}_version`;\n",
       "      return (VEGA_DEBUG[key] == version) ?\n",
       "        Promise.resolve(paths[lib]) :\n",
       "        new Promise(function(resolve, reject) {\n",
       "          var s = document.createElement('script');\n",
       "          document.getElementsByTagName(\"head\")[0].appendChild(s);\n",
       "          s.async = true;\n",
       "          s.onload = () => {\n",
       "            VEGA_DEBUG[key] = version;\n",
       "            return resolve(paths[lib]);\n",
       "          };\n",
       "          s.onerror = () => reject(`Error loading script: ${paths[lib]}`);\n",
       "          s.src = paths[lib];\n",
       "        });\n",
       "    }\n",
       "\n",
       "    function showError(err) {\n",
       "      outputDiv.innerHTML = `<div class=\"error\" style=\"color:red;\">${err}</div>`;\n",
       "      throw err;\n",
       "    }\n",
       "\n",
       "    function displayChart(vegaEmbed) {\n",
       "      vegaEmbed(outputDiv, spec, embedOpt)\n",
       "        .catch(err => showError(`Javascript Error: ${err.message}<br>This usually means there's a typo in your chart specification. See the javascript console for the full traceback.`));\n",
       "    }\n",
       "\n",
       "    if(typeof define === \"function\" && define.amd) {\n",
       "      requirejs.config({paths});\n",
       "      require([\"vega-embed\"], displayChart, err => showError(`Error loading script: ${err.message}`));\n",
       "    } else {\n",
       "      maybeLoadScript(\"vega\", \"5\")\n",
       "        .then(() => maybeLoadScript(\"vega-lite\", \"4.17.0\"))\n",
       "        .then(() => maybeLoadScript(\"vega-embed\", \"6\"))\n",
       "        .catch(showError)\n",
       "        .then(() => displayChart(vegaEmbed));\n",
       "    }\n",
       "  })({\"config\": {\"view\": {\"continuousWidth\": 400, \"continuousHeight\": 300}}, \"data\": {\"url\": \"https://raw.githubusercontent.com/UIUC-iSchool-DataViz/is445_spring2021/master/week08/data/mobility.csv\"}, \"mark\": \"rect\", \"encoding\": {\"color\": {\"aggregate\": \"count\", \"type\": \"quantitative\"}, \"x\": {\"bin\": {\"maxbins\": 10}, \"field\": \"Student_teacher_ratio\", \"type\": \"quantitative\"}, \"y\": {\"field\": \"State\", \"type\": \"ordinal\"}}, \"height\": 400, \"selection\": {\"selector001\": {\"type\": \"interval\"}}, \"$schema\": \"https://vega.github.io/schema/vega-lite/v4.17.0.json\"}, {\"mode\": \"vega-lite\"});\n",
       "</script>"
      ],
      "text/plain": [
       "alt.Chart(...)"
      ]
     },
     "execution_count": 16,
     "metadata": {},
     "output_type": "execute_result"
    }
   ],
   "source": [
    "chart1.add_selection(\n",
    "        brush\n",
    "    )"
   ]
  },
  {
   "cell_type": "markdown",
   "id": "fc4afcde",
   "metadata": {},
   "source": [
    "What are some of the parameters we can use in our brush selection?"
   ]
  },
  {
   "cell_type": "code",
   "execution_count": 14,
   "id": "1aeb4d99",
   "metadata": {},
   "outputs": [],
   "source": [
    "alt.selection_interval?"
   ]
  },
  {
   "cell_type": "markdown",
   "id": "4d72ad88",
   "metadata": {},
   "source": [
    "One thing we note here is that there is potentially a `field` we can use for the selection which might make us think we want to use \"Mobility\" as the input but we actually now need to specify the encodings -- i.e. on what axis in our original plot are we selecting?\n",
    "\n",
    "So, we are selecting boxes in `chart1` -- so this will be selecting on both x & y:"
   ]
  },
  {
   "cell_type": "code",
   "execution_count": 26,
   "id": "728c7ba6",
   "metadata": {},
   "outputs": [],
   "source": [
    "brush = alt.selection_interval(encodings=['x','y'])"
   ]
  },
  {
   "cell_type": "markdown",
   "id": "8ed537c2",
   "metadata": {},
   "source": [
    "Let's now add this brush to our `chart1`:"
   ]
  },
  {
   "cell_type": "code",
   "execution_count": 50,
   "id": "440b848b",
   "metadata": {},
   "outputs": [],
   "source": [
    "chart1 = alt.Chart.from_dict({\n",
    "  \"data\": {\"url\":\"https://raw.githubusercontent.com/UIUC-iSchool-DataViz/is445_spring2021/master/week08/data/mobility.csv\"},\n",
    "  \"mark\":\"rect\",\n",
    "  \"height\":400,\n",
    "  \"encoding\":{\n",
    "    \"x\":{\"bin\":{\"maxbins\":10}, \"field\":\"Student_teacher_ratio\", \"type\":\"quantitative\"},\n",
    "    \"y\":{\"field\":\"State\",\"type\":\"ordinal\"},\n",
    "    \"color\":{\"aggregate\":\"count\", \"type\":\"quantitative\"} \n",
    "  }  \n",
    "}).add_selection(\n",
    "        brush\n",
    "    )"
   ]
  },
  {
   "cell_type": "markdown",
   "id": "a9164b61",
   "metadata": {},
   "source": [
    "And now we can add this also as a [transform filter](https://altair-viz.github.io/user_guide/transform/filter.html) to our `chart2` plot:"
   ]
  },
  {
   "cell_type": "code",
   "execution_count": 51,
   "id": "559a29c4",
   "metadata": {},
   "outputs": [],
   "source": [
    "chart2 = alt.Chart.from_dict({\n",
    "  \"data\": {\"url\":\"https://raw.githubusercontent.com/UIUC-iSchool-DataViz/is445_spring2021/master/week08/data/mobility.csv\"},\n",
    "  \"mark\": \"bar\",\n",
    "  \"encoding\":{\n",
    "    \"x\":{\"field\":\"Mobility\", \"type\":\"quantitative\", \"bin\":True, \"axis\":{\"title\":\"Mobility Score\"}},\n",
    "    \"y\":{\"aggregate\":\"count\",\"type\":\"quantitative\", \"axis\":{\"title\":\"Mobility Score Distribution\"}}\n",
    "  }\n",
    "}).transform_filter(\n",
    "    brush\n",
    ")"
   ]
  },
  {
   "cell_type": "markdown",
   "id": "2e02fa36",
   "metadata": {},
   "source": [
    "Now let's horizontally concatinate them, and let's do it in the fancy Altair way:"
   ]
  },
  {
   "cell_type": "code",
   "execution_count": 52,
   "id": "6d5b47b6",
   "metadata": {},
   "outputs": [],
   "source": [
    "chart = chart1 | chart2"
   ]
  },
  {
   "cell_type": "code",
   "execution_count": 53,
   "id": "e23945e1",
   "metadata": {},
   "outputs": [
    {
     "data": {
      "text/html": [
       "\n",
       "<div id=\"altair-viz-042364e508894f85a6601e0455dc5a02\"></div>\n",
       "<script type=\"text/javascript\">\n",
       "  var VEGA_DEBUG = (typeof VEGA_DEBUG == \"undefined\") ? {} : VEGA_DEBUG;\n",
       "  (function(spec, embedOpt){\n",
       "    let outputDiv = document.currentScript.previousElementSibling;\n",
       "    if (outputDiv.id !== \"altair-viz-042364e508894f85a6601e0455dc5a02\") {\n",
       "      outputDiv = document.getElementById(\"altair-viz-042364e508894f85a6601e0455dc5a02\");\n",
       "    }\n",
       "    const paths = {\n",
       "      \"vega\": \"https://cdn.jsdelivr.net/npm//vega@5?noext\",\n",
       "      \"vega-lib\": \"https://cdn.jsdelivr.net/npm//vega-lib?noext\",\n",
       "      \"vega-lite\": \"https://cdn.jsdelivr.net/npm//vega-lite@4.17.0?noext\",\n",
       "      \"vega-embed\": \"https://cdn.jsdelivr.net/npm//vega-embed@6?noext\",\n",
       "    };\n",
       "\n",
       "    function maybeLoadScript(lib, version) {\n",
       "      var key = `${lib.replace(\"-\", \"\")}_version`;\n",
       "      return (VEGA_DEBUG[key] == version) ?\n",
       "        Promise.resolve(paths[lib]) :\n",
       "        new Promise(function(resolve, reject) {\n",
       "          var s = document.createElement('script');\n",
       "          document.getElementsByTagName(\"head\")[0].appendChild(s);\n",
       "          s.async = true;\n",
       "          s.onload = () => {\n",
       "            VEGA_DEBUG[key] = version;\n",
       "            return resolve(paths[lib]);\n",
       "          };\n",
       "          s.onerror = () => reject(`Error loading script: ${paths[lib]}`);\n",
       "          s.src = paths[lib];\n",
       "        });\n",
       "    }\n",
       "\n",
       "    function showError(err) {\n",
       "      outputDiv.innerHTML = `<div class=\"error\" style=\"color:red;\">${err}</div>`;\n",
       "      throw err;\n",
       "    }\n",
       "\n",
       "    function displayChart(vegaEmbed) {\n",
       "      vegaEmbed(outputDiv, spec, embedOpt)\n",
       "        .catch(err => showError(`Javascript Error: ${err.message}<br>This usually means there's a typo in your chart specification. See the javascript console for the full traceback.`));\n",
       "    }\n",
       "\n",
       "    if(typeof define === \"function\" && define.amd) {\n",
       "      requirejs.config({paths});\n",
       "      require([\"vega-embed\"], displayChart, err => showError(`Error loading script: ${err.message}`));\n",
       "    } else {\n",
       "      maybeLoadScript(\"vega\", \"5\")\n",
       "        .then(() => maybeLoadScript(\"vega-lite\", \"4.17.0\"))\n",
       "        .then(() => maybeLoadScript(\"vega-embed\", \"6\"))\n",
       "        .catch(showError)\n",
       "        .then(() => displayChart(vegaEmbed));\n",
       "    }\n",
       "  })({\"config\": {\"view\": {\"continuousWidth\": 400, \"continuousHeight\": 300}}, \"hconcat\": [{\"data\": {\"url\": \"https://raw.githubusercontent.com/UIUC-iSchool-DataViz/is445_spring2021/master/week08/data/mobility.csv\"}, \"mark\": \"rect\", \"encoding\": {\"color\": {\"aggregate\": \"count\", \"type\": \"quantitative\"}, \"x\": {\"bin\": {\"maxbins\": 10}, \"field\": \"Student_teacher_ratio\", \"type\": \"quantitative\"}, \"y\": {\"field\": \"State\", \"type\": \"ordinal\"}}, \"height\": 400, \"selection\": {\"selector006\": {\"type\": \"interval\", \"encodings\": [\"x\", \"y\"]}}}, {\"data\": {\"url\": \"https://raw.githubusercontent.com/UIUC-iSchool-DataViz/is445_spring2021/master/week08/data/mobility.csv\"}, \"mark\": \"bar\", \"encoding\": {\"x\": {\"axis\": {\"title\": \"Mobility Score\"}, \"bin\": true, \"field\": \"Mobility\", \"type\": \"quantitative\"}, \"y\": {\"aggregate\": \"count\", \"axis\": {\"title\": \"Mobility Score Distribution\"}, \"type\": \"quantitative\"}}, \"transform\": [{\"filter\": {\"selection\": \"selector006\"}}]}], \"$schema\": \"https://vega.github.io/schema/vega-lite/v4.17.0.json\"}, {\"mode\": \"vega-lite\"});\n",
       "</script>"
      ],
      "text/plain": [
       "alt.HConcatChart(...)"
      ]
     },
     "execution_count": 53,
     "metadata": {},
     "output_type": "execute_result"
    }
   ],
   "source": [
    "chart"
   ]
  },
  {
   "cell_type": "markdown",
   "id": "f55da1e9",
   "metadata": {},
   "source": [
    "Neat!  Now we can once again save this in the \"usual way\" to add to our Jekyll file:"
   ]
  },
  {
   "cell_type": "code",
   "execution_count": 54,
   "id": "9d675285",
   "metadata": {},
   "outputs": [],
   "source": [
    "#error again, ignorning\n",
    "#chart.properties(width='container').save(myJekyllDir+\"assets/json/dashboard_mobility.json\")\n",
    "chart.properties().save(myJekyllDir+\"assets/json/dashboard_mobility.json\")"
   ]
  },
  {
   "cell_type": "markdown",
   "id": "25f090b0",
   "metadata": {},
   "source": [
    "## 4. Use Altair to make the chart starting from the data\n",
    "\n",
    "* read in dataframe\n",
    "* do all of the analysis and stuff with altair things"
   ]
  },
  {
   "cell_type": "markdown",
   "id": "33734903",
   "metadata": {},
   "source": [
    "Let's once again re-write `chart1`, but now transforming from the dictionary we have been passing to more \"original Altair\" formatting and passing data through Python:"
   ]
  },
  {
   "cell_type": "markdown",
   "id": "0fef70ee",
   "metadata": {},
   "source": [
    "```\n",
    "chart1 = alt.Chart.from_dict({\n",
    "  \"data\": {\"url\":\"https://raw.githubusercontent.com/UIUC-iSchool-DataViz/is445_spring2021/master/week08/data/mobility.csv\"},\n",
    "  \"mark\":\"rect\",\n",
    "  \"height\":400,\n",
    "  \"encoding\":{\n",
    "    \"x\":{\"bin\":{\"maxbins\":10}, \"field\":\"Student_teacher_ratio\", \"type\":\"quantitative\"},\n",
    "    \"y\":{\"field\":\"State\",\"type\":\"ordinal\"},\n",
    "    \"color\":{\"aggregate\":\"count\", \"type\":\"quantitative\"} \n",
    "  }  \n",
    "})\n",
    "```"
   ]
  },
  {
   "cell_type": "markdown",
   "id": "a53f01ec",
   "metadata": {},
   "source": [
    "Let's first start by grabbing the data as a dataframe in Python:"
   ]
  },
  {
   "cell_type": "code",
   "execution_count": 57,
   "id": "0530c3d0",
   "metadata": {},
   "outputs": [],
   "source": [
    "import pandas as pd"
   ]
  },
  {
   "cell_type": "code",
   "execution_count": 58,
   "id": "21b6951d",
   "metadata": {},
   "outputs": [],
   "source": [
    "mobility = pd.read_csv('https://raw.githubusercontent.com/UIUC-iSchool-DataViz/is445_spring2021/master/week08/data/mobility.csv')"
   ]
  },
  {
   "cell_type": "code",
   "execution_count": 59,
   "id": "da7d0f14",
   "metadata": {},
   "outputs": [
    {
     "data": {
      "text/html": [
       "<div>\n",
       "<style scoped>\n",
       "    .dataframe tbody tr th:only-of-type {\n",
       "        vertical-align: middle;\n",
       "    }\n",
       "\n",
       "    .dataframe tbody tr th {\n",
       "        vertical-align: top;\n",
       "    }\n",
       "\n",
       "    .dataframe thead th {\n",
       "        text-align: right;\n",
       "    }\n",
       "</style>\n",
       "<table border=\"1\" class=\"dataframe\">\n",
       "  <thead>\n",
       "    <tr style=\"text-align: right;\">\n",
       "      <th></th>\n",
       "      <th>ID</th>\n",
       "      <th>Name</th>\n",
       "      <th>Mobility</th>\n",
       "      <th>State</th>\n",
       "      <th>Population</th>\n",
       "      <th>Urban</th>\n",
       "      <th>Black</th>\n",
       "      <th>Seg_racial</th>\n",
       "      <th>Seg_income</th>\n",
       "      <th>Seg_poverty</th>\n",
       "      <th>...</th>\n",
       "      <th>Migration_out</th>\n",
       "      <th>Foreign_born</th>\n",
       "      <th>Social_capital</th>\n",
       "      <th>Religious</th>\n",
       "      <th>Violent_crime</th>\n",
       "      <th>Single_mothers</th>\n",
       "      <th>Divorced</th>\n",
       "      <th>Married</th>\n",
       "      <th>Longitude</th>\n",
       "      <th>Latitude</th>\n",
       "    </tr>\n",
       "  </thead>\n",
       "  <tbody>\n",
       "    <tr>\n",
       "      <th>0</th>\n",
       "      <td>100</td>\n",
       "      <td>Johnson City</td>\n",
       "      <td>0.062199</td>\n",
       "      <td>TN</td>\n",
       "      <td>576081</td>\n",
       "      <td>1</td>\n",
       "      <td>0.021</td>\n",
       "      <td>0.090</td>\n",
       "      <td>0.035</td>\n",
       "      <td>0.030</td>\n",
       "      <td>...</td>\n",
       "      <td>0.005</td>\n",
       "      <td>0.012</td>\n",
       "      <td>-0.298</td>\n",
       "      <td>0.514</td>\n",
       "      <td>0.001</td>\n",
       "      <td>0.190</td>\n",
       "      <td>0.110</td>\n",
       "      <td>0.601</td>\n",
       "      <td>-82.436386</td>\n",
       "      <td>36.470371</td>\n",
       "    </tr>\n",
       "    <tr>\n",
       "      <th>1</th>\n",
       "      <td>200</td>\n",
       "      <td>Morristown</td>\n",
       "      <td>0.053652</td>\n",
       "      <td>TN</td>\n",
       "      <td>227816</td>\n",
       "      <td>1</td>\n",
       "      <td>0.020</td>\n",
       "      <td>0.093</td>\n",
       "      <td>0.026</td>\n",
       "      <td>0.028</td>\n",
       "      <td>...</td>\n",
       "      <td>0.014</td>\n",
       "      <td>0.023</td>\n",
       "      <td>-0.767</td>\n",
       "      <td>0.544</td>\n",
       "      <td>0.002</td>\n",
       "      <td>0.185</td>\n",
       "      <td>0.116</td>\n",
       "      <td>0.613</td>\n",
       "      <td>-83.407249</td>\n",
       "      <td>36.096539</td>\n",
       "    </tr>\n",
       "    <tr>\n",
       "      <th>2</th>\n",
       "      <td>301</td>\n",
       "      <td>Middlesborough</td>\n",
       "      <td>0.072635</td>\n",
       "      <td>TN</td>\n",
       "      <td>66708</td>\n",
       "      <td>0</td>\n",
       "      <td>0.015</td>\n",
       "      <td>0.064</td>\n",
       "      <td>0.024</td>\n",
       "      <td>0.015</td>\n",
       "      <td>...</td>\n",
       "      <td>0.012</td>\n",
       "      <td>0.007</td>\n",
       "      <td>-1.270</td>\n",
       "      <td>0.668</td>\n",
       "      <td>0.001</td>\n",
       "      <td>0.211</td>\n",
       "      <td>0.113</td>\n",
       "      <td>0.590</td>\n",
       "      <td>-83.535332</td>\n",
       "      <td>36.551540</td>\n",
       "    </tr>\n",
       "    <tr>\n",
       "      <th>3</th>\n",
       "      <td>302</td>\n",
       "      <td>Knoxville</td>\n",
       "      <td>0.056281</td>\n",
       "      <td>TN</td>\n",
       "      <td>727600</td>\n",
       "      <td>1</td>\n",
       "      <td>0.056</td>\n",
       "      <td>0.210</td>\n",
       "      <td>0.092</td>\n",
       "      <td>0.084</td>\n",
       "      <td>...</td>\n",
       "      <td>0.014</td>\n",
       "      <td>0.020</td>\n",
       "      <td>-0.222</td>\n",
       "      <td>0.602</td>\n",
       "      <td>0.001</td>\n",
       "      <td>0.206</td>\n",
       "      <td>0.114</td>\n",
       "      <td>0.575</td>\n",
       "      <td>-84.242790</td>\n",
       "      <td>35.952259</td>\n",
       "    </tr>\n",
       "    <tr>\n",
       "      <th>4</th>\n",
       "      <td>401</td>\n",
       "      <td>Winston-Salem</td>\n",
       "      <td>0.044801</td>\n",
       "      <td>NC</td>\n",
       "      <td>493180</td>\n",
       "      <td>1</td>\n",
       "      <td>0.174</td>\n",
       "      <td>0.262</td>\n",
       "      <td>0.072</td>\n",
       "      <td>0.061</td>\n",
       "      <td>...</td>\n",
       "      <td>0.019</td>\n",
       "      <td>0.053</td>\n",
       "      <td>-0.018</td>\n",
       "      <td>0.488</td>\n",
       "      <td>0.003</td>\n",
       "      <td>0.220</td>\n",
       "      <td>0.092</td>\n",
       "      <td>0.586</td>\n",
       "      <td>-80.505333</td>\n",
       "      <td>36.081276</td>\n",
       "    </tr>\n",
       "  </tbody>\n",
       "</table>\n",
       "<p>5 rows × 43 columns</p>\n",
       "</div>"
      ],
      "text/plain": [
       "    ID            Name  Mobility State  Population  Urban  Black  Seg_racial  \\\n",
       "0  100    Johnson City  0.062199    TN      576081      1  0.021       0.090   \n",
       "1  200      Morristown  0.053652    TN      227816      1  0.020       0.093   \n",
       "2  301  Middlesborough  0.072635    TN       66708      0  0.015       0.064   \n",
       "3  302       Knoxville  0.056281    TN      727600      1  0.056       0.210   \n",
       "4  401   Winston-Salem  0.044801    NC      493180      1  0.174       0.262   \n",
       "\n",
       "   Seg_income  Seg_poverty  ...  Migration_out  Foreign_born  Social_capital  \\\n",
       "0       0.035        0.030  ...          0.005         0.012          -0.298   \n",
       "1       0.026        0.028  ...          0.014         0.023          -0.767   \n",
       "2       0.024        0.015  ...          0.012         0.007          -1.270   \n",
       "3       0.092        0.084  ...          0.014         0.020          -0.222   \n",
       "4       0.072        0.061  ...          0.019         0.053          -0.018   \n",
       "\n",
       "   Religious  Violent_crime  Single_mothers  Divorced  Married  Longitude  \\\n",
       "0      0.514          0.001           0.190     0.110    0.601 -82.436386   \n",
       "1      0.544          0.002           0.185     0.116    0.613 -83.407249   \n",
       "2      0.668          0.001           0.211     0.113    0.590 -83.535332   \n",
       "3      0.602          0.001           0.206     0.114    0.575 -84.242790   \n",
       "4      0.488          0.003           0.220     0.092    0.586 -80.505333   \n",
       "\n",
       "    Latitude  \n",
       "0  36.470371  \n",
       "1  36.096539  \n",
       "2  36.551540  \n",
       "3  35.952259  \n",
       "4  36.081276  \n",
       "\n",
       "[5 rows x 43 columns]"
      ]
     },
     "execution_count": 59,
     "metadata": {},
     "output_type": "execute_result"
    }
   ],
   "source": [
    "mobility.head()"
   ]
  },
  {
   "cell_type": "code",
   "execution_count": null,
   "id": "64cb14a0",
   "metadata": {},
   "outputs": [],
   "source": []
  },
  {
   "cell_type": "code",
   "execution_count": null,
   "id": "3fc46d69",
   "metadata": {},
   "outputs": [],
   "source": []
  },
  {
   "cell_type": "markdown",
   "id": "23d5a66e",
   "metadata": {},
   "source": [
    "## 5. Python Analysis + Altair Plotting\n",
    "\n",
    "We can also do all of the data transformations in Python (which might be easier since we've been using Python this whole time!) and then do the actual plotting in Altair:"
   ]
  },
  {
   "cell_type": "code",
   "execution_count": null,
   "id": "1ba5339e",
   "metadata": {},
   "outputs": [],
   "source": []
  }
 ],
 "metadata": {
  "kernelspec": {
   "display_name": "Python 3 (ipykernel)",
   "language": "python",
   "name": "python3"
  },
  "language_info": {
   "codemirror_mode": {
    "name": "ipython",
    "version": 3
   },
   "file_extension": ".py",
   "mimetype": "text/x-python",
   "name": "python",
   "nbconvert_exporter": "python",
   "pygments_lexer": "ipython3",
   "version": "3.7.12"
  }
 },
 "nbformat": 4,
 "nbformat_minor": 5
}
