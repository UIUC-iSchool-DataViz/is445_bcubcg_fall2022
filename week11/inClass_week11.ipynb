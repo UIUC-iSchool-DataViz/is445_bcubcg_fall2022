{
 "cells": [
  {
   "cell_type": "markdown",
   "id": "respective-store",
   "metadata": {},
   "source": [
    "# In Class Notebook, Week 11"
   ]
  },
  {
   "cell_type": "markdown",
   "id": "2a597611",
   "metadata": {},
   "source": [
    "You can always access the URL of this notebook: https://github.com/UIUC-iSchool-DataViz/is445_bcubcg_fall2022/blob/master/week11/inClass_week11.ipynb \n",
    "\n",
    "Or post the URL into the nbviewer interface for a plain-text rendering:\n",
    "\n",
    "https://kokes.github.io/nbviewer.js/viewer.html"
   ]
  },
  {
   "cell_type": "code",
   "execution_count": 1,
   "id": "c4134502",
   "metadata": {},
   "outputs": [],
   "source": [
    "import altair as alt"
   ]
  },
  {
   "cell_type": "markdown",
   "id": "650f392a",
   "metadata": {},
   "source": [
    "```javascript\n",
    "var myMob1 = {\n",
    "  \"data\":{\"url\":\"https://raw.githubusercontent.com/UIUC-iSchool-DataViz/is445_bcubcg_fall2022/main/data/mobility.csv\"},\n",
    "  \"mark\":\"bar\",\n",
    "  \"encoding\":{\n",
    "    \"x\":{\"bin\":{\"maxbins\":15},\"field\":\"Mobility\", \"type\":\"quantitative\",\"title\":\"Mobility Score\"},\n",
    "    \"y\":{\"aggregate\":\"count\",\"type\":\"quantitative\",\"axis\":{\"title\":\"Frequency\"}}\n",
    "  } // end encoding\n",
    "};\n",
    "vegaEmbed('#mobilityHist1',myMob1);\n",
    "```"
   ]
  },
  {
   "cell_type": "code",
   "execution_count": 2,
   "id": "4f391a63",
   "metadata": {},
   "outputs": [],
   "source": [
    "alt.Chart.from_dict?"
   ]
  },
  {
   "cell_type": "code",
   "execution_count": 4,
   "id": "1bf758c9",
   "metadata": {},
   "outputs": [],
   "source": [
    "chart1 = alt.Chart.from_dict({\n",
    "  \"data\":{\"url\":\"https://raw.githubusercontent.com/UIUC-iSchool-DataViz/is445_bcubcg_fall2022/main/data/mobility.csv\"},\n",
    "  \"mark\":\"bar\",\n",
    "  \"encoding\":{\n",
    "    \"x\":{\"bin\":{\"maxbins\":15},\"field\":\"Mobility\", \"type\":\"quantitative\",\"title\":\"Mobility Score\"},\n",
    "    \"y\":{\"aggregate\":\"count\",\"type\":\"quantitative\",\"axis\":{\"title\":\"Frequency\"}}\n",
    "  } #// end encoding\n",
    "}\n",
    ")"
   ]
  },
  {
   "cell_type": "code",
   "execution_count": null,
   "id": "f7e8a1a2",
   "metadata": {},
   "outputs": [],
   "source": []
  }
 ],
 "metadata": {
  "kernelspec": {
   "display_name": "Python 3 (ipykernel)",
   "language": "python",
   "name": "python3"
  },
  "language_info": {
   "codemirror_mode": {
    "name": "ipython",
    "version": 3
   },
   "file_extension": ".py",
   "mimetype": "text/x-python",
   "name": "python",
   "nbconvert_exporter": "python",
   "pygments_lexer": "ipython3",
   "version": "3.7.12"
  }
 },
 "nbformat": 4,
 "nbformat_minor": 5
}
