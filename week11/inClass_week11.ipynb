{
 "cells": [
  {
   "cell_type": "markdown",
   "id": "respective-store",
   "metadata": {},
   "source": [
    "# In Class Notebook, Week 11"
   ]
  },
  {
   "cell_type": "markdown",
   "id": "2a597611",
   "metadata": {},
   "source": [
    "You can always access the URL of this notebook: https://github.com/UIUC-iSchool-DataViz/is445_bcubcg_fall2022/blob/master/week11/inClass_week11.ipynb \n",
    "\n",
    "Or post the URL into the nbviewer interface for a plain-text rendering:\n",
    "\n",
    "https://kokes.github.io/nbviewer.js/viewer.html"
   ]
  },
  {
   "cell_type": "code",
   "execution_count": 1,
   "id": "c4134502",
   "metadata": {},
   "outputs": [],
   "source": [
    "import altair as alt"
   ]
  },
  {
   "cell_type": "markdown",
   "id": "ccbfbd7c",
   "metadata": {},
   "source": [
    "```javascript\n",
    "var myMob1 = {\n",
    "  \"data\":{\"url\":\"https://raw.githubusercontent.com/UIUC-iSchool-DataViz/is445_bcubcg_fall2022/main/data/mobility.csv\"},\n",
    "  \"mark\":\"bar\",\n",
    "  \"encoding\":{\n",
    "    \"x\":{\"bin\":{\"maxbins\":15},\"field\":\"Mobility\", \"type\":\"quantitative\",\"title\":\"Mobility Score\"},\n",
    "    \"y\":{\"aggregate\":\"count\",\"type\":\"quantitative\",\"axis\":{\"title\":\"Frequency\"}}\n",
    "  } // end encoding\n",
    "};\n",
    "vegaEmbed('#mobilityHist1',myMob1);\n",
    "```"
   ]
  },
  {
   "cell_type": "code",
   "execution_count": 2,
   "id": "e93bdd5e",
   "metadata": {},
   "outputs": [],
   "source": [
    "alt.Chart.from_dict?"
   ]
  },
  {
   "cell_type": "code",
   "execution_count": 6,
   "id": "8b509c0f",
   "metadata": {},
   "outputs": [],
   "source": [
    "chart1 = alt.Chart.from_dict({\n",
    "  \"data\":{\"url\":\"https://raw.githubusercontent.com/UIUC-iSchool-DataViz/is445_bcubcg_fall2022/main/data/mobility.csv\"},\n",
    "  \"mark\":\"bar\",\n",
    "  \"encoding\":{\n",
    "    \"x\":{\"bin\":{\"maxbins\":15},\"field\":\"Mobility\", \"type\":\"quantitative\",\"title\":\"Mobility Score\"},\n",
    "    \"y\":{\"aggregate\":\"count\",\"type\":\"quantitative\",\"axis\":{\"title\":\"Frequency\"}}\n",
    "  } #// end encoding\n",
    "}\n",
    ")"
   ]
  },
  {
   "cell_type": "code",
   "execution_count": 7,
   "id": "5dfc0ffa",
   "metadata": {},
   "outputs": [
    {
     "data": {
      "text/html": [
       "\n",
       "<div id=\"altair-viz-9572c05a631f4563bbaacb4a8fbebb2f\"></div>\n",
       "<script type=\"text/javascript\">\n",
       "  var VEGA_DEBUG = (typeof VEGA_DEBUG == \"undefined\") ? {} : VEGA_DEBUG;\n",
       "  (function(spec, embedOpt){\n",
       "    let outputDiv = document.currentScript.previousElementSibling;\n",
       "    if (outputDiv.id !== \"altair-viz-9572c05a631f4563bbaacb4a8fbebb2f\") {\n",
       "      outputDiv = document.getElementById(\"altair-viz-9572c05a631f4563bbaacb4a8fbebb2f\");\n",
       "    }\n",
       "    const paths = {\n",
       "      \"vega\": \"https://cdn.jsdelivr.net/npm//vega@5?noext\",\n",
       "      \"vega-lib\": \"https://cdn.jsdelivr.net/npm//vega-lib?noext\",\n",
       "      \"vega-lite\": \"https://cdn.jsdelivr.net/npm//vega-lite@4.17.0?noext\",\n",
       "      \"vega-embed\": \"https://cdn.jsdelivr.net/npm//vega-embed@6?noext\",\n",
       "    };\n",
       "\n",
       "    function maybeLoadScript(lib, version) {\n",
       "      var key = `${lib.replace(\"-\", \"\")}_version`;\n",
       "      return (VEGA_DEBUG[key] == version) ?\n",
       "        Promise.resolve(paths[lib]) :\n",
       "        new Promise(function(resolve, reject) {\n",
       "          var s = document.createElement('script');\n",
       "          document.getElementsByTagName(\"head\")[0].appendChild(s);\n",
       "          s.async = true;\n",
       "          s.onload = () => {\n",
       "            VEGA_DEBUG[key] = version;\n",
       "            return resolve(paths[lib]);\n",
       "          };\n",
       "          s.onerror = () => reject(`Error loading script: ${paths[lib]}`);\n",
       "          s.src = paths[lib];\n",
       "        });\n",
       "    }\n",
       "\n",
       "    function showError(err) {\n",
       "      outputDiv.innerHTML = `<div class=\"error\" style=\"color:red;\">${err}</div>`;\n",
       "      throw err;\n",
       "    }\n",
       "\n",
       "    function displayChart(vegaEmbed) {\n",
       "      vegaEmbed(outputDiv, spec, embedOpt)\n",
       "        .catch(err => showError(`Javascript Error: ${err.message}<br>This usually means there's a typo in your chart specification. See the javascript console for the full traceback.`));\n",
       "    }\n",
       "\n",
       "    if(typeof define === \"function\" && define.amd) {\n",
       "      requirejs.config({paths});\n",
       "      require([\"vega-embed\"], displayChart, err => showError(`Error loading script: ${err.message}`));\n",
       "    } else {\n",
       "      maybeLoadScript(\"vega\", \"5\")\n",
       "        .then(() => maybeLoadScript(\"vega-lite\", \"4.17.0\"))\n",
       "        .then(() => maybeLoadScript(\"vega-embed\", \"6\"))\n",
       "        .catch(showError)\n",
       "        .then(() => displayChart(vegaEmbed));\n",
       "    }\n",
       "  })({\"config\": {\"view\": {\"continuousWidth\": 400, \"continuousHeight\": 300}}, \"data\": {\"url\": \"https://raw.githubusercontent.com/UIUC-iSchool-DataViz/is445_bcubcg_fall2022/main/data/mobility.csv\"}, \"mark\": \"bar\", \"encoding\": {\"x\": {\"bin\": {\"maxbins\": 15}, \"field\": \"Mobility\", \"title\": \"Mobility Score\", \"type\": \"quantitative\"}, \"y\": {\"aggregate\": \"count\", \"axis\": {\"title\": \"Frequency\"}, \"type\": \"quantitative\"}}, \"$schema\": \"https://vega.github.io/schema/vega-lite/v4.17.0.json\"}, {\"mode\": \"vega-lite\"});\n",
       "</script>"
      ],
      "text/plain": [
       "alt.Chart(...)"
      ]
     },
     "execution_count": 7,
     "metadata": {},
     "output_type": "execute_result"
    }
   ],
   "source": [
    "chart1"
   ]
  },
  {
   "cell_type": "code",
   "execution_count": 8,
   "id": "34b62216",
   "metadata": {},
   "outputs": [],
   "source": [
    "myJekyllDir = '/Users/jnaiman/jnaiman.github.io/assets/json/'"
   ]
  },
  {
   "cell_type": "code",
   "execution_count": null,
   "id": "94d1748e",
   "metadata": {},
   "outputs": [],
   "source": []
  }
 ],
 "metadata": {
  "kernelspec": {
   "display_name": "Python 3 (ipykernel)",
   "language": "python",
   "name": "python3"
  },
  "language_info": {
   "codemirror_mode": {
    "name": "ipython",
    "version": 3
   },
   "file_extension": ".py",
   "mimetype": "text/x-python",
   "name": "python",
   "nbconvert_exporter": "python",
   "pygments_lexer": "ipython3",
   "version": "3.7.12"
  }
 },
 "nbformat": 4,
 "nbformat_minor": 5
}
