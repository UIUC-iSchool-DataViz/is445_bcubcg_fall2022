{
 "cells": [
  {
   "cell_type": "markdown",
   "id": "innovative-airplane",
   "metadata": {},
   "source": [
    "# In Class Notebook, Week 15"
   ]
  },
  {
   "cell_type": "markdown",
   "id": "27102a29",
   "metadata": {},
   "source": [
    "You can always click on https://github.com/UIUC-iSchool-DataViz/is445_bcubcg_fall2022/blob/master/week15/inClass_week15.ipynb \n",
    "\n",
    "Or past into the nbviewer interface for a plain-text rendering:\n",
    "\n",
    "https://kokes.github.io/nbviewer.js/viewer.html"
   ]
  },
  {
   "cell_type": "code",
   "execution_count": 1,
   "id": "75ba3490",
   "metadata": {},
   "outputs": [
    {
     "name": "stderr",
     "output_type": "stream",
     "text": [
      "/Users/jnaiman/opt/anaconda3/envs/DataViz/lib/python3.7/site-packages/yt/utilities/logger.py:4: VisibleDeprecationWarning: The configuration file /Users/jnaiman/.config/yt/ytrc is deprecated in favor of /Users/jnaiman/.config/yt/yt.toml. Currently, both are present. Please manually remove the deprecated one to silence this warning.\n",
      "Deprecated since v4.0.0. This feature will be removed in v4.1.0\n",
      "  from yt.config import ytcfg\n"
     ]
    }
   ],
   "source": [
    "import yt"
   ]
  },
  {
   "cell_type": "code",
   "execution_count": 2,
   "id": "6100b3d0",
   "metadata": {},
   "outputs": [
    {
     "name": "stderr",
     "output_type": "stream",
     "text": [
      "yt : [INFO     ] 2022-11-29 12:57:28,959 Parameters: current_time              = 0.0060000200028298\n",
      "yt : [INFO     ] 2022-11-29 12:57:28,960 Parameters: domain_dimensions         = [32 32 32]\n",
      "yt : [INFO     ] 2022-11-29 12:57:28,962 Parameters: domain_left_edge          = [0. 0. 0.]\n",
      "yt : [INFO     ] 2022-11-29 12:57:28,966 Parameters: domain_right_edge         = [1. 1. 1.]\n",
      "yt : [INFO     ] 2022-11-29 12:57:28,967 Parameters: cosmological_simulation   = 0\n"
     ]
    }
   ],
   "source": [
    "ds = yt.load(\"/Users/jnaiman/Downloads/IsolatedGalaxy/galaxy0030/galaxy0030\")"
   ]
  },
  {
   "cell_type": "code",
   "execution_count": 3,
   "id": "208b0a10",
   "metadata": {},
   "outputs": [
    {
     "name": "stderr",
     "output_type": "stream",
     "text": [
      "Parsing Hierarchy : 100%|█████████████████████████████████████████████████████| 173/173 [00:00<00:00, 11182.23it/s]\n",
      "yt : [INFO     ] 2022-11-29 12:59:14,025 Gathering a field list (this may take a moment.)\n"
     ]
    },
    {
     "name": "stdout",
     "output_type": "stream",
     "text": [
      "level\t# grids\t       # cells\t     # cells^3\n",
      "----------------------------------------------\n",
      "  0\t     1\t         32768\t            32\n",
      "  1\t     8\t         34304\t            33\n",
      "  2\t     8\t        181888\t            57\n",
      "  3\t     8\t        646968\t            87\n",
      "  4\t    15\t        947856\t            99\n",
      "  5\t    51\t        874128\t            96\n",
      "  6\t    18\t        786328\t            93\n",
      "  7\t    28\t        446776\t            77\n",
      "  8\t    36\t        209400\t            60\n",
      "----------------------------------------------\n",
      "   \t   173\t       4160416\n",
      "\n",
      "\n",
      "t = 6.00002000e-03 = 1.39768066e+16 s = 4.42898275e+08 years\n",
      "\n",
      "Smallest Cell:\n",
      "\tWidth: 1.221e-04 Mpc Mpc\n",
      "\tWidth: 1.221e+02 pc pc\n",
      "\tWidth: 2.518e+07 AU AU\n",
      "\tWidth: 3.767e+20 cm cm\n"
     ]
    }
   ],
   "source": [
    "ds.print_stats()"
   ]
  },
  {
   "cell_type": "code",
   "execution_count": 5,
   "id": "ad5332bc",
   "metadata": {},
   "outputs": [
    {
     "data": {
      "text/plain": [
       "[('all', 'creation_time'),\n",
       " ('all', 'dynamical_time'),\n",
       " ('all', 'metallicity_fraction'),\n",
       " ('all', 'particle_index'),\n",
       " ('all', 'particle_mass'),\n",
       " ('all', 'particle_position_x'),\n",
       " ('all', 'particle_position_y'),\n",
       " ('all', 'particle_position_z'),\n",
       " ('all', 'particle_type'),\n",
       " ('all', 'particle_velocity_x'),\n",
       " ('all', 'particle_velocity_y'),\n",
       " ('all', 'particle_velocity_z'),\n",
       " ('enzo', 'Average_creation_time'),\n",
       " ('enzo', 'Bx'),\n",
       " ('enzo', 'By'),\n",
       " ('enzo', 'Bz'),\n",
       " ('enzo', 'Cooling_Time'),\n",
       " ('enzo', 'Dark_Matter_Density'),\n",
       " ('enzo', 'Density'),\n",
       " ('enzo', 'Electron_Density'),\n",
       " ('enzo', 'Forming_Stellar_Mass_Density'),\n",
       " ('enzo', 'Galaxy1Colour'),\n",
       " ('enzo', 'Galaxy2Colour'),\n",
       " ('enzo', 'HII_Density'),\n",
       " ('enzo', 'HI_Density'),\n",
       " ('enzo', 'HeIII_Density'),\n",
       " ('enzo', 'HeII_Density'),\n",
       " ('enzo', 'HeI_Density'),\n",
       " ('enzo', 'MBHColour'),\n",
       " ('enzo', 'Metal_Density'),\n",
       " ('enzo', 'PhiField'),\n",
       " ('enzo', 'Phi_pField'),\n",
       " ('enzo', 'SFR_Density'),\n",
       " ('enzo', 'Star_Particle_Density'),\n",
       " ('enzo', 'Temperature'),\n",
       " ('enzo', 'TotalEnergy'),\n",
       " ('enzo', 'gammaHI'),\n",
       " ('enzo', 'kphHI'),\n",
       " ('enzo', 'kphHeI'),\n",
       " ('enzo', 'kphHeII'),\n",
       " ('enzo', 'x-velocity'),\n",
       " ('enzo', 'y-velocity'),\n",
       " ('enzo', 'z-velocity'),\n",
       " ('io', 'creation_time'),\n",
       " ('io', 'dynamical_time'),\n",
       " ('io', 'metallicity_fraction'),\n",
       " ('io', 'particle_index'),\n",
       " ('io', 'particle_mass'),\n",
       " ('io', 'particle_position_x'),\n",
       " ('io', 'particle_position_y'),\n",
       " ('io', 'particle_position_z'),\n",
       " ('io', 'particle_type'),\n",
       " ('io', 'particle_velocity_x'),\n",
       " ('io', 'particle_velocity_y'),\n",
       " ('io', 'particle_velocity_z'),\n",
       " ('nbody', 'creation_time'),\n",
       " ('nbody', 'dynamical_time'),\n",
       " ('nbody', 'metallicity_fraction'),\n",
       " ('nbody', 'particle_index'),\n",
       " ('nbody', 'particle_mass'),\n",
       " ('nbody', 'particle_position_x'),\n",
       " ('nbody', 'particle_position_y'),\n",
       " ('nbody', 'particle_position_z'),\n",
       " ('nbody', 'particle_type'),\n",
       " ('nbody', 'particle_velocity_x'),\n",
       " ('nbody', 'particle_velocity_y'),\n",
       " ('nbody', 'particle_velocity_z')]"
      ]
     },
     "execution_count": 5,
     "metadata": {},
     "output_type": "execute_result"
    }
   ],
   "source": [
    "ds.field_list"
   ]
  },
  {
   "cell_type": "code",
   "execution_count": null,
   "id": "660e7780",
   "metadata": {},
   "outputs": [],
   "source": []
  }
 ],
 "metadata": {
  "kernelspec": {
   "display_name": "Python 3 (ipykernel)",
   "language": "python",
   "name": "python3"
  },
  "language_info": {
   "codemirror_mode": {
    "name": "ipython",
    "version": 3
   },
   "file_extension": ".py",
   "mimetype": "text/x-python",
   "name": "python",
   "nbconvert_exporter": "python",
   "pygments_lexer": "ipython3",
   "version": "3.7.12"
  }
 },
 "nbformat": 4,
 "nbformat_minor": 5
}
