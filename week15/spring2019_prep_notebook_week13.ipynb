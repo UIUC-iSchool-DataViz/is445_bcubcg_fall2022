{
 "cells": [
  {
   "cell_type": "markdown",
   "metadata": {},
   "source": [
    "# Activity #1: yt"
   ]
  },
  {
   "cell_type": "code",
   "execution_count": null,
   "metadata": {},
   "outputs": [],
   "source": [
    "# first install yt!\n",
    "#!pip install yt\n",
    "\n",
    "# now import!\n",
    "import yt"
   ]
  },
  {
   "cell_type": "markdown",
   "metadata": {},
   "source": [
    "We'll use a dataset originally from the yt hub: http://yt-project.org/data/\n",
    "\n",
    "Specifically, we'll use the IsolatedGalaxy dataset: http://yt-project.org/data/IsolatedGalaxy.tar.gz"
   ]
  },
  {
   "cell_type": "code",
   "execution_count": null,
   "metadata": {},
   "outputs": [],
   "source": [
    "# now, lets grab a dataset & upload it\n",
    "\n",
    "# here's where mine is stored (in data)\n",
    "ds = yt.load(\"/Users/jnaiman/data/IsolatedGalaxy/galaxy0030/galaxy0030\")"
   ]
  },
  {
   "cell_type": "markdown",
   "metadata": {},
   "source": [
    "This will be a bit of a repeat of a few weeks ago, but here we go!"
   ]
  },
  {
   "cell_type": "code",
   "execution_count": null,
   "metadata": {},
   "outputs": [],
   "source": [
    "# print out various stats of this dataset\n",
    "ds.print_stats()\n",
    "# this is basically telling us something about the \n",
    "#  number of data points in the dataset\n",
    "#  don't worry if you don't know what levels, grids or cells are at this point\n",
    "#  we'll get to it later"
   ]
  },
  {
   "cell_type": "code",
   "execution_count": null,
   "metadata": {},
   "outputs": [],
   "source": [
    "# same thing with field list, its cool if some of these look less familiar then others\n",
    "ds.field_list\n",
    "ds.derived_field_list"
   ]
  },
  {
   "cell_type": "code",
   "execution_count": null,
   "metadata": {},
   "outputs": [],
   "source": [
    "# this is a 3D simululation of a galaxy, lets check out some stats about the box\n",
    "ds.domain_right_edge, ds.domain_left_edge\n",
    "# what this is saying is the box goes from (0,0,0) to (1,1,1) in \"code_length\" units\n",
    "#  basically, this is just a normalized box"
   ]
  },
  {
   "cell_type": "code",
   "execution_count": null,
   "metadata": {},
   "outputs": [],
   "source": [
    "# you can also do fun things like print out max & min densities\n",
    "ds.r[:].max(\"density\"), ds.r[:].min(\"density\")\n",
    "# the above is for the whole box"
   ]
  },
  {
   "cell_type": "code",
   "execution_count": null,
   "metadata": {},
   "outputs": [],
   "source": [
    "# we can also ask where the maximum density is in this simulation box\n",
    "ds.r[:].argmax(\"density\")\n",
    "# so this gives us x/y/z positions for where the maximum\n",
    "#  density is"
   ]
  },
  {
   "cell_type": "code",
   "execution_count": null,
   "metadata": {},
   "outputs": [],
   "source": [
    "# ok, lets make a quick plot 1/2 down the z-direction\n",
    "\n",
    "# if the plot is too big for class try:\n",
    "import matplotlib.pyplot as plt\n",
    "plt.rcParams['figure.figsize'] = [3, 3]\n",
    "\n",
    "\n",
    "p = ds.r[:, :, 0.5].plot(\"density\")"
   ]
  },
  {
   "cell_type": "code",
   "execution_count": null,
   "metadata": {},
   "outputs": [],
   "source": [
    "# lets zoom\n",
    "p.zoom(10)"
   ]
  },
  {
   "cell_type": "code",
   "execution_count": null,
   "metadata": {},
   "outputs": [],
   "source": [
    "# so, unless you're an astronomer you might be a little confused about these \"kpc\" units\n",
    "# but yt allows us to change them!  Behold cool yt units things:\n",
    "(yt.units.kpc).in_units(\"cm\")\n",
    "# so we have now changed these weird kpc units "
   ]
  },
  {
   "cell_type": "code",
   "execution_count": null,
   "metadata": {},
   "outputs": [],
   "source": [
    "# yt also can do cool things with units like, yt units\n",
    "#  figures out some math stuff like, making things \n",
    "#  into cubed cm\n",
    "(yt.units.kpc**3).in_units(\"cm**3\")"
   ]
  },
  {
   "cell_type": "code",
   "execution_count": null,
   "metadata": {},
   "outputs": [],
   "source": [
    "# so lets set some units of our plot!\n",
    "#  lets change the units of density from g/cm^3 to kg/m^3\n",
    "p.set_unit(\"density\",\"kg/m**3\")"
   ]
  },
  {
   "cell_type": "code",
   "execution_count": null,
   "metadata": {},
   "outputs": [],
   "source": [
    "# we can also include annotations on this plot\n",
    "p.annotate_velocity()\n",
    "# this shows how material is moving in this simulation\n",
    "#  this is shown with velocity vectors"
   ]
  },
  {
   "cell_type": "code",
   "execution_count": null,
   "metadata": {},
   "outputs": [],
   "source": [
    "# we can combine some of our coding around finding\n",
    "#  max values of density and combine with some \n",
    "# region plots\n",
    "\n",
    "# lets project the maximum density along the z axis\n",
    "#  i.e. lets make a plot of the maximum density \n",
    "#  along the z-axis of our plot\n",
    "p2 = ds.r[:].max(\"density\", axis=\"z\").plot()"
   ]
  },
  {
   "cell_type": "code",
   "execution_count": null,
   "metadata": {},
   "outputs": [],
   "source": [
    "# we can zoom this as well\n",
    "p2.zoom(10)\n",
    "# if we scroll back up we can see that there is \n",
    "#  indeed a different between this and our slice plot\n",
    "#  here, we are much more \"smeared\" since we're picking \n",
    "# only the max density -> everything looks brighter"
   ]
  },
  {
   "cell_type": "code",
   "execution_count": null,
   "metadata": {},
   "outputs": [],
   "source": [
    "# we can also do plots based on region selection \n",
    "#  but over specific values of z (and x & y)\n",
    "# if we recall our box goes from 0->1 in each\n",
    "#  x/y/z direction, we can plot a zoom in \n",
    "# like so:\n",
    "p = ds.r[0.1:0.9, 0.1:0.9, 0.55:0.65].max(\"density\", axis=\"z\").plot()\n",
    "# so, this shows the maximum density but only in a thin slice \n",
    "#  of the z-axis which is offset from the center\n",
    "\n",
    "# sicne the galaxy lives at the center, and is the highest\n",
    "#  density gas region, it makes sense that our densities\n",
    "# are lower and our features look different\n",
    "\n",
    "# more \"fuzzy ball\" outside of the galaxy then \n",
    "#  gas flowing onto a galaxy disk"
   ]
  },
  {
   "cell_type": "code",
   "execution_count": null,
   "metadata": {},
   "outputs": [],
   "source": [
    "# lets redo the same plot but for the temperature of the gas:\n",
    "p = ds.r[0.1:0.9, 0.1:0.9, 0.55:0.65].mean(\"temperature\", axis=\"z\").plot()"
   ]
  },
  {
   "cell_type": "code",
   "execution_count": null,
   "metadata": {},
   "outputs": [],
   "source": [
    "# we might want to highlight the temperature of the most dense regions\n",
    "#  why?  well maybe we want to, instead of depicting the staight \n",
    "# temperature, we want to depict the temperature \n",
    "# of the *majority of the gas*\n",
    "#  we can do this by specifying a \"weight\" in our projection:\n",
    "p = ds.r[0.1:0.9, 0.1:0.9, 0.55:0.65].mean(\"temperature\", weight=\"density\", axis=\"z\").plot()"
   ]
  },
  {
   "cell_type": "code",
   "execution_count": null,
   "metadata": {},
   "outputs": [],
   "source": [
    "# so why is there this blocky structure?  In space, we don't see cubes around galaxies... \n",
    "#  yet anyway...\n",
    "\n",
    "# this is becuase this is a simulation of a galaxy, not an actual galaxy\n",
    "#  we can show why this might be by plotting the \"grids\" of this simulation\n",
    "# over this thing:\n",
    "p.annotate_grids()\n",
    "# from this we can see that our grids sort of align where\n",
    "#  the temperature looks funny\n",
    "\n",
    "# this is a good indicator that we have some numerical\n",
    "#  artifacts in our simulation"
   ]
  },
  {
   "cell_type": "code",
   "execution_count": null,
   "metadata": {},
   "outputs": [],
   "source": [
    "# ok!  lets try some more analysis-like plots\n",
    "# some of the helpful yt included plots is\n",
    "ds.r[:].profile(\"density\", \"temperature\").plot()\n",
    "# so this is plotting the temperature of the gas \n",
    "#  in our simulation, in each binned density\n",
    "\n",
    "# In our actual simulation, we have temperaturates\n",
    "# at a variety of densities, and this is \n",
    "# usualy the case, so by default what is plotted\n",
    "#  is the temperature (our 2nd param) plotted\n",
    "# at each density bin, but weighted by the \n",
    "# mass of material (gas) in each cell"
   ]
  },
  {
   "cell_type": "code",
   "execution_count": null,
   "metadata": {},
   "outputs": [],
   "source": [
    "# we can weight by other things, like in this case\n",
    "# density:\n",
    "ds.r[:].profile(\"density\", \"temperature\", weight_field=\"density\").plot()\n",
    "# so similar shape (since mass and density are related)\n",
    "#  but a little different"
   ]
  },
  {
   "cell_type": "code",
   "execution_count": null,
   "metadata": {},
   "outputs": [],
   "source": [
    "# we can move this to a 2D plot\n",
    "# to show the cell mass (as a color)\n",
    "# as a function of both density and temprature\n",
    "ds.r[:].profile([\"density\", \"temperature\"], \"cell_mass\", weight_field=None).plot()\n",
    "# note: we can also do a 3D profile object,\n",
    "#  but there is currently no associated plot function with it"
   ]
  },
  {
   "cell_type": "markdown",
   "metadata": {},
   "source": [
    "# Activity #2: Brain data with yt"
   ]
  },
  {
   "cell_type": "code",
   "execution_count": null,
   "metadata": {},
   "outputs": [],
   "source": [
    "# we can also use yt to play with other sorts of data:\n",
    "import h5py # might have to pip install"
   ]
  },
  {
   "cell_type": "code",
   "execution_count": null,
   "metadata": {},
   "outputs": [],
   "source": [
    "# lets read our datafile into something called \"scan_data\"\n",
    "with h5py.File(\"/Users/jnaiman/Downloads/single_dicom.h5\", \"r\") as f:\n",
    "    scan_data = f[\"/scan\"][:]"
   ]
  },
  {
   "cell_type": "code",
   "execution_count": null,
   "metadata": {},
   "outputs": [],
   "source": [
    "# if we recall, we had a weird shape of this data:\n",
    "scan_data.shape"
   ]
  },
  {
   "cell_type": "code",
   "execution_count": null,
   "metadata": {},
   "outputs": [],
   "source": [
    "# so to import this data into yt to have \n",
    "#  yt make images for us, we need to do some formatting with numpy\n",
    "import numpy as np"
   ]
  },
  {
   "cell_type": "code",
   "execution_count": null,
   "metadata": {},
   "outputs": [],
   "source": [
    "dsd = yt.load_uniform_grid({'scan': scan_data},\n",
    "                     [36, 512, 512],\n",
    "                     length_unit = yt.units.cm,\n",
    "                     bbox = np.array([[0., 10], [0, 10], [0, 10]]),\n",
    ")"
   ]
  },
  {
   "cell_type": "code",
   "execution_count": null,
   "metadata": {},
   "outputs": [],
   "source": [
    "dsd.r[:].mean(\"scan\", axis=\"y\").plot(); # this takes the mean along the specified axis \"y\" and plots\n",
    "# can also do .max or .min"
   ]
  },
  {
   "cell_type": "code",
   "execution_count": null,
   "metadata": {},
   "outputs": [],
   "source": [
    "# note here that the number of fields \n",
    "# availabel is much less:\n",
    "dsd.field_list"
   ]
  },
  {
   "cell_type": "code",
   "execution_count": null,
   "metadata": {},
   "outputs": [],
   "source": [
    "# we can also look at different potions\n",
    "# of the z-y axis by specifying\n",
    "# the x-axis\n",
    "p = dsd.r[0.75,:,:].plot('scan')"
   ]
  },
  {
   "cell_type": "markdown",
   "metadata": {},
   "source": [
    "# Activity #3: Output images and objects (3D) with yt\n",
    "Note: we'll do more with 3D objects next week/the last week, but this is a good first view of some cool ways we can output objects with yt"
   ]
  },
  {
   "cell_type": "code",
   "execution_count": null,
   "metadata": {},
   "outputs": [],
   "source": [
    "# lets go back to to our galaxy object\n",
    "#  and make a surface\n",
    "\n",
    "# first, we'll cut down to a sphere and check\n",
    "# that out\n",
    "sphere = ds.sphere(\"max\", (500.0, \"kpc\"))\n",
    "sphere.mean(\"density\", axis=\"y\").plot(); # this takes the mean along the specified axis \"y\" and plots"
   ]
  },
  {
   "cell_type": "code",
   "execution_count": null,
   "metadata": {},
   "outputs": [],
   "source": [
    "# lets generate a surface of constant density\n",
    "#  i.e. we'll connect points on a surface\n",
    "#  where the density has a single value\n",
    "surface = ds.surface(sphere, \"density\", 1e-27)"
   ]
  },
  {
   "cell_type": "code",
   "execution_count": null,
   "metadata": {},
   "outputs": [],
   "source": [
    "surface.export_obj('/Users/jnaiman/Downloads/myGalFiles',color_field='temperature')\n",
    "# the above might take a while"
   ]
  },
  {
   "cell_type": "code",
   "execution_count": null,
   "metadata": {},
   "outputs": [],
   "source": [
    "# for checking out our surfaces right here\n",
    "#http://www2.compute.dtu.dk/projects/GEL/PyGEL/\n",
    "#!pip install PyGEL3D"
   ]
  },
  {
   "cell_type": "code",
   "execution_count": null,
   "metadata": {},
   "outputs": [],
   "source": [
    "from PyGEL3D import gel\n",
    "from PyGEL3D import js\n",
    "\n",
    "# for navigating\n",
    "\n",
    "js.set_export_mode()\n",
    "m = gel.obj_load(\"/Users/jnaiman/Downloads/myGalFiles.obj\")\n",
    "viewer = gel.GLManifoldViewer()\n",
    "viewer.display(m)\n",
    "\n",
    "\n",
    "\n",
    "# press ESC to quit?  Yes, but then it takes a while so"
   ]
  },
  {
   "cell_type": "code",
   "execution_count": null,
   "metadata": {},
   "outputs": [],
   "source": [
    "# to get rid of the window\n",
    "del viewer"
   ]
  },
  {
   "cell_type": "markdown",
   "metadata": {},
   "source": [
    "Now, lets try with an inline viewer"
   ]
  },
  {
   "cell_type": "code",
   "execution_count": null,
   "metadata": {},
   "outputs": [],
   "source": [
    "# Can also display in the notebook\n",
    "import numpy as np\n",
    "\n",
    "#js.display(m,wireframe=False)\n",
    "# comment out after you've run since we'll re-run below"
   ]
  },
  {
   "cell_type": "markdown",
   "metadata": {},
   "source": [
    "Now lets try with an inline viewer & data colors"
   ]
  },
  {
   "cell_type": "code",
   "execution_count": null,
   "metadata": {},
   "outputs": [],
   "source": [
    "surf_temp = surface['temperature']\n",
    "surf_temp.shape\n",
    "# we see that this is infact a long list of values\n",
    "#  temperatures on each surface *face*"
   ]
  },
  {
   "cell_type": "code",
   "execution_count": null,
   "metadata": {},
   "outputs": [],
   "source": [
    "# if we look at the shape of the object:\n",
    "m.positions().shape, surf_temp.shape[0]*3\n",
    "# we see we have (surf_temp.shape)X3 times\n",
    "#  the number of points in x/y/z\n",
    "# this is because these are *vertex* values\n",
    "# so, if we want to color by something, we should use\n",
    "#  3X the number of faces"
   ]
  },
  {
   "cell_type": "code",
   "execution_count": null,
   "metadata": {},
   "outputs": [],
   "source": [
    "js.display(m, data=np.repeat(np.log10(surf_temp),3),wireframe=False)\n"
   ]
  },
  {
   "cell_type": "markdown",
   "metadata": {},
   "source": [
    "We can also process for 3D printing"
   ]
  },
  {
   "cell_type": "code",
   "execution_count": null,
   "metadata": {},
   "outputs": [],
   "source": [
    "surface.export_obj('/Users/jnaiman/Downloads/myGalFiles_print',dist_fac=0.001)\n"
   ]
  },
  {
   "cell_type": "markdown",
   "metadata": {},
   "source": [
    "## Outputing images for things like clothing"
   ]
  },
  {
   "cell_type": "code",
   "execution_count": null,
   "metadata": {},
   "outputs": [],
   "source": [
    "p = ds.r[:, :, 0.5].plot(\"density\")"
   ]
  },
  {
   "cell_type": "code",
   "execution_count": null,
   "metadata": {},
   "outputs": [],
   "source": [
    "p.zoom(20)"
   ]
  },
  {
   "cell_type": "code",
   "execution_count": null,
   "metadata": {},
   "outputs": [],
   "source": [
    "myImage = p.frb # fixed resoltuion binary"
   ]
  },
  {
   "cell_type": "code",
   "execution_count": null,
   "metadata": {},
   "outputs": [],
   "source": [
    "# we can then grab a simple image array\n",
    "plt.imshow(np.array(myImage['density']))"
   ]
  },
  {
   "cell_type": "code",
   "execution_count": null,
   "metadata": {},
   "outputs": [],
   "source": [
    "# or we can turn off labels and grab a lovely image:\n",
    "p = ds.r[:, :, 0.5].plot(\"density\")\n",
    "p.zoom(10)"
   ]
  },
  {
   "cell_type": "code",
   "execution_count": null,
   "metadata": {},
   "outputs": [],
   "source": [
    "p.hide_colorbar(); p.hide_axes();"
   ]
  },
  {
   "cell_type": "code",
   "execution_count": null,
   "metadata": {},
   "outputs": [],
   "source": [
    "p"
   ]
  },
  {
   "cell_type": "code",
   "execution_count": null,
   "metadata": {},
   "outputs": [],
   "source": [
    "# save the image\n",
    "p.save('/Users/jnaiman/Downloads/myImage.png')"
   ]
  },
  {
   "cell_type": "markdown",
   "metadata": {},
   "source": [
    "Now you have a lovely image that you can upload and put on things like sweaters or whatnot."
   ]
  },
  {
   "cell_type": "code",
   "execution_count": null,
   "metadata": {},
   "outputs": [],
   "source": []
  }
 ],
 "metadata": {
  "kernelspec": {
   "display_name": "Python 3",
   "language": "python",
   "name": "python3"
  },
  "language_info": {
   "codemirror_mode": {
    "name": "ipython",
    "version": 3
   },
   "file_extension": ".py",
   "mimetype": "text/x-python",
   "name": "python",
   "nbconvert_exporter": "python",
   "pygments_lexer": "ipython3",
   "version": "3.7.9"
  }
 },
 "nbformat": 4,
 "nbformat_minor": 2
}
