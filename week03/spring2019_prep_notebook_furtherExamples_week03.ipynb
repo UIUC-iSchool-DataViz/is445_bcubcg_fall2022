{
 "cells": [
  {
   "cell_type": "markdown",
   "metadata": {},
   "source": [
    "# This notebook makes the different font antialiasing examples"
   ]
  },
  {
   "cell_type": "code",
   "execution_count": 1,
   "metadata": {},
   "outputs": [],
   "source": [
    "%matplotlib inline"
   ]
  },
  {
   "cell_type": "code",
   "execution_count": 2,
   "metadata": {},
   "outputs": [],
   "source": [
    "import numpy as np\n",
    "import string\n",
    "import matplotlib.font_manager\n",
    "from matplotlib.ft2font import FT2Font, LOAD_FORCE_AUTOHINT, \\\n",
    "    LOAD_NO_HINTING, LOAD_DEFAULT, LOAD_NO_AUTOHINT\n",
    "import matplotlib.pyplot as plt"
   ]
  },
  {
   "cell_type": "code",
   "execution_count": 3,
   "metadata": {},
   "outputs": [
    {
     "name": "stdout",
     "output_type": "stream",
     "text": [
      "A 235 256\n",
      "A 475 512\n",
      "A 951 1024\n",
      "A 1903 2112\n",
      "A 3799 4160\n",
      "A 7599 8352\n",
      "O 233 256\n",
      "O 480 512\n",
      "O 960 1024\n",
      "O 1920 2176\n",
      "O 3840 4275\n",
      "O 7680 8640\n",
      "T 215 256\n",
      "T 436 512\n",
      "T 880 1024\n",
      "T 1760 2112\n",
      "T 3504 4115\n",
      "T 7016 8352\n",
      "J 86 320\n",
      "J 175 640\n",
      "J 356 1280\n",
      "J 708 2688\n",
      "J 1412 5312\n",
      "J 2824 10624\n",
      "X 219 256\n",
      "X 445 512\n",
      "X 889 1024\n",
      "X 1777 2112\n",
      "X 3550 4160\n",
      "X 7099 8320\n"
     ]
    },
    {
     "data": {
      "text/plain": [
       "<Figure size 432x288 with 0 Axes>"
      ]
     },
     "metadata": {},
     "output_type": "display_data"
    },
    {
     "data": {
      "text/plain": [
       "<Figure size 1440x220 with 0 Axes>"
      ]
     },
     "metadata": {},
     "output_type": "display_data"
    },
    {
     "data": {
      "text/plain": [
       "<Figure size 1440x220 with 0 Axes>"
      ]
     },
     "metadata": {},
     "output_type": "display_data"
    },
    {
     "data": {
      "text/plain": [
       "<Figure size 1440x220 with 0 Axes>"
      ]
     },
     "metadata": {},
     "output_type": "display_data"
    },
    {
     "data": {
      "text/plain": [
       "<Figure size 1440x220 with 0 Axes>"
      ]
     },
     "metadata": {},
     "output_type": "display_data"
    },
    {
     "data": {
      "text/plain": [
       "<Figure size 1440x220 with 0 Axes>"
      ]
     },
     "metadata": {},
     "output_type": "display_data"
    }
   ],
   "source": [
    "font_name = \"DejaVu Sans\"\n",
    "\n",
    "characters = string.printable\n",
    "characters = \"AOTJX\"\n",
    "\n",
    "dpi = 100\n",
    "\n",
    "chars = [ord(_) for _ in characters]\n",
    "\n",
    "font_sizes = (4, 8, 16, 32, 64, 128)\n",
    "\n",
    "for i, char_code in enumerate(chars):\n",
    "\n",
    "    font_fn = matplotlib.font_manager.findfont(font_name)\n",
    "    font = matplotlib.font_manager.get_font(font_fn)\n",
    "\n",
    "    plt.clf()\n",
    "    fig = plt.figure(dpi = 200, figsize=(len(font_sizes) * 1.2, 1.1))\n",
    "    ax = fig.add_subplot(111)\n",
    "    max_x = 0.0\n",
    "    for j, font_size in enumerate(font_sizes):\n",
    "        font.clear()\n",
    "        font.set_size(font_size, dpi)\n",
    "        font.set_text(chr(char_code), flags = LOAD_FORCE_AUTOHINT)\n",
    "        font.draw_glyphs_to_bitmap(antialiased = True)\n",
    "        glyph = font.load_char(char_code)\n",
    "        x0, y0, x1, y1 = glyph.bbox\n",
    "        dx = x1 - x0\n",
    "        dy = y1 - y0\n",
    "        print(chr(char_code), dx, dy)\n",
    "        bitmap = 1.0 - font.get_image().astype(\">f4\")/255.\n",
    "        extent = [j * 1.5, j * 1.5 + 1, 0, dy/dx]\n",
    "        ax.imshow(bitmap, extent = extent, cmap = \"gray\")\n",
    "        max_x = max(max_x, extent[1])\n",
    "    plt.xlim(-0.1, max_x + 0.1)\n",
    "    plt.ylim(-0.1, 1.3)\n",
    "    plt.xticks(())\n",
    "    plt.yticks(())\n",
    "    plt.savefig(\"images/font_%s.png\" % chr(char_code));\n",
    "    plt.clf()"
   ]
  },
  {
   "cell_type": "code",
   "execution_count": null,
   "metadata": {},
   "outputs": [],
   "source": []
  },
  {
   "cell_type": "code",
   "execution_count": null,
   "metadata": {},
   "outputs": [],
   "source": []
  },
  {
   "cell_type": "code",
   "execution_count": null,
   "metadata": {},
   "outputs": [],
   "source": []
  }
 ],
 "metadata": {
  "kernelspec": {
   "display_name": "Python 3 (ipykernel)",
   "language": "python",
   "name": "python3"
  },
  "language_info": {
   "codemirror_mode": {
    "name": "ipython",
    "version": 3
   },
   "file_extension": ".py",
   "mimetype": "text/x-python",
   "name": "python",
   "nbconvert_exporter": "python",
   "pygments_lexer": "ipython3",
   "version": "3.7.12"
  }
 },
 "nbformat": 4,
 "nbformat_minor": 2
}
